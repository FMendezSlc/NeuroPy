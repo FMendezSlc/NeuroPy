{
 "cells": [
  {
   "cell_type": "markdown",
   "metadata": {},
   "source": [
    "### Auditory Gating Statistical Analysis and Figures"
   ]
  },
  {
   "cell_type": "code",
   "execution_count": 1,
   "metadata": {},
   "outputs": [
    {
     "name": "stderr",
     "output_type": "stream",
     "text": [
      "/opt/miniconda3/envs/databs/lib/python3.8/site-packages/outdated/utils.py:14: OutdatedPackageWarning: The package pingouin is out of date. Your version is 0.3.6, the latest is 0.5.1.\n",
      "Set the environment variable OUTDATED_IGNORE=1 to disable these warnings.\n",
      "  return warn(\n",
      "/opt/miniconda3/envs/databs/lib/python3.8/site-packages/outdated/utils.py:14: OutdatedPackageWarning: The package outdated is out of date. Your version is 0.2.0, the latest is 0.2.1.\n",
      "Set the environment variable OUTDATED_IGNORE=1 to disable these warnings.\n",
      "  return warn(\n"
     ]
    }
   ],
   "source": [
    "import matplotlib.pyplot as plt\n",
    "import pandas as pd\n",
    "import seaborn as sns\n",
    "import pingouin as pg\n",
    "import numpy as np"
   ]
  },
  {
   "cell_type": "code",
   "execution_count": 2,
   "metadata": {},
   "outputs": [],
   "source": [
    "ag_df = pd.read_csv('/Users/labc02/Documents/PDCB_data/MK-project/Sensory_Gating/AEP_analysis.csv')"
   ]
  },
  {
   "cell_type": "code",
   "execution_count": 3,
   "metadata": {},
   "outputs": [],
   "source": [
    "ag_df['Group'] = ag_df['Genotype'] +'_'+ag_df['Tx']"
   ]
  },
  {
   "cell_type": "code",
   "execution_count": 4,
   "metadata": {},
   "outputs": [
    {
     "data": {
      "text/plain": [
       "Index(['ID', 'Channel', 'Genotype', 'Tx', 'Sex', 'CAMP', 'CLAT', 'TAMP',\n",
       "       'TLAT', 'T/C', 'Group'],\n",
       "      dtype='object')"
      ]
     },
     "execution_count": 4,
     "metadata": {},
     "output_type": "execute_result"
    }
   ],
   "source": [
    "ag_df.columns"
   ]
  },
  {
   "cell_type": "code",
   "execution_count": 5,
   "metadata": {},
   "outputs": [
    {
     "data": {
      "text/plain": [
       "Genotype  Tx      \n",
       "KO        0.5mg/kg    6\n",
       "          Saline      4\n",
       "WT        0.5mg/kg    6\n",
       "          1mg/kg      5\n",
       "          Saline      5\n",
       "Name: ID, dtype: int64"
      ]
     },
     "execution_count": 5,
     "metadata": {},
     "output_type": "execute_result"
    }
   ],
   "source": [
    "ag_df.groupby(['Genotype', 'Tx'])['ID'].count()"
   ]
  },
  {
   "cell_type": "code",
   "execution_count": 15,
   "metadata": {},
   "outputs": [
    {
     "data": {
      "image/png": "[encoded data removed]",
      "text/plain": [
       "<Figure size 288x144 with 1 Axes>"
      ]
     },
     "metadata": {
      "needs_background": "light"
     },
     "output_type": "display_data"
    }
   ],
   "source": [
    "TC_fig = plt.figure(figsize=(4, 2))\n",
    "ax = sns.boxplot(data = ag_df, x= 'Group', y= 'T/C', order = ['WT_Saline', 'KO_Saline', 'WT_0.5mg/kg', 'KO_0.5mg/kg', 'WT_1mg/kg'], palette=['royalblue', 'forestgreen', 'steelblue', 'darkseagreen', 'cornflowerblue'], showfliers = False, dodge=False, width=0.3)\n",
    "sns.stripplot(data = ag_df, x= 'Group', y= 'T/C', order = ['WT_Saline', 'KO_Saline', 'WT_0.5mg/kg', 'KO_0.5mg/kg', 'WT_1mg/kg'], palette=['royalblue', 'forestgreen', 'steelblue', 'darkseagreen', 'cornflowerblue'], dodge=False, edgecolor='silver', size=2, linewidth=0.2)\n",
    "sns.despine()\n",
    "ax.set_ylabel('T/C')\n",
    "ax.set_ylim([0.0, 1.0])\n",
    "ax.set_xticklabels(['WT\\nSaline', 'KO\\nSaline', 'WT\\n0.5mg/kg', 'KO\\n0.5mg/kg', 'WT\\n1mg/kg'])\n",
    "ax.set_xlabel('')\n",
    "plt.tight_layout()"
   ]
  },
  {
   "cell_type": "code",
   "execution_count": 14,
   "metadata": {},
   "outputs": [],
   "source": [
    "TC_fig.savefig('/Users/labc02/Documents/PDCB_data/MK-project/Sensory_Gating/Figures/TC.svg')"
   ]
  },
  {
   "cell_type": "code",
   "execution_count": 31,
   "metadata": {},
   "outputs": [
    {
     "data": {
      "image/png": "[encoded data removed]",
      "text/plain": [
       "<Figure size 180x108 with 1 Axes>"
      ]
     },
     "metadata": {
      "needs_background": "light"
     },
     "output_type": "display_data"
    }
   ],
   "source": [
    "TC_fig_paper = plt.figure(figsize=(2.5, 1.5))\n",
    "ax = sns.boxplot(data = ag_df, x= 'Group', y= 'TC', order = ['WT_Saline', 'KO_Saline', 'WT_0.5mg/kg', 'KO_0.5mg/kg', 'WT_1mg/kg'], palette=['royalblue', 'forestgreen', 'steelblue', 'darkseagreen', 'cornflowerblue'], showfliers = False, dodge=False, width=0.3)\n",
    "sns.stripplot(data = ag_df, x= 'Group', y= 'TC', order = ['WT_Saline', 'KO_Saline', 'WT_0.5mg/kg', 'KO_0.5mg/kg', 'WT_1mg/kg'], palette=['royalblue', 'forestgreen', 'steelblue', 'darkseagreen', 'cornflowerblue'], dodge=False, edgecolor='silver', size=2, linewidth=0.2)\n",
    "sns.despine()\n",
    "ax.set_ylabel('T/C')\n",
    "ax.set_ylim([0.0, 1.0])\n",
    "ax.set_xticklabels(['WT\\nSaline', 'KO', 'WT\\n0.5\\nmg/kg', 'KO', 'WT\\n1\\nmg/kg'])\n",
    "ax.set_xlabel('')\n",
    "plt.tight_layout()"
   ]
  },
  {
   "cell_type": "code",
   "execution_count": 32,
   "metadata": {},
   "outputs": [],
   "source": [
    "TC_fig_paper.savefig('/Users/labc02/Documents/PDCB_data/MK-project/Sensory_Gating/Figures/TC_paper.svg')"
   ]
  },
  {
   "cell_type": "code",
   "execution_count": 16,
   "metadata": {},
   "outputs": [
    {
     "data": {
      "text/html": [
       "<div>\n",
       "<style scoped>\n",
       "    .dataframe tbody tr th:only-of-type {\n",
       "        vertical-align: middle;\n",
       "    }\n",
       "\n",
       "    .dataframe tbody tr th {\n",
       "        vertical-align: top;\n",
       "    }\n",
       "\n",
       "    .dataframe thead th {\n",
       "        text-align: right;\n",
       "    }\n",
       "</style>\n",
       "<table border=\"1\" class=\"dataframe\">\n",
       "  <thead>\n",
       "    <tr style=\"text-align: right;\">\n",
       "      <th></th>\n",
       "      <th>W</th>\n",
       "      <th>pval</th>\n",
       "      <th>normal</th>\n",
       "    </tr>\n",
       "  </thead>\n",
       "  <tbody>\n",
       "    <tr>\n",
       "      <th>WT_1mg/kg</th>\n",
       "      <td>0.890968</td>\n",
       "      <td>0.361992</td>\n",
       "      <td>True</td>\n",
       "    </tr>\n",
       "    <tr>\n",
       "      <th>KO_0.5mg/kg</th>\n",
       "      <td>0.880625</td>\n",
       "      <td>0.271941</td>\n",
       "      <td>True</td>\n",
       "    </tr>\n",
       "    <tr>\n",
       "      <th>WT_0.5mg/kg</th>\n",
       "      <td>0.849584</td>\n",
       "      <td>0.156191</td>\n",
       "      <td>True</td>\n",
       "    </tr>\n",
       "    <tr>\n",
       "      <th>WT_Saline</th>\n",
       "      <td>0.897787</td>\n",
       "      <td>0.397776</td>\n",
       "      <td>True</td>\n",
       "    </tr>\n",
       "    <tr>\n",
       "      <th>KO_Saline</th>\n",
       "      <td>0.943028</td>\n",
       "      <td>0.672875</td>\n",
       "      <td>True</td>\n",
       "    </tr>\n",
       "  </tbody>\n",
       "</table>\n",
       "</div>"
      ],
      "text/plain": [
       "                    W      pval  normal\n",
       "WT_1mg/kg    0.890968  0.361992    True\n",
       "KO_0.5mg/kg  0.880625  0.271941    True\n",
       "WT_0.5mg/kg  0.849584  0.156191    True\n",
       "WT_Saline    0.897787  0.397776    True\n",
       "KO_Saline    0.943028  0.672875    True"
      ]
     },
     "execution_count": 16,
     "metadata": {},
     "output_type": "execute_result"
    }
   ],
   "source": [
    "pg.normality(data = ag_df, dv = 'T/C', group = 'Group')"
   ]
  },
  {
   "cell_type": "code",
   "execution_count": 20,
   "metadata": {},
   "outputs": [],
   "source": [
    "ag_df.rename(columns={'T/C':'TC'}, inplace=True)"
   ]
  },
  {
   "cell_type": "code",
   "execution_count": 22,
   "metadata": {},
   "outputs": [
    {
     "data": {
      "text/html": [
       "<div>\n",
       "<style scoped>\n",
       "    .dataframe tbody tr th:only-of-type {\n",
       "        vertical-align: middle;\n",
       "    }\n",
       "\n",
       "    .dataframe tbody tr th {\n",
       "        vertical-align: top;\n",
       "    }\n",
       "\n",
       "    .dataframe thead th {\n",
       "        text-align: right;\n",
       "    }\n",
       "</style>\n",
       "<table border=\"1\" class=\"dataframe\">\n",
       "  <thead>\n",
       "    <tr style=\"text-align: right;\">\n",
       "      <th></th>\n",
       "      <th>Source</th>\n",
       "      <th>ddof1</th>\n",
       "      <th>ddof2</th>\n",
       "      <th>F</th>\n",
       "      <th>p-unc</th>\n",
       "      <th>np2</th>\n",
       "    </tr>\n",
       "  </thead>\n",
       "  <tbody>\n",
       "    <tr>\n",
       "      <th>0</th>\n",
       "      <td>Tx</td>\n",
       "      <td>2</td>\n",
       "      <td>13</td>\n",
       "      <td>0.170157</td>\n",
       "      <td>0.845381</td>\n",
       "      <td>0.02551</td>\n",
       "    </tr>\n",
       "  </tbody>\n",
       "</table>\n",
       "</div>"
      ],
      "text/plain": [
       "  Source  ddof1  ddof2         F     p-unc      np2\n",
       "0     Tx      2     13  0.170157  0.845381  0.02551"
      ]
     },
     "execution_count": 22,
     "metadata": {},
     "output_type": "execute_result"
    }
   ],
   "source": [
    "pg.anova(data = ag_df[ag_df['Genotype']=='WT'], dv = 'TC', between = ['Tx'])"
   ]
  },
  {
   "cell_type": "code",
   "execution_count": 65,
   "metadata": {},
   "outputs": [
    {
     "data": {
      "text/html": [
       "<div>\n",
       "<style scoped>\n",
       "    .dataframe tbody tr th:only-of-type {\n",
       "        vertical-align: middle;\n",
       "    }\n",
       "\n",
       "    .dataframe tbody tr th {\n",
       "        vertical-align: top;\n",
       "    }\n",
       "\n",
       "    .dataframe thead th {\n",
       "        text-align: right;\n",
       "    }\n",
       "</style>\n",
       "<table border=\"1\" class=\"dataframe\">\n",
       "  <thead>\n",
       "    <tr style=\"text-align: right;\">\n",
       "      <th></th>\n",
       "      <th>Source</th>\n",
       "      <th>ddof1</th>\n",
       "      <th>ddof2</th>\n",
       "      <th>F</th>\n",
       "      <th>p-unc</th>\n",
       "      <th>np2</th>\n",
       "    </tr>\n",
       "  </thead>\n",
       "  <tbody>\n",
       "    <tr>\n",
       "      <th>0</th>\n",
       "      <td>Group</td>\n",
       "      <td>4</td>\n",
       "      <td>21</td>\n",
       "      <td>0.109994</td>\n",
       "      <td>0.977672</td>\n",
       "      <td>0.020521</td>\n",
       "    </tr>\n",
       "  </tbody>\n",
       "</table>\n",
       "</div>"
      ],
      "text/plain": [
       "  Source  ddof1  ddof2         F     p-unc       np2\n",
       "0  Group      4     21  0.109994  0.977672  0.020521"
      ]
     },
     "execution_count": 65,
     "metadata": {},
     "output_type": "execute_result"
    }
   ],
   "source": [
    "pg.anova(data = ag_df, dv = 'TC', between = ['Group'])"
   ]
  },
  {
   "cell_type": "code",
   "execution_count": 23,
   "metadata": {},
   "outputs": [
    {
     "data": {
      "text/html": [
       "<div>\n",
       "<style scoped>\n",
       "    .dataframe tbody tr th:only-of-type {\n",
       "        vertical-align: middle;\n",
       "    }\n",
       "\n",
       "    .dataframe tbody tr th {\n",
       "        vertical-align: top;\n",
       "    }\n",
       "\n",
       "    .dataframe thead th {\n",
       "        text-align: right;\n",
       "    }\n",
       "</style>\n",
       "<table border=\"1\" class=\"dataframe\">\n",
       "  <thead>\n",
       "    <tr style=\"text-align: right;\">\n",
       "      <th></th>\n",
       "      <th>Source</th>\n",
       "      <th>SS</th>\n",
       "      <th>DF</th>\n",
       "      <th>MS</th>\n",
       "      <th>F</th>\n",
       "      <th>p-unc</th>\n",
       "      <th>np2</th>\n",
       "    </tr>\n",
       "  </thead>\n",
       "  <tbody>\n",
       "    <tr>\n",
       "      <th>0</th>\n",
       "      <td>Genotype</td>\n",
       "      <td>0.010979</td>\n",
       "      <td>1.0</td>\n",
       "      <td>0.010979</td>\n",
       "      <td>0.245461</td>\n",
       "      <td>0.626633</td>\n",
       "      <td>0.014233</td>\n",
       "    </tr>\n",
       "    <tr>\n",
       "      <th>1</th>\n",
       "      <td>Tx</td>\n",
       "      <td>0.001248</td>\n",
       "      <td>1.0</td>\n",
       "      <td>0.001248</td>\n",
       "      <td>0.027908</td>\n",
       "      <td>0.869297</td>\n",
       "      <td>0.001639</td>\n",
       "    </tr>\n",
       "    <tr>\n",
       "      <th>2</th>\n",
       "      <td>Genotype * Tx</td>\n",
       "      <td>0.000238</td>\n",
       "      <td>1.0</td>\n",
       "      <td>0.000238</td>\n",
       "      <td>0.005331</td>\n",
       "      <td>0.942648</td>\n",
       "      <td>0.000313</td>\n",
       "    </tr>\n",
       "    <tr>\n",
       "      <th>3</th>\n",
       "      <td>Residual</td>\n",
       "      <td>0.760363</td>\n",
       "      <td>17.0</td>\n",
       "      <td>0.044727</td>\n",
       "      <td>NaN</td>\n",
       "      <td>NaN</td>\n",
       "      <td>NaN</td>\n",
       "    </tr>\n",
       "  </tbody>\n",
       "</table>\n",
       "</div>"
      ],
      "text/plain": [
       "          Source        SS    DF        MS         F     p-unc       np2\n",
       "0       Genotype  0.010979   1.0  0.010979  0.245461  0.626633  0.014233\n",
       "1             Tx  0.001248   1.0  0.001248  0.027908  0.869297  0.001639\n",
       "2  Genotype * Tx  0.000238   1.0  0.000238  0.005331  0.942648  0.000313\n",
       "3       Residual  0.760363  17.0  0.044727       NaN       NaN       NaN"
      ]
     },
     "execution_count": 23,
     "metadata": {},
     "output_type": "execute_result"
    }
   ],
   "source": [
    "pg.anova(data = ag_df[ag_df['Group']!='WT_1mg/kg'], dv = 'TC', between = ['Genotype', 'Tx'])"
   ]
  },
  {
   "cell_type": "code",
   "execution_count": 35,
   "metadata": {},
   "outputs": [
    {
     "data": {
      "image/png": "[encoded data removed]",
      "text/plain": [
       "<Figure size 180x108 with 1 Axes>"
      ]
     },
     "metadata": {
      "needs_background": "light"
     },
     "output_type": "display_data"
    }
   ],
   "source": [
    "CAMP_fig = plt.figure(figsize=(4, 2))\n",
    "ax = sns.boxplot(data = ag_df, x= 'Group', y= 'CAMP', order = ['WT_Saline', 'KO_Saline', 'WT_0.5mg/kg', 'KO_0.5mg/kg', 'WT_1mg/kg'], palette=['royalblue', 'forestgreen', 'steelblue', 'darkseagreen', 'cornflowerblue'], showfliers = False, dodge=False, width=0.3)\n",
    "sns.stripplot(data = ag_df, x= 'Group', y= 'CAMP', order = ['WT_Saline', 'KO_Saline', 'WT_0.5mg/kg', 'KO_0.5mg/kg', 'WT_1mg/kg'], palette=['royalblue', 'forestgreen', 'steelblue', 'darkseagreen', 'cornflowerblue'], dodge=False, edgecolor='silver', size=2, linewidth=0.2)\n",
    "sns.despine()\n",
    "ax.set_ylabel('CAMP')\n",
    "#ax.set_ylim([0.0, 1.0])\n",
    "ax.set_xticklabels(['WT\\nSaline', 'KO', 'WT\\n0.5\\nmg/kg', 'KO', 'WT\\n1\\nmg/kg'])\n",
    "ax.set_xlabel('')\n",
    "plt.tight_layout()"
   ]
  },
  {
   "cell_type": "code",
   "execution_count": 34,
   "metadata": {},
   "outputs": [],
   "source": [
    "CAMP_fig.savefig('/Users/labc02/Documents/PDCB_data/MK-project/Sensory_Gating/Figures/CAMP_fig.svg')"
   ]
  },
  {
   "cell_type": "code",
   "execution_count": 36,
   "metadata": {},
   "outputs": [
    {
     "data": {
      "image/png": "[encoded data removed]",
      "text/plain": [
       "<Figure size 180x108 with 1 Axes>"
      ]
     },
     "metadata": {
      "needs_background": "light"
     },
     "output_type": "display_data"
    }
   ],
   "source": [
    "CAMP_fig_paper = plt.figure(figsize=(2.5, 1.5))\n",
    "ax = sns.boxplot(data = ag_df, x= 'Group', y= 'CAMP', order = ['WT_Saline', 'KO_Saline', 'WT_0.5mg/kg', 'KO_0.5mg/kg', 'WT_1mg/kg'], palette=['royalblue', 'forestgreen', 'steelblue', 'darkseagreen', 'cornflowerblue'], showfliers = False, dodge=False, width=0.3)\n",
    "sns.stripplot(data = ag_df, x= 'Group', y= 'CAMP', order = ['WT_Saline', 'KO_Saline', 'WT_0.5mg/kg', 'KO_0.5mg/kg', 'WT_1mg/kg'], palette=['royalblue', 'forestgreen', 'steelblue', 'darkseagreen', 'cornflowerblue'], dodge=False, edgecolor='silver', size=2, linewidth=0.2)\n",
    "sns.despine()\n",
    "ax.set_ylabel('CAMP')\n",
    "#ax.set_ylim([0.0, 1.0])\n",
    "ax.set_xticklabels(['WT\\nSaline', 'KO', 'WT\\n0.5\\nmg/kg', 'KO', 'WT\\n1\\nmg/kg'])\n",
    "ax.set_xlabel('')\n",
    "plt.tight_layout()"
   ]
  },
  {
   "cell_type": "code",
   "execution_count": 37,
   "metadata": {},
   "outputs": [],
   "source": [
    "CAMP_fig_paper.savefig('/Users/labc02/Documents/PDCB_data/MK-project/Sensory_Gating/Figures/CAMP_fig_paper.svg')"
   ]
  },
  {
   "cell_type": "code",
   "execution_count": 44,
   "metadata": {},
   "outputs": [
    {
     "data": {
      "text/html": [
       "<div>\n",
       "<style scoped>\n",
       "    .dataframe tbody tr th:only-of-type {\n",
       "        vertical-align: middle;\n",
       "    }\n",
       "\n",
       "    .dataframe tbody tr th {\n",
       "        vertical-align: top;\n",
       "    }\n",
       "\n",
       "    .dataframe thead th {\n",
       "        text-align: right;\n",
       "    }\n",
       "</style>\n",
       "<table border=\"1\" class=\"dataframe\">\n",
       "  <thead>\n",
       "    <tr style=\"text-align: right;\">\n",
       "      <th></th>\n",
       "      <th>W</th>\n",
       "      <th>pval</th>\n",
       "      <th>normal</th>\n",
       "    </tr>\n",
       "  </thead>\n",
       "  <tbody>\n",
       "    <tr>\n",
       "      <th>WT_1mg/kg</th>\n",
       "      <td>0.789963</td>\n",
       "      <td>0.066953</td>\n",
       "      <td>True</td>\n",
       "    </tr>\n",
       "    <tr>\n",
       "      <th>KO_0.5mg/kg</th>\n",
       "      <td>0.962150</td>\n",
       "      <td>0.836150</td>\n",
       "      <td>True</td>\n",
       "    </tr>\n",
       "    <tr>\n",
       "      <th>WT_0.5mg/kg</th>\n",
       "      <td>0.834174</td>\n",
       "      <td>0.116565</td>\n",
       "      <td>True</td>\n",
       "    </tr>\n",
       "    <tr>\n",
       "      <th>WT_Saline</th>\n",
       "      <td>0.822677</td>\n",
       "      <td>0.122434</td>\n",
       "      <td>True</td>\n",
       "    </tr>\n",
       "    <tr>\n",
       "      <th>KO_Saline</th>\n",
       "      <td>0.933139</td>\n",
       "      <td>0.612968</td>\n",
       "      <td>True</td>\n",
       "    </tr>\n",
       "  </tbody>\n",
       "</table>\n",
       "</div>"
      ],
      "text/plain": [
       "                    W      pval  normal\n",
       "WT_1mg/kg    0.789963  0.066953    True\n",
       "KO_0.5mg/kg  0.962150  0.836150    True\n",
       "WT_0.5mg/kg  0.834174  0.116565    True\n",
       "WT_Saline    0.822677  0.122434    True\n",
       "KO_Saline    0.933139  0.612968    True"
      ]
     },
     "execution_count": 44,
     "metadata": {},
     "output_type": "execute_result"
    }
   ],
   "source": [
    "pg.normality(data = ag_df, dv = 'CAMP', group = 'Group')"
   ]
  },
  {
   "cell_type": "code",
   "execution_count": 38,
   "metadata": {},
   "outputs": [
    {
     "data": {
      "text/html": [
       "<div>\n",
       "<style scoped>\n",
       "    .dataframe tbody tr th:only-of-type {\n",
       "        vertical-align: middle;\n",
       "    }\n",
       "\n",
       "    .dataframe tbody tr th {\n",
       "        vertical-align: top;\n",
       "    }\n",
       "\n",
       "    .dataframe thead th {\n",
       "        text-align: right;\n",
       "    }\n",
       "</style>\n",
       "<table border=\"1\" class=\"dataframe\">\n",
       "  <thead>\n",
       "    <tr style=\"text-align: right;\">\n",
       "      <th></th>\n",
       "      <th>Source</th>\n",
       "      <th>ddof1</th>\n",
       "      <th>ddof2</th>\n",
       "      <th>F</th>\n",
       "      <th>p-unc</th>\n",
       "      <th>np2</th>\n",
       "    </tr>\n",
       "  </thead>\n",
       "  <tbody>\n",
       "    <tr>\n",
       "      <th>0</th>\n",
       "      <td>Tx</td>\n",
       "      <td>2</td>\n",
       "      <td>13</td>\n",
       "      <td>0.596994</td>\n",
       "      <td>0.564876</td>\n",
       "      <td>0.084119</td>\n",
       "    </tr>\n",
       "  </tbody>\n",
       "</table>\n",
       "</div>"
      ],
      "text/plain": [
       "  Source  ddof1  ddof2         F     p-unc       np2\n",
       "0     Tx      2     13  0.596994  0.564876  0.084119"
      ]
     },
     "execution_count": 38,
     "metadata": {},
     "output_type": "execute_result"
    }
   ],
   "source": [
    "pg.anova(data = ag_df[ag_df['Genotype']=='WT'], dv = 'CAMP', between = 'Tx')"
   ]
  },
  {
   "cell_type": "code",
   "execution_count": 61,
   "metadata": {},
   "outputs": [
    {
     "data": {
      "text/html": [
       "<div>\n",
       "<style scoped>\n",
       "    .dataframe tbody tr th:only-of-type {\n",
       "        vertical-align: middle;\n",
       "    }\n",
       "\n",
       "    .dataframe tbody tr th {\n",
       "        vertical-align: top;\n",
       "    }\n",
       "\n",
       "    .dataframe thead th {\n",
       "        text-align: right;\n",
       "    }\n",
       "</style>\n",
       "<table border=\"1\" class=\"dataframe\">\n",
       "  <thead>\n",
       "    <tr style=\"text-align: right;\">\n",
       "      <th></th>\n",
       "      <th>Source</th>\n",
       "      <th>ddof1</th>\n",
       "      <th>ddof2</th>\n",
       "      <th>F</th>\n",
       "      <th>p-unc</th>\n",
       "      <th>np2</th>\n",
       "    </tr>\n",
       "  </thead>\n",
       "  <tbody>\n",
       "    <tr>\n",
       "      <th>0</th>\n",
       "      <td>Group</td>\n",
       "      <td>4</td>\n",
       "      <td>21</td>\n",
       "      <td>0.561858</td>\n",
       "      <td>0.69288</td>\n",
       "      <td>0.096674</td>\n",
       "    </tr>\n",
       "  </tbody>\n",
       "</table>\n",
       "</div>"
      ],
      "text/plain": [
       "  Source  ddof1  ddof2         F    p-unc       np2\n",
       "0  Group      4     21  0.561858  0.69288  0.096674"
      ]
     },
     "execution_count": 61,
     "metadata": {},
     "output_type": "execute_result"
    }
   ],
   "source": [
    "pg.anova(data = ag_df, dv = 'CAMP', between = 'Group')"
   ]
  },
  {
   "cell_type": "code",
   "execution_count": 39,
   "metadata": {},
   "outputs": [
    {
     "data": {
      "text/html": [
       "<div>\n",
       "<style scoped>\n",
       "    .dataframe tbody tr th:only-of-type {\n",
       "        vertical-align: middle;\n",
       "    }\n",
       "\n",
       "    .dataframe tbody tr th {\n",
       "        vertical-align: top;\n",
       "    }\n",
       "\n",
       "    .dataframe thead th {\n",
       "        text-align: right;\n",
       "    }\n",
       "</style>\n",
       "<table border=\"1\" class=\"dataframe\">\n",
       "  <thead>\n",
       "    <tr style=\"text-align: right;\">\n",
       "      <th></th>\n",
       "      <th>Source</th>\n",
       "      <th>SS</th>\n",
       "      <th>DF</th>\n",
       "      <th>MS</th>\n",
       "      <th>F</th>\n",
       "      <th>p-unc</th>\n",
       "      <th>np2</th>\n",
       "    </tr>\n",
       "  </thead>\n",
       "  <tbody>\n",
       "    <tr>\n",
       "      <th>0</th>\n",
       "      <td>Genotype</td>\n",
       "      <td>1508.296809</td>\n",
       "      <td>1.0</td>\n",
       "      <td>1508.296809</td>\n",
       "      <td>1.835644</td>\n",
       "      <td>0.193195</td>\n",
       "      <td>0.097456</td>\n",
       "    </tr>\n",
       "    <tr>\n",
       "      <th>1</th>\n",
       "      <td>Tx</td>\n",
       "      <td>13.613169</td>\n",
       "      <td>1.0</td>\n",
       "      <td>13.613169</td>\n",
       "      <td>0.016568</td>\n",
       "      <td>0.899093</td>\n",
       "      <td>0.000974</td>\n",
       "    </tr>\n",
       "    <tr>\n",
       "      <th>2</th>\n",
       "      <td>Genotype * Tx</td>\n",
       "      <td>661.027909</td>\n",
       "      <td>1.0</td>\n",
       "      <td>661.027909</td>\n",
       "      <td>0.804491</td>\n",
       "      <td>0.382280</td>\n",
       "      <td>0.045185</td>\n",
       "    </tr>\n",
       "    <tr>\n",
       "      <th>3</th>\n",
       "      <td>Residual</td>\n",
       "      <td>13968.423063</td>\n",
       "      <td>17.0</td>\n",
       "      <td>821.671945</td>\n",
       "      <td>NaN</td>\n",
       "      <td>NaN</td>\n",
       "      <td>NaN</td>\n",
       "    </tr>\n",
       "  </tbody>\n",
       "</table>\n",
       "</div>"
      ],
      "text/plain": [
       "          Source            SS    DF           MS         F     p-unc  \\\n",
       "0       Genotype   1508.296809   1.0  1508.296809  1.835644  0.193195   \n",
       "1             Tx     13.613169   1.0    13.613169  0.016568  0.899093   \n",
       "2  Genotype * Tx    661.027909   1.0   661.027909  0.804491  0.382280   \n",
       "3       Residual  13968.423063  17.0   821.671945       NaN       NaN   \n",
       "\n",
       "        np2  \n",
       "0  0.097456  \n",
       "1  0.000974  \n",
       "2  0.045185  \n",
       "3       NaN  "
      ]
     },
     "execution_count": 39,
     "metadata": {},
     "output_type": "execute_result"
    }
   ],
   "source": [
    "pg.anova(data = ag_df[ag_df['Group']!='WT_1mg/kg'], dv = 'CAMP', between = ['Genotype', 'Tx'])"
   ]
  },
  {
   "cell_type": "code",
   "execution_count": 40,
   "metadata": {},
   "outputs": [
    {
     "data": {
      "image/png": "[encoded data removed]",
      "text/plain": [
       "<Figure size 288x144 with 1 Axes>"
      ]
     },
     "metadata": {
      "needs_background": "light"
     },
     "output_type": "display_data"
    }
   ],
   "source": [
    "CLAT_fig = plt.figure(figsize=(4, 2))\n",
    "ax = sns.boxplot(data = ag_df, x= 'Group', y= 'CLAT', order = ['WT_Saline', 'KO_Saline', 'WT_0.5mg/kg', 'KO_0.5mg/kg', 'WT_1mg/kg'], palette=['royalblue', 'forestgreen', 'steelblue', 'darkseagreen', 'cornflowerblue'], showfliers = False, dodge=False, width=0.3)\n",
    "sns.stripplot(data = ag_df, x= 'Group', y= 'CLAT', order = ['WT_Saline', 'KO_Saline', 'WT_0.5mg/kg', 'KO_0.5mg/kg', 'WT_1mg/kg'], palette=['royalblue', 'forestgreen', 'steelblue', 'darkseagreen', 'cornflowerblue'], dodge=False, edgecolor='silver', size=2, linewidth=0.2)\n",
    "sns.despine()\n",
    "ax.set_ylabel('CLAT')\n",
    "#ax.set_ylim([0.0, 1.0])\n",
    "ax.set_xticklabels(['WT\\nSaline', 'KO', 'WT\\n0.5\\nmg/kg', 'KO', 'WT\\n1\\nmg/kg'])\n",
    "ax.set_xlabel('')\n",
    "plt.tight_layout()"
   ]
  },
  {
   "cell_type": "code",
   "execution_count": 41,
   "metadata": {},
   "outputs": [],
   "source": [
    "CLAT_fig.savefig('/Users/labc02/Documents/PDCB_data/MK-project/Sensory_Gating/Figures/CLAT_fig.svg')"
   ]
  },
  {
   "cell_type": "code",
   "execution_count": 44,
   "metadata": {},
   "outputs": [
    {
     "data": {
      "image/png": "[encoded data removed]",
      "text/plain": [
       "<Figure size 180x108 with 1 Axes>"
      ]
     },
     "metadata": {
      "needs_background": "light"
     },
     "output_type": "display_data"
    }
   ],
   "source": [
    "CLAT_fig_paper = plt.figure(figsize=(2.5, 1.5))\n",
    "ax = sns.boxplot(data = ag_df, x= 'Group', y= 'CLAT', order = ['WT_Saline', 'KO_Saline', 'WT_0.5mg/kg', 'KO_0.5mg/kg', 'WT_1mg/kg'], palette=['royalblue', 'forestgreen', 'steelblue', 'darkseagreen', 'cornflowerblue'], showfliers = False, dodge=False, width=0.3)\n",
    "sns.stripplot(data = ag_df, x= 'Group', y= 'CLAT', order = ['WT_Saline', 'KO_Saline', 'WT_0.5mg/kg', 'KO_0.5mg/kg', 'WT_1mg/kg'], palette=['royalblue', 'forestgreen', 'steelblue', 'darkseagreen', 'cornflowerblue'], dodge=False, edgecolor='silver', size=2, linewidth=0.2)\n",
    "sns.despine()\n",
    "ax.set_ylabel('CLAT')\n",
    "#ax.set_ylim([0.0, 1.0])\n",
    "ax.set_xticklabels(['WT\\nSaline', 'KO', 'WT\\n0.5\\nmg/kg', 'KO', 'WT\\n1\\nmg/kg'])\n",
    "ax.set_xlabel('')\n",
    "plt.tight_layout()"
   ]
  },
  {
   "cell_type": "code",
   "execution_count": 45,
   "metadata": {},
   "outputs": [],
   "source": [
    "CLAT_fig_paper.savefig('/Users/labc02/Documents/PDCB_data/MK-project/Sensory_Gating/Figures/CLAT_fig_paper.svg')"
   ]
  },
  {
   "cell_type": "code",
   "execution_count": 42,
   "metadata": {},
   "outputs": [
    {
     "data": {
      "text/html": [
       "<div>\n",
       "<style scoped>\n",
       "    .dataframe tbody tr th:only-of-type {\n",
       "        vertical-align: middle;\n",
       "    }\n",
       "\n",
       "    .dataframe tbody tr th {\n",
       "        vertical-align: top;\n",
       "    }\n",
       "\n",
       "    .dataframe thead th {\n",
       "        text-align: right;\n",
       "    }\n",
       "</style>\n",
       "<table border=\"1\" class=\"dataframe\">\n",
       "  <thead>\n",
       "    <tr style=\"text-align: right;\">\n",
       "      <th></th>\n",
       "      <th>Source</th>\n",
       "      <th>ddof1</th>\n",
       "      <th>ddof2</th>\n",
       "      <th>F</th>\n",
       "      <th>p-unc</th>\n",
       "      <th>np2</th>\n",
       "    </tr>\n",
       "  </thead>\n",
       "  <tbody>\n",
       "    <tr>\n",
       "      <th>0</th>\n",
       "      <td>Tx</td>\n",
       "      <td>2</td>\n",
       "      <td>13</td>\n",
       "      <td>0.432158</td>\n",
       "      <td>0.6581</td>\n",
       "      <td>0.062341</td>\n",
       "    </tr>\n",
       "  </tbody>\n",
       "</table>\n",
       "</div>"
      ],
      "text/plain": [
       "  Source  ddof1  ddof2         F   p-unc       np2\n",
       "0     Tx      2     13  0.432158  0.6581  0.062341"
      ]
     },
     "execution_count": 42,
     "metadata": {},
     "output_type": "execute_result"
    }
   ],
   "source": [
    "pg.anova(data = ag_df[ag_df['Genotype']=='WT'], dv = 'CLAT', between = 'Tx')"
   ]
  },
  {
   "cell_type": "code",
   "execution_count": 62,
   "metadata": {},
   "outputs": [
    {
     "data": {
      "text/html": [
       "<div>\n",
       "<style scoped>\n",
       "    .dataframe tbody tr th:only-of-type {\n",
       "        vertical-align: middle;\n",
       "    }\n",
       "\n",
       "    .dataframe tbody tr th {\n",
       "        vertical-align: top;\n",
       "    }\n",
       "\n",
       "    .dataframe thead th {\n",
       "        text-align: right;\n",
       "    }\n",
       "</style>\n",
       "<table border=\"1\" class=\"dataframe\">\n",
       "  <thead>\n",
       "    <tr style=\"text-align: right;\">\n",
       "      <th></th>\n",
       "      <th>Source</th>\n",
       "      <th>ddof1</th>\n",
       "      <th>ddof2</th>\n",
       "      <th>F</th>\n",
       "      <th>p-unc</th>\n",
       "      <th>np2</th>\n",
       "    </tr>\n",
       "  </thead>\n",
       "  <tbody>\n",
       "    <tr>\n",
       "      <th>0</th>\n",
       "      <td>Group</td>\n",
       "      <td>4</td>\n",
       "      <td>21</td>\n",
       "      <td>0.435476</td>\n",
       "      <td>0.781476</td>\n",
       "      <td>0.076595</td>\n",
       "    </tr>\n",
       "  </tbody>\n",
       "</table>\n",
       "</div>"
      ],
      "text/plain": [
       "  Source  ddof1  ddof2         F     p-unc       np2\n",
       "0  Group      4     21  0.435476  0.781476  0.076595"
      ]
     },
     "execution_count": 62,
     "metadata": {},
     "output_type": "execute_result"
    }
   ],
   "source": [
    "pg.anova(data = ag_df, dv = 'CLAT', between = 'Group')"
   ]
  },
  {
   "cell_type": "code",
   "execution_count": 43,
   "metadata": {},
   "outputs": [
    {
     "data": {
      "text/html": [
       "<div>\n",
       "<style scoped>\n",
       "    .dataframe tbody tr th:only-of-type {\n",
       "        vertical-align: middle;\n",
       "    }\n",
       "\n",
       "    .dataframe tbody tr th {\n",
       "        vertical-align: top;\n",
       "    }\n",
       "\n",
       "    .dataframe thead th {\n",
       "        text-align: right;\n",
       "    }\n",
       "</style>\n",
       "<table border=\"1\" class=\"dataframe\">\n",
       "  <thead>\n",
       "    <tr style=\"text-align: right;\">\n",
       "      <th></th>\n",
       "      <th>Source</th>\n",
       "      <th>SS</th>\n",
       "      <th>DF</th>\n",
       "      <th>MS</th>\n",
       "      <th>F</th>\n",
       "      <th>p-unc</th>\n",
       "      <th>np2</th>\n",
       "    </tr>\n",
       "  </thead>\n",
       "  <tbody>\n",
       "    <tr>\n",
       "      <th>0</th>\n",
       "      <td>Genotype</td>\n",
       "      <td>307.541519</td>\n",
       "      <td>1.0</td>\n",
       "      <td>307.541519</td>\n",
       "      <td>0.864290</td>\n",
       "      <td>0.365555</td>\n",
       "      <td>0.048381</td>\n",
       "    </tr>\n",
       "    <tr>\n",
       "      <th>1</th>\n",
       "      <td>Tx</td>\n",
       "      <td>249.620063</td>\n",
       "      <td>1.0</td>\n",
       "      <td>249.620063</td>\n",
       "      <td>0.701513</td>\n",
       "      <td>0.413897</td>\n",
       "      <td>0.039630</td>\n",
       "    </tr>\n",
       "    <tr>\n",
       "      <th>2</th>\n",
       "      <td>Genotype * Tx</td>\n",
       "      <td>11.205184</td>\n",
       "      <td>1.0</td>\n",
       "      <td>11.205184</td>\n",
       "      <td>0.031490</td>\n",
       "      <td>0.861248</td>\n",
       "      <td>0.001849</td>\n",
       "    </tr>\n",
       "    <tr>\n",
       "      <th>3</th>\n",
       "      <td>Residual</td>\n",
       "      <td>6049.130987</td>\n",
       "      <td>17.0</td>\n",
       "      <td>355.831235</td>\n",
       "      <td>NaN</td>\n",
       "      <td>NaN</td>\n",
       "      <td>NaN</td>\n",
       "    </tr>\n",
       "  </tbody>\n",
       "</table>\n",
       "</div>"
      ],
      "text/plain": [
       "          Source           SS    DF          MS         F     p-unc       np2\n",
       "0       Genotype   307.541519   1.0  307.541519  0.864290  0.365555  0.048381\n",
       "1             Tx   249.620063   1.0  249.620063  0.701513  0.413897  0.039630\n",
       "2  Genotype * Tx    11.205184   1.0   11.205184  0.031490  0.861248  0.001849\n",
       "3       Residual  6049.130987  17.0  355.831235       NaN       NaN       NaN"
      ]
     },
     "execution_count": 43,
     "metadata": {},
     "output_type": "execute_result"
    }
   ],
   "source": [
    "pg.anova(data = ag_df[ag_df['Group']!='WT_1mg/kg'], dv = 'CLAT', between = ['Genotype', 'Tx'])"
   ]
  },
  {
   "cell_type": "code",
   "execution_count": 46,
   "metadata": {},
   "outputs": [
    {
     "data": {
      "image/png": "[encoded data removed]",
      "text/plain": [
       "<Figure size 288x144 with 1 Axes>"
      ]
     },
     "metadata": {
      "needs_background": "light"
     },
     "output_type": "display_data"
    }
   ],
   "source": [
    "TAMP_fig = plt.figure(figsize=(4, 2))\n",
    "ax = sns.boxplot(data = ag_df, x= 'Group', y= 'TAMP', order = ['WT_Saline', 'KO_Saline', 'WT_0.5mg/kg', 'KO_0.5mg/kg', 'WT_1mg/kg'], palette=['royalblue', 'forestgreen', 'steelblue', 'darkseagreen', 'cornflowerblue'], showfliers = False, dodge=False, width=0.3)\n",
    "sns.stripplot(data = ag_df, x= 'Group', y= 'TAMP', order = ['WT_Saline', 'KO_Saline', 'WT_0.5mg/kg', 'KO_0.5mg/kg', 'WT_1mg/kg'], palette=['royalblue', 'forestgreen', 'steelblue', 'darkseagreen', 'cornflowerblue'], dodge=False, edgecolor='silver', size=2, linewidth=0.2)\n",
    "sns.despine()\n",
    "ax.set_ylabel('TAMP')\n",
    "#ax.set_ylim([0.0, 1.0])\n",
    "ax.set_xticklabels(['WT\\nSaline', 'KO', 'WT\\n0.5\\nmg/kg', 'KO', 'WT\\n1\\nmg/kg'])\n",
    "ax.set_xlabel('')\n",
    "plt.tight_layout()"
   ]
  },
  {
   "cell_type": "code",
   "execution_count": 47,
   "metadata": {},
   "outputs": [],
   "source": [
    "TAMP_fig.savefig('/Users/labc02/Documents/PDCB_data/MK-project/Sensory_Gating/Figures/TAMP_fig.svg')"
   ]
  },
  {
   "cell_type": "code",
   "execution_count": 48,
   "metadata": {},
   "outputs": [
    {
     "data": {
      "image/png": "[encoded data removed]",
      "text/plain": [
       "<Figure size 180x108 with 1 Axes>"
      ]
     },
     "metadata": {
      "needs_background": "light"
     },
     "output_type": "display_data"
    }
   ],
   "source": [
    "TAMP_fig_paper = plt.figure(figsize=(2.5, 1.5))\n",
    "ax = sns.boxplot(data = ag_df, x= 'Group', y= 'TAMP', order = ['WT_Saline', 'KO_Saline', 'WT_0.5mg/kg', 'KO_0.5mg/kg', 'WT_1mg/kg'], palette=['royalblue', 'forestgreen', 'steelblue', 'darkseagreen', 'cornflowerblue'], showfliers = False, dodge=False, width=0.3)\n",
    "sns.stripplot(data = ag_df, x= 'Group', y= 'TAMP', order = ['WT_Saline', 'KO_Saline', 'WT_0.5mg/kg', 'KO_0.5mg/kg', 'WT_1mg/kg'], palette=['royalblue', 'forestgreen', 'steelblue', 'darkseagreen', 'cornflowerblue'], dodge=False, edgecolor='silver', size=2, linewidth=0.2)\n",
    "sns.despine()\n",
    "ax.set_ylabel('TAMP')\n",
    "#ax.set_ylim([0.0, 1.0])\n",
    "ax.set_xticklabels(['WT\\nSaline', 'KO', 'WT\\n0.5\\nmg/kg', 'KO', 'WT\\n1\\nmg/kg'])\n",
    "ax.set_xlabel('')\n",
    "plt.tight_layout()"
   ]
  },
  {
   "cell_type": "code",
   "execution_count": 49,
   "metadata": {},
   "outputs": [],
   "source": [
    "TAMP_fig_paper.savefig('/Users/labc02/Documents/PDCB_data/MK-project/Sensory_Gating/Figures/TAMP_fig_paper.svg')"
   ]
  },
  {
   "cell_type": "code",
   "execution_count": 50,
   "metadata": {},
   "outputs": [
    {
     "data": {
      "text/html": [
       "<div>\n",
       "<style scoped>\n",
       "    .dataframe tbody tr th:only-of-type {\n",
       "        vertical-align: middle;\n",
       "    }\n",
       "\n",
       "    .dataframe tbody tr th {\n",
       "        vertical-align: top;\n",
       "    }\n",
       "\n",
       "    .dataframe thead th {\n",
       "        text-align: right;\n",
       "    }\n",
       "</style>\n",
       "<table border=\"1\" class=\"dataframe\">\n",
       "  <thead>\n",
       "    <tr style=\"text-align: right;\">\n",
       "      <th></th>\n",
       "      <th>W</th>\n",
       "      <th>pval</th>\n",
       "      <th>normal</th>\n",
       "    </tr>\n",
       "  </thead>\n",
       "  <tbody>\n",
       "    <tr>\n",
       "      <th>WT_1mg/kg</th>\n",
       "      <td>0.963395</td>\n",
       "      <td>0.831402</td>\n",
       "      <td>True</td>\n",
       "    </tr>\n",
       "    <tr>\n",
       "      <th>KO_0.5mg/kg</th>\n",
       "      <td>0.866089</td>\n",
       "      <td>0.211057</td>\n",
       "      <td>True</td>\n",
       "    </tr>\n",
       "    <tr>\n",
       "      <th>WT_0.5mg/kg</th>\n",
       "      <td>0.927310</td>\n",
       "      <td>0.559493</td>\n",
       "      <td>True</td>\n",
       "    </tr>\n",
       "    <tr>\n",
       "      <th>WT_Saline</th>\n",
       "      <td>0.962706</td>\n",
       "      <td>0.826689</td>\n",
       "      <td>True</td>\n",
       "    </tr>\n",
       "    <tr>\n",
       "      <th>KO_Saline</th>\n",
       "      <td>0.813842</td>\n",
       "      <td>0.129450</td>\n",
       "      <td>True</td>\n",
       "    </tr>\n",
       "  </tbody>\n",
       "</table>\n",
       "</div>"
      ],
      "text/plain": [
       "                    W      pval  normal\n",
       "WT_1mg/kg    0.963395  0.831402    True\n",
       "KO_0.5mg/kg  0.866089  0.211057    True\n",
       "WT_0.5mg/kg  0.927310  0.559493    True\n",
       "WT_Saline    0.962706  0.826689    True\n",
       "KO_Saline    0.813842  0.129450    True"
      ]
     },
     "execution_count": 50,
     "metadata": {},
     "output_type": "execute_result"
    }
   ],
   "source": [
    "pg.normality(data = ag_df, dv = 'TAMP', group = 'Group')"
   ]
  },
  {
   "cell_type": "code",
   "execution_count": 52,
   "metadata": {},
   "outputs": [
    {
     "data": {
      "text/html": [
       "<div>\n",
       "<style scoped>\n",
       "    .dataframe tbody tr th:only-of-type {\n",
       "        vertical-align: middle;\n",
       "    }\n",
       "\n",
       "    .dataframe tbody tr th {\n",
       "        vertical-align: top;\n",
       "    }\n",
       "\n",
       "    .dataframe thead th {\n",
       "        text-align: right;\n",
       "    }\n",
       "</style>\n",
       "<table border=\"1\" class=\"dataframe\">\n",
       "  <thead>\n",
       "    <tr style=\"text-align: right;\">\n",
       "      <th></th>\n",
       "      <th>Source</th>\n",
       "      <th>ddof1</th>\n",
       "      <th>ddof2</th>\n",
       "      <th>F</th>\n",
       "      <th>p-unc</th>\n",
       "      <th>np2</th>\n",
       "    </tr>\n",
       "  </thead>\n",
       "  <tbody>\n",
       "    <tr>\n",
       "      <th>0</th>\n",
       "      <td>Tx</td>\n",
       "      <td>2</td>\n",
       "      <td>13</td>\n",
       "      <td>0.430946</td>\n",
       "      <td>0.658849</td>\n",
       "      <td>0.062177</td>\n",
       "    </tr>\n",
       "  </tbody>\n",
       "</table>\n",
       "</div>"
      ],
      "text/plain": [
       "  Source  ddof1  ddof2         F     p-unc       np2\n",
       "0     Tx      2     13  0.430946  0.658849  0.062177"
      ]
     },
     "execution_count": 52,
     "metadata": {},
     "output_type": "execute_result"
    }
   ],
   "source": [
    "pg.anova(data = ag_df[ag_df['Genotype']=='WT'], dv = 'TAMP', between = 'Tx')"
   ]
  },
  {
   "cell_type": "code",
   "execution_count": 63,
   "metadata": {},
   "outputs": [
    {
     "data": {
      "text/html": [
       "<div>\n",
       "<style scoped>\n",
       "    .dataframe tbody tr th:only-of-type {\n",
       "        vertical-align: middle;\n",
       "    }\n",
       "\n",
       "    .dataframe tbody tr th {\n",
       "        vertical-align: top;\n",
       "    }\n",
       "\n",
       "    .dataframe thead th {\n",
       "        text-align: right;\n",
       "    }\n",
       "</style>\n",
       "<table border=\"1\" class=\"dataframe\">\n",
       "  <thead>\n",
       "    <tr style=\"text-align: right;\">\n",
       "      <th></th>\n",
       "      <th>Source</th>\n",
       "      <th>ddof1</th>\n",
       "      <th>ddof2</th>\n",
       "      <th>F</th>\n",
       "      <th>p-unc</th>\n",
       "      <th>np2</th>\n",
       "    </tr>\n",
       "  </thead>\n",
       "  <tbody>\n",
       "    <tr>\n",
       "      <th>0</th>\n",
       "      <td>Group</td>\n",
       "      <td>4</td>\n",
       "      <td>21</td>\n",
       "      <td>0.606511</td>\n",
       "      <td>0.662322</td>\n",
       "      <td>0.103562</td>\n",
       "    </tr>\n",
       "  </tbody>\n",
       "</table>\n",
       "</div>"
      ],
      "text/plain": [
       "  Source  ddof1  ddof2         F     p-unc       np2\n",
       "0  Group      4     21  0.606511  0.662322  0.103562"
      ]
     },
     "execution_count": 63,
     "metadata": {},
     "output_type": "execute_result"
    }
   ],
   "source": [
    "pg.anova(data = ag_df, dv = 'TAMP', between = 'Group')"
   ]
  },
  {
   "cell_type": "code",
   "execution_count": 53,
   "metadata": {},
   "outputs": [
    {
     "data": {
      "text/html": [
       "<div>\n",
       "<style scoped>\n",
       "    .dataframe tbody tr th:only-of-type {\n",
       "        vertical-align: middle;\n",
       "    }\n",
       "\n",
       "    .dataframe tbody tr th {\n",
       "        vertical-align: top;\n",
       "    }\n",
       "\n",
       "    .dataframe thead th {\n",
       "        text-align: right;\n",
       "    }\n",
       "</style>\n",
       "<table border=\"1\" class=\"dataframe\">\n",
       "  <thead>\n",
       "    <tr style=\"text-align: right;\">\n",
       "      <th></th>\n",
       "      <th>Source</th>\n",
       "      <th>SS</th>\n",
       "      <th>DF</th>\n",
       "      <th>MS</th>\n",
       "      <th>F</th>\n",
       "      <th>p-unc</th>\n",
       "      <th>np2</th>\n",
       "    </tr>\n",
       "  </thead>\n",
       "  <tbody>\n",
       "    <tr>\n",
       "      <th>0</th>\n",
       "      <td>Genotype</td>\n",
       "      <td>2.674499</td>\n",
       "      <td>1.0</td>\n",
       "      <td>2.674499</td>\n",
       "      <td>0.031766</td>\n",
       "      <td>0.860649</td>\n",
       "      <td>0.001865</td>\n",
       "    </tr>\n",
       "    <tr>\n",
       "      <th>1</th>\n",
       "      <td>Tx</td>\n",
       "      <td>143.032335</td>\n",
       "      <td>1.0</td>\n",
       "      <td>143.032335</td>\n",
       "      <td>1.698851</td>\n",
       "      <td>0.209815</td>\n",
       "      <td>0.090853</td>\n",
       "    </tr>\n",
       "    <tr>\n",
       "      <th>2</th>\n",
       "      <td>Genotype * Tx</td>\n",
       "      <td>24.058376</td>\n",
       "      <td>1.0</td>\n",
       "      <td>24.058376</td>\n",
       "      <td>0.285751</td>\n",
       "      <td>0.599879</td>\n",
       "      <td>0.016531</td>\n",
       "    </tr>\n",
       "    <tr>\n",
       "      <th>3</th>\n",
       "      <td>Residual</td>\n",
       "      <td>1431.290972</td>\n",
       "      <td>17.0</td>\n",
       "      <td>84.193587</td>\n",
       "      <td>NaN</td>\n",
       "      <td>NaN</td>\n",
       "      <td>NaN</td>\n",
       "    </tr>\n",
       "  </tbody>\n",
       "</table>\n",
       "</div>"
      ],
      "text/plain": [
       "          Source           SS    DF          MS         F     p-unc       np2\n",
       "0       Genotype     2.674499   1.0    2.674499  0.031766  0.860649  0.001865\n",
       "1             Tx   143.032335   1.0  143.032335  1.698851  0.209815  0.090853\n",
       "2  Genotype * Tx    24.058376   1.0   24.058376  0.285751  0.599879  0.016531\n",
       "3       Residual  1431.290972  17.0   84.193587       NaN       NaN       NaN"
      ]
     },
     "execution_count": 53,
     "metadata": {},
     "output_type": "execute_result"
    }
   ],
   "source": [
    "pg.anova(data = ag_df[ag_df['Group']!='WT_1mg/kg'], dv = 'TAMP', between = ['Genotype', 'Tx'])"
   ]
  },
  {
   "cell_type": "code",
   "execution_count": 54,
   "metadata": {},
   "outputs": [
    {
     "data": {
      "image/png": "[encoded data removed]",
      "text/plain": [
       "<Figure size 288x144 with 1 Axes>"
      ]
     },
     "metadata": {
      "needs_background": "light"
     },
     "output_type": "display_data"
    }
   ],
   "source": [
    "TLAT_fig = plt.figure(figsize=(4, 2))\n",
    "ax = sns.boxplot(data = ag_df, x= 'Group', y= 'TLAT', order = ['WT_Saline', 'KO_Saline', 'WT_0.5mg/kg', 'KO_0.5mg/kg', 'WT_1mg/kg'], palette=['royalblue', 'forestgreen', 'steelblue', 'darkseagreen', 'cornflowerblue'], showfliers = False, dodge=False, width=0.3)\n",
    "sns.stripplot(data = ag_df, x= 'Group', y= 'TLAT', order = ['WT_Saline', 'KO_Saline', 'WT_0.5mg/kg', 'KO_0.5mg/kg', 'WT_1mg/kg'], palette=['royalblue', 'forestgreen', 'steelblue', 'darkseagreen', 'cornflowerblue'], dodge=False, edgecolor='silver', size=2, linewidth=0.2)\n",
    "sns.despine()\n",
    "ax.set_ylabel('TLAT')\n",
    "#ax.set_ylim([0.0, 1.0])\n",
    "ax.set_xticklabels(['WT\\nSaline', 'KO', 'WT\\n0.5\\nmg/kg', 'KO', 'WT\\n1\\nmg/kg'])\n",
    "ax.set_xlabel('')\n",
    "plt.tight_layout()"
   ]
  },
  {
   "cell_type": "code",
   "execution_count": 55,
   "metadata": {},
   "outputs": [],
   "source": [
    "TLAT_fig.savefig('/Users/labc02/Documents/PDCB_data/MK-project/Sensory_Gating/Figures/TLAT_fig.svg')"
   ]
  },
  {
   "cell_type": "code",
   "execution_count": 56,
   "metadata": {},
   "outputs": [
    {
     "data": {
      "text/html": [
       "<div>\n",
       "<style scoped>\n",
       "    .dataframe tbody tr th:only-of-type {\n",
       "        vertical-align: middle;\n",
       "    }\n",
       "\n",
       "    .dataframe tbody tr th {\n",
       "        vertical-align: top;\n",
       "    }\n",
       "\n",
       "    .dataframe thead th {\n",
       "        text-align: right;\n",
       "    }\n",
       "</style>\n",
       "<table border=\"1\" class=\"dataframe\">\n",
       "  <thead>\n",
       "    <tr style=\"text-align: right;\">\n",
       "      <th></th>\n",
       "      <th>W</th>\n",
       "      <th>pval</th>\n",
       "      <th>normal</th>\n",
       "    </tr>\n",
       "  </thead>\n",
       "  <tbody>\n",
       "    <tr>\n",
       "      <th>WT_1mg/kg</th>\n",
       "      <td>0.880003</td>\n",
       "      <td>0.309326</td>\n",
       "      <td>True</td>\n",
       "    </tr>\n",
       "    <tr>\n",
       "      <th>KO_0.5mg/kg</th>\n",
       "      <td>0.953862</td>\n",
       "      <td>0.771411</td>\n",
       "      <td>True</td>\n",
       "    </tr>\n",
       "    <tr>\n",
       "      <th>WT_0.5mg/kg</th>\n",
       "      <td>0.779989</td>\n",
       "      <td>0.038537</td>\n",
       "      <td>False</td>\n",
       "    </tr>\n",
       "    <tr>\n",
       "      <th>WT_Saline</th>\n",
       "      <td>0.829284</td>\n",
       "      <td>0.137409</td>\n",
       "      <td>True</td>\n",
       "    </tr>\n",
       "    <tr>\n",
       "      <th>KO_Saline</th>\n",
       "      <td>0.865437</td>\n",
       "      <td>0.280158</td>\n",
       "      <td>True</td>\n",
       "    </tr>\n",
       "  </tbody>\n",
       "</table>\n",
       "</div>"
      ],
      "text/plain": [
       "                    W      pval  normal\n",
       "WT_1mg/kg    0.880003  0.309326    True\n",
       "KO_0.5mg/kg  0.953862  0.771411    True\n",
       "WT_0.5mg/kg  0.779989  0.038537   False\n",
       "WT_Saline    0.829284  0.137409    True\n",
       "KO_Saline    0.865437  0.280158    True"
      ]
     },
     "execution_count": 56,
     "metadata": {},
     "output_type": "execute_result"
    }
   ],
   "source": [
    "pg.normality(data = ag_df, dv = 'TLAT', group = 'Group')"
   ]
  },
  {
   "cell_type": "code",
   "execution_count": 56,
   "metadata": {},
   "outputs": [
    {
     "data": {
      "text/html": [
       "<div>\n",
       "<style scoped>\n",
       "    .dataframe tbody tr th:only-of-type {\n",
       "        vertical-align: middle;\n",
       "    }\n",
       "\n",
       "    .dataframe tbody tr th {\n",
       "        vertical-align: top;\n",
       "    }\n",
       "\n",
       "    .dataframe thead th {\n",
       "        text-align: right;\n",
       "    }\n",
       "</style>\n",
       "<table border=\"1\" class=\"dataframe\">\n",
       "  <thead>\n",
       "    <tr style=\"text-align: right;\">\n",
       "      <th></th>\n",
       "      <th>Source</th>\n",
       "      <th>ddof1</th>\n",
       "      <th>ddof2</th>\n",
       "      <th>F</th>\n",
       "      <th>p-unc</th>\n",
       "      <th>np2</th>\n",
       "    </tr>\n",
       "  </thead>\n",
       "  <tbody>\n",
       "    <tr>\n",
       "      <th>0</th>\n",
       "      <td>Tx</td>\n",
       "      <td>2</td>\n",
       "      <td>13</td>\n",
       "      <td>0.798842</td>\n",
       "      <td>0.470745</td>\n",
       "      <td>0.109448</td>\n",
       "    </tr>\n",
       "  </tbody>\n",
       "</table>\n",
       "</div>"
      ],
      "text/plain": [
       "  Source  ddof1  ddof2         F     p-unc       np2\n",
       "0     Tx      2     13  0.798842  0.470745  0.109448"
      ]
     },
     "execution_count": 56,
     "metadata": {},
     "output_type": "execute_result"
    }
   ],
   "source": [
    "pg.anova(data = ag_df[ag_df['Genotype']=='WT'], dv = 'TLAT', between = 'Tx')"
   ]
  },
  {
   "cell_type": "code",
   "execution_count": 64,
   "metadata": {},
   "outputs": [
    {
     "data": {
      "text/html": [
       "<div>\n",
       "<style scoped>\n",
       "    .dataframe tbody tr th:only-of-type {\n",
       "        vertical-align: middle;\n",
       "    }\n",
       "\n",
       "    .dataframe tbody tr th {\n",
       "        vertical-align: top;\n",
       "    }\n",
       "\n",
       "    .dataframe thead th {\n",
       "        text-align: right;\n",
       "    }\n",
       "</style>\n",
       "<table border=\"1\" class=\"dataframe\">\n",
       "  <thead>\n",
       "    <tr style=\"text-align: right;\">\n",
       "      <th></th>\n",
       "      <th>Source</th>\n",
       "      <th>ddof1</th>\n",
       "      <th>ddof2</th>\n",
       "      <th>F</th>\n",
       "      <th>p-unc</th>\n",
       "      <th>np2</th>\n",
       "    </tr>\n",
       "  </thead>\n",
       "  <tbody>\n",
       "    <tr>\n",
       "      <th>0</th>\n",
       "      <td>Group</td>\n",
       "      <td>4</td>\n",
       "      <td>21</td>\n",
       "      <td>0.592691</td>\n",
       "      <td>0.671716</td>\n",
       "      <td>0.101441</td>\n",
       "    </tr>\n",
       "  </tbody>\n",
       "</table>\n",
       "</div>"
      ],
      "text/plain": [
       "  Source  ddof1  ddof2         F     p-unc       np2\n",
       "0  Group      4     21  0.592691  0.671716  0.101441"
      ]
     },
     "execution_count": 64,
     "metadata": {},
     "output_type": "execute_result"
    }
   ],
   "source": [
    "pg.anova(data = ag_df, dv = 'TLAT', between = 'Group')"
   ]
  },
  {
   "cell_type": "code",
   "execution_count": 57,
   "metadata": {},
   "outputs": [
    {
     "data": {
      "text/html": [
       "<div>\n",
       "<style scoped>\n",
       "    .dataframe tbody tr th:only-of-type {\n",
       "        vertical-align: middle;\n",
       "    }\n",
       "\n",
       "    .dataframe tbody tr th {\n",
       "        vertical-align: top;\n",
       "    }\n",
       "\n",
       "    .dataframe thead th {\n",
       "        text-align: right;\n",
       "    }\n",
       "</style>\n",
       "<table border=\"1\" class=\"dataframe\">\n",
       "  <thead>\n",
       "    <tr style=\"text-align: right;\">\n",
       "      <th></th>\n",
       "      <th>Source</th>\n",
       "      <th>SS</th>\n",
       "      <th>DF</th>\n",
       "      <th>MS</th>\n",
       "      <th>F</th>\n",
       "      <th>p-unc</th>\n",
       "      <th>np2</th>\n",
       "    </tr>\n",
       "  </thead>\n",
       "  <tbody>\n",
       "    <tr>\n",
       "      <th>0</th>\n",
       "      <td>Genotype</td>\n",
       "      <td>339.290179</td>\n",
       "      <td>1.0</td>\n",
       "      <td>339.290179</td>\n",
       "      <td>2.120577</td>\n",
       "      <td>0.163553</td>\n",
       "      <td>0.110905</td>\n",
       "    </tr>\n",
       "    <tr>\n",
       "      <th>1</th>\n",
       "      <td>Tx</td>\n",
       "      <td>104.187585</td>\n",
       "      <td>1.0</td>\n",
       "      <td>104.187585</td>\n",
       "      <td>0.651176</td>\n",
       "      <td>0.430838</td>\n",
       "      <td>0.036891</td>\n",
       "    </tr>\n",
       "    <tr>\n",
       "      <th>2</th>\n",
       "      <td>Genotype * Tx</td>\n",
       "      <td>16.729021</td>\n",
       "      <td>1.0</td>\n",
       "      <td>16.729021</td>\n",
       "      <td>0.104557</td>\n",
       "      <td>0.750372</td>\n",
       "      <td>0.006113</td>\n",
       "    </tr>\n",
       "    <tr>\n",
       "      <th>3</th>\n",
       "      <td>Residual</td>\n",
       "      <td>2719.983467</td>\n",
       "      <td>17.0</td>\n",
       "      <td>159.999027</td>\n",
       "      <td>NaN</td>\n",
       "      <td>NaN</td>\n",
       "      <td>NaN</td>\n",
       "    </tr>\n",
       "  </tbody>\n",
       "</table>\n",
       "</div>"
      ],
      "text/plain": [
       "          Source           SS    DF          MS         F     p-unc       np2\n",
       "0       Genotype   339.290179   1.0  339.290179  2.120577  0.163553  0.110905\n",
       "1             Tx   104.187585   1.0  104.187585  0.651176  0.430838  0.036891\n",
       "2  Genotype * Tx    16.729021   1.0   16.729021  0.104557  0.750372  0.006113\n",
       "3       Residual  2719.983467  17.0  159.999027       NaN       NaN       NaN"
      ]
     },
     "execution_count": 57,
     "metadata": {},
     "output_type": "execute_result"
    }
   ],
   "source": [
    "pg.anova(data = ag_df[ag_df['Group']!='WT_1mg/kg'], dv = 'TLAT', between = ['Genotype', 'Tx'])"
   ]
  },
  {
   "cell_type": "code",
   "execution_count": 58,
   "metadata": {},
   "outputs": [
    {
     "data": {
      "image/png": "[encoded data removed]",
      "text/plain": [
       "<Figure size 180x108 with 1 Axes>"
      ]
     },
     "metadata": {
      "needs_background": "light"
     },
     "output_type": "display_data"
    }
   ],
   "source": [
    "TLAT_fig_paper = plt.figure(figsize=(2.5, 1.5))\n",
    "ax = sns.boxplot(data = ag_df, x= 'Group', y= 'TLAT', order = ['WT_Saline', 'KO_Saline', 'WT_0.5mg/kg', 'KO_0.5mg/kg', 'WT_1mg/kg'], palette=['royalblue', 'forestgreen', 'steelblue', 'darkseagreen', 'cornflowerblue'], showfliers = False, dodge=False, width=0.3)\n",
    "sns.stripplot(data = ag_df, x= 'Group', y= 'TLAT', order = ['WT_Saline', 'KO_Saline', 'WT_0.5mg/kg', 'KO_0.5mg/kg', 'WT_1mg/kg'], palette=['royalblue', 'forestgreen', 'steelblue', 'darkseagreen', 'cornflowerblue'], dodge=False, edgecolor='silver', size=2, linewidth=0.2)\n",
    "sns.despine()\n",
    "ax.set_ylabel('TLAT')\n",
    "#ax.set_ylim([0.0, 1.0])\n",
    "ax.set_xticklabels(['WT\\nSaline', 'KO', 'WT\\n0.5\\nmg/kg', 'KO', 'WT\\n1\\nmg/kg'])\n",
    "ax.set_xlabel('')\n",
    "plt.tight_layout()"
   ]
  },
  {
   "cell_type": "code",
   "execution_count": 59,
   "metadata": {},
   "outputs": [],
   "source": [
    "TLAT_fig_paper.savefig('/Users/labc02/Documents/PDCB_data/MK-project/Sensory_Gating/Figures/TLAT_fig_paper.svg')"
   ]
  }
 ],
 "metadata": {
  "kernelspec": {
   "display_name": "Python 3",
   "language": "python",
   "name": "python3"
  },
  "language_info": {
   "codemirror_mode": {
    "name": "ipython",
    "version": 3
   },
   "file_extension": ".py",
   "mimetype": "text/x-python",
   "name": "python",
   "nbconvert_exporter": "python",
   "pygments_lexer": "ipython3",
   "version": "3.8.2"
  }
 },
 "nbformat": 4,
 "nbformat_minor": 4
}
