{
 "cells": [
  {
   "cell_type": "markdown",
   "metadata": {},
   "source": [
    "### Auditory Gating Statistical Analysis and Figures"
   ]
  },
  {
   "cell_type": "code",
   "execution_count": 1,
   "metadata": {},
   "outputs": [
    {
     "name": "stderr",
     "output_type": "stream",
     "text": [
      "/opt/miniconda3/envs/databs/lib/python3.8/site-packages/outdated/utils.py:14: OutdatedPackageWarning: The package outdated is out of date. Your version is 0.2.0, the latest is 0.2.1.\n",
      "Set the environment variable OUTDATED_IGNORE=1 to disable these warnings.\n",
      "  return warn(\n",
      "/opt/miniconda3/envs/databs/lib/python3.8/site-packages/outdated/utils.py:14: OutdatedPackageWarning: The package pingouin is out of date. Your version is 0.3.6, the latest is 0.5.0.\n",
      "Set the environment variable OUTDATED_IGNORE=1 to disable these warnings.\n",
      "  return warn(\n"
     ]
    }
   ],
   "source": [
    "import matplotlib.pyplot as plt\n",
    "import pandas as pd\n",
    "import seaborn as sns\n",
    "import pingouin as pg\n",
    "import numpy as np"
   ]
  },
  {
   "cell_type": "code",
   "execution_count": 2,
   "metadata": {},
   "outputs": [],
   "source": [
    "ag_df = pd.read_csv('/Users/labc02/Documents/PDCB_data/MK-project/Sensory_Gating/AEP_analysis.csv')"
   ]
  },
  {
   "cell_type": "code",
   "execution_count": 22,
   "metadata": {},
   "outputs": [],
   "source": [
    "ag_df['Group'] = ag_df['Genotype'] +'_'+ag_df['Tx']"
   ]
  },
  {
   "cell_type": "code",
   "execution_count": 39,
   "metadata": {},
   "outputs": [
    {
     "data": {
      "text/plain": [
       "Index(['ID', 'Channel', 'Genotype', 'Tx', 'Sex', 'CAMP', 'CLAT', 'TAMP',\n",
       "       'TLAT', 'T/C', 'Group'],\n",
       "      dtype='object')"
      ]
     },
     "execution_count": 39,
     "metadata": {},
     "output_type": "execute_result"
    }
   ],
   "source": [
    "ag_df.columns"
   ]
  },
  {
   "cell_type": "code",
   "execution_count": 36,
   "metadata": {},
   "outputs": [
    {
     "data": {
      "image/png": "[encoded data removed]",
      "text/plain": [
       "<Figure size 288x144 with 1 Axes>"
      ]
     },
     "metadata": {
      "needs_background": "light"
     },
     "output_type": "display_data"
    }
   ],
   "source": [
    "TC_fig = plt.figure(figsize=(4, 2))\n",
    "ax = sns.boxplot(data = ag_df, x= 'Group', y= 'T/C', order = ['WT_Saline', 'WT_0.5mg/kg', 'WT_1mg/kg', 'KO_Saline', 'KO_0.5mg/kg'], palette=['royalblue', 'steelblue', 'cornflowerblue', 'forestgreen', 'darkseagreen'], width = 0.3, showmeans = True, meanprops={\"marker\":\"+\", \"markeredgecolor\":\"k\"}, showfliers = False)\n",
    "sns.despine()\n",
    "ax.set_ylabel('T/C')\n",
    "ax.set_ylim([0.0, 1.0])\n",
    "ax.set_xticklabels(['WT\\nSaline', 'WT\\n0.5mg/kg', 'WT\\n1mg/kg', 'KO\\nSaline', 'KO\\n0.5mg/kg'])\n",
    "ax.set_xlabel('')\n",
    "plt.tight_layout()"
   ]
  },
  {
   "cell_type": "code",
   "execution_count": 59,
   "metadata": {},
   "outputs": [],
   "source": [
    "TC_fig.savefig('/Users/labc02/Documents/PDCB_data/MK-project/Sensory_Gating/Figures/TC.svg')"
   ]
  },
  {
   "cell_type": "code",
   "execution_count": 41,
   "metadata": {},
   "outputs": [
    {
     "data": {
      "text/html": [
       "<div>\n",
       "<style scoped>\n",
       "    .dataframe tbody tr th:only-of-type {\n",
       "        vertical-align: middle;\n",
       "    }\n",
       "\n",
       "    .dataframe tbody tr th {\n",
       "        vertical-align: top;\n",
       "    }\n",
       "\n",
       "    .dataframe thead th {\n",
       "        text-align: right;\n",
       "    }\n",
       "</style>\n",
       "<table border=\"1\" class=\"dataframe\">\n",
       "  <thead>\n",
       "    <tr style=\"text-align: right;\">\n",
       "      <th></th>\n",
       "      <th>W</th>\n",
       "      <th>pval</th>\n",
       "      <th>normal</th>\n",
       "    </tr>\n",
       "  </thead>\n",
       "  <tbody>\n",
       "    <tr>\n",
       "      <th>WT_1mg/kg</th>\n",
       "      <td>0.890968</td>\n",
       "      <td>0.361992</td>\n",
       "      <td>True</td>\n",
       "    </tr>\n",
       "    <tr>\n",
       "      <th>KO_0.5mg/kg</th>\n",
       "      <td>0.880625</td>\n",
       "      <td>0.271941</td>\n",
       "      <td>True</td>\n",
       "    </tr>\n",
       "    <tr>\n",
       "      <th>WT_0.5mg/kg</th>\n",
       "      <td>0.849584</td>\n",
       "      <td>0.156191</td>\n",
       "      <td>True</td>\n",
       "    </tr>\n",
       "    <tr>\n",
       "      <th>WT_Saline</th>\n",
       "      <td>0.897787</td>\n",
       "      <td>0.397776</td>\n",
       "      <td>True</td>\n",
       "    </tr>\n",
       "    <tr>\n",
       "      <th>KO_Saline</th>\n",
       "      <td>0.943028</td>\n",
       "      <td>0.672875</td>\n",
       "      <td>True</td>\n",
       "    </tr>\n",
       "  </tbody>\n",
       "</table>\n",
       "</div>"
      ],
      "text/plain": [
       "                    W      pval  normal\n",
       "WT_1mg/kg    0.890968  0.361992    True\n",
       "KO_0.5mg/kg  0.880625  0.271941    True\n",
       "WT_0.5mg/kg  0.849584  0.156191    True\n",
       "WT_Saline    0.897787  0.397776    True\n",
       "KO_Saline    0.943028  0.672875    True"
      ]
     },
     "execution_count": 41,
     "metadata": {},
     "output_type": "execute_result"
    }
   ],
   "source": [
    "pg.normality(data = ag_df, dv = 'T/C', group = 'Group')"
   ]
  },
  {
   "cell_type": "code",
   "execution_count": 43,
   "metadata": {},
   "outputs": [
    {
     "data": {
      "text/html": [
       "<div>\n",
       "<style scoped>\n",
       "    .dataframe tbody tr th:only-of-type {\n",
       "        vertical-align: middle;\n",
       "    }\n",
       "\n",
       "    .dataframe tbody tr th {\n",
       "        vertical-align: top;\n",
       "    }\n",
       "\n",
       "    .dataframe thead th {\n",
       "        text-align: right;\n",
       "    }\n",
       "</style>\n",
       "<table border=\"1\" class=\"dataframe\">\n",
       "  <thead>\n",
       "    <tr style=\"text-align: right;\">\n",
       "      <th></th>\n",
       "      <th>Source</th>\n",
       "      <th>ddof1</th>\n",
       "      <th>ddof2</th>\n",
       "      <th>F</th>\n",
       "      <th>p-unc</th>\n",
       "      <th>np2</th>\n",
       "    </tr>\n",
       "  </thead>\n",
       "  <tbody>\n",
       "    <tr>\n",
       "      <th>0</th>\n",
       "      <td>Group</td>\n",
       "      <td>4</td>\n",
       "      <td>21</td>\n",
       "      <td>0.109994</td>\n",
       "      <td>0.977672</td>\n",
       "      <td>0.020521</td>\n",
       "    </tr>\n",
       "  </tbody>\n",
       "</table>\n",
       "</div>"
      ],
      "text/plain": [
       "  Source  ddof1  ddof2         F     p-unc       np2\n",
       "0  Group      4     21  0.109994  0.977672  0.020521"
      ]
     },
     "execution_count": 43,
     "metadata": {},
     "output_type": "execute_result"
    }
   ],
   "source": [
    "pg.anova(data = ag_df, dv = 'T/C', between = 'Group')"
   ]
  },
  {
   "cell_type": "code",
   "execution_count": 40,
   "metadata": {},
   "outputs": [
    {
     "data": {
      "image/png": "[encoded data removed]",
      "text/plain": [
       "<Figure size 288x144 with 1 Axes>"
      ]
     },
     "metadata": {
      "needs_background": "light"
     },
     "output_type": "display_data"
    }
   ],
   "source": [
    "CAMP_fig = plt.figure(figsize=(4, 2))\n",
    "ax = sns.boxplot(data = ag_df, x= 'Group', y= 'CAMP', order = ['WT_Saline', 'WT_0.5mg/kg', 'WT_1mg/kg', 'KO_Saline', 'KO_0.5mg/kg'], palette=['royalblue', 'steelblue', 'cornflowerblue', 'forestgreen', 'darkseagreen'], width = 0.3, showmeans = True, meanprops={\"marker\":\"+\", \"markeredgecolor\":\"k\"}, showfliers = False)\n",
    "sns.despine()\n",
    "ax.set_ylabel('CAMP')\n",
    "#ax.set_ylim([0.0, 1.0])\n",
    "ax.set_xticklabels(['WT\\nSaline', 'WT\\n0.5mg/kg', 'WT\\n1mg/kg', 'KO\\nSaline', 'KO\\n0.5mg/kg'])\n",
    "ax.set_xlabel('')\n",
    "plt.tight_layout()"
   ]
  },
  {
   "cell_type": "code",
   "execution_count": 60,
   "metadata": {},
   "outputs": [],
   "source": [
    "CAMP_fig.savefig('/Users/labc02/Documents/PDCB_data/MK-project/Sensory_Gating/Figures/CAMP_fig.svg')"
   ]
  },
  {
   "cell_type": "code",
   "execution_count": 44,
   "metadata": {},
   "outputs": [
    {
     "data": {
      "text/html": [
       "<div>\n",
       "<style scoped>\n",
       "    .dataframe tbody tr th:only-of-type {\n",
       "        vertical-align: middle;\n",
       "    }\n",
       "\n",
       "    .dataframe tbody tr th {\n",
       "        vertical-align: top;\n",
       "    }\n",
       "\n",
       "    .dataframe thead th {\n",
       "        text-align: right;\n",
       "    }\n",
       "</style>\n",
       "<table border=\"1\" class=\"dataframe\">\n",
       "  <thead>\n",
       "    <tr style=\"text-align: right;\">\n",
       "      <th></th>\n",
       "      <th>W</th>\n",
       "      <th>pval</th>\n",
       "      <th>normal</th>\n",
       "    </tr>\n",
       "  </thead>\n",
       "  <tbody>\n",
       "    <tr>\n",
       "      <th>WT_1mg/kg</th>\n",
       "      <td>0.789963</td>\n",
       "      <td>0.066953</td>\n",
       "      <td>True</td>\n",
       "    </tr>\n",
       "    <tr>\n",
       "      <th>KO_0.5mg/kg</th>\n",
       "      <td>0.962150</td>\n",
       "      <td>0.836150</td>\n",
       "      <td>True</td>\n",
       "    </tr>\n",
       "    <tr>\n",
       "      <th>WT_0.5mg/kg</th>\n",
       "      <td>0.834174</td>\n",
       "      <td>0.116565</td>\n",
       "      <td>True</td>\n",
       "    </tr>\n",
       "    <tr>\n",
       "      <th>WT_Saline</th>\n",
       "      <td>0.822677</td>\n",
       "      <td>0.122434</td>\n",
       "      <td>True</td>\n",
       "    </tr>\n",
       "    <tr>\n",
       "      <th>KO_Saline</th>\n",
       "      <td>0.933139</td>\n",
       "      <td>0.612968</td>\n",
       "      <td>True</td>\n",
       "    </tr>\n",
       "  </tbody>\n",
       "</table>\n",
       "</div>"
      ],
      "text/plain": [
       "                    W      pval  normal\n",
       "WT_1mg/kg    0.789963  0.066953    True\n",
       "KO_0.5mg/kg  0.962150  0.836150    True\n",
       "WT_0.5mg/kg  0.834174  0.116565    True\n",
       "WT_Saline    0.822677  0.122434    True\n",
       "KO_Saline    0.933139  0.612968    True"
      ]
     },
     "execution_count": 44,
     "metadata": {},
     "output_type": "execute_result"
    }
   ],
   "source": [
    "pg.normality(data = ag_df, dv = 'CAMP', group = 'Group')"
   ]
  },
  {
   "cell_type": "code",
   "execution_count": 45,
   "metadata": {},
   "outputs": [
    {
     "data": {
      "text/html": [
       "<div>\n",
       "<style scoped>\n",
       "    .dataframe tbody tr th:only-of-type {\n",
       "        vertical-align: middle;\n",
       "    }\n",
       "\n",
       "    .dataframe tbody tr th {\n",
       "        vertical-align: top;\n",
       "    }\n",
       "\n",
       "    .dataframe thead th {\n",
       "        text-align: right;\n",
       "    }\n",
       "</style>\n",
       "<table border=\"1\" class=\"dataframe\">\n",
       "  <thead>\n",
       "    <tr style=\"text-align: right;\">\n",
       "      <th></th>\n",
       "      <th>Source</th>\n",
       "      <th>ddof1</th>\n",
       "      <th>ddof2</th>\n",
       "      <th>F</th>\n",
       "      <th>p-unc</th>\n",
       "      <th>np2</th>\n",
       "    </tr>\n",
       "  </thead>\n",
       "  <tbody>\n",
       "    <tr>\n",
       "      <th>0</th>\n",
       "      <td>Group</td>\n",
       "      <td>4</td>\n",
       "      <td>21</td>\n",
       "      <td>0.561858</td>\n",
       "      <td>0.69288</td>\n",
       "      <td>0.096674</td>\n",
       "    </tr>\n",
       "  </tbody>\n",
       "</table>\n",
       "</div>"
      ],
      "text/plain": [
       "  Source  ddof1  ddof2         F    p-unc       np2\n",
       "0  Group      4     21  0.561858  0.69288  0.096674"
      ]
     },
     "execution_count": 45,
     "metadata": {},
     "output_type": "execute_result"
    }
   ],
   "source": [
    "pg.anova(data = ag_df, dv = 'CAMP', between = 'Group')"
   ]
  },
  {
   "cell_type": "code",
   "execution_count": 53,
   "metadata": {},
   "outputs": [
    {
     "data": {
      "image/png": "[encoded data removed]",
      "text/plain": [
       "<Figure size 288x144 with 1 Axes>"
      ]
     },
     "metadata": {
      "needs_background": "light"
     },
     "output_type": "display_data"
    }
   ],
   "source": [
    "CLAT_fig = plt.figure(figsize=(4, 2))\n",
    "ax = sns.boxplot(data = ag_df, x= 'Group', y= 'CLAT', order = ['WT_Saline', 'WT_0.5mg/kg', 'WT_1mg/kg', 'KO_Saline', 'KO_0.5mg/kg'], palette=['royalblue', 'steelblue', 'cornflowerblue', 'forestgreen', 'darkseagreen'], width = 0.3, showmeans = True, meanprops={\"marker\":\"+\", \"markeredgecolor\":\"k\"}, showfliers = False)\n",
    "sns.despine()\n",
    "ax.set_ylabel('CLAT')\n",
    "#ax.set_ylim([0.0, 1.0])\n",
    "ax.set_xticklabels(['WT\\nSaline', 'WT\\n0.5mg/kg', 'WT\\n1mg/kg', 'KO\\nSaline', 'KO\\n0.5mg/kg'])\n",
    "ax.set_xlabel('')\n",
    "plt.tight_layout()"
   ]
  },
  {
   "cell_type": "code",
   "execution_count": 61,
   "metadata": {},
   "outputs": [],
   "source": [
    "CLAT_fig.savefig('/Users/labc02/Documents/PDCB_data/MK-project/Sensory_Gating/Figures/CLAT_fig.svg')"
   ]
  },
  {
   "cell_type": "code",
   "execution_count": 47,
   "metadata": {},
   "outputs": [
    {
     "data": {
      "text/html": [
       "<div>\n",
       "<style scoped>\n",
       "    .dataframe tbody tr th:only-of-type {\n",
       "        vertical-align: middle;\n",
       "    }\n",
       "\n",
       "    .dataframe tbody tr th {\n",
       "        vertical-align: top;\n",
       "    }\n",
       "\n",
       "    .dataframe thead th {\n",
       "        text-align: right;\n",
       "    }\n",
       "</style>\n",
       "<table border=\"1\" class=\"dataframe\">\n",
       "  <thead>\n",
       "    <tr style=\"text-align: right;\">\n",
       "      <th></th>\n",
       "      <th>W</th>\n",
       "      <th>pval</th>\n",
       "      <th>normal</th>\n",
       "    </tr>\n",
       "  </thead>\n",
       "  <tbody>\n",
       "    <tr>\n",
       "      <th>WT_1mg/kg</th>\n",
       "      <td>0.925244</td>\n",
       "      <td>0.564317</td>\n",
       "      <td>True</td>\n",
       "    </tr>\n",
       "    <tr>\n",
       "      <th>KO_0.5mg/kg</th>\n",
       "      <td>0.854615</td>\n",
       "      <td>0.171444</td>\n",
       "      <td>True</td>\n",
       "    </tr>\n",
       "    <tr>\n",
       "      <th>WT_0.5mg/kg</th>\n",
       "      <td>0.938352</td>\n",
       "      <td>0.645953</td>\n",
       "      <td>True</td>\n",
       "    </tr>\n",
       "    <tr>\n",
       "      <th>WT_Saline</th>\n",
       "      <td>0.975104</td>\n",
       "      <td>0.906885</td>\n",
       "      <td>True</td>\n",
       "    </tr>\n",
       "    <tr>\n",
       "      <th>KO_Saline</th>\n",
       "      <td>0.986740</td>\n",
       "      <td>0.940233</td>\n",
       "      <td>True</td>\n",
       "    </tr>\n",
       "  </tbody>\n",
       "</table>\n",
       "</div>"
      ],
      "text/plain": [
       "                    W      pval  normal\n",
       "WT_1mg/kg    0.925244  0.564317    True\n",
       "KO_0.5mg/kg  0.854615  0.171444    True\n",
       "WT_0.5mg/kg  0.938352  0.645953    True\n",
       "WT_Saline    0.975104  0.906885    True\n",
       "KO_Saline    0.986740  0.940233    True"
      ]
     },
     "execution_count": 47,
     "metadata": {},
     "output_type": "execute_result"
    }
   ],
   "source": [
    "pg.normality(data = ag_df, dv = 'CLAT', group = 'Group')"
   ]
  },
  {
   "cell_type": "code",
   "execution_count": 48,
   "metadata": {},
   "outputs": [
    {
     "data": {
      "text/html": [
       "<div>\n",
       "<style scoped>\n",
       "    .dataframe tbody tr th:only-of-type {\n",
       "        vertical-align: middle;\n",
       "    }\n",
       "\n",
       "    .dataframe tbody tr th {\n",
       "        vertical-align: top;\n",
       "    }\n",
       "\n",
       "    .dataframe thead th {\n",
       "        text-align: right;\n",
       "    }\n",
       "</style>\n",
       "<table border=\"1\" class=\"dataframe\">\n",
       "  <thead>\n",
       "    <tr style=\"text-align: right;\">\n",
       "      <th></th>\n",
       "      <th>Source</th>\n",
       "      <th>ddof1</th>\n",
       "      <th>ddof2</th>\n",
       "      <th>F</th>\n",
       "      <th>p-unc</th>\n",
       "      <th>np2</th>\n",
       "    </tr>\n",
       "  </thead>\n",
       "  <tbody>\n",
       "    <tr>\n",
       "      <th>0</th>\n",
       "      <td>Group</td>\n",
       "      <td>4</td>\n",
       "      <td>21</td>\n",
       "      <td>0.435476</td>\n",
       "      <td>0.781476</td>\n",
       "      <td>0.076595</td>\n",
       "    </tr>\n",
       "  </tbody>\n",
       "</table>\n",
       "</div>"
      ],
      "text/plain": [
       "  Source  ddof1  ddof2         F     p-unc       np2\n",
       "0  Group      4     21  0.435476  0.781476  0.076595"
      ]
     },
     "execution_count": 48,
     "metadata": {},
     "output_type": "execute_result"
    }
   ],
   "source": [
    "pg.anova(data = ag_df, dv = 'CLAT', between = 'Group')"
   ]
  },
  {
   "cell_type": "code",
   "execution_count": 54,
   "metadata": {},
   "outputs": [
    {
     "data": {
      "image/png": "[encoded data removed]",
      "text/plain": [
       "<Figure size 288x144 with 1 Axes>"
      ]
     },
     "metadata": {
      "needs_background": "light"
     },
     "output_type": "display_data"
    }
   ],
   "source": [
    "TAMP_fig = plt.figure(figsize=(4, 2))\n",
    "ax = sns.boxplot(data = ag_df, x= 'Group', y= 'TAMP', order = ['WT_Saline', 'WT_0.5mg/kg', 'WT_1mg/kg', 'KO_Saline', 'KO_0.5mg/kg'], palette=['royalblue', 'steelblue', 'cornflowerblue', 'forestgreen', 'darkseagreen'], width = 0.3, showmeans = True, meanprops={\"marker\":\"+\", \"markeredgecolor\":\"k\"}, showfliers = False)\n",
    "sns.despine()\n",
    "ax.set_ylabel('TAMP')\n",
    "#ax.set_ylim([0.0, 1.0])\n",
    "ax.set_xticklabels(['WT\\nSaline', 'WT\\n0.5mg/kg', 'WT\\n1mg/kg', 'KO\\nSaline', 'KO\\n0.5mg/kg'])\n",
    "ax.set_xlabel('')\n",
    "plt.tight_layout()"
   ]
  },
  {
   "cell_type": "code",
   "execution_count": 62,
   "metadata": {},
   "outputs": [],
   "source": [
    "TAMP_fig.savefig('/Users/labc02/Documents/PDCB_data/MK-project/Sensory_Gating/Figures/TAMP_fig.svg')"
   ]
  },
  {
   "cell_type": "code",
   "execution_count": 50,
   "metadata": {},
   "outputs": [
    {
     "data": {
      "text/html": [
       "<div>\n",
       "<style scoped>\n",
       "    .dataframe tbody tr th:only-of-type {\n",
       "        vertical-align: middle;\n",
       "    }\n",
       "\n",
       "    .dataframe tbody tr th {\n",
       "        vertical-align: top;\n",
       "    }\n",
       "\n",
       "    .dataframe thead th {\n",
       "        text-align: right;\n",
       "    }\n",
       "</style>\n",
       "<table border=\"1\" class=\"dataframe\">\n",
       "  <thead>\n",
       "    <tr style=\"text-align: right;\">\n",
       "      <th></th>\n",
       "      <th>W</th>\n",
       "      <th>pval</th>\n",
       "      <th>normal</th>\n",
       "    </tr>\n",
       "  </thead>\n",
       "  <tbody>\n",
       "    <tr>\n",
       "      <th>WT_1mg/kg</th>\n",
       "      <td>0.963395</td>\n",
       "      <td>0.831402</td>\n",
       "      <td>True</td>\n",
       "    </tr>\n",
       "    <tr>\n",
       "      <th>KO_0.5mg/kg</th>\n",
       "      <td>0.866089</td>\n",
       "      <td>0.211057</td>\n",
       "      <td>True</td>\n",
       "    </tr>\n",
       "    <tr>\n",
       "      <th>WT_0.5mg/kg</th>\n",
       "      <td>0.927310</td>\n",
       "      <td>0.559493</td>\n",
       "      <td>True</td>\n",
       "    </tr>\n",
       "    <tr>\n",
       "      <th>WT_Saline</th>\n",
       "      <td>0.962706</td>\n",
       "      <td>0.826689</td>\n",
       "      <td>True</td>\n",
       "    </tr>\n",
       "    <tr>\n",
       "      <th>KO_Saline</th>\n",
       "      <td>0.813842</td>\n",
       "      <td>0.129450</td>\n",
       "      <td>True</td>\n",
       "    </tr>\n",
       "  </tbody>\n",
       "</table>\n",
       "</div>"
      ],
      "text/plain": [
       "                    W      pval  normal\n",
       "WT_1mg/kg    0.963395  0.831402    True\n",
       "KO_0.5mg/kg  0.866089  0.211057    True\n",
       "WT_0.5mg/kg  0.927310  0.559493    True\n",
       "WT_Saline    0.962706  0.826689    True\n",
       "KO_Saline    0.813842  0.129450    True"
      ]
     },
     "execution_count": 50,
     "metadata": {},
     "output_type": "execute_result"
    }
   ],
   "source": [
    "pg.normality(data = ag_df, dv = 'TAMP', group = 'Group')"
   ]
  },
  {
   "cell_type": "code",
   "execution_count": 51,
   "metadata": {},
   "outputs": [
    {
     "data": {
      "text/html": [
       "<div>\n",
       "<style scoped>\n",
       "    .dataframe tbody tr th:only-of-type {\n",
       "        vertical-align: middle;\n",
       "    }\n",
       "\n",
       "    .dataframe tbody tr th {\n",
       "        vertical-align: top;\n",
       "    }\n",
       "\n",
       "    .dataframe thead th {\n",
       "        text-align: right;\n",
       "    }\n",
       "</style>\n",
       "<table border=\"1\" class=\"dataframe\">\n",
       "  <thead>\n",
       "    <tr style=\"text-align: right;\">\n",
       "      <th></th>\n",
       "      <th>Source</th>\n",
       "      <th>ddof1</th>\n",
       "      <th>ddof2</th>\n",
       "      <th>F</th>\n",
       "      <th>p-unc</th>\n",
       "      <th>np2</th>\n",
       "    </tr>\n",
       "  </thead>\n",
       "  <tbody>\n",
       "    <tr>\n",
       "      <th>0</th>\n",
       "      <td>Group</td>\n",
       "      <td>4</td>\n",
       "      <td>21</td>\n",
       "      <td>0.606511</td>\n",
       "      <td>0.662322</td>\n",
       "      <td>0.103562</td>\n",
       "    </tr>\n",
       "  </tbody>\n",
       "</table>\n",
       "</div>"
      ],
      "text/plain": [
       "  Source  ddof1  ddof2         F     p-unc       np2\n",
       "0  Group      4     21  0.606511  0.662322  0.103562"
      ]
     },
     "execution_count": 51,
     "metadata": {},
     "output_type": "execute_result"
    }
   ],
   "source": [
    "pg.anova(data = ag_df, dv = 'TAMP', between = 'Group')"
   ]
  },
  {
   "cell_type": "code",
   "execution_count": 55,
   "metadata": {},
   "outputs": [
    {
     "data": {
      "image/png": "[encoded data removed]",
      "text/plain": [
       "<Figure size 288x144 with 1 Axes>"
      ]
     },
     "metadata": {
      "needs_background": "light"
     },
     "output_type": "display_data"
    }
   ],
   "source": [
    "TLAT_fig = plt.figure(figsize=(4, 2))\n",
    "ax = sns.boxplot(data = ag_df, x= 'Group', y= 'TLAT', order = ['WT_Saline', 'WT_0.5mg/kg', 'WT_1mg/kg', 'KO_Saline', 'KO_0.5mg/kg'], palette=['royalblue', 'steelblue', 'cornflowerblue', 'forestgreen', 'darkseagreen'], width = 0.3, showmeans = True, meanprops={\"marker\":\"+\", \"markeredgecolor\":\"k\"}, showfliers = False)\n",
    "sns.despine()\n",
    "ax.set_ylabel('TLAT')\n",
    "#ax.set_ylim([0.0, 1.0])\n",
    "ax.set_xticklabels(['WT\\nSaline', 'WT\\n0.5mg/kg', 'WT\\n1mg/kg', 'KO\\nSaline', 'KO\\n0.5mg/kg'])\n",
    "ax.set_xlabel('')\n",
    "plt.tight_layout()"
   ]
  },
  {
   "cell_type": "code",
   "execution_count": 63,
   "metadata": {},
   "outputs": [],
   "source": [
    "TLAT_fig.savefig('/Users/labc02/Documents/PDCB_data/MK-project/Sensory_Gating/Figures/TLAT_fig.svg')"
   ]
  },
  {
   "cell_type": "code",
   "execution_count": 56,
   "metadata": {},
   "outputs": [
    {
     "data": {
      "text/html": [
       "<div>\n",
       "<style scoped>\n",
       "    .dataframe tbody tr th:only-of-type {\n",
       "        vertical-align: middle;\n",
       "    }\n",
       "\n",
       "    .dataframe tbody tr th {\n",
       "        vertical-align: top;\n",
       "    }\n",
       "\n",
       "    .dataframe thead th {\n",
       "        text-align: right;\n",
       "    }\n",
       "</style>\n",
       "<table border=\"1\" class=\"dataframe\">\n",
       "  <thead>\n",
       "    <tr style=\"text-align: right;\">\n",
       "      <th></th>\n",
       "      <th>W</th>\n",
       "      <th>pval</th>\n",
       "      <th>normal</th>\n",
       "    </tr>\n",
       "  </thead>\n",
       "  <tbody>\n",
       "    <tr>\n",
       "      <th>WT_1mg/kg</th>\n",
       "      <td>0.880003</td>\n",
       "      <td>0.309326</td>\n",
       "      <td>True</td>\n",
       "    </tr>\n",
       "    <tr>\n",
       "      <th>KO_0.5mg/kg</th>\n",
       "      <td>0.953862</td>\n",
       "      <td>0.771411</td>\n",
       "      <td>True</td>\n",
       "    </tr>\n",
       "    <tr>\n",
       "      <th>WT_0.5mg/kg</th>\n",
       "      <td>0.779989</td>\n",
       "      <td>0.038537</td>\n",
       "      <td>False</td>\n",
       "    </tr>\n",
       "    <tr>\n",
       "      <th>WT_Saline</th>\n",
       "      <td>0.829284</td>\n",
       "      <td>0.137409</td>\n",
       "      <td>True</td>\n",
       "    </tr>\n",
       "    <tr>\n",
       "      <th>KO_Saline</th>\n",
       "      <td>0.865437</td>\n",
       "      <td>0.280158</td>\n",
       "      <td>True</td>\n",
       "    </tr>\n",
       "  </tbody>\n",
       "</table>\n",
       "</div>"
      ],
      "text/plain": [
       "                    W      pval  normal\n",
       "WT_1mg/kg    0.880003  0.309326    True\n",
       "KO_0.5mg/kg  0.953862  0.771411    True\n",
       "WT_0.5mg/kg  0.779989  0.038537   False\n",
       "WT_Saline    0.829284  0.137409    True\n",
       "KO_Saline    0.865437  0.280158    True"
      ]
     },
     "execution_count": 56,
     "metadata": {},
     "output_type": "execute_result"
    }
   ],
   "source": [
    "pg.normality(data = ag_df, dv = 'TLAT', group = 'Group')"
   ]
  },
  {
   "cell_type": "code",
   "execution_count": 57,
   "metadata": {},
   "outputs": [
    {
     "data": {
      "text/html": [
       "<div>\n",
       "<style scoped>\n",
       "    .dataframe tbody tr th:only-of-type {\n",
       "        vertical-align: middle;\n",
       "    }\n",
       "\n",
       "    .dataframe tbody tr th {\n",
       "        vertical-align: top;\n",
       "    }\n",
       "\n",
       "    .dataframe thead th {\n",
       "        text-align: right;\n",
       "    }\n",
       "</style>\n",
       "<table border=\"1\" class=\"dataframe\">\n",
       "  <thead>\n",
       "    <tr style=\"text-align: right;\">\n",
       "      <th></th>\n",
       "      <th>Source</th>\n",
       "      <th>ddof1</th>\n",
       "      <th>ddof2</th>\n",
       "      <th>F</th>\n",
       "      <th>p-unc</th>\n",
       "      <th>np2</th>\n",
       "    </tr>\n",
       "  </thead>\n",
       "  <tbody>\n",
       "    <tr>\n",
       "      <th>0</th>\n",
       "      <td>Group</td>\n",
       "      <td>4</td>\n",
       "      <td>21</td>\n",
       "      <td>0.592691</td>\n",
       "      <td>0.671716</td>\n",
       "      <td>0.101441</td>\n",
       "    </tr>\n",
       "  </tbody>\n",
       "</table>\n",
       "</div>"
      ],
      "text/plain": [
       "  Source  ddof1  ddof2         F     p-unc       np2\n",
       "0  Group      4     21  0.592691  0.671716  0.101441"
      ]
     },
     "execution_count": 57,
     "metadata": {},
     "output_type": "execute_result"
    }
   ],
   "source": [
    "pg.anova(data = ag_df, dv = 'TLAT', between = 'Group')"
   ]
  },
  {
   "cell_type": "code",
   "execution_count": null,
   "metadata": {},
   "outputs": [],
   "source": []
  }
 ],
 "metadata": {
  "kernelspec": {
   "display_name": "Python 3",
   "language": "python",
   "name": "python3"
  },
  "language_info": {
   "codemirror_mode": {
    "name": "ipython",
    "version": 3
   },
   "file_extension": ".py",
   "mimetype": "text/x-python",
   "name": "python",
   "nbconvert_exporter": "python",
   "pygments_lexer": "ipython3",
   "version": "3.8.2"
  }
 },
 "nbformat": 4,
 "nbformat_minor": 4
}
