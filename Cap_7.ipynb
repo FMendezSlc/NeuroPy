{
 "cells": [
  {
   "cell_type": "markdown",
   "metadata": {},
   "source": [
    "### Problema 5) Estudio de la corriente L y T de Calcio."
   ]
  },
  {
   "cell_type": "markdown",
   "metadata": {},
   "source": [
    "Para obtener reistros de estas corrientes de calcio haría experimentos en fijación de voltage.\n",
    "\n",
    "Desde un potencial hiperpolarizado (< -80 mV), con inyección de pasos depolarizantes peuqeños de voltage podemos obtener primeramente una aproximación del potecial al cual se activan las disferentes corrientes. Las cuales deben ser entrantes. \n",
    "\n",
    "La corriente T deberá aparecer primero a potenciales cercanos al potencial en reposo (-70 mV) con una rápida inactivación a pasos mayores de depolirazación. La inactivación de la corriente será parcial ya que estará contaminada por la corriente L. Para una mejor visualización de estas corrientes es aconsejable agregar bloqueadores de las corrientes de potasio (TEA, 4-AP) que se activarán en potenciales depolarizantes.\n",
    "\n",
    "Una primera aproximación derivada de este experimento puede obtenerse al restar las corrientes activada por pasos de voltage desde dos niveles de hiperpolarización diferentes como -50 y -80 mV.\n",
    "\n",
    "Posteriormente, este mismo experimento puede realizarse agregando además un bloqueador específico para cda corriente, como nifedipino o nimodipino para bloquear la corriente L y niquel para la corriente T.\n",
    "\n",
    "Finalmente, puede estudiarse el efecto diferencial de la acetilcolina en estas corrientes, la cual es un agonista de la corriente T, pero un antagonista de la corriente L."
   ]
  },
  {
   "cell_type": "markdown",
   "metadata": {},
   "source": [
    "### Problema 9) INa fast vs INa slow"
   ]
  },
  {
   "cell_type": "markdown",
   "metadata": {},
   "source": [
    "En la mayoría de las neuronas existen dos tipos de corrientes de sodio sensibles a TTX que sin embargo difieren mucho en sus caractríaticas de activación e inactivación.\n",
    "\n",
    "La corriente rápida de sodio, INa fast, es la corriente que media el potencial de acción. Es la corriente originalmente descrita en el modelo de Hodgkin y Huxley y tienen cinéticas de activación e inactivación rápidas, lo que genera la forma característica del potencial de acción, donde si bien tambíen aportan a su duración las corrientes de potasio, si se les inactiva tenemos aún una corriente transitoria que se inactivda en poco tiempo por sí misma.\n",
    "\n",
    "En cambio, la corriente lenta, INa slow, no se inactiva o se inactiva muy lentamente y su activación ocurre a un potencial más negativo (~ -65 mV). Puede estar, por lo tanto, activada a un potencial cercano al reposo. Una explicación para este comportamiento es que las compuertas de activación e inactivación tienen una ventana de potencial de sobrelape en cuya región tanto la inactivación como la activación tienen una probabilidad diferente a cero.\n",
    "\n",
    "La presencia de este potencial tiene varias implicaciones fisiológicas; la primera es que esta corriente podría activarse por pequeños eventos depolarizantes como los potenciales sinápticos excitadores, lo que incrementería o amplificaría su efecto depolarizante sobre la neurona. \n",
    "La segunda es que esta corriente podría activarse junto con la corriente rápida en la generación de un potencial de acción, pero debido a su inactivación lenta, mantener a la neurona en una meseta de depolarización que permitiría la actividad en ráfaga sostenida."
   ]
  }
 ],
 "metadata": {
  "kernelspec": {
   "display_name": "Python 3",
   "language": "python",
   "name": "python3"
  },
  "language_info": {
   "codemirror_mode": {
    "name": "ipython",
    "version": 3
   },
   "file_extension": ".py",
   "mimetype": "text/x-python",
   "name": "python",
   "nbconvert_exporter": "python",
   "pygments_lexer": "ipython3",
   "version": "3.8.2"
  }
 },
 "nbformat": 4,
 "nbformat_minor": 4
}
