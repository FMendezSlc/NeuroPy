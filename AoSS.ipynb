{
 "cells": [
  {
   "cell_type": "markdown",
   "metadata": {},
   "source": [
    "# Behavior Analysis"
   ]
  },
  {
   "cell_type": "markdown",
   "metadata": {},
   "source": [
    "## Assesing Sex as a Statistically Significant Factor"
   ]
  },
  {
   "cell_type": "code",
   "execution_count": 2,
   "metadata": {},
   "outputs": [],
   "source": [
    "import matplotlib.pyplot as plt\n",
    "import pandas as pd\n",
    "import seaborn as sns\n",
    "import pingouin as pg"
   ]
  },
  {
   "cell_type": "markdown",
   "metadata": {},
   "source": [
    "## Open Field"
   ]
  },
  {
   "cell_type": "code",
   "execution_count": 3,
   "metadata": {},
   "outputs": [],
   "source": [
    "of_raw = pd.read_csv('/Users/labc02/Documents/PDCB_data/Behavior/Open_Field/Open_Field_pool.csv')"
   ]
  },
  {
   "cell_type": "code",
   "execution_count": 4,
   "metadata": {},
   "outputs": [],
   "source": [
    "of_raw.rename(columns={'Subject Name':'Name', 'Subject Group': 'Group', 'Subject Gender':'Sex', 'Subject Genotype':'Genotype', 'Total Distance':'Distance', 'Time in Zone (%) - Center':'Time_in_Center'}, inplace = True)"
   ]
  },
  {
   "cell_type": "markdown",
   "metadata": {},
   "source": [
    "#### Check Normality for Total Distance, Corsses, Time in Center per group"
   ]
  },
  {
   "cell_type": "code",
   "execution_count": 5,
   "metadata": {},
   "outputs": [
    {
     "name": "stdout",
     "output_type": "stream",
     "text": [
      "Normality test (Shapiro), Distance\n",
      "            W      pval  normal\n",
      "KOF  0.893278  0.250967    True\n",
      "KOM  0.898312  0.278996    True\n",
      "WTF  0.808044  0.049156   False\n",
      "WTM  0.859051  0.093632    True\n",
      "Normality test (Shapiro), Crosses\n",
      "            W      pval  normal\n",
      "KOF  0.920730  0.435819    True\n",
      "KOM  0.950585  0.717135    True\n",
      "WTF  0.945284  0.686676    True\n",
      "WTM  0.931077  0.491669    True\n",
      "Normality test (Shapiro), Time_in_Center\n",
      "            W      pval  normal\n",
      "KOF  0.929021  0.507204    True\n",
      "KOM  0.944262  0.653440    True\n",
      "WTF  0.849858  0.122533    True\n",
      "WTM  0.954134  0.735383    True\n"
     ]
    }
   ],
   "source": [
    "for var_ in ['Distance', 'Crosses', 'Time_in_Center']:\n",
    "    print(f'Normality test (Shapiro), {var_}')\n",
    "    print(pg.normality(of_raw, dv=var_, group='Group'))"
   ]
  },
  {
   "cell_type": "markdown",
   "metadata": {},
   "source": [
    "#### Check homoscedasticity; Leven's Test"
   ]
  },
  {
   "cell_type": "code",
   "execution_count": 6,
   "metadata": {},
   "outputs": [
    {
     "name": "stdout",
     "output_type": "stream",
     "text": [
      "Normality test (Shapiro), Distance\n",
      "               W      pval  equal_var\n",
      "levene  1.637141  0.203219       True\n",
      "Normality test (Shapiro), Crosses\n",
      "               W      pval  equal_var\n",
      "levene  0.281895  0.838005       True\n",
      "Normality test (Shapiro), Time_in_Center\n",
      "               W      pval  equal_var\n",
      "levene  3.171074  0.039658      False\n"
     ]
    }
   ],
   "source": [
    "for var_ in ['Distance', 'Crosses', 'Time_in_Center']:\n",
    "    print(f'Normality test (Shapiro), {var_}')\n",
    "    print(pg.homoscedasticity(of_raw, dv=var_, group='Group'))"
   ]
  },
  {
   "cell_type": "markdown",
   "metadata": {},
   "source": [
    "#### Total Distance; normality passed, homoscedasticity passed -> N-way anova"
   ]
  },
  {
   "cell_type": "code",
   "execution_count": 7,
   "metadata": {},
   "outputs": [
    {
     "data": {
      "text/html": [
       "<div>\n",
       "<style scoped>\n",
       "    .dataframe tbody tr th:only-of-type {\n",
       "        vertical-align: middle;\n",
       "    }\n",
       "\n",
       "    .dataframe tbody tr th {\n",
       "        vertical-align: top;\n",
       "    }\n",
       "\n",
       "    .dataframe thead th {\n",
       "        text-align: right;\n",
       "    }\n",
       "</style>\n",
       "<table border=\"1\" class=\"dataframe\">\n",
       "  <thead>\n",
       "    <tr style=\"text-align: right;\">\n",
       "      <th></th>\n",
       "      <th>Source</th>\n",
       "      <th>SS</th>\n",
       "      <th>DF</th>\n",
       "      <th>MS</th>\n",
       "      <th>F</th>\n",
       "      <th>p-unc</th>\n",
       "      <th>np2</th>\n",
       "    </tr>\n",
       "  </thead>\n",
       "  <tbody>\n",
       "    <tr>\n",
       "      <th>0</th>\n",
       "      <td>Sex</td>\n",
       "      <td>1.825300e+05</td>\n",
       "      <td>1.0</td>\n",
       "      <td>1.825300e+05</td>\n",
       "      <td>0.147029</td>\n",
       "      <td>0.704287</td>\n",
       "      <td>0.005224</td>\n",
       "    </tr>\n",
       "    <tr>\n",
       "      <th>1</th>\n",
       "      <td>Genotype</td>\n",
       "      <td>1.488280e+07</td>\n",
       "      <td>1.0</td>\n",
       "      <td>1.488280e+07</td>\n",
       "      <td>11.988174</td>\n",
       "      <td>0.001738</td>\n",
       "      <td>0.299793</td>\n",
       "    </tr>\n",
       "    <tr>\n",
       "      <th>2</th>\n",
       "      <td>Sex * Genotype</td>\n",
       "      <td>2.155941e+05</td>\n",
       "      <td>1.0</td>\n",
       "      <td>2.155941e+05</td>\n",
       "      <td>0.173662</td>\n",
       "      <td>0.680055</td>\n",
       "      <td>0.006164</td>\n",
       "    </tr>\n",
       "    <tr>\n",
       "      <th>3</th>\n",
       "      <td>Residual</td>\n",
       "      <td>3.476080e+07</td>\n",
       "      <td>28.0</td>\n",
       "      <td>1.241457e+06</td>\n",
       "      <td>NaN</td>\n",
       "      <td>NaN</td>\n",
       "      <td>NaN</td>\n",
       "    </tr>\n",
       "  </tbody>\n",
       "</table>\n",
       "</div>"
      ],
      "text/plain": [
       "           Source            SS    DF            MS          F     p-unc  \\\n",
       "0             Sex  1.825300e+05   1.0  1.825300e+05   0.147029  0.704287   \n",
       "1        Genotype  1.488280e+07   1.0  1.488280e+07  11.988174  0.001738   \n",
       "2  Sex * Genotype  2.155941e+05   1.0  2.155941e+05   0.173662  0.680055   \n",
       "3        Residual  3.476080e+07  28.0  1.241457e+06        NaN       NaN   \n",
       "\n",
       "        np2  \n",
       "0  0.005224  \n",
       "1  0.299793  \n",
       "2  0.006164  \n",
       "3       NaN  "
      ]
     },
     "execution_count": 7,
     "metadata": {},
     "output_type": "execute_result"
    }
   ],
   "source": [
    "pg.anova(data = of_raw, dv='Distance', between = ['Sex', 'Genotype'])"
   ]
  },
  {
   "cell_type": "markdown",
   "metadata": {},
   "source": [
    "Thus, we got a significant Two-Way ANOVA that shows that Sex is not a significant factor, though. Not even by interaction with the significant factor; Genotype.\n",
    "Collapsing the Sex category leaves a two group comparison."
   ]
  },
  {
   "cell_type": "markdown",
   "metadata": {},
   "source": [
    "#### Normality check for Genotype, collapsing Sex"
   ]
  },
  {
   "cell_type": "code",
   "execution_count": 8,
   "metadata": {},
   "outputs": [
    {
     "data": {
      "text/html": [
       "<div>\n",
       "<style scoped>\n",
       "    .dataframe tbody tr th:only-of-type {\n",
       "        vertical-align: middle;\n",
       "    }\n",
       "\n",
       "    .dataframe tbody tr th {\n",
       "        vertical-align: top;\n",
       "    }\n",
       "\n",
       "    .dataframe thead th {\n",
       "        text-align: right;\n",
       "    }\n",
       "</style>\n",
       "<table border=\"1\" class=\"dataframe\">\n",
       "  <thead>\n",
       "    <tr style=\"text-align: right;\">\n",
       "      <th></th>\n",
       "      <th>W</th>\n",
       "      <th>pval</th>\n",
       "      <th>normal</th>\n",
       "    </tr>\n",
       "  </thead>\n",
       "  <tbody>\n",
       "    <tr>\n",
       "      <th>KO</th>\n",
       "      <td>0.900918</td>\n",
       "      <td>0.083137</td>\n",
       "      <td>True</td>\n",
       "    </tr>\n",
       "    <tr>\n",
       "      <th>WT</th>\n",
       "      <td>0.868974</td>\n",
       "      <td>0.026231</td>\n",
       "      <td>False</td>\n",
       "    </tr>\n",
       "  </tbody>\n",
       "</table>\n",
       "</div>"
      ],
      "text/plain": [
       "           W      pval  normal\n",
       "KO  0.900918  0.083137    True\n",
       "WT  0.868974  0.026231   False"
      ]
     },
     "execution_count": 8,
     "metadata": {},
     "output_type": "execute_result"
    }
   ],
   "source": [
    "pg.normality(of_raw, dv='Distance', group='Genotype')"
   ]
  },
  {
   "cell_type": "markdown",
   "metadata": {},
   "source": [
    "Normality Failed -> Mann-Whitney U"
   ]
  },
  {
   "cell_type": "code",
   "execution_count": 9,
   "metadata": {},
   "outputs": [
    {
     "data": {
      "text/html": [
       "<div>\n",
       "<style scoped>\n",
       "    .dataframe tbody tr th:only-of-type {\n",
       "        vertical-align: middle;\n",
       "    }\n",
       "\n",
       "    .dataframe tbody tr th {\n",
       "        vertical-align: top;\n",
       "    }\n",
       "\n",
       "    .dataframe thead th {\n",
       "        text-align: right;\n",
       "    }\n",
       "</style>\n",
       "<table border=\"1\" class=\"dataframe\">\n",
       "  <thead>\n",
       "    <tr style=\"text-align: right;\">\n",
       "      <th></th>\n",
       "      <th>U-val</th>\n",
       "      <th>tail</th>\n",
       "      <th>p-val</th>\n",
       "      <th>RBC</th>\n",
       "      <th>CLES</th>\n",
       "    </tr>\n",
       "  </thead>\n",
       "  <tbody>\n",
       "    <tr>\n",
       "      <th>MWU</th>\n",
       "      <td>200.0</td>\n",
       "      <td>two-sided</td>\n",
       "      <td>0.007044</td>\n",
       "      <td>-0.5625</td>\n",
       "      <td>0.78125</td>\n",
       "    </tr>\n",
       "  </tbody>\n",
       "</table>\n",
       "</div>"
      ],
      "text/plain": [
       "     U-val       tail     p-val     RBC     CLES\n",
       "MWU  200.0  two-sided  0.007044 -0.5625  0.78125"
      ]
     },
     "execution_count": 9,
     "metadata": {},
     "output_type": "execute_result"
    }
   ],
   "source": [
    "pg.mwu(x=of_raw['Distance'][of_raw['Genotype'] == 'WT'], y=of_raw['Distance'][of_raw['Genotype'] == 'KO'])"
   ]
  },
  {
   "cell_type": "markdown",
   "metadata": {},
   "source": [
    "Significant difference: p≤ 0.05"
   ]
  },
  {
   "cell_type": "markdown",
   "metadata": {},
   "source": [
    "### Same approach for Crosses\n",
    "Normality: Passed\n",
    "\n",
    "Homoscedasticity: Passed\n",
    "\n",
    "Test: Two-Way ANOVA"
   ]
  },
  {
   "cell_type": "code",
   "execution_count": 10,
   "metadata": {},
   "outputs": [
    {
     "data": {
      "text/html": [
       "<div>\n",
       "<style scoped>\n",
       "    .dataframe tbody tr th:only-of-type {\n",
       "        vertical-align: middle;\n",
       "    }\n",
       "\n",
       "    .dataframe tbody tr th {\n",
       "        vertical-align: top;\n",
       "    }\n",
       "\n",
       "    .dataframe thead th {\n",
       "        text-align: right;\n",
       "    }\n",
       "</style>\n",
       "<table border=\"1\" class=\"dataframe\">\n",
       "  <thead>\n",
       "    <tr style=\"text-align: right;\">\n",
       "      <th></th>\n",
       "      <th>Source</th>\n",
       "      <th>SS</th>\n",
       "      <th>DF</th>\n",
       "      <th>MS</th>\n",
       "      <th>F</th>\n",
       "      <th>p-unc</th>\n",
       "      <th>np2</th>\n",
       "    </tr>\n",
       "  </thead>\n",
       "  <tbody>\n",
       "    <tr>\n",
       "      <th>0</th>\n",
       "      <td>Sex</td>\n",
       "      <td>5.954724</td>\n",
       "      <td>1.0</td>\n",
       "      <td>5.954724</td>\n",
       "      <td>0.077077</td>\n",
       "      <td>0.783338</td>\n",
       "      <td>0.002745</td>\n",
       "    </tr>\n",
       "    <tr>\n",
       "      <th>1</th>\n",
       "      <td>Genotype</td>\n",
       "      <td>560.041734</td>\n",
       "      <td>1.0</td>\n",
       "      <td>560.041734</td>\n",
       "      <td>7.249086</td>\n",
       "      <td>0.011840</td>\n",
       "      <td>0.205653</td>\n",
       "    </tr>\n",
       "    <tr>\n",
       "      <th>2</th>\n",
       "      <td>Sex * Genotype</td>\n",
       "      <td>145.040315</td>\n",
       "      <td>1.0</td>\n",
       "      <td>145.040315</td>\n",
       "      <td>1.877377</td>\n",
       "      <td>0.181519</td>\n",
       "      <td>0.062836</td>\n",
       "    </tr>\n",
       "    <tr>\n",
       "      <th>3</th>\n",
       "      <td>Residual</td>\n",
       "      <td>2163.192460</td>\n",
       "      <td>28.0</td>\n",
       "      <td>77.256874</td>\n",
       "      <td>NaN</td>\n",
       "      <td>NaN</td>\n",
       "      <td>NaN</td>\n",
       "    </tr>\n",
       "  </tbody>\n",
       "</table>\n",
       "</div>"
      ],
      "text/plain": [
       "           Source           SS    DF          MS         F     p-unc       np2\n",
       "0             Sex     5.954724   1.0    5.954724  0.077077  0.783338  0.002745\n",
       "1        Genotype   560.041734   1.0  560.041734  7.249086  0.011840  0.205653\n",
       "2  Sex * Genotype   145.040315   1.0  145.040315  1.877377  0.181519  0.062836\n",
       "3        Residual  2163.192460  28.0   77.256874       NaN       NaN       NaN"
      ]
     },
     "execution_count": 10,
     "metadata": {},
     "output_type": "execute_result"
    }
   ],
   "source": [
    "pg.anova(data = of_raw, dv='Crosses', between = ['Sex', 'Genotype'])"
   ]
  },
  {
   "cell_type": "markdown",
   "metadata": {},
   "source": [
    "Same conclusion. Perform normality for collapsed category: Sex"
   ]
  },
  {
   "cell_type": "code",
   "execution_count": 11,
   "metadata": {},
   "outputs": [
    {
     "data": {
      "text/html": [
       "<div>\n",
       "<style scoped>\n",
       "    .dataframe tbody tr th:only-of-type {\n",
       "        vertical-align: middle;\n",
       "    }\n",
       "\n",
       "    .dataframe tbody tr th {\n",
       "        vertical-align: top;\n",
       "    }\n",
       "\n",
       "    .dataframe thead th {\n",
       "        text-align: right;\n",
       "    }\n",
       "</style>\n",
       "<table border=\"1\" class=\"dataframe\">\n",
       "  <thead>\n",
       "    <tr style=\"text-align: right;\">\n",
       "      <th></th>\n",
       "      <th>W</th>\n",
       "      <th>pval</th>\n",
       "      <th>normal</th>\n",
       "    </tr>\n",
       "  </thead>\n",
       "  <tbody>\n",
       "    <tr>\n",
       "      <th>KO</th>\n",
       "      <td>0.952178</td>\n",
       "      <td>0.524968</td>\n",
       "      <td>True</td>\n",
       "    </tr>\n",
       "    <tr>\n",
       "      <th>WT</th>\n",
       "      <td>0.947595</td>\n",
       "      <td>0.452579</td>\n",
       "      <td>True</td>\n",
       "    </tr>\n",
       "  </tbody>\n",
       "</table>\n",
       "</div>"
      ],
      "text/plain": [
       "           W      pval  normal\n",
       "KO  0.952178  0.524968    True\n",
       "WT  0.947595  0.452579    True"
      ]
     },
     "execution_count": 11,
     "metadata": {},
     "output_type": "execute_result"
    }
   ],
   "source": [
    "pg.normality(of_raw, dv='Crosses', group='Genotype')"
   ]
  },
  {
   "cell_type": "markdown",
   "metadata": {},
   "source": [
    "Normality Passed.\n",
    "Test: unparied t-Test"
   ]
  },
  {
   "cell_type": "code",
   "execution_count": 12,
   "metadata": {},
   "outputs": [
    {
     "data": {
      "text/html": [
       "<div>\n",
       "<style scoped>\n",
       "    .dataframe tbody tr th:only-of-type {\n",
       "        vertical-align: middle;\n",
       "    }\n",
       "\n",
       "    .dataframe tbody tr th {\n",
       "        vertical-align: top;\n",
       "    }\n",
       "\n",
       "    .dataframe thead th {\n",
       "        text-align: right;\n",
       "    }\n",
       "</style>\n",
       "<table border=\"1\" class=\"dataframe\">\n",
       "  <thead>\n",
       "    <tr style=\"text-align: right;\">\n",
       "      <th></th>\n",
       "      <th>T</th>\n",
       "      <th>dof</th>\n",
       "      <th>tail</th>\n",
       "      <th>p-val</th>\n",
       "      <th>CI95%</th>\n",
       "      <th>cohen-d</th>\n",
       "      <th>BF10</th>\n",
       "      <th>power</th>\n",
       "    </tr>\n",
       "  </thead>\n",
       "  <tbody>\n",
       "    <tr>\n",
       "      <th>T-test</th>\n",
       "      <td>2.717191</td>\n",
       "      <td>30</td>\n",
       "      <td>two-sided</td>\n",
       "      <td>0.010826</td>\n",
       "      <td>[2.1, 14.78]</td>\n",
       "      <td>0.960672</td>\n",
       "      <td>4.769</td>\n",
       "      <td>0.748377</td>\n",
       "    </tr>\n",
       "  </tbody>\n",
       "</table>\n",
       "</div>"
      ],
      "text/plain": [
       "               T  dof       tail     p-val         CI95%   cohen-d   BF10  \\\n",
       "T-test  2.717191   30  two-sided  0.010826  [2.1, 14.78]  0.960672  4.769   \n",
       "\n",
       "           power  \n",
       "T-test  0.748377  "
      ]
     },
     "execution_count": 12,
     "metadata": {},
     "output_type": "execute_result"
    }
   ],
   "source": [
    "pg.ttest(x=of_raw['Crosses'][of_raw['Genotype'] == 'WT'], y=of_raw['Crosses'][of_raw['Genotype'] == 'KO'])"
   ]
  },
  {
   "cell_type": "markdown",
   "metadata": {},
   "source": [
    "Again, a significant result, p ≤ 0.05, with a high statistical power; 0.75"
   ]
  },
  {
   "cell_type": "markdown",
   "metadata": {},
   "source": [
    "#### Time in Center violated the equivalence of variance principle. Should procede with Welch ANOVA, but it's not Factorial."
   ]
  },
  {
   "cell_type": "code",
   "execution_count": 13,
   "metadata": {},
   "outputs": [
    {
     "data": {
      "text/html": [
       "<div>\n",
       "<style scoped>\n",
       "    .dataframe tbody tr th:only-of-type {\n",
       "        vertical-align: middle;\n",
       "    }\n",
       "\n",
       "    .dataframe tbody tr th {\n",
       "        vertical-align: top;\n",
       "    }\n",
       "\n",
       "    .dataframe thead th {\n",
       "        text-align: right;\n",
       "    }\n",
       "</style>\n",
       "<table border=\"1\" class=\"dataframe\">\n",
       "  <thead>\n",
       "    <tr style=\"text-align: right;\">\n",
       "      <th></th>\n",
       "      <th>W</th>\n",
       "      <th>pval</th>\n",
       "      <th>normal</th>\n",
       "    </tr>\n",
       "  </thead>\n",
       "  <tbody>\n",
       "    <tr>\n",
       "      <th>KO</th>\n",
       "      <td>0.945450</td>\n",
       "      <td>0.421190</td>\n",
       "      <td>True</td>\n",
       "    </tr>\n",
       "    <tr>\n",
       "      <th>WT</th>\n",
       "      <td>0.917852</td>\n",
       "      <td>0.155765</td>\n",
       "      <td>True</td>\n",
       "    </tr>\n",
       "  </tbody>\n",
       "</table>\n",
       "</div>"
      ],
      "text/plain": [
       "           W      pval  normal\n",
       "KO  0.945450  0.421190    True\n",
       "WT  0.917852  0.155765    True"
      ]
     },
     "execution_count": 13,
     "metadata": {},
     "output_type": "execute_result"
    }
   ],
   "source": [
    "pg.normality(of_raw, dv='Time_in_Center', group='Genotype')"
   ]
  },
  {
   "cell_type": "code",
   "execution_count": 14,
   "metadata": {},
   "outputs": [
    {
     "data": {
      "text/html": [
       "<div>\n",
       "<style scoped>\n",
       "    .dataframe tbody tr th:only-of-type {\n",
       "        vertical-align: middle;\n",
       "    }\n",
       "\n",
       "    .dataframe tbody tr th {\n",
       "        vertical-align: top;\n",
       "    }\n",
       "\n",
       "    .dataframe thead th {\n",
       "        text-align: right;\n",
       "    }\n",
       "</style>\n",
       "<table border=\"1\" class=\"dataframe\">\n",
       "  <thead>\n",
       "    <tr style=\"text-align: right;\">\n",
       "      <th></th>\n",
       "      <th>Source</th>\n",
       "      <th>ddof1</th>\n",
       "      <th>ddof2</th>\n",
       "      <th>F</th>\n",
       "      <th>p-unc</th>\n",
       "      <th>np2</th>\n",
       "    </tr>\n",
       "  </thead>\n",
       "  <tbody>\n",
       "    <tr>\n",
       "      <th>0</th>\n",
       "      <td>Group</td>\n",
       "      <td>3</td>\n",
       "      <td>14.353239</td>\n",
       "      <td>0.535941</td>\n",
       "      <td>0.665047</td>\n",
       "      <td>0.020896</td>\n",
       "    </tr>\n",
       "  </tbody>\n",
       "</table>\n",
       "</div>"
      ],
      "text/plain": [
       "  Source  ddof1      ddof2         F     p-unc       np2\n",
       "0  Group      3  14.353239  0.535941  0.665047  0.020896"
      ]
     },
     "execution_count": 14,
     "metadata": {},
     "output_type": "execute_result"
    }
   ],
   "source": [
    "pg.welch_anova(data=of_raw, dv='Time_in_Center', between='Group')"
   ]
  },
  {
   "cell_type": "markdown",
   "metadata": {},
   "source": [
    "#### Nevermind! There's no significant difference in the time spent at center."
   ]
  },
  {
   "cell_type": "markdown",
   "metadata": {},
   "source": [
    "## Social Interaction"
   ]
  },
  {
   "cell_type": "markdown",
   "metadata": {},
   "source": [
    "### Same approach"
   ]
  },
  {
   "cell_type": "code",
   "execution_count": 15,
   "metadata": {},
   "outputs": [],
   "source": [
    "si_raw = pd.read_csv('/Users/labc02/Documents/PDCB_data/Behavior/Social Interaction/Social_Interaction_data.csv')"
   ]
  },
  {
   "cell_type": "code",
   "execution_count": 16,
   "metadata": {},
   "outputs": [],
   "source": [
    "si_clean = si_raw[si_raw['Phase']== 'Sample']"
   ]
  },
  {
   "cell_type": "code",
   "execution_count": 17,
   "metadata": {},
   "outputs": [
    {
     "name": "stderr",
     "output_type": "stream",
     "text": [
      "/opt/miniconda3/envs/databs/lib/python3.8/site-packages/pandas/core/frame.py:4125: SettingWithCopyWarning: \n",
      "A value is trying to be set on a copy of a slice from a DataFrame\n",
      "\n",
      "See the caveats in the documentation: https://pandas.pydata.org/pandas-docs/stable/user_guide/indexing.html#returning-a-view-versus-a-copy\n",
      "  return super().rename(\n"
     ]
    }
   ],
   "source": [
    "si_clean.rename(columns={'Time Object/New Cons Chamber':'Time_Object', 'Time Conspecific Chamber': 'Time_Conspecific', 'Total Exploration': 'Total'}, inplace = True)"
   ]
  },
  {
   "cell_type": "code",
   "execution_count": 18,
   "metadata": {},
   "outputs": [
    {
     "name": "stdout",
     "output_type": "stream",
     "text": [
      "Normality test (Shapiro), Time_Object\n",
      "            W      pval  normal\n",
      "KOF  0.944423  0.516654    True\n",
      "KOM  0.720208  0.000891   False\n",
      "WTF  0.917846  0.301104    True\n",
      "WTM  0.914444  0.275046    True\n",
      "Normality test (Shapiro), Time_Conspecific\n",
      "            W      pval  normal\n",
      "KOF  0.928938  0.330071    True\n",
      "KOM  0.924065  0.284459    True\n",
      "WTF  0.948646  0.626702    True\n",
      "WTM  0.861803  0.060766    True\n",
      "Normality test (Shapiro), Total\n",
      "            W      pval  normal\n",
      "KOF  0.945061  0.525663    True\n",
      "KOM  0.808731  0.008671   False\n",
      "WTF  0.930491  0.415843    True\n",
      "WTM  0.854802  0.049291   False\n"
     ]
    }
   ],
   "source": [
    "for var_ in ['Time_Object', 'Time_Conspecific', 'Total']:\n",
    "    print(f'Normality test (Shapiro), {var_}')\n",
    "    print(pg.normality(data=si_clean, dv=var_, group='Group'))"
   ]
  },
  {
   "cell_type": "code",
   "execution_count": 19,
   "metadata": {},
   "outputs": [],
   "source": [
    "def detec_outlier(df, var_name, var_group):\n",
    "    '''[DataFrame, str, str -> DataFrame]\n",
    "    Outlier detection based on absolute deviaton from the median.\n",
    "    Returns a copy of the original DataFrame without the indexes deemed as outliers'''\n",
    "    clean_df = df.copy()\n",
    "    outliers_idx = []\n",
    "    for var_ in var_name:\n",
    "        for group in df[var_group].unique():\n",
    "            outliers = pg.madmedianrule(df[var_][df[var_group]==group])\n",
    "            out_idx = df[var_][df[var_group]==group][outliers].index.values\n",
    "            for ii in out_idx:\n",
    "                outliers_idx.append(ii)\n",
    "    clean_df.drop(set(outliers_idx), inplace = True)\n",
    "    return clean_df"
   ]
  },
  {
   "cell_type": "markdown",
   "metadata": {},
   "source": [
    "Removing outliers; mad-median rule"
   ]
  },
  {
   "cell_type": "code",
   "execution_count": 20,
   "metadata": {},
   "outputs": [],
   "source": [
    "si_tidy = detec_outlier(si_clean, ['Time_Object', 'Time_Conspecific', 'Total'], 'Group')"
   ]
  },
  {
   "cell_type": "markdown",
   "metadata": {},
   "source": [
    "#### Re-check normality"
   ]
  },
  {
   "cell_type": "code",
   "execution_count": 21,
   "metadata": {},
   "outputs": [
    {
     "name": "stdout",
     "output_type": "stream",
     "text": [
      "Normality test (Shapiro), Time_Object\n",
      "            W      pval  normal\n",
      "KOF  0.935501  0.442069    True\n",
      "KOM  0.923020  0.382836    True\n",
      "WTF  0.917846  0.301104    True\n",
      "WTM  0.970216  0.896569    True\n",
      "Normality test (Shapiro), Time_Conspecific\n",
      "            W      pval  normal\n",
      "KOF  0.931436  0.395579    True\n",
      "KOM  0.916366  0.327636    True\n",
      "WTF  0.948646  0.626702    True\n",
      "WTM  0.930693  0.487973    True\n",
      "Normality test (Shapiro), Total\n",
      "            W      pval  normal\n",
      "KOF  0.945132  0.567252    True\n",
      "KOM  0.960652  0.793276    True\n",
      "WTF  0.930491  0.415843    True\n",
      "WTM  0.938467  0.565858    True\n"
     ]
    }
   ],
   "source": [
    "for var_ in ['Time_Object', 'Time_Conspecific', 'Total']:\n",
    "    print(f'Normality test (Shapiro), {var_}')\n",
    "    print(pg.normality(data=si_tidy, dv=var_, group='Group'))"
   ]
  },
  {
   "cell_type": "markdown",
   "metadata": {},
   "source": [
    "#### Check homoscedasticity"
   ]
  },
  {
   "cell_type": "code",
   "execution_count": 22,
   "metadata": {},
   "outputs": [
    {
     "name": "stdout",
     "output_type": "stream",
     "text": [
      "Normality test (Levene), Time_Object\n",
      "               W      pval  equal_var\n",
      "levene  0.992779  0.406591       True\n",
      "Normality test (Levene), Time_Conspecific\n",
      "               W      pval  equal_var\n",
      "levene  0.611101  0.611966       True\n",
      "Normality test (Levene), Total\n",
      "               W      pval  equal_var\n",
      "levene  4.142158  0.012347      False\n"
     ]
    }
   ],
   "source": [
    "for var_ in ['Time_Object', 'Time_Conspecific', 'Total']:\n",
    "    print(f'Normality test (Levene), {var_}')\n",
    "    print(pg.homoscedasticity(data=si_tidy, dv=var_, group='Group'))"
   ]
  },
  {
   "cell_type": "code",
   "execution_count": 23,
   "metadata": {},
   "outputs": [],
   "source": [
    "samp_time = pd.melt(si_tidy, id_vars=['Subject', 'Group', 'Sex', 'Genotype'], value_vars=['Time_Object', 'Time_Conspecific'], var_name='Side', value_name='Time')"
   ]
  },
  {
   "cell_type": "code",
   "execution_count": 24,
   "metadata": {},
   "outputs": [
    {
     "data": {
      "text/html": [
       "<div>\n",
       "<style scoped>\n",
       "    .dataframe tbody tr th:only-of-type {\n",
       "        vertical-align: middle;\n",
       "    }\n",
       "\n",
       "    .dataframe tbody tr th {\n",
       "        vertical-align: top;\n",
       "    }\n",
       "\n",
       "    .dataframe thead th {\n",
       "        text-align: right;\n",
       "    }\n",
       "</style>\n",
       "<table border=\"1\" class=\"dataframe\">\n",
       "  <thead>\n",
       "    <tr style=\"text-align: right;\">\n",
       "      <th></th>\n",
       "      <th>Source</th>\n",
       "      <th>SS</th>\n",
       "      <th>DF</th>\n",
       "      <th>MS</th>\n",
       "      <th>F</th>\n",
       "      <th>p-unc</th>\n",
       "      <th>np2</th>\n",
       "    </tr>\n",
       "  </thead>\n",
       "  <tbody>\n",
       "    <tr>\n",
       "      <th>0</th>\n",
       "      <td>Sex</td>\n",
       "      <td>151.291092</td>\n",
       "      <td>1.0</td>\n",
       "      <td>151.291092</td>\n",
       "      <td>0.498434</td>\n",
       "      <td>4.823478e-01</td>\n",
       "      <td>0.006516</td>\n",
       "    </tr>\n",
       "    <tr>\n",
       "      <th>1</th>\n",
       "      <td>Genotype</td>\n",
       "      <td>309.317470</td>\n",
       "      <td>1.0</td>\n",
       "      <td>309.317470</td>\n",
       "      <td>1.019057</td>\n",
       "      <td>3.159460e-01</td>\n",
       "      <td>0.013231</td>\n",
       "    </tr>\n",
       "    <tr>\n",
       "      <th>2</th>\n",
       "      <td>Side</td>\n",
       "      <td>68571.428571</td>\n",
       "      <td>1.0</td>\n",
       "      <td>68571.428571</td>\n",
       "      <td>225.910915</td>\n",
       "      <td>1.806106e-24</td>\n",
       "      <td>0.748270</td>\n",
       "    </tr>\n",
       "    <tr>\n",
       "      <th>3</th>\n",
       "      <td>Sex * Genotype</td>\n",
       "      <td>115.598555</td>\n",
       "      <td>1.0</td>\n",
       "      <td>115.598555</td>\n",
       "      <td>0.380843</td>\n",
       "      <td>5.389967e-01</td>\n",
       "      <td>0.004986</td>\n",
       "    </tr>\n",
       "    <tr>\n",
       "      <th>4</th>\n",
       "      <td>Sex * Side</td>\n",
       "      <td>5320.438465</td>\n",
       "      <td>1.0</td>\n",
       "      <td>5320.438465</td>\n",
       "      <td>17.528366</td>\n",
       "      <td>7.538056e-05</td>\n",
       "      <td>0.187412</td>\n",
       "    </tr>\n",
       "    <tr>\n",
       "      <th>5</th>\n",
       "      <td>Genotype * Side</td>\n",
       "      <td>5495.574246</td>\n",
       "      <td>1.0</td>\n",
       "      <td>5495.574246</td>\n",
       "      <td>18.105357</td>\n",
       "      <td>5.897705e-05</td>\n",
       "      <td>0.192395</td>\n",
       "    </tr>\n",
       "    <tr>\n",
       "      <th>6</th>\n",
       "      <td>Sex * Genotype * Side</td>\n",
       "      <td>3896.114818</td>\n",
       "      <td>1.0</td>\n",
       "      <td>3896.114818</td>\n",
       "      <td>12.835883</td>\n",
       "      <td>5.975480e-04</td>\n",
       "      <td>0.144490</td>\n",
       "    </tr>\n",
       "    <tr>\n",
       "      <th>7</th>\n",
       "      <td>Residual</td>\n",
       "      <td>23068.511616</td>\n",
       "      <td>76.0</td>\n",
       "      <td>303.533048</td>\n",
       "      <td>NaN</td>\n",
       "      <td>NaN</td>\n",
       "      <td>NaN</td>\n",
       "    </tr>\n",
       "  </tbody>\n",
       "</table>\n",
       "</div>"
      ],
      "text/plain": [
       "                  Source            SS    DF            MS           F  \\\n",
       "0                    Sex    151.291092   1.0    151.291092    0.498434   \n",
       "1               Genotype    309.317470   1.0    309.317470    1.019057   \n",
       "2                   Side  68571.428571   1.0  68571.428571  225.910915   \n",
       "3         Sex * Genotype    115.598555   1.0    115.598555    0.380843   \n",
       "4             Sex * Side   5320.438465   1.0   5320.438465   17.528366   \n",
       "5        Genotype * Side   5495.574246   1.0   5495.574246   18.105357   \n",
       "6  Sex * Genotype * Side   3896.114818   1.0   3896.114818   12.835883   \n",
       "7               Residual  23068.511616  76.0    303.533048         NaN   \n",
       "\n",
       "          p-unc       np2  \n",
       "0  4.823478e-01  0.006516  \n",
       "1  3.159460e-01  0.013231  \n",
       "2  1.806106e-24  0.748270  \n",
       "3  5.389967e-01  0.004986  \n",
       "4  7.538056e-05  0.187412  \n",
       "5  5.897705e-05  0.192395  \n",
       "6  5.975480e-04  0.144490  \n",
       "7           NaN       NaN  "
      ]
     },
     "execution_count": 24,
     "metadata": {},
     "output_type": "execute_result"
    }
   ],
   "source": [
    "pg.anova(data=samp_time, dv='Time', between=['Sex', 'Genotype', 'Side'])"
   ]
  },
  {
   "cell_type": "markdown",
   "metadata": {},
   "source": [
    "### Geting complicated\n",
    "\n",
    "Neither Sex or Genotype is a factor on their own. But the interaction Sex * Side IS significant. Genotype * Side IS ALSO significant.\n",
    "\n",
    "There's sexual dimorfism in social interaction."
   ]
  },
  {
   "cell_type": "code",
   "execution_count": 25,
   "metadata": {},
   "outputs": [
    {
     "data": {
      "text/html": [
       "<div>\n",
       "<style scoped>\n",
       "    .dataframe tbody tr th:only-of-type {\n",
       "        vertical-align: middle;\n",
       "    }\n",
       "\n",
       "    .dataframe tbody tr th {\n",
       "        vertical-align: top;\n",
       "    }\n",
       "\n",
       "    .dataframe thead th {\n",
       "        text-align: right;\n",
       "    }\n",
       "</style>\n",
       "<table border=\"1\" class=\"dataframe\">\n",
       "  <thead>\n",
       "    <tr style=\"text-align: right;\">\n",
       "      <th></th>\n",
       "      <th>Source</th>\n",
       "      <th>SS</th>\n",
       "      <th>DF</th>\n",
       "      <th>MS</th>\n",
       "      <th>F</th>\n",
       "      <th>p-unc</th>\n",
       "      <th>np2</th>\n",
       "    </tr>\n",
       "  </thead>\n",
       "  <tbody>\n",
       "    <tr>\n",
       "      <th>0</th>\n",
       "      <td>Sex</td>\n",
       "      <td>302.582184</td>\n",
       "      <td>1.0</td>\n",
       "      <td>302.582184</td>\n",
       "      <td>0.995574</td>\n",
       "      <td>0.324695</td>\n",
       "      <td>0.025530</td>\n",
       "    </tr>\n",
       "    <tr>\n",
       "      <th>1</th>\n",
       "      <td>Genotype</td>\n",
       "      <td>618.634940</td>\n",
       "      <td>1.0</td>\n",
       "      <td>618.634940</td>\n",
       "      <td>2.035470</td>\n",
       "      <td>0.161832</td>\n",
       "      <td>0.050842</td>\n",
       "    </tr>\n",
       "    <tr>\n",
       "      <th>2</th>\n",
       "      <td>Sex * Genotype</td>\n",
       "      <td>231.197109</td>\n",
       "      <td>1.0</td>\n",
       "      <td>231.197109</td>\n",
       "      <td>0.760699</td>\n",
       "      <td>0.388588</td>\n",
       "      <td>0.019626</td>\n",
       "    </tr>\n",
       "    <tr>\n",
       "      <th>3</th>\n",
       "      <td>Residual</td>\n",
       "      <td>11549.238889</td>\n",
       "      <td>38.0</td>\n",
       "      <td>303.927339</td>\n",
       "      <td>NaN</td>\n",
       "      <td>NaN</td>\n",
       "      <td>NaN</td>\n",
       "    </tr>\n",
       "  </tbody>\n",
       "</table>\n",
       "</div>"
      ],
      "text/plain": [
       "           Source            SS    DF          MS         F     p-unc  \\\n",
       "0             Sex    302.582184   1.0  302.582184  0.995574  0.324695   \n",
       "1        Genotype    618.634940   1.0  618.634940  2.035470  0.161832   \n",
       "2  Sex * Genotype    231.197109   1.0  231.197109  0.760699  0.388588   \n",
       "3        Residual  11549.238889  38.0  303.927339       NaN       NaN   \n",
       "\n",
       "        np2  \n",
       "0  0.025530  \n",
       "1  0.050842  \n",
       "2  0.019626  \n",
       "3       NaN  "
      ]
     },
     "execution_count": 25,
     "metadata": {},
     "output_type": "execute_result"
    }
   ],
   "source": [
    "pg.anova(data=si_tidy, dv='Total', between=['Sex', 'Genotype'])"
   ]
  },
  {
   "cell_type": "markdown",
   "metadata": {},
   "source": [
    "#### There's no difference in the total time spent exploring both chambers."
   ]
  },
  {
   "cell_type": "code",
   "execution_count": null,
   "metadata": {},
   "outputs": [],
   "source": []
  }
 ],
 "metadata": {
  "kernelspec": {
   "display_name": "Python 3",
   "language": "python",
   "name": "python3"
  },
  "language_info": {
   "codemirror_mode": {
    "name": "ipython",
    "version": 3
   },
   "file_extension": ".py",
   "mimetype": "text/x-python",
   "name": "python",
   "nbconvert_exporter": "python",
   "pygments_lexer": "ipython3",
   "version": "3.8.2"
  }
 },
 "nbformat": 4,
 "nbformat_minor": 4
}
