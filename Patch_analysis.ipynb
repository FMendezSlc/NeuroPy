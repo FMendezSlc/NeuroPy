{
 "cells": [
  {
   "cell_type": "code",
   "execution_count": 1,
   "metadata": {},
   "outputs": [
    {
     "name": "stderr",
     "output_type": "stream",
     "text": [
      "/opt/miniconda3/envs/databs/lib/python3.8/site-packages/outdated/utils.py:14: OutdatedPackageWarning: The package pingouin is out of date. Your version is 0.3.6, the latest is 0.3.8.\n",
      "Set the environment variable OUTDATED_IGNORE=1 to disable these warnings.\n",
      "  return warn(\n"
     ]
    }
   ],
   "source": [
    "import matplotlib.pyplot as plt\n",
    "import seaborn as sns\n",
    "import pandas as pd\n",
    "import pingouin as pg\n",
    "import numpy as np"
   ]
  },
  {
   "cell_type": "code",
   "execution_count": 2,
   "metadata": {},
   "outputs": [
    {
     "data": {
      "text/plain": [
       "Index(['Date', 'Genotype', 'Peak', 'Inst Fq', 'Unnamed: 4', 'Unnamed: 5',\n",
       "       'Unnamed: 6'],\n",
       "      dtype='object')"
      ]
     },
     "execution_count": 2,
     "metadata": {},
     "output_type": "execute_result"
    }
   ],
   "source": [
    "psc_df = pd.read_csv('/Users/labc02/Documents/PDCB_data/spPSC_means.csv')\n",
    "psc_df.columns"
   ]
  },
  {
   "cell_type": "code",
   "execution_count": 7,
   "metadata": {},
   "outputs": [
    {
     "data": {
      "text/plain": [
       "Genotype\n",
       "KO    11\n",
       "WT     9\n",
       "Name: Date, dtype: int64"
      ]
     },
     "execution_count": 7,
     "metadata": {},
     "output_type": "execute_result"
    }
   ],
   "source": [
    "psc_df.groupby('Genotype')['Date'].count()"
   ]
  },
  {
   "cell_type": "code",
   "execution_count": 20,
   "metadata": {},
   "outputs": [
    {
     "data": {
      "image/png": "[encoded data removed]",
      "text/plain": [
       "<Figure size 432x288 with 2 Axes>"
      ]
     },
     "metadata": {
      "needs_background": "light"
     },
     "output_type": "display_data"
    }
   ],
   "source": [
    "fig, axs = plt.subplots(1,2)\n",
    "sns.boxplot(x = 'Genotype', y = 'Peak', data = psc_df, order = ['WT', 'KO'], palette = ['royalblue', 'forestgreen'], width = 0.4, ax = axs[0], showfliers = False)\n",
    "axs[0].set_ylim(15,65)\n",
    "axs[0].annotate('**', xy=(0.5, .93), xytext=(0.5, .99), fontsize = 12, xycoords='axes fraction', ha='center',\n",
    "                va='top', arrowprops=dict(arrowstyle='-[, widthB=3.5, lengthB=.2', lw=1.5, color='k'))\n",
    "axs[0].set_title('Amp.')\n",
    "axs[0].set_ylabel('pA')\n",
    "\n",
    "sns.boxplot(x = 'Genotype', y = 'Inst Fq', data = psc_df, order = ['WT', 'KO'], palette = ['royalblue', 'forestgreen'], width = 0.4, ax = axs[1], showfliers = False)\n",
    "axs[1].set_title('Fq')\n",
    "axs[1].set_ylabel('Hz')\n",
    "plt.tight_layout()"
   ]
  },
  {
   "cell_type": "markdown",
   "metadata": {},
   "source": [
    "### Amplitude sPSC"
   ]
  },
  {
   "cell_type": "code",
   "execution_count": 8,
   "metadata": {},
   "outputs": [
    {
     "data": {
      "text/html": [
       "<div>\n",
       "<style scoped>\n",
       "    .dataframe tbody tr th:only-of-type {\n",
       "        vertical-align: middle;\n",
       "    }\n",
       "\n",
       "    .dataframe tbody tr th {\n",
       "        vertical-align: top;\n",
       "    }\n",
       "\n",
       "    .dataframe thead th {\n",
       "        text-align: right;\n",
       "    }\n",
       "</style>\n",
       "<table border=\"1\" class=\"dataframe\">\n",
       "  <thead>\n",
       "    <tr style=\"text-align: right;\">\n",
       "      <th></th>\n",
       "      <th>W</th>\n",
       "      <th>pval</th>\n",
       "      <th>normal</th>\n",
       "    </tr>\n",
       "  </thead>\n",
       "  <tbody>\n",
       "    <tr>\n",
       "      <th>WT</th>\n",
       "      <td>0.808560</td>\n",
       "      <td>0.025563</td>\n",
       "      <td>False</td>\n",
       "    </tr>\n",
       "    <tr>\n",
       "      <th>KO</th>\n",
       "      <td>0.837011</td>\n",
       "      <td>0.028857</td>\n",
       "      <td>False</td>\n",
       "    </tr>\n",
       "  </tbody>\n",
       "</table>\n",
       "</div>"
      ],
      "text/plain": [
       "           W      pval  normal\n",
       "WT  0.808560  0.025563   False\n",
       "KO  0.837011  0.028857   False"
      ]
     },
     "execution_count": 8,
     "metadata": {},
     "output_type": "execute_result"
    }
   ],
   "source": [
    "pg.normality(data = psc_df, dv = 'Peak', group= 'Genotype')"
   ]
  },
  {
   "cell_type": "code",
   "execution_count": 11,
   "metadata": {},
   "outputs": [
    {
     "data": {
      "text/html": [
       "<div>\n",
       "<style scoped>\n",
       "    .dataframe tbody tr th:only-of-type {\n",
       "        vertical-align: middle;\n",
       "    }\n",
       "\n",
       "    .dataframe tbody tr th {\n",
       "        vertical-align: top;\n",
       "    }\n",
       "\n",
       "    .dataframe thead th {\n",
       "        text-align: right;\n",
       "    }\n",
       "</style>\n",
       "<table border=\"1\" class=\"dataframe\">\n",
       "  <thead>\n",
       "    <tr style=\"text-align: right;\">\n",
       "      <th></th>\n",
       "      <th>U-val</th>\n",
       "      <th>tail</th>\n",
       "      <th>p-val</th>\n",
       "      <th>RBC</th>\n",
       "      <th>CLES</th>\n",
       "    </tr>\n",
       "  </thead>\n",
       "  <tbody>\n",
       "    <tr>\n",
       "      <th>MWU</th>\n",
       "      <td>81.0</td>\n",
       "      <td>greater</td>\n",
       "      <td>0.009257</td>\n",
       "      <td>-0.636364</td>\n",
       "      <td>0.818182</td>\n",
       "    </tr>\n",
       "  </tbody>\n",
       "</table>\n",
       "</div>"
      ],
      "text/plain": [
       "     U-val     tail     p-val       RBC      CLES\n",
       "MWU   81.0  greater  0.009257 -0.636364  0.818182"
      ]
     },
     "execution_count": 11,
     "metadata": {},
     "output_type": "execute_result"
    }
   ],
   "source": [
    "pg.mwu(psc_df['Peak'][psc_df['Genotype']=='WT'], psc_df['Peak'][psc_df['Genotype']=='KO'], 'one-sided')"
   ]
  },
  {
   "cell_type": "markdown",
   "metadata": {},
   "source": [
    "### Instantaneous Frequency"
   ]
  },
  {
   "cell_type": "code",
   "execution_count": 10,
   "metadata": {},
   "outputs": [
    {
     "data": {
      "text/html": [
       "<div>\n",
       "<style scoped>\n",
       "    .dataframe tbody tr th:only-of-type {\n",
       "        vertical-align: middle;\n",
       "    }\n",
       "\n",
       "    .dataframe tbody tr th {\n",
       "        vertical-align: top;\n",
       "    }\n",
       "\n",
       "    .dataframe thead th {\n",
       "        text-align: right;\n",
       "    }\n",
       "</style>\n",
       "<table border=\"1\" class=\"dataframe\">\n",
       "  <thead>\n",
       "    <tr style=\"text-align: right;\">\n",
       "      <th></th>\n",
       "      <th>W</th>\n",
       "      <th>pval</th>\n",
       "      <th>normal</th>\n",
       "    </tr>\n",
       "  </thead>\n",
       "  <tbody>\n",
       "    <tr>\n",
       "      <th>WT</th>\n",
       "      <td>0.939777</td>\n",
       "      <td>0.579559</td>\n",
       "      <td>True</td>\n",
       "    </tr>\n",
       "    <tr>\n",
       "      <th>KO</th>\n",
       "      <td>0.909186</td>\n",
       "      <td>0.238530</td>\n",
       "      <td>True</td>\n",
       "    </tr>\n",
       "  </tbody>\n",
       "</table>\n",
       "</div>"
      ],
      "text/plain": [
       "           W      pval  normal\n",
       "WT  0.939777  0.579559    True\n",
       "KO  0.909186  0.238530    True"
      ]
     },
     "execution_count": 10,
     "metadata": {},
     "output_type": "execute_result"
    }
   ],
   "source": [
    "pg.normality(data = psc_df, dv = 'Inst Fq', group= 'Genotype')"
   ]
  },
  {
   "cell_type": "code",
   "execution_count": 13,
   "metadata": {},
   "outputs": [
    {
     "data": {
      "text/html": [
       "<div>\n",
       "<style scoped>\n",
       "    .dataframe tbody tr th:only-of-type {\n",
       "        vertical-align: middle;\n",
       "    }\n",
       "\n",
       "    .dataframe tbody tr th {\n",
       "        vertical-align: top;\n",
       "    }\n",
       "\n",
       "    .dataframe thead th {\n",
       "        text-align: right;\n",
       "    }\n",
       "</style>\n",
       "<table border=\"1\" class=\"dataframe\">\n",
       "  <thead>\n",
       "    <tr style=\"text-align: right;\">\n",
       "      <th></th>\n",
       "      <th>T</th>\n",
       "      <th>dof</th>\n",
       "      <th>tail</th>\n",
       "      <th>p-val</th>\n",
       "      <th>CI95%</th>\n",
       "      <th>cohen-d</th>\n",
       "      <th>BF10</th>\n",
       "      <th>power</th>\n",
       "    </tr>\n",
       "  </thead>\n",
       "  <tbody>\n",
       "    <tr>\n",
       "      <th>T-test</th>\n",
       "      <td>0.749329</td>\n",
       "      <td>16.744634</td>\n",
       "      <td>two-sided</td>\n",
       "      <td>0.464057</td>\n",
       "      <td>[-2.27, 4.76]</td>\n",
       "      <td>0.339011</td>\n",
       "      <td>0.486</td>\n",
       "      <td>0.110257</td>\n",
       "    </tr>\n",
       "  </tbody>\n",
       "</table>\n",
       "</div>"
      ],
      "text/plain": [
       "               T        dof       tail     p-val          CI95%   cohen-d  \\\n",
       "T-test  0.749329  16.744634  two-sided  0.464057  [-2.27, 4.76]  0.339011   \n",
       "\n",
       "         BF10     power  \n",
       "T-test  0.486  0.110257  "
      ]
     },
     "execution_count": 13,
     "metadata": {},
     "output_type": "execute_result"
    }
   ],
   "source": [
    "pg.ttest(psc_df['Inst Fq'][psc_df['Genotype']=='WT'], psc_df['Inst Fq'][psc_df['Genotype']=='KO'])"
   ]
  },
  {
   "cell_type": "code",
   "execution_count": 14,
   "metadata": {},
   "outputs": [],
   "source": [
    "def ecdf(raw_data):\n",
    "    '''[np.array -> tuple]\n",
    "    Equivalent to R's ecdf(). Credit to Kripanshu Bhargava from Codementor'''\n",
    "    cdfx = np.unique(raw_data)\n",
    "    x_values = np.linspace(start=min(cdfx), stop=max(cdfx), num=len(cdfx))\n",
    "    size_data = raw_data.size\n",
    "    y_values = []\n",
    "    for i in x_values:\n",
    "        # all the values in raw data less than the ith value in x_values\n",
    "        temp = raw_data[raw_data <= i]\n",
    "        # fraction of that value with respect to the size of the x_values\n",
    "        value = temp.size / size_data\n",
    "\n",
    "        y_values.append(value)\n",
    "\n",
    "    return (x_values, y_values)"
   ]
  },
  {
   "cell_type": "code",
   "execution_count": 26,
   "metadata": {},
   "outputs": [],
   "source": [
    "psc_raw = pd.read_csv('/Users/labc02/Documents/PDCB_data/Patch_Analysis_raw/sp_Peaks-Table 1.csv')\n",
    "inst_fq = pd.read_csv('/Users/labc02/Documents/PDCB_data/Patch_Analysis_raw/sp_Int-Table 1.csv')"
   ]
  },
  {
   "cell_type": "code",
   "execution_count": 25,
   "metadata": {},
   "outputs": [
    {
     "data": {
      "text/plain": [
       "Index(['050718_WT', '071118a_KO', '011118a_KO', '011118b_KO', '071118b_KO',\n",
       "       '071118c_KO', '081118a_KO', '081118b_KO', '100718_WT', '200718a_WT',\n",
       "       '200718b_WT', '240718_KO', '051020_WT', '071020_WT', '100920_KO',\n",
       "       '131020_WT', '210920_KO', '220920_KO', '230920_WT', '250920_WT'],\n",
       "      dtype='object')"
      ]
     },
     "execution_count": 25,
     "metadata": {},
     "output_type": "execute_result"
    }
   ],
   "source": [
    "psc_raw.columns"
   ]
  },
  {
   "cell_type": "code",
   "execution_count": 39,
   "metadata": {},
   "outputs": [],
   "source": [
    "WT_epsc = np.array([])\n",
    "KO_epsc = np.array([])\n",
    "WT_isi = np.array([])\n",
    "KO_isi = np.array([])\n",
    "\n",
    "for column in psc_raw:\n",
    "    if 'WT' in column:\n",
    "        WT_epsc = np.append(WT_epsc, psc_raw[column].dropna().abs())\n",
    "        WT_isi = np.append(WT_isi, inst_fq[column].dropna())\n",
    "    elif 'KO' in column:\n",
    "        KO_epsc = np.append(KO_epsc, psc_raw[column].dropna().abs())\n",
    "        KO_isi = np.append(KO_isi, inst_fq.dropna())\n",
    "KO_ecdf = ecdf(WT_epsc.round(3))\n",
    "WT_ecdf = ecdf(KO_epsc.round(3))\n",
    "KO_isicd = ecdf(KO_isi.round(3))\n",
    "WT_isicd = ecdf(WT_isi.round(3))\n"
   ]
  },
  {
   "cell_type": "code",
   "execution_count": 40,
   "metadata": {},
   "outputs": [
    {
     "name": "stdout",
     "output_type": "stream",
     "text": [
      "5858 5457 5831 22000\n"
     ]
    }
   ],
   "source": [
    "print(len(WT_epsc), len(KO_epsc), len(WT_isi), len(KO_isi))"
   ]
  },
  {
   "cell_type": "code",
   "execution_count": 62,
   "metadata": {},
   "outputs": [
    {
     "data": {
      "image/png": "[encoded data removed]",
      "text/plain": [
       "<Figure size 576x288 with 2 Axes>"
      ]
     },
     "metadata": {
      "needs_background": "light"
     },
     "output_type": "display_data"
    }
   ],
   "source": [
    "ecdf_fig, axs = plt.subplots(1, 2, figsize=(8, 4))\n",
    "axs[0].plot(WT_ecdf[0], WT_ecdf[1], color='royalblue', label='WT', linewidth=3)\n",
    "axs[0].plot(KO_ecdf[0], KO_ecdf[1], color='forestgreen', label='KO', linewidth=3)\n",
    "axs[0].set(ylabel  = 'Cum. P.', xlabel='Amplitude (pA)')\n",
    "axs[0].set_title('sPSC Amplitude')\n",
    "sns.despine(ax = axs[0])\n",
    "ins_1 = axs[0].inset_axes([.7, .2, .3, .6])\n",
    "\n",
    "sns.boxplot(x = 'Genotype', y = 'Peak', data = psc_df, order = ['WT', 'KO'], palette = ['royalblue', 'forestgreen'], width = 0.4, ax = ins_1, showfliers = False)\n",
    "ins_1.set_ylim(15,65)\n",
    "ins_1.annotate('**', xy=(0.5, .86), xytext=(0.5, .99), fontsize = 12, xycoords='axes fraction', ha='center',\n",
    "                va='top', arrowprops=dict(arrowstyle='-[, widthB=1.5, lengthB=.2', lw=1.5, color='k'))\n",
    "ins_1.set_ylabel('pA')\n",
    "sns.despine(ax = ins_1)\n",
    "\n",
    "axs[1].plot(WT_isicd[0], WT_isicd[1], color='b', label='WT', linewidth=3)\n",
    "axs[1].plot(KO_isicd[0], KO_isicd[1], color='g', label='KO', linewidth=3)\n",
    "axs[1].set(ylabel  = 'Cum. P.', xlabel='Int. Fq. (Hz)')\n",
    "axs[1].set_title('sPSC Inst. Fq')\n",
    "\n",
    "sns.despine(ax = axs[1])\n",
    "ins_2 = axs[1].inset_axes([.7, .2, .3, .6])\n",
    "\n",
    "sns.boxplot(x = 'Genotype', y = 'Inst Fq', data = psc_df, order = ['WT', 'KO'], palette = ['royalblue', 'forestgreen'], width = 0.4, ax = ins_2, showfliers = False)\n",
    "ins_2.set_ylabel('Hz')\n",
    "sns.despine(ax = ins_2)\n",
    "\n",
    "plt.tight_layout()"
   ]
  },
  {
   "cell_type": "code",
   "execution_count": null,
   "metadata": {},
   "outputs": [],
   "source": []
  }
 ],
 "metadata": {
  "kernelspec": {
   "display_name": "Python 3",
   "language": "python",
   "name": "python3"
  },
  "language_info": {
   "codemirror_mode": {
    "name": "ipython",
    "version": 3
   },
   "file_extension": ".py",
   "mimetype": "text/x-python",
   "name": "python",
   "nbconvert_exporter": "python",
   "pygments_lexer": "ipython3",
   "version": "3.8.2"
  }
 },
 "nbformat": 4,
 "nbformat_minor": 4
}
