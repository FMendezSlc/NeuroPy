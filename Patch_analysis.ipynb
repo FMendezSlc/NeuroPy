{
 "cells": [
  {
   "cell_type": "markdown",
   "metadata": {},
   "source": [
    "### Analisis de los experimentos de patch-clamp\n",
    "\n",
    "#### Corrientes post-sinapticas espontaneas"
   ]
  },
  {
   "cell_type": "code",
   "execution_count": 1,
   "metadata": {},
   "outputs": [
    {
     "name": "stderr",
     "output_type": "stream",
     "text": [
      "/opt/miniconda3/envs/databs/lib/python3.8/site-packages/outdated/utils.py:14: OutdatedPackageWarning: The package outdated is out of date. Your version is 0.2.0, the latest is 0.2.1.\n",
      "Set the environment variable OUTDATED_IGNORE=1 to disable these warnings.\n",
      "  return warn(\n",
      "/opt/miniconda3/envs/databs/lib/python3.8/site-packages/outdated/utils.py:14: OutdatedPackageWarning: The package pingouin is out of date. Your version is 0.3.6, the latest is 0.5.0.\n",
      "Set the environment variable OUTDATED_IGNORE=1 to disable these warnings.\n",
      "  return warn(\n"
     ]
    }
   ],
   "source": [
    "import matplotlib.pyplot as plt\n",
    "import seaborn as sns\n",
    "import pandas as pd\n",
    "import pingouin as pg\n",
    "import numpy as np"
   ]
  },
  {
   "cell_type": "code",
   "execution_count": 3,
   "metadata": {},
   "outputs": [],
   "source": [
    "psc_df = pd.read_csv('/Users/labc02/Documents/PDCB_data/spPSC_means.csv')"
   ]
  },
  {
   "cell_type": "markdown",
   "metadata": {},
   "source": [
    "Sample sizes (cells)"
   ]
  },
  {
   "cell_type": "code",
   "execution_count": 4,
   "metadata": {},
   "outputs": [
    {
     "data": {
      "text/plain": [
       "Genotype\n",
       "KO    11\n",
       "WT     9\n",
       "Name: Date, dtype: int64"
      ]
     },
     "execution_count": 4,
     "metadata": {},
     "output_type": "execute_result"
    }
   ],
   "source": [
    "psc_df.groupby('Genotype')['Date'].count()"
   ]
  },
  {
   "cell_type": "markdown",
   "metadata": {},
   "source": [
    "### Amplitude sPSC"
   ]
  },
  {
   "cell_type": "code",
   "execution_count": 5,
   "metadata": {},
   "outputs": [
    {
     "data": {
      "text/html": [
       "<div>\n",
       "<style scoped>\n",
       "    .dataframe tbody tr th:only-of-type {\n",
       "        vertical-align: middle;\n",
       "    }\n",
       "\n",
       "    .dataframe tbody tr th {\n",
       "        vertical-align: top;\n",
       "    }\n",
       "\n",
       "    .dataframe thead th {\n",
       "        text-align: right;\n",
       "    }\n",
       "</style>\n",
       "<table border=\"1\" class=\"dataframe\">\n",
       "  <thead>\n",
       "    <tr style=\"text-align: right;\">\n",
       "      <th></th>\n",
       "      <th>W</th>\n",
       "      <th>pval</th>\n",
       "      <th>normal</th>\n",
       "    </tr>\n",
       "  </thead>\n",
       "  <tbody>\n",
       "    <tr>\n",
       "      <th>WT</th>\n",
       "      <td>0.808560</td>\n",
       "      <td>0.025563</td>\n",
       "      <td>False</td>\n",
       "    </tr>\n",
       "    <tr>\n",
       "      <th>KO</th>\n",
       "      <td>0.837011</td>\n",
       "      <td>0.028857</td>\n",
       "      <td>False</td>\n",
       "    </tr>\n",
       "  </tbody>\n",
       "</table>\n",
       "</div>"
      ],
      "text/plain": [
       "           W      pval  normal\n",
       "WT  0.808560  0.025563   False\n",
       "KO  0.837011  0.028857   False"
      ]
     },
     "execution_count": 5,
     "metadata": {},
     "output_type": "execute_result"
    }
   ],
   "source": [
    "pg.normality(data = psc_df, dv = 'Peak', group= 'Genotype')"
   ]
  },
  {
   "cell_type": "code",
   "execution_count": 6,
   "metadata": {},
   "outputs": [
    {
     "name": "stdout",
     "output_type": "stream",
     "text": [
      "Amplitudes median: \n",
      " WT median: 30.73 \n",
      " KO median: 21.6\n"
     ]
    }
   ],
   "source": [
    "WT_median = psc_df['Peak'][psc_df['Genotype']=='WT'].median()\n",
    "KO_median = psc_df['Peak'][psc_df['Genotype']=='KO'].median()\n",
    "print(f'Amplitudes median: \\n WT median: {WT_median} \\n KO median: {KO_median}')"
   ]
  },
  {
   "cell_type": "code",
   "execution_count": 7,
   "metadata": {},
   "outputs": [
    {
     "data": {
      "text/html": [
       "<div>\n",
       "<style scoped>\n",
       "    .dataframe tbody tr th:only-of-type {\n",
       "        vertical-align: middle;\n",
       "    }\n",
       "\n",
       "    .dataframe tbody tr th {\n",
       "        vertical-align: top;\n",
       "    }\n",
       "\n",
       "    .dataframe thead th {\n",
       "        text-align: right;\n",
       "    }\n",
       "</style>\n",
       "<table border=\"1\" class=\"dataframe\">\n",
       "  <thead>\n",
       "    <tr style=\"text-align: right;\">\n",
       "      <th></th>\n",
       "      <th>U-val</th>\n",
       "      <th>tail</th>\n",
       "      <th>p-val</th>\n",
       "      <th>RBC</th>\n",
       "      <th>CLES</th>\n",
       "    </tr>\n",
       "  </thead>\n",
       "  <tbody>\n",
       "    <tr>\n",
       "      <th>MWU</th>\n",
       "      <td>81.0</td>\n",
       "      <td>greater</td>\n",
       "      <td>0.009257</td>\n",
       "      <td>-0.636364</td>\n",
       "      <td>0.818182</td>\n",
       "    </tr>\n",
       "  </tbody>\n",
       "</table>\n",
       "</div>"
      ],
      "text/plain": [
       "     U-val     tail     p-val       RBC      CLES\n",
       "MWU   81.0  greater  0.009257 -0.636364  0.818182"
      ]
     },
     "execution_count": 7,
     "metadata": {},
     "output_type": "execute_result"
    }
   ],
   "source": [
    "pg.mwu(psc_df['Peak'][psc_df['Genotype']=='WT'], psc_df['Peak'][psc_df['Genotype']=='KO'], 'one-sided')"
   ]
  },
  {
   "cell_type": "markdown",
   "metadata": {},
   "source": [
    "### Instantaneous Frequency"
   ]
  },
  {
   "cell_type": "code",
   "execution_count": 8,
   "metadata": {},
   "outputs": [
    {
     "data": {
      "text/html": [
       "<div>\n",
       "<style scoped>\n",
       "    .dataframe tbody tr th:only-of-type {\n",
       "        vertical-align: middle;\n",
       "    }\n",
       "\n",
       "    .dataframe tbody tr th {\n",
       "        vertical-align: top;\n",
       "    }\n",
       "\n",
       "    .dataframe thead th {\n",
       "        text-align: right;\n",
       "    }\n",
       "</style>\n",
       "<table border=\"1\" class=\"dataframe\">\n",
       "  <thead>\n",
       "    <tr style=\"text-align: right;\">\n",
       "      <th></th>\n",
       "      <th>W</th>\n",
       "      <th>pval</th>\n",
       "      <th>normal</th>\n",
       "    </tr>\n",
       "  </thead>\n",
       "  <tbody>\n",
       "    <tr>\n",
       "      <th>WT</th>\n",
       "      <td>0.939777</td>\n",
       "      <td>0.579559</td>\n",
       "      <td>True</td>\n",
       "    </tr>\n",
       "    <tr>\n",
       "      <th>KO</th>\n",
       "      <td>0.909186</td>\n",
       "      <td>0.238530</td>\n",
       "      <td>True</td>\n",
       "    </tr>\n",
       "  </tbody>\n",
       "</table>\n",
       "</div>"
      ],
      "text/plain": [
       "           W      pval  normal\n",
       "WT  0.939777  0.579559    True\n",
       "KO  0.909186  0.238530    True"
      ]
     },
     "execution_count": 8,
     "metadata": {},
     "output_type": "execute_result"
    }
   ],
   "source": [
    "pg.normality(data = psc_df, dv = 'Inst Fq', group= 'Genotype')"
   ]
  },
  {
   "cell_type": "code",
   "execution_count": 9,
   "metadata": {},
   "outputs": [
    {
     "name": "stdout",
     "output_type": "stream",
     "text": [
      "Instantaneous Fq: \n",
      " WT mean: 7.051111111111112, +- 1.268412661168417 SEM \n",
      " KO mean: 5.803636363636364, +- 1.0782622996177043 SEM\n"
     ]
    }
   ],
   "source": [
    "WT_mean = psc_df['Inst Fq'][psc_df['Genotype']=='WT'].mean()\n",
    "WT_sem = psc_df['Inst Fq'][psc_df['Genotype']=='WT'].sem()\n",
    "KO_mean = psc_df['Inst Fq'][psc_df['Genotype']=='KO'].mean()\n",
    "KO_sem = psc_df['Inst Fq'][psc_df['Genotype']=='KO'].sem()\n",
    "print(f'Instantaneous Fq: \\n WT mean: {WT_mean}, +- {WT_sem} SEM \\n KO mean: {KO_mean}, +- {KO_sem} SEM')"
   ]
  },
  {
   "cell_type": "code",
   "execution_count": 10,
   "metadata": {},
   "outputs": [
    {
     "data": {
      "text/html": [
       "<div>\n",
       "<style scoped>\n",
       "    .dataframe tbody tr th:only-of-type {\n",
       "        vertical-align: middle;\n",
       "    }\n",
       "\n",
       "    .dataframe tbody tr th {\n",
       "        vertical-align: top;\n",
       "    }\n",
       "\n",
       "    .dataframe thead th {\n",
       "        text-align: right;\n",
       "    }\n",
       "</style>\n",
       "<table border=\"1\" class=\"dataframe\">\n",
       "  <thead>\n",
       "    <tr style=\"text-align: right;\">\n",
       "      <th></th>\n",
       "      <th>T</th>\n",
       "      <th>dof</th>\n",
       "      <th>tail</th>\n",
       "      <th>p-val</th>\n",
       "      <th>CI95%</th>\n",
       "      <th>cohen-d</th>\n",
       "      <th>BF10</th>\n",
       "      <th>power</th>\n",
       "    </tr>\n",
       "  </thead>\n",
       "  <tbody>\n",
       "    <tr>\n",
       "      <th>T-test</th>\n",
       "      <td>0.749329</td>\n",
       "      <td>16.744634</td>\n",
       "      <td>two-sided</td>\n",
       "      <td>0.464057</td>\n",
       "      <td>[-2.27, 4.76]</td>\n",
       "      <td>0.339011</td>\n",
       "      <td>0.486</td>\n",
       "      <td>0.110257</td>\n",
       "    </tr>\n",
       "  </tbody>\n",
       "</table>\n",
       "</div>"
      ],
      "text/plain": [
       "               T        dof       tail     p-val          CI95%   cohen-d  \\\n",
       "T-test  0.749329  16.744634  two-sided  0.464057  [-2.27, 4.76]  0.339011   \n",
       "\n",
       "         BF10     power  \n",
       "T-test  0.486  0.110257  "
      ]
     },
     "execution_count": 10,
     "metadata": {},
     "output_type": "execute_result"
    }
   ],
   "source": [
    "pg.ttest(psc_df['Inst Fq'][psc_df['Genotype']=='WT'], psc_df['Inst Fq'][psc_df['Genotype']=='KO'])"
   ]
  },
  {
   "cell_type": "code",
   "execution_count": 11,
   "metadata": {},
   "outputs": [],
   "source": [
    "def ecdf(raw_data):\n",
    "    '''[np.array -> tuple]\n",
    "    Equivalent to R's ecdf(). Credit to Kripanshu Bhargava from Codementor'''\n",
    "    cdfx = np.unique(raw_data)\n",
    "    x_values = np.linspace(start=min(cdfx), stop=max(cdfx), num=len(cdfx))\n",
    "    size_data = raw_data.size\n",
    "    y_values = []\n",
    "    for i in x_values:\n",
    "        # all the values in raw data less than the ith value in x_values\n",
    "        temp = raw_data[raw_data <= i]\n",
    "        # fraction of that value with respect to the size of the x_values\n",
    "        value = temp.size / size_data\n",
    "\n",
    "        y_values.append(value)\n",
    "\n",
    "    return (x_values, y_values)"
   ]
  },
  {
   "cell_type": "code",
   "execution_count": 12,
   "metadata": {},
   "outputs": [],
   "source": [
    "psc_raw = pd.read_csv('/Users/labc02/Documents/PDCB_data/Patch_Analysis_raw/sp_Peaks-Table 1.csv')\n",
    "inst_fq = pd.read_csv('/Users/labc02/Documents/PDCB_data/Patch_Analysis_raw/sp_Int-Table 1.csv')"
   ]
  },
  {
   "cell_type": "code",
   "execution_count": 13,
   "metadata": {},
   "outputs": [
    {
     "data": {
      "text/plain": [
       "Index(['050718_WT', '071118a_KO', '011118a_KO', '011118b_KO', '071118b_KO',\n",
       "       '071118c_KO', '081118a_KO', '081118b_KO', '100718_WT', '200718a_WT',\n",
       "       '200718b_WT', '240718_KO', '051020_WT', '071020_WT', '100920_KO',\n",
       "       '131020_WT', '210920_KO', '220920_KO', '230920_WT', '250920_WT'],\n",
       "      dtype='object')"
      ]
     },
     "execution_count": 13,
     "metadata": {},
     "output_type": "execute_result"
    }
   ],
   "source": [
    "psc_raw.columns"
   ]
  },
  {
   "cell_type": "code",
   "execution_count": 25,
   "metadata": {},
   "outputs": [],
   "source": [
    "WT_epsc = np.array([])\n",
    "KO_epsc = np.array([])\n",
    "WT_isi = np.array([])\n",
    "KO_isi = np.array([])\n",
    "\n",
    "for column in psc_raw:\n",
    "    if 'WT' in column:\n",
    "        WT_epsc = np.append(WT_epsc, psc_raw[column].dropna().abs())\n",
    "        WT_isi = np.append(WT_isi, inst_fq[column].dropna())\n",
    "    elif 'KO' in column:\n",
    "        KO_epsc = np.append(KO_epsc, psc_raw[column].dropna().abs())\n",
    "        KO_isi = np.append(KO_isi, inst_fq.dropna())\n",
    "KO_ecdf = ecdf(KO_epsc.round(2))\n",
    "WT_ecdf = ecdf(WT_epsc.round(2))\n",
    "KO_isicd = ecdf(KO_isi.round(2))\n",
    "WT_isicd = ecdf(WT_isi.round(2))\n"
   ]
  },
  {
   "cell_type": "markdown",
   "metadata": {},
   "source": [
    "Numero total de eventos sinapticos analizados por genotipo"
   ]
  },
  {
   "cell_type": "code",
   "execution_count": 15,
   "metadata": {},
   "outputs": [
    {
     "name": "stdout",
     "output_type": "stream",
     "text": [
      "Numero de eventos (epsc) \n",
      " WT mean: 5858 \n",
      " KO mean: 5457\n"
     ]
    }
   ],
   "source": [
    "WT_epsc = len(WT_epsc)\n",
    "KO_epsc = len(KO_epsc)\n",
    "print(f'Numero de eventos (epsc) \\n WT mean: {WT_epsc} \\n KO mean: {KO_epsc}')"
   ]
  },
  {
   "cell_type": "code",
   "execution_count": 16,
   "metadata": {},
   "outputs": [
    {
     "data": {
      "image/png": "[encoded data removed]",
      "text/plain": [
       "<Figure size 432x144 with 2 Axes>"
      ]
     },
     "metadata": {
      "needs_background": "light"
     },
     "output_type": "display_data"
    }
   ],
   "source": [
    "ecdf_fig, axs = plt.subplots(1, 2, figsize=(6, 2))\n",
    "axs[0].plot(WT_ecdf[0], WT_ecdf[1], color='royalblue', label='WT', linewidth=3)\n",
    "axs[0].plot(KO_ecdf[0], KO_ecdf[1], color='forestgreen', label='KO', linewidth=3)\n",
    "axs[0].set(ylabel  = 'Cum. P.', xlabel='Amplitude (pA)')\n",
    "#axs[0].set_title('sPSC Amplitude')\n",
    "sns.despine(ax = axs[0])\n",
    "ins_1 = axs[0].inset_axes([.7, .2, .3, .6])\n",
    "\n",
    "sns.boxplot(x = 'Genotype', y = 'Peak', data = psc_df, order = ['WT', 'KO'], palette = ['royalblue', 'forestgreen'], width = 0.4, ax = ins_1, showfliers = False)\n",
    "ins_1.set_ylim(15,65)\n",
    "ins_1.annotate('**', xy=(0.5, .89), xytext=(0.5, 1.1), fontsize = 10, xycoords='axes fraction', ha='center',\n",
    "                va='top', arrowprops=dict(arrowstyle='-[, widthB=1, lengthB=.2', lw=1, color='k'))\n",
    "ins_1.set_ylabel('pA')\n",
    "ins_1.set_xlabel('')\n",
    "sns.despine(ax = ins_1)\n",
    "\n",
    "axs[1].plot(WT_isicd[0], WT_isicd[1], color='b', label='WT', linewidth=3)\n",
    "axs[1].plot(KO_isicd[0], KO_isicd[1], color='g', label='KO', linewidth=3)\n",
    "axs[1].set(ylabel  = 'Cum. P.', xlabel='Inst. Fq. (Hz)')\n",
    "#axs[1].set_title('sPSC Inst. Fq')\n",
    "\n",
    "sns.despine(ax = axs[1])\n",
    "ins_2 = axs[1].inset_axes([.7, .2, .3, .6])\n",
    "\n",
    "sns.boxplot(x = 'Genotype', y = 'Inst Fq', data = psc_df, order = ['WT', 'KO'], palette = ['royalblue', 'forestgreen'], width = 0.4, ax = ins_2, showfliers = False)\n",
    "ins_2.set_ylabel('Hz')\n",
    "ins_2.set_xlabel('')\n",
    "sns.despine(ax = ins_2)\n",
    "\n",
    "plt.tight_layout()"
   ]
  },
  {
   "cell_type": "code",
   "execution_count": 196,
   "metadata": {},
   "outputs": [],
   "source": [
    "ecdf_fig.savefig('/Users/labc02/Documents/PDCB_data/Behavior/Figures/sPSC_fig.svg')"
   ]
  },
  {
   "cell_type": "code",
   "execution_count": 32,
   "metadata": {
    "collapsed": true,
    "jupyter": {
     "outputs_hidden": true
    }
   },
   "outputs": [
    {
     "name": "stdout",
     "output_type": "stream",
     "text": [
      "Help on function distplot in module seaborn.distributions:\n",
      "\n",
      "distplot(a, bins=None, hist=True, kde=True, rug=False, fit=None, hist_kws=None, kde_kws=None, rug_kws=None, fit_kws=None, color=None, vertical=False, norm_hist=False, axlabel=None, label=None, ax=None)\n",
      "    Flexibly plot a univariate distribution of observations.\n",
      "    \n",
      "    This function combines the matplotlib ``hist`` function (with automatic\n",
      "    calculation of a good default bin size) with the seaborn :func:`kdeplot`\n",
      "    and :func:`rugplot` functions. It can also fit ``scipy.stats``\n",
      "    distributions and plot the estimated PDF over the data.\n",
      "    \n",
      "    Parameters\n",
      "    ----------\n",
      "    \n",
      "    a : Series, 1d-array, or list.\n",
      "        Observed data. If this is a Series object with a ``name`` attribute,\n",
      "        the name will be used to label the data axis.\n",
      "    bins : argument for matplotlib hist(), or None, optional\n",
      "        Specification of hist bins. If unspecified, as reference rule is used\n",
      "        that tries to find a useful default.\n",
      "    hist : bool, optional\n",
      "        Whether to plot a (normed) histogram.\n",
      "    kde : bool, optional\n",
      "        Whether to plot a gaussian kernel density estimate.\n",
      "    rug : bool, optional\n",
      "        Whether to draw a rugplot on the support axis.\n",
      "    fit : random variable object, optional\n",
      "        An object with `fit` method, returning a tuple that can be passed to a\n",
      "        `pdf` method a positional arguments following a grid of values to\n",
      "        evaluate the pdf on.\n",
      "    hist_kws : dict, optional\n",
      "        Keyword arguments for :meth:`matplotlib.axes.Axes.hist`.\n",
      "    kde_kws : dict, optional\n",
      "        Keyword arguments for :func:`kdeplot`.\n",
      "    rug_kws : dict, optional\n",
      "        Keyword arguments for :func:`rugplot`.\n",
      "    color : matplotlib color, optional\n",
      "        Color to plot everything but the fitted curve in.\n",
      "    vertical : bool, optional\n",
      "        If True, observed values are on y-axis.\n",
      "    norm_hist : bool, optional\n",
      "        If True, the histogram height shows a density rather than a count.\n",
      "        This is implied if a KDE or fitted density is plotted.\n",
      "    axlabel : string, False, or None, optional\n",
      "        Name for the support axis label. If None, will try to get it\n",
      "        from a.name if False, do not set a label.\n",
      "    label : string, optional\n",
      "        Legend label for the relevant component of the plot.\n",
      "    ax : matplotlib axis, optional\n",
      "        If provided, plot on this axis.\n",
      "    \n",
      "    Returns\n",
      "    -------\n",
      "    ax : matplotlib Axes\n",
      "        Returns the Axes object with the plot for further tweaking.\n",
      "    \n",
      "    See Also\n",
      "    --------\n",
      "    kdeplot : Show a univariate or bivariate distribution with a kernel\n",
      "              density estimate.\n",
      "    rugplot : Draw small vertical lines to show each observation in a\n",
      "              distribution.\n",
      "    \n",
      "    Examples\n",
      "    --------\n",
      "    \n",
      "    Show a default plot with a kernel density estimate and histogram with bin\n",
      "    size determined automatically with a reference rule:\n",
      "    \n",
      "    .. plot::\n",
      "        :context: close-figs\n",
      "    \n",
      "        >>> import seaborn as sns, numpy as np\n",
      "        >>> sns.set(); np.random.seed(0)\n",
      "        >>> x = np.random.randn(100)\n",
      "        >>> ax = sns.distplot(x)\n",
      "    \n",
      "    Use Pandas objects to get an informative axis label:\n",
      "    \n",
      "    .. plot::\n",
      "        :context: close-figs\n",
      "    \n",
      "        >>> import pandas as pd\n",
      "        >>> x = pd.Series(x, name=\"x variable\")\n",
      "        >>> ax = sns.distplot(x)\n",
      "    \n",
      "    Plot the distribution with a kernel density estimate and rug plot:\n",
      "    \n",
      "    .. plot::\n",
      "        :context: close-figs\n",
      "    \n",
      "        >>> ax = sns.distplot(x, rug=True, hist=False)\n",
      "    \n",
      "    Plot the distribution with a histogram and maximum likelihood gaussian\n",
      "    distribution fit:\n",
      "    \n",
      "    .. plot::\n",
      "        :context: close-figs\n",
      "    \n",
      "        >>> from scipy.stats import norm\n",
      "        >>> ax = sns.distplot(x, fit=norm, kde=False)\n",
      "    \n",
      "    Plot the distribution on the vertical axis:\n",
      "    \n",
      "    .. plot::\n",
      "        :context: close-figs\n",
      "    \n",
      "        >>> ax = sns.distplot(x, vertical=True)\n",
      "    \n",
      "    Change the color of all the plot elements:\n",
      "    \n",
      "    .. plot::\n",
      "        :context: close-figs\n",
      "    \n",
      "        >>> sns.set_color_codes()\n",
      "        >>> ax = sns.distplot(x, color=\"y\")\n",
      "    \n",
      "    Pass specific parameters to the underlying plot functions:\n",
      "    \n",
      "    .. plot::\n",
      "        :context: close-figs\n",
      "    \n",
      "        >>> ax = sns.distplot(x, rug=True, rug_kws={\"color\": \"g\"},\n",
      "        ...                   kde_kws={\"color\": \"k\", \"lw\": 3, \"label\": \"KDE\"},\n",
      "        ...                   hist_kws={\"histtype\": \"step\", \"linewidth\": 3,\n",
      "        ...                             \"alpha\": 1, \"color\": \"g\"})\n",
      "\n"
     ]
    }
   ],
   "source": [
    "help(sns.distplot)"
   ]
  },
  {
   "cell_type": "code",
   "execution_count": 44,
   "metadata": {},
   "outputs": [
    {
     "data": {
      "text/plain": [
       "<matplotlib.legend.Legend at 0x11f49b610>"
      ]
     },
     "execution_count": 44,
     "metadata": {},
     "output_type": "execute_result"
    },
    {
     "data": {
      "image/png": "[encoded data removed]",
      "text/plain": [
       "<Figure size 432x288 with 1 Axes>"
      ]
     },
     "metadata": {
      "needs_background": "light"
     },
     "output_type": "display_data"
    }
   ],
   "source": [
    "hist_count = plt.figure(figsize = (6, 4))\n",
    "ax = plt.subplot()\n",
    "sns.distplot(WT_epsc, color = 'royalblue', norm_hist = False, kde = False, label = 'WT')\n",
    "sns.distplot(KO_epsc, color = 'forestgreen', norm_hist = False, kde = False, label = 'KO')\n",
    "plt.ylabel('Count')\n",
    "plt.xlabel('Peak Amplitude (pA)')\n",
    "plt.legend()"
   ]
  },
  {
   "cell_type": "code",
   "execution_count": 45,
   "metadata": {},
   "outputs": [],
   "source": [
    "hist_count.savefig('/Users/labc02/Documents/PDCB_data/Behavior/Figures/epsc_hist_count.svg')"
   ]
  },
  {
   "cell_type": "code",
   "execution_count": 46,
   "metadata": {},
   "outputs": [
    {
     "data": {
      "text/plain": [
       "<matplotlib.legend.Legend at 0x11f2ca070>"
      ]
     },
     "execution_count": 46,
     "metadata": {},
     "output_type": "execute_result"
    },
    {
     "data": {
      "image/png": "[encoded data removed]",
      "text/plain": [
       "<Figure size 432x288 with 1 Axes>"
      ]
     },
     "metadata": {
      "needs_background": "light"
     },
     "output_type": "display_data"
    }
   ],
   "source": [
    "hist_kde = plt.figure(figsize = (6, 4))\n",
    "ax = plt.subplot()\n",
    "sns.distplot(WT_epsc, color = 'royalblue', kde = True, label = 'WT')\n",
    "sns.distplot(KO_epsc, color = 'forestgreen', kde = True, label = 'KO')\n",
    "plt.ylabel('Density')\n",
    "plt.xlabel('Peak Amplitude (pA)')\n",
    "plt.legend()"
   ]
  },
  {
   "cell_type": "code",
   "execution_count": 48,
   "metadata": {},
   "outputs": [],
   "source": [
    "hist_kde.savefig('/Users/labc02/Documents/PDCB_data/Behavior/Figures/epsc_hist_kde.svg')"
   ]
  },
  {
   "cell_type": "code",
   "execution_count": 2,
   "metadata": {},
   "outputs": [],
   "source": [
    "int_chars = pd.read_csv('/Users/labc02/Documents/PDCB_data/Patch_CA3_Int.csv')"
   ]
  },
  {
   "cell_type": "code",
   "execution_count": 6,
   "metadata": {},
   "outputs": [
    {
     "data": {
      "text/plain": [
       "Gen_type\n",
       "KO    12\n",
       "WT     8\n",
       "Name: Date, dtype: int64"
      ]
     },
     "execution_count": 6,
     "metadata": {},
     "output_type": "execute_result"
    }
   ],
   "source": [
    "int_chars.groupby('Gen_type')['Date'].count()"
   ]
  },
  {
   "cell_type": "code",
   "execution_count": 34,
   "metadata": {},
   "outputs": [
    {
     "data": {
      "image/png": "[encoded data removed]",
      "text/plain": [
       "<Figure size 576x216 with 6 Axes>"
      ]
     },
     "metadata": {
      "needs_background": "light"
     },
     "output_type": "display_data"
    }
   ],
   "source": [
    "int_CA3, axs = plt.subplots(2,3, figsize= (8,3))\n",
    "sns.boxplot(data = int_chars, x = 'Gen_type', y = 'Vm (mV)', width = 0.4, ax = axs[0,0], palette=['royalblue', 'forestgreen'], order =['WT', 'KO'], showfliers = False)\n",
    "sns.despine()\n",
    "#axs[0,0].set_title('Vm')\n",
    "axs[0,0].set_ylabel('mV')\n",
    "axs[0,0].set_xlabel('')\n",
    "sns.boxplot(data = int_chars, x = 'Gen_type', y = 'Rn (Mohms)', width = 0.4, ax = axs[0,1], palette=['royalblue', 'forestgreen'], order =['WT', 'KO'], showfliers = False)\n",
    "sns.despine()\n",
    "#axs[0,1].set_title('Rn')\n",
    "axs[0,1].set_ylabel('MOhms')\n",
    "axs[0,1].set_xlabel('')\n",
    "sns.boxplot(data = int_chars, x = 'Gen_type', y = 'Tau (ms)', width = 0.4, ax = axs[0,2], palette=['royalblue', 'forestgreen'], order =['WT', 'KO'], showfliers = False)\n",
    "sns.despine()\n",
    "#axs[0,2].set_title('Tau')\n",
    "axs[0,2].set_ylabel('ms')\n",
    "axs[0,2].set_xlabel('')\n",
    "sns.boxplot(data = int_chars, x = 'Gen_type', y = 'Cm (pF)', width = 0.4, ax = axs[1,0], palette=['royalblue', 'forestgreen'], order =['WT', 'KO'], showfliers = False)\n",
    "sns.despine()\n",
    "#axs[1,0].set_title('Cm')\n",
    "axs[1,0].set_ylabel('pF')\n",
    "axs[1,0].set_xlabel('')\n",
    "sns.boxplot(data = int_chars, x = 'Gen_type', y = 'Rheobase (pA)', width = 0.4, ax = axs[1,1], palette=['royalblue', 'forestgreen'], order =['WT', 'KO'], showfliers = False)\n",
    "sns.despine()\n",
    "#axs[1,1].set_title('Rheobase')\n",
    "axs[1,1].set_ylabel('pA')\n",
    "axs[1,1].set_xlabel('')\n",
    "sns.boxplot(data = int_chars, x = 'Gen_type', y = 'Sag (mV)', width = 0.4, ax = axs[1,2], palette=['royalblue', 'forestgreen'], order =['WT', 'KO'], showfliers = False)\n",
    "sns.despine()\n",
    "#axs[1,2].set_title('Sag')\n",
    "axs[1,2].set_ylabel('mV')\n",
    "axs[1,2].set_xlabel('')\n",
    "plt.tight_layout()"
   ]
  },
  {
   "cell_type": "code",
   "execution_count": 35,
   "metadata": {},
   "outputs": [],
   "source": [
    "int_CA3.savefig('/Users/labc02/Documents/PDCB_data/Behavior/Figures/Sup/int_charcs.svg')"
   ]
  },
  {
   "cell_type": "code",
   "execution_count": 75,
   "metadata": {
    "collapsed": true,
    "jupyter": {
     "outputs_hidden": true
    }
   },
   "outputs": [
    {
     "name": "stdout",
     "output_type": "stream",
     "text": [
      "Normality Vm (mV)\n",
      "           W      pval  normal\n",
      "KO  0.885849  0.104191    True\n",
      "WT  0.764825  0.011896   False\n",
      "Normality Rn (Mohms)\n",
      "           W      pval  normal\n",
      "KO  0.864575  0.055804    True\n",
      "WT  0.606178  0.000188   False\n",
      "Normality Tau (ms)\n",
      "           W      pval  normal\n",
      "KO  0.914464  0.243295    True\n",
      "WT  0.803753  0.031396   False\n",
      "Normality Cm (pF)\n",
      "           W      pval  normal\n",
      "KO  0.916966  0.261770    True\n",
      "WT  0.954866  0.760028    True\n",
      "Normality Rheobase (pA)\n",
      "           W      pval  normal\n",
      "KO  0.977485  0.971606    True\n",
      "WT  0.943114  0.641955    True\n",
      "Normality Sag (mV)\n",
      "           W      pval  normal\n",
      "KO  0.960829  0.795598    True\n",
      "WT  0.921259  0.440160    True\n"
     ]
    }
   ],
   "source": [
    "for col in ['Vm (mV)', 'Rn (Mohms)', 'Tau (ms)', 'Cm (pF)','Rheobase (pA)', 'Sag (mV)']:\n",
    "    print(f'Normality {col}')\n",
    "    print(pg.normality(data = int_chars, dv = col, group='Gen_type'))"
   ]
  },
  {
   "cell_type": "markdown",
   "metadata": {},
   "source": [
    "### Resting Potential (Vm)"
   ]
  },
  {
   "cell_type": "code",
   "execution_count": 76,
   "metadata": {},
   "outputs": [
    {
     "data": {
      "text/html": [
       "<div>\n",
       "<style scoped>\n",
       "    .dataframe tbody tr th:only-of-type {\n",
       "        vertical-align: middle;\n",
       "    }\n",
       "\n",
       "    .dataframe tbody tr th {\n",
       "        vertical-align: top;\n",
       "    }\n",
       "\n",
       "    .dataframe thead th {\n",
       "        text-align: right;\n",
       "    }\n",
       "</style>\n",
       "<table border=\"1\" class=\"dataframe\">\n",
       "  <thead>\n",
       "    <tr style=\"text-align: right;\">\n",
       "      <th></th>\n",
       "      <th>U-val</th>\n",
       "      <th>tail</th>\n",
       "      <th>p-val</th>\n",
       "      <th>RBC</th>\n",
       "      <th>CLES</th>\n",
       "    </tr>\n",
       "  </thead>\n",
       "  <tbody>\n",
       "    <tr>\n",
       "      <th>MWU</th>\n",
       "      <td>37.0</td>\n",
       "      <td>two-sided</td>\n",
       "      <td>0.417186</td>\n",
       "      <td>0.229167</td>\n",
       "      <td>0.604167</td>\n",
       "    </tr>\n",
       "  </tbody>\n",
       "</table>\n",
       "</div>"
      ],
      "text/plain": [
       "     U-val       tail     p-val       RBC      CLES\n",
       "MWU   37.0  two-sided  0.417186  0.229167  0.604167"
      ]
     },
     "execution_count": 76,
     "metadata": {},
     "output_type": "execute_result"
    }
   ],
   "source": [
    "pg.mwu(x = int_chars['Vm (mV)'][int_chars['Gen_type']=='WT'], y = int_chars['Vm (mV)'][int_chars['Gen_type']=='KO'])"
   ]
  },
  {
   "cell_type": "markdown",
   "metadata": {},
   "source": [
    "### Input resistance"
   ]
  },
  {
   "cell_type": "code",
   "execution_count": 77,
   "metadata": {},
   "outputs": [
    {
     "data": {
      "text/html": [
       "<div>\n",
       "<style scoped>\n",
       "    .dataframe tbody tr th:only-of-type {\n",
       "        vertical-align: middle;\n",
       "    }\n",
       "\n",
       "    .dataframe tbody tr th {\n",
       "        vertical-align: top;\n",
       "    }\n",
       "\n",
       "    .dataframe thead th {\n",
       "        text-align: right;\n",
       "    }\n",
       "</style>\n",
       "<table border=\"1\" class=\"dataframe\">\n",
       "  <thead>\n",
       "    <tr style=\"text-align: right;\">\n",
       "      <th></th>\n",
       "      <th>U-val</th>\n",
       "      <th>tail</th>\n",
       "      <th>p-val</th>\n",
       "      <th>RBC</th>\n",
       "      <th>CLES</th>\n",
       "    </tr>\n",
       "  </thead>\n",
       "  <tbody>\n",
       "    <tr>\n",
       "      <th>MWU</th>\n",
       "      <td>27.0</td>\n",
       "      <td>two-sided</td>\n",
       "      <td>0.113739</td>\n",
       "      <td>0.4375</td>\n",
       "      <td>0.71875</td>\n",
       "    </tr>\n",
       "  </tbody>\n",
       "</table>\n",
       "</div>"
      ],
      "text/plain": [
       "     U-val       tail     p-val     RBC     CLES\n",
       "MWU   27.0  two-sided  0.113739  0.4375  0.71875"
      ]
     },
     "execution_count": 77,
     "metadata": {},
     "output_type": "execute_result"
    }
   ],
   "source": [
    "pg.mwu(x = int_chars['Rn (Mohms)'][int_chars['Gen_type']=='WT'], y = int_chars['Rn (Mohms)'][int_chars['Gen_type']=='KO'])"
   ]
  },
  {
   "cell_type": "markdown",
   "metadata": {},
   "source": [
    "### Membrane Constant (Tau)"
   ]
  },
  {
   "cell_type": "code",
   "execution_count": 78,
   "metadata": {},
   "outputs": [
    {
     "data": {
      "text/html": [
       "<div>\n",
       "<style scoped>\n",
       "    .dataframe tbody tr th:only-of-type {\n",
       "        vertical-align: middle;\n",
       "    }\n",
       "\n",
       "    .dataframe tbody tr th {\n",
       "        vertical-align: top;\n",
       "    }\n",
       "\n",
       "    .dataframe thead th {\n",
       "        text-align: right;\n",
       "    }\n",
       "</style>\n",
       "<table border=\"1\" class=\"dataframe\">\n",
       "  <thead>\n",
       "    <tr style=\"text-align: right;\">\n",
       "      <th></th>\n",
       "      <th>U-val</th>\n",
       "      <th>tail</th>\n",
       "      <th>p-val</th>\n",
       "      <th>RBC</th>\n",
       "      <th>CLES</th>\n",
       "    </tr>\n",
       "  </thead>\n",
       "  <tbody>\n",
       "    <tr>\n",
       "      <th>MWU</th>\n",
       "      <td>48.0</td>\n",
       "      <td>two-sided</td>\n",
       "      <td>0.969229</td>\n",
       "      <td>0.0</td>\n",
       "      <td>0.5</td>\n",
       "    </tr>\n",
       "  </tbody>\n",
       "</table>\n",
       "</div>"
      ],
      "text/plain": [
       "     U-val       tail     p-val  RBC  CLES\n",
       "MWU   48.0  two-sided  0.969229  0.0   0.5"
      ]
     },
     "execution_count": 78,
     "metadata": {},
     "output_type": "execute_result"
    }
   ],
   "source": [
    "pg.mwu(x = int_chars['Tau (ms)'][int_chars['Gen_type']=='WT'], y = int_chars['Tau (ms)'][int_chars['Gen_type']=='KO'])"
   ]
  },
  {
   "cell_type": "markdown",
   "metadata": {},
   "source": [
    "### Cell Capacitance (Cm)"
   ]
  },
  {
   "cell_type": "code",
   "execution_count": 81,
   "metadata": {},
   "outputs": [
    {
     "data": {
      "text/html": [
       "<div>\n",
       "<style scoped>\n",
       "    .dataframe tbody tr th:only-of-type {\n",
       "        vertical-align: middle;\n",
       "    }\n",
       "\n",
       "    .dataframe tbody tr th {\n",
       "        vertical-align: top;\n",
       "    }\n",
       "\n",
       "    .dataframe thead th {\n",
       "        text-align: right;\n",
       "    }\n",
       "</style>\n",
       "<table border=\"1\" class=\"dataframe\">\n",
       "  <thead>\n",
       "    <tr style=\"text-align: right;\">\n",
       "      <th></th>\n",
       "      <th>T</th>\n",
       "      <th>dof</th>\n",
       "      <th>tail</th>\n",
       "      <th>p-val</th>\n",
       "      <th>CI95%</th>\n",
       "      <th>cohen-d</th>\n",
       "      <th>BF10</th>\n",
       "      <th>power</th>\n",
       "    </tr>\n",
       "  </thead>\n",
       "  <tbody>\n",
       "    <tr>\n",
       "      <th>T-test</th>\n",
       "      <td>0.895241</td>\n",
       "      <td>17.166391</td>\n",
       "      <td>two-sided</td>\n",
       "      <td>0.38304</td>\n",
       "      <td>[-56.91, 140.91]</td>\n",
       "      <td>0.391171</td>\n",
       "      <td>0.532</td>\n",
       "      <td>0.128279</td>\n",
       "    </tr>\n",
       "  </tbody>\n",
       "</table>\n",
       "</div>"
      ],
      "text/plain": [
       "               T        dof       tail    p-val             CI95%   cohen-d  \\\n",
       "T-test  0.895241  17.166391  two-sided  0.38304  [-56.91, 140.91]  0.391171   \n",
       "\n",
       "         BF10     power  \n",
       "T-test  0.532  0.128279  "
      ]
     },
     "execution_count": 81,
     "metadata": {},
     "output_type": "execute_result"
    }
   ],
   "source": [
    "pg.ttest(x = int_chars['Cm (pF)'][int_chars['Gen_type']=='WT'], y = int_chars['Cm (pF)'][int_chars['Gen_type']=='KO'])"
   ]
  },
  {
   "cell_type": "markdown",
   "metadata": {},
   "source": [
    "### Rheobase (pA)"
   ]
  },
  {
   "cell_type": "code",
   "execution_count": 82,
   "metadata": {},
   "outputs": [
    {
     "data": {
      "text/html": [
       "<div>\n",
       "<style scoped>\n",
       "    .dataframe tbody tr th:only-of-type {\n",
       "        vertical-align: middle;\n",
       "    }\n",
       "\n",
       "    .dataframe tbody tr th {\n",
       "        vertical-align: top;\n",
       "    }\n",
       "\n",
       "    .dataframe thead th {\n",
       "        text-align: right;\n",
       "    }\n",
       "</style>\n",
       "<table border=\"1\" class=\"dataframe\">\n",
       "  <thead>\n",
       "    <tr style=\"text-align: right;\">\n",
       "      <th></th>\n",
       "      <th>T</th>\n",
       "      <th>dof</th>\n",
       "      <th>tail</th>\n",
       "      <th>p-val</th>\n",
       "      <th>CI95%</th>\n",
       "      <th>cohen-d</th>\n",
       "      <th>BF10</th>\n",
       "      <th>power</th>\n",
       "    </tr>\n",
       "  </thead>\n",
       "  <tbody>\n",
       "    <tr>\n",
       "      <th>T-test</th>\n",
       "      <td>-1.178445</td>\n",
       "      <td>12.284325</td>\n",
       "      <td>two-sided</td>\n",
       "      <td>0.260943</td>\n",
       "      <td>[-195.54, 58.04]</td>\n",
       "      <td>0.569135</td>\n",
       "      <td>0.649</td>\n",
       "      <td>0.218854</td>\n",
       "    </tr>\n",
       "  </tbody>\n",
       "</table>\n",
       "</div>"
      ],
      "text/plain": [
       "               T        dof       tail     p-val             CI95%   cohen-d  \\\n",
       "T-test -1.178445  12.284325  two-sided  0.260943  [-195.54, 58.04]  0.569135   \n",
       "\n",
       "         BF10     power  \n",
       "T-test  0.649  0.218854  "
      ]
     },
     "execution_count": 82,
     "metadata": {},
     "output_type": "execute_result"
    }
   ],
   "source": [
    "pg.ttest(x = int_chars['Rheobase (pA)'][int_chars['Gen_type']=='WT'], y = int_chars['Rheobase (pA)'][int_chars['Gen_type']=='KO'])"
   ]
  },
  {
   "cell_type": "markdown",
   "metadata": {},
   "source": [
    "### Sag (mV)"
   ]
  },
  {
   "cell_type": "code",
   "execution_count": 83,
   "metadata": {},
   "outputs": [
    {
     "data": {
      "text/html": [
       "<div>\n",
       "<style scoped>\n",
       "    .dataframe tbody tr th:only-of-type {\n",
       "        vertical-align: middle;\n",
       "    }\n",
       "\n",
       "    .dataframe tbody tr th {\n",
       "        vertical-align: top;\n",
       "    }\n",
       "\n",
       "    .dataframe thead th {\n",
       "        text-align: right;\n",
       "    }\n",
       "</style>\n",
       "<table border=\"1\" class=\"dataframe\">\n",
       "  <thead>\n",
       "    <tr style=\"text-align: right;\">\n",
       "      <th></th>\n",
       "      <th>T</th>\n",
       "      <th>dof</th>\n",
       "      <th>tail</th>\n",
       "      <th>p-val</th>\n",
       "      <th>CI95%</th>\n",
       "      <th>cohen-d</th>\n",
       "      <th>BF10</th>\n",
       "      <th>power</th>\n",
       "    </tr>\n",
       "  </thead>\n",
       "  <tbody>\n",
       "    <tr>\n",
       "      <th>T-test</th>\n",
       "      <td>-1.275779</td>\n",
       "      <td>17.869888</td>\n",
       "      <td>two-sided</td>\n",
       "      <td>0.218368</td>\n",
       "      <td>[-0.77, 0.19]</td>\n",
       "      <td>0.543218</td>\n",
       "      <td>0.703</td>\n",
       "      <td>0.203532</td>\n",
       "    </tr>\n",
       "  </tbody>\n",
       "</table>\n",
       "</div>"
      ],
      "text/plain": [
       "               T        dof       tail     p-val          CI95%   cohen-d  \\\n",
       "T-test -1.275779  17.869888  two-sided  0.218368  [-0.77, 0.19]  0.543218   \n",
       "\n",
       "         BF10     power  \n",
       "T-test  0.703  0.203532  "
      ]
     },
     "execution_count": 83,
     "metadata": {},
     "output_type": "execute_result"
    }
   ],
   "source": [
    "pg.ttest(x = int_chars['Sag (mV)'][int_chars['Gen_type']=='WT'], y = int_chars['Sag (mV)'][int_chars['Gen_type']=='KO'])"
   ]
  },
  {
   "cell_type": "markdown",
   "metadata": {},
   "source": [
    "## IV Curve"
   ]
  },
  {
   "cell_type": "code",
   "execution_count": 15,
   "metadata": {},
   "outputs": [],
   "source": [
    "iv_curv = pd.read_csv('/Users/labc02/Documents/PDCB_data/Patch_CA3_IV.csv')"
   ]
  },
  {
   "cell_type": "code",
   "execution_count": 16,
   "metadata": {},
   "outputs": [
    {
     "data": {
      "text/plain": [
       "Index(['Current (pA)', '011118_KO_male_CA3_II', '081118_KO_male_CA3_I',\n",
       "       '081118_KO_male_CA3_II', '071118__KO_male_CA3_I',\n",
       "       '071118_KO_male_CA3_II', '071118_KO_male_CA3_III',\n",
       "       '011118_KO_male_CA3_II.1', '241118_KO_male_CA3', '030718_WT_female_CA3',\n",
       "       '050718_WT_female_CA3', '100718_WT_female_CA3', '200718_WT_male_CA3_I',\n",
       "       '200718_WT_male_CA3_II', '071020_WT_Female_CA3',\n",
       "       '100920_KO_female_CA3_I', '100920_KO_female_CA3_III', '210920_KO_CA3_I',\n",
       "       '210920_KO_CA3_II', '230920_WT_male_CA3_I', '250920_WT_CA3_I'],\n",
       "      dtype='object')"
      ]
     },
     "execution_count": 16,
     "metadata": {},
     "output_type": "execute_result"
    }
   ],
   "source": [
    "iv_curv.columns"
   ]
  },
  {
   "cell_type": "code",
   "execution_count": 17,
   "metadata": {},
   "outputs": [],
   "source": [
    "iv_tidy = pd.melt(iv_curv, id_vars='Current (pA)', var_name = 'Cell', value_name= 'mV')"
   ]
  },
  {
   "cell_type": "code",
   "execution_count": 18,
   "metadata": {},
   "outputs": [
    {
     "name": "stderr",
     "output_type": "stream",
     "text": [
      "<ipython-input-18-3ea9b0d9b72a>:5: SettingWithCopyWarning: \n",
      "A value is trying to be set on a copy of a slice from a DataFrame\n",
      "\n",
      "See the caveats in the documentation: https://pandas.pydata.org/pandas-docs/stable/user_guide/indexing.html#returning-a-view-versus-a-copy\n",
      "  iv_tidy['Cell'][iv_tidy['Cell']==cell] = 'KO'\n",
      "<ipython-input-18-3ea9b0d9b72a>:3: SettingWithCopyWarning: \n",
      "A value is trying to be set on a copy of a slice from a DataFrame\n",
      "\n",
      "See the caveats in the documentation: https://pandas.pydata.org/pandas-docs/stable/user_guide/indexing.html#returning-a-view-versus-a-copy\n",
      "  iv_tidy['Cell'][iv_tidy['Cell']==cell] = 'WT'\n"
     ]
    }
   ],
   "source": [
    "for cell in iv_tidy['Cell']:\n",
    "    if 'WT' in cell:\n",
    "        iv_tidy['Cell'][iv_tidy['Cell']==cell] = 'WT'\n",
    "    elif 'KO' in cell:\n",
    "        iv_tidy['Cell'][iv_tidy['Cell']==cell] = 'KO'"
   ]
  },
  {
   "cell_type": "code",
   "execution_count": 19,
   "metadata": {},
   "outputs": [],
   "source": [
    "iv_tidy.rename(columns={'Cell': 'Genotype'}, inplace = True)"
   ]
  },
  {
   "cell_type": "code",
   "execution_count": 40,
   "metadata": {},
   "outputs": [
    {
     "data": {
      "text/plain": [
       "<matplotlib.legend.Legend at 0x117670220>"
      ]
     },
     "execution_count": 40,
     "metadata": {},
     "output_type": "execute_result"
    },
    {
     "data": {
      "image/png": "[encoded data removed]",
      "text/plain": [
       "<Figure size 288x288 with 1 Axes>"
      ]
     },
     "metadata": {
      "needs_background": "light"
     },
     "output_type": "display_data"
    }
   ],
   "source": [
    "iv_fig, ax = plt.subplots(1,1, figsize = (4,4))\n",
    "sns.lineplot(data = iv_tidy[iv_tidy['Current (pA)'] < 300], x='Current (pA)', y = 'mV', hue = 'Genotype', err_style=\"bars\", ci=68, palette = ['royalblue', 'forestgreen'], ax = ax, err_kws = {'capsize': 5, 'capthick': 2})\n",
    "ax.set_ylim(-100, -30)\n",
    "ax.spines['left'].set_position(('data', 0))\n",
    "ax.spines['bottom'].set_position('center')\n",
    "ax.spines['right'].set_color('none')\n",
    "ax.spines['top'].set_color('none')\n",
    "ax.xaxis.set_ticks_position('bottom')\n",
    "ax.yaxis.set_ticks_position('left')\n",
    "ax.xaxis.labelpad = 100\n",
    "ax.set_xlabel('Vm (mV)')\n",
    "ax.set_ylabel('Current (pA)', rotation=0, ha='right')\n",
    "ax.yaxis.labelpad=10\n",
    "plt.legend(['WT', 'KO'])"
   ]
  },
  {
   "cell_type": "code",
   "execution_count": 41,
   "metadata": {},
   "outputs": [],
   "source": [
    "iv_fig.savefig('/Users/labc02/Documents/PDCB_data/Behavior/Figures/Sup/IV_CA3.svg')"
   ]
  },
  {
   "cell_type": "markdown",
   "metadata": {},
   "source": [
    "## Firing Curve"
   ]
  },
  {
   "cell_type": "code",
   "execution_count": 165,
   "metadata": {},
   "outputs": [],
   "source": [
    "fire_curv = pd.read_csv('/Users/labc02/Documents/PDCB_data/Patch_CA3_Firing.csv')"
   ]
  },
  {
   "cell_type": "code",
   "execution_count": 166,
   "metadata": {},
   "outputs": [],
   "source": [
    "fire_tidy = pd.melt(fire_curv, id_vars='Current (pA)', var_name = 'Cell', value_name= 'mV')"
   ]
  },
  {
   "cell_type": "code",
   "execution_count": 169,
   "metadata": {},
   "outputs": [
    {
     "name": "stderr",
     "output_type": "stream",
     "text": [
      "<ipython-input-169-dcbe6b6bb1b6>:5: SettingWithCopyWarning: \n",
      "A value is trying to be set on a copy of a slice from a DataFrame\n",
      "\n",
      "See the caveats in the documentation: https://pandas.pydata.org/pandas-docs/stable/user_guide/indexing.html#returning-a-view-versus-a-copy\n",
      "  fire_tidy['Cell'][fire_tidy['Cell']==cell] = 'KO'\n",
      "<ipython-input-169-dcbe6b6bb1b6>:3: SettingWithCopyWarning: \n",
      "A value is trying to be set on a copy of a slice from a DataFrame\n",
      "\n",
      "See the caveats in the documentation: https://pandas.pydata.org/pandas-docs/stable/user_guide/indexing.html#returning-a-view-versus-a-copy\n",
      "  fire_tidy['Cell'][fire_tidy['Cell']==cell] = 'WT'\n"
     ]
    }
   ],
   "source": [
    "for cell in fire_tidy['Cell']:\n",
    "    if 'WT' in cell:\n",
    "        fire_tidy['Cell'][fire_tidy['Cell']==cell] = 'WT'\n",
    "    elif 'KO' in cell:\n",
    "        fire_tidy['Cell'][fire_tidy['Cell']==cell] = 'KO'"
   ]
  },
  {
   "cell_type": "code",
   "execution_count": 170,
   "metadata": {},
   "outputs": [],
   "source": [
    "fire_tidy.rename(columns={'Cell': 'Genotype'}, inplace = True)"
   ]
  },
  {
   "cell_type": "code",
   "execution_count": 171,
   "metadata": {},
   "outputs": [
    {
     "data": {
      "image/png": "[encoded data removed]",
      "text/plain": [
       "<Figure size 432x288 with 1 Axes>"
      ]
     },
     "metadata": {
      "needs_background": "light"
     },
     "output_type": "display_data"
    }
   ],
   "source": [
    "fire_fig, ax = plt.subplots(1,1)\n",
    "sns.lineplot(data = fire_tidy, x='Current (pA)', y = 'mV', hue = 'Genotype', err_style=\"bars\", ci=68, palette = ['royalblue', 'forestgreen'], ax = ax, err_kws = {'capsize': 5, 'capthick': 2})\n",
    "#ax.set_ylim(-100, -0)\n",
    "#ax.spines['left'].set_position('center')\n",
    "#ax.spines['bottom'].set_position('center')\n",
    "ax.spines['right'].set_color('none')\n",
    "ax.spines['top'].set_color('none')\n",
    "#ax.xaxis.set_ticks_position('bottom')\n",
    "#ax.yaxis.set_ticks_position('left')\n",
    "#ax.xaxis.labelpad = 100\n",
    "#ax.set_ylabel('mV', rotation=0, ha='right')\n",
    "#ax.yaxis.labelpad=110"
   ]
  },
  {
   "cell_type": "code",
   "execution_count": 172,
   "metadata": {},
   "outputs": [],
   "source": [
    "fire_fig.savefig('/Users/labc02/Documents/PDCB_data/Behavior/Figures/Fire_CA3.svg')"
   ]
  },
  {
   "cell_type": "markdown",
   "metadata": {},
   "source": [
    "### Rise and Decay of spEPSC"
   ]
  },
  {
   "cell_type": "code",
   "execution_count": 2,
   "metadata": {},
   "outputs": [],
   "source": [
    "rise_df = pd.read_csv('/Users/labc02/Documents/PDCB_data/Patch_Analysis_raw/Rise_decay.csv')"
   ]
  },
  {
   "cell_type": "code",
   "execution_count": 4,
   "metadata": {},
   "outputs": [
    {
     "data": {
      "text/html": [
       "<div>\n",
       "<style scoped>\n",
       "    .dataframe tbody tr th:only-of-type {\n",
       "        vertical-align: middle;\n",
       "    }\n",
       "\n",
       "    .dataframe tbody tr th {\n",
       "        vertical-align: top;\n",
       "    }\n",
       "\n",
       "    .dataframe thead th {\n",
       "        text-align: right;\n",
       "    }\n",
       "</style>\n",
       "<table border=\"1\" class=\"dataframe\">\n",
       "  <thead>\n",
       "    <tr style=\"text-align: right;\">\n",
       "      <th></th>\n",
       "      <th>ID</th>\n",
       "      <th>Rise_time</th>\n",
       "      <th>Decay_tau</th>\n",
       "    </tr>\n",
       "    <tr>\n",
       "      <th>Genotype</th>\n",
       "      <th></th>\n",
       "      <th></th>\n",
       "      <th></th>\n",
       "    </tr>\n",
       "  </thead>\n",
       "  <tbody>\n",
       "    <tr>\n",
       "      <th>KO</th>\n",
       "      <td>11</td>\n",
       "      <td>11</td>\n",
       "      <td>11</td>\n",
       "    </tr>\n",
       "    <tr>\n",
       "      <th>WT</th>\n",
       "      <td>9</td>\n",
       "      <td>9</td>\n",
       "      <td>9</td>\n",
       "    </tr>\n",
       "  </tbody>\n",
       "</table>\n",
       "</div>"
      ],
      "text/plain": [
       "          ID  Rise_time  Decay_tau\n",
       "Genotype                          \n",
       "KO        11         11         11\n",
       "WT         9          9          9"
      ]
     },
     "execution_count": 4,
     "metadata": {},
     "output_type": "execute_result"
    }
   ],
   "source": [
    "rise_df.groupby('Genotype').count()"
   ]
  },
  {
   "cell_type": "markdown",
   "metadata": {},
   "source": [
    "#### Rise times"
   ]
  },
  {
   "cell_type": "code",
   "execution_count": 5,
   "metadata": {},
   "outputs": [
    {
     "data": {
      "text/html": [
       "<div>\n",
       "<style scoped>\n",
       "    .dataframe tbody tr th:only-of-type {\n",
       "        vertical-align: middle;\n",
       "    }\n",
       "\n",
       "    .dataframe tbody tr th {\n",
       "        vertical-align: top;\n",
       "    }\n",
       "\n",
       "    .dataframe thead th {\n",
       "        text-align: right;\n",
       "    }\n",
       "</style>\n",
       "<table border=\"1\" class=\"dataframe\">\n",
       "  <thead>\n",
       "    <tr style=\"text-align: right;\">\n",
       "      <th></th>\n",
       "      <th>W</th>\n",
       "      <th>pval</th>\n",
       "      <th>normal</th>\n",
       "    </tr>\n",
       "  </thead>\n",
       "  <tbody>\n",
       "    <tr>\n",
       "      <th>WT</th>\n",
       "      <td>0.906312</td>\n",
       "      <td>0.290907</td>\n",
       "      <td>True</td>\n",
       "    </tr>\n",
       "    <tr>\n",
       "      <th>KO</th>\n",
       "      <td>0.871393</td>\n",
       "      <td>0.080783</td>\n",
       "      <td>True</td>\n",
       "    </tr>\n",
       "  </tbody>\n",
       "</table>\n",
       "</div>"
      ],
      "text/plain": [
       "           W      pval  normal\n",
       "WT  0.906312  0.290907    True\n",
       "KO  0.871393  0.080783    True"
      ]
     },
     "execution_count": 5,
     "metadata": {},
     "output_type": "execute_result"
    }
   ],
   "source": [
    "pg.normality(data = rise_df, dv = 'Rise_time', group = 'Genotype')"
   ]
  },
  {
   "cell_type": "code",
   "execution_count": 41,
   "metadata": {},
   "outputs": [
    {
     "data": {
      "image/png": "[encoded data removed]",
      "text/plain": [
       "<Figure size 144x144 with 1 Axes>"
      ]
     },
     "metadata": {
      "needs_background": "light"
     },
     "output_type": "display_data"
    }
   ],
   "source": [
    "rise_fig = plt.figure(figsize = (2, 2))\n",
    "sns.boxplot(data = rise_df, x = 'Genotype', y = 'Rise_time', palette=['royalblue', 'forestgreen'], width = .4, showmeans = False, showfliers = False, )\n",
    "sns.despine()\n",
    "plt.ylabel('Rise time (ms)')\n",
    "plt.xlabel('')\n",
    "plt.tight_layout()"
   ]
  },
  {
   "cell_type": "code",
   "execution_count": 42,
   "metadata": {},
   "outputs": [],
   "source": [
    "rise_fig.savefig('/Users/labc02/Documents/PDCB_data/Figures/rise_time.svg')"
   ]
  },
  {
   "cell_type": "code",
   "execution_count": 22,
   "metadata": {},
   "outputs": [
    {
     "data": {
      "text/html": [
       "<div>\n",
       "<style scoped>\n",
       "    .dataframe tbody tr th:only-of-type {\n",
       "        vertical-align: middle;\n",
       "    }\n",
       "\n",
       "    .dataframe tbody tr th {\n",
       "        vertical-align: top;\n",
       "    }\n",
       "\n",
       "    .dataframe thead th {\n",
       "        text-align: right;\n",
       "    }\n",
       "</style>\n",
       "<table border=\"1\" class=\"dataframe\">\n",
       "  <thead>\n",
       "    <tr style=\"text-align: right;\">\n",
       "      <th></th>\n",
       "      <th>T</th>\n",
       "      <th>dof</th>\n",
       "      <th>tail</th>\n",
       "      <th>p-val</th>\n",
       "      <th>CI95%</th>\n",
       "      <th>cohen-d</th>\n",
       "      <th>BF10</th>\n",
       "      <th>power</th>\n",
       "    </tr>\n",
       "  </thead>\n",
       "  <tbody>\n",
       "    <tr>\n",
       "      <th>T-test</th>\n",
       "      <td>-1.755042</td>\n",
       "      <td>14.380775</td>\n",
       "      <td>two-sided</td>\n",
       "      <td>0.100524</td>\n",
       "      <td>[-0.98, 0.1]</td>\n",
       "      <td>0.735164</td>\n",
       "      <td>1.123</td>\n",
       "      <td>0.340655</td>\n",
       "    </tr>\n",
       "  </tbody>\n",
       "</table>\n",
       "</div>"
      ],
      "text/plain": [
       "               T        dof       tail     p-val         CI95%   cohen-d  \\\n",
       "T-test -1.755042  14.380775  two-sided  0.100524  [-0.98, 0.1]  0.735164   \n",
       "\n",
       "         BF10     power  \n",
       "T-test  1.123  0.340655  "
      ]
     },
     "execution_count": 22,
     "metadata": {},
     "output_type": "execute_result"
    }
   ],
   "source": [
    "pg.ttest(rise_df['Rise_time'][rise_df['Genotype']== 'WT'], rise_df['Rise_time'][rise_df['Genotype']== 'KO'], tail = 'two-sided')"
   ]
  },
  {
   "cell_type": "code",
   "execution_count": 9,
   "metadata": {},
   "outputs": [
    {
     "data": {
      "text/plain": [
       "array([False,  True, False, False, False, False, False, False, False])"
      ]
     },
     "execution_count": 9,
     "metadata": {},
     "output_type": "execute_result"
    }
   ],
   "source": [
    "pg.madmedianrule(rise_df['Rise_time'][rise_df['Genotype']== 'WT'])"
   ]
  },
  {
   "cell_type": "code",
   "execution_count": 14,
   "metadata": {},
   "outputs": [
    {
     "data": {
      "text/plain": [
       "array([False, False, False, False, False, False, False, False, False,\n",
       "       False, False])"
      ]
     },
     "execution_count": 14,
     "metadata": {},
     "output_type": "execute_result"
    }
   ],
   "source": [
    "pg.madmedianrule(rise_df['Rise_time'][rise_df['Genotype']== 'KO'])"
   ]
  },
  {
   "cell_type": "code",
   "execution_count": 10,
   "metadata": {},
   "outputs": [
    {
     "data": {
      "text/plain": [
       "0     3.88\n",
       "8     4.54\n",
       "9     3.42\n",
       "10    3.85\n",
       "12    4.05\n",
       "13    3.65\n",
       "15    3.50\n",
       "18    3.68\n",
       "19    3.74\n",
       "Name: Rise_time, dtype: float64"
      ]
     },
     "execution_count": 10,
     "metadata": {},
     "output_type": "execute_result"
    }
   ],
   "source": [
    "rise_df['Rise_time'][rise_df['Genotype']== 'WT']"
   ]
  },
  {
   "cell_type": "code",
   "execution_count": 12,
   "metadata": {},
   "outputs": [],
   "source": [
    "rise_tidy = rise_df[['ID', 'Genotype', 'Rise_time']].copy()"
   ]
  },
  {
   "cell_type": "code",
   "execution_count": 13,
   "metadata": {
    "collapsed": true,
    "jupyter": {
     "outputs_hidden": true
    }
   },
   "outputs": [
    {
     "data": {
      "text/html": [
       "<div>\n",
       "<style scoped>\n",
       "    .dataframe tbody tr th:only-of-type {\n",
       "        vertical-align: middle;\n",
       "    }\n",
       "\n",
       "    .dataframe tbody tr th {\n",
       "        vertical-align: top;\n",
       "    }\n",
       "\n",
       "    .dataframe thead th {\n",
       "        text-align: right;\n",
       "    }\n",
       "</style>\n",
       "<table border=\"1\" class=\"dataframe\">\n",
       "  <thead>\n",
       "    <tr style=\"text-align: right;\">\n",
       "      <th></th>\n",
       "      <th>ID</th>\n",
       "      <th>Genotype</th>\n",
       "      <th>Rise_time</th>\n",
       "    </tr>\n",
       "  </thead>\n",
       "  <tbody>\n",
       "    <tr>\n",
       "      <th>0</th>\n",
       "      <td>50718</td>\n",
       "      <td>WT</td>\n",
       "      <td>3.88</td>\n",
       "    </tr>\n",
       "    <tr>\n",
       "      <th>1</th>\n",
       "      <td>071118a</td>\n",
       "      <td>KO</td>\n",
       "      <td>5.44</td>\n",
       "    </tr>\n",
       "    <tr>\n",
       "      <th>2</th>\n",
       "      <td>011118a</td>\n",
       "      <td>KO</td>\n",
       "      <td>3.72</td>\n",
       "    </tr>\n",
       "    <tr>\n",
       "      <th>3</th>\n",
       "      <td>011118b</td>\n",
       "      <td>KO</td>\n",
       "      <td>3.39</td>\n",
       "    </tr>\n",
       "    <tr>\n",
       "      <th>4</th>\n",
       "      <td>071118b</td>\n",
       "      <td>KO</td>\n",
       "      <td>3.89</td>\n",
       "    </tr>\n",
       "    <tr>\n",
       "      <th>5</th>\n",
       "      <td>071118c</td>\n",
       "      <td>KO</td>\n",
       "      <td>4.16</td>\n",
       "    </tr>\n",
       "    <tr>\n",
       "      <th>6</th>\n",
       "      <td>081118a</td>\n",
       "      <td>KO</td>\n",
       "      <td>5.16</td>\n",
       "    </tr>\n",
       "    <tr>\n",
       "      <th>7</th>\n",
       "      <td>081118b</td>\n",
       "      <td>KO</td>\n",
       "      <td>3.44</td>\n",
       "    </tr>\n",
       "    <tr>\n",
       "      <th>8</th>\n",
       "      <td>100718</td>\n",
       "      <td>WT</td>\n",
       "      <td>4.54</td>\n",
       "    </tr>\n",
       "    <tr>\n",
       "      <th>9</th>\n",
       "      <td>200718a</td>\n",
       "      <td>WT</td>\n",
       "      <td>3.42</td>\n",
       "    </tr>\n",
       "    <tr>\n",
       "      <th>10</th>\n",
       "      <td>200718b</td>\n",
       "      <td>WT</td>\n",
       "      <td>3.85</td>\n",
       "    </tr>\n",
       "    <tr>\n",
       "      <th>11</th>\n",
       "      <td>240718</td>\n",
       "      <td>KO</td>\n",
       "      <td>3.76</td>\n",
       "    </tr>\n",
       "    <tr>\n",
       "      <th>12</th>\n",
       "      <td>51020</td>\n",
       "      <td>WT</td>\n",
       "      <td>4.05</td>\n",
       "    </tr>\n",
       "    <tr>\n",
       "      <th>13</th>\n",
       "      <td>71020</td>\n",
       "      <td>WT</td>\n",
       "      <td>3.65</td>\n",
       "    </tr>\n",
       "    <tr>\n",
       "      <th>14</th>\n",
       "      <td>100920</td>\n",
       "      <td>KO</td>\n",
       "      <td>4.20</td>\n",
       "    </tr>\n",
       "    <tr>\n",
       "      <th>15</th>\n",
       "      <td>131020</td>\n",
       "      <td>WT</td>\n",
       "      <td>3.50</td>\n",
       "    </tr>\n",
       "    <tr>\n",
       "      <th>16</th>\n",
       "      <td>210920</td>\n",
       "      <td>KO</td>\n",
       "      <td>5.40</td>\n",
       "    </tr>\n",
       "    <tr>\n",
       "      <th>17</th>\n",
       "      <td>220920</td>\n",
       "      <td>KO</td>\n",
       "      <td>4.24</td>\n",
       "    </tr>\n",
       "    <tr>\n",
       "      <th>18</th>\n",
       "      <td>230920</td>\n",
       "      <td>WT</td>\n",
       "      <td>3.68</td>\n",
       "    </tr>\n",
       "    <tr>\n",
       "      <th>19</th>\n",
       "      <td>250920</td>\n",
       "      <td>WT</td>\n",
       "      <td>3.74</td>\n",
       "    </tr>\n",
       "  </tbody>\n",
       "</table>\n",
       "</div>"
      ],
      "text/plain": [
       "         ID Genotype  Rise_time\n",
       "0     50718       WT       3.88\n",
       "1   071118a       KO       5.44\n",
       "2   011118a       KO       3.72\n",
       "3   011118b       KO       3.39\n",
       "4   071118b       KO       3.89\n",
       "5   071118c       KO       4.16\n",
       "6   081118a       KO       5.16\n",
       "7   081118b       KO       3.44\n",
       "8    100718       WT       4.54\n",
       "9   200718a       WT       3.42\n",
       "10  200718b       WT       3.85\n",
       "11   240718       KO       3.76\n",
       "12    51020       WT       4.05\n",
       "13    71020       WT       3.65\n",
       "14   100920       KO       4.20\n",
       "15   131020       WT       3.50\n",
       "16   210920       KO       5.40\n",
       "17   220920       KO       4.24\n",
       "18   230920       WT       3.68\n",
       "19   250920       WT       3.74"
      ]
     },
     "execution_count": 13,
     "metadata": {},
     "output_type": "execute_result"
    }
   ],
   "source": [
    "rise_tidy"
   ]
  },
  {
   "cell_type": "markdown",
   "metadata": {},
   "source": [
    "#### Decay tau"
   ]
  },
  {
   "cell_type": "code",
   "execution_count": 31,
   "metadata": {},
   "outputs": [
    {
     "data": {
      "text/html": [
       "<div>\n",
       "<style scoped>\n",
       "    .dataframe tbody tr th:only-of-type {\n",
       "        vertical-align: middle;\n",
       "    }\n",
       "\n",
       "    .dataframe tbody tr th {\n",
       "        vertical-align: top;\n",
       "    }\n",
       "\n",
       "    .dataframe thead th {\n",
       "        text-align: right;\n",
       "    }\n",
       "</style>\n",
       "<table border=\"1\" class=\"dataframe\">\n",
       "  <thead>\n",
       "    <tr style=\"text-align: right;\">\n",
       "      <th></th>\n",
       "      <th>W</th>\n",
       "      <th>pval</th>\n",
       "      <th>normal</th>\n",
       "    </tr>\n",
       "  </thead>\n",
       "  <tbody>\n",
       "    <tr>\n",
       "      <th>WT</th>\n",
       "      <td>0.959182</td>\n",
       "      <td>0.789719</td>\n",
       "      <td>True</td>\n",
       "    </tr>\n",
       "    <tr>\n",
       "      <th>KO</th>\n",
       "      <td>0.938580</td>\n",
       "      <td>0.503956</td>\n",
       "      <td>True</td>\n",
       "    </tr>\n",
       "  </tbody>\n",
       "</table>\n",
       "</div>"
      ],
      "text/plain": [
       "           W      pval  normal\n",
       "WT  0.959182  0.789719    True\n",
       "KO  0.938580  0.503956    True"
      ]
     },
     "execution_count": 31,
     "metadata": {},
     "output_type": "execute_result"
    }
   ],
   "source": [
    "pg.normality(data = rise_df, dv = 'Decay_tau', group = 'Genotype')"
   ]
  },
  {
   "cell_type": "code",
   "execution_count": 39,
   "metadata": {},
   "outputs": [
    {
     "data": {
      "image/png": "[encoded data removed]",
      "text/plain": [
       "<Figure size 144x144 with 1 Axes>"
      ]
     },
     "metadata": {
      "needs_background": "light"
     },
     "output_type": "display_data"
    }
   ],
   "source": [
    "decay_fig = plt.figure(figsize = (2, 2))\n",
    "sns.boxplot(data = rise_df, x = 'Genotype', y = 'Decay_tau', palette=['royalblue', 'forestgreen'], order = ['WT', 'KO'], width = .4, showmeans = False, showfliers = True, )\n",
    "sns.despine()\n",
    "plt.ylabel('Decay constant (ms)')\n",
    "plt.xlabel('')\n",
    "plt.tight_layout()"
   ]
  },
  {
   "cell_type": "code",
   "execution_count": 36,
   "metadata": {},
   "outputs": [
    {
     "data": {
      "text/html": [
       "<div>\n",
       "<style scoped>\n",
       "    .dataframe tbody tr th:only-of-type {\n",
       "        vertical-align: middle;\n",
       "    }\n",
       "\n",
       "    .dataframe tbody tr th {\n",
       "        vertical-align: top;\n",
       "    }\n",
       "\n",
       "    .dataframe thead th {\n",
       "        text-align: right;\n",
       "    }\n",
       "</style>\n",
       "<table border=\"1\" class=\"dataframe\">\n",
       "  <thead>\n",
       "    <tr style=\"text-align: right;\">\n",
       "      <th></th>\n",
       "      <th>T</th>\n",
       "      <th>dof</th>\n",
       "      <th>tail</th>\n",
       "      <th>p-val</th>\n",
       "      <th>CI95%</th>\n",
       "      <th>cohen-d</th>\n",
       "      <th>BF10</th>\n",
       "      <th>power</th>\n",
       "    </tr>\n",
       "  </thead>\n",
       "  <tbody>\n",
       "    <tr>\n",
       "      <th>T-test</th>\n",
       "      <td>-1.583255</td>\n",
       "      <td>17.435399</td>\n",
       "      <td>two-sided</td>\n",
       "      <td>0.131333</td>\n",
       "      <td>[-3.52, 0.5]</td>\n",
       "      <td>0.709184</td>\n",
       "      <td>0.934</td>\n",
       "      <td>0.320906</td>\n",
       "    </tr>\n",
       "  </tbody>\n",
       "</table>\n",
       "</div>"
      ],
      "text/plain": [
       "               T        dof       tail     p-val         CI95%   cohen-d  \\\n",
       "T-test -1.583255  17.435399  two-sided  0.131333  [-3.52, 0.5]  0.709184   \n",
       "\n",
       "         BF10     power  \n",
       "T-test  0.934  0.320906  "
      ]
     },
     "execution_count": 36,
     "metadata": {},
     "output_type": "execute_result"
    }
   ],
   "source": [
    "pg.ttest(rise_df['Decay_tau'][rise_df['Genotype']== 'WT'], rise_df['Decay_tau'][rise_df['Genotype']== 'KO'], tail = 'two-sided')\n"
   ]
  },
  {
   "cell_type": "code",
   "execution_count": 40,
   "metadata": {},
   "outputs": [],
   "source": [
    "decay_fig.savefig('/Users/labc02/Documents/PDCB_data/Figures/decay_tau.svg')"
   ]
  },
  {
   "cell_type": "markdown",
   "metadata": {},
   "source": [
    "Event count:\n",
    "\n",
    "WT: 4229\n",
    "\n",
    "KO: 5656"
   ]
  },
  {
   "cell_type": "code",
   "execution_count": null,
   "metadata": {},
   "outputs": [],
   "source": []
  }
 ],
 "metadata": {
  "kernelspec": {
   "display_name": "Python 3",
   "language": "python",
   "name": "python3"
  },
  "language_info": {
   "codemirror_mode": {
    "name": "ipython",
    "version": 3
   },
   "file_extension": ".py",
   "mimetype": "text/x-python",
   "name": "python",
   "nbconvert_exporter": "python",
   "pygments_lexer": "ipython3",
   "version": "3.8.2"
  }
 },
 "nbformat": 4,
 "nbformat_minor": 4
}
