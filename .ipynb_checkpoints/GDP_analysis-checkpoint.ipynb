{
 "cells": [
  {
   "cell_type": "markdown",
   "metadata": {},
   "source": [
    "## Giant potentials"
   ]
  },
  {
   "cell_type": "code",
   "execution_count": 2,
   "metadata": {},
   "outputs": [
    {
     "name": "stderr",
     "output_type": "stream",
     "text": [
      "/opt/miniconda3/envs/databs/lib/python3.8/site-packages/outdated/utils.py:14: OutdatedPackageWarning: The package pingouin is out of date. Your version is 0.3.6, the latest is 0.3.10.\n",
      "Set the environment variable OUTDATED_IGNORE=1 to disable these warnings.\n",
      "  return warn(\n",
      "/opt/miniconda3/envs/databs/lib/python3.8/site-packages/outdated/utils.py:14: OutdatedPackageWarning: The package outdated is out of date. Your version is 0.2.0, the latest is 0.2.1.\n",
      "Set the environment variable OUTDATED_IGNORE=1 to disable these warnings.\n",
      "  return warn(\n"
     ]
    }
   ],
   "source": [
    "import matplotlib.pyplot as plt\n",
    "import seaborn as sns\n",
    "import pandas as pd\n",
    "import pingouin as pg\n",
    "import numpy as np"
   ]
  },
  {
   "cell_type": "code",
   "execution_count": 3,
   "metadata": {},
   "outputs": [],
   "source": [
    "gdp_df = pd.read_csv('/Users/labc02/Documents/PDCB_data/fgdp_analysis.csv')"
   ]
  },
  {
   "cell_type": "markdown",
   "metadata": {},
   "source": [
    "Sample sizes"
   ]
  },
  {
   "cell_type": "code",
   "execution_count": 4,
   "metadata": {},
   "outputs": [
    {
     "data": {
      "text/plain": [
       "Genotype\n",
       "KO    7\n",
       "WT    8\n",
       "Name: Date, dtype: int64"
      ]
     },
     "execution_count": 4,
     "metadata": {},
     "output_type": "execute_result"
    }
   ],
   "source": [
    "gdp_df.groupby('Genotype')['Date'].count()"
   ]
  },
  {
   "cell_type": "code",
   "execution_count": 5,
   "metadata": {},
   "outputs": [
    {
     "data": {
      "image/png": "[encoded data removed]",
      "text/plain": [
       "<Figure size 432x216 with 6 Axes>"
      ]
     },
     "metadata": {
      "needs_background": "light"
     },
     "output_type": "display_data"
    }
   ],
   "source": [
    "fig, axs = plt.subplots(2, 3, sharex = True, figsize = (6,3))\n",
    "\n",
    "sns.boxplot(x = 'Genotype', y = 'fGDP_amp', data = gdp_df, palette = ['royalblue', 'forestgreen'], order = ['WT', 'KO'], width  = 0.5, ax = axs[0,0], showfliers = False)\n",
    "sns.despine()\n",
    "#axs[0,0].set_title('fGDP Amplitude')\n",
    "axs[0,0].set_ylabel(r'$\\mu$V')\n",
    "axs[0,0].set_xlabel('')\n",
    "\n",
    "sns.boxplot(x = 'Genotype', y = 'fGDP_halfwidth', data = gdp_df, palette = ['royalblue', 'forestgreen'], order = ['WT', 'KO'], width = 0.4, ax = axs[0,1], showfliers = False)\n",
    "sns.despine()\n",
    "#axs[0,1].set_title('fGDP Half-width')\n",
    "axs[0,1].set_ylabel('ms')\n",
    "axs[0,1].set_xlabel('')\n",
    "\n",
    "sns.boxplot(x = 'Genotype', y = 'fGDP_interval', data = gdp_df, palette = ['royalblue', 'forestgreen'], order = ['WT', 'KO'], width = 0.4, ax = axs[0,2], showfliers = False)\n",
    "sns.despine()\n",
    "#axs[0,2].set_title('fGDP Interval')\n",
    "axs[0,2].set_ylabel('Seconds')\n",
    "axs[0,2].set_xlabel('')\n",
    "\n",
    "sns.boxplot(x = 'Genotype', y = 'MUA_fq', data = gdp_df, palette = ['royalblue', 'forestgreen'], order = ['WT', 'KO'], width = 0.4, ax = axs[1,0], showfliers = False)\n",
    "sns.despine()\n",
    "axs[1,0].set_ylim(1,13)\n",
    "axs[1,0].annotate('**', xy=(0.5, .93), xytext=(0.5, 1.02), fontsize = 10, xycoords='axes fraction', ha='center',\n",
    "                va='top', arrowprops=dict(arrowstyle='-[, widthB=2, lengthB=.2', lw=1.5, color='k'))\n",
    "#axs[1,0].set_title('MUA')\n",
    "axs[1,0].set_ylabel(r'MUA ($s^{-1}$)')\n",
    "axs[1,0].set_xlabel('')\n",
    "\n",
    "sns.boxplot(x = 'Genotype', y = 'inter_fGDP_MUA_fq', data = gdp_df, palette = ['royalblue', 'forestgreen'], order = ['WT', 'KO'], width = 0.4, ax = axs[1,1], showfliers = False)\n",
    "sns.despine()\n",
    "axs[1,1].set_ylim(1,12)\n",
    "axs[1,1].annotate('*', xy=(0.5, .93), xytext=(0.5, 1.02), fontsize = 10, xycoords='axes fraction', ha='center',\n",
    "                va='top', arrowprops=dict(arrowstyle='-[, widthB=2, lengthB=.2', lw=1.5, color='k'))\n",
    "#axs[1,1].set_title('inter fGDP MUA')\n",
    "axs[1,1].set_ylabel(r'MUA ($s^{-1}$)')\n",
    "axs[1,1].set_xlabel('')\n",
    "\n",
    "sns.boxplot(x = 'Genotype', y = 'intra_fGDP_MUA_fq', data = gdp_df, palette = ['royalblue', 'forestgreen'], order = ['WT', 'KO'], width = 0.4, ax = axs[1,2], showfliers = False)\n",
    "sns.despine()\n",
    "axs[1,2].set_ylim(105,175)\n",
    "axs[1,2].annotate('*', xy=(0.5, .93), xytext=(0.5, 1.02), fontsize = 10, xycoords='axes fraction', ha='center',\n",
    "                va='top', arrowprops=dict(arrowstyle='-[, widthB=2, lengthB=.2', lw=1, color='k'))\n",
    "#axs[1,2].set_title('intra fGDP MUA')\n",
    "axs[1,2].set_ylabel(r'MUA ($s^{-1}$)')\n",
    "axs[1,2].set_xlabel('')\n",
    "\n",
    "plt.tight_layout()\n"
   ]
  },
  {
   "cell_type": "code",
   "execution_count": 72,
   "metadata": {},
   "outputs": [],
   "source": [
    "fig.savefig('/Users/labc02/Documents/PDCB_data/Behavior/Figures/fGDP_fig_paper.svg')"
   ]
  },
  {
   "cell_type": "markdown",
   "metadata": {},
   "source": [
    "### Amplitude"
   ]
  },
  {
   "cell_type": "code",
   "execution_count": 6,
   "metadata": {},
   "outputs": [
    {
     "data": {
      "text/html": [
       "<div>\n",
       "<style scoped>\n",
       "    .dataframe tbody tr th:only-of-type {\n",
       "        vertical-align: middle;\n",
       "    }\n",
       "\n",
       "    .dataframe tbody tr th {\n",
       "        vertical-align: top;\n",
       "    }\n",
       "\n",
       "    .dataframe thead th {\n",
       "        text-align: right;\n",
       "    }\n",
       "</style>\n",
       "<table border=\"1\" class=\"dataframe\">\n",
       "  <thead>\n",
       "    <tr style=\"text-align: right;\">\n",
       "      <th></th>\n",
       "      <th>W</th>\n",
       "      <th>pval</th>\n",
       "      <th>normal</th>\n",
       "    </tr>\n",
       "  </thead>\n",
       "  <tbody>\n",
       "    <tr>\n",
       "      <th>WT</th>\n",
       "      <td>0.850656</td>\n",
       "      <td>0.096738</td>\n",
       "      <td>True</td>\n",
       "    </tr>\n",
       "    <tr>\n",
       "      <th>KO</th>\n",
       "      <td>0.751247</td>\n",
       "      <td>0.013074</td>\n",
       "      <td>False</td>\n",
       "    </tr>\n",
       "  </tbody>\n",
       "</table>\n",
       "</div>"
      ],
      "text/plain": [
       "           W      pval  normal\n",
       "WT  0.850656  0.096738    True\n",
       "KO  0.751247  0.013074   False"
      ]
     },
     "execution_count": 6,
     "metadata": {},
     "output_type": "execute_result"
    }
   ],
   "source": [
    "pg.normality(data = gdp_df, dv = 'fGDP_amp', group = 'Genotype')"
   ]
  },
  {
   "cell_type": "code",
   "execution_count": 7,
   "metadata": {},
   "outputs": [
    {
     "name": "stdout",
     "output_type": "stream",
     "text": [
      "Amplitude: \n",
      " WT median: 82.5235 \n",
      " KO median: 60.33\n"
     ]
    }
   ],
   "source": [
    "WT_median = gdp_df['fGDP_amp'][gdp_df['Genotype'] == 'WT'].median()\n",
    "#WT_sem = of_raw['Resting_Time_Total'][of_raw['Genotype'] == 'WT'].sem()\n",
    "KO_median = gdp_df['fGDP_amp'][gdp_df['Genotype'] == 'KO'].median()\n",
    "#KO_sem = of_raw['Resting_Time_Total'][of_raw['Genotype'] == 'KO'].sem()\n",
    "print(f'Amplitude: \\n WT median: {WT_median} \\n KO median: {KO_median}')"
   ]
  },
  {
   "cell_type": "code",
   "execution_count": 8,
   "metadata": {},
   "outputs": [
    {
     "data": {
      "text/html": [
       "<div>\n",
       "<style scoped>\n",
       "    .dataframe tbody tr th:only-of-type {\n",
       "        vertical-align: middle;\n",
       "    }\n",
       "\n",
       "    .dataframe tbody tr th {\n",
       "        vertical-align: top;\n",
       "    }\n",
       "\n",
       "    .dataframe thead th {\n",
       "        text-align: right;\n",
       "    }\n",
       "</style>\n",
       "<table border=\"1\" class=\"dataframe\">\n",
       "  <thead>\n",
       "    <tr style=\"text-align: right;\">\n",
       "      <th></th>\n",
       "      <th>U-val</th>\n",
       "      <th>tail</th>\n",
       "      <th>p-val</th>\n",
       "      <th>RBC</th>\n",
       "      <th>CLES</th>\n",
       "    </tr>\n",
       "  </thead>\n",
       "  <tbody>\n",
       "    <tr>\n",
       "      <th>MWU</th>\n",
       "      <td>25.0</td>\n",
       "      <td>two-sided</td>\n",
       "      <td>0.772337</td>\n",
       "      <td>0.107143</td>\n",
       "      <td>0.553571</td>\n",
       "    </tr>\n",
       "  </tbody>\n",
       "</table>\n",
       "</div>"
      ],
      "text/plain": [
       "     U-val       tail     p-val       RBC      CLES\n",
       "MWU   25.0  two-sided  0.772337  0.107143  0.553571"
      ]
     },
     "execution_count": 8,
     "metadata": {},
     "output_type": "execute_result"
    }
   ],
   "source": [
    "pg.mwu(x = gdp_df['fGDP_amp'][gdp_df['Genotype'] == 'WT'], y = gdp_df['fGDP_amp'][gdp_df['Genotype'] == 'KO'])"
   ]
  },
  {
   "cell_type": "markdown",
   "metadata": {},
   "source": [
    "No differences"
   ]
  },
  {
   "cell_type": "markdown",
   "metadata": {},
   "source": [
    "### Half-width"
   ]
  },
  {
   "cell_type": "code",
   "execution_count": 9,
   "metadata": {},
   "outputs": [
    {
     "data": {
      "text/html": [
       "<div>\n",
       "<style scoped>\n",
       "    .dataframe tbody tr th:only-of-type {\n",
       "        vertical-align: middle;\n",
       "    }\n",
       "\n",
       "    .dataframe tbody tr th {\n",
       "        vertical-align: top;\n",
       "    }\n",
       "\n",
       "    .dataframe thead th {\n",
       "        text-align: right;\n",
       "    }\n",
       "</style>\n",
       "<table border=\"1\" class=\"dataframe\">\n",
       "  <thead>\n",
       "    <tr style=\"text-align: right;\">\n",
       "      <th></th>\n",
       "      <th>W</th>\n",
       "      <th>pval</th>\n",
       "      <th>normal</th>\n",
       "    </tr>\n",
       "  </thead>\n",
       "  <tbody>\n",
       "    <tr>\n",
       "      <th>WT</th>\n",
       "      <td>0.866608</td>\n",
       "      <td>0.139611</td>\n",
       "      <td>True</td>\n",
       "    </tr>\n",
       "    <tr>\n",
       "      <th>KO</th>\n",
       "      <td>0.888963</td>\n",
       "      <td>0.269298</td>\n",
       "      <td>True</td>\n",
       "    </tr>\n",
       "  </tbody>\n",
       "</table>\n",
       "</div>"
      ],
      "text/plain": [
       "           W      pval  normal\n",
       "WT  0.866608  0.139611    True\n",
       "KO  0.888963  0.269298    True"
      ]
     },
     "execution_count": 9,
     "metadata": {},
     "output_type": "execute_result"
    }
   ],
   "source": [
    "pg.normality(data = gdp_df, dv = 'fGDP_halfwidth', group = 'Genotype')"
   ]
  },
  {
   "cell_type": "code",
   "execution_count": 10,
   "metadata": {},
   "outputs": [
    {
     "name": "stdout",
     "output_type": "stream",
     "text": [
      "Half-width: \n",
      " WT mean: 87.17, +- 16.96140082237145 SEM \n",
      " KO mean: 102.54714285714286, +- 21.912049491664852 SEM\n"
     ]
    }
   ],
   "source": [
    "WT_mean = gdp_df['fGDP_halfwidth'][gdp_df['Genotype'] == 'WT'].mean()\n",
    "WT_sem = gdp_df['fGDP_halfwidth'][gdp_df['Genotype'] == 'WT'].sem()\n",
    "KO_mean = gdp_df['fGDP_halfwidth'][gdp_df['Genotype'] == 'KO'].mean()\n",
    "KO_sem = gdp_df['fGDP_halfwidth'][gdp_df['Genotype'] == 'KO'].sem()\n",
    "print(f'Half-width: \\n WT mean: {WT_mean}, +- {WT_sem} SEM \\n KO mean: {KO_mean}, +- {KO_sem} SEM')"
   ]
  },
  {
   "cell_type": "code",
   "execution_count": 11,
   "metadata": {},
   "outputs": [
    {
     "data": {
      "text/html": [
       "<div>\n",
       "<style scoped>\n",
       "    .dataframe tbody tr th:only-of-type {\n",
       "        vertical-align: middle;\n",
       "    }\n",
       "\n",
       "    .dataframe tbody tr th {\n",
       "        vertical-align: top;\n",
       "    }\n",
       "\n",
       "    .dataframe thead th {\n",
       "        text-align: right;\n",
       "    }\n",
       "</style>\n",
       "<table border=\"1\" class=\"dataframe\">\n",
       "  <thead>\n",
       "    <tr style=\"text-align: right;\">\n",
       "      <th></th>\n",
       "      <th>T</th>\n",
       "      <th>dof</th>\n",
       "      <th>tail</th>\n",
       "      <th>p-val</th>\n",
       "      <th>CI95%</th>\n",
       "      <th>cohen-d</th>\n",
       "      <th>BF10</th>\n",
       "      <th>power</th>\n",
       "    </tr>\n",
       "  </thead>\n",
       "  <tbody>\n",
       "    <tr>\n",
       "      <th>T-test</th>\n",
       "      <td>-0.554937</td>\n",
       "      <td>11.733521</td>\n",
       "      <td>two-sided</td>\n",
       "      <td>0.58936</td>\n",
       "      <td>[-75.9, 45.15]</td>\n",
       "      <td>0.291095</td>\n",
       "      <td>0.485</td>\n",
       "      <td>0.08176</td>\n",
       "    </tr>\n",
       "  </tbody>\n",
       "</table>\n",
       "</div>"
      ],
      "text/plain": [
       "               T        dof       tail    p-val           CI95%   cohen-d  \\\n",
       "T-test -0.554937  11.733521  two-sided  0.58936  [-75.9, 45.15]  0.291095   \n",
       "\n",
       "         BF10    power  \n",
       "T-test  0.485  0.08176  "
      ]
     },
     "execution_count": 11,
     "metadata": {},
     "output_type": "execute_result"
    }
   ],
   "source": [
    "pg.ttest(x = gdp_df['fGDP_halfwidth'][gdp_df['Genotype'] == 'WT'], y = gdp_df['fGDP_halfwidth'][gdp_df['Genotype'] == 'KO'])"
   ]
  },
  {
   "cell_type": "markdown",
   "metadata": {},
   "source": [
    "No differences"
   ]
  },
  {
   "cell_type": "markdown",
   "metadata": {},
   "source": [
    "### Interval"
   ]
  },
  {
   "cell_type": "code",
   "execution_count": 12,
   "metadata": {},
   "outputs": [
    {
     "data": {
      "text/html": [
       "<div>\n",
       "<style scoped>\n",
       "    .dataframe tbody tr th:only-of-type {\n",
       "        vertical-align: middle;\n",
       "    }\n",
       "\n",
       "    .dataframe tbody tr th {\n",
       "        vertical-align: top;\n",
       "    }\n",
       "\n",
       "    .dataframe thead th {\n",
       "        text-align: right;\n",
       "    }\n",
       "</style>\n",
       "<table border=\"1\" class=\"dataframe\">\n",
       "  <thead>\n",
       "    <tr style=\"text-align: right;\">\n",
       "      <th></th>\n",
       "      <th>W</th>\n",
       "      <th>pval</th>\n",
       "      <th>normal</th>\n",
       "    </tr>\n",
       "  </thead>\n",
       "  <tbody>\n",
       "    <tr>\n",
       "      <th>WT</th>\n",
       "      <td>0.863930</td>\n",
       "      <td>0.131365</td>\n",
       "      <td>True</td>\n",
       "    </tr>\n",
       "    <tr>\n",
       "      <th>KO</th>\n",
       "      <td>0.912896</td>\n",
       "      <td>0.416288</td>\n",
       "      <td>True</td>\n",
       "    </tr>\n",
       "  </tbody>\n",
       "</table>\n",
       "</div>"
      ],
      "text/plain": [
       "           W      pval  normal\n",
       "WT  0.863930  0.131365    True\n",
       "KO  0.912896  0.416288    True"
      ]
     },
     "execution_count": 12,
     "metadata": {},
     "output_type": "execute_result"
    }
   ],
   "source": [
    "pg.normality(data = gdp_df, dv = 'fGDP_interval', group = 'Genotype')"
   ]
  },
  {
   "cell_type": "code",
   "execution_count": 13,
   "metadata": {},
   "outputs": [
    {
     "name": "stdout",
     "output_type": "stream",
     "text": [
      "Interval: \n",
      " WT mean: 42.38875, +- 9.599028306013212 SEM \n",
      " KO mean: 31.919285714285714, +- 5.8065983022366385 SEM\n"
     ]
    }
   ],
   "source": [
    "WT_mean = gdp_df['fGDP_interval'][gdp_df['Genotype'] == 'WT'].mean()\n",
    "WT_sem = gdp_df['fGDP_interval'][gdp_df['Genotype'] == 'WT'].sem()\n",
    "KO_mean = gdp_df['fGDP_interval'][gdp_df['Genotype'] == 'KO'].mean()\n",
    "KO_sem = gdp_df['fGDP_interval'][gdp_df['Genotype'] == 'KO'].sem()\n",
    "print(f'Interval: \\n WT mean: {WT_mean}, +- {WT_sem} SEM \\n KO mean: {KO_mean}, +- {KO_sem} SEM')"
   ]
  },
  {
   "cell_type": "code",
   "execution_count": 14,
   "metadata": {},
   "outputs": [
    {
     "data": {
      "text/html": [
       "<div>\n",
       "<style scoped>\n",
       "    .dataframe tbody tr th:only-of-type {\n",
       "        vertical-align: middle;\n",
       "    }\n",
       "\n",
       "    .dataframe tbody tr th {\n",
       "        vertical-align: top;\n",
       "    }\n",
       "\n",
       "    .dataframe thead th {\n",
       "        text-align: right;\n",
       "    }\n",
       "</style>\n",
       "<table border=\"1\" class=\"dataframe\">\n",
       "  <thead>\n",
       "    <tr style=\"text-align: right;\">\n",
       "      <th></th>\n",
       "      <th>T</th>\n",
       "      <th>dof</th>\n",
       "      <th>tail</th>\n",
       "      <th>p-val</th>\n",
       "      <th>CI95%</th>\n",
       "      <th>cohen-d</th>\n",
       "      <th>BF10</th>\n",
       "      <th>power</th>\n",
       "    </tr>\n",
       "  </thead>\n",
       "  <tbody>\n",
       "    <tr>\n",
       "      <th>T-test</th>\n",
       "      <td>0.93322</td>\n",
       "      <td>11.29565</td>\n",
       "      <td>two-sided</td>\n",
       "      <td>0.370226</td>\n",
       "      <td>[-14.14, 35.08]</td>\n",
       "      <td>0.465495</td>\n",
       "      <td>0.582</td>\n",
       "      <td>0.132781</td>\n",
       "    </tr>\n",
       "  </tbody>\n",
       "</table>\n",
       "</div>"
      ],
      "text/plain": [
       "              T       dof       tail     p-val            CI95%   cohen-d  \\\n",
       "T-test  0.93322  11.29565  two-sided  0.370226  [-14.14, 35.08]  0.465495   \n",
       "\n",
       "         BF10     power  \n",
       "T-test  0.582  0.132781  "
      ]
     },
     "execution_count": 14,
     "metadata": {},
     "output_type": "execute_result"
    }
   ],
   "source": [
    "pg.ttest(x = gdp_df['fGDP_interval'][gdp_df['Genotype'] == 'WT'], y = gdp_df['fGDP_interval'][gdp_df['Genotype'] == 'KO'])"
   ]
  },
  {
   "cell_type": "markdown",
   "metadata": {},
   "source": [
    "No differences"
   ]
  },
  {
   "cell_type": "markdown",
   "metadata": {},
   "source": [
    "### MUA General\n",
    "\n",
    "All MUA"
   ]
  },
  {
   "cell_type": "code",
   "execution_count": 15,
   "metadata": {},
   "outputs": [
    {
     "data": {
      "text/html": [
       "<div>\n",
       "<style scoped>\n",
       "    .dataframe tbody tr th:only-of-type {\n",
       "        vertical-align: middle;\n",
       "    }\n",
       "\n",
       "    .dataframe tbody tr th {\n",
       "        vertical-align: top;\n",
       "    }\n",
       "\n",
       "    .dataframe thead th {\n",
       "        text-align: right;\n",
       "    }\n",
       "</style>\n",
       "<table border=\"1\" class=\"dataframe\">\n",
       "  <thead>\n",
       "    <tr style=\"text-align: right;\">\n",
       "      <th></th>\n",
       "      <th>W</th>\n",
       "      <th>pval</th>\n",
       "      <th>normal</th>\n",
       "    </tr>\n",
       "  </thead>\n",
       "  <tbody>\n",
       "    <tr>\n",
       "      <th>WT</th>\n",
       "      <td>0.956179</td>\n",
       "      <td>0.773019</td>\n",
       "      <td>True</td>\n",
       "    </tr>\n",
       "    <tr>\n",
       "      <th>KO</th>\n",
       "      <td>0.944131</td>\n",
       "      <td>0.676160</td>\n",
       "      <td>True</td>\n",
       "    </tr>\n",
       "  </tbody>\n",
       "</table>\n",
       "</div>"
      ],
      "text/plain": [
       "           W      pval  normal\n",
       "WT  0.956179  0.773019    True\n",
       "KO  0.944131  0.676160    True"
      ]
     },
     "execution_count": 15,
     "metadata": {},
     "output_type": "execute_result"
    }
   ],
   "source": [
    "pg.normality(data = gdp_df, dv = 'MUA_fq', group = 'Genotype')"
   ]
  },
  {
   "cell_type": "code",
   "execution_count": 16,
   "metadata": {},
   "outputs": [
    {
     "name": "stdout",
     "output_type": "stream",
     "text": [
      "MUA frequency: \n",
      " WT mean: 8.2675, +- 0.7020702803647426 SEM \n",
      " KO mean: 5.275714285714286, +- 0.6739501788243808 SEM\n"
     ]
    }
   ],
   "source": [
    "WT_mean = gdp_df['MUA_fq'][gdp_df['Genotype'] == 'WT'].mean()\n",
    "WT_sem = gdp_df['MUA_fq'][gdp_df['Genotype'] == 'WT'].sem()\n",
    "KO_mean = gdp_df['MUA_fq'][gdp_df['Genotype'] == 'KO'].mean()\n",
    "KO_sem = gdp_df['MUA_fq'][gdp_df['Genotype'] == 'KO'].sem()\n",
    "print(f'MUA frequency: \\n WT mean: {WT_mean}, +- {WT_sem} SEM \\n KO mean: {KO_mean}, +- {KO_sem} SEM')"
   ]
  },
  {
   "cell_type": "code",
   "execution_count": 17,
   "metadata": {},
   "outputs": [
    {
     "data": {
      "text/html": [
       "<div>\n",
       "<style scoped>\n",
       "    .dataframe tbody tr th:only-of-type {\n",
       "        vertical-align: middle;\n",
       "    }\n",
       "\n",
       "    .dataframe tbody tr th {\n",
       "        vertical-align: top;\n",
       "    }\n",
       "\n",
       "    .dataframe thead th {\n",
       "        text-align: right;\n",
       "    }\n",
       "</style>\n",
       "<table border=\"1\" class=\"dataframe\">\n",
       "  <thead>\n",
       "    <tr style=\"text-align: right;\">\n",
       "      <th></th>\n",
       "      <th>T</th>\n",
       "      <th>dof</th>\n",
       "      <th>tail</th>\n",
       "      <th>p-val</th>\n",
       "      <th>CI95%</th>\n",
       "      <th>cohen-d</th>\n",
       "      <th>BF10</th>\n",
       "      <th>power</th>\n",
       "    </tr>\n",
       "  </thead>\n",
       "  <tbody>\n",
       "    <tr>\n",
       "      <th>T-test</th>\n",
       "      <td>3.074184</td>\n",
       "      <td>12.983009</td>\n",
       "      <td>two-sided</td>\n",
       "      <td>0.008889</td>\n",
       "      <td>[0.89, 5.09]</td>\n",
       "      <td>1.578846</td>\n",
       "      <td>5.672</td>\n",
       "      <td>0.804936</td>\n",
       "    </tr>\n",
       "  </tbody>\n",
       "</table>\n",
       "</div>"
      ],
      "text/plain": [
       "               T        dof       tail     p-val         CI95%   cohen-d  \\\n",
       "T-test  3.074184  12.983009  two-sided  0.008889  [0.89, 5.09]  1.578846   \n",
       "\n",
       "         BF10     power  \n",
       "T-test  5.672  0.804936  "
      ]
     },
     "execution_count": 17,
     "metadata": {},
     "output_type": "execute_result"
    }
   ],
   "source": [
    "pg.ttest(x = gdp_df['MUA_fq'][gdp_df['Genotype'] == 'WT'], y = gdp_df['MUA_fq'][gdp_df['Genotype'] == 'KO'])"
   ]
  },
  {
   "cell_type": "markdown",
   "metadata": {},
   "source": [
    "Significant differences in overall MUA."
   ]
  },
  {
   "cell_type": "markdown",
   "metadata": {},
   "source": [
    "### MUA inter-GDP\n",
    "\n",
    "\"Spontaneous\" MUA in between GDPs"
   ]
  },
  {
   "cell_type": "code",
   "execution_count": 18,
   "metadata": {},
   "outputs": [
    {
     "data": {
      "text/html": [
       "<div>\n",
       "<style scoped>\n",
       "    .dataframe tbody tr th:only-of-type {\n",
       "        vertical-align: middle;\n",
       "    }\n",
       "\n",
       "    .dataframe tbody tr th {\n",
       "        vertical-align: top;\n",
       "    }\n",
       "\n",
       "    .dataframe thead th {\n",
       "        text-align: right;\n",
       "    }\n",
       "</style>\n",
       "<table border=\"1\" class=\"dataframe\">\n",
       "  <thead>\n",
       "    <tr style=\"text-align: right;\">\n",
       "      <th></th>\n",
       "      <th>W</th>\n",
       "      <th>pval</th>\n",
       "      <th>normal</th>\n",
       "    </tr>\n",
       "  </thead>\n",
       "  <tbody>\n",
       "    <tr>\n",
       "      <th>WT</th>\n",
       "      <td>0.856575</td>\n",
       "      <td>0.110972</td>\n",
       "      <td>True</td>\n",
       "    </tr>\n",
       "    <tr>\n",
       "      <th>KO</th>\n",
       "      <td>0.937613</td>\n",
       "      <td>0.617325</td>\n",
       "      <td>True</td>\n",
       "    </tr>\n",
       "  </tbody>\n",
       "</table>\n",
       "</div>"
      ],
      "text/plain": [
       "           W      pval  normal\n",
       "WT  0.856575  0.110972    True\n",
       "KO  0.937613  0.617325    True"
      ]
     },
     "execution_count": 18,
     "metadata": {},
     "output_type": "execute_result"
    }
   ],
   "source": [
    "pg.normality(data = gdp_df, dv = 'inter_fGDP_MUA_fq', group = 'Genotype')"
   ]
  },
  {
   "cell_type": "code",
   "execution_count": 19,
   "metadata": {},
   "outputs": [
    {
     "name": "stdout",
     "output_type": "stream",
     "text": [
      "inter fGDP MUA frequency: \n",
      " WT mean: 7.61875, +- 0.6797122224567856 SEM \n",
      " KO mean: 4.492857142857143, +- 0.7758887815663688 SEM\n"
     ]
    }
   ],
   "source": [
    "WT_mean = gdp_df['inter_fGDP_MUA_fq'][gdp_df['Genotype'] == 'WT'].mean()\n",
    "WT_sem = gdp_df['inter_fGDP_MUA_fq'][gdp_df['Genotype'] == 'WT'].sem()\n",
    "KO_mean = gdp_df['inter_fGDP_MUA_fq'][gdp_df['Genotype'] == 'KO'].mean()\n",
    "KO_sem = gdp_df['inter_fGDP_MUA_fq'][gdp_df['Genotype'] == 'KO'].sem()\n",
    "print(f'inter fGDP MUA frequency: \\n WT mean: {WT_mean}, +- {WT_sem} SEM \\n KO mean: {KO_mean}, +- {KO_sem} SEM')"
   ]
  },
  {
   "cell_type": "code",
   "execution_count": 20,
   "metadata": {},
   "outputs": [
    {
     "data": {
      "text/html": [
       "<div>\n",
       "<style scoped>\n",
       "    .dataframe tbody tr th:only-of-type {\n",
       "        vertical-align: middle;\n",
       "    }\n",
       "\n",
       "    .dataframe tbody tr th {\n",
       "        vertical-align: top;\n",
       "    }\n",
       "\n",
       "    .dataframe thead th {\n",
       "        text-align: right;\n",
       "    }\n",
       "</style>\n",
       "<table border=\"1\" class=\"dataframe\">\n",
       "  <thead>\n",
       "    <tr style=\"text-align: right;\">\n",
       "      <th></th>\n",
       "      <th>T</th>\n",
       "      <th>dof</th>\n",
       "      <th>tail</th>\n",
       "      <th>p-val</th>\n",
       "      <th>CI95%</th>\n",
       "      <th>cohen-d</th>\n",
       "      <th>BF10</th>\n",
       "      <th>power</th>\n",
       "    </tr>\n",
       "  </thead>\n",
       "  <tbody>\n",
       "    <tr>\n",
       "      <th>T-test</th>\n",
       "      <td>3.030406</td>\n",
       "      <td>12.455339</td>\n",
       "      <td>two-sided</td>\n",
       "      <td>0.010074</td>\n",
       "      <td>[0.89, 5.36]</td>\n",
       "      <td>1.575777</td>\n",
       "      <td>5.343</td>\n",
       "      <td>0.80343</td>\n",
       "    </tr>\n",
       "  </tbody>\n",
       "</table>\n",
       "</div>"
      ],
      "text/plain": [
       "               T        dof       tail     p-val         CI95%   cohen-d  \\\n",
       "T-test  3.030406  12.455339  two-sided  0.010074  [0.89, 5.36]  1.575777   \n",
       "\n",
       "         BF10    power  \n",
       "T-test  5.343  0.80343  "
      ]
     },
     "execution_count": 20,
     "metadata": {},
     "output_type": "execute_result"
    }
   ],
   "source": [
    "pg.ttest(x = gdp_df['inter_fGDP_MUA_fq'][gdp_df['Genotype'] == 'WT'], y = gdp_df['inter_fGDP_MUA_fq'][gdp_df['Genotype'] == 'KO'])"
   ]
  },
  {
   "cell_type": "markdown",
   "metadata": {},
   "source": [
    "Significant differences in MUA activity in between fGDPs.\n",
    "\n",
    "Consistent with overall MUA"
   ]
  },
  {
   "cell_type": "markdown",
   "metadata": {},
   "source": [
    "### MUA intra-GDP\n",
    "\n",
    "MUA frequency during fGDPs"
   ]
  },
  {
   "cell_type": "code",
   "execution_count": 21,
   "metadata": {},
   "outputs": [],
   "source": [
    "ko_outliers = pg.madmedianrule(gdp_df['intra_fGDP_MUA_fq'][gdp_df['Genotype']=='KO'])"
   ]
  },
  {
   "cell_type": "code",
   "execution_count": 22,
   "metadata": {},
   "outputs": [
    {
     "name": "stderr",
     "output_type": "stream",
     "text": [
      "/opt/miniconda3/envs/databs/lib/python3.8/site-packages/pandas/core/indexing.py:671: SettingWithCopyWarning: \n",
      "A value is trying to be set on a copy of a slice from a DataFrame\n",
      "\n",
      "See the caveats in the documentation: https://pandas.pydata.org/pandas-docs/stable/user_guide/indexing.html#returning-a-view-versus-a-copy\n",
      "  self._setitem_with_indexer(indexer, value)\n"
     ]
    }
   ],
   "source": [
    "gdp_df['intra_fGDP_MUA_fq'].iloc[7] = np.nan"
   ]
  },
  {
   "cell_type": "code",
   "execution_count": 23,
   "metadata": {},
   "outputs": [
    {
     "data": {
      "text/html": [
       "<div>\n",
       "<style scoped>\n",
       "    .dataframe tbody tr th:only-of-type {\n",
       "        vertical-align: middle;\n",
       "    }\n",
       "\n",
       "    .dataframe tbody tr th {\n",
       "        vertical-align: top;\n",
       "    }\n",
       "\n",
       "    .dataframe thead th {\n",
       "        text-align: right;\n",
       "    }\n",
       "</style>\n",
       "<table border=\"1\" class=\"dataframe\">\n",
       "  <thead>\n",
       "    <tr style=\"text-align: right;\">\n",
       "      <th></th>\n",
       "      <th>W</th>\n",
       "      <th>pval</th>\n",
       "      <th>normal</th>\n",
       "    </tr>\n",
       "  </thead>\n",
       "  <tbody>\n",
       "    <tr>\n",
       "      <th>WT</th>\n",
       "      <td>0.940087</td>\n",
       "      <td>0.611941</td>\n",
       "      <td>True</td>\n",
       "    </tr>\n",
       "    <tr>\n",
       "      <th>KO</th>\n",
       "      <td>0.786741</td>\n",
       "      <td>0.044509</td>\n",
       "      <td>False</td>\n",
       "    </tr>\n",
       "  </tbody>\n",
       "</table>\n",
       "</div>"
      ],
      "text/plain": [
       "           W      pval  normal\n",
       "WT  0.940087  0.611941    True\n",
       "KO  0.786741  0.044509   False"
      ]
     },
     "execution_count": 23,
     "metadata": {},
     "output_type": "execute_result"
    }
   ],
   "source": [
    "pg.normality(data = gdp_df, dv = 'intra_fGDP_MUA_fq', group = 'Genotype')"
   ]
  },
  {
   "cell_type": "code",
   "execution_count": 24,
   "metadata": {},
   "outputs": [
    {
     "name": "stdout",
     "output_type": "stream",
     "text": [
      "Intra fGDPs MUA frequency: \n",
      " WT median: 127.625 \n",
      " KO median: 149.255\n"
     ]
    }
   ],
   "source": [
    "WT_median = gdp_df['intra_fGDP_MUA_fq'][gdp_df['Genotype'] == 'WT'].median()\n",
    "#WT_sem = of_raw['Resting_Time_Total'][of_raw['Genotype'] == 'WT'].sem()\n",
    "KO_median = gdp_df['intra_fGDP_MUA_fq'][gdp_df['Genotype'] == 'KO'].median()\n",
    "#KO_sem = of_raw['Resting_Time_Total'][of_raw['Genotype'] == 'KO'].sem()\n",
    "print(f'Intra fGDPs MUA frequency: \\n WT median: {WT_median} \\n KO median: {KO_median}')"
   ]
  },
  {
   "cell_type": "code",
   "execution_count": 25,
   "metadata": {},
   "outputs": [
    {
     "data": {
      "text/html": [
       "<div>\n",
       "<style scoped>\n",
       "    .dataframe tbody tr th:only-of-type {\n",
       "        vertical-align: middle;\n",
       "    }\n",
       "\n",
       "    .dataframe tbody tr th {\n",
       "        vertical-align: top;\n",
       "    }\n",
       "\n",
       "    .dataframe thead th {\n",
       "        text-align: right;\n",
       "    }\n",
       "</style>\n",
       "<table border=\"1\" class=\"dataframe\">\n",
       "  <thead>\n",
       "    <tr style=\"text-align: right;\">\n",
       "      <th></th>\n",
       "      <th>U-val</th>\n",
       "      <th>tail</th>\n",
       "      <th>p-val</th>\n",
       "      <th>RBC</th>\n",
       "      <th>CLES</th>\n",
       "    </tr>\n",
       "  </thead>\n",
       "  <tbody>\n",
       "    <tr>\n",
       "      <th>MWU</th>\n",
       "      <td>5.0</td>\n",
       "      <td>two-sided</td>\n",
       "      <td>0.016925</td>\n",
       "      <td>0.791667</td>\n",
       "      <td>0.895833</td>\n",
       "    </tr>\n",
       "  </tbody>\n",
       "</table>\n",
       "</div>"
      ],
      "text/plain": [
       "     U-val       tail     p-val       RBC      CLES\n",
       "MWU    5.0  two-sided  0.016925  0.791667  0.895833"
      ]
     },
     "execution_count": 25,
     "metadata": {},
     "output_type": "execute_result"
    }
   ],
   "source": [
    "pg.mwu(x = gdp_df['intra_fGDP_MUA_fq'][gdp_df['Genotype'] == 'WT'], y = gdp_df['intra_fGDP_MUA_fq'][gdp_df['Genotype'] == 'KO'])"
   ]
  },
  {
   "cell_type": "markdown",
   "metadata": {},
   "source": [
    "Significant differences in MUA frequency during fGDPs, but the relationship is inversed; KOs have a higher MUA frequency during fGDPs"
   ]
  },
  {
   "cell_type": "markdown",
   "metadata": {},
   "source": [
    "### Population rate correlation with fGDP"
   ]
  },
  {
   "cell_type": "code",
   "execution_count": 26,
   "metadata": {},
   "outputs": [
    {
     "data": {
      "text/html": [
       "<div>\n",
       "<style scoped>\n",
       "    .dataframe tbody tr th:only-of-type {\n",
       "        vertical-align: middle;\n",
       "    }\n",
       "\n",
       "    .dataframe tbody tr th {\n",
       "        vertical-align: top;\n",
       "    }\n",
       "\n",
       "    .dataframe thead th {\n",
       "        text-align: right;\n",
       "    }\n",
       "</style>\n",
       "<table border=\"1\" class=\"dataframe\">\n",
       "  <thead>\n",
       "    <tr style=\"text-align: right;\">\n",
       "      <th></th>\n",
       "      <th>W</th>\n",
       "      <th>pval</th>\n",
       "      <th>normal</th>\n",
       "    </tr>\n",
       "  </thead>\n",
       "  <tbody>\n",
       "    <tr>\n",
       "      <th>WT</th>\n",
       "      <td>0.954897</td>\n",
       "      <td>0.760335</td>\n",
       "      <td>True</td>\n",
       "    </tr>\n",
       "    <tr>\n",
       "      <th>KO</th>\n",
       "      <td>0.944532</td>\n",
       "      <td>0.679819</td>\n",
       "      <td>True</td>\n",
       "    </tr>\n",
       "  </tbody>\n",
       "</table>\n",
       "</div>"
      ],
      "text/plain": [
       "           W      pval  normal\n",
       "WT  0.954897  0.760335    True\n",
       "KO  0.944532  0.679819    True"
      ]
     },
     "execution_count": 26,
     "metadata": {},
     "output_type": "execute_result"
    }
   ],
   "source": [
    "pg.normality(data = gdp_df, dv = 'Correlation', group = 'Genotype')"
   ]
  },
  {
   "cell_type": "code",
   "execution_count": 27,
   "metadata": {},
   "outputs": [
    {
     "name": "stdout",
     "output_type": "stream",
     "text": [
      "Correlation: \n",
      " WT mean: 0.5262500000000001, +- 0.03835629488288536 SEM \n",
      " KO mean: 0.6628571428571429, +- 0.06545497491785172 SEM\n"
     ]
    }
   ],
   "source": [
    "WT_mean = gdp_df['Correlation'][gdp_df['Genotype'] == 'WT'].mean()\n",
    "WT_sem = gdp_df['Correlation'][gdp_df['Genotype'] == 'WT'].sem()\n",
    "KO_mean = gdp_df['Correlation'][gdp_df['Genotype'] == 'KO'].mean()\n",
    "KO_sem = gdp_df['Correlation'][gdp_df['Genotype'] == 'KO'].sem()\n",
    "print(f'Correlation: \\n WT mean: {WT_mean}, +- {WT_sem} SEM \\n KO mean: {KO_mean}, +- {KO_sem} SEM')"
   ]
  },
  {
   "cell_type": "code",
   "execution_count": 28,
   "metadata": {},
   "outputs": [
    {
     "data": {
      "text/html": [
       "<div>\n",
       "<style scoped>\n",
       "    .dataframe tbody tr th:only-of-type {\n",
       "        vertical-align: middle;\n",
       "    }\n",
       "\n",
       "    .dataframe tbody tr th {\n",
       "        vertical-align: top;\n",
       "    }\n",
       "\n",
       "    .dataframe thead th {\n",
       "        text-align: right;\n",
       "    }\n",
       "</style>\n",
       "<table border=\"1\" class=\"dataframe\">\n",
       "  <thead>\n",
       "    <tr style=\"text-align: right;\">\n",
       "      <th></th>\n",
       "      <th>T</th>\n",
       "      <th>dof</th>\n",
       "      <th>tail</th>\n",
       "      <th>p-val</th>\n",
       "      <th>CI95%</th>\n",
       "      <th>cohen-d</th>\n",
       "      <th>BF10</th>\n",
       "      <th>power</th>\n",
       "    </tr>\n",
       "  </thead>\n",
       "  <tbody>\n",
       "    <tr>\n",
       "      <th>T-test</th>\n",
       "      <td>-1.800651</td>\n",
       "      <td>9.834224</td>\n",
       "      <td>less</td>\n",
       "      <td>0.051225</td>\n",
       "      <td>[-inf, 0.0]</td>\n",
       "      <td>0.961658</td>\n",
       "      <td>2.386</td>\n",
       "      <td>0.54596</td>\n",
       "    </tr>\n",
       "  </tbody>\n",
       "</table>\n",
       "</div>"
      ],
      "text/plain": [
       "               T       dof  tail     p-val        CI95%   cohen-d   BF10  \\\n",
       "T-test -1.800651  9.834224  less  0.051225  [-inf, 0.0]  0.961658  2.386   \n",
       "\n",
       "          power  \n",
       "T-test  0.54596  "
      ]
     },
     "execution_count": 28,
     "metadata": {},
     "output_type": "execute_result"
    }
   ],
   "source": [
    "pg.ttest(x = gdp_df['Correlation'][gdp_df['Genotype'] == 'WT'], y = gdp_df['Correlation'][gdp_df['Genotype'] == 'KO'], tail = 'one-sided')"
   ]
  },
  {
   "cell_type": "code",
   "execution_count": 31,
   "metadata": {},
   "outputs": [
    {
     "data": {
      "image/png": "[encoded data removed]",
      "text/plain": [
       "<Figure size 288x288 with 1 Axes>"
      ]
     },
     "metadata": {
      "needs_background": "light"
     },
     "output_type": "display_data"
    }
   ],
   "source": [
    "cor_fig = plt.figure(figsize = (4, 4))\n",
    "sns.boxplot(x = 'Genotype', y = 'Correlation', data = gdp_df, palette = ['royalblue', 'forestgreen'], order = ['WT', 'KO'], width = 0.4, showfliers = True)\n",
    "sns.despine()\n",
    "plt.ylim(0.2, 1)\n",
    "plt.annotate('*', xy=(0.5, .93), xytext=(0.5, 1.01), fontsize = 10, xycoords='axes fraction', ha='center',\n",
    "                va='top', arrowprops=dict(arrowstyle='-[, widthB=6, lengthB=.2', lw=1, color='k'))\n",
    "#axs[1,2].set_title('intra fGDP MUA')\n",
    "plt.ylabel('Normalized Correlation')\n",
    "plt.xlabel('')\n",
    "plt.tight_layout()"
   ]
  },
  {
   "cell_type": "code",
   "execution_count": 44,
   "metadata": {},
   "outputs": [],
   "source": [
    "cor_fig.savefig('/Users/labc02/Documents/PDCB_data/Behavior/Figures/fGDP_cor.svg')"
   ]
  },
  {
   "cell_type": "code",
   "execution_count": null,
   "metadata": {},
   "outputs": [],
   "source": []
  }
 ],
 "metadata": {
  "kernelspec": {
   "display_name": "Python 3",
   "language": "python",
   "name": "python3"
  },
  "language_info": {
   "codemirror_mode": {
    "name": "ipython",
    "version": 3
   },
   "file_extension": ".py",
   "mimetype": "text/x-python",
   "name": "python",
   "nbconvert_exporter": "python",
   "pygments_lexer": "ipython3",
   "version": "3.8.2"
  }
 },
 "nbformat": 4,
 "nbformat_minor": 4
}
