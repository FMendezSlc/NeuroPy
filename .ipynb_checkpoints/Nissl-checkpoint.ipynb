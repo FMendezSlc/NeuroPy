{
 "cells": [
  {
   "cell_type": "markdown",
   "metadata": {},
   "source": [
    "#### Apoptotic Cells Count\n",
    "#### Nissl "
   ]
  },
  {
   "cell_type": "code",
   "execution_count": 1,
   "metadata": {},
   "outputs": [],
   "source": [
    "import pandas as pd\n",
    "import matplotlib.pyplot as plt\n",
    "import seaborn as sns\n",
    "import pingouin as pg"
   ]
  },
  {
   "cell_type": "code",
   "execution_count": 2,
   "metadata": {},
   "outputs": [],
   "source": [
    "nissl_df = pd.read_csv('/Users/labc02/Documents/PDCB_data/MK-project/MK_Nissl_Count.csv')"
   ]
  },
  {
   "cell_type": "code",
   "execution_count": 3,
   "metadata": {},
   "outputs": [
    {
     "data": {
      "text/plain": [
       "Index(['Date', 'Genotype', 'Tx', 'Region', 'Slide', 'Field',\n",
       "       'Apoptotic_Cells'],\n",
       "      dtype='object')"
      ]
     },
     "execution_count": 3,
     "metadata": {},
     "output_type": "execute_result"
    }
   ],
   "source": [
    "nissl_df.columns"
   ]
  },
  {
   "cell_type": "code",
   "execution_count": 6,
   "metadata": {},
   "outputs": [
    {
     "data": {
      "text/plain": [
       "Genotype  Tx      Region\n",
       "KO        1mg     Ctx       27\n",
       "                  Str       27\n",
       "          Saline  Ctx       27\n",
       "                  Str       27\n",
       "WT        1mg     Ctx       27\n",
       "                  Str       27\n",
       "          Saline  Ctx       27\n",
       "                  Str       27\n",
       "Name: Date, dtype: int64"
      ]
     },
     "execution_count": 6,
     "metadata": {},
     "output_type": "execute_result"
    }
   ],
   "source": [
    "nissl_df.groupby(['Genotype', 'Tx', 'Region'])['Date'].count()"
   ]
  },
  {
   "cell_type": "code",
   "execution_count": 8,
   "metadata": {},
   "outputs": [
    {
     "data": {
      "image/png": "[encoded data removed]",
      "text/plain": [
       "<Figure size 432x216 with 2 Axes>"
      ]
     },
     "metadata": {
      "needs_background": "light"
     },
     "output_type": "display_data"
    }
   ],
   "source": [
    "plt.figure(figsize=(6, 3))\n",
    "ax1 = plt.subplot(121)\n",
    "sns.boxplot(data = nissl_df[nissl_df['Region'] == 'Ctx'], x = 'Tx', y = 'Apoptotic_Cells', hue = 'Genotype', palette = ['royalblue', 'forestgreen'], hue_order = ['WT', 'KO'], width = 0.3, ax = ax1)\n",
    "ax1.set_ylabel('# Apoptotic Cells/Field')\n",
    "ax1.set_xlabel('')\n",
    "ax1.legend(frameon=False)\n",
    "ax2 = plt.subplot(122)\n",
    "sns.boxplot(data = nissl_df[nissl_df['Region'] == 'Str'], x = 'Tx', y = 'Apoptotic_Cells', hue = 'Genotype', palette = ['royalblue', 'forestgreen'], hue_order = ['WT', 'KO'], width = 0.3, ax = ax2)\n",
    "ax2.set_ylabel('# Apoptotic Cells/Field')\n",
    "ax2.set_xlabel('')\n",
    "ax2.legend().remove()\n",
    "plt.tight_layout()\n"
   ]
  },
  {
   "cell_type": "code",
   "execution_count": 9,
   "metadata": {},
   "outputs": [
    {
     "data": {
      "text/html": [
       "<div>\n",
       "<style scoped>\n",
       "    .dataframe tbody tr th:only-of-type {\n",
       "        vertical-align: middle;\n",
       "    }\n",
       "\n",
       "    .dataframe tbody tr th {\n",
       "        vertical-align: top;\n",
       "    }\n",
       "\n",
       "    .dataframe thead th {\n",
       "        text-align: right;\n",
       "    }\n",
       "</style>\n",
       "<table border=\"1\" class=\"dataframe\">\n",
       "  <thead>\n",
       "    <tr style=\"text-align: right;\">\n",
       "      <th></th>\n",
       "      <th>Source</th>\n",
       "      <th>SS</th>\n",
       "      <th>DF</th>\n",
       "      <th>MS</th>\n",
       "      <th>F</th>\n",
       "      <th>p-unc</th>\n",
       "      <th>np2</th>\n",
       "    </tr>\n",
       "  </thead>\n",
       "  <tbody>\n",
       "    <tr>\n",
       "      <th>0</th>\n",
       "      <td>Genotype</td>\n",
       "      <td>2660.148148</td>\n",
       "      <td>1</td>\n",
       "      <td>2660.148148</td>\n",
       "      <td>25.900651</td>\n",
       "      <td>1.604451e-06</td>\n",
       "      <td>0.199388</td>\n",
       "    </tr>\n",
       "    <tr>\n",
       "      <th>1</th>\n",
       "      <td>Tx</td>\n",
       "      <td>18304.037037</td>\n",
       "      <td>1</td>\n",
       "      <td>18304.037037</td>\n",
       "      <td>178.218074</td>\n",
       "      <td>2.787143e-24</td>\n",
       "      <td>0.631491</td>\n",
       "    </tr>\n",
       "    <tr>\n",
       "      <th>2</th>\n",
       "      <td>Genotype * Tx</td>\n",
       "      <td>1841.814815</td>\n",
       "      <td>1</td>\n",
       "      <td>1841.814815</td>\n",
       "      <td>17.932912</td>\n",
       "      <td>4.952945e-05</td>\n",
       "      <td>0.147072</td>\n",
       "    </tr>\n",
       "    <tr>\n",
       "      <th>3</th>\n",
       "      <td>Residual</td>\n",
       "      <td>10681.407407</td>\n",
       "      <td>104</td>\n",
       "      <td>102.705840</td>\n",
       "      <td>NaN</td>\n",
       "      <td>NaN</td>\n",
       "      <td>NaN</td>\n",
       "    </tr>\n",
       "  </tbody>\n",
       "</table>\n",
       "</div>"
      ],
      "text/plain": [
       "          Source            SS   DF            MS           F         p-unc  \\\n",
       "0       Genotype   2660.148148    1   2660.148148   25.900651  1.604451e-06   \n",
       "1             Tx  18304.037037    1  18304.037037  178.218074  2.787143e-24   \n",
       "2  Genotype * Tx   1841.814815    1   1841.814815   17.932912  4.952945e-05   \n",
       "3       Residual  10681.407407  104    102.705840         NaN           NaN   \n",
       "\n",
       "        np2  \n",
       "0  0.199388  \n",
       "1  0.631491  \n",
       "2  0.147072  \n",
       "3       NaN  "
      ]
     },
     "execution_count": 9,
     "metadata": {},
     "output_type": "execute_result"
    }
   ],
   "source": [
    "pg.anova(data = nissl_df[nissl_df['Region'] == 'Ctx'], dv = 'Apoptotic_Cells', between = ['Genotype', 'Tx'])"
   ]
  },
  {
   "cell_type": "code",
   "execution_count": 10,
   "metadata": {},
   "outputs": [
    {
     "data": {
      "text/html": [
       "<div>\n",
       "<style scoped>\n",
       "    .dataframe tbody tr th:only-of-type {\n",
       "        vertical-align: middle;\n",
       "    }\n",
       "\n",
       "    .dataframe tbody tr th {\n",
       "        vertical-align: top;\n",
       "    }\n",
       "\n",
       "    .dataframe thead th {\n",
       "        text-align: right;\n",
       "    }\n",
       "</style>\n",
       "<table border=\"1\" class=\"dataframe\">\n",
       "  <thead>\n",
       "    <tr style=\"text-align: right;\">\n",
       "      <th></th>\n",
       "      <th>Contrast</th>\n",
       "      <th>Tx</th>\n",
       "      <th>A</th>\n",
       "      <th>B</th>\n",
       "      <th>Paired</th>\n",
       "      <th>Parametric</th>\n",
       "      <th>T</th>\n",
       "      <th>dof</th>\n",
       "      <th>Tail</th>\n",
       "      <th>p-unc</th>\n",
       "      <th>p-corr</th>\n",
       "      <th>p-adjust</th>\n",
       "      <th>BF10</th>\n",
       "      <th>hedges</th>\n",
       "    </tr>\n",
       "  </thead>\n",
       "  <tbody>\n",
       "    <tr>\n",
       "      <th>0</th>\n",
       "      <td>Tx</td>\n",
       "      <td>-</td>\n",
       "      <td>Saline</td>\n",
       "      <td>1mg</td>\n",
       "      <td>False</td>\n",
       "      <td>True</td>\n",
       "      <td>-11.304264</td>\n",
       "      <td>106.0</td>\n",
       "      <td>two-sided</td>\n",
       "      <td>6.455769e-20</td>\n",
       "      <td>NaN</td>\n",
       "      <td>NaN</td>\n",
       "      <td>5.084e+16</td>\n",
       "      <td>-2.160077</td>\n",
       "    </tr>\n",
       "    <tr>\n",
       "      <th>1</th>\n",
       "      <td>Genotype</td>\n",
       "      <td>-</td>\n",
       "      <td>WT</td>\n",
       "      <td>KO</td>\n",
       "      <td>False</td>\n",
       "      <td>True</td>\n",
       "      <td>-3.024394</td>\n",
       "      <td>106.0</td>\n",
       "      <td>two-sided</td>\n",
       "      <td>3.125649e-03</td>\n",
       "      <td>NaN</td>\n",
       "      <td>NaN</td>\n",
       "      <td>11.052</td>\n",
       "      <td>-0.577917</td>\n",
       "    </tr>\n",
       "    <tr>\n",
       "      <th>2</th>\n",
       "      <td>Tx * Genotype</td>\n",
       "      <td>Saline</td>\n",
       "      <td>WT</td>\n",
       "      <td>KO</td>\n",
       "      <td>False</td>\n",
       "      <td>True</td>\n",
       "      <td>-2.349227</td>\n",
       "      <td>52.0</td>\n",
       "      <td>two-sided</td>\n",
       "      <td>2.264624e-02</td>\n",
       "      <td>0.022646</td>\n",
       "      <td>holm</td>\n",
       "      <td>2.544</td>\n",
       "      <td>-0.630112</td>\n",
       "    </tr>\n",
       "    <tr>\n",
       "      <th>3</th>\n",
       "      <td>Tx * Genotype</td>\n",
       "      <td>1mg</td>\n",
       "      <td>WT</td>\n",
       "      <td>KO</td>\n",
       "      <td>False</td>\n",
       "      <td>True</td>\n",
       "      <td>-4.741073</td>\n",
       "      <td>52.0</td>\n",
       "      <td>two-sided</td>\n",
       "      <td>1.691949e-05</td>\n",
       "      <td>0.000034</td>\n",
       "      <td>holm</td>\n",
       "      <td>1046.939</td>\n",
       "      <td>-1.271656</td>\n",
       "    </tr>\n",
       "  </tbody>\n",
       "</table>\n",
       "</div>"
      ],
      "text/plain": [
       "        Contrast      Tx       A    B Paired  Parametric          T    dof  \\\n",
       "0             Tx       -  Saline  1mg  False        True -11.304264  106.0   \n",
       "1       Genotype       -      WT   KO  False        True  -3.024394  106.0   \n",
       "2  Tx * Genotype  Saline      WT   KO  False        True  -2.349227   52.0   \n",
       "3  Tx * Genotype     1mg      WT   KO  False        True  -4.741073   52.0   \n",
       "\n",
       "        Tail         p-unc    p-corr p-adjust       BF10    hedges  \n",
       "0  two-sided  6.455769e-20       NaN      NaN  5.084e+16 -2.160077  \n",
       "1  two-sided  3.125649e-03       NaN      NaN     11.052 -0.577917  \n",
       "2  two-sided  2.264624e-02  0.022646     holm      2.544 -0.630112  \n",
       "3  two-sided  1.691949e-05  0.000034     holm   1046.939 -1.271656  "
      ]
     },
     "execution_count": 10,
     "metadata": {},
     "output_type": "execute_result"
    }
   ],
   "source": [
    "pg.pairwise_ttests(data = nissl_df[nissl_df['Region'] == 'Ctx'], dv = 'Apoptotic_Cells', between = ['Tx', 'Genotype'], padjust = 'holm')"
   ]
  },
  {
   "cell_type": "code",
   "execution_count": 11,
   "metadata": {},
   "outputs": [
    {
     "data": {
      "text/html": [
       "<div>\n",
       "<style scoped>\n",
       "    .dataframe tbody tr th:only-of-type {\n",
       "        vertical-align: middle;\n",
       "    }\n",
       "\n",
       "    .dataframe tbody tr th {\n",
       "        vertical-align: top;\n",
       "    }\n",
       "\n",
       "    .dataframe thead th {\n",
       "        text-align: right;\n",
       "    }\n",
       "</style>\n",
       "<table border=\"1\" class=\"dataframe\">\n",
       "  <thead>\n",
       "    <tr style=\"text-align: right;\">\n",
       "      <th></th>\n",
       "      <th>Source</th>\n",
       "      <th>SS</th>\n",
       "      <th>DF</th>\n",
       "      <th>MS</th>\n",
       "      <th>F</th>\n",
       "      <th>p-unc</th>\n",
       "      <th>np2</th>\n",
       "    </tr>\n",
       "  </thead>\n",
       "  <tbody>\n",
       "    <tr>\n",
       "      <th>0</th>\n",
       "      <td>Genotype</td>\n",
       "      <td>468.750000</td>\n",
       "      <td>1</td>\n",
       "      <td>468.750000</td>\n",
       "      <td>11.655244</td>\n",
       "      <td>9.137471e-04</td>\n",
       "      <td>0.100776</td>\n",
       "    </tr>\n",
       "    <tr>\n",
       "      <th>1</th>\n",
       "      <td>Tx</td>\n",
       "      <td>13668.750000</td>\n",
       "      <td>1</td>\n",
       "      <td>13668.750000</td>\n",
       "      <td>339.866911</td>\n",
       "      <td>1.505553e-34</td>\n",
       "      <td>0.765696</td>\n",
       "    </tr>\n",
       "    <tr>\n",
       "      <th>2</th>\n",
       "      <td>Genotype * Tx</td>\n",
       "      <td>168.750000</td>\n",
       "      <td>1</td>\n",
       "      <td>168.750000</td>\n",
       "      <td>4.195888</td>\n",
       "      <td>4.304096e-02</td>\n",
       "      <td>0.038780</td>\n",
       "    </tr>\n",
       "    <tr>\n",
       "      <th>3</th>\n",
       "      <td>Residual</td>\n",
       "      <td>4182.666667</td>\n",
       "      <td>104</td>\n",
       "      <td>40.217949</td>\n",
       "      <td>NaN</td>\n",
       "      <td>NaN</td>\n",
       "      <td>NaN</td>\n",
       "    </tr>\n",
       "  </tbody>\n",
       "</table>\n",
       "</div>"
      ],
      "text/plain": [
       "          Source            SS   DF            MS           F         p-unc  \\\n",
       "0       Genotype    468.750000    1    468.750000   11.655244  9.137471e-04   \n",
       "1             Tx  13668.750000    1  13668.750000  339.866911  1.505553e-34   \n",
       "2  Genotype * Tx    168.750000    1    168.750000    4.195888  4.304096e-02   \n",
       "3       Residual   4182.666667  104     40.217949         NaN           NaN   \n",
       "\n",
       "        np2  \n",
       "0  0.100776  \n",
       "1  0.765696  \n",
       "2  0.038780  \n",
       "3       NaN  "
      ]
     },
     "execution_count": 11,
     "metadata": {},
     "output_type": "execute_result"
    }
   ],
   "source": [
    "pg.anova(data = nissl_df[nissl_df['Region'] == 'Str'], dv = 'Apoptotic_Cells', between = ['Genotype', 'Tx'])\n"
   ]
  },
  {
   "cell_type": "code",
   "execution_count": 12,
   "metadata": {},
   "outputs": [
    {
     "data": {
      "text/html": [
       "<div>\n",
       "<style scoped>\n",
       "    .dataframe tbody tr th:only-of-type {\n",
       "        vertical-align: middle;\n",
       "    }\n",
       "\n",
       "    .dataframe tbody tr th {\n",
       "        vertical-align: top;\n",
       "    }\n",
       "\n",
       "    .dataframe thead th {\n",
       "        text-align: right;\n",
       "    }\n",
       "</style>\n",
       "<table border=\"1\" class=\"dataframe\">\n",
       "  <thead>\n",
       "    <tr style=\"text-align: right;\">\n",
       "      <th></th>\n",
       "      <th>Contrast</th>\n",
       "      <th>Genotype</th>\n",
       "      <th>A</th>\n",
       "      <th>B</th>\n",
       "      <th>Paired</th>\n",
       "      <th>Parametric</th>\n",
       "      <th>T</th>\n",
       "      <th>dof</th>\n",
       "      <th>Tail</th>\n",
       "      <th>p-unc</th>\n",
       "      <th>p-corr</th>\n",
       "      <th>p-adjust</th>\n",
       "      <th>BF10</th>\n",
       "      <th>hedges</th>\n",
       "    </tr>\n",
       "  </thead>\n",
       "  <tbody>\n",
       "    <tr>\n",
       "      <th>0</th>\n",
       "      <td>Genotype</td>\n",
       "      <td>-</td>\n",
       "      <td>WT</td>\n",
       "      <td>KO</td>\n",
       "      <td>False</td>\n",
       "      <td>True</td>\n",
       "      <td>-1.660520</td>\n",
       "      <td>106.0</td>\n",
       "      <td>two-sided</td>\n",
       "      <td>9.976521e-02</td>\n",
       "      <td>NaN</td>\n",
       "      <td>NaN</td>\n",
       "      <td>0.695</td>\n",
       "      <td>-0.317301</td>\n",
       "    </tr>\n",
       "    <tr>\n",
       "      <th>1</th>\n",
       "      <td>Tx</td>\n",
       "      <td>-</td>\n",
       "      <td>Saline</td>\n",
       "      <td>1mg</td>\n",
       "      <td>False</td>\n",
       "      <td>True</td>\n",
       "      <td>-17.337493</td>\n",
       "      <td>106.0</td>\n",
       "      <td>two-sided</td>\n",
       "      <td>1.019597e-32</td>\n",
       "      <td>NaN</td>\n",
       "      <td>NaN</td>\n",
       "      <td>1.635e+29</td>\n",
       "      <td>-3.312938</td>\n",
       "    </tr>\n",
       "    <tr>\n",
       "      <th>2</th>\n",
       "      <td>Genotype * Tx</td>\n",
       "      <td>WT</td>\n",
       "      <td>Saline</td>\n",
       "      <td>1mg</td>\n",
       "      <td>False</td>\n",
       "      <td>True</td>\n",
       "      <td>-12.159003</td>\n",
       "      <td>52.0</td>\n",
       "      <td>two-sided</td>\n",
       "      <td>7.994240e-17</td>\n",
       "      <td>7.994240e-17</td>\n",
       "      <td>holm</td>\n",
       "      <td>4.337e+13</td>\n",
       "      <td>-3.261301</td>\n",
       "    </tr>\n",
       "    <tr>\n",
       "      <th>3</th>\n",
       "      <td>Genotype * Tx</td>\n",
       "      <td>KO</td>\n",
       "      <td>Saline</td>\n",
       "      <td>1mg</td>\n",
       "      <td>False</td>\n",
       "      <td>True</td>\n",
       "      <td>-13.861937</td>\n",
       "      <td>52.0</td>\n",
       "      <td>two-sided</td>\n",
       "      <td>4.251744e-19</td>\n",
       "      <td>8.503488e-19</td>\n",
       "      <td>holm</td>\n",
       "      <td>6.778e+15</td>\n",
       "      <td>-3.718064</td>\n",
       "    </tr>\n",
       "  </tbody>\n",
       "</table>\n",
       "</div>"
      ],
      "text/plain": [
       "        Contrast Genotype       A    B Paired  Parametric          T    dof  \\\n",
       "0       Genotype        -      WT   KO  False        True  -1.660520  106.0   \n",
       "1             Tx        -  Saline  1mg  False        True -17.337493  106.0   \n",
       "2  Genotype * Tx       WT  Saline  1mg  False        True -12.159003   52.0   \n",
       "3  Genotype * Tx       KO  Saline  1mg  False        True -13.861937   52.0   \n",
       "\n",
       "        Tail         p-unc        p-corr p-adjust       BF10    hedges  \n",
       "0  two-sided  9.976521e-02           NaN      NaN      0.695 -0.317301  \n",
       "1  two-sided  1.019597e-32           NaN      NaN  1.635e+29 -3.312938  \n",
       "2  two-sided  7.994240e-17  7.994240e-17     holm  4.337e+13 -3.261301  \n",
       "3  two-sided  4.251744e-19  8.503488e-19     holm  6.778e+15 -3.718064  "
      ]
     },
     "execution_count": 12,
     "metadata": {},
     "output_type": "execute_result"
    }
   ],
   "source": [
    "pg.pairwise_ttests(data = nissl_df[nissl_df['Region'] == 'Str'], dv = 'Apoptotic_Cells', between = ['Genotype', 'Tx'], padjust = 'holm')\n"
   ]
  },
  {
   "cell_type": "code",
   "execution_count": 13,
   "metadata": {},
   "outputs": [],
   "source": [
    "out_idx = []\n",
    "for region in ['Ctx', 'Str']:\n",
    "    for tx in ['Saline', '1mg']:\n",
    "        for gen in ['WT', 'KO']:\n",
    "            outs = pg.madmedianrule(nissl_df[(nissl_df['Region']==region) & (nissl_df['Tx']==tx) & (nissl_df['Genotype']==gen)]['Apoptotic_Cells'])\n",
    "            idxs = nissl_df[(nissl_df['Region']==region) & (nissl_df['Tx']==tx) & (nissl_df['Genotype']==gen)]['Apoptotic_Cells'][outs]\n",
    "            out_idx.append(idxs)"
   ]
  },
  {
   "cell_type": "code",
   "execution_count": 14,
   "metadata": {},
   "outputs": [],
   "source": [
    "nissl_tidy = nissl_df.drop(index= pd.concat(out_idx).index)"
   ]
  },
  {
   "cell_type": "code",
   "execution_count": 15,
   "metadata": {},
   "outputs": [
    {
     "data": {
      "text/plain": [
       "Genotype  Tx      Region\n",
       "KO        1mg     Ctx       25\n",
       "                  Str       26\n",
       "          Saline  Ctx       23\n",
       "                  Str       25\n",
       "WT        1mg     Ctx       24\n",
       "                  Str       27\n",
       "          Saline  Ctx       26\n",
       "                  Str       26\n",
       "Name: Date, dtype: int64"
      ]
     },
     "execution_count": 15,
     "metadata": {},
     "output_type": "execute_result"
    }
   ],
   "source": [
    "nissl_tidy.groupby(['Genotype', 'Tx', 'Region'])['Date'].count()"
   ]
  },
  {
   "cell_type": "code",
   "execution_count": 16,
   "metadata": {},
   "outputs": [
    {
     "data": {
      "text/html": [
       "<div>\n",
       "<style scoped>\n",
       "    .dataframe tbody tr th:only-of-type {\n",
       "        vertical-align: middle;\n",
       "    }\n",
       "\n",
       "    .dataframe tbody tr th {\n",
       "        vertical-align: top;\n",
       "    }\n",
       "\n",
       "    .dataframe thead th {\n",
       "        text-align: right;\n",
       "    }\n",
       "</style>\n",
       "<table border=\"1\" class=\"dataframe\">\n",
       "  <thead>\n",
       "    <tr style=\"text-align: right;\">\n",
       "      <th></th>\n",
       "      <th>Source</th>\n",
       "      <th>SS</th>\n",
       "      <th>DF</th>\n",
       "      <th>MS</th>\n",
       "      <th>F</th>\n",
       "      <th>p-unc</th>\n",
       "      <th>np2</th>\n",
       "    </tr>\n",
       "  </thead>\n",
       "  <tbody>\n",
       "    <tr>\n",
       "      <th>0</th>\n",
       "      <td>Genotype</td>\n",
       "      <td>2360.335951</td>\n",
       "      <td>1.0</td>\n",
       "      <td>2360.335951</td>\n",
       "      <td>31.105169</td>\n",
       "      <td>2.337563e-07</td>\n",
       "      <td>0.248632</td>\n",
       "    </tr>\n",
       "    <tr>\n",
       "      <th>1</th>\n",
       "      <td>Tx</td>\n",
       "      <td>14096.841240</td>\n",
       "      <td>1.0</td>\n",
       "      <td>14096.841240</td>\n",
       "      <td>185.772127</td>\n",
       "      <td>5.471078e-24</td>\n",
       "      <td>0.664012</td>\n",
       "    </tr>\n",
       "    <tr>\n",
       "      <th>2</th>\n",
       "      <td>Genotype * Tx</td>\n",
       "      <td>2007.409091</td>\n",
       "      <td>1.0</td>\n",
       "      <td>2007.409091</td>\n",
       "      <td>26.454200</td>\n",
       "      <td>1.468702e-06</td>\n",
       "      <td>0.219620</td>\n",
       "    </tr>\n",
       "    <tr>\n",
       "      <th>3</th>\n",
       "      <td>Residual</td>\n",
       "      <td>7132.948835</td>\n",
       "      <td>94.0</td>\n",
       "      <td>75.882434</td>\n",
       "      <td>NaN</td>\n",
       "      <td>NaN</td>\n",
       "      <td>NaN</td>\n",
       "    </tr>\n",
       "  </tbody>\n",
       "</table>\n",
       "</div>"
      ],
      "text/plain": [
       "          Source            SS    DF            MS           F         p-unc  \\\n",
       "0       Genotype   2360.335951   1.0   2360.335951   31.105169  2.337563e-07   \n",
       "1             Tx  14096.841240   1.0  14096.841240  185.772127  5.471078e-24   \n",
       "2  Genotype * Tx   2007.409091   1.0   2007.409091   26.454200  1.468702e-06   \n",
       "3       Residual   7132.948835  94.0     75.882434         NaN           NaN   \n",
       "\n",
       "        np2  \n",
       "0  0.248632  \n",
       "1  0.664012  \n",
       "2  0.219620  \n",
       "3       NaN  "
      ]
     },
     "execution_count": 16,
     "metadata": {},
     "output_type": "execute_result"
    }
   ],
   "source": [
    "pg.anova(data = nissl_tidy[nissl_tidy['Region'] == 'Ctx'], dv = 'Apoptotic_Cells', between = ['Genotype', 'Tx'])\n"
   ]
  },
  {
   "cell_type": "code",
   "execution_count": 17,
   "metadata": {},
   "outputs": [],
   "source": [
    "nissl_tidy['Group'] = nissl_tidy['Genotype'] + '_' + nissl_tidy['Tx']"
   ]
  },
  {
   "cell_type": "code",
   "execution_count": 18,
   "metadata": {},
   "outputs": [
    {
     "data": {
      "text/html": [
       "<div>\n",
       "<style scoped>\n",
       "    .dataframe tbody tr th:only-of-type {\n",
       "        vertical-align: middle;\n",
       "    }\n",
       "\n",
       "    .dataframe tbody tr th {\n",
       "        vertical-align: top;\n",
       "    }\n",
       "\n",
       "    .dataframe thead th {\n",
       "        text-align: right;\n",
       "    }\n",
       "</style>\n",
       "<table border=\"1\" class=\"dataframe\">\n",
       "  <thead>\n",
       "    <tr style=\"text-align: right;\">\n",
       "      <th></th>\n",
       "      <th>A</th>\n",
       "      <th>B</th>\n",
       "      <th>mean(A)</th>\n",
       "      <th>mean(B)</th>\n",
       "      <th>diff</th>\n",
       "      <th>se</th>\n",
       "      <th>tail</th>\n",
       "      <th>T</th>\n",
       "      <th>p-tukey</th>\n",
       "      <th>hedges</th>\n",
       "    </tr>\n",
       "  </thead>\n",
       "  <tbody>\n",
       "    <tr>\n",
       "      <th>0</th>\n",
       "      <td>KO_1mg</td>\n",
       "      <td>KO_Saline</td>\n",
       "      <td>37.080000</td>\n",
       "      <td>3.826087</td>\n",
       "      <td>33.253913</td>\n",
       "      <td>2.516850</td>\n",
       "      <td>two-sided</td>\n",
       "      <td>13.212513</td>\n",
       "      <td>0.001</td>\n",
       "      <td>3.754858</td>\n",
       "    </tr>\n",
       "    <tr>\n",
       "      <th>1</th>\n",
       "      <td>KO_1mg</td>\n",
       "      <td>WT_1mg</td>\n",
       "      <td>37.080000</td>\n",
       "      <td>18.208333</td>\n",
       "      <td>18.871667</td>\n",
       "      <td>2.489391</td>\n",
       "      <td>two-sided</td>\n",
       "      <td>7.580838</td>\n",
       "      <td>0.001</td>\n",
       "      <td>2.131650</td>\n",
       "    </tr>\n",
       "    <tr>\n",
       "      <th>2</th>\n",
       "      <td>KO_1mg</td>\n",
       "      <td>WT_Saline</td>\n",
       "      <td>37.080000</td>\n",
       "      <td>3.076923</td>\n",
       "      <td>34.003077</td>\n",
       "      <td>2.440052</td>\n",
       "      <td>two-sided</td>\n",
       "      <td>13.935392</td>\n",
       "      <td>0.001</td>\n",
       "      <td>3.843388</td>\n",
       "    </tr>\n",
       "    <tr>\n",
       "      <th>3</th>\n",
       "      <td>KO_Saline</td>\n",
       "      <td>WT_1mg</td>\n",
       "      <td>3.826087</td>\n",
       "      <td>18.208333</td>\n",
       "      <td>-14.382246</td>\n",
       "      <td>2.541851</td>\n",
       "      <td>two-sided</td>\n",
       "      <td>-5.658179</td>\n",
       "      <td>0.001</td>\n",
       "      <td>-1.623363</td>\n",
       "    </tr>\n",
       "    <tr>\n",
       "      <th>4</th>\n",
       "      <td>KO_Saline</td>\n",
       "      <td>WT_Saline</td>\n",
       "      <td>3.826087</td>\n",
       "      <td>3.076923</td>\n",
       "      <td>0.749164</td>\n",
       "      <td>2.493550</td>\n",
       "      <td>two-sided</td>\n",
       "      <td>0.300441</td>\n",
       "      <td>0.900</td>\n",
       "      <td>0.084622</td>\n",
       "    </tr>\n",
       "    <tr>\n",
       "      <th>5</th>\n",
       "      <td>WT_1mg</td>\n",
       "      <td>WT_Saline</td>\n",
       "      <td>18.208333</td>\n",
       "      <td>3.076923</td>\n",
       "      <td>15.131410</td>\n",
       "      <td>2.465831</td>\n",
       "      <td>two-sided</td>\n",
       "      <td>6.136434</td>\n",
       "      <td>0.001</td>\n",
       "      <td>1.709753</td>\n",
       "    </tr>\n",
       "  </tbody>\n",
       "</table>\n",
       "</div>"
      ],
      "text/plain": [
       "           A          B    mean(A)    mean(B)       diff        se       tail  \\\n",
       "0     KO_1mg  KO_Saline  37.080000   3.826087  33.253913  2.516850  two-sided   \n",
       "1     KO_1mg     WT_1mg  37.080000  18.208333  18.871667  2.489391  two-sided   \n",
       "2     KO_1mg  WT_Saline  37.080000   3.076923  34.003077  2.440052  two-sided   \n",
       "3  KO_Saline     WT_1mg   3.826087  18.208333 -14.382246  2.541851  two-sided   \n",
       "4  KO_Saline  WT_Saline   3.826087   3.076923   0.749164  2.493550  two-sided   \n",
       "5     WT_1mg  WT_Saline  18.208333   3.076923  15.131410  2.465831  two-sided   \n",
       "\n",
       "           T  p-tukey    hedges  \n",
       "0  13.212513    0.001  3.754858  \n",
       "1   7.580838    0.001  2.131650  \n",
       "2  13.935392    0.001  3.843388  \n",
       "3  -5.658179    0.001 -1.623363  \n",
       "4   0.300441    0.900  0.084622  \n",
       "5   6.136434    0.001  1.709753  "
      ]
     },
     "execution_count": 18,
     "metadata": {},
     "output_type": "execute_result"
    }
   ],
   "source": [
    "pg.pairwise_tukey(data = nissl_tidy[nissl_tidy['Region'] == 'Ctx'], dv = 'Apoptotic_Cells', between = 'Group')"
   ]
  },
  {
   "cell_type": "code",
   "execution_count": 19,
   "metadata": {},
   "outputs": [
    {
     "data": {
      "text/html": [
       "<div>\n",
       "<style scoped>\n",
       "    .dataframe tbody tr th:only-of-type {\n",
       "        vertical-align: middle;\n",
       "    }\n",
       "\n",
       "    .dataframe tbody tr th {\n",
       "        vertical-align: top;\n",
       "    }\n",
       "\n",
       "    .dataframe thead th {\n",
       "        text-align: right;\n",
       "    }\n",
       "</style>\n",
       "<table border=\"1\" class=\"dataframe\">\n",
       "  <thead>\n",
       "    <tr style=\"text-align: right;\">\n",
       "      <th></th>\n",
       "      <th>Source</th>\n",
       "      <th>SS</th>\n",
       "      <th>DF</th>\n",
       "      <th>MS</th>\n",
       "      <th>F</th>\n",
       "      <th>p-unc</th>\n",
       "      <th>np2</th>\n",
       "    </tr>\n",
       "  </thead>\n",
       "  <tbody>\n",
       "    <tr>\n",
       "      <th>0</th>\n",
       "      <td>Genotype</td>\n",
       "      <td>489.105607</td>\n",
       "      <td>1.0</td>\n",
       "      <td>489.105607</td>\n",
       "      <td>13.615019</td>\n",
       "      <td>3.653490e-04</td>\n",
       "      <td>0.119835</td>\n",
       "    </tr>\n",
       "    <tr>\n",
       "      <th>1</th>\n",
       "      <td>Tx</td>\n",
       "      <td>14035.975751</td>\n",
       "      <td>1.0</td>\n",
       "      <td>14035.975751</td>\n",
       "      <td>390.713333</td>\n",
       "      <td>2.557780e-36</td>\n",
       "      <td>0.796215</td>\n",
       "    </tr>\n",
       "    <tr>\n",
       "      <th>2</th>\n",
       "      <td>Genotype * Tx</td>\n",
       "      <td>258.493998</td>\n",
       "      <td>1.0</td>\n",
       "      <td>258.493998</td>\n",
       "      <td>7.195585</td>\n",
       "      <td>8.552186e-03</td>\n",
       "      <td>0.067126</td>\n",
       "    </tr>\n",
       "    <tr>\n",
       "      <th>3</th>\n",
       "      <td>Residual</td>\n",
       "      <td>3592.397436</td>\n",
       "      <td>100.0</td>\n",
       "      <td>35.923974</td>\n",
       "      <td>NaN</td>\n",
       "      <td>NaN</td>\n",
       "      <td>NaN</td>\n",
       "    </tr>\n",
       "  </tbody>\n",
       "</table>\n",
       "</div>"
      ],
      "text/plain": [
       "          Source            SS     DF            MS           F         p-unc  \\\n",
       "0       Genotype    489.105607    1.0    489.105607   13.615019  3.653490e-04   \n",
       "1             Tx  14035.975751    1.0  14035.975751  390.713333  2.557780e-36   \n",
       "2  Genotype * Tx    258.493998    1.0    258.493998    7.195585  8.552186e-03   \n",
       "3       Residual   3592.397436  100.0     35.923974         NaN           NaN   \n",
       "\n",
       "        np2  \n",
       "0  0.119835  \n",
       "1  0.796215  \n",
       "2  0.067126  \n",
       "3       NaN  "
      ]
     },
     "execution_count": 19,
     "metadata": {},
     "output_type": "execute_result"
    }
   ],
   "source": [
    "pg.anova(data = nissl_tidy[nissl_tidy['Region'] == 'Str'], dv = 'Apoptotic_Cells', between = ['Genotype', 'Tx'])\n"
   ]
  },
  {
   "cell_type": "code",
   "execution_count": 20,
   "metadata": {},
   "outputs": [
    {
     "data": {
      "text/html": [
       "<div>\n",
       "<style scoped>\n",
       "    .dataframe tbody tr th:only-of-type {\n",
       "        vertical-align: middle;\n",
       "    }\n",
       "\n",
       "    .dataframe tbody tr th {\n",
       "        vertical-align: top;\n",
       "    }\n",
       "\n",
       "    .dataframe thead th {\n",
       "        text-align: right;\n",
       "    }\n",
       "</style>\n",
       "<table border=\"1\" class=\"dataframe\">\n",
       "  <thead>\n",
       "    <tr style=\"text-align: right;\">\n",
       "      <th></th>\n",
       "      <th>A</th>\n",
       "      <th>B</th>\n",
       "      <th>mean(A)</th>\n",
       "      <th>mean(B)</th>\n",
       "      <th>diff</th>\n",
       "      <th>se</th>\n",
       "      <th>tail</th>\n",
       "      <th>T</th>\n",
       "      <th>p-tukey</th>\n",
       "      <th>hedges</th>\n",
       "    </tr>\n",
       "  </thead>\n",
       "  <tbody>\n",
       "    <tr>\n",
       "      <th>0</th>\n",
       "      <td>KO_1mg</td>\n",
       "      <td>KO_Saline</td>\n",
       "      <td>31.653846</td>\n",
       "      <td>5.200000</td>\n",
       "      <td>26.453846</td>\n",
       "      <td>1.678884</td>\n",
       "      <td>two-sided</td>\n",
       "      <td>15.756807</td>\n",
       "      <td>0.001</td>\n",
       "      <td>4.345735</td>\n",
       "    </tr>\n",
       "    <tr>\n",
       "      <th>1</th>\n",
       "      <td>KO_1mg</td>\n",
       "      <td>WT_1mg</td>\n",
       "      <td>31.653846</td>\n",
       "      <td>24.222222</td>\n",
       "      <td>7.431624</td>\n",
       "      <td>1.646879</td>\n",
       "      <td>two-sided</td>\n",
       "      <td>4.512551</td>\n",
       "      <td>0.001</td>\n",
       "      <td>1.221590</td>\n",
       "    </tr>\n",
       "    <tr>\n",
       "      <th>2</th>\n",
       "      <td>KO_1mg</td>\n",
       "      <td>WT_Saline</td>\n",
       "      <td>31.653846</td>\n",
       "      <td>4.076923</td>\n",
       "      <td>27.576923</td>\n",
       "      <td>1.662343</td>\n",
       "      <td>two-sided</td>\n",
       "      <td>16.589194</td>\n",
       "      <td>0.001</td>\n",
       "      <td>4.531653</td>\n",
       "    </tr>\n",
       "    <tr>\n",
       "      <th>3</th>\n",
       "      <td>KO_Saline</td>\n",
       "      <td>WT_1mg</td>\n",
       "      <td>5.200000</td>\n",
       "      <td>24.222222</td>\n",
       "      <td>-19.022222</td>\n",
       "      <td>1.663573</td>\n",
       "      <td>two-sided</td>\n",
       "      <td>-11.434555</td>\n",
       "      <td>0.001</td>\n",
       "      <td>-3.125878</td>\n",
       "    </tr>\n",
       "    <tr>\n",
       "      <th>4</th>\n",
       "      <td>KO_Saline</td>\n",
       "      <td>WT_Saline</td>\n",
       "      <td>5.200000</td>\n",
       "      <td>4.076923</td>\n",
       "      <td>1.123077</td>\n",
       "      <td>1.678884</td>\n",
       "      <td>two-sided</td>\n",
       "      <td>0.668943</td>\n",
       "      <td>0.900</td>\n",
       "      <td>0.184495</td>\n",
       "    </tr>\n",
       "    <tr>\n",
       "      <th>5</th>\n",
       "      <td>WT_1mg</td>\n",
       "      <td>WT_Saline</td>\n",
       "      <td>24.222222</td>\n",
       "      <td>4.076923</td>\n",
       "      <td>20.145299</td>\n",
       "      <td>1.646879</td>\n",
       "      <td>two-sided</td>\n",
       "      <td>12.232413</td>\n",
       "      <td>0.001</td>\n",
       "      <td>3.311429</td>\n",
       "    </tr>\n",
       "  </tbody>\n",
       "</table>\n",
       "</div>"
      ],
      "text/plain": [
       "           A          B    mean(A)    mean(B)       diff        se       tail  \\\n",
       "0     KO_1mg  KO_Saline  31.653846   5.200000  26.453846  1.678884  two-sided   \n",
       "1     KO_1mg     WT_1mg  31.653846  24.222222   7.431624  1.646879  two-sided   \n",
       "2     KO_1mg  WT_Saline  31.653846   4.076923  27.576923  1.662343  two-sided   \n",
       "3  KO_Saline     WT_1mg   5.200000  24.222222 -19.022222  1.663573  two-sided   \n",
       "4  KO_Saline  WT_Saline   5.200000   4.076923   1.123077  1.678884  two-sided   \n",
       "5     WT_1mg  WT_Saline  24.222222   4.076923  20.145299  1.646879  two-sided   \n",
       "\n",
       "           T  p-tukey    hedges  \n",
       "0  15.756807    0.001  4.345735  \n",
       "1   4.512551    0.001  1.221590  \n",
       "2  16.589194    0.001  4.531653  \n",
       "3 -11.434555    0.001 -3.125878  \n",
       "4   0.668943    0.900  0.184495  \n",
       "5  12.232413    0.001  3.311429  "
      ]
     },
     "execution_count": 20,
     "metadata": {},
     "output_type": "execute_result"
    }
   ],
   "source": [
    "pg.pairwise_tukey(data = nissl_tidy[nissl_tidy['Region'] == 'Str'], dv = 'Apoptotic_Cells', between = 'Group')"
   ]
  },
  {
   "cell_type": "code",
   "execution_count": 29,
   "metadata": {},
   "outputs": [
    {
     "data": {
      "image/png": "[encoded data removed]",
      "text/plain": [
       "<Figure size 288x216 with 2 Axes>"
      ]
     },
     "metadata": {
      "needs_background": "light"
     },
     "output_type": "display_data"
    }
   ],
   "source": [
    "nissl_fig = plt.figure(figsize=(4, 3))\n",
    "ax1 = plt.subplot(121)\n",
    "sns.boxplot(data = nissl_tidy[nissl_tidy['Region'] == 'Ctx'], x = 'Tx', y = 'Apoptotic_Cells', hue = 'Genotype', palette = ['royalblue', 'forestgreen'], hue_order = ['WT', 'KO'], width = 0.3, ax = ax1)\n",
    "ax1.set_ylabel('# Apoptotic Cells/Field')\n",
    "ax1.set_xlabel('')\n",
    "ax1.spines['top'].set_visible(False)\n",
    "ax1.spines['right'].set_visible(False)\n",
    "ax1.legend().remove()\n",
    "ax1.annotate(s='***', xy=(0.75, 0.97), xycoords='axes fraction', xytext=(0, 1), textcoords='offset points', ha = 'center', arrowprops=dict(arrowstyle='-[, widthB=0.5, lengthB=.15', lw=1, color='k'), fontsize = 10)\n",
    "ax1.annotate(s='***', xy=(0.46, 0.67), xycoords='axes fraction', xytext=(0, 1), textcoords='offset points', ha = 'center', arrowprops=dict(arrowstyle='-[, widthB=2.5, lengthB=.15', lw=1, color='k'), fontsize = 10)\n",
    "ax1.annotate(s='***', xy=(0.5, 0.6), xycoords='axes fraction', xytext=(0, 1), textcoords='offset points', ha = 'center', arrowprops=dict(arrowstyle='-[, widthB=2, lengthB=.15', lw=1, color='k'), fontsize = 10)\n",
    "ax1.annotate(s='***', xy=(0.54, 1.04), xycoords='axes fraction', xytext=(0, 1), textcoords='offset points', ha = 'center', arrowprops=dict(arrowstyle='-[, widthB=2.5, lengthB=.15', lw=1, color='k'), fontsize = 10)\n",
    "ax1.annotate(s='***', xy=(0.49, 1.1), xycoords='axes fraction', xytext=(0, 1), textcoords='offset points', ha = 'center', arrowprops=dict(arrowstyle='-[, widthB=3, lengthB=.15', lw=1, color='k'), fontsize = 10)\n",
    "\n",
    "\n",
    "ax2 = plt.subplot(122)\n",
    "sns.boxplot(data = nissl_tidy[nissl_tidy['Region'] == 'Str'], x = 'Tx', y = 'Apoptotic_Cells', hue = 'Genotype', palette = ['royalblue', 'forestgreen'], hue_order = ['WT', 'KO'], width = 0.3, ax = ax2)\n",
    "ax2.set_ylabel('# Apoptotic Cells/Field')\n",
    "ax2.set_xlabel('')\n",
    "ax2.spines['top'].set_visible(False)\n",
    "ax2.spines['right'].set_visible(False)\n",
    "ax2.legend(frameon = False, loc = 4)\n",
    "ax2.annotate(s='***', xy=(0.75, 0.97), xycoords='axes fraction', xytext=(0, 1), textcoords='offset points', ha = 'center', arrowprops=dict(arrowstyle='-[, widthB=0.5, lengthB=.15', lw=1, color='k'), fontsize = 10)\n",
    "ax2.annotate(s='***', xy=(0.46, 0.89), xycoords='axes fraction', xytext=(0, 1), textcoords='offset points', ha = 'center', arrowprops=dict(arrowstyle='-[, widthB=2.5, lengthB=.15', lw=1, color='k'), fontsize = 10)\n",
    "ax2.annotate(s='***', xy=(0.5, 0.83), xycoords='axes fraction', xytext=(0, 1), textcoords='offset points', ha = 'center', arrowprops=dict(arrowstyle='-[, widthB=2, lengthB=.15', lw=1, color='k'), fontsize = 10)\n",
    "ax2.annotate(s='***', xy=(0.54, 1.04), xycoords='axes fraction', xytext=(0, 1), textcoords='offset points', ha = 'center', arrowprops=dict(arrowstyle='-[, widthB=2.5, lengthB=.15', lw=1, color='k'), fontsize = 10)\n",
    "ax2.annotate(s='***', xy=(0.5, 1.1), xycoords='axes fraction', xytext=(0, 1), textcoords='offset points', ha = 'center', arrowprops=dict(arrowstyle='-[, widthB=3, lengthB=.15', lw=1, color='k'), fontsize = 10)\n",
    "\n",
    "plt.tight_layout()\n"
   ]
  },
  {
   "cell_type": "code",
   "execution_count": 30,
   "metadata": {},
   "outputs": [],
   "source": [
    "nissl_fig.savefig('/Users/labc02/Documents/PDCB_data/MK-project/Figures/Nissl_count.svg')"
   ]
  },
  {
   "cell_type": "code",
   "execution_count": 33,
   "metadata": {},
   "outputs": [
    {
     "data": {
      "image/png": "[encoded data removed]",
      "text/plain": [
       "<Figure size 288x216 with 2 Axes>"
      ]
     },
     "metadata": {
      "needs_background": "light"
     },
     "output_type": "display_data"
    }
   ],
   "source": [
    "nissl_paper = plt.figure(figsize=(4, 3))\n",
    "ax1 = plt.subplot(121)\n",
    "sns.boxplot(data = nissl_tidy[nissl_tidy['Region'] == 'Ctx'], x = 'Tx', y = 'Apoptotic_Cells', hue = 'Genotype', palette = ['royalblue', 'forestgreen'], hue_order = ['WT', 'KO'], ax = ax1, showfliers = False)\n",
    "sns.stripplot(data = nissl_tidy[nissl_tidy['Region'] == 'Ctx'], x = 'Tx', y = 'Apoptotic_Cells', hue = 'Genotype', palette = ['royalblue', 'forestgreen'], hue_order = ['WT', 'KO'], dodge = True, edgecolor = 'silver', size = 3, linewidth = 0.2, ax = ax1)\n",
    "ax1.set_ylabel('# Apoptotic Cells/Field')\n",
    "ax1.set_xlabel('')\n",
    "ax1.spines['top'].set_visible(False)\n",
    "ax1.spines['right'].set_visible(False)\n",
    "ax1.legend().remove()\n",
    "ax1.set_xticklabels(['Saline', '1\\nmg/kg'])\n",
    "ax1.annotate(s='***', xy=(0.75, 0.99), xycoords='axes fraction', xytext=(0, 0.3), textcoords='offset points', ha = 'center', arrowprops=dict(arrowstyle='-[, widthB=1.2, lengthB=.12', lw=1, color='k'), fontsize = 8)\n",
    "ax1.annotate(s='***', xy=(0.42, 0.7), xycoords='axes fraction', xytext=(0, 0.3), textcoords='offset points', ha = 'center', arrowprops=dict(arrowstyle='-[, widthB=2.8, lengthB=.12', lw=1, color='k'), fontsize = 8)\n",
    "ax1.annotate(s='***', xy=(0.5, 0.62), xycoords='axes fraction', xytext=(0, 0.3), textcoords='offset points', ha = 'center', arrowprops=dict(arrowstyle='-[, widthB=1.8, lengthB=.12', lw=1, color='k'), fontsize = 8)\n",
    "ax1.annotate(s='***', xy=(0.6, 1.06), xycoords='axes fraction', xytext=(0, 0.3), textcoords='offset points', ha = 'center', arrowprops=dict(arrowstyle='-[, widthB=2.8, lengthB=.12', lw=1, color='k'), fontsize = 8)\n",
    "ax1.annotate(s='***', xy=(0.5, 1.13), xycoords='axes fraction', xytext=(0, 0.3), textcoords='offset points', ha = 'center', arrowprops=dict(arrowstyle='-[, widthB=4, lengthB=.12', lw=1, color='k'), fontsize = 8)\n",
    "\n",
    "\n",
    "ax2 = plt.subplot(122)\n",
    "sns.boxplot(data = nissl_tidy[nissl_tidy['Region'] == 'Str'], x = 'Tx', y = 'Apoptotic_Cells', hue = 'Genotype', palette = ['royalblue', 'forestgreen'], hue_order = ['WT', 'KO'], ax = ax2, showfliers = False)\n",
    "sns.stripplot(data = nissl_tidy[nissl_tidy['Region'] == 'Str'], x = 'Tx', y = 'Apoptotic_Cells', hue = 'Genotype', palette = ['royalblue', 'forestgreen'], hue_order = ['WT', 'KO'], dodge = True, edgecolor = 'silver', size = 3, linewidth = 0.2, ax = ax2)\n",
    "ax2.set_ylabel('# Apoptotic Cells/Field')\n",
    "ax2.set_xlabel('')\n",
    "ax2.spines['top'].set_visible(False)\n",
    "ax2.spines['right'].set_visible(False)\n",
    "ax2.legend(frameon = False, loc = 4, fontsize = 8)\n",
    "ax2.set_xticklabels(['Saline', '1\\nmg/kg'])\n",
    "ax2.annotate(s='***', xy=(0.75, 0.99), xycoords='axes fraction', xytext=(0, 0.3), textcoords='offset points', ha = 'center', arrowprops=dict(arrowstyle='-[, widthB=1.2, lengthB=.12', lw=1, color='k'), fontsize = 8)\n",
    "ax2.annotate(s='***', xy=(0.42, 0.92), xycoords='axes fraction', xytext=(0, 0.3), textcoords='offset points', ha = 'center', arrowprops=dict(arrowstyle='-[, widthB=2.8, lengthB=.12', lw=1, color='k'), fontsize = 8)\n",
    "ax2.annotate(s='***', xy=(0.5, 0.85), xycoords='axes fraction', xytext=(0, 0.3), textcoords='offset points', ha = 'center', arrowprops=dict(arrowstyle='-[, widthB=1.8, lengthB=.12', lw=1, color='k'), fontsize = 8)\n",
    "ax2.annotate(s='***', xy=(0.6, 1.06), xycoords='axes fraction', xytext=(0, 0.3), textcoords='offset points', ha = 'center', arrowprops=dict(arrowstyle='-[, widthB=2.8, lengthB=.12', lw=1, color='k'), fontsize = 8)\n",
    "ax2.annotate(s='***', xy=(0.5, 1.13), xycoords='axes fraction', xytext=(0, 0.3), textcoords='offset points', ha = 'center', arrowprops=dict(arrowstyle='-[, widthB=4, lengthB=.12', lw=1, color='k'), fontsize = 8)\n",
    "\n",
    "plt.tight_layout()"
   ]
  },
  {
   "cell_type": "code",
   "execution_count": 34,
   "metadata": {},
   "outputs": [],
   "source": [
    "nissl_paper.savefig('/Users/labc02/Documents/PDCB_data/MK-project/Figures/Nissl_paper.svg')"
   ]
  },
  {
   "cell_type": "markdown",
   "metadata": {},
   "source": [
    "### Passive Avoidance"
   ]
  },
  {
   "cell_type": "markdown",
   "metadata": {},
   "source": [
    "#### Analysis of Passive Avoidance Task"
   ]
  },
  {
   "cell_type": "code",
   "execution_count": 2,
   "metadata": {},
   "outputs": [],
   "source": [
    "pass_df = pd.read_csv('/Users/labc02/Documents/PDCB_data/MK-project/pass_av.csv')"
   ]
  },
  {
   "cell_type": "code",
   "execution_count": 3,
   "metadata": {},
   "outputs": [
    {
     "data": {
      "text/plain": [
       "array(['Shock', 'T1', 'T2'], dtype=object)"
      ]
     },
     "execution_count": 3,
     "metadata": {},
     "output_type": "execute_result"
    }
   ],
   "source": [
    "pass_df['Phase'].unique()"
   ]
  },
  {
   "cell_type": "code",
   "execution_count": 5,
   "metadata": {},
   "outputs": [
    {
     "data": {
      "text/plain": [
       "Genotype  Sex   Group   Dose\n",
       "KO        Fem   MK_0.5  0.5     18\n",
       "                Sal     1.0     15\n",
       "          Male  MK_0.5  0.5     15\n",
       "                Sal     1.0     15\n",
       "WT        Fem   MK_0.5  0.5      9\n",
       "                MK_1    1.0     12\n",
       "                Sal     1.0     18\n",
       "          Male  MK_0.5  0.5     15\n",
       "                MK_1    1.0     21\n",
       "                Sal     1.0     12\n",
       "Name: Sub, dtype: int64"
      ]
     },
     "execution_count": 5,
     "metadata": {},
     "output_type": "execute_result"
    }
   ],
   "source": [
    "pass_df.groupby(['Genotype', 'Sex', 'Group', 'Dose'])['Sub'].count()"
   ]
  },
  {
   "cell_type": "code",
   "execution_count": 6,
   "metadata": {},
   "outputs": [
    {
     "data": {
      "text/plain": [
       "Genotype  Group   Dose\n",
       "KO        MK_0.5  0.5     33\n",
       "          Sal     1.0     30\n",
       "WT        MK_0.5  0.5     24\n",
       "          MK_1    1.0     33\n",
       "          Sal     1.0     30\n",
       "Name: Sub, dtype: int64"
      ]
     },
     "execution_count": 6,
     "metadata": {},
     "output_type": "execute_result"
    }
   ],
   "source": [
    "pass_df.groupby(['Genotype', 'Group', 'Dose'])['Sub'].count()"
   ]
  },
  {
   "cell_type": "code",
   "execution_count": 7,
   "metadata": {},
   "outputs": [],
   "source": [
    "pass_df['Grp'] = pass_df['Genotype'] + '_' + pass_df['Group']"
   ]
  },
  {
   "cell_type": "code",
   "execution_count": 8,
   "metadata": {},
   "outputs": [
    {
     "data": {
      "text/plain": [
       "array(['MK_0.5', 'Sal', 'MK_1'], dtype=object)"
      ]
     },
     "execution_count": 8,
     "metadata": {},
     "output_type": "execute_result"
    }
   ],
   "source": [
    "pass_df['Group'].unique()"
   ]
  },
  {
   "cell_type": "code",
   "execution_count": 9,
   "metadata": {},
   "outputs": [
    {
     "name": "stdout",
     "output_type": "stream",
     "text": [
      "KO_MK_0.5Shock:\n",
      "            W      pval  normal\n",
      "Lat  0.609389  0.000033   False\n",
      "KO_MK_0.5T1:\n",
      "           W      pval  normal\n",
      "Lat  0.71326  0.000693   False\n",
      "KO_MK_0.5T2:\n",
      "            W      pval  normal\n",
      "Lat  0.870222  0.078032    True\n",
      "KO_SalShock:\n",
      "            W      pval  normal\n",
      "Lat  0.467503  0.000002   False\n",
      "KO_SalT1:\n",
      "            W      pval  normal\n",
      "Lat  0.728319  0.001944   False\n",
      "KO_SalT2:\n",
      "           W      pval  normal\n",
      "Lat  0.80929  0.018798   False\n",
      "WT_MK_1Shock:\n",
      "            W      pval  normal\n",
      "Lat  0.690688  0.000355   False\n",
      "WT_MK_1T1:\n",
      "            W      pval  normal\n",
      "Lat  0.775385  0.004466   False\n",
      "WT_MK_1T2:\n",
      "            W      pval  normal\n",
      "Lat  0.816783  0.015645   False\n",
      "WT_MK_0.5Shock:\n",
      "            W      pval  normal\n",
      "Lat  0.748404  0.007843   False\n",
      "WT_MK_0.5T1:\n",
      "            W      pval  normal\n",
      "Lat  0.465533  0.000004   False\n",
      "WT_MK_0.5T2:\n",
      "            W      pval  normal\n",
      "Lat  0.874959  0.168435    True\n",
      "WT_SalShock:\n",
      "            W     pval  normal\n",
      "Lat  0.535469  0.00001   False\n",
      "WT_SalT1:\n",
      "            W          pval  normal\n",
      "Lat  0.365721  1.003693e-07   False\n",
      "WT_SalT2:\n",
      "       W  pval  normal\n",
      "Lat  1.0   1.0    True\n"
     ]
    },
    {
     "name": "stderr",
     "output_type": "stream",
     "text": [
      "/opt/miniconda3/envs/lifelines/lib/python3.12/site-packages/scipy/stats/_axis_nan_policy.py:531: UserWarning: scipy.stats.shapiro: Input data has range zero. The results may not be accurate.\n",
      "  res = hypotest_fun_out(*samples, **kwds)\n"
     ]
    }
   ],
   "source": [
    "for grp in pass_df['Grp'].unique():\n",
    "    for phase in pass_df['Phase'].unique():\n",
    "        print(grp+phase+':')\n",
    "        print(pg.normality(pass_df[(pass_df['Grp']==grp)&(pass_df['Phase']==phase)]['Lat']))"
   ]
  },
  {
   "cell_type": "markdown",
   "metadata": {},
   "source": [
    "### Sex"
   ]
  },
  {
   "cell_type": "code",
   "execution_count": 32,
   "metadata": {},
   "outputs": [
    {
     "name": "stderr",
     "output_type": "stream",
     "text": [
      "/var/folders/g5/m441v63n429b8340sbs50dsc0000gn/T/ipykernel_83490/510280420.py:8: UserWarning: set_ticklabels() should only be used with a fixed number of ticks, i.e. after set_ticks() or using a FixedLocator.\n",
      "  ax1.set_xticklabels(labels=['Control', 'MK-801 \\n(0.5 mg/kg)', 'MK-801 \\n(1 mg/kg)'], fontsize = 8)\n",
      "/var/folders/g5/m441v63n429b8340sbs50dsc0000gn/T/ipykernel_83490/510280420.py:19: UserWarning: set_ticklabels() should only be used with a fixed number of ticks, i.e. after set_ticks() or using a FixedLocator.\n",
      "  ax2.set_xticklabels(labels=['Control', 'MK-801 \\n(0.5 mg/kg)', 'MK-801 \\n(1 mg/kg)'], fontsize = 8)\n",
      "/var/folders/g5/m441v63n429b8340sbs50dsc0000gn/T/ipykernel_83490/510280420.py:29: UserWarning: set_ticklabels() should only be used with a fixed number of ticks, i.e. after set_ticks() or using a FixedLocator.\n",
      "  ax3.set_xticklabels(labels=['Control', 'MK-801 \\n(0.5 mg/kg)', 'MK-801 \\n(1 mg/kg)'], fontsize = 8)\n",
      "/var/folders/g5/m441v63n429b8340sbs50dsc0000gn/T/ipykernel_83490/510280420.py:38: UserWarning: set_ticklabels() should only be used with a fixed number of ticks, i.e. after set_ticks() or using a FixedLocator.\n",
      "  ax4.set_xticklabels(labels=['Control', 'MK-801 \\n(0.5 mg/kg)', 'MK-801 \\n(1 mg/kg)'], fontsize = 8)\n",
      "/var/folders/g5/m441v63n429b8340sbs50dsc0000gn/T/ipykernel_83490/510280420.py:47: UserWarning: set_ticklabels() should only be used with a fixed number of ticks, i.e. after set_ticks() or using a FixedLocator.\n",
      "  ax5.set_xticklabels(labels=['Control', 'MK-801 \\n(0.5 mg/kg)', 'MK-801 \\n(1 mg/kg)'], fontsize = 8)\n",
      "/var/folders/g5/m441v63n429b8340sbs50dsc0000gn/T/ipykernel_83490/510280420.py:57: UserWarning: set_ticklabels() should only be used with a fixed number of ticks, i.e. after set_ticks() or using a FixedLocator.\n",
      "  ax6.set_xticklabels(labels=['Control', 'MK-801 \\n(0.5 mg/kg)', 'MK-801 \\n(1 mg/kg)'], fontsize = 8)\n"
     ]
    },
    {
     "data": {
      "image/png": "[encoded data removed]",
      "text/plain": [
       "<Figure size 720x400 with 6 Axes>"
      ]
     },
     "metadata": {},
     "output_type": "display_data"
    }
   ],
   "source": [
    "phases_wt_sex = plt.figure(figsize = (7.2, 4))\n",
    "\n",
    "ax1 = plt.subplot(231)\n",
    "sns.boxplot(data = pass_df[(pass_df['Genotype']=='WT') & (pass_df['Phase']=='Shock')], x = 'Group', y = 'Lat', hue = 'Sex', \n",
    "            order = ['Sal', 'MK_0.5', 'MK_1'], hue_order=['Fem', 'Male'], palette = ['white', 'silver'], showfliers=False, \n",
    "            dodge=True, ax = ax1)\n",
    "sns.despine()\n",
    "ax1.set_xticklabels(labels=['Control', 'MK-801 \\n(0.5 mg/kg)', 'MK-801 \\n(1 mg/kg)'], fontsize = 8)\n",
    "ax1.set_xlabel('')\n",
    "ax1.set_ylabel('Latency to Cross (s)')\n",
    "h, l, = ax1.get_legend_handles_labels()\n",
    "plt.legend(handles = h,labels=['Female', 'Male'], bbox_to_anchor=(0.0,1.1), loc=\"upper left\", frameon = False)\n",
    "\n",
    "ax2 = plt.subplot(232)\n",
    "sns.boxplot(data = pass_df[(pass_df['Genotype']=='WT') & (pass_df['Phase']=='T1')], x = 'Group', y = 'Lat', hue = 'Sex', \n",
    "            order = ['Sal', 'MK_0.5', 'MK_1'], hue_order=['Fem', 'Male'], palette = ['white', 'silver'], showfliers=False, \n",
    "            dodge=True, legend=False, ax = ax2)\n",
    "sns.despine()\n",
    "ax2.set_xticklabels(labels=['Control', 'MK-801 \\n(0.5 mg/kg)', 'MK-801 \\n(1 mg/kg)'], fontsize = 8)\n",
    "ax2.set_title('WT')\n",
    "ax2.set_xlabel('')\n",
    "ax2.set_ylabel('')\n",
    "\n",
    "ax3 = plt.subplot(233)\n",
    "sns.boxplot(data = pass_df[(pass_df['Genotype']=='WT') & (pass_df['Phase']=='T2')], x = 'Group', y = 'Lat', hue = 'Sex', \n",
    "            order = ['Sal', 'MK_0.5', 'MK_1'],hue_order=['Fem', 'Male'], palette = ['white', 'silver'], showfliers=False, \n",
    "            dodge=True, legend=False, ax = ax3)\n",
    "sns.despine()\n",
    "ax3.set_xticklabels(labels=['Control', 'MK-801 \\n(0.5 mg/kg)', 'MK-801 \\n(1 mg/kg)'], fontsize = 8)\n",
    "ax3.set_xlabel('')\n",
    "ax3.set_ylabel('')\n",
    "\n",
    "ax4 = plt.subplot(234)\n",
    "sns.boxplot(data = pass_df[(pass_df['Genotype']=='KO') & (pass_df['Phase']=='Shock')], x = 'Group', y = 'Lat', hue = 'Sex', \n",
    "            order = ['Sal', 'MK_0.5', 'MK_1'], hue_order=['Fem', 'Male'], palette = ['white', 'silver'], showfliers=False, \n",
    "            dodge=True, legend=False, ax = ax4)\n",
    "sns.despine()\n",
    "ax4.set_xticklabels(labels=['Control', 'MK-801 \\n(0.5 mg/kg)', 'MK-801 \\n(1 mg/kg)'], fontsize = 8)\n",
    "ax4.set_xlabel('')\n",
    "ax4.set_ylabel('Latency to Cross (s)')\n",
    "\n",
    "ax5 = plt.subplot(235)\n",
    "sns.boxplot(data = pass_df[(pass_df['Genotype']=='KO') & (pass_df['Phase']=='T1')], x = 'Group', y = 'Lat', hue = 'Sex', \n",
    "            order = ['Sal', 'MK_0.5', 'MK_1'], hue_order=['Fem', 'Male'], palette = ['white', 'silver'], showfliers=False, \n",
    "            dodge=True, legend=False, ax = ax5)\n",
    "sns.despine()\n",
    "ax5.set_xticklabels(labels=['Control', 'MK-801 \\n(0.5 mg/kg)', 'MK-801 \\n(1 mg/kg)'], fontsize = 8)\n",
    "ax5.set_title('KO')\n",
    "ax5.set_xlabel('')\n",
    "ax5.set_ylabel('')\n",
    "\n",
    "ax6 = plt.subplot(236)\n",
    "sns.boxplot(data = pass_df[(pass_df['Genotype']=='KO') & (pass_df['Phase']=='T2')], x = 'Group', y = 'Lat', hue = 'Sex', \n",
    "            order = ['Sal', 'MK_0.5', 'MK_1'], hue_order=['Fem', 'Male'], palette = ['white', 'silver'], showfliers=False, \n",
    "            dodge=True, legend=False, ax = ax6)\n",
    "sns.despine()\n",
    "ax6.set_xticklabels(labels=['Control', 'MK-801 \\n(0.5 mg/kg)', 'MK-801 \\n(1 mg/kg)'], fontsize = 8)\n",
    "ax6.set_xlabel('')\n",
    "ax6.set_ylabel('')\n",
    "plt.tight_layout()\n"
   ]
  },
  {
   "cell_type": "code",
   "execution_count": 33,
   "metadata": {},
   "outputs": [
    {
     "data": {
      "text/html": [
       "<div>\n",
       "<style scoped>\n",
       "    .dataframe tbody tr th:only-of-type {\n",
       "        vertical-align: middle;\n",
       "    }\n",
       "\n",
       "    .dataframe tbody tr th {\n",
       "        vertical-align: top;\n",
       "    }\n",
       "\n",
       "    .dataframe thead th {\n",
       "        text-align: right;\n",
       "    }\n",
       "</style>\n",
       "<table border=\"1\" class=\"dataframe\">\n",
       "  <thead>\n",
       "    <tr style=\"text-align: right;\">\n",
       "      <th></th>\n",
       "      <th>Source</th>\n",
       "      <th>ddof1</th>\n",
       "      <th>ddof2</th>\n",
       "      <th>F</th>\n",
       "      <th>p-unc</th>\n",
       "      <th>np2</th>\n",
       "    </tr>\n",
       "  </thead>\n",
       "  <tbody>\n",
       "    <tr>\n",
       "      <th>0</th>\n",
       "      <td>Sex</td>\n",
       "      <td>1</td>\n",
       "      <td>27</td>\n",
       "      <td>1.164444</td>\n",
       "      <td>0.290092</td>\n",
       "      <td>0.041344</td>\n",
       "    </tr>\n",
       "  </tbody>\n",
       "</table>\n",
       "</div>"
      ],
      "text/plain": [
       "  Source  ddof1  ddof2         F     p-unc       np2\n",
       "0    Sex      1     27  1.164444  0.290092  0.041344"
      ]
     },
     "execution_count": 33,
     "metadata": {},
     "output_type": "execute_result"
    }
   ],
   "source": [
    "pg.anova(data= pass_df[(pass_df['Genotype']=='WT') & (pass_df['Phase']=='Shock')], dv= 'Lat', between='Sex')"
   ]
  },
  {
   "cell_type": "code",
   "execution_count": 34,
   "metadata": {},
   "outputs": [
    {
     "data": {
      "text/html": [
       "<div>\n",
       "<style scoped>\n",
       "    .dataframe tbody tr th:only-of-type {\n",
       "        vertical-align: middle;\n",
       "    }\n",
       "\n",
       "    .dataframe tbody tr th {\n",
       "        vertical-align: top;\n",
       "    }\n",
       "\n",
       "    .dataframe thead th {\n",
       "        text-align: right;\n",
       "    }\n",
       "</style>\n",
       "<table border=\"1\" class=\"dataframe\">\n",
       "  <thead>\n",
       "    <tr style=\"text-align: right;\">\n",
       "      <th></th>\n",
       "      <th>Source</th>\n",
       "      <th>ddof1</th>\n",
       "      <th>ddof2</th>\n",
       "      <th>F</th>\n",
       "      <th>p-unc</th>\n",
       "      <th>np2</th>\n",
       "    </tr>\n",
       "  </thead>\n",
       "  <tbody>\n",
       "    <tr>\n",
       "      <th>0</th>\n",
       "      <td>Sex</td>\n",
       "      <td>1</td>\n",
       "      <td>27</td>\n",
       "      <td>0.012173</td>\n",
       "      <td>0.912963</td>\n",
       "      <td>0.000451</td>\n",
       "    </tr>\n",
       "  </tbody>\n",
       "</table>\n",
       "</div>"
      ],
      "text/plain": [
       "  Source  ddof1  ddof2         F     p-unc       np2\n",
       "0    Sex      1     27  0.012173  0.912963  0.000451"
      ]
     },
     "execution_count": 34,
     "metadata": {},
     "output_type": "execute_result"
    }
   ],
   "source": [
    "pg.anova(data= pass_df[(pass_df['Genotype']=='WT') & (pass_df['Phase']=='T1')], dv= 'Lat', between='Sex')"
   ]
  },
  {
   "cell_type": "code",
   "execution_count": 35,
   "metadata": {},
   "outputs": [
    {
     "data": {
      "text/html": [
       "<div>\n",
       "<style scoped>\n",
       "    .dataframe tbody tr th:only-of-type {\n",
       "        vertical-align: middle;\n",
       "    }\n",
       "\n",
       "    .dataframe tbody tr th {\n",
       "        vertical-align: top;\n",
       "    }\n",
       "\n",
       "    .dataframe thead th {\n",
       "        text-align: right;\n",
       "    }\n",
       "</style>\n",
       "<table border=\"1\" class=\"dataframe\">\n",
       "  <thead>\n",
       "    <tr style=\"text-align: right;\">\n",
       "      <th></th>\n",
       "      <th>Source</th>\n",
       "      <th>ddof1</th>\n",
       "      <th>ddof2</th>\n",
       "      <th>F</th>\n",
       "      <th>p-unc</th>\n",
       "      <th>np2</th>\n",
       "    </tr>\n",
       "  </thead>\n",
       "  <tbody>\n",
       "    <tr>\n",
       "      <th>0</th>\n",
       "      <td>Sex</td>\n",
       "      <td>1</td>\n",
       "      <td>27</td>\n",
       "      <td>0.208323</td>\n",
       "      <td>0.651736</td>\n",
       "      <td>0.007657</td>\n",
       "    </tr>\n",
       "  </tbody>\n",
       "</table>\n",
       "</div>"
      ],
      "text/plain": [
       "  Source  ddof1  ddof2         F     p-unc       np2\n",
       "0    Sex      1     27  0.208323  0.651736  0.007657"
      ]
     },
     "execution_count": 35,
     "metadata": {},
     "output_type": "execute_result"
    }
   ],
   "source": [
    "pg.anova(data= pass_df[(pass_df['Genotype']=='WT') & (pass_df['Phase']=='T2')], dv= 'Lat', between='Sex')"
   ]
  },
  {
   "cell_type": "code",
   "execution_count": 36,
   "metadata": {},
   "outputs": [
    {
     "data": {
      "text/html": [
       "<div>\n",
       "<style scoped>\n",
       "    .dataframe tbody tr th:only-of-type {\n",
       "        vertical-align: middle;\n",
       "    }\n",
       "\n",
       "    .dataframe tbody tr th {\n",
       "        vertical-align: top;\n",
       "    }\n",
       "\n",
       "    .dataframe thead th {\n",
       "        text-align: right;\n",
       "    }\n",
       "</style>\n",
       "<table border=\"1\" class=\"dataframe\">\n",
       "  <thead>\n",
       "    <tr style=\"text-align: right;\">\n",
       "      <th></th>\n",
       "      <th>Source</th>\n",
       "      <th>ddof1</th>\n",
       "      <th>ddof2</th>\n",
       "      <th>F</th>\n",
       "      <th>p-unc</th>\n",
       "      <th>np2</th>\n",
       "    </tr>\n",
       "  </thead>\n",
       "  <tbody>\n",
       "    <tr>\n",
       "      <th>0</th>\n",
       "      <td>Sex</td>\n",
       "      <td>1</td>\n",
       "      <td>19</td>\n",
       "      <td>1.406164</td>\n",
       "      <td>0.250313</td>\n",
       "      <td>0.068909</td>\n",
       "    </tr>\n",
       "  </tbody>\n",
       "</table>\n",
       "</div>"
      ],
      "text/plain": [
       "  Source  ddof1  ddof2         F     p-unc       np2\n",
       "0    Sex      1     19  1.406164  0.250313  0.068909"
      ]
     },
     "execution_count": 36,
     "metadata": {},
     "output_type": "execute_result"
    }
   ],
   "source": [
    "pg.anova(data= pass_df[(pass_df['Genotype']=='KO') & (pass_df['Phase']=='Shock')], dv= 'Lat', between='Sex')"
   ]
  },
  {
   "cell_type": "code",
   "execution_count": 37,
   "metadata": {},
   "outputs": [
    {
     "data": {
      "text/html": [
       "<div>\n",
       "<style scoped>\n",
       "    .dataframe tbody tr th:only-of-type {\n",
       "        vertical-align: middle;\n",
       "    }\n",
       "\n",
       "    .dataframe tbody tr th {\n",
       "        vertical-align: top;\n",
       "    }\n",
       "\n",
       "    .dataframe thead th {\n",
       "        text-align: right;\n",
       "    }\n",
       "</style>\n",
       "<table border=\"1\" class=\"dataframe\">\n",
       "  <thead>\n",
       "    <tr style=\"text-align: right;\">\n",
       "      <th></th>\n",
       "      <th>Source</th>\n",
       "      <th>ddof1</th>\n",
       "      <th>ddof2</th>\n",
       "      <th>F</th>\n",
       "      <th>p-unc</th>\n",
       "      <th>np2</th>\n",
       "    </tr>\n",
       "  </thead>\n",
       "  <tbody>\n",
       "    <tr>\n",
       "      <th>0</th>\n",
       "      <td>Sex</td>\n",
       "      <td>1</td>\n",
       "      <td>19</td>\n",
       "      <td>1.06964</td>\n",
       "      <td>0.314012</td>\n",
       "      <td>0.053296</td>\n",
       "    </tr>\n",
       "  </tbody>\n",
       "</table>\n",
       "</div>"
      ],
      "text/plain": [
       "  Source  ddof1  ddof2        F     p-unc       np2\n",
       "0    Sex      1     19  1.06964  0.314012  0.053296"
      ]
     },
     "execution_count": 37,
     "metadata": {},
     "output_type": "execute_result"
    }
   ],
   "source": [
    "pg.anova(data= pass_df[(pass_df['Genotype']=='KO') & (pass_df['Phase']=='T1')], dv= 'Lat', between='Sex')"
   ]
  },
  {
   "cell_type": "code",
   "execution_count": 38,
   "metadata": {},
   "outputs": [
    {
     "data": {
      "text/html": [
       "<div>\n",
       "<style scoped>\n",
       "    .dataframe tbody tr th:only-of-type {\n",
       "        vertical-align: middle;\n",
       "    }\n",
       "\n",
       "    .dataframe tbody tr th {\n",
       "        vertical-align: top;\n",
       "    }\n",
       "\n",
       "    .dataframe thead th {\n",
       "        text-align: right;\n",
       "    }\n",
       "</style>\n",
       "<table border=\"1\" class=\"dataframe\">\n",
       "  <thead>\n",
       "    <tr style=\"text-align: right;\">\n",
       "      <th></th>\n",
       "      <th>Source</th>\n",
       "      <th>ddof1</th>\n",
       "      <th>ddof2</th>\n",
       "      <th>F</th>\n",
       "      <th>p-unc</th>\n",
       "      <th>np2</th>\n",
       "    </tr>\n",
       "  </thead>\n",
       "  <tbody>\n",
       "    <tr>\n",
       "      <th>0</th>\n",
       "      <td>Sex</td>\n",
       "      <td>1</td>\n",
       "      <td>19</td>\n",
       "      <td>0.324859</td>\n",
       "      <td>0.57538</td>\n",
       "      <td>0.01681</td>\n",
       "    </tr>\n",
       "  </tbody>\n",
       "</table>\n",
       "</div>"
      ],
      "text/plain": [
       "  Source  ddof1  ddof2         F    p-unc      np2\n",
       "0    Sex      1     19  0.324859  0.57538  0.01681"
      ]
     },
     "execution_count": 38,
     "metadata": {},
     "output_type": "execute_result"
    }
   ],
   "source": [
    "pg.anova(data= pass_df[(pass_df['Genotype']=='KO') & (pass_df['Phase']=='T2')], dv= 'Lat', between='Sex')"
   ]
  },
  {
   "cell_type": "code",
   "execution_count": 41,
   "metadata": {},
   "outputs": [],
   "source": [
    "phases_wt_sex.savefig('/Users/labc02/Documents/PDCB_data/MK-project/Figures/phases_wt_sex.svg')"
   ]
  },
  {
   "cell_type": "code",
   "execution_count": 40,
   "metadata": {},
   "outputs": [
    {
     "name": "stderr",
     "output_type": "stream",
     "text": [
      "/var/folders/g5/m441v63n429b8340sbs50dsc0000gn/T/ipykernel_83490/1875607191.py:6: UserWarning: set_ticklabels() should only be used with a fixed number of ticks, i.e. after set_ticks() or using a FixedLocator.\n",
      "  ax1.set_xticklabels(labels=['Habituation', '2hrs', '24hrs'])\n"
     ]
    },
    {
     "data": {
      "text/plain": [
       "Text(0, 0.3, '*')"
      ]
     },
     "execution_count": 40,
     "metadata": {},
     "output_type": "execute_result"
    },
    {
     "data": {
      "image/png": "[encoded data removed]",
      "text/plain": [
       "<Figure size 700x300 with 1 Axes>"
      ]
     },
     "metadata": {},
     "output_type": "display_data"
    }
   ],
   "source": [
    "plt.figure(figsize = (7, 3))\n",
    "ax1 = plt.subplot(111)\n",
    "sns.boxplot(data = pass_df[pass_df['Genotype']=='WT'], x = 'Phase', y = 'Lat', hue = 'Group', order = ['Shock', 'T1', 'T2'], hue_order = ['Sal', 'MK_0.5', 'MK_1'], palette = ['royalblue', 'steelblue', 'cornflowerblue'], showfliers=False, dodge=True, ax = ax1)\n",
    "sns.stripplot(data = pass_df[pass_df['Genotype']=='WT'], x = 'Phase', y = 'Lat', hue = 'Group', order = ['Shock', 'T1', 'T2'], hue_order = ['Sal', 'MK_0.5', 'MK_1'], palette = ['royalblue', 'steelblue', 'cornflowerblue'], dodge=True, edgecolor = 'silver', size=2, linewidth = 0.2, ax = ax1)\n",
    "sns.despine()\n",
    "ax1.set_xticklabels(labels=['Habituation', '2hrs', '24hrs'])\n",
    "ax1.legend(ncol = 3)\n",
    "ax1.set_xlabel('')\n",
    "ax1.set_ylabel('Latency to Cross (s)')\n",
    "plt.legend(bbox_to_anchor=(1.04,1), loc=\"upper left\")\n",
    "ax1.annotate(text='*', xy=(0.33, 0.98), xycoords='axes fraction', xytext=(0, 0.3), textcoords='offset points', ha = 'center', arrowprops=dict(arrowstyle='-[, widthB=3.7, lengthB=.12', lw=1, color='k'), fontsize = 8)\n",
    "ax1.annotate(text='*', xy=(0.33, 1.05), xycoords='axes fraction', xytext=(0, 0.3), textcoords='offset points', ha = 'center', arrowprops=dict(arrowstyle='-[, widthB=8, lengthB=.12', lw=1, color='k'), fontsize = 8)\n",
    "ax1.annotate(text='*', xy=(0.33, 1.12), xycoords='axes fraction', xytext=(0, 0.3), textcoords='offset points', ha = 'center', arrowprops=dict(arrowstyle='-[, widthB=12, lengthB=.12', lw=1, color='k'), fontsize = 8)\n",
    "ax1.annotate(text='*', xy=(0.79, 1), xycoords='axes fraction', xytext=(0, 0.3), textcoords='offset points', ha = 'center', arrowprops=dict(arrowstyle='-[, widthB=2, lengthB=.12', lw=1, color='k'), fontsize = 8)\n",
    "ax1.annotate(text='*', xy=(0.83, 1.07), xycoords='axes fraction', xytext=(0, 0.3), textcoords='offset points', ha = 'center', arrowprops=dict(arrowstyle='-[, widthB=4, lengthB=.12', lw=1, color='k'), fontsize = 8)\n",
    "\n"
   ]
  },
  {
   "cell_type": "code",
   "execution_count": 42,
   "metadata": {},
   "outputs": [
    {
     "data": {
      "text/html": [
       "<div>\n",
       "<style scoped>\n",
       "    .dataframe tbody tr th:only-of-type {\n",
       "        vertical-align: middle;\n",
       "    }\n",
       "\n",
       "    .dataframe tbody tr th {\n",
       "        vertical-align: top;\n",
       "    }\n",
       "\n",
       "    .dataframe thead th {\n",
       "        text-align: right;\n",
       "    }\n",
       "</style>\n",
       "<table border=\"1\" class=\"dataframe\">\n",
       "  <thead>\n",
       "    <tr style=\"text-align: right;\">\n",
       "      <th></th>\n",
       "      <th>Source</th>\n",
       "      <th>SS</th>\n",
       "      <th>DF1</th>\n",
       "      <th>DF2</th>\n",
       "      <th>MS</th>\n",
       "      <th>F</th>\n",
       "      <th>p-unc</th>\n",
       "      <th>np2</th>\n",
       "      <th>eps</th>\n",
       "    </tr>\n",
       "  </thead>\n",
       "  <tbody>\n",
       "    <tr>\n",
       "      <th>0</th>\n",
       "      <td>Group</td>\n",
       "      <td>5300.629128</td>\n",
       "      <td>2</td>\n",
       "      <td>26</td>\n",
       "      <td>2650.314564</td>\n",
       "      <td>0.384100</td>\n",
       "      <td>6.848639e-01</td>\n",
       "      <td>0.028698</td>\n",
       "      <td>NaN</td>\n",
       "    </tr>\n",
       "    <tr>\n",
       "      <th>1</th>\n",
       "      <td>Phase</td>\n",
       "      <td>686813.077243</td>\n",
       "      <td>1</td>\n",
       "      <td>26</td>\n",
       "      <td>686813.077243</td>\n",
       "      <td>160.696299</td>\n",
       "      <td>1.230993e-12</td>\n",
       "      <td>0.860736</td>\n",
       "      <td>1.0</td>\n",
       "    </tr>\n",
       "    <tr>\n",
       "      <th>2</th>\n",
       "      <td>Interaction</td>\n",
       "      <td>11374.014991</td>\n",
       "      <td>2</td>\n",
       "      <td>26</td>\n",
       "      <td>5687.007495</td>\n",
       "      <td>1.330611</td>\n",
       "      <td>2.817230e-01</td>\n",
       "      <td>0.092851</td>\n",
       "      <td>NaN</td>\n",
       "    </tr>\n",
       "  </tbody>\n",
       "</table>\n",
       "</div>"
      ],
      "text/plain": [
       "        Source             SS  DF1  DF2             MS           F  \\\n",
       "0        Group    5300.629128    2   26    2650.314564    0.384100   \n",
       "1        Phase  686813.077243    1   26  686813.077243  160.696299   \n",
       "2  Interaction   11374.014991    2   26    5687.007495    1.330611   \n",
       "\n",
       "          p-unc       np2  eps  \n",
       "0  6.848639e-01  0.028698  NaN  \n",
       "1  1.230993e-12  0.860736  1.0  \n",
       "2  2.817230e-01  0.092851  NaN  "
      ]
     },
     "execution_count": 42,
     "metadata": {},
     "output_type": "execute_result"
    }
   ],
   "source": [
    "pg.mixed_anova(data = pass_df[(pass_df['Genotype']=='WT') & (pass_df['Phase']!='T2')], dv = 'Lat', between = 'Group', within = 'Phase', subject = 'Sub')\n"
   ]
  },
  {
   "cell_type": "code",
   "execution_count": 43,
   "metadata": {},
   "outputs": [
    {
     "name": "stderr",
     "output_type": "stream",
     "text": [
      "/opt/miniconda3/envs/lifelines/lib/python3.12/site-packages/pingouin/pairwise.py:28: UserWarning: pairwise_ttests is deprecated, use pairwise_tests instead.\n",
      "  warnings.warn(\"pairwise_ttests is deprecated, use pairwise_tests instead.\", UserWarning)\n",
      "/opt/miniconda3/envs/lifelines/lib/python3.12/site-packages/pingouin/pairwise.py:593: FutureWarning: A value is trying to be set on a copy of a DataFrame or Series through chained assignment using an inplace method.\n",
      "The behavior will change in pandas 3.0. This inplace method will never work because the intermediate object on which we are setting values always behaves as a copy.\n",
      "\n",
      "For example, when doing 'df[col].method(value, inplace=True)', try using 'df.method({col: value}, inplace=True)' or df[col] = df[col].method(value) instead, to perform the operation inplace on the original object.\n",
      "\n",
      "\n",
      "  stats[\"Time\"].fillna(\"-\", inplace=True)\n"
     ]
    },
    {
     "data": {
      "text/html": [
       "<div>\n",
       "<style scoped>\n",
       "    .dataframe tbody tr th:only-of-type {\n",
       "        vertical-align: middle;\n",
       "    }\n",
       "\n",
       "    .dataframe tbody tr th {\n",
       "        vertical-align: top;\n",
       "    }\n",
       "\n",
       "    .dataframe thead th {\n",
       "        text-align: right;\n",
       "    }\n",
       "</style>\n",
       "<table border=\"1\" class=\"dataframe\">\n",
       "  <thead>\n",
       "    <tr style=\"text-align: right;\">\n",
       "      <th></th>\n",
       "      <th>Contrast</th>\n",
       "      <th>Phase</th>\n",
       "      <th>A</th>\n",
       "      <th>B</th>\n",
       "      <th>Paired</th>\n",
       "      <th>Parametric</th>\n",
       "      <th>U-val</th>\n",
       "      <th>W-val</th>\n",
       "      <th>alternative</th>\n",
       "      <th>p-unc</th>\n",
       "      <th>p-corr</th>\n",
       "      <th>p-adjust</th>\n",
       "      <th>hedges</th>\n",
       "    </tr>\n",
       "  </thead>\n",
       "  <tbody>\n",
       "    <tr>\n",
       "      <th>0</th>\n",
       "      <td>Phase</td>\n",
       "      <td>-</td>\n",
       "      <td>Shock</td>\n",
       "      <td>T1</td>\n",
       "      <td>True</td>\n",
       "      <td>False</td>\n",
       "      <td>NaN</td>\n",
       "      <td>1.0</td>\n",
       "      <td>two-sided</td>\n",
       "      <td>7.450581e-09</td>\n",
       "      <td>1.117587e-08</td>\n",
       "      <td>fdr_bh</td>\n",
       "      <td>-2.898923</td>\n",
       "    </tr>\n",
       "    <tr>\n",
       "      <th>1</th>\n",
       "      <td>Phase</td>\n",
       "      <td>-</td>\n",
       "      <td>Shock</td>\n",
       "      <td>T2</td>\n",
       "      <td>True</td>\n",
       "      <td>False</td>\n",
       "      <td>NaN</td>\n",
       "      <td>1.0</td>\n",
       "      <td>two-sided</td>\n",
       "      <td>7.450581e-09</td>\n",
       "      <td>1.117587e-08</td>\n",
       "      <td>fdr_bh</td>\n",
       "      <td>-2.520374</td>\n",
       "    </tr>\n",
       "    <tr>\n",
       "      <th>2</th>\n",
       "      <td>Phase</td>\n",
       "      <td>-</td>\n",
       "      <td>T1</td>\n",
       "      <td>T2</td>\n",
       "      <td>True</td>\n",
       "      <td>False</td>\n",
       "      <td>NaN</td>\n",
       "      <td>26.0</td>\n",
       "      <td>two-sided</td>\n",
       "      <td>3.267996e-01</td>\n",
       "      <td>3.267996e-01</td>\n",
       "      <td>fdr_bh</td>\n",
       "      <td>0.192897</td>\n",
       "    </tr>\n",
       "    <tr>\n",
       "      <th>3</th>\n",
       "      <td>Group</td>\n",
       "      <td>-</td>\n",
       "      <td>MK_0.5</td>\n",
       "      <td>MK_1</td>\n",
       "      <td>False</td>\n",
       "      <td>False</td>\n",
       "      <td>48.0</td>\n",
       "      <td>NaN</td>\n",
       "      <td>two-sided</td>\n",
       "      <td>7.779895e-01</td>\n",
       "      <td>7.779895e-01</td>\n",
       "      <td>fdr_bh</td>\n",
       "      <td>0.281687</td>\n",
       "    </tr>\n",
       "    <tr>\n",
       "      <th>4</th>\n",
       "      <td>Group</td>\n",
       "      <td>-</td>\n",
       "      <td>MK_0.5</td>\n",
       "      <td>Sal</td>\n",
       "      <td>False</td>\n",
       "      <td>False</td>\n",
       "      <td>30.0</td>\n",
       "      <td>NaN</td>\n",
       "      <td>two-sided</td>\n",
       "      <td>4.082453e-01</td>\n",
       "      <td>6.123680e-01</td>\n",
       "      <td>fdr_bh</td>\n",
       "      <td>-0.619285</td>\n",
       "    </tr>\n",
       "    <tr>\n",
       "      <th>5</th>\n",
       "      <td>Group</td>\n",
       "      <td>-</td>\n",
       "      <td>MK_1</td>\n",
       "      <td>Sal</td>\n",
       "      <td>False</td>\n",
       "      <td>False</td>\n",
       "      <td>36.0</td>\n",
       "      <td>NaN</td>\n",
       "      <td>two-sided</td>\n",
       "      <td>1.926667e-01</td>\n",
       "      <td>5.780001e-01</td>\n",
       "      <td>fdr_bh</td>\n",
       "      <td>-0.803881</td>\n",
       "    </tr>\n",
       "    <tr>\n",
       "      <th>6</th>\n",
       "      <td>Phase * Group</td>\n",
       "      <td>Shock</td>\n",
       "      <td>MK_0.5</td>\n",
       "      <td>MK_1</td>\n",
       "      <td>False</td>\n",
       "      <td>False</td>\n",
       "      <td>36.0</td>\n",
       "      <td>NaN</td>\n",
       "      <td>two-sided</td>\n",
       "      <td>5.447593e-01</td>\n",
       "      <td>8.171390e-01</td>\n",
       "      <td>fdr_bh</td>\n",
       "      <td>-0.037666</td>\n",
       "    </tr>\n",
       "    <tr>\n",
       "      <th>7</th>\n",
       "      <td>Phase * Group</td>\n",
       "      <td>Shock</td>\n",
       "      <td>MK_0.5</td>\n",
       "      <td>Sal</td>\n",
       "      <td>False</td>\n",
       "      <td>False</td>\n",
       "      <td>37.0</td>\n",
       "      <td>NaN</td>\n",
       "      <td>two-sided</td>\n",
       "      <td>8.285571e-01</td>\n",
       "      <td>8.285571e-01</td>\n",
       "      <td>fdr_bh</td>\n",
       "      <td>0.284969</td>\n",
       "    </tr>\n",
       "    <tr>\n",
       "      <th>8</th>\n",
       "      <td>Phase * Group</td>\n",
       "      <td>Shock</td>\n",
       "      <td>MK_1</td>\n",
       "      <td>Sal</td>\n",
       "      <td>False</td>\n",
       "      <td>False</td>\n",
       "      <td>60.0</td>\n",
       "      <td>NaN</td>\n",
       "      <td>two-sided</td>\n",
       "      <td>7.513343e-01</td>\n",
       "      <td>8.285571e-01</td>\n",
       "      <td>fdr_bh</td>\n",
       "      <td>0.300534</td>\n",
       "    </tr>\n",
       "    <tr>\n",
       "      <th>9</th>\n",
       "      <td>Phase * Group</td>\n",
       "      <td>T1</td>\n",
       "      <td>MK_0.5</td>\n",
       "      <td>MK_1</td>\n",
       "      <td>False</td>\n",
       "      <td>False</td>\n",
       "      <td>54.0</td>\n",
       "      <td>NaN</td>\n",
       "      <td>two-sided</td>\n",
       "      <td>3.647667e-01</td>\n",
       "      <td>8.171390e-01</td>\n",
       "      <td>fdr_bh</td>\n",
       "      <td>0.390976</td>\n",
       "    </tr>\n",
       "    <tr>\n",
       "      <th>10</th>\n",
       "      <td>Phase * Group</td>\n",
       "      <td>T1</td>\n",
       "      <td>MK_0.5</td>\n",
       "      <td>Sal</td>\n",
       "      <td>False</td>\n",
       "      <td>False</td>\n",
       "      <td>35.0</td>\n",
       "      <td>NaN</td>\n",
       "      <td>two-sided</td>\n",
       "      <td>5.382681e-01</td>\n",
       "      <td>8.171390e-01</td>\n",
       "      <td>fdr_bh</td>\n",
       "      <td>-0.100597</td>\n",
       "    </tr>\n",
       "    <tr>\n",
       "      <th>11</th>\n",
       "      <td>Phase * Group</td>\n",
       "      <td>T1</td>\n",
       "      <td>MK_1</td>\n",
       "      <td>Sal</td>\n",
       "      <td>False</td>\n",
       "      <td>False</td>\n",
       "      <td>37.0</td>\n",
       "      <td>NaN</td>\n",
       "      <td>two-sided</td>\n",
       "      <td>1.223980e-01</td>\n",
       "      <td>3.671941e-01</td>\n",
       "      <td>fdr_bh</td>\n",
       "      <td>-0.505440</td>\n",
       "    </tr>\n",
       "    <tr>\n",
       "      <th>12</th>\n",
       "      <td>Phase * Group</td>\n",
       "      <td>T2</td>\n",
       "      <td>MK_0.5</td>\n",
       "      <td>MK_1</td>\n",
       "      <td>False</td>\n",
       "      <td>False</td>\n",
       "      <td>48.5</td>\n",
       "      <td>NaN</td>\n",
       "      <td>two-sided</td>\n",
       "      <td>7.314673e-01</td>\n",
       "      <td>8.285571e-01</td>\n",
       "      <td>fdr_bh</td>\n",
       "      <td>0.194838</td>\n",
       "    </tr>\n",
       "    <tr>\n",
       "      <th>13</th>\n",
       "      <td>Phase * Group</td>\n",
       "      <td>T2</td>\n",
       "      <td>MK_0.5</td>\n",
       "      <td>Sal</td>\n",
       "      <td>False</td>\n",
       "      <td>False</td>\n",
       "      <td>15.0</td>\n",
       "      <td>NaN</td>\n",
       "      <td>two-sided</td>\n",
       "      <td>5.869497e-03</td>\n",
       "      <td>4.145605e-02</td>\n",
       "      <td>fdr_bh</td>\n",
       "      <td>-1.340975</td>\n",
       "    </tr>\n",
       "    <tr>\n",
       "      <th>14</th>\n",
       "      <td>Phase * Group</td>\n",
       "      <td>T2</td>\n",
       "      <td>MK_1</td>\n",
       "      <td>Sal</td>\n",
       "      <td>False</td>\n",
       "      <td>False</td>\n",
       "      <td>25.0</td>\n",
       "      <td>NaN</td>\n",
       "      <td>two-sided</td>\n",
       "      <td>9.212454e-03</td>\n",
       "      <td>4.145605e-02</td>\n",
       "      <td>fdr_bh</td>\n",
       "      <td>-1.259458</td>\n",
       "    </tr>\n",
       "  </tbody>\n",
       "</table>\n",
       "</div>"
      ],
      "text/plain": [
       "         Contrast  Phase       A     B Paired Parametric  U-val  W-val  \\\n",
       "0           Phase      -   Shock    T1   True      False    NaN    1.0   \n",
       "1           Phase      -   Shock    T2   True      False    NaN    1.0   \n",
       "2           Phase      -      T1    T2   True      False    NaN   26.0   \n",
       "3           Group      -  MK_0.5  MK_1  False      False   48.0    NaN   \n",
       "4           Group      -  MK_0.5   Sal  False      False   30.0    NaN   \n",
       "5           Group      -    MK_1   Sal  False      False   36.0    NaN   \n",
       "6   Phase * Group  Shock  MK_0.5  MK_1  False      False   36.0    NaN   \n",
       "7   Phase * Group  Shock  MK_0.5   Sal  False      False   37.0    NaN   \n",
       "8   Phase * Group  Shock    MK_1   Sal  False      False   60.0    NaN   \n",
       "9   Phase * Group     T1  MK_0.5  MK_1  False      False   54.0    NaN   \n",
       "10  Phase * Group     T1  MK_0.5   Sal  False      False   35.0    NaN   \n",
       "11  Phase * Group     T1    MK_1   Sal  False      False   37.0    NaN   \n",
       "12  Phase * Group     T2  MK_0.5  MK_1  False      False   48.5    NaN   \n",
       "13  Phase * Group     T2  MK_0.5   Sal  False      False   15.0    NaN   \n",
       "14  Phase * Group     T2    MK_1   Sal  False      False   25.0    NaN   \n",
       "\n",
       "   alternative         p-unc        p-corr p-adjust    hedges  \n",
       "0    two-sided  7.450581e-09  1.117587e-08   fdr_bh -2.898923  \n",
       "1    two-sided  7.450581e-09  1.117587e-08   fdr_bh -2.520374  \n",
       "2    two-sided  3.267996e-01  3.267996e-01   fdr_bh  0.192897  \n",
       "3    two-sided  7.779895e-01  7.779895e-01   fdr_bh  0.281687  \n",
       "4    two-sided  4.082453e-01  6.123680e-01   fdr_bh -0.619285  \n",
       "5    two-sided  1.926667e-01  5.780001e-01   fdr_bh -0.803881  \n",
       "6    two-sided  5.447593e-01  8.171390e-01   fdr_bh -0.037666  \n",
       "7    two-sided  8.285571e-01  8.285571e-01   fdr_bh  0.284969  \n",
       "8    two-sided  7.513343e-01  8.285571e-01   fdr_bh  0.300534  \n",
       "9    two-sided  3.647667e-01  8.171390e-01   fdr_bh  0.390976  \n",
       "10   two-sided  5.382681e-01  8.171390e-01   fdr_bh -0.100597  \n",
       "11   two-sided  1.223980e-01  3.671941e-01   fdr_bh -0.505440  \n",
       "12   two-sided  7.314673e-01  8.285571e-01   fdr_bh  0.194838  \n",
       "13   two-sided  5.869497e-03  4.145605e-02   fdr_bh -1.340975  \n",
       "14   two-sided  9.212454e-03  4.145605e-02   fdr_bh -1.259458  "
      ]
     },
     "execution_count": 43,
     "metadata": {},
     "output_type": "execute_result"
    }
   ],
   "source": [
    "pg.pairwise_ttests(data = pass_df[pass_df['Genotype']=='WT'], dv = 'Lat', between = 'Group', within = 'Phase', subject= 'Sub', parametric = False, padjust = 'fdr_bh')\n"
   ]
  },
  {
   "cell_type": "code",
   "execution_count": 44,
   "metadata": {},
   "outputs": [],
   "source": [
    "adq_dic = {'Group':[], 'Phase_1':[], 'Phase_2':[], 'W':[], 'p_unc':[], 'p_cor':[], 'CLES':[]}"
   ]
  },
  {
   "cell_type": "code",
   "execution_count": 45,
   "metadata": {},
   "outputs": [],
   "source": [
    "for group in pass_df[pass_df['Genotype']=='WT']['Group'].unique():\n",
    "    adq_dic['Group'].append(group)\n",
    "    adq_dic['Phase_1'].append('Hab')\n",
    "    adq_dic['Phase_2'].append('2hrs')\n",
    "    wlcx = pg.wilcoxon(pass_df[(pass_df['Genotype']=='WT')&(pass_df['Group']==group)&(pass_df['Phase']=='Shock')]['Lat'].values, pass_df[(pass_df['Genotype']=='WT')&(pass_df['Group']==group)&(pass_df['Phase']=='T1')]['Lat'].values)\n",
    "    adq_dic['W'].append(wlcx['W-val'].values.item())\n",
    "    adq_dic['p_unc'].append(wlcx['p-val'].values.item())\n",
    "    adq_dic['CLES'].append(wlcx['CLES'].values.item())\n",
    "    "
   ]
  },
  {
   "cell_type": "code",
   "execution_count": 46,
   "metadata": {},
   "outputs": [
    {
     "data": {
      "text/plain": [
       "{'Group': ['MK_1', 'MK_0.5', 'Sal'],\n",
       " 'Phase_1': ['Hab', 'Hab', 'Hab'],\n",
       " 'Phase_2': ['2hrs', '2hrs', '2hrs'],\n",
       " 'W': [1.0, 0.0, 0.0],\n",
       " 'p_unc': [0.001953125, 0.0078125, 0.001953125],\n",
       " 'p_cor': [],\n",
       " 'CLES': [0.0743801652892562, 0.046875, 0.03]}"
      ]
     },
     "execution_count": 46,
     "metadata": {},
     "output_type": "execute_result"
    }
   ],
   "source": [
    "adq_dic"
   ]
  },
  {
   "cell_type": "code",
   "execution_count": 47,
   "metadata": {},
   "outputs": [],
   "source": [
    "[bol, p_cor] = pg.multicomp(adq_dic['p_unc'])"
   ]
  },
  {
   "cell_type": "code",
   "execution_count": 48,
   "metadata": {},
   "outputs": [],
   "source": [
    "adq_dic['p_cor'] = p_cor"
   ]
  },
  {
   "cell_type": "code",
   "execution_count": 49,
   "metadata": {},
   "outputs": [
    {
     "data": {
      "text/html": [
       "<div>\n",
       "<style scoped>\n",
       "    .dataframe tbody tr th:only-of-type {\n",
       "        vertical-align: middle;\n",
       "    }\n",
       "\n",
       "    .dataframe tbody tr th {\n",
       "        vertical-align: top;\n",
       "    }\n",
       "\n",
       "    .dataframe thead th {\n",
       "        text-align: right;\n",
       "    }\n",
       "</style>\n",
       "<table border=\"1\" class=\"dataframe\">\n",
       "  <thead>\n",
       "    <tr style=\"text-align: right;\">\n",
       "      <th></th>\n",
       "      <th>Group</th>\n",
       "      <th>Phase_1</th>\n",
       "      <th>Phase_2</th>\n",
       "      <th>W</th>\n",
       "      <th>p_unc</th>\n",
       "      <th>p_cor</th>\n",
       "      <th>CLES</th>\n",
       "    </tr>\n",
       "  </thead>\n",
       "  <tbody>\n",
       "    <tr>\n",
       "      <th>0</th>\n",
       "      <td>MK_1</td>\n",
       "      <td>Hab</td>\n",
       "      <td>2hrs</td>\n",
       "      <td>1.0</td>\n",
       "      <td>0.001953</td>\n",
       "      <td>0.005859</td>\n",
       "      <td>0.074380</td>\n",
       "    </tr>\n",
       "    <tr>\n",
       "      <th>1</th>\n",
       "      <td>MK_0.5</td>\n",
       "      <td>Hab</td>\n",
       "      <td>2hrs</td>\n",
       "      <td>0.0</td>\n",
       "      <td>0.007812</td>\n",
       "      <td>0.007812</td>\n",
       "      <td>0.046875</td>\n",
       "    </tr>\n",
       "    <tr>\n",
       "      <th>2</th>\n",
       "      <td>Sal</td>\n",
       "      <td>Hab</td>\n",
       "      <td>2hrs</td>\n",
       "      <td>0.0</td>\n",
       "      <td>0.001953</td>\n",
       "      <td>0.005859</td>\n",
       "      <td>0.030000</td>\n",
       "    </tr>\n",
       "  </tbody>\n",
       "</table>\n",
       "</div>"
      ],
      "text/plain": [
       "    Group Phase_1 Phase_2    W     p_unc     p_cor      CLES\n",
       "0    MK_1     Hab    2hrs  1.0  0.001953  0.005859  0.074380\n",
       "1  MK_0.5     Hab    2hrs  0.0  0.007812  0.007812  0.046875\n",
       "2     Sal     Hab    2hrs  0.0  0.001953  0.005859  0.030000"
      ]
     },
     "execution_count": 49,
     "metadata": {},
     "output_type": "execute_result"
    }
   ],
   "source": [
    "pd.DataFrame(adq_dic)"
   ]
  },
  {
   "cell_type": "code",
   "execution_count": 50,
   "metadata": {},
   "outputs": [
    {
     "data": {
      "text/html": [
       "<div>\n",
       "<style scoped>\n",
       "    .dataframe tbody tr th:only-of-type {\n",
       "        vertical-align: middle;\n",
       "    }\n",
       "\n",
       "    .dataframe tbody tr th {\n",
       "        vertical-align: top;\n",
       "    }\n",
       "\n",
       "    .dataframe thead th {\n",
       "        text-align: right;\n",
       "    }\n",
       "</style>\n",
       "<table border=\"1\" class=\"dataframe\">\n",
       "  <thead>\n",
       "    <tr style=\"text-align: right;\">\n",
       "      <th></th>\n",
       "      <th>Source</th>\n",
       "      <th>ddof1</th>\n",
       "      <th>H</th>\n",
       "      <th>p-unc</th>\n",
       "    </tr>\n",
       "  </thead>\n",
       "  <tbody>\n",
       "    <tr>\n",
       "      <th>Kruskal</th>\n",
       "      <td>Group</td>\n",
       "      <td>2</td>\n",
       "      <td>8.392496</td>\n",
       "      <td>0.015052</td>\n",
       "    </tr>\n",
       "  </tbody>\n",
       "</table>\n",
       "</div>"
      ],
      "text/plain": [
       "        Source  ddof1         H     p-unc\n",
       "Kruskal  Group      2  8.392496  0.015052"
      ]
     },
     "execution_count": 50,
     "metadata": {},
     "output_type": "execute_result"
    }
   ],
   "source": [
    "pg.kruskal(data = pass_df[(pass_df['Genotype']=='WT') & (pass_df['Phase']=='T2')], dv = 'Lat', between = 'Group')"
   ]
  },
  {
   "cell_type": "code",
   "execution_count": 51,
   "metadata": {},
   "outputs": [
    {
     "name": "stderr",
     "output_type": "stream",
     "text": [
      "/opt/miniconda3/envs/lifelines/lib/python3.12/site-packages/pingouin/pairwise.py:28: UserWarning: pairwise_ttests is deprecated, use pairwise_tests instead.\n",
      "  warnings.warn(\"pairwise_ttests is deprecated, use pairwise_tests instead.\", UserWarning)\n"
     ]
    },
    {
     "data": {
      "text/html": [
       "<div>\n",
       "<style scoped>\n",
       "    .dataframe tbody tr th:only-of-type {\n",
       "        vertical-align: middle;\n",
       "    }\n",
       "\n",
       "    .dataframe tbody tr th {\n",
       "        vertical-align: top;\n",
       "    }\n",
       "\n",
       "    .dataframe thead th {\n",
       "        text-align: right;\n",
       "    }\n",
       "</style>\n",
       "<table border=\"1\" class=\"dataframe\">\n",
       "  <thead>\n",
       "    <tr style=\"text-align: right;\">\n",
       "      <th></th>\n",
       "      <th>Contrast</th>\n",
       "      <th>A</th>\n",
       "      <th>B</th>\n",
       "      <th>Paired</th>\n",
       "      <th>Parametric</th>\n",
       "      <th>U-val</th>\n",
       "      <th>alternative</th>\n",
       "      <th>p-unc</th>\n",
       "      <th>p-corr</th>\n",
       "      <th>p-adjust</th>\n",
       "      <th>CLES</th>\n",
       "    </tr>\n",
       "  </thead>\n",
       "  <tbody>\n",
       "    <tr>\n",
       "      <th>0</th>\n",
       "      <td>Group</td>\n",
       "      <td>MK_0.5</td>\n",
       "      <td>MK_1</td>\n",
       "      <td>False</td>\n",
       "      <td>False</td>\n",
       "      <td>48.5</td>\n",
       "      <td>two-sided</td>\n",
       "      <td>0.731467</td>\n",
       "      <td>0.731467</td>\n",
       "      <td>holm</td>\n",
       "      <td>0.551136</td>\n",
       "    </tr>\n",
       "    <tr>\n",
       "      <th>1</th>\n",
       "      <td>Group</td>\n",
       "      <td>MK_0.5</td>\n",
       "      <td>Sal</td>\n",
       "      <td>False</td>\n",
       "      <td>False</td>\n",
       "      <td>15.0</td>\n",
       "      <td>two-sided</td>\n",
       "      <td>0.005869</td>\n",
       "      <td>0.017608</td>\n",
       "      <td>holm</td>\n",
       "      <td>0.187500</td>\n",
       "    </tr>\n",
       "    <tr>\n",
       "      <th>2</th>\n",
       "      <td>Group</td>\n",
       "      <td>MK_1</td>\n",
       "      <td>Sal</td>\n",
       "      <td>False</td>\n",
       "      <td>False</td>\n",
       "      <td>25.0</td>\n",
       "      <td>two-sided</td>\n",
       "      <td>0.009212</td>\n",
       "      <td>0.018425</td>\n",
       "      <td>holm</td>\n",
       "      <td>0.227273</td>\n",
       "    </tr>\n",
       "  </tbody>\n",
       "</table>\n",
       "</div>"
      ],
      "text/plain": [
       "  Contrast       A     B  Paired  Parametric  U-val alternative     p-unc  \\\n",
       "0    Group  MK_0.5  MK_1   False       False   48.5   two-sided  0.731467   \n",
       "1    Group  MK_0.5   Sal   False       False   15.0   two-sided  0.005869   \n",
       "2    Group    MK_1   Sal   False       False   25.0   two-sided  0.009212   \n",
       "\n",
       "     p-corr p-adjust      CLES  \n",
       "0  0.731467     holm  0.551136  \n",
       "1  0.017608     holm  0.187500  \n",
       "2  0.018425     holm  0.227273  "
      ]
     },
     "execution_count": 51,
     "metadata": {},
     "output_type": "execute_result"
    }
   ],
   "source": [
    "pg.pairwise_ttests(data = pass_df[(pass_df['Genotype']=='WT') & (pass_df['Phase']=='T2')], dv = 'Lat', between = 'Group', subject= 'Sub', parametric = False, padjust = 'holm', effsize='CLES')\n"
   ]
  },
  {
   "cell_type": "code",
   "execution_count": 53,
   "metadata": {},
   "outputs": [
    {
     "name": "stderr",
     "output_type": "stream",
     "text": [
      "/var/folders/g5/m441v63n429b8340sbs50dsc0000gn/T/ipykernel_83490/2410337492.py:6: UserWarning: set_ticklabels() should only be used with a fixed number of ticks, i.e. after set_ticks() or using a FixedLocator.\n",
      "  ax1.set_xticklabels(labels=['Hab', '2hrs', '24hrs'])\n"
     ]
    },
    {
     "data": {
      "text/plain": [
       "Text(0, 0.3, '*')"
      ]
     },
     "execution_count": 53,
     "metadata": {},
     "output_type": "execute_result"
    },
    {
     "data": {
      "image/png": "[encoded data removed]",
      "text/plain": [
       "<Figure size 250x200 with 1 Axes>"
      ]
     },
     "metadata": {},
     "output_type": "display_data"
    }
   ],
   "source": [
    "wt_pass_fig = plt.figure(figsize = (2.5, 2))\n",
    "ax1 = plt.subplot(111)\n",
    "sns.boxplot(data = pass_df[pass_df['Genotype']=='WT'], x = 'Phase', y = 'Lat', hue = 'Group', order = ['Shock', 'T1', 'T2'], hue_order = ['Sal', 'MK_0.5', 'MK_1'], palette = ['royalblue', 'steelblue', 'cornflowerblue'], showfliers=False, dodge=True, ax = ax1)\n",
    "sns.stripplot(data = pass_df[pass_df['Genotype']=='WT'], x = 'Phase', y = 'Lat', hue = 'Group', order = ['Shock', 'T1', 'T2'], hue_order = ['Sal', 'MK_0.5', 'MK_1'], palette = ['royalblue', 'steelblue', 'cornflowerblue'], dodge=True, edgecolor = 'silver', size=2, linewidth = 0.2, ax = ax1)\n",
    "sns.despine()\n",
    "ax1.set_xticklabels(labels=['Hab', '2hrs', '24hrs'])\n",
    "ax1.legend(ncol = 3)\n",
    "ax1.set_xlabel('')\n",
    "ax1.set_ylabel('Latency to Cross (s)')\n",
    "plt.legend(bbox_to_anchor=(1.04,1), loc=\"upper left\")\n",
    "ax1.annotate(text='*', xy=(0.25, 0.99), xycoords='axes fraction', xytext=(0, 0.3), textcoords='offset points', ha = 'center', arrowprops=dict(arrowstyle='-[, widthB=3, lengthB=.12', lw=1, color='k'), fontsize = 8)\n",
    "ax1.annotate(text='*', xy=(0.33, 1.07), xycoords='axes fraction', xytext=(0, 0.3), textcoords='offset points', ha = 'center', arrowprops=dict(arrowstyle='-[, widthB=3, lengthB=.12', lw=1, color='k'), fontsize = 8)\n",
    "ax1.annotate(text='*', xy=(0.41, 1.15), xycoords='axes fraction', xytext=(0, 0.3), textcoords='offset points', ha = 'center', arrowprops=dict(arrowstyle='-[, widthB=3, lengthB=.12', lw=1, color='k'), fontsize = 8)\n",
    "ax1.annotate(text='*', xy=(0.79, 1), xycoords='axes fraction', xytext=(0, 0.3), textcoords='offset points', ha = 'center', arrowprops=dict(arrowstyle='-[, widthB=0.8, lengthB=.12', lw=1, color='k'), fontsize = 8)\n",
    "ax1.annotate(text='*', xy=(0.83, 1.07), xycoords='axes fraction', xytext=(0, 0.3), textcoords='offset points', ha = 'center', arrowprops=dict(arrowstyle='-[, widthB=1.5, lengthB=.12', lw=1, color='k'), fontsize = 8)\n",
    "\n"
   ]
  },
  {
   "cell_type": "code",
   "execution_count": 54,
   "metadata": {},
   "outputs": [],
   "source": [
    "wt_pass_fig.savefig('/Users/labc02/Documents/PDCB_data/MK-project/Figures/wt_pass_paper.svg')"
   ]
  },
  {
   "cell_type": "code",
   "execution_count": 56,
   "metadata": {},
   "outputs": [
    {
     "name": "stderr",
     "output_type": "stream",
     "text": [
      "/var/folders/g5/m441v63n429b8340sbs50dsc0000gn/T/ipykernel_83490/750968805.py:6: UserWarning: set_ticklabels() should only be used with a fixed number of ticks, i.e. after set_ticks() or using a FixedLocator.\n",
      "  ax1.set_xticklabels(labels=['Hab', '2hrs', '24hrs'])\n"
     ]
    },
    {
     "data": {
      "text/plain": [
       "Text(0, 0.3, '*')"
      ]
     },
     "execution_count": 56,
     "metadata": {},
     "output_type": "execute_result"
    },
    {
     "data": {
      "image/png": "[encoded data removed]",
      "text/plain": [
       "<Figure size 250x200 with 1 Axes>"
      ]
     },
     "metadata": {},
     "output_type": "display_data"
    }
   ],
   "source": [
    "all_pass_fig= plt.figure(figsize = (2.5, 2))\n",
    "ax1 = plt.subplot(111)\n",
    "sns.boxplot(data = pass_df[pass_df['Group']!='MK_1'], x = 'Phase', y = 'Lat', hue = 'Grp', order = ['Shock', 'T1', 'T2'], hue_order = ['WT_Sal', 'KO_Sal', 'WT_MK_0.5', 'KO_MK_0.5'], palette = ['royalblue', 'forestgreen', 'steelblue', 'darkseagreen'], showfliers=False, dodge =True, ax = ax1)\n",
    "sns.stripplot(data = pass_df[pass_df['Group']!='MK_1'], x = 'Phase', y = 'Lat', hue = 'Grp', order = ['Shock', 'T1', 'T2'], hue_order = ['WT_Sal', 'KO_Sal', 'WT_MK_0.5', 'KO_MK_0.5'], palette = ['royalblue', 'forestgreen', 'steelblue', 'darkseagreen'], dodge =True, edgecolor='silver', size=2, linewidth=0.2, ax = ax1)\n",
    "sns.despine()\n",
    "ax1.set_xticklabels(labels=['Hab', '2hrs', '24hrs'])\n",
    "ax1.legend(ncol = 3)\n",
    "ax1.set_xlabel('')\n",
    "ax1.set_ylabel('Latency to Cross (s)')\n",
    "plt.legend(bbox_to_anchor=(1.04,1), loc=\"upper left\")\n",
    "ax1.annotate(text='*', xy=(0.23, 0.99), xycoords='axes fraction', xytext=(0, 0.3), textcoords='offset points', ha = 'center', arrowprops=dict(arrowstyle='-[, widthB=2.8, lengthB=.12', lw=1, color='k'), fontsize = 8)\n",
    "ax1.annotate(text='*', xy=(0.3, 1.07), xycoords='axes fraction', xytext=(0, 0.3), textcoords='offset points', ha = 'center', arrowprops=dict(arrowstyle='-[, widthB=2.8, lengthB=.12', lw=1, color='k'), fontsize = 8)\n",
    "ax1.annotate(text='*', xy=(0.37, 1.15), xycoords='axes fraction', xytext=(0, 0.3), textcoords='offset points', ha = 'center', arrowprops=dict(arrowstyle='-[, widthB=2.8, lengthB=.12', lw=1, color='k'), fontsize = 8)\n",
    "ax1.annotate(text='*', xy=(0.45, 1.23), xycoords='axes fraction', xytext=(0, 0.3), textcoords='offset points', ha = 'center', arrowprops=dict(arrowstyle='-[, widthB=2.8, lengthB=.12', lw=1, color='k'), fontsize = 8)\n",
    "ax1.annotate(text='*', xy=(0.76, 1), xycoords='axes fraction', xytext=(0, 0.3), textcoords='offset points', ha = 'center', arrowprops=dict(arrowstyle='-[, widthB=0.6, lengthB=.12', lw=1, color='k'), fontsize = 8)\n",
    "ax1.annotate(text='*', xy=(0.83, 1.09), xycoords='axes fraction', xytext=(0, 0.3), textcoords='offset points', ha = 'center', arrowprops=dict(arrowstyle='-[, widthB=1.8, lengthB=.12', lw=1, color='k'), fontsize = 8)\n",
    "\n"
   ]
  },
  {
   "cell_type": "code",
   "execution_count": 57,
   "metadata": {},
   "outputs": [],
   "source": [
    "all_pass_fig.savefig('/Users/labc02/Documents/PDCB_data/MK-project/Figures/all_pass_paper.svg')"
   ]
  },
  {
   "cell_type": "code",
   "execution_count": 265,
   "metadata": {},
   "outputs": [
    {
     "data": {
      "text/html": [
       "<div>\n",
       "<style scoped>\n",
       "    .dataframe tbody tr th:only-of-type {\n",
       "        vertical-align: middle;\n",
       "    }\n",
       "\n",
       "    .dataframe tbody tr th {\n",
       "        vertical-align: top;\n",
       "    }\n",
       "\n",
       "    .dataframe thead th {\n",
       "        text-align: right;\n",
       "    }\n",
       "</style>\n",
       "<table border=\"1\" class=\"dataframe\">\n",
       "  <thead>\n",
       "    <tr style=\"text-align: right;\">\n",
       "      <th></th>\n",
       "      <th>Source</th>\n",
       "      <th>SS</th>\n",
       "      <th>DF1</th>\n",
       "      <th>DF2</th>\n",
       "      <th>MS</th>\n",
       "      <th>F</th>\n",
       "      <th>p-unc</th>\n",
       "      <th>np2</th>\n",
       "      <th>eps</th>\n",
       "    </tr>\n",
       "  </thead>\n",
       "  <tbody>\n",
       "    <tr>\n",
       "      <th>0</th>\n",
       "      <td>Grp</td>\n",
       "      <td>16152.203381</td>\n",
       "      <td>3</td>\n",
       "      <td>35</td>\n",
       "      <td>5384.067794</td>\n",
       "      <td>0.531022</td>\n",
       "      <td>6.639818e-01</td>\n",
       "      <td>0.043535</td>\n",
       "      <td>NaN</td>\n",
       "    </tr>\n",
       "    <tr>\n",
       "      <th>1</th>\n",
       "      <td>Phase</td>\n",
       "      <td>762730.659601</td>\n",
       "      <td>1</td>\n",
       "      <td>35</td>\n",
       "      <td>762730.659601</td>\n",
       "      <td>125.119113</td>\n",
       "      <td>4.174191e-13</td>\n",
       "      <td>0.781413</td>\n",
       "      <td>1.0</td>\n",
       "    </tr>\n",
       "    <tr>\n",
       "      <th>2</th>\n",
       "      <td>Interaction</td>\n",
       "      <td>28891.243598</td>\n",
       "      <td>3</td>\n",
       "      <td>35</td>\n",
       "      <td>9630.414533</td>\n",
       "      <td>1.579783</td>\n",
       "      <td>2.116789e-01</td>\n",
       "      <td>0.119261</td>\n",
       "      <td>NaN</td>\n",
       "    </tr>\n",
       "  </tbody>\n",
       "</table>\n",
       "</div>"
      ],
      "text/plain": [
       "        Source             SS  DF1  DF2             MS           F  \\\n",
       "0          Grp   16152.203381    3   35    5384.067794    0.531022   \n",
       "1        Phase  762730.659601    1   35  762730.659601  125.119113   \n",
       "2  Interaction   28891.243598    3   35    9630.414533    1.579783   \n",
       "\n",
       "          p-unc       np2  eps  \n",
       "0  6.639818e-01  0.043535  NaN  \n",
       "1  4.174191e-13  0.781413  1.0  \n",
       "2  2.116789e-01  0.119261  NaN  "
      ]
     },
     "execution_count": 265,
     "metadata": {},
     "output_type": "execute_result"
    }
   ],
   "source": [
    "pg.mixed_anova(data = pass_df[(pass_df['Group']!='MK_1') &(pass_df['Phase']!='T2')], dv = 'Lat', between = 'Grp', within = 'Phase', subject = 'Sub')\n"
   ]
  },
  {
   "cell_type": "code",
   "execution_count": 271,
   "metadata": {},
   "outputs": [
    {
     "name": "stderr",
     "output_type": "stream",
     "text": [
      "/opt/miniconda3/envs/databs/lib/python3.8/site-packages/scipy/stats/morestats.py:2879: UserWarning: Sample size too small for normal approximation.\n",
      "  warnings.warn(\"Sample size too small for normal approximation.\")\n"
     ]
    }
   ],
   "source": [
    "adq_all_dic = {'Group':[], 'Phase_1':[], 'Phase_2':[], 'W':[], 'p_unc':[], 'p_cor':[], 'CLES':[]}\n",
    "for group in pass_df[pass_df['Group']!='MK_1']['Grp'].unique():\n",
    "    adq_all_dic['Group'].append(group)\n",
    "    adq_all_dic['Phase_1'].append('Hab')\n",
    "    adq_all_dic['Phase_2'].append('2hrs')\n",
    "    wlcx = pg.wilcoxon(pass_df[(pass_df['Group']!='MK_1')&(pass_df['Grp']==group)&(pass_df['Phase']=='Shock')]['Lat'].values, pass_df[(pass_df['Group']!='MK_1')&(pass_df['Grp']==group)&(pass_df['Phase']=='T1')]['Lat'].values)\n",
    "    adq_all_dic['W'].append(wlcx['W-val'].values.item())\n",
    "    adq_all_dic['p_unc'].append(wlcx['p-val'].values.item())\n",
    "    adq_all_dic['CLES'].append(wlcx['CLES'].values.item())"
   ]
  },
  {
   "cell_type": "code",
   "execution_count": 272,
   "metadata": {},
   "outputs": [
    {
     "data": {
      "text/plain": [
       "{'Group': ['KO_MK_0.5', 'KO_Sal', 'WT_MK_0.5', 'WT_Sal'],\n",
       " 'Phase_1': ['Hab', 'Hab', 'Hab', 'Hab'],\n",
       " 'Phase_2': ['2hrs', '2hrs', '2hrs', '2hrs'],\n",
       " 'W': [0.0, 3.0, 0.0, 0.0],\n",
       " 'p_unc': [0.0038572928299425335,\n",
       "  0.014432823938841786,\n",
       "  0.014266186701446923,\n",
       "  0.005921537024148708],\n",
       " 'p_cor': [],\n",
       " 'CLES': [0.1322314049586777, 0.16, 0.046875, 0.03]}"
      ]
     },
     "execution_count": 272,
     "metadata": {},
     "output_type": "execute_result"
    }
   ],
   "source": [
    "adq_all_dic"
   ]
  },
  {
   "cell_type": "code",
   "execution_count": 273,
   "metadata": {},
   "outputs": [],
   "source": [
    "[bol, p_cor] = pg.multicomp(adq_all_dic['p_unc'])"
   ]
  },
  {
   "cell_type": "code",
   "execution_count": 274,
   "metadata": {},
   "outputs": [],
   "source": [
    "adq_all_dic['p_cor'] = p_cor"
   ]
  },
  {
   "cell_type": "code",
   "execution_count": 275,
   "metadata": {},
   "outputs": [
    {
     "data": {
      "text/html": [
       "<div>\n",
       "<style scoped>\n",
       "    .dataframe tbody tr th:only-of-type {\n",
       "        vertical-align: middle;\n",
       "    }\n",
       "\n",
       "    .dataframe tbody tr th {\n",
       "        vertical-align: top;\n",
       "    }\n",
       "\n",
       "    .dataframe thead th {\n",
       "        text-align: right;\n",
       "    }\n",
       "</style>\n",
       "<table border=\"1\" class=\"dataframe\">\n",
       "  <thead>\n",
       "    <tr style=\"text-align: right;\">\n",
       "      <th></th>\n",
       "      <th>Group</th>\n",
       "      <th>Phase_1</th>\n",
       "      <th>Phase_2</th>\n",
       "      <th>W</th>\n",
       "      <th>p_unc</th>\n",
       "      <th>p_cor</th>\n",
       "      <th>CLES</th>\n",
       "    </tr>\n",
       "  </thead>\n",
       "  <tbody>\n",
       "    <tr>\n",
       "      <th>0</th>\n",
       "      <td>KO_MK_0.5</td>\n",
       "      <td>Hab</td>\n",
       "      <td>2hrs</td>\n",
       "      <td>0.0</td>\n",
       "      <td>0.003857</td>\n",
       "      <td>0.015429</td>\n",
       "      <td>0.132231</td>\n",
       "    </tr>\n",
       "    <tr>\n",
       "      <th>1</th>\n",
       "      <td>KO_Sal</td>\n",
       "      <td>Hab</td>\n",
       "      <td>2hrs</td>\n",
       "      <td>3.0</td>\n",
       "      <td>0.014433</td>\n",
       "      <td>0.028532</td>\n",
       "      <td>0.160000</td>\n",
       "    </tr>\n",
       "    <tr>\n",
       "      <th>2</th>\n",
       "      <td>WT_MK_0.5</td>\n",
       "      <td>Hab</td>\n",
       "      <td>2hrs</td>\n",
       "      <td>0.0</td>\n",
       "      <td>0.014266</td>\n",
       "      <td>0.028532</td>\n",
       "      <td>0.046875</td>\n",
       "    </tr>\n",
       "    <tr>\n",
       "      <th>3</th>\n",
       "      <td>WT_Sal</td>\n",
       "      <td>Hab</td>\n",
       "      <td>2hrs</td>\n",
       "      <td>0.0</td>\n",
       "      <td>0.005922</td>\n",
       "      <td>0.017765</td>\n",
       "      <td>0.030000</td>\n",
       "    </tr>\n",
       "  </tbody>\n",
       "</table>\n",
       "</div>"
      ],
      "text/plain": [
       "       Group Phase_1 Phase_2    W     p_unc     p_cor      CLES\n",
       "0  KO_MK_0.5     Hab    2hrs  0.0  0.003857  0.015429  0.132231\n",
       "1     KO_Sal     Hab    2hrs  3.0  0.014433  0.028532  0.160000\n",
       "2  WT_MK_0.5     Hab    2hrs  0.0  0.014266  0.028532  0.046875\n",
       "3     WT_Sal     Hab    2hrs  0.0  0.005922  0.017765  0.030000"
      ]
     },
     "execution_count": 275,
     "metadata": {},
     "output_type": "execute_result"
    }
   ],
   "source": [
    "pd.DataFrame(adq_all_dic)"
   ]
  },
  {
   "cell_type": "code",
   "execution_count": 278,
   "metadata": {},
   "outputs": [
    {
     "data": {
      "text/html": [
       "<div>\n",
       "<style scoped>\n",
       "    .dataframe tbody tr th:only-of-type {\n",
       "        vertical-align: middle;\n",
       "    }\n",
       "\n",
       "    .dataframe tbody tr th {\n",
       "        vertical-align: top;\n",
       "    }\n",
       "\n",
       "    .dataframe thead th {\n",
       "        text-align: right;\n",
       "    }\n",
       "</style>\n",
       "<table border=\"1\" class=\"dataframe\">\n",
       "  <thead>\n",
       "    <tr style=\"text-align: right;\">\n",
       "      <th></th>\n",
       "      <th>Source</th>\n",
       "      <th>ddof1</th>\n",
       "      <th>H</th>\n",
       "      <th>p-unc</th>\n",
       "    </tr>\n",
       "  </thead>\n",
       "  <tbody>\n",
       "    <tr>\n",
       "      <th>Kruskal</th>\n",
       "      <td>Grp</td>\n",
       "      <td>3</td>\n",
       "      <td>10.151455</td>\n",
       "      <td>0.017322</td>\n",
       "    </tr>\n",
       "  </tbody>\n",
       "</table>\n",
       "</div>"
      ],
      "text/plain": [
       "        Source  ddof1          H     p-unc\n",
       "Kruskal    Grp      3  10.151455  0.017322"
      ]
     },
     "execution_count": 278,
     "metadata": {},
     "output_type": "execute_result"
    }
   ],
   "source": [
    "pg.kruskal(data = pass_df[(pass_df['Group']!='MK_1') & (pass_df['Phase']=='T2')], dv = 'Lat', between = 'Grp')"
   ]
  },
  {
   "cell_type": "code",
   "execution_count": 277,
   "metadata": {},
   "outputs": [
    {
     "data": {
      "text/html": [
       "<div>\n",
       "<style scoped>\n",
       "    .dataframe tbody tr th:only-of-type {\n",
       "        vertical-align: middle;\n",
       "    }\n",
       "\n",
       "    .dataframe tbody tr th {\n",
       "        vertical-align: top;\n",
       "    }\n",
       "\n",
       "    .dataframe thead th {\n",
       "        text-align: right;\n",
       "    }\n",
       "</style>\n",
       "<table border=\"1\" class=\"dataframe\">\n",
       "  <thead>\n",
       "    <tr style=\"text-align: right;\">\n",
       "      <th></th>\n",
       "      <th>Contrast</th>\n",
       "      <th>A</th>\n",
       "      <th>B</th>\n",
       "      <th>Paired</th>\n",
       "      <th>Parametric</th>\n",
       "      <th>T</th>\n",
       "      <th>dof</th>\n",
       "      <th>Tail</th>\n",
       "      <th>p-unc</th>\n",
       "      <th>p-corr</th>\n",
       "      <th>p-adjust</th>\n",
       "      <th>BF10</th>\n",
       "      <th>hedges</th>\n",
       "    </tr>\n",
       "  </thead>\n",
       "  <tbody>\n",
       "    <tr>\n",
       "      <th>0</th>\n",
       "      <td>Grp</td>\n",
       "      <td>KO_MK_0.5</td>\n",
       "      <td>KO_Sal</td>\n",
       "      <td>False</td>\n",
       "      <td>True</td>\n",
       "      <td>-0.146222</td>\n",
       "      <td>18.498775</td>\n",
       "      <td>two-sided</td>\n",
       "      <td>0.885328</td>\n",
       "      <td>1.000000</td>\n",
       "      <td>holm</td>\n",
       "      <td>0.394</td>\n",
       "      <td>-0.061532</td>\n",
       "    </tr>\n",
       "    <tr>\n",
       "      <th>1</th>\n",
       "      <td>Grp</td>\n",
       "      <td>KO_MK_0.5</td>\n",
       "      <td>WT_MK_0.5</td>\n",
       "      <td>False</td>\n",
       "      <td>True</td>\n",
       "      <td>-0.617080</td>\n",
       "      <td>16.317322</td>\n",
       "      <td>two-sided</td>\n",
       "      <td>0.545697</td>\n",
       "      <td>1.000000</td>\n",
       "      <td>holm</td>\n",
       "      <td>0.465</td>\n",
       "      <td>-0.267852</td>\n",
       "    </tr>\n",
       "    <tr>\n",
       "      <th>2</th>\n",
       "      <td>Grp</td>\n",
       "      <td>KO_MK_0.5</td>\n",
       "      <td>WT_Sal</td>\n",
       "      <td>False</td>\n",
       "      <td>True</td>\n",
       "      <td>-3.584234</td>\n",
       "      <td>10.000000</td>\n",
       "      <td>two-sided</td>\n",
       "      <td>0.004977</td>\n",
       "      <td>0.029859</td>\n",
       "      <td>holm</td>\n",
       "      <td>17.603</td>\n",
       "      <td>-1.430039</td>\n",
       "    </tr>\n",
       "    <tr>\n",
       "      <th>3</th>\n",
       "      <td>Grp</td>\n",
       "      <td>KO_Sal</td>\n",
       "      <td>WT_MK_0.5</td>\n",
       "      <td>False</td>\n",
       "      <td>True</td>\n",
       "      <td>-0.437797</td>\n",
       "      <td>15.976719</td>\n",
       "      <td>two-sided</td>\n",
       "      <td>0.667395</td>\n",
       "      <td>1.000000</td>\n",
       "      <td>holm</td>\n",
       "      <td>0.442</td>\n",
       "      <td>-0.193250</td>\n",
       "    </tr>\n",
       "    <tr>\n",
       "      <th>4</th>\n",
       "      <td>Grp</td>\n",
       "      <td>KO_Sal</td>\n",
       "      <td>WT_Sal</td>\n",
       "      <td>False</td>\n",
       "      <td>True</td>\n",
       "      <td>-3.007655</td>\n",
       "      <td>18.000000</td>\n",
       "      <td>two-sided</td>\n",
       "      <td>0.007559</td>\n",
       "      <td>0.037793</td>\n",
       "      <td>holm</td>\n",
       "      <td>6.365</td>\n",
       "      <td>-1.288231</td>\n",
       "    </tr>\n",
       "    <tr>\n",
       "      <th>5</th>\n",
       "      <td>Grp</td>\n",
       "      <td>WT_MK_0.5</td>\n",
       "      <td>WT_Sal</td>\n",
       "      <td>False</td>\n",
       "      <td>True</td>\n",
       "      <td>-2.634171</td>\n",
       "      <td>7.000000</td>\n",
       "      <td>two-sided</td>\n",
       "      <td>0.033708</td>\n",
       "      <td>0.134831</td>\n",
       "      <td>holm</td>\n",
       "      <td>3.423</td>\n",
       "      <td>-1.340975</td>\n",
       "    </tr>\n",
       "  </tbody>\n",
       "</table>\n",
       "</div>"
      ],
      "text/plain": [
       "  Contrast          A          B  Paired  Parametric         T        dof  \\\n",
       "0      Grp  KO_MK_0.5     KO_Sal   False        True -0.146222  18.498775   \n",
       "1      Grp  KO_MK_0.5  WT_MK_0.5   False        True -0.617080  16.317322   \n",
       "2      Grp  KO_MK_0.5     WT_Sal   False        True -3.584234  10.000000   \n",
       "3      Grp     KO_Sal  WT_MK_0.5   False        True -0.437797  15.976719   \n",
       "4      Grp     KO_Sal     WT_Sal   False        True -3.007655  18.000000   \n",
       "5      Grp  WT_MK_0.5     WT_Sal   False        True -2.634171   7.000000   \n",
       "\n",
       "        Tail     p-unc    p-corr p-adjust    BF10    hedges  \n",
       "0  two-sided  0.885328  1.000000     holm   0.394 -0.061532  \n",
       "1  two-sided  0.545697  1.000000     holm   0.465 -0.267852  \n",
       "2  two-sided  0.004977  0.029859     holm  17.603 -1.430039  \n",
       "3  two-sided  0.667395  1.000000     holm   0.442 -0.193250  \n",
       "4  two-sided  0.007559  0.037793     holm   6.365 -1.288231  \n",
       "5  two-sided  0.033708  0.134831     holm   3.423 -1.340975  "
      ]
     },
     "execution_count": 277,
     "metadata": {},
     "output_type": "execute_result"
    }
   ],
   "source": [
    "pg.pairwise_ttests(data = pass_df[(pass_df['Group']!='MK_1') & (pass_df['Phase']=='T2')], dv = 'Lat', between = 'Grp', subject = 'Sub', padjust = 'holm')\n"
   ]
  },
  {
   "cell_type": "code",
   "execution_count": null,
   "metadata": {},
   "outputs": [],
   "source": []
  }
 ],
 "metadata": {
  "kernelspec": {
   "display_name": "Python 3 (ipykernel)",
   "language": "python",
   "name": "python3"
  },
  "language_info": {
   "codemirror_mode": {
    "name": "ipython",
    "version": 3
   },
   "file_extension": ".py",
   "mimetype": "text/x-python",
   "name": "python",
   "nbconvert_exporter": "python",
   "pygments_lexer": "ipython3",
   "version": "3.12.4"
  }
 },
 "nbformat": 4,
 "nbformat_minor": 4
}
