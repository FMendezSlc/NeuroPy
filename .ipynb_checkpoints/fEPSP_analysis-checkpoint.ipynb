{
 "cells": [
  {
   "cell_type": "code",
   "execution_count": 1,
   "metadata": {},
   "outputs": [],
   "source": [
    "import matplotlib.pyplot as plt\n",
    "import pandas as pd\n",
    "import seaborn as sns"
   ]
  },
  {
   "cell_type": "code",
   "execution_count": 2,
   "metadata": {},
   "outputs": [],
   "source": [
    "IO_raw = pd.read_csv('/Users/labc02/Documents/PDCB_data/fEPSP_data/IO_curve.csv')"
   ]
  },
  {
   "cell_type": "code",
   "execution_count": 7,
   "metadata": {},
   "outputs": [
    {
     "data": {
      "text/html": [
       "<div>\n",
       "<style scoped>\n",
       "    .dataframe tbody tr th:only-of-type {\n",
       "        vertical-align: middle;\n",
       "    }\n",
       "\n",
       "    .dataframe tbody tr th {\n",
       "        vertical-align: top;\n",
       "    }\n",
       "\n",
       "    .dataframe thead th {\n",
       "        text-align: right;\n",
       "    }\n",
       "</style>\n",
       "<table border=\"1\" class=\"dataframe\">\n",
       "  <thead>\n",
       "    <tr style=\"text-align: right;\">\n",
       "      <th></th>\n",
       "      <th>Date</th>\n",
       "      <th>Genotype</th>\n",
       "      <th>Synapse</th>\n",
       "      <th>Step_uI</th>\n",
       "      <th>Slope_1</th>\n",
       "      <th>Slope_2</th>\n",
       "      <th>Amp_1</th>\n",
       "      <th>Amp_2</th>\n",
       "      <th>PPF_Amp</th>\n",
       "      <th>PPF_Slope</th>\n",
       "    </tr>\n",
       "  </thead>\n",
       "  <tbody>\n",
       "    <tr>\n",
       "      <th>0</th>\n",
       "      <td>271020</td>\n",
       "      <td>KO</td>\n",
       "      <td>AC</td>\n",
       "      <td>0.0</td>\n",
       "      <td>0.00</td>\n",
       "      <td>0.00</td>\n",
       "      <td>-0.01</td>\n",
       "      <td>-0.01</td>\n",
       "      <td>0.96</td>\n",
       "      <td>0.76</td>\n",
       "    </tr>\n",
       "    <tr>\n",
       "      <th>1</th>\n",
       "      <td>271020</td>\n",
       "      <td>KO</td>\n",
       "      <td>AC</td>\n",
       "      <td>5.0</td>\n",
       "      <td>-0.01</td>\n",
       "      <td>-0.01</td>\n",
       "      <td>-0.03</td>\n",
       "      <td>-0.05</td>\n",
       "      <td>1.35</td>\n",
       "      <td>1.64</td>\n",
       "    </tr>\n",
       "    <tr>\n",
       "      <th>2</th>\n",
       "      <td>271020</td>\n",
       "      <td>KO</td>\n",
       "      <td>AC</td>\n",
       "      <td>10.0</td>\n",
       "      <td>-0.04</td>\n",
       "      <td>-0.08</td>\n",
       "      <td>-0.08</td>\n",
       "      <td>-0.13</td>\n",
       "      <td>1.61</td>\n",
       "      <td>2.17</td>\n",
       "    </tr>\n",
       "    <tr>\n",
       "      <th>3</th>\n",
       "      <td>271020</td>\n",
       "      <td>KO</td>\n",
       "      <td>AC</td>\n",
       "      <td>15.0</td>\n",
       "      <td>-0.12</td>\n",
       "      <td>-0.19</td>\n",
       "      <td>-0.15</td>\n",
       "      <td>-0.23</td>\n",
       "      <td>1.51</td>\n",
       "      <td>1.56</td>\n",
       "    </tr>\n",
       "    <tr>\n",
       "      <th>4</th>\n",
       "      <td>271020</td>\n",
       "      <td>KO</td>\n",
       "      <td>AC</td>\n",
       "      <td>20.0</td>\n",
       "      <td>-0.20</td>\n",
       "      <td>-0.26</td>\n",
       "      <td>-0.21</td>\n",
       "      <td>-0.30</td>\n",
       "      <td>1.42</td>\n",
       "      <td>1.32</td>\n",
       "    </tr>\n",
       "    <tr>\n",
       "      <th>...</th>\n",
       "      <td>...</td>\n",
       "      <td>...</td>\n",
       "      <td>...</td>\n",
       "      <td>...</td>\n",
       "      <td>...</td>\n",
       "      <td>...</td>\n",
       "      <td>...</td>\n",
       "      <td>...</td>\n",
       "      <td>...</td>\n",
       "      <td>...</td>\n",
       "    </tr>\n",
       "    <tr>\n",
       "      <th>236</th>\n",
       "      <td>NaN</td>\n",
       "      <td>NaN</td>\n",
       "      <td>NaN</td>\n",
       "      <td>NaN</td>\n",
       "      <td>NaN</td>\n",
       "      <td>NaN</td>\n",
       "      <td>NaN</td>\n",
       "      <td>NaN</td>\n",
       "      <td>NaN</td>\n",
       "      <td>#DIV/0!</td>\n",
       "    </tr>\n",
       "    <tr>\n",
       "      <th>237</th>\n",
       "      <td>NaN</td>\n",
       "      <td>NaN</td>\n",
       "      <td>NaN</td>\n",
       "      <td>NaN</td>\n",
       "      <td>NaN</td>\n",
       "      <td>NaN</td>\n",
       "      <td>NaN</td>\n",
       "      <td>NaN</td>\n",
       "      <td>NaN</td>\n",
       "      <td>#DIV/0!</td>\n",
       "    </tr>\n",
       "    <tr>\n",
       "      <th>238</th>\n",
       "      <td>NaN</td>\n",
       "      <td>NaN</td>\n",
       "      <td>NaN</td>\n",
       "      <td>NaN</td>\n",
       "      <td>NaN</td>\n",
       "      <td>NaN</td>\n",
       "      <td>NaN</td>\n",
       "      <td>NaN</td>\n",
       "      <td>NaN</td>\n",
       "      <td>#DIV/0!</td>\n",
       "    </tr>\n",
       "    <tr>\n",
       "      <th>239</th>\n",
       "      <td>NaN</td>\n",
       "      <td>NaN</td>\n",
       "      <td>NaN</td>\n",
       "      <td>NaN</td>\n",
       "      <td>NaN</td>\n",
       "      <td>NaN</td>\n",
       "      <td>NaN</td>\n",
       "      <td>NaN</td>\n",
       "      <td>NaN</td>\n",
       "      <td>#DIV/0!</td>\n",
       "    </tr>\n",
       "    <tr>\n",
       "      <th>240</th>\n",
       "      <td>NaN</td>\n",
       "      <td>NaN</td>\n",
       "      <td>NaN</td>\n",
       "      <td>NaN</td>\n",
       "      <td>NaN</td>\n",
       "      <td>NaN</td>\n",
       "      <td>NaN</td>\n",
       "      <td>NaN</td>\n",
       "      <td>NaN</td>\n",
       "      <td>#DIV/0!</td>\n",
       "    </tr>\n",
       "  </tbody>\n",
       "</table>\n",
       "<p>241 rows × 10 columns</p>\n",
       "</div>"
      ],
      "text/plain": [
       "       Date Genotype Synapse  Step_uI  Slope_1  Slope_2  Amp_1  Amp_2  \\\n",
       "0    271020       KO      AC      0.0     0.00     0.00  -0.01  -0.01   \n",
       "1    271020       KO      AC      5.0    -0.01    -0.01  -0.03  -0.05   \n",
       "2    271020       KO      AC     10.0    -0.04    -0.08  -0.08  -0.13   \n",
       "3    271020       KO      AC     15.0    -0.12    -0.19  -0.15  -0.23   \n",
       "4    271020       KO      AC     20.0    -0.20    -0.26  -0.21  -0.30   \n",
       "..      ...      ...     ...      ...      ...      ...    ...    ...   \n",
       "236     NaN      NaN     NaN      NaN      NaN      NaN    NaN    NaN   \n",
       "237     NaN      NaN     NaN      NaN      NaN      NaN    NaN    NaN   \n",
       "238     NaN      NaN     NaN      NaN      NaN      NaN    NaN    NaN   \n",
       "239     NaN      NaN     NaN      NaN      NaN      NaN    NaN    NaN   \n",
       "240     NaN      NaN     NaN      NaN      NaN      NaN    NaN    NaN   \n",
       "\n",
       "     PPF_Amp PPF_Slope  \n",
       "0       0.96      0.76  \n",
       "1       1.35      1.64  \n",
       "2       1.61      2.17  \n",
       "3       1.51      1.56  \n",
       "4       1.42      1.32  \n",
       "..       ...       ...  \n",
       "236      NaN   #DIV/0!  \n",
       "237      NaN   #DIV/0!  \n",
       "238      NaN   #DIV/0!  \n",
       "239      NaN   #DIV/0!  \n",
       "240      NaN   #DIV/0!  \n",
       "\n",
       "[241 rows x 10 columns]"
      ]
     },
     "execution_count": 7,
     "metadata": {},
     "output_type": "execute_result"
    }
   ],
   "source": [
    "IO_raw"
   ]
  },
  {
   "cell_type": "code",
   "execution_count": 18,
   "metadata": {},
   "outputs": [
    {
     "data": {
      "text/plain": [
       "Genotype  Synapse  Date    \n",
       "KO        AC       21120       13\n",
       "                   271020      13\n",
       "                   281020      12\n",
       "                   281020_2    13\n",
       "                   281021       1\n",
       "          MF       11220       18\n",
       "                   211120      18\n",
       "                   281020      18\n",
       "WT        AC       251120      13\n",
       "                   271120      13\n",
       "                   301120      13\n",
       "          MF       21220       20\n",
       "                   251120      15\n",
       "                   261120      21\n",
       "                   271120      18\n",
       "Name: Date, dtype: int64"
      ]
     },
     "execution_count": 18,
     "metadata": {},
     "output_type": "execute_result"
    }
   ],
   "source": [
    "IO_raw.groupby(['Genotype', 'Synapse', 'Date'])['Date'].count()"
   ]
  },
  {
   "cell_type": "code",
   "execution_count": 19,
   "metadata": {},
   "outputs": [],
   "source": [
    "IO_AC = IO_raw[IO_raw['Synapse'] == 'AC']"
   ]
  },
  {
   "cell_type": "code",
   "execution_count": 20,
   "metadata": {},
   "outputs": [
    {
     "name": "stderr",
     "output_type": "stream",
     "text": [
      "/opt/miniconda3/envs/databs/lib/python3.8/site-packages/pandas/core/indexing.py:966: SettingWithCopyWarning: \n",
      "A value is trying to be set on a copy of a slice from a DataFrame.\n",
      "Try using .loc[row_indexer,col_indexer] = value instead\n",
      "\n",
      "See the caveats in the documentation: https://pandas.pydata.org/pandas-docs/stable/user_guide/indexing.html#returning-a-view-versus-a-copy\n",
      "  self.obj[item] = s\n"
     ]
    }
   ],
   "source": [
    "IO_AC.loc[:,'Amp_1'] = IO_AC['Amp_1'].abs()"
   ]
  },
  {
   "cell_type": "code",
   "execution_count": 26,
   "metadata": {},
   "outputs": [
    {
     "name": "stderr",
     "output_type": "stream",
     "text": [
      "/opt/miniconda3/envs/databs/lib/python3.8/site-packages/pandas/core/indexing.py:966: SettingWithCopyWarning: \n",
      "A value is trying to be set on a copy of a slice from a DataFrame.\n",
      "Try using .loc[row_indexer,col_indexer] = value instead\n",
      "\n",
      "See the caveats in the documentation: https://pandas.pydata.org/pandas-docs/stable/user_guide/indexing.html#returning-a-view-versus-a-copy\n",
      "  self.obj[item] = s\n"
     ]
    }
   ],
   "source": [
    "IO_AC.loc[:,'Slope_1'] = IO_AC['Slope_1'].abs()"
   ]
  },
  {
   "cell_type": "code",
   "execution_count": 35,
   "metadata": {},
   "outputs": [
    {
     "data": {
      "image/png": "[encoded data removed]",
      "text/plain": [
       "<Figure size 576x288 with 2 Axes>"
      ]
     },
     "metadata": {
      "needs_background": "light"
     },
     "output_type": "display_data"
    }
   ],
   "source": [
    "AC_fig, axs = plt.subplots(1, 2, figsize = (8,4))\n",
    "sns.lineplot(x = 'Step_uI', y = 'Amp_1', data = IO_AC, hue = 'Genotype', hue_order = ['WT', 'KO'], palette = ['royalblue', 'forestgreen'], markers = {'marker': 'o', 'marker_size':10}, err_style = 'bars', ci = 68, err_kws = {'capsize': 5, 'capthick': 2}, ax = axs[0])\n",
    "axs[0].set_ylabel('Amplitude mV')\n",
    "axs[0].set_xlabel(r'Current $\\mu$I')\n",
    "\n",
    "sns.lineplot(x = 'Step_uI', y = 'Slope_1', data = IO_AC, hue = 'Genotype', hue_order = ['WT', 'KO'], palette = ['royalblue', 'forestgreen'], markers = {'marker': 'o', 'marker_size':10}, err_style = 'bars', ci = 68, err_kws = {'capsize': 5, 'capthick': 2}, ax = axs[1])\n",
    "axs[1].set_ylabel('Slope mV/mS')\n",
    "axs[1].set_xlabel(r'Current $\\mu$I')\n",
    "axs[1].get_legend().remove()\n",
    "plt.tight_layout()"
   ]
  },
  {
   "cell_type": "code",
   "execution_count": 36,
   "metadata": {},
   "outputs": [
    {
     "name": "stderr",
     "output_type": "stream",
     "text": [
      "/opt/miniconda3/envs/databs/lib/python3.8/site-packages/pandas/core/indexing.py:966: SettingWithCopyWarning: \n",
      "A value is trying to be set on a copy of a slice from a DataFrame.\n",
      "Try using .loc[row_indexer,col_indexer] = value instead\n",
      "\n",
      "See the caveats in the documentation: https://pandas.pydata.org/pandas-docs/stable/user_guide/indexing.html#returning-a-view-versus-a-copy\n",
      "  self.obj[item] = s\n"
     ]
    }
   ],
   "source": [
    "IO_MF = IO_raw[IO_raw['Synapse'] == 'MF']\n",
    "IO_MF.loc[:,'Amp_1'] = IO_MF['Amp_1'].abs()\n",
    "IO_MF.loc[:,'Slope_1'] = IO_MF['Slope_1'].abs()"
   ]
  },
  {
   "cell_type": "code",
   "execution_count": 40,
   "metadata": {},
   "outputs": [
    {
     "data": {
      "image/png": "[encoded data removed]",
      "text/plain": [
       "<Figure size 576x288 with 2 Axes>"
      ]
     },
     "metadata": {
      "needs_background": "light"
     },
     "output_type": "display_data"
    }
   ],
   "source": [
    "MF_fig, axs = plt.subplots(1, 2, figsize=(8,4))\n",
    "sns.lineplot(x = 'Step_uI', y = 'Amp_1', data = IO_MF, hue = 'Genotype', hue_order = ['WT', 'KO'], palette = ['royalblue', 'forestgreen'], markers = {'marker': 'o', 'marker_size':10}, err_style = 'bars', ci = 68, err_kws = {'capsize': 5, 'capthick': 2}, ax = axs[0])\n",
    "axs[0].set_ylabel('Amplitude mV')\n",
    "axs[0].set_xlabel(r'Current $\\mu$I')\n",
    "\n",
    "sns.lineplot(x = 'Step_uI', y = 'Slope_1', data = IO_MF, hue = 'Genotype', hue_order = ['WT', 'KO'], palette = ['royalblue', 'forestgreen'], markers = {'marker': 'o', 'marker_size':10}, err_style = 'bars', ci = 68, err_kws = {'capsize': 5, 'capthick': 2}, ax = axs[1])\n",
    "axs[1].set_ylabel('Slope mV/mS')\n",
    "axs[1].set_xlabel(r'Current $\\mu$I')\n",
    "axs[1].get_legend().remove()\n",
    "plt.tight_layout()"
   ]
  },
  {
   "cell_type": "code",
   "execution_count": 41,
   "metadata": {},
   "outputs": [],
   "source": [
    "PPF_df = pd.read_csv('/Users/labc02/Documents/PDCB_data/fEPSP_data/PPF.csv')"
   ]
  },
  {
   "cell_type": "code",
   "execution_count": 43,
   "metadata": {},
   "outputs": [
    {
     "data": {
      "image/png": "[encoded data removed]",
      "text/plain": [
       "<Figure size 360x504 with 4 Axes>"
      ]
     },
     "metadata": {
      "needs_background": "light"
     },
     "output_type": "display_data"
    }
   ],
   "source": [
    "plt.figure(figsize=(5,7))\n",
    "ac_ax =  plt.subplot(2,2,1)\n",
    "sns.boxplot(data = PPF_df[PPF_df['Synapse'] == 'AC'], x = 'Genotype', y = 'PPF_Amp', ax = ac_ax, palette=['forestgreen', 'royalblue'], width = .4)\n",
    "ac_ax.set_title('A/C')\n",
    "ac_ax2 = plt.subplot(2,2,3)\n",
    "sns.boxplot(data = PPF_df[PPF_df['Synapse'] == 'AC'], x = 'Genotype', y = 'PPF_Slope', ax = ac_ax2, palette=['forestgreen', 'royalblue'], width = .4)\n",
    "mf_ax = plt.subplot(2,2,2)\n",
    "sns.boxplot(data = PPF_df[PPF_df['Synapse'] == 'MF'], x = 'Genotype', y = 'PPF_Amp', ax = mf_ax, palette=['forestgreen', 'royalblue'], width = .4)\n",
    "mf_ax.set_title('MF')\n",
    "mf_ax2 = plt.subplot(2,2,4)\n",
    "sns.boxplot(data = PPF_df[PPF_df['Synapse'] == 'MF'], x = 'Genotype', y = 'PPF_Slope', ax = mf_ax2, palette=['forestgreen', 'royalblue'], width = .4)\n",
    "plt.tight_layout()"
   ]
  },
  {
   "cell_type": "code",
   "execution_count": null,
   "metadata": {},
   "outputs": [],
   "source": []
  }
 ],
 "metadata": {
  "kernelspec": {
   "display_name": "Python 3",
   "language": "python",
   "name": "python3"
  },
  "language_info": {
   "codemirror_mode": {
    "name": "ipython",
    "version": 3
   },
   "file_extension": ".py",
   "mimetype": "text/x-python",
   "name": "python",
   "nbconvert_exporter": "python",
   "pygments_lexer": "ipython3",
   "version": "3.8.2"
  }
 },
 "nbformat": 4,
 "nbformat_minor": 4
}
