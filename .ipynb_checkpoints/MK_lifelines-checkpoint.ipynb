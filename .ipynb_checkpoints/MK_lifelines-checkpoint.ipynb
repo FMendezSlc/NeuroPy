{
 "cells": [
  {
   "cell_type": "code",
   "execution_count": 1,
   "metadata": {},
   "outputs": [
    {
     "name": "stderr",
     "output_type": "stream",
     "text": [
      "/opt/miniconda3/envs/databs/lib/python3.8/site-packages/outdated/utils.py:14: OutdatedPackageWarning: The package pingouin is out of date. Your version is 0.3.6, the latest is 0.3.10.\n",
      "Set the environment variable OUTDATED_IGNORE=1 to disable these warnings.\n",
      "  return warn(\n"
     ]
    }
   ],
   "source": [
    "import matplotlib.pyplot as plt\n",
    "import pandas as pd\n",
    "import seaborn as sns\n",
    "import lifelines as lf\n",
    "import pingouin as pg"
   ]
  },
  {
   "cell_type": "markdown",
   "metadata": {},
   "source": [
    "## Survival"
   ]
  },
  {
   "cell_type": "code",
   "execution_count": 4,
   "metadata": {},
   "outputs": [],
   "source": [
    "MK_surv = pd.read_csv('/Users/labc02/Documents/PDCB_data/MK-project/MK_lifelines.csv')"
   ]
  },
  {
   "cell_type": "code",
   "execution_count": 5,
   "metadata": {},
   "outputs": [
    {
     "data": {
      "text/plain": [
       "Genotype  Treatment  Dosage (mg/kg)\n",
       "HE        MK-801     1.0                7\n",
       "          Saline     1.0                6\n",
       "KO        MK-801     0.5               77\n",
       "                     1.0               24\n",
       "          Saline     1.0               73\n",
       "WT        MK-801     0.5               27\n",
       "                     1.0               30\n",
       "          Saline     1.0               36\n",
       "Name: ID, dtype: int64"
      ]
     },
     "execution_count": 5,
     "metadata": {},
     "output_type": "execute_result"
    }
   ],
   "source": [
    "MK_surv.groupby(['Genotype', 'Treatment', 'Dosage (mg/kg)'])['ID'].count()"
   ]
  },
  {
   "cell_type": "code",
   "execution_count": 6,
   "metadata": {},
   "outputs": [],
   "source": [
    "km_fit = lf.KaplanMeierFitter()"
   ]
  },
  {
   "cell_type": "code",
   "execution_count": 7,
   "metadata": {},
   "outputs": [
    {
     "data": {
      "text/plain": [
       "Text(0.5, 1.0, 'All Groups')"
      ]
     },
     "execution_count": 7,
     "metadata": {},
     "output_type": "execute_result"
    },
    {
     "data": {
      "image/png": "[encoded data removed]",
      "text/plain": [
       "<Figure size 504x360 with 1 Axes>"
      ]
     },
     "metadata": {
      "needs_background": "light"
     },
     "output_type": "display_data"
    }
   ],
   "source": [
    "plt.figure(figsize=(7,5))\n",
    "ax=plt.subplot()\n",
    "for name, grouped_df in MK_surv.groupby(['Genotype', 'Treatment', 'Dosage (mg/kg)']):\n",
    "    km_fit.fit(grouped_df[\"Duration\"], grouped_df[\"Event\"], label=name)\n",
    "    km_fit.plot(ax=ax, ci_show=False)\n",
    "plt.ylabel('Survival (%)')\n",
    "plt.xlabel('Days')\n",
    "ax.legend(fancybox=True, ncol=2, loc = 7, bbox_to_anchor = (1, .25))\n",
    "plt.axvline(5, ls='--', color = 'k', alpha = .5)\n",
    "plt.axvline(9, ls='--', color = 'k', alpha = .5)\n",
    "plt.title('All Groups')"
   ]
  },
  {
   "cell_type": "code",
   "execution_count": 8,
   "metadata": {},
   "outputs": [],
   "source": [
    "MK_surv['Group'] = MK_surv['Genotype']+'_'+MK_surv['Treatment']+'_'+MK_surv['Dosage (mg/kg)'].astype(str)"
   ]
  },
  {
   "cell_type": "code",
   "execution_count": 23,
   "metadata": {},
   "outputs": [],
   "source": [
    "plr_test = lf.statistics.pairwise_logrank_test(event_durations = MK_surv['Duration'], event_observed = MK_surv['Event'], groups = MK_surv['Group'])\n",
    "\n",
    "sig, p_adj = pg.multicomp(plr_test.summary['p'].values, method = 'bonf')\n",
    "\n",
    "logrank_df = plr_test.summary\n",
    "\n",
    "logrank_df['Bonferroni adj'] = p_adj.round(5)"
   ]
  },
  {
   "cell_type": "code",
   "execution_count": 24,
   "metadata": {},
   "outputs": [
    {
     "data": {
      "text/html": [
       "<div>\n",
       "<style scoped>\n",
       "    .dataframe tbody tr th:only-of-type {\n",
       "        vertical-align: middle;\n",
       "    }\n",
       "\n",
       "    .dataframe tbody tr th {\n",
       "        vertical-align: top;\n",
       "    }\n",
       "\n",
       "    .dataframe thead th {\n",
       "        text-align: right;\n",
       "    }\n",
       "</style>\n",
       "<table border=\"1\" class=\"dataframe\">\n",
       "  <thead>\n",
       "    <tr style=\"text-align: right;\">\n",
       "      <th></th>\n",
       "      <th></th>\n",
       "      <th>test_statistic</th>\n",
       "      <th>p</th>\n",
       "      <th>Bonferroni adj</th>\n",
       "    </tr>\n",
       "  </thead>\n",
       "  <tbody>\n",
       "    <tr>\n",
       "      <th rowspan=\"7\" valign=\"top\">HE_MK-801_1.0</th>\n",
       "      <th>HE_Saline_1.0</th>\n",
       "      <td>0.857143</td>\n",
       "      <td>3.545395e-01</td>\n",
       "      <td>1.00000</td>\n",
       "    </tr>\n",
       "    <tr>\n",
       "      <th>KO_MK-801_0.5</th>\n",
       "      <td>0.005904</td>\n",
       "      <td>9.387525e-01</td>\n",
       "      <td>1.00000</td>\n",
       "    </tr>\n",
       "    <tr>\n",
       "      <th>KO_MK-801_1.0</th>\n",
       "      <td>9.113418</td>\n",
       "      <td>2.537414e-03</td>\n",
       "      <td>0.07105</td>\n",
       "    </tr>\n",
       "    <tr>\n",
       "      <th>KO_Saline_1.0</th>\n",
       "      <td>10.428571</td>\n",
       "      <td>1.240807e-03</td>\n",
       "      <td>0.03474</td>\n",
       "    </tr>\n",
       "    <tr>\n",
       "      <th>WT_MK-801_0.5</th>\n",
       "      <td>1.091270</td>\n",
       "      <td>2.961900e-01</td>\n",
       "      <td>1.00000</td>\n",
       "    </tr>\n",
       "    <tr>\n",
       "      <th>WT_MK-801_1.0</th>\n",
       "      <td>0.187277</td>\n",
       "      <td>6.651928e-01</td>\n",
       "      <td>1.00000</td>\n",
       "    </tr>\n",
       "    <tr>\n",
       "      <th>WT_Saline_1.0</th>\n",
       "      <td>5.142857</td>\n",
       "      <td>2.334220e-02</td>\n",
       "      <td>0.65358</td>\n",
       "    </tr>\n",
       "    <tr>\n",
       "      <th rowspan=\"6\" valign=\"top\">HE_Saline_1.0</th>\n",
       "      <th>KO_MK-801_0.5</th>\n",
       "      <td>0.842609</td>\n",
       "      <td>3.586517e-01</td>\n",
       "      <td>1.00000</td>\n",
       "    </tr>\n",
       "    <tr>\n",
       "      <th>KO_MK-801_1.0</th>\n",
       "      <td>11.542762</td>\n",
       "      <td>6.801354e-04</td>\n",
       "      <td>0.01904</td>\n",
       "    </tr>\n",
       "    <tr>\n",
       "      <th>KO_Saline_1.0</th>\n",
       "      <td>0.000000</td>\n",
       "      <td>1.000000e+00</td>\n",
       "      <td>1.00000</td>\n",
       "    </tr>\n",
       "    <tr>\n",
       "      <th>WT_MK-801_0.5</th>\n",
       "      <td>0.222222</td>\n",
       "      <td>6.373519e-01</td>\n",
       "      <td>1.00000</td>\n",
       "    </tr>\n",
       "    <tr>\n",
       "      <th>WT_MK-801_1.0</th>\n",
       "      <td>1.595404</td>\n",
       "      <td>2.065558e-01</td>\n",
       "      <td>1.00000</td>\n",
       "    </tr>\n",
       "    <tr>\n",
       "      <th>WT_Saline_1.0</th>\n",
       "      <td>0.000000</td>\n",
       "      <td>1.000000e+00</td>\n",
       "      <td>1.00000</td>\n",
       "    </tr>\n",
       "    <tr>\n",
       "      <th rowspan=\"5\" valign=\"top\">KO_MK-801_0.5</th>\n",
       "      <th>KO_MK-801_1.0</th>\n",
       "      <td>55.838197</td>\n",
       "      <td>7.868775e-14</td>\n",
       "      <td>0.00000</td>\n",
       "    </tr>\n",
       "    <tr>\n",
       "      <th>KO_Saline_1.0</th>\n",
       "      <td>10.087312</td>\n",
       "      <td>1.492937e-03</td>\n",
       "      <td>0.04180</td>\n",
       "    </tr>\n",
       "    <tr>\n",
       "      <th>WT_MK-801_0.5</th>\n",
       "      <td>1.808163</td>\n",
       "      <td>1.787287e-01</td>\n",
       "      <td>1.00000</td>\n",
       "    </tr>\n",
       "    <tr>\n",
       "      <th>WT_MK-801_1.0</th>\n",
       "      <td>1.379009</td>\n",
       "      <td>2.402700e-01</td>\n",
       "      <td>1.00000</td>\n",
       "    </tr>\n",
       "    <tr>\n",
       "      <th>WT_Saline_1.0</th>\n",
       "      <td>5.030262</td>\n",
       "      <td>2.490813e-02</td>\n",
       "      <td>0.69743</td>\n",
       "    </tr>\n",
       "    <tr>\n",
       "      <th rowspan=\"4\" valign=\"top\">KO_MK-801_1.0</th>\n",
       "      <th>KO_Saline_1.0</th>\n",
       "      <td>107.639474</td>\n",
       "      <td>3.223995e-25</td>\n",
       "      <td>0.00000</td>\n",
       "    </tr>\n",
       "    <tr>\n",
       "      <th>WT_MK-801_0.5</th>\n",
       "      <td>38.147075</td>\n",
       "      <td>6.560801e-10</td>\n",
       "      <td>0.00000</td>\n",
       "    </tr>\n",
       "    <tr>\n",
       "      <th>WT_MK-801_1.0</th>\n",
       "      <td>26.190774</td>\n",
       "      <td>3.092968e-07</td>\n",
       "      <td>0.00001</td>\n",
       "    </tr>\n",
       "    <tr>\n",
       "      <th>WT_Saline_1.0</th>\n",
       "      <td>56.316444</td>\n",
       "      <td>6.169728e-14</td>\n",
       "      <td>0.00000</td>\n",
       "    </tr>\n",
       "    <tr>\n",
       "      <th rowspan=\"3\" valign=\"top\">KO_Saline_1.0</th>\n",
       "      <th>WT_MK-801_0.5</th>\n",
       "      <td>2.703704</td>\n",
       "      <td>1.001154e-01</td>\n",
       "      <td>1.00000</td>\n",
       "    </tr>\n",
       "    <tr>\n",
       "      <th>WT_MK-801_1.0</th>\n",
       "      <td>18.533699</td>\n",
       "      <td>1.669267e-05</td>\n",
       "      <td>0.00047</td>\n",
       "    </tr>\n",
       "    <tr>\n",
       "      <th>WT_Saline_1.0</th>\n",
       "      <td>0.000000</td>\n",
       "      <td>1.000000e+00</td>\n",
       "      <td>1.00000</td>\n",
       "    </tr>\n",
       "    <tr>\n",
       "      <th rowspan=\"2\" valign=\"top\">WT_MK-801_0.5</th>\n",
       "      <th>WT_MK-801_1.0</th>\n",
       "      <td>4.264918</td>\n",
       "      <td>3.890712e-02</td>\n",
       "      <td>1.00000</td>\n",
       "    </tr>\n",
       "    <tr>\n",
       "      <th>WT_Saline_1.0</th>\n",
       "      <td>1.333333</td>\n",
       "      <td>2.482131e-01</td>\n",
       "      <td>1.00000</td>\n",
       "    </tr>\n",
       "    <tr>\n",
       "      <th>WT_MK-801_1.0</th>\n",
       "      <th>WT_Saline_1.0</th>\n",
       "      <td>9.337075</td>\n",
       "      <td>2.245637e-03</td>\n",
       "      <td>0.06288</td>\n",
       "    </tr>\n",
       "  </tbody>\n",
       "</table>\n",
       "</div>"
      ],
      "text/plain": [
       "                             test_statistic             p  Bonferroni adj\n",
       "HE_MK-801_1.0 HE_Saline_1.0        0.857143  3.545395e-01         1.00000\n",
       "              KO_MK-801_0.5        0.005904  9.387525e-01         1.00000\n",
       "              KO_MK-801_1.0        9.113418  2.537414e-03         0.07105\n",
       "              KO_Saline_1.0       10.428571  1.240807e-03         0.03474\n",
       "              WT_MK-801_0.5        1.091270  2.961900e-01         1.00000\n",
       "              WT_MK-801_1.0        0.187277  6.651928e-01         1.00000\n",
       "              WT_Saline_1.0        5.142857  2.334220e-02         0.65358\n",
       "HE_Saline_1.0 KO_MK-801_0.5        0.842609  3.586517e-01         1.00000\n",
       "              KO_MK-801_1.0       11.542762  6.801354e-04         0.01904\n",
       "              KO_Saline_1.0        0.000000  1.000000e+00         1.00000\n",
       "              WT_MK-801_0.5        0.222222  6.373519e-01         1.00000\n",
       "              WT_MK-801_1.0        1.595404  2.065558e-01         1.00000\n",
       "              WT_Saline_1.0        0.000000  1.000000e+00         1.00000\n",
       "KO_MK-801_0.5 KO_MK-801_1.0       55.838197  7.868775e-14         0.00000\n",
       "              KO_Saline_1.0       10.087312  1.492937e-03         0.04180\n",
       "              WT_MK-801_0.5        1.808163  1.787287e-01         1.00000\n",
       "              WT_MK-801_1.0        1.379009  2.402700e-01         1.00000\n",
       "              WT_Saline_1.0        5.030262  2.490813e-02         0.69743\n",
       "KO_MK-801_1.0 KO_Saline_1.0      107.639474  3.223995e-25         0.00000\n",
       "              WT_MK-801_0.5       38.147075  6.560801e-10         0.00000\n",
       "              WT_MK-801_1.0       26.190774  3.092968e-07         0.00001\n",
       "              WT_Saline_1.0       56.316444  6.169728e-14         0.00000\n",
       "KO_Saline_1.0 WT_MK-801_0.5        2.703704  1.001154e-01         1.00000\n",
       "              WT_MK-801_1.0       18.533699  1.669267e-05         0.00047\n",
       "              WT_Saline_1.0        0.000000  1.000000e+00         1.00000\n",
       "WT_MK-801_0.5 WT_MK-801_1.0        4.264918  3.890712e-02         1.00000\n",
       "              WT_Saline_1.0        1.333333  2.482131e-01         1.00000\n",
       "WT_MK-801_1.0 WT_Saline_1.0        9.337075  2.245637e-03         0.06288"
      ]
     },
     "execution_count": 24,
     "metadata": {},
     "output_type": "execute_result"
    }
   ],
   "source": [
    "logrank_df"
   ]
  },
  {
   "cell_type": "code",
   "execution_count": 11,
   "metadata": {},
   "outputs": [],
   "source": [
    "MK_1mg = MK_surv[MK_surv['Dosage (mg/kg)'] == 1]"
   ]
  },
  {
   "cell_type": "code",
   "execution_count": 12,
   "metadata": {},
   "outputs": [
    {
     "data": {
      "text/plain": [
       "Text(0.5, 1.0, 'Dosage: 1mg/kg')"
      ]
     },
     "execution_count": 12,
     "metadata": {},
     "output_type": "execute_result"
    },
    {
     "data": {
      "image/png": "[encoded data removed]",
      "text/plain": [
       "<Figure size 504x360 with 1 Axes>"
      ]
     },
     "metadata": {
      "needs_background": "light"
     },
     "output_type": "display_data"
    }
   ],
   "source": [
    "plt.figure(figsize = (7,5))\n",
    "ax=plt.subplot()\n",
    "for name, grouped_df in MK_1mg.groupby(['Genotype', 'Treatment']):\n",
    "    km_fit.fit(grouped_df[\"Duration\"], grouped_df[\"Event\"], label=name)\n",
    "    km_fit.plot(ax=ax, ci_show=False)\n",
    "plt.ylabel('Survival (%)')\n",
    "plt.xlabel('Days')\n",
    "ax.legend(fancybox=True, ncol=2, loc = 7, bbox_to_anchor = (1, .25))\n",
    "plt.axvline(5, ls='--', color = 'k', alpha=.5)\n",
    "plt.axvline(9, ls='--', color = 'k', alpha=.5)\n",
    "plt.title('Dosage: 1mg/kg')"
   ]
  },
  {
   "cell_type": "code",
   "execution_count": 21,
   "metadata": {},
   "outputs": [],
   "source": [
    "plr_test = lf.statistics.pairwise_logrank_test(event_durations = MK_1mg['Duration'], event_observed = MK_1mg['Event'], groups = MK_1mg['Group'])\n",
    "sig, p_adj = pg.multicomp(plr_test.summary['p'].values, method = 'bonf')\n",
    "\n",
    "logrank_df = plr_test.summary\n",
    "\n",
    "logrank_df['Bonferroni adj'] = p_adj.round(5)"
   ]
  },
  {
   "cell_type": "code",
   "execution_count": 22,
   "metadata": {},
   "outputs": [
    {
     "data": {
      "text/html": [
       "<div>\n",
       "<style scoped>\n",
       "    .dataframe tbody tr th:only-of-type {\n",
       "        vertical-align: middle;\n",
       "    }\n",
       "\n",
       "    .dataframe tbody tr th {\n",
       "        vertical-align: top;\n",
       "    }\n",
       "\n",
       "    .dataframe thead th {\n",
       "        text-align: right;\n",
       "    }\n",
       "</style>\n",
       "<table border=\"1\" class=\"dataframe\">\n",
       "  <thead>\n",
       "    <tr style=\"text-align: right;\">\n",
       "      <th></th>\n",
       "      <th></th>\n",
       "      <th>test_statistic</th>\n",
       "      <th>p</th>\n",
       "      <th>Bonferroni adj</th>\n",
       "    </tr>\n",
       "  </thead>\n",
       "  <tbody>\n",
       "    <tr>\n",
       "      <th rowspan=\"5\" valign=\"top\">HE_MK-801_1.0</th>\n",
       "      <th>HE_Saline_1.0</th>\n",
       "      <td>0.857143</td>\n",
       "      <td>3.545395e-01</td>\n",
       "      <td>1.00000</td>\n",
       "    </tr>\n",
       "    <tr>\n",
       "      <th>KO_MK-801_1.0</th>\n",
       "      <td>9.113418</td>\n",
       "      <td>2.537414e-03</td>\n",
       "      <td>0.03806</td>\n",
       "    </tr>\n",
       "    <tr>\n",
       "      <th>KO_Saline_1.0</th>\n",
       "      <td>10.428571</td>\n",
       "      <td>1.240807e-03</td>\n",
       "      <td>0.01861</td>\n",
       "    </tr>\n",
       "    <tr>\n",
       "      <th>WT_MK-801_1.0</th>\n",
       "      <td>0.187277</td>\n",
       "      <td>6.651928e-01</td>\n",
       "      <td>1.00000</td>\n",
       "    </tr>\n",
       "    <tr>\n",
       "      <th>WT_Saline_1.0</th>\n",
       "      <td>5.142857</td>\n",
       "      <td>2.334220e-02</td>\n",
       "      <td>0.35013</td>\n",
       "    </tr>\n",
       "    <tr>\n",
       "      <th rowspan=\"4\" valign=\"top\">HE_Saline_1.0</th>\n",
       "      <th>KO_MK-801_1.0</th>\n",
       "      <td>11.542762</td>\n",
       "      <td>6.801354e-04</td>\n",
       "      <td>0.01020</td>\n",
       "    </tr>\n",
       "    <tr>\n",
       "      <th>KO_Saline_1.0</th>\n",
       "      <td>0.000000</td>\n",
       "      <td>1.000000e+00</td>\n",
       "      <td>1.00000</td>\n",
       "    </tr>\n",
       "    <tr>\n",
       "      <th>WT_MK-801_1.0</th>\n",
       "      <td>1.595404</td>\n",
       "      <td>2.065558e-01</td>\n",
       "      <td>1.00000</td>\n",
       "    </tr>\n",
       "    <tr>\n",
       "      <th>WT_Saline_1.0</th>\n",
       "      <td>0.000000</td>\n",
       "      <td>1.000000e+00</td>\n",
       "      <td>1.00000</td>\n",
       "    </tr>\n",
       "    <tr>\n",
       "      <th rowspan=\"3\" valign=\"top\">KO_MK-801_1.0</th>\n",
       "      <th>KO_Saline_1.0</th>\n",
       "      <td>107.639474</td>\n",
       "      <td>3.223995e-25</td>\n",
       "      <td>0.00000</td>\n",
       "    </tr>\n",
       "    <tr>\n",
       "      <th>WT_MK-801_1.0</th>\n",
       "      <td>26.190774</td>\n",
       "      <td>3.092968e-07</td>\n",
       "      <td>0.00000</td>\n",
       "    </tr>\n",
       "    <tr>\n",
       "      <th>WT_Saline_1.0</th>\n",
       "      <td>56.316444</td>\n",
       "      <td>6.169728e-14</td>\n",
       "      <td>0.00000</td>\n",
       "    </tr>\n",
       "    <tr>\n",
       "      <th rowspan=\"2\" valign=\"top\">KO_Saline_1.0</th>\n",
       "      <th>WT_MK-801_1.0</th>\n",
       "      <td>18.533699</td>\n",
       "      <td>1.669267e-05</td>\n",
       "      <td>0.00025</td>\n",
       "    </tr>\n",
       "    <tr>\n",
       "      <th>WT_Saline_1.0</th>\n",
       "      <td>0.000000</td>\n",
       "      <td>1.000000e+00</td>\n",
       "      <td>1.00000</td>\n",
       "    </tr>\n",
       "    <tr>\n",
       "      <th>WT_MK-801_1.0</th>\n",
       "      <th>WT_Saline_1.0</th>\n",
       "      <td>9.337075</td>\n",
       "      <td>2.245637e-03</td>\n",
       "      <td>0.03368</td>\n",
       "    </tr>\n",
       "  </tbody>\n",
       "</table>\n",
       "</div>"
      ],
      "text/plain": [
       "                             test_statistic             p  Bonferroni adj\n",
       "HE_MK-801_1.0 HE_Saline_1.0        0.857143  3.545395e-01         1.00000\n",
       "              KO_MK-801_1.0        9.113418  2.537414e-03         0.03806\n",
       "              KO_Saline_1.0       10.428571  1.240807e-03         0.01861\n",
       "              WT_MK-801_1.0        0.187277  6.651928e-01         1.00000\n",
       "              WT_Saline_1.0        5.142857  2.334220e-02         0.35013\n",
       "HE_Saline_1.0 KO_MK-801_1.0       11.542762  6.801354e-04         0.01020\n",
       "              KO_Saline_1.0        0.000000  1.000000e+00         1.00000\n",
       "              WT_MK-801_1.0        1.595404  2.065558e-01         1.00000\n",
       "              WT_Saline_1.0        0.000000  1.000000e+00         1.00000\n",
       "KO_MK-801_1.0 KO_Saline_1.0      107.639474  3.223995e-25         0.00000\n",
       "              WT_MK-801_1.0       26.190774  3.092968e-07         0.00000\n",
       "              WT_Saline_1.0       56.316444  6.169728e-14         0.00000\n",
       "KO_Saline_1.0 WT_MK-801_1.0       18.533699  1.669267e-05         0.00025\n",
       "              WT_Saline_1.0        0.000000  1.000000e+00         1.00000\n",
       "WT_MK-801_1.0 WT_Saline_1.0        9.337075  2.245637e-03         0.03368"
      ]
     },
     "execution_count": 22,
     "metadata": {},
     "output_type": "execute_result"
    }
   ],
   "source": [
    "logrank_df"
   ]
  },
  {
   "cell_type": "code",
   "execution_count": 15,
   "metadata": {},
   "outputs": [],
   "source": [
    "MK_05mg = MK_surv.copy()"
   ]
  },
  {
   "cell_type": "code",
   "execution_count": 16,
   "metadata": {},
   "outputs": [],
   "source": [
    "MK_05mg.loc[MK_05mg['Treatment']=='Saline', 'Dosage (mg/kg)']  = 0.5"
   ]
  },
  {
   "cell_type": "code",
   "execution_count": 155,
   "metadata": {
    "collapsed": true,
    "jupyter": {
     "outputs_hidden": true
    }
   },
   "outputs": [
    {
     "data": {
      "text/html": [
       "<div>\n",
       "<style scoped>\n",
       "    .dataframe tbody tr th:only-of-type {\n",
       "        vertical-align: middle;\n",
       "    }\n",
       "\n",
       "    .dataframe tbody tr th {\n",
       "        vertical-align: top;\n",
       "    }\n",
       "\n",
       "    .dataframe thead th {\n",
       "        text-align: right;\n",
       "    }\n",
       "</style>\n",
       "<table border=\"1\" class=\"dataframe\">\n",
       "  <thead>\n",
       "    <tr style=\"text-align: right;\">\n",
       "      <th></th>\n",
       "      <th>ID</th>\n",
       "      <th>Litter</th>\n",
       "      <th>Genotype</th>\n",
       "      <th>Treatment</th>\n",
       "      <th>Dosage (mg/kg)</th>\n",
       "      <th>Sex</th>\n",
       "      <th>Duration</th>\n",
       "      <th>Event</th>\n",
       "      <th>Group</th>\n",
       "    </tr>\n",
       "  </thead>\n",
       "  <tbody>\n",
       "    <tr>\n",
       "      <th>0</th>\n",
       "      <td>KO_4.1_4</td>\n",
       "      <td>KO_4.1</td>\n",
       "      <td>KO</td>\n",
       "      <td>Saline</td>\n",
       "      <td>0.5</td>\n",
       "      <td>Fem</td>\n",
       "      <td>90</td>\n",
       "      <td>0</td>\n",
       "      <td>KO_Saline_1.0</td>\n",
       "    </tr>\n",
       "    <tr>\n",
       "      <th>1</th>\n",
       "      <td>KO_4.1_5</td>\n",
       "      <td>KO_4.1</td>\n",
       "      <td>KO</td>\n",
       "      <td>Saline</td>\n",
       "      <td>0.5</td>\n",
       "      <td>Fem</td>\n",
       "      <td>90</td>\n",
       "      <td>0</td>\n",
       "      <td>KO_Saline_1.0</td>\n",
       "    </tr>\n",
       "    <tr>\n",
       "      <th>2</th>\n",
       "      <td>KO_4.1_1</td>\n",
       "      <td>KO_4.1</td>\n",
       "      <td>KO</td>\n",
       "      <td>MK-801</td>\n",
       "      <td>1.0</td>\n",
       "      <td>Fem</td>\n",
       "      <td>90</td>\n",
       "      <td>0</td>\n",
       "      <td>KO_MK-801_1.0</td>\n",
       "    </tr>\n",
       "    <tr>\n",
       "      <th>3</th>\n",
       "      <td>KO_4.1_2</td>\n",
       "      <td>KO_4.1</td>\n",
       "      <td>KO</td>\n",
       "      <td>MK-801</td>\n",
       "      <td>1.0</td>\n",
       "      <td>NaN</td>\n",
       "      <td>6</td>\n",
       "      <td>1</td>\n",
       "      <td>KO_MK-801_1.0</td>\n",
       "    </tr>\n",
       "    <tr>\n",
       "      <th>4</th>\n",
       "      <td>KO_4.1_3</td>\n",
       "      <td>KO_4.1</td>\n",
       "      <td>KO</td>\n",
       "      <td>MK-801</td>\n",
       "      <td>1.0</td>\n",
       "      <td>NaN</td>\n",
       "      <td>6</td>\n",
       "      <td>1</td>\n",
       "      <td>KO_MK-801_1.0</td>\n",
       "    </tr>\n",
       "    <tr>\n",
       "      <th>...</th>\n",
       "      <td>...</td>\n",
       "      <td>...</td>\n",
       "      <td>...</td>\n",
       "      <td>...</td>\n",
       "      <td>...</td>\n",
       "      <td>...</td>\n",
       "      <td>...</td>\n",
       "      <td>...</td>\n",
       "      <td>...</td>\n",
       "    </tr>\n",
       "    <tr>\n",
       "      <th>178</th>\n",
       "      <td>HE_1.4_6</td>\n",
       "      <td>HE_1.4</td>\n",
       "      <td>HE</td>\n",
       "      <td>MK-801</td>\n",
       "      <td>1.0</td>\n",
       "      <td>Male</td>\n",
       "      <td>80</td>\n",
       "      <td>0</td>\n",
       "      <td>HE_MK-801_1.0</td>\n",
       "    </tr>\n",
       "    <tr>\n",
       "      <th>179</th>\n",
       "      <td>HE_2.2_1</td>\n",
       "      <td>HE_2.2</td>\n",
       "      <td>HE</td>\n",
       "      <td>MK-801</td>\n",
       "      <td>1.0</td>\n",
       "      <td>Male</td>\n",
       "      <td>75</td>\n",
       "      <td>0</td>\n",
       "      <td>HE_MK-801_1.0</td>\n",
       "    </tr>\n",
       "    <tr>\n",
       "      <th>180</th>\n",
       "      <td>HE_2.2_2</td>\n",
       "      <td>HE_2.2</td>\n",
       "      <td>HE</td>\n",
       "      <td>MK-801</td>\n",
       "      <td>1.0</td>\n",
       "      <td>Male</td>\n",
       "      <td>75</td>\n",
       "      <td>0</td>\n",
       "      <td>HE_MK-801_1.0</td>\n",
       "    </tr>\n",
       "    <tr>\n",
       "      <th>181</th>\n",
       "      <td>HE_2.2_3</td>\n",
       "      <td>HE_2.2</td>\n",
       "      <td>HE</td>\n",
       "      <td>MK-801</td>\n",
       "      <td>1.0</td>\n",
       "      <td>Male</td>\n",
       "      <td>75</td>\n",
       "      <td>0</td>\n",
       "      <td>HE_MK-801_1.0</td>\n",
       "    </tr>\n",
       "    <tr>\n",
       "      <th>182</th>\n",
       "      <td>HE_2.2_4</td>\n",
       "      <td>HE_2.2</td>\n",
       "      <td>HE</td>\n",
       "      <td>MK-801</td>\n",
       "      <td>1.0</td>\n",
       "      <td>Fem</td>\n",
       "      <td>75</td>\n",
       "      <td>0</td>\n",
       "      <td>HE_MK-801_1.0</td>\n",
       "    </tr>\n",
       "  </tbody>\n",
       "</table>\n",
       "<p>181 rows × 9 columns</p>\n",
       "</div>"
      ],
      "text/plain": [
       "           ID  Litter Genotype Treatment  Dosage (mg/kg)   Sex  Duration  \\\n",
       "0    KO_4.1_4  KO_4.1       KO    Saline             0.5   Fem        90   \n",
       "1    KO_4.1_5  KO_4.1       KO    Saline             0.5   Fem        90   \n",
       "2    KO_4.1_1  KO_4.1       KO    MK-801             1.0   Fem        90   \n",
       "3    KO_4.1_2  KO_4.1       KO    MK-801             1.0   NaN         6   \n",
       "4    KO_4.1_3  KO_4.1       KO    MK-801             1.0   NaN         6   \n",
       "..        ...     ...      ...       ...             ...   ...       ...   \n",
       "178  HE_1.4_6  HE_1.4       HE    MK-801             1.0  Male        80   \n",
       "179  HE_2.2_1  HE_2.2       HE    MK-801             1.0  Male        75   \n",
       "180  HE_2.2_2  HE_2.2       HE    MK-801             1.0  Male        75   \n",
       "181  HE_2.2_3  HE_2.2       HE    MK-801             1.0  Male        75   \n",
       "182  HE_2.2_4  HE_2.2       HE    MK-801             1.0   Fem        75   \n",
       "\n",
       "     Event          Group  \n",
       "0        0  KO_Saline_1.0  \n",
       "1        0  KO_Saline_1.0  \n",
       "2        0  KO_MK-801_1.0  \n",
       "3        1  KO_MK-801_1.0  \n",
       "4        1  KO_MK-801_1.0  \n",
       "..     ...            ...  \n",
       "178      0  HE_MK-801_1.0  \n",
       "179      0  HE_MK-801_1.0  \n",
       "180      0  HE_MK-801_1.0  \n",
       "181      0  HE_MK-801_1.0  \n",
       "182      0  HE_MK-801_1.0  \n",
       "\n",
       "[181 rows x 9 columns]"
      ]
     },
     "execution_count": 155,
     "metadata": {},
     "output_type": "execute_result"
    }
   ],
   "source": [
    "MK_05mg"
   ]
  },
  {
   "cell_type": "code",
   "execution_count": 17,
   "metadata": {},
   "outputs": [],
   "source": [
    "MK_05 = MK_05mg[(MK_05mg['Dosage (mg/kg)'] == 0.5) & (MK_05mg['Genotype'] != 'HE')]"
   ]
  },
  {
   "cell_type": "code",
   "execution_count": 18,
   "metadata": {},
   "outputs": [
    {
     "data": {
      "text/plain": [
       "Text(0.5, 1.0, 'Dosage: 0.5mg/kg')"
      ]
     },
     "execution_count": 18,
     "metadata": {},
     "output_type": "execute_result"
    },
    {
     "data": {
      "image/png": "[encoded data removed]",
      "text/plain": [
       "<Figure size 504x360 with 1 Axes>"
      ]
     },
     "metadata": {
      "needs_background": "light"
     },
     "output_type": "display_data"
    }
   ],
   "source": [
    "plt.figure(figsize = (7,5))\n",
    "ax=plt.subplot()\n",
    "for name, grouped_df in MK_05.groupby(['Genotype', 'Treatment']):\n",
    "    km_fit.fit(grouped_df[\"Duration\"], grouped_df[\"Event\"], label=name)\n",
    "    km_fit.plot(ax=ax, ci_show=False)\n",
    "plt.ylabel('Survival (%)')\n",
    "plt.xlabel('Days')\n",
    "ax.legend(fancybox=True, ncol=2)\n",
    "plt.axvline(5, ls='--', color = 'k', alpha=.5)\n",
    "plt.axvline(9, ls='--', color = 'k', alpha=.5)\n",
    "plt.ylim(0, 1.02)\n",
    "plt.title('Dosage: 0.5mg/kg')"
   ]
  },
  {
   "cell_type": "code",
   "execution_count": 19,
   "metadata": {},
   "outputs": [],
   "source": [
    "plr_test = lf.statistics.pairwise_logrank_test(event_durations = MK_05['Duration'], event_observed = MK_05['Event'], groups = MK_05['Group'])\n",
    "sig, p_adj = pg.multicomp(plr_test.summary['p'].values, method = 'bonf')\n",
    "\n",
    "logrank_df = plr_test.summary\n",
    "\n",
    "logrank_df['Bonferroni adj'] = p_adj.round(5)"
   ]
  },
  {
   "cell_type": "code",
   "execution_count": 20,
   "metadata": {},
   "outputs": [
    {
     "data": {
      "text/html": [
       "<div>\n",
       "<style scoped>\n",
       "    .dataframe tbody tr th:only-of-type {\n",
       "        vertical-align: middle;\n",
       "    }\n",
       "\n",
       "    .dataframe tbody tr th {\n",
       "        vertical-align: top;\n",
       "    }\n",
       "\n",
       "    .dataframe thead th {\n",
       "        text-align: right;\n",
       "    }\n",
       "</style>\n",
       "<table border=\"1\" class=\"dataframe\">\n",
       "  <thead>\n",
       "    <tr style=\"text-align: right;\">\n",
       "      <th></th>\n",
       "      <th></th>\n",
       "      <th>test_statistic</th>\n",
       "      <th>p</th>\n",
       "      <th>Bonferroni adj</th>\n",
       "    </tr>\n",
       "  </thead>\n",
       "  <tbody>\n",
       "    <tr>\n",
       "      <th rowspan=\"3\" valign=\"top\">KO_MK-801_0.5</th>\n",
       "      <th>KO_Saline_1.0</th>\n",
       "      <td>10.087312</td>\n",
       "      <td>0.001493</td>\n",
       "      <td>0.00896</td>\n",
       "    </tr>\n",
       "    <tr>\n",
       "      <th>WT_MK-801_0.5</th>\n",
       "      <td>1.808163</td>\n",
       "      <td>0.178729</td>\n",
       "      <td>1.00000</td>\n",
       "    </tr>\n",
       "    <tr>\n",
       "      <th>WT_Saline_1.0</th>\n",
       "      <td>5.030262</td>\n",
       "      <td>0.024908</td>\n",
       "      <td>0.14945</td>\n",
       "    </tr>\n",
       "    <tr>\n",
       "      <th rowspan=\"2\" valign=\"top\">KO_Saline_1.0</th>\n",
       "      <th>WT_MK-801_0.5</th>\n",
       "      <td>2.703704</td>\n",
       "      <td>0.100115</td>\n",
       "      <td>0.60069</td>\n",
       "    </tr>\n",
       "    <tr>\n",
       "      <th>WT_Saline_1.0</th>\n",
       "      <td>0.000000</td>\n",
       "      <td>1.000000</td>\n",
       "      <td>1.00000</td>\n",
       "    </tr>\n",
       "    <tr>\n",
       "      <th>WT_MK-801_0.5</th>\n",
       "      <th>WT_Saline_1.0</th>\n",
       "      <td>1.333333</td>\n",
       "      <td>0.248213</td>\n",
       "      <td>1.00000</td>\n",
       "    </tr>\n",
       "  </tbody>\n",
       "</table>\n",
       "</div>"
      ],
      "text/plain": [
       "                             test_statistic         p  Bonferroni adj\n",
       "KO_MK-801_0.5 KO_Saline_1.0       10.087312  0.001493         0.00896\n",
       "              WT_MK-801_0.5        1.808163  0.178729         1.00000\n",
       "              WT_Saline_1.0        5.030262  0.024908         0.14945\n",
       "KO_Saline_1.0 WT_MK-801_0.5        2.703704  0.100115         0.60069\n",
       "              WT_Saline_1.0        0.000000  1.000000         1.00000\n",
       "WT_MK-801_0.5 WT_Saline_1.0        1.333333  0.248213         1.00000"
      ]
     },
     "execution_count": 20,
     "metadata": {},
     "output_type": "execute_result"
    }
   ],
   "source": [
    "logrank_df"
   ]
  },
  {
   "cell_type": "markdown",
   "metadata": {},
   "source": [
    "## Growth"
   ]
  },
  {
   "cell_type": "code",
   "execution_count": 25,
   "metadata": {},
   "outputs": [],
   "source": [
    "MK_grow = pd.read_csv('/Users/labc02/Documents/PDCB_data/MK-project/Weight_clean.csv')"
   ]
  },
  {
   "cell_type": "code",
   "execution_count": 124,
   "metadata": {},
   "outputs": [],
   "source": [
    "MK_grow.dropna(how='all', inplace = True)"
   ]
  },
  {
   "cell_type": "code",
   "execution_count": 125,
   "metadata": {},
   "outputs": [],
   "source": [
    "MK_grow.drop(MK_grow.tail(1).index, inplace = True)"
   ]
  },
  {
   "cell_type": "code",
   "execution_count": 26,
   "metadata": {},
   "outputs": [
    {
     "data": {
      "text/plain": [
       "Genotype  Treatment  Dosage (mg/kg)\n",
       "HE        MK-801     1.0                7\n",
       "          Saline     1.0                6\n",
       "KO        MK-801     0.5               81\n",
       "                     1.0               24\n",
       "          Saline     1.0               76\n",
       "WT        MK-801     0.5               27\n",
       "                     1.0               30\n",
       "          Saline     1.0               36\n",
       "Name: ID, dtype: int64"
      ]
     },
     "execution_count": 26,
     "metadata": {},
     "output_type": "execute_result"
    }
   ],
   "source": [
    "MK_grow.groupby(['Genotype', 'Treatment', 'Dosage (mg/kg)'])['ID'].count()"
   ]
  },
  {
   "cell_type": "code",
   "execution_count": 38,
   "metadata": {},
   "outputs": [
    {
     "data": {
      "text/plain": [
       "Index(['ID', 'Litter', 'Genotype', 'Treatment', 'Dosage (mg/kg)', 'Sex', '5',\n",
       "       '6', '7', '8', '9', '10', '11', '12', '13', '14', '15', '16', '17',\n",
       "       '18', '19', '20', '21', '22', '23', '24', '25', '26', '27', '28', '29',\n",
       "       '30', '31', '32', '33', '34', '35', '40', '45', '50', '55', '60', '65',\n",
       "       '70', '75', '80', '85', '90'],\n",
       "      dtype='object')"
      ]
     },
     "execution_count": 38,
     "metadata": {},
     "output_type": "execute_result"
    }
   ],
   "source": [
    "MK_grow.columns"
   ]
  },
  {
   "cell_type": "code",
   "execution_count": 27,
   "metadata": {},
   "outputs": [],
   "source": [
    "mk_g= MK_grow.melt(id_vars=['ID', 'Litter', 'Genotype', 'Treatment', 'Dosage (mg/kg)', 'Sex'], var_name='Day', value_name = 'Weight')"
   ]
  },
  {
   "cell_type": "code",
   "execution_count": 28,
   "metadata": {},
   "outputs": [],
   "source": [
    "mk_g['Day'] = mk_g['Day'].astype('float')"
   ]
  },
  {
   "cell_type": "code",
   "execution_count": 39,
   "metadata": {},
   "outputs": [],
   "source": [
    "mk_g['Group'] = mk_g['Genotype']+'_'+mk_g['Treatment']"
   ]
  },
  {
   "cell_type": "code",
   "execution_count": 33,
   "metadata": {},
   "outputs": [
    {
     "data": {
      "text/plain": [
       "Text(0.5, 1.0, 'Growth 1 mg/kg')"
      ]
     },
     "execution_count": 33,
     "metadata": {},
     "output_type": "execute_result"
    },
    {
     "data": {
      "image/png": "[encoded data removed]",
      "text/plain": [
       "<Figure size 720x432 with 1 Axes>"
      ]
     },
     "metadata": {
      "needs_background": "light"
     },
     "output_type": "display_data"
    }
   ],
   "source": [
    "plt.figure(figsize=(10,6))\n",
    "sns.lineplot(data = mk_g[(mk_g['Dosage (mg/kg)']==1) & (mk_g['Genotype']!= 'HE')], x ='Day', y='Weight', hue='Genotype', style='Treatment', palette=['forestgreen', 'royalblue'], legend= 'brief')\n",
    "plt.title('Growth 1 mg/kg')"
   ]
  },
  {
   "cell_type": "code",
   "execution_count": 51,
   "metadata": {},
   "outputs": [
    {
     "data": {
      "text/plain": [
       "Text(0.5, 1.0, 'Weight 1mg/kg')"
      ]
     },
     "execution_count": 51,
     "metadata": {},
     "output_type": "execute_result"
    },
    {
     "data": {
      "image/png": "[encoded data removed]",
      "text/plain": [
       "<Figure size 720x432 with 1 Axes>"
      ]
     },
     "metadata": {
      "needs_background": "light"
     },
     "output_type": "display_data"
    }
   ],
   "source": [
    "plt.figure(figsize=(10,6))\n",
    "sns.boxplot(data = mk_g[(mk_g['Dosage (mg/kg)']==1) & (mk_g['Genotype']!= 'HE') & (mk_g['Day'].isin([5, 10, 30]))], x ='Day', y='Weight', hue='Group', palette=['forestgreen', 'darkseagreen', 'royalblue', 'steelblue'], width = 0.5, dodge = 15)\n",
    "plt.title('Weight 1mg/kg')"
   ]
  },
  {
   "cell_type": "code",
   "execution_count": 56,
   "metadata": {
    "collapsed": true,
    "jupyter": {
     "outputs_hidden": true
    }
   },
   "outputs": [
    {
     "name": "stderr",
     "output_type": "stream",
     "text": [
      "<ipython-input-56-a05ff3f802cf>:2: SettingWithCopyWarning: \n",
      "A value is trying to be set on a copy of a slice from a DataFrame\n",
      "\n",
      "See the caveats in the documentation: https://pandas.pydata.org/pandas-docs/stable/user_guide/indexing.html#returning-a-view-versus-a-copy\n",
      "  mk_g05['Dosage (mg/kg)'][mk_g05['Treatment'] == 'Saline'] = 0.5\n"
     ]
    },
    {
     "data": {
      "text/plain": [
       "0         True\n",
       "1         True\n",
       "2        False\n",
       "3        False\n",
       "4        False\n",
       "         ...  \n",
       "12049     True\n",
       "12050     True\n",
       "12051     True\n",
       "12052     True\n",
       "12053     True\n",
       "Name: Dosage (mg/kg), Length: 12054, dtype: bool"
      ]
     },
     "execution_count": 56,
     "metadata": {},
     "output_type": "execute_result"
    }
   ],
   "source": [
    "mk_g05 = mk_g.copy()\n",
    "mk_g05['Dosage (mg/kg)'][mk_g05['Treatment'] == 'Saline'] = 0.5"
   ]
  },
  {
   "cell_type": "code",
   "execution_count": 59,
   "metadata": {},
   "outputs": [
    {
     "data": {
      "text/plain": [
       "<matplotlib.axes._subplots.AxesSubplot at 0x11d7eca00>"
      ]
     },
     "execution_count": 59,
     "metadata": {},
     "output_type": "execute_result"
    },
    {
     "data": {
      "image/png": "[encoded data removed]",
      "text/plain": [
       "<Figure size 720x432 with 1 Axes>"
      ]
     },
     "metadata": {
      "needs_background": "light"
     },
     "output_type": "display_data"
    }
   ],
   "source": [
    "plt.figure(figsize=(10,6))\n",
    "sns.lineplot(data = mk_g05[(mk_g05['Dosage (mg/kg)']==0.5) & (mk_g05['Genotype']!= 'HE')], x ='Day', y='Weight', hue='Genotype', style='Treatment', palette=['forestgreen', 'royalblue'])"
   ]
  },
  {
   "cell_type": "code",
   "execution_count": 62,
   "metadata": {},
   "outputs": [
    {
     "data": {
      "text/plain": [
       "Text(0.5, 1.0, 'Weight 0.5 mg/kg')"
      ]
     },
     "execution_count": 62,
     "metadata": {},
     "output_type": "execute_result"
    },
    {
     "data": {
      "image/png": "[encoded data removed]",
      "text/plain": [
       "<Figure size 720x432 with 1 Axes>"
      ]
     },
     "metadata": {
      "needs_background": "light"
     },
     "output_type": "display_data"
    }
   ],
   "source": [
    "plt.figure(figsize=(10,6))\n",
    "sns.boxplot(data = mk_g05[(mk_g05['Dosage (mg/kg)']==0.5) & (mk_g05['Genotype']!= 'HE') & (mk_g['Day'].isin([5, 10, 30]))], x ='Day', y='Weight', hue='Group', hue_order =['KO_Saline', 'KO_MK-801', 'WT_Saline', 'WT_MK-801'] , palette=['forestgreen', 'darkseagreen', 'royalblue', 'steelblue'], width = 0.5, dodge = 15)\n",
    "plt.title('Weight 0.5 mg/kg')\n"
   ]
  },
  {
   "cell_type": "markdown",
   "metadata": {},
   "source": [
    "## Nesting"
   ]
  },
  {
   "cell_type": "code",
   "execution_count": 274,
   "metadata": {},
   "outputs": [],
   "source": [
    "nest_r = pd.read_csv('/Users/labc02/Documents/PDCB_data/MK-project/Nesting Data.csv')"
   ]
  },
  {
   "cell_type": "code",
   "execution_count": 276,
   "metadata": {},
   "outputs": [],
   "source": [
    "nest_r['Group'] = nest_r['Genotype']+nest_r['Tx']"
   ]
  },
  {
   "cell_type": "code",
   "execution_count": 275,
   "metadata": {},
   "outputs": [],
   "source": [
    "nest_r['Tx'] = nest_r['Tx'].str.rstrip()"
   ]
  },
  {
   "cell_type": "code",
   "execution_count": 281,
   "metadata": {},
   "outputs": [],
   "source": [
    "nest_r.loc[nest_r['Group'] == 'WTNaive', 'Group'] = 'WTSaline'"
   ]
  },
  {
   "cell_type": "code",
   "execution_count": 282,
   "metadata": {},
   "outputs": [],
   "source": [
    "nest_r.loc[nest_r['Tx']=='Saline', 'Dose (mg/Kg)']  = 1"
   ]
  },
  {
   "cell_type": "code",
   "execution_count": 283,
   "metadata": {},
   "outputs": [
    {
     "data": {
      "text/plain": [
       "Genotype  Tx      Dose (mg/Kg)\n",
       "HE        MK-801  1.0              6\n",
       "          Saline  1.0              6\n",
       "KO        MK-801  0.5             19\n",
       "                  1.0              3\n",
       "          Saline  1.0             32\n",
       "WT        MK-801  0.5             17\n",
       "                  1.0              8\n",
       "          Saline  1.0             20\n",
       "Name: Sub, dtype: int64"
      ]
     },
     "execution_count": 283,
     "metadata": {},
     "output_type": "execute_result"
    }
   ],
   "source": [
    "nest_r.groupby(['Genotype', 'Tx', 'Dose (mg/Kg)'])['Sub'].count()"
   ]
  },
  {
   "cell_type": "code",
   "execution_count": 284,
   "metadata": {},
   "outputs": [
    {
     "data": {
      "text/plain": [
       "<matplotlib.legend.Legend at 0x122c2c5b0>"
      ]
     },
     "execution_count": 284,
     "metadata": {},
     "output_type": "execute_result"
    },
    {
     "data": {
      "image/png": "[encoded data removed]",
      "text/plain": [
       "<Figure size 432x288 with 1 Axes>"
      ]
     },
     "metadata": {
      "needs_background": "light"
     },
     "output_type": "display_data"
    }
   ],
   "source": [
    "sns.boxplot(data=nest_r[nest_r['Dose (mg/Kg)']==1], x='Tx', y='Nesting Score', hue='Genotype', hue_order = ['KO', 'WT', 'HE'], showmeans=True, meanprops={'marker':'+', 'markeredgecolor':'k'}, width=0.3, palette=['forestgreen', 'royalblue', 'gold'])\n",
    "plt.title('Nesting Score 1mg/kg')\n",
    "plt.legend(loc=4)\n"
   ]
  },
  {
   "cell_type": "markdown",
   "metadata": {},
   "source": [
    "### Effects of MK-801 on WT mice"
   ]
  },
  {
   "cell_type": "code",
   "execution_count": 228,
   "metadata": {
    "jupyter": {
     "source_hidden": true
    }
   },
   "outputs": [],
   "source": [
    "out = pg.madmedianrule(nest_r[(nest_r['Genotype']=='WT')&(nest_r['Tx']=='Saline')]['Nesting Score'])\n",
    "idx = nest_r[(nest_r['Genotype']=='WT')&(nest_r['Tx']=='Saline')]['Nesting Score'].index.values\n",
    "tidy_WTS = nest_r[(nest_r['Genotype']=='WT')&(nest_r['Tx']=='Saline')]['Nesting Score'].drop(idx[out])"
   ]
  },
  {
   "cell_type": "code",
   "execution_count": 235,
   "metadata": {
    "collapsed": true,
    "jupyter": {
     "outputs_hidden": true
    }
   },
   "outputs": [
    {
     "data": {
      "text/plain": [
       "6     4.0\n",
       "7     4.0\n",
       "8     5.0\n",
       "12    4.0\n",
       "13    4.5\n",
       "14    4.0\n",
       "25    4.0\n",
       "26    5.0\n",
       "34    4.5\n",
       "35    4.0\n",
       "43    4.0\n",
       "44    4.0\n",
       "45    2.0\n",
       "51    4.0\n",
       "52    4.0\n",
       "70    3.5\n",
       "71    3.5\n",
       "74    4.5\n",
       "75    4.5\n",
       "88    5.0\n",
       "Name: Nesting Score, dtype: float64"
      ]
     },
     "execution_count": 235,
     "metadata": {},
     "output_type": "execute_result"
    }
   ],
   "source": [
    "nest_r[(nest_r['Genotype']=='WT')&(nest_r['Tx']=='Saline')]['Nesting Score']"
   ]
  },
  {
   "cell_type": "code",
   "execution_count": 236,
   "metadata": {},
   "outputs": [
    {
     "name": "stderr",
     "output_type": "stream",
     "text": [
      "/opt/miniconda3/envs/databs/lib/python3.8/site-packages/scipy/stats/stats.py:1534: UserWarning: kurtosistest only valid for n>=20 ... continuing anyway, n=8\n",
      "  warnings.warn(\"kurtosistest only valid for n>=20 ... continuing \"\n",
      "/opt/miniconda3/envs/databs/lib/python3.8/site-packages/scipy/stats/stats.py:1534: UserWarning: kurtosistest only valid for n>=20 ... continuing anyway, n=19\n",
      "  warnings.warn(\"kurtosistest only valid for n>=20 ... continuing \"\n"
     ]
    },
    {
     "data": {
      "text/html": [
       "<div>\n",
       "<style scoped>\n",
       "    .dataframe tbody tr th:only-of-type {\n",
       "        vertical-align: middle;\n",
       "    }\n",
       "\n",
       "    .dataframe tbody tr th {\n",
       "        vertical-align: top;\n",
       "    }\n",
       "\n",
       "    .dataframe thead th {\n",
       "        text-align: right;\n",
       "    }\n",
       "</style>\n",
       "<table border=\"1\" class=\"dataframe\">\n",
       "  <thead>\n",
       "    <tr style=\"text-align: right;\">\n",
       "      <th></th>\n",
       "      <th>W</th>\n",
       "      <th>pval</th>\n",
       "      <th>normal</th>\n",
       "    </tr>\n",
       "  </thead>\n",
       "  <tbody>\n",
       "    <tr>\n",
       "      <th>MK-801</th>\n",
       "      <td>2.739172</td>\n",
       "      <td>0.254212</td>\n",
       "      <td>True</td>\n",
       "    </tr>\n",
       "    <tr>\n",
       "      <th>Saline</th>\n",
       "      <td>1.079918</td>\n",
       "      <td>0.582772</td>\n",
       "      <td>True</td>\n",
       "    </tr>\n",
       "  </tbody>\n",
       "</table>\n",
       "</div>"
      ],
      "text/plain": [
       "               W      pval  normal\n",
       "MK-801  2.739172  0.254212    True\n",
       "Saline  1.079918  0.582772    True"
      ]
     },
     "execution_count": 236,
     "metadata": {},
     "output_type": "execute_result"
    }
   ],
   "source": [
    "pg.normality(data= nest_r[(nest_r['Dose (mg/Kg)']==1)&(nest_r['Genotype']=='WT')].drop(45), dv = 'Nesting Score', group='Tx', method='normaltest')"
   ]
  },
  {
   "cell_type": "code",
   "execution_count": 285,
   "metadata": {},
   "outputs": [],
   "source": [
    "mk_wt = nest_r['Nesting Score'][(nest_r['Dose (mg/Kg)']==1)&(nest_r['Group']=='WTMK-801')]\n",
    "sl_wt = nest_r['Nesting Score'][(nest_r['Dose (mg/Kg)']==1)&(nest_r['Group']=='WTSaline')].drop(45)"
   ]
  },
  {
   "cell_type": "code",
   "execution_count": 238,
   "metadata": {
    "collapsed": true,
    "jupyter": {
     "outputs_hidden": true
    }
   },
   "outputs": [
    {
     "data": {
      "text/html": [
       "<div>\n",
       "<style scoped>\n",
       "    .dataframe tbody tr th:only-of-type {\n",
       "        vertical-align: middle;\n",
       "    }\n",
       "\n",
       "    .dataframe tbody tr th {\n",
       "        vertical-align: top;\n",
       "    }\n",
       "\n",
       "    .dataframe thead th {\n",
       "        text-align: right;\n",
       "    }\n",
       "</style>\n",
       "<table border=\"1\" class=\"dataframe\">\n",
       "  <thead>\n",
       "    <tr style=\"text-align: right;\">\n",
       "      <th></th>\n",
       "      <th>U-val</th>\n",
       "      <th>tail</th>\n",
       "      <th>p-val</th>\n",
       "      <th>RBC</th>\n",
       "      <th>CLES</th>\n",
       "    </tr>\n",
       "  </thead>\n",
       "  <tbody>\n",
       "    <tr>\n",
       "      <th>MWU</th>\n",
       "      <td>115.0</td>\n",
       "      <td>two-sided</td>\n",
       "      <td>0.032829</td>\n",
       "      <td>-0.513158</td>\n",
       "      <td>0.684211</td>\n",
       "    </tr>\n",
       "  </tbody>\n",
       "</table>\n",
       "</div>"
      ],
      "text/plain": [
       "     U-val       tail     p-val       RBC      CLES\n",
       "MWU  115.0  two-sided  0.032829 -0.513158  0.684211"
      ]
     },
     "execution_count": 238,
     "metadata": {},
     "output_type": "execute_result"
    }
   ],
   "source": [
    "pg.mwu(sl_wt, mk_wt)"
   ]
  },
  {
   "cell_type": "markdown",
   "metadata": {},
   "source": [
    "### Strong Tendency"
   ]
  },
  {
   "cell_type": "code",
   "execution_count": 286,
   "metadata": {},
   "outputs": [
    {
     "data": {
      "text/html": [
       "<div>\n",
       "<style scoped>\n",
       "    .dataframe tbody tr th:only-of-type {\n",
       "        vertical-align: middle;\n",
       "    }\n",
       "\n",
       "    .dataframe tbody tr th {\n",
       "        vertical-align: top;\n",
       "    }\n",
       "\n",
       "    .dataframe thead th {\n",
       "        text-align: right;\n",
       "    }\n",
       "</style>\n",
       "<table border=\"1\" class=\"dataframe\">\n",
       "  <thead>\n",
       "    <tr style=\"text-align: right;\">\n",
       "      <th></th>\n",
       "      <th>T</th>\n",
       "      <th>dof</th>\n",
       "      <th>tail</th>\n",
       "      <th>p-val</th>\n",
       "      <th>CI95%</th>\n",
       "      <th>cohen-d</th>\n",
       "      <th>BF10</th>\n",
       "      <th>power</th>\n",
       "    </tr>\n",
       "  </thead>\n",
       "  <tbody>\n",
       "    <tr>\n",
       "      <th>T-test</th>\n",
       "      <td>-2.138459</td>\n",
       "      <td>8.278098</td>\n",
       "      <td>two-sided</td>\n",
       "      <td>0.063794</td>\n",
       "      <td>[-1.6, 0.06]</td>\n",
       "      <td>1.199874</td>\n",
       "      <td>1.837</td>\n",
       "      <td>0.781173</td>\n",
       "    </tr>\n",
       "  </tbody>\n",
       "</table>\n",
       "</div>"
      ],
      "text/plain": [
       "               T       dof       tail     p-val         CI95%   cohen-d  \\\n",
       "T-test -2.138459  8.278098  two-sided  0.063794  [-1.6, 0.06]  1.199874   \n",
       "\n",
       "         BF10     power  \n",
       "T-test  1.837  0.781173  "
      ]
     },
     "execution_count": 286,
     "metadata": {},
     "output_type": "execute_result"
    }
   ],
   "source": [
    "pg.ttest(mk_wt, sl_wt)"
   ]
  },
  {
   "cell_type": "markdown",
   "metadata": {},
   "source": [
    "## Genotype Comparison"
   ]
  },
  {
   "cell_type": "code",
   "execution_count": 287,
   "metadata": {},
   "outputs": [],
   "source": [
    "nest_WK = nest_r[nest_r['Genotype'] != 'HE']"
   ]
  },
  {
   "cell_type": "code",
   "execution_count": 288,
   "metadata": {},
   "outputs": [
    {
     "data": {
      "text/html": [
       "<div>\n",
       "<style scoped>\n",
       "    .dataframe tbody tr th:only-of-type {\n",
       "        vertical-align: middle;\n",
       "    }\n",
       "\n",
       "    .dataframe tbody tr th {\n",
       "        vertical-align: top;\n",
       "    }\n",
       "\n",
       "    .dataframe thead th {\n",
       "        text-align: right;\n",
       "    }\n",
       "</style>\n",
       "<table border=\"1\" class=\"dataframe\">\n",
       "  <thead>\n",
       "    <tr style=\"text-align: right;\">\n",
       "      <th></th>\n",
       "      <th>W</th>\n",
       "      <th>pval</th>\n",
       "      <th>normal</th>\n",
       "    </tr>\n",
       "  </thead>\n",
       "  <tbody>\n",
       "    <tr>\n",
       "      <th>KO</th>\n",
       "      <td>10.346120</td>\n",
       "      <td>0.005667</td>\n",
       "      <td>False</td>\n",
       "    </tr>\n",
       "    <tr>\n",
       "      <th>WT</th>\n",
       "      <td>14.640844</td>\n",
       "      <td>0.000662</td>\n",
       "      <td>False</td>\n",
       "    </tr>\n",
       "  </tbody>\n",
       "</table>\n",
       "</div>"
      ],
      "text/plain": [
       "            W      pval  normal\n",
       "KO  10.346120  0.005667   False\n",
       "WT  14.640844  0.000662   False"
      ]
     },
     "execution_count": 288,
     "metadata": {},
     "output_type": "execute_result"
    }
   ],
   "source": [
    "pg.normality(data= nest_WK[nest_WK['Tx']=='Saline'], dv = 'Nesting Score', group='Genotype', method='normaltest')"
   ]
  },
  {
   "cell_type": "markdown",
   "metadata": {},
   "source": [
    "### Saline mice KO vs WT"
   ]
  },
  {
   "cell_type": "code",
   "execution_count": 289,
   "metadata": {},
   "outputs": [
    {
     "data": {
      "text/html": [
       "<div>\n",
       "<style scoped>\n",
       "    .dataframe tbody tr th:only-of-type {\n",
       "        vertical-align: middle;\n",
       "    }\n",
       "\n",
       "    .dataframe tbody tr th {\n",
       "        vertical-align: top;\n",
       "    }\n",
       "\n",
       "    .dataframe thead th {\n",
       "        text-align: right;\n",
       "    }\n",
       "</style>\n",
       "<table border=\"1\" class=\"dataframe\">\n",
       "  <thead>\n",
       "    <tr style=\"text-align: right;\">\n",
       "      <th></th>\n",
       "      <th>U-val</th>\n",
       "      <th>tail</th>\n",
       "      <th>p-val</th>\n",
       "      <th>RBC</th>\n",
       "      <th>CLES</th>\n",
       "    </tr>\n",
       "  </thead>\n",
       "  <tbody>\n",
       "    <tr>\n",
       "      <th>MWU</th>\n",
       "      <td>389.0</td>\n",
       "      <td>two-sided</td>\n",
       "      <td>0.51061</td>\n",
       "      <td>-0.105114</td>\n",
       "      <td>0.461648</td>\n",
       "    </tr>\n",
       "  </tbody>\n",
       "</table>\n",
       "</div>"
      ],
      "text/plain": [
       "     U-val       tail    p-val       RBC      CLES\n",
       "MWU  389.0  two-sided  0.51061 -0.105114  0.461648"
      ]
     },
     "execution_count": 289,
     "metadata": {},
     "output_type": "execute_result"
    }
   ],
   "source": [
    "sl_wt = nest_r['Nesting Score'][nest_r['Group'] == 'WTSaline']\n",
    "sl_ko = nest_r['Nesting Score'][nest_r['Group'] == 'KOSaline']\n",
    "pg.mwu(sl_wt, sl_ko)"
   ]
  },
  {
   "cell_type": "markdown",
   "metadata": {},
   "source": [
    "#### NO difference by genotype\n"
   ]
  },
  {
   "cell_type": "code",
   "execution_count": 290,
   "metadata": {},
   "outputs": [],
   "source": [
    "nest_05 = nest_r[nest_r['Genotype']!='HE'].copy()\n",
    "nest_05.loc[nest_r['Tx']=='Saline', 'Dose (mg/Kg)']  = 0.5"
   ]
  },
  {
   "cell_type": "code",
   "execution_count": 291,
   "metadata": {},
   "outputs": [
    {
     "data": {
      "text/plain": [
       "<matplotlib.legend.Legend at 0x122f2c040>"
      ]
     },
     "execution_count": 291,
     "metadata": {},
     "output_type": "execute_result"
    },
    {
     "data": {
      "image/png": "[encoded data removed]",
      "text/plain": [
       "<Figure size 432x288 with 1 Axes>"
      ]
     },
     "metadata": {
      "needs_background": "light"
     },
     "output_type": "display_data"
    }
   ],
   "source": [
    "sns.boxplot(data=nest_05[nest_05['Dose (mg/Kg)']==0.5], x='Genotype', y='Nesting Score', hue='Tx', showmeans=True, meanprops={'marker':'+', 'markeredgecolor':'k'}, width=0.3)\n",
    "plt.title('Nesting Score 0.5mg/kg')\n",
    "plt.legend(loc=3)"
   ]
  },
  {
   "cell_type": "code",
   "execution_count": 292,
   "metadata": {},
   "outputs": [
    {
     "data": {
      "text/html": [
       "<div>\n",
       "<style scoped>\n",
       "    .dataframe tbody tr th:only-of-type {\n",
       "        vertical-align: middle;\n",
       "    }\n",
       "\n",
       "    .dataframe tbody tr th {\n",
       "        vertical-align: top;\n",
       "    }\n",
       "\n",
       "    .dataframe thead th {\n",
       "        text-align: right;\n",
       "    }\n",
       "</style>\n",
       "<table border=\"1\" class=\"dataframe\">\n",
       "  <thead>\n",
       "    <tr style=\"text-align: right;\">\n",
       "      <th></th>\n",
       "      <th>W</th>\n",
       "      <th>pval</th>\n",
       "      <th>normal</th>\n",
       "    </tr>\n",
       "  </thead>\n",
       "  <tbody>\n",
       "    <tr>\n",
       "      <th>WTSaline</th>\n",
       "      <td>0.844293</td>\n",
       "      <td>0.005425</td>\n",
       "      <td>False</td>\n",
       "    </tr>\n",
       "    <tr>\n",
       "      <th>WTMK-801</th>\n",
       "      <td>0.825289</td>\n",
       "      <td>0.004606</td>\n",
       "      <td>False</td>\n",
       "    </tr>\n",
       "  </tbody>\n",
       "</table>\n",
       "</div>"
      ],
      "text/plain": [
       "                 W      pval  normal\n",
       "WTSaline  0.844293  0.005425   False\n",
       "WTMK-801  0.825289  0.004606   False"
      ]
     },
     "execution_count": 292,
     "metadata": {},
     "output_type": "execute_result"
    }
   ],
   "source": [
    "pg.normality(data= nest_05[(nest_05['Dose (mg/Kg)']==0.5)&(nest_05['Genotype']=='WT')].drop(45), dv = 'Nesting Score', group='Group')"
   ]
  },
  {
   "cell_type": "code",
   "execution_count": 254,
   "metadata": {
    "collapsed": true,
    "jupyter": {
     "outputs_hidden": true
    }
   },
   "outputs": [
    {
     "data": {
      "text/plain": [
       "6     4.0\n",
       "7     4.0\n",
       "8     5.0\n",
       "12    4.0\n",
       "13    4.5\n",
       "14    4.0\n",
       "25    4.0\n",
       "26    5.0\n",
       "34    4.5\n",
       "35    4.0\n",
       "43    4.0\n",
       "44    4.0\n",
       "45    2.0\n",
       "51    4.0\n",
       "52    4.0\n",
       "70    3.5\n",
       "71    3.5\n",
       "74    4.5\n",
       "75    4.5\n",
       "88    5.0\n",
       "Name: Nesting Score, dtype: float64"
      ]
     },
     "execution_count": 254,
     "metadata": {},
     "output_type": "execute_result"
    }
   ],
   "source": [
    "nest_05['Nesting Score'][(nest_05['Dose (mg/Kg)']==0.5)&(nest_05['Genotype']=='WT')& (nest_05['Tx']=='Saline')]"
   ]
  },
  {
   "cell_type": "code",
   "execution_count": 421,
   "metadata": {},
   "outputs": [
    {
     "data": {
      "text/html": [
       "<div>\n",
       "<style scoped>\n",
       "    .dataframe tbody tr th:only-of-type {\n",
       "        vertical-align: middle;\n",
       "    }\n",
       "\n",
       "    .dataframe tbody tr th {\n",
       "        vertical-align: top;\n",
       "    }\n",
       "\n",
       "    .dataframe thead th {\n",
       "        text-align: right;\n",
       "    }\n",
       "</style>\n",
       "<table border=\"1\" class=\"dataframe\">\n",
       "  <thead>\n",
       "    <tr style=\"text-align: right;\">\n",
       "      <th></th>\n",
       "      <th>U-val</th>\n",
       "      <th>tail</th>\n",
       "      <th>p-val</th>\n",
       "      <th>RBC</th>\n",
       "      <th>CLES</th>\n",
       "    </tr>\n",
       "  </thead>\n",
       "  <tbody>\n",
       "    <tr>\n",
       "      <th>MWU</th>\n",
       "      <td>103.5</td>\n",
       "      <td>two-sided</td>\n",
       "      <td>0.058404</td>\n",
       "      <td>0.359133</td>\n",
       "      <td>0.582043</td>\n",
       "    </tr>\n",
       "  </tbody>\n",
       "</table>\n",
       "</div>"
      ],
      "text/plain": [
       "     U-val       tail     p-val       RBC      CLES\n",
       "MWU  103.5  two-sided  0.058404  0.359133  0.582043"
      ]
     },
     "execution_count": 421,
     "metadata": {},
     "output_type": "execute_result"
    }
   ],
   "source": [
    "mk_wt = nest_05['Nesting Score'][(nest_05['Dose (mg/Kg)']==0.5)&(nest_05['Group']=='WTMK-801')]\n",
    "sl_wt = nest_05['Nesting Score'][(nest_05['Dose (mg/Kg)']==0.5)&(nest_05['Group']=='WTSaline')].drop(45)\n",
    "pg.mwu(mk_wt, sl_wt)"
   ]
  },
  {
   "cell_type": "markdown",
   "metadata": {},
   "source": [
    "### Strong tendency on WT mice (0.5mg/kg)"
   ]
  },
  {
   "cell_type": "code",
   "execution_count": 294,
   "metadata": {},
   "outputs": [
    {
     "data": {
      "text/plain": [
       "array(['KOMK-801', 'KOSaline', 'WTMK-801', 'WTSaline'], dtype=object)"
      ]
     },
     "execution_count": 294,
     "metadata": {},
     "output_type": "execute_result"
    }
   ],
   "source": [
    "nest_05['Group'].unique()"
   ]
  },
  {
   "cell_type": "code",
   "execution_count": 295,
   "metadata": {},
   "outputs": [
    {
     "data": {
      "text/html": [
       "<div>\n",
       "<style scoped>\n",
       "    .dataframe tbody tr th:only-of-type {\n",
       "        vertical-align: middle;\n",
       "    }\n",
       "\n",
       "    .dataframe tbody tr th {\n",
       "        vertical-align: top;\n",
       "    }\n",
       "\n",
       "    .dataframe thead th {\n",
       "        text-align: right;\n",
       "    }\n",
       "</style>\n",
       "<table border=\"1\" class=\"dataframe\">\n",
       "  <thead>\n",
       "    <tr style=\"text-align: right;\">\n",
       "      <th></th>\n",
       "      <th>W</th>\n",
       "      <th>pval</th>\n",
       "      <th>normal</th>\n",
       "    </tr>\n",
       "  </thead>\n",
       "  <tbody>\n",
       "    <tr>\n",
       "      <th>KOSaline</th>\n",
       "      <td>0.830775</td>\n",
       "      <td>0.000163</td>\n",
       "      <td>False</td>\n",
       "    </tr>\n",
       "    <tr>\n",
       "      <th>WTSaline</th>\n",
       "      <td>0.809589</td>\n",
       "      <td>0.001205</td>\n",
       "      <td>False</td>\n",
       "    </tr>\n",
       "    <tr>\n",
       "      <th>KOMK-801</th>\n",
       "      <td>0.860853</td>\n",
       "      <td>0.010126</td>\n",
       "      <td>False</td>\n",
       "    </tr>\n",
       "    <tr>\n",
       "      <th>WTMK-801</th>\n",
       "      <td>0.825289</td>\n",
       "      <td>0.004606</td>\n",
       "      <td>False</td>\n",
       "    </tr>\n",
       "  </tbody>\n",
       "</table>\n",
       "</div>"
      ],
      "text/plain": [
       "                 W      pval  normal\n",
       "KOSaline  0.830775  0.000163   False\n",
       "WTSaline  0.809589  0.001205   False\n",
       "KOMK-801  0.860853  0.010126   False\n",
       "WTMK-801  0.825289  0.004606   False"
      ]
     },
     "execution_count": 295,
     "metadata": {},
     "output_type": "execute_result"
    }
   ],
   "source": [
    "pg.normality(data= nest_05[nest_05['Dose (mg/Kg)']==0.5], dv='Nesting Score', group='Group')"
   ]
  },
  {
   "cell_type": "code",
   "execution_count": 296,
   "metadata": {},
   "outputs": [
    {
     "data": {
      "text/html": [
       "<div>\n",
       "<style scoped>\n",
       "    .dataframe tbody tr th:only-of-type {\n",
       "        vertical-align: middle;\n",
       "    }\n",
       "\n",
       "    .dataframe tbody tr th {\n",
       "        vertical-align: top;\n",
       "    }\n",
       "\n",
       "    .dataframe thead th {\n",
       "        text-align: right;\n",
       "    }\n",
       "</style>\n",
       "<table border=\"1\" class=\"dataframe\">\n",
       "  <thead>\n",
       "    <tr style=\"text-align: right;\">\n",
       "      <th></th>\n",
       "      <th>W</th>\n",
       "      <th>pval</th>\n",
       "      <th>equal_var</th>\n",
       "    </tr>\n",
       "  </thead>\n",
       "  <tbody>\n",
       "    <tr>\n",
       "      <th>levene</th>\n",
       "      <td>0.067853</td>\n",
       "      <td>0.79606</td>\n",
       "      <td>True</td>\n",
       "    </tr>\n",
       "  </tbody>\n",
       "</table>\n",
       "</div>"
      ],
      "text/plain": [
       "               W     pval  equal_var\n",
       "levene  0.067853  0.79606       True"
      ]
     },
     "execution_count": 296,
     "metadata": {},
     "output_type": "execute_result"
    }
   ],
   "source": [
    "pg.homoscedasticity(data= nest_r[nest_r['Dose (mg/Kg)']==0.5], dv='Nesting Score', group='Group')"
   ]
  },
  {
   "cell_type": "code",
   "execution_count": 297,
   "metadata": {},
   "outputs": [
    {
     "data": {
      "text/html": [
       "<div>\n",
       "<style scoped>\n",
       "    .dataframe tbody tr th:only-of-type {\n",
       "        vertical-align: middle;\n",
       "    }\n",
       "\n",
       "    .dataframe tbody tr th {\n",
       "        vertical-align: top;\n",
       "    }\n",
       "\n",
       "    .dataframe thead th {\n",
       "        text-align: right;\n",
       "    }\n",
       "</style>\n",
       "<table border=\"1\" class=\"dataframe\">\n",
       "  <thead>\n",
       "    <tr style=\"text-align: right;\">\n",
       "      <th></th>\n",
       "      <th>Source</th>\n",
       "      <th>ddof1</th>\n",
       "      <th>H</th>\n",
       "      <th>p-unc</th>\n",
       "    </tr>\n",
       "  </thead>\n",
       "  <tbody>\n",
       "    <tr>\n",
       "      <th>Kruskal</th>\n",
       "      <td>Group</td>\n",
       "      <td>1</td>\n",
       "      <td>0.724812</td>\n",
       "      <td>0.39457</td>\n",
       "    </tr>\n",
       "  </tbody>\n",
       "</table>\n",
       "</div>"
      ],
      "text/plain": [
       "        Source  ddof1         H    p-unc\n",
       "Kruskal  Group      1  0.724812  0.39457"
      ]
     },
     "execution_count": 297,
     "metadata": {},
     "output_type": "execute_result"
    }
   ],
   "source": [
    "pg.kruskal(nest_r[nest_r['Dose (mg/Kg)']==0.5], dv='Nesting Score', between='Group')"
   ]
  },
  {
   "cell_type": "markdown",
   "metadata": {},
   "source": [
    "#### NO effect over all"
   ]
  },
  {
   "cell_type": "markdown",
   "metadata": {},
   "source": [
    "## Burrowing"
   ]
  },
  {
   "cell_type": "code",
   "execution_count": 401,
   "metadata": {},
   "outputs": [],
   "source": [
    "burr_r = pd.read_csv('/Users/labc02/Documents/PDCB_data/MK-project/Burrowing.csv')"
   ]
  },
  {
   "cell_type": "code",
   "execution_count": 402,
   "metadata": {},
   "outputs": [
    {
     "data": {
      "text/plain": [
       "Index(['Sub', 'Genotype', 'UR', 'Sex', 'Tx', 'Dose (mg/Kg)', 'Initial weight',\n",
       "       'Baseline (2 h)', 'Baseline (12 h)', 'Test (2 h)', 'Test (12 h)',\n",
       "       '% Baseline (2 h)', '% Baseline (12 h)', '% Test (2 h)',\n",
       "       '% Test (12 h)'],\n",
       "      dtype='object')"
      ]
     },
     "execution_count": 402,
     "metadata": {},
     "output_type": "execute_result"
    }
   ],
   "source": [
    "burr_r.columns"
   ]
  },
  {
   "cell_type": "code",
   "execution_count": 403,
   "metadata": {},
   "outputs": [],
   "source": [
    "burr_r = burr_r[['Sub', 'Genotype', 'UR', 'Sex', 'Tx', 'Dose (mg/Kg)', 'Test (12 h)', '% Test (12 h)']]"
   ]
  },
  {
   "cell_type": "code",
   "execution_count": 404,
   "metadata": {},
   "outputs": [],
   "source": [
    "burr_r.dropna(how = 'any', inplace = True)"
   ]
  },
  {
   "cell_type": "code",
   "execution_count": 405,
   "metadata": {},
   "outputs": [],
   "source": [
    "burr_r['Tx'] = burr_r['Tx'].str.rstrip()"
   ]
  },
  {
   "cell_type": "code",
   "execution_count": 406,
   "metadata": {},
   "outputs": [
    {
     "data": {
      "text/plain": [
       "array(['MK-801', 'Saline', 'Naive'], dtype=object)"
      ]
     },
     "execution_count": 406,
     "metadata": {},
     "output_type": "execute_result"
    }
   ],
   "source": [
    "burr_r['Tx'].unique()"
   ]
  },
  {
   "cell_type": "code",
   "execution_count": 407,
   "metadata": {},
   "outputs": [
    {
     "data": {
      "text/plain": [
       "Genotype  Tx      Dose (mg/Kg)\n",
       "HE        MK-801  1.0              6\n",
       "          Saline  1.0              6\n",
       "KO        MK-801  0.5             16\n",
       "                  1.0              3\n",
       "          Saline  0.5             11\n",
       "                  1.0             20\n",
       "WT        MK-801  0.5             13\n",
       "                  1.0              8\n",
       "          Naive   0.0              2\n",
       "          Saline  0.5              9\n",
       "                  1.0             11\n",
       "Name: Sub, dtype: int64"
      ]
     },
     "execution_count": 407,
     "metadata": {},
     "output_type": "execute_result"
    }
   ],
   "source": [
    "burr_r.groupby(['Genotype', 'Tx', 'Dose (mg/Kg)'])['Sub'].count()"
   ]
  },
  {
   "cell_type": "code",
   "execution_count": 410,
   "metadata": {
    "collapsed": true,
    "jupyter": {
     "outputs_hidden": true
    }
   },
   "outputs": [
    {
     "data": {
      "text/plain": [
       "0      188.89\n",
       "1      277.68\n",
       "2       51.73\n",
       "3      191.10\n",
       "4       46.49\n",
       "        ...  \n",
       "100    379.75\n",
       "101    265.50\n",
       "102    242.54\n",
       "103    220.44\n",
       "104     18.90\n",
       "Name: Test (12 h), Length: 105, dtype: float64"
      ]
     },
     "execution_count": 410,
     "metadata": {},
     "output_type": "execute_result"
    }
   ],
   "source": [
    "burr_r['Test (12 h)']"
   ]
  },
  {
   "cell_type": "code",
   "execution_count": 409,
   "metadata": {},
   "outputs": [],
   "source": [
    "burr_r.loc[burr_r['Tx'] == 'Naive', 'Tx'] = 'Saline'"
   ]
  },
  {
   "cell_type": "code",
   "execution_count": 411,
   "metadata": {},
   "outputs": [],
   "source": [
    "burr_tidy = burr_r.copy()\n",
    "burr_tidy.loc[burr_tidy['Tx'] =='Saline', 'Dose (mg/Kg)'] = 1"
   ]
  },
  {
   "cell_type": "code",
   "execution_count": 412,
   "metadata": {},
   "outputs": [
    {
     "data": {
      "text/plain": [
       "Index(['Sub', 'Genotype', 'UR', 'Sex', 'Tx', 'Dose (mg/Kg)', 'Test (12 h)',\n",
       "       '% Test (12 h)'],\n",
       "      dtype='object')"
      ]
     },
     "execution_count": 412,
     "metadata": {},
     "output_type": "execute_result"
    }
   ],
   "source": [
    "burr_tidy.columns"
   ]
  },
  {
   "cell_type": "code",
   "execution_count": 419,
   "metadata": {},
   "outputs": [
    {
     "data": {
      "text/plain": [
       "Genotype  Tx      Dose (mg/Kg)\n",
       "HE        MK-801  1.0              6\n",
       "          Saline  1.0              6\n",
       "KO        MK-801  0.5             16\n",
       "                  1.0              3\n",
       "          Saline  1.0             31\n",
       "WT        MK-801  0.5             13\n",
       "                  1.0              8\n",
       "          Saline  1.0             22\n",
       "Name: Sub, dtype: int64"
      ]
     },
     "execution_count": 419,
     "metadata": {},
     "output_type": "execute_result"
    }
   ],
   "source": [
    "burr_tidy.groupby(['Genotype', 'Tx', 'Dose (mg/Kg)'])['Sub'].count()"
   ]
  },
  {
   "cell_type": "code",
   "execution_count": 451,
   "metadata": {},
   "outputs": [
    {
     "data": {
      "text/plain": [
       "<matplotlib.legend.Legend at 0x12287afa0>"
      ]
     },
     "execution_count": 451,
     "metadata": {},
     "output_type": "execute_result"
    },
    {
     "data": {
      "image/png": "[encoded data removed]",
      "text/plain": [
       "<Figure size 432x288 with 1 Axes>"
      ]
     },
     "metadata": {
      "needs_background": "light"
     },
     "output_type": "display_data"
    }
   ],
   "source": [
    "sns.boxplot(data=burr_tidy[burr_tidy['Dose (mg/Kg)']==1], x='Tx', y='% Test (12 h)', hue='Genotype', hue_order = ['KO', 'WT', 'HE'], showmeans=True, meanprops={'marker':'+', 'markeredgecolor':'k'}, width=0.3, palette=['forestgreen', 'royalblue', 'gold'])\n",
    "plt.title('Burrowing 1mg/kg')\n",
    "plt.ylabel('% Burrowed')\n",
    "plt.legend(loc=4)\n"
   ]
  },
  {
   "cell_type": "markdown",
   "metadata": {},
   "source": [
    "### Effect of genotype on burrowing"
   ]
  },
  {
   "cell_type": "code",
   "execution_count": 435,
   "metadata": {},
   "outputs": [
    {
     "data": {
      "text/plain": [
       "array([45, 48, 57])"
      ]
     },
     "execution_count": 435,
     "metadata": {},
     "output_type": "execute_result"
    }
   ],
   "source": [
    "# outlier detection\n",
    "out = pg.madmedianrule(burr_tidy[(burr_tidy['Genotype']=='WT') & (burr_tidy['Tx'] == 'Saline')]['% Test (12 h)'])\n",
    "idx = burr_tidy[(burr_tidy['Genotype']=='WT') & (burr_tidy['Tx'] == 'Saline')]['% Test (12 h)'].index.values\n",
    "outs = idx[out]\n",
    "outs"
   ]
  },
  {
   "cell_type": "code",
   "execution_count": 444,
   "metadata": {},
   "outputs": [],
   "source": [
    "burr_tidy.drop(outs, inplace = True)"
   ]
  },
  {
   "cell_type": "code",
   "execution_count": 467,
   "metadata": {},
   "outputs": [],
   "source": [
    "burr_tidy['Group'] = burr_tidy['Genotype']+'_'+burr_tidy['Tx']"
   ]
  },
  {
   "cell_type": "code",
   "execution_count": 446,
   "metadata": {},
   "outputs": [
    {
     "data": {
      "text/plain": [
       "Text(0, 0.5, '% Burrowed')"
      ]
     },
     "execution_count": 446,
     "metadata": {},
     "output_type": "execute_result"
    },
    {
     "data": {
      "image/png": "[encoded data removed]",
      "text/plain": [
       "<Figure size 432x288 with 1 Axes>"
      ]
     },
     "metadata": {
      "needs_background": "light"
     },
     "output_type": "display_data"
    }
   ],
   "source": [
    "sns.boxplot(data=burr_tidy[(burr_tidy['Tx']=='Saline')], x='Genotype', y='% Test (12 h)', showmeans=True, meanprops={'marker':'+', 'markeredgecolor':'k'}, width=0.3, palette=['forestgreen', 'royalblue', 'gold'])\n",
    "plt.title('Burrowing (Saline)')\n",
    "plt.ylabel('% Burrowed')"
   ]
  },
  {
   "cell_type": "code",
   "execution_count": 425,
   "metadata": {},
   "outputs": [
    {
     "ename": "ValueError",
     "evalue": "skewtest is not valid with less than 8 samples; 6 samples were given.",
     "output_type": "error",
     "traceback": [
      "\u001b[0;31m---------------------------------------------------------------------------\u001b[0m",
      "\u001b[0;31mValueError\u001b[0m                                Traceback (most recent call last)",
      "\u001b[0;32m<ipython-input-425-65359c4f29d5>\u001b[0m in \u001b[0;36m<module>\u001b[0;34m\u001b[0m\n\u001b[0;32m----> 1\u001b[0;31m \u001b[0mpg\u001b[0m\u001b[0;34m.\u001b[0m\u001b[0mnormality\u001b[0m\u001b[0;34m(\u001b[0m\u001b[0mdata\u001b[0m\u001b[0;34m=\u001b[0m\u001b[0mburr_tidy\u001b[0m\u001b[0;34m[\u001b[0m\u001b[0;34m(\u001b[0m\u001b[0mburr_tidy\u001b[0m\u001b[0;34m[\u001b[0m\u001b[0;34m'Tx'\u001b[0m\u001b[0;34m]\u001b[0m\u001b[0;34m==\u001b[0m\u001b[0;34m'Saline'\u001b[0m\u001b[0;34m)\u001b[0m\u001b[0;34m&\u001b[0m\u001b[0;34m(\u001b[0m\u001b[0mburr_tidy\u001b[0m\u001b[0;34m[\u001b[0m\u001b[0;34m'Dose (mg/Kg)'\u001b[0m\u001b[0;34m]\u001b[0m\u001b[0;34m==\u001b[0m\u001b[0;36m1\u001b[0m\u001b[0;34m)\u001b[0m\u001b[0;34m]\u001b[0m\u001b[0;34m,\u001b[0m \u001b[0mdv\u001b[0m\u001b[0;34m=\u001b[0m\u001b[0;34m'% Test (12 h)'\u001b[0m\u001b[0;34m,\u001b[0m \u001b[0mgroup\u001b[0m\u001b[0;34m=\u001b[0m\u001b[0;34m'Genotype'\u001b[0m\u001b[0;34m,\u001b[0m \u001b[0mmethod\u001b[0m \u001b[0;34m=\u001b[0m \u001b[0;34m'normaltest'\u001b[0m\u001b[0;34m)\u001b[0m\u001b[0;34m\u001b[0m\u001b[0;34m\u001b[0m\u001b[0m\n\u001b[0m",
      "\u001b[0;32m/opt/miniconda3/envs/databs/lib/python3.8/site-packages/pingouin/distribution.py\u001b[0m in \u001b[0;36mnormality\u001b[0;34m(data, dv, group, method, alpha)\u001b[0m\n\u001b[1;32m    214\u001b[0m             \u001b[0mcols\u001b[0m \u001b[0;34m=\u001b[0m \u001b[0mgrp\u001b[0m\u001b[0;34m.\u001b[0m\u001b[0mgroups\u001b[0m\u001b[0;34m.\u001b[0m\u001b[0mkeys\u001b[0m\u001b[0;34m(\u001b[0m\u001b[0;34m)\u001b[0m\u001b[0;34m\u001b[0m\u001b[0;34m\u001b[0m\u001b[0m\n\u001b[1;32m    215\u001b[0m             \u001b[0;32mfor\u001b[0m \u001b[0m_\u001b[0m\u001b[0;34m,\u001b[0m \u001b[0mtmp\u001b[0m \u001b[0;32min\u001b[0m \u001b[0mgrp\u001b[0m\u001b[0;34m:\u001b[0m\u001b[0;34m\u001b[0m\u001b[0;34m\u001b[0m\u001b[0m\n\u001b[0;32m--> 216\u001b[0;31m                 stats = stats.append(normality(tmp[dv].to_numpy(),\n\u001b[0m\u001b[1;32m    217\u001b[0m                                                \u001b[0mmethod\u001b[0m\u001b[0;34m=\u001b[0m\u001b[0mmethod\u001b[0m\u001b[0;34m,\u001b[0m\u001b[0;34m\u001b[0m\u001b[0;34m\u001b[0m\u001b[0m\n\u001b[1;32m    218\u001b[0m                                                alpha=alpha))\n",
      "\u001b[0;32m/opt/miniconda3/envs/databs/lib/python3.8/site-packages/pingouin/distribution.py\u001b[0m in \u001b[0;36mnormality\u001b[0;34m(data, dv, group, method, alpha)\u001b[0m\n\u001b[1;32m    193\u001b[0m         \u001b[0;32massert\u001b[0m \u001b[0mdata\u001b[0m\u001b[0;34m.\u001b[0m\u001b[0msize\u001b[0m \u001b[0;34m>\u001b[0m \u001b[0;36m3\u001b[0m\u001b[0;34m,\u001b[0m \u001b[0;34m'Data must have more than 3 samples.'\u001b[0m\u001b[0;34m\u001b[0m\u001b[0;34m\u001b[0m\u001b[0m\n\u001b[1;32m    194\u001b[0m         \u001b[0mdata\u001b[0m \u001b[0;34m=\u001b[0m \u001b[0mremove_na\u001b[0m\u001b[0;34m(\u001b[0m\u001b[0mdata\u001b[0m\u001b[0;34m)\u001b[0m\u001b[0;34m\u001b[0m\u001b[0;34m\u001b[0m\u001b[0m\n\u001b[0;32m--> 195\u001b[0;31m         \u001b[0mstats\u001b[0m \u001b[0;34m=\u001b[0m \u001b[0mpd\u001b[0m\u001b[0;34m.\u001b[0m\u001b[0mDataFrame\u001b[0m\u001b[0;34m(\u001b[0m\u001b[0mfunc\u001b[0m\u001b[0;34m(\u001b[0m\u001b[0mdata\u001b[0m\u001b[0;34m)\u001b[0m\u001b[0;34m)\u001b[0m\u001b[0;34m.\u001b[0m\u001b[0mT\u001b[0m\u001b[0;34m\u001b[0m\u001b[0;34m\u001b[0m\u001b[0m\n\u001b[0m\u001b[1;32m    196\u001b[0m         \u001b[0mstats\u001b[0m\u001b[0;34m.\u001b[0m\u001b[0mcolumns\u001b[0m \u001b[0;34m=\u001b[0m \u001b[0mcol_names\u001b[0m\u001b[0;34m\u001b[0m\u001b[0;34m\u001b[0m\u001b[0m\n\u001b[1;32m    197\u001b[0m         \u001b[0mstats\u001b[0m\u001b[0;34m[\u001b[0m\u001b[0;34m'normal'\u001b[0m\u001b[0;34m]\u001b[0m \u001b[0;34m=\u001b[0m \u001b[0mnp\u001b[0m\u001b[0;34m.\u001b[0m\u001b[0mwhere\u001b[0m\u001b[0;34m(\u001b[0m\u001b[0mstats\u001b[0m\u001b[0;34m[\u001b[0m\u001b[0;34m'pval'\u001b[0m\u001b[0;34m]\u001b[0m \u001b[0;34m>\u001b[0m \u001b[0malpha\u001b[0m\u001b[0;34m,\u001b[0m \u001b[0;32mTrue\u001b[0m\u001b[0;34m,\u001b[0m \u001b[0;32mFalse\u001b[0m\u001b[0;34m)\u001b[0m\u001b[0;34m\u001b[0m\u001b[0;34m\u001b[0m\u001b[0m\n",
      "\u001b[0;32m/opt/miniconda3/envs/databs/lib/python3.8/site-packages/scipy/stats/stats.py\u001b[0m in \u001b[0;36mnormaltest\u001b[0;34m(a, axis, nan_policy)\u001b[0m\n\u001b[1;32m   1631\u001b[0m         \u001b[0;32mreturn\u001b[0m \u001b[0mmstats_basic\u001b[0m\u001b[0;34m.\u001b[0m\u001b[0mnormaltest\u001b[0m\u001b[0;34m(\u001b[0m\u001b[0ma\u001b[0m\u001b[0;34m,\u001b[0m \u001b[0maxis\u001b[0m\u001b[0;34m)\u001b[0m\u001b[0;34m\u001b[0m\u001b[0;34m\u001b[0m\u001b[0m\n\u001b[1;32m   1632\u001b[0m \u001b[0;34m\u001b[0m\u001b[0m\n\u001b[0;32m-> 1633\u001b[0;31m     \u001b[0ms\u001b[0m\u001b[0;34m,\u001b[0m \u001b[0m_\u001b[0m \u001b[0;34m=\u001b[0m \u001b[0mskewtest\u001b[0m\u001b[0;34m(\u001b[0m\u001b[0ma\u001b[0m\u001b[0;34m,\u001b[0m \u001b[0maxis\u001b[0m\u001b[0;34m)\u001b[0m\u001b[0;34m\u001b[0m\u001b[0;34m\u001b[0m\u001b[0m\n\u001b[0m\u001b[1;32m   1634\u001b[0m     \u001b[0mk\u001b[0m\u001b[0;34m,\u001b[0m \u001b[0m_\u001b[0m \u001b[0;34m=\u001b[0m \u001b[0mkurtosistest\u001b[0m\u001b[0;34m(\u001b[0m\u001b[0ma\u001b[0m\u001b[0;34m,\u001b[0m \u001b[0maxis\u001b[0m\u001b[0;34m)\u001b[0m\u001b[0;34m\u001b[0m\u001b[0;34m\u001b[0m\u001b[0m\n\u001b[1;32m   1635\u001b[0m     \u001b[0mk2\u001b[0m \u001b[0;34m=\u001b[0m \u001b[0ms\u001b[0m\u001b[0;34m*\u001b[0m\u001b[0ms\u001b[0m \u001b[0;34m+\u001b[0m \u001b[0mk\u001b[0m\u001b[0;34m*\u001b[0m\u001b[0mk\u001b[0m\u001b[0;34m\u001b[0m\u001b[0;34m\u001b[0m\u001b[0m\n",
      "\u001b[0;32m/opt/miniconda3/envs/databs/lib/python3.8/site-packages/scipy/stats/stats.py\u001b[0m in \u001b[0;36mskewtest\u001b[0;34m(a, axis, nan_policy)\u001b[0m\n\u001b[1;32m   1449\u001b[0m     \u001b[0mn\u001b[0m \u001b[0;34m=\u001b[0m \u001b[0ma\u001b[0m\u001b[0;34m.\u001b[0m\u001b[0mshape\u001b[0m\u001b[0;34m[\u001b[0m\u001b[0maxis\u001b[0m\u001b[0;34m]\u001b[0m\u001b[0;34m\u001b[0m\u001b[0;34m\u001b[0m\u001b[0m\n\u001b[1;32m   1450\u001b[0m     \u001b[0;32mif\u001b[0m \u001b[0mn\u001b[0m \u001b[0;34m<\u001b[0m \u001b[0;36m8\u001b[0m\u001b[0;34m:\u001b[0m\u001b[0;34m\u001b[0m\u001b[0;34m\u001b[0m\u001b[0m\n\u001b[0;32m-> 1451\u001b[0;31m         raise ValueError(\n\u001b[0m\u001b[1;32m   1452\u001b[0m             \u001b[0;34m\"skewtest is not valid with less than 8 samples; %i samples\"\u001b[0m\u001b[0;34m\u001b[0m\u001b[0;34m\u001b[0m\u001b[0m\n\u001b[1;32m   1453\u001b[0m             \" were given.\" % int(n))\n",
      "\u001b[0;31mValueError\u001b[0m: skewtest is not valid with less than 8 samples; 6 samples were given."
     ]
    }
   ],
   "source": [
    "pg.normality(data=burr_tidy[(burr_tidy['Tx']=='Saline')&(burr_tidy['Dose (mg/Kg)']==1)], dv='% Test (12 h)', group='Genotype', method = 'normaltest')"
   ]
  },
  {
   "cell_type": "markdown",
   "metadata": {},
   "source": [
    "### Genotype Effect in Burrowing"
   ]
  },
  {
   "cell_type": "code",
   "execution_count": 441,
   "metadata": {
    "collapsed": true,
    "jupyter": {
     "outputs_hidden": true
    }
   },
   "outputs": [
    {
     "name": "stderr",
     "output_type": "stream",
     "text": [
      "/opt/miniconda3/envs/databs/lib/python3.8/site-packages/scipy/stats/stats.py:1534: UserWarning: kurtosistest only valid for n>=20 ... continuing anyway, n=19\n",
      "  warnings.warn(\"kurtosistest only valid for n>=20 ... continuing \"\n"
     ]
    },
    {
     "data": {
      "text/html": [
       "<div>\n",
       "<style scoped>\n",
       "    .dataframe tbody tr th:only-of-type {\n",
       "        vertical-align: middle;\n",
       "    }\n",
       "\n",
       "    .dataframe tbody tr th {\n",
       "        vertical-align: top;\n",
       "    }\n",
       "\n",
       "    .dataframe thead th {\n",
       "        text-align: right;\n",
       "    }\n",
       "</style>\n",
       "<table border=\"1\" class=\"dataframe\">\n",
       "  <thead>\n",
       "    <tr style=\"text-align: right;\">\n",
       "      <th></th>\n",
       "      <th>W</th>\n",
       "      <th>pval</th>\n",
       "      <th>normal</th>\n",
       "    </tr>\n",
       "  </thead>\n",
       "  <tbody>\n",
       "    <tr>\n",
       "      <th>% Test (12 h)</th>\n",
       "      <td>1.979861</td>\n",
       "      <td>0.371603</td>\n",
       "      <td>True</td>\n",
       "    </tr>\n",
       "  </tbody>\n",
       "</table>\n",
       "</div>"
      ],
      "text/plain": [
       "                      W      pval  normal\n",
       "% Test (12 h)  1.979861  0.371603    True"
      ]
     },
     "execution_count": 441,
     "metadata": {},
     "output_type": "execute_result"
    }
   ],
   "source": [
    "pg.normality(WT_S, method = 'normaltest')"
   ]
  },
  {
   "cell_type": "code",
   "execution_count": 442,
   "metadata": {},
   "outputs": [
    {
     "data": {
      "text/html": [
       "<div>\n",
       "<style scoped>\n",
       "    .dataframe tbody tr th:only-of-type {\n",
       "        vertical-align: middle;\n",
       "    }\n",
       "\n",
       "    .dataframe tbody tr th {\n",
       "        vertical-align: top;\n",
       "    }\n",
       "\n",
       "    .dataframe thead th {\n",
       "        text-align: right;\n",
       "    }\n",
       "</style>\n",
       "<table border=\"1\" class=\"dataframe\">\n",
       "  <thead>\n",
       "    <tr style=\"text-align: right;\">\n",
       "      <th></th>\n",
       "      <th>W</th>\n",
       "      <th>pval</th>\n",
       "      <th>normal</th>\n",
       "    </tr>\n",
       "  </thead>\n",
       "  <tbody>\n",
       "    <tr>\n",
       "      <th>% Test (12 h)</th>\n",
       "      <td>11.186248</td>\n",
       "      <td>0.003723</td>\n",
       "      <td>False</td>\n",
       "    </tr>\n",
       "  </tbody>\n",
       "</table>\n",
       "</div>"
      ],
      "text/plain": [
       "                       W      pval  normal\n",
       "% Test (12 h)  11.186248  0.003723   False"
      ]
     },
     "execution_count": 442,
     "metadata": {},
     "output_type": "execute_result"
    }
   ],
   "source": [
    "pg.normality(KO_S, method = 'normaltest')"
   ]
  },
  {
   "cell_type": "markdown",
   "metadata": {},
   "source": [
    "### WT vs KO Comparison"
   ]
  },
  {
   "cell_type": "code",
   "execution_count": 1,
   "metadata": {},
   "outputs": [
    {
     "ename": "NameError",
     "evalue": "name 'burr_tidy' is not defined",
     "output_type": "error",
     "traceback": [
      "\u001b[0;31m---------------------------------------------------------------------------\u001b[0m",
      "\u001b[0;31mNameError\u001b[0m                                 Traceback (most recent call last)",
      "\u001b[0;32m<ipython-input-1-6ca27c5836a1>\u001b[0m in \u001b[0;36m<module>\u001b[0;34m\u001b[0m\n\u001b[0;32m----> 1\u001b[0;31m \u001b[0mWT_S\u001b[0m \u001b[0;34m=\u001b[0m \u001b[0mburr_tidy\u001b[0m\u001b[0;34m[\u001b[0m\u001b[0;34m(\u001b[0m\u001b[0mburr_tidy\u001b[0m\u001b[0;34m[\u001b[0m\u001b[0;34m'Tx'\u001b[0m\u001b[0;34m]\u001b[0m\u001b[0;34m==\u001b[0m\u001b[0;34m'Saline'\u001b[0m\u001b[0;34m)\u001b[0m\u001b[0;34m&\u001b[0m \u001b[0;34m(\u001b[0m\u001b[0mburr_tidy\u001b[0m\u001b[0;34m[\u001b[0m\u001b[0;34m'Genotype'\u001b[0m\u001b[0;34m]\u001b[0m\u001b[0;34m==\u001b[0m\u001b[0;34m'WT'\u001b[0m\u001b[0;34m)\u001b[0m\u001b[0;34m]\u001b[0m\u001b[0;34m[\u001b[0m\u001b[0;34m'Test (12 h)'\u001b[0m\u001b[0;34m]\u001b[0m\u001b[0;34m\u001b[0m\u001b[0;34m\u001b[0m\u001b[0m\n\u001b[0m\u001b[1;32m      2\u001b[0m \u001b[0mKO_S\u001b[0m \u001b[0;34m=\u001b[0m \u001b[0mburr_tidy\u001b[0m\u001b[0;34m[\u001b[0m\u001b[0;34m(\u001b[0m\u001b[0mburr_tidy\u001b[0m\u001b[0;34m[\u001b[0m\u001b[0;34m'Tx'\u001b[0m\u001b[0;34m]\u001b[0m\u001b[0;34m==\u001b[0m\u001b[0;34m'Saline'\u001b[0m\u001b[0;34m)\u001b[0m\u001b[0;34m&\u001b[0m \u001b[0;34m(\u001b[0m\u001b[0mburr_tidy\u001b[0m\u001b[0;34m[\u001b[0m\u001b[0;34m'Genotype'\u001b[0m\u001b[0;34m]\u001b[0m\u001b[0;34m==\u001b[0m\u001b[0;34m'KO'\u001b[0m\u001b[0;34m)\u001b[0m\u001b[0;34m]\u001b[0m\u001b[0;34m[\u001b[0m\u001b[0;34m'Test (12 h)'\u001b[0m\u001b[0;34m]\u001b[0m\u001b[0;34m\u001b[0m\u001b[0;34m\u001b[0m\u001b[0m\n\u001b[1;32m      3\u001b[0m \u001b[0mpg\u001b[0m\u001b[0;34m.\u001b[0m\u001b[0mmwu\u001b[0m\u001b[0;34m(\u001b[0m\u001b[0mWT_S\u001b[0m\u001b[0;34m,\u001b[0m \u001b[0mKO_S\u001b[0m\u001b[0;34m)\u001b[0m\u001b[0;34m\u001b[0m\u001b[0;34m\u001b[0m\u001b[0m\n",
      "\u001b[0;31mNameError\u001b[0m: name 'burr_tidy' is not defined"
     ]
    }
   ],
   "source": [
    "WT_S = burr_tidy[(burr_tidy['Tx']=='Saline')& (burr_tidy['Genotype']=='WT')]['Test (12 h)']\n",
    "KO_S = burr_tidy[(burr_tidy['Tx']=='Saline')& (burr_tidy['Genotype']=='KO')]['Test (12 h)']\n",
    "pg.mwu(WT_S, KO_S)"
   ]
  },
  {
   "cell_type": "markdown",
   "metadata": {},
   "source": [
    "### All Groups"
   ]
  },
  {
   "cell_type": "code",
   "execution_count": 468,
   "metadata": {},
   "outputs": [
    {
     "data": {
      "text/html": [
       "<div>\n",
       "<style scoped>\n",
       "    .dataframe tbody tr th:only-of-type {\n",
       "        vertical-align: middle;\n",
       "    }\n",
       "\n",
       "    .dataframe tbody tr th {\n",
       "        vertical-align: top;\n",
       "    }\n",
       "\n",
       "    .dataframe thead th {\n",
       "        text-align: right;\n",
       "    }\n",
       "</style>\n",
       "<table border=\"1\" class=\"dataframe\">\n",
       "  <thead>\n",
       "    <tr style=\"text-align: right;\">\n",
       "      <th></th>\n",
       "      <th>Source</th>\n",
       "      <th>ddof1</th>\n",
       "      <th>H</th>\n",
       "      <th>p-unc</th>\n",
       "    </tr>\n",
       "  </thead>\n",
       "  <tbody>\n",
       "    <tr>\n",
       "      <th>Kruskal</th>\n",
       "      <td>Group</td>\n",
       "      <td>5</td>\n",
       "      <td>22.18458</td>\n",
       "      <td>0.000483</td>\n",
       "    </tr>\n",
       "  </tbody>\n",
       "</table>\n",
       "</div>"
      ],
      "text/plain": [
       "        Source  ddof1         H     p-unc\n",
       "Kruskal  Group      5  22.18458  0.000483"
      ]
     },
     "execution_count": 468,
     "metadata": {},
     "output_type": "execute_result"
    }
   ],
   "source": [
    "pg.kruskal(burr_tidy, dv = '% Test (12 h)', between = 'Group')"
   ]
  },
  {
   "cell_type": "markdown",
   "metadata": {},
   "source": [
    "#### Genotype significantly affects burrowing"
   ]
  },
  {
   "cell_type": "markdown",
   "metadata": {},
   "source": [
    "### Effect of MK-801 1mg/kg on WT mice"
   ]
  },
  {
   "cell_type": "code",
   "execution_count": 448,
   "metadata": {},
   "outputs": [
    {
     "name": "stderr",
     "output_type": "stream",
     "text": [
      "/opt/miniconda3/envs/databs/lib/python3.8/site-packages/scipy/stats/stats.py:1534: UserWarning: kurtosistest only valid for n>=20 ... continuing anyway, n=8\n",
      "  warnings.warn(\"kurtosistest only valid for n>=20 ... continuing \"\n",
      "/opt/miniconda3/envs/databs/lib/python3.8/site-packages/scipy/stats/stats.py:1534: UserWarning: kurtosistest only valid for n>=20 ... continuing anyway, n=19\n",
      "  warnings.warn(\"kurtosistest only valid for n>=20 ... continuing \"\n"
     ]
    },
    {
     "data": {
      "text/html": [
       "<div>\n",
       "<style scoped>\n",
       "    .dataframe tbody tr th:only-of-type {\n",
       "        vertical-align: middle;\n",
       "    }\n",
       "\n",
       "    .dataframe tbody tr th {\n",
       "        vertical-align: top;\n",
       "    }\n",
       "\n",
       "    .dataframe thead th {\n",
       "        text-align: right;\n",
       "    }\n",
       "</style>\n",
       "<table border=\"1\" class=\"dataframe\">\n",
       "  <thead>\n",
       "    <tr style=\"text-align: right;\">\n",
       "      <th></th>\n",
       "      <th>W</th>\n",
       "      <th>pval</th>\n",
       "      <th>normal</th>\n",
       "    </tr>\n",
       "  </thead>\n",
       "  <tbody>\n",
       "    <tr>\n",
       "      <th>MK-801</th>\n",
       "      <td>5.255871</td>\n",
       "      <td>0.072227</td>\n",
       "      <td>True</td>\n",
       "    </tr>\n",
       "    <tr>\n",
       "      <th>Saline</th>\n",
       "      <td>1.979861</td>\n",
       "      <td>0.371603</td>\n",
       "      <td>True</td>\n",
       "    </tr>\n",
       "  </tbody>\n",
       "</table>\n",
       "</div>"
      ],
      "text/plain": [
       "               W      pval  normal\n",
       "MK-801  5.255871  0.072227    True\n",
       "Saline  1.979861  0.371603    True"
      ]
     },
     "execution_count": 448,
     "metadata": {},
     "output_type": "execute_result"
    }
   ],
   "source": [
    "pg.normality(data = burr_tidy[(burr_tidy['Dose (mg/Kg)']==1)&(burr_tidy['Genotype']=='WT')], dv='% Test (12 h)', group='Tx', method = 'normaltest')"
   ]
  },
  {
   "cell_type": "code",
   "execution_count": 449,
   "metadata": {},
   "outputs": [],
   "source": [
    "WT_S = burr_tidy['% Test (12 h)'][(burr_tidy['Dose (mg/Kg)']==1)&(burr_tidy['Genotype']=='WT')&(burr_tidy['Tx']== 'Saline')]\n",
    "WT_MK = burr_tidy['% Test (12 h)'][(burr_tidy['Dose (mg/Kg)']==1)&(burr_tidy['Genotype']=='WT')&(burr_tidy['Tx']== 'MK-801')]"
   ]
  },
  {
   "cell_type": "code",
   "execution_count": 450,
   "metadata": {},
   "outputs": [
    {
     "data": {
      "text/html": [
       "<div>\n",
       "<style scoped>\n",
       "    .dataframe tbody tr th:only-of-type {\n",
       "        vertical-align: middle;\n",
       "    }\n",
       "\n",
       "    .dataframe tbody tr th {\n",
       "        vertical-align: top;\n",
       "    }\n",
       "\n",
       "    .dataframe thead th {\n",
       "        text-align: right;\n",
       "    }\n",
       "</style>\n",
       "<table border=\"1\" class=\"dataframe\">\n",
       "  <thead>\n",
       "    <tr style=\"text-align: right;\">\n",
       "      <th></th>\n",
       "      <th>T</th>\n",
       "      <th>dof</th>\n",
       "      <th>tail</th>\n",
       "      <th>p-val</th>\n",
       "      <th>CI95%</th>\n",
       "      <th>cohen-d</th>\n",
       "      <th>BF10</th>\n",
       "      <th>power</th>\n",
       "    </tr>\n",
       "  </thead>\n",
       "  <tbody>\n",
       "    <tr>\n",
       "      <th>T-test</th>\n",
       "      <td>1.63712</td>\n",
       "      <td>8.293884</td>\n",
       "      <td>two-sided</td>\n",
       "      <td>0.138901</td>\n",
       "      <td>[-6.7, 40.22]</td>\n",
       "      <td>0.917077</td>\n",
       "      <td>0.976</td>\n",
       "      <td>0.552528</td>\n",
       "    </tr>\n",
       "  </tbody>\n",
       "</table>\n",
       "</div>"
      ],
      "text/plain": [
       "              T       dof       tail     p-val          CI95%   cohen-d  \\\n",
       "T-test  1.63712  8.293884  two-sided  0.138901  [-6.7, 40.22]  0.917077   \n",
       "\n",
       "         BF10     power  \n",
       "T-test  0.976  0.552528  "
      ]
     },
     "execution_count": 450,
     "metadata": {},
     "output_type": "execute_result"
    }
   ],
   "source": [
    "pg.ttest(WT_S, WT_MK)"
   ]
  },
  {
   "cell_type": "code",
   "execution_count": 477,
   "metadata": {},
   "outputs": [
    {
     "data": {
      "text/plain": [
       "Text(0, 0.5, '% Burrowed')"
      ]
     },
     "execution_count": 477,
     "metadata": {},
     "output_type": "execute_result"
    },
    {
     "data": {
      "image/png": "[encoded data removed]",
      "text/plain": [
       "<Figure size 432x288 with 1 Axes>"
      ]
     },
     "metadata": {
      "needs_background": "light"
     },
     "output_type": "display_data"
    }
   ],
   "source": [
    "sns.boxplot(data=burr_tidy[(burr_tidy['Genotype']=='WT')], x='Tx', y='% Test (12 h)', showmeans=True, meanprops={'marker':'+', 'markeredgecolor':'k'}, width=0.3)\n",
    "plt.title('Burrowing 1mg/kg on WT')\n",
    "plt.ylabel('% Burrowed')"
   ]
  },
  {
   "cell_type": "markdown",
   "metadata": {},
   "source": [
    "#### no net effect but very low power"
   ]
  },
  {
   "cell_type": "markdown",
   "metadata": {},
   "source": [
    "### MK-801 0.5mg/kg"
   ]
  },
  {
   "cell_type": "code",
   "execution_count": 454,
   "metadata": {},
   "outputs": [],
   "source": [
    "burr_05 = burr_tidy.copy()"
   ]
  },
  {
   "cell_type": "code",
   "execution_count": 456,
   "metadata": {},
   "outputs": [],
   "source": [
    "burr_05.loc[burr_05['Tx'] =='Saline', 'Dose (mg/Kg)'] = 0.5\n",
    "burr_05 = burr_05[burr_05['Genotype']!= 'HE']"
   ]
  },
  {
   "cell_type": "code",
   "execution_count": 472,
   "metadata": {},
   "outputs": [],
   "source": [
    "burr_05['Group'] = burr_05['Genotype']+'_'+burr_05['Tx']"
   ]
  },
  {
   "cell_type": "code",
   "execution_count": 459,
   "metadata": {},
   "outputs": [
    {
     "data": {
      "text/plain": [
       "<matplotlib.legend.Legend at 0x123e5f8b0>"
      ]
     },
     "execution_count": 459,
     "metadata": {},
     "output_type": "execute_result"
    },
    {
     "data": {
      "image/png": "[encoded data removed]",
      "text/plain": [
       "<Figure size 432x288 with 1 Axes>"
      ]
     },
     "metadata": {
      "needs_background": "light"
     },
     "output_type": "display_data"
    }
   ],
   "source": [
    "sns.boxplot(data=burr_05[burr_05['Dose (mg/Kg)']==0.5], x='Tx', y='% Test (12 h)', hue='Genotype', showmeans=True, meanprops={'marker':'+', 'markeredgecolor':'k'}, width=0.3, palette=['forestgreen', 'royalblue'])\n",
    "plt.title('Burrowing 0.5mg/kg')\n",
    "plt.ylabel('% Burrowed')\n",
    "plt.legend(loc=4)\n"
   ]
  },
  {
   "cell_type": "code",
   "execution_count": 469,
   "metadata": {},
   "outputs": [],
   "source": [
    "WT_S = burr_05['% Test (12 h)'][(burr_05['Dose (mg/Kg)']==0.5)&(burr_05['Genotype']=='WT')&(burr_05['Tx']== 'Saline')]\n",
    "WT_MK = burr_05['% Test (12 h)'][(burr_05['Dose (mg/Kg)']==0.5)&(burr_05['Genotype']=='WT')&(burr_05['Tx']== 'MK-801')]\n",
    "KO_S = burr_05['% Test (12 h)'][(burr_05['Dose (mg/Kg)']==0.5)&(burr_05['Genotype']=='KO')&(burr_05['Tx']== 'Saline')]\n",
    "KO_MK = burr_05['% Test (12 h)'][(burr_05['Dose (mg/Kg)']==0.5)&(burr_05['Genotype']=='KO')&(burr_05['Tx']== 'MK-801')]\n"
   ]
  },
  {
   "cell_type": "code",
   "execution_count": 464,
   "metadata": {},
   "outputs": [
    {
     "name": "stderr",
     "output_type": "stream",
     "text": [
      "/opt/miniconda3/envs/databs/lib/python3.8/site-packages/scipy/stats/stats.py:1534: UserWarning: kurtosistest only valid for n>=20 ... continuing anyway, n=19\n",
      "  warnings.warn(\"kurtosistest only valid for n>=20 ... continuing \"\n"
     ]
    },
    {
     "data": {
      "text/html": [
       "<div>\n",
       "<style scoped>\n",
       "    .dataframe tbody tr th:only-of-type {\n",
       "        vertical-align: middle;\n",
       "    }\n",
       "\n",
       "    .dataframe tbody tr th {\n",
       "        vertical-align: top;\n",
       "    }\n",
       "\n",
       "    .dataframe thead th {\n",
       "        text-align: right;\n",
       "    }\n",
       "</style>\n",
       "<table border=\"1\" class=\"dataframe\">\n",
       "  <thead>\n",
       "    <tr style=\"text-align: right;\">\n",
       "      <th></th>\n",
       "      <th>W</th>\n",
       "      <th>pval</th>\n",
       "      <th>normal</th>\n",
       "    </tr>\n",
       "  </thead>\n",
       "  <tbody>\n",
       "    <tr>\n",
       "      <th>% Test (12 h)</th>\n",
       "      <td>1.979861</td>\n",
       "      <td>0.371603</td>\n",
       "      <td>True</td>\n",
       "    </tr>\n",
       "  </tbody>\n",
       "</table>\n",
       "</div>"
      ],
      "text/plain": [
       "                      W      pval  normal\n",
       "% Test (12 h)  1.979861  0.371603    True"
      ]
     },
     "execution_count": 464,
     "metadata": {},
     "output_type": "execute_result"
    }
   ],
   "source": [
    "pg.normality(WT_S, method = 'normaltest')"
   ]
  },
  {
   "cell_type": "code",
   "execution_count": 465,
   "metadata": {},
   "outputs": [
    {
     "name": "stderr",
     "output_type": "stream",
     "text": [
      "/opt/miniconda3/envs/databs/lib/python3.8/site-packages/scipy/stats/stats.py:1534: UserWarning: kurtosistest only valid for n>=20 ... continuing anyway, n=13\n",
      "  warnings.warn(\"kurtosistest only valid for n>=20 ... continuing \"\n"
     ]
    },
    {
     "data": {
      "text/html": [
       "<div>\n",
       "<style scoped>\n",
       "    .dataframe tbody tr th:only-of-type {\n",
       "        vertical-align: middle;\n",
       "    }\n",
       "\n",
       "    .dataframe tbody tr th {\n",
       "        vertical-align: top;\n",
       "    }\n",
       "\n",
       "    .dataframe thead th {\n",
       "        text-align: right;\n",
       "    }\n",
       "</style>\n",
       "<table border=\"1\" class=\"dataframe\">\n",
       "  <thead>\n",
       "    <tr style=\"text-align: right;\">\n",
       "      <th></th>\n",
       "      <th>W</th>\n",
       "      <th>pval</th>\n",
       "      <th>normal</th>\n",
       "    </tr>\n",
       "  </thead>\n",
       "  <tbody>\n",
       "    <tr>\n",
       "      <th>% Test (12 h)</th>\n",
       "      <td>2.082997</td>\n",
       "      <td>0.352925</td>\n",
       "      <td>True</td>\n",
       "    </tr>\n",
       "  </tbody>\n",
       "</table>\n",
       "</div>"
      ],
      "text/plain": [
       "                      W      pval  normal\n",
       "% Test (12 h)  2.082997  0.352925    True"
      ]
     },
     "execution_count": 465,
     "metadata": {},
     "output_type": "execute_result"
    }
   ],
   "source": [
    "pg.normality(WT_MK, method = 'normaltest')"
   ]
  },
  {
   "cell_type": "code",
   "execution_count": 470,
   "metadata": {},
   "outputs": [
    {
     "name": "stderr",
     "output_type": "stream",
     "text": [
      "/opt/miniconda3/envs/databs/lib/python3.8/site-packages/scipy/stats/stats.py:1534: UserWarning: kurtosistest only valid for n>=20 ... continuing anyway, n=16\n",
      "  warnings.warn(\"kurtosistest only valid for n>=20 ... continuing \"\n"
     ]
    },
    {
     "data": {
      "text/html": [
       "<div>\n",
       "<style scoped>\n",
       "    .dataframe tbody tr th:only-of-type {\n",
       "        vertical-align: middle;\n",
       "    }\n",
       "\n",
       "    .dataframe tbody tr th {\n",
       "        vertical-align: top;\n",
       "    }\n",
       "\n",
       "    .dataframe thead th {\n",
       "        text-align: right;\n",
       "    }\n",
       "</style>\n",
       "<table border=\"1\" class=\"dataframe\">\n",
       "  <thead>\n",
       "    <tr style=\"text-align: right;\">\n",
       "      <th></th>\n",
       "      <th>W</th>\n",
       "      <th>pval</th>\n",
       "      <th>normal</th>\n",
       "    </tr>\n",
       "  </thead>\n",
       "  <tbody>\n",
       "    <tr>\n",
       "      <th>% Test (12 h)</th>\n",
       "      <td>3.665428</td>\n",
       "      <td>0.159979</td>\n",
       "      <td>True</td>\n",
       "    </tr>\n",
       "  </tbody>\n",
       "</table>\n",
       "</div>"
      ],
      "text/plain": [
       "                      W      pval  normal\n",
       "% Test (12 h)  3.665428  0.159979    True"
      ]
     },
     "execution_count": 470,
     "metadata": {},
     "output_type": "execute_result"
    }
   ],
   "source": [
    "pg.normality(KO_MK, method = 'normaltest')"
   ]
  },
  {
   "cell_type": "code",
   "execution_count": 471,
   "metadata": {},
   "outputs": [
    {
     "data": {
      "text/html": [
       "<div>\n",
       "<style scoped>\n",
       "    .dataframe tbody tr th:only-of-type {\n",
       "        vertical-align: middle;\n",
       "    }\n",
       "\n",
       "    .dataframe tbody tr th {\n",
       "        vertical-align: top;\n",
       "    }\n",
       "\n",
       "    .dataframe thead th {\n",
       "        text-align: right;\n",
       "    }\n",
       "</style>\n",
       "<table border=\"1\" class=\"dataframe\">\n",
       "  <thead>\n",
       "    <tr style=\"text-align: right;\">\n",
       "      <th></th>\n",
       "      <th>W</th>\n",
       "      <th>pval</th>\n",
       "      <th>normal</th>\n",
       "    </tr>\n",
       "  </thead>\n",
       "  <tbody>\n",
       "    <tr>\n",
       "      <th>% Test (12 h)</th>\n",
       "      <td>11.186248</td>\n",
       "      <td>0.003723</td>\n",
       "      <td>False</td>\n",
       "    </tr>\n",
       "  </tbody>\n",
       "</table>\n",
       "</div>"
      ],
      "text/plain": [
       "                       W      pval  normal\n",
       "% Test (12 h)  11.186248  0.003723   False"
      ]
     },
     "execution_count": 471,
     "metadata": {},
     "output_type": "execute_result"
    }
   ],
   "source": [
    "pg.normality(KO_S, method = 'normaltest')"
   ]
  },
  {
   "cell_type": "markdown",
   "metadata": {},
   "source": [
    "##### MK-801 0.5mg/kg on WT mice"
   ]
  },
  {
   "cell_type": "code",
   "execution_count": 466,
   "metadata": {},
   "outputs": [
    {
     "data": {
      "text/html": [
       "<div>\n",
       "<style scoped>\n",
       "    .dataframe tbody tr th:only-of-type {\n",
       "        vertical-align: middle;\n",
       "    }\n",
       "\n",
       "    .dataframe tbody tr th {\n",
       "        vertical-align: top;\n",
       "    }\n",
       "\n",
       "    .dataframe thead th {\n",
       "        text-align: right;\n",
       "    }\n",
       "</style>\n",
       "<table border=\"1\" class=\"dataframe\">\n",
       "  <thead>\n",
       "    <tr style=\"text-align: right;\">\n",
       "      <th></th>\n",
       "      <th>T</th>\n",
       "      <th>dof</th>\n",
       "      <th>tail</th>\n",
       "      <th>p-val</th>\n",
       "      <th>CI95%</th>\n",
       "      <th>cohen-d</th>\n",
       "      <th>BF10</th>\n",
       "      <th>power</th>\n",
       "    </tr>\n",
       "  </thead>\n",
       "  <tbody>\n",
       "    <tr>\n",
       "      <th>T-test</th>\n",
       "      <td>3.675181</td>\n",
       "      <td>14.363825</td>\n",
       "      <td>two-sided</td>\n",
       "      <td>0.002402</td>\n",
       "      <td>[15.17, 57.44]</td>\n",
       "      <td>1.532528</td>\n",
       "      <td>32.826</td>\n",
       "      <td>0.984534</td>\n",
       "    </tr>\n",
       "  </tbody>\n",
       "</table>\n",
       "</div>"
      ],
      "text/plain": [
       "               T        dof       tail     p-val           CI95%   cohen-d  \\\n",
       "T-test  3.675181  14.363825  two-sided  0.002402  [15.17, 57.44]  1.532528   \n",
       "\n",
       "          BF10     power  \n",
       "T-test  32.826  0.984534  "
      ]
     },
     "execution_count": 466,
     "metadata": {},
     "output_type": "execute_result"
    }
   ],
   "source": [
    "pg.ttest(WT_S, WT_MK)"
   ]
  },
  {
   "cell_type": "markdown",
   "metadata": {},
   "source": [
    "#### All groups"
   ]
  },
  {
   "cell_type": "code",
   "execution_count": 475,
   "metadata": {},
   "outputs": [
    {
     "data": {
      "text/html": [
       "<div>\n",
       "<style scoped>\n",
       "    .dataframe tbody tr th:only-of-type {\n",
       "        vertical-align: middle;\n",
       "    }\n",
       "\n",
       "    .dataframe tbody tr th {\n",
       "        vertical-align: top;\n",
       "    }\n",
       "\n",
       "    .dataframe thead th {\n",
       "        text-align: right;\n",
       "    }\n",
       "</style>\n",
       "<table border=\"1\" class=\"dataframe\">\n",
       "  <thead>\n",
       "    <tr style=\"text-align: right;\">\n",
       "      <th></th>\n",
       "      <th>Source</th>\n",
       "      <th>ddof1</th>\n",
       "      <th>ddof2</th>\n",
       "      <th>F</th>\n",
       "      <th>p-unc</th>\n",
       "      <th>np2</th>\n",
       "    </tr>\n",
       "  </thead>\n",
       "  <tbody>\n",
       "    <tr>\n",
       "      <th>0</th>\n",
       "      <td>Group</td>\n",
       "      <td>3</td>\n",
       "      <td>43.378522</td>\n",
       "      <td>14.767719</td>\n",
       "      <td>9.116953e-07</td>\n",
       "      <td>0.21652</td>\n",
       "    </tr>\n",
       "  </tbody>\n",
       "</table>\n",
       "</div>"
      ],
      "text/plain": [
       "  Source  ddof1      ddof2          F         p-unc      np2\n",
       "0  Group      3  43.378522  14.767719  9.116953e-07  0.21652"
      ]
     },
     "execution_count": 475,
     "metadata": {},
     "output_type": "execute_result"
    }
   ],
   "source": [
    "pg.welch_anova(burr_05, dv = '% Test (12 h)', between = 'Group')"
   ]
  },
  {
   "cell_type": "code",
   "execution_count": 476,
   "metadata": {},
   "outputs": [
    {
     "data": {
      "text/html": [
       "<div>\n",
       "<style scoped>\n",
       "    .dataframe tbody tr th:only-of-type {\n",
       "        vertical-align: middle;\n",
       "    }\n",
       "\n",
       "    .dataframe tbody tr th {\n",
       "        vertical-align: top;\n",
       "    }\n",
       "\n",
       "    .dataframe thead th {\n",
       "        text-align: right;\n",
       "    }\n",
       "</style>\n",
       "<table border=\"1\" class=\"dataframe\">\n",
       "  <thead>\n",
       "    <tr style=\"text-align: right;\">\n",
       "      <th></th>\n",
       "      <th>A</th>\n",
       "      <th>B</th>\n",
       "      <th>mean(A)</th>\n",
       "      <th>mean(B)</th>\n",
       "      <th>diff</th>\n",
       "      <th>se</th>\n",
       "      <th>tail</th>\n",
       "      <th>T</th>\n",
       "      <th>df</th>\n",
       "      <th>pval</th>\n",
       "      <th>hedges</th>\n",
       "    </tr>\n",
       "  </thead>\n",
       "  <tbody>\n",
       "    <tr>\n",
       "      <th>0</th>\n",
       "      <td>KO_MK-801</td>\n",
       "      <td>KO_Saline</td>\n",
       "      <td>33.796184</td>\n",
       "      <td>55.884758</td>\n",
       "      <td>-22.088574</td>\n",
       "      <td>6.257218</td>\n",
       "      <td>two-sided</td>\n",
       "      <td>-2.496154</td>\n",
       "      <td>38.030256</td>\n",
       "      <td>0.065135</td>\n",
       "      <td>-0.715852</td>\n",
       "    </tr>\n",
       "    <tr>\n",
       "      <th>1</th>\n",
       "      <td>KO_MK-801</td>\n",
       "      <td>WT_MK-801</td>\n",
       "      <td>33.796184</td>\n",
       "      <td>48.493452</td>\n",
       "      <td>-14.697268</td>\n",
       "      <td>7.039631</td>\n",
       "      <td>two-sided</td>\n",
       "      <td>-1.476290</td>\n",
       "      <td>37.948311</td>\n",
       "      <td>0.453747</td>\n",
       "      <td>-0.458142</td>\n",
       "    </tr>\n",
       "    <tr>\n",
       "      <th>2</th>\n",
       "      <td>KO_MK-801</td>\n",
       "      <td>WT_Saline</td>\n",
       "      <td>33.796184</td>\n",
       "      <td>77.350263</td>\n",
       "      <td>-43.554079</td>\n",
       "      <td>5.359349</td>\n",
       "      <td>two-sided</td>\n",
       "      <td>-5.746479</td>\n",
       "      <td>24.203661</td>\n",
       "      <td>0.001000</td>\n",
       "      <td>-1.825291</td>\n",
       "    </tr>\n",
       "    <tr>\n",
       "      <th>3</th>\n",
       "      <td>KO_Saline</td>\n",
       "      <td>WT_MK-801</td>\n",
       "      <td>55.884758</td>\n",
       "      <td>48.493452</td>\n",
       "      <td>7.391306</td>\n",
       "      <td>6.319382</td>\n",
       "      <td>two-sided</td>\n",
       "      <td>0.827050</td>\n",
       "      <td>40.952996</td>\n",
       "      <td>0.819506</td>\n",
       "      <td>0.230221</td>\n",
       "    </tr>\n",
       "    <tr>\n",
       "      <th>4</th>\n",
       "      <td>KO_Saline</td>\n",
       "      <td>WT_Saline</td>\n",
       "      <td>55.884758</td>\n",
       "      <td>77.350263</td>\n",
       "      <td>-21.465505</td>\n",
       "      <td>4.370447</td>\n",
       "      <td>two-sided</td>\n",
       "      <td>-3.472964</td>\n",
       "      <td>43.895981</td>\n",
       "      <td>0.003519</td>\n",
       "      <td>-0.995983</td>\n",
       "    </tr>\n",
       "    <tr>\n",
       "      <th>5</th>\n",
       "      <td>WT_MK-801</td>\n",
       "      <td>WT_Saline</td>\n",
       "      <td>48.493452</td>\n",
       "      <td>77.350263</td>\n",
       "      <td>-28.856811</td>\n",
       "      <td>5.431798</td>\n",
       "      <td>two-sided</td>\n",
       "      <td>-3.756555</td>\n",
       "      <td>26.606200</td>\n",
       "      <td>0.001478</td>\n",
       "      <td>-1.165784</td>\n",
       "    </tr>\n",
       "  </tbody>\n",
       "</table>\n",
       "</div>"
      ],
      "text/plain": [
       "           A          B    mean(A)    mean(B)       diff        se       tail  \\\n",
       "0  KO_MK-801  KO_Saline  33.796184  55.884758 -22.088574  6.257218  two-sided   \n",
       "1  KO_MK-801  WT_MK-801  33.796184  48.493452 -14.697268  7.039631  two-sided   \n",
       "2  KO_MK-801  WT_Saline  33.796184  77.350263 -43.554079  5.359349  two-sided   \n",
       "3  KO_Saline  WT_MK-801  55.884758  48.493452   7.391306  6.319382  two-sided   \n",
       "4  KO_Saline  WT_Saline  55.884758  77.350263 -21.465505  4.370447  two-sided   \n",
       "5  WT_MK-801  WT_Saline  48.493452  77.350263 -28.856811  5.431798  two-sided   \n",
       "\n",
       "          T         df      pval    hedges  \n",
       "0 -2.496154  38.030256  0.065135 -0.715852  \n",
       "1 -1.476290  37.948311  0.453747 -0.458142  \n",
       "2 -5.746479  24.203661  0.001000 -1.825291  \n",
       "3  0.827050  40.952996  0.819506  0.230221  \n",
       "4 -3.472964  43.895981  0.003519 -0.995983  \n",
       "5 -3.756555  26.606200  0.001478 -1.165784  "
      ]
     },
     "execution_count": 476,
     "metadata": {},
     "output_type": "execute_result"
    }
   ],
   "source": [
    "pg.pairwise_gameshowell(burr_05, dv = '% Test (12 h)', between = 'Group')"
   ]
  },
  {
   "cell_type": "code",
   "execution_count": null,
   "metadata": {},
   "outputs": [],
   "source": []
  }
 ],
 "metadata": {
  "kernelspec": {
   "display_name": "Python 3",
   "language": "python",
   "name": "python3"
  },
  "language_info": {
   "codemirror_mode": {
    "name": "ipython",
    "version": 3
   },
   "file_extension": ".py",
   "mimetype": "text/x-python",
   "name": "python",
   "nbconvert_exporter": "python",
   "pygments_lexer": "ipython3",
   "version": "3.8.2"
  }
 },
 "nbformat": 4,
 "nbformat_minor": 4
}
