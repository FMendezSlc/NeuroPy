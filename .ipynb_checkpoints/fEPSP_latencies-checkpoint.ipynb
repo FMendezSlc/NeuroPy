{
 "cells": [
  {
   "cell_type": "code",
   "execution_count": 1,
   "metadata": {},
   "outputs": [],
   "source": [
    "import pandas as pd\n",
    "import numpy as np"
   ]
  },
  {
   "cell_type": "code",
   "execution_count": 7,
   "metadata": {},
   "outputs": [],
   "source": [
    "ko_ac = pd.Series([1.48, 2.90, 1.07, 2.77, 3.02])\n",
    "ko_mf = pd.Series([2.90, 1.97, 1.95, 1.13, 1.17])\n",
    "wt_ac = pd.Series([1.89, 2.26, 2.20, 2.88, 2.20])\n",
    "wt_mf = pd.Series([1.52, 1.58, 2.13, 1.67, 2.31, 1.69])"
   ]
  },
  {
   "cell_type": "code",
   "execution_count": 8,
   "metadata": {},
   "outputs": [
    {
     "name": "stdout",
     "output_type": "stream",
     "text": [
      "2.248\n",
      "0.4044181004851291\n",
      "2.286\n",
      "0.1620370328042327\n"
     ]
    }
   ],
   "source": [
    "print(ko_ac.mean())\n",
    "print(ko_ac.sem())\n",
    "print(wt_ac.mean())\n",
    "print(wt_ac.sem())\n"
   ]
  },
  {
   "cell_type": "code",
   "execution_count": 9,
   "metadata": {},
   "outputs": [
    {
     "name": "stdout",
     "output_type": "stream",
     "text": [
      "1.8240000000000003\n",
      "0.3243701589234127\n",
      "1.8166666666666667\n",
      "0.13205217823942844\n"
     ]
    }
   ],
   "source": [
    "print(ko_mf.mean())\n",
    "print(ko_mf.sem())\n",
    "print(wt_mf.mean())\n",
    "print(wt_mf.sem())"
   ]
  },
  {
   "cell_type": "code",
   "execution_count": null,
   "metadata": {},
   "outputs": [],
   "source": []
  }
 ],
 "metadata": {
  "kernelspec": {
   "display_name": "Python 3",
   "language": "python",
   "name": "python3"
  },
  "language_info": {
   "codemirror_mode": {
    "name": "ipython",
    "version": 3
   },
   "file_extension": ".py",
   "mimetype": "text/x-python",
   "name": "python",
   "nbconvert_exporter": "python",
   "pygments_lexer": "ipython3",
   "version": "3.8.2"
  }
 },
 "nbformat": 4,
 "nbformat_minor": 4
}
