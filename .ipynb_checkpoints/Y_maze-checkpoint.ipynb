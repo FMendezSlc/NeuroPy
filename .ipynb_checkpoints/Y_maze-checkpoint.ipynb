{
 "cells": [
  {
   "cell_type": "markdown",
   "metadata": {},
   "source": [
    "#### Y maze analysis"
   ]
  },
  {
   "cell_type": "code",
   "execution_count": 1,
   "metadata": {},
   "outputs": [
    {
     "name": "stderr",
     "output_type": "stream",
     "text": [
      "/opt/miniconda3/envs/databs/lib/python3.8/site-packages/outdated/utils.py:14: OutdatedPackageWarning: The package outdated is out of date. Your version is 0.2.0, the latest is 0.2.1.\n",
      "Set the environment variable OUTDATED_IGNORE=1 to disable these warnings.\n",
      "  return warn(\n",
      "/opt/miniconda3/envs/databs/lib/python3.8/site-packages/outdated/utils.py:14: OutdatedPackageWarning: The package pingouin is out of date. Your version is 0.3.6, the latest is 0.5.1.\n",
      "Set the environment variable OUTDATED_IGNORE=1 to disable these warnings.\n",
      "  return warn(\n"
     ]
    }
   ],
   "source": [
    "import pandas as pd\n",
    "import matplotlib.pyplot as plt\n",
    "import seaborn as sns\n",
    "import pingouin as pg"
   ]
  },
  {
   "cell_type": "code",
   "execution_count": 2,
   "metadata": {},
   "outputs": [],
   "source": [
    "y_data = pd.read_csv('/Users/labc02/Documents/PDCB_data/MK-project/Y_data.csv')"
   ]
  },
  {
   "cell_type": "code",
   "execution_count": 3,
   "metadata": {},
   "outputs": [
    {
     "data": {
      "text/plain": [
       "Index(['Subject Name', 'Subject Gender', 'Alternation Triplet',\n",
       "       'Alternation Triplet (%)', 'Total Arm Entries', 'Total Distance',\n",
       "       'Resting Time in Zone (Seconds) - Total', 'Mean Speed in Zone - Total',\n",
       "       'Max Speed in Zone - Total', 'CCW Rotation Number Total',\n",
       "       'CW Rotation Number Total'],\n",
       "      dtype='object')"
      ]
     },
     "execution_count": 3,
     "metadata": {},
     "output_type": "execute_result"
    }
   ],
   "source": [
    "y_data.columns"
   ]
  },
  {
   "cell_type": "code",
   "execution_count": 4,
   "metadata": {},
   "outputs": [
    {
     "data": {
      "text/plain": [
       "153"
      ]
     },
     "execution_count": 4,
     "metadata": {},
     "output_type": "execute_result"
    }
   ],
   "source": [
    "y_data['Subject Name'].unique().size"
   ]
  },
  {
   "cell_type": "code",
   "execution_count": 5,
   "metadata": {},
   "outputs": [
    {
     "data": {
      "text/html": [
       "<div>\n",
       "<style scoped>\n",
       "    .dataframe tbody tr th:only-of-type {\n",
       "        vertical-align: middle;\n",
       "    }\n",
       "\n",
       "    .dataframe tbody tr th {\n",
       "        vertical-align: top;\n",
       "    }\n",
       "\n",
       "    .dataframe thead th {\n",
       "        text-align: right;\n",
       "    }\n",
       "</style>\n",
       "<table border=\"1\" class=\"dataframe\">\n",
       "  <thead>\n",
       "    <tr style=\"text-align: right;\">\n",
       "      <th></th>\n",
       "      <th>Subject Name</th>\n",
       "      <th>Subject Gender</th>\n",
       "      <th>Alternation Triplet</th>\n",
       "      <th>Alternation Triplet (%)</th>\n",
       "      <th>Total Arm Entries</th>\n",
       "      <th>Total Distance</th>\n",
       "      <th>Resting Time in Zone (Seconds) - Total</th>\n",
       "      <th>Mean Speed in Zone - Total</th>\n",
       "      <th>Max Speed in Zone - Total</th>\n",
       "      <th>CCW Rotation Number Total</th>\n",
       "      <th>CW Rotation Number Total</th>\n",
       "    </tr>\n",
       "  </thead>\n",
       "  <tbody>\n",
       "  </tbody>\n",
       "</table>\n",
       "</div>"
      ],
      "text/plain": [
       "Empty DataFrame\n",
       "Columns: [Subject Name, Subject Gender, Alternation Triplet, Alternation Triplet (%), Total Arm Entries, Total Distance, Resting Time in Zone (Seconds) - Total, Mean Speed in Zone - Total, Max Speed in Zone - Total, CCW Rotation Number Total, CW Rotation Number Total]\n",
       "Index: []"
      ]
     },
     "execution_count": 5,
     "metadata": {},
     "output_type": "execute_result"
    }
   ],
   "source": [
    "y_data[y_data.duplicated(subset = 'Subject Name', keep = False)]"
   ]
  },
  {
   "cell_type": "code",
   "execution_count": 6,
   "metadata": {},
   "outputs": [],
   "source": [
    "meta = y_data['Subject Name'].str.split('_', expand = True)"
   ]
  },
  {
   "cell_type": "code",
   "execution_count": 12,
   "metadata": {},
   "outputs": [
    {
     "data": {
      "text/plain": [
       "0     KO5.7\n",
       "1       Fem\n",
       "2    MK-0.5\n",
       "3         2\n",
       "Name: 0, dtype: object"
      ]
     },
     "execution_count": 12,
     "metadata": {},
     "output_type": "execute_result"
    }
   ],
   "source": [
    "meta.iloc[0]"
   ]
  },
  {
   "cell_type": "code",
   "execution_count": 13,
   "metadata": {},
   "outputs": [],
   "source": [
    "y_data['Tx'] = meta.loc[:, 2]"
   ]
  },
  {
   "cell_type": "code",
   "execution_count": 14,
   "metadata": {},
   "outputs": [],
   "source": [
    "y_data['Genotype'] = meta.loc[:, 0].str[0:2]"
   ]
  },
  {
   "cell_type": "code",
   "execution_count": 15,
   "metadata": {},
   "outputs": [
    {
     "data": {
      "text/plain": [
       "array(['MK-0.5', 'Pl', 'MK-1'], dtype=object)"
      ]
     },
     "execution_count": 15,
     "metadata": {},
     "output_type": "execute_result"
    }
   ],
   "source": [
    "y_data['Tx'].unique()"
   ]
  },
  {
   "cell_type": "code",
   "execution_count": 17,
   "metadata": {},
   "outputs": [],
   "source": [
    "y_data['Group'] = y_data['Genotype']+'_'+y_data['Tx']"
   ]
  },
  {
   "cell_type": "code",
   "execution_count": 18,
   "metadata": {},
   "outputs": [
    {
     "data": {
      "text/plain": [
       "Genotype  Tx    \n",
       "KO        MK-0.5    45\n",
       "          MK-1       2\n",
       "          Pl        52\n",
       "WT        MK-0.5    14\n",
       "          MK-1      10\n",
       "          Pl        30\n",
       "Name: Subject Name, dtype: int64"
      ]
     },
     "execution_count": 18,
     "metadata": {},
     "output_type": "execute_result"
    }
   ],
   "source": [
    "y_data.groupby(['Genotype', 'Tx'])['Subject Name'].count()"
   ]
  },
  {
   "cell_type": "code",
   "execution_count": 22,
   "metadata": {},
   "outputs": [
    {
     "data": {
      "text/plain": [
       "array(['KO_MK-0.5', 'KO_Pl', 'KO_MK-1', 'WT_Pl', 'WT_MK-0.5', 'WT_MK-1'],\n",
       "      dtype=object)"
      ]
     },
     "execution_count": 22,
     "metadata": {},
     "output_type": "execute_result"
    }
   ],
   "source": [
    "y_data['Group'].unique()"
   ]
  },
  {
   "cell_type": "markdown",
   "metadata": {},
   "source": [
    "### Total Distance"
   ]
  },
  {
   "cell_type": "code",
   "execution_count": 31,
   "metadata": {},
   "outputs": [
    {
     "data": {
      "image/png": "[encoded data removed]",
      "text/plain": [
       "<Figure size 180x288 with 1 Axes>"
      ]
     },
     "metadata": {
      "needs_background": "light"
     },
     "output_type": "display_data"
    }
   ],
   "source": [
    "dist_wt = plt.figure(figsize=(2.5, 4))\n",
    "sns.boxplot(data = y_data[y_data['Genotype']=='WT'], x = 'Tx', y = 'Total Distance', hue='Group', hue_order = ['WT_Pl', 'WT_MK-0.5', 'WT_MK-1'], palette=['royalblue', 'steelblue', 'cornflowerblue'])\n",
    "sns.despine()\n"
   ]
  },
  {
   "cell_type": "code",
   "execution_count": 32,
   "metadata": {},
   "outputs": [
    {
     "data": {
      "text/html": [
       "<div>\n",
       "<style scoped>\n",
       "    .dataframe tbody tr th:only-of-type {\n",
       "        vertical-align: middle;\n",
       "    }\n",
       "\n",
       "    .dataframe tbody tr th {\n",
       "        vertical-align: top;\n",
       "    }\n",
       "\n",
       "    .dataframe thead th {\n",
       "        text-align: right;\n",
       "    }\n",
       "</style>\n",
       "<table border=\"1\" class=\"dataframe\">\n",
       "  <thead>\n",
       "    <tr style=\"text-align: right;\">\n",
       "      <th></th>\n",
       "      <th>W</th>\n",
       "      <th>pval</th>\n",
       "      <th>normal</th>\n",
       "    </tr>\n",
       "  </thead>\n",
       "  <tbody>\n",
       "    <tr>\n",
       "      <th>KO_MK-0.5</th>\n",
       "      <td>0.861183</td>\n",
       "      <td>0.000072</td>\n",
       "      <td>False</td>\n",
       "    </tr>\n",
       "    <tr>\n",
       "      <th>KO_Pl</th>\n",
       "      <td>0.911546</td>\n",
       "      <td>0.000925</td>\n",
       "      <td>False</td>\n",
       "    </tr>\n",
       "    <tr>\n",
       "      <th>WT_Pl</th>\n",
       "      <td>0.934726</td>\n",
       "      <td>0.065640</td>\n",
       "      <td>True</td>\n",
       "    </tr>\n",
       "    <tr>\n",
       "      <th>WT_MK-0.5</th>\n",
       "      <td>0.972890</td>\n",
       "      <td>0.912745</td>\n",
       "      <td>True</td>\n",
       "    </tr>\n",
       "    <tr>\n",
       "      <th>WT_MK-1</th>\n",
       "      <td>0.877972</td>\n",
       "      <td>0.123669</td>\n",
       "      <td>True</td>\n",
       "    </tr>\n",
       "  </tbody>\n",
       "</table>\n",
       "</div>"
      ],
      "text/plain": [
       "                  W      pval  normal\n",
       "KO_MK-0.5  0.861183  0.000072   False\n",
       "KO_Pl      0.911546  0.000925   False\n",
       "WT_Pl      0.934726  0.065640    True\n",
       "WT_MK-0.5  0.972890  0.912745    True\n",
       "WT_MK-1    0.877972  0.123669    True"
      ]
     },
     "execution_count": 32,
     "metadata": {},
     "output_type": "execute_result"
    }
   ],
   "source": [
    "pg.normality(data=y_data[y_data['Group']!='KO_MK-1'], dv = 'Total Distance', group = 'Group')"
   ]
  },
  {
   "cell_type": "code",
   "execution_count": 33,
   "metadata": {},
   "outputs": [
    {
     "data": {
      "text/html": [
       "<div>\n",
       "<style scoped>\n",
       "    .dataframe tbody tr th:only-of-type {\n",
       "        vertical-align: middle;\n",
       "    }\n",
       "\n",
       "    .dataframe tbody tr th {\n",
       "        vertical-align: top;\n",
       "    }\n",
       "\n",
       "    .dataframe thead th {\n",
       "        text-align: right;\n",
       "    }\n",
       "</style>\n",
       "<table border=\"1\" class=\"dataframe\">\n",
       "  <thead>\n",
       "    <tr style=\"text-align: right;\">\n",
       "      <th></th>\n",
       "      <th>Source</th>\n",
       "      <th>ddof1</th>\n",
       "      <th>ddof2</th>\n",
       "      <th>F</th>\n",
       "      <th>p-unc</th>\n",
       "      <th>np2</th>\n",
       "    </tr>\n",
       "  </thead>\n",
       "  <tbody>\n",
       "    <tr>\n",
       "      <th>0</th>\n",
       "      <td>Group</td>\n",
       "      <td>2</td>\n",
       "      <td>51</td>\n",
       "      <td>0.559851</td>\n",
       "      <td>0.574765</td>\n",
       "      <td>0.021483</td>\n",
       "    </tr>\n",
       "  </tbody>\n",
       "</table>\n",
       "</div>"
      ],
      "text/plain": [
       "  Source  ddof1  ddof2         F     p-unc       np2\n",
       "0  Group      2     51  0.559851  0.574765  0.021483"
      ]
     },
     "execution_count": 33,
     "metadata": {},
     "output_type": "execute_result"
    }
   ],
   "source": [
    "pg.anova(data = y_data[y_data['Genotype']=='WT'], dv = 'Total Distance', between = 'Group')"
   ]
  },
  {
   "cell_type": "code",
   "execution_count": 44,
   "metadata": {},
   "outputs": [
    {
     "data": {
      "image/png": "[encoded data removed]",
      "text/plain": [
       "<Figure size 165.6x144 with 1 Axes>"
      ]
     },
     "metadata": {
      "needs_background": "light"
     },
     "output_type": "display_data"
    }
   ],
   "source": [
    "dist_wt_paper = plt.figure(figsize=(2.3, 2))\n",
    "ax = plt.subplot()\n",
    "sns.boxplot(data = y_data[y_data['Genotype']=='WT'], x = 'Tx', y = 'Total Distance', hue='Group', hue_order = ['WT_Pl', 'WT_MK-0.5', 'WT_MK-1'], palette=['royalblue', 'steelblue', 'cornflowerblue'], dodge=True)\n",
    "sns.stripplot(data = y_data[y_data['Genotype']=='WT'], x = 'Tx', y = 'Total Distance', hue='Group', hue_order = ['WT_Pl', 'WT_MK-0.5', 'WT_MK-1'], palette=['royalblue', 'steelblue', 'cornflowerblue'], edgecolor='silver', size=2, linewidth =0.2, dodge=True)\n",
    "plt.ylabel('Total Distance (cm)')\n",
    "labels = ['Saline', '0.5\\nmg/kg', '1\\nmg/kg']\n",
    "ax.set_xticklabels(labels)\n",
    "ax.set_xlabel=('')\n",
    "sns.despine()\n"
   ]
  },
  {
   "cell_type": "code",
   "execution_count": 45,
   "metadata": {},
   "outputs": [],
   "source": [
    "dist_wt_paper.savefig('/Users/labc02/Documents/PDCB_data/MK-project/Figures/Y_wt_dist_paper.svg')"
   ]
  },
  {
   "cell_type": "code",
   "execution_count": 46,
   "metadata": {},
   "outputs": [
    {
     "data": {
      "text/plain": [
       "[40, 82, 99, 101, 103, 111, 117, 124, 102, 115, 120, 123, 127, 128]"
      ]
     },
     "execution_count": 46,
     "metadata": {},
     "output_type": "execute_result"
    }
   ],
   "source": [
    "dist_outliers = []\n",
    "for group in y_data['Group'].unique():    \n",
    "    out = pg.madmedianrule(y_data[y_data['Group']== group]['Total Distance'])\n",
    "    idx = y_data[y_data['Group']== group]['Total Distance'].index.values\n",
    "    \n",
    "    for ii in idx[out]:\n",
    "        dist_outliers.append(ii)\n",
    "dist_outliers"
   ]
  },
  {
   "cell_type": "code",
   "execution_count": 48,
   "metadata": {},
   "outputs": [],
   "source": [
    "dist_tidy=y_data.drop(index = dist_outliers, inplace = False)"
   ]
  },
  {
   "cell_type": "code",
   "execution_count": 183,
   "metadata": {},
   "outputs": [
    {
     "data": {
      "text/plain": [
       "Genotype  Tx    \n",
       "KO        MK-0.5    37\n",
       "          MK-1       2\n",
       "          Pl        46\n",
       "WT        MK-0.5    14\n",
       "          MK-1      10\n",
       "          Pl        30\n",
       "Name: Subject Name, dtype: int64"
      ]
     },
     "execution_count": 183,
     "metadata": {},
     "output_type": "execute_result"
    }
   ],
   "source": [
    "dist_tidy.groupby(['Genotype', 'Tx'])['Subject Name'].count()"
   ]
  },
  {
   "cell_type": "code",
   "execution_count": 49,
   "metadata": {},
   "outputs": [
    {
     "data": {
      "text/html": [
       "<div>\n",
       "<style scoped>\n",
       "    .dataframe tbody tr th:only-of-type {\n",
       "        vertical-align: middle;\n",
       "    }\n",
       "\n",
       "    .dataframe tbody tr th {\n",
       "        vertical-align: top;\n",
       "    }\n",
       "\n",
       "    .dataframe thead th {\n",
       "        text-align: right;\n",
       "    }\n",
       "</style>\n",
       "<table border=\"1\" class=\"dataframe\">\n",
       "  <thead>\n",
       "    <tr style=\"text-align: right;\">\n",
       "      <th></th>\n",
       "      <th>W</th>\n",
       "      <th>pval</th>\n",
       "      <th>normal</th>\n",
       "    </tr>\n",
       "  </thead>\n",
       "  <tbody>\n",
       "    <tr>\n",
       "      <th>KO_MK-0.5</th>\n",
       "      <td>0.946834</td>\n",
       "      <td>0.076311</td>\n",
       "      <td>True</td>\n",
       "    </tr>\n",
       "    <tr>\n",
       "      <th>KO_Pl</th>\n",
       "      <td>0.915521</td>\n",
       "      <td>0.002646</td>\n",
       "      <td>False</td>\n",
       "    </tr>\n",
       "    <tr>\n",
       "      <th>WT_Pl</th>\n",
       "      <td>0.934726</td>\n",
       "      <td>0.065640</td>\n",
       "      <td>True</td>\n",
       "    </tr>\n",
       "    <tr>\n",
       "      <th>WT_MK-0.5</th>\n",
       "      <td>0.972890</td>\n",
       "      <td>0.912745</td>\n",
       "      <td>True</td>\n",
       "    </tr>\n",
       "    <tr>\n",
       "      <th>WT_MK-1</th>\n",
       "      <td>0.877972</td>\n",
       "      <td>0.123669</td>\n",
       "      <td>True</td>\n",
       "    </tr>\n",
       "  </tbody>\n",
       "</table>\n",
       "</div>"
      ],
      "text/plain": [
       "                  W      pval  normal\n",
       "KO_MK-0.5  0.946834  0.076311    True\n",
       "KO_Pl      0.915521  0.002646   False\n",
       "WT_Pl      0.934726  0.065640    True\n",
       "WT_MK-0.5  0.972890  0.912745    True\n",
       "WT_MK-1    0.877972  0.123669    True"
      ]
     },
     "execution_count": 49,
     "metadata": {},
     "output_type": "execute_result"
    }
   ],
   "source": [
    "pg.normality(data=dist_tidy[dist_tidy['Group']!='KO_MK-1'], dv = 'Total Distance', group = 'Group')"
   ]
  },
  {
   "cell_type": "code",
   "execution_count": 88,
   "metadata": {},
   "outputs": [],
   "source": [
    "dist_05 = dist_tidy[dist_tidy['Tx']!='MK-1']"
   ]
  },
  {
   "cell_type": "code",
   "execution_count": 89,
   "metadata": {},
   "outputs": [
    {
     "name": "stderr",
     "output_type": "stream",
     "text": [
      "/opt/miniconda3/envs/databs/lib/python3.8/site-packages/pandas/core/frame.py:4125: SettingWithCopyWarning: \n",
      "A value is trying to be set on a copy of a slice from a DataFrame\n",
      "\n",
      "See the caveats in the documentation: https://pandas.pydata.org/pandas-docs/stable/user_guide/indexing.html#returning-a-view-versus-a-copy\n",
      "  return super().rename(\n"
     ]
    }
   ],
   "source": [
    "dist_05.rename(columns={'Total Distance': 'Total_Distance'}, inplace=True)"
   ]
  },
  {
   "cell_type": "code",
   "execution_count": 90,
   "metadata": {},
   "outputs": [
    {
     "data": {
      "text/html": [
       "<div>\n",
       "<style scoped>\n",
       "    .dataframe tbody tr th:only-of-type {\n",
       "        vertical-align: middle;\n",
       "    }\n",
       "\n",
       "    .dataframe tbody tr th {\n",
       "        vertical-align: top;\n",
       "    }\n",
       "\n",
       "    .dataframe thead th {\n",
       "        text-align: right;\n",
       "    }\n",
       "</style>\n",
       "<table border=\"1\" class=\"dataframe\">\n",
       "  <thead>\n",
       "    <tr style=\"text-align: right;\">\n",
       "      <th></th>\n",
       "      <th>Source</th>\n",
       "      <th>SS</th>\n",
       "      <th>DF</th>\n",
       "      <th>MS</th>\n",
       "      <th>F</th>\n",
       "      <th>p-unc</th>\n",
       "      <th>np2</th>\n",
       "    </tr>\n",
       "  </thead>\n",
       "  <tbody>\n",
       "    <tr>\n",
       "      <th>0</th>\n",
       "      <td>Genotype</td>\n",
       "      <td>7.445477e+07</td>\n",
       "      <td>1.0</td>\n",
       "      <td>7.445477e+07</td>\n",
       "      <td>53.877719</td>\n",
       "      <td>2.534543e-11</td>\n",
       "      <td>0.304604</td>\n",
       "    </tr>\n",
       "    <tr>\n",
       "      <th>1</th>\n",
       "      <td>Tx</td>\n",
       "      <td>8.928573e+06</td>\n",
       "      <td>1.0</td>\n",
       "      <td>8.928573e+06</td>\n",
       "      <td>6.460985</td>\n",
       "      <td>1.226901e-02</td>\n",
       "      <td>0.049907</td>\n",
       "    </tr>\n",
       "    <tr>\n",
       "      <th>2</th>\n",
       "      <td>Genotype * Tx</td>\n",
       "      <td>1.172892e+07</td>\n",
       "      <td>1.0</td>\n",
       "      <td>1.172892e+07</td>\n",
       "      <td>8.487403</td>\n",
       "      <td>4.248867e-03</td>\n",
       "      <td>0.064549</td>\n",
       "    </tr>\n",
       "    <tr>\n",
       "      <th>3</th>\n",
       "      <td>Residual</td>\n",
       "      <td>1.699763e+08</td>\n",
       "      <td>123.0</td>\n",
       "      <td>1.381921e+06</td>\n",
       "      <td>NaN</td>\n",
       "      <td>NaN</td>\n",
       "      <td>NaN</td>\n",
       "    </tr>\n",
       "  </tbody>\n",
       "</table>\n",
       "</div>"
      ],
      "text/plain": [
       "          Source            SS     DF            MS          F         p-unc  \\\n",
       "0       Genotype  7.445477e+07    1.0  7.445477e+07  53.877719  2.534543e-11   \n",
       "1             Tx  8.928573e+06    1.0  8.928573e+06   6.460985  1.226901e-02   \n",
       "2  Genotype * Tx  1.172892e+07    1.0  1.172892e+07   8.487403  4.248867e-03   \n",
       "3       Residual  1.699763e+08  123.0  1.381921e+06        NaN           NaN   \n",
       "\n",
       "        np2  \n",
       "0  0.304604  \n",
       "1  0.049907  \n",
       "2  0.064549  \n",
       "3       NaN  "
      ]
     },
     "execution_count": 90,
     "metadata": {},
     "output_type": "execute_result"
    }
   ],
   "source": [
    "pg.anova(data=dist_05, dv='Total_Distance', between= ['Genotype', 'Tx'])"
   ]
  },
  {
   "cell_type": "code",
   "execution_count": 91,
   "metadata": {},
   "outputs": [
    {
     "data": {
      "text/html": [
       "<div>\n",
       "<style scoped>\n",
       "    .dataframe tbody tr th:only-of-type {\n",
       "        vertical-align: middle;\n",
       "    }\n",
       "\n",
       "    .dataframe tbody tr th {\n",
       "        vertical-align: top;\n",
       "    }\n",
       "\n",
       "    .dataframe thead th {\n",
       "        text-align: right;\n",
       "    }\n",
       "</style>\n",
       "<table border=\"1\" class=\"dataframe\">\n",
       "  <thead>\n",
       "    <tr style=\"text-align: right;\">\n",
       "      <th></th>\n",
       "      <th>A</th>\n",
       "      <th>B</th>\n",
       "      <th>mean(A)</th>\n",
       "      <th>mean(B)</th>\n",
       "      <th>diff</th>\n",
       "      <th>se</th>\n",
       "      <th>tail</th>\n",
       "      <th>T</th>\n",
       "      <th>p-tukey</th>\n",
       "      <th>hedges</th>\n",
       "    </tr>\n",
       "  </thead>\n",
       "  <tbody>\n",
       "    <tr>\n",
       "      <th>0</th>\n",
       "      <td>KO_MK-0.5</td>\n",
       "      <td>KO_Pl</td>\n",
       "      <td>3299.328378</td>\n",
       "      <td>4270.645217</td>\n",
       "      <td>-971.316839</td>\n",
       "      <td>259.597755</td>\n",
       "      <td>two-sided</td>\n",
       "      <td>-3.741623</td>\n",
       "      <td>0.001145</td>\n",
       "      <td>-0.818591</td>\n",
       "    </tr>\n",
       "    <tr>\n",
       "      <th>1</th>\n",
       "      <td>KO_MK-0.5</td>\n",
       "      <td>WT_MK-0.5</td>\n",
       "      <td>3299.328378</td>\n",
       "      <td>5781.462857</td>\n",
       "      <td>-2482.134479</td>\n",
       "      <td>368.860263</td>\n",
       "      <td>two-sided</td>\n",
       "      <td>-6.729200</td>\n",
       "      <td>0.001000</td>\n",
       "      <td>-2.078980</td>\n",
       "    </tr>\n",
       "    <tr>\n",
       "      <th>2</th>\n",
       "      <td>KO_MK-0.5</td>\n",
       "      <td>WT_Pl</td>\n",
       "      <td>3299.328378</td>\n",
       "      <td>5410.871000</td>\n",
       "      <td>-2111.542622</td>\n",
       "      <td>288.813557</td>\n",
       "      <td>two-sided</td>\n",
       "      <td>-7.311092</td>\n",
       "      <td>0.001000</td>\n",
       "      <td>-1.775409</td>\n",
       "    </tr>\n",
       "    <tr>\n",
       "      <th>3</th>\n",
       "      <td>KO_Pl</td>\n",
       "      <td>WT_MK-0.5</td>\n",
       "      <td>4270.645217</td>\n",
       "      <td>5781.462857</td>\n",
       "      <td>-1510.817640</td>\n",
       "      <td>358.818111</td>\n",
       "      <td>two-sided</td>\n",
       "      <td>-4.210539</td>\n",
       "      <td>0.001000</td>\n",
       "      <td>-1.268508</td>\n",
       "    </tr>\n",
       "    <tr>\n",
       "      <th>4</th>\n",
       "      <td>KO_Pl</td>\n",
       "      <td>WT_Pl</td>\n",
       "      <td>4270.645217</td>\n",
       "      <td>5410.871000</td>\n",
       "      <td>-1140.225783</td>\n",
       "      <td>275.872821</td>\n",
       "      <td>two-sided</td>\n",
       "      <td>-4.133157</td>\n",
       "      <td>0.001000</td>\n",
       "      <td>-0.960086</td>\n",
       "    </tr>\n",
       "    <tr>\n",
       "      <th>5</th>\n",
       "      <td>WT_MK-0.5</td>\n",
       "      <td>WT_Pl</td>\n",
       "      <td>5781.462857</td>\n",
       "      <td>5410.871000</td>\n",
       "      <td>370.591857</td>\n",
       "      <td>380.490096</td>\n",
       "      <td>two-sided</td>\n",
       "      <td>0.973986</td>\n",
       "      <td>0.741228</td>\n",
       "      <td>0.309586</td>\n",
       "    </tr>\n",
       "  </tbody>\n",
       "</table>\n",
       "</div>"
      ],
      "text/plain": [
       "           A          B      mean(A)      mean(B)         diff          se  \\\n",
       "0  KO_MK-0.5      KO_Pl  3299.328378  4270.645217  -971.316839  259.597755   \n",
       "1  KO_MK-0.5  WT_MK-0.5  3299.328378  5781.462857 -2482.134479  368.860263   \n",
       "2  KO_MK-0.5      WT_Pl  3299.328378  5410.871000 -2111.542622  288.813557   \n",
       "3      KO_Pl  WT_MK-0.5  4270.645217  5781.462857 -1510.817640  358.818111   \n",
       "4      KO_Pl      WT_Pl  4270.645217  5410.871000 -1140.225783  275.872821   \n",
       "5  WT_MK-0.5      WT_Pl  5781.462857  5410.871000   370.591857  380.490096   \n",
       "\n",
       "        tail         T   p-tukey    hedges  \n",
       "0  two-sided -3.741623  0.001145 -0.818591  \n",
       "1  two-sided -6.729200  0.001000 -2.078980  \n",
       "2  two-sided -7.311092  0.001000 -1.775409  \n",
       "3  two-sided -4.210539  0.001000 -1.268508  \n",
       "4  two-sided -4.133157  0.001000 -0.960086  \n",
       "5  two-sided  0.973986  0.741228  0.309586  "
      ]
     },
     "execution_count": 91,
     "metadata": {},
     "output_type": "execute_result"
    }
   ],
   "source": [
    "pg.pairwise_tukey(data=dist_05, dv='Total_Distance', between='Group')"
   ]
  },
  {
   "cell_type": "code",
   "execution_count": 86,
   "metadata": {},
   "outputs": [
    {
     "data": {
      "text/plain": [
       "array(['MK-0.5', 'Pl'], dtype=object)"
      ]
     },
     "execution_count": 86,
     "metadata": {},
     "output_type": "execute_result"
    }
   ],
   "source": [
    "dist_tidy[dist_tidy['Tx']!='MK-1']['Tx'].unique()"
   ]
  },
  {
   "cell_type": "code",
   "execution_count": 117,
   "metadata": {},
   "outputs": [
    {
     "data": {
      "text/plain": [
       "Text(0, 2, '***')"
      ]
     },
     "execution_count": 117,
     "metadata": {},
     "output_type": "execute_result"
    },
    {
     "data": {
      "image/png": "[encoded data removed]",
      "text/plain": [
       "<Figure size 165.6x144 with 1 Axes>"
      ]
     },
     "metadata": {
      "needs_background": "light"
     },
     "output_type": "display_data"
    }
   ],
   "source": [
    "dist_all_paper = plt.figure(figsize=(2.3, 2))\n",
    "ax = plt.subplot()\n",
    "sns.boxplot(data= dist_05, x='Tx', y='Total_Distance', order = ['Pl', 'MK-0.5'], hue='Group', hue_order = ['WT_Pl', 'WT_MK-0.5', 'KO_Pl', 'KO_MK-0.5'], palette=['royalblue', 'steelblue', 'forestgreen', 'darkseagreen'], showfliers = False, dodge = True)\n",
    "sns.stripplot(data= dist_05, x='Tx', y='Total_Distance',order = ['Pl', 'MK-0.5'], hue='Group', hue_order = ['WT_Pl', 'WT_MK-0.5', 'KO_Pl', 'KO_MK-0.5'], palette=['royalblue', 'steelblue', 'forestgreen', 'darkseagreen'], dodge = True, linewidth=0.2, size=2, edgecolor='silver')\n",
    "plt.ylabel('Total Distance (cm)')\n",
    "labels = ['Saline', '0.5\\nmg/kg']\n",
    "ax.set_xticklabels(labels)\n",
    "sns.despine()\n",
    "plt.legend(bbox_to_anchor=(1.04,1), loc=\"upper left\")\n",
    "ax.set_xlabel=('')\n",
    "plt.annotate(s='***', xy=(.2, 0.93), xycoords='axes fraction', xytext=(0, 2), textcoords='offset points', ha = 'center', arrowprops=dict(arrowstyle='-[, widthB=1.5, lengthB=.3', lw=1.5, color='k'), fontsize = 8)\n",
    "plt.annotate(s='***', xy=(.8, 0.99), xycoords='axes fraction', xytext=(0,2), textcoords='offset points', ha = 'center', arrowprops=dict(arrowstyle='-[, widthB=1.5, lengthB=.3', lw=1.5, color='k'), fontsize = 8)\n",
    "plt.annotate(s='***', xy=(.5, 1.05), xycoords='axes fraction', xytext=(0, 2), textcoords='offset points', ha = 'center', arrowprops=dict(arrowstyle='-[, widthB=3.1, lengthB=.3', lw=1.5, color='k'), fontsize = 8)\n",
    "plt.annotate(s='**', xy=(.6, 1.15), xycoords='axes fraction', xytext=(0, 2), textcoords='offset points', ha = 'center', arrowprops=dict(arrowstyle='-[, widthB=4.8, lengthB=.3', lw=1.5, color='k'), fontsize = 8)\n",
    "plt.annotate(s='***', xy=(.5, 1.25), xycoords='axes fraction', xytext=(0, 2), textcoords='offset points', ha = 'center', arrowprops=dict(arrowstyle='-[, widthB=6.5, lengthB=.3', lw=1.5, color='k'), fontsize = 8)\n"
   ]
  },
  {
   "cell_type": "code",
   "execution_count": 118,
   "metadata": {},
   "outputs": [],
   "source": [
    "dist_all_paper.savefig('/Users/labc02/Documents/PDCB_data/MK-project/Figures/Y_all_dist_paper.svg')"
   ]
  },
  {
   "cell_type": "markdown",
   "metadata": {},
   "source": [
    "### Alternation Triplets"
   ]
  },
  {
   "cell_type": "code",
   "execution_count": 119,
   "metadata": {},
   "outputs": [
    {
     "data": {
      "text/plain": [
       "[41, 142, 85, 92]"
      ]
     },
     "execution_count": 119,
     "metadata": {},
     "output_type": "execute_result"
    }
   ],
   "source": [
    "tri_outliers = []\n",
    "for group in y_data['Group'].unique():    \n",
    "    out = pg.madmedianrule(y_data[y_data['Group']== group]['Alternation Triplet'])\n",
    "    idx = y_data[y_data['Group']== group]['Alternation Triplet'].index.values\n",
    "    \n",
    "    for ii in idx[out]:\n",
    "        tri_outliers.append(ii)\n",
    "tri_outliers"
   ]
  },
  {
   "cell_type": "code",
   "execution_count": 120,
   "metadata": {},
   "outputs": [],
   "source": [
    "tri_tidy=y_data.drop(index = tri_outliers, inplace = False)"
   ]
  },
  {
   "cell_type": "code",
   "execution_count": 184,
   "metadata": {},
   "outputs": [
    {
     "data": {
      "text/plain": [
       "Genotype  Tx    \n",
       "KO        MK-0.5    45\n",
       "          MK-1       2\n",
       "          Pl        51\n",
       "WT        MK-0.5    13\n",
       "          MK-1       9\n",
       "          Pl        29\n",
       "Name: Subject Name, dtype: int64"
      ]
     },
     "execution_count": 184,
     "metadata": {},
     "output_type": "execute_result"
    }
   ],
   "source": [
    "tri_tidy.groupby(['Genotype', 'Tx'])['Subject Name'].count()"
   ]
  },
  {
   "cell_type": "code",
   "execution_count": 122,
   "metadata": {},
   "outputs": [
    {
     "data": {
      "text/html": [
       "<div>\n",
       "<style scoped>\n",
       "    .dataframe tbody tr th:only-of-type {\n",
       "        vertical-align: middle;\n",
       "    }\n",
       "\n",
       "    .dataframe tbody tr th {\n",
       "        vertical-align: top;\n",
       "    }\n",
       "\n",
       "    .dataframe thead th {\n",
       "        text-align: right;\n",
       "    }\n",
       "</style>\n",
       "<table border=\"1\" class=\"dataframe\">\n",
       "  <thead>\n",
       "    <tr style=\"text-align: right;\">\n",
       "      <th></th>\n",
       "      <th>W</th>\n",
       "      <th>pval</th>\n",
       "      <th>normal</th>\n",
       "    </tr>\n",
       "  </thead>\n",
       "  <tbody>\n",
       "    <tr>\n",
       "      <th>KO_MK-0.5</th>\n",
       "      <td>0.970107</td>\n",
       "      <td>0.292189</td>\n",
       "      <td>True</td>\n",
       "    </tr>\n",
       "    <tr>\n",
       "      <th>KO_Pl</th>\n",
       "      <td>0.979000</td>\n",
       "      <td>0.497325</td>\n",
       "      <td>True</td>\n",
       "    </tr>\n",
       "    <tr>\n",
       "      <th>WT_Pl</th>\n",
       "      <td>0.986789</td>\n",
       "      <td>0.967298</td>\n",
       "      <td>True</td>\n",
       "    </tr>\n",
       "    <tr>\n",
       "      <th>WT_MK-0.5</th>\n",
       "      <td>0.922055</td>\n",
       "      <td>0.267353</td>\n",
       "      <td>True</td>\n",
       "    </tr>\n",
       "    <tr>\n",
       "      <th>WT_MK-1</th>\n",
       "      <td>0.856091</td>\n",
       "      <td>0.086920</td>\n",
       "      <td>True</td>\n",
       "    </tr>\n",
       "  </tbody>\n",
       "</table>\n",
       "</div>"
      ],
      "text/plain": [
       "                  W      pval  normal\n",
       "KO_MK-0.5  0.970107  0.292189    True\n",
       "KO_Pl      0.979000  0.497325    True\n",
       "WT_Pl      0.986789  0.967298    True\n",
       "WT_MK-0.5  0.922055  0.267353    True\n",
       "WT_MK-1    0.856091  0.086920    True"
      ]
     },
     "execution_count": 122,
     "metadata": {},
     "output_type": "execute_result"
    }
   ],
   "source": [
    "pg.normality(data=tri_tidy[tri_tidy['Group']!='KO_MK-1'], dv = 'Alternation Triplet', group = 'Group')"
   ]
  },
  {
   "cell_type": "code",
   "execution_count": 123,
   "metadata": {},
   "outputs": [
    {
     "data": {
      "text/html": [
       "<div>\n",
       "<style scoped>\n",
       "    .dataframe tbody tr th:only-of-type {\n",
       "        vertical-align: middle;\n",
       "    }\n",
       "\n",
       "    .dataframe tbody tr th {\n",
       "        vertical-align: top;\n",
       "    }\n",
       "\n",
       "    .dataframe thead th {\n",
       "        text-align: right;\n",
       "    }\n",
       "</style>\n",
       "<table border=\"1\" class=\"dataframe\">\n",
       "  <thead>\n",
       "    <tr style=\"text-align: right;\">\n",
       "      <th></th>\n",
       "      <th>Source</th>\n",
       "      <th>ddof1</th>\n",
       "      <th>ddof2</th>\n",
       "      <th>F</th>\n",
       "      <th>p-unc</th>\n",
       "      <th>np2</th>\n",
       "    </tr>\n",
       "  </thead>\n",
       "  <tbody>\n",
       "    <tr>\n",
       "      <th>0</th>\n",
       "      <td>Tx</td>\n",
       "      <td>2</td>\n",
       "      <td>48</td>\n",
       "      <td>5.475629</td>\n",
       "      <td>0.00721</td>\n",
       "      <td>0.185768</td>\n",
       "    </tr>\n",
       "  </tbody>\n",
       "</table>\n",
       "</div>"
      ],
      "text/plain": [
       "  Source  ddof1  ddof2         F    p-unc       np2\n",
       "0     Tx      2     48  5.475629  0.00721  0.185768"
      ]
     },
     "execution_count": 123,
     "metadata": {},
     "output_type": "execute_result"
    }
   ],
   "source": [
    "pg.anova(data=tri_tidy[tri_tidy['Genotype']!='KO'], dv = 'Alternation Triplet', between = 'Tx')"
   ]
  },
  {
   "cell_type": "code",
   "execution_count": 124,
   "metadata": {},
   "outputs": [
    {
     "data": {
      "text/html": [
       "<div>\n",
       "<style scoped>\n",
       "    .dataframe tbody tr th:only-of-type {\n",
       "        vertical-align: middle;\n",
       "    }\n",
       "\n",
       "    .dataframe tbody tr th {\n",
       "        vertical-align: top;\n",
       "    }\n",
       "\n",
       "    .dataframe thead th {\n",
       "        text-align: right;\n",
       "    }\n",
       "</style>\n",
       "<table border=\"1\" class=\"dataframe\">\n",
       "  <thead>\n",
       "    <tr style=\"text-align: right;\">\n",
       "      <th></th>\n",
       "      <th>A</th>\n",
       "      <th>B</th>\n",
       "      <th>mean(A)</th>\n",
       "      <th>mean(B)</th>\n",
       "      <th>diff</th>\n",
       "      <th>se</th>\n",
       "      <th>tail</th>\n",
       "      <th>T</th>\n",
       "      <th>p-tukey</th>\n",
       "      <th>hedges</th>\n",
       "    </tr>\n",
       "  </thead>\n",
       "  <tbody>\n",
       "    <tr>\n",
       "      <th>0</th>\n",
       "      <td>MK-0.5</td>\n",
       "      <td>MK-1</td>\n",
       "      <td>17.153846</td>\n",
       "      <td>17.111111</td>\n",
       "      <td>0.042735</td>\n",
       "      <td>1.854609</td>\n",
       "      <td>two-sided</td>\n",
       "      <td>0.023043</td>\n",
       "      <td>0.900000</td>\n",
       "      <td>0.009613</td>\n",
       "    </tr>\n",
       "    <tr>\n",
       "      <th>1</th>\n",
       "      <td>MK-0.5</td>\n",
       "      <td>Pl</td>\n",
       "      <td>17.153846</td>\n",
       "      <td>21.137931</td>\n",
       "      <td>-3.984085</td>\n",
       "      <td>1.427539</td>\n",
       "      <td>two-sided</td>\n",
       "      <td>-2.790877</td>\n",
       "      <td>0.015453</td>\n",
       "      <td>-0.913949</td>\n",
       "    </tr>\n",
       "    <tr>\n",
       "      <th>2</th>\n",
       "      <td>MK-1</td>\n",
       "      <td>Pl</td>\n",
       "      <td>17.111111</td>\n",
       "      <td>21.137931</td>\n",
       "      <td>-4.026820</td>\n",
       "      <td>1.631945</td>\n",
       "      <td>two-sided</td>\n",
       "      <td>-2.467498</td>\n",
       "      <td>0.037796</td>\n",
       "      <td>-0.921765</td>\n",
       "    </tr>\n",
       "  </tbody>\n",
       "</table>\n",
       "</div>"
      ],
      "text/plain": [
       "        A     B    mean(A)    mean(B)      diff        se       tail  \\\n",
       "0  MK-0.5  MK-1  17.153846  17.111111  0.042735  1.854609  two-sided   \n",
       "1  MK-0.5    Pl  17.153846  21.137931 -3.984085  1.427539  two-sided   \n",
       "2    MK-1    Pl  17.111111  21.137931 -4.026820  1.631945  two-sided   \n",
       "\n",
       "          T   p-tukey    hedges  \n",
       "0  0.023043  0.900000  0.009613  \n",
       "1 -2.790877  0.015453 -0.913949  \n",
       "2 -2.467498  0.037796 -0.921765  "
      ]
     },
     "execution_count": 124,
     "metadata": {},
     "output_type": "execute_result"
    }
   ],
   "source": [
    "pg.pairwise_tukey(data=tri_tidy[tri_tidy['Genotype']!='KO'], dv = 'Alternation Triplet', between = 'Tx')"
   ]
  },
  {
   "cell_type": "code",
   "execution_count": 171,
   "metadata": {},
   "outputs": [
    {
     "data": {
      "text/plain": [
       "Text(0, 2, '*')"
      ]
     },
     "execution_count": 171,
     "metadata": {},
     "output_type": "execute_result"
    },
    {
     "data": {
      "image/png": "[encoded data removed]",
      "text/plain": [
       "<Figure size 165.6x144 with 1 Axes>"
      ]
     },
     "metadata": {
      "needs_background": "light"
     },
     "output_type": "display_data"
    }
   ],
   "source": [
    "trip_wt_paper = plt.figure(figsize=(2.3, 2))\n",
    "ax = plt.subplot()\n",
    "sns.boxplot(data = tri_tidy[tri_tidy['Genotype']!='KO'], x = 'Tx', y = 'Alternation_Triplet', hue='Group', hue_order = ['WT_Pl', 'WT_MK-0.5', 'WT_MK-1'], palette=['royalblue', 'steelblue', 'cornflowerblue'], dodge=True)\n",
    "sns.stripplot(data = tri_tidy[tri_tidy['Genotype']!='KO'], x = 'Tx', y = 'Alternation_Triplet', hue='Group', hue_order = ['WT_Pl', 'WT_MK-0.5', 'WT_MK-1'], palette=['royalblue', 'steelblue', 'cornflowerblue'], edgecolor='silver', size=2, linewidth =0.2, dodge=True)\n",
    "plt.ylabel('Alternation Triplets')\n",
    "labels = ['Saline', '0.5\\nmg/kg', '1\\nmg/kg']\n",
    "ax.set_xticklabels(labels)\n",
    "ax.set_xlabel=('')\n",
    "sns.despine()\n",
    "plt.legend(bbox_to_anchor=(1.04,1), loc=\"upper left\")\n",
    "plt.annotate(s='*', xy=(.33, 1), xycoords='axes fraction', xytext=(0, 2), textcoords='offset points', ha = 'center', arrowprops=dict(arrowstyle='-[, widthB=2.6, lengthB=.3', lw=1.5, color='k'), fontsize = 8)\n",
    "plt.annotate(s='*', xy=(.49, 1.1), xycoords='axes fraction', xytext=(0,2), textcoords='offset points', ha = 'center', arrowprops=dict(arrowstyle='-[, widthB=5.3, lengthB=.3', lw=1.5, color='k'), fontsize = 8)\n"
   ]
  },
  {
   "cell_type": "code",
   "execution_count": 172,
   "metadata": {},
   "outputs": [],
   "source": [
    "trip_wt_paper.savefig('/Users/labc02/Documents/PDCB_data/MK-project/Figures/Y_wt_trip_paper.svg')"
   ]
  },
  {
   "cell_type": "code",
   "execution_count": 141,
   "metadata": {},
   "outputs": [],
   "source": [
    "tri_tidy.rename(columns={'Alternation Triplet':'Alternation_Triplet'}, inplace=True)"
   ]
  },
  {
   "cell_type": "code",
   "execution_count": 142,
   "metadata": {},
   "outputs": [
    {
     "data": {
      "text/html": [
       "<div>\n",
       "<style scoped>\n",
       "    .dataframe tbody tr th:only-of-type {\n",
       "        vertical-align: middle;\n",
       "    }\n",
       "\n",
       "    .dataframe tbody tr th {\n",
       "        vertical-align: top;\n",
       "    }\n",
       "\n",
       "    .dataframe thead th {\n",
       "        text-align: right;\n",
       "    }\n",
       "</style>\n",
       "<table border=\"1\" class=\"dataframe\">\n",
       "  <thead>\n",
       "    <tr style=\"text-align: right;\">\n",
       "      <th></th>\n",
       "      <th>Source</th>\n",
       "      <th>SS</th>\n",
       "      <th>DF</th>\n",
       "      <th>MS</th>\n",
       "      <th>F</th>\n",
       "      <th>p-unc</th>\n",
       "      <th>np2</th>\n",
       "    </tr>\n",
       "  </thead>\n",
       "  <tbody>\n",
       "    <tr>\n",
       "      <th>0</th>\n",
       "      <td>Genotype</td>\n",
       "      <td>0.970798</td>\n",
       "      <td>1.0</td>\n",
       "      <td>0.970798</td>\n",
       "      <td>0.035533</td>\n",
       "      <td>0.850768</td>\n",
       "      <td>0.000265</td>\n",
       "    </tr>\n",
       "    <tr>\n",
       "      <th>1</th>\n",
       "      <td>Tx</td>\n",
       "      <td>326.439630</td>\n",
       "      <td>1.0</td>\n",
       "      <td>326.439630</td>\n",
       "      <td>11.948310</td>\n",
       "      <td>0.000733</td>\n",
       "      <td>0.081867</td>\n",
       "    </tr>\n",
       "    <tr>\n",
       "      <th>2</th>\n",
       "      <td>Genotype * Tx</td>\n",
       "      <td>8.573189</td>\n",
       "      <td>1.0</td>\n",
       "      <td>8.573189</td>\n",
       "      <td>0.313795</td>\n",
       "      <td>0.576296</td>\n",
       "      <td>0.002336</td>\n",
       "    </tr>\n",
       "    <tr>\n",
       "      <th>3</th>\n",
       "      <td>Residual</td>\n",
       "      <td>3661.012479</td>\n",
       "      <td>134.0</td>\n",
       "      <td>27.320989</td>\n",
       "      <td>NaN</td>\n",
       "      <td>NaN</td>\n",
       "      <td>NaN</td>\n",
       "    </tr>\n",
       "  </tbody>\n",
       "</table>\n",
       "</div>"
      ],
      "text/plain": [
       "          Source           SS     DF          MS          F     p-unc  \\\n",
       "0       Genotype     0.970798    1.0    0.970798   0.035533  0.850768   \n",
       "1             Tx   326.439630    1.0  326.439630  11.948310  0.000733   \n",
       "2  Genotype * Tx     8.573189    1.0    8.573189   0.313795  0.576296   \n",
       "3       Residual  3661.012479  134.0   27.320989        NaN       NaN   \n",
       "\n",
       "        np2  \n",
       "0  0.000265  \n",
       "1  0.081867  \n",
       "2  0.002336  \n",
       "3       NaN  "
      ]
     },
     "execution_count": 142,
     "metadata": {},
     "output_type": "execute_result"
    }
   ],
   "source": [
    "pg.anova(data=tri_tidy[tri_tidy['Tx']!='MK-1'], dv = 'Alternation_Triplet', between = ['Genotype', 'Tx'])"
   ]
  },
  {
   "cell_type": "code",
   "execution_count": 144,
   "metadata": {},
   "outputs": [
    {
     "data": {
      "text/html": [
       "<div>\n",
       "<style scoped>\n",
       "    .dataframe tbody tr th:only-of-type {\n",
       "        vertical-align: middle;\n",
       "    }\n",
       "\n",
       "    .dataframe tbody tr th {\n",
       "        vertical-align: top;\n",
       "    }\n",
       "\n",
       "    .dataframe thead th {\n",
       "        text-align: right;\n",
       "    }\n",
       "</style>\n",
       "<table border=\"1\" class=\"dataframe\">\n",
       "  <thead>\n",
       "    <tr style=\"text-align: right;\">\n",
       "      <th></th>\n",
       "      <th>A</th>\n",
       "      <th>B</th>\n",
       "      <th>mean(A)</th>\n",
       "      <th>mean(B)</th>\n",
       "      <th>diff</th>\n",
       "      <th>se</th>\n",
       "      <th>tail</th>\n",
       "      <th>T</th>\n",
       "      <th>p-tukey</th>\n",
       "      <th>hedges</th>\n",
       "    </tr>\n",
       "  </thead>\n",
       "  <tbody>\n",
       "    <tr>\n",
       "      <th>0</th>\n",
       "      <td>KO_MK-0.5</td>\n",
       "      <td>KO_Pl</td>\n",
       "      <td>17.711111</td>\n",
       "      <td>20.549020</td>\n",
       "      <td>-2.837908</td>\n",
       "      <td>1.069036</td>\n",
       "      <td>two-sided</td>\n",
       "      <td>-2.654642</td>\n",
       "      <td>0.040776</td>\n",
       "      <td>-0.538594</td>\n",
       "    </tr>\n",
       "    <tr>\n",
       "      <th>1</th>\n",
       "      <td>KO_MK-0.5</td>\n",
       "      <td>WT_MK-0.5</td>\n",
       "      <td>17.711111</td>\n",
       "      <td>17.153846</td>\n",
       "      <td>0.557265</td>\n",
       "      <td>1.645827</td>\n",
       "      <td>two-sided</td>\n",
       "      <td>0.338593</td>\n",
       "      <td>0.900000</td>\n",
       "      <td>0.105180</td>\n",
       "    </tr>\n",
       "    <tr>\n",
       "      <th>2</th>\n",
       "      <td>KO_MK-0.5</td>\n",
       "      <td>WT_Pl</td>\n",
       "      <td>17.711111</td>\n",
       "      <td>21.137931</td>\n",
       "      <td>-3.426820</td>\n",
       "      <td>1.244683</td>\n",
       "      <td>two-sided</td>\n",
       "      <td>-2.753166</td>\n",
       "      <td>0.031033</td>\n",
       "      <td>-0.648753</td>\n",
       "    </tr>\n",
       "    <tr>\n",
       "      <th>3</th>\n",
       "      <td>KO_Pl</td>\n",
       "      <td>WT_MK-0.5</td>\n",
       "      <td>20.549020</td>\n",
       "      <td>17.153846</td>\n",
       "      <td>3.395173</td>\n",
       "      <td>1.623983</td>\n",
       "      <td>two-sided</td>\n",
       "      <td>2.090646</td>\n",
       "      <td>0.157720</td>\n",
       "      <td>0.641662</td>\n",
       "    </tr>\n",
       "    <tr>\n",
       "      <th>4</th>\n",
       "      <td>KO_Pl</td>\n",
       "      <td>WT_Pl</td>\n",
       "      <td>20.549020</td>\n",
       "      <td>21.137931</td>\n",
       "      <td>-0.588911</td>\n",
       "      <td>1.215652</td>\n",
       "      <td>two-sided</td>\n",
       "      <td>-0.484441</td>\n",
       "      <td>0.900000</td>\n",
       "      <td>-0.111581</td>\n",
       "    </tr>\n",
       "    <tr>\n",
       "      <th>5</th>\n",
       "      <td>WT_MK-0.5</td>\n",
       "      <td>WT_Pl</td>\n",
       "      <td>17.153846</td>\n",
       "      <td>21.137931</td>\n",
       "      <td>-3.984085</td>\n",
       "      <td>1.744625</td>\n",
       "      <td>two-sided</td>\n",
       "      <td>-2.283634</td>\n",
       "      <td>0.103340</td>\n",
       "      <td>-0.747839</td>\n",
       "    </tr>\n",
       "  </tbody>\n",
       "</table>\n",
       "</div>"
      ],
      "text/plain": [
       "           A          B    mean(A)    mean(B)      diff        se       tail  \\\n",
       "0  KO_MK-0.5      KO_Pl  17.711111  20.549020 -2.837908  1.069036  two-sided   \n",
       "1  KO_MK-0.5  WT_MK-0.5  17.711111  17.153846  0.557265  1.645827  two-sided   \n",
       "2  KO_MK-0.5      WT_Pl  17.711111  21.137931 -3.426820  1.244683  two-sided   \n",
       "3      KO_Pl  WT_MK-0.5  20.549020  17.153846  3.395173  1.623983  two-sided   \n",
       "4      KO_Pl      WT_Pl  20.549020  21.137931 -0.588911  1.215652  two-sided   \n",
       "5  WT_MK-0.5      WT_Pl  17.153846  21.137931 -3.984085  1.744625  two-sided   \n",
       "\n",
       "          T   p-tukey    hedges  \n",
       "0 -2.654642  0.040776 -0.538594  \n",
       "1  0.338593  0.900000  0.105180  \n",
       "2 -2.753166  0.031033 -0.648753  \n",
       "3  2.090646  0.157720  0.641662  \n",
       "4 -0.484441  0.900000 -0.111581  \n",
       "5 -2.283634  0.103340 -0.747839  "
      ]
     },
     "execution_count": 144,
     "metadata": {},
     "output_type": "execute_result"
    }
   ],
   "source": [
    "pg.pairwise_tukey(data=tri_tidy[tri_tidy['Tx']!='MK-1'], dv = 'Alternation_Triplet', between = ['Group'])"
   ]
  },
  {
   "cell_type": "code",
   "execution_count": 151,
   "metadata": {},
   "outputs": [
    {
     "data": {
      "text/plain": [
       "Text(0, 2, '*')"
      ]
     },
     "execution_count": 151,
     "metadata": {},
     "output_type": "execute_result"
    },
    {
     "data": {
      "image/png": "[encoded data removed]",
      "text/plain": [
       "<Figure size 165.6x144 with 1 Axes>"
      ]
     },
     "metadata": {
      "needs_background": "light"
     },
     "output_type": "display_data"
    }
   ],
   "source": [
    "trip_all_paper = plt.figure(figsize=(2.3, 2))\n",
    "ax = plt.subplot()\n",
    "sns.boxplot(data= tri_tidy[tri_tidy['Tx']!='MK-1'], x='Tx', y='Alternation_Triplet', order = ['Pl', 'MK-0.5'], hue='Group', hue_order = ['WT_Pl', 'WT_MK-0.5', 'KO_Pl', 'KO_MK-0.5'], palette=['royalblue', 'steelblue', 'forestgreen', 'darkseagreen'], showfliers = False, dodge = True)\n",
    "sns.stripplot(data= tri_tidy[tri_tidy['Tx']!='MK-1'], x='Tx', y='Alternation_Triplet',order = ['Pl', 'MK-0.5'], hue='Group', hue_order = ['WT_Pl', 'WT_MK-0.5', 'KO_Pl', 'KO_MK-0.5'], palette=['royalblue', 'steelblue', 'forestgreen', 'darkseagreen'], dodge = True, linewidth=0.2, size=2, edgecolor='silver')\n",
    "plt.ylabel('Alternation Triplets')\n",
    "labels = ['Saline', '0.5\\nmg/kg']\n",
    "ax.set_xticklabels(labels)\n",
    "sns.despine()\n",
    "plt.legend(bbox_to_anchor=(1.04,1), loc=\"upper left\")\n",
    "ax.set_xlabel=('')\n",
    "plt.annotate(s='*', xy=(.6, 1), xycoords='axes fraction', xytext=(0, 2), textcoords='offset points', ha = 'center', arrowprops=dict(arrowstyle='-[, widthB=5, lengthB=.3', lw=1.5, color='k'), fontsize = 8)\n",
    "plt.annotate(s='*', xy=(.5, 1.1), xycoords='axes fraction', xytext=(0,2), textcoords='offset points', ha = 'center', arrowprops=dict(arrowstyle='-[, widthB=6.5, lengthB=.3', lw=1.5, color='k'), fontsize = 8)\n"
   ]
  },
  {
   "cell_type": "code",
   "execution_count": 152,
   "metadata": {},
   "outputs": [],
   "source": [
    "trip_all_paper.savefig('/Users/labc02/Documents/PDCB_data/MK-project/Figures/Y_all_trip_paper.svg')"
   ]
  },
  {
   "cell_type": "markdown",
   "metadata": {},
   "source": [
    "### Alternation Percentage (%)"
   ]
  },
  {
   "cell_type": "code",
   "execution_count": 153,
   "metadata": {},
   "outputs": [
    {
     "data": {
      "text/plain": [
       "[22, 39, 106, 109, 120, 128, 96, 133]"
      ]
     },
     "execution_count": 153,
     "metadata": {},
     "output_type": "execute_result"
    }
   ],
   "source": [
    "triper_outliers = []\n",
    "for group in y_data['Group'].unique():    \n",
    "    out = pg.madmedianrule(y_data[y_data['Group']== group]['Alternation Triplet (%)'])\n",
    "    idx = y_data[y_data['Group']== group]['Alternation Triplet (%)'].index.values\n",
    "    \n",
    "    for ii in idx[out]:\n",
    "        triper_outliers.append(ii)\n",
    "triper_outliers"
   ]
  },
  {
   "cell_type": "code",
   "execution_count": 154,
   "metadata": {},
   "outputs": [],
   "source": [
    "triper_tidy=y_data.drop(index = triper_outliers, inplace = False)"
   ]
  },
  {
   "cell_type": "code",
   "execution_count": 185,
   "metadata": {},
   "outputs": [
    {
     "data": {
      "text/plain": [
       "Genotype  Tx    \n",
       "KO        MK-0.5    42\n",
       "          MK-1       2\n",
       "          Pl        49\n",
       "WT        MK-0.5    14\n",
       "          MK-1       8\n",
       "          Pl        30\n",
       "Name: Subject Name, dtype: int64"
      ]
     },
     "execution_count": 185,
     "metadata": {},
     "output_type": "execute_result"
    }
   ],
   "source": [
    "triper_tidy.groupby(['Genotype', 'Tx'])['Subject Name'].count()"
   ]
  },
  {
   "cell_type": "code",
   "execution_count": 156,
   "metadata": {},
   "outputs": [
    {
     "data": {
      "text/html": [
       "<div>\n",
       "<style scoped>\n",
       "    .dataframe tbody tr th:only-of-type {\n",
       "        vertical-align: middle;\n",
       "    }\n",
       "\n",
       "    .dataframe tbody tr th {\n",
       "        vertical-align: top;\n",
       "    }\n",
       "\n",
       "    .dataframe thead th {\n",
       "        text-align: right;\n",
       "    }\n",
       "</style>\n",
       "<table border=\"1\" class=\"dataframe\">\n",
       "  <thead>\n",
       "    <tr style=\"text-align: right;\">\n",
       "      <th></th>\n",
       "      <th>W</th>\n",
       "      <th>pval</th>\n",
       "      <th>normal</th>\n",
       "    </tr>\n",
       "  </thead>\n",
       "  <tbody>\n",
       "    <tr>\n",
       "      <th>KO_MK-0.5</th>\n",
       "      <td>0.983410</td>\n",
       "      <td>0.791348</td>\n",
       "      <td>True</td>\n",
       "    </tr>\n",
       "    <tr>\n",
       "      <th>KO_Pl</th>\n",
       "      <td>0.970348</td>\n",
       "      <td>0.249999</td>\n",
       "      <td>True</td>\n",
       "    </tr>\n",
       "    <tr>\n",
       "      <th>WT_Pl</th>\n",
       "      <td>0.986095</td>\n",
       "      <td>0.954324</td>\n",
       "      <td>True</td>\n",
       "    </tr>\n",
       "    <tr>\n",
       "      <th>WT_MK-0.5</th>\n",
       "      <td>0.973889</td>\n",
       "      <td>0.923893</td>\n",
       "      <td>True</td>\n",
       "    </tr>\n",
       "    <tr>\n",
       "      <th>WT_MK-1</th>\n",
       "      <td>0.986103</td>\n",
       "      <td>0.986637</td>\n",
       "      <td>True</td>\n",
       "    </tr>\n",
       "  </tbody>\n",
       "</table>\n",
       "</div>"
      ],
      "text/plain": [
       "                  W      pval  normal\n",
       "KO_MK-0.5  0.983410  0.791348    True\n",
       "KO_Pl      0.970348  0.249999    True\n",
       "WT_Pl      0.986095  0.954324    True\n",
       "WT_MK-0.5  0.973889  0.923893    True\n",
       "WT_MK-1    0.986103  0.986637    True"
      ]
     },
     "execution_count": 156,
     "metadata": {},
     "output_type": "execute_result"
    }
   ],
   "source": [
    "pg.normality(data = triper_tidy[triper_tidy['Group']!= 'KO_MK-1'], dv = 'Alternation Triplet (%)', group = 'Group')"
   ]
  },
  {
   "cell_type": "code",
   "execution_count": 158,
   "metadata": {},
   "outputs": [
    {
     "data": {
      "text/html": [
       "<div>\n",
       "<style scoped>\n",
       "    .dataframe tbody tr th:only-of-type {\n",
       "        vertical-align: middle;\n",
       "    }\n",
       "\n",
       "    .dataframe tbody tr th {\n",
       "        vertical-align: top;\n",
       "    }\n",
       "\n",
       "    .dataframe thead th {\n",
       "        text-align: right;\n",
       "    }\n",
       "</style>\n",
       "<table border=\"1\" class=\"dataframe\">\n",
       "  <thead>\n",
       "    <tr style=\"text-align: right;\">\n",
       "      <th></th>\n",
       "      <th>Source</th>\n",
       "      <th>ddof1</th>\n",
       "      <th>ddof2</th>\n",
       "      <th>F</th>\n",
       "      <th>p-unc</th>\n",
       "      <th>np2</th>\n",
       "    </tr>\n",
       "  </thead>\n",
       "  <tbody>\n",
       "    <tr>\n",
       "      <th>0</th>\n",
       "      <td>Tx</td>\n",
       "      <td>2</td>\n",
       "      <td>49</td>\n",
       "      <td>1.070163</td>\n",
       "      <td>0.350831</td>\n",
       "      <td>0.041852</td>\n",
       "    </tr>\n",
       "  </tbody>\n",
       "</table>\n",
       "</div>"
      ],
      "text/plain": [
       "  Source  ddof1  ddof2         F     p-unc       np2\n",
       "0     Tx      2     49  1.070163  0.350831  0.041852"
      ]
     },
     "execution_count": 158,
     "metadata": {},
     "output_type": "execute_result"
    }
   ],
   "source": [
    "pg.anova(data=triper_tidy[triper_tidy['Genotype']!='KO'], dv = 'Alternation Triplet (%)', between = 'Tx')"
   ]
  },
  {
   "cell_type": "code",
   "execution_count": 159,
   "metadata": {},
   "outputs": [
    {
     "data": {
      "text/html": [
       "<div>\n",
       "<style scoped>\n",
       "    .dataframe tbody tr th:only-of-type {\n",
       "        vertical-align: middle;\n",
       "    }\n",
       "\n",
       "    .dataframe tbody tr th {\n",
       "        vertical-align: top;\n",
       "    }\n",
       "\n",
       "    .dataframe thead th {\n",
       "        text-align: right;\n",
       "    }\n",
       "</style>\n",
       "<table border=\"1\" class=\"dataframe\">\n",
       "  <thead>\n",
       "    <tr style=\"text-align: right;\">\n",
       "      <th></th>\n",
       "      <th>A</th>\n",
       "      <th>B</th>\n",
       "      <th>mean(A)</th>\n",
       "      <th>mean(B)</th>\n",
       "      <th>diff</th>\n",
       "      <th>se</th>\n",
       "      <th>tail</th>\n",
       "      <th>T</th>\n",
       "      <th>p-tukey</th>\n",
       "      <th>hedges</th>\n",
       "    </tr>\n",
       "  </thead>\n",
       "  <tbody>\n",
       "    <tr>\n",
       "      <th>0</th>\n",
       "      <td>MK-0.5</td>\n",
       "      <td>MK-1</td>\n",
       "      <td>52.137143</td>\n",
       "      <td>55.703750</td>\n",
       "      <td>-3.566607</td>\n",
       "      <td>4.324759</td>\n",
       "      <td>two-sided</td>\n",
       "      <td>-0.824695</td>\n",
       "      <td>0.672019</td>\n",
       "      <td>-0.351627</td>\n",
       "    </tr>\n",
       "    <tr>\n",
       "      <th>1</th>\n",
       "      <td>MK-0.5</td>\n",
       "      <td>Pl</td>\n",
       "      <td>52.137143</td>\n",
       "      <td>50.124333</td>\n",
       "      <td>2.012810</td>\n",
       "      <td>3.158357</td>\n",
       "      <td>two-sided</td>\n",
       "      <td>0.637296</td>\n",
       "      <td>0.779506</td>\n",
       "      <td>0.202568</td>\n",
       "    </tr>\n",
       "    <tr>\n",
       "      <th>2</th>\n",
       "      <td>MK-1</td>\n",
       "      <td>Pl</td>\n",
       "      <td>55.703750</td>\n",
       "      <td>50.124333</td>\n",
       "      <td>5.579417</td>\n",
       "      <td>3.882807</td>\n",
       "      <td>two-sided</td>\n",
       "      <td>1.436955</td>\n",
       "      <td>0.323410</td>\n",
       "      <td>0.559785</td>\n",
       "    </tr>\n",
       "  </tbody>\n",
       "</table>\n",
       "</div>"
      ],
      "text/plain": [
       "        A     B    mean(A)    mean(B)      diff        se       tail  \\\n",
       "0  MK-0.5  MK-1  52.137143  55.703750 -3.566607  4.324759  two-sided   \n",
       "1  MK-0.5    Pl  52.137143  50.124333  2.012810  3.158357  two-sided   \n",
       "2    MK-1    Pl  55.703750  50.124333  5.579417  3.882807  two-sided   \n",
       "\n",
       "          T   p-tukey    hedges  \n",
       "0 -0.824695  0.672019 -0.351627  \n",
       "1  0.637296  0.779506  0.202568  \n",
       "2  1.436955  0.323410  0.559785  "
      ]
     },
     "execution_count": 159,
     "metadata": {},
     "output_type": "execute_result"
    }
   ],
   "source": [
    "pg.pairwise_tukey(data=triper_tidy[triper_tidy['Genotype']!='KO'], dv = 'Alternation Triplet (%)', between = 'Tx')"
   ]
  },
  {
   "cell_type": "code",
   "execution_count": 170,
   "metadata": {},
   "outputs": [
    {
     "data": {
      "image/png": "[encoded data removed]",
      "text/plain": [
       "<Figure size 165.6x144 with 1 Axes>"
      ]
     },
     "metadata": {
      "needs_background": "light"
     },
     "output_type": "display_data"
    }
   ],
   "source": [
    "tripper_wt_paper = plt.figure(figsize=(2.3, 2))\n",
    "ax = plt.subplot()\n",
    "sns.boxplot(data = triper_tidy[triper_tidy['Genotype']!='KO'], x = 'Tx', y = 'Alternation_Triplet_Per', hue='Group', hue_order = ['WT_Pl', 'WT_MK-0.5', 'WT_MK-1'], palette=['royalblue', 'steelblue', 'cornflowerblue'], dodge=True, showfliers = False)\n",
    "sns.stripplot(data = triper_tidy[triper_tidy['Genotype']!='KO'], x = 'Tx', y = 'Alternation_Triplet_Per', hue='Group', hue_order = ['WT_Pl', 'WT_MK-0.5', 'WT_MK-1'], palette=['royalblue', 'steelblue', 'cornflowerblue'], edgecolor='silver', size=2, linewidth =0.2, dodge=True)\n",
    "plt.ylabel('Alternation Triplets (%)')\n",
    "labels = ['Saline', '0.5\\nmg/kg', '1\\nmg/kg']\n",
    "ax.set_xticklabels(labels)\n",
    "ax.set_xlabel=('')\n",
    "plt.legend(bbox_to_anchor=(1.04,1), loc=\"upper left\")\n",
    "sns.despine()\n"
   ]
  },
  {
   "cell_type": "code",
   "execution_count": 174,
   "metadata": {},
   "outputs": [],
   "source": [
    "tripper_wt_paper.savefig('/Users/labc02/Documents/PDCB_data/MK-project/Figures/Y_wt_triper_paper.svg')"
   ]
  },
  {
   "cell_type": "code",
   "execution_count": 161,
   "metadata": {},
   "outputs": [],
   "source": [
    "triper_tidy.rename(columns={'Alternation Triplet (%)':'Alternation_Triplet_Per'}, inplace=True)"
   ]
  },
  {
   "cell_type": "code",
   "execution_count": 162,
   "metadata": {},
   "outputs": [
    {
     "data": {
      "text/html": [
       "<div>\n",
       "<style scoped>\n",
       "    .dataframe tbody tr th:only-of-type {\n",
       "        vertical-align: middle;\n",
       "    }\n",
       "\n",
       "    .dataframe tbody tr th {\n",
       "        vertical-align: top;\n",
       "    }\n",
       "\n",
       "    .dataframe thead th {\n",
       "        text-align: right;\n",
       "    }\n",
       "</style>\n",
       "<table border=\"1\" class=\"dataframe\">\n",
       "  <thead>\n",
       "    <tr style=\"text-align: right;\">\n",
       "      <th></th>\n",
       "      <th>Source</th>\n",
       "      <th>SS</th>\n",
       "      <th>DF</th>\n",
       "      <th>MS</th>\n",
       "      <th>F</th>\n",
       "      <th>p-unc</th>\n",
       "      <th>np2</th>\n",
       "    </tr>\n",
       "  </thead>\n",
       "  <tbody>\n",
       "    <tr>\n",
       "      <th>0</th>\n",
       "      <td>Genotype</td>\n",
       "      <td>0.910382</td>\n",
       "      <td>1.0</td>\n",
       "      <td>0.910382</td>\n",
       "      <td>0.009020</td>\n",
       "      <td>0.924481</td>\n",
       "      <td>0.000069</td>\n",
       "    </tr>\n",
       "    <tr>\n",
       "      <th>1</th>\n",
       "      <td>Tx</td>\n",
       "      <td>36.507871</td>\n",
       "      <td>1.0</td>\n",
       "      <td>36.507871</td>\n",
       "      <td>0.361715</td>\n",
       "      <td>0.548595</td>\n",
       "      <td>0.002754</td>\n",
       "    </tr>\n",
       "    <tr>\n",
       "      <th>2</th>\n",
       "      <td>Genotype * Tx</td>\n",
       "      <td>12.183093</td>\n",
       "      <td>1.0</td>\n",
       "      <td>12.183093</td>\n",
       "      <td>0.120709</td>\n",
       "      <td>0.728825</td>\n",
       "      <td>0.000921</td>\n",
       "    </tr>\n",
       "    <tr>\n",
       "      <th>3</th>\n",
       "      <td>Residual</td>\n",
       "      <td>13221.811294</td>\n",
       "      <td>131.0</td>\n",
       "      <td>100.929857</td>\n",
       "      <td>NaN</td>\n",
       "      <td>NaN</td>\n",
       "      <td>NaN</td>\n",
       "    </tr>\n",
       "  </tbody>\n",
       "</table>\n",
       "</div>"
      ],
      "text/plain": [
       "          Source            SS     DF          MS         F     p-unc  \\\n",
       "0       Genotype      0.910382    1.0    0.910382  0.009020  0.924481   \n",
       "1             Tx     36.507871    1.0   36.507871  0.361715  0.548595   \n",
       "2  Genotype * Tx     12.183093    1.0   12.183093  0.120709  0.728825   \n",
       "3       Residual  13221.811294  131.0  100.929857       NaN       NaN   \n",
       "\n",
       "        np2  \n",
       "0  0.000069  \n",
       "1  0.002754  \n",
       "2  0.000921  \n",
       "3       NaN  "
      ]
     },
     "execution_count": 162,
     "metadata": {},
     "output_type": "execute_result"
    }
   ],
   "source": [
    "pg.anova(data=triper_tidy[triper_tidy['Tx']!='MK-1'], dv = 'Alternation_Triplet_Per', between = ['Genotype', 'Tx'])"
   ]
  },
  {
   "cell_type": "code",
   "execution_count": 164,
   "metadata": {},
   "outputs": [
    {
     "data": {
      "text/html": [
       "<div>\n",
       "<style scoped>\n",
       "    .dataframe tbody tr th:only-of-type {\n",
       "        vertical-align: middle;\n",
       "    }\n",
       "\n",
       "    .dataframe tbody tr th {\n",
       "        vertical-align: top;\n",
       "    }\n",
       "\n",
       "    .dataframe thead th {\n",
       "        text-align: right;\n",
       "    }\n",
       "</style>\n",
       "<table border=\"1\" class=\"dataframe\">\n",
       "  <thead>\n",
       "    <tr style=\"text-align: right;\">\n",
       "      <th></th>\n",
       "      <th>A</th>\n",
       "      <th>B</th>\n",
       "      <th>mean(A)</th>\n",
       "      <th>mean(B)</th>\n",
       "      <th>diff</th>\n",
       "      <th>se</th>\n",
       "      <th>tail</th>\n",
       "      <th>T</th>\n",
       "      <th>p-tukey</th>\n",
       "      <th>hedges</th>\n",
       "    </tr>\n",
       "  </thead>\n",
       "  <tbody>\n",
       "    <tr>\n",
       "      <th>0</th>\n",
       "      <td>KO_MK-0.5</td>\n",
       "      <td>KO_Pl</td>\n",
       "      <td>51.099048</td>\n",
       "      <td>50.433469</td>\n",
       "      <td>0.665578</td>\n",
       "      <td>2.112554</td>\n",
       "      <td>two-sided</td>\n",
       "      <td>0.315059</td>\n",
       "      <td>0.9</td>\n",
       "      <td>0.065691</td>\n",
       "    </tr>\n",
       "    <tr>\n",
       "      <th>1</th>\n",
       "      <td>KO_MK-0.5</td>\n",
       "      <td>WT_MK-0.5</td>\n",
       "      <td>51.099048</td>\n",
       "      <td>52.137143</td>\n",
       "      <td>-1.038095</td>\n",
       "      <td>3.100382</td>\n",
       "      <td>two-sided</td>\n",
       "      <td>-0.334828</td>\n",
       "      <td>0.9</td>\n",
       "      <td>-0.101888</td>\n",
       "    </tr>\n",
       "    <tr>\n",
       "      <th>2</th>\n",
       "      <td>KO_MK-0.5</td>\n",
       "      <td>WT_Pl</td>\n",
       "      <td>51.099048</td>\n",
       "      <td>50.124333</td>\n",
       "      <td>0.974714</td>\n",
       "      <td>2.401545</td>\n",
       "      <td>two-sided</td>\n",
       "      <td>0.405870</td>\n",
       "      <td>0.9</td>\n",
       "      <td>0.095978</td>\n",
       "    </tr>\n",
       "    <tr>\n",
       "      <th>3</th>\n",
       "      <td>KO_Pl</td>\n",
       "      <td>WT_MK-0.5</td>\n",
       "      <td>50.433469</td>\n",
       "      <td>52.137143</td>\n",
       "      <td>-1.703673</td>\n",
       "      <td>3.044514</td>\n",
       "      <td>two-sided</td>\n",
       "      <td>-0.559588</td>\n",
       "      <td>0.9</td>\n",
       "      <td>-0.167487</td>\n",
       "    </tr>\n",
       "    <tr>\n",
       "      <th>4</th>\n",
       "      <td>KO_Pl</td>\n",
       "      <td>WT_Pl</td>\n",
       "      <td>50.433469</td>\n",
       "      <td>50.124333</td>\n",
       "      <td>0.309136</td>\n",
       "      <td>2.328974</td>\n",
       "      <td>two-sided</td>\n",
       "      <td>0.132735</td>\n",
       "      <td>0.9</td>\n",
       "      <td>0.030470</td>\n",
       "    </tr>\n",
       "    <tr>\n",
       "      <th>5</th>\n",
       "      <td>WT_MK-0.5</td>\n",
       "      <td>WT_Pl</td>\n",
       "      <td>52.137143</td>\n",
       "      <td>50.124333</td>\n",
       "      <td>2.012810</td>\n",
       "      <td>3.251708</td>\n",
       "      <td>two-sided</td>\n",
       "      <td>0.619001</td>\n",
       "      <td>0.9</td>\n",
       "      <td>0.196752</td>\n",
       "    </tr>\n",
       "  </tbody>\n",
       "</table>\n",
       "</div>"
      ],
      "text/plain": [
       "           A          B    mean(A)    mean(B)      diff        se       tail  \\\n",
       "0  KO_MK-0.5      KO_Pl  51.099048  50.433469  0.665578  2.112554  two-sided   \n",
       "1  KO_MK-0.5  WT_MK-0.5  51.099048  52.137143 -1.038095  3.100382  two-sided   \n",
       "2  KO_MK-0.5      WT_Pl  51.099048  50.124333  0.974714  2.401545  two-sided   \n",
       "3      KO_Pl  WT_MK-0.5  50.433469  52.137143 -1.703673  3.044514  two-sided   \n",
       "4      KO_Pl      WT_Pl  50.433469  50.124333  0.309136  2.328974  two-sided   \n",
       "5  WT_MK-0.5      WT_Pl  52.137143  50.124333  2.012810  3.251708  two-sided   \n",
       "\n",
       "          T  p-tukey    hedges  \n",
       "0  0.315059      0.9  0.065691  \n",
       "1 -0.334828      0.9 -0.101888  \n",
       "2  0.405870      0.9  0.095978  \n",
       "3 -0.559588      0.9 -0.167487  \n",
       "4  0.132735      0.9  0.030470  \n",
       "5  0.619001      0.9  0.196752  "
      ]
     },
     "execution_count": 164,
     "metadata": {},
     "output_type": "execute_result"
    }
   ],
   "source": [
    "pg.pairwise_tukey(data=triper_tidy[triper_tidy['Tx']!='MK-1'], dv = 'Alternation_Triplet_Per', between = 'Group')\n"
   ]
  },
  {
   "cell_type": "code",
   "execution_count": 178,
   "metadata": {},
   "outputs": [
    {
     "data": {
      "image/png": "[encoded data removed]",
      "text/plain": [
       "<Figure size 165.6x144 with 1 Axes>"
      ]
     },
     "metadata": {
      "needs_background": "light"
     },
     "output_type": "display_data"
    }
   ],
   "source": [
    "triper_all_paper = plt.figure(figsize=(2.3, 2))\n",
    "ax = plt.subplot()\n",
    "sns.boxplot(data= triper_tidy[triper_tidy['Tx']!='MK-1'], x='Tx', y='Alternation_Triplet_Per', order = ['Pl', 'MK-0.5'], hue='Group', hue_order = ['WT_Pl', 'WT_MK-0.5', 'KO_Pl', 'KO_MK-0.5'], palette=['royalblue', 'steelblue', 'forestgreen', 'darkseagreen'], showfliers = False, dodge = True)\n",
    "sns.stripplot(data= triper_tidy[triper_tidy['Tx']!='MK-1'], x='Tx', y='Alternation_Triplet_Per',order = ['Pl', 'MK-0.5'], hue='Group', hue_order = ['WT_Pl', 'WT_MK-0.5', 'KO_Pl', 'KO_MK-0.5'], palette=['royalblue', 'steelblue', 'forestgreen', 'darkseagreen'], dodge = True, linewidth=0.2, size=2, edgecolor='silver')\n",
    "plt.ylabel('Alternation Triplets (%)')\n",
    "labels = ['Saline', '0.5\\nmg/kg']\n",
    "ax.set_xticklabels(labels)\n",
    "sns.despine()\n",
    "plt.legend(bbox_to_anchor=(1.04,1), loc=\"upper left\")\n",
    "ax.set_xlabel=('')\n",
    "#plt.annotate(s='*', xy=(.6, 1), xycoords='axes fraction', xytext=(0, 2), textcoords='offset points', ha = 'center', arrowprops=dict(arrowstyle='-[, widthB=5, lengthB=.3', lw=1.5, color='k'), fontsize = 8)\n",
    "#plt.annotate(s='*', xy=(.5, 1.1), xycoords='axes fraction', xytext=(0,2), textcoords='offset points', ha = 'center', arrowprops=dict(arrowstyle='-[, widthB=6.5, lengthB=.3', lw=1.5, color='k'), fontsize = 8)\n"
   ]
  },
  {
   "cell_type": "code",
   "execution_count": 179,
   "metadata": {},
   "outputs": [],
   "source": [
    "triper_all_paper.savefig('/Users/labc02/Documents/PDCB_data/MK-project/Figures/Y_all_triper_paper.svg')"
   ]
  },
  {
   "cell_type": "markdown",
   "metadata": {},
   "source": [
    "### Arm Entries"
   ]
  },
  {
   "cell_type": "code",
   "execution_count": 180,
   "metadata": {},
   "outputs": [
    {
     "data": {
      "text/plain": [
       "[22, 39, 26, 30, 41, 128, 84, 129, 146, 147]"
      ]
     },
     "execution_count": 180,
     "metadata": {},
     "output_type": "execute_result"
    }
   ],
   "source": [
    "entries_outliers = []\n",
    "for group in y_data['Group'].unique():    \n",
    "    out = pg.madmedianrule(y_data[y_data['Group']== group]['Total Arm Entries'])\n",
    "    idx = y_data[y_data['Group']== group]['Total Arm Entries'].index.values\n",
    "    \n",
    "    for ii in idx[out]:\n",
    "        entries_outliers.append(ii)\n",
    "entries_outliers"
   ]
  },
  {
   "cell_type": "code",
   "execution_count": 186,
   "metadata": {},
   "outputs": [],
   "source": [
    "entries_tidy=y_data.drop(index = entries_outliers, inplace = False)"
   ]
  },
  {
   "cell_type": "code",
   "execution_count": 187,
   "metadata": {},
   "outputs": [
    {
     "data": {
      "text/plain": [
       "Genotype  Tx    \n",
       "KO        MK-0.5    43\n",
       "          MK-1       2\n",
       "          Pl        48\n",
       "WT        MK-0.5    10\n",
       "          MK-1      10\n",
       "          Pl        30\n",
       "Name: Subject Name, dtype: int64"
      ]
     },
     "execution_count": 187,
     "metadata": {},
     "output_type": "execute_result"
    }
   ],
   "source": [
    "entries_tidy.groupby(['Genotype', 'Tx'])['Subject Name'].count()"
   ]
  },
  {
   "cell_type": "code",
   "execution_count": 189,
   "metadata": {},
   "outputs": [
    {
     "data": {
      "text/html": [
       "<div>\n",
       "<style scoped>\n",
       "    .dataframe tbody tr th:only-of-type {\n",
       "        vertical-align: middle;\n",
       "    }\n",
       "\n",
       "    .dataframe tbody tr th {\n",
       "        vertical-align: top;\n",
       "    }\n",
       "\n",
       "    .dataframe thead th {\n",
       "        text-align: right;\n",
       "    }\n",
       "</style>\n",
       "<table border=\"1\" class=\"dataframe\">\n",
       "  <thead>\n",
       "    <tr style=\"text-align: right;\">\n",
       "      <th></th>\n",
       "      <th>W</th>\n",
       "      <th>pval</th>\n",
       "      <th>normal</th>\n",
       "    </tr>\n",
       "  </thead>\n",
       "  <tbody>\n",
       "    <tr>\n",
       "      <th>KO_MK-0.5</th>\n",
       "      <td>0.980206</td>\n",
       "      <td>0.655611</td>\n",
       "      <td>True</td>\n",
       "    </tr>\n",
       "    <tr>\n",
       "      <th>KO_Pl</th>\n",
       "      <td>0.971977</td>\n",
       "      <td>0.301872</td>\n",
       "      <td>True</td>\n",
       "    </tr>\n",
       "    <tr>\n",
       "      <th>WT_Pl</th>\n",
       "      <td>0.961398</td>\n",
       "      <td>0.336179</td>\n",
       "      <td>True</td>\n",
       "    </tr>\n",
       "    <tr>\n",
       "      <th>WT_MK-0.5</th>\n",
       "      <td>0.976930</td>\n",
       "      <td>0.946651</td>\n",
       "      <td>True</td>\n",
       "    </tr>\n",
       "    <tr>\n",
       "      <th>WT_MK-1</th>\n",
       "      <td>0.936803</td>\n",
       "      <td>0.518016</td>\n",
       "      <td>True</td>\n",
       "    </tr>\n",
       "  </tbody>\n",
       "</table>\n",
       "</div>"
      ],
      "text/plain": [
       "                  W      pval  normal\n",
       "KO_MK-0.5  0.980206  0.655611    True\n",
       "KO_Pl      0.971977  0.301872    True\n",
       "WT_Pl      0.961398  0.336179    True\n",
       "WT_MK-0.5  0.976930  0.946651    True\n",
       "WT_MK-1    0.936803  0.518016    True"
      ]
     },
     "execution_count": 189,
     "metadata": {},
     "output_type": "execute_result"
    }
   ],
   "source": [
    "pg.normality(data = entries_tidy[entries_tidy['Group']!='KO_MK-1'], dv = 'Total Arm Entries', group = 'Group')"
   ]
  },
  {
   "cell_type": "code",
   "execution_count": 190,
   "metadata": {},
   "outputs": [
    {
     "data": {
      "text/html": [
       "<div>\n",
       "<style scoped>\n",
       "    .dataframe tbody tr th:only-of-type {\n",
       "        vertical-align: middle;\n",
       "    }\n",
       "\n",
       "    .dataframe tbody tr th {\n",
       "        vertical-align: top;\n",
       "    }\n",
       "\n",
       "    .dataframe thead th {\n",
       "        text-align: right;\n",
       "    }\n",
       "</style>\n",
       "<table border=\"1\" class=\"dataframe\">\n",
       "  <thead>\n",
       "    <tr style=\"text-align: right;\">\n",
       "      <th></th>\n",
       "      <th>Source</th>\n",
       "      <th>ddof1</th>\n",
       "      <th>ddof2</th>\n",
       "      <th>F</th>\n",
       "      <th>p-unc</th>\n",
       "      <th>np2</th>\n",
       "    </tr>\n",
       "  </thead>\n",
       "  <tbody>\n",
       "    <tr>\n",
       "      <th>0</th>\n",
       "      <td>Tx</td>\n",
       "      <td>2</td>\n",
       "      <td>47</td>\n",
       "      <td>6.886261</td>\n",
       "      <td>0.002383</td>\n",
       "      <td>0.226624</td>\n",
       "    </tr>\n",
       "  </tbody>\n",
       "</table>\n",
       "</div>"
      ],
      "text/plain": [
       "  Source  ddof1  ddof2         F     p-unc       np2\n",
       "0     Tx      2     47  6.886261  0.002383  0.226624"
      ]
     },
     "execution_count": 190,
     "metadata": {},
     "output_type": "execute_result"
    }
   ],
   "source": [
    "pg.anova(data=entries_tidy[entries_tidy['Genotype']!='KO'], dv = 'Total Arm Entries', between = 'Tx')"
   ]
  },
  {
   "cell_type": "code",
   "execution_count": 191,
   "metadata": {},
   "outputs": [
    {
     "data": {
      "text/html": [
       "<div>\n",
       "<style scoped>\n",
       "    .dataframe tbody tr th:only-of-type {\n",
       "        vertical-align: middle;\n",
       "    }\n",
       "\n",
       "    .dataframe tbody tr th {\n",
       "        vertical-align: top;\n",
       "    }\n",
       "\n",
       "    .dataframe thead th {\n",
       "        text-align: right;\n",
       "    }\n",
       "</style>\n",
       "<table border=\"1\" class=\"dataframe\">\n",
       "  <thead>\n",
       "    <tr style=\"text-align: right;\">\n",
       "      <th></th>\n",
       "      <th>A</th>\n",
       "      <th>B</th>\n",
       "      <th>mean(A)</th>\n",
       "      <th>mean(B)</th>\n",
       "      <th>diff</th>\n",
       "      <th>se</th>\n",
       "      <th>tail</th>\n",
       "      <th>T</th>\n",
       "      <th>p-tukey</th>\n",
       "      <th>hedges</th>\n",
       "    </tr>\n",
       "  </thead>\n",
       "  <tbody>\n",
       "    <tr>\n",
       "      <th>0</th>\n",
       "      <td>MK-0.5</td>\n",
       "      <td>MK-1</td>\n",
       "      <td>36.1</td>\n",
       "      <td>37.0</td>\n",
       "      <td>-0.9</td>\n",
       "      <td>3.868971</td>\n",
       "      <td>two-sided</td>\n",
       "      <td>-0.23262</td>\n",
       "      <td>0.900000</td>\n",
       "      <td>-0.099635</td>\n",
       "    </tr>\n",
       "    <tr>\n",
       "      <th>1</th>\n",
       "      <td>MK-0.5</td>\n",
       "      <td>Pl</td>\n",
       "      <td>36.1</td>\n",
       "      <td>45.8</td>\n",
       "      <td>-9.7</td>\n",
       "      <td>3.159002</td>\n",
       "      <td>two-sided</td>\n",
       "      <td>-3.07059</td>\n",
       "      <td>0.006577</td>\n",
       "      <td>-1.098945</td>\n",
       "    </tr>\n",
       "    <tr>\n",
       "      <th>2</th>\n",
       "      <td>MK-1</td>\n",
       "      <td>Pl</td>\n",
       "      <td>37.0</td>\n",
       "      <td>45.8</td>\n",
       "      <td>-8.8</td>\n",
       "      <td>3.159002</td>\n",
       "      <td>two-sided</td>\n",
       "      <td>-2.78569</td>\n",
       "      <td>0.015709</td>\n",
       "      <td>-0.996981</td>\n",
       "    </tr>\n",
       "  </tbody>\n",
       "</table>\n",
       "</div>"
      ],
      "text/plain": [
       "        A     B  mean(A)  mean(B)  diff        se       tail        T  \\\n",
       "0  MK-0.5  MK-1     36.1     37.0  -0.9  3.868971  two-sided -0.23262   \n",
       "1  MK-0.5    Pl     36.1     45.8  -9.7  3.159002  two-sided -3.07059   \n",
       "2    MK-1    Pl     37.0     45.8  -8.8  3.159002  two-sided -2.78569   \n",
       "\n",
       "    p-tukey    hedges  \n",
       "0  0.900000 -0.099635  \n",
       "1  0.006577 -1.098945  \n",
       "2  0.015709 -0.996981  "
      ]
     },
     "execution_count": 191,
     "metadata": {},
     "output_type": "execute_result"
    }
   ],
   "source": [
    "pg.pairwise_tukey(data=entries_tidy[entries_tidy['Genotype']!='KO'], dv = 'Total Arm Entries', between = 'Tx')"
   ]
  },
  {
   "cell_type": "code",
   "execution_count": 193,
   "metadata": {},
   "outputs": [
    {
     "data": {
      "text/plain": [
       "Text(0, 2, '*')"
      ]
     },
     "execution_count": 193,
     "metadata": {},
     "output_type": "execute_result"
    },
    {
     "data": {
      "image/png": "[encoded data removed]",
      "text/plain": [
       "<Figure size 165.6x144 with 1 Axes>"
      ]
     },
     "metadata": {
      "needs_background": "light"
     },
     "output_type": "display_data"
    }
   ],
   "source": [
    "entries_wt_paper = plt.figure(figsize=(2.3, 2))\n",
    "ax = plt.subplot()\n",
    "sns.boxplot(data = entries_tidy[entries_tidy['Genotype']!='KO'], x = 'Tx', y = 'Total Arm Entries', hue='Group', hue_order = ['WT_Pl', 'WT_MK-0.5', 'WT_MK-1'], palette=['royalblue', 'steelblue', 'cornflowerblue'], dodge=True, showfliers = False)\n",
    "sns.stripplot(data = entries_tidy[entries_tidy['Genotype']!='KO'], x = 'Tx', y = 'Total Arm Entries', hue='Group', hue_order = ['WT_Pl', 'WT_MK-0.5', 'WT_MK-1'], palette=['royalblue', 'steelblue', 'cornflowerblue'], edgecolor='silver', size=2, linewidth =0.2, dodge=True)\n",
    "plt.ylabel('Arm Entries')\n",
    "labels = ['Saline', '0.5\\nmg/kg', '1\\nmg/kg']\n",
    "ax.set_xticklabels(labels)\n",
    "ax.set_xlabel=('')\n",
    "plt.legend(bbox_to_anchor=(1.04,1), loc=\"upper left\")\n",
    "sns.despine()\n",
    "plt.annotate(s='**', xy=(.33, 1), xycoords='axes fraction', xytext=(0, 2), textcoords='offset points', ha = 'center', arrowprops=dict(arrowstyle='-[, widthB=2.6, lengthB=.3', lw=1.5, color='k'), fontsize = 8)\n",
    "plt.annotate(s='*', xy=(.49, 1.1), xycoords='axes fraction', xytext=(0,2), textcoords='offset points', ha = 'center', arrowprops=dict(arrowstyle='-[, widthB=5.3, lengthB=.3', lw=1.5, color='k'), fontsize = 8)\n"
   ]
  },
  {
   "cell_type": "code",
   "execution_count": 195,
   "metadata": {},
   "outputs": [],
   "source": [
    "entries_wt_paper.savefig('/Users/labc02/Documents/PDCB_data/MK-project/Figures/Y_wt_entries_paper.svg')"
   ]
  },
  {
   "cell_type": "code",
   "execution_count": 196,
   "metadata": {},
   "outputs": [],
   "source": [
    "entries_tidy.rename(columns={'Total Arm Entries':'Arm_Entries'}, inplace=True)"
   ]
  },
  {
   "cell_type": "code",
   "execution_count": 198,
   "metadata": {},
   "outputs": [
    {
     "data": {
      "text/html": [
       "<div>\n",
       "<style scoped>\n",
       "    .dataframe tbody tr th:only-of-type {\n",
       "        vertical-align: middle;\n",
       "    }\n",
       "\n",
       "    .dataframe tbody tr th {\n",
       "        vertical-align: top;\n",
       "    }\n",
       "\n",
       "    .dataframe thead th {\n",
       "        text-align: right;\n",
       "    }\n",
       "</style>\n",
       "<table border=\"1\" class=\"dataframe\">\n",
       "  <thead>\n",
       "    <tr style=\"text-align: right;\">\n",
       "      <th></th>\n",
       "      <th>Source</th>\n",
       "      <th>SS</th>\n",
       "      <th>DF</th>\n",
       "      <th>MS</th>\n",
       "      <th>F</th>\n",
       "      <th>p-unc</th>\n",
       "      <th>np2</th>\n",
       "    </tr>\n",
       "  </thead>\n",
       "  <tbody>\n",
       "    <tr>\n",
       "      <th>0</th>\n",
       "      <td>Genotype</td>\n",
       "      <td>51.536941</td>\n",
       "      <td>1.0</td>\n",
       "      <td>51.536941</td>\n",
       "      <td>0.505740</td>\n",
       "      <td>0.478198</td>\n",
       "      <td>0.003678</td>\n",
       "    </tr>\n",
       "    <tr>\n",
       "      <th>1</th>\n",
       "      <td>Tx</td>\n",
       "      <td>1438.620727</td>\n",
       "      <td>2.0</td>\n",
       "      <td>719.310364</td>\n",
       "      <td>7.058709</td>\n",
       "      <td>0.001209</td>\n",
       "      <td>0.093420</td>\n",
       "    </tr>\n",
       "    <tr>\n",
       "      <th>2</th>\n",
       "      <td>Genotype * Tx</td>\n",
       "      <td>443.510434</td>\n",
       "      <td>2.0</td>\n",
       "      <td>221.755217</td>\n",
       "      <td>2.176120</td>\n",
       "      <td>0.117388</td>\n",
       "      <td>0.030790</td>\n",
       "    </tr>\n",
       "    <tr>\n",
       "      <th>3</th>\n",
       "      <td>Residual</td>\n",
       "      <td>13960.841957</td>\n",
       "      <td>137.0</td>\n",
       "      <td>101.903956</td>\n",
       "      <td>NaN</td>\n",
       "      <td>NaN</td>\n",
       "      <td>NaN</td>\n",
       "    </tr>\n",
       "  </tbody>\n",
       "</table>\n",
       "</div>"
      ],
      "text/plain": [
       "          Source            SS     DF          MS         F     p-unc  \\\n",
       "0       Genotype     51.536941    1.0   51.536941  0.505740  0.478198   \n",
       "1             Tx   1438.620727    2.0  719.310364  7.058709  0.001209   \n",
       "2  Genotype * Tx    443.510434    2.0  221.755217  2.176120  0.117388   \n",
       "3       Residual  13960.841957  137.0  101.903956       NaN       NaN   \n",
       "\n",
       "        np2  \n",
       "0  0.003678  \n",
       "1  0.093420  \n",
       "2  0.030790  \n",
       "3       NaN  "
      ]
     },
     "execution_count": 198,
     "metadata": {},
     "output_type": "execute_result"
    }
   ],
   "source": [
    "pg.anova(data=entries_tidy, dv = 'Arm_Entries', between = ['Genotype', 'Tx'])"
   ]
  },
  {
   "cell_type": "code",
   "execution_count": 199,
   "metadata": {},
   "outputs": [
    {
     "data": {
      "text/html": [
       "<div>\n",
       "<style scoped>\n",
       "    .dataframe tbody tr th:only-of-type {\n",
       "        vertical-align: middle;\n",
       "    }\n",
       "\n",
       "    .dataframe tbody tr th {\n",
       "        vertical-align: top;\n",
       "    }\n",
       "\n",
       "    .dataframe thead th {\n",
       "        text-align: right;\n",
       "    }\n",
       "</style>\n",
       "<table border=\"1\" class=\"dataframe\">\n",
       "  <thead>\n",
       "    <tr style=\"text-align: right;\">\n",
       "      <th></th>\n",
       "      <th>A</th>\n",
       "      <th>B</th>\n",
       "      <th>mean(A)</th>\n",
       "      <th>mean(B)</th>\n",
       "      <th>diff</th>\n",
       "      <th>se</th>\n",
       "      <th>tail</th>\n",
       "      <th>T</th>\n",
       "      <th>p-tukey</th>\n",
       "      <th>hedges</th>\n",
       "    </tr>\n",
       "  </thead>\n",
       "  <tbody>\n",
       "    <tr>\n",
       "      <th>0</th>\n",
       "      <td>KO_MK-0.5</td>\n",
       "      <td>KO_Pl</td>\n",
       "      <td>36.860465</td>\n",
       "      <td>42.270833</td>\n",
       "      <td>-5.410368</td>\n",
       "      <td>2.094307</td>\n",
       "      <td>two-sided</td>\n",
       "      <td>-2.583369</td>\n",
       "      <td>0.049396</td>\n",
       "      <td>-0.537857</td>\n",
       "    </tr>\n",
       "    <tr>\n",
       "      <th>1</th>\n",
       "      <td>KO_MK-0.5</td>\n",
       "      <td>WT_MK-0.5</td>\n",
       "      <td>36.860465</td>\n",
       "      <td>36.100000</td>\n",
       "      <td>0.760465</td>\n",
       "      <td>3.501694</td>\n",
       "      <td>two-sided</td>\n",
       "      <td>0.217171</td>\n",
       "      <td>0.900000</td>\n",
       "      <td>0.075117</td>\n",
       "    </tr>\n",
       "    <tr>\n",
       "      <th>2</th>\n",
       "      <td>KO_MK-0.5</td>\n",
       "      <td>WT_Pl</td>\n",
       "      <td>36.860465</td>\n",
       "      <td>45.800000</td>\n",
       "      <td>-8.939535</td>\n",
       "      <td>2.372690</td>\n",
       "      <td>two-sided</td>\n",
       "      <td>-3.767679</td>\n",
       "      <td>0.001033</td>\n",
       "      <td>-0.886772</td>\n",
       "    </tr>\n",
       "    <tr>\n",
       "      <th>3</th>\n",
       "      <td>KO_Pl</td>\n",
       "      <td>WT_MK-0.5</td>\n",
       "      <td>42.270833</td>\n",
       "      <td>36.100000</td>\n",
       "      <td>6.170833</td>\n",
       "      <td>3.467112</td>\n",
       "      <td>two-sided</td>\n",
       "      <td>1.779820</td>\n",
       "      <td>0.284363</td>\n",
       "      <td>0.610362</td>\n",
       "    </tr>\n",
       "    <tr>\n",
       "      <th>4</th>\n",
       "      <td>KO_Pl</td>\n",
       "      <td>WT_Pl</td>\n",
       "      <td>42.270833</td>\n",
       "      <td>45.800000</td>\n",
       "      <td>-3.529167</td>\n",
       "      <td>2.321349</td>\n",
       "      <td>two-sided</td>\n",
       "      <td>-1.520308</td>\n",
       "      <td>0.426966</td>\n",
       "      <td>-0.350329</td>\n",
       "    </tr>\n",
       "    <tr>\n",
       "      <th>5</th>\n",
       "      <td>WT_MK-0.5</td>\n",
       "      <td>WT_Pl</td>\n",
       "      <td>36.100000</td>\n",
       "      <td>45.800000</td>\n",
       "      <td>-9.700000</td>\n",
       "      <td>3.642033</td>\n",
       "      <td>two-sided</td>\n",
       "      <td>-2.663348</td>\n",
       "      <td>0.039880</td>\n",
       "      <td>-0.953196</td>\n",
       "    </tr>\n",
       "  </tbody>\n",
       "</table>\n",
       "</div>"
      ],
      "text/plain": [
       "           A          B    mean(A)    mean(B)      diff        se       tail  \\\n",
       "0  KO_MK-0.5      KO_Pl  36.860465  42.270833 -5.410368  2.094307  two-sided   \n",
       "1  KO_MK-0.5  WT_MK-0.5  36.860465  36.100000  0.760465  3.501694  two-sided   \n",
       "2  KO_MK-0.5      WT_Pl  36.860465  45.800000 -8.939535  2.372690  two-sided   \n",
       "3      KO_Pl  WT_MK-0.5  42.270833  36.100000  6.170833  3.467112  two-sided   \n",
       "4      KO_Pl      WT_Pl  42.270833  45.800000 -3.529167  2.321349  two-sided   \n",
       "5  WT_MK-0.5      WT_Pl  36.100000  45.800000 -9.700000  3.642033  two-sided   \n",
       "\n",
       "          T   p-tukey    hedges  \n",
       "0 -2.583369  0.049396 -0.537857  \n",
       "1  0.217171  0.900000  0.075117  \n",
       "2 -3.767679  0.001033 -0.886772  \n",
       "3  1.779820  0.284363  0.610362  \n",
       "4 -1.520308  0.426966 -0.350329  \n",
       "5 -2.663348  0.039880 -0.953196  "
      ]
     },
     "execution_count": 199,
     "metadata": {},
     "output_type": "execute_result"
    }
   ],
   "source": [
    "pg.pairwise_tukey(data=entries_tidy[entries_tidy['Tx']!='MK-1'], dv = 'Arm_Entries', between = 'Group')"
   ]
  },
  {
   "cell_type": "code",
   "execution_count": 204,
   "metadata": {},
   "outputs": [
    {
     "data": {
      "text/plain": [
       "Text(0, 2, '*')"
      ]
     },
     "execution_count": 204,
     "metadata": {},
     "output_type": "execute_result"
    },
    {
     "data": {
      "image/png": "[encoded data removed]",
      "text/plain": [
       "<Figure size 165.6x144 with 1 Axes>"
      ]
     },
     "metadata": {
      "needs_background": "light"
     },
     "output_type": "display_data"
    }
   ],
   "source": [
    "entries_all_paper = plt.figure(figsize=(2.3, 2))\n",
    "ax = plt.subplot()\n",
    "sns.boxplot(data= entries_tidy[entries_tidy['Tx']!='MK-1'], x='Tx', y='Arm_Entries', order = ['Pl', 'MK-0.5'], hue='Group', hue_order = ['WT_Pl', 'WT_MK-0.5', 'KO_Pl', 'KO_MK-0.5'], palette=['royalblue', 'steelblue', 'forestgreen', 'darkseagreen'], showfliers = False, dodge = True)\n",
    "sns.stripplot(data= entries_tidy[entries_tidy['Tx']!='MK-1'], x='Tx', y='Arm_Entries',order = ['Pl', 'MK-0.5'], hue='Group', hue_order = ['WT_Pl', 'WT_MK-0.5', 'KO_Pl', 'KO_MK-0.5'], palette=['royalblue', 'steelblue', 'forestgreen', 'darkseagreen'], dodge = True, linewidth=0.2, size=2, edgecolor='silver')\n",
    "plt.ylabel('Arm Entries')\n",
    "labels = ['Saline', '0.5\\nmg/kg']\n",
    "ax.set_xticklabels(labels)\n",
    "sns.despine()\n",
    "plt.legend(bbox_to_anchor=(1.04,1), loc=\"upper left\")\n",
    "ax.set_xlabel=('')\n",
    "plt.annotate(s='*', xy=(.4, 1), xycoords='axes fraction', xytext=(0, 2), textcoords='offset points', ha = 'center', arrowprops=dict(arrowstyle='-[, widthB=5, lengthB=.3', lw=1.5, color='k'), fontsize = 8)\n",
    "plt.annotate(s='***', xy=(.5, 1.1), xycoords='axes fraction', xytext=(0,2), textcoords='offset points', ha = 'center', arrowprops=dict(arrowstyle='-[, widthB=6.5, lengthB=.3', lw=1.5, color='k'), fontsize = 8)\n",
    "plt.annotate(s='*', xy=(.6, 1.2), xycoords='axes fraction', xytext=(0, 2), textcoords='offset points', ha = 'center', arrowprops=dict(arrowstyle='-[, widthB=5, lengthB=.3', lw=1.5, color='k'), fontsize = 8)\n"
   ]
  },
  {
   "cell_type": "code",
   "execution_count": 205,
   "metadata": {},
   "outputs": [],
   "source": [
    "entries_all_paper.savefig('/Users/labc02/Documents/PDCB_data/MK-project/Figures/Y_all_entries_paper.svg')"
   ]
  },
  {
   "cell_type": "code",
   "execution_count": null,
   "metadata": {},
   "outputs": [],
   "source": []
  }
 ],
 "metadata": {
  "kernelspec": {
   "display_name": "Python 3",
   "language": "python",
   "name": "python3"
  },
  "language_info": {
   "codemirror_mode": {
    "name": "ipython",
    "version": 3
   },
   "file_extension": ".py",
   "mimetype": "text/x-python",
   "name": "python",
   "nbconvert_exporter": "python",
   "pygments_lexer": "ipython3",
   "version": "3.8.2"
  }
 },
 "nbformat": 4,
 "nbformat_minor": 4
}
