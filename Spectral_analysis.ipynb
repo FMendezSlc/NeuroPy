{
 "cells": [
  {
   "cell_type": "markdown",
   "metadata": {},
   "source": [
    "### Spectral analysis"
   ]
  },
  {
   "cell_type": "code",
   "execution_count": 33,
   "metadata": {},
   "outputs": [],
   "source": [
    "import pandas as pd\n",
    "import matplotlib.pyplot as plt\n",
    "import seaborn as sns\n",
    "import pingouin as pg\n",
    "import numpy as np"
   ]
  },
  {
   "cell_type": "code",
   "execution_count": 2,
   "metadata": {},
   "outputs": [],
   "source": [
    "welch_df = pd.read_csv('/Users/labc02/Documents/PDCB_data/MK-project/LFP_data/Periodograms/periodograms_pool.csv')"
   ]
  },
  {
   "cell_type": "code",
   "execution_count": 5,
   "metadata": {},
   "outputs": [],
   "source": [
    "welch_long = welch_df.melt(id_vars = ['Date', 'Genotype', 'Sex', 'Tx', 'Condition'], var_name = 'Freqs', value_name = 'Power')"
   ]
  },
  {
   "cell_type": "code",
   "execution_count": 10,
   "metadata": {},
   "outputs": [
    {
     "data": {
      "text/plain": [
       "<matplotlib.axes._subplots.AxesSubplot at 0x1224cf850>"
      ]
     },
     "execution_count": 10,
     "metadata": {},
     "output_type": "execute_result"
    },
    {
     "data": {
      "image/png": "[encoded data removed]",
      "text/plain": [
       "<Figure size 432x288 with 1 Axes>"
      ]
     },
     "metadata": {
      "needs_background": "light"
     },
     "output_type": "display_data"
    }
   ],
   "source": [
    "sns.lineplot(data = welch_long[welch_long['Genotype']=='WT'], x = 'Freqs', y = 'Power', hue = 'Tx', style = 'Condition')"
   ]
  },
  {
   "cell_type": "code",
   "execution_count": 11,
   "metadata": {},
   "outputs": [
    {
     "data": {
      "text/html": [
       "<div>\n",
       "<style scoped>\n",
       "    .dataframe tbody tr th:only-of-type {\n",
       "        vertical-align: middle;\n",
       "    }\n",
       "\n",
       "    .dataframe tbody tr th {\n",
       "        vertical-align: top;\n",
       "    }\n",
       "\n",
       "    .dataframe thead th {\n",
       "        text-align: right;\n",
       "    }\n",
       "</style>\n",
       "<table border=\"1\" class=\"dataframe\">\n",
       "  <thead>\n",
       "    <tr style=\"text-align: right;\">\n",
       "      <th></th>\n",
       "      <th>Date</th>\n",
       "      <th>Genotype</th>\n",
       "      <th>Sex</th>\n",
       "      <th>Tx</th>\n",
       "      <th>Condition</th>\n",
       "      <th>Freqs</th>\n",
       "      <th>Power</th>\n",
       "    </tr>\n",
       "  </thead>\n",
       "  <tbody>\n",
       "    <tr>\n",
       "      <th>0</th>\n",
       "      <td>220621</td>\n",
       "      <td>WT</td>\n",
       "      <td>Fem</td>\n",
       "      <td>Saline</td>\n",
       "      <td>Basal</td>\n",
       "      <td>0.5</td>\n",
       "      <td>12399.824110</td>\n",
       "    </tr>\n",
       "    <tr>\n",
       "      <th>2</th>\n",
       "      <td>230621</td>\n",
       "      <td>WT</td>\n",
       "      <td>Fem</td>\n",
       "      <td>Saline</td>\n",
       "      <td>Basal</td>\n",
       "      <td>0.5</td>\n",
       "      <td>1830.720273</td>\n",
       "    </tr>\n",
       "    <tr>\n",
       "      <th>4</th>\n",
       "      <td>20721</td>\n",
       "      <td>WT</td>\n",
       "      <td>Male</td>\n",
       "      <td>Saline</td>\n",
       "      <td>Basal</td>\n",
       "      <td>0.5</td>\n",
       "      <td>8212.473915</td>\n",
       "    </tr>\n",
       "    <tr>\n",
       "      <th>6</th>\n",
       "      <td>30721</td>\n",
       "      <td>WT</td>\n",
       "      <td>Male</td>\n",
       "      <td>Saline</td>\n",
       "      <td>Basal</td>\n",
       "      <td>0.5</td>\n",
       "      <td>79713.526120</td>\n",
       "    </tr>\n",
       "    <tr>\n",
       "      <th>28</th>\n",
       "      <td>220621</td>\n",
       "      <td>WT</td>\n",
       "      <td>Fem</td>\n",
       "      <td>Saline</td>\n",
       "      <td>Basal</td>\n",
       "      <td>0.75</td>\n",
       "      <td>12003.461300</td>\n",
       "    </tr>\n",
       "    <tr>\n",
       "      <th>...</th>\n",
       "      <td>...</td>\n",
       "      <td>...</td>\n",
       "      <td>...</td>\n",
       "      <td>...</td>\n",
       "      <td>...</td>\n",
       "      <td>...</td>\n",
       "      <td>...</td>\n",
       "    </tr>\n",
       "    <tr>\n",
       "      <th>22322</th>\n",
       "      <td>30721</td>\n",
       "      <td>WT</td>\n",
       "      <td>Male</td>\n",
       "      <td>Saline</td>\n",
       "      <td>Basal</td>\n",
       "      <td>199.75</td>\n",
       "      <td>0.044650</td>\n",
       "    </tr>\n",
       "    <tr>\n",
       "      <th>22344</th>\n",
       "      <td>220621</td>\n",
       "      <td>WT</td>\n",
       "      <td>Fem</td>\n",
       "      <td>Saline</td>\n",
       "      <td>Basal</td>\n",
       "      <td>200</td>\n",
       "      <td>0.023229</td>\n",
       "    </tr>\n",
       "    <tr>\n",
       "      <th>22346</th>\n",
       "      <td>230621</td>\n",
       "      <td>WT</td>\n",
       "      <td>Fem</td>\n",
       "      <td>Saline</td>\n",
       "      <td>Basal</td>\n",
       "      <td>200</td>\n",
       "      <td>0.031439</td>\n",
       "    </tr>\n",
       "    <tr>\n",
       "      <th>22348</th>\n",
       "      <td>20721</td>\n",
       "      <td>WT</td>\n",
       "      <td>Male</td>\n",
       "      <td>Saline</td>\n",
       "      <td>Basal</td>\n",
       "      <td>200</td>\n",
       "      <td>0.189191</td>\n",
       "    </tr>\n",
       "    <tr>\n",
       "      <th>22350</th>\n",
       "      <td>30721</td>\n",
       "      <td>WT</td>\n",
       "      <td>Male</td>\n",
       "      <td>Saline</td>\n",
       "      <td>Basal</td>\n",
       "      <td>200</td>\n",
       "      <td>0.064496</td>\n",
       "    </tr>\n",
       "  </tbody>\n",
       "</table>\n",
       "<p>3196 rows × 7 columns</p>\n",
       "</div>"
      ],
      "text/plain": [
       "         Date Genotype   Sex      Tx Condition   Freqs         Power\n",
       "0      220621       WT   Fem  Saline     Basal     0.5  12399.824110\n",
       "2      230621       WT   Fem  Saline     Basal     0.5   1830.720273\n",
       "4       20721       WT  Male  Saline     Basal     0.5   8212.473915\n",
       "6       30721       WT  Male  Saline     Basal     0.5  79713.526120\n",
       "28     220621       WT   Fem  Saline     Basal    0.75  12003.461300\n",
       "...       ...      ...   ...     ...       ...     ...           ...\n",
       "22322   30721       WT  Male  Saline     Basal  199.75      0.044650\n",
       "22344  220621       WT   Fem  Saline     Basal     200      0.023229\n",
       "22346  230621       WT   Fem  Saline     Basal     200      0.031439\n",
       "22348   20721       WT  Male  Saline     Basal     200      0.189191\n",
       "22350   30721       WT  Male  Saline     Basal     200      0.064496\n",
       "\n",
       "[3196 rows x 7 columns]"
      ]
     },
     "execution_count": 11,
     "metadata": {},
     "output_type": "execute_result"
    }
   ],
   "source": [
    "welch_long[(welch_long['Genotype'] == 'WT') & (welch_long['Tx'] == 'Saline') & (welch_long['Condition'] == 'Basal')]"
   ]
  },
  {
   "cell_type": "code",
   "execution_count": 58,
   "metadata": {},
   "outputs": [
    {
     "data": {
      "text/plain": [
       "array(['Saline', 'MK_05'], dtype=object)"
      ]
     },
     "execution_count": 58,
     "metadata": {},
     "output_type": "execute_result"
    }
   ],
   "source": [
    "welch_df['Tx'].unique()"
   ]
  },
  {
   "cell_type": "code",
   "execution_count": 59,
   "metadata": {},
   "outputs": [],
   "source": [
    "wt_pl_bl = welch_df[(welch_df['Genotype'] == 'WT') & (welch_df['Tx'] == 'Saline')  & (welch_df['Condition'] == 'Basal')].copy()\n",
    "wt_pl_pn = welch_df[(welch_df['Genotype'] == 'WT') & (welch_df['Tx'] == 'Saline')  & (welch_df['Condition'] == 'Pinch')].copy()\n",
    "wt_mk_bl = welch_df[(welch_df['Genotype'] == 'WT') & (welch_df['Tx'] == 'MK_05')  & (welch_df['Condition'] == 'Basal')].copy()\n",
    "wt_mk_pn = welch_df[(welch_df['Genotype'] == 'WT') & (welch_df['Tx'] == 'MK_05')  & (welch_df['Condition'] == 'Pinch')].copy()\n",
    "ko_pl_bl = welch_df[(welch_df['Genotype'] == 'KO') & (welch_df['Tx'] == 'Saline')  & (welch_df['Condition'] == 'Basal')].copy()\n",
    "ko_pl_pn = welch_df[(welch_df['Genotype'] == 'KO') & (welch_df['Tx'] == 'Saline')  & (welch_df['Condition'] == 'Pinch')].copy()\n",
    "ko_mk_bl = welch_df[(welch_df['Genotype'] == 'KO') & (welch_df['Tx'] == 'MK_05')  & (welch_df['Condition'] == 'Basal')].copy()\n",
    "ko_mk_pn = welch_df[(welch_df['Genotype'] == 'KO') & (welch_df['Tx'] == 'MK_05')  & (welch_df['Condition'] == 'Pinch')].copy()\n",
    "\n"
   ]
  },
  {
   "cell_type": "code",
   "execution_count": 60,
   "metadata": {},
   "outputs": [],
   "source": [
    "wt_pl_bl_psd =  wt_pl_bl.iloc[:, 5:].mean(axis=0)\n",
    "wt_pl_pn_psd =  wt_pl_pn.iloc[:, 5:].mean(axis=0)\n",
    "wt_mk_bl_psd =  wt_mk_bl.iloc[:, 5:].mean(axis=0)\n",
    "wt_mk_pn_psd =  wt_mk_pn.iloc[:, 5:].mean(axis=0)\n",
    "ko_pl_bl_psd =  ko_pl_bl.iloc[:, 5:].mean(axis=0)\n",
    "ko_pl_pn_psd =  ko_pl_pn.iloc[:, 5:].mean(axis=0)\n",
    "ko_mk_bl_psd =  ko_mk_bl.iloc[:, 5:].mean(axis=0)\n",
    "ko_mk_pn_psd =  ko_mk_pn.iloc[:, 5:].mean(axis=0)"
   ]
  },
  {
   "cell_type": "code",
   "execution_count": 61,
   "metadata": {},
   "outputs": [],
   "source": [
    "ticks = np.arange(0.5, 200.25, 0.25)"
   ]
  },
  {
   "cell_type": "code",
   "execution_count": 65,
   "metadata": {},
   "outputs": [
    {
     "data": {
      "image/png": "[encoded data removed]",
      "text/plain": [
       "<Figure size 432x288 with 1 Axes>"
      ]
     },
     "metadata": {
      "needs_background": "light"
     },
     "output_type": "display_data"
    }
   ],
   "source": [
    "plt.plot(ticks, wt_pl_bl_psd)\n",
    "plt.plot(ticks, wt_pl_pn_psd)\n",
    "plt.yscale('log')\n",
    "#plt.xlim(0, 60)\n",
    "plt.locator_params(axis = 'x', nbins=6)\n",
    "plt.minorticks_on()"
   ]
  },
  {
   "cell_type": "code",
   "execution_count": 64,
   "metadata": {},
   "outputs": [
    {
     "data": {
      "image/png": "[encoded data removed]",
      "text/plain": [
       "<Figure size 432x288 with 1 Axes>"
      ]
     },
     "metadata": {
      "needs_background": "light"
     },
     "output_type": "display_data"
    }
   ],
   "source": [
    "plt.plot(ticks, wt_mk_bl_psd)\n",
    "plt.plot(ticks, wt_mk_pn_psd)\n",
    "plt.yscale('log')\n",
    "#plt.xlim(0, 60)\n",
    "plt.locator_params(axis = 'x', nbins=6)\n",
    "plt.minorticks_on()"
   ]
  },
  {
   "cell_type": "code",
   "execution_count": 66,
   "metadata": {},
   "outputs": [
    {
     "data": {
      "image/png": "[encoded data removed]",
      "text/plain": [
       "<Figure size 432x288 with 1 Axes>"
      ]
     },
     "metadata": {
      "needs_background": "light"
     },
     "output_type": "display_data"
    }
   ],
   "source": [
    "plt.plot(ticks, ko_pl_bl_psd)\n",
    "plt.plot(ticks, ko_pl_pn_psd)\n",
    "plt.yscale('log')\n",
    "#plt.xlim(0, 60)\n",
    "plt.locator_params(axis = 'x', nbins=6)\n",
    "plt.minorticks_on()"
   ]
  },
  {
   "cell_type": "code",
   "execution_count": 67,
   "metadata": {},
   "outputs": [
    {
     "data": {
      "image/png": "[encoded data removed]",
      "text/plain": [
       "<Figure size 432x288 with 1 Axes>"
      ]
     },
     "metadata": {
      "needs_background": "light"
     },
     "output_type": "display_data"
    }
   ],
   "source": [
    "plt.plot(ticks, ko_mk_bl_psd)\n",
    "plt.plot(ticks, ko_mk_pn_psd)\n",
    "plt.yscale('log')\n",
    "#plt.xlim(0, 60)\n",
    "plt.locator_params(axis = 'x', nbins=6)\n",
    "plt.minorticks_on()"
   ]
  },
  {
   "cell_type": "code",
   "execution_count": 68,
   "metadata": {},
   "outputs": [],
   "source": [
    "spectral_df = pd.read_csv('/Users/labc02/Documents/PDCB_data/MK-project/LFP_data/Spectral_analysis/spec_pool.csv')"
   ]
  },
  {
   "cell_type": "code",
   "execution_count": 76,
   "metadata": {},
   "outputs": [],
   "source": [
    "spectral_df['Group'] = spectral_df['Genotype']+ '_' + spectral_df['Tx']"
   ]
  },
  {
   "cell_type": "code",
   "execution_count": 71,
   "metadata": {
    "collapsed": true,
    "jupyter": {
     "outputs_hidden": true
    }
   },
   "outputs": [
    {
     "data": {
      "text/html": [
       "<div>\n",
       "<style scoped>\n",
       "    .dataframe tbody tr th:only-of-type {\n",
       "        vertical-align: middle;\n",
       "    }\n",
       "\n",
       "    .dataframe tbody tr th {\n",
       "        vertical-align: top;\n",
       "    }\n",
       "\n",
       "    .dataframe thead th {\n",
       "        text-align: right;\n",
       "    }\n",
       "</style>\n",
       "<table border=\"1\" class=\"dataframe\">\n",
       "  <thead>\n",
       "    <tr style=\"text-align: right;\">\n",
       "      <th></th>\n",
       "      <th>Date</th>\n",
       "      <th>Genotype</th>\n",
       "      <th>Sex</th>\n",
       "      <th>Tx</th>\n",
       "      <th>Condition</th>\n",
       "      <th>total_pw</th>\n",
       "      <th>delta_abs</th>\n",
       "      <th>theta_abs</th>\n",
       "      <th>beta_abs</th>\n",
       "      <th>gamma_slow_abs</th>\n",
       "      <th>gamma_fast_abs</th>\n",
       "      <th>delta_rel</th>\n",
       "      <th>theta_rel</th>\n",
       "      <th>beta_rel</th>\n",
       "      <th>gamma_slow_rel</th>\n",
       "      <th>gamma_fast_rel</th>\n",
       "      <th>Group</th>\n",
       "    </tr>\n",
       "  </thead>\n",
       "  <tbody>\n",
       "    <tr>\n",
       "      <th>0</th>\n",
       "      <td>220621</td>\n",
       "      <td>WT</td>\n",
       "      <td>Fem</td>\n",
       "      <td>Saline</td>\n",
       "      <td>Basal</td>\n",
       "      <td>14348.918</td>\n",
       "      <td>12452.775</td>\n",
       "      <td>1421.041</td>\n",
       "      <td>172.462</td>\n",
       "      <td>93.230</td>\n",
       "      <td>75.792</td>\n",
       "      <td>0.868</td>\n",
       "      <td>0.099</td>\n",
       "      <td>0.012</td>\n",
       "      <td>0.006</td>\n",
       "      <td>0.005</td>\n",
       "      <td>WTSalineBasal</td>\n",
       "    </tr>\n",
       "    <tr>\n",
       "      <th>1</th>\n",
       "      <td>220621</td>\n",
       "      <td>WT</td>\n",
       "      <td>Fem</td>\n",
       "      <td>Saline</td>\n",
       "      <td>Pinch</td>\n",
       "      <td>10391.962</td>\n",
       "      <td>6360.205</td>\n",
       "      <td>3157.446</td>\n",
       "      <td>331.019</td>\n",
       "      <td>262.069</td>\n",
       "      <td>87.783</td>\n",
       "      <td>0.612</td>\n",
       "      <td>0.304</td>\n",
       "      <td>0.032</td>\n",
       "      <td>0.025</td>\n",
       "      <td>0.008</td>\n",
       "      <td>WTSalinePinch</td>\n",
       "    </tr>\n",
       "    <tr>\n",
       "      <th>2</th>\n",
       "      <td>230621</td>\n",
       "      <td>WT</td>\n",
       "      <td>Fem</td>\n",
       "      <td>Saline</td>\n",
       "      <td>Basal</td>\n",
       "      <td>4702.684</td>\n",
       "      <td>3529.282</td>\n",
       "      <td>863.337</td>\n",
       "      <td>121.215</td>\n",
       "      <td>96.237</td>\n",
       "      <td>33.083</td>\n",
       "      <td>0.750</td>\n",
       "      <td>0.184</td>\n",
       "      <td>0.026</td>\n",
       "      <td>0.020</td>\n",
       "      <td>0.007</td>\n",
       "      <td>WTSalineBasal</td>\n",
       "    </tr>\n",
       "    <tr>\n",
       "      <th>3</th>\n",
       "      <td>230621</td>\n",
       "      <td>WT</td>\n",
       "      <td>Fem</td>\n",
       "      <td>Saline</td>\n",
       "      <td>Pinch</td>\n",
       "      <td>2098.275</td>\n",
       "      <td>1059.622</td>\n",
       "      <td>617.188</td>\n",
       "      <td>173.914</td>\n",
       "      <td>130.760</td>\n",
       "      <td>46.858</td>\n",
       "      <td>0.505</td>\n",
       "      <td>0.294</td>\n",
       "      <td>0.083</td>\n",
       "      <td>0.062</td>\n",
       "      <td>0.022</td>\n",
       "      <td>WTSalinePinch</td>\n",
       "    </tr>\n",
       "    <tr>\n",
       "      <th>4</th>\n",
       "      <td>20721</td>\n",
       "      <td>WT</td>\n",
       "      <td>Male</td>\n",
       "      <td>Saline</td>\n",
       "      <td>Basal</td>\n",
       "      <td>32268.884</td>\n",
       "      <td>28786.537</td>\n",
       "      <td>2693.304</td>\n",
       "      <td>339.947</td>\n",
       "      <td>216.990</td>\n",
       "      <td>54.947</td>\n",
       "      <td>0.892</td>\n",
       "      <td>0.083</td>\n",
       "      <td>0.011</td>\n",
       "      <td>0.007</td>\n",
       "      <td>0.002</td>\n",
       "      <td>WTSalineBasal</td>\n",
       "    </tr>\n",
       "    <tr>\n",
       "      <th>5</th>\n",
       "      <td>20721</td>\n",
       "      <td>WT</td>\n",
       "      <td>Male</td>\n",
       "      <td>Saline</td>\n",
       "      <td>Pinch</td>\n",
       "      <td>15132.012</td>\n",
       "      <td>12602.319</td>\n",
       "      <td>1739.532</td>\n",
       "      <td>394.243</td>\n",
       "      <td>200.062</td>\n",
       "      <td>36.861</td>\n",
       "      <td>0.833</td>\n",
       "      <td>0.115</td>\n",
       "      <td>0.026</td>\n",
       "      <td>0.013</td>\n",
       "      <td>0.002</td>\n",
       "      <td>WTSalinePinch</td>\n",
       "    </tr>\n",
       "    <tr>\n",
       "      <th>6</th>\n",
       "      <td>150521</td>\n",
       "      <td>KO</td>\n",
       "      <td>Male</td>\n",
       "      <td>Saline</td>\n",
       "      <td>Basal</td>\n",
       "      <td>2489.551</td>\n",
       "      <td>1835.656</td>\n",
       "      <td>354.969</td>\n",
       "      <td>120.272</td>\n",
       "      <td>85.870</td>\n",
       "      <td>40.011</td>\n",
       "      <td>0.737</td>\n",
       "      <td>0.143</td>\n",
       "      <td>0.048</td>\n",
       "      <td>0.034</td>\n",
       "      <td>0.016</td>\n",
       "      <td>KOSalineBasal</td>\n",
       "    </tr>\n",
       "    <tr>\n",
       "      <th>7</th>\n",
       "      <td>150521</td>\n",
       "      <td>KO</td>\n",
       "      <td>Male</td>\n",
       "      <td>Saline</td>\n",
       "      <td>Pinch</td>\n",
       "      <td>2814.789</td>\n",
       "      <td>621.554</td>\n",
       "      <td>1560.700</td>\n",
       "      <td>252.452</td>\n",
       "      <td>232.534</td>\n",
       "      <td>63.042</td>\n",
       "      <td>0.221</td>\n",
       "      <td>0.554</td>\n",
       "      <td>0.090</td>\n",
       "      <td>0.083</td>\n",
       "      <td>0.022</td>\n",
       "      <td>KOSalinePinch</td>\n",
       "    </tr>\n",
       "    <tr>\n",
       "      <th>8</th>\n",
       "      <td>30721</td>\n",
       "      <td>WT</td>\n",
       "      <td>Male</td>\n",
       "      <td>Saline</td>\n",
       "      <td>Basal</td>\n",
       "      <td>311470.906</td>\n",
       "      <td>303562.681</td>\n",
       "      <td>7266.216</td>\n",
       "      <td>231.845</td>\n",
       "      <td>109.619</td>\n",
       "      <td>48.361</td>\n",
       "      <td>0.975</td>\n",
       "      <td>0.023</td>\n",
       "      <td>0.001</td>\n",
       "      <td>0.000</td>\n",
       "      <td>0.000</td>\n",
       "      <td>WTSalineBasal</td>\n",
       "    </tr>\n",
       "    <tr>\n",
       "      <th>9</th>\n",
       "      <td>30721</td>\n",
       "      <td>WT</td>\n",
       "      <td>Male</td>\n",
       "      <td>Saline</td>\n",
       "      <td>Pinch</td>\n",
       "      <td>44504.311</td>\n",
       "      <td>40312.455</td>\n",
       "      <td>3080.064</td>\n",
       "      <td>524.058</td>\n",
       "      <td>266.193</td>\n",
       "      <td>55.420</td>\n",
       "      <td>0.906</td>\n",
       "      <td>0.069</td>\n",
       "      <td>0.012</td>\n",
       "      <td>0.006</td>\n",
       "      <td>0.001</td>\n",
       "      <td>WTSalinePinch</td>\n",
       "    </tr>\n",
       "    <tr>\n",
       "      <th>10</th>\n",
       "      <td>30621</td>\n",
       "      <td>KO</td>\n",
       "      <td>Male</td>\n",
       "      <td>Saline</td>\n",
       "      <td>Basal</td>\n",
       "      <td>9797.471</td>\n",
       "      <td>7217.060</td>\n",
       "      <td>1741.975</td>\n",
       "      <td>383.353</td>\n",
       "      <td>185.219</td>\n",
       "      <td>48.728</td>\n",
       "      <td>0.737</td>\n",
       "      <td>0.178</td>\n",
       "      <td>0.039</td>\n",
       "      <td>0.019</td>\n",
       "      <td>0.005</td>\n",
       "      <td>KOSalineBasal</td>\n",
       "    </tr>\n",
       "    <tr>\n",
       "      <th>11</th>\n",
       "      <td>30621</td>\n",
       "      <td>KO</td>\n",
       "      <td>Male</td>\n",
       "      <td>Saline</td>\n",
       "      <td>Pinch</td>\n",
       "      <td>8672.082</td>\n",
       "      <td>6160.454</td>\n",
       "      <td>1301.504</td>\n",
       "      <td>679.472</td>\n",
       "      <td>278.512</td>\n",
       "      <td>69.352</td>\n",
       "      <td>0.710</td>\n",
       "      <td>0.150</td>\n",
       "      <td>0.078</td>\n",
       "      <td>0.032</td>\n",
       "      <td>0.008</td>\n",
       "      <td>KOSalinePinch</td>\n",
       "    </tr>\n",
       "    <tr>\n",
       "      <th>12</th>\n",
       "      <td>180621</td>\n",
       "      <td>KO</td>\n",
       "      <td>Fem</td>\n",
       "      <td>Saline</td>\n",
       "      <td>Basal</td>\n",
       "      <td>4409.289</td>\n",
       "      <td>3717.959</td>\n",
       "      <td>428.782</td>\n",
       "      <td>140.284</td>\n",
       "      <td>48.859</td>\n",
       "      <td>15.832</td>\n",
       "      <td>0.843</td>\n",
       "      <td>0.097</td>\n",
       "      <td>0.032</td>\n",
       "      <td>0.011</td>\n",
       "      <td>0.004</td>\n",
       "      <td>KOSalineBasal</td>\n",
       "    </tr>\n",
       "    <tr>\n",
       "      <th>13</th>\n",
       "      <td>180621</td>\n",
       "      <td>KO</td>\n",
       "      <td>Fem</td>\n",
       "      <td>Saline</td>\n",
       "      <td>Pinch</td>\n",
       "      <td>2424.071</td>\n",
       "      <td>1621.437</td>\n",
       "      <td>453.530</td>\n",
       "      <td>204.976</td>\n",
       "      <td>78.304</td>\n",
       "      <td>19.897</td>\n",
       "      <td>0.669</td>\n",
       "      <td>0.187</td>\n",
       "      <td>0.085</td>\n",
       "      <td>0.032</td>\n",
       "      <td>0.008</td>\n",
       "      <td>KOSalinePinch</td>\n",
       "    </tr>\n",
       "    <tr>\n",
       "      <th>14</th>\n",
       "      <td>290621</td>\n",
       "      <td>KO</td>\n",
       "      <td>Fem</td>\n",
       "      <td>Saline</td>\n",
       "      <td>Basal</td>\n",
       "      <td>4250.019</td>\n",
       "      <td>2634.213</td>\n",
       "      <td>1203.571</td>\n",
       "      <td>156.725</td>\n",
       "      <td>93.350</td>\n",
       "      <td>23.524</td>\n",
       "      <td>0.620</td>\n",
       "      <td>0.283</td>\n",
       "      <td>0.037</td>\n",
       "      <td>0.022</td>\n",
       "      <td>0.006</td>\n",
       "      <td>KOSalineBasal</td>\n",
       "    </tr>\n",
       "    <tr>\n",
       "      <th>15</th>\n",
       "      <td>290621</td>\n",
       "      <td>KO</td>\n",
       "      <td>Fem</td>\n",
       "      <td>Saline</td>\n",
       "      <td>Pinch</td>\n",
       "      <td>2795.135</td>\n",
       "      <td>1957.547</td>\n",
       "      <td>522.370</td>\n",
       "      <td>141.796</td>\n",
       "      <td>90.615</td>\n",
       "      <td>23.140</td>\n",
       "      <td>0.700</td>\n",
       "      <td>0.187</td>\n",
       "      <td>0.051</td>\n",
       "      <td>0.032</td>\n",
       "      <td>0.008</td>\n",
       "      <td>KOSalinePinch</td>\n",
       "    </tr>\n",
       "    <tr>\n",
       "      <th>16</th>\n",
       "      <td>50521</td>\n",
       "      <td>WT</td>\n",
       "      <td>Fem</td>\n",
       "      <td>MK_05</td>\n",
       "      <td>Basal</td>\n",
       "      <td>2139.124</td>\n",
       "      <td>1402.719</td>\n",
       "      <td>433.303</td>\n",
       "      <td>131.168</td>\n",
       "      <td>52.883</td>\n",
       "      <td>29.619</td>\n",
       "      <td>0.656</td>\n",
       "      <td>0.203</td>\n",
       "      <td>0.061</td>\n",
       "      <td>0.025</td>\n",
       "      <td>0.014</td>\n",
       "      <td>WTMK_05Basal</td>\n",
       "    </tr>\n",
       "    <tr>\n",
       "      <th>17</th>\n",
       "      <td>50521</td>\n",
       "      <td>WT</td>\n",
       "      <td>Fem</td>\n",
       "      <td>MK_05</td>\n",
       "      <td>Pinch</td>\n",
       "      <td>3268.158</td>\n",
       "      <td>1819.379</td>\n",
       "      <td>662.808</td>\n",
       "      <td>396.439</td>\n",
       "      <td>96.195</td>\n",
       "      <td>36.152</td>\n",
       "      <td>0.557</td>\n",
       "      <td>0.203</td>\n",
       "      <td>0.121</td>\n",
       "      <td>0.029</td>\n",
       "      <td>0.011</td>\n",
       "      <td>WTMK_05Pinch</td>\n",
       "    </tr>\n",
       "    <tr>\n",
       "      <th>18</th>\n",
       "      <td>200521</td>\n",
       "      <td>WT</td>\n",
       "      <td>Fem</td>\n",
       "      <td>MK_05</td>\n",
       "      <td>Basal</td>\n",
       "      <td>63351.802</td>\n",
       "      <td>55102.894</td>\n",
       "      <td>5478.414</td>\n",
       "      <td>1530.106</td>\n",
       "      <td>683.273</td>\n",
       "      <td>139.891</td>\n",
       "      <td>0.870</td>\n",
       "      <td>0.086</td>\n",
       "      <td>0.024</td>\n",
       "      <td>0.011</td>\n",
       "      <td>0.002</td>\n",
       "      <td>WTMK_05Basal</td>\n",
       "    </tr>\n",
       "    <tr>\n",
       "      <th>19</th>\n",
       "      <td>200521</td>\n",
       "      <td>WT</td>\n",
       "      <td>Fem</td>\n",
       "      <td>MK_05</td>\n",
       "      <td>Pinch</td>\n",
       "      <td>18664.703</td>\n",
       "      <td>12117.496</td>\n",
       "      <td>2382.011</td>\n",
       "      <td>2538.001</td>\n",
       "      <td>1114.371</td>\n",
       "      <td>209.798</td>\n",
       "      <td>0.649</td>\n",
       "      <td>0.128</td>\n",
       "      <td>0.136</td>\n",
       "      <td>0.060</td>\n",
       "      <td>0.011</td>\n",
       "      <td>WTMK_05Pinch</td>\n",
       "    </tr>\n",
       "    <tr>\n",
       "      <th>20</th>\n",
       "      <td>260521</td>\n",
       "      <td>KO</td>\n",
       "      <td>Male</td>\n",
       "      <td>MK_05</td>\n",
       "      <td>Basal</td>\n",
       "      <td>11097.433</td>\n",
       "      <td>7571.501</td>\n",
       "      <td>2011.685</td>\n",
       "      <td>681.865</td>\n",
       "      <td>380.633</td>\n",
       "      <td>119.253</td>\n",
       "      <td>0.682</td>\n",
       "      <td>0.181</td>\n",
       "      <td>0.061</td>\n",
       "      <td>0.034</td>\n",
       "      <td>0.011</td>\n",
       "      <td>KOMK_05Basal</td>\n",
       "    </tr>\n",
       "    <tr>\n",
       "      <th>21</th>\n",
       "      <td>260521</td>\n",
       "      <td>KO</td>\n",
       "      <td>Male</td>\n",
       "      <td>MK_05</td>\n",
       "      <td>Pinch</td>\n",
       "      <td>6140.489</td>\n",
       "      <td>2759.063</td>\n",
       "      <td>2063.336</td>\n",
       "      <td>600.152</td>\n",
       "      <td>400.479</td>\n",
       "      <td>86.901</td>\n",
       "      <td>0.449</td>\n",
       "      <td>0.336</td>\n",
       "      <td>0.098</td>\n",
       "      <td>0.065</td>\n",
       "      <td>0.014</td>\n",
       "      <td>KOMK_05Pinch</td>\n",
       "    </tr>\n",
       "    <tr>\n",
       "      <th>22</th>\n",
       "      <td>100621</td>\n",
       "      <td>KO</td>\n",
       "      <td>Male</td>\n",
       "      <td>MK_05</td>\n",
       "      <td>Basal</td>\n",
       "      <td>15619.749</td>\n",
       "      <td>13107.954</td>\n",
       "      <td>1950.174</td>\n",
       "      <td>204.375</td>\n",
       "      <td>141.409</td>\n",
       "      <td>58.612</td>\n",
       "      <td>0.839</td>\n",
       "      <td>0.125</td>\n",
       "      <td>0.013</td>\n",
       "      <td>0.009</td>\n",
       "      <td>0.004</td>\n",
       "      <td>KOMK_05Basal</td>\n",
       "    </tr>\n",
       "    <tr>\n",
       "      <th>23</th>\n",
       "      <td>100621</td>\n",
       "      <td>KO</td>\n",
       "      <td>Male</td>\n",
       "      <td>MK_05</td>\n",
       "      <td>Pinch</td>\n",
       "      <td>5246.911</td>\n",
       "      <td>1708.497</td>\n",
       "      <td>2807.263</td>\n",
       "      <td>323.211</td>\n",
       "      <td>242.276</td>\n",
       "      <td>52.034</td>\n",
       "      <td>0.326</td>\n",
       "      <td>0.535</td>\n",
       "      <td>0.062</td>\n",
       "      <td>0.046</td>\n",
       "      <td>0.010</td>\n",
       "      <td>KOMK_05Pinch</td>\n",
       "    </tr>\n",
       "    <tr>\n",
       "      <th>24</th>\n",
       "      <td>240621</td>\n",
       "      <td>WT</td>\n",
       "      <td>Fem</td>\n",
       "      <td>MK_05</td>\n",
       "      <td>Basal</td>\n",
       "      <td>2061.841</td>\n",
       "      <td>1534.888</td>\n",
       "      <td>264.392</td>\n",
       "      <td>123.772</td>\n",
       "      <td>66.446</td>\n",
       "      <td>16.580</td>\n",
       "      <td>0.744</td>\n",
       "      <td>0.128</td>\n",
       "      <td>0.060</td>\n",
       "      <td>0.032</td>\n",
       "      <td>0.008</td>\n",
       "      <td>WTMK_05Basal</td>\n",
       "    </tr>\n",
       "    <tr>\n",
       "      <th>25</th>\n",
       "      <td>240621</td>\n",
       "      <td>WT</td>\n",
       "      <td>Fem</td>\n",
       "      <td>MK_05</td>\n",
       "      <td>Pinch</td>\n",
       "      <td>3030.309</td>\n",
       "      <td>2485.005</td>\n",
       "      <td>270.751</td>\n",
       "      <td>145.018</td>\n",
       "      <td>68.545</td>\n",
       "      <td>17.060</td>\n",
       "      <td>0.820</td>\n",
       "      <td>0.089</td>\n",
       "      <td>0.048</td>\n",
       "      <td>0.023</td>\n",
       "      <td>0.006</td>\n",
       "      <td>WTMK_05Pinch</td>\n",
       "    </tr>\n",
       "    <tr>\n",
       "      <th>26</th>\n",
       "      <td>250621</td>\n",
       "      <td>WT</td>\n",
       "      <td>Fem</td>\n",
       "      <td>MK_05</td>\n",
       "      <td>Basal</td>\n",
       "      <td>7220.522</td>\n",
       "      <td>5791.188</td>\n",
       "      <td>782.244</td>\n",
       "      <td>280.706</td>\n",
       "      <td>125.852</td>\n",
       "      <td>78.557</td>\n",
       "      <td>0.802</td>\n",
       "      <td>0.108</td>\n",
       "      <td>0.039</td>\n",
       "      <td>0.017</td>\n",
       "      <td>0.011</td>\n",
       "      <td>WTMK_05Basal</td>\n",
       "    </tr>\n",
       "    <tr>\n",
       "      <th>27</th>\n",
       "      <td>250621</td>\n",
       "      <td>WT</td>\n",
       "      <td>Fem</td>\n",
       "      <td>MK_05</td>\n",
       "      <td>Pinch</td>\n",
       "      <td>8601.100</td>\n",
       "      <td>6167.886</td>\n",
       "      <td>1296.888</td>\n",
       "      <td>632.310</td>\n",
       "      <td>240.753</td>\n",
       "      <td>86.959</td>\n",
       "      <td>0.717</td>\n",
       "      <td>0.151</td>\n",
       "      <td>0.074</td>\n",
       "      <td>0.028</td>\n",
       "      <td>0.010</td>\n",
       "      <td>WTMK_05Pinch</td>\n",
       "    </tr>\n",
       "  </tbody>\n",
       "</table>\n",
       "</div>"
      ],
      "text/plain": [
       "      Date Genotype   Sex      Tx Condition    total_pw   delta_abs  \\\n",
       "0   220621       WT   Fem  Saline     Basal   14348.918   12452.775   \n",
       "1   220621       WT   Fem  Saline     Pinch   10391.962    6360.205   \n",
       "2   230621       WT   Fem  Saline     Basal    4702.684    3529.282   \n",
       "3   230621       WT   Fem  Saline     Pinch    2098.275    1059.622   \n",
       "4    20721       WT  Male  Saline     Basal   32268.884   28786.537   \n",
       "5    20721       WT  Male  Saline     Pinch   15132.012   12602.319   \n",
       "6   150521       KO  Male  Saline     Basal    2489.551    1835.656   \n",
       "7   150521       KO  Male  Saline     Pinch    2814.789     621.554   \n",
       "8    30721       WT  Male  Saline     Basal  311470.906  303562.681   \n",
       "9    30721       WT  Male  Saline     Pinch   44504.311   40312.455   \n",
       "10   30621       KO  Male  Saline     Basal    9797.471    7217.060   \n",
       "11   30621       KO  Male  Saline     Pinch    8672.082    6160.454   \n",
       "12  180621       KO   Fem  Saline     Basal    4409.289    3717.959   \n",
       "13  180621       KO   Fem  Saline     Pinch    2424.071    1621.437   \n",
       "14  290621       KO   Fem  Saline     Basal    4250.019    2634.213   \n",
       "15  290621       KO   Fem  Saline     Pinch    2795.135    1957.547   \n",
       "16   50521       WT   Fem   MK_05     Basal    2139.124    1402.719   \n",
       "17   50521       WT   Fem   MK_05     Pinch    3268.158    1819.379   \n",
       "18  200521       WT   Fem   MK_05     Basal   63351.802   55102.894   \n",
       "19  200521       WT   Fem   MK_05     Pinch   18664.703   12117.496   \n",
       "20  260521       KO  Male   MK_05     Basal   11097.433    7571.501   \n",
       "21  260521       KO  Male   MK_05     Pinch    6140.489    2759.063   \n",
       "22  100621       KO  Male   MK_05     Basal   15619.749   13107.954   \n",
       "23  100621       KO  Male   MK_05     Pinch    5246.911    1708.497   \n",
       "24  240621       WT   Fem   MK_05     Basal    2061.841    1534.888   \n",
       "25  240621       WT   Fem   MK_05     Pinch    3030.309    2485.005   \n",
       "26  250621       WT   Fem   MK_05     Basal    7220.522    5791.188   \n",
       "27  250621       WT   Fem   MK_05     Pinch    8601.100    6167.886   \n",
       "\n",
       "    theta_abs  beta_abs  gamma_slow_abs  gamma_fast_abs  delta_rel  theta_rel  \\\n",
       "0    1421.041   172.462          93.230          75.792      0.868      0.099   \n",
       "1    3157.446   331.019         262.069          87.783      0.612      0.304   \n",
       "2     863.337   121.215          96.237          33.083      0.750      0.184   \n",
       "3     617.188   173.914         130.760          46.858      0.505      0.294   \n",
       "4    2693.304   339.947         216.990          54.947      0.892      0.083   \n",
       "5    1739.532   394.243         200.062          36.861      0.833      0.115   \n",
       "6     354.969   120.272          85.870          40.011      0.737      0.143   \n",
       "7    1560.700   252.452         232.534          63.042      0.221      0.554   \n",
       "8    7266.216   231.845         109.619          48.361      0.975      0.023   \n",
       "9    3080.064   524.058         266.193          55.420      0.906      0.069   \n",
       "10   1741.975   383.353         185.219          48.728      0.737      0.178   \n",
       "11   1301.504   679.472         278.512          69.352      0.710      0.150   \n",
       "12    428.782   140.284          48.859          15.832      0.843      0.097   \n",
       "13    453.530   204.976          78.304          19.897      0.669      0.187   \n",
       "14   1203.571   156.725          93.350          23.524      0.620      0.283   \n",
       "15    522.370   141.796          90.615          23.140      0.700      0.187   \n",
       "16    433.303   131.168          52.883          29.619      0.656      0.203   \n",
       "17    662.808   396.439          96.195          36.152      0.557      0.203   \n",
       "18   5478.414  1530.106         683.273         139.891      0.870      0.086   \n",
       "19   2382.011  2538.001        1114.371         209.798      0.649      0.128   \n",
       "20   2011.685   681.865         380.633         119.253      0.682      0.181   \n",
       "21   2063.336   600.152         400.479          86.901      0.449      0.336   \n",
       "22   1950.174   204.375         141.409          58.612      0.839      0.125   \n",
       "23   2807.263   323.211         242.276          52.034      0.326      0.535   \n",
       "24    264.392   123.772          66.446          16.580      0.744      0.128   \n",
       "25    270.751   145.018          68.545          17.060      0.820      0.089   \n",
       "26    782.244   280.706         125.852          78.557      0.802      0.108   \n",
       "27   1296.888   632.310         240.753          86.959      0.717      0.151   \n",
       "\n",
       "    beta_rel  gamma_slow_rel  gamma_fast_rel          Group  \n",
       "0      0.012           0.006           0.005  WTSalineBasal  \n",
       "1      0.032           0.025           0.008  WTSalinePinch  \n",
       "2      0.026           0.020           0.007  WTSalineBasal  \n",
       "3      0.083           0.062           0.022  WTSalinePinch  \n",
       "4      0.011           0.007           0.002  WTSalineBasal  \n",
       "5      0.026           0.013           0.002  WTSalinePinch  \n",
       "6      0.048           0.034           0.016  KOSalineBasal  \n",
       "7      0.090           0.083           0.022  KOSalinePinch  \n",
       "8      0.001           0.000           0.000  WTSalineBasal  \n",
       "9      0.012           0.006           0.001  WTSalinePinch  \n",
       "10     0.039           0.019           0.005  KOSalineBasal  \n",
       "11     0.078           0.032           0.008  KOSalinePinch  \n",
       "12     0.032           0.011           0.004  KOSalineBasal  \n",
       "13     0.085           0.032           0.008  KOSalinePinch  \n",
       "14     0.037           0.022           0.006  KOSalineBasal  \n",
       "15     0.051           0.032           0.008  KOSalinePinch  \n",
       "16     0.061           0.025           0.014   WTMK_05Basal  \n",
       "17     0.121           0.029           0.011   WTMK_05Pinch  \n",
       "18     0.024           0.011           0.002   WTMK_05Basal  \n",
       "19     0.136           0.060           0.011   WTMK_05Pinch  \n",
       "20     0.061           0.034           0.011   KOMK_05Basal  \n",
       "21     0.098           0.065           0.014   KOMK_05Pinch  \n",
       "22     0.013           0.009           0.004   KOMK_05Basal  \n",
       "23     0.062           0.046           0.010   KOMK_05Pinch  \n",
       "24     0.060           0.032           0.008   WTMK_05Basal  \n",
       "25     0.048           0.023           0.006   WTMK_05Pinch  \n",
       "26     0.039           0.017           0.011   WTMK_05Basal  \n",
       "27     0.074           0.028           0.010   WTMK_05Pinch  "
      ]
     },
     "execution_count": 71,
     "metadata": {},
     "output_type": "execute_result"
    }
   ],
   "source": [
    "spectral_df"
   ]
  },
  {
   "cell_type": "markdown",
   "metadata": {},
   "source": [
    "#### Total Power"
   ]
  },
  {
   "cell_type": "code",
   "execution_count": 77,
   "metadata": {},
   "outputs": [
    {
     "data": {
      "text/plain": [
       "<matplotlib.axes._subplots.AxesSubplot at 0x125d632b0>"
      ]
     },
     "execution_count": 77,
     "metadata": {},
     "output_type": "execute_result"
    },
    {
     "data": {
      "image/png": "[encoded data removed]",
      "text/plain": [
       "<Figure size 432x288 with 1 Axes>"
      ]
     },
     "metadata": {
      "needs_background": "light"
     },
     "output_type": "display_data"
    }
   ],
   "source": [
    "sns.boxplot(data = spectral_df, x = 'Group', y = 'total_pw', hue = 'Condition')"
   ]
  },
  {
   "cell_type": "markdown",
   "metadata": {},
   "source": [
    "#### Delta relative"
   ]
  },
  {
   "cell_type": "code",
   "execution_count": 78,
   "metadata": {},
   "outputs": [
    {
     "data": {
      "text/plain": [
       "<matplotlib.axes._subplots.AxesSubplot at 0x126ddb160>"
      ]
     },
     "execution_count": 78,
     "metadata": {},
     "output_type": "execute_result"
    },
    {
     "data": {
      "image/png": "[encoded data removed]",
      "text/plain": [
       "<Figure size 432x288 with 1 Axes>"
      ]
     },
     "metadata": {
      "needs_background": "light"
     },
     "output_type": "display_data"
    }
   ],
   "source": [
    "sns.boxplot(data = spectral_df, x = 'Group', y = 'delta_rel', hue = 'Condition')"
   ]
  },
  {
   "cell_type": "markdown",
   "metadata": {},
   "source": [
    "### Theta relative"
   ]
  },
  {
   "cell_type": "code",
   "execution_count": 79,
   "metadata": {},
   "outputs": [
    {
     "data": {
      "text/plain": [
       "<matplotlib.axes._subplots.AxesSubplot at 0x126c2ae20>"
      ]
     },
     "execution_count": 79,
     "metadata": {},
     "output_type": "execute_result"
    },
    {
     "data": {
      "image/png": "[encoded data removed]",
      "text/plain": [
       "<Figure size 432x288 with 1 Axes>"
      ]
     },
     "metadata": {
      "needs_background": "light"
     },
     "output_type": "display_data"
    }
   ],
   "source": [
    "sns.boxplot(data = spectral_df, x = 'Group', y = 'theta_rel', hue = 'Condition')"
   ]
  },
  {
   "cell_type": "markdown",
   "metadata": {},
   "source": [
    "### Beta relative"
   ]
  },
  {
   "cell_type": "code",
   "execution_count": 80,
   "metadata": {},
   "outputs": [
    {
     "data": {
      "text/plain": [
       "<matplotlib.axes._subplots.AxesSubplot at 0x126079b50>"
      ]
     },
     "execution_count": 80,
     "metadata": {},
     "output_type": "execute_result"
    },
    {
     "data": {
      "image/png": "[encoded data removed]",
      "text/plain": [
       "<Figure size 432x288 with 1 Axes>"
      ]
     },
     "metadata": {
      "needs_background": "light"
     },
     "output_type": "display_data"
    }
   ],
   "source": [
    "sns.boxplot(data = spectral_df, x = 'Group', y = 'beta_rel', hue = 'Condition')"
   ]
  },
  {
   "cell_type": "markdown",
   "metadata": {},
   "source": [
    "### Gamma slow rel"
   ]
  },
  {
   "cell_type": "code",
   "execution_count": 81,
   "metadata": {},
   "outputs": [
    {
     "data": {
      "text/plain": [
       "<matplotlib.axes._subplots.AxesSubplot at 0x1262be190>"
      ]
     },
     "execution_count": 81,
     "metadata": {},
     "output_type": "execute_result"
    },
    {
     "data": {
      "image/png": "[encoded data removed]",
      "text/plain": [
       "<Figure size 432x288 with 1 Axes>"
      ]
     },
     "metadata": {
      "needs_background": "light"
     },
     "output_type": "display_data"
    }
   ],
   "source": [
    "sns.boxplot(data = spectral_df, x = 'Group', y = 'gamma_slow_rel', hue = 'Condition')"
   ]
  },
  {
   "cell_type": "markdown",
   "metadata": {},
   "source": [
    "### Gamma fast rel"
   ]
  },
  {
   "cell_type": "code",
   "execution_count": 82,
   "metadata": {},
   "outputs": [
    {
     "data": {
      "text/plain": [
       "<matplotlib.axes._subplots.AxesSubplot at 0x12591a430>"
      ]
     },
     "execution_count": 82,
     "metadata": {},
     "output_type": "execute_result"
    },
    {
     "data": {
      "image/png": "[encoded data removed]",
      "text/plain": [
       "<Figure size 432x288 with 1 Axes>"
      ]
     },
     "metadata": {
      "needs_background": "light"
     },
     "output_type": "display_data"
    }
   ],
   "source": [
    "sns.boxplot(data = spectral_df, x = 'Group', y = 'gamma_fast_rel', hue = 'Condition')"
   ]
  },
  {
   "cell_type": "code",
   "execution_count": null,
   "metadata": {},
   "outputs": [],
   "source": []
  }
 ],
 "metadata": {
  "kernelspec": {
   "display_name": "Python 3",
   "language": "python",
   "name": "python3"
  },
  "language_info": {
   "codemirror_mode": {
    "name": "ipython",
    "version": 3
   },
   "file_extension": ".py",
   "mimetype": "text/x-python",
   "name": "python",
   "nbconvert_exporter": "python",
   "pygments_lexer": "ipython3",
   "version": "3.8.2"
  }
 },
 "nbformat": 4,
 "nbformat_minor": 4
}
