{
 "cells": [
  {
   "cell_type": "markdown",
   "metadata": {},
   "source": [
    "## Restoring Behavior Analysis"
   ]
  },
  {
   "cell_type": "markdown",
   "metadata": {},
   "source": [
    "## Assesing Sex as a Statistically Significant Factor"
   ]
  },
  {
   "cell_type": "code",
   "execution_count": 1,
   "metadata": {},
   "outputs": [
    {
     "name": "stderr",
     "output_type": "stream",
     "text": [
      "/opt/miniconda3/envs/databs/lib/python3.8/site-packages/outdated/utils.py:14: OutdatedPackageWarning: The package pingouin is out of date. Your version is 0.3.6, the latest is 0.3.8.\n",
      "Set the environment variable OUTDATED_IGNORE=1 to disable these warnings.\n",
      "  return warn(\n"
     ]
    }
   ],
   "source": [
    "import matplotlib.pyplot as plt\n",
    "import pandas as pd\n",
    "import seaborn as sns\n",
    "import pingouin as pg"
   ]
  },
  {
   "cell_type": "code",
   "execution_count": 54,
   "metadata": {},
   "outputs": [],
   "source": [
    "def detec_outlier(df, var_name, var_group):\n",
    "    '''[DataFrame, str, str -> DataFrame]\n",
    "    Outlier detection based on absolute deviaton from the median.\n",
    "    Returns a copy of the original DataFrame without the indexes deemed as outliers'''\n",
    "    clean_df = df.copy()\n",
    "    outliers_idx = []\n",
    "    for var_ in var_name:\n",
    "        for group in df[var_group].unique():\n",
    "            outliers = pg.madmedianrule(df[var_][df[var_group]==group])\n",
    "            for ii in df[var_][df[var_group]==group][outliers].index.values:\n",
    "                outliers_idx.append(ii)\n",
    "    outliers_idx = set(outliers_idx)\n",
    "    clean_df.drop(outliers_idx, inplace = True)\n",
    "    return clean_df, outliers_idx"
   ]
  },
  {
   "cell_type": "markdown",
   "metadata": {},
   "source": [
    "## Open Field"
   ]
  },
  {
   "cell_type": "code",
   "execution_count": 10,
   "metadata": {},
   "outputs": [],
   "source": [
    "of_raw = pd.read_csv('/Users/labc02/Documents/PDCB_data/Behavior/Open_Field/OF_Data.csv')"
   ]
  },
  {
   "cell_type": "code",
   "execution_count": 14,
   "metadata": {},
   "outputs": [
    {
     "data": {
      "text/plain": [
       "Index(['Sub_Name', 'Sub_Group', 'Sex', 'Genotype', 'Entries_Periphery',\n",
       "       'Entries_Center', 'Time_Periphery(Sec)', 'Time_Center(Sec)',\n",
       "       'Time_Periphery(%)', 'Time_Center(%)', 'Total_Distance',\n",
       "       'Distance_Periphery', 'Distance_Center', 'Distance_Periphery(%)',\n",
       "       'Distance_ Center(%)', 'Resting_Time_Periphery', 'Resting_Time_Center',\n",
       "       'Resting_Time_Total', 'Mean_Speed', 'Max_Speed', 'Crosses'],\n",
       "      dtype='object')"
      ]
     },
     "execution_count": 14,
     "metadata": {},
     "output_type": "execute_result"
    }
   ],
   "source": [
    "of_raw.columns"
   ]
  },
  {
   "cell_type": "code",
   "execution_count": 8,
   "metadata": {},
   "outputs": [],
   "source": [
    "of_raw.rename(columns={'Subject Name':'Name', 'Subject Group': 'Group', 'Subject Gender':'Sex', 'Subject Genotype':'Genotype', 'Total Distance':'Distance', 'Time in Zone (%) - Center':'Time_in_Center'}, inplace = True)"
   ]
  },
  {
   "cell_type": "markdown",
   "metadata": {},
   "source": [
    "#### Check Normality for Total Distance, Corsses, Time in Center per group"
   ]
  },
  {
   "cell_type": "code",
   "execution_count": 12,
   "metadata": {},
   "outputs": [
    {
     "name": "stdout",
     "output_type": "stream",
     "text": [
      "Normality test (Shapiro), Total_Distance\n",
      "            W      pval  normal\n",
      "KOF  0.893278  0.250967    True\n",
      "KOM  0.898312  0.278996    True\n",
      "WTF  0.877492  0.215544    True\n",
      "WTM  0.908242  0.303764    True\n",
      "Normality test (Shapiro), Crosses\n",
      "            W      pval  normal\n",
      "KOF  0.903123  0.308162    True\n",
      "KOM  0.952837  0.739771    True\n",
      "WTF  0.917318  0.448847    True\n",
      "WTM  0.935471  0.535118    True\n",
      "Normality test (Shapiro), Time_Center(%)\n",
      "            W      pval  normal\n",
      "KOF  0.929021  0.507204    True\n",
      "KOM  0.944262  0.653440    True\n",
      "WTF  0.843711  0.107567    True\n",
      "WTM  0.910015  0.315979    True\n",
      "Normality test (Shapiro), Resting_Time_Total\n",
      "            W      pval  normal\n",
      "KOF  0.822821  0.049957   False\n",
      "KOM  0.872326  0.158812    True\n",
      "WTF  0.777844  0.024562   False\n",
      "WTM  0.915678  0.357658    True\n",
      "Normality test (Shapiro), Mean_Speed\n",
      "            W      pval  normal\n",
      "KOF  0.953658  0.747984    True\n",
      "KOM  0.947890  0.689947    True\n",
      "WTF  0.896464  0.310107    True\n",
      "WTM  0.921072  0.401187    True\n",
      "Normality test (Shapiro), Max_Speed\n",
      "            W      pval  normal\n",
      "KOF  0.915282  0.392763    True\n",
      "KOM  0.802870  0.030721   False\n",
      "WTF  0.833664  0.086660    True\n",
      "WTM  0.925008  0.435308    True\n"
     ]
    }
   ],
   "source": [
    "for var_ in ['Total_Distance', 'Crosses', 'Time_Center(%)', 'Resting_Time_Total', 'Mean_Speed', 'Max_Speed']:\n",
    "    print(f'Normality test (Shapiro), {var_}')\n",
    "    print(pg.normality(of_raw, dv=var_, group='Sub_Group'))"
   ]
  },
  {
   "cell_type": "markdown",
   "metadata": {},
   "source": [
    "#### Check homoscedasticity; Leven's Test"
   ]
  },
  {
   "cell_type": "code",
   "execution_count": 13,
   "metadata": {},
   "outputs": [
    {
     "name": "stdout",
     "output_type": "stream",
     "text": [
      "Homoscedasticy (Leven's test), Total_Distance\n",
      "               W      pval  equal_var\n",
      "levene  0.663818  0.581279       True\n",
      "Homoscedasticy (Leven's test), Crosses\n",
      "               W     pval  equal_var\n",
      "levene  0.671402  0.57676       True\n",
      "Homoscedasticy (Leven's test), Time_Center(%)\n",
      "               W      pval  equal_var\n",
      "levene  3.033134  0.045714      False\n",
      "Homoscedasticy (Leven's test), Resting_Time_Total\n",
      "               W      pval  equal_var\n",
      "levene  0.527022  0.667357       True\n",
      "Homoscedasticy (Leven's test), Mean_Speed\n",
      "               W      pval  equal_var\n",
      "levene  1.205006  0.326094       True\n",
      "Homoscedasticy (Leven's test), Max_Speed\n",
      "              W      pval  equal_var\n",
      "levene  0.34967  0.789663       True\n"
     ]
    }
   ],
   "source": [
    "for var_ in ['Total_Distance', 'Crosses', 'Time_Center(%)', 'Resting_Time_Total', 'Mean_Speed', 'Max_Speed']:\n",
    "    print(f'Homoscedasticy (Leven\\'s test), {var_}')\n",
    "    print(pg.homoscedasticity(of_raw, dv=var_, group='Sub_Group'))"
   ]
  },
  {
   "cell_type": "markdown",
   "metadata": {},
   "source": [
    "#### Total Distance; normality passed, homoscedasticity passed -> N-way anova"
   ]
  },
  {
   "cell_type": "code",
   "execution_count": 15,
   "metadata": {},
   "outputs": [
    {
     "data": {
      "text/html": [
       "<div>\n",
       "<style scoped>\n",
       "    .dataframe tbody tr th:only-of-type {\n",
       "        vertical-align: middle;\n",
       "    }\n",
       "\n",
       "    .dataframe tbody tr th {\n",
       "        vertical-align: top;\n",
       "    }\n",
       "\n",
       "    .dataframe thead th {\n",
       "        text-align: right;\n",
       "    }\n",
       "</style>\n",
       "<table border=\"1\" class=\"dataframe\">\n",
       "  <thead>\n",
       "    <tr style=\"text-align: right;\">\n",
       "      <th></th>\n",
       "      <th>Source</th>\n",
       "      <th>SS</th>\n",
       "      <th>DF</th>\n",
       "      <th>MS</th>\n",
       "      <th>F</th>\n",
       "      <th>p-unc</th>\n",
       "      <th>np2</th>\n",
       "    </tr>\n",
       "  </thead>\n",
       "  <tbody>\n",
       "    <tr>\n",
       "      <th>0</th>\n",
       "      <td>Sex</td>\n",
       "      <td>6.407894e+04</td>\n",
       "      <td>1.0</td>\n",
       "      <td>6.407894e+04</td>\n",
       "      <td>0.107121</td>\n",
       "      <td>0.745881</td>\n",
       "      <td>0.003811</td>\n",
       "    </tr>\n",
       "    <tr>\n",
       "      <th>1</th>\n",
       "      <td>Genotype</td>\n",
       "      <td>4.793856e+06</td>\n",
       "      <td>1.0</td>\n",
       "      <td>4.793856e+06</td>\n",
       "      <td>8.013876</td>\n",
       "      <td>0.008497</td>\n",
       "      <td>0.222522</td>\n",
       "    </tr>\n",
       "    <tr>\n",
       "      <th>2</th>\n",
       "      <td>Sex * Genotype</td>\n",
       "      <td>4.093371e+05</td>\n",
       "      <td>1.0</td>\n",
       "      <td>4.093371e+05</td>\n",
       "      <td>0.684288</td>\n",
       "      <td>0.415109</td>\n",
       "      <td>0.023856</td>\n",
       "    </tr>\n",
       "    <tr>\n",
       "      <th>3</th>\n",
       "      <td>Residual</td>\n",
       "      <td>1.674944e+07</td>\n",
       "      <td>28.0</td>\n",
       "      <td>5.981945e+05</td>\n",
       "      <td>NaN</td>\n",
       "      <td>NaN</td>\n",
       "      <td>NaN</td>\n",
       "    </tr>\n",
       "  </tbody>\n",
       "</table>\n",
       "</div>"
      ],
      "text/plain": [
       "           Source            SS    DF            MS         F     p-unc  \\\n",
       "0             Sex  6.407894e+04   1.0  6.407894e+04  0.107121  0.745881   \n",
       "1        Genotype  4.793856e+06   1.0  4.793856e+06  8.013876  0.008497   \n",
       "2  Sex * Genotype  4.093371e+05   1.0  4.093371e+05  0.684288  0.415109   \n",
       "3        Residual  1.674944e+07  28.0  5.981945e+05       NaN       NaN   \n",
       "\n",
       "        np2  \n",
       "0  0.003811  \n",
       "1  0.222522  \n",
       "2  0.023856  \n",
       "3       NaN  "
      ]
     },
     "execution_count": 15,
     "metadata": {},
     "output_type": "execute_result"
    }
   ],
   "source": [
    "pg.anova(data = of_raw, dv='Total_Distance', between = ['Sex', 'Genotype'])"
   ]
  },
  {
   "cell_type": "markdown",
   "metadata": {},
   "source": [
    "Significant Two-Way ANOVA; Genotype is identified as the only significant factor.\n",
    "Thus, we got a significant Two-Way ANOVA that shows that Sex is not a significant factor, though. Not even by interaction with the significant factor; Genotype."
   ]
  },
  {
   "cell_type": "markdown",
   "metadata": {},
   "source": [
    "### Collapsing the Sex category leaves a two group comparison."
   ]
  },
  {
   "cell_type": "markdown",
   "metadata": {},
   "source": [
    "#### Normality check for Genotype, collapsing Sex"
   ]
  },
  {
   "cell_type": "code",
   "execution_count": 16,
   "metadata": {},
   "outputs": [
    {
     "data": {
      "text/html": [
       "<div>\n",
       "<style scoped>\n",
       "    .dataframe tbody tr th:only-of-type {\n",
       "        vertical-align: middle;\n",
       "    }\n",
       "\n",
       "    .dataframe tbody tr th {\n",
       "        vertical-align: top;\n",
       "    }\n",
       "\n",
       "    .dataframe thead th {\n",
       "        text-align: right;\n",
       "    }\n",
       "</style>\n",
       "<table border=\"1\" class=\"dataframe\">\n",
       "  <thead>\n",
       "    <tr style=\"text-align: right;\">\n",
       "      <th></th>\n",
       "      <th>W</th>\n",
       "      <th>pval</th>\n",
       "      <th>normal</th>\n",
       "    </tr>\n",
       "  </thead>\n",
       "  <tbody>\n",
       "    <tr>\n",
       "      <th>KO</th>\n",
       "      <td>0.900918</td>\n",
       "      <td>0.083137</td>\n",
       "      <td>True</td>\n",
       "    </tr>\n",
       "    <tr>\n",
       "      <th>WT</th>\n",
       "      <td>0.950741</td>\n",
       "      <td>0.501517</td>\n",
       "      <td>True</td>\n",
       "    </tr>\n",
       "  </tbody>\n",
       "</table>\n",
       "</div>"
      ],
      "text/plain": [
       "           W      pval  normal\n",
       "KO  0.900918  0.083137    True\n",
       "WT  0.950741  0.501517    True"
      ]
     },
     "execution_count": 16,
     "metadata": {},
     "output_type": "execute_result"
    }
   ],
   "source": [
    "pg.normality(of_raw, dv='Total_Distance', group='Genotype')"
   ]
  },
  {
   "cell_type": "markdown",
   "metadata": {},
   "source": [
    "Normality Passed; t-test"
   ]
  },
  {
   "cell_type": "code",
   "execution_count": 17,
   "metadata": {},
   "outputs": [
    {
     "data": {
      "text/html": [
       "<div>\n",
       "<style scoped>\n",
       "    .dataframe tbody tr th:only-of-type {\n",
       "        vertical-align: middle;\n",
       "    }\n",
       "\n",
       "    .dataframe tbody tr th {\n",
       "        vertical-align: top;\n",
       "    }\n",
       "\n",
       "    .dataframe thead th {\n",
       "        text-align: right;\n",
       "    }\n",
       "</style>\n",
       "<table border=\"1\" class=\"dataframe\">\n",
       "  <thead>\n",
       "    <tr style=\"text-align: right;\">\n",
       "      <th></th>\n",
       "      <th>T</th>\n",
       "      <th>dof</th>\n",
       "      <th>tail</th>\n",
       "      <th>p-val</th>\n",
       "      <th>CI95%</th>\n",
       "      <th>cohen-d</th>\n",
       "      <th>BF10</th>\n",
       "      <th>power</th>\n",
       "    </tr>\n",
       "  </thead>\n",
       "  <tbody>\n",
       "    <tr>\n",
       "      <th>T-test</th>\n",
       "      <td>2.874405</td>\n",
       "      <td>30</td>\n",
       "      <td>two-sided</td>\n",
       "      <td>0.007373</td>\n",
       "      <td>[222.92, 1317.1]</td>\n",
       "      <td>1.016256</td>\n",
       "      <td>6.384</td>\n",
       "      <td>0.794281</td>\n",
       "    </tr>\n",
       "  </tbody>\n",
       "</table>\n",
       "</div>"
      ],
      "text/plain": [
       "               T  dof       tail     p-val             CI95%   cohen-d   BF10  \\\n",
       "T-test  2.874405   30  two-sided  0.007373  [222.92, 1317.1]  1.016256  6.384   \n",
       "\n",
       "           power  \n",
       "T-test  0.794281  "
      ]
     },
     "execution_count": 17,
     "metadata": {},
     "output_type": "execute_result"
    }
   ],
   "source": [
    "pg.ttest(x=of_raw['Total_Distance'][of_raw['Genotype'] == 'WT'], y=of_raw['Total_Distance'][of_raw['Genotype'] == 'KO'])"
   ]
  },
  {
   "cell_type": "markdown",
   "metadata": {},
   "source": [
    "Significant difference: p≤ 0.05, power=0.79"
   ]
  },
  {
   "cell_type": "code",
   "execution_count": 280,
   "metadata": {},
   "outputs": [
    {
     "data": {
      "text/plain": [
       "Genotype\n",
       "KO    16\n",
       "WT    16\n",
       "Name: Total_Distance, dtype: int64"
      ]
     },
     "execution_count": 280,
     "metadata": {},
     "output_type": "execute_result"
    }
   ],
   "source": [
    "of_raw.groupby('Genotype')['Total_Distance'].count()"
   ]
  },
  {
   "cell_type": "code",
   "execution_count": null,
   "metadata": {},
   "outputs": [],
   "source": []
  },
  {
   "cell_type": "markdown",
   "metadata": {},
   "source": [
    "### Crosses\n",
    "Same approach\n",
    "Normality: Passed; Homoscedasticity: Passed\n",
    "\n",
    "Test: Two-Way ANOVA"
   ]
  },
  {
   "cell_type": "code",
   "execution_count": 18,
   "metadata": {},
   "outputs": [
    {
     "data": {
      "text/html": [
       "<div>\n",
       "<style scoped>\n",
       "    .dataframe tbody tr th:only-of-type {\n",
       "        vertical-align: middle;\n",
       "    }\n",
       "\n",
       "    .dataframe tbody tr th {\n",
       "        vertical-align: top;\n",
       "    }\n",
       "\n",
       "    .dataframe thead th {\n",
       "        text-align: right;\n",
       "    }\n",
       "</style>\n",
       "<table border=\"1\" class=\"dataframe\">\n",
       "  <thead>\n",
       "    <tr style=\"text-align: right;\">\n",
       "      <th></th>\n",
       "      <th>Source</th>\n",
       "      <th>SS</th>\n",
       "      <th>DF</th>\n",
       "      <th>MS</th>\n",
       "      <th>F</th>\n",
       "      <th>p-unc</th>\n",
       "      <th>np2</th>\n",
       "    </tr>\n",
       "  </thead>\n",
       "  <tbody>\n",
       "    <tr>\n",
       "      <th>0</th>\n",
       "      <td>Sex</td>\n",
       "      <td>15.417815</td>\n",
       "      <td>1.0</td>\n",
       "      <td>15.417815</td>\n",
       "      <td>0.041089</td>\n",
       "      <td>0.840832</td>\n",
       "      <td>0.001465</td>\n",
       "    </tr>\n",
       "    <tr>\n",
       "      <th>1</th>\n",
       "      <td>Genotype</td>\n",
       "      <td>1315.880315</td>\n",
       "      <td>1.0</td>\n",
       "      <td>1315.880315</td>\n",
       "      <td>3.506872</td>\n",
       "      <td>0.071592</td>\n",
       "      <td>0.111305</td>\n",
       "    </tr>\n",
       "    <tr>\n",
       "      <th>2</th>\n",
       "      <td>Sex * Genotype</td>\n",
       "      <td>568.106987</td>\n",
       "      <td>1.0</td>\n",
       "      <td>568.106987</td>\n",
       "      <td>1.514027</td>\n",
       "      <td>0.228763</td>\n",
       "      <td>0.051299</td>\n",
       "    </tr>\n",
       "    <tr>\n",
       "      <th>3</th>\n",
       "      <td>Residual</td>\n",
       "      <td>10506.412698</td>\n",
       "      <td>28.0</td>\n",
       "      <td>375.229025</td>\n",
       "      <td>NaN</td>\n",
       "      <td>NaN</td>\n",
       "      <td>NaN</td>\n",
       "    </tr>\n",
       "  </tbody>\n",
       "</table>\n",
       "</div>"
      ],
      "text/plain": [
       "           Source            SS    DF           MS         F     p-unc  \\\n",
       "0             Sex     15.417815   1.0    15.417815  0.041089  0.840832   \n",
       "1        Genotype   1315.880315   1.0  1315.880315  3.506872  0.071592   \n",
       "2  Sex * Genotype    568.106987   1.0   568.106987  1.514027  0.228763   \n",
       "3        Residual  10506.412698  28.0   375.229025       NaN       NaN   \n",
       "\n",
       "        np2  \n",
       "0  0.001465  \n",
       "1  0.111305  \n",
       "2  0.051299  \n",
       "3       NaN  "
      ]
     },
     "execution_count": 18,
     "metadata": {},
     "output_type": "execute_result"
    }
   ],
   "source": [
    "pg.anova(data = of_raw, dv='Crosses', between = ['Sex', 'Genotype'])"
   ]
  },
  {
   "cell_type": "markdown",
   "metadata": {},
   "source": [
    "Same conclusion. Perform normality for collapsed category: Sex"
   ]
  },
  {
   "cell_type": "code",
   "execution_count": 19,
   "metadata": {},
   "outputs": [
    {
     "data": {
      "text/html": [
       "<div>\n",
       "<style scoped>\n",
       "    .dataframe tbody tr th:only-of-type {\n",
       "        vertical-align: middle;\n",
       "    }\n",
       "\n",
       "    .dataframe tbody tr th {\n",
       "        vertical-align: top;\n",
       "    }\n",
       "\n",
       "    .dataframe thead th {\n",
       "        text-align: right;\n",
       "    }\n",
       "</style>\n",
       "<table border=\"1\" class=\"dataframe\">\n",
       "  <thead>\n",
       "    <tr style=\"text-align: right;\">\n",
       "      <th></th>\n",
       "      <th>W</th>\n",
       "      <th>pval</th>\n",
       "      <th>normal</th>\n",
       "    </tr>\n",
       "  </thead>\n",
       "  <tbody>\n",
       "    <tr>\n",
       "      <th>KO</th>\n",
       "      <td>0.949704</td>\n",
       "      <td>0.485010</td>\n",
       "      <td>True</td>\n",
       "    </tr>\n",
       "    <tr>\n",
       "      <th>WT</th>\n",
       "      <td>0.934793</td>\n",
       "      <td>0.290035</td>\n",
       "      <td>True</td>\n",
       "    </tr>\n",
       "  </tbody>\n",
       "</table>\n",
       "</div>"
      ],
      "text/plain": [
       "           W      pval  normal\n",
       "KO  0.949704  0.485010    True\n",
       "WT  0.934793  0.290035    True"
      ]
     },
     "execution_count": 19,
     "metadata": {},
     "output_type": "execute_result"
    }
   ],
   "source": [
    "pg.normality(of_raw, dv='Crosses', group='Genotype')"
   ]
  },
  {
   "cell_type": "code",
   "execution_count": 20,
   "metadata": {},
   "outputs": [
    {
     "data": {
      "text/html": [
       "<div>\n",
       "<style scoped>\n",
       "    .dataframe tbody tr th:only-of-type {\n",
       "        vertical-align: middle;\n",
       "    }\n",
       "\n",
       "    .dataframe tbody tr th {\n",
       "        vertical-align: top;\n",
       "    }\n",
       "\n",
       "    .dataframe thead th {\n",
       "        text-align: right;\n",
       "    }\n",
       "</style>\n",
       "<table border=\"1\" class=\"dataframe\">\n",
       "  <thead>\n",
       "    <tr style=\"text-align: right;\">\n",
       "      <th></th>\n",
       "      <th>T</th>\n",
       "      <th>dof</th>\n",
       "      <th>tail</th>\n",
       "      <th>p-val</th>\n",
       "      <th>CI95%</th>\n",
       "      <th>cohen-d</th>\n",
       "      <th>BF10</th>\n",
       "      <th>power</th>\n",
       "    </tr>\n",
       "  </thead>\n",
       "  <tbody>\n",
       "    <tr>\n",
       "      <th>T-test</th>\n",
       "      <td>1.903231</td>\n",
       "      <td>30</td>\n",
       "      <td>two-sided</td>\n",
       "      <td>0.066645</td>\n",
       "      <td>[-0.95, 26.82]</td>\n",
       "      <td>0.672894</td>\n",
       "      <td>1.295</td>\n",
       "      <td>0.453208</td>\n",
       "    </tr>\n",
       "  </tbody>\n",
       "</table>\n",
       "</div>"
      ],
      "text/plain": [
       "               T  dof       tail     p-val           CI95%   cohen-d   BF10  \\\n",
       "T-test  1.903231   30  two-sided  0.066645  [-0.95, 26.82]  0.672894  1.295   \n",
       "\n",
       "           power  \n",
       "T-test  0.453208  "
      ]
     },
     "execution_count": 20,
     "metadata": {},
     "output_type": "execute_result"
    }
   ],
   "source": [
    "pg.ttest(x=of_raw['Crosses'][of_raw['Genotype'] == 'WT'], y=of_raw['Crosses'][of_raw['Genotype'] == 'KO'])"
   ]
  },
  {
   "cell_type": "markdown",
   "metadata": {},
   "source": [
    "### Resting Time (Immobilitiy); small deviations from normality, Levene passed; Two-way anova"
   ]
  },
  {
   "cell_type": "code",
   "execution_count": 21,
   "metadata": {},
   "outputs": [
    {
     "data": {
      "text/html": [
       "<div>\n",
       "<style scoped>\n",
       "    .dataframe tbody tr th:only-of-type {\n",
       "        vertical-align: middle;\n",
       "    }\n",
       "\n",
       "    .dataframe tbody tr th {\n",
       "        vertical-align: top;\n",
       "    }\n",
       "\n",
       "    .dataframe thead th {\n",
       "        text-align: right;\n",
       "    }\n",
       "</style>\n",
       "<table border=\"1\" class=\"dataframe\">\n",
       "  <thead>\n",
       "    <tr style=\"text-align: right;\">\n",
       "      <th></th>\n",
       "      <th>Source</th>\n",
       "      <th>SS</th>\n",
       "      <th>DF</th>\n",
       "      <th>MS</th>\n",
       "      <th>F</th>\n",
       "      <th>p-unc</th>\n",
       "      <th>np2</th>\n",
       "    </tr>\n",
       "  </thead>\n",
       "  <tbody>\n",
       "    <tr>\n",
       "      <th>0</th>\n",
       "      <td>Sex</td>\n",
       "      <td>73.180504</td>\n",
       "      <td>1.0</td>\n",
       "      <td>73.180504</td>\n",
       "      <td>0.114017</td>\n",
       "      <td>0.738135</td>\n",
       "      <td>0.004056</td>\n",
       "    </tr>\n",
       "    <tr>\n",
       "      <th>1</th>\n",
       "      <td>Genotype</td>\n",
       "      <td>3098.559526</td>\n",
       "      <td>1.0</td>\n",
       "      <td>3098.559526</td>\n",
       "      <td>4.827614</td>\n",
       "      <td>0.036447</td>\n",
       "      <td>0.147060</td>\n",
       "    </tr>\n",
       "    <tr>\n",
       "      <th>2</th>\n",
       "      <td>Sex * Genotype</td>\n",
       "      <td>123.740767</td>\n",
       "      <td>1.0</td>\n",
       "      <td>123.740767</td>\n",
       "      <td>0.192790</td>\n",
       "      <td>0.663974</td>\n",
       "      <td>0.006838</td>\n",
       "    </tr>\n",
       "    <tr>\n",
       "      <th>3</th>\n",
       "      <td>Residual</td>\n",
       "      <td>17971.542248</td>\n",
       "      <td>28.0</td>\n",
       "      <td>641.840795</td>\n",
       "      <td>NaN</td>\n",
       "      <td>NaN</td>\n",
       "      <td>NaN</td>\n",
       "    </tr>\n",
       "  </tbody>\n",
       "</table>\n",
       "</div>"
      ],
      "text/plain": [
       "           Source            SS    DF           MS         F     p-unc  \\\n",
       "0             Sex     73.180504   1.0    73.180504  0.114017  0.738135   \n",
       "1        Genotype   3098.559526   1.0  3098.559526  4.827614  0.036447   \n",
       "2  Sex * Genotype    123.740767   1.0   123.740767  0.192790  0.663974   \n",
       "3        Residual  17971.542248  28.0   641.840795       NaN       NaN   \n",
       "\n",
       "        np2  \n",
       "0  0.004056  \n",
       "1  0.147060  \n",
       "2  0.006838  \n",
       "3       NaN  "
      ]
     },
     "execution_count": 21,
     "metadata": {},
     "output_type": "execute_result"
    }
   ],
   "source": [
    "pg.anova(data = of_raw, dv='Resting_Time_Total', between = ['Sex', 'Genotype'])"
   ]
  },
  {
   "cell_type": "markdown",
   "metadata": {},
   "source": [
    "Significant ANOVA for genotype, not sex"
   ]
  },
  {
   "cell_type": "code",
   "execution_count": 23,
   "metadata": {},
   "outputs": [
    {
     "data": {
      "text/html": [
       "<div>\n",
       "<style scoped>\n",
       "    .dataframe tbody tr th:only-of-type {\n",
       "        vertical-align: middle;\n",
       "    }\n",
       "\n",
       "    .dataframe tbody tr th {\n",
       "        vertical-align: top;\n",
       "    }\n",
       "\n",
       "    .dataframe thead th {\n",
       "        text-align: right;\n",
       "    }\n",
       "</style>\n",
       "<table border=\"1\" class=\"dataframe\">\n",
       "  <thead>\n",
       "    <tr style=\"text-align: right;\">\n",
       "      <th></th>\n",
       "      <th>W</th>\n",
       "      <th>pval</th>\n",
       "      <th>normal</th>\n",
       "    </tr>\n",
       "  </thead>\n",
       "  <tbody>\n",
       "    <tr>\n",
       "      <th>KO</th>\n",
       "      <td>0.866194</td>\n",
       "      <td>0.023794</td>\n",
       "      <td>False</td>\n",
       "    </tr>\n",
       "    <tr>\n",
       "      <th>WT</th>\n",
       "      <td>0.867048</td>\n",
       "      <td>0.024516</td>\n",
       "      <td>False</td>\n",
       "    </tr>\n",
       "  </tbody>\n",
       "</table>\n",
       "</div>"
      ],
      "text/plain": [
       "           W      pval  normal\n",
       "KO  0.866194  0.023794   False\n",
       "WT  0.867048  0.024516   False"
      ]
     },
     "execution_count": 23,
     "metadata": {},
     "output_type": "execute_result"
    }
   ],
   "source": [
    "pg.normality(of_raw, dv='Resting_Time_Total', group='Genotype')"
   ]
  },
  {
   "cell_type": "code",
   "execution_count": 24,
   "metadata": {},
   "outputs": [
    {
     "data": {
      "text/html": [
       "<div>\n",
       "<style scoped>\n",
       "    .dataframe tbody tr th:only-of-type {\n",
       "        vertical-align: middle;\n",
       "    }\n",
       "\n",
       "    .dataframe tbody tr th {\n",
       "        vertical-align: top;\n",
       "    }\n",
       "\n",
       "    .dataframe thead th {\n",
       "        text-align: right;\n",
       "    }\n",
       "</style>\n",
       "<table border=\"1\" class=\"dataframe\">\n",
       "  <thead>\n",
       "    <tr style=\"text-align: right;\">\n",
       "      <th></th>\n",
       "      <th>U-val</th>\n",
       "      <th>tail</th>\n",
       "      <th>p-val</th>\n",
       "      <th>RBC</th>\n",
       "      <th>CLES</th>\n",
       "    </tr>\n",
       "  </thead>\n",
       "  <tbody>\n",
       "    <tr>\n",
       "      <th>MWU</th>\n",
       "      <td>73.0</td>\n",
       "      <td>two-sided</td>\n",
       "      <td>0.039971</td>\n",
       "      <td>0.429688</td>\n",
       "      <td>0.714844</td>\n",
       "    </tr>\n",
       "  </tbody>\n",
       "</table>\n",
       "</div>"
      ],
      "text/plain": [
       "     U-val       tail     p-val       RBC      CLES\n",
       "MWU   73.0  two-sided  0.039971  0.429688  0.714844"
      ]
     },
     "execution_count": 24,
     "metadata": {},
     "output_type": "execute_result"
    }
   ],
   "source": [
    "pg.mwu(of_raw['Resting_Time_Total'][of_raw['Genotype'] == 'WT'], of_raw['Resting_Time_Total'][of_raw['Genotype'] == 'KO'])"
   ]
  },
  {
   "cell_type": "markdown",
   "metadata": {},
   "source": [
    "Significant difference in immobility"
   ]
  },
  {
   "cell_type": "markdown",
   "metadata": {},
   "source": [
    "#### Time in Center violated the equivalence of variance principle. Should procede with Welch ANOVA, but it's not Factorial."
   ]
  },
  {
   "cell_type": "code",
   "execution_count": 25,
   "metadata": {},
   "outputs": [
    {
     "data": {
      "text/html": [
       "<div>\n",
       "<style scoped>\n",
       "    .dataframe tbody tr th:only-of-type {\n",
       "        vertical-align: middle;\n",
       "    }\n",
       "\n",
       "    .dataframe tbody tr th {\n",
       "        vertical-align: top;\n",
       "    }\n",
       "\n",
       "    .dataframe thead th {\n",
       "        text-align: right;\n",
       "    }\n",
       "</style>\n",
       "<table border=\"1\" class=\"dataframe\">\n",
       "  <thead>\n",
       "    <tr style=\"text-align: right;\">\n",
       "      <th></th>\n",
       "      <th>Source</th>\n",
       "      <th>ddof1</th>\n",
       "      <th>ddof2</th>\n",
       "      <th>F</th>\n",
       "      <th>p-unc</th>\n",
       "      <th>np2</th>\n",
       "    </tr>\n",
       "  </thead>\n",
       "  <tbody>\n",
       "    <tr>\n",
       "      <th>0</th>\n",
       "      <td>Sub_Group</td>\n",
       "      <td>3</td>\n",
       "      <td>14.344051</td>\n",
       "      <td>0.426011</td>\n",
       "      <td>0.737355</td>\n",
       "      <td>0.016094</td>\n",
       "    </tr>\n",
       "  </tbody>\n",
       "</table>\n",
       "</div>"
      ],
      "text/plain": [
       "      Source  ddof1      ddof2         F     p-unc       np2\n",
       "0  Sub_Group      3  14.344051  0.426011  0.737355  0.016094"
      ]
     },
     "execution_count": 25,
     "metadata": {},
     "output_type": "execute_result"
    }
   ],
   "source": [
    "pg.welch_anova(data=of_raw, dv='Time_Center(%)', between='Sub_Group')"
   ]
  },
  {
   "cell_type": "markdown",
   "metadata": {},
   "source": [
    "Nevermind! There's no significant difference in the time spent at center."
   ]
  },
  {
   "cell_type": "code",
   "execution_count": 26,
   "metadata": {},
   "outputs": [
    {
     "data": {
      "text/html": [
       "<div>\n",
       "<style scoped>\n",
       "    .dataframe tbody tr th:only-of-type {\n",
       "        vertical-align: middle;\n",
       "    }\n",
       "\n",
       "    .dataframe tbody tr th {\n",
       "        vertical-align: top;\n",
       "    }\n",
       "\n",
       "    .dataframe thead th {\n",
       "        text-align: right;\n",
       "    }\n",
       "</style>\n",
       "<table border=\"1\" class=\"dataframe\">\n",
       "  <thead>\n",
       "    <tr style=\"text-align: right;\">\n",
       "      <th></th>\n",
       "      <th>T</th>\n",
       "      <th>dof</th>\n",
       "      <th>tail</th>\n",
       "      <th>p-val</th>\n",
       "      <th>CI95%</th>\n",
       "      <th>cohen-d</th>\n",
       "      <th>BF10</th>\n",
       "      <th>power</th>\n",
       "    </tr>\n",
       "  </thead>\n",
       "  <tbody>\n",
       "    <tr>\n",
       "      <th>T-test</th>\n",
       "      <td>-0.166122</td>\n",
       "      <td>30</td>\n",
       "      <td>two-sided</td>\n",
       "      <td>0.869176</td>\n",
       "      <td>[-5.06, 4.3]</td>\n",
       "      <td>0.058733</td>\n",
       "      <td>0.34</td>\n",
       "      <td>0.05297</td>\n",
       "    </tr>\n",
       "  </tbody>\n",
       "</table>\n",
       "</div>"
      ],
      "text/plain": [
       "               T  dof       tail     p-val         CI95%   cohen-d  BF10  \\\n",
       "T-test -0.166122   30  two-sided  0.869176  [-5.06, 4.3]  0.058733  0.34   \n",
       "\n",
       "          power  \n",
       "T-test  0.05297  "
      ]
     },
     "execution_count": 26,
     "metadata": {},
     "output_type": "execute_result"
    }
   ],
   "source": [
    "pg.ttest(x=of_raw['Time_Center(%)'][of_raw['Genotype'] == 'WT'], y=of_raw['Time_Center(%)'][of_raw['Genotype'] == 'KO'])"
   ]
  },
  {
   "cell_type": "markdown",
   "metadata": {},
   "source": [
    "Not even by genotype"
   ]
  },
  {
   "cell_type": "markdown",
   "metadata": {},
   "source": [
    "#### Mean Speed"
   ]
  },
  {
   "cell_type": "code",
   "execution_count": 27,
   "metadata": {},
   "outputs": [
    {
     "data": {
      "text/html": [
       "<div>\n",
       "<style scoped>\n",
       "    .dataframe tbody tr th:only-of-type {\n",
       "        vertical-align: middle;\n",
       "    }\n",
       "\n",
       "    .dataframe tbody tr th {\n",
       "        vertical-align: top;\n",
       "    }\n",
       "\n",
       "    .dataframe thead th {\n",
       "        text-align: right;\n",
       "    }\n",
       "</style>\n",
       "<table border=\"1\" class=\"dataframe\">\n",
       "  <thead>\n",
       "    <tr style=\"text-align: right;\">\n",
       "      <th></th>\n",
       "      <th>Source</th>\n",
       "      <th>SS</th>\n",
       "      <th>DF</th>\n",
       "      <th>MS</th>\n",
       "      <th>F</th>\n",
       "      <th>p-unc</th>\n",
       "      <th>np2</th>\n",
       "    </tr>\n",
       "  </thead>\n",
       "  <tbody>\n",
       "    <tr>\n",
       "      <th>0</th>\n",
       "      <td>Sex</td>\n",
       "      <td>0.222435</td>\n",
       "      <td>1.0</td>\n",
       "      <td>0.222435</td>\n",
       "      <td>0.051326</td>\n",
       "      <td>0.822418</td>\n",
       "      <td>0.001830</td>\n",
       "    </tr>\n",
       "    <tr>\n",
       "      <th>1</th>\n",
       "      <td>Genotype</td>\n",
       "      <td>37.907901</td>\n",
       "      <td>1.0</td>\n",
       "      <td>37.907901</td>\n",
       "      <td>8.747026</td>\n",
       "      <td>0.006238</td>\n",
       "      <td>0.238034</td>\n",
       "    </tr>\n",
       "    <tr>\n",
       "      <th>2</th>\n",
       "      <td>Sex * Genotype</td>\n",
       "      <td>4.254154</td>\n",
       "      <td>1.0</td>\n",
       "      <td>4.254154</td>\n",
       "      <td>0.981621</td>\n",
       "      <td>0.330284</td>\n",
       "      <td>0.033870</td>\n",
       "    </tr>\n",
       "    <tr>\n",
       "      <th>3</th>\n",
       "      <td>Residual</td>\n",
       "      <td>121.346530</td>\n",
       "      <td>28.0</td>\n",
       "      <td>4.333805</td>\n",
       "      <td>NaN</td>\n",
       "      <td>NaN</td>\n",
       "      <td>NaN</td>\n",
       "    </tr>\n",
       "  </tbody>\n",
       "</table>\n",
       "</div>"
      ],
      "text/plain": [
       "           Source          SS    DF         MS         F     p-unc       np2\n",
       "0             Sex    0.222435   1.0   0.222435  0.051326  0.822418  0.001830\n",
       "1        Genotype   37.907901   1.0  37.907901  8.747026  0.006238  0.238034\n",
       "2  Sex * Genotype    4.254154   1.0   4.254154  0.981621  0.330284  0.033870\n",
       "3        Residual  121.346530  28.0   4.333805       NaN       NaN       NaN"
      ]
     },
     "execution_count": 27,
     "metadata": {},
     "output_type": "execute_result"
    }
   ],
   "source": [
    "pg.anova(data = of_raw, dv='Mean_Speed', between = ['Sex', 'Genotype'])"
   ]
  },
  {
   "cell_type": "markdown",
   "metadata": {},
   "source": [
    "Again, mean speed shows a significant anova where the only significant factor is genotype."
   ]
  },
  {
   "cell_type": "code",
   "execution_count": 28,
   "metadata": {},
   "outputs": [
    {
     "data": {
      "text/html": [
       "<div>\n",
       "<style scoped>\n",
       "    .dataframe tbody tr th:only-of-type {\n",
       "        vertical-align: middle;\n",
       "    }\n",
       "\n",
       "    .dataframe tbody tr th {\n",
       "        vertical-align: top;\n",
       "    }\n",
       "\n",
       "    .dataframe thead th {\n",
       "        text-align: right;\n",
       "    }\n",
       "</style>\n",
       "<table border=\"1\" class=\"dataframe\">\n",
       "  <thead>\n",
       "    <tr style=\"text-align: right;\">\n",
       "      <th></th>\n",
       "      <th>W</th>\n",
       "      <th>pval</th>\n",
       "      <th>normal</th>\n",
       "    </tr>\n",
       "  </thead>\n",
       "  <tbody>\n",
       "    <tr>\n",
       "      <th>KO</th>\n",
       "      <td>0.947075</td>\n",
       "      <td>0.444816</td>\n",
       "      <td>True</td>\n",
       "    </tr>\n",
       "    <tr>\n",
       "      <th>WT</th>\n",
       "      <td>0.957615</td>\n",
       "      <td>0.618799</td>\n",
       "      <td>True</td>\n",
       "    </tr>\n",
       "  </tbody>\n",
       "</table>\n",
       "</div>"
      ],
      "text/plain": [
       "           W      pval  normal\n",
       "KO  0.947075  0.444816    True\n",
       "WT  0.957615  0.618799    True"
      ]
     },
     "execution_count": 28,
     "metadata": {},
     "output_type": "execute_result"
    }
   ],
   "source": [
    "pg.normality(of_raw, dv='Mean_Speed', group='Genotype')"
   ]
  },
  {
   "cell_type": "code",
   "execution_count": 29,
   "metadata": {},
   "outputs": [
    {
     "data": {
      "text/html": [
       "<div>\n",
       "<style scoped>\n",
       "    .dataframe tbody tr th:only-of-type {\n",
       "        vertical-align: middle;\n",
       "    }\n",
       "\n",
       "    .dataframe tbody tr th {\n",
       "        vertical-align: top;\n",
       "    }\n",
       "\n",
       "    .dataframe thead th {\n",
       "        text-align: right;\n",
       "    }\n",
       "</style>\n",
       "<table border=\"1\" class=\"dataframe\">\n",
       "  <thead>\n",
       "    <tr style=\"text-align: right;\">\n",
       "      <th></th>\n",
       "      <th>T</th>\n",
       "      <th>dof</th>\n",
       "      <th>tail</th>\n",
       "      <th>p-val</th>\n",
       "      <th>CI95%</th>\n",
       "      <th>cohen-d</th>\n",
       "      <th>BF10</th>\n",
       "      <th>power</th>\n",
       "    </tr>\n",
       "  </thead>\n",
       "  <tbody>\n",
       "    <tr>\n",
       "      <th>T-test</th>\n",
       "      <td>2.997852</td>\n",
       "      <td>30</td>\n",
       "      <td>two-sided</td>\n",
       "      <td>0.005419</td>\n",
       "      <td>[0.69, 3.65]</td>\n",
       "      <td>1.059901</td>\n",
       "      <td>8.089</td>\n",
       "      <td>0.826568</td>\n",
       "    </tr>\n",
       "  </tbody>\n",
       "</table>\n",
       "</div>"
      ],
      "text/plain": [
       "               T  dof       tail     p-val         CI95%   cohen-d   BF10  \\\n",
       "T-test  2.997852   30  two-sided  0.005419  [0.69, 3.65]  1.059901  8.089   \n",
       "\n",
       "           power  \n",
       "T-test  0.826568  "
      ]
     },
     "execution_count": 29,
     "metadata": {},
     "output_type": "execute_result"
    }
   ],
   "source": [
    "pg.ttest(x=of_raw['Mean_Speed'][of_raw['Genotype'] == 'WT'], y=of_raw['Mean_Speed'][of_raw['Genotype'] == 'KO'])"
   ]
  },
  {
   "cell_type": "markdown",
   "metadata": {},
   "source": [
    "Significant difference in Mean Speed; p< 0.01"
   ]
  },
  {
   "cell_type": "markdown",
   "metadata": {},
   "source": [
    "### Max Speed"
   ]
  },
  {
   "cell_type": "code",
   "execution_count": 30,
   "metadata": {},
   "outputs": [
    {
     "data": {
      "text/html": [
       "<div>\n",
       "<style scoped>\n",
       "    .dataframe tbody tr th:only-of-type {\n",
       "        vertical-align: middle;\n",
       "    }\n",
       "\n",
       "    .dataframe tbody tr th {\n",
       "        vertical-align: top;\n",
       "    }\n",
       "\n",
       "    .dataframe thead th {\n",
       "        text-align: right;\n",
       "    }\n",
       "</style>\n",
       "<table border=\"1\" class=\"dataframe\">\n",
       "  <thead>\n",
       "    <tr style=\"text-align: right;\">\n",
       "      <th></th>\n",
       "      <th>Source</th>\n",
       "      <th>SS</th>\n",
       "      <th>DF</th>\n",
       "      <th>MS</th>\n",
       "      <th>F</th>\n",
       "      <th>p-unc</th>\n",
       "      <th>np2</th>\n",
       "    </tr>\n",
       "  </thead>\n",
       "  <tbody>\n",
       "    <tr>\n",
       "      <th>0</th>\n",
       "      <td>Sex</td>\n",
       "      <td>9.821463</td>\n",
       "      <td>1.0</td>\n",
       "      <td>9.821463</td>\n",
       "      <td>0.264077</td>\n",
       "      <td>0.611365</td>\n",
       "      <td>0.009343</td>\n",
       "    </tr>\n",
       "    <tr>\n",
       "      <th>1</th>\n",
       "      <td>Genotype</td>\n",
       "      <td>372.901247</td>\n",
       "      <td>1.0</td>\n",
       "      <td>372.901247</td>\n",
       "      <td>10.026457</td>\n",
       "      <td>0.003706</td>\n",
       "      <td>0.263671</td>\n",
       "    </tr>\n",
       "    <tr>\n",
       "      <th>2</th>\n",
       "      <td>Sex * Genotype</td>\n",
       "      <td>39.165360</td>\n",
       "      <td>1.0</td>\n",
       "      <td>39.165360</td>\n",
       "      <td>1.053066</td>\n",
       "      <td>0.313586</td>\n",
       "      <td>0.036246</td>\n",
       "    </tr>\n",
       "    <tr>\n",
       "      <th>3</th>\n",
       "      <td>Residual</td>\n",
       "      <td>1041.368314</td>\n",
       "      <td>28.0</td>\n",
       "      <td>37.191726</td>\n",
       "      <td>NaN</td>\n",
       "      <td>NaN</td>\n",
       "      <td>NaN</td>\n",
       "    </tr>\n",
       "  </tbody>\n",
       "</table>\n",
       "</div>"
      ],
      "text/plain": [
       "           Source           SS    DF          MS          F     p-unc  \\\n",
       "0             Sex     9.821463   1.0    9.821463   0.264077  0.611365   \n",
       "1        Genotype   372.901247   1.0  372.901247  10.026457  0.003706   \n",
       "2  Sex * Genotype    39.165360   1.0   39.165360   1.053066  0.313586   \n",
       "3        Residual  1041.368314  28.0   37.191726        NaN       NaN   \n",
       "\n",
       "        np2  \n",
       "0  0.009343  \n",
       "1  0.263671  \n",
       "2  0.036246  \n",
       "3       NaN  "
      ]
     },
     "execution_count": 30,
     "metadata": {},
     "output_type": "execute_result"
    }
   ],
   "source": [
    "pg.anova(data = of_raw, dv='Max_Speed', between = ['Sex', 'Genotype'])"
   ]
  },
  {
   "cell_type": "markdown",
   "metadata": {},
   "source": [
    "Same result, genotype as the only significant factor."
   ]
  },
  {
   "cell_type": "code",
   "execution_count": 31,
   "metadata": {},
   "outputs": [
    {
     "data": {
      "text/html": [
       "<div>\n",
       "<style scoped>\n",
       "    .dataframe tbody tr th:only-of-type {\n",
       "        vertical-align: middle;\n",
       "    }\n",
       "\n",
       "    .dataframe tbody tr th {\n",
       "        vertical-align: top;\n",
       "    }\n",
       "\n",
       "    .dataframe thead th {\n",
       "        text-align: right;\n",
       "    }\n",
       "</style>\n",
       "<table border=\"1\" class=\"dataframe\">\n",
       "  <thead>\n",
       "    <tr style=\"text-align: right;\">\n",
       "      <th></th>\n",
       "      <th>W</th>\n",
       "      <th>pval</th>\n",
       "      <th>normal</th>\n",
       "    </tr>\n",
       "  </thead>\n",
       "  <tbody>\n",
       "    <tr>\n",
       "      <th>KO</th>\n",
       "      <td>0.960046</td>\n",
       "      <td>0.662619</td>\n",
       "      <td>True</td>\n",
       "    </tr>\n",
       "    <tr>\n",
       "      <th>WT</th>\n",
       "      <td>0.916302</td>\n",
       "      <td>0.147058</td>\n",
       "      <td>True</td>\n",
       "    </tr>\n",
       "  </tbody>\n",
       "</table>\n",
       "</div>"
      ],
      "text/plain": [
       "           W      pval  normal\n",
       "KO  0.960046  0.662619    True\n",
       "WT  0.916302  0.147058    True"
      ]
     },
     "execution_count": 31,
     "metadata": {},
     "output_type": "execute_result"
    }
   ],
   "source": [
    "pg.normality(of_raw, dv='Max_Speed', group='Genotype')"
   ]
  },
  {
   "cell_type": "code",
   "execution_count": 32,
   "metadata": {},
   "outputs": [
    {
     "data": {
      "text/html": [
       "<div>\n",
       "<style scoped>\n",
       "    .dataframe tbody tr th:only-of-type {\n",
       "        vertical-align: middle;\n",
       "    }\n",
       "\n",
       "    .dataframe tbody tr th {\n",
       "        vertical-align: top;\n",
       "    }\n",
       "\n",
       "    .dataframe thead th {\n",
       "        text-align: right;\n",
       "    }\n",
       "</style>\n",
       "<table border=\"1\" class=\"dataframe\">\n",
       "  <thead>\n",
       "    <tr style=\"text-align: right;\">\n",
       "      <th></th>\n",
       "      <th>T</th>\n",
       "      <th>dof</th>\n",
       "      <th>tail</th>\n",
       "      <th>p-val</th>\n",
       "      <th>CI95%</th>\n",
       "      <th>cohen-d</th>\n",
       "      <th>BF10</th>\n",
       "      <th>power</th>\n",
       "    </tr>\n",
       "  </thead>\n",
       "  <tbody>\n",
       "    <tr>\n",
       "      <th>T-test</th>\n",
       "      <td>3.176804</td>\n",
       "      <td>30</td>\n",
       "      <td>two-sided</td>\n",
       "      <td>0.003438</td>\n",
       "      <td>[2.42, 11.12]</td>\n",
       "      <td>1.12317</td>\n",
       "      <td>11.535</td>\n",
       "      <td>0.867285</td>\n",
       "    </tr>\n",
       "  </tbody>\n",
       "</table>\n",
       "</div>"
      ],
      "text/plain": [
       "               T  dof       tail     p-val          CI95%  cohen-d    BF10  \\\n",
       "T-test  3.176804   30  two-sided  0.003438  [2.42, 11.12]  1.12317  11.535   \n",
       "\n",
       "           power  \n",
       "T-test  0.867285  "
      ]
     },
     "execution_count": 32,
     "metadata": {},
     "output_type": "execute_result"
    }
   ],
   "source": [
    "pg.ttest(x=of_raw['Max_Speed'][of_raw['Genotype'] == 'WT'], y=of_raw['Max_Speed'][of_raw['Genotype'] == 'KO'])"
   ]
  },
  {
   "cell_type": "code",
   "execution_count": 271,
   "metadata": {},
   "outputs": [
    {
     "data": {
      "image/png": "[encoded data removed]",
      "text/plain": [
       "<Figure size 576x432 with 6 Axes>"
      ]
     },
     "metadata": {
      "needs_background": "light"
     },
     "output_type": "display_data"
    }
   ],
   "source": [
    "of_fig, of_ax = plt.subplots(ncols = 3, nrows = 2, figsize=(8,6))\n",
    "sns.boxplot(data= of_raw, x='Genotype', y='Total_Distance', palette=['forestgreen', 'royalblue'], showmeans=True, meanprops={'marker':'+', 'markeredgecolor':'k'}, width=0.4, ax=of_ax[0][0])\n",
    "of_ax[0][0].annotate(s='**', xy=(65, 135), xycoords='axes points', xytext=(0, 4), textcoords='offset points', ha = 'center', arrowprops=dict(arrowstyle='-[, widthB=3.5, lengthB=.2', lw=1.5, color='k'), fontsize = 10)\n",
    "of_ax[0][0].set_ylabel('Centimeters')\n",
    "of_ax[0][0].title.set_text('Total Distance')\n",
    "of_ax[0][0].set_ylim([1800, 5500])\n",
    "\n",
    "sns.boxplot(data= of_raw, x='Genotype', y='Crosses', palette=['forestgreen', 'royalblue'], showmeans=True, meanprops={'marker':'+', 'markeredgecolor':'k'}, width=0.4, ax=of_ax[0][1])\n",
    "of_ax[0][1].annotate(s=r'$p = 0.06$', xy=(65, 125), xycoords='axes points', xytext=(0, 7), textcoords='offset points', ha = 'center', arrowprops=dict(arrowstyle='-[, widthB=3.5, lengthB=.2', lw=1.5, color='k'), fontsize = 10)\n",
    "of_ax[0][1].set_ylabel('Count')\n",
    "of_ax[0][1].title.set_text('Crosses')\n",
    "of_ax[0][1].set_ylim([30, 150])\n",
    "\n",
    "sns.boxplot(data= of_raw, x='Genotype', y='Time_Center(%)', palette=['forestgreen', 'royalblue'], showmeans=True, meanprops={'marker':'+', 'markeredgecolor':'k'}, width=0.4, ax=of_ax[0][2], showfliers = False)\n",
    "of_ax[0][2].annotate(s='n.s', xy=(65, 125), xycoords='axes points', xytext=(0, 7), textcoords='offset points', ha = 'center', arrowprops=dict(arrowstyle='-[, widthB=3.5, lengthB=.2', lw=1.5, color='k'), fontsize = 10)\n",
    "of_ax[0][2].set_ylabel('Time (%)')\n",
    "of_ax[0][2].title.set_text('Time in Center')\n",
    "of_ax[0][2].set_ylim([0, 50])\n",
    "\n",
    "sns.boxplot(data= of_raw, x='Genotype', y='Resting_Time_Total', palette=['forestgreen', 'royalblue'], showmeans=True, meanprops={'marker':'+', 'markeredgecolor':'k'}, width=0.4, ax=of_ax[1][0])\n",
    "of_ax[1][0].annotate(s='*', xy=(65, 135), xycoords='axes points', xytext=(0, 4), textcoords='offset points', ha = 'center', arrowprops=dict(arrowstyle='-[, widthB=3.5, lengthB=.2', lw=1.5, color='k'), fontsize = 10)\n",
    "of_ax[1][0].set_ylabel('Seconds')\n",
    "of_ax[1][0].title.set_text('Immobility')\n",
    "of_ax[1][0].set_ylim([0, 110])\n",
    "\n",
    "sns.boxplot(data= of_raw, x='Genotype', y='Mean_Speed', palette=['forestgreen', 'royalblue'], showmeans=True, meanprops={'marker':'+', 'markeredgecolor':'k'}, width=0.4, ax=of_ax[1][1])\n",
    "of_ax[1][1].annotate(s='**', xy=(65, 132), xycoords='axes points', xytext=(-5, 4), textcoords='offset points', arrowprops=dict(arrowstyle='-[, widthB=3.5, lengthB=.2', lw=1.5, color='k'), fontsize = 10)\n",
    "of_ax[1][1].set_ylabel('cm/s')\n",
    "of_ax[1][1].title.set_text('Mean Speed')\n",
    "of_ax[1][1].set_ylim([5, 20])\n",
    "\n",
    "sns.boxplot(data= of_raw, x='Genotype', y='Max_Speed', palette=['forestgreen', 'royalblue'], showmeans=True, meanprops={'marker':'+', 'markeredgecolor':'k'}, width=0.4, ax=of_ax[1][2], showfliers = False)\n",
    "of_ax[1][2].annotate(s='**', xy=(65, 132), xycoords='axes points', xytext=(-5, 4), textcoords='offset points', arrowprops=dict(arrowstyle='-[, widthB=3.5, lengthB=.2', lw=1.5, color='k'), fontsize = 10)\n",
    "of_ax[1][2].set_ylabel('cm/s')\n",
    "of_ax[1][2].title.set_text('Max Speed')\n",
    "of_ax[1][2].set_ylim([30, 75])\n",
    "plt.tight_layout()\n"
   ]
  },
  {
   "cell_type": "code",
   "execution_count": 272,
   "metadata": {},
   "outputs": [],
   "source": [
    "of_fig.savefig('/Users/labc02/Documents/PDCB_data/Behavior/Figures/OF_fig.svg')"
   ]
  },
  {
   "cell_type": "markdown",
   "metadata": {},
   "source": [
    "## Social Interaction\n",
    "\n",
    "Same approach"
   ]
  },
  {
   "cell_type": "code",
   "execution_count": 44,
   "metadata": {},
   "outputs": [],
   "source": [
    "si_raw = pd.read_csv('/Users/labc02/Documents/PDCB_data/Behavior/Social Interaction/Social_Interaction_data.csv')"
   ]
  },
  {
   "cell_type": "code",
   "execution_count": 46,
   "metadata": {},
   "outputs": [],
   "source": [
    "si_clean = si_raw[si_raw['Phase']== 'Sample']"
   ]
  },
  {
   "cell_type": "code",
   "execution_count": 47,
   "metadata": {},
   "outputs": [
    {
     "name": "stderr",
     "output_type": "stream",
     "text": [
      "/opt/miniconda3/envs/databs/lib/python3.8/site-packages/pandas/core/frame.py:4125: SettingWithCopyWarning: \n",
      "A value is trying to be set on a copy of a slice from a DataFrame\n",
      "\n",
      "See the caveats in the documentation: https://pandas.pydata.org/pandas-docs/stable/user_guide/indexing.html#returning-a-view-versus-a-copy\n",
      "  return super().rename(\n"
     ]
    }
   ],
   "source": [
    "si_clean.rename(columns={'Time Object/New Cons Chamber':'Time_Object', 'Time Conspecific Chamber': 'Time_Conspecific', 'Total Exploration': 'Total'}, inplace = True)"
   ]
  },
  {
   "cell_type": "code",
   "execution_count": 48,
   "metadata": {},
   "outputs": [
    {
     "name": "stderr",
     "output_type": "stream",
     "text": [
      "<ipython-input-48-50c93a3af3ab>:1: SettingWithCopyWarning: \n",
      "A value is trying to be set on a copy of a slice from a DataFrame.\n",
      "Try using .loc[row_indexer,col_indexer] = value instead\n",
      "\n",
      "See the caveats in the documentation: https://pandas.pydata.org/pandas-docs/stable/user_guide/indexing.html#returning-a-view-versus-a-copy\n",
      "  si_clean['Sociability']=((si_clean['Time_Conspecific']-si_clean['Time_Object'])/si_clean['Total']).round(2)\n"
     ]
    }
   ],
   "source": [
    "si_clean['Sociability']=((si_clean['Time_Conspecific']-si_clean['Time_Object'])/si_clean['Total']).round(2)"
   ]
  },
  {
   "cell_type": "code",
   "execution_count": 49,
   "metadata": {},
   "outputs": [
    {
     "name": "stdout",
     "output_type": "stream",
     "text": [
      "Normality test (Shapiro), Time_Object\n",
      "            W      pval  normal\n",
      "KOF  0.944423  0.516654    True\n",
      "KOM  0.720208  0.000891   False\n",
      "WTF  0.917846  0.301104    True\n",
      "WTM  0.914444  0.275046    True\n",
      "Normality test (Shapiro), Time_Conspecific\n",
      "            W      pval  normal\n",
      "KOF  0.928938  0.330071    True\n",
      "KOM  0.924065  0.284459    True\n",
      "WTF  0.948646  0.626702    True\n",
      "WTM  0.861803  0.060766    True\n",
      "Normality test (Shapiro), Total\n",
      "            W      pval  normal\n",
      "KOF  0.945061  0.525663    True\n",
      "KOM  0.808731  0.008671   False\n",
      "WTF  0.930491  0.415843    True\n",
      "WTM  0.854802  0.049291   False\n",
      "Normality test (Shapiro), Sociability\n",
      "            W      pval  normal\n",
      "KOF  0.910304  0.185149    True\n",
      "KOM  0.899231  0.130518    True\n",
      "WTF  0.899152  0.180488    True\n",
      "WTM  0.872061  0.082392    True\n"
     ]
    }
   ],
   "source": [
    "for var_ in ['Time_Object', 'Time_Conspecific', 'Total', 'Sociability']:\n",
    "    print(f'Normality test (Shapiro), {var_}')\n",
    "    print(pg.normality(data=si_clean, dv=var_, group='Group'))"
   ]
  },
  {
   "cell_type": "code",
   "execution_count": 51,
   "metadata": {},
   "outputs": [
    {
     "name": "stdout",
     "output_type": "stream",
     "text": [
      "Homoscedasticity test (Levene), Time_Object\n",
      "               W      pval  equal_var\n",
      "levene  0.319114  0.811481       True\n",
      "Homoscedasticity test (Levene), Time_Conspecific\n",
      "              W      pval  equal_var\n",
      "levene  0.09542  0.962169       True\n",
      "Homoscedasticity test (Levene), Total\n",
      "               W      pval  equal_var\n",
      "levene  1.871095  0.148406       True\n"
     ]
    }
   ],
   "source": [
    "for var_ in ['Time_Object', 'Time_Conspecific', 'Total']:\n",
    "    print(f'Homoscedasticity test (Levene), {var_}')\n",
    "    print(pg.homoscedasticity(data=si_clean, dv=var_, group='Group'))"
   ]
  },
  {
   "cell_type": "code",
   "execution_count": 55,
   "metadata": {},
   "outputs": [],
   "source": [
    "si_tidy, si_out = detec_outlier(si_clean, ['Time_Object', 'Time_Conspecific', 'Total'], 'Group')"
   ]
  },
  {
   "cell_type": "code",
   "execution_count": 56,
   "metadata": {},
   "outputs": [
    {
     "data": {
      "text/plain": [
       "{2, 7, 13, 95, 119, 122}"
      ]
     },
     "execution_count": 56,
     "metadata": {},
     "output_type": "execute_result"
    }
   ],
   "source": [
    "si_out"
   ]
  },
  {
   "cell_type": "code",
   "execution_count": 57,
   "metadata": {},
   "outputs": [
    {
     "name": "stdout",
     "output_type": "stream",
     "text": [
      "Normality test (Shapiro), Time_Object\n",
      "            W      pval  normal\n",
      "KOF  0.935501  0.442069    True\n",
      "KOM  0.923020  0.382836    True\n",
      "WTF  0.917846  0.301104    True\n",
      "WTM  0.970216  0.896569    True\n",
      "Normality test (Shapiro), Time_Conspecific\n",
      "            W      pval  normal\n",
      "KOF  0.931436  0.395579    True\n",
      "KOM  0.916366  0.327636    True\n",
      "WTF  0.948646  0.626702    True\n",
      "WTM  0.930693  0.487973    True\n",
      "Normality test (Shapiro), Total\n",
      "            W      pval  normal\n",
      "KOF  0.945132  0.567252    True\n",
      "KOM  0.960652  0.793276    True\n",
      "WTF  0.930491  0.415843    True\n",
      "WTM  0.938467  0.565858    True\n"
     ]
    }
   ],
   "source": [
    "for var_ in ['Time_Object', 'Time_Conspecific', 'Total']:\n",
    "    print(f'Normality test (Shapiro), {var_}')\n",
    "    print(pg.normality(data=si_tidy, dv=var_, group='Group'))"
   ]
  },
  {
   "cell_type": "code",
   "execution_count": 58,
   "metadata": {},
   "outputs": [
    {
     "name": "stdout",
     "output_type": "stream",
     "text": [
      "Normality test (Levene), Time_Object\n",
      "               W      pval  equal_var\n",
      "levene  0.992779  0.406591       True\n",
      "Normality test (Levene), Time_Conspecific\n",
      "               W      pval  equal_var\n",
      "levene  0.611101  0.611966       True\n",
      "Normality test (Levene), Total\n",
      "               W      pval  equal_var\n",
      "levene  4.142158  0.012347      False\n"
     ]
    }
   ],
   "source": [
    "for var_ in ['Time_Object', 'Time_Conspecific', 'Total']:\n",
    "    print(f'Normality test (Levene), {var_}')\n",
    "    print(pg.homoscedasticity(data=si_tidy, dv=var_, group='Group'))"
   ]
  },
  {
   "cell_type": "code",
   "execution_count": 59,
   "metadata": {},
   "outputs": [],
   "source": [
    "samp_time = pd.melt(si_tidy, id_vars=['Subject', 'Group', 'Sex', 'Genotype'], value_vars=['Time_Object', 'Time_Conspecific'], var_name='Side', value_name='Time')"
   ]
  },
  {
   "cell_type": "code",
   "execution_count": 60,
   "metadata": {},
   "outputs": [
    {
     "data": {
      "text/html": [
       "<div>\n",
       "<style scoped>\n",
       "    .dataframe tbody tr th:only-of-type {\n",
       "        vertical-align: middle;\n",
       "    }\n",
       "\n",
       "    .dataframe tbody tr th {\n",
       "        vertical-align: top;\n",
       "    }\n",
       "\n",
       "    .dataframe thead th {\n",
       "        text-align: right;\n",
       "    }\n",
       "</style>\n",
       "<table border=\"1\" class=\"dataframe\">\n",
       "  <thead>\n",
       "    <tr style=\"text-align: right;\">\n",
       "      <th></th>\n",
       "      <th>Source</th>\n",
       "      <th>SS</th>\n",
       "      <th>DF</th>\n",
       "      <th>MS</th>\n",
       "      <th>F</th>\n",
       "      <th>p-unc</th>\n",
       "      <th>np2</th>\n",
       "    </tr>\n",
       "  </thead>\n",
       "  <tbody>\n",
       "    <tr>\n",
       "      <th>0</th>\n",
       "      <td>Sex</td>\n",
       "      <td>151.291092</td>\n",
       "      <td>1.0</td>\n",
       "      <td>151.291092</td>\n",
       "      <td>0.498434</td>\n",
       "      <td>4.823478e-01</td>\n",
       "      <td>0.006516</td>\n",
       "    </tr>\n",
       "    <tr>\n",
       "      <th>1</th>\n",
       "      <td>Genotype</td>\n",
       "      <td>309.317470</td>\n",
       "      <td>1.0</td>\n",
       "      <td>309.317470</td>\n",
       "      <td>1.019057</td>\n",
       "      <td>3.159460e-01</td>\n",
       "      <td>0.013231</td>\n",
       "    </tr>\n",
       "    <tr>\n",
       "      <th>2</th>\n",
       "      <td>Side</td>\n",
       "      <td>68571.428571</td>\n",
       "      <td>1.0</td>\n",
       "      <td>68571.428571</td>\n",
       "      <td>225.910915</td>\n",
       "      <td>1.806106e-24</td>\n",
       "      <td>0.748270</td>\n",
       "    </tr>\n",
       "    <tr>\n",
       "      <th>3</th>\n",
       "      <td>Sex * Genotype</td>\n",
       "      <td>115.598555</td>\n",
       "      <td>1.0</td>\n",
       "      <td>115.598555</td>\n",
       "      <td>0.380843</td>\n",
       "      <td>5.389967e-01</td>\n",
       "      <td>0.004986</td>\n",
       "    </tr>\n",
       "    <tr>\n",
       "      <th>4</th>\n",
       "      <td>Sex * Side</td>\n",
       "      <td>5320.438465</td>\n",
       "      <td>1.0</td>\n",
       "      <td>5320.438465</td>\n",
       "      <td>17.528366</td>\n",
       "      <td>7.538056e-05</td>\n",
       "      <td>0.187412</td>\n",
       "    </tr>\n",
       "    <tr>\n",
       "      <th>5</th>\n",
       "      <td>Genotype * Side</td>\n",
       "      <td>5495.574246</td>\n",
       "      <td>1.0</td>\n",
       "      <td>5495.574246</td>\n",
       "      <td>18.105357</td>\n",
       "      <td>5.897705e-05</td>\n",
       "      <td>0.192395</td>\n",
       "    </tr>\n",
       "    <tr>\n",
       "      <th>6</th>\n",
       "      <td>Sex * Genotype * Side</td>\n",
       "      <td>3896.114818</td>\n",
       "      <td>1.0</td>\n",
       "      <td>3896.114818</td>\n",
       "      <td>12.835883</td>\n",
       "      <td>5.975480e-04</td>\n",
       "      <td>0.144490</td>\n",
       "    </tr>\n",
       "    <tr>\n",
       "      <th>7</th>\n",
       "      <td>Residual</td>\n",
       "      <td>23068.511616</td>\n",
       "      <td>76.0</td>\n",
       "      <td>303.533048</td>\n",
       "      <td>NaN</td>\n",
       "      <td>NaN</td>\n",
       "      <td>NaN</td>\n",
       "    </tr>\n",
       "  </tbody>\n",
       "</table>\n",
       "</div>"
      ],
      "text/plain": [
       "                  Source            SS    DF            MS           F  \\\n",
       "0                    Sex    151.291092   1.0    151.291092    0.498434   \n",
       "1               Genotype    309.317470   1.0    309.317470    1.019057   \n",
       "2                   Side  68571.428571   1.0  68571.428571  225.910915   \n",
       "3         Sex * Genotype    115.598555   1.0    115.598555    0.380843   \n",
       "4             Sex * Side   5320.438465   1.0   5320.438465   17.528366   \n",
       "5        Genotype * Side   5495.574246   1.0   5495.574246   18.105357   \n",
       "6  Sex * Genotype * Side   3896.114818   1.0   3896.114818   12.835883   \n",
       "7               Residual  23068.511616  76.0    303.533048         NaN   \n",
       "\n",
       "          p-unc       np2  \n",
       "0  4.823478e-01  0.006516  \n",
       "1  3.159460e-01  0.013231  \n",
       "2  1.806106e-24  0.748270  \n",
       "3  5.389967e-01  0.004986  \n",
       "4  7.538056e-05  0.187412  \n",
       "5  5.897705e-05  0.192395  \n",
       "6  5.975480e-04  0.144490  \n",
       "7           NaN       NaN  "
      ]
     },
     "execution_count": 60,
     "metadata": {},
     "output_type": "execute_result"
    }
   ],
   "source": [
    "pg.anova(data=samp_time, dv='Time', between=['Sex', 'Genotype', 'Side'])"
   ]
  },
  {
   "cell_type": "markdown",
   "metadata": {},
   "source": [
    "### Geting complicated\n",
    "Neither Sex or Genotype is a factor on their own, but side does. But the interaction Sex * Side IS significant. Genotype * Side IS ALSO significant.\n",
    "\n",
    "There's sexual dimorfism in social interaction."
   ]
  },
  {
   "cell_type": "code",
   "execution_count": 61,
   "metadata": {},
   "outputs": [
    {
     "data": {
      "text/html": [
       "<div>\n",
       "<style scoped>\n",
       "    .dataframe tbody tr th:only-of-type {\n",
       "        vertical-align: middle;\n",
       "    }\n",
       "\n",
       "    .dataframe tbody tr th {\n",
       "        vertical-align: top;\n",
       "    }\n",
       "\n",
       "    .dataframe thead th {\n",
       "        text-align: right;\n",
       "    }\n",
       "</style>\n",
       "<table border=\"1\" class=\"dataframe\">\n",
       "  <thead>\n",
       "    <tr style=\"text-align: right;\">\n",
       "      <th></th>\n",
       "      <th>Source</th>\n",
       "      <th>SS</th>\n",
       "      <th>DF</th>\n",
       "      <th>MS</th>\n",
       "      <th>F</th>\n",
       "      <th>p-unc</th>\n",
       "      <th>np2</th>\n",
       "    </tr>\n",
       "  </thead>\n",
       "  <tbody>\n",
       "    <tr>\n",
       "      <th>0</th>\n",
       "      <td>Sex</td>\n",
       "      <td>302.582184</td>\n",
       "      <td>1.0</td>\n",
       "      <td>302.582184</td>\n",
       "      <td>0.995574</td>\n",
       "      <td>0.324695</td>\n",
       "      <td>0.025530</td>\n",
       "    </tr>\n",
       "    <tr>\n",
       "      <th>1</th>\n",
       "      <td>Genotype</td>\n",
       "      <td>618.634940</td>\n",
       "      <td>1.0</td>\n",
       "      <td>618.634940</td>\n",
       "      <td>2.035470</td>\n",
       "      <td>0.161832</td>\n",
       "      <td>0.050842</td>\n",
       "    </tr>\n",
       "    <tr>\n",
       "      <th>2</th>\n",
       "      <td>Sex * Genotype</td>\n",
       "      <td>231.197109</td>\n",
       "      <td>1.0</td>\n",
       "      <td>231.197109</td>\n",
       "      <td>0.760699</td>\n",
       "      <td>0.388588</td>\n",
       "      <td>0.019626</td>\n",
       "    </tr>\n",
       "    <tr>\n",
       "      <th>3</th>\n",
       "      <td>Residual</td>\n",
       "      <td>11549.238889</td>\n",
       "      <td>38.0</td>\n",
       "      <td>303.927339</td>\n",
       "      <td>NaN</td>\n",
       "      <td>NaN</td>\n",
       "      <td>NaN</td>\n",
       "    </tr>\n",
       "  </tbody>\n",
       "</table>\n",
       "</div>"
      ],
      "text/plain": [
       "           Source            SS    DF          MS         F     p-unc  \\\n",
       "0             Sex    302.582184   1.0  302.582184  0.995574  0.324695   \n",
       "1        Genotype    618.634940   1.0  618.634940  2.035470  0.161832   \n",
       "2  Sex * Genotype    231.197109   1.0  231.197109  0.760699  0.388588   \n",
       "3        Residual  11549.238889  38.0  303.927339       NaN       NaN   \n",
       "\n",
       "        np2  \n",
       "0  0.025530  \n",
       "1  0.050842  \n",
       "2  0.019626  \n",
       "3       NaN  "
      ]
     },
     "execution_count": 61,
     "metadata": {},
     "output_type": "execute_result"
    }
   ],
   "source": [
    "pg.anova(data=si_tidy, dv='Total', between=['Sex', 'Genotype'])"
   ]
  },
  {
   "cell_type": "markdown",
   "metadata": {},
   "source": [
    "There's no difference in the total time spent exploring both stimuli chambers."
   ]
  },
  {
   "cell_type": "markdown",
   "metadata": {},
   "source": [
    "### Social choice"
   ]
  },
  {
   "cell_type": "code",
   "execution_count": 62,
   "metadata": {},
   "outputs": [
    {
     "data": {
      "text/html": [
       "<div>\n",
       "<style scoped>\n",
       "    .dataframe tbody tr th:only-of-type {\n",
       "        vertical-align: middle;\n",
       "    }\n",
       "\n",
       "    .dataframe tbody tr th {\n",
       "        vertical-align: top;\n",
       "    }\n",
       "\n",
       "    .dataframe thead th {\n",
       "        text-align: right;\n",
       "    }\n",
       "</style>\n",
       "<table border=\"1\" class=\"dataframe\">\n",
       "  <thead>\n",
       "    <tr style=\"text-align: right;\">\n",
       "      <th></th>\n",
       "      <th>Contrast</th>\n",
       "      <th>Group</th>\n",
       "      <th>A</th>\n",
       "      <th>B</th>\n",
       "      <th>Paired</th>\n",
       "      <th>Parametric</th>\n",
       "      <th>T</th>\n",
       "      <th>dof</th>\n",
       "      <th>Tail</th>\n",
       "      <th>p-unc</th>\n",
       "      <th>p-corr</th>\n",
       "      <th>p-adjust</th>\n",
       "      <th>BF10</th>\n",
       "      <th>hedges</th>\n",
       "    </tr>\n",
       "  </thead>\n",
       "  <tbody>\n",
       "    <tr>\n",
       "      <th>0</th>\n",
       "      <td>Group</td>\n",
       "      <td>-</td>\n",
       "      <td>KOF</td>\n",
       "      <td>KOM</td>\n",
       "      <td>False</td>\n",
       "      <td>True</td>\n",
       "      <td>-0.360258</td>\n",
       "      <td>27.840347</td>\n",
       "      <td>two-sided</td>\n",
       "      <td>7.213730e-01</td>\n",
       "      <td>1.000000e+00</td>\n",
       "      <td>holm</td>\n",
       "      <td>0.315</td>\n",
       "      <td>-0.112802</td>\n",
       "    </tr>\n",
       "    <tr>\n",
       "      <th>1</th>\n",
       "      <td>Group</td>\n",
       "      <td>-</td>\n",
       "      <td>KOF</td>\n",
       "      <td>WTF</td>\n",
       "      <td>False</td>\n",
       "      <td>True</td>\n",
       "      <td>0.204112</td>\n",
       "      <td>43.995160</td>\n",
       "      <td>two-sided</td>\n",
       "      <td>8.392069e-01</td>\n",
       "      <td>1.000000e+00</td>\n",
       "      <td>holm</td>\n",
       "      <td>0.298</td>\n",
       "      <td>0.059008</td>\n",
       "    </tr>\n",
       "    <tr>\n",
       "      <th>2</th>\n",
       "      <td>Group</td>\n",
       "      <td>-</td>\n",
       "      <td>KOF</td>\n",
       "      <td>WTM</td>\n",
       "      <td>False</td>\n",
       "      <td>True</td>\n",
       "      <td>0.167304</td>\n",
       "      <td>37.927020</td>\n",
       "      <td>two-sided</td>\n",
       "      <td>8.680197e-01</td>\n",
       "      <td>1.000000e+00</td>\n",
       "      <td>holm</td>\n",
       "      <td>0.309</td>\n",
       "      <td>0.050716</td>\n",
       "    </tr>\n",
       "    <tr>\n",
       "      <th>3</th>\n",
       "      <td>Group</td>\n",
       "      <td>-</td>\n",
       "      <td>KOM</td>\n",
       "      <td>WTF</td>\n",
       "      <td>False</td>\n",
       "      <td>True</td>\n",
       "      <td>0.487987</td>\n",
       "      <td>27.178388</td>\n",
       "      <td>two-sided</td>\n",
       "      <td>6.294729e-01</td>\n",
       "      <td>1.000000e+00</td>\n",
       "      <td>holm</td>\n",
       "      <td>0.334</td>\n",
       "      <td>0.152373</td>\n",
       "    </tr>\n",
       "    <tr>\n",
       "      <th>4</th>\n",
       "      <td>Group</td>\n",
       "      <td>-</td>\n",
       "      <td>KOM</td>\n",
       "      <td>WTM</td>\n",
       "      <td>False</td>\n",
       "      <td>True</td>\n",
       "      <td>0.460824</td>\n",
       "      <td>28.643679</td>\n",
       "      <td>two-sided</td>\n",
       "      <td>6.484047e-01</td>\n",
       "      <td>1.000000e+00</td>\n",
       "      <td>holm</td>\n",
       "      <td>0.343</td>\n",
       "      <td>0.141926</td>\n",
       "    </tr>\n",
       "    <tr>\n",
       "      <th>5</th>\n",
       "      <td>Group</td>\n",
       "      <td>-</td>\n",
       "      <td>WTF</td>\n",
       "      <td>WTM</td>\n",
       "      <td>False</td>\n",
       "      <td>True</td>\n",
       "      <td>-0.025415</td>\n",
       "      <td>36.210724</td>\n",
       "      <td>two-sided</td>\n",
       "      <td>9.798634e-01</td>\n",
       "      <td>1.000000e+00</td>\n",
       "      <td>holm</td>\n",
       "      <td>0.31</td>\n",
       "      <td>-0.007930</td>\n",
       "    </tr>\n",
       "    <tr>\n",
       "      <th>6</th>\n",
       "      <td>Side</td>\n",
       "      <td>-</td>\n",
       "      <td>Time_Object</td>\n",
       "      <td>Time_Conspecific</td>\n",
       "      <td>False</td>\n",
       "      <td>True</td>\n",
       "      <td>-12.099447</td>\n",
       "      <td>82.000000</td>\n",
       "      <td>two-sided</td>\n",
       "      <td>6.273782e-20</td>\n",
       "      <td>NaN</td>\n",
       "      <td>NaN</td>\n",
       "      <td>4.914e+16</td>\n",
       "      <td>-2.616093</td>\n",
       "    </tr>\n",
       "    <tr>\n",
       "      <th>7</th>\n",
       "      <td>Group * Side</td>\n",
       "      <td>KOF</td>\n",
       "      <td>Time_Object</td>\n",
       "      <td>Time_Conspecific</td>\n",
       "      <td>False</td>\n",
       "      <td>True</td>\n",
       "      <td>-6.272925</td>\n",
       "      <td>22.000000</td>\n",
       "      <td>two-sided</td>\n",
       "      <td>2.590145e-06</td>\n",
       "      <td>7.770436e-06</td>\n",
       "      <td>holm</td>\n",
       "      <td>4833.183</td>\n",
       "      <td>-2.472604</td>\n",
       "    </tr>\n",
       "    <tr>\n",
       "      <th>8</th>\n",
       "      <td>Group * Side</td>\n",
       "      <td>KOM</td>\n",
       "      <td>Time_Object</td>\n",
       "      <td>Time_Conspecific</td>\n",
       "      <td>False</td>\n",
       "      <td>True</td>\n",
       "      <td>-17.141410</td>\n",
       "      <td>18.000000</td>\n",
       "      <td>two-sided</td>\n",
       "      <td>1.355445e-12</td>\n",
       "      <td>5.421781e-12</td>\n",
       "      <td>holm</td>\n",
       "      <td>2.664e+09</td>\n",
       "      <td>-7.341962</td>\n",
       "    </tr>\n",
       "    <tr>\n",
       "      <th>9</th>\n",
       "      <td>Group * Side</td>\n",
       "      <td>WTF</td>\n",
       "      <td>Time_Object</td>\n",
       "      <td>Time_Conspecific</td>\n",
       "      <td>False</td>\n",
       "      <td>True</td>\n",
       "      <td>-4.708928</td>\n",
       "      <td>20.000000</td>\n",
       "      <td>two-sided</td>\n",
       "      <td>1.346051e-04</td>\n",
       "      <td>2.692102e-04</td>\n",
       "      <td>holm</td>\n",
       "      <td>156.234</td>\n",
       "      <td>-1.931645</td>\n",
       "    </tr>\n",
       "    <tr>\n",
       "      <th>10</th>\n",
       "      <td>Group * Side</td>\n",
       "      <td>WTM</td>\n",
       "      <td>Time_Object</td>\n",
       "      <td>Time_Conspecific</td>\n",
       "      <td>False</td>\n",
       "      <td>True</td>\n",
       "      <td>-4.950253</td>\n",
       "      <td>16.000000</td>\n",
       "      <td>two-sided</td>\n",
       "      <td>1.446999e-04</td>\n",
       "      <td>2.692102e-04</td>\n",
       "      <td>holm</td>\n",
       "      <td>142.305</td>\n",
       "      <td>-2.222449</td>\n",
       "    </tr>\n",
       "  </tbody>\n",
       "</table>\n",
       "</div>"
      ],
      "text/plain": [
       "        Contrast Group            A                 B Paired  Parametric  \\\n",
       "0          Group     -          KOF               KOM  False        True   \n",
       "1          Group     -          KOF               WTF  False        True   \n",
       "2          Group     -          KOF               WTM  False        True   \n",
       "3          Group     -          KOM               WTF  False        True   \n",
       "4          Group     -          KOM               WTM  False        True   \n",
       "5          Group     -          WTF               WTM  False        True   \n",
       "6           Side     -  Time_Object  Time_Conspecific  False        True   \n",
       "7   Group * Side   KOF  Time_Object  Time_Conspecific  False        True   \n",
       "8   Group * Side   KOM  Time_Object  Time_Conspecific  False        True   \n",
       "9   Group * Side   WTF  Time_Object  Time_Conspecific  False        True   \n",
       "10  Group * Side   WTM  Time_Object  Time_Conspecific  False        True   \n",
       "\n",
       "            T        dof       Tail         p-unc        p-corr p-adjust  \\\n",
       "0   -0.360258  27.840347  two-sided  7.213730e-01  1.000000e+00     holm   \n",
       "1    0.204112  43.995160  two-sided  8.392069e-01  1.000000e+00     holm   \n",
       "2    0.167304  37.927020  two-sided  8.680197e-01  1.000000e+00     holm   \n",
       "3    0.487987  27.178388  two-sided  6.294729e-01  1.000000e+00     holm   \n",
       "4    0.460824  28.643679  two-sided  6.484047e-01  1.000000e+00     holm   \n",
       "5   -0.025415  36.210724  two-sided  9.798634e-01  1.000000e+00     holm   \n",
       "6  -12.099447  82.000000  two-sided  6.273782e-20           NaN      NaN   \n",
       "7   -6.272925  22.000000  two-sided  2.590145e-06  7.770436e-06     holm   \n",
       "8  -17.141410  18.000000  two-sided  1.355445e-12  5.421781e-12     holm   \n",
       "9   -4.708928  20.000000  two-sided  1.346051e-04  2.692102e-04     holm   \n",
       "10  -4.950253  16.000000  two-sided  1.446999e-04  2.692102e-04     holm   \n",
       "\n",
       "         BF10    hedges  \n",
       "0       0.315 -0.112802  \n",
       "1       0.298  0.059008  \n",
       "2       0.309  0.050716  \n",
       "3       0.334  0.152373  \n",
       "4       0.343  0.141926  \n",
       "5        0.31 -0.007930  \n",
       "6   4.914e+16 -2.616093  \n",
       "7    4833.183 -2.472604  \n",
       "8   2.664e+09 -7.341962  \n",
       "9     156.234 -1.931645  \n",
       "10    142.305 -2.222449  "
      ]
     },
     "execution_count": 62,
     "metadata": {},
     "output_type": "execute_result"
    }
   ],
   "source": [
    "pg.pairwise_ttests(samp_time, dv='Time', between=['Group', 'Side'], padjust='holm')"
   ]
  },
  {
   "cell_type": "markdown",
   "metadata": {},
   "source": [
    "All groups show a preference for the Social Side"
   ]
  },
  {
   "cell_type": "code",
   "execution_count": 63,
   "metadata": {},
   "outputs": [
    {
     "data": {
      "text/html": [
       "<div>\n",
       "<style scoped>\n",
       "    .dataframe tbody tr th:only-of-type {\n",
       "        vertical-align: middle;\n",
       "    }\n",
       "\n",
       "    .dataframe tbody tr th {\n",
       "        vertical-align: top;\n",
       "    }\n",
       "\n",
       "    .dataframe thead th {\n",
       "        text-align: right;\n",
       "    }\n",
       "</style>\n",
       "<table border=\"1\" class=\"dataframe\">\n",
       "  <thead>\n",
       "    <tr style=\"text-align: right;\">\n",
       "      <th></th>\n",
       "      <th>Source</th>\n",
       "      <th>SS</th>\n",
       "      <th>DF</th>\n",
       "      <th>MS</th>\n",
       "      <th>F</th>\n",
       "      <th>p-unc</th>\n",
       "      <th>np2</th>\n",
       "    </tr>\n",
       "  </thead>\n",
       "  <tbody>\n",
       "    <tr>\n",
       "      <th>0</th>\n",
       "      <td>Sex</td>\n",
       "      <td>0.097200</td>\n",
       "      <td>1.0</td>\n",
       "      <td>0.097200</td>\n",
       "      <td>3.013187</td>\n",
       "      <td>0.089589</td>\n",
       "      <td>0.064092</td>\n",
       "    </tr>\n",
       "    <tr>\n",
       "      <th>1</th>\n",
       "      <td>Genotype</td>\n",
       "      <td>0.200310</td>\n",
       "      <td>1.0</td>\n",
       "      <td>0.200310</td>\n",
       "      <td>6.209577</td>\n",
       "      <td>0.016547</td>\n",
       "      <td>0.123673</td>\n",
       "    </tr>\n",
       "    <tr>\n",
       "      <th>2</th>\n",
       "      <td>Sex * Genotype</td>\n",
       "      <td>0.129029</td>\n",
       "      <td>1.0</td>\n",
       "      <td>0.129029</td>\n",
       "      <td>3.999894</td>\n",
       "      <td>0.051700</td>\n",
       "      <td>0.083331</td>\n",
       "    </tr>\n",
       "    <tr>\n",
       "      <th>3</th>\n",
       "      <td>Residual</td>\n",
       "      <td>1.419361</td>\n",
       "      <td>44.0</td>\n",
       "      <td>0.032258</td>\n",
       "      <td>NaN</td>\n",
       "      <td>NaN</td>\n",
       "      <td>NaN</td>\n",
       "    </tr>\n",
       "  </tbody>\n",
       "</table>\n",
       "</div>"
      ],
      "text/plain": [
       "           Source        SS    DF        MS         F     p-unc       np2\n",
       "0             Sex  0.097200   1.0  0.097200  3.013187  0.089589  0.064092\n",
       "1        Genotype  0.200310   1.0  0.200310  6.209577  0.016547  0.123673\n",
       "2  Sex * Genotype  0.129029   1.0  0.129029  3.999894  0.051700  0.083331\n",
       "3        Residual  1.419361  44.0  0.032258       NaN       NaN       NaN"
      ]
     },
     "execution_count": 63,
     "metadata": {},
     "output_type": "execute_result"
    }
   ],
   "source": [
    "pg.anova(data=si_clean, dv='Sociability', between=['Sex', 'Genotype'])"
   ]
  },
  {
   "cell_type": "code",
   "execution_count": 64,
   "metadata": {},
   "outputs": [
    {
     "data": {
      "text/html": [
       "<div>\n",
       "<style scoped>\n",
       "    .dataframe tbody tr th:only-of-type {\n",
       "        vertical-align: middle;\n",
       "    }\n",
       "\n",
       "    .dataframe tbody tr th {\n",
       "        vertical-align: top;\n",
       "    }\n",
       "\n",
       "    .dataframe thead th {\n",
       "        text-align: right;\n",
       "    }\n",
       "</style>\n",
       "<table border=\"1\" class=\"dataframe\">\n",
       "  <thead>\n",
       "    <tr style=\"text-align: right;\">\n",
       "      <th></th>\n",
       "      <th>A</th>\n",
       "      <th>B</th>\n",
       "      <th>mean(A)</th>\n",
       "      <th>mean(B)</th>\n",
       "      <th>diff</th>\n",
       "      <th>se</th>\n",
       "      <th>tail</th>\n",
       "      <th>T</th>\n",
       "      <th>p-tukey</th>\n",
       "      <th>hedges</th>\n",
       "    </tr>\n",
       "  </thead>\n",
       "  <tbody>\n",
       "    <tr>\n",
       "      <th>0</th>\n",
       "      <td>KOF</td>\n",
       "      <td>KOM</td>\n",
       "      <td>0.189231</td>\n",
       "      <td>0.374615</td>\n",
       "      <td>-0.185385</td>\n",
       "      <td>0.070447</td>\n",
       "      <td>two-sided</td>\n",
       "      <td>-2.631542</td>\n",
       "      <td>0.045702</td>\n",
       "      <td>-0.999581</td>\n",
       "    </tr>\n",
       "    <tr>\n",
       "      <th>1</th>\n",
       "      <td>KOF</td>\n",
       "      <td>WTF</td>\n",
       "      <td>0.189231</td>\n",
       "      <td>0.163636</td>\n",
       "      <td>0.025594</td>\n",
       "      <td>0.073580</td>\n",
       "      <td>two-sided</td>\n",
       "      <td>0.347846</td>\n",
       "      <td>0.900000</td>\n",
       "      <td>0.137589</td>\n",
       "    </tr>\n",
       "    <tr>\n",
       "      <th>2</th>\n",
       "      <td>KOF</td>\n",
       "      <td>WTM</td>\n",
       "      <td>0.189231</td>\n",
       "      <td>0.140909</td>\n",
       "      <td>0.048322</td>\n",
       "      <td>0.073580</td>\n",
       "      <td>two-sided</td>\n",
       "      <td>0.656726</td>\n",
       "      <td>0.900000</td>\n",
       "      <td>0.259766</td>\n",
       "    </tr>\n",
       "    <tr>\n",
       "      <th>3</th>\n",
       "      <td>KOM</td>\n",
       "      <td>WTF</td>\n",
       "      <td>0.374615</td>\n",
       "      <td>0.163636</td>\n",
       "      <td>0.210979</td>\n",
       "      <td>0.073580</td>\n",
       "      <td>two-sided</td>\n",
       "      <td>2.867356</td>\n",
       "      <td>0.023959</td>\n",
       "      <td>1.134173</td>\n",
       "    </tr>\n",
       "    <tr>\n",
       "      <th>4</th>\n",
       "      <td>KOM</td>\n",
       "      <td>WTM</td>\n",
       "      <td>0.374615</td>\n",
       "      <td>0.140909</td>\n",
       "      <td>0.233706</td>\n",
       "      <td>0.073580</td>\n",
       "      <td>two-sided</td>\n",
       "      <td>3.176236</td>\n",
       "      <td>0.009428</td>\n",
       "      <td>1.256349</td>\n",
       "    </tr>\n",
       "    <tr>\n",
       "      <th>5</th>\n",
       "      <td>WTF</td>\n",
       "      <td>WTM</td>\n",
       "      <td>0.163636</td>\n",
       "      <td>0.140909</td>\n",
       "      <td>0.022727</td>\n",
       "      <td>0.076584</td>\n",
       "      <td>two-sided</td>\n",
       "      <td>0.296762</td>\n",
       "      <td>0.900000</td>\n",
       "      <td>0.121735</td>\n",
       "    </tr>\n",
       "  </tbody>\n",
       "</table>\n",
       "</div>"
      ],
      "text/plain": [
       "     A    B   mean(A)   mean(B)      diff        se       tail         T  \\\n",
       "0  KOF  KOM  0.189231  0.374615 -0.185385  0.070447  two-sided -2.631542   \n",
       "1  KOF  WTF  0.189231  0.163636  0.025594  0.073580  two-sided  0.347846   \n",
       "2  KOF  WTM  0.189231  0.140909  0.048322  0.073580  two-sided  0.656726   \n",
       "3  KOM  WTF  0.374615  0.163636  0.210979  0.073580  two-sided  2.867356   \n",
       "4  KOM  WTM  0.374615  0.140909  0.233706  0.073580  two-sided  3.176236   \n",
       "5  WTF  WTM  0.163636  0.140909  0.022727  0.076584  two-sided  0.296762   \n",
       "\n",
       "    p-tukey    hedges  \n",
       "0  0.045702 -0.999581  \n",
       "1  0.900000  0.137589  \n",
       "2  0.900000  0.259766  \n",
       "3  0.023959  1.134173  \n",
       "4  0.009428  1.256349  \n",
       "5  0.900000  0.121735  "
      ]
     },
     "execution_count": 64,
     "metadata": {},
     "output_type": "execute_result"
    }
   ],
   "source": [
    "pg.pairwise_tukey(data=si_clean, dv='Sociability', between='Group')"
   ]
  },
  {
   "cell_type": "code",
   "execution_count": 88,
   "metadata": {},
   "outputs": [
    {
     "data": {
      "image/png": "[encoded data removed]",
      "text/plain": [
       "<Figure size 720x216 with 3 Axes>"
      ]
     },
     "metadata": {
      "needs_background": "light"
     },
     "output_type": "display_data"
    }
   ],
   "source": [
    "si_fig, si_axs = plt.subplots(ncols=3, nrows = 1, figsize = (10, 3))\n",
    "sns.boxplot(data = si_tidy, x='Group', y='Total', ax =si_axs[0], palette=['forestgreen', 'forestgreen', 'royalblue', 'royalblue'], showmeans=True, meanprops={'marker':'+', 'markeredgecolor':'k'}, width=0.4)\n",
    "si_axs[0].title.set_text('Total Exploration Time')\n",
    "si_axs[0].set_ylabel('Sec')\n",
    "\n",
    "sns.boxplot(x='Group', y='Time', hue='Side', data=samp_time, palette=['dimgray', 'white'], showmeans=True, meanprops={'marker':'+', 'markeredgecolor':'k'}, width=0.5, ax=si_axs[1], showfliers = False)\n",
    "handles, labels = si_axs[1].get_legend_handles_labels()\n",
    "si_axs[1].set_ylim(25, 250)\n",
    "si_axs[1].legend(handles=handles, labels=['Obj', 'Cons'], frameon=False)\n",
    "si_axs[1].set_ylabel('Time in Chamber (s)')\n",
    "ph_val = zip(['***', '***', '***', '*'], [20,67,112,164], [90, 110, 90, 90])\n",
    "for text, x, y in ph_val:\n",
    "    si_axs[1].annotate(s=text, xy=(x,y), xycoords='axes points', fontsize=10)\n",
    "si_axs[1].title.set_text('Social Choice')\n",
    "\n",
    "sns.boxplot(data=si_clean, x='Group', y='Sociability', palette=['forestgreen', 'forestgreen', 'royalblue', 'royalblue'], width=.4, showmeans=True, meanprops={'marker':'+', 'markeredgecolor':'k'}, ax=si_axs[2], showfliers = False)\n",
    "si_axs[2].annotate(s='*', xy=(45, 35), xycoords='axes points', xytext=(0, -15), textcoords='offset points', ha='center', va='bottom', arrowprops=dict(arrowstyle='-[, widthB=2.5, lengthB=.1', lw=1, color='k'))\n",
    "si_axs[2].annotate(s='*', xy=(90, 27), xycoords='axes points', xytext=(0, -15), textcoords='offset points', ha='center', va='bottom', arrowprops=dict(arrowstyle='-[, widthB=2.5, lengthB=.1', lw=1, color='k'))\n",
    "si_axs[2].annotate('***', xy=(110,15), xytext=(110, 0), xycoords='axes points', ha='center', va='bottom', arrowprops=dict(arrowstyle='-[, widthB=4.5, lengthB=.1', lw=1, color='k'))\n",
    "si_axs[2].set_ylim(-.3,0.8)\n",
    "si_axs[2].title.set_text('Sociability Index')\n",
    "plt.tight_layout(rect=[0, 0.03, 1, 1])"
   ]
  },
  {
   "cell_type": "code",
   "execution_count": 136,
   "metadata": {},
   "outputs": [],
   "source": [
    "si_fig.savefig('/Users/labc02/Documents/PDCB_data/Behavior/Figures/SI_fig.svg')"
   ]
  },
  {
   "cell_type": "markdown",
   "metadata": {},
   "source": [
    "### Collapsing Sex"
   ]
  },
  {
   "cell_type": "code",
   "execution_count": 143,
   "metadata": {},
   "outputs": [
    {
     "data": {
      "text/plain": [
       "Index(['Subject', 'Group', 'Genotype', 'Sex', 'Phase', 'Entries Obj/New Cons',\n",
       "       'Entries Conspecific', 'Time_Object', 'Time_Conspecific', 'Total',\n",
       "       'Sociability'],\n",
       "      dtype='object')"
      ]
     },
     "execution_count": 143,
     "metadata": {},
     "output_type": "execute_result"
    }
   ],
   "source": [
    "si_tidy.columns"
   ]
  },
  {
   "cell_type": "code",
   "execution_count": 283,
   "metadata": {},
   "outputs": [
    {
     "data": {
      "text/plain": [
       "Genotype\n",
       "KO    22\n",
       "WT    20\n",
       "Name: Subject, dtype: int64"
      ]
     },
     "execution_count": 283,
     "metadata": {},
     "output_type": "execute_result"
    }
   ],
   "source": [
    "si_tidy.groupby('Genotype')['Subject'].count()"
   ]
  },
  {
   "cell_type": "code",
   "execution_count": 137,
   "metadata": {},
   "outputs": [
    {
     "data": {
      "text/html": [
       "<div>\n",
       "<style scoped>\n",
       "    .dataframe tbody tr th:only-of-type {\n",
       "        vertical-align: middle;\n",
       "    }\n",
       "\n",
       "    .dataframe tbody tr th {\n",
       "        vertical-align: top;\n",
       "    }\n",
       "\n",
       "    .dataframe thead th {\n",
       "        text-align: right;\n",
       "    }\n",
       "</style>\n",
       "<table border=\"1\" class=\"dataframe\">\n",
       "  <thead>\n",
       "    <tr style=\"text-align: right;\">\n",
       "      <th></th>\n",
       "      <th>W</th>\n",
       "      <th>pval</th>\n",
       "      <th>normal</th>\n",
       "    </tr>\n",
       "  </thead>\n",
       "  <tbody>\n",
       "    <tr>\n",
       "      <th>KO</th>\n",
       "      <td>0.972475</td>\n",
       "      <td>0.767632</td>\n",
       "      <td>True</td>\n",
       "    </tr>\n",
       "    <tr>\n",
       "      <th>WT</th>\n",
       "      <td>0.972315</td>\n",
       "      <td>0.802817</td>\n",
       "      <td>True</td>\n",
       "    </tr>\n",
       "  </tbody>\n",
       "</table>\n",
       "</div>"
      ],
      "text/plain": [
       "           W      pval  normal\n",
       "KO  0.972475  0.767632    True\n",
       "WT  0.972315  0.802817    True"
      ]
     },
     "execution_count": 137,
     "metadata": {},
     "output_type": "execute_result"
    }
   ],
   "source": [
    "pg.normality(data = si_tidy, dv = 'Total', group = 'Genotype')"
   ]
  },
  {
   "cell_type": "code",
   "execution_count": 284,
   "metadata": {},
   "outputs": [
    {
     "data": {
      "text/html": [
       "<div>\n",
       "<style scoped>\n",
       "    .dataframe tbody tr th:only-of-type {\n",
       "        vertical-align: middle;\n",
       "    }\n",
       "\n",
       "    .dataframe tbody tr th {\n",
       "        vertical-align: top;\n",
       "    }\n",
       "\n",
       "    .dataframe thead th {\n",
       "        text-align: right;\n",
       "    }\n",
       "</style>\n",
       "<table border=\"1\" class=\"dataframe\">\n",
       "  <thead>\n",
       "    <tr style=\"text-align: right;\">\n",
       "      <th></th>\n",
       "      <th>Source</th>\n",
       "      <th>SS</th>\n",
       "      <th>DF</th>\n",
       "      <th>MS</th>\n",
       "      <th>F</th>\n",
       "      <th>p-unc</th>\n",
       "      <th>np2</th>\n",
       "    </tr>\n",
       "  </thead>\n",
       "  <tbody>\n",
       "    <tr>\n",
       "      <th>0</th>\n",
       "      <td>Genotype</td>\n",
       "      <td>311.300433</td>\n",
       "      <td>1.0</td>\n",
       "      <td>311.300433</td>\n",
       "      <td>0.765055</td>\n",
       "      <td>3.843696e-01</td>\n",
       "      <td>0.009473</td>\n",
       "    </tr>\n",
       "    <tr>\n",
       "      <th>1</th>\n",
       "      <td>Side</td>\n",
       "      <td>68571.428571</td>\n",
       "      <td>1.0</td>\n",
       "      <td>68571.428571</td>\n",
       "      <td>168.521810</td>\n",
       "      <td>2.187417e-21</td>\n",
       "      <td>0.678097</td>\n",
       "    </tr>\n",
       "    <tr>\n",
       "      <th>2</th>\n",
       "      <td>Genotype * Side</td>\n",
       "      <td>5545.125974</td>\n",
       "      <td>1.0</td>\n",
       "      <td>5545.125974</td>\n",
       "      <td>13.627756</td>\n",
       "      <td>4.055067e-04</td>\n",
       "      <td>0.145553</td>\n",
       "    </tr>\n",
       "    <tr>\n",
       "      <th>3</th>\n",
       "      <td>Residual</td>\n",
       "      <td>32551.954545</td>\n",
       "      <td>80.0</td>\n",
       "      <td>406.899432</td>\n",
       "      <td>NaN</td>\n",
       "      <td>NaN</td>\n",
       "      <td>NaN</td>\n",
       "    </tr>\n",
       "  </tbody>\n",
       "</table>\n",
       "</div>"
      ],
      "text/plain": [
       "            Source            SS    DF            MS           F  \\\n",
       "0         Genotype    311.300433   1.0    311.300433    0.765055   \n",
       "1             Side  68571.428571   1.0  68571.428571  168.521810   \n",
       "2  Genotype * Side   5545.125974   1.0   5545.125974   13.627756   \n",
       "3         Residual  32551.954545  80.0    406.899432         NaN   \n",
       "\n",
       "          p-unc       np2  \n",
       "0  3.843696e-01  0.009473  \n",
       "1  2.187417e-21  0.678097  \n",
       "2  4.055067e-04  0.145553  \n",
       "3           NaN       NaN  "
      ]
     },
     "execution_count": 284,
     "metadata": {},
     "output_type": "execute_result"
    }
   ],
   "source": [
    "pg.anova(data=samp_time, dv='Time', between=['Genotype', 'Side'])"
   ]
  },
  {
   "cell_type": "code",
   "execution_count": 285,
   "metadata": {},
   "outputs": [
    {
     "data": {
      "text/html": [
       "<div>\n",
       "<style scoped>\n",
       "    .dataframe tbody tr th:only-of-type {\n",
       "        vertical-align: middle;\n",
       "    }\n",
       "\n",
       "    .dataframe tbody tr th {\n",
       "        vertical-align: top;\n",
       "    }\n",
       "\n",
       "    .dataframe thead th {\n",
       "        text-align: right;\n",
       "    }\n",
       "</style>\n",
       "<table border=\"1\" class=\"dataframe\">\n",
       "  <thead>\n",
       "    <tr style=\"text-align: right;\">\n",
       "      <th></th>\n",
       "      <th>Contrast</th>\n",
       "      <th>Genotype</th>\n",
       "      <th>A</th>\n",
       "      <th>B</th>\n",
       "      <th>Paired</th>\n",
       "      <th>Parametric</th>\n",
       "      <th>T</th>\n",
       "      <th>dof</th>\n",
       "      <th>Tail</th>\n",
       "      <th>p-unc</th>\n",
       "      <th>p-corr</th>\n",
       "      <th>p-adjust</th>\n",
       "      <th>BF10</th>\n",
       "      <th>hedges</th>\n",
       "    </tr>\n",
       "  </thead>\n",
       "  <tbody>\n",
       "    <tr>\n",
       "      <th>0</th>\n",
       "      <td>Genotype</td>\n",
       "      <td>-</td>\n",
       "      <td>KO</td>\n",
       "      <td>WT</td>\n",
       "      <td>False</td>\n",
       "      <td>True</td>\n",
       "      <td>0.499273</td>\n",
       "      <td>73.726692</td>\n",
       "      <td>two-sided</td>\n",
       "      <td>6.190739e-01</td>\n",
       "      <td>NaN</td>\n",
       "      <td>NaN</td>\n",
       "      <td>0.254</td>\n",
       "      <td>0.105891</td>\n",
       "    </tr>\n",
       "    <tr>\n",
       "      <th>1</th>\n",
       "      <td>Side</td>\n",
       "      <td>-</td>\n",
       "      <td>Time_Object</td>\n",
       "      <td>Time_Conspecific</td>\n",
       "      <td>False</td>\n",
       "      <td>True</td>\n",
       "      <td>-12.099447</td>\n",
       "      <td>82.000000</td>\n",
       "      <td>two-sided</td>\n",
       "      <td>6.273782e-20</td>\n",
       "      <td>NaN</td>\n",
       "      <td>NaN</td>\n",
       "      <td>4.914e+16</td>\n",
       "      <td>-2.616093</td>\n",
       "    </tr>\n",
       "    <tr>\n",
       "      <th>2</th>\n",
       "      <td>Genotype * Side</td>\n",
       "      <td>KO</td>\n",
       "      <td>Time_Object</td>\n",
       "      <td>Time_Conspecific</td>\n",
       "      <td>False</td>\n",
       "      <td>True</td>\n",
       "      <td>-11.049595</td>\n",
       "      <td>42.000000</td>\n",
       "      <td>two-sided</td>\n",
       "      <td>5.246974e-14</td>\n",
       "      <td>1.049395e-13</td>\n",
       "      <td>bonf</td>\n",
       "      <td>8.136e+10</td>\n",
       "      <td>-3.271730</td>\n",
       "    </tr>\n",
       "    <tr>\n",
       "      <th>3</th>\n",
       "      <td>Genotype * Side</td>\n",
       "      <td>WT</td>\n",
       "      <td>Time_Object</td>\n",
       "      <td>Time_Conspecific</td>\n",
       "      <td>False</td>\n",
       "      <td>True</td>\n",
       "      <td>-6.967331</td>\n",
       "      <td>38.000000</td>\n",
       "      <td>two-sided</td>\n",
       "      <td>2.722826e-08</td>\n",
       "      <td>5.445653e-08</td>\n",
       "      <td>bonf</td>\n",
       "      <td>3.348e+05</td>\n",
       "      <td>-2.159490</td>\n",
       "    </tr>\n",
       "  </tbody>\n",
       "</table>\n",
       "</div>"
      ],
      "text/plain": [
       "          Contrast Genotype            A                 B Paired  Parametric  \\\n",
       "0         Genotype        -           KO                WT  False        True   \n",
       "1             Side        -  Time_Object  Time_Conspecific  False        True   \n",
       "2  Genotype * Side       KO  Time_Object  Time_Conspecific  False        True   \n",
       "3  Genotype * Side       WT  Time_Object  Time_Conspecific  False        True   \n",
       "\n",
       "           T        dof       Tail         p-unc        p-corr p-adjust  \\\n",
       "0   0.499273  73.726692  two-sided  6.190739e-01           NaN      NaN   \n",
       "1 -12.099447  82.000000  two-sided  6.273782e-20           NaN      NaN   \n",
       "2 -11.049595  42.000000  two-sided  5.246974e-14  1.049395e-13     bonf   \n",
       "3  -6.967331  38.000000  two-sided  2.722826e-08  5.445653e-08     bonf   \n",
       "\n",
       "        BF10    hedges  \n",
       "0      0.254  0.105891  \n",
       "1  4.914e+16 -2.616093  \n",
       "2  8.136e+10 -3.271730  \n",
       "3  3.348e+05 -2.159490  "
      ]
     },
     "execution_count": 285,
     "metadata": {},
     "output_type": "execute_result"
    }
   ],
   "source": [
    "pg.pairwise_ttests(data = samp_time, dv = 'Time', between = ['Genotype', 'Side'], padjust = 'bonf')"
   ]
  },
  {
   "cell_type": "code",
   "execution_count": 144,
   "metadata": {},
   "outputs": [
    {
     "data": {
      "text/html": [
       "<div>\n",
       "<style scoped>\n",
       "    .dataframe tbody tr th:only-of-type {\n",
       "        vertical-align: middle;\n",
       "    }\n",
       "\n",
       "    .dataframe tbody tr th {\n",
       "        vertical-align: top;\n",
       "    }\n",
       "\n",
       "    .dataframe thead th {\n",
       "        text-align: right;\n",
       "    }\n",
       "</style>\n",
       "<table border=\"1\" class=\"dataframe\">\n",
       "  <thead>\n",
       "    <tr style=\"text-align: right;\">\n",
       "      <th></th>\n",
       "      <th>T</th>\n",
       "      <th>dof</th>\n",
       "      <th>tail</th>\n",
       "      <th>p-val</th>\n",
       "      <th>CI95%</th>\n",
       "      <th>cohen-d</th>\n",
       "      <th>BF10</th>\n",
       "      <th>power</th>\n",
       "    </tr>\n",
       "  </thead>\n",
       "  <tbody>\n",
       "    <tr>\n",
       "      <th>T-test</th>\n",
       "      <td>-1.422143</td>\n",
       "      <td>36.910345</td>\n",
       "      <td>two-sided</td>\n",
       "      <td>0.163381</td>\n",
       "      <td>[-18.69, 3.28]</td>\n",
       "      <td>0.443553</td>\n",
       "      <td>0.676</td>\n",
       "      <td>0.28857</td>\n",
       "    </tr>\n",
       "  </tbody>\n",
       "</table>\n",
       "</div>"
      ],
      "text/plain": [
       "               T        dof       tail     p-val           CI95%   cohen-d  \\\n",
       "T-test -1.422143  36.910345  two-sided  0.163381  [-18.69, 3.28]  0.443553   \n",
       "\n",
       "         BF10    power  \n",
       "T-test  0.676  0.28857  "
      ]
     },
     "execution_count": 144,
     "metadata": {},
     "output_type": "execute_result"
    }
   ],
   "source": [
    "pg.ttest(si_tidy['Total'][si_tidy['Genotype'] == 'WT'], si_tidy['Total'][si_tidy['Genotype'] == 'KO'])"
   ]
  },
  {
   "cell_type": "code",
   "execution_count": 139,
   "metadata": {},
   "outputs": [
    {
     "data": {
      "text/html": [
       "<div>\n",
       "<style scoped>\n",
       "    .dataframe tbody tr th:only-of-type {\n",
       "        vertical-align: middle;\n",
       "    }\n",
       "\n",
       "    .dataframe tbody tr th {\n",
       "        vertical-align: top;\n",
       "    }\n",
       "\n",
       "    .dataframe thead th {\n",
       "        text-align: right;\n",
       "    }\n",
       "</style>\n",
       "<table border=\"1\" class=\"dataframe\">\n",
       "  <thead>\n",
       "    <tr style=\"text-align: right;\">\n",
       "      <th></th>\n",
       "      <th>W</th>\n",
       "      <th>pval</th>\n",
       "      <th>normal</th>\n",
       "    </tr>\n",
       "  </thead>\n",
       "  <tbody>\n",
       "    <tr>\n",
       "      <th>KO</th>\n",
       "      <td>0.930719</td>\n",
       "      <td>0.011061</td>\n",
       "      <td>False</td>\n",
       "    </tr>\n",
       "    <tr>\n",
       "      <th>WT</th>\n",
       "      <td>0.965371</td>\n",
       "      <td>0.254408</td>\n",
       "      <td>True</td>\n",
       "    </tr>\n",
       "  </tbody>\n",
       "</table>\n",
       "</div>"
      ],
      "text/plain": [
       "           W      pval  normal\n",
       "KO  0.930719  0.011061   False\n",
       "WT  0.965371  0.254408    True"
      ]
     },
     "execution_count": 139,
     "metadata": {},
     "output_type": "execute_result"
    }
   ],
   "source": [
    "pg.normality(data=samp_time, dv = 'Time', group = 'Genotype')"
   ]
  },
  {
   "cell_type": "code",
   "execution_count": 153,
   "metadata": {},
   "outputs": [
    {
     "data": {
      "text/html": [
       "<div>\n",
       "<style scoped>\n",
       "    .dataframe tbody tr th:only-of-type {\n",
       "        vertical-align: middle;\n",
       "    }\n",
       "\n",
       "    .dataframe tbody tr th {\n",
       "        vertical-align: top;\n",
       "    }\n",
       "\n",
       "    .dataframe thead th {\n",
       "        text-align: right;\n",
       "    }\n",
       "</style>\n",
       "<table border=\"1\" class=\"dataframe\">\n",
       "  <thead>\n",
       "    <tr style=\"text-align: right;\">\n",
       "      <th></th>\n",
       "      <th>U-val</th>\n",
       "      <th>tail</th>\n",
       "      <th>p-val</th>\n",
       "      <th>RBC</th>\n",
       "      <th>CLES</th>\n",
       "    </tr>\n",
       "  </thead>\n",
       "  <tbody>\n",
       "    <tr>\n",
       "      <th>MWU</th>\n",
       "      <td>25.0</td>\n",
       "      <td>two-sided</td>\n",
       "      <td>0.000002</td>\n",
       "      <td>0.875</td>\n",
       "      <td>0.9325</td>\n",
       "    </tr>\n",
       "  </tbody>\n",
       "</table>\n",
       "</div>"
      ],
      "text/plain": [
       "     U-val       tail     p-val    RBC    CLES\n",
       "MWU   25.0  two-sided  0.000002  0.875  0.9325"
      ]
     },
     "execution_count": 153,
     "metadata": {},
     "output_type": "execute_result"
    }
   ],
   "source": [
    "pg.mwu(x = samp_time['Time'][(samp_time['Genotype']=='WT') & (samp_time['Side'] == 'Time_Object')], y = samp_time['Time'][(samp_time['Genotype']=='WT')&(samp_time['Side']== 'Time_Conspecific')])"
   ]
  },
  {
   "cell_type": "code",
   "execution_count": 154,
   "metadata": {},
   "outputs": [
    {
     "data": {
      "text/html": [
       "<div>\n",
       "<style scoped>\n",
       "    .dataframe tbody tr th:only-of-type {\n",
       "        vertical-align: middle;\n",
       "    }\n",
       "\n",
       "    .dataframe tbody tr th {\n",
       "        vertical-align: top;\n",
       "    }\n",
       "\n",
       "    .dataframe thead th {\n",
       "        text-align: right;\n",
       "    }\n",
       "</style>\n",
       "<table border=\"1\" class=\"dataframe\">\n",
       "  <thead>\n",
       "    <tr style=\"text-align: right;\">\n",
       "      <th></th>\n",
       "      <th>U-val</th>\n",
       "      <th>tail</th>\n",
       "      <th>p-val</th>\n",
       "      <th>RBC</th>\n",
       "      <th>CLES</th>\n",
       "    </tr>\n",
       "  </thead>\n",
       "  <tbody>\n",
       "    <tr>\n",
       "      <th>MWU</th>\n",
       "      <td>4.0</td>\n",
       "      <td>two-sided</td>\n",
       "      <td>2.451042e-08</td>\n",
       "      <td>0.983471</td>\n",
       "      <td>0.991736</td>\n",
       "    </tr>\n",
       "  </tbody>\n",
       "</table>\n",
       "</div>"
      ],
      "text/plain": [
       "     U-val       tail         p-val       RBC      CLES\n",
       "MWU    4.0  two-sided  2.451042e-08  0.983471  0.991736"
      ]
     },
     "execution_count": 154,
     "metadata": {},
     "output_type": "execute_result"
    }
   ],
   "source": [
    "pg.mwu(x = samp_time['Time'][(samp_time['Genotype']=='KO') & (samp_time['Side'] == 'Time_Object')], y = samp_time['Time'][(samp_time['Genotype']=='KO')&(samp_time['Side']== 'Time_Conspecific')])"
   ]
  },
  {
   "cell_type": "code",
   "execution_count": 146,
   "metadata": {},
   "outputs": [
    {
     "data": {
      "text/html": [
       "<div>\n",
       "<style scoped>\n",
       "    .dataframe tbody tr th:only-of-type {\n",
       "        vertical-align: middle;\n",
       "    }\n",
       "\n",
       "    .dataframe tbody tr th {\n",
       "        vertical-align: top;\n",
       "    }\n",
       "\n",
       "    .dataframe thead th {\n",
       "        text-align: right;\n",
       "    }\n",
       "</style>\n",
       "<table border=\"1\" class=\"dataframe\">\n",
       "  <thead>\n",
       "    <tr style=\"text-align: right;\">\n",
       "      <th></th>\n",
       "      <th>W</th>\n",
       "      <th>pval</th>\n",
       "      <th>normal</th>\n",
       "    </tr>\n",
       "  </thead>\n",
       "  <tbody>\n",
       "    <tr>\n",
       "      <th>KO</th>\n",
       "      <td>0.979700</td>\n",
       "      <td>0.867493</td>\n",
       "      <td>True</td>\n",
       "    </tr>\n",
       "    <tr>\n",
       "      <th>WT</th>\n",
       "      <td>0.895777</td>\n",
       "      <td>0.024493</td>\n",
       "      <td>False</td>\n",
       "    </tr>\n",
       "  </tbody>\n",
       "</table>\n",
       "</div>"
      ],
      "text/plain": [
       "           W      pval  normal\n",
       "KO  0.979700  0.867493    True\n",
       "WT  0.895777  0.024493   False"
      ]
     },
     "execution_count": 146,
     "metadata": {},
     "output_type": "execute_result"
    }
   ],
   "source": [
    "pg.normality(data = si_clean, dv = 'Sociability', group = 'Genotype')"
   ]
  },
  {
   "cell_type": "code",
   "execution_count": 147,
   "metadata": {},
   "outputs": [
    {
     "data": {
      "text/html": [
       "<div>\n",
       "<style scoped>\n",
       "    .dataframe tbody tr th:only-of-type {\n",
       "        vertical-align: middle;\n",
       "    }\n",
       "\n",
       "    .dataframe tbody tr th {\n",
       "        vertical-align: top;\n",
       "    }\n",
       "\n",
       "    .dataframe thead th {\n",
       "        text-align: right;\n",
       "    }\n",
       "</style>\n",
       "<table border=\"1\" class=\"dataframe\">\n",
       "  <thead>\n",
       "    <tr style=\"text-align: right;\">\n",
       "      <th></th>\n",
       "      <th>U-val</th>\n",
       "      <th>tail</th>\n",
       "      <th>p-val</th>\n",
       "      <th>RBC</th>\n",
       "      <th>CLES</th>\n",
       "    </tr>\n",
       "  </thead>\n",
       "  <tbody>\n",
       "    <tr>\n",
       "      <th>MWU</th>\n",
       "      <td>174.5</td>\n",
       "      <td>two-sided</td>\n",
       "      <td>0.021554</td>\n",
       "      <td>0.38986</td>\n",
       "      <td>0.685315</td>\n",
       "    </tr>\n",
       "  </tbody>\n",
       "</table>\n",
       "</div>"
      ],
      "text/plain": [
       "     U-val       tail     p-val      RBC      CLES\n",
       "MWU  174.5  two-sided  0.021554  0.38986  0.685315"
      ]
     },
     "execution_count": 147,
     "metadata": {},
     "output_type": "execute_result"
    }
   ],
   "source": [
    "pg.mwu(si_clean['Sociability'][si_clean['Genotype'] == 'WT'], si_clean['Sociability'][si_clean['Genotype'] == 'KO'])"
   ]
  },
  {
   "cell_type": "code",
   "execution_count": 191,
   "metadata": {},
   "outputs": [
    {
     "data": {
      "image/png": "[encoded data removed]",
      "text/plain": [
       "<Figure size 504x288 with 3 Axes>"
      ]
     },
     "metadata": {
      "needs_background": "light"
     },
     "output_type": "display_data"
    }
   ],
   "source": [
    "si_fig2, si_axs = plt.subplots(ncols=3, nrows = 1, figsize=(7,4))\n",
    "sns.boxplot(data = si_tidy, x='Genotype', y='Total', ax =si_axs[0], palette=['forestgreen', 'royalblue'], showmeans=True, meanprops={'marker':'+', 'markeredgecolor':'k'}, width=0.4)\n",
    "si_axs[0].title.set_text('Total Exploration Time')\n",
    "si_axs[0].set_ylabel('Sec')\n",
    "\n",
    "sns.boxplot(x='Genotype', y='Time', hue='Side', data=samp_time, palette=['dimgray', 'white'], showmeans=True, meanprops={'marker':'+', 'markeredgecolor':'k'}, width=0.5, ax=si_axs[1], showfliers = False)\n",
    "handles, labels = si_axs[1].get_legend_handles_labels()\n",
    "si_axs[1].set_ylim(25, 250)\n",
    "si_axs[1].legend(handles=handles, labels=['Obj', 'Cons'], frameon=False)\n",
    "si_axs[1].set_ylabel('Time in Chamber (s)')\n",
    "si_axs[1].title.set_text('Social Choice')\n",
    "si_axs[1].annotate(s='***', xy=(25, 175), xycoords='axes points', xytext=(0, 1), textcoords='offset points', ha='center', va='bottom', arrowprops=dict(arrowstyle='-[, widthB=.8, lengthB=.1', lw=1, color='k'))\n",
    "si_axs[1].annotate(s='***', xy=(77, 160), xycoords='axes points', xytext=(0, 1), textcoords='offset points', ha='center', va='bottom', arrowprops=dict(arrowstyle='-[, widthB=.8, lengthB=.1', lw=1, color='k'))\n",
    "\n",
    "\n",
    "sns.boxplot(data=si_clean, x='Genotype', y='Sociability', palette=['forestgreen', 'royalblue'], width=.4, showmeans=True, meanprops={'marker':'+', 'markeredgecolor':'k'}, ax=si_axs[2], showfliers = False)\n",
    "si_axs[2].title.set_text('Sociability Index')\n",
    "si_axs[2].annotate(s='*', xy=(50, 200), xycoords='axes points', xytext=(0, 1.5), textcoords='offset points', ha='center', va='bottom', arrowprops=dict(arrowstyle='-[, widthB=2.5, lengthB=.1', lw=1, color='k'))\n",
    "si_axs[2].set_ylim(-.3,.9)\n",
    "\n",
    "plt.tight_layout()"
   ]
  },
  {
   "cell_type": "code",
   "execution_count": 193,
   "metadata": {},
   "outputs": [],
   "source": [
    "si_fig2.savefig('/Users/labc02/Documents/PDCB_data/Behavior/Figures/SI2_fig.png') "
   ]
  },
  {
   "cell_type": "markdown",
   "metadata": {},
   "source": [
    "### Elevated Plus Maze"
   ]
  },
  {
   "cell_type": "code",
   "execution_count": 89,
   "metadata": {},
   "outputs": [],
   "source": [
    "epm_raw= pd.read_csv('/Users/labc02/Documents/PDCB_data/Behavior/EPM/EPM_pool.csv')"
   ]
  },
  {
   "cell_type": "code",
   "execution_count": 90,
   "metadata": {},
   "outputs": [],
   "source": [
    "epm_s2 = epm_raw[epm_raw['Session']=='Session 2']"
   ]
  },
  {
   "cell_type": "code",
   "execution_count": 282,
   "metadata": {},
   "outputs": [
    {
     "data": {
      "text/plain": [
       "Genotype\n",
       "KO    16\n",
       "WT    16\n",
       "Name: Subject_ID, dtype: int64"
      ]
     },
     "execution_count": 282,
     "metadata": {},
     "output_type": "execute_result"
    }
   ],
   "source": [
    "epm_s2.groupby('Genotype')['Subject_ID'].count()"
   ]
  },
  {
   "cell_type": "markdown",
   "metadata": {},
   "source": [
    "### Total Distance"
   ]
  },
  {
   "cell_type": "code",
   "execution_count": 91,
   "metadata": {},
   "outputs": [
    {
     "name": "stdout",
     "output_type": "stream",
     "text": [
      "Normality test (Shapiro), Total_Distance\n",
      "            W      pval  normal\n",
      "KOF  0.851590  0.098863    True\n",
      "KOM  0.929818  0.514424    True\n",
      "WTF  0.816767  0.059766    True\n",
      "WTM  0.811551  0.027644   False\n",
      "Normality test (Shapiro), Entries_Center\n",
      "            W      pval  normal\n",
      "KOF  0.955353  0.764857    True\n",
      "KOM  0.957675  0.787681    True\n",
      "WTF  0.928904  0.541615    True\n",
      "WTM  0.968282  0.879647    True\n",
      "Normality test (Shapiro), Time_Open_Arms_Per\n",
      "            W      pval  normal\n",
      "KOF  0.827942  0.056510    True\n",
      "KOM  0.976515  0.943657    True\n",
      "WTF  0.941611  0.653274    True\n",
      "WTM  0.971271  0.905373    True\n"
     ]
    }
   ],
   "source": [
    "for var_ in ['Total_Distance', 'Entries_Center', 'Time_Open_Arms_Per']:\n",
    "    print(f'Normality test (Shapiro), {var_}')\n",
    "    print(pg.normality(data=epm_s2, dv=var_, group='Group'))"
   ]
  },
  {
   "cell_type": "code",
   "execution_count": 92,
   "metadata": {},
   "outputs": [
    {
     "name": "stdout",
     "output_type": "stream",
     "text": [
      "Homoscedasticity test (Levene), Total_Distance\n",
      "               W      pval  equal_var\n",
      "levene  5.353429  0.004838      False\n",
      "Homoscedasticity test (Levene), Entries_Center\n",
      "               W      pval  equal_var\n",
      "levene  0.440417  0.725893       True\n",
      "Homoscedasticity test (Levene), Time_Open_Arms_Per\n",
      "               W     pval  equal_var\n",
      "levene  1.624102  0.20614       True\n"
     ]
    }
   ],
   "source": [
    "for var_ in ['Total_Distance', 'Entries_Center', 'Time_Open_Arms_Per']:\n",
    "    print(f'Homoscedasticity test (Levene), {var_}')\n",
    "    print(pg.homoscedasticity(data=epm_s2, dv=var_, group='Group'))"
   ]
  },
  {
   "cell_type": "markdown",
   "metadata": {},
   "source": [
    "Technically a Welch anova is the most appropriate test since there's a small deviation from normality and homoscedasticity failed."
   ]
  },
  {
   "cell_type": "code",
   "execution_count": 93,
   "metadata": {},
   "outputs": [
    {
     "data": {
      "text/html": [
       "<div>\n",
       "<style scoped>\n",
       "    .dataframe tbody tr th:only-of-type {\n",
       "        vertical-align: middle;\n",
       "    }\n",
       "\n",
       "    .dataframe tbody tr th {\n",
       "        vertical-align: top;\n",
       "    }\n",
       "\n",
       "    .dataframe thead th {\n",
       "        text-align: right;\n",
       "    }\n",
       "</style>\n",
       "<table border=\"1\" class=\"dataframe\">\n",
       "  <thead>\n",
       "    <tr style=\"text-align: right;\">\n",
       "      <th></th>\n",
       "      <th>Source</th>\n",
       "      <th>ddof1</th>\n",
       "      <th>ddof2</th>\n",
       "      <th>F</th>\n",
       "      <th>p-unc</th>\n",
       "      <th>np2</th>\n",
       "    </tr>\n",
       "  </thead>\n",
       "  <tbody>\n",
       "    <tr>\n",
       "      <th>0</th>\n",
       "      <td>Group</td>\n",
       "      <td>3</td>\n",
       "      <td>14.088487</td>\n",
       "      <td>4.793986</td>\n",
       "      <td>0.016689</td>\n",
       "      <td>0.339721</td>\n",
       "    </tr>\n",
       "  </tbody>\n",
       "</table>\n",
       "</div>"
      ],
      "text/plain": [
       "  Source  ddof1      ddof2         F     p-unc       np2\n",
       "0  Group      3  14.088487  4.793986  0.016689  0.339721"
      ]
     },
     "execution_count": 93,
     "metadata": {},
     "output_type": "execute_result"
    }
   ],
   "source": [
    "pg.welch_anova(data=epm_s2, dv='Total_Distance', between='Group')"
   ]
  },
  {
   "cell_type": "markdown",
   "metadata": {},
   "source": [
    "Nonetheless, all the aforementioned criteria just diminishes ANOVA power."
   ]
  },
  {
   "cell_type": "code",
   "execution_count": 94,
   "metadata": {},
   "outputs": [
    {
     "data": {
      "text/html": [
       "<div>\n",
       "<style scoped>\n",
       "    .dataframe tbody tr th:only-of-type {\n",
       "        vertical-align: middle;\n",
       "    }\n",
       "\n",
       "    .dataframe tbody tr th {\n",
       "        vertical-align: top;\n",
       "    }\n",
       "\n",
       "    .dataframe thead th {\n",
       "        text-align: right;\n",
       "    }\n",
       "</style>\n",
       "<table border=\"1\" class=\"dataframe\">\n",
       "  <thead>\n",
       "    <tr style=\"text-align: right;\">\n",
       "      <th></th>\n",
       "      <th>Source</th>\n",
       "      <th>SS</th>\n",
       "      <th>DF</th>\n",
       "      <th>MS</th>\n",
       "      <th>F</th>\n",
       "      <th>p-unc</th>\n",
       "      <th>np2</th>\n",
       "    </tr>\n",
       "  </thead>\n",
       "  <tbody>\n",
       "    <tr>\n",
       "      <th>0</th>\n",
       "      <td>Sex</td>\n",
       "      <td>9.465538e+04</td>\n",
       "      <td>1.0</td>\n",
       "      <td>9.465538e+04</td>\n",
       "      <td>0.119104</td>\n",
       "      <td>0.732588</td>\n",
       "      <td>0.004236</td>\n",
       "    </tr>\n",
       "    <tr>\n",
       "      <th>1</th>\n",
       "      <td>Genotype</td>\n",
       "      <td>1.143753e+07</td>\n",
       "      <td>1.0</td>\n",
       "      <td>1.143753e+07</td>\n",
       "      <td>14.391699</td>\n",
       "      <td>0.000729</td>\n",
       "      <td>0.339493</td>\n",
       "    </tr>\n",
       "    <tr>\n",
       "      <th>2</th>\n",
       "      <td>Sex * Genotype</td>\n",
       "      <td>2.381816e+03</td>\n",
       "      <td>1.0</td>\n",
       "      <td>2.381816e+03</td>\n",
       "      <td>0.002997</td>\n",
       "      <td>0.956730</td>\n",
       "      <td>0.000107</td>\n",
       "    </tr>\n",
       "    <tr>\n",
       "      <th>3</th>\n",
       "      <td>Residual</td>\n",
       "      <td>2.225246e+07</td>\n",
       "      <td>28.0</td>\n",
       "      <td>7.947309e+05</td>\n",
       "      <td>NaN</td>\n",
       "      <td>NaN</td>\n",
       "      <td>NaN</td>\n",
       "    </tr>\n",
       "  </tbody>\n",
       "</table>\n",
       "</div>"
      ],
      "text/plain": [
       "           Source            SS    DF            MS          F     p-unc  \\\n",
       "0             Sex  9.465538e+04   1.0  9.465538e+04   0.119104  0.732588   \n",
       "1        Genotype  1.143753e+07   1.0  1.143753e+07  14.391699  0.000729   \n",
       "2  Sex * Genotype  2.381816e+03   1.0  2.381816e+03   0.002997  0.956730   \n",
       "3        Residual  2.225246e+07  28.0  7.947309e+05        NaN       NaN   \n",
       "\n",
       "        np2  \n",
       "0  0.004236  \n",
       "1  0.339493  \n",
       "2  0.000107  \n",
       "3       NaN  "
      ]
     },
     "execution_count": 94,
     "metadata": {},
     "output_type": "execute_result"
    }
   ],
   "source": [
    "pg.anova(data=epm_s2, dv='Total_Distance', between=['Sex', 'Genotype'])"
   ]
  },
  {
   "cell_type": "markdown",
   "metadata": {},
   "source": [
    "ANOVA is significant for Genotype"
   ]
  },
  {
   "cell_type": "code",
   "execution_count": 97,
   "metadata": {},
   "outputs": [
    {
     "data": {
      "text/html": [
       "<div>\n",
       "<style scoped>\n",
       "    .dataframe tbody tr th:only-of-type {\n",
       "        vertical-align: middle;\n",
       "    }\n",
       "\n",
       "    .dataframe tbody tr th {\n",
       "        vertical-align: top;\n",
       "    }\n",
       "\n",
       "    .dataframe thead th {\n",
       "        text-align: right;\n",
       "    }\n",
       "</style>\n",
       "<table border=\"1\" class=\"dataframe\">\n",
       "  <thead>\n",
       "    <tr style=\"text-align: right;\">\n",
       "      <th></th>\n",
       "      <th>U-val</th>\n",
       "      <th>tail</th>\n",
       "      <th>p-val</th>\n",
       "      <th>RBC</th>\n",
       "      <th>CLES</th>\n",
       "    </tr>\n",
       "  </thead>\n",
       "  <tbody>\n",
       "    <tr>\n",
       "      <th>MWU</th>\n",
       "      <td>205.0</td>\n",
       "      <td>two-sided</td>\n",
       "      <td>0.003937</td>\n",
       "      <td>-0.601562</td>\n",
       "      <td>0.800781</td>\n",
       "    </tr>\n",
       "  </tbody>\n",
       "</table>\n",
       "</div>"
      ],
      "text/plain": [
       "     U-val       tail     p-val       RBC      CLES\n",
       "MWU  205.0  two-sided  0.003937 -0.601562  0.800781"
      ]
     },
     "execution_count": 97,
     "metadata": {},
     "output_type": "execute_result"
    }
   ],
   "source": [
    "pg.mwu(x=epm_s2['Total_Distance'][epm_s2['Genotype'] == 'WT'], y=epm_s2['Total_Distance'][epm_s2['Genotype'] == 'KO'])"
   ]
  },
  {
   "cell_type": "markdown",
   "metadata": {},
   "source": [
    "#### Crosses through center"
   ]
  },
  {
   "cell_type": "markdown",
   "metadata": {},
   "source": [
    "Removing outliers; mad-median rule"
   ]
  },
  {
   "cell_type": "code",
   "execution_count": 98,
   "metadata": {},
   "outputs": [
    {
     "data": {
      "text/html": [
       "<div>\n",
       "<style scoped>\n",
       "    .dataframe tbody tr th:only-of-type {\n",
       "        vertical-align: middle;\n",
       "    }\n",
       "\n",
       "    .dataframe tbody tr th {\n",
       "        vertical-align: top;\n",
       "    }\n",
       "\n",
       "    .dataframe thead th {\n",
       "        text-align: right;\n",
       "    }\n",
       "</style>\n",
       "<table border=\"1\" class=\"dataframe\">\n",
       "  <thead>\n",
       "    <tr style=\"text-align: right;\">\n",
       "      <th></th>\n",
       "      <th>Source</th>\n",
       "      <th>SS</th>\n",
       "      <th>DF</th>\n",
       "      <th>MS</th>\n",
       "      <th>F</th>\n",
       "      <th>p-unc</th>\n",
       "      <th>np2</th>\n",
       "    </tr>\n",
       "  </thead>\n",
       "  <tbody>\n",
       "    <tr>\n",
       "      <th>0</th>\n",
       "      <td>Sex</td>\n",
       "      <td>3.639764</td>\n",
       "      <td>1.0</td>\n",
       "      <td>3.639764</td>\n",
       "      <td>0.050288</td>\n",
       "      <td>0.824191</td>\n",
       "      <td>0.001793</td>\n",
       "    </tr>\n",
       "    <tr>\n",
       "      <th>1</th>\n",
       "      <td>Genotype</td>\n",
       "      <td>72.685597</td>\n",
       "      <td>1.0</td>\n",
       "      <td>72.685597</td>\n",
       "      <td>1.004247</td>\n",
       "      <td>0.324867</td>\n",
       "      <td>0.034624</td>\n",
       "    </tr>\n",
       "    <tr>\n",
       "      <th>2</th>\n",
       "      <td>Sex * Genotype</td>\n",
       "      <td>82.458451</td>\n",
       "      <td>1.0</td>\n",
       "      <td>82.458451</td>\n",
       "      <td>1.139272</td>\n",
       "      <td>0.294923</td>\n",
       "      <td>0.039097</td>\n",
       "    </tr>\n",
       "    <tr>\n",
       "      <th>3</th>\n",
       "      <td>Residual</td>\n",
       "      <td>2026.589286</td>\n",
       "      <td>28.0</td>\n",
       "      <td>72.378189</td>\n",
       "      <td>NaN</td>\n",
       "      <td>NaN</td>\n",
       "      <td>NaN</td>\n",
       "    </tr>\n",
       "  </tbody>\n",
       "</table>\n",
       "</div>"
      ],
      "text/plain": [
       "           Source           SS    DF         MS         F     p-unc       np2\n",
       "0             Sex     3.639764   1.0   3.639764  0.050288  0.824191  0.001793\n",
       "1        Genotype    72.685597   1.0  72.685597  1.004247  0.324867  0.034624\n",
       "2  Sex * Genotype    82.458451   1.0  82.458451  1.139272  0.294923  0.039097\n",
       "3        Residual  2026.589286  28.0  72.378189       NaN       NaN       NaN"
      ]
     },
     "execution_count": 98,
     "metadata": {},
     "output_type": "execute_result"
    }
   ],
   "source": [
    "pg.anova(data=epm_s2, dv='Entries_Center', between=['Sex', 'Genotype'])"
   ]
  },
  {
   "cell_type": "markdown",
   "metadata": {},
   "source": [
    "No differences"
   ]
  },
  {
   "cell_type": "code",
   "execution_count": 99,
   "metadata": {},
   "outputs": [
    {
     "data": {
      "text/html": [
       "<div>\n",
       "<style scoped>\n",
       "    .dataframe tbody tr th:only-of-type {\n",
       "        vertical-align: middle;\n",
       "    }\n",
       "\n",
       "    .dataframe tbody tr th {\n",
       "        vertical-align: top;\n",
       "    }\n",
       "\n",
       "    .dataframe thead th {\n",
       "        text-align: right;\n",
       "    }\n",
       "</style>\n",
       "<table border=\"1\" class=\"dataframe\">\n",
       "  <thead>\n",
       "    <tr style=\"text-align: right;\">\n",
       "      <th></th>\n",
       "      <th>T</th>\n",
       "      <th>dof</th>\n",
       "      <th>tail</th>\n",
       "      <th>p-val</th>\n",
       "      <th>CI95%</th>\n",
       "      <th>cohen-d</th>\n",
       "      <th>BF10</th>\n",
       "      <th>power</th>\n",
       "    </tr>\n",
       "  </thead>\n",
       "  <tbody>\n",
       "    <tr>\n",
       "      <th>T-test</th>\n",
       "      <td>1.032201</td>\n",
       "      <td>30</td>\n",
       "      <td>two-sided</td>\n",
       "      <td>0.310228</td>\n",
       "      <td>[-3.0, 9.12]</td>\n",
       "      <td>0.364938</td>\n",
       "      <td>0.505</td>\n",
       "      <td>0.169928</td>\n",
       "    </tr>\n",
       "  </tbody>\n",
       "</table>\n",
       "</div>"
      ],
      "text/plain": [
       "               T  dof       tail     p-val         CI95%   cohen-d   BF10  \\\n",
       "T-test  1.032201   30  two-sided  0.310228  [-3.0, 9.12]  0.364938  0.505   \n",
       "\n",
       "           power  \n",
       "T-test  0.169928  "
      ]
     },
     "execution_count": 99,
     "metadata": {},
     "output_type": "execute_result"
    }
   ],
   "source": [
    "pg.ttest(x=epm_s2['Entries_Center'][epm_s2['Genotype'] == 'WT'], y=epm_s2['Entries_Center'][epm_s2['Genotype'] == 'KO'])"
   ]
  },
  {
   "cell_type": "markdown",
   "metadata": {},
   "source": [
    "#### Time in Open Arms"
   ]
  },
  {
   "cell_type": "code",
   "execution_count": 100,
   "metadata": {},
   "outputs": [
    {
     "data": {
      "text/html": [
       "<div>\n",
       "<style scoped>\n",
       "    .dataframe tbody tr th:only-of-type {\n",
       "        vertical-align: middle;\n",
       "    }\n",
       "\n",
       "    .dataframe tbody tr th {\n",
       "        vertical-align: top;\n",
       "    }\n",
       "\n",
       "    .dataframe thead th {\n",
       "        text-align: right;\n",
       "    }\n",
       "</style>\n",
       "<table border=\"1\" class=\"dataframe\">\n",
       "  <thead>\n",
       "    <tr style=\"text-align: right;\">\n",
       "      <th></th>\n",
       "      <th>Source</th>\n",
       "      <th>SS</th>\n",
       "      <th>DF</th>\n",
       "      <th>MS</th>\n",
       "      <th>F</th>\n",
       "      <th>p-unc</th>\n",
       "      <th>np2</th>\n",
       "    </tr>\n",
       "  </thead>\n",
       "  <tbody>\n",
       "    <tr>\n",
       "      <th>0</th>\n",
       "      <td>Sex</td>\n",
       "      <td>125.112069</td>\n",
       "      <td>1.0</td>\n",
       "      <td>125.112069</td>\n",
       "      <td>1.843089</td>\n",
       "      <td>0.185431</td>\n",
       "      <td>0.061759</td>\n",
       "    </tr>\n",
       "    <tr>\n",
       "      <th>1</th>\n",
       "      <td>Genotype</td>\n",
       "      <td>674.282804</td>\n",
       "      <td>1.0</td>\n",
       "      <td>674.282804</td>\n",
       "      <td>9.933199</td>\n",
       "      <td>0.003847</td>\n",
       "      <td>0.261860</td>\n",
       "    </tr>\n",
       "    <tr>\n",
       "      <th>2</th>\n",
       "      <td>Sex * Genotype</td>\n",
       "      <td>3.672214</td>\n",
       "      <td>1.0</td>\n",
       "      <td>3.672214</td>\n",
       "      <td>0.054097</td>\n",
       "      <td>0.817773</td>\n",
       "      <td>0.001928</td>\n",
       "    </tr>\n",
       "    <tr>\n",
       "      <th>3</th>\n",
       "      <td>Residual</td>\n",
       "      <td>1900.688660</td>\n",
       "      <td>28.0</td>\n",
       "      <td>67.881738</td>\n",
       "      <td>NaN</td>\n",
       "      <td>NaN</td>\n",
       "      <td>NaN</td>\n",
       "    </tr>\n",
       "  </tbody>\n",
       "</table>\n",
       "</div>"
      ],
      "text/plain": [
       "           Source           SS    DF          MS         F     p-unc       np2\n",
       "0             Sex   125.112069   1.0  125.112069  1.843089  0.185431  0.061759\n",
       "1        Genotype   674.282804   1.0  674.282804  9.933199  0.003847  0.261860\n",
       "2  Sex * Genotype     3.672214   1.0    3.672214  0.054097  0.817773  0.001928\n",
       "3        Residual  1900.688660  28.0   67.881738       NaN       NaN       NaN"
      ]
     },
     "execution_count": 100,
     "metadata": {},
     "output_type": "execute_result"
    }
   ],
   "source": [
    "pg.anova(data=epm_s2, dv='Time_Open_Arms_Per', between=['Sex', 'Genotype'])"
   ]
  },
  {
   "cell_type": "markdown",
   "metadata": {},
   "source": [
    "Genotype is the only significant factor"
   ]
  },
  {
   "cell_type": "code",
   "execution_count": 101,
   "metadata": {},
   "outputs": [
    {
     "data": {
      "text/html": [
       "<div>\n",
       "<style scoped>\n",
       "    .dataframe tbody tr th:only-of-type {\n",
       "        vertical-align: middle;\n",
       "    }\n",
       "\n",
       "    .dataframe tbody tr th {\n",
       "        vertical-align: top;\n",
       "    }\n",
       "\n",
       "    .dataframe thead th {\n",
       "        text-align: right;\n",
       "    }\n",
       "</style>\n",
       "<table border=\"1\" class=\"dataframe\">\n",
       "  <thead>\n",
       "    <tr style=\"text-align: right;\">\n",
       "      <th></th>\n",
       "      <th>W</th>\n",
       "      <th>pval</th>\n",
       "      <th>normal</th>\n",
       "    </tr>\n",
       "  </thead>\n",
       "  <tbody>\n",
       "    <tr>\n",
       "      <th>KO</th>\n",
       "      <td>0.734289</td>\n",
       "      <td>0.000413</td>\n",
       "      <td>False</td>\n",
       "    </tr>\n",
       "    <tr>\n",
       "      <th>WT</th>\n",
       "      <td>0.973177</td>\n",
       "      <td>0.887065</td>\n",
       "      <td>True</td>\n",
       "    </tr>\n",
       "  </tbody>\n",
       "</table>\n",
       "</div>"
      ],
      "text/plain": [
       "           W      pval  normal\n",
       "KO  0.734289  0.000413   False\n",
       "WT  0.973177  0.887065    True"
      ]
     },
     "execution_count": 101,
     "metadata": {},
     "output_type": "execute_result"
    }
   ],
   "source": [
    "pg.normality(data = epm_s2, dv = 'Time_Open_Arms_Per', group = 'Genotype')"
   ]
  },
  {
   "cell_type": "code",
   "execution_count": 102,
   "metadata": {},
   "outputs": [
    {
     "data": {
      "text/html": [
       "<div>\n",
       "<style scoped>\n",
       "    .dataframe tbody tr th:only-of-type {\n",
       "        vertical-align: middle;\n",
       "    }\n",
       "\n",
       "    .dataframe tbody tr th {\n",
       "        vertical-align: top;\n",
       "    }\n",
       "\n",
       "    .dataframe thead th {\n",
       "        text-align: right;\n",
       "    }\n",
       "</style>\n",
       "<table border=\"1\" class=\"dataframe\">\n",
       "  <thead>\n",
       "    <tr style=\"text-align: right;\">\n",
       "      <th></th>\n",
       "      <th>U-val</th>\n",
       "      <th>tail</th>\n",
       "      <th>p-val</th>\n",
       "      <th>RBC</th>\n",
       "      <th>CLES</th>\n",
       "    </tr>\n",
       "  </thead>\n",
       "  <tbody>\n",
       "    <tr>\n",
       "      <th>MWU</th>\n",
       "      <td>208.0</td>\n",
       "      <td>two-sided</td>\n",
       "      <td>0.002733</td>\n",
       "      <td>-0.625</td>\n",
       "      <td>0.8125</td>\n",
       "    </tr>\n",
       "  </tbody>\n",
       "</table>\n",
       "</div>"
      ],
      "text/plain": [
       "     U-val       tail     p-val    RBC    CLES\n",
       "MWU  208.0  two-sided  0.002733 -0.625  0.8125"
      ]
     },
     "execution_count": 102,
     "metadata": {},
     "output_type": "execute_result"
    }
   ],
   "source": [
    "pg.mwu(x=epm_s2['Time_Open_Arms_Per'][epm_s2['Genotype'] == 'WT'], y=epm_s2['Time_Open_Arms_Per'][epm_s2['Genotype'] == 'KO'])"
   ]
  },
  {
   "cell_type": "code",
   "execution_count": 273,
   "metadata": {},
   "outputs": [
    {
     "data": {
      "image/png": "[encoded data removed]",
      "text/plain": [
       "<Figure size 504x216 with 3 Axes>"
      ]
     },
     "metadata": {
      "needs_background": "light"
     },
     "output_type": "display_data"
    }
   ],
   "source": [
    "epm_fig, epm_axs = plt.subplots(ncols=3, nrows = 1, figsize = (7, 3))\n",
    "\n",
    "sns.boxplot(data = epm_s2, x='Genotype', y='Total_Distance', ax =epm_axs[0], palette=['forestgreen', 'royalblue'], showmeans=True, meanprops={'marker':'+', 'markeredgecolor':'k'}, width=0.4)\n",
    "epm_axs[0].title.set_text('Total Distance')\n",
    "epm_axs[0].set_ylabel('Centimeters')\n",
    "epm_axs[0].set_ylim([900, 5100])\n",
    "epm_axs[0].annotate(s='**', xy=(52, 125), xycoords='axes points', xytext=(52, 125), ha='center', va='bottom', arrowprops=dict(arrowstyle='-[, widthB=2.5, lengthB=.2', lw=1, color='k'))\n",
    "\n",
    "sns.boxplot(x='Genotype', y='Entries_Center', data=epm_s2, palette=['forestgreen', 'royalblue'], showmeans=True, meanprops={'marker':'+', 'markeredgecolor':'k'}, width=0.4, ax=epm_axs[1])\n",
    "epm_axs[1].set_ylabel('Crosses')\n",
    "epm_axs[1].title.set_text('Crosses through Center')\n",
    "\n",
    "sns.boxplot(data=epm_s2, x='Genotype', y='Time_Open_Arms_Per', palette=['forestgreen', 'royalblue'], width=.4, showmeans=True, meanprops={'marker':'+', 'markeredgecolor':'k'}, ax=epm_axs[2], showfliers=False)\n",
    "epm_axs[2].set_ylabel('Time(%)')\n",
    "epm_axs[2].annotate('**', xy=(52, 120), xytext=(52, 120), xycoords='axes points', ha='center', va='bottom', arrowprops=dict(arrowstyle='-[, widthB=2.5, lengthB=.2', lw=1, color='k'))\n",
    "epm_axs[2].title.set_text('Time in Open Arms(%)')\n",
    "epm_axs[2].set_ylim([0, 45])\n",
    "plt.tight_layout(rect=[0, 0.03, 1, 1])\n"
   ]
  },
  {
   "cell_type": "code",
   "execution_count": 274,
   "metadata": {},
   "outputs": [],
   "source": [
    "epm_fig.savefig('/Users/labc02/Documents/PDCB_data/Behavior/Figures/EPM_fig.svg')"
   ]
  },
  {
   "cell_type": "markdown",
   "metadata": {},
   "source": [
    "### Burrowing"
   ]
  },
  {
   "cell_type": "code",
   "execution_count": 207,
   "metadata": {},
   "outputs": [],
   "source": [
    "burr_r = pd.read_csv('/Users/labc02/Documents/PDCB_data/MK-project/Burrowing.csv')"
   ]
  },
  {
   "cell_type": "code",
   "execution_count": 208,
   "metadata": {},
   "outputs": [],
   "source": [
    "burr_r = burr_r[['Sub', 'Genotype', 'UR', 'Sex', 'Tx', 'Dose (mg/Kg)', 'Test (12 h)', '% Test (12 h)']]"
   ]
  },
  {
   "cell_type": "code",
   "execution_count": 209,
   "metadata": {},
   "outputs": [],
   "source": [
    "burr_r.dropna(how = 'any', inplace = True)"
   ]
  },
  {
   "cell_type": "code",
   "execution_count": 210,
   "metadata": {},
   "outputs": [],
   "source": [
    "burr_r['Tx'] = burr_r['Tx'].str.rstrip()"
   ]
  },
  {
   "cell_type": "code",
   "execution_count": 211,
   "metadata": {},
   "outputs": [
    {
     "data": {
      "text/plain": [
       "Genotype  Tx      Dose (mg/Kg)\n",
       "HE        MK-801  1.0              6\n",
       "          Saline  1.0              6\n",
       "KO        MK-801  0.5             16\n",
       "                  1.0              3\n",
       "          Saline  0.5             11\n",
       "                  1.0             20\n",
       "WT        MK-801  0.5             13\n",
       "                  1.0              8\n",
       "          Naive   0.0              2\n",
       "          Saline  0.5              9\n",
       "                  1.0             11\n",
       "Name: Sub, dtype: int64"
      ]
     },
     "execution_count": 211,
     "metadata": {},
     "output_type": "execute_result"
    }
   ],
   "source": [
    "burr_r.groupby(['Genotype', 'Tx', 'Dose (mg/Kg)'])['Sub'].count()"
   ]
  },
  {
   "cell_type": "code",
   "execution_count": 212,
   "metadata": {},
   "outputs": [],
   "source": [
    "burr_r.loc[burr_r['Tx'] == 'Naive', 'Tx'] = 'Saline'"
   ]
  },
  {
   "cell_type": "code",
   "execution_count": 213,
   "metadata": {},
   "outputs": [],
   "source": [
    "burr_tidy = burr_r.copy()\n",
    "burr_tidy.loc[burr_tidy['Tx'] =='Saline', 'Dose (mg/Kg)'] = 1"
   ]
  },
  {
   "cell_type": "code",
   "execution_count": 219,
   "metadata": {},
   "outputs": [],
   "source": [
    "he_idx = burr_tidy[burr_tidy['Genotype'] == 'HE'].index\n",
    "burr_tidy.drop(he_idx, axis = 0, inplace=True)"
   ]
  },
  {
   "cell_type": "code",
   "execution_count": 220,
   "metadata": {},
   "outputs": [
    {
     "data": {
      "text/plain": [
       "Genotype  Tx      Dose (mg/Kg)\n",
       "KO        MK-801  0.5             16\n",
       "                  1.0              3\n",
       "          Saline  1.0             31\n",
       "WT        MK-801  0.5             13\n",
       "                  1.0              8\n",
       "          Saline  1.0             22\n",
       "Name: Sub, dtype: int64"
      ]
     },
     "execution_count": 220,
     "metadata": {},
     "output_type": "execute_result"
    }
   ],
   "source": [
    "burr_tidy.groupby(['Genotype', 'Tx', 'Dose (mg/Kg)'])['Sub'].count()"
   ]
  },
  {
   "cell_type": "code",
   "execution_count": 221,
   "metadata": {},
   "outputs": [
    {
     "data": {
      "text/plain": [
       "array([45, 48, 57])"
      ]
     },
     "execution_count": 221,
     "metadata": {},
     "output_type": "execute_result"
    }
   ],
   "source": [
    "# outlier detection\n",
    "out = pg.madmedianrule(burr_tidy[(burr_tidy['Genotype']=='WT') & (burr_tidy['Tx'] == 'Saline')]['Test (12 h)'])\n",
    "idx = burr_tidy[(burr_tidy['Genotype']=='WT') & (burr_tidy['Tx'] == 'Saline')]['% Test (12 h)'].index.values\n",
    "outs = idx[out]\n",
    "outs"
   ]
  },
  {
   "cell_type": "code",
   "execution_count": 222,
   "metadata": {},
   "outputs": [],
   "source": [
    "burr_tidy.drop(outs, inplace = True)"
   ]
  },
  {
   "cell_type": "code",
   "execution_count": 224,
   "metadata": {},
   "outputs": [],
   "source": [
    "burr_tidy['Total'] = 400"
   ]
  },
  {
   "cell_type": "code",
   "execution_count": 225,
   "metadata": {},
   "outputs": [],
   "source": [
    "burr_tidy['Burrowed (g)'] = burr_tidy['Total']-burr_tidy['Test (12 h)']"
   ]
  },
  {
   "cell_type": "code",
   "execution_count": 253,
   "metadata": {},
   "outputs": [
    {
     "data": {
      "image/png": "[encoded data removed]",
      "text/plain": [
       "<Figure size 288x288 with 1 Axes>"
      ]
     },
     "metadata": {
      "needs_background": "light"
     },
     "output_type": "display_data"
    }
   ],
   "source": [
    "bur_fig, ax = plt.subplots(1,1, figsize=(4,4))\n",
    "sns.boxplot(data=burr_tidy[(burr_tidy['Tx']=='Saline')], x='Genotype', y='Burrowed (g)', showmeans=True, meanprops={'marker':'+', 'markeredgecolor':'k'}, width=0.4, palette=['forestgreen', 'royalblue'])\n",
    "ax.annotate('*', xy=(110, 200), xytext=(110, 203), xycoords='axes points', ha='center', va='bottom', arrowprops=dict(arrowstyle='-[, widthB=5.5, lengthB=.2', lw=1, color='k'))\n",
    "ax.set_ylim(10, 440)\n",
    "plt.title('Burrowing')\n",
    "plt.ylabel('Amount Burrowed (g)')\n",
    "plt.tight_layout()"
   ]
  },
  {
   "cell_type": "code",
   "execution_count": 254,
   "metadata": {},
   "outputs": [],
   "source": [
    "bur_fig.savefig('/Users/labc02/Documents/PDCB_data/Behavior/Figures/bur2_fig.svg')"
   ]
  },
  {
   "cell_type": "code",
   "execution_count": 228,
   "metadata": {},
   "outputs": [
    {
     "data": {
      "text/html": [
       "<div>\n",
       "<style scoped>\n",
       "    .dataframe tbody tr th:only-of-type {\n",
       "        vertical-align: middle;\n",
       "    }\n",
       "\n",
       "    .dataframe tbody tr th {\n",
       "        vertical-align: top;\n",
       "    }\n",
       "\n",
       "    .dataframe thead th {\n",
       "        text-align: right;\n",
       "    }\n",
       "</style>\n",
       "<table border=\"1\" class=\"dataframe\">\n",
       "  <thead>\n",
       "    <tr style=\"text-align: right;\">\n",
       "      <th></th>\n",
       "      <th>W</th>\n",
       "      <th>pval</th>\n",
       "      <th>normal</th>\n",
       "    </tr>\n",
       "  </thead>\n",
       "  <tbody>\n",
       "    <tr>\n",
       "      <th>KO</th>\n",
       "      <td>0.910783</td>\n",
       "      <td>0.001113</td>\n",
       "      <td>False</td>\n",
       "    </tr>\n",
       "    <tr>\n",
       "      <th>WT</th>\n",
       "      <td>0.881444</td>\n",
       "      <td>0.000576</td>\n",
       "      <td>False</td>\n",
       "    </tr>\n",
       "  </tbody>\n",
       "</table>\n",
       "</div>"
      ],
      "text/plain": [
       "           W      pval  normal\n",
       "KO  0.910783  0.001113   False\n",
       "WT  0.881444  0.000576   False"
      ]
     },
     "execution_count": 228,
     "metadata": {},
     "output_type": "execute_result"
    }
   ],
   "source": [
    "pg.normality(burr_tidy, dv = 'Burrowed (g)', group = 'Genotype')"
   ]
  },
  {
   "cell_type": "code",
   "execution_count": 229,
   "metadata": {},
   "outputs": [
    {
     "data": {
      "text/html": [
       "<div>\n",
       "<style scoped>\n",
       "    .dataframe tbody tr th:only-of-type {\n",
       "        vertical-align: middle;\n",
       "    }\n",
       "\n",
       "    .dataframe tbody tr th {\n",
       "        vertical-align: top;\n",
       "    }\n",
       "\n",
       "    .dataframe thead th {\n",
       "        text-align: right;\n",
       "    }\n",
       "</style>\n",
       "<table border=\"1\" class=\"dataframe\">\n",
       "  <thead>\n",
       "    <tr style=\"text-align: right;\">\n",
       "      <th></th>\n",
       "      <th>U-val</th>\n",
       "      <th>tail</th>\n",
       "      <th>p-val</th>\n",
       "      <th>RBC</th>\n",
       "      <th>CLES</th>\n",
       "    </tr>\n",
       "  </thead>\n",
       "  <tbody>\n",
       "    <tr>\n",
       "      <th>MWU</th>\n",
       "      <td>1264.5</td>\n",
       "      <td>two-sided</td>\n",
       "      <td>0.032052</td>\n",
       "      <td>-0.2645</td>\n",
       "      <td>0.6315</td>\n",
       "    </tr>\n",
       "  </tbody>\n",
       "</table>\n",
       "</div>"
      ],
      "text/plain": [
       "      U-val       tail     p-val     RBC    CLES\n",
       "MWU  1264.5  two-sided  0.032052 -0.2645  0.6315"
      ]
     },
     "execution_count": 229,
     "metadata": {},
     "output_type": "execute_result"
    }
   ],
   "source": [
    "pg.mwu(burr_tidy['Burrowed (g)'][burr_tidy['Genotype'] == 'WT'], burr_tidy['Burrowed (g)'][burr_tidy['Genotype'] == 'KO'])"
   ]
  },
  {
   "cell_type": "code",
   "execution_count": null,
   "metadata": {},
   "outputs": [],
   "source": []
  }
 ],
 "metadata": {
  "kernelspec": {
   "display_name": "Python 3",
   "language": "python",
   "name": "python3"
  },
  "language_info": {
   "codemirror_mode": {
    "name": "ipython",
    "version": 3
   },
   "file_extension": ".py",
   "mimetype": "text/x-python",
   "name": "python",
   "nbconvert_exporter": "python",
   "pygments_lexer": "ipython3",
   "version": "3.8.2"
  }
 },
 "nbformat": 4,
 "nbformat_minor": 4
}
