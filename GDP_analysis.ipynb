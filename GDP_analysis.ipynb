{
 "cells": [
  {
   "cell_type": "code",
   "execution_count": 38,
   "metadata": {},
   "outputs": [
    {
     "name": "stderr",
     "output_type": "stream",
     "text": [
      "/opt/miniconda3/envs/databs/lib/python3.8/site-packages/outdated/utils.py:14: OutdatedPackageWarning: The package pingouin is out of date. Your version is 0.3.6, the latest is 0.3.8.\n",
      "Set the environment variable OUTDATED_IGNORE=1 to disable these warnings.\n",
      "  return warn(\n"
     ]
    }
   ],
   "source": [
    "import matplotlib.pyplot as plt\n",
    "import seaborn as sns\n",
    "import pandas as pd\n",
    "import pingouin as pg"
   ]
  },
  {
   "cell_type": "code",
   "execution_count": 2,
   "metadata": {},
   "outputs": [],
   "source": [
    "gdp_df = pd.read_csv('/Users/labc02/Documents/PDCB_data/fgdp_analysis.csv')"
   ]
  },
  {
   "cell_type": "code",
   "execution_count": 4,
   "metadata": {},
   "outputs": [
    {
     "data": {
      "text/plain": [
       "Index(['Date', 'Genotype', 'fGDP_amp', 'fGDP_halfwidth', 'fGDP_interval',\n",
       "       'MUA_fq', 'inter_fGDP_MUA_fq', 'intra_fGDP_MUA_fq'],\n",
       "      dtype='object')"
      ]
     },
     "execution_count": 4,
     "metadata": {},
     "output_type": "execute_result"
    }
   ],
   "source": [
    "gdp_df.columns"
   ]
  },
  {
   "cell_type": "code",
   "execution_count": 25,
   "metadata": {},
   "outputs": [
    {
     "data": {
      "image/png": "[encoded data removed]",
      "text/plain": [
       "<Figure size 576x432 with 6 Axes>"
      ]
     },
     "metadata": {
      "needs_background": "light"
     },
     "output_type": "display_data"
    }
   ],
   "source": [
    "fig, axs = plt.subplots(2, 3, sharex = True, figsize = (8,6))\n",
    "\n",
    "sns.boxplot(x = 'Genotype', y = 'fGDP_amp', data = gdp_df, palette = ['royalblue', 'forestgreen'], order = ['WT', 'KO'], width  = 0.5, ax = axs[0,0])\n",
    "axs[0,0].set_title('fGDP Amplitude')\n",
    "axs[0,0].set_ylabel(r'$\\mu$V')\n",
    "\n",
    "sns.boxplot(x = 'Genotype', y = 'fGDP_halfwidth', data = gdp_df, palette = ['royalblue', 'forestgreen'], order = ['WT', 'KO'], width = 0.4, ax = axs[0,1])\n",
    "axs[0,1].set_title('fGDP Half-width')\n",
    "axs[0,1].set_ylabel('ms')\n",
    "\n",
    "sns.boxplot(x = 'Genotype', y = 'fGDP_interval', data = gdp_df, palette = ['royalblue', 'forestgreen'], order = ['WT', 'KO'], width = 0.4, ax = axs[0,2])\n",
    "axs[0,2].set_title('fGDP Interval')\n",
    "axs[0,2].set_ylabel('Seconds')\n",
    "\n",
    "sns.boxplot(x = 'Genotype', y = 'MUA_fq', data = gdp_df, palette = ['royalblue', 'forestgreen'], order = ['WT', 'KO'], width = 0.4, ax = axs[1,0])\n",
    "axs[1,0].set_title('MUA')\n",
    "axs[1,0].set_ylabel(r'MUA ($s^{-1}$)')\n",
    "\n",
    "sns.boxplot(x = 'Genotype', y = 'inter_fGDP_MUA_fq', data = gdp_df, palette = ['royalblue', 'forestgreen'], order = ['WT', 'KO'], width = 0.4, ax = axs[1,1])\n",
    "axs[1,1].set_title('inter fGDP MUA')\n",
    "axs[1,1].set_ylabel(r'MUA ($s^{-1}$)')\n",
    "\n",
    "sns.boxplot(x = 'Genotype', y = 'intra_fGDP_MUA_fq', data = gdp_df, palette = ['royalblue', 'forestgreen'], order = ['WT', 'KO'], width = 0.4, ax = axs[1,2])\n",
    "axs[1,2].set_title('intra fGDP MUA')\n",
    "axs[1,2].set_ylabel(r'MUA ($s^{-1}$)')\n",
    "\n",
    "plt.tight_layout()\n"
   ]
  },
  {
   "cell_type": "code",
   "execution_count": 26,
   "metadata": {},
   "outputs": [],
   "source": [
    "psc_df = pd.read_csv('/Users/labc02/Documents/PDCB_data/spPSC_means.csv')"
   ]
  },
  {
   "cell_type": "code",
   "execution_count": 30,
   "metadata": {
    "collapsed": true
   },
   "outputs": [
    {
     "data": {
      "text/html": [
       "<div>\n",
       "<style scoped>\n",
       "    .dataframe tbody tr th:only-of-type {\n",
       "        vertical-align: middle;\n",
       "    }\n",
       "\n",
       "    .dataframe tbody tr th {\n",
       "        vertical-align: top;\n",
       "    }\n",
       "\n",
       "    .dataframe thead th {\n",
       "        text-align: right;\n",
       "    }\n",
       "</style>\n",
       "<table border=\"1\" class=\"dataframe\">\n",
       "  <thead>\n",
       "    <tr style=\"text-align: right;\">\n",
       "      <th></th>\n",
       "      <th>Date</th>\n",
       "      <th>Genotype</th>\n",
       "      <th>Peak</th>\n",
       "      <th>Inst Fq</th>\n",
       "      <th>Unnamed: 4</th>\n",
       "      <th>Unnamed: 5</th>\n",
       "      <th>Unnamed: 6</th>\n",
       "    </tr>\n",
       "  </thead>\n",
       "  <tbody>\n",
       "    <tr>\n",
       "      <th>0</th>\n",
       "      <td>50718</td>\n",
       "      <td>WT</td>\n",
       "      <td>30.73</td>\n",
       "      <td>6.03</td>\n",
       "      <td>NaN</td>\n",
       "      <td>NaN</td>\n",
       "      <td>NaN</td>\n",
       "    </tr>\n",
       "    <tr>\n",
       "      <th>1</th>\n",
       "      <td>071118c</td>\n",
       "      <td>KO</td>\n",
       "      <td>20.18</td>\n",
       "      <td>5.36</td>\n",
       "      <td>NaN</td>\n",
       "      <td>NaN</td>\n",
       "      <td>NaN</td>\n",
       "    </tr>\n",
       "    <tr>\n",
       "      <th>2</th>\n",
       "      <td>011118a</td>\n",
       "      <td>KO</td>\n",
       "      <td>38.50</td>\n",
       "      <td>4.68</td>\n",
       "      <td>NaN</td>\n",
       "      <td>NaN</td>\n",
       "      <td>NaN</td>\n",
       "    </tr>\n",
       "    <tr>\n",
       "      <th>3</th>\n",
       "      <td>011118b</td>\n",
       "      <td>KO</td>\n",
       "      <td>29.60</td>\n",
       "      <td>10.64</td>\n",
       "      <td>NaN</td>\n",
       "      <td>NaN</td>\n",
       "      <td>NaN</td>\n",
       "    </tr>\n",
       "    <tr>\n",
       "      <th>4</th>\n",
       "      <td>071118b</td>\n",
       "      <td>KO</td>\n",
       "      <td>28.29</td>\n",
       "      <td>4.35</td>\n",
       "      <td>NaN</td>\n",
       "      <td>NaN</td>\n",
       "      <td>NaN</td>\n",
       "    </tr>\n",
       "    <tr>\n",
       "      <th>5</th>\n",
       "      <td>071118c</td>\n",
       "      <td>KO</td>\n",
       "      <td>20.84</td>\n",
       "      <td>7.38</td>\n",
       "      <td>NaN</td>\n",
       "      <td>NaN</td>\n",
       "      <td>NaN</td>\n",
       "    </tr>\n",
       "    <tr>\n",
       "      <th>6</th>\n",
       "      <td>081118a</td>\n",
       "      <td>KO</td>\n",
       "      <td>21.60</td>\n",
       "      <td>6.45</td>\n",
       "      <td>NaN</td>\n",
       "      <td>NaN</td>\n",
       "      <td>NaN</td>\n",
       "    </tr>\n",
       "    <tr>\n",
       "      <th>7</th>\n",
       "      <td>081118b</td>\n",
       "      <td>KO</td>\n",
       "      <td>42.70</td>\n",
       "      <td>13.40</td>\n",
       "      <td>NaN</td>\n",
       "      <td>NaN</td>\n",
       "      <td>NaN</td>\n",
       "    </tr>\n",
       "    <tr>\n",
       "      <th>8</th>\n",
       "      <td>100718</td>\n",
       "      <td>WT</td>\n",
       "      <td>27.40</td>\n",
       "      <td>8.00</td>\n",
       "      <td>NaN</td>\n",
       "      <td>NaN</td>\n",
       "      <td>NaN</td>\n",
       "    </tr>\n",
       "    <tr>\n",
       "      <th>9</th>\n",
       "      <td>200718a</td>\n",
       "      <td>WT</td>\n",
       "      <td>55.10</td>\n",
       "      <td>13.59</td>\n",
       "      <td>NaN</td>\n",
       "      <td>NaN</td>\n",
       "      <td>NaN</td>\n",
       "    </tr>\n",
       "    <tr>\n",
       "      <th>10</th>\n",
       "      <td>200718b</td>\n",
       "      <td>WT</td>\n",
       "      <td>29.82</td>\n",
       "      <td>6.39</td>\n",
       "      <td>NaN</td>\n",
       "      <td>NaN</td>\n",
       "      <td>NaN</td>\n",
       "    </tr>\n",
       "    <tr>\n",
       "      <th>11</th>\n",
       "      <td>240718</td>\n",
       "      <td>KO</td>\n",
       "      <td>23.28</td>\n",
       "      <td>3.76</td>\n",
       "      <td>NaN</td>\n",
       "      <td>NaN</td>\n",
       "      <td>NaN</td>\n",
       "    </tr>\n",
       "    <tr>\n",
       "      <th>12</th>\n",
       "      <td>51020</td>\n",
       "      <td>WT</td>\n",
       "      <td>29.90</td>\n",
       "      <td>2.10</td>\n",
       "      <td>NaN</td>\n",
       "      <td>NaN</td>\n",
       "      <td>NaN</td>\n",
       "    </tr>\n",
       "    <tr>\n",
       "      <th>13</th>\n",
       "      <td>71020</td>\n",
       "      <td>WT</td>\n",
       "      <td>28.07</td>\n",
       "      <td>7.86</td>\n",
       "      <td>NaN</td>\n",
       "      <td>NaN</td>\n",
       "      <td>NaN</td>\n",
       "    </tr>\n",
       "    <tr>\n",
       "      <th>14</th>\n",
       "      <td>100920</td>\n",
       "      <td>KO</td>\n",
       "      <td>20.27</td>\n",
       "      <td>4.50</td>\n",
       "      <td>NaN</td>\n",
       "      <td>NaN</td>\n",
       "      <td>NaN</td>\n",
       "    </tr>\n",
       "    <tr>\n",
       "      <th>15</th>\n",
       "      <td>131020</td>\n",
       "      <td>WT</td>\n",
       "      <td>40.68</td>\n",
       "      <td>3.73</td>\n",
       "      <td>NaN</td>\n",
       "      <td>NaN</td>\n",
       "      <td>NaN</td>\n",
       "    </tr>\n",
       "    <tr>\n",
       "      <th>16</th>\n",
       "      <td>210920</td>\n",
       "      <td>KO</td>\n",
       "      <td>17.08</td>\n",
       "      <td>1.43</td>\n",
       "      <td>NaN</td>\n",
       "      <td>NaN</td>\n",
       "      <td>NaN</td>\n",
       "    </tr>\n",
       "    <tr>\n",
       "      <th>17</th>\n",
       "      <td>220920</td>\n",
       "      <td>KO</td>\n",
       "      <td>19.49</td>\n",
       "      <td>1.89</td>\n",
       "      <td>NaN</td>\n",
       "      <td>NaN</td>\n",
       "      <td>NaN</td>\n",
       "    </tr>\n",
       "    <tr>\n",
       "      <th>18</th>\n",
       "      <td>230920</td>\n",
       "      <td>WT</td>\n",
       "      <td>32.45</td>\n",
       "      <td>3.81</td>\n",
       "      <td>NaN</td>\n",
       "      <td>NaN</td>\n",
       "      <td>NaN</td>\n",
       "    </tr>\n",
       "    <tr>\n",
       "      <th>19</th>\n",
       "      <td>250920</td>\n",
       "      <td>WT</td>\n",
       "      <td>42.39</td>\n",
       "      <td>11.95</td>\n",
       "      <td>NaN</td>\n",
       "      <td>NaN</td>\n",
       "      <td>NaN</td>\n",
       "    </tr>\n",
       "  </tbody>\n",
       "</table>\n",
       "</div>"
      ],
      "text/plain": [
       "       Date Genotype   Peak  Inst Fq  Unnamed: 4  Unnamed: 5  Unnamed: 6\n",
       "0     50718       WT  30.73     6.03         NaN         NaN         NaN\n",
       "1   071118c       KO  20.18     5.36         NaN         NaN         NaN\n",
       "2   011118a       KO  38.50     4.68         NaN         NaN         NaN\n",
       "3   011118b       KO  29.60    10.64         NaN         NaN         NaN\n",
       "4   071118b       KO  28.29     4.35         NaN         NaN         NaN\n",
       "5   071118c       KO  20.84     7.38         NaN         NaN         NaN\n",
       "6   081118a       KO  21.60     6.45         NaN         NaN         NaN\n",
       "7   081118b       KO  42.70    13.40         NaN         NaN         NaN\n",
       "8    100718       WT  27.40     8.00         NaN         NaN         NaN\n",
       "9   200718a       WT  55.10    13.59         NaN         NaN         NaN\n",
       "10  200718b       WT  29.82     6.39         NaN         NaN         NaN\n",
       "11   240718       KO  23.28     3.76         NaN         NaN         NaN\n",
       "12    51020       WT  29.90     2.10         NaN         NaN         NaN\n",
       "13    71020       WT  28.07     7.86         NaN         NaN         NaN\n",
       "14   100920       KO  20.27     4.50         NaN         NaN         NaN\n",
       "15   131020       WT  40.68     3.73         NaN         NaN         NaN\n",
       "16   210920       KO  17.08     1.43         NaN         NaN         NaN\n",
       "17   220920       KO  19.49     1.89         NaN         NaN         NaN\n",
       "18   230920       WT  32.45     3.81         NaN         NaN         NaN\n",
       "19   250920       WT  42.39    11.95         NaN         NaN         NaN"
      ]
     },
     "execution_count": 30,
     "metadata": {},
     "output_type": "execute_result"
    }
   ],
   "source": [
    "psc_df"
   ]
  },
  {
   "cell_type": "code",
   "execution_count": 27,
   "metadata": {},
   "outputs": [
    {
     "data": {
      "text/plain": [
       "Index(['Date', 'Genotype', 'Peak', 'Inst Fq', 'Unnamed: 4', 'Unnamed: 5',\n",
       "       'Unnamed: 6'],\n",
       "      dtype='object')"
      ]
     },
     "execution_count": 27,
     "metadata": {},
     "output_type": "execute_result"
    }
   ],
   "source": [
    "psc_df.columns"
   ]
  },
  {
   "cell_type": "code",
   "execution_count": 37,
   "metadata": {},
   "outputs": [
    {
     "data": {
      "text/plain": [
       "Text(0, 0.5, 'Hz')"
      ]
     },
     "execution_count": 37,
     "metadata": {},
     "output_type": "execute_result"
    },
    {
     "data": {
      "image/png": "[encoded data removed]",
      "text/plain": [
       "<Figure size 432x288 with 2 Axes>"
      ]
     },
     "metadata": {
      "needs_background": "light"
     },
     "output_type": "display_data"
    }
   ],
   "source": [
    "fig_2, axs = plt.subplots(1,2)\n",
    "sns.boxplot(x = 'Genotype', y = 'Peak', data = psc_df, order = ['WT', 'KO'], palette = ['royalblue', 'forestgreen'], width = 0.4, ax = axs[0])\n",
    "axs[0].set_title('Amp.')\n",
    "axs[0].set_ylabel('pA')\n",
    "\n",
    "sns.boxplot(x = 'Genotype', y = 'Inst Fq', data = psc_df, order = ['WT', 'KO'], palette = ['royalblue', 'forestgreen'], width = 0.4, ax = axs[1])\n",
    "axs[1].set_title('Fq')\n",
    "axs[1].set_ylabel('Hz')"
   ]
  },
  {
   "cell_type": "code",
   "execution_count": 39,
   "metadata": {},
   "outputs": [
    {
     "data": {
      "text/html": [
       "<div>\n",
       "<style scoped>\n",
       "    .dataframe tbody tr th:only-of-type {\n",
       "        vertical-align: middle;\n",
       "    }\n",
       "\n",
       "    .dataframe tbody tr th {\n",
       "        vertical-align: top;\n",
       "    }\n",
       "\n",
       "    .dataframe thead th {\n",
       "        text-align: right;\n",
       "    }\n",
       "</style>\n",
       "<table border=\"1\" class=\"dataframe\">\n",
       "  <thead>\n",
       "    <tr style=\"text-align: right;\">\n",
       "      <th></th>\n",
       "      <th>W</th>\n",
       "      <th>pval</th>\n",
       "      <th>normal</th>\n",
       "    </tr>\n",
       "  </thead>\n",
       "  <tbody>\n",
       "    <tr>\n",
       "      <th>WT</th>\n",
       "      <td>0.808560</td>\n",
       "      <td>0.025563</td>\n",
       "      <td>False</td>\n",
       "    </tr>\n",
       "    <tr>\n",
       "      <th>KO</th>\n",
       "      <td>0.837011</td>\n",
       "      <td>0.028857</td>\n",
       "      <td>False</td>\n",
       "    </tr>\n",
       "  </tbody>\n",
       "</table>\n",
       "</div>"
      ],
      "text/plain": [
       "           W      pval  normal\n",
       "WT  0.808560  0.025563   False\n",
       "KO  0.837011  0.028857   False"
      ]
     },
     "execution_count": 39,
     "metadata": {},
     "output_type": "execute_result"
    }
   ],
   "source": [
    "pg.normality(data = psc_df, dv = 'Peak', group= 'Genotype')"
   ]
  },
  {
   "cell_type": "code",
   "execution_count": 42,
   "metadata": {},
   "outputs": [
    {
     "data": {
      "text/html": [
       "<div>\n",
       "<style scoped>\n",
       "    .dataframe tbody tr th:only-of-type {\n",
       "        vertical-align: middle;\n",
       "    }\n",
       "\n",
       "    .dataframe tbody tr th {\n",
       "        vertical-align: top;\n",
       "    }\n",
       "\n",
       "    .dataframe thead th {\n",
       "        text-align: right;\n",
       "    }\n",
       "</style>\n",
       "<table border=\"1\" class=\"dataframe\">\n",
       "  <thead>\n",
       "    <tr style=\"text-align: right;\">\n",
       "      <th></th>\n",
       "      <th>U-val</th>\n",
       "      <th>tail</th>\n",
       "      <th>p-val</th>\n",
       "      <th>RBC</th>\n",
       "      <th>CLES</th>\n",
       "    </tr>\n",
       "  </thead>\n",
       "  <tbody>\n",
       "    <tr>\n",
       "      <th>MWU</th>\n",
       "      <td>81.0</td>\n",
       "      <td>greater</td>\n",
       "      <td>0.009257</td>\n",
       "      <td>-0.636364</td>\n",
       "      <td>0.818182</td>\n",
       "    </tr>\n",
       "  </tbody>\n",
       "</table>\n",
       "</div>"
      ],
      "text/plain": [
       "     U-val     tail     p-val       RBC      CLES\n",
       "MWU   81.0  greater  0.009257 -0.636364  0.818182"
      ]
     },
     "execution_count": 42,
     "metadata": {},
     "output_type": "execute_result"
    }
   ],
   "source": [
    "x = psc_df['Peak'][psc_df['Genotype']=='WT']\n",
    "y = psc_df['Peak'][psc_df['Genotype']=='KO']\n",
    "pg.mwu(x, y, 'greater')"
   ]
  },
  {
   "cell_type": "code",
   "execution_count": 44,
   "metadata": {},
   "outputs": [
    {
     "data": {
      "text/html": [
       "<div>\n",
       "<style scoped>\n",
       "    .dataframe tbody tr th:only-of-type {\n",
       "        vertical-align: middle;\n",
       "    }\n",
       "\n",
       "    .dataframe tbody tr th {\n",
       "        vertical-align: top;\n",
       "    }\n",
       "\n",
       "    .dataframe thead th {\n",
       "        text-align: right;\n",
       "    }\n",
       "</style>\n",
       "<table border=\"1\" class=\"dataframe\">\n",
       "  <thead>\n",
       "    <tr style=\"text-align: right;\">\n",
       "      <th></th>\n",
       "      <th>W</th>\n",
       "      <th>pval</th>\n",
       "      <th>normal</th>\n",
       "    </tr>\n",
       "  </thead>\n",
       "  <tbody>\n",
       "    <tr>\n",
       "      <th>WT</th>\n",
       "      <td>0.939777</td>\n",
       "      <td>0.579559</td>\n",
       "      <td>True</td>\n",
       "    </tr>\n",
       "    <tr>\n",
       "      <th>KO</th>\n",
       "      <td>0.909186</td>\n",
       "      <td>0.238530</td>\n",
       "      <td>True</td>\n",
       "    </tr>\n",
       "  </tbody>\n",
       "</table>\n",
       "</div>"
      ],
      "text/plain": [
       "           W      pval  normal\n",
       "WT  0.939777  0.579559    True\n",
       "KO  0.909186  0.238530    True"
      ]
     },
     "execution_count": 44,
     "metadata": {},
     "output_type": "execute_result"
    }
   ],
   "source": [
    "pg.normality(data = psc_df, dv = 'Inst Fq', group= 'Genotype')"
   ]
  },
  {
   "cell_type": "code",
   "execution_count": 45,
   "metadata": {},
   "outputs": [
    {
     "data": {
      "text/html": [
       "<div>\n",
       "<style scoped>\n",
       "    .dataframe tbody tr th:only-of-type {\n",
       "        vertical-align: middle;\n",
       "    }\n",
       "\n",
       "    .dataframe tbody tr th {\n",
       "        vertical-align: top;\n",
       "    }\n",
       "\n",
       "    .dataframe thead th {\n",
       "        text-align: right;\n",
       "    }\n",
       "</style>\n",
       "<table border=\"1\" class=\"dataframe\">\n",
       "  <thead>\n",
       "    <tr style=\"text-align: right;\">\n",
       "      <th></th>\n",
       "      <th>U-val</th>\n",
       "      <th>tail</th>\n",
       "      <th>p-val</th>\n",
       "      <th>RBC</th>\n",
       "      <th>CLES</th>\n",
       "    </tr>\n",
       "  </thead>\n",
       "  <tbody>\n",
       "    <tr>\n",
       "      <th>MWU</th>\n",
       "      <td>60.0</td>\n",
       "      <td>two-sided</td>\n",
       "      <td>0.447412</td>\n",
       "      <td>-0.212121</td>\n",
       "      <td>0.606061</td>\n",
       "    </tr>\n",
       "  </tbody>\n",
       "</table>\n",
       "</div>"
      ],
      "text/plain": [
       "     U-val       tail     p-val       RBC      CLES\n",
       "MWU   60.0  two-sided  0.447412 -0.212121  0.606061"
      ]
     },
     "execution_count": 45,
     "metadata": {},
     "output_type": "execute_result"
    }
   ],
   "source": [
    "xx = psc_df['Inst Fq'][psc_df['Genotype']=='WT']\n",
    "yy = psc_df['Inst Fq'][psc_df['Genotype']=='KO']\n",
    "pg.mwu(xx, yy)"
   ]
  },
  {
   "cell_type": "code",
   "execution_count": null,
   "metadata": {},
   "outputs": [],
   "source": []
  }
 ],
 "metadata": {
  "kernelspec": {
   "display_name": "Python 3",
   "language": "python",
   "name": "python3"
  },
  "language_info": {
   "codemirror_mode": {
    "name": "ipython",
    "version": 3
   },
   "file_extension": ".py",
   "mimetype": "text/x-python",
   "name": "python",
   "nbconvert_exporter": "python",
   "pygments_lexer": "ipython3",
   "version": "3.8.2"
  }
 },
 "nbformat": 4,
 "nbformat_minor": 4
}
