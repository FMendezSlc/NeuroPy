{
 "cells": [
  {
   "cell_type": "code",
   "execution_count": 1,
   "metadata": {},
   "outputs": [
    {
     "name": "stderr",
     "output_type": "stream",
     "text": [
      "/opt/miniconda3/envs/databs/lib/python3.8/site-packages/outdated/utils.py:14: OutdatedPackageWarning: The package pingouin is out of date. Your version is 0.3.6, the latest is 0.5.0.\n",
      "Set the environment variable OUTDATED_IGNORE=1 to disable these warnings.\n",
      "  return warn(\n",
      "/opt/miniconda3/envs/databs/lib/python3.8/site-packages/outdated/utils.py:14: OutdatedPackageWarning: The package outdated is out of date. Your version is 0.2.0, the latest is 0.2.1.\n",
      "Set the environment variable OUTDATED_IGNORE=1 to disable these warnings.\n",
      "  return warn(\n"
     ]
    }
   ],
   "source": [
    "import matplotlib.pyplot as plt\n",
    "import pandas as pd\n",
    "import seaborn as sns\n",
    "import pingouin as pg\n",
    "import numpy as np\n",
    "from scipy.stats import ks_2samp\n",
    "from scipy.stats import linregress\n",
    "from scipy.stats import fisher_exact\n",
    "from scipy.stats import chi2_contingency\n"
   ]
  },
  {
   "cell_type": "code",
   "execution_count": 2,
   "metadata": {},
   "outputs": [],
   "source": [
    "def ecdf(raw_data):\n",
    "    '''[np.array -> tuple]\n",
    "    Equivalent to R's ecdf(). Credit to Kripanshu Bhargava from Codementor'''\n",
    "    cdfx = np.unique(raw_data)\n",
    "    x_values = np.linspace(start=min(cdfx), stop=max(cdfx), num=len(cdfx))\n",
    "    size_data = raw_data.size\n",
    "    y_values = []\n",
    "    for i in x_values:\n",
    "        # all the values in raw data less than the ith value in x_values\n",
    "        temp = raw_data[raw_data <= i]\n",
    "        # fraction of that value with respect to the size of the x_values\n",
    "        value = temp.size / size_data\n",
    "\n",
    "        y_values.append(value)\n",
    "    \n",
    "    y_values = np.array(y_values)\n",
    "    \n",
    "    return (x_values, y_values)"
   ]
  },
  {
   "cell_type": "markdown",
   "metadata": {},
   "source": [
    "# Spine Density"
   ]
  },
  {
   "cell_type": "code",
   "execution_count": 3,
   "metadata": {},
   "outputs": [],
   "source": [
    "spines = pd.read_csv('/Users/labc02/Documents/PDCB_data/Morphometry/Spine_Count.csv')"
   ]
  },
  {
   "cell_type": "markdown",
   "metadata": {},
   "source": [
    "### Thorny Excrescences "
   ]
  },
  {
   "cell_type": "code",
   "execution_count": 4,
   "metadata": {},
   "outputs": [],
   "source": [
    "sp_TE = spines[spines['Order'] < 3]\n",
    "sp_normal = spines[spines['Order'] == 3]"
   ]
  },
  {
   "cell_type": "code",
   "execution_count": 5,
   "metadata": {},
   "outputs": [
    {
     "data": {
      "text/plain": [
       "Index(['ID', 'Genotype', 'Sample', 'Order', 'Lenght', 'Spines'], dtype='object')"
      ]
     },
     "execution_count": 5,
     "metadata": {},
     "output_type": "execute_result"
    }
   ],
   "source": [
    "spines.columns"
   ]
  },
  {
   "cell_type": "code",
   "execution_count": 6,
   "metadata": {},
   "outputs": [
    {
     "data": {
      "text/plain": [
       "Genotype\n",
       "KO    12\n",
       "WT    15\n",
       "Name: ID, dtype: int64"
      ]
     },
     "execution_count": 6,
     "metadata": {},
     "output_type": "execute_result"
    }
   ],
   "source": [
    "sp_TE.groupby(['Genotype'])['ID'].count()"
   ]
  },
  {
   "cell_type": "markdown",
   "metadata": {},
   "source": [
    "#### Thorny excrescence expressed as number of spine heads in 20 micrometers of dendrite"
   ]
  },
  {
   "cell_type": "code",
   "execution_count": 7,
   "metadata": {},
   "outputs": [
    {
     "name": "stderr",
     "output_type": "stream",
     "text": [
      "<ipython-input-7-088b22520e60>:1: SettingWithCopyWarning: \n",
      "A value is trying to be set on a copy of a slice from a DataFrame.\n",
      "Try using .loc[row_indexer,col_indexer] = value instead\n",
      "\n",
      "See the caveats in the documentation: https://pandas.pydata.org/pandas-docs/stable/user_guide/indexing.html#returning-a-view-versus-a-copy\n",
      "  sp_TE['Density'] = sp_TE['Spines']/sp_TE['Lenght'] * 20\n"
     ]
    }
   ],
   "source": [
    "sp_TE['Density'] = sp_TE['Spines']/sp_TE['Lenght'] * 20"
   ]
  },
  {
   "cell_type": "code",
   "execution_count": 15,
   "metadata": {},
   "outputs": [
    {
     "data": {
      "image/png": "[encoded data removed]",
      "text/plain": [
       "<Figure size 144x144 with 1 Axes>"
      ]
     },
     "metadata": {
      "needs_background": "light"
     },
     "output_type": "display_data"
    }
   ],
   "source": [
    "th_density_fig = plt.figure(figsize=(2, 2))\n",
    "sns.boxplot(data = sp_TE, x = 'Genotype', y = 'Density', palette=['royalblue', 'forestgreen'], order = ['WT', 'KO'], showmeans=True, showfliers = True, meanprops={'marker':'+', 'markeredgecolor':'k'}, width=0.4)\n",
    "sns.despine()\n",
    "plt.ylabel('Spines')\n",
    "plt.xlabel('')\n",
    "plt.tight_layout()\n"
   ]
  },
  {
   "cell_type": "code",
   "execution_count": 16,
   "metadata": {},
   "outputs": [],
   "source": [
    "th_density_fig.savefig('/Users/labc02/Documents/PDCB_data/Morphometry/Figures/TH_desnity.svg')"
   ]
  },
  {
   "cell_type": "code",
   "execution_count": 17,
   "metadata": {},
   "outputs": [
    {
     "data": {
      "text/html": [
       "<div>\n",
       "<style scoped>\n",
       "    .dataframe tbody tr th:only-of-type {\n",
       "        vertical-align: middle;\n",
       "    }\n",
       "\n",
       "    .dataframe tbody tr th {\n",
       "        vertical-align: top;\n",
       "    }\n",
       "\n",
       "    .dataframe thead th {\n",
       "        text-align: right;\n",
       "    }\n",
       "</style>\n",
       "<table border=\"1\" class=\"dataframe\">\n",
       "  <thead>\n",
       "    <tr style=\"text-align: right;\">\n",
       "      <th></th>\n",
       "      <th>W</th>\n",
       "      <th>pval</th>\n",
       "      <th>normal</th>\n",
       "    </tr>\n",
       "  </thead>\n",
       "  <tbody>\n",
       "    <tr>\n",
       "      <th>KO</th>\n",
       "      <td>0.936478</td>\n",
       "      <td>0.453832</td>\n",
       "      <td>True</td>\n",
       "    </tr>\n",
       "    <tr>\n",
       "      <th>WT</th>\n",
       "      <td>0.875469</td>\n",
       "      <td>0.040628</td>\n",
       "      <td>False</td>\n",
       "    </tr>\n",
       "  </tbody>\n",
       "</table>\n",
       "</div>"
      ],
      "text/plain": [
       "           W      pval  normal\n",
       "KO  0.936478  0.453832    True\n",
       "WT  0.875469  0.040628   False"
      ]
     },
     "execution_count": 17,
     "metadata": {},
     "output_type": "execute_result"
    }
   ],
   "source": [
    "pg.normality(data = sp_TE, dv = 'Density', group = 'Genotype')"
   ]
  },
  {
   "cell_type": "code",
   "execution_count": 18,
   "metadata": {},
   "outputs": [
    {
     "data": {
      "text/html": [
       "<div>\n",
       "<style scoped>\n",
       "    .dataframe tbody tr th:only-of-type {\n",
       "        vertical-align: middle;\n",
       "    }\n",
       "\n",
       "    .dataframe tbody tr th {\n",
       "        vertical-align: top;\n",
       "    }\n",
       "\n",
       "    .dataframe thead th {\n",
       "        text-align: right;\n",
       "    }\n",
       "</style>\n",
       "<table border=\"1\" class=\"dataframe\">\n",
       "  <thead>\n",
       "    <tr style=\"text-align: right;\">\n",
       "      <th></th>\n",
       "      <th>U-val</th>\n",
       "      <th>tail</th>\n",
       "      <th>p-val</th>\n",
       "      <th>RBC</th>\n",
       "      <th>CLES</th>\n",
       "    </tr>\n",
       "  </thead>\n",
       "  <tbody>\n",
       "    <tr>\n",
       "      <th>MWU</th>\n",
       "      <td>68.0</td>\n",
       "      <td>less</td>\n",
       "      <td>0.147068</td>\n",
       "      <td>0.244444</td>\n",
       "      <td>0.622222</td>\n",
       "    </tr>\n",
       "  </tbody>\n",
       "</table>\n",
       "</div>"
      ],
      "text/plain": [
       "     U-val  tail     p-val       RBC      CLES\n",
       "MWU   68.0  less  0.147068  0.244444  0.622222"
      ]
     },
     "execution_count": 18,
     "metadata": {},
     "output_type": "execute_result"
    }
   ],
   "source": [
    "pg.mwu(x = sp_TE['Density'][sp_TE['Genotype']=='WT'], y = sp_TE['Density'][sp_TE['Genotype']=='KO'], tail ='one-sided')"
   ]
  },
  {
   "cell_type": "markdown",
   "metadata": {},
   "source": [
    "#### A tendency in accordance to the propotion of axons with MFB and Timm area, but no statistically significant"
   ]
  },
  {
   "cell_type": "markdown",
   "metadata": {},
   "source": [
    "### Normal spines"
   ]
  },
  {
   "cell_type": "code",
   "execution_count": 19,
   "metadata": {},
   "outputs": [
    {
     "data": {
      "text/plain": [
       "Genotype\n",
       "KO    21\n",
       "WT    20\n",
       "Name: ID, dtype: int64"
      ]
     },
     "execution_count": 19,
     "metadata": {},
     "output_type": "execute_result"
    }
   ],
   "source": [
    "sp_normal.groupby(['Genotype'])['ID'].count()"
   ]
  },
  {
   "cell_type": "code",
   "execution_count": 20,
   "metadata": {},
   "outputs": [
    {
     "data": {
      "image/png": "[encoded data removed]",
      "text/plain": [
       "<Figure size 432x288 with 1 Axes>"
      ]
     },
     "metadata": {
      "needs_background": "light"
     },
     "output_type": "display_data"
    }
   ],
   "source": [
    "sns.boxplot(data = sp_normal, x = 'Genotype', y = 'Spines', palette=['royalblue', 'forestgreen'], order = ['WT', 'KO'], showmeans=True, showfliers = True, meanprops={'marker':'+', 'markeredgecolor':'k'}, width=0.4)\n",
    "sns.despine()"
   ]
  },
  {
   "cell_type": "markdown",
   "metadata": {},
   "source": [
    "#### Outlier detection"
   ]
  },
  {
   "cell_type": "code",
   "execution_count": 21,
   "metadata": {},
   "outputs": [],
   "source": [
    "out_WT = pg.madmedianrule(sp_normal['Spines'][sp_normal['Genotype'] == 'WT'])"
   ]
  },
  {
   "cell_type": "code",
   "execution_count": 22,
   "metadata": {},
   "outputs": [
    {
     "data": {
      "text/plain": [
       "39    35\n",
       "41    32\n",
       "Name: Spines, dtype: int64"
      ]
     },
     "execution_count": 22,
     "metadata": {},
     "output_type": "execute_result"
    }
   ],
   "source": [
    "sp_normal['Spines'][sp_normal['Genotype'] == 'WT'][out_WT]"
   ]
  },
  {
   "cell_type": "code",
   "execution_count": 23,
   "metadata": {},
   "outputs": [],
   "source": [
    "sp_tidy = sp_normal.drop(index = [39, 41])"
   ]
  },
  {
   "cell_type": "code",
   "execution_count": 24,
   "metadata": {},
   "outputs": [
    {
     "data": {
      "text/plain": [
       "Genotype\n",
       "KO    21\n",
       "WT    18\n",
       "Name: ID, dtype: int64"
      ]
     },
     "execution_count": 24,
     "metadata": {},
     "output_type": "execute_result"
    }
   ],
   "source": [
    "sp_tidy.groupby('Genotype')['ID'].count()"
   ]
  },
  {
   "cell_type": "code",
   "execution_count": 25,
   "metadata": {},
   "outputs": [
    {
     "data": {
      "image/png": "[encoded data removed]",
      "text/plain": [
       "<Figure size 144x144 with 1 Axes>"
      ]
     },
     "metadata": {
      "needs_background": "light"
     },
     "output_type": "display_data"
    }
   ],
   "source": [
    "Nl_spines_fig = plt.figure(figsize=(2,2))\n",
    "sns.boxplot(data = sp_tidy, x = 'Genotype', y = 'Spines', palette=['royalblue', 'forestgreen'], order = ['WT', 'KO'], showmeans=True, showfliers = False, meanprops={'marker':'+', 'markeredgecolor':'k'}, width=0.4)\n",
    "sns.despine()\n",
    "plt.ylabel('Spines')\n",
    "plt.xlabel('')\n",
    "plt.tight_layout()\n"
   ]
  },
  {
   "cell_type": "code",
   "execution_count": 28,
   "metadata": {},
   "outputs": [],
   "source": [
    "Nl_spines_fig.savefig('/Users/labc02/Documents/PDCB_data/Morphometry/Figures/Nl_density.svg')"
   ]
  },
  {
   "cell_type": "code",
   "execution_count": 26,
   "metadata": {},
   "outputs": [
    {
     "data": {
      "text/html": [
       "<div>\n",
       "<style scoped>\n",
       "    .dataframe tbody tr th:only-of-type {\n",
       "        vertical-align: middle;\n",
       "    }\n",
       "\n",
       "    .dataframe tbody tr th {\n",
       "        vertical-align: top;\n",
       "    }\n",
       "\n",
       "    .dataframe thead th {\n",
       "        text-align: right;\n",
       "    }\n",
       "</style>\n",
       "<table border=\"1\" class=\"dataframe\">\n",
       "  <thead>\n",
       "    <tr style=\"text-align: right;\">\n",
       "      <th></th>\n",
       "      <th>W</th>\n",
       "      <th>pval</th>\n",
       "      <th>normal</th>\n",
       "    </tr>\n",
       "  </thead>\n",
       "  <tbody>\n",
       "    <tr>\n",
       "      <th>KO</th>\n",
       "      <td>0.967427</td>\n",
       "      <td>0.675686</td>\n",
       "      <td>True</td>\n",
       "    </tr>\n",
       "    <tr>\n",
       "      <th>WT</th>\n",
       "      <td>0.960308</td>\n",
       "      <td>0.607598</td>\n",
       "      <td>True</td>\n",
       "    </tr>\n",
       "  </tbody>\n",
       "</table>\n",
       "</div>"
      ],
      "text/plain": [
       "           W      pval  normal\n",
       "KO  0.967427  0.675686    True\n",
       "WT  0.960308  0.607598    True"
      ]
     },
     "execution_count": 26,
     "metadata": {},
     "output_type": "execute_result"
    }
   ],
   "source": [
    "pg.normality(data = sp_tidy, dv = 'Spines', group = 'Genotype')"
   ]
  },
  {
   "cell_type": "code",
   "execution_count": 27,
   "metadata": {},
   "outputs": [
    {
     "data": {
      "text/html": [
       "<div>\n",
       "<style scoped>\n",
       "    .dataframe tbody tr th:only-of-type {\n",
       "        vertical-align: middle;\n",
       "    }\n",
       "\n",
       "    .dataframe tbody tr th {\n",
       "        vertical-align: top;\n",
       "    }\n",
       "\n",
       "    .dataframe thead th {\n",
       "        text-align: right;\n",
       "    }\n",
       "</style>\n",
       "<table border=\"1\" class=\"dataframe\">\n",
       "  <thead>\n",
       "    <tr style=\"text-align: right;\">\n",
       "      <th></th>\n",
       "      <th>T</th>\n",
       "      <th>dof</th>\n",
       "      <th>tail</th>\n",
       "      <th>p-val</th>\n",
       "      <th>CI95%</th>\n",
       "      <th>cohen-d</th>\n",
       "      <th>BF10</th>\n",
       "      <th>power</th>\n",
       "    </tr>\n",
       "  </thead>\n",
       "  <tbody>\n",
       "    <tr>\n",
       "      <th>T-test</th>\n",
       "      <td>1.482769</td>\n",
       "      <td>28.679949</td>\n",
       "      <td>two-sided</td>\n",
       "      <td>0.149042</td>\n",
       "      <td>[-0.84, 5.23]</td>\n",
       "      <td>0.491298</td>\n",
       "      <td>0.738</td>\n",
       "      <td>0.319438</td>\n",
       "    </tr>\n",
       "  </tbody>\n",
       "</table>\n",
       "</div>"
      ],
      "text/plain": [
       "               T        dof       tail     p-val          CI95%   cohen-d  \\\n",
       "T-test  1.482769  28.679949  two-sided  0.149042  [-0.84, 5.23]  0.491298   \n",
       "\n",
       "         BF10     power  \n",
       "T-test  0.738  0.319438  "
      ]
     },
     "execution_count": 27,
     "metadata": {},
     "output_type": "execute_result"
    }
   ],
   "source": [
    "pg.ttest(sp_tidy['Spines'][sp_tidy['Genotype']=='WT'], sp_tidy['Spines'][sp_tidy['Genotype']=='KO'])"
   ]
  },
  {
   "cell_type": "markdown",
   "metadata": {},
   "source": [
    "#### A tendency in the other direction, not significant"
   ]
  },
  {
   "cell_type": "markdown",
   "metadata": {},
   "source": [
    "## Mossy Fiber Buttons"
   ]
  },
  {
   "cell_type": "code",
   "execution_count": 29,
   "metadata": {},
   "outputs": [],
   "source": [
    "mfb_df = pd.read_csv('/Users/labc02/Documents/PDCB_data/Morphometry/MFB_database.csv')"
   ]
  },
  {
   "cell_type": "code",
   "execution_count": 30,
   "metadata": {},
   "outputs": [
    {
     "data": {
      "text/plain": [
       "Index(['ID', 'Genotype', 'Filopoia', 'Volume', 'Cr_Diameter'], dtype='object')"
      ]
     },
     "execution_count": 30,
     "metadata": {},
     "output_type": "execute_result"
    }
   ],
   "source": [
    "mfb_df.columns"
   ]
  },
  {
   "cell_type": "code",
   "execution_count": 31,
   "metadata": {},
   "outputs": [
    {
     "data": {
      "text/plain": [
       "Genotype\n",
       "KO    35\n",
       "WT    49\n",
       "Name: ID, dtype: int64"
      ]
     },
     "execution_count": 31,
     "metadata": {},
     "output_type": "execute_result"
    }
   ],
   "source": [
    "mfb_df.groupby('Genotype')['ID'].count()"
   ]
  },
  {
   "cell_type": "markdown",
   "metadata": {},
   "source": [
    "#### Filopodia"
   ]
  },
  {
   "cell_type": "code",
   "execution_count": 32,
   "metadata": {},
   "outputs": [],
   "source": [
    "ko_fil = mfb_df['Filopoia'][mfb_df['Genotype'] == 'KO']\n",
    "wt_fil = mfb_df['Filopoia'][mfb_df['Genotype'] == 'WT']\n"
   ]
  },
  {
   "cell_type": "code",
   "execution_count": 33,
   "metadata": {},
   "outputs": [],
   "source": [
    "# ECDF for filopodia\n",
    "wt_fil_ecdf = ecdf(wt_fil)\n",
    "ko_fil_ecdf = ecdf(ko_fil)"
   ]
  },
  {
   "cell_type": "code",
   "execution_count": 290,
   "metadata": {},
   "outputs": [
    {
     "data": {
      "image/png": "[encoded data removed]",
      "text/plain": [
       "<Figure size 216x144 with 1 Axes>"
      ]
     },
     "metadata": {
      "needs_background": "light"
     },
     "output_type": "display_data"
    }
   ],
   "source": [
    "fil_fig = plt.figure(figsize = (3, 2))\n",
    "\n",
    "fil_ax = plt.subplot()\n",
    "fil_ax.plot(wt_fil_ecdf[0], wt_fil_ecdf[1], color = 'royalblue')\n",
    "fil_ax.plot(ko_fil_ecdf[0], ko_fil_ecdf[1], color = 'forestgreen')\n",
    "fil_ax.spines['right'].set_visible(False)\n",
    "fil_ax.spines['top'].set_visible(False)\n",
    "fil_ax.set_xlabel('No. of Filopodia')\n",
    "fil_ax.set_ylabel('Cum. Pb.')\n",
    "\n",
    "box_ax = fil_ax.inset_axes([0.7, 0.2, 0.3, 0.6])\n",
    "sns.boxplot(data = mfb_df, x = 'Genotype', y = 'Filopoia', palette=['royalblue', 'forestgreen'], order = ['WT', 'KO'], showmeans=True, showfliers = False, meanprops={'marker':'+', 'markeredgecolor':'k'}, width=0.4, ax = box_ax)\n",
    "box_ax.set_ylabel('Filopodia')\n",
    "box_ax.set_xlabel('')\n",
    "box_ax.spines['right'].set_visible(False)\n",
    "box_ax.spines['top'].set_visible(False)\n",
    "\n",
    "plt.tight_layout()\n"
   ]
  },
  {
   "cell_type": "code",
   "execution_count": 291,
   "metadata": {},
   "outputs": [],
   "source": [
    "fil_fig.savefig('/Users/labc02/Documents/PDCB_data/Morphometry/Figures/filopodia.svg')"
   ]
  },
  {
   "cell_type": "code",
   "execution_count": 44,
   "metadata": {},
   "outputs": [
    {
     "data": {
      "text/html": [
       "<div>\n",
       "<style scoped>\n",
       "    .dataframe tbody tr th:only-of-type {\n",
       "        vertical-align: middle;\n",
       "    }\n",
       "\n",
       "    .dataframe tbody tr th {\n",
       "        vertical-align: top;\n",
       "    }\n",
       "\n",
       "    .dataframe thead th {\n",
       "        text-align: right;\n",
       "    }\n",
       "</style>\n",
       "<table border=\"1\" class=\"dataframe\">\n",
       "  <thead>\n",
       "    <tr style=\"text-align: right;\">\n",
       "      <th></th>\n",
       "      <th>U-val</th>\n",
       "      <th>tail</th>\n",
       "      <th>p-val</th>\n",
       "      <th>RBC</th>\n",
       "      <th>CLES</th>\n",
       "    </tr>\n",
       "  </thead>\n",
       "  <tbody>\n",
       "    <tr>\n",
       "      <th>MWU</th>\n",
       "      <td>989.0</td>\n",
       "      <td>greater</td>\n",
       "      <td>0.111604</td>\n",
       "      <td>-0.153353</td>\n",
       "      <td>0.478134</td>\n",
       "    </tr>\n",
       "  </tbody>\n",
       "</table>\n",
       "</div>"
      ],
      "text/plain": [
       "     U-val     tail     p-val       RBC      CLES\n",
       "MWU  989.0  greater  0.111604 -0.153353  0.478134"
      ]
     },
     "execution_count": 44,
     "metadata": {},
     "output_type": "execute_result"
    }
   ],
   "source": [
    "# Mann-Whitney U\n",
    "pg.mwu(mfb_df['Filopoia'][mfb_df['Genotype']=='WT'], mfb_df['Filopoia'][mfb_df['Genotype']=='KO'], tail = 'greater')"
   ]
  },
  {
   "cell_type": "code",
   "execution_count": 45,
   "metadata": {},
   "outputs": [
    {
     "data": {
      "text/plain": [
       "Ks_2sampResult(statistic=0.14285714285714285, pvalue=0.9999997041284721)"
      ]
     },
     "execution_count": 45,
     "metadata": {},
     "output_type": "execute_result"
    }
   ],
   "source": [
    "# Kolmogorov-Smirnov for ECDF\n",
    "ks_2samp(wt_fil_ecdf[1], ko_fil_ecdf[1])"
   ]
  },
  {
   "cell_type": "markdown",
   "metadata": {},
   "source": [
    "### Volume"
   ]
  },
  {
   "cell_type": "code",
   "execution_count": 47,
   "metadata": {},
   "outputs": [],
   "source": [
    "ko_vol = mfb_df['Volume'][mfb_df['Genotype'] == 'KO'].round()\n",
    "wt_vol = mfb_df['Volume'][mfb_df['Genotype'] == 'WT'].round()\n",
    "\n",
    "# ECDF for filopodia\n",
    "wt_vol_ecdf = ecdf(wt_vol)\n",
    "ko_vol_ecdf = ecdf(ko_vol)"
   ]
  },
  {
   "cell_type": "code",
   "execution_count": 75,
   "metadata": {},
   "outputs": [
    {
     "data": {
      "image/png": "[encoded data removed]",
      "text/plain": [
       "<Figure size 216x144 with 1 Axes>"
      ]
     },
     "metadata": {
      "needs_background": "light"
     },
     "output_type": "display_data"
    }
   ],
   "source": [
    "vol_fig = plt.figure(figsize = (3, 2))\n",
    "\n",
    "vol_ax = plt.subplot()\n",
    "vol_ax.plot(wt_vol_ecdf[0], wt_vol_ecdf[1], color = 'royalblue')\n",
    "vol_ax.plot(ko_vol_ecdf[0], ko_vol_ecdf[1], color = 'forestgreen')\n",
    "vol_ax.spines['right'].set_visible(False)\n",
    "vol_ax.spines['top'].set_visible(False)\n",
    "vol_ax.set_xlabel(r'Volume $\\mu m^3$')\n",
    "vol_ax.set_ylabel('Cum. Pb.')\n",
    "\n",
    "box_ax = vol_ax.inset_axes([0.7, 0.2, 0.3, 0.5])\n",
    "sns.boxplot(data = mfb_df, x = 'Genotype', y = 'Volume', palette=['royalblue', 'forestgreen'], order = ['WT', 'KO'], showmeans=True, showfliers = False, meanprops={'marker':'+', 'markeredgecolor':'k'}, width=0.4, ax = box_ax)\n",
    "box_ax.yaxis.tick_right()\n",
    "box_ax.yaxis.set_label_position(\"right\")\n",
    "box_ax.set_ylabel(r'Vol.')\n",
    "box_ax.set_xlabel('')\n",
    "box_ax.spines['left'].set_visible(False)\n",
    "box_ax.spines['top'].set_visible(False)\n",
    "box_ax.set_ylim(0, 55)\n",
    "box_ax.annotate('*', xy = (0.5, 0.95), xytext = (0.5, 0.98), xycoords = 'axes fraction', ha = 'center', arrowprops=dict(arrowstyle='-[, widthB=1, lengthB=.2', lw=1, color='k'), fontsize = 10)\n",
    "\n",
    "plt.tight_layout()"
   ]
  },
  {
   "cell_type": "code",
   "execution_count": 76,
   "metadata": {},
   "outputs": [],
   "source": [
    "vol_fig.savefig('/Users/labc02/Documents/PDCB_data/Morphometry/Figures/MFBvol.svg')"
   ]
  },
  {
   "cell_type": "code",
   "execution_count": 71,
   "metadata": {},
   "outputs": [
    {
     "data": {
      "text/plain": [
       "Ks_2sampResult(statistic=0.20142857142857143, pvalue=0.5762251456982352)"
      ]
     },
     "execution_count": 71,
     "metadata": {},
     "output_type": "execute_result"
    }
   ],
   "source": [
    "# Kolmogorov-Smirnov for ECDF\n",
    "ks_2samp(wt_vol_ecdf[1], ko_vol_ecdf[1])"
   ]
  },
  {
   "cell_type": "code",
   "execution_count": 72,
   "metadata": {},
   "outputs": [
    {
     "data": {
      "text/html": [
       "<div>\n",
       "<style scoped>\n",
       "    .dataframe tbody tr th:only-of-type {\n",
       "        vertical-align: middle;\n",
       "    }\n",
       "\n",
       "    .dataframe tbody tr th {\n",
       "        vertical-align: top;\n",
       "    }\n",
       "\n",
       "    .dataframe thead th {\n",
       "        text-align: right;\n",
       "    }\n",
       "</style>\n",
       "<table border=\"1\" class=\"dataframe\">\n",
       "  <thead>\n",
       "    <tr style=\"text-align: right;\">\n",
       "      <th></th>\n",
       "      <th>W</th>\n",
       "      <th>pval</th>\n",
       "      <th>normal</th>\n",
       "    </tr>\n",
       "  </thead>\n",
       "  <tbody>\n",
       "    <tr>\n",
       "      <th>KO</th>\n",
       "      <td>0.929359</td>\n",
       "      <td>0.026775</td>\n",
       "      <td>False</td>\n",
       "    </tr>\n",
       "    <tr>\n",
       "      <th>WT</th>\n",
       "      <td>0.978252</td>\n",
       "      <td>0.494352</td>\n",
       "      <td>True</td>\n",
       "    </tr>\n",
       "  </tbody>\n",
       "</table>\n",
       "</div>"
      ],
      "text/plain": [
       "           W      pval  normal\n",
       "KO  0.929359  0.026775   False\n",
       "WT  0.978252  0.494352    True"
      ]
     },
     "execution_count": 72,
     "metadata": {},
     "output_type": "execute_result"
    }
   ],
   "source": [
    "pg.normality(data = mfb_df, dv = 'Volume', group = 'Genotype')"
   ]
  },
  {
   "cell_type": "code",
   "execution_count": 73,
   "metadata": {},
   "outputs": [
    {
     "data": {
      "text/html": [
       "<div>\n",
       "<style scoped>\n",
       "    .dataframe tbody tr th:only-of-type {\n",
       "        vertical-align: middle;\n",
       "    }\n",
       "\n",
       "    .dataframe tbody tr th {\n",
       "        vertical-align: top;\n",
       "    }\n",
       "\n",
       "    .dataframe thead th {\n",
       "        text-align: right;\n",
       "    }\n",
       "</style>\n",
       "<table border=\"1\" class=\"dataframe\">\n",
       "  <thead>\n",
       "    <tr style=\"text-align: right;\">\n",
       "      <th></th>\n",
       "      <th>U-val</th>\n",
       "      <th>tail</th>\n",
       "      <th>p-val</th>\n",
       "      <th>RBC</th>\n",
       "      <th>CLES</th>\n",
       "    </tr>\n",
       "  </thead>\n",
       "  <tbody>\n",
       "    <tr>\n",
       "      <th>MWU</th>\n",
       "      <td>1056.5</td>\n",
       "      <td>greater</td>\n",
       "      <td>0.035852</td>\n",
       "      <td>-0.23207</td>\n",
       "      <td>0.615743</td>\n",
       "    </tr>\n",
       "  </tbody>\n",
       "</table>\n",
       "</div>"
      ],
      "text/plain": [
       "      U-val     tail     p-val      RBC      CLES\n",
       "MWU  1056.5  greater  0.035852 -0.23207  0.615743"
      ]
     },
     "execution_count": 73,
     "metadata": {},
     "output_type": "execute_result"
    }
   ],
   "source": [
    "# Mann-Whitney U\n",
    "pg.mwu(mfb_df['Volume'][mfb_df['Genotype']=='WT'], mfb_df['Volume'][mfb_df['Genotype']=='KO'], tail = 'greater')"
   ]
  },
  {
   "cell_type": "markdown",
   "metadata": {},
   "source": [
    "#### Smaller volume in average for KO"
   ]
  },
  {
   "cell_type": "code",
   "execution_count": 321,
   "metadata": {},
   "outputs": [
    {
     "data": {
      "image/png": "[encoded data removed]",
      "text/plain": [
       "<Figure size 144x144 with 1 Axes>"
      ]
     },
     "metadata": {
      "needs_background": "light"
     },
     "output_type": "display_data"
    }
   ],
   "source": [
    "volume_dist = plt.figure(figsize=(2,2))\n",
    "\n",
    "sns.distplot(mfb_df['Volume'][mfb_df['Genotype']== 'WT'], hist = True, color = 'royalblue', bins = 20, kde = True)\n",
    "sns.distplot(mfb_df['Volume'][mfb_df['Genotype']== 'KO'], hist= True, color = 'forestgreen', bins = 20, kde = True)\n",
    "sns.despine()\n",
    "plt.ylabel('Density')\n",
    "plt.xlabel(r'Volume $\\mu m^3$')\n",
    "plt.tight_layout()"
   ]
  },
  {
   "cell_type": "code",
   "execution_count": 322,
   "metadata": {},
   "outputs": [],
   "source": [
    "volume_dist.savefig('/Users/labc02/Documents/PDCB_data/Morphometry/Figures/MFBdist.svg')"
   ]
  },
  {
   "cell_type": "markdown",
   "metadata": {},
   "source": [
    "## Cross-sectional Diameter"
   ]
  },
  {
   "cell_type": "code",
   "execution_count": 111,
   "metadata": {},
   "outputs": [],
   "source": [
    "ko_dmt = mfb_df['Cr_Diameter'][mfb_df['Genotype'] == 'KO'].round()\n",
    "wt_dmt = mfb_df['Cr_Diameter'][mfb_df['Genotype'] == 'WT'].round()\n",
    "\n",
    "# ECDF for filopodia\n",
    "wt_dmt_ecdf = ecdf(wt_dmt)\n",
    "ko_dmt_ecdf = ecdf(ko_dmt)"
   ]
  },
  {
   "cell_type": "code",
   "execution_count": 112,
   "metadata": {},
   "outputs": [
    {
     "data": {
      "text/plain": [
       "Text(0.5, 0.97, '***')"
      ]
     },
     "execution_count": 112,
     "metadata": {},
     "output_type": "execute_result"
    },
    {
     "data": {
      "image/png": "[encoded data removed]",
      "text/plain": [
       "<Figure size 360x288 with 1 Axes>"
      ]
     },
     "metadata": {
      "needs_background": "light"
     },
     "output_type": "display_data"
    }
   ],
   "source": [
    "dmt_fig = plt.figure(figsize = (5, 4))\n",
    "\n",
    "dmt_ax = plt.subplot()\n",
    "dmt_ax.plot(wt_dmt_ecdf[0], wt_dmt_ecdf[1], color = 'royalblue')\n",
    "dmt_ax.plot(ko_dmt_ecdf[0], ko_dmt_ecdf[1], color = 'forestgreen')\n",
    "dmt_ax.spines['right'].set_visible(False)\n",
    "dmt_ax.spines['top'].set_visible(False)\n",
    "dmt_ax.set_xlabel(r'Diameter $\\mu m$')\n",
    "dmt_ax.set_ylabel('Cum. Pb.')\n",
    "\n",
    "box_ax = dmt_ax.inset_axes([0.7, 0.1, 0.3, 0.5])\n",
    "sns.boxplot(data = mfb_df, x = 'Genotype', y = 'Cr_Diameter', palette=['royalblue', 'forestgreen'], order = ['WT', 'KO'], showmeans=True, showfliers = False, meanprops={'marker':'+', 'markeredgecolor':'k'}, width=0.4, ax = box_ax)\n",
    "box_ax.set_ylabel(r'Diameter $\\mu m$')\n",
    "box_ax.set_xlabel('')\n",
    "box_ax.spines['right'].set_visible(False)\n",
    "box_ax.spines['top'].set_visible(False)\n",
    "box_ax.set_ylim(1, 9)\n",
    "box_ax.annotate('***', xy = (0.5, 0.95), xytext = (0.5, 0.97), xycoords = 'axes fraction', ha = 'center', arrowprops=dict(arrowstyle='-[, widthB=2, lengthB=.2', lw=1.5, color='k'), fontsize = 10)\n",
    "\n"
   ]
  },
  {
   "cell_type": "code",
   "execution_count": 113,
   "metadata": {},
   "outputs": [
    {
     "data": {
      "text/plain": [
       "Ks_2sampResult(statistic=0.21428571428571427, pvalue=0.9906759906759907)"
      ]
     },
     "execution_count": 113,
     "metadata": {},
     "output_type": "execute_result"
    }
   ],
   "source": [
    "# Kolmogorov-Smirnov for ECDF\n",
    "ks_2samp(wt_dmt_ecdf[1], ko_dmt_ecdf[1])"
   ]
  },
  {
   "cell_type": "code",
   "execution_count": 114,
   "metadata": {},
   "outputs": [
    {
     "data": {
      "text/html": [
       "<div>\n",
       "<style scoped>\n",
       "    .dataframe tbody tr th:only-of-type {\n",
       "        vertical-align: middle;\n",
       "    }\n",
       "\n",
       "    .dataframe tbody tr th {\n",
       "        vertical-align: top;\n",
       "    }\n",
       "\n",
       "    .dataframe thead th {\n",
       "        text-align: right;\n",
       "    }\n",
       "</style>\n",
       "<table border=\"1\" class=\"dataframe\">\n",
       "  <thead>\n",
       "    <tr style=\"text-align: right;\">\n",
       "      <th></th>\n",
       "      <th>W</th>\n",
       "      <th>pval</th>\n",
       "      <th>normal</th>\n",
       "    </tr>\n",
       "  </thead>\n",
       "  <tbody>\n",
       "    <tr>\n",
       "      <th>KO</th>\n",
       "      <td>0.976908</td>\n",
       "      <td>0.656722</td>\n",
       "      <td>True</td>\n",
       "    </tr>\n",
       "    <tr>\n",
       "      <th>WT</th>\n",
       "      <td>0.983042</td>\n",
       "      <td>0.696972</td>\n",
       "      <td>True</td>\n",
       "    </tr>\n",
       "  </tbody>\n",
       "</table>\n",
       "</div>"
      ],
      "text/plain": [
       "           W      pval  normal\n",
       "KO  0.976908  0.656722    True\n",
       "WT  0.983042  0.696972    True"
      ]
     },
     "execution_count": 114,
     "metadata": {},
     "output_type": "execute_result"
    }
   ],
   "source": [
    "pg.normality(data = mfb_df, dv = 'Cr_Diameter', group = 'Genotype')"
   ]
  },
  {
   "cell_type": "code",
   "execution_count": 115,
   "metadata": {},
   "outputs": [
    {
     "data": {
      "text/html": [
       "<div>\n",
       "<style scoped>\n",
       "    .dataframe tbody tr th:only-of-type {\n",
       "        vertical-align: middle;\n",
       "    }\n",
       "\n",
       "    .dataframe tbody tr th {\n",
       "        vertical-align: top;\n",
       "    }\n",
       "\n",
       "    .dataframe thead th {\n",
       "        text-align: right;\n",
       "    }\n",
       "</style>\n",
       "<table border=\"1\" class=\"dataframe\">\n",
       "  <thead>\n",
       "    <tr style=\"text-align: right;\">\n",
       "      <th></th>\n",
       "      <th>T</th>\n",
       "      <th>dof</th>\n",
       "      <th>tail</th>\n",
       "      <th>p-val</th>\n",
       "      <th>CI95%</th>\n",
       "      <th>cohen-d</th>\n",
       "      <th>BF10</th>\n",
       "      <th>power</th>\n",
       "    </tr>\n",
       "  </thead>\n",
       "  <tbody>\n",
       "    <tr>\n",
       "      <th>T-test</th>\n",
       "      <td>3.952724</td>\n",
       "      <td>62.307545</td>\n",
       "      <td>greater</td>\n",
       "      <td>0.0001</td>\n",
       "      <td>[0.68, inf]</td>\n",
       "      <td>0.909635</td>\n",
       "      <td>288.949</td>\n",
       "      <td>0.992473</td>\n",
       "    </tr>\n",
       "  </tbody>\n",
       "</table>\n",
       "</div>"
      ],
      "text/plain": [
       "               T        dof     tail   p-val        CI95%   cohen-d     BF10  \\\n",
       "T-test  3.952724  62.307545  greater  0.0001  [0.68, inf]  0.909635  288.949   \n",
       "\n",
       "           power  \n",
       "T-test  0.992473  "
      ]
     },
     "execution_count": 115,
     "metadata": {},
     "output_type": "execute_result"
    }
   ],
   "source": [
    "pg.ttest(mfb_df['Cr_Diameter'][mfb_df['Genotype']=='WT'], mfb_df['Cr_Diameter'][mfb_df['Genotype']=='KO'], tail = 'greater')"
   ]
  },
  {
   "cell_type": "code",
   "execution_count": 116,
   "metadata": {},
   "outputs": [],
   "source": [
    "# Linear regression for Diameter/vol\n",
    "\n",
    "wt_res = linregress(mfb_df['Cr_Diameter'][mfb_df['Genotype']== 'WT'], mfb_df['Volume'][mfb_df['Genotype']== 'WT'])"
   ]
  },
  {
   "cell_type": "code",
   "execution_count": 117,
   "metadata": {},
   "outputs": [
    {
     "data": {
      "text/plain": [
       "LinregressResult(slope=3.9967847080098062, intercept=5.055386111353226, rvalue=0.4875253569909244, pvalue=0.0003809404212348421, stderr=1.0440781249256288)"
      ]
     },
     "execution_count": 117,
     "metadata": {},
     "output_type": "execute_result"
    }
   ],
   "source": [
    "wt_res"
   ]
  },
  {
   "cell_type": "code",
   "execution_count": 118,
   "metadata": {},
   "outputs": [],
   "source": [
    "# Linear regression for Diameter/vol\n",
    "\n",
    "ko_res = linregress(mfb_df['Cr_Diameter'][mfb_df['Genotype']== 'KO'], mfb_df['Volume'][mfb_df['Genotype']== 'KO'])"
   ]
  },
  {
   "cell_type": "code",
   "execution_count": 119,
   "metadata": {},
   "outputs": [
    {
     "data": {
      "text/plain": [
       "LinregressResult(slope=6.921188821218585, intercept=-6.363234784694683, rvalue=0.7678760246745948, pvalue=7.297456346714532e-08, stderr=1.0051214071483086)"
      ]
     },
     "execution_count": 119,
     "metadata": {},
     "output_type": "execute_result"
    }
   ],
   "source": [
    "ko_res"
   ]
  },
  {
   "cell_type": "code",
   "execution_count": 120,
   "metadata": {},
   "outputs": [
    {
     "data": {
      "text/plain": [
       "Text(0, 0.5, 'Volume $\\\\mu m^3$')"
      ]
     },
     "execution_count": 120,
     "metadata": {},
     "output_type": "execute_result"
    },
    {
     "data": {
      "image/png": "[encoded data removed]",
      "text/plain": [
       "<Figure size 432x360 with 1 Axes>"
      ]
     },
     "metadata": {
      "needs_background": "light"
     },
     "output_type": "display_data"
    }
   ],
   "source": [
    "linres_fig = plt.figure(figsize=(6,5))\n",
    "linres_ax = plt.subplot()\n",
    "\n",
    "linres_ax.scatter(x = mfb_df['Cr_Diameter'][mfb_df['Genotype']== 'WT'], y = mfb_df['Volume'][mfb_df['Genotype']== 'WT'], s = 16, c = 'royalblue', marker = 'o')\n",
    "linres_ax.scatter(x = mfb_df['Cr_Diameter'][mfb_df['Genotype']== 'KO'], y = mfb_df['Volume'][mfb_df['Genotype']== 'KO'], s = 16, c = 'forestgreen', marker = 'o')\n",
    "\n",
    "linres_ax.plot(mfb_df['Cr_Diameter'][mfb_df['Genotype']== 'WT'], wt_res.intercept + wt_res.slope*mfb_df['Cr_Diameter'][mfb_df['Genotype']== 'WT'], color = 'royalblue')\n",
    "linres_ax.plot(mfb_df['Cr_Diameter'][mfb_df['Genotype']== 'WT'], wt_res.intercept + wt_res.slope*mfb_df['Cr_Diameter'][mfb_df['Genotype']== 'WT']+wt_res.stderr, color = 'royalblue', alpha = 0.2)\n",
    "linres_ax.plot(mfb_df['Cr_Diameter'][mfb_df['Genotype']== 'WT'], wt_res.intercept + wt_res.slope*mfb_df['Cr_Diameter'][mfb_df['Genotype']== 'WT']-wt_res.stderr, color = 'royalblue', alpha = 0.2)\n",
    "\n",
    "linres_ax.plot(mfb_df['Cr_Diameter'][mfb_df['Genotype']== 'KO'], ko_res.intercept + ko_res.slope*mfb_df['Cr_Diameter'][mfb_df['Genotype']== 'KO'], color = 'forestgreen')\n",
    "linres_ax.plot(mfb_df['Cr_Diameter'][mfb_df['Genotype']== 'KO'], ko_res.intercept + ko_res.slope*mfb_df['Cr_Diameter'][mfb_df['Genotype']== 'KO']+ko_res.stderr, color = 'forestgreen', alpha = 0.2)\n",
    "linres_ax.plot(mfb_df['Cr_Diameter'][mfb_df['Genotype']== 'KO'], ko_res.intercept + ko_res.slope*mfb_df['Cr_Diameter'][mfb_df['Genotype']== 'KO']-ko_res.stderr, color = 'forestgreen', alpha = 0.2)\n",
    "\n",
    "linres_ax.spines['right'].set_visible(False)\n",
    "linres_ax.spines['top'].set_visible(False)\n",
    "linres_ax.set_xlabel(r'Diameter $\\mu m$')\n",
    "linres_ax.set_ylabel(r'Volume $\\mu m^3$')\n",
    "\n"
   ]
  },
  {
   "cell_type": "code",
   "execution_count": 121,
   "metadata": {},
   "outputs": [],
   "source": [
    "# table of observations\n",
    "\n",
    "fish_ex = fisher_exact([[49, 49], [31, 47]], alternative = 'greater')"
   ]
  },
  {
   "cell_type": "code",
   "execution_count": 122,
   "metadata": {},
   "outputs": [
    {
     "data": {
      "text/plain": [
       "(1.5161290322580645, 0.1139866294295433)"
      ]
     },
     "execution_count": 122,
     "metadata": {},
     "output_type": "execute_result"
    }
   ],
   "source": [
    "fish_ex"
   ]
  },
  {
   "cell_type": "code",
   "execution_count": 123,
   "metadata": {},
   "outputs": [
    {
     "data": {
      "text/plain": [
       "(1.452276295133437,\n",
       " 0.22816305264533898,\n",
       " 1,\n",
       " array([[44.54545455, 53.45454545],\n",
       "        [35.45454545, 42.54545455]]))"
      ]
     },
     "execution_count": 123,
     "metadata": {},
     "output_type": "execute_result"
    }
   ],
   "source": [
    "chi2_contingency([[49, 49], [31, 47]])"
   ]
  },
  {
   "cell_type": "code",
   "execution_count": 124,
   "metadata": {},
   "outputs": [],
   "source": [
    "# Range\n",
    "\n",
    "WT_range = mfb_df['Cr_Diameter'][mfb_df['Genotype']== 'WT'].max()-mfb_df['Cr_Diameter'][mfb_df['Genotype']== 'WT'].min()\n",
    "\n",
    "KO_range = mfb_df['Cr_Diameter'][mfb_df['Genotype']== 'KO'].max()-mfb_df['Cr_Diameter'][mfb_df['Genotype']== 'KO'].min()"
   ]
  },
  {
   "cell_type": "code",
   "execution_count": 125,
   "metadata": {},
   "outputs": [
    {
     "name": "stdout",
     "output_type": "stream",
     "text": [
      "Cr_Diameter Range: \n",
      " WT:5.15 \n",
      " KO:5.58\n"
     ]
    }
   ],
   "source": [
    "print(f'Cr_Diameter Range: \\n WT:{WT_range} \\n KO:{KO_range}')"
   ]
  },
  {
   "cell_type": "code",
   "execution_count": 126,
   "metadata": {},
   "outputs": [
    {
     "name": "stdout",
     "output_type": "stream",
     "text": [
      "Volume: \n",
      " WT:42.8 \n",
      " KO:43.900000000000006\n"
     ]
    }
   ],
   "source": [
    "# Range\n",
    "\n",
    "WT_range = mfb_df['Volume'][mfb_df['Genotype']== 'WT'].max()-mfb_df['Volume'][mfb_df['Genotype']== 'WT'].min()\n",
    "\n",
    "KO_range = mfb_df['Volume'][mfb_df['Genotype']== 'KO'].max()-mfb_df['Volume'][mfb_df['Genotype']== 'KO'].min()\n",
    "print(f'Volume: \\n WT:{WT_range} \\n KO:{KO_range}')"
   ]
  },
  {
   "cell_type": "code",
   "execution_count": 127,
   "metadata": {},
   "outputs": [
    {
     "data": {
      "text/plain": [
       "array([24.11111111, 25.7037037 , 27.2962963 , 28.88888889, 30.48148148,\n",
       "       32.07407407, 33.66666667, 35.25925926, 36.85185185, 38.44444444,\n",
       "       40.03703704, 41.62962963, 43.22222222, 44.81481481, 46.40740741,\n",
       "       48.        ])"
      ]
     },
     "execution_count": 127,
     "metadata": {},
     "output_type": "execute_result"
    }
   ],
   "source": [
    "wt_vol_ecdf[0][wt_vol_ecdf[1] >.5]"
   ]
  },
  {
   "cell_type": "code",
   "execution_count": 128,
   "metadata": {},
   "outputs": [
    {
     "data": {
      "text/plain": [
       "array([20.33333333, 22.16666667, 24.        , 25.83333333, 27.66666667,\n",
       "       29.5       , 31.33333333, 33.16666667, 35.        , 36.83333333,\n",
       "       38.66666667, 40.5       , 42.33333333, 44.16666667, 46.        ])"
      ]
     },
     "execution_count": 128,
     "metadata": {},
     "output_type": "execute_result"
    }
   ],
   "source": [
    "ko_vol_ecdf[0][ko_vol_ecdf[1] >.5]"
   ]
  },
  {
   "cell_type": "code",
   "execution_count": 129,
   "metadata": {},
   "outputs": [],
   "source": [
    "WT_50up = mfb_df[['Volume', 'Genotype']][(mfb_df['Genotype']== 'WT') & (mfb_df['Volume']>24)]\n",
    "KO_50up = mfb_df[['Volume', 'Genotype']][(mfb_df['Genotype']== 'KO') & (mfb_df['Volume']>20)]"
   ]
  },
  {
   "cell_type": "code",
   "execution_count": 130,
   "metadata": {},
   "outputs": [],
   "source": [
    "up_50 = pd.concat([WT_50up, KO_50up])"
   ]
  },
  {
   "cell_type": "code",
   "execution_count": 131,
   "metadata": {},
   "outputs": [
    {
     "data": {
      "text/plain": [
       "Text(0.5, 42.943999999999996, '')"
      ]
     },
     "execution_count": 131,
     "metadata": {},
     "output_type": "execute_result"
    },
    {
     "data": {
      "image/png": "[encoded data removed]",
      "text/plain": [
       "<Figure size 432x288 with 1 Axes>"
      ]
     },
     "metadata": {
      "needs_background": "light"
     },
     "output_type": "display_data"
    }
   ],
   "source": [
    "sns.boxplot(data = up_50, x = 'Genotype', y = 'Volume', palette=['royalblue', 'forestgreen'], order = ['WT', 'KO'], showmeans=True, showfliers = False, meanprops={'marker':'+', 'markeredgecolor':'k'}, width=0.4)\n",
    "plt.title('uppper 50%')\n",
    "box_ax.set_ylabel(r'Volume $\\mu m^3$')\n",
    "box_ax.set_xlabel('')"
   ]
  },
  {
   "cell_type": "code",
   "execution_count": 132,
   "metadata": {},
   "outputs": [
    {
     "data": {
      "text/html": [
       "<div>\n",
       "<style scoped>\n",
       "    .dataframe tbody tr th:only-of-type {\n",
       "        vertical-align: middle;\n",
       "    }\n",
       "\n",
       "    .dataframe tbody tr th {\n",
       "        vertical-align: top;\n",
       "    }\n",
       "\n",
       "    .dataframe thead th {\n",
       "        text-align: right;\n",
       "    }\n",
       "</style>\n",
       "<table border=\"1\" class=\"dataframe\">\n",
       "  <thead>\n",
       "    <tr style=\"text-align: right;\">\n",
       "      <th></th>\n",
       "      <th>W</th>\n",
       "      <th>pval</th>\n",
       "      <th>normal</th>\n",
       "    </tr>\n",
       "  </thead>\n",
       "  <tbody>\n",
       "    <tr>\n",
       "      <th>WT</th>\n",
       "      <td>0.950066</td>\n",
       "      <td>0.271840</td>\n",
       "      <td>True</td>\n",
       "    </tr>\n",
       "    <tr>\n",
       "      <th>KO</th>\n",
       "      <td>0.974560</td>\n",
       "      <td>0.905949</td>\n",
       "      <td>True</td>\n",
       "    </tr>\n",
       "  </tbody>\n",
       "</table>\n",
       "</div>"
      ],
      "text/plain": [
       "           W      pval  normal\n",
       "WT  0.950066  0.271840    True\n",
       "KO  0.974560  0.905949    True"
      ]
     },
     "execution_count": 132,
     "metadata": {},
     "output_type": "execute_result"
    }
   ],
   "source": [
    "pg.normality(data = up_50, dv = 'Volume', group = 'Genotype')"
   ]
  },
  {
   "cell_type": "code",
   "execution_count": 133,
   "metadata": {},
   "outputs": [
    {
     "data": {
      "text/html": [
       "<div>\n",
       "<style scoped>\n",
       "    .dataframe tbody tr th:only-of-type {\n",
       "        vertical-align: middle;\n",
       "    }\n",
       "\n",
       "    .dataframe tbody tr th {\n",
       "        vertical-align: top;\n",
       "    }\n",
       "\n",
       "    .dataframe thead th {\n",
       "        text-align: right;\n",
       "    }\n",
       "</style>\n",
       "<table border=\"1\" class=\"dataframe\">\n",
       "  <thead>\n",
       "    <tr style=\"text-align: right;\">\n",
       "      <th></th>\n",
       "      <th>T</th>\n",
       "      <th>dof</th>\n",
       "      <th>tail</th>\n",
       "      <th>p-val</th>\n",
       "      <th>CI95%</th>\n",
       "      <th>cohen-d</th>\n",
       "      <th>BF10</th>\n",
       "      <th>power</th>\n",
       "    </tr>\n",
       "  </thead>\n",
       "  <tbody>\n",
       "    <tr>\n",
       "      <th>T-test</th>\n",
       "      <td>0.04174</td>\n",
       "      <td>29.709133</td>\n",
       "      <td>greater</td>\n",
       "      <td>0.483493</td>\n",
       "      <td>[-3.46, inf]</td>\n",
       "      <td>0.013787</td>\n",
       "      <td>0.628</td>\n",
       "      <td>0.05448</td>\n",
       "    </tr>\n",
       "  </tbody>\n",
       "</table>\n",
       "</div>"
      ],
      "text/plain": [
       "              T        dof     tail     p-val         CI95%   cohen-d   BF10  \\\n",
       "T-test  0.04174  29.709133  greater  0.483493  [-3.46, inf]  0.013787  0.628   \n",
       "\n",
       "          power  \n",
       "T-test  0.05448  "
      ]
     },
     "execution_count": 133,
     "metadata": {},
     "output_type": "execute_result"
    }
   ],
   "source": [
    "pg.ttest(up_50['Volume'][up_50['Genotype']=='WT'], up_50['Volume'][up_50['Genotype']=='KO'], tail = 'greater')"
   ]
  },
  {
   "cell_type": "code",
   "execution_count": 134,
   "metadata": {},
   "outputs": [],
   "source": [
    "WT_50down = mfb_df[['Volume', 'Genotype']][(mfb_df['Genotype']== 'WT') & (mfb_df['Volume']<24)]\n",
    "KO_50down = mfb_df[['Volume', 'Genotype']][(mfb_df['Genotype']== 'KO') & (mfb_df['Volume']<20)]\n",
    "down_50 = pd.concat([WT_50down, KO_50down])"
   ]
  },
  {
   "cell_type": "code",
   "execution_count": 161,
   "metadata": {},
   "outputs": [
    {
     "data": {
      "image/png": "[encoded data removed]",
      "text/plain": [
       "<Figure size 144x144 with 1 Axes>"
      ]
     },
     "metadata": {
      "needs_background": "light"
     },
     "output_type": "display_data"
    }
   ],
   "source": [
    "lower_50 = plt.figure(figsize = (2,2))\n",
    "sns.boxplot(data = down_50, x = 'Genotype', y = 'Volume', palette=['royalblue', 'forestgreen'], order = ['WT', 'KO'], showmeans=True, showfliers = False, meanprops={'marker':'+', 'markeredgecolor':'k'}, width=0.4)\n",
    "sns.despine()\n",
    "plt.ylabel(r'Volume $\\mu m^3$')\n",
    "plt.ylim([1, 27])\n",
    "plt.xlabel('')\n",
    "plt.annotate('***', xy = (0.5, 0.99), xytext = (0.5, 0.99), xycoords = 'axes fraction', ha = 'center', arrowprops=dict(arrowstyle='-[, widthB=2, lengthB=.2', lw=1.5, color='k'), fontsize = 10)\n",
    "plt.tight_layout()\n"
   ]
  },
  {
   "cell_type": "code",
   "execution_count": 162,
   "metadata": {},
   "outputs": [],
   "source": [
    "lower_50.savefig('/Users/labc02/Documents/PDCB_data/Morphometry/Figures/MFBlower50.svg')"
   ]
  },
  {
   "cell_type": "code",
   "execution_count": 141,
   "metadata": {},
   "outputs": [
    {
     "data": {
      "text/html": [
       "<div>\n",
       "<style scoped>\n",
       "    .dataframe tbody tr th:only-of-type {\n",
       "        vertical-align: middle;\n",
       "    }\n",
       "\n",
       "    .dataframe tbody tr th {\n",
       "        vertical-align: top;\n",
       "    }\n",
       "\n",
       "    .dataframe thead th {\n",
       "        text-align: right;\n",
       "    }\n",
       "</style>\n",
       "<table border=\"1\" class=\"dataframe\">\n",
       "  <thead>\n",
       "    <tr style=\"text-align: right;\">\n",
       "      <th></th>\n",
       "      <th>W</th>\n",
       "      <th>pval</th>\n",
       "      <th>normal</th>\n",
       "    </tr>\n",
       "  </thead>\n",
       "  <tbody>\n",
       "    <tr>\n",
       "      <th>WT</th>\n",
       "      <td>0.922846</td>\n",
       "      <td>0.059503</td>\n",
       "      <td>True</td>\n",
       "    </tr>\n",
       "    <tr>\n",
       "      <th>KO</th>\n",
       "      <td>0.880167</td>\n",
       "      <td>0.021615</td>\n",
       "      <td>False</td>\n",
       "    </tr>\n",
       "  </tbody>\n",
       "</table>\n",
       "</div>"
      ],
      "text/plain": [
       "           W      pval  normal\n",
       "WT  0.922846  0.059503    True\n",
       "KO  0.880167  0.021615   False"
      ]
     },
     "execution_count": 141,
     "metadata": {},
     "output_type": "execute_result"
    }
   ],
   "source": [
    "pg.normality(data = down_50, dv = 'Volume', group = 'Genotype')"
   ]
  },
  {
   "cell_type": "code",
   "execution_count": 142,
   "metadata": {},
   "outputs": [
    {
     "data": {
      "text/html": [
       "<div>\n",
       "<style scoped>\n",
       "    .dataframe tbody tr th:only-of-type {\n",
       "        vertical-align: middle;\n",
       "    }\n",
       "\n",
       "    .dataframe tbody tr th {\n",
       "        vertical-align: top;\n",
       "    }\n",
       "\n",
       "    .dataframe thead th {\n",
       "        text-align: right;\n",
       "    }\n",
       "</style>\n",
       "<table border=\"1\" class=\"dataframe\">\n",
       "  <thead>\n",
       "    <tr style=\"text-align: right;\">\n",
       "      <th></th>\n",
       "      <th>U-val</th>\n",
       "      <th>tail</th>\n",
       "      <th>p-val</th>\n",
       "      <th>RBC</th>\n",
       "      <th>CLES</th>\n",
       "    </tr>\n",
       "  </thead>\n",
       "  <tbody>\n",
       "    <tr>\n",
       "      <th>MWU</th>\n",
       "      <td>398.0</td>\n",
       "      <td>greater</td>\n",
       "      <td>0.000075</td>\n",
       "      <td>-0.675789</td>\n",
       "      <td>0.837895</td>\n",
       "    </tr>\n",
       "  </tbody>\n",
       "</table>\n",
       "</div>"
      ],
      "text/plain": [
       "     U-val     tail     p-val       RBC      CLES\n",
       "MWU  398.0  greater  0.000075 -0.675789  0.837895"
      ]
     },
     "execution_count": 142,
     "metadata": {},
     "output_type": "execute_result"
    }
   ],
   "source": [
    "# Mann-Whitney U\n",
    "pg.mwu(down_50['Volume'][down_50['Genotype']=='WT'], down_50['Volume'][down_50['Genotype']=='KO'], tail = 'greater')"
   ]
  },
  {
   "cell_type": "markdown",
   "metadata": {},
   "source": [
    "# Microglia Density"
   ]
  },
  {
   "cell_type": "code",
   "execution_count": 163,
   "metadata": {},
   "outputs": [],
   "source": [
    "mgl_count = pd.read_csv('/Users/labc02/Documents/PDCB_data/Morphometry/microglia_density.csv')"
   ]
  },
  {
   "cell_type": "code",
   "execution_count": 295,
   "metadata": {},
   "outputs": [
    {
     "data": {
      "image/png": "[encoded data removed]",
      "text/plain": [
       "<Figure size 216x144 with 1 Axes>"
      ]
     },
     "metadata": {
      "needs_background": "light"
     },
     "output_type": "display_data"
    }
   ],
   "source": [
    "mgl_density = plt.figure(figsize=(3,2))\n",
    "ax_ = sns.boxplot(data= mgl_count, x = 'Age', y = 'No_Microglia', hue = 'Genotype', palette=['royalblue', 'forestgreen'], showmeans=True, showfliers = False, meanprops={'marker':'+', 'markeredgecolor':'k'}, width = 0.4)\n",
    "sns.despine()\n",
    "plt.ylabel('Migroglia / Field')\n",
    "plt.xlabel('')\n",
    "ax_.set_xticklabels(['P10', 'Adult'])\n",
    "plt.ylim(1, 16)\n",
    "plt.annotate('***', xy = (0.25, 0.99), xytext = (0.25, 1), xycoords = 'axes fraction', ha = 'center', arrowprops=dict(arrowstyle='-[, widthB=.9, lengthB=.3', lw=1.5, color='k'), fontsize = 10)\n",
    "ax_.get_legend().remove()\n",
    "plt.tight_layout()\n"
   ]
  },
  {
   "cell_type": "code",
   "execution_count": 296,
   "metadata": {},
   "outputs": [],
   "source": [
    "mgl_density.savefig('/Users/labc02/Documents/PDCB_data/Morphometry/Figures/mgl_density.svg')"
   ]
  },
  {
   "cell_type": "code",
   "execution_count": 188,
   "metadata": {},
   "outputs": [
    {
     "data": {
      "text/html": [
       "<div>\n",
       "<style scoped>\n",
       "    .dataframe tbody tr th:only-of-type {\n",
       "        vertical-align: middle;\n",
       "    }\n",
       "\n",
       "    .dataframe tbody tr th {\n",
       "        vertical-align: top;\n",
       "    }\n",
       "\n",
       "    .dataframe thead th {\n",
       "        text-align: right;\n",
       "    }\n",
       "</style>\n",
       "<table border=\"1\" class=\"dataframe\">\n",
       "  <thead>\n",
       "    <tr style=\"text-align: right;\">\n",
       "      <th></th>\n",
       "      <th>W</th>\n",
       "      <th>pval</th>\n",
       "      <th>normal</th>\n",
       "    </tr>\n",
       "  </thead>\n",
       "  <tbody>\n",
       "    <tr>\n",
       "      <th>WT</th>\n",
       "      <td>0.918969</td>\n",
       "      <td>0.037288</td>\n",
       "      <td>False</td>\n",
       "    </tr>\n",
       "    <tr>\n",
       "      <th>KO</th>\n",
       "      <td>0.946760</td>\n",
       "      <td>0.178717</td>\n",
       "      <td>True</td>\n",
       "    </tr>\n",
       "  </tbody>\n",
       "</table>\n",
       "</div>"
      ],
      "text/plain": [
       "           W      pval  normal\n",
       "WT  0.918969  0.037288   False\n",
       "KO  0.946760  0.178717    True"
      ]
     },
     "execution_count": 188,
     "metadata": {},
     "output_type": "execute_result"
    }
   ],
   "source": [
    "pg.normality(data = mgl_count[mgl_count['Age']=='adult'], dv = 'No_Microglia', group = 'Genotype')"
   ]
  },
  {
   "cell_type": "code",
   "execution_count": 189,
   "metadata": {},
   "outputs": [
    {
     "data": {
      "text/html": [
       "<div>\n",
       "<style scoped>\n",
       "    .dataframe tbody tr th:only-of-type {\n",
       "        vertical-align: middle;\n",
       "    }\n",
       "\n",
       "    .dataframe tbody tr th {\n",
       "        vertical-align: top;\n",
       "    }\n",
       "\n",
       "    .dataframe thead th {\n",
       "        text-align: right;\n",
       "    }\n",
       "</style>\n",
       "<table border=\"1\" class=\"dataframe\">\n",
       "  <thead>\n",
       "    <tr style=\"text-align: right;\">\n",
       "      <th></th>\n",
       "      <th>W</th>\n",
       "      <th>pval</th>\n",
       "      <th>normal</th>\n",
       "    </tr>\n",
       "  </thead>\n",
       "  <tbody>\n",
       "    <tr>\n",
       "      <th>WT</th>\n",
       "      <td>0.904247</td>\n",
       "      <td>0.016753</td>\n",
       "      <td>False</td>\n",
       "    </tr>\n",
       "    <tr>\n",
       "      <th>KO</th>\n",
       "      <td>0.950479</td>\n",
       "      <td>0.220206</td>\n",
       "      <td>True</td>\n",
       "    </tr>\n",
       "  </tbody>\n",
       "</table>\n",
       "</div>"
      ],
      "text/plain": [
       "           W      pval  normal\n",
       "WT  0.904247  0.016753   False\n",
       "KO  0.950479  0.220206    True"
      ]
     },
     "execution_count": 189,
     "metadata": {},
     "output_type": "execute_result"
    }
   ],
   "source": [
    "pg.normality(data = mgl_count[mgl_count['Age']=='neo'], dv = 'No_Microglia', group = 'Genotype')"
   ]
  },
  {
   "cell_type": "code",
   "execution_count": 195,
   "metadata": {},
   "outputs": [
    {
     "data": {
      "text/html": [
       "<div>\n",
       "<style scoped>\n",
       "    .dataframe tbody tr th:only-of-type {\n",
       "        vertical-align: middle;\n",
       "    }\n",
       "\n",
       "    .dataframe tbody tr th {\n",
       "        vertical-align: top;\n",
       "    }\n",
       "\n",
       "    .dataframe thead th {\n",
       "        text-align: right;\n",
       "    }\n",
       "</style>\n",
       "<table border=\"1\" class=\"dataframe\">\n",
       "  <thead>\n",
       "    <tr style=\"text-align: right;\">\n",
       "      <th></th>\n",
       "      <th>U-val</th>\n",
       "      <th>tail</th>\n",
       "      <th>p-val</th>\n",
       "      <th>RBC</th>\n",
       "      <th>CLES</th>\n",
       "    </tr>\n",
       "  </thead>\n",
       "  <tbody>\n",
       "    <tr>\n",
       "      <th>MWU</th>\n",
       "      <td>670.0</td>\n",
       "      <td>two-sided</td>\n",
       "      <td>1.074890e-07</td>\n",
       "      <td>-0.838134</td>\n",
       "      <td>0.897119</td>\n",
       "    </tr>\n",
       "  </tbody>\n",
       "</table>\n",
       "</div>"
      ],
      "text/plain": [
       "     U-val       tail         p-val       RBC      CLES\n",
       "MWU  670.0  two-sided  1.074890e-07 -0.838134  0.897119"
      ]
     },
     "execution_count": 195,
     "metadata": {},
     "output_type": "execute_result"
    }
   ],
   "source": [
    "pg.mwu(mgl_count['No_Microglia'][(mgl_count['Age']=='neo') & (mgl_count['Genotype']=='WT')], mgl_count['No_Microglia'][(mgl_count['Age']=='neo') & (mgl_count['Genotype']=='KO')])\n",
    "\n"
   ]
  },
  {
   "cell_type": "code",
   "execution_count": 196,
   "metadata": {},
   "outputs": [
    {
     "data": {
      "text/html": [
       "<div>\n",
       "<style scoped>\n",
       "    .dataframe tbody tr th:only-of-type {\n",
       "        vertical-align: middle;\n",
       "    }\n",
       "\n",
       "    .dataframe tbody tr th {\n",
       "        vertical-align: top;\n",
       "    }\n",
       "\n",
       "    .dataframe thead th {\n",
       "        text-align: right;\n",
       "    }\n",
       "</style>\n",
       "<table border=\"1\" class=\"dataframe\">\n",
       "  <thead>\n",
       "    <tr style=\"text-align: right;\">\n",
       "      <th></th>\n",
       "      <th>U-val</th>\n",
       "      <th>tail</th>\n",
       "      <th>p-val</th>\n",
       "      <th>RBC</th>\n",
       "      <th>CLES</th>\n",
       "    </tr>\n",
       "  </thead>\n",
       "  <tbody>\n",
       "    <tr>\n",
       "      <th>MWU</th>\n",
       "      <td>418.5</td>\n",
       "      <td>two-sided</td>\n",
       "      <td>0.346358</td>\n",
       "      <td>-0.148148</td>\n",
       "      <td>0.491084</td>\n",
       "    </tr>\n",
       "  </tbody>\n",
       "</table>\n",
       "</div>"
      ],
      "text/plain": [
       "     U-val       tail     p-val       RBC      CLES\n",
       "MWU  418.5  two-sided  0.346358 -0.148148  0.491084"
      ]
     },
     "execution_count": 196,
     "metadata": {},
     "output_type": "execute_result"
    }
   ],
   "source": [
    "pg.mwu(mgl_count['No_Microglia'][(mgl_count['Age']=='adult') & (mgl_count['Genotype']=='WT')], mgl_count['No_Microglia'][(mgl_count['Age']=='adult') & (mgl_count['Genotype']=='KO')])\n",
    "\n"
   ]
  },
  {
   "cell_type": "markdown",
   "metadata": {},
   "source": [
    "## Morphology"
   ]
  },
  {
   "cell_type": "code",
   "execution_count": 209,
   "metadata": {},
   "outputs": [],
   "source": [
    "morph_df = pd.read_csv('/Users/labc02/Documents/PDCB_data/Morphometry/microglia_morph.csv')"
   ]
  },
  {
   "cell_type": "code",
   "execution_count": 210,
   "metadata": {},
   "outputs": [
    {
     "data": {
      "text/plain": [
       "Index(['Date', 'Genotype', 'Age', 'Subject', 'Section', 'Field', 'Cell',\n",
       "       'Branches', 'End_points', 'Avg_Branch_lgth', 'Cable_length', 'Frac_dim',\n",
       "       'Lacunarity', 'Density', 'Span', 'Circulariry'],\n",
       "      dtype='object')"
      ]
     },
     "execution_count": 210,
     "metadata": {},
     "output_type": "execute_result"
    }
   ],
   "source": [
    "morph_df.columns"
   ]
  },
  {
   "cell_type": "code",
   "execution_count": 316,
   "metadata": {},
   "outputs": [
    {
     "data": {
      "image/png": "[encoded data removed]",
      "text/plain": [
       "<Figure size 576x144 with 5 Axes>"
      ]
     },
     "metadata": {
      "needs_background": "light"
     },
     "output_type": "display_data"
    }
   ],
   "source": [
    "morph_fig = plt.figure(figsize=(8, 2))\n",
    "\n",
    "ax_ = plt.subplot(151)\n",
    "ax_ = sns.boxplot(data= mgl_count, x = 'Age', y = 'No_Microglia', hue = 'Genotype', palette=['royalblue', 'forestgreen'], showmeans=True, showfliers = False, meanprops={'marker':'+', 'markeredgecolor':'k'}, width = 0.4)\n",
    "sns.despine()\n",
    "plt.ylabel('Migroglia / Field')\n",
    "plt.xlabel('')\n",
    "ax_.set_xticklabels(['P10', 'Adult'])\n",
    "plt.ylim(1, 16)\n",
    "plt.annotate('***', xy = (0.25, 0.99), xytext = (0.25, 1), xycoords = 'axes fraction', ha = 'center', arrowprops=dict(arrowstyle='-[, widthB=.4, lengthB=.3', lw=1.5, color='k'), fontsize = 10)\n",
    "ax_.get_legend().remove()\n",
    "plt.tight_layout()\n",
    "\n",
    "ax1 = plt.subplot(152)\n",
    "sns.boxplot(data= morph_df, x = 'Age', y = 'Branches', hue = 'Genotype', order = ['Neo', 'Adult'], palette=['royalblue', 'forestgreen'], showmeans=True, showfliers = False, meanprops={'marker':'+', 'markeredgecolor':'k'}, width = 0.4)\n",
    "sns.despine()\n",
    "plt.ylabel('Branches')\n",
    "ax1.set_xticklabels(['P10', 'Adult'])\n",
    "plt.xlabel('')\n",
    "ax1.annotate('***', xy = (0.75, 0.99), xytext = (0.75, 1), xycoords = 'axes fraction', ha = 'center', arrowprops=dict(arrowstyle='-[, widthB=0.4, lengthB=.1', lw=1.5, color='k'), fontsize = 10)\n",
    "ax1.get_legend().remove()\n",
    "\n",
    "ax2 = plt.subplot(153)\n",
    "sns.boxplot(data= morph_df, x = 'Age', y = 'End_points', hue = 'Genotype', order = ['Neo', 'Adult'], palette=['royalblue', 'forestgreen'], showmeans=True, showfliers = False, meanprops={'marker':'+', 'markeredgecolor':'k'}, width = 0.4)\n",
    "sns.despine()\n",
    "plt.ylabel('End Points')\n",
    "ax2.set_xticklabels(['P10', 'Adult'])\n",
    "plt.xlabel('')\n",
    "ax2.annotate('***', xy = (0.75, 0.85), xytext = (0.75, 0.86), xycoords = 'axes fraction', ha = 'center', arrowprops=dict(arrowstyle='-[, widthB=0.4, lengthB=.1', lw=1.5, color='k'), fontsize = 10)\n",
    "ax2.get_legend().remove()\n",
    "\n",
    "ax3 = plt.subplot(154)\n",
    "sns.boxplot(data= morph_df, x = 'Age', y = 'Avg_Branch_lgth', hue = 'Genotype', order = ['Neo', 'Adult'], palette=['royalblue', 'forestgreen'], showmeans=True, showfliers = False, meanprops={'marker':'+', 'markeredgecolor':'k'}, width = 0.4)\n",
    "sns.despine()\n",
    "plt.ylabel(r'Avg. Branch Lgth. $\\mu$m')\n",
    "ax3.set_xticklabels(['P10', 'Adult'])\n",
    "plt.xlabel('')\n",
    "ax3.annotate('**', xy = (0.75, 1), xytext = (0.75, 1.01), xycoords = 'axes fraction', ha = 'center', arrowprops=dict(arrowstyle='-[, widthB=0.4, lengthB=.1', lw=1.5, color='k'), fontsize = 10)\n",
    "ax3.get_legend().remove()\n",
    "\n",
    "ax4 = plt.subplot(155)\n",
    "sns.boxplot(data= morph_df, x = 'Age', y = 'Cable_length', hue = 'Genotype', order = ['Neo', 'Adult'], palette=['royalblue', 'forestgreen'], showmeans=True, showfliers = False, meanprops={'marker':'+', 'markeredgecolor':'k'}, width = 0.4)\n",
    "sns.despine()\n",
    "plt.ylabel(r'Total Branch Lgth. $\\mu$m')\n",
    "ax4.set_xticklabels(['P10', 'Adult'])\n",
    "plt.xlabel('')\n",
    "ax4.get_legend().remove()\n",
    "ax4.annotate('***', xy = (0.75, 1), xytext = (0.75, 1.01), xycoords = 'axes fraction', ha = 'center', arrowprops=dict(arrowstyle='-[, widthB=0.4, lengthB=.1', lw=1.5, color='k'), fontsize = 10)\n",
    "\n",
    "plt.tight_layout()"
   ]
  },
  {
   "cell_type": "code",
   "execution_count": 317,
   "metadata": {},
   "outputs": [],
   "source": [
    "morph_fig.savefig('/Users/labc02/Documents/PDCB_data/Morphometry/Figures/morph_fig.svg')"
   ]
  },
  {
   "cell_type": "markdown",
   "metadata": {},
   "source": [
    "#### Branches Stats"
   ]
  },
  {
   "cell_type": "code",
   "execution_count": 227,
   "metadata": {},
   "outputs": [
    {
     "data": {
      "text/html": [
       "<div>\n",
       "<style scoped>\n",
       "    .dataframe tbody tr th:only-of-type {\n",
       "        vertical-align: middle;\n",
       "    }\n",
       "\n",
       "    .dataframe tbody tr th {\n",
       "        vertical-align: top;\n",
       "    }\n",
       "\n",
       "    .dataframe thead th {\n",
       "        text-align: right;\n",
       "    }\n",
       "</style>\n",
       "<table border=\"1\" class=\"dataframe\">\n",
       "  <thead>\n",
       "    <tr style=\"text-align: right;\">\n",
       "      <th></th>\n",
       "      <th>W</th>\n",
       "      <th>pval</th>\n",
       "      <th>normal</th>\n",
       "    </tr>\n",
       "  </thead>\n",
       "  <tbody>\n",
       "    <tr>\n",
       "      <th>WT</th>\n",
       "      <td>0.970963</td>\n",
       "      <td>0.565858</td>\n",
       "      <td>True</td>\n",
       "    </tr>\n",
       "    <tr>\n",
       "      <th>KO</th>\n",
       "      <td>0.910232</td>\n",
       "      <td>0.013105</td>\n",
       "      <td>False</td>\n",
       "    </tr>\n",
       "  </tbody>\n",
       "</table>\n",
       "</div>"
      ],
      "text/plain": [
       "           W      pval  normal\n",
       "WT  0.970963  0.565858    True\n",
       "KO  0.910232  0.013105   False"
      ]
     },
     "execution_count": 227,
     "metadata": {},
     "output_type": "execute_result"
    }
   ],
   "source": [
    "pg.normality(data = morph_df[morph_df['Age']=='Adult'], dv = 'Branches', group = 'Genotype')"
   ]
  },
  {
   "cell_type": "code",
   "execution_count": 228,
   "metadata": {},
   "outputs": [
    {
     "data": {
      "text/html": [
       "<div>\n",
       "<style scoped>\n",
       "    .dataframe tbody tr th:only-of-type {\n",
       "        vertical-align: middle;\n",
       "    }\n",
       "\n",
       "    .dataframe tbody tr th {\n",
       "        vertical-align: top;\n",
       "    }\n",
       "\n",
       "    .dataframe thead th {\n",
       "        text-align: right;\n",
       "    }\n",
       "</style>\n",
       "<table border=\"1\" class=\"dataframe\">\n",
       "  <thead>\n",
       "    <tr style=\"text-align: right;\">\n",
       "      <th></th>\n",
       "      <th>W</th>\n",
       "      <th>pval</th>\n",
       "      <th>normal</th>\n",
       "    </tr>\n",
       "  </thead>\n",
       "  <tbody>\n",
       "    <tr>\n",
       "      <th>WT</th>\n",
       "      <td>0.955264</td>\n",
       "      <td>0.233349</td>\n",
       "      <td>True</td>\n",
       "    </tr>\n",
       "    <tr>\n",
       "      <th>KO</th>\n",
       "      <td>0.937602</td>\n",
       "      <td>0.070846</td>\n",
       "      <td>True</td>\n",
       "    </tr>\n",
       "  </tbody>\n",
       "</table>\n",
       "</div>"
      ],
      "text/plain": [
       "           W      pval  normal\n",
       "WT  0.955264  0.233349    True\n",
       "KO  0.937602  0.070846    True"
      ]
     },
     "execution_count": 228,
     "metadata": {},
     "output_type": "execute_result"
    }
   ],
   "source": [
    "pg.normality(data = morph_df[morph_df['Age']=='Neo'], dv = 'Branches', group = 'Genotype')"
   ]
  },
  {
   "cell_type": "code",
   "execution_count": 229,
   "metadata": {},
   "outputs": [
    {
     "data": {
      "text/html": [
       "<div>\n",
       "<style scoped>\n",
       "    .dataframe tbody tr th:only-of-type {\n",
       "        vertical-align: middle;\n",
       "    }\n",
       "\n",
       "    .dataframe tbody tr th {\n",
       "        vertical-align: top;\n",
       "    }\n",
       "\n",
       "    .dataframe thead th {\n",
       "        text-align: right;\n",
       "    }\n",
       "</style>\n",
       "<table border=\"1\" class=\"dataframe\">\n",
       "  <thead>\n",
       "    <tr style=\"text-align: right;\">\n",
       "      <th></th>\n",
       "      <th>U-val</th>\n",
       "      <th>tail</th>\n",
       "      <th>p-val</th>\n",
       "      <th>RBC</th>\n",
       "      <th>CLES</th>\n",
       "    </tr>\n",
       "  </thead>\n",
       "  <tbody>\n",
       "    <tr>\n",
       "      <th>MWU</th>\n",
       "      <td>570.5</td>\n",
       "      <td>two-sided</td>\n",
       "      <td>0.129728</td>\n",
       "      <td>-0.226882</td>\n",
       "      <td>0.607527</td>\n",
       "    </tr>\n",
       "  </tbody>\n",
       "</table>\n",
       "</div>"
      ],
      "text/plain": [
       "     U-val       tail     p-val       RBC      CLES\n",
       "MWU  570.5  two-sided  0.129728 -0.226882  0.607527"
      ]
     },
     "execution_count": 229,
     "metadata": {},
     "output_type": "execute_result"
    }
   ],
   "source": [
    "pg.mwu(morph_df['Branches'][(morph_df['Age']=='Neo') & (morph_df['Genotype']=='WT')], morph_df['Branches'][(morph_df['Age']=='Neo') & (morph_df['Genotype']=='KO')])\n"
   ]
  },
  {
   "cell_type": "code",
   "execution_count": 230,
   "metadata": {},
   "outputs": [
    {
     "data": {
      "text/html": [
       "<div>\n",
       "<style scoped>\n",
       "    .dataframe tbody tr th:only-of-type {\n",
       "        vertical-align: middle;\n",
       "    }\n",
       "\n",
       "    .dataframe tbody tr th {\n",
       "        vertical-align: top;\n",
       "    }\n",
       "\n",
       "    .dataframe thead th {\n",
       "        text-align: right;\n",
       "    }\n",
       "</style>\n",
       "<table border=\"1\" class=\"dataframe\">\n",
       "  <thead>\n",
       "    <tr style=\"text-align: right;\">\n",
       "      <th></th>\n",
       "      <th>U-val</th>\n",
       "      <th>tail</th>\n",
       "      <th>p-val</th>\n",
       "      <th>RBC</th>\n",
       "      <th>CLES</th>\n",
       "    </tr>\n",
       "  </thead>\n",
       "  <tbody>\n",
       "    <tr>\n",
       "      <th>MWU</th>\n",
       "      <td>178.0</td>\n",
       "      <td>two-sided</td>\n",
       "      <td>0.000036</td>\n",
       "      <td>0.617204</td>\n",
       "      <td>0.804301</td>\n",
       "    </tr>\n",
       "  </tbody>\n",
       "</table>\n",
       "</div>"
      ],
      "text/plain": [
       "     U-val       tail     p-val       RBC      CLES\n",
       "MWU  178.0  two-sided  0.000036  0.617204  0.804301"
      ]
     },
     "execution_count": 230,
     "metadata": {},
     "output_type": "execute_result"
    }
   ],
   "source": [
    "pg.mwu(morph_df['Branches'][(morph_df['Age']=='Adult') & (morph_df['Genotype']=='WT')], morph_df['Branches'][(morph_df['Age']=='Adult') & (morph_df['Genotype']=='KO')])\n"
   ]
  },
  {
   "cell_type": "markdown",
   "metadata": {},
   "source": [
    "### End Points"
   ]
  },
  {
   "cell_type": "code",
   "execution_count": 236,
   "metadata": {},
   "outputs": [
    {
     "data": {
      "text/html": [
       "<div>\n",
       "<style scoped>\n",
       "    .dataframe tbody tr th:only-of-type {\n",
       "        vertical-align: middle;\n",
       "    }\n",
       "\n",
       "    .dataframe tbody tr th {\n",
       "        vertical-align: top;\n",
       "    }\n",
       "\n",
       "    .dataframe thead th {\n",
       "        text-align: right;\n",
       "    }\n",
       "</style>\n",
       "<table border=\"1\" class=\"dataframe\">\n",
       "  <thead>\n",
       "    <tr style=\"text-align: right;\">\n",
       "      <th></th>\n",
       "      <th>W</th>\n",
       "      <th>pval</th>\n",
       "      <th>normal</th>\n",
       "    </tr>\n",
       "  </thead>\n",
       "  <tbody>\n",
       "    <tr>\n",
       "      <th>WT</th>\n",
       "      <td>0.963047</td>\n",
       "      <td>0.369690</td>\n",
       "      <td>True</td>\n",
       "    </tr>\n",
       "    <tr>\n",
       "      <th>KO</th>\n",
       "      <td>0.924553</td>\n",
       "      <td>0.031232</td>\n",
       "      <td>False</td>\n",
       "    </tr>\n",
       "  </tbody>\n",
       "</table>\n",
       "</div>"
      ],
      "text/plain": [
       "           W      pval  normal\n",
       "WT  0.963047  0.369690    True\n",
       "KO  0.924553  0.031232   False"
      ]
     },
     "execution_count": 236,
     "metadata": {},
     "output_type": "execute_result"
    }
   ],
   "source": [
    "pg.normality(data = morph_df[morph_df['Age']=='Adult'], dv = 'End_points', group = 'Genotype')"
   ]
  },
  {
   "cell_type": "code",
   "execution_count": 237,
   "metadata": {},
   "outputs": [
    {
     "data": {
      "text/html": [
       "<div>\n",
       "<style scoped>\n",
       "    .dataframe tbody tr th:only-of-type {\n",
       "        vertical-align: middle;\n",
       "    }\n",
       "\n",
       "    .dataframe tbody tr th {\n",
       "        vertical-align: top;\n",
       "    }\n",
       "\n",
       "    .dataframe thead th {\n",
       "        text-align: right;\n",
       "    }\n",
       "</style>\n",
       "<table border=\"1\" class=\"dataframe\">\n",
       "  <thead>\n",
       "    <tr style=\"text-align: right;\">\n",
       "      <th></th>\n",
       "      <th>W</th>\n",
       "      <th>pval</th>\n",
       "      <th>normal</th>\n",
       "    </tr>\n",
       "  </thead>\n",
       "  <tbody>\n",
       "    <tr>\n",
       "      <th>WT</th>\n",
       "      <td>0.964459</td>\n",
       "      <td>0.400471</td>\n",
       "      <td>True</td>\n",
       "    </tr>\n",
       "    <tr>\n",
       "      <th>KO</th>\n",
       "      <td>0.939744</td>\n",
       "      <td>0.081181</td>\n",
       "      <td>True</td>\n",
       "    </tr>\n",
       "  </tbody>\n",
       "</table>\n",
       "</div>"
      ],
      "text/plain": [
       "           W      pval  normal\n",
       "WT  0.964459  0.400471    True\n",
       "KO  0.939744  0.081181    True"
      ]
     },
     "execution_count": 237,
     "metadata": {},
     "output_type": "execute_result"
    }
   ],
   "source": [
    "pg.normality(data = morph_df[morph_df['Age']=='Neo'], dv = 'End_points', group = 'Genotype')"
   ]
  },
  {
   "cell_type": "code",
   "execution_count": 238,
   "metadata": {},
   "outputs": [
    {
     "data": {
      "text/html": [
       "<div>\n",
       "<style scoped>\n",
       "    .dataframe tbody tr th:only-of-type {\n",
       "        vertical-align: middle;\n",
       "    }\n",
       "\n",
       "    .dataframe tbody tr th {\n",
       "        vertical-align: top;\n",
       "    }\n",
       "\n",
       "    .dataframe thead th {\n",
       "        text-align: right;\n",
       "    }\n",
       "</style>\n",
       "<table border=\"1\" class=\"dataframe\">\n",
       "  <thead>\n",
       "    <tr style=\"text-align: right;\">\n",
       "      <th></th>\n",
       "      <th>U-val</th>\n",
       "      <th>tail</th>\n",
       "      <th>p-val</th>\n",
       "      <th>RBC</th>\n",
       "      <th>CLES</th>\n",
       "    </tr>\n",
       "  </thead>\n",
       "  <tbody>\n",
       "    <tr>\n",
       "      <th>MWU</th>\n",
       "      <td>543.5</td>\n",
       "      <td>two-sided</td>\n",
       "      <td>0.260188</td>\n",
       "      <td>-0.168817</td>\n",
       "      <td>0.572043</td>\n",
       "    </tr>\n",
       "  </tbody>\n",
       "</table>\n",
       "</div>"
      ],
      "text/plain": [
       "     U-val       tail     p-val       RBC      CLES\n",
       "MWU  543.5  two-sided  0.260188 -0.168817  0.572043"
      ]
     },
     "execution_count": 238,
     "metadata": {},
     "output_type": "execute_result"
    }
   ],
   "source": [
    "pg.mwu(morph_df['End_points'][(morph_df['Age']=='Neo') & (morph_df['Genotype']=='WT')], morph_df['End_points'][(morph_df['Age']=='Neo') & (morph_df['Genotype']=='KO')])\n"
   ]
  },
  {
   "cell_type": "code",
   "execution_count": 239,
   "metadata": {},
   "outputs": [
    {
     "data": {
      "text/html": [
       "<div>\n",
       "<style scoped>\n",
       "    .dataframe tbody tr th:only-of-type {\n",
       "        vertical-align: middle;\n",
       "    }\n",
       "\n",
       "    .dataframe tbody tr th {\n",
       "        vertical-align: top;\n",
       "    }\n",
       "\n",
       "    .dataframe thead th {\n",
       "        text-align: right;\n",
       "    }\n",
       "</style>\n",
       "<table border=\"1\" class=\"dataframe\">\n",
       "  <thead>\n",
       "    <tr style=\"text-align: right;\">\n",
       "      <th></th>\n",
       "      <th>U-val</th>\n",
       "      <th>tail</th>\n",
       "      <th>p-val</th>\n",
       "      <th>RBC</th>\n",
       "      <th>CLES</th>\n",
       "    </tr>\n",
       "  </thead>\n",
       "  <tbody>\n",
       "    <tr>\n",
       "      <th>MWU</th>\n",
       "      <td>145.0</td>\n",
       "      <td>two-sided</td>\n",
       "      <td>0.000004</td>\n",
       "      <td>0.688172</td>\n",
       "      <td>0.833333</td>\n",
       "    </tr>\n",
       "  </tbody>\n",
       "</table>\n",
       "</div>"
      ],
      "text/plain": [
       "     U-val       tail     p-val       RBC      CLES\n",
       "MWU  145.0  two-sided  0.000004  0.688172  0.833333"
      ]
     },
     "execution_count": 239,
     "metadata": {},
     "output_type": "execute_result"
    }
   ],
   "source": [
    "pg.mwu(morph_df['End_points'][(morph_df['Age']=='Adult') & (morph_df['Genotype']=='WT')], morph_df['End_points'][(morph_df['Age']=='Adult') & (morph_df['Genotype']=='KO')])\n"
   ]
  },
  {
   "cell_type": "markdown",
   "metadata": {},
   "source": [
    "### Avg. Branch Lgth."
   ]
  },
  {
   "cell_type": "code",
   "execution_count": 249,
   "metadata": {},
   "outputs": [
    {
     "data": {
      "text/html": [
       "<div>\n",
       "<style scoped>\n",
       "    .dataframe tbody tr th:only-of-type {\n",
       "        vertical-align: middle;\n",
       "    }\n",
       "\n",
       "    .dataframe tbody tr th {\n",
       "        vertical-align: top;\n",
       "    }\n",
       "\n",
       "    .dataframe thead th {\n",
       "        text-align: right;\n",
       "    }\n",
       "</style>\n",
       "<table border=\"1\" class=\"dataframe\">\n",
       "  <thead>\n",
       "    <tr style=\"text-align: right;\">\n",
       "      <th></th>\n",
       "      <th>W</th>\n",
       "      <th>pval</th>\n",
       "      <th>normal</th>\n",
       "    </tr>\n",
       "  </thead>\n",
       "  <tbody>\n",
       "    <tr>\n",
       "      <th>WT</th>\n",
       "      <td>0.970305</td>\n",
       "      <td>0.547555</td>\n",
       "      <td>True</td>\n",
       "    </tr>\n",
       "    <tr>\n",
       "      <th>KO</th>\n",
       "      <td>0.939888</td>\n",
       "      <td>0.081930</td>\n",
       "      <td>True</td>\n",
       "    </tr>\n",
       "  </tbody>\n",
       "</table>\n",
       "</div>"
      ],
      "text/plain": [
       "           W      pval  normal\n",
       "WT  0.970305  0.547555    True\n",
       "KO  0.939888  0.081930    True"
      ]
     },
     "execution_count": 249,
     "metadata": {},
     "output_type": "execute_result"
    }
   ],
   "source": [
    "pg.normality(data = morph_df[morph_df['Age']=='Adult'], dv = 'Avg_Branch_lgth', group = 'Genotype')"
   ]
  },
  {
   "cell_type": "code",
   "execution_count": 250,
   "metadata": {},
   "outputs": [
    {
     "data": {
      "text/html": [
       "<div>\n",
       "<style scoped>\n",
       "    .dataframe tbody tr th:only-of-type {\n",
       "        vertical-align: middle;\n",
       "    }\n",
       "\n",
       "    .dataframe tbody tr th {\n",
       "        vertical-align: top;\n",
       "    }\n",
       "\n",
       "    .dataframe thead th {\n",
       "        text-align: right;\n",
       "    }\n",
       "</style>\n",
       "<table border=\"1\" class=\"dataframe\">\n",
       "  <thead>\n",
       "    <tr style=\"text-align: right;\">\n",
       "      <th></th>\n",
       "      <th>W</th>\n",
       "      <th>pval</th>\n",
       "      <th>normal</th>\n",
       "    </tr>\n",
       "  </thead>\n",
       "  <tbody>\n",
       "    <tr>\n",
       "      <th>WT</th>\n",
       "      <td>0.953143</td>\n",
       "      <td>0.205068</td>\n",
       "      <td>True</td>\n",
       "    </tr>\n",
       "    <tr>\n",
       "      <th>KO</th>\n",
       "      <td>0.979488</td>\n",
       "      <td>0.798286</td>\n",
       "      <td>True</td>\n",
       "    </tr>\n",
       "  </tbody>\n",
       "</table>\n",
       "</div>"
      ],
      "text/plain": [
       "           W      pval  normal\n",
       "WT  0.953143  0.205068    True\n",
       "KO  0.979488  0.798286    True"
      ]
     },
     "execution_count": 250,
     "metadata": {},
     "output_type": "execute_result"
    }
   ],
   "source": [
    "pg.normality(data = morph_df[morph_df['Age']=='Neo'], dv = 'Avg_Branch_lgth', group = 'Genotype')"
   ]
  },
  {
   "cell_type": "code",
   "execution_count": 251,
   "metadata": {},
   "outputs": [
    {
     "data": {
      "text/html": [
       "<div>\n",
       "<style scoped>\n",
       "    .dataframe tbody tr th:only-of-type {\n",
       "        vertical-align: middle;\n",
       "    }\n",
       "\n",
       "    .dataframe tbody tr th {\n",
       "        vertical-align: top;\n",
       "    }\n",
       "\n",
       "    .dataframe thead th {\n",
       "        text-align: right;\n",
       "    }\n",
       "</style>\n",
       "<table border=\"1\" class=\"dataframe\">\n",
       "  <thead>\n",
       "    <tr style=\"text-align: right;\">\n",
       "      <th></th>\n",
       "      <th>T</th>\n",
       "      <th>dof</th>\n",
       "      <th>tail</th>\n",
       "      <th>p-val</th>\n",
       "      <th>CI95%</th>\n",
       "      <th>cohen-d</th>\n",
       "      <th>BF10</th>\n",
       "      <th>power</th>\n",
       "    </tr>\n",
       "  </thead>\n",
       "  <tbody>\n",
       "    <tr>\n",
       "      <th>T-test</th>\n",
       "      <td>0.935704</td>\n",
       "      <td>56.582164</td>\n",
       "      <td>two-sided</td>\n",
       "      <td>0.353402</td>\n",
       "      <td>[-0.19, 0.53]</td>\n",
       "      <td>0.238688</td>\n",
       "      <td>0.377</td>\n",
       "      <td>0.150461</td>\n",
       "    </tr>\n",
       "  </tbody>\n",
       "</table>\n",
       "</div>"
      ],
      "text/plain": [
       "               T        dof       tail     p-val          CI95%   cohen-d  \\\n",
       "T-test  0.935704  56.582164  two-sided  0.353402  [-0.19, 0.53]  0.238688   \n",
       "\n",
       "         BF10     power  \n",
       "T-test  0.377  0.150461  "
      ]
     },
     "execution_count": 251,
     "metadata": {},
     "output_type": "execute_result"
    }
   ],
   "source": [
    "pg.ttest(morph_df['Avg_Branch_lgth'][(morph_df['Age']=='Neo') & (morph_df['Genotype']=='WT')], morph_df['Avg_Branch_lgth'][(morph_df['Age']=='Neo') & (morph_df['Genotype']=='KO')])\n"
   ]
  },
  {
   "cell_type": "code",
   "execution_count": 252,
   "metadata": {},
   "outputs": [
    {
     "data": {
      "text/html": [
       "<div>\n",
       "<style scoped>\n",
       "    .dataframe tbody tr th:only-of-type {\n",
       "        vertical-align: middle;\n",
       "    }\n",
       "\n",
       "    .dataframe tbody tr th {\n",
       "        vertical-align: top;\n",
       "    }\n",
       "\n",
       "    .dataframe thead th {\n",
       "        text-align: right;\n",
       "    }\n",
       "</style>\n",
       "<table border=\"1\" class=\"dataframe\">\n",
       "  <thead>\n",
       "    <tr style=\"text-align: right;\">\n",
       "      <th></th>\n",
       "      <th>T</th>\n",
       "      <th>dof</th>\n",
       "      <th>tail</th>\n",
       "      <th>p-val</th>\n",
       "      <th>CI95%</th>\n",
       "      <th>cohen-d</th>\n",
       "      <th>BF10</th>\n",
       "      <th>power</th>\n",
       "    </tr>\n",
       "  </thead>\n",
       "  <tbody>\n",
       "    <tr>\n",
       "      <th>T-test</th>\n",
       "      <td>3.184676</td>\n",
       "      <td>58.658021</td>\n",
       "      <td>two-sided</td>\n",
       "      <td>0.002321</td>\n",
       "      <td>[0.34, 1.51]</td>\n",
       "      <td>0.816207</td>\n",
       "      <td>15.366</td>\n",
       "      <td>0.879945</td>\n",
       "    </tr>\n",
       "  </tbody>\n",
       "</table>\n",
       "</div>"
      ],
      "text/plain": [
       "               T        dof       tail     p-val         CI95%   cohen-d  \\\n",
       "T-test  3.184676  58.658021  two-sided  0.002321  [0.34, 1.51]  0.816207   \n",
       "\n",
       "          BF10     power  \n",
       "T-test  15.366  0.879945  "
      ]
     },
     "execution_count": 252,
     "metadata": {},
     "output_type": "execute_result"
    }
   ],
   "source": [
    "pg.ttest(morph_df['Avg_Branch_lgth'][(morph_df['Age']=='Adult') & (morph_df['Genotype']=='WT')], morph_df['Avg_Branch_lgth'][(morph_df['Age']=='Adult') & (morph_df['Genotype']=='KO')])\n"
   ]
  },
  {
   "cell_type": "markdown",
   "metadata": {},
   "source": [
    "### Cable Lenght"
   ]
  },
  {
   "cell_type": "code",
   "execution_count": 256,
   "metadata": {},
   "outputs": [
    {
     "data": {
      "text/html": [
       "<div>\n",
       "<style scoped>\n",
       "    .dataframe tbody tr th:only-of-type {\n",
       "        vertical-align: middle;\n",
       "    }\n",
       "\n",
       "    .dataframe tbody tr th {\n",
       "        vertical-align: top;\n",
       "    }\n",
       "\n",
       "    .dataframe thead th {\n",
       "        text-align: right;\n",
       "    }\n",
       "</style>\n",
       "<table border=\"1\" class=\"dataframe\">\n",
       "  <thead>\n",
       "    <tr style=\"text-align: right;\">\n",
       "      <th></th>\n",
       "      <th>W</th>\n",
       "      <th>pval</th>\n",
       "      <th>normal</th>\n",
       "    </tr>\n",
       "  </thead>\n",
       "  <tbody>\n",
       "    <tr>\n",
       "      <th>WT</th>\n",
       "      <td>0.986170</td>\n",
       "      <td>0.955385</td>\n",
       "      <td>True</td>\n",
       "    </tr>\n",
       "    <tr>\n",
       "      <th>KO</th>\n",
       "      <td>0.944424</td>\n",
       "      <td>0.109416</td>\n",
       "      <td>True</td>\n",
       "    </tr>\n",
       "  </tbody>\n",
       "</table>\n",
       "</div>"
      ],
      "text/plain": [
       "           W      pval  normal\n",
       "WT  0.986170  0.955385    True\n",
       "KO  0.944424  0.109416    True"
      ]
     },
     "execution_count": 256,
     "metadata": {},
     "output_type": "execute_result"
    }
   ],
   "source": [
    "pg.normality(data = morph_df[morph_df['Age']=='Adult'], dv = 'Cable_length', group = 'Genotype')"
   ]
  },
  {
   "cell_type": "code",
   "execution_count": 257,
   "metadata": {},
   "outputs": [
    {
     "data": {
      "text/html": [
       "<div>\n",
       "<style scoped>\n",
       "    .dataframe tbody tr th:only-of-type {\n",
       "        vertical-align: middle;\n",
       "    }\n",
       "\n",
       "    .dataframe tbody tr th {\n",
       "        vertical-align: top;\n",
       "    }\n",
       "\n",
       "    .dataframe thead th {\n",
       "        text-align: right;\n",
       "    }\n",
       "</style>\n",
       "<table border=\"1\" class=\"dataframe\">\n",
       "  <thead>\n",
       "    <tr style=\"text-align: right;\">\n",
       "      <th></th>\n",
       "      <th>W</th>\n",
       "      <th>pval</th>\n",
       "      <th>normal</th>\n",
       "    </tr>\n",
       "  </thead>\n",
       "  <tbody>\n",
       "    <tr>\n",
       "      <th>WT</th>\n",
       "      <td>0.963537</td>\n",
       "      <td>0.380163</td>\n",
       "      <td>True</td>\n",
       "    </tr>\n",
       "    <tr>\n",
       "      <th>KO</th>\n",
       "      <td>0.957570</td>\n",
       "      <td>0.251283</td>\n",
       "      <td>True</td>\n",
       "    </tr>\n",
       "  </tbody>\n",
       "</table>\n",
       "</div>"
      ],
      "text/plain": [
       "           W      pval  normal\n",
       "WT  0.963537  0.380163    True\n",
       "KO  0.957570  0.251283    True"
      ]
     },
     "execution_count": 257,
     "metadata": {},
     "output_type": "execute_result"
    }
   ],
   "source": [
    "pg.normality(data = morph_df[morph_df['Age']=='Neo'], dv = 'Cable_length', group = 'Genotype')"
   ]
  },
  {
   "cell_type": "code",
   "execution_count": 258,
   "metadata": {},
   "outputs": [
    {
     "data": {
      "text/html": [
       "<div>\n",
       "<style scoped>\n",
       "    .dataframe tbody tr th:only-of-type {\n",
       "        vertical-align: middle;\n",
       "    }\n",
       "\n",
       "    .dataframe tbody tr th {\n",
       "        vertical-align: top;\n",
       "    }\n",
       "\n",
       "    .dataframe thead th {\n",
       "        text-align: right;\n",
       "    }\n",
       "</style>\n",
       "<table border=\"1\" class=\"dataframe\">\n",
       "  <thead>\n",
       "    <tr style=\"text-align: right;\">\n",
       "      <th></th>\n",
       "      <th>T</th>\n",
       "      <th>dof</th>\n",
       "      <th>tail</th>\n",
       "      <th>p-val</th>\n",
       "      <th>CI95%</th>\n",
       "      <th>cohen-d</th>\n",
       "      <th>BF10</th>\n",
       "      <th>power</th>\n",
       "    </tr>\n",
       "  </thead>\n",
       "  <tbody>\n",
       "    <tr>\n",
       "      <th>T-test</th>\n",
       "      <td>1.814147</td>\n",
       "      <td>58.573082</td>\n",
       "      <td>two-sided</td>\n",
       "      <td>0.074778</td>\n",
       "      <td>[-6.53, 133.06]</td>\n",
       "      <td>0.463701</td>\n",
       "      <td>1.024</td>\n",
       "      <td>0.429107</td>\n",
       "    </tr>\n",
       "  </tbody>\n",
       "</table>\n",
       "</div>"
      ],
      "text/plain": [
       "               T        dof       tail     p-val            CI95%   cohen-d  \\\n",
       "T-test  1.814147  58.573082  two-sided  0.074778  [-6.53, 133.06]  0.463701   \n",
       "\n",
       "         BF10     power  \n",
       "T-test  1.024  0.429107  "
      ]
     },
     "execution_count": 258,
     "metadata": {},
     "output_type": "execute_result"
    }
   ],
   "source": [
    "pg.ttest(morph_df['Cable_length'][(morph_df['Age']=='Neo') & (morph_df['Genotype']=='WT')], morph_df['Cable_length'][(morph_df['Age']=='Neo') & (morph_df['Genotype']=='KO')])\n"
   ]
  },
  {
   "cell_type": "code",
   "execution_count": 259,
   "metadata": {},
   "outputs": [
    {
     "data": {
      "text/html": [
       "<div>\n",
       "<style scoped>\n",
       "    .dataframe tbody tr th:only-of-type {\n",
       "        vertical-align: middle;\n",
       "    }\n",
       "\n",
       "    .dataframe tbody tr th {\n",
       "        vertical-align: top;\n",
       "    }\n",
       "\n",
       "    .dataframe thead th {\n",
       "        text-align: right;\n",
       "    }\n",
       "</style>\n",
       "<table border=\"1\" class=\"dataframe\">\n",
       "  <thead>\n",
       "    <tr style=\"text-align: right;\">\n",
       "      <th></th>\n",
       "      <th>T</th>\n",
       "      <th>dof</th>\n",
       "      <th>tail</th>\n",
       "      <th>p-val</th>\n",
       "      <th>CI95%</th>\n",
       "      <th>cohen-d</th>\n",
       "      <th>BF10</th>\n",
       "      <th>power</th>\n",
       "    </tr>\n",
       "  </thead>\n",
       "  <tbody>\n",
       "    <tr>\n",
       "      <th>T-test</th>\n",
       "      <td>-3.81375</td>\n",
       "      <td>58.208012</td>\n",
       "      <td>two-sided</td>\n",
       "      <td>0.000333</td>\n",
       "      <td>[-181.03, -56.41]</td>\n",
       "      <td>0.974299</td>\n",
       "      <td>79.231</td>\n",
       "      <td>0.962598</td>\n",
       "    </tr>\n",
       "  </tbody>\n",
       "</table>\n",
       "</div>"
      ],
      "text/plain": [
       "              T        dof       tail     p-val              CI95%   cohen-d  \\\n",
       "T-test -3.81375  58.208012  two-sided  0.000333  [-181.03, -56.41]  0.974299   \n",
       "\n",
       "          BF10     power  \n",
       "T-test  79.231  0.962598  "
      ]
     },
     "execution_count": 259,
     "metadata": {},
     "output_type": "execute_result"
    }
   ],
   "source": [
    "pg.ttest(morph_df['Cable_length'][(morph_df['Age']=='Adult') & (morph_df['Genotype']=='WT')], morph_df['Cable_length'][(morph_df['Age']=='Adult') & (morph_df['Genotype']=='KO')])\n"
   ]
  },
  {
   "cell_type": "code",
   "execution_count": 216,
   "metadata": {},
   "outputs": [
    {
     "data": {
      "text/plain": [
       "Text(0.5, 0, '')"
      ]
     },
     "execution_count": 216,
     "metadata": {},
     "output_type": "execute_result"
    },
    {
     "data": {
      "image/png": "[encoded data removed]",
      "text/plain": [
       "<Figure size 864x864 with 5 Axes>"
      ]
     },
     "metadata": {
      "needs_background": "light"
     },
     "output_type": "display_data"
    }
   ],
   "source": [
    "morph_fig2 = plt.figure(figsize=(12, 12))\n",
    "\n",
    "ax1 = plt.subplot(231)\n",
    "sns.boxplot(data= morph_df, x = 'Age', y = 'Frac_dim', hue = 'Genotype', order = ['Neo', 'Adult'], palette=['royalblue', 'forestgreen'], showmeans=True, showfliers = False, meanprops={'marker':'+', 'markeredgecolor':'k'}, width = 0.4)\n",
    "sns.despine()\n",
    "plt.ylabel('Frac_dim')\n",
    "plt.xlabel('')\n",
    "\n",
    "ax2 = plt.subplot(232)\n",
    "sns.boxplot(data= morph_df, x = 'Age', y = 'Lacunarity', hue = 'Genotype', order = ['Neo', 'Adult'], palette=['royalblue', 'forestgreen'], showmeans=True, showfliers = False, meanprops={'marker':'+', 'markeredgecolor':'k'}, width = 0.4)\n",
    "sns.despine()\n",
    "plt.ylabel('Lacunarity')\n",
    "plt.xlabel('')\n",
    "\n",
    "ax3 = plt.subplot(233)\n",
    "sns.boxplot(data= morph_df, x = 'Age', y = 'Density', hue = 'Genotype', order = ['Neo', 'Adult'], palette=['royalblue', 'forestgreen'], showmeans=True, showfliers = False, meanprops={'marker':'+', 'markeredgecolor':'k'}, width = 0.4)\n",
    "sns.despine()\n",
    "plt.ylabel('Density')\n",
    "plt.xlabel('')\n",
    "\n",
    "ax4 = plt.subplot(234)\n",
    "sns.boxplot(data= morph_df, x = 'Age', y = 'Span', hue = 'Genotype', order = ['Neo', 'Adult'], palette=['royalblue', 'forestgreen'], showmeans=True, showfliers = False, meanprops={'marker':'+', 'markeredgecolor':'k'}, width = 0.4)\n",
    "sns.despine()\n",
    "plt.ylabel('Span')\n",
    "plt.xlabel('')\n",
    "\n",
    "ax5 = plt.subplot(235)\n",
    "sns.boxplot(data= morph_df, x = 'Age', y = 'Circulariry', hue = 'Genotype', order = ['Neo', 'Adult'], palette=['royalblue', 'forestgreen'], showmeans=True, showfliers = False, meanprops={'marker':'+', 'markeredgecolor':'k'}, width = 0.4)\n",
    "sns.despine()\n",
    "plt.ylabel('Circulariry')\n",
    "plt.xlabel('')"
   ]
  },
  {
   "cell_type": "code",
   "execution_count": null,
   "metadata": {},
   "outputs": [],
   "source": []
  }
 ],
 "metadata": {
  "kernelspec": {
   "display_name": "Python 3",
   "language": "python",
   "name": "python3"
  },
  "language_info": {
   "codemirror_mode": {
    "name": "ipython",
    "version": 3
   },
   "file_extension": ".py",
   "mimetype": "text/x-python",
   "name": "python",
   "nbconvert_exporter": "python",
   "pygments_lexer": "ipython3",
   "version": "3.8.2"
  }
 },
 "nbformat": 4,
 "nbformat_minor": 4
}
