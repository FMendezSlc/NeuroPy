{
 "cells": [
  {
   "cell_type": "code",
   "execution_count": 219,
   "metadata": {},
   "outputs": [],
   "source": [
    "import matplotlib.pyplot as plt\n",
    "import pandas as pd\n",
    "import seaborn as sns\n",
    "import pingouin as pg\n",
    "import numpy as np\n",
    "from scipy.stats import ks_2samp\n",
    "from scipy.stats import linregress\n",
    "from scipy.stats import fisher_exact\n",
    "from scipy.stats import chi2_contingency\n"
   ]
  },
  {
   "cell_type": "code",
   "execution_count": 22,
   "metadata": {},
   "outputs": [],
   "source": [
    "def ecdf(raw_data):\n",
    "    '''[np.array -> tuple]\n",
    "    Equivalent to R's ecdf(). Credit to Kripanshu Bhargava from Codementor'''\n",
    "    cdfx = np.unique(raw_data)\n",
    "    x_values = np.linspace(start=min(cdfx), stop=max(cdfx), num=len(cdfx))\n",
    "    size_data = raw_data.size\n",
    "    y_values = []\n",
    "    for i in x_values:\n",
    "        # all the values in raw data less than the ith value in x_values\n",
    "        temp = raw_data[raw_data <= i]\n",
    "        # fraction of that value with respect to the size of the x_values\n",
    "        value = temp.size / size_data\n",
    "\n",
    "        y_values.append(value)\n",
    "    \n",
    "    y_values = np.array(y_values)\n",
    "    \n",
    "    return (x_values, y_values)"
   ]
  },
  {
   "cell_type": "code",
   "execution_count": 2,
   "metadata": {},
   "outputs": [],
   "source": [
    "spines = pd.read_csv('/Users/labc02/Documents/PDCB_data/Morphometry/Spine_Count.csv')"
   ]
  },
  {
   "cell_type": "code",
   "execution_count": 3,
   "metadata": {},
   "outputs": [],
   "source": [
    "sp_TE = spines[spines['Order'] < 3]\n",
    "sp_normal = spines[spines['Order'] == 3]"
   ]
  },
  {
   "cell_type": "code",
   "execution_count": 4,
   "metadata": {},
   "outputs": [
    {
     "data": {
      "text/plain": [
       "Index(['ID', 'Genotype', 'Sample', 'Order', 'Lenght', 'Spines'], dtype='object')"
      ]
     },
     "execution_count": 4,
     "metadata": {},
     "output_type": "execute_result"
    }
   ],
   "source": [
    "spines.columns"
   ]
  },
  {
   "cell_type": "markdown",
   "metadata": {},
   "source": [
    "### Thorny Excrescences "
   ]
  },
  {
   "cell_type": "code",
   "execution_count": 5,
   "metadata": {},
   "outputs": [
    {
     "data": {
      "text/plain": [
       "Genotype\n",
       "KO    12\n",
       "WT    15\n",
       "Name: ID, dtype: int64"
      ]
     },
     "execution_count": 5,
     "metadata": {},
     "output_type": "execute_result"
    }
   ],
   "source": [
    "sp_TE.groupby(['Genotype'])['ID'].count()"
   ]
  },
  {
   "cell_type": "markdown",
   "metadata": {},
   "source": [
    "#### Thorny excrescence expressed as number of spine heads in 20 micrometers of dendrite"
   ]
  },
  {
   "cell_type": "code",
   "execution_count": 6,
   "metadata": {},
   "outputs": [
    {
     "name": "stderr",
     "output_type": "stream",
     "text": [
      "<ipython-input-6-088b22520e60>:1: SettingWithCopyWarning: \n",
      "A value is trying to be set on a copy of a slice from a DataFrame.\n",
      "Try using .loc[row_indexer,col_indexer] = value instead\n",
      "\n",
      "See the caveats in the documentation: https://pandas.pydata.org/pandas-docs/stable/user_guide/indexing.html#returning-a-view-versus-a-copy\n",
      "  sp_TE['Density'] = sp_TE['Spines']/sp_TE['Lenght'] * 20\n"
     ]
    }
   ],
   "source": [
    "sp_TE['Density'] = sp_TE['Spines']/sp_TE['Lenght'] * 20"
   ]
  },
  {
   "cell_type": "code",
   "execution_count": 7,
   "metadata": {},
   "outputs": [
    {
     "data": {
      "image/png": "[encoded data removed]",
      "text/plain": [
       "<Figure size 432x288 with 1 Axes>"
      ]
     },
     "metadata": {
      "needs_background": "light"
     },
     "output_type": "display_data"
    }
   ],
   "source": [
    "sns.boxplot(data = sp_TE, x = 'Genotype', y = 'Density', palette=['royalblue', 'forestgreen'], order = ['WT', 'KO'], showmeans=True, showfliers = True, meanprops={'marker':'+', 'markeredgecolor':'k'}, width=0.4)\n",
    "sns.despine()"
   ]
  },
  {
   "cell_type": "code",
   "execution_count": 8,
   "metadata": {},
   "outputs": [
    {
     "data": {
      "text/html": [
       "<div>\n",
       "<style scoped>\n",
       "    .dataframe tbody tr th:only-of-type {\n",
       "        vertical-align: middle;\n",
       "    }\n",
       "\n",
       "    .dataframe tbody tr th {\n",
       "        vertical-align: top;\n",
       "    }\n",
       "\n",
       "    .dataframe thead th {\n",
       "        text-align: right;\n",
       "    }\n",
       "</style>\n",
       "<table border=\"1\" class=\"dataframe\">\n",
       "  <thead>\n",
       "    <tr style=\"text-align: right;\">\n",
       "      <th></th>\n",
       "      <th>W</th>\n",
       "      <th>pval</th>\n",
       "      <th>normal</th>\n",
       "    </tr>\n",
       "  </thead>\n",
       "  <tbody>\n",
       "    <tr>\n",
       "      <th>KO</th>\n",
       "      <td>0.936478</td>\n",
       "      <td>0.453832</td>\n",
       "      <td>True</td>\n",
       "    </tr>\n",
       "    <tr>\n",
       "      <th>WT</th>\n",
       "      <td>0.875469</td>\n",
       "      <td>0.040628</td>\n",
       "      <td>False</td>\n",
       "    </tr>\n",
       "  </tbody>\n",
       "</table>\n",
       "</div>"
      ],
      "text/plain": [
       "           W      pval  normal\n",
       "KO  0.936478  0.453832    True\n",
       "WT  0.875469  0.040628   False"
      ]
     },
     "execution_count": 8,
     "metadata": {},
     "output_type": "execute_result"
    }
   ],
   "source": [
    "pg.normality(data = sp_TE, dv = 'Density', group = 'Genotype')"
   ]
  },
  {
   "cell_type": "code",
   "execution_count": 9,
   "metadata": {},
   "outputs": [
    {
     "data": {
      "text/html": [
       "<div>\n",
       "<style scoped>\n",
       "    .dataframe tbody tr th:only-of-type {\n",
       "        vertical-align: middle;\n",
       "    }\n",
       "\n",
       "    .dataframe tbody tr th {\n",
       "        vertical-align: top;\n",
       "    }\n",
       "\n",
       "    .dataframe thead th {\n",
       "        text-align: right;\n",
       "    }\n",
       "</style>\n",
       "<table border=\"1\" class=\"dataframe\">\n",
       "  <thead>\n",
       "    <tr style=\"text-align: right;\">\n",
       "      <th></th>\n",
       "      <th>U-val</th>\n",
       "      <th>tail</th>\n",
       "      <th>p-val</th>\n",
       "      <th>RBC</th>\n",
       "      <th>CLES</th>\n",
       "    </tr>\n",
       "  </thead>\n",
       "  <tbody>\n",
       "    <tr>\n",
       "      <th>MWU</th>\n",
       "      <td>68.0</td>\n",
       "      <td>less</td>\n",
       "      <td>0.147068</td>\n",
       "      <td>0.244444</td>\n",
       "      <td>0.622222</td>\n",
       "    </tr>\n",
       "  </tbody>\n",
       "</table>\n",
       "</div>"
      ],
      "text/plain": [
       "     U-val  tail     p-val       RBC      CLES\n",
       "MWU   68.0  less  0.147068  0.244444  0.622222"
      ]
     },
     "execution_count": 9,
     "metadata": {},
     "output_type": "execute_result"
    }
   ],
   "source": [
    "pg.mwu(x = sp_TE['Density'][sp_TE['Genotype']=='WT'], y = sp_TE['Density'][sp_TE['Genotype']=='KO'], tail ='one-sided')"
   ]
  },
  {
   "cell_type": "markdown",
   "metadata": {},
   "source": [
    "#### A tendency in accordance to the propotion of axons with MFB and Timm area, but no statistically significant"
   ]
  },
  {
   "cell_type": "markdown",
   "metadata": {},
   "source": [
    "### Normal spines"
   ]
  },
  {
   "cell_type": "code",
   "execution_count": 10,
   "metadata": {},
   "outputs": [
    {
     "data": {
      "text/plain": [
       "Genotype\n",
       "KO    21\n",
       "WT    20\n",
       "Name: ID, dtype: int64"
      ]
     },
     "execution_count": 10,
     "metadata": {},
     "output_type": "execute_result"
    }
   ],
   "source": [
    "sp_normal.groupby(['Genotype'])['ID'].count()"
   ]
  },
  {
   "cell_type": "code",
   "execution_count": 11,
   "metadata": {},
   "outputs": [
    {
     "data": {
      "image/png": "[encoded data removed]",
      "text/plain": [
       "<Figure size 432x288 with 1 Axes>"
      ]
     },
     "metadata": {
      "needs_background": "light"
     },
     "output_type": "display_data"
    }
   ],
   "source": [
    "sns.boxplot(data = sp_normal, x = 'Genotype', y = 'Spines', palette=['royalblue', 'forestgreen'], order = ['WT', 'KO'], showmeans=True, showfliers = True, meanprops={'marker':'+', 'markeredgecolor':'k'}, width=0.4)\n",
    "sns.despine()"
   ]
  },
  {
   "cell_type": "markdown",
   "metadata": {},
   "source": [
    "#### Outlier detection"
   ]
  },
  {
   "cell_type": "code",
   "execution_count": 12,
   "metadata": {},
   "outputs": [],
   "source": [
    "out_WT = pg.madmedianrule(sp_normal['Spines'][sp_normal['Genotype'] == 'WT'])"
   ]
  },
  {
   "cell_type": "code",
   "execution_count": 13,
   "metadata": {},
   "outputs": [
    {
     "data": {
      "text/plain": [
       "39    35\n",
       "41    32\n",
       "Name: Spines, dtype: int64"
      ]
     },
     "execution_count": 13,
     "metadata": {},
     "output_type": "execute_result"
    }
   ],
   "source": [
    "sp_normal['Spines'][sp_normal['Genotype'] == 'WT'][out_WT]"
   ]
  },
  {
   "cell_type": "code",
   "execution_count": 14,
   "metadata": {},
   "outputs": [],
   "source": [
    "sp_tidy = sp_normal.drop(index = [39, 41])"
   ]
  },
  {
   "cell_type": "code",
   "execution_count": 15,
   "metadata": {},
   "outputs": [
    {
     "data": {
      "text/plain": [
       "Genotype\n",
       "KO    21\n",
       "WT    18\n",
       "Name: ID, dtype: int64"
      ]
     },
     "execution_count": 15,
     "metadata": {},
     "output_type": "execute_result"
    }
   ],
   "source": [
    "sp_tidy.groupby('Genotype')['ID'].count()"
   ]
  },
  {
   "cell_type": "code",
   "execution_count": 16,
   "metadata": {},
   "outputs": [
    {
     "data": {
      "image/png": "[encoded data removed]",
      "text/plain": [
       "<Figure size 432x288 with 1 Axes>"
      ]
     },
     "metadata": {
      "needs_background": "light"
     },
     "output_type": "display_data"
    }
   ],
   "source": [
    "sns.boxplot(data = sp_tidy, x = 'Genotype', y = 'Spines', palette=['royalblue', 'forestgreen'], order = ['WT', 'KO'], showmeans=True, showfliers = False, meanprops={'marker':'+', 'markeredgecolor':'k'}, width=0.4)\n",
    "sns.despine()"
   ]
  },
  {
   "cell_type": "code",
   "execution_count": 17,
   "metadata": {},
   "outputs": [
    {
     "data": {
      "text/html": [
       "<div>\n",
       "<style scoped>\n",
       "    .dataframe tbody tr th:only-of-type {\n",
       "        vertical-align: middle;\n",
       "    }\n",
       "\n",
       "    .dataframe tbody tr th {\n",
       "        vertical-align: top;\n",
       "    }\n",
       "\n",
       "    .dataframe thead th {\n",
       "        text-align: right;\n",
       "    }\n",
       "</style>\n",
       "<table border=\"1\" class=\"dataframe\">\n",
       "  <thead>\n",
       "    <tr style=\"text-align: right;\">\n",
       "      <th></th>\n",
       "      <th>W</th>\n",
       "      <th>pval</th>\n",
       "      <th>normal</th>\n",
       "    </tr>\n",
       "  </thead>\n",
       "  <tbody>\n",
       "    <tr>\n",
       "      <th>KO</th>\n",
       "      <td>0.967427</td>\n",
       "      <td>0.675686</td>\n",
       "      <td>True</td>\n",
       "    </tr>\n",
       "    <tr>\n",
       "      <th>WT</th>\n",
       "      <td>0.960308</td>\n",
       "      <td>0.607598</td>\n",
       "      <td>True</td>\n",
       "    </tr>\n",
       "  </tbody>\n",
       "</table>\n",
       "</div>"
      ],
      "text/plain": [
       "           W      pval  normal\n",
       "KO  0.967427  0.675686    True\n",
       "WT  0.960308  0.607598    True"
      ]
     },
     "execution_count": 17,
     "metadata": {},
     "output_type": "execute_result"
    }
   ],
   "source": [
    "pg.normality(data = sp_tidy, dv = 'Spines', group = 'Genotype')"
   ]
  },
  {
   "cell_type": "code",
   "execution_count": 18,
   "metadata": {},
   "outputs": [
    {
     "data": {
      "text/html": [
       "<div>\n",
       "<style scoped>\n",
       "    .dataframe tbody tr th:only-of-type {\n",
       "        vertical-align: middle;\n",
       "    }\n",
       "\n",
       "    .dataframe tbody tr th {\n",
       "        vertical-align: top;\n",
       "    }\n",
       "\n",
       "    .dataframe thead th {\n",
       "        text-align: right;\n",
       "    }\n",
       "</style>\n",
       "<table border=\"1\" class=\"dataframe\">\n",
       "  <thead>\n",
       "    <tr style=\"text-align: right;\">\n",
       "      <th></th>\n",
       "      <th>T</th>\n",
       "      <th>dof</th>\n",
       "      <th>tail</th>\n",
       "      <th>p-val</th>\n",
       "      <th>CI95%</th>\n",
       "      <th>cohen-d</th>\n",
       "      <th>BF10</th>\n",
       "      <th>power</th>\n",
       "    </tr>\n",
       "  </thead>\n",
       "  <tbody>\n",
       "    <tr>\n",
       "      <th>T-test</th>\n",
       "      <td>1.482769</td>\n",
       "      <td>28.679949</td>\n",
       "      <td>two-sided</td>\n",
       "      <td>0.149042</td>\n",
       "      <td>[-0.84, 5.23]</td>\n",
       "      <td>0.491298</td>\n",
       "      <td>0.738</td>\n",
       "      <td>0.319438</td>\n",
       "    </tr>\n",
       "  </tbody>\n",
       "</table>\n",
       "</div>"
      ],
      "text/plain": [
       "               T        dof       tail     p-val          CI95%   cohen-d  \\\n",
       "T-test  1.482769  28.679949  two-sided  0.149042  [-0.84, 5.23]  0.491298   \n",
       "\n",
       "         BF10     power  \n",
       "T-test  0.738  0.319438  "
      ]
     },
     "execution_count": 18,
     "metadata": {},
     "output_type": "execute_result"
    }
   ],
   "source": [
    "pg.ttest(sp_tidy['Spines'][sp_tidy['Genotype']=='WT'], sp_tidy['Spines'][sp_tidy['Genotype']=='KO'])"
   ]
  },
  {
   "cell_type": "markdown",
   "metadata": {},
   "source": [
    "#### A tendency in the other direction, not significant"
   ]
  },
  {
   "cell_type": "markdown",
   "metadata": {},
   "source": [
    "### Mossy Fiber Buttons"
   ]
  },
  {
   "cell_type": "code",
   "execution_count": 19,
   "metadata": {},
   "outputs": [],
   "source": [
    "mfb_df = pd.read_csv('/Users/labc02/Documents/PDCB_data/Morphometry/MFB_database.csv')"
   ]
  },
  {
   "cell_type": "code",
   "execution_count": 27,
   "metadata": {},
   "outputs": [
    {
     "data": {
      "text/plain": [
       "Index(['ID', 'Genotype', 'Filopoia', 'Volume', 'Cr_Diameter'], dtype='object')"
      ]
     },
     "execution_count": 27,
     "metadata": {},
     "output_type": "execute_result"
    }
   ],
   "source": [
    "mfb_df.columns"
   ]
  },
  {
   "cell_type": "code",
   "execution_count": 26,
   "metadata": {},
   "outputs": [
    {
     "data": {
      "text/plain": [
       "Genotype\n",
       "KO    35\n",
       "WT    49\n",
       "Name: ID, dtype: int64"
      ]
     },
     "execution_count": 26,
     "metadata": {},
     "output_type": "execute_result"
    }
   ],
   "source": [
    "mfb_df.groupby('Genotype')['ID'].count()"
   ]
  },
  {
   "cell_type": "markdown",
   "metadata": {},
   "source": [
    "#### Filopodia"
   ]
  },
  {
   "cell_type": "code",
   "execution_count": 29,
   "metadata": {},
   "outputs": [],
   "source": [
    "ko_fil = mfb_df['Filopoia'][mfb_df['Genotype'] == 'KO']\n",
    "wt_fil = mfb_df['Filopoia'][mfb_df['Genotype'] == 'WT']\n"
   ]
  },
  {
   "cell_type": "code",
   "execution_count": 35,
   "metadata": {},
   "outputs": [],
   "source": [
    "# ECDF for filopodia\n",
    "wt_fil_ecdf = ecdf(wt_fil)\n",
    "ko_fil_ecdf = ecdf(ko_fil)"
   ]
  },
  {
   "cell_type": "code",
   "execution_count": 124,
   "metadata": {},
   "outputs": [
    {
     "data": {
      "image/png": "[encoded data removed]",
      "text/plain": [
       "<Figure size 360x288 with 1 Axes>"
      ]
     },
     "metadata": {
      "needs_background": "light"
     },
     "output_type": "display_data"
    }
   ],
   "source": [
    "fil_fig = plt.figure(figsize = (5, 4))\n",
    "\n",
    "fil_ax = plt.subplot()\n",
    "fil_ax.plot(wt_fil_ecdf[0], wt_fil_ecdf[1], color = 'royalblue')\n",
    "fil_ax.plot(ko_fil_ecdf[0], ko_fil_ecdf[1], color = 'forestgreen')\n",
    "fil_ax.spines['right'].set_visible(False)\n",
    "fil_ax.spines['top'].set_visible(False)\n",
    "fil_ax.set_xlabel('No. of Filopodia')\n",
    "fil_ax.set_ylabel('Cum. Pb.')\n",
    "\n",
    "box_ax = fil_ax.inset_axes([0.7, 0.1, 0.3, 0.6])\n",
    "sns.boxplot(data = mfb_df, x = 'Genotype', y = 'Filopoia', palette=['royalblue', 'forestgreen'], order = ['WT', 'KO'], showmeans=True, showfliers = False, meanprops={'marker':'+', 'markeredgecolor':'k'}, width=0.4, ax = box_ax)\n",
    "box_ax.set_ylabel('No. of Filopodia')\n",
    "box_ax.set_xlabel('')\n",
    "box_ax.spines['right'].set_visible(False)\n",
    "box_ax.spines['top'].set_visible(False)\n"
   ]
  },
  {
   "cell_type": "code",
   "execution_count": 106,
   "metadata": {},
   "outputs": [
    {
     "data": {
      "text/html": [
       "<div>\n",
       "<style scoped>\n",
       "    .dataframe tbody tr th:only-of-type {\n",
       "        vertical-align: middle;\n",
       "    }\n",
       "\n",
       "    .dataframe tbody tr th {\n",
       "        vertical-align: top;\n",
       "    }\n",
       "\n",
       "    .dataframe thead th {\n",
       "        text-align: right;\n",
       "    }\n",
       "</style>\n",
       "<table border=\"1\" class=\"dataframe\">\n",
       "  <thead>\n",
       "    <tr style=\"text-align: right;\">\n",
       "      <th></th>\n",
       "      <th>U-val</th>\n",
       "      <th>tail</th>\n",
       "      <th>p-val</th>\n",
       "      <th>RBC</th>\n",
       "      <th>CLES</th>\n",
       "    </tr>\n",
       "  </thead>\n",
       "  <tbody>\n",
       "    <tr>\n",
       "      <th>MWU</th>\n",
       "      <td>989.0</td>\n",
       "      <td>greater</td>\n",
       "      <td>0.111604</td>\n",
       "      <td>-0.153353</td>\n",
       "      <td>0.478134</td>\n",
       "    </tr>\n",
       "  </tbody>\n",
       "</table>\n",
       "</div>"
      ],
      "text/plain": [
       "     U-val     tail     p-val       RBC      CLES\n",
       "MWU  989.0  greater  0.111604 -0.153353  0.478134"
      ]
     },
     "execution_count": 106,
     "metadata": {},
     "output_type": "execute_result"
    }
   ],
   "source": [
    "# Mann-Whitney U\n",
    "pg.mwu(mfb_df['Filopoia'][mfb_df['Genotype']=='WT'], mfb_df['Filopoia'][mfb_df['Genotype']=='KO'], tail = 'greater')"
   ]
  },
  {
   "cell_type": "code",
   "execution_count": 73,
   "metadata": {},
   "outputs": [
    {
     "data": {
      "text/plain": [
       "Ks_2sampResult(statistic=0.14285714285714285, pvalue=0.9999997041284721)"
      ]
     },
     "execution_count": 73,
     "metadata": {},
     "output_type": "execute_result"
    }
   ],
   "source": [
    "# Kolmogorov-Smirnov for ECDF\n",
    "ks_2samp(wt_fil_ecdf[1], ko_fil_ecdf[1])"
   ]
  },
  {
   "cell_type": "markdown",
   "metadata": {},
   "source": [
    "### Volume"
   ]
  },
  {
   "cell_type": "code",
   "execution_count": 109,
   "metadata": {},
   "outputs": [],
   "source": [
    "ko_vol = mfb_df['Volume'][mfb_df['Genotype'] == 'KO'].round()\n",
    "wt_vol = mfb_df['Volume'][mfb_df['Genotype'] == 'WT'].round()\n",
    "\n",
    "# ECDF for filopodia\n",
    "wt_vol_ecdf = ecdf(wt_vol)\n",
    "ko_vol_ecdf = ecdf(ko_vol)"
   ]
  },
  {
   "cell_type": "code",
   "execution_count": 245,
   "metadata": {},
   "outputs": [
    {
     "data": {
      "text/plain": [
       "Text(0.5, 0.97, '*')"
      ]
     },
     "execution_count": 245,
     "metadata": {},
     "output_type": "execute_result"
    },
    {
     "data": {
      "image/png": "[encoded data removed]",
      "text/plain": [
       "<Figure size 360x288 with 1 Axes>"
      ]
     },
     "metadata": {
      "needs_background": "light"
     },
     "output_type": "display_data"
    }
   ],
   "source": [
    "vol_fig = plt.figure(figsize = (5, 4))\n",
    "\n",
    "vol_ax = plt.subplot()\n",
    "vol_ax.plot(wt_vol_ecdf[0], wt_vol_ecdf[1], color = 'royalblue')\n",
    "vol_ax.plot(ko_vol_ecdf[0], ko_vol_ecdf[1], color = 'forestgreen')\n",
    "vol_ax.spines['right'].set_visible(False)\n",
    "vol_ax.spines['top'].set_visible(False)\n",
    "vol_ax.set_xlabel(r'Volume $\\mu m^3$')\n",
    "vol_ax.set_ylabel('Cum. Pb.')\n",
    "\n",
    "box_ax = vol_ax.inset_axes([0.7, 0.1, 0.3, 0.5])\n",
    "sns.boxplot(data = mfb_df, x = 'Genotype', y = 'Volume', palette=['royalblue', 'forestgreen'], order = ['WT', 'KO'], showmeans=True, showfliers = False, meanprops={'marker':'+', 'markeredgecolor':'k'}, width=0.4, ax = box_ax)\n",
    "box_ax.set_ylabel(r'Volume $\\mu m^3$')\n",
    "box_ax.set_xlabel('')\n",
    "box_ax.spines['right'].set_visible(False)\n",
    "box_ax.spines['top'].set_visible(False)\n",
    "box_ax.set_ylim(0, 55)\n",
    "box_ax.annotate('*', xy = (0.5, 0.95), xytext = (0.5, 0.97), xycoords = 'axes fraction', ha = 'center', arrowprops=dict(arrowstyle='-[, widthB=2, lengthB=.2', lw=1.5, color='k'), fontsize = 10)\n"
   ]
  },
  {
   "cell_type": "code",
   "execution_count": 111,
   "metadata": {},
   "outputs": [
    {
     "data": {
      "text/plain": [
       "Ks_2sampResult(statistic=0.20142857142857143, pvalue=0.5762251456982352)"
      ]
     },
     "execution_count": 111,
     "metadata": {},
     "output_type": "execute_result"
    }
   ],
   "source": [
    "# Kolmogorov-Smirnov for ECDF\n",
    "ks_2samp(wt_vol_ecdf[1], ko_vol_ecdf[1])"
   ]
  },
  {
   "cell_type": "code",
   "execution_count": 112,
   "metadata": {},
   "outputs": [
    {
     "data": {
      "text/html": [
       "<div>\n",
       "<style scoped>\n",
       "    .dataframe tbody tr th:only-of-type {\n",
       "        vertical-align: middle;\n",
       "    }\n",
       "\n",
       "    .dataframe tbody tr th {\n",
       "        vertical-align: top;\n",
       "    }\n",
       "\n",
       "    .dataframe thead th {\n",
       "        text-align: right;\n",
       "    }\n",
       "</style>\n",
       "<table border=\"1\" class=\"dataframe\">\n",
       "  <thead>\n",
       "    <tr style=\"text-align: right;\">\n",
       "      <th></th>\n",
       "      <th>W</th>\n",
       "      <th>pval</th>\n",
       "      <th>normal</th>\n",
       "    </tr>\n",
       "  </thead>\n",
       "  <tbody>\n",
       "    <tr>\n",
       "      <th>KO</th>\n",
       "      <td>0.929359</td>\n",
       "      <td>0.026775</td>\n",
       "      <td>False</td>\n",
       "    </tr>\n",
       "    <tr>\n",
       "      <th>WT</th>\n",
       "      <td>0.978252</td>\n",
       "      <td>0.494352</td>\n",
       "      <td>True</td>\n",
       "    </tr>\n",
       "  </tbody>\n",
       "</table>\n",
       "</div>"
      ],
      "text/plain": [
       "           W      pval  normal\n",
       "KO  0.929359  0.026775   False\n",
       "WT  0.978252  0.494352    True"
      ]
     },
     "execution_count": 112,
     "metadata": {},
     "output_type": "execute_result"
    }
   ],
   "source": [
    "pg.normality(data = mfb_df, dv = 'Volume', group = 'Genotype')"
   ]
  },
  {
   "cell_type": "code",
   "execution_count": 113,
   "metadata": {},
   "outputs": [
    {
     "data": {
      "text/html": [
       "<div>\n",
       "<style scoped>\n",
       "    .dataframe tbody tr th:only-of-type {\n",
       "        vertical-align: middle;\n",
       "    }\n",
       "\n",
       "    .dataframe tbody tr th {\n",
       "        vertical-align: top;\n",
       "    }\n",
       "\n",
       "    .dataframe thead th {\n",
       "        text-align: right;\n",
       "    }\n",
       "</style>\n",
       "<table border=\"1\" class=\"dataframe\">\n",
       "  <thead>\n",
       "    <tr style=\"text-align: right;\">\n",
       "      <th></th>\n",
       "      <th>U-val</th>\n",
       "      <th>tail</th>\n",
       "      <th>p-val</th>\n",
       "      <th>RBC</th>\n",
       "      <th>CLES</th>\n",
       "    </tr>\n",
       "  </thead>\n",
       "  <tbody>\n",
       "    <tr>\n",
       "      <th>MWU</th>\n",
       "      <td>1056.5</td>\n",
       "      <td>greater</td>\n",
       "      <td>0.035852</td>\n",
       "      <td>-0.23207</td>\n",
       "      <td>0.615743</td>\n",
       "    </tr>\n",
       "  </tbody>\n",
       "</table>\n",
       "</div>"
      ],
      "text/plain": [
       "      U-val     tail     p-val      RBC      CLES\n",
       "MWU  1056.5  greater  0.035852 -0.23207  0.615743"
      ]
     },
     "execution_count": 113,
     "metadata": {},
     "output_type": "execute_result"
    }
   ],
   "source": [
    "# Mann-Whitney U\n",
    "pg.mwu(mfb_df['Volume'][mfb_df['Genotype']=='WT'], mfb_df['Volume'][mfb_df['Genotype']=='KO'], tail = 'greater')"
   ]
  },
  {
   "cell_type": "markdown",
   "metadata": {},
   "source": [
    "#### Smaller volume in average for KO"
   ]
  },
  {
   "cell_type": "markdown",
   "metadata": {},
   "source": [
    "## Cross-sectional Diameter"
   ]
  },
  {
   "cell_type": "code",
   "execution_count": 114,
   "metadata": {},
   "outputs": [],
   "source": [
    "ko_dmt = mfb_df['Cr_Diameter'][mfb_df['Genotype'] == 'KO'].round()\n",
    "wt_dmt = mfb_df['Cr_Diameter'][mfb_df['Genotype'] == 'WT'].round()\n",
    "\n",
    "# ECDF for filopodia\n",
    "wt_dmt_ecdf = ecdf(wt_dmt)\n",
    "ko_dmt_ecdf = ecdf(ko_dmt)"
   ]
  },
  {
   "cell_type": "code",
   "execution_count": 250,
   "metadata": {},
   "outputs": [
    {
     "data": {
      "text/plain": [
       "Text(0.5, 0.97, '***')"
      ]
     },
     "execution_count": 250,
     "metadata": {},
     "output_type": "execute_result"
    },
    {
     "data": {
      "image/png": "[encoded data removed]",
      "text/plain": [
       "<Figure size 360x288 with 1 Axes>"
      ]
     },
     "metadata": {
      "needs_background": "light"
     },
     "output_type": "display_data"
    }
   ],
   "source": [
    "dmt_fig = plt.figure(figsize = (5, 4))\n",
    "\n",
    "dmt_ax = plt.subplot()\n",
    "dmt_ax.plot(wt_dmt_ecdf[0], wt_dmt_ecdf[1], color = 'royalblue')\n",
    "dmt_ax.plot(ko_dmt_ecdf[0], ko_dmt_ecdf[1], color = 'forestgreen')\n",
    "dmt_ax.spines['right'].set_visible(False)\n",
    "dmt_ax.spines['top'].set_visible(False)\n",
    "dmt_ax.set_xlabel(r'Diameter $\\mu m$')\n",
    "dmt_ax.set_ylabel('Cum. Pb.')\n",
    "\n",
    "box_ax = dmt_ax.inset_axes([0.7, 0.1, 0.3, 0.5])\n",
    "sns.boxplot(data = mfb_df, x = 'Genotype', y = 'Cr_Diameter', palette=['royalblue', 'forestgreen'], order = ['WT', 'KO'], showmeans=True, showfliers = False, meanprops={'marker':'+', 'markeredgecolor':'k'}, width=0.4, ax = box_ax)\n",
    "box_ax.set_ylabel(r'Diameter $\\mu m$')\n",
    "box_ax.set_xlabel('')\n",
    "box_ax.spines['right'].set_visible(False)\n",
    "box_ax.spines['top'].set_visible(False)\n",
    "box_ax.set_ylim(1, 9)\n",
    "box_ax.annotate('***', xy = (0.5, 0.95), xytext = (0.5, 0.97), xycoords = 'axes fraction', ha = 'center', arrowprops=dict(arrowstyle='-[, widthB=2, lengthB=.2', lw=1.5, color='k'), fontsize = 10)\n",
    "\n"
   ]
  },
  {
   "cell_type": "code",
   "execution_count": 127,
   "metadata": {},
   "outputs": [
    {
     "data": {
      "text/plain": [
       "Ks_2sampResult(statistic=0.21428571428571427, pvalue=0.9906759906759907)"
      ]
     },
     "execution_count": 127,
     "metadata": {},
     "output_type": "execute_result"
    }
   ],
   "source": [
    "# Kolmogorov-Smirnov for ECDF\n",
    "ks_2samp(wt_dmt_ecdf[1], ko_dmt_ecdf[1])"
   ]
  },
  {
   "cell_type": "code",
   "execution_count": 128,
   "metadata": {},
   "outputs": [
    {
     "data": {
      "text/html": [
       "<div>\n",
       "<style scoped>\n",
       "    .dataframe tbody tr th:only-of-type {\n",
       "        vertical-align: middle;\n",
       "    }\n",
       "\n",
       "    .dataframe tbody tr th {\n",
       "        vertical-align: top;\n",
       "    }\n",
       "\n",
       "    .dataframe thead th {\n",
       "        text-align: right;\n",
       "    }\n",
       "</style>\n",
       "<table border=\"1\" class=\"dataframe\">\n",
       "  <thead>\n",
       "    <tr style=\"text-align: right;\">\n",
       "      <th></th>\n",
       "      <th>W</th>\n",
       "      <th>pval</th>\n",
       "      <th>normal</th>\n",
       "    </tr>\n",
       "  </thead>\n",
       "  <tbody>\n",
       "    <tr>\n",
       "      <th>KO</th>\n",
       "      <td>0.976908</td>\n",
       "      <td>0.656722</td>\n",
       "      <td>True</td>\n",
       "    </tr>\n",
       "    <tr>\n",
       "      <th>WT</th>\n",
       "      <td>0.983042</td>\n",
       "      <td>0.696972</td>\n",
       "      <td>True</td>\n",
       "    </tr>\n",
       "  </tbody>\n",
       "</table>\n",
       "</div>"
      ],
      "text/plain": [
       "           W      pval  normal\n",
       "KO  0.976908  0.656722    True\n",
       "WT  0.983042  0.696972    True"
      ]
     },
     "execution_count": 128,
     "metadata": {},
     "output_type": "execute_result"
    }
   ],
   "source": [
    "pg.normality(data = mfb_df, dv = 'Cr_Diameter', group = 'Genotype')"
   ]
  },
  {
   "cell_type": "code",
   "execution_count": 129,
   "metadata": {},
   "outputs": [
    {
     "data": {
      "text/html": [
       "<div>\n",
       "<style scoped>\n",
       "    .dataframe tbody tr th:only-of-type {\n",
       "        vertical-align: middle;\n",
       "    }\n",
       "\n",
       "    .dataframe tbody tr th {\n",
       "        vertical-align: top;\n",
       "    }\n",
       "\n",
       "    .dataframe thead th {\n",
       "        text-align: right;\n",
       "    }\n",
       "</style>\n",
       "<table border=\"1\" class=\"dataframe\">\n",
       "  <thead>\n",
       "    <tr style=\"text-align: right;\">\n",
       "      <th></th>\n",
       "      <th>T</th>\n",
       "      <th>dof</th>\n",
       "      <th>tail</th>\n",
       "      <th>p-val</th>\n",
       "      <th>CI95%</th>\n",
       "      <th>cohen-d</th>\n",
       "      <th>BF10</th>\n",
       "      <th>power</th>\n",
       "    </tr>\n",
       "  </thead>\n",
       "  <tbody>\n",
       "    <tr>\n",
       "      <th>T-test</th>\n",
       "      <td>3.952724</td>\n",
       "      <td>62.307545</td>\n",
       "      <td>greater</td>\n",
       "      <td>0.0001</td>\n",
       "      <td>[0.68, inf]</td>\n",
       "      <td>0.909635</td>\n",
       "      <td>288.949</td>\n",
       "      <td>0.992473</td>\n",
       "    </tr>\n",
       "  </tbody>\n",
       "</table>\n",
       "</div>"
      ],
      "text/plain": [
       "               T        dof     tail   p-val        CI95%   cohen-d     BF10  \\\n",
       "T-test  3.952724  62.307545  greater  0.0001  [0.68, inf]  0.909635  288.949   \n",
       "\n",
       "           power  \n",
       "T-test  0.992473  "
      ]
     },
     "execution_count": 129,
     "metadata": {},
     "output_type": "execute_result"
    }
   ],
   "source": [
    "pg.ttest(mfb_df['Cr_Diameter'][mfb_df['Genotype']=='WT'], mfb_df['Cr_Diameter'][mfb_df['Genotype']=='KO'], tail = 'greater')"
   ]
  },
  {
   "cell_type": "code",
   "execution_count": 140,
   "metadata": {},
   "outputs": [],
   "source": [
    "# Linear regression for Diameter/vol\n",
    "\n",
    "wt_res = linregress(mfb_df['Cr_Diameter'][mfb_df['Genotype']== 'WT'], mfb_df['Volume'][mfb_df['Genotype']== 'WT'])"
   ]
  },
  {
   "cell_type": "code",
   "execution_count": 141,
   "metadata": {},
   "outputs": [
    {
     "data": {
      "text/plain": [
       "LinregressResult(slope=3.9967847080098062, intercept=5.055386111353226, rvalue=0.4875253569909244, pvalue=0.0003809404212348421, stderr=1.0440781249256288)"
      ]
     },
     "execution_count": 141,
     "metadata": {},
     "output_type": "execute_result"
    }
   ],
   "source": [
    "wt_res"
   ]
  },
  {
   "cell_type": "code",
   "execution_count": 142,
   "metadata": {},
   "outputs": [],
   "source": [
    "# Linear regression for Diameter/vol\n",
    "\n",
    "ko_res = linregress(mfb_df['Cr_Diameter'][mfb_df['Genotype']== 'KO'], mfb_df['Volume'][mfb_df['Genotype']== 'KO'])"
   ]
  },
  {
   "cell_type": "code",
   "execution_count": 143,
   "metadata": {},
   "outputs": [
    {
     "data": {
      "text/plain": [
       "LinregressResult(slope=6.921188821218585, intercept=-6.363234784694683, rvalue=0.7678760246745948, pvalue=7.297456346714532e-08, stderr=1.0051214071483086)"
      ]
     },
     "execution_count": 143,
     "metadata": {},
     "output_type": "execute_result"
    }
   ],
   "source": [
    "ko_res"
   ]
  },
  {
   "cell_type": "code",
   "execution_count": 221,
   "metadata": {},
   "outputs": [
    {
     "data": {
      "text/plain": [
       "Text(0, 0.5, 'Volume $\\\\mu m^3$')"
      ]
     },
     "execution_count": 221,
     "metadata": {},
     "output_type": "execute_result"
    },
    {
     "data": {
      "image/png": "[encoded data removed]",
      "text/plain": [
       "<Figure size 432x360 with 1 Axes>"
      ]
     },
     "metadata": {
      "needs_background": "light"
     },
     "output_type": "display_data"
    }
   ],
   "source": [
    "linres_fig = plt.figure(figsize=(6,5))\n",
    "linres_ax = plt.subplot()\n",
    "\n",
    "linres_ax.scatter(x = mfb_df['Cr_Diameter'][mfb_df['Genotype']== 'WT'], y = mfb_df['Volume'][mfb_df['Genotype']== 'WT'], s = 16, c = 'royalblue', marker = 'o')\n",
    "linres_ax.scatter(x = mfb_df['Cr_Diameter'][mfb_df['Genotype']== 'KO'], y = mfb_df['Volume'][mfb_df['Genotype']== 'KO'], s = 16, c = 'forestgreen', marker = 'o')\n",
    "\n",
    "linres_ax.plot(mfb_df['Cr_Diameter'][mfb_df['Genotype']== 'WT'], wt_res.intercept + wt_res.slope*mfb_df['Cr_Diameter'][mfb_df['Genotype']== 'WT'], color = 'royalblue')\n",
    "linres_ax.plot(mfb_df['Cr_Diameter'][mfb_df['Genotype']== 'WT'], wt_res.intercept + wt_res.slope*mfb_df['Cr_Diameter'][mfb_df['Genotype']== 'WT']+wt_res.stderr, color = 'royalblue', alpha = 0.2)\n",
    "linres_ax.plot(mfb_df['Cr_Diameter'][mfb_df['Genotype']== 'WT'], wt_res.intercept + wt_res.slope*mfb_df['Cr_Diameter'][mfb_df['Genotype']== 'WT']-wt_res.stderr, color = 'royalblue', alpha = 0.2)\n",
    "\n",
    "linres_ax.plot(mfb_df['Cr_Diameter'][mfb_df['Genotype']== 'KO'], ko_res.intercept + ko_res.slope*mfb_df['Cr_Diameter'][mfb_df['Genotype']== 'KO'], color = 'forestgreen')\n",
    "linres_ax.plot(mfb_df['Cr_Diameter'][mfb_df['Genotype']== 'KO'], ko_res.intercept + ko_res.slope*mfb_df['Cr_Diameter'][mfb_df['Genotype']== 'KO']+ko_res.stderr, color = 'forestgreen', alpha = 0.2)\n",
    "linres_ax.plot(mfb_df['Cr_Diameter'][mfb_df['Genotype']== 'KO'], ko_res.intercept + ko_res.slope*mfb_df['Cr_Diameter'][mfb_df['Genotype']== 'KO']-ko_res.stderr, color = 'forestgreen', alpha = 0.2)\n",
    "\n",
    "linres_ax.spines['right'].set_visible(False)\n",
    "linres_ax.spines['top'].set_visible(False)\n",
    "linres_ax.set_xlabel(r'Diameter $\\mu m$')\n",
    "linres_ax.set_ylabel(r'Volume $\\mu m^3$')\n",
    "\n"
   ]
  },
  {
   "cell_type": "code",
   "execution_count": 217,
   "metadata": {},
   "outputs": [],
   "source": [
    "# table of observations\n",
    "\n",
    "fish_ex = fisher_exact([[49, 49], [31, 47]], alternative = 'greater')"
   ]
  },
  {
   "cell_type": "code",
   "execution_count": 218,
   "metadata": {},
   "outputs": [
    {
     "data": {
      "text/plain": [
       "(1.5161290322580645, 0.1139866294295433)"
      ]
     },
     "execution_count": 218,
     "metadata": {},
     "output_type": "execute_result"
    }
   ],
   "source": [
    "fish_ex"
   ]
  },
  {
   "cell_type": "code",
   "execution_count": 220,
   "metadata": {},
   "outputs": [
    {
     "data": {
      "text/plain": [
       "(1.452276295133437,\n",
       " 0.22816305264533898,\n",
       " 1,\n",
       " array([[44.54545455, 53.45454545],\n",
       "        [35.45454545, 42.54545455]]))"
      ]
     },
     "execution_count": 220,
     "metadata": {},
     "output_type": "execute_result"
    }
   ],
   "source": [
    "chi2_contingency([[49, 49], [31, 47]])"
   ]
  },
  {
   "cell_type": "code",
   "execution_count": null,
   "metadata": {},
   "outputs": [],
   "source": []
  }
 ],
 "metadata": {
  "kernelspec": {
   "display_name": "Python 3",
   "language": "python",
   "name": "python3"
  },
  "language_info": {
   "codemirror_mode": {
    "name": "ipython",
    "version": 3
   },
   "file_extension": ".py",
   "mimetype": "text/x-python",
   "name": "python",
   "nbconvert_exporter": "python",
   "pygments_lexer": "ipython3",
   "version": "3.8.2"
  }
 },
 "nbformat": 4,
 "nbformat_minor": 4
}
