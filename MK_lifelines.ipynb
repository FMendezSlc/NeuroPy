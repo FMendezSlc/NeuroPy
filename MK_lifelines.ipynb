{
 "cells": [
  {
   "cell_type": "code",
   "execution_count": 1,
   "metadata": {},
   "outputs": [
    {
     "name": "stderr",
     "output_type": "stream",
     "text": [
      "/opt/miniconda3/envs/databs/lib/python3.8/site-packages/outdated/utils.py:14: OutdatedPackageWarning: The package outdated is out of date. Your version is 0.2.0, the latest is 0.2.1.\n",
      "Set the environment variable OUTDATED_IGNORE=1 to disable these warnings.\n",
      "  return warn(\n",
      "/opt/miniconda3/envs/databs/lib/python3.8/site-packages/outdated/utils.py:14: OutdatedPackageWarning: The package pingouin is out of date. Your version is 0.3.6, the latest is 0.3.12.\n",
      "Set the environment variable OUTDATED_IGNORE=1 to disable these warnings.\n",
      "  return warn(\n"
     ]
    }
   ],
   "source": [
    "import matplotlib.pyplot as plt\n",
    "import pandas as pd\n",
    "import seaborn as sns\n",
    "import lifelines as lf\n",
    "import pingouin as pg"
   ]
  },
  {
   "cell_type": "markdown",
   "metadata": {},
   "source": [
    "## Survival"
   ]
  },
  {
   "cell_type": "code",
   "execution_count": 2,
   "metadata": {},
   "outputs": [],
   "source": [
    "MK_surv = pd.read_csv('/Users/labc02/Documents/PDCB_data/MK-project/MK_lifelines.csv')"
   ]
  },
  {
   "cell_type": "code",
   "execution_count": 3,
   "metadata": {},
   "outputs": [
    {
     "data": {
      "text/plain": [
       "Genotype  Treatment  Dosage (mg/kg)\n",
       "HE        MK-801     1.0                9\n",
       "          Saline     1.0                8\n",
       "KO        MK-801     0.5               80\n",
       "                     1.0               24\n",
       "          Saline     1.0               76\n",
       "WT        MK-801     0.5               42\n",
       "                     1.0               30\n",
       "          Saline     1.0               47\n",
       "Name: ID, dtype: int64"
      ]
     },
     "execution_count": 3,
     "metadata": {},
     "output_type": "execute_result"
    }
   ],
   "source": [
    "MK_surv.groupby(['Genotype', 'Treatment', 'Dosage (mg/kg)'])['ID'].count()"
   ]
  },
  {
   "cell_type": "code",
   "execution_count": 4,
   "metadata": {},
   "outputs": [],
   "source": [
    "km_fit = lf.KaplanMeierFitter()"
   ]
  },
  {
   "cell_type": "code",
   "execution_count": 43,
   "metadata": {},
   "outputs": [
    {
     "data": {
      "text/plain": [
       "Text(0.5, 1.0, 'All Groups')"
      ]
     },
     "execution_count": 43,
     "metadata": {},
     "output_type": "execute_result"
    },
    {
     "data": {
      "image/png": "[encoded data removed]",
      "text/plain": [
       "<Figure size 504x360 with 1 Axes>"
      ]
     },
     "metadata": {
      "needs_background": "light"
     },
     "output_type": "display_data"
    }
   ],
   "source": [
    "surv_all = plt.figure(figsize=(7,5))\n",
    "ax=plt.subplot()\n",
    "colors = {'HE': 'goldenrod', 'KO': 'forestgreen', 'WT': 'royalblue'}\n",
    "st = {'Saline_1.0': 'solid', 'MK-801_1.0': 'dashed', 'MK-801_0.5': 'dotted'}\n",
    "for name, grouped_df in MK_surv.groupby(['Genotype', 'Treatment', 'Dosage (mg/kg)']):\n",
    "    km_fit.fit(grouped_df[\"Duration\"], grouped_df[\"Event\"], label=name)\n",
    "    km_fit.plot(ax=ax, ci_show=False, color = colors[name[0]], linestyle= st[name[1]+'_'+str(name[2])])\n",
    "plt.ylabel('Survival (%)')\n",
    "plt.xlabel('Days')\n",
    "ax.legend(fancybox=True, ncol=2, loc = 7, bbox_to_anchor = (.9, .25))\n",
    "plt.axvline(5, ls='--', color = 'k', alpha = .5)\n",
    "plt.axvline(9, ls='--', color = 'k', alpha = .5)\n",
    "plt.title('All Groups')"
   ]
  },
  {
   "cell_type": "code",
   "execution_count": 44,
   "metadata": {},
   "outputs": [],
   "source": [
    "surv_all.savefig('/Users/labc02/Documents/PDCB_data/MK-project/Figures/Survival_all.svg')"
   ]
  },
  {
   "cell_type": "code",
   "execution_count": 45,
   "metadata": {},
   "outputs": [],
   "source": [
    "MK_surv['Group'] = MK_surv['Genotype']+'_'+MK_surv['Treatment']+'_'+MK_surv['Dosage (mg/kg)'].astype(str)"
   ]
  },
  {
   "cell_type": "code",
   "execution_count": 46,
   "metadata": {},
   "outputs": [],
   "source": [
    "plr_test = lf.statistics.pairwise_logrank_test(event_durations = MK_surv['Duration'], event_observed = MK_surv['Event'], groups = MK_surv['Group'])\n",
    "\n",
    "sig, p_adj = pg.multicomp(plr_test.summary['p'].values, method = 'bonf')\n",
    "\n",
    "logrank_df = plr_test.summary\n",
    "\n",
    "logrank_df['Bonferroni adj'] = p_adj.round(5)"
   ]
  },
  {
   "cell_type": "code",
   "execution_count": 48,
   "metadata": {},
   "outputs": [],
   "source": [
    "logrank_df.to_csv('/Users/labc02/Documents/PDCB_data/MK-project/Figures/Survival_all_logrank.csv')"
   ]
  },
  {
   "cell_type": "code",
   "execution_count": 110,
   "metadata": {},
   "outputs": [
    {
     "name": "stdout",
     "output_type": "stream",
     "text": [
      "  test_statistic      p    Bonferroni adj\n",
      "----------------  -----  ----------------\n",
      "           8.469  0.004             0.022\n",
      "           1.201  0.273             1.000\n",
      "           2.951  0.086             0.515\n",
      "           2.844  0.092             0.550\n",
      "           1.048  0.306             1.000\n",
      "           0.368  0.544             1.000\n",
      "\n"
     ]
    }
   ],
   "source": [
    "logrank_df."
   ]
  },
  {
   "cell_type": "code",
   "execution_count": 49,
   "metadata": {},
   "outputs": [],
   "source": [
    "MK_1mg = MK_surv[MK_surv['Dosage (mg/kg)'] == 1]"
   ]
  },
  {
   "cell_type": "code",
   "execution_count": 50,
   "metadata": {},
   "outputs": [
    {
     "data": {
      "text/plain": [
       "Text(0.5, 1.0, 'Dosage: 1mg/kg')"
      ]
     },
     "execution_count": 50,
     "metadata": {},
     "output_type": "execute_result"
    },
    {
     "data": {
      "image/png": "[encoded data removed]",
      "text/plain": [
       "<Figure size 504x360 with 1 Axes>"
      ]
     },
     "metadata": {
      "needs_background": "light"
     },
     "output_type": "display_data"
    }
   ],
   "source": [
    "surv_1mg = plt.figure(figsize = (7,5))\n",
    "ax=plt.subplot()\n",
    "colors = {'HE': 'goldenrod', 'KO': 'forestgreen', 'WT': 'royalblue'}\n",
    "st = {'Saline': 'solid', 'MK-801': 'dashed'}\n",
    "for name, grouped_df in MK_1mg.groupby(['Genotype', 'Treatment']):\n",
    "    km_fit.fit(grouped_df[\"Duration\"], grouped_df[\"Event\"], label=name)\n",
    "    km_fit.plot(ax=ax, ci_show=False, color = colors[name[0]], linestyle= st[name[1]])\n",
    "plt.ylabel('Survival (%)')\n",
    "plt.xlabel('Days')\n",
    "ax.legend(fancybox=True, ncol=1, loc = 7, bbox_to_anchor = (.98, .25))\n",
    "plt.axvline(5, ls='--', color = 'k', alpha=.5)\n",
    "plt.axvline(9, ls='--', color = 'k', alpha=.5)\n",
    "plt.title('Dosage: 1mg/kg')"
   ]
  },
  {
   "cell_type": "code",
   "execution_count": 51,
   "metadata": {},
   "outputs": [],
   "source": [
    "surv_1mg.savefig('/Users/labc02/Documents/PDCB_data/MK-project/Figures/Survival_1mg.svg')"
   ]
  },
  {
   "cell_type": "code",
   "execution_count": 52,
   "metadata": {},
   "outputs": [],
   "source": [
    "plr_test = lf.statistics.pairwise_logrank_test(event_durations = MK_1mg['Duration'], event_observed = MK_1mg['Event'], groups = MK_1mg['Group'])\n",
    "sig, p_adj = pg.multicomp(plr_test.summary['p'].values, method = 'bonf')\n",
    "\n",
    "logrank_df = plr_test.summary\n",
    "\n",
    "logrank_df['Bonferroni adj'] = p_adj.round(5)"
   ]
  },
  {
   "cell_type": "code",
   "execution_count": 53,
   "metadata": {},
   "outputs": [
    {
     "data": {
      "text/html": [
       "<div>\n",
       "<style scoped>\n",
       "    .dataframe tbody tr th:only-of-type {\n",
       "        vertical-align: middle;\n",
       "    }\n",
       "\n",
       "    .dataframe tbody tr th {\n",
       "        vertical-align: top;\n",
       "    }\n",
       "\n",
       "    .dataframe thead th {\n",
       "        text-align: right;\n",
       "    }\n",
       "</style>\n",
       "<table border=\"1\" class=\"dataframe\">\n",
       "  <thead>\n",
       "    <tr style=\"text-align: right;\">\n",
       "      <th></th>\n",
       "      <th></th>\n",
       "      <th>test_statistic</th>\n",
       "      <th>p</th>\n",
       "      <th>Bonferroni adj</th>\n",
       "    </tr>\n",
       "  </thead>\n",
       "  <tbody>\n",
       "    <tr>\n",
       "      <th rowspan=\"5\" valign=\"top\">HE_MK-801_1.0</th>\n",
       "      <th>HE_Saline_1.0</th>\n",
       "      <td>0.888889</td>\n",
       "      <td>3.457786e-01</td>\n",
       "      <td>1.00000</td>\n",
       "    </tr>\n",
       "    <tr>\n",
       "      <th>KO_MK-801_1.0</th>\n",
       "      <td>12.298642</td>\n",
       "      <td>4.532879e-04</td>\n",
       "      <td>0.00680</td>\n",
       "    </tr>\n",
       "    <tr>\n",
       "      <th>KO_Saline_1.0</th>\n",
       "      <td>3.529152</td>\n",
       "      <td>6.029863e-02</td>\n",
       "      <td>0.90448</td>\n",
       "    </tr>\n",
       "    <tr>\n",
       "      <th>WT_MK-801_1.0</th>\n",
       "      <td>0.121363</td>\n",
       "      <td>7.275605e-01</td>\n",
       "      <td>1.00000</td>\n",
       "    </tr>\n",
       "    <tr>\n",
       "      <th>WT_Saline_1.0</th>\n",
       "      <td>0.772660</td>\n",
       "      <td>3.793955e-01</td>\n",
       "      <td>1.00000</td>\n",
       "    </tr>\n",
       "    <tr>\n",
       "      <th rowspan=\"4\" valign=\"top\">HE_Saline_1.0</th>\n",
       "      <th>KO_MK-801_1.0</th>\n",
       "      <td>14.893160</td>\n",
       "      <td>1.137748e-04</td>\n",
       "      <td>0.00171</td>\n",
       "    </tr>\n",
       "    <tr>\n",
       "      <th>KO_Saline_1.0</th>\n",
       "      <td>0.105263</td>\n",
       "      <td>7.456028e-01</td>\n",
       "      <td>1.00000</td>\n",
       "    </tr>\n",
       "    <tr>\n",
       "      <th>WT_MK-801_1.0</th>\n",
       "      <td>1.449685</td>\n",
       "      <td>2.285785e-01</td>\n",
       "      <td>1.00000</td>\n",
       "    </tr>\n",
       "    <tr>\n",
       "      <th>WT_Saline_1.0</th>\n",
       "      <td>0.344125</td>\n",
       "      <td>5.574578e-01</td>\n",
       "      <td>1.00000</td>\n",
       "    </tr>\n",
       "    <tr>\n",
       "      <th rowspan=\"3\" valign=\"top\">KO_MK-801_1.0</th>\n",
       "      <th>KO_Saline_1.0</th>\n",
       "      <td>109.882857</td>\n",
       "      <td>1.039560e-25</td>\n",
       "      <td>0.00000</td>\n",
       "    </tr>\n",
       "    <tr>\n",
       "      <th>WT_MK-801_1.0</th>\n",
       "      <td>30.731174</td>\n",
       "      <td>2.963652e-08</td>\n",
       "      <td>0.00000</td>\n",
       "    </tr>\n",
       "    <tr>\n",
       "      <th>WT_Saline_1.0</th>\n",
       "      <td>66.564519</td>\n",
       "      <td>3.386267e-16</td>\n",
       "      <td>0.00000</td>\n",
       "    </tr>\n",
       "    <tr>\n",
       "      <th rowspan=\"2\" valign=\"top\">KO_Saline_1.0</th>\n",
       "      <th>WT_MK-801_1.0</th>\n",
       "      <td>9.779738</td>\n",
       "      <td>1.764454e-03</td>\n",
       "      <td>0.02647</td>\n",
       "    </tr>\n",
       "    <tr>\n",
       "      <th>WT_Saline_1.0</th>\n",
       "      <td>1.048300</td>\n",
       "      <td>3.058989e-01</td>\n",
       "      <td>1.00000</td>\n",
       "    </tr>\n",
       "    <tr>\n",
       "      <th>WT_MK-801_1.0</th>\n",
       "      <th>WT_Saline_1.0</th>\n",
       "      <td>3.555435</td>\n",
       "      <td>5.935075e-02</td>\n",
       "      <td>0.89026</td>\n",
       "    </tr>\n",
       "  </tbody>\n",
       "</table>\n",
       "</div>"
      ],
      "text/plain": [
       "                             test_statistic             p  Bonferroni adj\n",
       "HE_MK-801_1.0 HE_Saline_1.0        0.888889  3.457786e-01         1.00000\n",
       "              KO_MK-801_1.0       12.298642  4.532879e-04         0.00680\n",
       "              KO_Saline_1.0        3.529152  6.029863e-02         0.90448\n",
       "              WT_MK-801_1.0        0.121363  7.275605e-01         1.00000\n",
       "              WT_Saline_1.0        0.772660  3.793955e-01         1.00000\n",
       "HE_Saline_1.0 KO_MK-801_1.0       14.893160  1.137748e-04         0.00171\n",
       "              KO_Saline_1.0        0.105263  7.456028e-01         1.00000\n",
       "              WT_MK-801_1.0        1.449685  2.285785e-01         1.00000\n",
       "              WT_Saline_1.0        0.344125  5.574578e-01         1.00000\n",
       "KO_MK-801_1.0 KO_Saline_1.0      109.882857  1.039560e-25         0.00000\n",
       "              WT_MK-801_1.0       30.731174  2.963652e-08         0.00000\n",
       "              WT_Saline_1.0       66.564519  3.386267e-16         0.00000\n",
       "KO_Saline_1.0 WT_MK-801_1.0        9.779738  1.764454e-03         0.02647\n",
       "              WT_Saline_1.0        1.048300  3.058989e-01         1.00000\n",
       "WT_MK-801_1.0 WT_Saline_1.0        3.555435  5.935075e-02         0.89026"
      ]
     },
     "execution_count": 53,
     "metadata": {},
     "output_type": "execute_result"
    }
   ],
   "source": [
    "logrank_df"
   ]
  },
  {
   "cell_type": "code",
   "execution_count": 55,
   "metadata": {},
   "outputs": [],
   "source": [
    "logrank_df.to_csv('/Users/labc02/Documents/PDCB_data/MK-project/Figures/Survival_1mg_logrank.csv')"
   ]
  },
  {
   "cell_type": "code",
   "execution_count": 56,
   "metadata": {},
   "outputs": [],
   "source": [
    "MK_05mg = MK_surv.copy()"
   ]
  },
  {
   "cell_type": "code",
   "execution_count": 57,
   "metadata": {},
   "outputs": [],
   "source": [
    "MK_05mg.loc[MK_05mg['Treatment']=='Saline', 'Dosage (mg/kg)']  = 0.5"
   ]
  },
  {
   "cell_type": "code",
   "execution_count": 58,
   "metadata": {
    "collapsed": true,
    "jupyter": {
     "outputs_hidden": true
    }
   },
   "outputs": [
    {
     "data": {
      "text/html": [
       "<div>\n",
       "<style scoped>\n",
       "    .dataframe tbody tr th:only-of-type {\n",
       "        vertical-align: middle;\n",
       "    }\n",
       "\n",
       "    .dataframe tbody tr th {\n",
       "        vertical-align: top;\n",
       "    }\n",
       "\n",
       "    .dataframe thead th {\n",
       "        text-align: right;\n",
       "    }\n",
       "</style>\n",
       "<table border=\"1\" class=\"dataframe\">\n",
       "  <thead>\n",
       "    <tr style=\"text-align: right;\">\n",
       "      <th></th>\n",
       "      <th>ID</th>\n",
       "      <th>Litter</th>\n",
       "      <th>Genotype</th>\n",
       "      <th>Treatment</th>\n",
       "      <th>Dosage (mg/kg)</th>\n",
       "      <th>Sex</th>\n",
       "      <th>Duration</th>\n",
       "      <th>Event</th>\n",
       "      <th>Group</th>\n",
       "    </tr>\n",
       "  </thead>\n",
       "  <tbody>\n",
       "    <tr>\n",
       "      <th>0</th>\n",
       "      <td>KO_4.1_4</td>\n",
       "      <td>KO_4.1</td>\n",
       "      <td>KO</td>\n",
       "      <td>Saline</td>\n",
       "      <td>0.5</td>\n",
       "      <td>Fem</td>\n",
       "      <td>90</td>\n",
       "      <td>0</td>\n",
       "      <td>KO_Saline_1.0</td>\n",
       "    </tr>\n",
       "    <tr>\n",
       "      <th>1</th>\n",
       "      <td>KO_4.1_5</td>\n",
       "      <td>KO_4.1</td>\n",
       "      <td>KO</td>\n",
       "      <td>Saline</td>\n",
       "      <td>0.5</td>\n",
       "      <td>Fem</td>\n",
       "      <td>90</td>\n",
       "      <td>0</td>\n",
       "      <td>KO_Saline_1.0</td>\n",
       "    </tr>\n",
       "    <tr>\n",
       "      <th>2</th>\n",
       "      <td>KO_4.1_1</td>\n",
       "      <td>KO_4.1</td>\n",
       "      <td>KO</td>\n",
       "      <td>MK-801</td>\n",
       "      <td>1.0</td>\n",
       "      <td>Fem</td>\n",
       "      <td>90</td>\n",
       "      <td>0</td>\n",
       "      <td>KO_MK-801_1.0</td>\n",
       "    </tr>\n",
       "    <tr>\n",
       "      <th>3</th>\n",
       "      <td>KO_4.1_2</td>\n",
       "      <td>KO_4.1</td>\n",
       "      <td>KO</td>\n",
       "      <td>MK-801</td>\n",
       "      <td>1.0</td>\n",
       "      <td>NaN</td>\n",
       "      <td>6</td>\n",
       "      <td>1</td>\n",
       "      <td>KO_MK-801_1.0</td>\n",
       "    </tr>\n",
       "    <tr>\n",
       "      <th>4</th>\n",
       "      <td>KO_4.1_3</td>\n",
       "      <td>KO_4.1</td>\n",
       "      <td>KO</td>\n",
       "      <td>MK-801</td>\n",
       "      <td>1.0</td>\n",
       "      <td>NaN</td>\n",
       "      <td>6</td>\n",
       "      <td>1</td>\n",
       "      <td>KO_MK-801_1.0</td>\n",
       "    </tr>\n",
       "    <tr>\n",
       "      <th>...</th>\n",
       "      <td>...</td>\n",
       "      <td>...</td>\n",
       "      <td>...</td>\n",
       "      <td>...</td>\n",
       "      <td>...</td>\n",
       "      <td>...</td>\n",
       "      <td>...</td>\n",
       "      <td>...</td>\n",
       "      <td>...</td>\n",
       "    </tr>\n",
       "    <tr>\n",
       "      <th>311</th>\n",
       "      <td>HE_3.3_4</td>\n",
       "      <td>HE_3.3</td>\n",
       "      <td>HE</td>\n",
       "      <td>Saline</td>\n",
       "      <td>0.5</td>\n",
       "      <td>Fem</td>\n",
       "      <td>70</td>\n",
       "      <td>0</td>\n",
       "      <td>HE_Saline_1.0</td>\n",
       "    </tr>\n",
       "    <tr>\n",
       "      <th>312</th>\n",
       "      <td>HE_3.3_5</td>\n",
       "      <td>HE_3.3</td>\n",
       "      <td>HE</td>\n",
       "      <td>Saline</td>\n",
       "      <td>0.5</td>\n",
       "      <td>Fem</td>\n",
       "      <td>70</td>\n",
       "      <td>0</td>\n",
       "      <td>HE_Saline_1.0</td>\n",
       "    </tr>\n",
       "    <tr>\n",
       "      <th>313</th>\n",
       "      <td>WT_6.8_3</td>\n",
       "      <td>WT_6.8</td>\n",
       "      <td>WT</td>\n",
       "      <td>MK-801</td>\n",
       "      <td>1.0</td>\n",
       "      <td>NaN</td>\n",
       "      <td>30</td>\n",
       "      <td>0</td>\n",
       "      <td>WT_MK-801_1.0</td>\n",
       "    </tr>\n",
       "    <tr>\n",
       "      <th>314</th>\n",
       "      <td>WT_9.9_1</td>\n",
       "      <td>WT_9.9</td>\n",
       "      <td>WT</td>\n",
       "      <td>MK-801</td>\n",
       "      <td>1.0</td>\n",
       "      <td>NaN</td>\n",
       "      <td>31</td>\n",
       "      <td>0</td>\n",
       "      <td>WT_MK-801_1.0</td>\n",
       "    </tr>\n",
       "    <tr>\n",
       "      <th>315</th>\n",
       "      <td>WT_8.7_1</td>\n",
       "      <td>WT_8.7</td>\n",
       "      <td>WT</td>\n",
       "      <td>MK-801</td>\n",
       "      <td>1.0</td>\n",
       "      <td>NaN</td>\n",
       "      <td>26</td>\n",
       "      <td>0</td>\n",
       "      <td>WT_MK-801_1.0</td>\n",
       "    </tr>\n",
       "  </tbody>\n",
       "</table>\n",
       "<p>316 rows × 9 columns</p>\n",
       "</div>"
      ],
      "text/plain": [
       "           ID  Litter Genotype Treatment  Dosage (mg/kg)  Sex  Duration  \\\n",
       "0    KO_4.1_4  KO_4.1       KO    Saline             0.5  Fem        90   \n",
       "1    KO_4.1_5  KO_4.1       KO    Saline             0.5  Fem        90   \n",
       "2    KO_4.1_1  KO_4.1       KO    MK-801             1.0  Fem        90   \n",
       "3    KO_4.1_2  KO_4.1       KO    MK-801             1.0  NaN         6   \n",
       "4    KO_4.1_3  KO_4.1       KO    MK-801             1.0  NaN         6   \n",
       "..        ...     ...      ...       ...             ...  ...       ...   \n",
       "311  HE_3.3_4  HE_3.3       HE    Saline             0.5  Fem        70   \n",
       "312  HE_3.3_5  HE_3.3       HE    Saline             0.5  Fem        70   \n",
       "313  WT_6.8_3  WT_6.8       WT    MK-801             1.0  NaN        30   \n",
       "314  WT_9.9_1  WT_9.9       WT    MK-801             1.0  NaN        31   \n",
       "315  WT_8.7_1  WT_8.7       WT    MK-801             1.0  NaN        26   \n",
       "\n",
       "     Event          Group  \n",
       "0        0  KO_Saline_1.0  \n",
       "1        0  KO_Saline_1.0  \n",
       "2        0  KO_MK-801_1.0  \n",
       "3        1  KO_MK-801_1.0  \n",
       "4        1  KO_MK-801_1.0  \n",
       "..     ...            ...  \n",
       "311      0  HE_Saline_1.0  \n",
       "312      0  HE_Saline_1.0  \n",
       "313      0  WT_MK-801_1.0  \n",
       "314      0  WT_MK-801_1.0  \n",
       "315      0  WT_MK-801_1.0  \n",
       "\n",
       "[316 rows x 9 columns]"
      ]
     },
     "execution_count": 58,
     "metadata": {},
     "output_type": "execute_result"
    }
   ],
   "source": [
    "MK_05mg"
   ]
  },
  {
   "cell_type": "code",
   "execution_count": 59,
   "metadata": {},
   "outputs": [],
   "source": [
    "MK_05 = MK_05mg[(MK_05mg['Dosage (mg/kg)'] == 0.5) & (MK_05mg['Genotype'] != 'HE')]"
   ]
  },
  {
   "cell_type": "code",
   "execution_count": 61,
   "metadata": {},
   "outputs": [
    {
     "data": {
      "text/plain": [
       "Text(0.5, 1.0, 'Dosage: 0.5mg/kg')"
      ]
     },
     "execution_count": 61,
     "metadata": {},
     "output_type": "execute_result"
    },
    {
     "data": {
      "image/png": "[encoded data removed]",
      "text/plain": [
       "<Figure size 504x360 with 1 Axes>"
      ]
     },
     "metadata": {
      "needs_background": "light"
     },
     "output_type": "display_data"
    }
   ],
   "source": [
    "surv_05 = plt.figure(figsize = (7,5))\n",
    "ax=plt.subplot()\n",
    "colors = {'HE': 'goldenrod', 'KO': 'forestgreen', 'WT': 'royalblue'}\n",
    "st = {'Saline': 'solid', 'MK-801': 'dashed'}\n",
    "for name, grouped_df in MK_05.groupby(['Genotype', 'Treatment']):\n",
    "    km_fit.fit(grouped_df[\"Duration\"], grouped_df[\"Event\"], label=name)\n",
    "    km_fit.plot(ax=ax, ci_show=False, color = colors[name[0]], linestyle = st[name[1]])\n",
    "plt.ylabel('Survival (%)')\n",
    "plt.xlabel('Days')\n",
    "ax.legend(fancybox=True, ncol=2)\n",
    "plt.axvline(5, ls='--', color = 'k', alpha=.5)\n",
    "plt.axvline(9, ls='--', color = 'k', alpha=.5)\n",
    "plt.ylim(0, 1.02)\n",
    "plt.title('Dosage: 0.5mg/kg')"
   ]
  },
  {
   "cell_type": "code",
   "execution_count": 63,
   "metadata": {},
   "outputs": [],
   "source": [
    "surv_05.savefig('/Users/labc02/Documents/PDCB_data/MK-project/Figures/Survival_05mg.svg')"
   ]
  },
  {
   "cell_type": "code",
   "execution_count": 64,
   "metadata": {},
   "outputs": [],
   "source": [
    "plr_test = lf.statistics.pairwise_logrank_test(event_durations = MK_05['Duration'], event_observed = MK_05['Event'], groups = MK_05['Group'])\n",
    "sig, p_adj = pg.multicomp(plr_test.summary['p'].values, method = 'bonf')\n",
    "\n",
    "logrank_df = plr_test.summary\n",
    "\n",
    "logrank_df['Bonferroni adj'] = p_adj.round(5)"
   ]
  },
  {
   "cell_type": "code",
   "execution_count": 65,
   "metadata": {},
   "outputs": [
    {
     "data": {
      "text/html": [
       "<div>\n",
       "<style scoped>\n",
       "    .dataframe tbody tr th:only-of-type {\n",
       "        vertical-align: middle;\n",
       "    }\n",
       "\n",
       "    .dataframe tbody tr th {\n",
       "        vertical-align: top;\n",
       "    }\n",
       "\n",
       "    .dataframe thead th {\n",
       "        text-align: right;\n",
       "    }\n",
       "</style>\n",
       "<table border=\"1\" class=\"dataframe\">\n",
       "  <thead>\n",
       "    <tr style=\"text-align: right;\">\n",
       "      <th></th>\n",
       "      <th></th>\n",
       "      <th>test_statistic</th>\n",
       "      <th>p</th>\n",
       "      <th>Bonferroni adj</th>\n",
       "    </tr>\n",
       "  </thead>\n",
       "  <tbody>\n",
       "    <tr>\n",
       "      <th rowspan=\"3\" valign=\"top\">KO_MK-801_0.5</th>\n",
       "      <th>KO_Saline_1.0</th>\n",
       "      <td>8.469045</td>\n",
       "      <td>0.003612</td>\n",
       "      <td>0.02167</td>\n",
       "    </tr>\n",
       "    <tr>\n",
       "      <th>WT_MK-801_0.5</th>\n",
       "      <td>1.200975</td>\n",
       "      <td>0.273127</td>\n",
       "      <td>1.00000</td>\n",
       "    </tr>\n",
       "    <tr>\n",
       "      <th>WT_Saline_1.0</th>\n",
       "      <td>2.950945</td>\n",
       "      <td>0.085827</td>\n",
       "      <td>0.51496</td>\n",
       "    </tr>\n",
       "    <tr>\n",
       "      <th rowspan=\"2\" valign=\"top\">KO_Saline_1.0</th>\n",
       "      <th>WT_MK-801_0.5</th>\n",
       "      <td>2.844136</td>\n",
       "      <td>0.091708</td>\n",
       "      <td>0.55025</td>\n",
       "    </tr>\n",
       "    <tr>\n",
       "      <th>WT_Saline_1.0</th>\n",
       "      <td>1.048300</td>\n",
       "      <td>0.305899</td>\n",
       "      <td>1.00000</td>\n",
       "    </tr>\n",
       "    <tr>\n",
       "      <th>WT_MK-801_0.5</th>\n",
       "      <th>WT_Saline_1.0</th>\n",
       "      <td>0.367574</td>\n",
       "      <td>0.544330</td>\n",
       "      <td>1.00000</td>\n",
       "    </tr>\n",
       "  </tbody>\n",
       "</table>\n",
       "</div>"
      ],
      "text/plain": [
       "                             test_statistic         p  Bonferroni adj\n",
       "KO_MK-801_0.5 KO_Saline_1.0        8.469045  0.003612         0.02167\n",
       "              WT_MK-801_0.5        1.200975  0.273127         1.00000\n",
       "              WT_Saline_1.0        2.950945  0.085827         0.51496\n",
       "KO_Saline_1.0 WT_MK-801_0.5        2.844136  0.091708         0.55025\n",
       "              WT_Saline_1.0        1.048300  0.305899         1.00000\n",
       "WT_MK-801_0.5 WT_Saline_1.0        0.367574  0.544330         1.00000"
      ]
     },
     "execution_count": 65,
     "metadata": {},
     "output_type": "execute_result"
    }
   ],
   "source": [
    "logrank_df"
   ]
  },
  {
   "cell_type": "code",
   "execution_count": 66,
   "metadata": {},
   "outputs": [],
   "source": [
    "logrank_df.to_csv('/Users/labc02/Documents/PDCB_data/MK-project/Figures/Survival_05mg_logrank.csv')"
   ]
  },
  {
   "cell_type": "markdown",
   "metadata": {},
   "source": [
    "## Growth"
   ]
  },
  {
   "cell_type": "code",
   "execution_count": 123,
   "metadata": {},
   "outputs": [],
   "source": [
    "MK_grow = pd.read_csv('/Users/labc02/Documents/PDCB_data/MK-project/Pesos(3).csv')"
   ]
  },
  {
   "cell_type": "code",
   "execution_count": 124,
   "metadata": {},
   "outputs": [],
   "source": [
    "MK_grow.dropna(how='any', inplace = True)"
   ]
  },
  {
   "cell_type": "code",
   "execution_count": 125,
   "metadata": {},
   "outputs": [],
   "source": [
    "MK_grow.drop(MK_grow.tail(1).index, inplace = True)"
   ]
  },
  {
   "cell_type": "code",
   "execution_count": 125,
   "metadata": {},
   "outputs": [
    {
     "data": {
      "text/plain": [
       "Genotype  Treatment  Dosage (mg/kg)\n",
       "HE        MK-801     1.0                6\n",
       "          Saline     1.0                6\n",
       "KO        MK-801     0.5               65\n",
       "                     1.0                3\n",
       "          Saline     1.0               68\n",
       "WT        MK-801     0.5               26\n",
       "                     1.0               22\n",
       "          Saline     1.0               36\n",
       "Name: ID, dtype: int64"
      ]
     },
     "execution_count": 125,
     "metadata": {},
     "output_type": "execute_result"
    }
   ],
   "source": [
    "MK_grow.groupby(['Genotype', 'Treatment', 'Dosage (mg/kg)'])['ID'].count()"
   ]
  },
  {
   "cell_type": "code",
   "execution_count": 126,
   "metadata": {},
   "outputs": [
    {
     "data": {
      "text/plain": [
       "Index(['ID', 'Litter', 'Genotype', 'Treatment', 'Dosage (mg/kg)', 'Sex', '5',\n",
       "       '6', '7', '8', '9', '10', '11', '12', '13', '14', '15', '16', '17',\n",
       "       '18', '19', '20', '21', '22', '23', '24', '25', '26', '27', '28', '29',\n",
       "       '30', '31', '32', '33', '34', '35', '40', '45', '50', '55', '60', '65',\n",
       "       '70', '75', '80', '85', '90'],\n",
       "      dtype='object')"
      ]
     },
     "execution_count": 126,
     "metadata": {},
     "output_type": "execute_result"
    }
   ],
   "source": [
    "MK_grow.columns"
   ]
  },
  {
   "cell_type": "code",
   "execution_count": 127,
   "metadata": {},
   "outputs": [],
   "source": [
    "mk_g= MK_grow.melt(id_vars=['ID', 'Litter', 'Genotype', 'Treatment', 'Dosage (mg/kg)', 'Sex'], var_name='Day', value_name = 'Weight')"
   ]
  },
  {
   "cell_type": "code",
   "execution_count": 128,
   "metadata": {},
   "outputs": [],
   "source": [
    "mk_g['Day'] = mk_g['Day'].astype('float')"
   ]
  },
  {
   "cell_type": "code",
   "execution_count": 129,
   "metadata": {},
   "outputs": [],
   "source": [
    "mk_g['Group'] = mk_g['Genotype']+'_'+mk_g['Treatment']"
   ]
  },
  {
   "cell_type": "code",
   "execution_count": 192,
   "metadata": {},
   "outputs": [
    {
     "data": {
      "text/plain": [
       "Text(0, 0.5, 'Weight (g)')"
      ]
     },
     "execution_count": 192,
     "metadata": {},
     "output_type": "execute_result"
    },
    {
     "data": {
      "image/png": "[encoded data removed]",
      "text/plain": [
       "<Figure size 504x360 with 1 Axes>"
      ]
     },
     "metadata": {
      "needs_background": "light"
     },
     "output_type": "display_data"
    }
   ],
   "source": [
    "wt_1mg_curv = plt.figure(figsize=(7,5))\n",
    "sns.lineplot(data = mk_g[(mk_g['Dosage (mg/kg)']==1) & (mk_g['Genotype']!= 'HE')], x ='Day', y='Weight', hue='Genotype', style='Treatment', palette=['forestgreen', 'royalblue'], legend= 'brief')\n",
    "sns.despine()\n",
    "plt.title('Dosage: 1 mg/kg')\n",
    "plt.ylabel('Weight (g)')"
   ]
  },
  {
   "cell_type": "code",
   "execution_count": 193,
   "metadata": {},
   "outputs": [],
   "source": [
    "wt_1mg_curv.savefig('/Users/labc02/Documents/PDCB_data/MK-project/Figures/Wt_1mg_curv.svg')"
   ]
  },
  {
   "cell_type": "code",
   "execution_count": 190,
   "metadata": {},
   "outputs": [
    {
     "data": {
      "text/plain": [
       "Text(0, 3, '***')"
      ]
     },
     "execution_count": 190,
     "metadata": {},
     "output_type": "execute_result"
    },
    {
     "data": {
      "image/png": "[encoded data removed]",
      "text/plain": [
       "<Figure size 504x360 with 1 Axes>"
      ]
     },
     "metadata": {
      "needs_background": "light"
     },
     "output_type": "display_data"
    }
   ],
   "source": [
    "wt_1mg_fig = plt.figure(figsize=(7,5))\n",
    "sns.boxplot(data = mk_g[(mk_g['Dosage (mg/kg)']==1) & (mk_g['Genotype']!= 'HE') & (mk_g['Day'].isin([5, 10, 30, 60]))], x ='Day', y='Weight', hue='Group', palette=['forestgreen', 'darkseagreen', 'royalblue', 'steelblue'], width = 0.5, showmeans = True, meanprops={\"marker\":\"+\", \"markeredgecolor\":\"k\"}, showfliers = False)\n",
    "sns.despine()\n",
    "#plt.title('Weight 1mg/kg')\n",
    "plt.ylabel('Weight (g)')\n",
    "plt.annotate(s='***', xy=(160, 65), xycoords='axes points', xytext=(0, 3), textcoords='offset points', ha = 'center', arrowprops=dict(arrowstyle='-[, widthB=1, lengthB=.2', lw=1.5, color='k'), fontsize = 10)\n",
    "plt.annotate(s='***', xy=(150, 80), xycoords='axes points', xytext=(0, 3), textcoords='offset points', ha = 'center', arrowprops=dict(arrowstyle='-[, widthB=2, lengthB=.2', lw=1.5, color='k'), fontsize = 10)\n",
    "\n",
    "plt.annotate(s='***', xy=(258, 162), xycoords='axes points', xytext=(0, 3), textcoords='offset points', ha = 'center', arrowprops=dict(arrowstyle='-[, widthB=1, lengthB=.2', lw=1.5, color='k'), fontsize = 10)\n",
    "plt.annotate(s='***', xy=(245, 180), xycoords='axes points', xytext=(0, 3), textcoords='offset points', ha = 'center', arrowprops=dict(arrowstyle='-[, widthB=2, lengthB=.2', lw=1.5, color='k'), fontsize = 10)\n",
    "\n",
    "plt.annotate(s='**', xy=(355, 245), xycoords='axes points', xytext=(0, 3), textcoords='offset points', ha = 'center', arrowprops=dict(arrowstyle='-[, widthB=1, lengthB=.2', lw=1.5, color='k'), fontsize = 10)\n",
    "plt.annotate(s='***', xy=(340, 270), xycoords='axes points', xytext=(0, 3), textcoords='offset points', ha = 'center', arrowprops=dict(arrowstyle='-[, widthB=2, lengthB=.2', lw=1.5, color='k'), fontsize = 10)\n"
   ]
  },
  {
   "cell_type": "code",
   "execution_count": 191,
   "metadata": {},
   "outputs": [],
   "source": [
    "wt_1mg_fig.savefig('/Users/labc02/Documents/PDCB_data/MK-project/Figures/Wt_1mg_box.svg')"
   ]
  },
  {
   "cell_type": "code",
   "execution_count": 147,
   "metadata": {},
   "outputs": [],
   "source": [
    "wght_1mg = mk_g[(mk_g['Dosage (mg/kg)']==1) & (mk_g['Group'].isin(['WT_Saline', 'KO_Saline', 'WT_MK-801'])) & (mk_g['Day'].isin([5, 10, 30, 60]))].copy()"
   ]
  },
  {
   "cell_type": "code",
   "execution_count": 148,
   "metadata": {},
   "outputs": [],
   "source": [
    "wght_1mg['Group_w'] = wght_1mg['Group']+'_'+ wght_1mg['Day'].astype(str)"
   ]
  },
  {
   "cell_type": "code",
   "execution_count": 149,
   "metadata": {},
   "outputs": [
    {
     "data": {
      "text/html": [
       "<div>\n",
       "<style scoped>\n",
       "    .dataframe tbody tr th:only-of-type {\n",
       "        vertical-align: middle;\n",
       "    }\n",
       "\n",
       "    .dataframe tbody tr th {\n",
       "        vertical-align: top;\n",
       "    }\n",
       "\n",
       "    .dataframe thead th {\n",
       "        text-align: right;\n",
       "    }\n",
       "</style>\n",
       "<table border=\"1\" class=\"dataframe\">\n",
       "  <thead>\n",
       "    <tr style=\"text-align: right;\">\n",
       "      <th></th>\n",
       "      <th>W</th>\n",
       "      <th>pval</th>\n",
       "      <th>normal</th>\n",
       "    </tr>\n",
       "  </thead>\n",
       "  <tbody>\n",
       "    <tr>\n",
       "      <th>KO_Saline_5.0</th>\n",
       "      <td>0.963031</td>\n",
       "      <td>0.041458</td>\n",
       "      <td>False</td>\n",
       "    </tr>\n",
       "    <tr>\n",
       "      <th>WT_Saline_5.0</th>\n",
       "      <td>0.980373</td>\n",
       "      <td>0.757857</td>\n",
       "      <td>True</td>\n",
       "    </tr>\n",
       "    <tr>\n",
       "      <th>WT_MK-801_5.0</th>\n",
       "      <td>0.886071</td>\n",
       "      <td>0.015807</td>\n",
       "      <td>False</td>\n",
       "    </tr>\n",
       "    <tr>\n",
       "      <th>KO_Saline_10.0</th>\n",
       "      <td>0.977272</td>\n",
       "      <td>0.248938</td>\n",
       "      <td>True</td>\n",
       "    </tr>\n",
       "    <tr>\n",
       "      <th>WT_Saline_10.0</th>\n",
       "      <td>0.930986</td>\n",
       "      <td>0.026815</td>\n",
       "      <td>False</td>\n",
       "    </tr>\n",
       "    <tr>\n",
       "      <th>WT_MK-801_10.0</th>\n",
       "      <td>0.975404</td>\n",
       "      <td>0.831263</td>\n",
       "      <td>True</td>\n",
       "    </tr>\n",
       "    <tr>\n",
       "      <th>KO_Saline_30.0</th>\n",
       "      <td>0.988964</td>\n",
       "      <td>0.813428</td>\n",
       "      <td>True</td>\n",
       "    </tr>\n",
       "    <tr>\n",
       "      <th>WT_Saline_30.0</th>\n",
       "      <td>0.954497</td>\n",
       "      <td>0.144832</td>\n",
       "      <td>True</td>\n",
       "    </tr>\n",
       "    <tr>\n",
       "      <th>WT_MK-801_30.0</th>\n",
       "      <td>0.927289</td>\n",
       "      <td>0.107735</td>\n",
       "      <td>True</td>\n",
       "    </tr>\n",
       "    <tr>\n",
       "      <th>KO_Saline_60.0</th>\n",
       "      <td>0.982948</td>\n",
       "      <td>0.478436</td>\n",
       "      <td>True</td>\n",
       "    </tr>\n",
       "    <tr>\n",
       "      <th>WT_Saline_60.0</th>\n",
       "      <td>0.973443</td>\n",
       "      <td>0.526765</td>\n",
       "      <td>True</td>\n",
       "    </tr>\n",
       "    <tr>\n",
       "      <th>WT_MK-801_60.0</th>\n",
       "      <td>0.919604</td>\n",
       "      <td>0.074598</td>\n",
       "      <td>True</td>\n",
       "    </tr>\n",
       "  </tbody>\n",
       "</table>\n",
       "</div>"
      ],
      "text/plain": [
       "                       W      pval  normal\n",
       "KO_Saline_5.0   0.963031  0.041458   False\n",
       "WT_Saline_5.0   0.980373  0.757857    True\n",
       "WT_MK-801_5.0   0.886071  0.015807   False\n",
       "KO_Saline_10.0  0.977272  0.248938    True\n",
       "WT_Saline_10.0  0.930986  0.026815   False\n",
       "WT_MK-801_10.0  0.975404  0.831263    True\n",
       "KO_Saline_30.0  0.988964  0.813428    True\n",
       "WT_Saline_30.0  0.954497  0.144832    True\n",
       "WT_MK-801_30.0  0.927289  0.107735    True\n",
       "KO_Saline_60.0  0.982948  0.478436    True\n",
       "WT_Saline_60.0  0.973443  0.526765    True\n",
       "WT_MK-801_60.0  0.919604  0.074598    True"
      ]
     },
     "execution_count": 149,
     "metadata": {},
     "output_type": "execute_result"
    }
   ],
   "source": [
    "pg.normality(data = wght_1mg, dv = 'Weight', group = 'Group_w')"
   ]
  },
  {
   "cell_type": "code",
   "execution_count": 150,
   "metadata": {},
   "outputs": [
    {
     "data": {
      "text/html": [
       "<div>\n",
       "<style scoped>\n",
       "    .dataframe tbody tr th:only-of-type {\n",
       "        vertical-align: middle;\n",
       "    }\n",
       "\n",
       "    .dataframe tbody tr th {\n",
       "        vertical-align: top;\n",
       "    }\n",
       "\n",
       "    .dataframe thead th {\n",
       "        text-align: right;\n",
       "    }\n",
       "</style>\n",
       "<table border=\"1\" class=\"dataframe\">\n",
       "  <thead>\n",
       "    <tr style=\"text-align: right;\">\n",
       "      <th></th>\n",
       "      <th>W</th>\n",
       "      <th>pval</th>\n",
       "      <th>equal_var</th>\n",
       "    </tr>\n",
       "  </thead>\n",
       "  <tbody>\n",
       "    <tr>\n",
       "      <th>levene</th>\n",
       "      <td>19.292381</td>\n",
       "      <td>2.655658e-32</td>\n",
       "      <td>False</td>\n",
       "    </tr>\n",
       "  </tbody>\n",
       "</table>\n",
       "</div>"
      ],
      "text/plain": [
       "                W          pval  equal_var\n",
       "levene  19.292381  2.655658e-32      False"
      ]
     },
     "execution_count": 150,
     "metadata": {},
     "output_type": "execute_result"
    }
   ],
   "source": [
    "pg.homoscedasticity(data = wght_1mg, dv = 'Weight', group = 'Group_w')"
   ]
  },
  {
   "cell_type": "code",
   "execution_count": 152,
   "metadata": {},
   "outputs": [
    {
     "data": {
      "text/html": [
       "<div>\n",
       "<style scoped>\n",
       "    .dataframe tbody tr th:only-of-type {\n",
       "        vertical-align: middle;\n",
       "    }\n",
       "\n",
       "    .dataframe tbody tr th {\n",
       "        vertical-align: top;\n",
       "    }\n",
       "\n",
       "    .dataframe thead th {\n",
       "        text-align: right;\n",
       "    }\n",
       "</style>\n",
       "<table border=\"1\" class=\"dataframe\">\n",
       "  <thead>\n",
       "    <tr style=\"text-align: right;\">\n",
       "      <th></th>\n",
       "      <th>Source</th>\n",
       "      <th>SS</th>\n",
       "      <th>DF1</th>\n",
       "      <th>DF2</th>\n",
       "      <th>MS</th>\n",
       "      <th>F</th>\n",
       "      <th>p-unc</th>\n",
       "      <th>p-GG-corr</th>\n",
       "      <th>np2</th>\n",
       "      <th>eps</th>\n",
       "      <th>sphericity</th>\n",
       "      <th>W-spher</th>\n",
       "      <th>p-spher</th>\n",
       "    </tr>\n",
       "  </thead>\n",
       "  <tbody>\n",
       "    <tr>\n",
       "      <th>0</th>\n",
       "      <td>Group</td>\n",
       "      <td>420.779505</td>\n",
       "      <td>2</td>\n",
       "      <td>123</td>\n",
       "      <td>210.389753</td>\n",
       "      <td>30.418823</td>\n",
       "      <td>1.846909e-11</td>\n",
       "      <td>NaN</td>\n",
       "      <td>0.330931</td>\n",
       "      <td>NaN</td>\n",
       "      <td>NaN</td>\n",
       "      <td>NaN</td>\n",
       "      <td>NaN</td>\n",
       "    </tr>\n",
       "    <tr>\n",
       "      <th>1</th>\n",
       "      <td>Day</td>\n",
       "      <td>25158.092973</td>\n",
       "      <td>3</td>\n",
       "      <td>369</td>\n",
       "      <td>8386.030991</td>\n",
       "      <td>4007.901493</td>\n",
       "      <td>4.046008e-281</td>\n",
       "      <td>1.726088e-178</td>\n",
       "      <td>0.970224</td>\n",
       "      <td>0.662244</td>\n",
       "      <td>False</td>\n",
       "      <td>0.15156</td>\n",
       "      <td>2.057386e-48</td>\n",
       "    </tr>\n",
       "    <tr>\n",
       "      <th>2</th>\n",
       "      <td>Interaction</td>\n",
       "      <td>195.275126</td>\n",
       "      <td>6</td>\n",
       "      <td>369</td>\n",
       "      <td>32.545854</td>\n",
       "      <td>15.554507</td>\n",
       "      <td>6.307170e-16</td>\n",
       "      <td>NaN</td>\n",
       "      <td>0.201864</td>\n",
       "      <td>NaN</td>\n",
       "      <td>NaN</td>\n",
       "      <td>NaN</td>\n",
       "      <td>NaN</td>\n",
       "    </tr>\n",
       "  </tbody>\n",
       "</table>\n",
       "</div>"
      ],
      "text/plain": [
       "        Source            SS  DF1  DF2           MS            F  \\\n",
       "0        Group    420.779505    2  123   210.389753    30.418823   \n",
       "1          Day  25158.092973    3  369  8386.030991  4007.901493   \n",
       "2  Interaction    195.275126    6  369    32.545854    15.554507   \n",
       "\n",
       "           p-unc      p-GG-corr       np2       eps sphericity  W-spher  \\\n",
       "0   1.846909e-11            NaN  0.330931       NaN        NaN      NaN   \n",
       "1  4.046008e-281  1.726088e-178  0.970224  0.662244      False  0.15156   \n",
       "2   6.307170e-16            NaN  0.201864       NaN        NaN      NaN   \n",
       "\n",
       "        p-spher  \n",
       "0           NaN  \n",
       "1  2.057386e-48  \n",
       "2           NaN  "
      ]
     },
     "execution_count": 152,
     "metadata": {},
     "output_type": "execute_result"
    }
   ],
   "source": [
    "pg.mixed_anova(data = wght_1mg, dv = 'Weight', within = 'Day', between = 'Group', subject = 'ID', correction = True)"
   ]
  },
  {
   "cell_type": "code",
   "execution_count": 154,
   "metadata": {},
   "outputs": [
    {
     "data": {
      "text/html": [
       "<div>\n",
       "<style scoped>\n",
       "    .dataframe tbody tr th:only-of-type {\n",
       "        vertical-align: middle;\n",
       "    }\n",
       "\n",
       "    .dataframe tbody tr th {\n",
       "        vertical-align: top;\n",
       "    }\n",
       "\n",
       "    .dataframe thead th {\n",
       "        text-align: right;\n",
       "    }\n",
       "</style>\n",
       "<table border=\"1\" class=\"dataframe\">\n",
       "  <thead>\n",
       "    <tr style=\"text-align: right;\">\n",
       "      <th></th>\n",
       "      <th>Contrast</th>\n",
       "      <th>Day</th>\n",
       "      <th>A</th>\n",
       "      <th>B</th>\n",
       "      <th>Paired</th>\n",
       "      <th>Parametric</th>\n",
       "      <th>T</th>\n",
       "      <th>dof</th>\n",
       "      <th>Tail</th>\n",
       "      <th>p-unc</th>\n",
       "      <th>p-corr</th>\n",
       "      <th>p-adjust</th>\n",
       "      <th>BF10</th>\n",
       "      <th>hedges</th>\n",
       "    </tr>\n",
       "  </thead>\n",
       "  <tbody>\n",
       "    <tr>\n",
       "      <th>0</th>\n",
       "      <td>Day</td>\n",
       "      <td>-</td>\n",
       "      <td>5</td>\n",
       "      <td>10</td>\n",
       "      <td>True</td>\n",
       "      <td>True</td>\n",
       "      <td>-23.468732</td>\n",
       "      <td>125.000000</td>\n",
       "      <td>two-sided</td>\n",
       "      <td>1.230962e-47</td>\n",
       "      <td>1.230962e-47</td>\n",
       "      <td>holm</td>\n",
       "      <td>1.55e+44</td>\n",
       "      <td>-2.200996</td>\n",
       "    </tr>\n",
       "    <tr>\n",
       "      <th>1</th>\n",
       "      <td>Day</td>\n",
       "      <td>-</td>\n",
       "      <td>5</td>\n",
       "      <td>30</td>\n",
       "      <td>True</td>\n",
       "      <td>True</td>\n",
       "      <td>-39.781669</td>\n",
       "      <td>125.000000</td>\n",
       "      <td>two-sided</td>\n",
       "      <td>7.978023e-73</td>\n",
       "      <td>2.393407e-72</td>\n",
       "      <td>holm</td>\n",
       "      <td>1.33e+69</td>\n",
       "      <td>-4.591108</td>\n",
       "    </tr>\n",
       "    <tr>\n",
       "      <th>2</th>\n",
       "      <td>Day</td>\n",
       "      <td>-</td>\n",
       "      <td>5</td>\n",
       "      <td>60</td>\n",
       "      <td>True</td>\n",
       "      <td>True</td>\n",
       "      <td>-73.040054</td>\n",
       "      <td>125.000000</td>\n",
       "      <td>two-sided</td>\n",
       "      <td>2.191036e-104</td>\n",
       "      <td>1.095518e-103</td>\n",
       "      <td>holm</td>\n",
       "      <td>2.57e+100</td>\n",
       "      <td>-8.787240</td>\n",
       "    </tr>\n",
       "    <tr>\n",
       "      <th>3</th>\n",
       "      <td>Day</td>\n",
       "      <td>-</td>\n",
       "      <td>10</td>\n",
       "      <td>30</td>\n",
       "      <td>True</td>\n",
       "      <td>True</td>\n",
       "      <td>-42.050787</td>\n",
       "      <td>125.000000</td>\n",
       "      <td>two-sided</td>\n",
       "      <td>1.254058e-75</td>\n",
       "      <td>5.016231e-75</td>\n",
       "      <td>holm</td>\n",
       "      <td>7.974e+71</td>\n",
       "      <td>-3.430481</td>\n",
       "    </tr>\n",
       "    <tr>\n",
       "      <th>4</th>\n",
       "      <td>Day</td>\n",
       "      <td>-</td>\n",
       "      <td>10</td>\n",
       "      <td>60</td>\n",
       "      <td>True</td>\n",
       "      <td>True</td>\n",
       "      <td>-76.386064</td>\n",
       "      <td>125.000000</td>\n",
       "      <td>two-sided</td>\n",
       "      <td>9.160124e-107</td>\n",
       "      <td>5.496074e-106</td>\n",
       "      <td>holm</td>\n",
       "      <td>5.873e+102</td>\n",
       "      <td>-7.349841</td>\n",
       "    </tr>\n",
       "    <tr>\n",
       "      <th>5</th>\n",
       "      <td>Day</td>\n",
       "      <td>-</td>\n",
       "      <td>30</td>\n",
       "      <td>60</td>\n",
       "      <td>True</td>\n",
       "      <td>True</td>\n",
       "      <td>-39.501162</td>\n",
       "      <td>125.000000</td>\n",
       "      <td>two-sided</td>\n",
       "      <td>1.811143e-72</td>\n",
       "      <td>3.622287e-72</td>\n",
       "      <td>holm</td>\n",
       "      <td>5.902e+68</td>\n",
       "      <td>-2.936882</td>\n",
       "    </tr>\n",
       "    <tr>\n",
       "      <th>6</th>\n",
       "      <td>Group</td>\n",
       "      <td>-</td>\n",
       "      <td>KO_Saline</td>\n",
       "      <td>WT_Saline</td>\n",
       "      <td>False</td>\n",
       "      <td>True</td>\n",
       "      <td>1.317571</td>\n",
       "      <td>70.576899</td>\n",
       "      <td>two-sided</td>\n",
       "      <td>1.919086e-01</td>\n",
       "      <td>1.919086e-01</td>\n",
       "      <td>holm</td>\n",
       "      <td>0.465</td>\n",
       "      <td>0.270702</td>\n",
       "    </tr>\n",
       "    <tr>\n",
       "      <th>7</th>\n",
       "      <td>Group</td>\n",
       "      <td>-</td>\n",
       "      <td>KO_Saline</td>\n",
       "      <td>WT_MK-801</td>\n",
       "      <td>False</td>\n",
       "      <td>True</td>\n",
       "      <td>8.272622</td>\n",
       "      <td>39.250146</td>\n",
       "      <td>two-sided</td>\n",
       "      <td>3.915465e-10</td>\n",
       "      <td>1.174639e-09</td>\n",
       "      <td>holm</td>\n",
       "      <td>4.11e+09</td>\n",
       "      <td>1.903281</td>\n",
       "    </tr>\n",
       "    <tr>\n",
       "      <th>8</th>\n",
       "      <td>Group</td>\n",
       "      <td>-</td>\n",
       "      <td>WT_Saline</td>\n",
       "      <td>WT_MK-801</td>\n",
       "      <td>False</td>\n",
       "      <td>True</td>\n",
       "      <td>6.269741</td>\n",
       "      <td>48.711552</td>\n",
       "      <td>two-sided</td>\n",
       "      <td>9.173586e-08</td>\n",
       "      <td>1.834717e-07</td>\n",
       "      <td>holm</td>\n",
       "      <td>1.843e+05</td>\n",
       "      <td>1.625053</td>\n",
       "    </tr>\n",
       "    <tr>\n",
       "      <th>9</th>\n",
       "      <td>Day * Group</td>\n",
       "      <td>5</td>\n",
       "      <td>KO_Saline</td>\n",
       "      <td>WT_Saline</td>\n",
       "      <td>False</td>\n",
       "      <td>True</td>\n",
       "      <td>-1.352602</td>\n",
       "      <td>82.767373</td>\n",
       "      <td>two-sided</td>\n",
       "      <td>1.798667e-01</td>\n",
       "      <td>7.559758e-01</td>\n",
       "      <td>holm</td>\n",
       "      <td>0.484</td>\n",
       "      <td>-0.262388</td>\n",
       "    </tr>\n",
       "    <tr>\n",
       "      <th>10</th>\n",
       "      <td>Day * Group</td>\n",
       "      <td>5</td>\n",
       "      <td>KO_Saline</td>\n",
       "      <td>WT_MK-801</td>\n",
       "      <td>False</td>\n",
       "      <td>True</td>\n",
       "      <td>0.326262</td>\n",
       "      <td>45.085358</td>\n",
       "      <td>two-sided</td>\n",
       "      <td>7.457359e-01</td>\n",
       "      <td>1.000000e+00</td>\n",
       "      <td>holm</td>\n",
       "      <td>0.263</td>\n",
       "      <td>0.070050</td>\n",
       "    </tr>\n",
       "    <tr>\n",
       "      <th>11</th>\n",
       "      <td>Day * Group</td>\n",
       "      <td>5</td>\n",
       "      <td>WT_Saline</td>\n",
       "      <td>WT_MK-801</td>\n",
       "      <td>False</td>\n",
       "      <td>True</td>\n",
       "      <td>1.459059</td>\n",
       "      <td>47.035792</td>\n",
       "      <td>two-sided</td>\n",
       "      <td>1.511952e-01</td>\n",
       "      <td>7.559758e-01</td>\n",
       "      <td>holm</td>\n",
       "      <td>0.656</td>\n",
       "      <td>0.382733</td>\n",
       "    </tr>\n",
       "    <tr>\n",
       "      <th>12</th>\n",
       "      <td>Day * Group</td>\n",
       "      <td>10</td>\n",
       "      <td>KO_Saline</td>\n",
       "      <td>WT_Saline</td>\n",
       "      <td>False</td>\n",
       "      <td>True</td>\n",
       "      <td>-0.292888</td>\n",
       "      <td>81.730644</td>\n",
       "      <td>two-sided</td>\n",
       "      <td>7.703500e-01</td>\n",
       "      <td>1.000000e+00</td>\n",
       "      <td>holm</td>\n",
       "      <td>0.225</td>\n",
       "      <td>-0.057084</td>\n",
       "    </tr>\n",
       "    <tr>\n",
       "      <th>13</th>\n",
       "      <td>Day * Group</td>\n",
       "      <td>10</td>\n",
       "      <td>KO_Saline</td>\n",
       "      <td>WT_MK-801</td>\n",
       "      <td>False</td>\n",
       "      <td>True</td>\n",
       "      <td>10.568345</td>\n",
       "      <td>61.741292</td>\n",
       "      <td>two-sided</td>\n",
       "      <td>1.776984e-15</td>\n",
       "      <td>2.132381e-14</td>\n",
       "      <td>holm</td>\n",
       "      <td>1.359e+14</td>\n",
       "      <td>1.989477</td>\n",
       "    </tr>\n",
       "    <tr>\n",
       "      <th>14</th>\n",
       "      <td>Day * Group</td>\n",
       "      <td>10</td>\n",
       "      <td>WT_Saline</td>\n",
       "      <td>WT_MK-801</td>\n",
       "      <td>False</td>\n",
       "      <td>True</td>\n",
       "      <td>10.005532</td>\n",
       "      <td>55.104480</td>\n",
       "      <td>two-sided</td>\n",
       "      <td>5.357550e-14</td>\n",
       "      <td>5.893305e-13</td>\n",
       "      <td>holm</td>\n",
       "      <td>9.945e+10</td>\n",
       "      <td>2.446660</td>\n",
       "    </tr>\n",
       "    <tr>\n",
       "      <th>15</th>\n",
       "      <td>Day * Group</td>\n",
       "      <td>30</td>\n",
       "      <td>KO_Saline</td>\n",
       "      <td>WT_Saline</td>\n",
       "      <td>False</td>\n",
       "      <td>True</td>\n",
       "      <td>1.411467</td>\n",
       "      <td>77.863469</td>\n",
       "      <td>two-sided</td>\n",
       "      <td>1.620904e-01</td>\n",
       "      <td>7.559758e-01</td>\n",
       "      <td>holm</td>\n",
       "      <td>0.52</td>\n",
       "      <td>0.280004</td>\n",
       "    </tr>\n",
       "    <tr>\n",
       "      <th>16</th>\n",
       "      <td>Day * Group</td>\n",
       "      <td>30</td>\n",
       "      <td>KO_Saline</td>\n",
       "      <td>WT_MK-801</td>\n",
       "      <td>False</td>\n",
       "      <td>True</td>\n",
       "      <td>7.890195</td>\n",
       "      <td>41.218676</td>\n",
       "      <td>two-sided</td>\n",
       "      <td>9.064712e-10</td>\n",
       "      <td>9.064712e-09</td>\n",
       "      <td>holm</td>\n",
       "      <td>7.451e+08</td>\n",
       "      <td>1.769481</td>\n",
       "    </tr>\n",
       "    <tr>\n",
       "      <th>17</th>\n",
       "      <td>Day * Group</td>\n",
       "      <td>30</td>\n",
       "      <td>WT_Saline</td>\n",
       "      <td>WT_MK-801</td>\n",
       "      <td>False</td>\n",
       "      <td>True</td>\n",
       "      <td>6.144620</td>\n",
       "      <td>46.560861</td>\n",
       "      <td>two-sided</td>\n",
       "      <td>1.681588e-07</td>\n",
       "      <td>1.513429e-06</td>\n",
       "      <td>holm</td>\n",
       "      <td>1.196e+05</td>\n",
       "      <td>1.617237</td>\n",
       "    </tr>\n",
       "    <tr>\n",
       "      <th>18</th>\n",
       "      <td>Day * Group</td>\n",
       "      <td>60</td>\n",
       "      <td>KO_Saline</td>\n",
       "      <td>WT_Saline</td>\n",
       "      <td>False</td>\n",
       "      <td>True</td>\n",
       "      <td>1.803397</td>\n",
       "      <td>67.677993</td>\n",
       "      <td>two-sided</td>\n",
       "      <td>7.577697e-02</td>\n",
       "      <td>4.546618e-01</td>\n",
       "      <td>holm</td>\n",
       "      <td>0.901</td>\n",
       "      <td>0.376105</td>\n",
       "    </tr>\n",
       "    <tr>\n",
       "      <th>19</th>\n",
       "      <td>Day * Group</td>\n",
       "      <td>60</td>\n",
       "      <td>KO_Saline</td>\n",
       "      <td>WT_MK-801</td>\n",
       "      <td>False</td>\n",
       "      <td>True</td>\n",
       "      <td>5.962656</td>\n",
       "      <td>34.381579</td>\n",
       "      <td>two-sided</td>\n",
       "      <td>9.237254e-07</td>\n",
       "      <td>7.389803e-06</td>\n",
       "      <td>holm</td>\n",
       "      <td>2.009e+05</td>\n",
       "      <td>1.482258</td>\n",
       "    </tr>\n",
       "    <tr>\n",
       "      <th>20</th>\n",
       "      <td>Day * Group</td>\n",
       "      <td>60</td>\n",
       "      <td>WT_Saline</td>\n",
       "      <td>WT_MK-801</td>\n",
       "      <td>False</td>\n",
       "      <td>True</td>\n",
       "      <td>3.949357</td>\n",
       "      <td>45.200656</td>\n",
       "      <td>two-sided</td>\n",
       "      <td>2.717314e-04</td>\n",
       "      <td>1.902120e-03</td>\n",
       "      <td>holm</td>\n",
       "      <td>110.722</td>\n",
       "      <td>1.049431</td>\n",
       "    </tr>\n",
       "  </tbody>\n",
       "</table>\n",
       "</div>"
      ],
      "text/plain": [
       "       Contrast Day          A          B Paired  Parametric          T  \\\n",
       "0           Day   -          5         10   True        True -23.468732   \n",
       "1           Day   -          5         30   True        True -39.781669   \n",
       "2           Day   -          5         60   True        True -73.040054   \n",
       "3           Day   -         10         30   True        True -42.050787   \n",
       "4           Day   -         10         60   True        True -76.386064   \n",
       "5           Day   -         30         60   True        True -39.501162   \n",
       "6         Group   -  KO_Saline  WT_Saline  False        True   1.317571   \n",
       "7         Group   -  KO_Saline  WT_MK-801  False        True   8.272622   \n",
       "8         Group   -  WT_Saline  WT_MK-801  False        True   6.269741   \n",
       "9   Day * Group   5  KO_Saline  WT_Saline  False        True  -1.352602   \n",
       "10  Day * Group   5  KO_Saline  WT_MK-801  False        True   0.326262   \n",
       "11  Day * Group   5  WT_Saline  WT_MK-801  False        True   1.459059   \n",
       "12  Day * Group  10  KO_Saline  WT_Saline  False        True  -0.292888   \n",
       "13  Day * Group  10  KO_Saline  WT_MK-801  False        True  10.568345   \n",
       "14  Day * Group  10  WT_Saline  WT_MK-801  False        True  10.005532   \n",
       "15  Day * Group  30  KO_Saline  WT_Saline  False        True   1.411467   \n",
       "16  Day * Group  30  KO_Saline  WT_MK-801  False        True   7.890195   \n",
       "17  Day * Group  30  WT_Saline  WT_MK-801  False        True   6.144620   \n",
       "18  Day * Group  60  KO_Saline  WT_Saline  False        True   1.803397   \n",
       "19  Day * Group  60  KO_Saline  WT_MK-801  False        True   5.962656   \n",
       "20  Day * Group  60  WT_Saline  WT_MK-801  False        True   3.949357   \n",
       "\n",
       "           dof       Tail          p-unc         p-corr p-adjust        BF10  \\\n",
       "0   125.000000  two-sided   1.230962e-47   1.230962e-47     holm    1.55e+44   \n",
       "1   125.000000  two-sided   7.978023e-73   2.393407e-72     holm    1.33e+69   \n",
       "2   125.000000  two-sided  2.191036e-104  1.095518e-103     holm   2.57e+100   \n",
       "3   125.000000  two-sided   1.254058e-75   5.016231e-75     holm   7.974e+71   \n",
       "4   125.000000  two-sided  9.160124e-107  5.496074e-106     holm  5.873e+102   \n",
       "5   125.000000  two-sided   1.811143e-72   3.622287e-72     holm   5.902e+68   \n",
       "6    70.576899  two-sided   1.919086e-01   1.919086e-01     holm       0.465   \n",
       "7    39.250146  two-sided   3.915465e-10   1.174639e-09     holm    4.11e+09   \n",
       "8    48.711552  two-sided   9.173586e-08   1.834717e-07     holm   1.843e+05   \n",
       "9    82.767373  two-sided   1.798667e-01   7.559758e-01     holm       0.484   \n",
       "10   45.085358  two-sided   7.457359e-01   1.000000e+00     holm       0.263   \n",
       "11   47.035792  two-sided   1.511952e-01   7.559758e-01     holm       0.656   \n",
       "12   81.730644  two-sided   7.703500e-01   1.000000e+00     holm       0.225   \n",
       "13   61.741292  two-sided   1.776984e-15   2.132381e-14     holm   1.359e+14   \n",
       "14   55.104480  two-sided   5.357550e-14   5.893305e-13     holm   9.945e+10   \n",
       "15   77.863469  two-sided   1.620904e-01   7.559758e-01     holm        0.52   \n",
       "16   41.218676  two-sided   9.064712e-10   9.064712e-09     holm   7.451e+08   \n",
       "17   46.560861  two-sided   1.681588e-07   1.513429e-06     holm   1.196e+05   \n",
       "18   67.677993  two-sided   7.577697e-02   4.546618e-01     holm       0.901   \n",
       "19   34.381579  two-sided   9.237254e-07   7.389803e-06     holm   2.009e+05   \n",
       "20   45.200656  two-sided   2.717314e-04   1.902120e-03     holm     110.722   \n",
       "\n",
       "      hedges  \n",
       "0  -2.200996  \n",
       "1  -4.591108  \n",
       "2  -8.787240  \n",
       "3  -3.430481  \n",
       "4  -7.349841  \n",
       "5  -2.936882  \n",
       "6   0.270702  \n",
       "7   1.903281  \n",
       "8   1.625053  \n",
       "9  -0.262388  \n",
       "10  0.070050  \n",
       "11  0.382733  \n",
       "12 -0.057084  \n",
       "13  1.989477  \n",
       "14  2.446660  \n",
       "15  0.280004  \n",
       "16  1.769481  \n",
       "17  1.617237  \n",
       "18  0.376105  \n",
       "19  1.482258  \n",
       "20  1.049431  "
      ]
     },
     "execution_count": 154,
     "metadata": {},
     "output_type": "execute_result"
    }
   ],
   "source": [
    "pg.pairwise_ttests(data = wght_1mg, dv = 'Weight', within = 'Day', between = 'Group', subject = 'ID', marginal = True, padjust = 'holm')"
   ]
  },
  {
   "cell_type": "code",
   "execution_count": 194,
   "metadata": {},
   "outputs": [
    {
     "name": "stderr",
     "output_type": "stream",
     "text": [
      "<ipython-input-194-f16a1568e0d7>:2: SettingWithCopyWarning: \n",
      "A value is trying to be set on a copy of a slice from a DataFrame\n",
      "\n",
      "See the caveats in the documentation: https://pandas.pydata.org/pandas-docs/stable/user_guide/indexing.html#returning-a-view-versus-a-copy\n",
      "  mk_g05['Dosage (mg/kg)'][mk_g05['Treatment'] == 'Saline'] = 0.5\n"
     ]
    }
   ],
   "source": [
    "mk_g05 = mk_g.copy()\n",
    "mk_g05['Dosage (mg/kg)'][mk_g05['Treatment'] == 'Saline'] = 0.5"
   ]
  },
  {
   "cell_type": "code",
   "execution_count": 225,
   "metadata": {},
   "outputs": [
    {
     "data": {
      "text/plain": [
       "Text(0, 0.5, 'Weight (g)')"
      ]
     },
     "execution_count": 225,
     "metadata": {},
     "output_type": "execute_result"
    },
    {
     "data": {
      "image/png": "[encoded data removed]",
      "text/plain": [
       "<Figure size 504x360 with 1 Axes>"
      ]
     },
     "metadata": {
      "needs_background": "light"
     },
     "output_type": "display_data"
    }
   ],
   "source": [
    "wt_05mg_curv = plt.figure(figsize=(7,5))\n",
    "sns.lineplot(data = mk_g05[(mk_g05['Dosage (mg/kg)']==0.5) & (mk_g05['Genotype']!= 'HE')], x ='Day', y='Weight', hue='Genotype', style='Treatment', palette=['forestgreen', 'royalblue'])\n",
    "sns.despine()\n",
    "plt.ylabel('Weight (g)')"
   ]
  },
  {
   "cell_type": "code",
   "execution_count": 226,
   "metadata": {},
   "outputs": [],
   "source": [
    "wt_05mg_curv.savefig('/Users/labc02/Documents/PDCB_data/MK-project/Figures/Wt_05mg_curv.svg')"
   ]
  },
  {
   "cell_type": "code",
   "execution_count": 227,
   "metadata": {},
   "outputs": [
    {
     "data": {
      "text/plain": [
       "Text(0, 3, '***')"
      ]
     },
     "execution_count": 227,
     "metadata": {},
     "output_type": "execute_result"
    },
    {
     "data": {
      "image/png": "[encoded data removed]",
      "text/plain": [
       "<Figure size 504x360 with 1 Axes>"
      ]
     },
     "metadata": {
      "needs_background": "light"
     },
     "output_type": "display_data"
    }
   ],
   "source": [
    "wt_05mg_fig = plt.figure(figsize=(7,5))\n",
    "sns.boxplot(data = mk_g05[(mk_g05['Dosage (mg/kg)']==0.5) & (mk_g05['Genotype']!= 'HE') & (mk_g['Day'].isin([5, 10, 30, 60]))], x ='Day', y='Weight', hue='Group', hue_order =['KO_Saline', 'KO_MK-801', 'WT_Saline', 'WT_MK-801'] , palette=['forestgreen', 'darkseagreen', 'royalblue', 'steelblue'], width = 0.5, showmeans = True, meanprops={\"marker\":\"+\", \"markeredgecolor\":\"k\"}, showfliers = False)\n",
    "sns.despine()\n",
    "plt.title('Weight 0.5 mg/kg')\n",
    "plt.ylabel('Weight (g)')\n",
    "\n",
    "plt.annotate(s='**', xy=(161, 65), xycoords='axes points', xytext=(0, 3), textcoords='offset points', ha = 'center', arrowprops=dict(arrowstyle='-[, widthB=.7, lengthB=.2', lw=1.5, color='k'), fontsize = 10)\n",
    "plt.annotate(s='**', xy=(147, 95), xycoords='axes points', xytext=(0, 3), textcoords='offset points', ha = 'center', arrowprops=dict(arrowstyle='-[, widthB=2, lengthB=.2', lw=1.5, color='k'), fontsize = 10)\n",
    "plt.annotate(s='***', xy=(145, 65), xycoords='axes points', xytext=(0, 3), textcoords='offset points', ha = 'center', arrowprops=dict(arrowstyle='-[, widthB=.7, lengthB=.2', lw=1.5, color='k'), fontsize = 10)\n",
    "plt.annotate(s='***', xy=(135, 80), xycoords='axes points', xytext=(0, 3), textcoords='offset points', ha = 'center', arrowprops=dict(arrowstyle='-[, widthB=.7, lengthB=.2', lw=1.5, color='k'), fontsize = 10)\n",
    "\n",
    "\n",
    "plt.annotate(s='**', xy=(232, 175), xycoords='axes points', xytext=(0, 3), textcoords='offset points', ha = 'center', arrowprops=dict(arrowstyle='-[, widthB=.7, lengthB=.2', lw=1.5, color='k'), fontsize = 10)\n",
    "plt.annotate(s='***', xy=(245, 190), xycoords='axes points', xytext=(0, 3), textcoords='offset points', ha = 'center', arrowprops=dict(arrowstyle='-[, widthB=2, lengthB=.2', lw=1.5, color='k'), fontsize = 10)\n"
   ]
  },
  {
   "cell_type": "code",
   "execution_count": 228,
   "metadata": {},
   "outputs": [],
   "source": [
    "wt_05mg_fig.savefig('/Users/labc02/Documents/PDCB_data/MK-project/Figures/Wt_05mg_box.svg')"
   ]
  },
  {
   "cell_type": "code",
   "execution_count": 198,
   "metadata": {},
   "outputs": [],
   "source": [
    "wght_05mg = mk_g05[(mk_g05['Dosage (mg/kg)']==0.5) & (mk_g05['Genotype']!= 'HE') & (mk_g['Day'].isin([5, 10, 30, 60]))]"
   ]
  },
  {
   "cell_type": "code",
   "execution_count": 199,
   "metadata": {},
   "outputs": [
    {
     "name": "stderr",
     "output_type": "stream",
     "text": [
      "<ipython-input-199-cd3f881b2738>:1: SettingWithCopyWarning: \n",
      "A value is trying to be set on a copy of a slice from a DataFrame.\n",
      "Try using .loc[row_indexer,col_indexer] = value instead\n",
      "\n",
      "See the caveats in the documentation: https://pandas.pydata.org/pandas-docs/stable/user_guide/indexing.html#returning-a-view-versus-a-copy\n",
      "  wght_05mg['Group_w'] = wght_05mg['Group']+'_'+ wght_05mg['Day'].astype(str)\n"
     ]
    }
   ],
   "source": [
    "wght_05mg['Group_w'] = wght_05mg['Group']+'_'+ wght_05mg['Day'].astype(str)"
   ]
  },
  {
   "cell_type": "code",
   "execution_count": 200,
   "metadata": {},
   "outputs": [
    {
     "data": {
      "text/html": [
       "<div>\n",
       "<style scoped>\n",
       "    .dataframe tbody tr th:only-of-type {\n",
       "        vertical-align: middle;\n",
       "    }\n",
       "\n",
       "    .dataframe tbody tr th {\n",
       "        vertical-align: top;\n",
       "    }\n",
       "\n",
       "    .dataframe thead th {\n",
       "        text-align: right;\n",
       "    }\n",
       "</style>\n",
       "<table border=\"1\" class=\"dataframe\">\n",
       "  <thead>\n",
       "    <tr style=\"text-align: right;\">\n",
       "      <th></th>\n",
       "      <th>Source</th>\n",
       "      <th>SS</th>\n",
       "      <th>DF1</th>\n",
       "      <th>DF2</th>\n",
       "      <th>MS</th>\n",
       "      <th>F</th>\n",
       "      <th>p-unc</th>\n",
       "      <th>p-GG-corr</th>\n",
       "      <th>np2</th>\n",
       "      <th>eps</th>\n",
       "      <th>sphericity</th>\n",
       "      <th>W-spher</th>\n",
       "      <th>p-spher</th>\n",
       "    </tr>\n",
       "  </thead>\n",
       "  <tbody>\n",
       "    <tr>\n",
       "      <th>0</th>\n",
       "      <td>Group</td>\n",
       "      <td>150.717440</td>\n",
       "      <td>3</td>\n",
       "      <td>191</td>\n",
       "      <td>50.239147</td>\n",
       "      <td>6.748347</td>\n",
       "      <td>2.378800e-04</td>\n",
       "      <td>NaN</td>\n",
       "      <td>0.095837</td>\n",
       "      <td>NaN</td>\n",
       "      <td>NaN</td>\n",
       "      <td>NaN</td>\n",
       "      <td>NaN</td>\n",
       "    </tr>\n",
       "    <tr>\n",
       "      <th>1</th>\n",
       "      <td>Day</td>\n",
       "      <td>39185.250152</td>\n",
       "      <td>3</td>\n",
       "      <td>573</td>\n",
       "      <td>13061.750051</td>\n",
       "      <td>5742.869286</td>\n",
       "      <td>0.000000e+00</td>\n",
       "      <td>9.151819e-289</td>\n",
       "      <td>0.967812</td>\n",
       "      <td>0.67875</td>\n",
       "      <td>False</td>\n",
       "      <td>0.192365</td>\n",
       "      <td>1.641525e-66</td>\n",
       "    </tr>\n",
       "    <tr>\n",
       "      <th>2</th>\n",
       "      <td>Interaction</td>\n",
       "      <td>109.182634</td>\n",
       "      <td>9</td>\n",
       "      <td>573</td>\n",
       "      <td>12.131404</td>\n",
       "      <td>5.333823</td>\n",
       "      <td>5.122008e-07</td>\n",
       "      <td>NaN</td>\n",
       "      <td>0.077301</td>\n",
       "      <td>NaN</td>\n",
       "      <td>NaN</td>\n",
       "      <td>NaN</td>\n",
       "      <td>NaN</td>\n",
       "    </tr>\n",
       "  </tbody>\n",
       "</table>\n",
       "</div>"
      ],
      "text/plain": [
       "        Source            SS  DF1  DF2            MS            F  \\\n",
       "0        Group    150.717440    3  191     50.239147     6.748347   \n",
       "1          Day  39185.250152    3  573  13061.750051  5742.869286   \n",
       "2  Interaction    109.182634    9  573     12.131404     5.333823   \n",
       "\n",
       "          p-unc      p-GG-corr       np2      eps sphericity   W-spher  \\\n",
       "0  2.378800e-04            NaN  0.095837      NaN        NaN       NaN   \n",
       "1  0.000000e+00  9.151819e-289  0.967812  0.67875      False  0.192365   \n",
       "2  5.122008e-07            NaN  0.077301      NaN        NaN       NaN   \n",
       "\n",
       "        p-spher  \n",
       "0           NaN  \n",
       "1  1.641525e-66  \n",
       "2           NaN  "
      ]
     },
     "execution_count": 200,
     "metadata": {},
     "output_type": "execute_result"
    }
   ],
   "source": [
    "pg.mixed_anova(data = wght_05mg, dv = 'Weight', within = 'Day', between = 'Group', subject = 'ID', correction = True)"
   ]
  },
  {
   "cell_type": "code",
   "execution_count": 201,
   "metadata": {
    "collapsed": true,
    "jupyter": {
     "outputs_hidden": true
    }
   },
   "outputs": [
    {
     "data": {
      "text/html": [
       "<div>\n",
       "<style scoped>\n",
       "    .dataframe tbody tr th:only-of-type {\n",
       "        vertical-align: middle;\n",
       "    }\n",
       "\n",
       "    .dataframe tbody tr th {\n",
       "        vertical-align: top;\n",
       "    }\n",
       "\n",
       "    .dataframe thead th {\n",
       "        text-align: right;\n",
       "    }\n",
       "</style>\n",
       "<table border=\"1\" class=\"dataframe\">\n",
       "  <thead>\n",
       "    <tr style=\"text-align: right;\">\n",
       "      <th></th>\n",
       "      <th>Contrast</th>\n",
       "      <th>Day</th>\n",
       "      <th>A</th>\n",
       "      <th>B</th>\n",
       "      <th>Paired</th>\n",
       "      <th>Parametric</th>\n",
       "      <th>T</th>\n",
       "      <th>dof</th>\n",
       "      <th>Tail</th>\n",
       "      <th>p-unc</th>\n",
       "      <th>p-corr</th>\n",
       "      <th>p-adjust</th>\n",
       "      <th>BF10</th>\n",
       "      <th>hedges</th>\n",
       "    </tr>\n",
       "  </thead>\n",
       "  <tbody>\n",
       "    <tr>\n",
       "      <th>0</th>\n",
       "      <td>Day</td>\n",
       "      <td>-</td>\n",
       "      <td>5</td>\n",
       "      <td>10</td>\n",
       "      <td>True</td>\n",
       "      <td>True</td>\n",
       "      <td>-30.780657</td>\n",
       "      <td>194.000000</td>\n",
       "      <td>two-sided</td>\n",
       "      <td>1.383465e-76</td>\n",
       "      <td>1.383465e-76</td>\n",
       "      <td>holm</td>\n",
       "      <td>8.344e+72</td>\n",
       "      <td>-2.348778</td>\n",
       "    </tr>\n",
       "    <tr>\n",
       "      <th>1</th>\n",
       "      <td>Day</td>\n",
       "      <td>-</td>\n",
       "      <td>5</td>\n",
       "      <td>30</td>\n",
       "      <td>True</td>\n",
       "      <td>True</td>\n",
       "      <td>-52.661390</td>\n",
       "      <td>194.000000</td>\n",
       "      <td>two-sided</td>\n",
       "      <td>7.427144e-117</td>\n",
       "      <td>2.970858e-116</td>\n",
       "      <td>holm</td>\n",
       "      <td>8.596e+112</td>\n",
       "      <td>-4.910519</td>\n",
       "    </tr>\n",
       "    <tr>\n",
       "      <th>2</th>\n",
       "      <td>Day</td>\n",
       "      <td>-</td>\n",
       "      <td>5</td>\n",
       "      <td>60</td>\n",
       "      <td>True</td>\n",
       "      <td>True</td>\n",
       "      <td>-96.456010</td>\n",
       "      <td>194.000000</td>\n",
       "      <td>two-sided</td>\n",
       "      <td>7.069991e-166</td>\n",
       "      <td>4.241995e-165</td>\n",
       "      <td>holm</td>\n",
       "      <td>4.818e+161</td>\n",
       "      <td>-9.348857</td>\n",
       "    </tr>\n",
       "    <tr>\n",
       "      <th>3</th>\n",
       "      <td>Day</td>\n",
       "      <td>-</td>\n",
       "      <td>10</td>\n",
       "      <td>30</td>\n",
       "      <td>True</td>\n",
       "      <td>True</td>\n",
       "      <td>-51.537406</td>\n",
       "      <td>194.000000</td>\n",
       "      <td>two-sided</td>\n",
       "      <td>3.697449e-115</td>\n",
       "      <td>1.109235e-114</td>\n",
       "      <td>holm</td>\n",
       "      <td>1.767e+111</td>\n",
       "      <td>-3.765822</td>\n",
       "    </tr>\n",
       "    <tr>\n",
       "      <th>4</th>\n",
       "      <td>Day</td>\n",
       "      <td>-</td>\n",
       "      <td>10</td>\n",
       "      <td>60</td>\n",
       "      <td>True</td>\n",
       "      <td>True</td>\n",
       "      <td>-94.473831</td>\n",
       "      <td>194.000000</td>\n",
       "      <td>two-sided</td>\n",
       "      <td>3.652421e-164</td>\n",
       "      <td>1.826211e-163</td>\n",
       "      <td>holm</td>\n",
       "      <td>9.527e+159</td>\n",
       "      <td>-7.990199</td>\n",
       "    </tr>\n",
       "    <tr>\n",
       "      <th>5</th>\n",
       "      <td>Day</td>\n",
       "      <td>-</td>\n",
       "      <td>30</td>\n",
       "      <td>60</td>\n",
       "      <td>True</td>\n",
       "      <td>True</td>\n",
       "      <td>-50.388346</td>\n",
       "      <td>194.000000</td>\n",
       "      <td>two-sided</td>\n",
       "      <td>2.168941e-113</td>\n",
       "      <td>4.337882e-113</td>\n",
       "      <td>holm</td>\n",
       "      <td>3.085e+109</td>\n",
       "      <td>-3.205497</td>\n",
       "    </tr>\n",
       "    <tr>\n",
       "      <th>6</th>\n",
       "      <td>Group</td>\n",
       "      <td>-</td>\n",
       "      <td>KO_Saline</td>\n",
       "      <td>WT_Saline</td>\n",
       "      <td>False</td>\n",
       "      <td>True</td>\n",
       "      <td>1.317571</td>\n",
       "      <td>70.576899</td>\n",
       "      <td>two-sided</td>\n",
       "      <td>1.919086e-01</td>\n",
       "      <td>3.838172e-01</td>\n",
       "      <td>holm</td>\n",
       "      <td>0.465</td>\n",
       "      <td>0.270702</td>\n",
       "    </tr>\n",
       "    <tr>\n",
       "      <th>7</th>\n",
       "      <td>Group</td>\n",
       "      <td>-</td>\n",
       "      <td>KO_Saline</td>\n",
       "      <td>KO_MK-801</td>\n",
       "      <td>False</td>\n",
       "      <td>True</td>\n",
       "      <td>3.773670</td>\n",
       "      <td>128.984565</td>\n",
       "      <td>two-sided</td>\n",
       "      <td>2.442079e-04</td>\n",
       "      <td>1.465247e-03</td>\n",
       "      <td>holm</td>\n",
       "      <td>97.87</td>\n",
       "      <td>0.652029</td>\n",
       "    </tr>\n",
       "    <tr>\n",
       "      <th>8</th>\n",
       "      <td>Group</td>\n",
       "      <td>-</td>\n",
       "      <td>KO_Saline</td>\n",
       "      <td>WT_MK-801</td>\n",
       "      <td>False</td>\n",
       "      <td>True</td>\n",
       "      <td>3.706521</td>\n",
       "      <td>47.701459</td>\n",
       "      <td>two-sided</td>\n",
       "      <td>5.465339e-04</td>\n",
       "      <td>2.732670e-03</td>\n",
       "      <td>holm</td>\n",
       "      <td>72.149</td>\n",
       "      <td>0.826509</td>\n",
       "    </tr>\n",
       "    <tr>\n",
       "      <th>9</th>\n",
       "      <td>Group</td>\n",
       "      <td>-</td>\n",
       "      <td>WT_Saline</td>\n",
       "      <td>KO_MK-801</td>\n",
       "      <td>False</td>\n",
       "      <td>True</td>\n",
       "      <td>1.894871</td>\n",
       "      <td>76.532288</td>\n",
       "      <td>two-sided</td>\n",
       "      <td>6.188649e-02</td>\n",
       "      <td>1.856595e-01</td>\n",
       "      <td>holm</td>\n",
       "      <td>1.048</td>\n",
       "      <td>0.383241</td>\n",
       "    </tr>\n",
       "    <tr>\n",
       "      <th>10</th>\n",
       "      <td>Group</td>\n",
       "      <td>-</td>\n",
       "      <td>WT_Saline</td>\n",
       "      <td>WT_MK-801</td>\n",
       "      <td>False</td>\n",
       "      <td>True</td>\n",
       "      <td>2.181633</td>\n",
       "      <td>56.110350</td>\n",
       "      <td>two-sided</td>\n",
       "      <td>3.334169e-02</td>\n",
       "      <td>1.333668e-01</td>\n",
       "      <td>holm</td>\n",
       "      <td>1.865</td>\n",
       "      <td>0.548167</td>\n",
       "    </tr>\n",
       "    <tr>\n",
       "      <th>11</th>\n",
       "      <td>Group</td>\n",
       "      <td>-</td>\n",
       "      <td>KO_MK-801</td>\n",
       "      <td>WT_MK-801</td>\n",
       "      <td>False</td>\n",
       "      <td>True</td>\n",
       "      <td>0.603797</td>\n",
       "      <td>52.485167</td>\n",
       "      <td>two-sided</td>\n",
       "      <td>5.485795e-01</td>\n",
       "      <td>5.485795e-01</td>\n",
       "      <td>holm</td>\n",
       "      <td>0.281</td>\n",
       "      <td>0.131024</td>\n",
       "    </tr>\n",
       "    <tr>\n",
       "      <th>12</th>\n",
       "      <td>Day * Group</td>\n",
       "      <td>5</td>\n",
       "      <td>KO_Saline</td>\n",
       "      <td>WT_Saline</td>\n",
       "      <td>False</td>\n",
       "      <td>True</td>\n",
       "      <td>-1.352602</td>\n",
       "      <td>82.767373</td>\n",
       "      <td>two-sided</td>\n",
       "      <td>1.798667e-01</td>\n",
       "      <td>1.000000e+00</td>\n",
       "      <td>holm</td>\n",
       "      <td>0.484</td>\n",
       "      <td>-0.262388</td>\n",
       "    </tr>\n",
       "    <tr>\n",
       "      <th>13</th>\n",
       "      <td>Day * Group</td>\n",
       "      <td>5</td>\n",
       "      <td>KO_Saline</td>\n",
       "      <td>KO_MK-801</td>\n",
       "      <td>False</td>\n",
       "      <td>True</td>\n",
       "      <td>-2.267183</td>\n",
       "      <td>125.469393</td>\n",
       "      <td>two-sided</td>\n",
       "      <td>2.509015e-02</td>\n",
       "      <td>3.512621e-01</td>\n",
       "      <td>holm</td>\n",
       "      <td>1.881</td>\n",
       "      <td>-0.388773</td>\n",
       "    </tr>\n",
       "    <tr>\n",
       "      <th>14</th>\n",
       "      <td>Day * Group</td>\n",
       "      <td>5</td>\n",
       "      <td>KO_Saline</td>\n",
       "      <td>WT_MK-801</td>\n",
       "      <td>False</td>\n",
       "      <td>True</td>\n",
       "      <td>-2.851450</td>\n",
       "      <td>66.227440</td>\n",
       "      <td>two-sided</td>\n",
       "      <td>5.798243e-03</td>\n",
       "      <td>9.857013e-02</td>\n",
       "      <td>holm</td>\n",
       "      <td>7.418</td>\n",
       "      <td>-0.552497</td>\n",
       "    </tr>\n",
       "    <tr>\n",
       "      <th>15</th>\n",
       "      <td>Day * Group</td>\n",
       "      <td>5</td>\n",
       "      <td>WT_Saline</td>\n",
       "      <td>KO_MK-801</td>\n",
       "      <td>False</td>\n",
       "      <td>True</td>\n",
       "      <td>-0.586069</td>\n",
       "      <td>67.215692</td>\n",
       "      <td>two-sided</td>\n",
       "      <td>5.597923e-01</td>\n",
       "      <td>1.000000e+00</td>\n",
       "      <td>holm</td>\n",
       "      <td>0.254</td>\n",
       "      <td>-0.123905</td>\n",
       "    </tr>\n",
       "    <tr>\n",
       "      <th>16</th>\n",
       "      <td>Day * Group</td>\n",
       "      <td>5</td>\n",
       "      <td>WT_Saline</td>\n",
       "      <td>WT_MK-801</td>\n",
       "      <td>False</td>\n",
       "      <td>True</td>\n",
       "      <td>-1.363636</td>\n",
       "      <td>59.116699</td>\n",
       "      <td>two-sided</td>\n",
       "      <td>1.778524e-01</td>\n",
       "      <td>1.000000e+00</td>\n",
       "      <td>holm</td>\n",
       "      <td>0.57</td>\n",
       "      <td>-0.335050</td>\n",
       "    </tr>\n",
       "    <tr>\n",
       "      <th>17</th>\n",
       "      <td>Day * Group</td>\n",
       "      <td>5</td>\n",
       "      <td>KO_MK-801</td>\n",
       "      <td>WT_MK-801</td>\n",
       "      <td>False</td>\n",
       "      <td>True</td>\n",
       "      <td>-1.001950</td>\n",
       "      <td>51.781137</td>\n",
       "      <td>two-sided</td>\n",
       "      <td>3.210271e-01</td>\n",
       "      <td>1.000000e+00</td>\n",
       "      <td>holm</td>\n",
       "      <td>0.369</td>\n",
       "      <td>-0.218699</td>\n",
       "    </tr>\n",
       "    <tr>\n",
       "      <th>18</th>\n",
       "      <td>Day * Group</td>\n",
       "      <td>10</td>\n",
       "      <td>KO_Saline</td>\n",
       "      <td>WT_Saline</td>\n",
       "      <td>False</td>\n",
       "      <td>True</td>\n",
       "      <td>-0.292888</td>\n",
       "      <td>81.730644</td>\n",
       "      <td>two-sided</td>\n",
       "      <td>7.703500e-01</td>\n",
       "      <td>1.000000e+00</td>\n",
       "      <td>holm</td>\n",
       "      <td>0.225</td>\n",
       "      <td>-0.057084</td>\n",
       "    </tr>\n",
       "    <tr>\n",
       "      <th>19</th>\n",
       "      <td>Day * Group</td>\n",
       "      <td>10</td>\n",
       "      <td>KO_Saline</td>\n",
       "      <td>KO_MK-801</td>\n",
       "      <td>False</td>\n",
       "      <td>True</td>\n",
       "      <td>5.167311</td>\n",
       "      <td>129.763052</td>\n",
       "      <td>two-sided</td>\n",
       "      <td>8.733275e-07</td>\n",
       "      <td>2.095986e-05</td>\n",
       "      <td>holm</td>\n",
       "      <td>1.611e+04</td>\n",
       "      <td>0.888326</td>\n",
       "    </tr>\n",
       "    <tr>\n",
       "      <th>20</th>\n",
       "      <td>Day * Group</td>\n",
       "      <td>10</td>\n",
       "      <td>KO_Saline</td>\n",
       "      <td>WT_MK-801</td>\n",
       "      <td>False</td>\n",
       "      <td>True</td>\n",
       "      <td>3.747043</td>\n",
       "      <td>64.754219</td>\n",
       "      <td>two-sided</td>\n",
       "      <td>3.833698e-04</td>\n",
       "      <td>7.903774e-03</td>\n",
       "      <td>holm</td>\n",
       "      <td>81.36</td>\n",
       "      <td>0.732614</td>\n",
       "    </tr>\n",
       "    <tr>\n",
       "      <th>21</th>\n",
       "      <td>Day * Group</td>\n",
       "      <td>10</td>\n",
       "      <td>WT_Saline</td>\n",
       "      <td>KO_MK-801</td>\n",
       "      <td>False</td>\n",
       "      <td>True</td>\n",
       "      <td>5.000683</td>\n",
       "      <td>73.222397</td>\n",
       "      <td>two-sided</td>\n",
       "      <td>3.786265e-06</td>\n",
       "      <td>8.708410e-05</td>\n",
       "      <td>holm</td>\n",
       "      <td>6054.259</td>\n",
       "      <td>1.026899</td>\n",
       "    </tr>\n",
       "    <tr>\n",
       "      <th>22</th>\n",
       "      <td>Day * Group</td>\n",
       "      <td>10</td>\n",
       "      <td>WT_Saline</td>\n",
       "      <td>WT_MK-801</td>\n",
       "      <td>False</td>\n",
       "      <td>True</td>\n",
       "      <td>3.746785</td>\n",
       "      <td>59.015092</td>\n",
       "      <td>two-sided</td>\n",
       "      <td>4.092686e-04</td>\n",
       "      <td>7.903774e-03</td>\n",
       "      <td>holm</td>\n",
       "      <td>66.405</td>\n",
       "      <td>0.921593</td>\n",
       "    </tr>\n",
       "    <tr>\n",
       "      <th>23</th>\n",
       "      <td>Day * Group</td>\n",
       "      <td>10</td>\n",
       "      <td>KO_MK-801</td>\n",
       "      <td>WT_MK-801</td>\n",
       "      <td>False</td>\n",
       "      <td>True</td>\n",
       "      <td>-0.873004</td>\n",
       "      <td>56.856818</td>\n",
       "      <td>two-sided</td>\n",
       "      <td>3.863333e-01</td>\n",
       "      <td>1.000000e+00</td>\n",
       "      <td>holm</td>\n",
       "      <td>0.333</td>\n",
       "      <td>-0.183158</td>\n",
       "    </tr>\n",
       "    <tr>\n",
       "      <th>24</th>\n",
       "      <td>Day * Group</td>\n",
       "      <td>30</td>\n",
       "      <td>KO_Saline</td>\n",
       "      <td>WT_Saline</td>\n",
       "      <td>False</td>\n",
       "      <td>True</td>\n",
       "      <td>1.411467</td>\n",
       "      <td>77.863469</td>\n",
       "      <td>two-sided</td>\n",
       "      <td>1.620904e-01</td>\n",
       "      <td>1.000000e+00</td>\n",
       "      <td>holm</td>\n",
       "      <td>0.52</td>\n",
       "      <td>0.280004</td>\n",
       "    </tr>\n",
       "    <tr>\n",
       "      <th>25</th>\n",
       "      <td>Day * Group</td>\n",
       "      <td>30</td>\n",
       "      <td>KO_Saline</td>\n",
       "      <td>KO_MK-801</td>\n",
       "      <td>False</td>\n",
       "      <td>True</td>\n",
       "      <td>3.652514</td>\n",
       "      <td>128.907771</td>\n",
       "      <td>two-sided</td>\n",
       "      <td>3.763702e-04</td>\n",
       "      <td>7.903774e-03</td>\n",
       "      <td>holm</td>\n",
       "      <td>66.782</td>\n",
       "      <td>0.631130</td>\n",
       "    </tr>\n",
       "    <tr>\n",
       "      <th>26</th>\n",
       "      <td>Day * Group</td>\n",
       "      <td>30</td>\n",
       "      <td>KO_Saline</td>\n",
       "      <td>WT_MK-801</td>\n",
       "      <td>False</td>\n",
       "      <td>True</td>\n",
       "      <td>4.416092</td>\n",
       "      <td>51.807938</td>\n",
       "      <td>two-sided</td>\n",
       "      <td>5.135498e-05</td>\n",
       "      <td>1.129810e-03</td>\n",
       "      <td>holm</td>\n",
       "      <td>684.774</td>\n",
       "      <td>0.947945</td>\n",
       "    </tr>\n",
       "    <tr>\n",
       "      <th>27</th>\n",
       "      <td>Day * Group</td>\n",
       "      <td>30</td>\n",
       "      <td>WT_Saline</td>\n",
       "      <td>KO_MK-801</td>\n",
       "      <td>False</td>\n",
       "      <td>True</td>\n",
       "      <td>1.922274</td>\n",
       "      <td>83.880798</td>\n",
       "      <td>two-sided</td>\n",
       "      <td>5.796581e-02</td>\n",
       "      <td>7.535555e-01</td>\n",
       "      <td>holm</td>\n",
       "      <td>1.097</td>\n",
       "      <td>0.376167</td>\n",
       "    </tr>\n",
       "    <tr>\n",
       "      <th>28</th>\n",
       "      <td>Day * Group</td>\n",
       "      <td>30</td>\n",
       "      <td>WT_Saline</td>\n",
       "      <td>WT_MK-801</td>\n",
       "      <td>False</td>\n",
       "      <td>True</td>\n",
       "      <td>2.857313</td>\n",
       "      <td>55.303144</td>\n",
       "      <td>two-sided</td>\n",
       "      <td>6.010022e-03</td>\n",
       "      <td>9.857013e-02</td>\n",
       "      <td>holm</td>\n",
       "      <td>7.197</td>\n",
       "      <td>0.721242</td>\n",
       "    </tr>\n",
       "    <tr>\n",
       "      <th>29</th>\n",
       "      <td>Day * Group</td>\n",
       "      <td>30</td>\n",
       "      <td>KO_MK-801</td>\n",
       "      <td>WT_MK-801</td>\n",
       "      <td>False</td>\n",
       "      <td>True</td>\n",
       "      <td>1.203701</td>\n",
       "      <td>57.289932</td>\n",
       "      <td>two-sided</td>\n",
       "      <td>2.336555e-01</td>\n",
       "      <td>1.000000e+00</td>\n",
       "      <td>holm</td>\n",
       "      <td>0.447</td>\n",
       "      <td>0.251750</td>\n",
       "    </tr>\n",
       "    <tr>\n",
       "      <th>30</th>\n",
       "      <td>Day * Group</td>\n",
       "      <td>60</td>\n",
       "      <td>KO_Saline</td>\n",
       "      <td>WT_Saline</td>\n",
       "      <td>False</td>\n",
       "      <td>True</td>\n",
       "      <td>1.803397</td>\n",
       "      <td>67.677993</td>\n",
       "      <td>two-sided</td>\n",
       "      <td>7.577697e-02</td>\n",
       "      <td>9.093237e-01</td>\n",
       "      <td>holm</td>\n",
       "      <td>0.901</td>\n",
       "      <td>0.376105</td>\n",
       "    </tr>\n",
       "    <tr>\n",
       "      <th>31</th>\n",
       "      <td>Day * Group</td>\n",
       "      <td>60</td>\n",
       "      <td>KO_Saline</td>\n",
       "      <td>KO_MK-801</td>\n",
       "      <td>False</td>\n",
       "      <td>True</td>\n",
       "      <td>2.864567</td>\n",
       "      <td>128.165316</td>\n",
       "      <td>two-sided</td>\n",
       "      <td>4.881157e-03</td>\n",
       "      <td>8.786082e-02</td>\n",
       "      <td>holm</td>\n",
       "      <td>7.273</td>\n",
       "      <td>0.495219</td>\n",
       "    </tr>\n",
       "    <tr>\n",
       "      <th>32</th>\n",
       "      <td>Day * Group</td>\n",
       "      <td>60</td>\n",
       "      <td>KO_Saline</td>\n",
       "      <td>WT_MK-801</td>\n",
       "      <td>False</td>\n",
       "      <td>True</td>\n",
       "      <td>2.573874</td>\n",
       "      <td>40.702491</td>\n",
       "      <td>two-sided</td>\n",
       "      <td>1.379738e-02</td>\n",
       "      <td>2.069607e-01</td>\n",
       "      <td>holm</td>\n",
       "      <td>3.971</td>\n",
       "      <td>0.623172</td>\n",
       "    </tr>\n",
       "    <tr>\n",
       "      <th>33</th>\n",
       "      <td>Day * Group</td>\n",
       "      <td>60</td>\n",
       "      <td>WT_Saline</td>\n",
       "      <td>KO_MK-801</td>\n",
       "      <td>False</td>\n",
       "      <td>True</td>\n",
       "      <td>0.615267</td>\n",
       "      <td>74.997240</td>\n",
       "      <td>two-sided</td>\n",
       "      <td>5.402409e-01</td>\n",
       "      <td>1.000000e+00</td>\n",
       "      <td>holm</td>\n",
       "      <td>0.258</td>\n",
       "      <td>0.125313</td>\n",
       "    </tr>\n",
       "    <tr>\n",
       "      <th>34</th>\n",
       "      <td>Day * Group</td>\n",
       "      <td>60</td>\n",
       "      <td>WT_Saline</td>\n",
       "      <td>WT_MK-801</td>\n",
       "      <td>False</td>\n",
       "      <td>True</td>\n",
       "      <td>0.931645</td>\n",
       "      <td>51.864900</td>\n",
       "      <td>two-sided</td>\n",
       "      <td>3.558366e-01</td>\n",
       "      <td>1.000000e+00</td>\n",
       "      <td>holm</td>\n",
       "      <td>0.377</td>\n",
       "      <td>0.239301</td>\n",
       "    </tr>\n",
       "    <tr>\n",
       "      <th>35</th>\n",
       "      <td>Day * Group</td>\n",
       "      <td>60</td>\n",
       "      <td>KO_MK-801</td>\n",
       "      <td>WT_MK-801</td>\n",
       "      <td>False</td>\n",
       "      <td>True</td>\n",
       "      <td>0.485429</td>\n",
       "      <td>45.181639</td>\n",
       "      <td>two-sided</td>\n",
       "      <td>6.297176e-01</td>\n",
       "      <td>1.000000e+00</td>\n",
       "      <td>holm</td>\n",
       "      <td>0.265</td>\n",
       "      <td>0.112800</td>\n",
       "    </tr>\n",
       "  </tbody>\n",
       "</table>\n",
       "</div>"
      ],
      "text/plain": [
       "       Contrast Day          A          B Paired  Parametric          T  \\\n",
       "0           Day   -          5         10   True        True -30.780657   \n",
       "1           Day   -          5         30   True        True -52.661390   \n",
       "2           Day   -          5         60   True        True -96.456010   \n",
       "3           Day   -         10         30   True        True -51.537406   \n",
       "4           Day   -         10         60   True        True -94.473831   \n",
       "5           Day   -         30         60   True        True -50.388346   \n",
       "6         Group   -  KO_Saline  WT_Saline  False        True   1.317571   \n",
       "7         Group   -  KO_Saline  KO_MK-801  False        True   3.773670   \n",
       "8         Group   -  KO_Saline  WT_MK-801  False        True   3.706521   \n",
       "9         Group   -  WT_Saline  KO_MK-801  False        True   1.894871   \n",
       "10        Group   -  WT_Saline  WT_MK-801  False        True   2.181633   \n",
       "11        Group   -  KO_MK-801  WT_MK-801  False        True   0.603797   \n",
       "12  Day * Group   5  KO_Saline  WT_Saline  False        True  -1.352602   \n",
       "13  Day * Group   5  KO_Saline  KO_MK-801  False        True  -2.267183   \n",
       "14  Day * Group   5  KO_Saline  WT_MK-801  False        True  -2.851450   \n",
       "15  Day * Group   5  WT_Saline  KO_MK-801  False        True  -0.586069   \n",
       "16  Day * Group   5  WT_Saline  WT_MK-801  False        True  -1.363636   \n",
       "17  Day * Group   5  KO_MK-801  WT_MK-801  False        True  -1.001950   \n",
       "18  Day * Group  10  KO_Saline  WT_Saline  False        True  -0.292888   \n",
       "19  Day * Group  10  KO_Saline  KO_MK-801  False        True   5.167311   \n",
       "20  Day * Group  10  KO_Saline  WT_MK-801  False        True   3.747043   \n",
       "21  Day * Group  10  WT_Saline  KO_MK-801  False        True   5.000683   \n",
       "22  Day * Group  10  WT_Saline  WT_MK-801  False        True   3.746785   \n",
       "23  Day * Group  10  KO_MK-801  WT_MK-801  False        True  -0.873004   \n",
       "24  Day * Group  30  KO_Saline  WT_Saline  False        True   1.411467   \n",
       "25  Day * Group  30  KO_Saline  KO_MK-801  False        True   3.652514   \n",
       "26  Day * Group  30  KO_Saline  WT_MK-801  False        True   4.416092   \n",
       "27  Day * Group  30  WT_Saline  KO_MK-801  False        True   1.922274   \n",
       "28  Day * Group  30  WT_Saline  WT_MK-801  False        True   2.857313   \n",
       "29  Day * Group  30  KO_MK-801  WT_MK-801  False        True   1.203701   \n",
       "30  Day * Group  60  KO_Saline  WT_Saline  False        True   1.803397   \n",
       "31  Day * Group  60  KO_Saline  KO_MK-801  False        True   2.864567   \n",
       "32  Day * Group  60  KO_Saline  WT_MK-801  False        True   2.573874   \n",
       "33  Day * Group  60  WT_Saline  KO_MK-801  False        True   0.615267   \n",
       "34  Day * Group  60  WT_Saline  WT_MK-801  False        True   0.931645   \n",
       "35  Day * Group  60  KO_MK-801  WT_MK-801  False        True   0.485429   \n",
       "\n",
       "           dof       Tail          p-unc         p-corr p-adjust        BF10  \\\n",
       "0   194.000000  two-sided   1.383465e-76   1.383465e-76     holm   8.344e+72   \n",
       "1   194.000000  two-sided  7.427144e-117  2.970858e-116     holm  8.596e+112   \n",
       "2   194.000000  two-sided  7.069991e-166  4.241995e-165     holm  4.818e+161   \n",
       "3   194.000000  two-sided  3.697449e-115  1.109235e-114     holm  1.767e+111   \n",
       "4   194.000000  two-sided  3.652421e-164  1.826211e-163     holm  9.527e+159   \n",
       "5   194.000000  two-sided  2.168941e-113  4.337882e-113     holm  3.085e+109   \n",
       "6    70.576899  two-sided   1.919086e-01   3.838172e-01     holm       0.465   \n",
       "7   128.984565  two-sided   2.442079e-04   1.465247e-03     holm       97.87   \n",
       "8    47.701459  two-sided   5.465339e-04   2.732670e-03     holm      72.149   \n",
       "9    76.532288  two-sided   6.188649e-02   1.856595e-01     holm       1.048   \n",
       "10   56.110350  two-sided   3.334169e-02   1.333668e-01     holm       1.865   \n",
       "11   52.485167  two-sided   5.485795e-01   5.485795e-01     holm       0.281   \n",
       "12   82.767373  two-sided   1.798667e-01   1.000000e+00     holm       0.484   \n",
       "13  125.469393  two-sided   2.509015e-02   3.512621e-01     holm       1.881   \n",
       "14   66.227440  two-sided   5.798243e-03   9.857013e-02     holm       7.418   \n",
       "15   67.215692  two-sided   5.597923e-01   1.000000e+00     holm       0.254   \n",
       "16   59.116699  two-sided   1.778524e-01   1.000000e+00     holm        0.57   \n",
       "17   51.781137  two-sided   3.210271e-01   1.000000e+00     holm       0.369   \n",
       "18   81.730644  two-sided   7.703500e-01   1.000000e+00     holm       0.225   \n",
       "19  129.763052  two-sided   8.733275e-07   2.095986e-05     holm   1.611e+04   \n",
       "20   64.754219  two-sided   3.833698e-04   7.903774e-03     holm       81.36   \n",
       "21   73.222397  two-sided   3.786265e-06   8.708410e-05     holm    6054.259   \n",
       "22   59.015092  two-sided   4.092686e-04   7.903774e-03     holm      66.405   \n",
       "23   56.856818  two-sided   3.863333e-01   1.000000e+00     holm       0.333   \n",
       "24   77.863469  two-sided   1.620904e-01   1.000000e+00     holm        0.52   \n",
       "25  128.907771  two-sided   3.763702e-04   7.903774e-03     holm      66.782   \n",
       "26   51.807938  two-sided   5.135498e-05   1.129810e-03     holm     684.774   \n",
       "27   83.880798  two-sided   5.796581e-02   7.535555e-01     holm       1.097   \n",
       "28   55.303144  two-sided   6.010022e-03   9.857013e-02     holm       7.197   \n",
       "29   57.289932  two-sided   2.336555e-01   1.000000e+00     holm       0.447   \n",
       "30   67.677993  two-sided   7.577697e-02   9.093237e-01     holm       0.901   \n",
       "31  128.165316  two-sided   4.881157e-03   8.786082e-02     holm       7.273   \n",
       "32   40.702491  two-sided   1.379738e-02   2.069607e-01     holm       3.971   \n",
       "33   74.997240  two-sided   5.402409e-01   1.000000e+00     holm       0.258   \n",
       "34   51.864900  two-sided   3.558366e-01   1.000000e+00     holm       0.377   \n",
       "35   45.181639  two-sided   6.297176e-01   1.000000e+00     holm       0.265   \n",
       "\n",
       "      hedges  \n",
       "0  -2.348778  \n",
       "1  -4.910519  \n",
       "2  -9.348857  \n",
       "3  -3.765822  \n",
       "4  -7.990199  \n",
       "5  -3.205497  \n",
       "6   0.270702  \n",
       "7   0.652029  \n",
       "8   0.826509  \n",
       "9   0.383241  \n",
       "10  0.548167  \n",
       "11  0.131024  \n",
       "12 -0.262388  \n",
       "13 -0.388773  \n",
       "14 -0.552497  \n",
       "15 -0.123905  \n",
       "16 -0.335050  \n",
       "17 -0.218699  \n",
       "18 -0.057084  \n",
       "19  0.888326  \n",
       "20  0.732614  \n",
       "21  1.026899  \n",
       "22  0.921593  \n",
       "23 -0.183158  \n",
       "24  0.280004  \n",
       "25  0.631130  \n",
       "26  0.947945  \n",
       "27  0.376167  \n",
       "28  0.721242  \n",
       "29  0.251750  \n",
       "30  0.376105  \n",
       "31  0.495219  \n",
       "32  0.623172  \n",
       "33  0.125313  \n",
       "34  0.239301  \n",
       "35  0.112800  "
      ]
     },
     "execution_count": 201,
     "metadata": {},
     "output_type": "execute_result"
    }
   ],
   "source": [
    "pg.pairwise_ttests(data = wght_05mg, dv = 'Weight', within = 'Day', between = 'Group', subject = 'ID', marginal = True, padjust = 'holm')"
   ]
  },
  {
   "cell_type": "markdown",
   "metadata": {},
   "source": [
    "## Nesting"
   ]
  },
  {
   "cell_type": "code",
   "execution_count": 232,
   "metadata": {},
   "outputs": [],
   "source": [
    "nest_r = pd.read_csv('/Users/labc02/Documents/PDCB_data/MK-project/Nesting_Data_Final.csv')"
   ]
  },
  {
   "cell_type": "code",
   "execution_count": 233,
   "metadata": {},
   "outputs": [
    {
     "data": {
      "text/plain": [
       "array(['MK-801', 'Saline'], dtype=object)"
      ]
     },
     "execution_count": 233,
     "metadata": {},
     "output_type": "execute_result"
    }
   ],
   "source": [
    "nest_r['Tx'].unique()"
   ]
  },
  {
   "cell_type": "code",
   "execution_count": 255,
   "metadata": {},
   "outputs": [
    {
     "data": {
      "text/plain": [
       "Genotype  Tx      Dose (mg/Kg)\n",
       "HE        MK-801  1.0              6\n",
       "          Saline  1.0              6\n",
       "KO        MK-801  0.5             22\n",
       "                  1.0              3\n",
       "          Saline  1.0             32\n",
       "WT        MK-801  0.5             19\n",
       "                  1.0             21\n",
       "          Saline  1.0             26\n",
       "Name: Sub, dtype: int64"
      ]
     },
     "execution_count": 255,
     "metadata": {},
     "output_type": "execute_result"
    }
   ],
   "source": [
    "nest_r.groupby(['Genotype', 'Tx', 'Dose (mg/Kg)'])['Sub'].count()"
   ]
  },
  {
   "cell_type": "code",
   "execution_count": 235,
   "metadata": {},
   "outputs": [],
   "source": [
    "nest_r['Group'] = nest_r['Genotype']+'_'+nest_r['Tx']+'_'+nest_r['Dose (mg/Kg)'].astype(str)"
   ]
  },
  {
   "cell_type": "code",
   "execution_count": 284,
   "metadata": {},
   "outputs": [
    {
     "data": {
      "text/plain": [
       "<matplotlib.legend.Legend at 0x122c2c5b0>"
      ]
     },
     "execution_count": 284,
     "metadata": {},
     "output_type": "execute_result"
    },
    {
     "data": {
      "image/png": "[encoded data removed]",
      "text/plain": [
       "<Figure size 432x288 with 1 Axes>"
      ]
     },
     "metadata": {
      "needs_background": "light"
     },
     "output_type": "display_data"
    }
   ],
   "source": [
    "sns.boxplot(data=nest_r[nest_r['Dose (mg/Kg)']==1], x='Tx', y='Nesting Score', hue='Genotype', hue_order = ['KO', 'WT', 'HE'], showmeans=True, meanprops={'marker':'+', 'markeredgecolor':'k'}, width=0.3, palette=['forestgreen', 'royalblue', 'gold'])\n",
    "plt.title('Nesting Score 1mg/kg')\n",
    "plt.legend(loc=4)\n"
   ]
  },
  {
   "cell_type": "markdown",
   "metadata": {},
   "source": [
    "### Effects of MK-801 on WT mice"
   ]
  },
  {
   "cell_type": "code",
   "execution_count": 338,
   "metadata": {},
   "outputs": [
    {
     "data": {
      "text/plain": [
       "Text(0, 4, '**')"
      ]
     },
     "execution_count": 338,
     "metadata": {},
     "output_type": "execute_result"
    },
    {
     "data": {
      "image/png": "[encoded data removed]",
      "text/plain": [
       "<Figure size 432x288 with 1 Axes>"
      ]
     },
     "metadata": {
      "needs_background": "light"
     },
     "output_type": "display_data"
    }
   ],
   "source": [
    "plt.figure(figsize=(6,4))\n",
    "sns.boxplot(data=nest_r[nest_r['Genotype']=='WT'], x='Group', y='Nesting Score', hue='Group', order = ['WT_Saline_1.0', 'WT_MK-801_0.5', 'WT_MK-801_1.0'], showmeans=True, meanprops={'marker':'+', 'markeredgecolor':'k'}, width=0.3, palette=['cornflowerblue', 'royalblue', 'steelblue'], showfliers = False)\n",
    "sns.despine()\n",
    "plt.legend([],[], frameon=False)\n",
    "plt.annotate(s='**', xy=(162, 220), xycoords='axes points', xytext=(0, 4), textcoords='offset points', ha = 'center', arrowprops=dict(arrowstyle='-[, widthB=10.5, lengthB=.4', lw=1.5, color='k'), fontsize = 10)\n"
   ]
  },
  {
   "cell_type": "code",
   "execution_count": 258,
   "metadata": {},
   "outputs": [],
   "source": [
    "out = pg.madmedianrule(nest_r[(nest_r['Genotype']=='WT')&(nest_r['Group']=='WT_Saline_1.0')]['Nesting Score'])\n",
    "idx = nest_r[(nest_r['Genotype']=='WT')&(nest_r['Group']=='WT_Saline_1.0')]['Nesting Score'].index.values\n",
    "\n",
    "nest_r.drop(index = idx[out], inplace = True)"
   ]
  },
  {
   "cell_type": "code",
   "execution_count": 262,
   "metadata": {},
   "outputs": [
    {
     "data": {
      "text/html": [
       "<div>\n",
       "<style scoped>\n",
       "    .dataframe tbody tr th:only-of-type {\n",
       "        vertical-align: middle;\n",
       "    }\n",
       "\n",
       "    .dataframe tbody tr th {\n",
       "        vertical-align: top;\n",
       "    }\n",
       "\n",
       "    .dataframe thead th {\n",
       "        text-align: right;\n",
       "    }\n",
       "</style>\n",
       "<table border=\"1\" class=\"dataframe\">\n",
       "  <thead>\n",
       "    <tr style=\"text-align: right;\">\n",
       "      <th></th>\n",
       "      <th>W</th>\n",
       "      <th>pval</th>\n",
       "      <th>normal</th>\n",
       "    </tr>\n",
       "  </thead>\n",
       "  <tbody>\n",
       "    <tr>\n",
       "      <th>WT_MK-801_1.0</th>\n",
       "      <td>0.778838</td>\n",
       "      <td>0.000317</td>\n",
       "      <td>False</td>\n",
       "    </tr>\n",
       "    <tr>\n",
       "      <th>WT_Saline_1.0</th>\n",
       "      <td>0.896246</td>\n",
       "      <td>0.015213</td>\n",
       "      <td>False</td>\n",
       "    </tr>\n",
       "    <tr>\n",
       "      <th>WT_MK-801_0.5</th>\n",
       "      <td>0.810629</td>\n",
       "      <td>0.001638</td>\n",
       "      <td>False</td>\n",
       "    </tr>\n",
       "  </tbody>\n",
       "</table>\n",
       "</div>"
      ],
      "text/plain": [
       "                      W      pval  normal\n",
       "WT_MK-801_1.0  0.778838  0.000317   False\n",
       "WT_Saline_1.0  0.896246  0.015213   False\n",
       "WT_MK-801_0.5  0.810629  0.001638   False"
      ]
     },
     "execution_count": 262,
     "metadata": {},
     "output_type": "execute_result"
    }
   ],
   "source": [
    "pg.normality(data = nest_r[nest_r['Genotype'] == 'WT'], dv = 'Nesting Score', group = 'Group')"
   ]
  },
  {
   "cell_type": "code",
   "execution_count": 263,
   "metadata": {},
   "outputs": [
    {
     "data": {
      "text/html": [
       "<div>\n",
       "<style scoped>\n",
       "    .dataframe tbody tr th:only-of-type {\n",
       "        vertical-align: middle;\n",
       "    }\n",
       "\n",
       "    .dataframe tbody tr th {\n",
       "        vertical-align: top;\n",
       "    }\n",
       "\n",
       "    .dataframe thead th {\n",
       "        text-align: right;\n",
       "    }\n",
       "</style>\n",
       "<table border=\"1\" class=\"dataframe\">\n",
       "  <thead>\n",
       "    <tr style=\"text-align: right;\">\n",
       "      <th></th>\n",
       "      <th>Source</th>\n",
       "      <th>ddof1</th>\n",
       "      <th>H</th>\n",
       "      <th>p-unc</th>\n",
       "    </tr>\n",
       "  </thead>\n",
       "  <tbody>\n",
       "    <tr>\n",
       "      <th>Kruskal</th>\n",
       "      <td>Group</td>\n",
       "      <td>2</td>\n",
       "      <td>8.565959</td>\n",
       "      <td>0.013801</td>\n",
       "    </tr>\n",
       "  </tbody>\n",
       "</table>\n",
       "</div>"
      ],
      "text/plain": [
       "        Source  ddof1         H     p-unc\n",
       "Kruskal  Group      2  8.565959  0.013801"
      ]
     },
     "execution_count": 263,
     "metadata": {},
     "output_type": "execute_result"
    }
   ],
   "source": [
    "pg.kruskal(data = nest_r[nest_r['Genotype'] == 'WT'], dv = 'Nesting Score', between = 'Group')"
   ]
  },
  {
   "cell_type": "code",
   "execution_count": 298,
   "metadata": {},
   "outputs": [],
   "source": [
    "wt_nest_multicomp = {'Group A': ['WT_Saline_1.0', 'WT_Saline_1.0', 'WT_MK-801_1.0'], 'Group B': ['WT_MK-801_0.5', 'WT_MK-801_1.0', 'WT_MK-801_0.5'], 'MWU-U' : [], 'MWU-p' : []}"
   ]
  },
  {
   "cell_type": "code",
   "execution_count": 299,
   "metadata": {},
   "outputs": [],
   "source": [
    "for ii in range(0, 3):\n",
    "    group_A = nest_r[nest_r['Group'] == wt_nest_multicomp['Group A'][ii]]['Nesting Score']\n",
    "    group_B = nest_r[nest_r['Group'] == wt_nest_multicomp['Group B'][ii]]['Nesting Score']\n",
    "    mwu_p = pg.mwu(group_A, group_B, tail = 'one-sided')\n",
    "    wt_nest_multicomp['MWU-U'].append(mwu_p['U-val'].values.item())\n",
    "    wt_nest_multicomp['MWU-p'].append(mwu_p['p-val'].values.item())"
   ]
  },
  {
   "cell_type": "code",
   "execution_count": 300,
   "metadata": {},
   "outputs": [],
   "source": [
    "wt_nesting_df = pd.DataFrame(wt_nest_multicomp)"
   ]
  },
  {
   "cell_type": "code",
   "execution_count": 304,
   "metadata": {},
   "outputs": [],
   "source": [
    "rej, p_adj = pg.multicomp(wt_nesting_df['MWU-p'].values, method = 'holm')"
   ]
  },
  {
   "cell_type": "code",
   "execution_count": 305,
   "metadata": {},
   "outputs": [],
   "source": [
    "wt_nesting_df['p-adjust'] = p_adj"
   ]
  },
  {
   "cell_type": "code",
   "execution_count": 306,
   "metadata": {},
   "outputs": [
    {
     "data": {
      "text/html": [
       "<div>\n",
       "<style scoped>\n",
       "    .dataframe tbody tr th:only-of-type {\n",
       "        vertical-align: middle;\n",
       "    }\n",
       "\n",
       "    .dataframe tbody tr th {\n",
       "        vertical-align: top;\n",
       "    }\n",
       "\n",
       "    .dataframe thead th {\n",
       "        text-align: right;\n",
       "    }\n",
       "</style>\n",
       "<table border=\"1\" class=\"dataframe\">\n",
       "  <thead>\n",
       "    <tr style=\"text-align: right;\">\n",
       "      <th></th>\n",
       "      <th>Group A</th>\n",
       "      <th>Group B</th>\n",
       "      <th>MWU-U</th>\n",
       "      <th>MWU-p</th>\n",
       "      <th>p-adjust</th>\n",
       "    </tr>\n",
       "  </thead>\n",
       "  <tbody>\n",
       "    <tr>\n",
       "      <th>0</th>\n",
       "      <td>WT_Saline_1.0</td>\n",
       "      <td>WT_MK-801_0.5</td>\n",
       "      <td>312.0</td>\n",
       "      <td>0.035772</td>\n",
       "      <td>0.071543</td>\n",
       "    </tr>\n",
       "    <tr>\n",
       "      <th>1</th>\n",
       "      <td>WT_Saline_1.0</td>\n",
       "      <td>WT_MK-801_1.0</td>\n",
       "      <td>393.5</td>\n",
       "      <td>0.001544</td>\n",
       "      <td>0.004631</td>\n",
       "    </tr>\n",
       "    <tr>\n",
       "      <th>2</th>\n",
       "      <td>WT_MK-801_1.0</td>\n",
       "      <td>WT_MK-801_0.5</td>\n",
       "      <td>179.0</td>\n",
       "      <td>0.291197</td>\n",
       "      <td>0.291197</td>\n",
       "    </tr>\n",
       "  </tbody>\n",
       "</table>\n",
       "</div>"
      ],
      "text/plain": [
       "         Group A        Group B  MWU-U     MWU-p  p-adjust\n",
       "0  WT_Saline_1.0  WT_MK-801_0.5  312.0  0.035772  0.071543\n",
       "1  WT_Saline_1.0  WT_MK-801_1.0  393.5  0.001544  0.004631\n",
       "2  WT_MK-801_1.0  WT_MK-801_0.5  179.0  0.291197  0.291197"
      ]
     },
     "execution_count": 306,
     "metadata": {},
     "output_type": "execute_result"
    }
   ],
   "source": [
    "wt_nesting_df"
   ]
  },
  {
   "cell_type": "markdown",
   "metadata": {},
   "source": [
    "## Genotype Comparison"
   ]
  },
  {
   "cell_type": "code",
   "execution_count": 287,
   "metadata": {},
   "outputs": [],
   "source": [
    "nest_WK = nest_r[nest_r['Genotype'] != 'HE']"
   ]
  },
  {
   "cell_type": "code",
   "execution_count": 288,
   "metadata": {},
   "outputs": [
    {
     "data": {
      "text/html": [
       "<div>\n",
       "<style scoped>\n",
       "    .dataframe tbody tr th:only-of-type {\n",
       "        vertical-align: middle;\n",
       "    }\n",
       "\n",
       "    .dataframe tbody tr th {\n",
       "        vertical-align: top;\n",
       "    }\n",
       "\n",
       "    .dataframe thead th {\n",
       "        text-align: right;\n",
       "    }\n",
       "</style>\n",
       "<table border=\"1\" class=\"dataframe\">\n",
       "  <thead>\n",
       "    <tr style=\"text-align: right;\">\n",
       "      <th></th>\n",
       "      <th>W</th>\n",
       "      <th>pval</th>\n",
       "      <th>normal</th>\n",
       "    </tr>\n",
       "  </thead>\n",
       "  <tbody>\n",
       "    <tr>\n",
       "      <th>KO</th>\n",
       "      <td>10.346120</td>\n",
       "      <td>0.005667</td>\n",
       "      <td>False</td>\n",
       "    </tr>\n",
       "    <tr>\n",
       "      <th>WT</th>\n",
       "      <td>14.640844</td>\n",
       "      <td>0.000662</td>\n",
       "      <td>False</td>\n",
       "    </tr>\n",
       "  </tbody>\n",
       "</table>\n",
       "</div>"
      ],
      "text/plain": [
       "            W      pval  normal\n",
       "KO  10.346120  0.005667   False\n",
       "WT  14.640844  0.000662   False"
      ]
     },
     "execution_count": 288,
     "metadata": {},
     "output_type": "execute_result"
    }
   ],
   "source": [
    "pg.normality(data= nest_WK[nest_WK['Tx']=='Saline'], dv = 'Nesting Score', group='Genotype', method='normaltest')"
   ]
  },
  {
   "cell_type": "markdown",
   "metadata": {},
   "source": [
    "### Saline mice KO vs WT"
   ]
  },
  {
   "cell_type": "code",
   "execution_count": 289,
   "metadata": {},
   "outputs": [
    {
     "data": {
      "text/html": [
       "<div>\n",
       "<style scoped>\n",
       "    .dataframe tbody tr th:only-of-type {\n",
       "        vertical-align: middle;\n",
       "    }\n",
       "\n",
       "    .dataframe tbody tr th {\n",
       "        vertical-align: top;\n",
       "    }\n",
       "\n",
       "    .dataframe thead th {\n",
       "        text-align: right;\n",
       "    }\n",
       "</style>\n",
       "<table border=\"1\" class=\"dataframe\">\n",
       "  <thead>\n",
       "    <tr style=\"text-align: right;\">\n",
       "      <th></th>\n",
       "      <th>U-val</th>\n",
       "      <th>tail</th>\n",
       "      <th>p-val</th>\n",
       "      <th>RBC</th>\n",
       "      <th>CLES</th>\n",
       "    </tr>\n",
       "  </thead>\n",
       "  <tbody>\n",
       "    <tr>\n",
       "      <th>MWU</th>\n",
       "      <td>389.0</td>\n",
       "      <td>two-sided</td>\n",
       "      <td>0.51061</td>\n",
       "      <td>-0.105114</td>\n",
       "      <td>0.461648</td>\n",
       "    </tr>\n",
       "  </tbody>\n",
       "</table>\n",
       "</div>"
      ],
      "text/plain": [
       "     U-val       tail    p-val       RBC      CLES\n",
       "MWU  389.0  two-sided  0.51061 -0.105114  0.461648"
      ]
     },
     "execution_count": 289,
     "metadata": {},
     "output_type": "execute_result"
    }
   ],
   "source": [
    "sl_wt = nest_r['Nesting Score'][nest_r['Group'] == 'WTSaline']\n",
    "sl_ko = nest_r['Nesting Score'][nest_r['Group'] == 'KOSaline']\n",
    "pg.mwu(sl_wt, sl_ko)"
   ]
  },
  {
   "cell_type": "markdown",
   "metadata": {},
   "source": [
    "#### NO difference by genotype\n"
   ]
  },
  {
   "cell_type": "code",
   "execution_count": 290,
   "metadata": {},
   "outputs": [],
   "source": [
    "nest_05 = nest_r[nest_r['Genotype']!='HE'].copy()\n",
    "nest_05.loc[nest_r['Tx']=='Saline', 'Dose (mg/Kg)']  = 0.5"
   ]
  },
  {
   "cell_type": "code",
   "execution_count": 291,
   "metadata": {},
   "outputs": [
    {
     "data": {
      "text/plain": [
       "<matplotlib.legend.Legend at 0x122f2c040>"
      ]
     },
     "execution_count": 291,
     "metadata": {},
     "output_type": "execute_result"
    },
    {
     "data": {
      "image/png": "[encoded data removed]",
      "text/plain": [
       "<Figure size 432x288 with 1 Axes>"
      ]
     },
     "metadata": {
      "needs_background": "light"
     },
     "output_type": "display_data"
    }
   ],
   "source": [
    "sns.boxplot(data=nest_05[nest_05['Dose (mg/Kg)']==0.5], x='Genotype', y='Nesting Score', hue='Tx', showmeans=True, meanprops={'marker':'+', 'markeredgecolor':'k'}, width=0.3)\n",
    "plt.title('Nesting Score 0.5mg/kg')\n",
    "plt.legend(loc=3)"
   ]
  },
  {
   "cell_type": "code",
   "execution_count": 292,
   "metadata": {},
   "outputs": [
    {
     "data": {
      "text/html": [
       "<div>\n",
       "<style scoped>\n",
       "    .dataframe tbody tr th:only-of-type {\n",
       "        vertical-align: middle;\n",
       "    }\n",
       "\n",
       "    .dataframe tbody tr th {\n",
       "        vertical-align: top;\n",
       "    }\n",
       "\n",
       "    .dataframe thead th {\n",
       "        text-align: right;\n",
       "    }\n",
       "</style>\n",
       "<table border=\"1\" class=\"dataframe\">\n",
       "  <thead>\n",
       "    <tr style=\"text-align: right;\">\n",
       "      <th></th>\n",
       "      <th>W</th>\n",
       "      <th>pval</th>\n",
       "      <th>normal</th>\n",
       "    </tr>\n",
       "  </thead>\n",
       "  <tbody>\n",
       "    <tr>\n",
       "      <th>WTSaline</th>\n",
       "      <td>0.844293</td>\n",
       "      <td>0.005425</td>\n",
       "      <td>False</td>\n",
       "    </tr>\n",
       "    <tr>\n",
       "      <th>WTMK-801</th>\n",
       "      <td>0.825289</td>\n",
       "      <td>0.004606</td>\n",
       "      <td>False</td>\n",
       "    </tr>\n",
       "  </tbody>\n",
       "</table>\n",
       "</div>"
      ],
      "text/plain": [
       "                 W      pval  normal\n",
       "WTSaline  0.844293  0.005425   False\n",
       "WTMK-801  0.825289  0.004606   False"
      ]
     },
     "execution_count": 292,
     "metadata": {},
     "output_type": "execute_result"
    }
   ],
   "source": [
    "pg.normality(data= nest_05[(nest_05['Dose (mg/Kg)']==0.5)&(nest_05['Genotype']=='WT')].drop(45), dv = 'Nesting Score', group='Group')"
   ]
  },
  {
   "cell_type": "code",
   "execution_count": 254,
   "metadata": {
    "collapsed": true,
    "jupyter": {
     "outputs_hidden": true
    }
   },
   "outputs": [
    {
     "data": {
      "text/plain": [
       "6     4.0\n",
       "7     4.0\n",
       "8     5.0\n",
       "12    4.0\n",
       "13    4.5\n",
       "14    4.0\n",
       "25    4.0\n",
       "26    5.0\n",
       "34    4.5\n",
       "35    4.0\n",
       "43    4.0\n",
       "44    4.0\n",
       "45    2.0\n",
       "51    4.0\n",
       "52    4.0\n",
       "70    3.5\n",
       "71    3.5\n",
       "74    4.5\n",
       "75    4.5\n",
       "88    5.0\n",
       "Name: Nesting Score, dtype: float64"
      ]
     },
     "execution_count": 254,
     "metadata": {},
     "output_type": "execute_result"
    }
   ],
   "source": [
    "nest_05['Nesting Score'][(nest_05['Dose (mg/Kg)']==0.5)&(nest_05['Genotype']=='WT')& (nest_05['Tx']=='Saline')]"
   ]
  },
  {
   "cell_type": "code",
   "execution_count": 421,
   "metadata": {},
   "outputs": [
    {
     "data": {
      "text/html": [
       "<div>\n",
       "<style scoped>\n",
       "    .dataframe tbody tr th:only-of-type {\n",
       "        vertical-align: middle;\n",
       "    }\n",
       "\n",
       "    .dataframe tbody tr th {\n",
       "        vertical-align: top;\n",
       "    }\n",
       "\n",
       "    .dataframe thead th {\n",
       "        text-align: right;\n",
       "    }\n",
       "</style>\n",
       "<table border=\"1\" class=\"dataframe\">\n",
       "  <thead>\n",
       "    <tr style=\"text-align: right;\">\n",
       "      <th></th>\n",
       "      <th>U-val</th>\n",
       "      <th>tail</th>\n",
       "      <th>p-val</th>\n",
       "      <th>RBC</th>\n",
       "      <th>CLES</th>\n",
       "    </tr>\n",
       "  </thead>\n",
       "  <tbody>\n",
       "    <tr>\n",
       "      <th>MWU</th>\n",
       "      <td>103.5</td>\n",
       "      <td>two-sided</td>\n",
       "      <td>0.058404</td>\n",
       "      <td>0.359133</td>\n",
       "      <td>0.582043</td>\n",
       "    </tr>\n",
       "  </tbody>\n",
       "</table>\n",
       "</div>"
      ],
      "text/plain": [
       "     U-val       tail     p-val       RBC      CLES\n",
       "MWU  103.5  two-sided  0.058404  0.359133  0.582043"
      ]
     },
     "execution_count": 421,
     "metadata": {},
     "output_type": "execute_result"
    }
   ],
   "source": [
    "mk_wt = nest_05['Nesting Score'][(nest_05['Dose (mg/Kg)']==0.5)&(nest_05['Group']=='WTMK-801')]\n",
    "sl_wt = nest_05['Nesting Score'][(nest_05['Dose (mg/Kg)']==0.5)&(nest_05['Group']=='WTSaline')].drop(45)\n",
    "pg.mwu(mk_wt, sl_wt)"
   ]
  },
  {
   "cell_type": "markdown",
   "metadata": {},
   "source": [
    "### Strong tendency on WT mice (0.5mg/kg)"
   ]
  },
  {
   "cell_type": "code",
   "execution_count": 294,
   "metadata": {},
   "outputs": [
    {
     "data": {
      "text/plain": [
       "array(['KOMK-801', 'KOSaline', 'WTMK-801', 'WTSaline'], dtype=object)"
      ]
     },
     "execution_count": 294,
     "metadata": {},
     "output_type": "execute_result"
    }
   ],
   "source": [
    "nest_05['Group'].unique()"
   ]
  },
  {
   "cell_type": "code",
   "execution_count": 295,
   "metadata": {},
   "outputs": [
    {
     "data": {
      "text/html": [
       "<div>\n",
       "<style scoped>\n",
       "    .dataframe tbody tr th:only-of-type {\n",
       "        vertical-align: middle;\n",
       "    }\n",
       "\n",
       "    .dataframe tbody tr th {\n",
       "        vertical-align: top;\n",
       "    }\n",
       "\n",
       "    .dataframe thead th {\n",
       "        text-align: right;\n",
       "    }\n",
       "</style>\n",
       "<table border=\"1\" class=\"dataframe\">\n",
       "  <thead>\n",
       "    <tr style=\"text-align: right;\">\n",
       "      <th></th>\n",
       "      <th>W</th>\n",
       "      <th>pval</th>\n",
       "      <th>normal</th>\n",
       "    </tr>\n",
       "  </thead>\n",
       "  <tbody>\n",
       "    <tr>\n",
       "      <th>KOSaline</th>\n",
       "      <td>0.830775</td>\n",
       "      <td>0.000163</td>\n",
       "      <td>False</td>\n",
       "    </tr>\n",
       "    <tr>\n",
       "      <th>WTSaline</th>\n",
       "      <td>0.809589</td>\n",
       "      <td>0.001205</td>\n",
       "      <td>False</td>\n",
       "    </tr>\n",
       "    <tr>\n",
       "      <th>KOMK-801</th>\n",
       "      <td>0.860853</td>\n",
       "      <td>0.010126</td>\n",
       "      <td>False</td>\n",
       "    </tr>\n",
       "    <tr>\n",
       "      <th>WTMK-801</th>\n",
       "      <td>0.825289</td>\n",
       "      <td>0.004606</td>\n",
       "      <td>False</td>\n",
       "    </tr>\n",
       "  </tbody>\n",
       "</table>\n",
       "</div>"
      ],
      "text/plain": [
       "                 W      pval  normal\n",
       "KOSaline  0.830775  0.000163   False\n",
       "WTSaline  0.809589  0.001205   False\n",
       "KOMK-801  0.860853  0.010126   False\n",
       "WTMK-801  0.825289  0.004606   False"
      ]
     },
     "execution_count": 295,
     "metadata": {},
     "output_type": "execute_result"
    }
   ],
   "source": [
    "pg.normality(data= nest_05[nest_05['Dose (mg/Kg)']==0.5], dv='Nesting Score', group='Group')"
   ]
  },
  {
   "cell_type": "code",
   "execution_count": 296,
   "metadata": {},
   "outputs": [
    {
     "data": {
      "text/html": [
       "<div>\n",
       "<style scoped>\n",
       "    .dataframe tbody tr th:only-of-type {\n",
       "        vertical-align: middle;\n",
       "    }\n",
       "\n",
       "    .dataframe tbody tr th {\n",
       "        vertical-align: top;\n",
       "    }\n",
       "\n",
       "    .dataframe thead th {\n",
       "        text-align: right;\n",
       "    }\n",
       "</style>\n",
       "<table border=\"1\" class=\"dataframe\">\n",
       "  <thead>\n",
       "    <tr style=\"text-align: right;\">\n",
       "      <th></th>\n",
       "      <th>W</th>\n",
       "      <th>pval</th>\n",
       "      <th>equal_var</th>\n",
       "    </tr>\n",
       "  </thead>\n",
       "  <tbody>\n",
       "    <tr>\n",
       "      <th>levene</th>\n",
       "      <td>0.067853</td>\n",
       "      <td>0.79606</td>\n",
       "      <td>True</td>\n",
       "    </tr>\n",
       "  </tbody>\n",
       "</table>\n",
       "</div>"
      ],
      "text/plain": [
       "               W     pval  equal_var\n",
       "levene  0.067853  0.79606       True"
      ]
     },
     "execution_count": 296,
     "metadata": {},
     "output_type": "execute_result"
    }
   ],
   "source": [
    "pg.homoscedasticity(data= nest_r[nest_r['Dose (mg/Kg)']==0.5], dv='Nesting Score', group='Group')"
   ]
  },
  {
   "cell_type": "code",
   "execution_count": 297,
   "metadata": {},
   "outputs": [
    {
     "data": {
      "text/html": [
       "<div>\n",
       "<style scoped>\n",
       "    .dataframe tbody tr th:only-of-type {\n",
       "        vertical-align: middle;\n",
       "    }\n",
       "\n",
       "    .dataframe tbody tr th {\n",
       "        vertical-align: top;\n",
       "    }\n",
       "\n",
       "    .dataframe thead th {\n",
       "        text-align: right;\n",
       "    }\n",
       "</style>\n",
       "<table border=\"1\" class=\"dataframe\">\n",
       "  <thead>\n",
       "    <tr style=\"text-align: right;\">\n",
       "      <th></th>\n",
       "      <th>Source</th>\n",
       "      <th>ddof1</th>\n",
       "      <th>H</th>\n",
       "      <th>p-unc</th>\n",
       "    </tr>\n",
       "  </thead>\n",
       "  <tbody>\n",
       "    <tr>\n",
       "      <th>Kruskal</th>\n",
       "      <td>Group</td>\n",
       "      <td>1</td>\n",
       "      <td>0.724812</td>\n",
       "      <td>0.39457</td>\n",
       "    </tr>\n",
       "  </tbody>\n",
       "</table>\n",
       "</div>"
      ],
      "text/plain": [
       "        Source  ddof1         H    p-unc\n",
       "Kruskal  Group      1  0.724812  0.39457"
      ]
     },
     "execution_count": 297,
     "metadata": {},
     "output_type": "execute_result"
    }
   ],
   "source": [
    "pg.kruskal(nest_r[nest_r['Dose (mg/Kg)']==0.5], dv='Nesting Score', between='Group')"
   ]
  },
  {
   "cell_type": "markdown",
   "metadata": {},
   "source": [
    "#### NO effect over all"
   ]
  },
  {
   "cell_type": "markdown",
   "metadata": {},
   "source": [
    "## Burrowing"
   ]
  },
  {
   "cell_type": "code",
   "execution_count": 67,
   "metadata": {},
   "outputs": [],
   "source": [
    "burr_r = pd.read_csv('/Users/labc02/Documents/PDCB_data/MK-project/Burrowing.csv')"
   ]
  },
  {
   "cell_type": "code",
   "execution_count": 68,
   "metadata": {},
   "outputs": [
    {
     "data": {
      "text/plain": [
       "Index(['Sub', 'Genotype', 'UR', 'Sex', 'Tx', 'Dose (mg/Kg)', 'Initial weight',\n",
       "       'Baseline(2h)', 'Baseline(12h)', 'Test(2h)', 'Test(12h)',\n",
       "       'Baseline(2h%)', 'Baseline(12h%)', 'Test(2h%)', 'Test(12h%)',\n",
       "       'Amount_Burrowed(g)'],\n",
       "      dtype='object')"
      ]
     },
     "execution_count": 68,
     "metadata": {},
     "output_type": "execute_result"
    }
   ],
   "source": [
    "burr_r.columns"
   ]
  },
  {
   "cell_type": "code",
   "execution_count": 69,
   "metadata": {},
   "outputs": [],
   "source": [
    "burr_r = burr_r[['Sub', 'Genotype', 'UR', 'Sex', 'Tx', 'Dose (mg/Kg)', 'Amount_Burrowed(g)']]"
   ]
  },
  {
   "cell_type": "code",
   "execution_count": 70,
   "metadata": {},
   "outputs": [],
   "source": [
    "burr_r['Tx'] = burr_r['Tx'].str.rstrip()"
   ]
  },
  {
   "cell_type": "code",
   "execution_count": 71,
   "metadata": {},
   "outputs": [
    {
     "data": {
      "text/plain": [
       "array(['MK-801', 'Saline'], dtype=object)"
      ]
     },
     "execution_count": 71,
     "metadata": {},
     "output_type": "execute_result"
    }
   ],
   "source": [
    "burr_r['Tx'].unique()"
   ]
  },
  {
   "cell_type": "code",
   "execution_count": 80,
   "metadata": {},
   "outputs": [],
   "source": [
    "burr_r['Group'] = burr_r['Genotype']+'_'+burr_r['Tx']+'_'+burr_r['Dose (mg/Kg)'].astype(str)"
   ]
  },
  {
   "cell_type": "code",
   "execution_count": 81,
   "metadata": {},
   "outputs": [
    {
     "data": {
      "text/plain": [
       "Genotype  Tx      Dose (mg/Kg)\n",
       "HE        MK-801  1.0              6\n",
       "          Saline  1.0              6\n",
       "KO        MK-801  0.5             21\n",
       "                  1.0              3\n",
       "          Saline  1.0             32\n",
       "WT        MK-801  0.5             19\n",
       "                  1.0             22\n",
       "          Saline  1.0             23\n",
       "Name: Sub, dtype: int64"
      ]
     },
     "execution_count": 81,
     "metadata": {},
     "output_type": "execute_result"
    }
   ],
   "source": [
    "burr_r.groupby(['Genotype', 'Tx', 'Dose (mg/Kg)'])['Sub'].count()"
   ]
  },
  {
   "cell_type": "code",
   "execution_count": 82,
   "metadata": {},
   "outputs": [],
   "source": [
    "burr_tidy = burr_r.copy()"
   ]
  },
  {
   "cell_type": "code",
   "execution_count": 83,
   "metadata": {},
   "outputs": [
    {
     "data": {
      "text/plain": [
       "Genotype  Tx      Dose (mg/Kg)\n",
       "HE        MK-801  1.0              6\n",
       "          Saline  1.0              6\n",
       "KO        MK-801  0.5             21\n",
       "                  1.0              3\n",
       "          Saline  1.0             32\n",
       "WT        MK-801  0.5             19\n",
       "                  1.0             22\n",
       "          Saline  1.0             23\n",
       "Name: Sub, dtype: int64"
      ]
     },
     "execution_count": 83,
     "metadata": {},
     "output_type": "execute_result"
    }
   ],
   "source": [
    "burr_tidy.groupby(['Genotype', 'Tx', 'Dose (mg/Kg)'])['Sub'].count()"
   ]
  },
  {
   "cell_type": "code",
   "execution_count": 84,
   "metadata": {},
   "outputs": [
    {
     "data": {
      "text/plain": [
       "<matplotlib.legend.Legend at 0x12a722940>"
      ]
     },
     "execution_count": 84,
     "metadata": {},
     "output_type": "execute_result"
    },
    {
     "data": {
      "image/png": "[encoded data removed]",
      "text/plain": [
       "<Figure size 432x288 with 1 Axes>"
      ]
     },
     "metadata": {
      "needs_background": "light"
     },
     "output_type": "display_data"
    }
   ],
   "source": [
    "sns.boxplot(data=burr_tidy[burr_tidy['Dose (mg/Kg)']==1], x='Tx', y='Amount_Burrowed(g)', hue='Genotype', hue_order = ['KO', 'WT', 'HE'], showmeans=True, meanprops={'marker':'+', 'markeredgecolor':'k'}, width=0.3, palette=['forestgreen', 'royalblue', 'gold'])\n",
    "plt.title('Burrowing 1mg/kg')\n",
    "plt.ylabel('Burrowed (g)')\n",
    "plt.legend(loc=4)\n"
   ]
  },
  {
   "cell_type": "markdown",
   "metadata": {},
   "source": [
    "### Effect of genotype on burrowing"
   ]
  },
  {
   "cell_type": "code",
   "execution_count": 85,
   "metadata": {},
   "outputs": [
    {
     "data": {
      "text/plain": [
       "array([45, 48, 57])"
      ]
     },
     "execution_count": 85,
     "metadata": {},
     "output_type": "execute_result"
    }
   ],
   "source": [
    "# outlier detection\n",
    "out = pg.madmedianrule(burr_tidy[(burr_tidy['Genotype']=='WT') & (burr_tidy['Tx'] == 'Saline')]['Amount_Burrowed(g)'])\n",
    "idx = burr_tidy[(burr_tidy['Genotype']=='WT') & (burr_tidy['Tx'] == 'Saline')]['Amount_Burrowed(g)'].index.values\n",
    "outs = idx[out]\n",
    "outs"
   ]
  },
  {
   "cell_type": "code",
   "execution_count": 86,
   "metadata": {},
   "outputs": [],
   "source": [
    "burr_tidy.drop(outs, inplace = True)"
   ]
  },
  {
   "cell_type": "code",
   "execution_count": 87,
   "metadata": {},
   "outputs": [
    {
     "data": {
      "text/plain": [
       "array(['KO_MK-801_1.0', 'KO_Saline_1.0', 'WT_MK-801_1.0', 'WT_Saline_1.0',\n",
       "       'KO_MK-801_0.5', 'WT_MK-801_0.5', 'HE_Saline_1.0', 'HE_MK-801_1.0'],\n",
       "      dtype=object)"
      ]
     },
     "execution_count": 87,
     "metadata": {},
     "output_type": "execute_result"
    }
   ],
   "source": [
    "burr_tidy['Group'].unique()"
   ]
  },
  {
   "cell_type": "code",
   "execution_count": 88,
   "metadata": {},
   "outputs": [
    {
     "data": {
      "text/plain": [
       "Text(0, 0.5, 'Burrowed (g)')"
      ]
     },
     "execution_count": 88,
     "metadata": {},
     "output_type": "execute_result"
    },
    {
     "data": {
      "image/png": "[encoded data removed]",
      "text/plain": [
       "<Figure size 432x288 with 1 Axes>"
      ]
     },
     "metadata": {
      "needs_background": "light"
     },
     "output_type": "display_data"
    }
   ],
   "source": [
    "sns.boxplot(data=burr_tidy[(burr_tidy['Tx']=='Saline')], x='Genotype', y='Amount_Burrowed(g)', showmeans=True, meanprops={'marker':'+', 'markeredgecolor':'k'}, width=0.3, palette=['royalblue', 'gold', 'forestgreen'], order = ['WT', 'HE', 'KO'])\n",
    "plt.title('Burrowing (Saline)')\n",
    "plt.ylabel('Burrowed (g)')"
   ]
  },
  {
   "cell_type": "markdown",
   "metadata": {},
   "source": [
    "### Genotype Effect in Burrowing"
   ]
  },
  {
   "cell_type": "code",
   "execution_count": 89,
   "metadata": {},
   "outputs": [
    {
     "data": {
      "text/html": [
       "<div>\n",
       "<style scoped>\n",
       "    .dataframe tbody tr th:only-of-type {\n",
       "        vertical-align: middle;\n",
       "    }\n",
       "\n",
       "    .dataframe tbody tr th {\n",
       "        vertical-align: top;\n",
       "    }\n",
       "\n",
       "    .dataframe thead th {\n",
       "        text-align: right;\n",
       "    }\n",
       "</style>\n",
       "<table border=\"1\" class=\"dataframe\">\n",
       "  <thead>\n",
       "    <tr style=\"text-align: right;\">\n",
       "      <th></th>\n",
       "      <th>W</th>\n",
       "      <th>pval</th>\n",
       "      <th>normal</th>\n",
       "    </tr>\n",
       "  </thead>\n",
       "  <tbody>\n",
       "    <tr>\n",
       "      <th>KO</th>\n",
       "      <td>9.862063</td>\n",
       "      <td>0.007219</td>\n",
       "      <td>False</td>\n",
       "    </tr>\n",
       "    <tr>\n",
       "      <th>WT</th>\n",
       "      <td>2.106520</td>\n",
       "      <td>0.348799</td>\n",
       "      <td>True</td>\n",
       "    </tr>\n",
       "  </tbody>\n",
       "</table>\n",
       "</div>"
      ],
      "text/plain": [
       "           W      pval  normal\n",
       "KO  9.862063  0.007219   False\n",
       "WT  2.106520  0.348799    True"
      ]
     },
     "execution_count": 89,
     "metadata": {},
     "output_type": "execute_result"
    }
   ],
   "source": [
    "pg.normality(data=burr_tidy[(burr_tidy['Tx']=='Saline')&(burr_tidy['Genotype']!='HE')], dv='Amount_Burrowed(g)', group='Genotype', method = 'normaltest')"
   ]
  },
  {
   "cell_type": "markdown",
   "metadata": {},
   "source": [
    "### WT vs KO Comparison"
   ]
  },
  {
   "cell_type": "code",
   "execution_count": 90,
   "metadata": {},
   "outputs": [
    {
     "data": {
      "text/html": [
       "<div>\n",
       "<style scoped>\n",
       "    .dataframe tbody tr th:only-of-type {\n",
       "        vertical-align: middle;\n",
       "    }\n",
       "\n",
       "    .dataframe tbody tr th {\n",
       "        vertical-align: top;\n",
       "    }\n",
       "\n",
       "    .dataframe thead th {\n",
       "        text-align: right;\n",
       "    }\n",
       "</style>\n",
       "<table border=\"1\" class=\"dataframe\">\n",
       "  <thead>\n",
       "    <tr style=\"text-align: right;\">\n",
       "      <th></th>\n",
       "      <th>U-val</th>\n",
       "      <th>tail</th>\n",
       "      <th>p-val</th>\n",
       "      <th>RBC</th>\n",
       "      <th>CLES</th>\n",
       "    </tr>\n",
       "  </thead>\n",
       "  <tbody>\n",
       "    <tr>\n",
       "      <th>MWU</th>\n",
       "      <td>444.0</td>\n",
       "      <td>two-sided</td>\n",
       "      <td>0.020185</td>\n",
       "      <td>-0.3875</td>\n",
       "      <td>0.69375</td>\n",
       "    </tr>\n",
       "  </tbody>\n",
       "</table>\n",
       "</div>"
      ],
      "text/plain": [
       "     U-val       tail     p-val     RBC     CLES\n",
       "MWU  444.0  two-sided  0.020185 -0.3875  0.69375"
      ]
     },
     "execution_count": 90,
     "metadata": {},
     "output_type": "execute_result"
    }
   ],
   "source": [
    "WT_S = burr_tidy[(burr_tidy['Tx']=='Saline')& (burr_tidy['Genotype']=='WT')]['Amount_Burrowed(g)']\n",
    "KO_S = burr_tidy[(burr_tidy['Tx']=='Saline')& (burr_tidy['Genotype']=='KO')]['Amount_Burrowed(g)']\n",
    "pg.mwu(WT_S, KO_S)"
   ]
  },
  {
   "cell_type": "markdown",
   "metadata": {},
   "source": [
    "### Effect of MK-801 on WT mice"
   ]
  },
  {
   "cell_type": "code",
   "execution_count": 91,
   "metadata": {
    "collapsed": true,
    "jupyter": {
     "outputs_hidden": true
    }
   },
   "outputs": [
    {
     "data": {
      "text/html": [
       "<div>\n",
       "<style scoped>\n",
       "    .dataframe tbody tr th:only-of-type {\n",
       "        vertical-align: middle;\n",
       "    }\n",
       "\n",
       "    .dataframe tbody tr th {\n",
       "        vertical-align: top;\n",
       "    }\n",
       "\n",
       "    .dataframe thead th {\n",
       "        text-align: right;\n",
       "    }\n",
       "</style>\n",
       "<table border=\"1\" class=\"dataframe\">\n",
       "  <thead>\n",
       "    <tr style=\"text-align: right;\">\n",
       "      <th></th>\n",
       "      <th>Sub</th>\n",
       "      <th>Genotype</th>\n",
       "      <th>UR</th>\n",
       "      <th>Sex</th>\n",
       "      <th>Tx</th>\n",
       "      <th>Dose (mg/Kg)</th>\n",
       "      <th>Amount_Burrowed(g)</th>\n",
       "      <th>Group</th>\n",
       "    </tr>\n",
       "  </thead>\n",
       "  <tbody>\n",
       "    <tr>\n",
       "      <th>6</th>\n",
       "      <td>4</td>\n",
       "      <td>WT</td>\n",
       "      <td>1.1</td>\n",
       "      <td>Female</td>\n",
       "      <td>Saline</td>\n",
       "      <td>1.0</td>\n",
       "      <td>291.72</td>\n",
       "      <td>WT_Saline_1.0</td>\n",
       "    </tr>\n",
       "    <tr>\n",
       "      <th>7</th>\n",
       "      <td>5</td>\n",
       "      <td>WT</td>\n",
       "      <td>1.1</td>\n",
       "      <td>Female</td>\n",
       "      <td>Saline</td>\n",
       "      <td>1.0</td>\n",
       "      <td>305.96</td>\n",
       "      <td>WT_Saline_1.0</td>\n",
       "    </tr>\n",
       "    <tr>\n",
       "      <th>8</th>\n",
       "      <td>6</td>\n",
       "      <td>WT</td>\n",
       "      <td>1.1</td>\n",
       "      <td>Male</td>\n",
       "      <td>Saline</td>\n",
       "      <td>1.0</td>\n",
       "      <td>322.81</td>\n",
       "      <td>WT_Saline_1.0</td>\n",
       "    </tr>\n",
       "    <tr>\n",
       "      <th>12</th>\n",
       "      <td>5</td>\n",
       "      <td>WT</td>\n",
       "      <td>3.1</td>\n",
       "      <td>Female</td>\n",
       "      <td>Saline</td>\n",
       "      <td>1.0</td>\n",
       "      <td>355.10</td>\n",
       "      <td>WT_Saline_1.0</td>\n",
       "    </tr>\n",
       "    <tr>\n",
       "      <th>13</th>\n",
       "      <td>6</td>\n",
       "      <td>WT</td>\n",
       "      <td>3.1</td>\n",
       "      <td>Female</td>\n",
       "      <td>Saline</td>\n",
       "      <td>1.0</td>\n",
       "      <td>352.22</td>\n",
       "      <td>WT_Saline_1.0</td>\n",
       "    </tr>\n",
       "    <tr>\n",
       "      <th>14</th>\n",
       "      <td>7</td>\n",
       "      <td>WT</td>\n",
       "      <td>3.1</td>\n",
       "      <td>Female</td>\n",
       "      <td>Saline</td>\n",
       "      <td>1.0</td>\n",
       "      <td>339.44</td>\n",
       "      <td>WT_Saline_1.0</td>\n",
       "    </tr>\n",
       "    <tr>\n",
       "      <th>26</th>\n",
       "      <td>5</td>\n",
       "      <td>WT</td>\n",
       "      <td>2.2</td>\n",
       "      <td>Female</td>\n",
       "      <td>Saline</td>\n",
       "      <td>1.0</td>\n",
       "      <td>279.34</td>\n",
       "      <td>WT_Saline_1.0</td>\n",
       "    </tr>\n",
       "    <tr>\n",
       "      <th>29</th>\n",
       "      <td>4</td>\n",
       "      <td>WT</td>\n",
       "      <td>2.2</td>\n",
       "      <td>Male</td>\n",
       "      <td>Saline</td>\n",
       "      <td>1.0</td>\n",
       "      <td>251.74</td>\n",
       "      <td>WT_Saline_1.0</td>\n",
       "    </tr>\n",
       "    <tr>\n",
       "      <th>32</th>\n",
       "      <td>7</td>\n",
       "      <td>WT</td>\n",
       "      <td>4.2</td>\n",
       "      <td>Female</td>\n",
       "      <td>Saline</td>\n",
       "      <td>1.0</td>\n",
       "      <td>204.85</td>\n",
       "      <td>WT_Saline_1.0</td>\n",
       "    </tr>\n",
       "    <tr>\n",
       "      <th>33</th>\n",
       "      <td>8</td>\n",
       "      <td>WT</td>\n",
       "      <td>4.2</td>\n",
       "      <td>Female</td>\n",
       "      <td>Saline</td>\n",
       "      <td>1.0</td>\n",
       "      <td>313.53</td>\n",
       "      <td>WT_Saline_1.0</td>\n",
       "    </tr>\n",
       "    <tr>\n",
       "      <th>38</th>\n",
       "      <td>4</td>\n",
       "      <td>WT</td>\n",
       "      <td>2.3</td>\n",
       "      <td>Male</td>\n",
       "      <td>Saline</td>\n",
       "      <td>1.0</td>\n",
       "      <td>328.33</td>\n",
       "      <td>WT_Saline_1.0</td>\n",
       "    </tr>\n",
       "    <tr>\n",
       "      <th>39</th>\n",
       "      <td>5</td>\n",
       "      <td>WT</td>\n",
       "      <td>2.3</td>\n",
       "      <td>Male</td>\n",
       "      <td>Saline</td>\n",
       "      <td>1.0</td>\n",
       "      <td>237.28</td>\n",
       "      <td>WT_Saline_1.0</td>\n",
       "    </tr>\n",
       "    <tr>\n",
       "      <th>43</th>\n",
       "      <td>4</td>\n",
       "      <td>WT</td>\n",
       "      <td>3.2</td>\n",
       "      <td>Male</td>\n",
       "      <td>Saline</td>\n",
       "      <td>1.0</td>\n",
       "      <td>252.54</td>\n",
       "      <td>WT_Saline_1.0</td>\n",
       "    </tr>\n",
       "    <tr>\n",
       "      <th>44</th>\n",
       "      <td>5</td>\n",
       "      <td>WT</td>\n",
       "      <td>3.2</td>\n",
       "      <td>Female</td>\n",
       "      <td>Saline</td>\n",
       "      <td>1.0</td>\n",
       "      <td>382.78</td>\n",
       "      <td>WT_Saline_1.0</td>\n",
       "    </tr>\n",
       "    <tr>\n",
       "      <th>69</th>\n",
       "      <td>3</td>\n",
       "      <td>WT</td>\n",
       "      <td>2.4</td>\n",
       "      <td>Female</td>\n",
       "      <td>Saline</td>\n",
       "      <td>1.0</td>\n",
       "      <td>345.56</td>\n",
       "      <td>WT_Saline_1.0</td>\n",
       "    </tr>\n",
       "    <tr>\n",
       "      <th>70</th>\n",
       "      <td>4</td>\n",
       "      <td>WT</td>\n",
       "      <td>2.4</td>\n",
       "      <td>Male</td>\n",
       "      <td>Saline</td>\n",
       "      <td>1.0</td>\n",
       "      <td>350.07</td>\n",
       "      <td>WT_Saline_1.0</td>\n",
       "    </tr>\n",
       "    <tr>\n",
       "      <th>73</th>\n",
       "      <td>5</td>\n",
       "      <td>WT</td>\n",
       "      <td>2.5</td>\n",
       "      <td>Female</td>\n",
       "      <td>Saline</td>\n",
       "      <td>1.0</td>\n",
       "      <td>353.52</td>\n",
       "      <td>WT_Saline_1.0</td>\n",
       "    </tr>\n",
       "    <tr>\n",
       "      <th>74</th>\n",
       "      <td>6</td>\n",
       "      <td>WT</td>\n",
       "      <td>2.5</td>\n",
       "      <td>Female</td>\n",
       "      <td>Saline</td>\n",
       "      <td>1.0</td>\n",
       "      <td>368.49</td>\n",
       "      <td>WT_Saline_1.0</td>\n",
       "    </tr>\n",
       "    <tr>\n",
       "      <th>87</th>\n",
       "      <td>1</td>\n",
       "      <td>WT</td>\n",
       "      <td>2.8</td>\n",
       "      <td>Male</td>\n",
       "      <td>Saline</td>\n",
       "      <td>1.0</td>\n",
       "      <td>243.34</td>\n",
       "      <td>WT_Saline_1.0</td>\n",
       "    </tr>\n",
       "    <tr>\n",
       "      <th>115</th>\n",
       "      <td>5</td>\n",
       "      <td>WT</td>\n",
       "      <td>2.1</td>\n",
       "      <td>Male</td>\n",
       "      <td>Saline</td>\n",
       "      <td>1.0</td>\n",
       "      <td>267.10</td>\n",
       "      <td>WT_Saline_1.0</td>\n",
       "    </tr>\n",
       "  </tbody>\n",
       "</table>\n",
       "</div>"
      ],
      "text/plain": [
       "     Sub Genotype   UR     Sex      Tx  Dose (mg/Kg)  Amount_Burrowed(g)  \\\n",
       "6      4       WT  1.1  Female  Saline           1.0              291.72   \n",
       "7      5       WT  1.1  Female  Saline           1.0              305.96   \n",
       "8      6       WT  1.1    Male  Saline           1.0              322.81   \n",
       "12     5       WT  3.1  Female  Saline           1.0              355.10   \n",
       "13     6       WT  3.1  Female  Saline           1.0              352.22   \n",
       "14     7       WT  3.1  Female  Saline           1.0              339.44   \n",
       "26     5       WT  2.2  Female  Saline           1.0              279.34   \n",
       "29     4       WT  2.2    Male  Saline           1.0              251.74   \n",
       "32     7       WT  4.2  Female  Saline           1.0              204.85   \n",
       "33     8       WT  4.2  Female  Saline           1.0              313.53   \n",
       "38     4       WT  2.3    Male  Saline           1.0              328.33   \n",
       "39     5       WT  2.3    Male  Saline           1.0              237.28   \n",
       "43     4       WT  3.2    Male  Saline           1.0              252.54   \n",
       "44     5       WT  3.2  Female  Saline           1.0              382.78   \n",
       "69     3       WT  2.4  Female  Saline           1.0              345.56   \n",
       "70     4       WT  2.4    Male  Saline           1.0              350.07   \n",
       "73     5       WT  2.5  Female  Saline           1.0              353.52   \n",
       "74     6       WT  2.5  Female  Saline           1.0              368.49   \n",
       "87     1       WT  2.8    Male  Saline           1.0              243.34   \n",
       "115    5       WT  2.1    Male  Saline           1.0              267.10   \n",
       "\n",
       "             Group  \n",
       "6    WT_Saline_1.0  \n",
       "7    WT_Saline_1.0  \n",
       "8    WT_Saline_1.0  \n",
       "12   WT_Saline_1.0  \n",
       "13   WT_Saline_1.0  \n",
       "14   WT_Saline_1.0  \n",
       "26   WT_Saline_1.0  \n",
       "29   WT_Saline_1.0  \n",
       "32   WT_Saline_1.0  \n",
       "33   WT_Saline_1.0  \n",
       "38   WT_Saline_1.0  \n",
       "39   WT_Saline_1.0  \n",
       "43   WT_Saline_1.0  \n",
       "44   WT_Saline_1.0  \n",
       "69   WT_Saline_1.0  \n",
       "70   WT_Saline_1.0  \n",
       "73   WT_Saline_1.0  \n",
       "74   WT_Saline_1.0  \n",
       "87   WT_Saline_1.0  \n",
       "115  WT_Saline_1.0  "
      ]
     },
     "execution_count": 91,
     "metadata": {},
     "output_type": "execute_result"
    }
   ],
   "source": [
    "burr_tidy[(burr_tidy['Genotype']=='WT') & (burr_tidy['Tx'] == 'Saline')]"
   ]
  },
  {
   "cell_type": "code",
   "execution_count": 92,
   "metadata": {},
   "outputs": [
    {
     "name": "stderr",
     "output_type": "stream",
     "text": [
      "/opt/miniconda3/envs/databs/lib/python3.8/site-packages/scipy/stats/stats.py:1534: UserWarning: kurtosistest only valid for n>=20 ... continuing anyway, n=19\n",
      "  warnings.warn(\"kurtosistest only valid for n>=20 ... continuing \"\n"
     ]
    },
    {
     "data": {
      "text/html": [
       "<div>\n",
       "<style scoped>\n",
       "    .dataframe tbody tr th:only-of-type {\n",
       "        vertical-align: middle;\n",
       "    }\n",
       "\n",
       "    .dataframe tbody tr th {\n",
       "        vertical-align: top;\n",
       "    }\n",
       "\n",
       "    .dataframe thead th {\n",
       "        text-align: right;\n",
       "    }\n",
       "</style>\n",
       "<table border=\"1\" class=\"dataframe\">\n",
       "  <thead>\n",
       "    <tr style=\"text-align: right;\">\n",
       "      <th></th>\n",
       "      <th>W</th>\n",
       "      <th>pval</th>\n",
       "      <th>normal</th>\n",
       "    </tr>\n",
       "  </thead>\n",
       "  <tbody>\n",
       "    <tr>\n",
       "      <th>WT_MK-801_1.0</th>\n",
       "      <td>6.320726</td>\n",
       "      <td>0.042410</td>\n",
       "      <td>False</td>\n",
       "    </tr>\n",
       "    <tr>\n",
       "      <th>WT_Saline_1.0</th>\n",
       "      <td>2.106520</td>\n",
       "      <td>0.348799</td>\n",
       "      <td>True</td>\n",
       "    </tr>\n",
       "    <tr>\n",
       "      <th>WT_MK-801_0.5</th>\n",
       "      <td>3.474805</td>\n",
       "      <td>0.175977</td>\n",
       "      <td>True</td>\n",
       "    </tr>\n",
       "  </tbody>\n",
       "</table>\n",
       "</div>"
      ],
      "text/plain": [
       "                      W      pval  normal\n",
       "WT_MK-801_1.0  6.320726  0.042410   False\n",
       "WT_Saline_1.0  2.106520  0.348799    True\n",
       "WT_MK-801_0.5  3.474805  0.175977    True"
      ]
     },
     "execution_count": 92,
     "metadata": {},
     "output_type": "execute_result"
    }
   ],
   "source": [
    "pg.normality(data = burr_tidy[burr_tidy['Genotype']=='WT'], dv='Amount_Burrowed(g)', group='Group', method = 'normaltest')"
   ]
  },
  {
   "cell_type": "code",
   "execution_count": 95,
   "metadata": {},
   "outputs": [],
   "source": [
    "WT_S = burr_tidy['Amount_Burrowed(g)'][(burr_tidy['Dose (mg/Kg)']==1)&(burr_tidy['Genotype']=='WT')&(burr_tidy['Tx']== 'Saline')]\n",
    "WT_MK = burr_tidy['Amount_Burrowed(g)'][(burr_tidy['Dose (mg/Kg)']==1)&(burr_tidy['Genotype']=='WT')&(burr_tidy['Tx']== 'MK-801')]"
   ]
  },
  {
   "cell_type": "code",
   "execution_count": 96,
   "metadata": {},
   "outputs": [
    {
     "data": {
      "text/html": [
       "<div>\n",
       "<style scoped>\n",
       "    .dataframe tbody tr th:only-of-type {\n",
       "        vertical-align: middle;\n",
       "    }\n",
       "\n",
       "    .dataframe tbody tr th {\n",
       "        vertical-align: top;\n",
       "    }\n",
       "\n",
       "    .dataframe thead th {\n",
       "        text-align: right;\n",
       "    }\n",
       "</style>\n",
       "<table border=\"1\" class=\"dataframe\">\n",
       "  <thead>\n",
       "    <tr style=\"text-align: right;\">\n",
       "      <th></th>\n",
       "      <th>T</th>\n",
       "      <th>dof</th>\n",
       "      <th>tail</th>\n",
       "      <th>p-val</th>\n",
       "      <th>CI95%</th>\n",
       "      <th>cohen-d</th>\n",
       "      <th>BF10</th>\n",
       "      <th>power</th>\n",
       "    </tr>\n",
       "  </thead>\n",
       "  <tbody>\n",
       "    <tr>\n",
       "      <th>T-test</th>\n",
       "      <td>3.681072</td>\n",
       "      <td>28.238265</td>\n",
       "      <td>two-sided</td>\n",
       "      <td>0.000972</td>\n",
       "      <td>[47.54, 166.71]</td>\n",
       "      <td>1.098121</td>\n",
       "      <td>42.617</td>\n",
       "      <td>0.934192</td>\n",
       "    </tr>\n",
       "  </tbody>\n",
       "</table>\n",
       "</div>"
      ],
      "text/plain": [
       "               T        dof       tail     p-val            CI95%   cohen-d  \\\n",
       "T-test  3.681072  28.238265  two-sided  0.000972  [47.54, 166.71]  1.098121   \n",
       "\n",
       "          BF10     power  \n",
       "T-test  42.617  0.934192  "
      ]
     },
     "execution_count": 96,
     "metadata": {},
     "output_type": "execute_result"
    }
   ],
   "source": [
    "pg.ttest(WT_S, WT_MK)"
   ]
  },
  {
   "cell_type": "code",
   "execution_count": 100,
   "metadata": {},
   "outputs": [
    {
     "data": {
      "text/plain": [
       "Text(0, 0.5, 'Burrowed (g)')"
      ]
     },
     "execution_count": 100,
     "metadata": {},
     "output_type": "execute_result"
    },
    {
     "data": {
      "image/png": "[encoded data removed]",
      "text/plain": [
       "<Figure size 432x288 with 1 Axes>"
      ]
     },
     "metadata": {
      "needs_background": "light"
     },
     "output_type": "display_data"
    }
   ],
   "source": [
    "sns.boxplot(data=burr_tidy[(burr_tidy['Genotype']=='WT')], x='Group', y='Amount_Burrowed(g)', showmeans=True, meanprops={'marker':'+', 'markeredgecolor':'k'}, width=0.3, palette=['royalblue', 'steelblue', 'skyblue'], order = ['WT_Saline_1.0', 'WT_MK-801_0.5', 'WT_MK-801_1.0'])\n",
    "plt.title('Burrowing WT')\n",
    "plt.ylabel('Burrowed (g)')"
   ]
  },
  {
   "cell_type": "code",
   "execution_count": 101,
   "metadata": {},
   "outputs": [
    {
     "data": {
      "text/html": [
       "<div>\n",
       "<style scoped>\n",
       "    .dataframe tbody tr th:only-of-type {\n",
       "        vertical-align: middle;\n",
       "    }\n",
       "\n",
       "    .dataframe tbody tr th {\n",
       "        vertical-align: top;\n",
       "    }\n",
       "\n",
       "    .dataframe thead th {\n",
       "        text-align: right;\n",
       "    }\n",
       "</style>\n",
       "<table border=\"1\" class=\"dataframe\">\n",
       "  <thead>\n",
       "    <tr style=\"text-align: right;\">\n",
       "      <th></th>\n",
       "      <th>Source</th>\n",
       "      <th>ddof1</th>\n",
       "      <th>H</th>\n",
       "      <th>p-unc</th>\n",
       "    </tr>\n",
       "  </thead>\n",
       "  <tbody>\n",
       "    <tr>\n",
       "      <th>Kruskal</th>\n",
       "      <td>Group</td>\n",
       "      <td>2</td>\n",
       "      <td>13.300967</td>\n",
       "      <td>0.001293</td>\n",
       "    </tr>\n",
       "  </tbody>\n",
       "</table>\n",
       "</div>"
      ],
      "text/plain": [
       "        Source  ddof1          H     p-unc\n",
       "Kruskal  Group      2  13.300967  0.001293"
      ]
     },
     "execution_count": 101,
     "metadata": {},
     "output_type": "execute_result"
    }
   ],
   "source": [
    "pg.kruskal(data = burr_tidy[burr_tidy['Genotype']=='WT'], dv='Amount_Burrowed(g)', between='Group')"
   ]
  },
  {
   "cell_type": "code",
   "execution_count": 103,
   "metadata": {},
   "outputs": [
    {
     "data": {
      "text/html": [
       "<div>\n",
       "<style scoped>\n",
       "    .dataframe tbody tr th:only-of-type {\n",
       "        vertical-align: middle;\n",
       "    }\n",
       "\n",
       "    .dataframe tbody tr th {\n",
       "        vertical-align: top;\n",
       "    }\n",
       "\n",
       "    .dataframe thead th {\n",
       "        text-align: right;\n",
       "    }\n",
       "</style>\n",
       "<table border=\"1\" class=\"dataframe\">\n",
       "  <thead>\n",
       "    <tr style=\"text-align: right;\">\n",
       "      <th></th>\n",
       "      <th>Source</th>\n",
       "      <th>ddof1</th>\n",
       "      <th>ddof2</th>\n",
       "      <th>F</th>\n",
       "      <th>p-unc</th>\n",
       "      <th>np2</th>\n",
       "    </tr>\n",
       "  </thead>\n",
       "  <tbody>\n",
       "    <tr>\n",
       "      <th>0</th>\n",
       "      <td>Group</td>\n",
       "      <td>2</td>\n",
       "      <td>32.278407</td>\n",
       "      <td>13.169093</td>\n",
       "      <td>0.000066</td>\n",
       "      <td>0.221408</td>\n",
       "    </tr>\n",
       "  </tbody>\n",
       "</table>\n",
       "</div>"
      ],
      "text/plain": [
       "  Source  ddof1      ddof2          F     p-unc       np2\n",
       "0  Group      2  32.278407  13.169093  0.000066  0.221408"
      ]
     },
     "execution_count": 103,
     "metadata": {},
     "output_type": "execute_result"
    }
   ],
   "source": [
    "pg.welch_anova(data = burr_tidy[burr_tidy['Genotype']=='WT'], dv='Amount_Burrowed(g)', between='Group')"
   ]
  },
  {
   "cell_type": "code",
   "execution_count": 104,
   "metadata": {},
   "outputs": [
    {
     "data": {
      "text/html": [
       "<div>\n",
       "<style scoped>\n",
       "    .dataframe tbody tr th:only-of-type {\n",
       "        vertical-align: middle;\n",
       "    }\n",
       "\n",
       "    .dataframe tbody tr th {\n",
       "        vertical-align: top;\n",
       "    }\n",
       "\n",
       "    .dataframe thead th {\n",
       "        text-align: right;\n",
       "    }\n",
       "</style>\n",
       "<table border=\"1\" class=\"dataframe\">\n",
       "  <thead>\n",
       "    <tr style=\"text-align: right;\">\n",
       "      <th></th>\n",
       "      <th>A</th>\n",
       "      <th>B</th>\n",
       "      <th>mean(A)</th>\n",
       "      <th>mean(B)</th>\n",
       "      <th>diff</th>\n",
       "      <th>se</th>\n",
       "      <th>tail</th>\n",
       "      <th>T</th>\n",
       "      <th>df</th>\n",
       "      <th>pval</th>\n",
       "      <th>hedges</th>\n",
       "    </tr>\n",
       "  </thead>\n",
       "  <tbody>\n",
       "    <tr>\n",
       "      <th>0</th>\n",
       "      <td>WT_MK-801_0.5</td>\n",
       "      <td>WT_MK-801_1.0</td>\n",
       "      <td>176.716316</td>\n",
       "      <td>200.161818</td>\n",
       "      <td>-23.445502</td>\n",
       "      <td>28.163691</td>\n",
       "      <td>two-sided</td>\n",
       "      <td>-0.588647</td>\n",
       "      <td>37.869354</td>\n",
       "      <td>0.808679</td>\n",
       "      <td>-0.180788</td>\n",
       "    </tr>\n",
       "    <tr>\n",
       "      <th>1</th>\n",
       "      <td>WT_MK-801_0.5</td>\n",
       "      <td>WT_Saline_1.0</td>\n",
       "      <td>176.716316</td>\n",
       "      <td>307.286000</td>\n",
       "      <td>-130.569684</td>\n",
       "      <td>22.340092</td>\n",
       "      <td>two-sided</td>\n",
       "      <td>-4.132781</td>\n",
       "      <td>23.269212</td>\n",
       "      <td>0.001000</td>\n",
       "      <td>-1.296964</td>\n",
       "    </tr>\n",
       "    <tr>\n",
       "      <th>2</th>\n",
       "      <td>WT_MK-801_1.0</td>\n",
       "      <td>WT_Saline_1.0</td>\n",
       "      <td>200.161818</td>\n",
       "      <td>307.286000</td>\n",
       "      <td>-107.124182</td>\n",
       "      <td>20.577767</td>\n",
       "      <td>two-sided</td>\n",
       "      <td>-3.681072</td>\n",
       "      <td>28.238265</td>\n",
       "      <td>0.001000</td>\n",
       "      <td>-1.115835</td>\n",
       "    </tr>\n",
       "  </tbody>\n",
       "</table>\n",
       "</div>"
      ],
      "text/plain": [
       "               A              B     mean(A)     mean(B)        diff  \\\n",
       "0  WT_MK-801_0.5  WT_MK-801_1.0  176.716316  200.161818  -23.445502   \n",
       "1  WT_MK-801_0.5  WT_Saline_1.0  176.716316  307.286000 -130.569684   \n",
       "2  WT_MK-801_1.0  WT_Saline_1.0  200.161818  307.286000 -107.124182   \n",
       "\n",
       "          se       tail         T         df      pval    hedges  \n",
       "0  28.163691  two-sided -0.588647  37.869354  0.808679 -0.180788  \n",
       "1  22.340092  two-sided -4.132781  23.269212  0.001000 -1.296964  \n",
       "2  20.577767  two-sided -3.681072  28.238265  0.001000 -1.115835  "
      ]
     },
     "execution_count": 104,
     "metadata": {},
     "output_type": "execute_result"
    }
   ],
   "source": [
    "pg.pairwise_gameshowell(data = burr_tidy[burr_tidy['Genotype']=='WT'], dv='Amount_Burrowed(g)', between='Group')"
   ]
  },
  {
   "cell_type": "markdown",
   "metadata": {},
   "source": [
    "### MK-801 0.5mg/kg"
   ]
  },
  {
   "cell_type": "code",
   "execution_count": 105,
   "metadata": {},
   "outputs": [],
   "source": [
    "burr_05 = burr_tidy.copy()"
   ]
  },
  {
   "cell_type": "code",
   "execution_count": 111,
   "metadata": {},
   "outputs": [],
   "source": [
    "burr_05.loc[burr_05['Tx'] =='Saline', 'Dose (mg/Kg)'] = 0.5\n",
    "burr_05 = burr_05[(burr_05['Genotype']!= 'HE') & (burr_05['Dose (mg/Kg)'] == 0.5)]"
   ]
  },
  {
   "cell_type": "code",
   "execution_count": 112,
   "metadata": {},
   "outputs": [
    {
     "name": "stderr",
     "output_type": "stream",
     "text": [
      "<ipython-input-112-ce574e77f320>:1: SettingWithCopyWarning: \n",
      "A value is trying to be set on a copy of a slice from a DataFrame.\n",
      "Try using .loc[row_indexer,col_indexer] = value instead\n",
      "\n",
      "See the caveats in the documentation: https://pandas.pydata.org/pandas-docs/stable/user_guide/indexing.html#returning-a-view-versus-a-copy\n",
      "  burr_05['Group'] = burr_05['Genotype']+'_'+burr_05['Tx']\n"
     ]
    }
   ],
   "source": [
    "burr_05['Group'] = burr_05['Genotype']+'_'+burr_05['Tx']"
   ]
  },
  {
   "cell_type": "code",
   "execution_count": 113,
   "metadata": {},
   "outputs": [
    {
     "data": {
      "text/html": [
       "<div>\n",
       "<style scoped>\n",
       "    .dataframe tbody tr th:only-of-type {\n",
       "        vertical-align: middle;\n",
       "    }\n",
       "\n",
       "    .dataframe tbody tr th {\n",
       "        vertical-align: top;\n",
       "    }\n",
       "\n",
       "    .dataframe thead th {\n",
       "        text-align: right;\n",
       "    }\n",
       "</style>\n",
       "<table border=\"1\" class=\"dataframe\">\n",
       "  <thead>\n",
       "    <tr style=\"text-align: right;\">\n",
       "      <th></th>\n",
       "      <th>Sub</th>\n",
       "      <th>Genotype</th>\n",
       "      <th>UR</th>\n",
       "      <th>Sex</th>\n",
       "      <th>Tx</th>\n",
       "      <th>Dose (mg/Kg)</th>\n",
       "      <th>Amount_Burrowed(g)</th>\n",
       "      <th>Group</th>\n",
       "    </tr>\n",
       "  </thead>\n",
       "  <tbody>\n",
       "    <tr>\n",
       "      <th>1</th>\n",
       "      <td>2</td>\n",
       "      <td>KO</td>\n",
       "      <td>4.1</td>\n",
       "      <td>Female</td>\n",
       "      <td>Saline</td>\n",
       "      <td>0.5</td>\n",
       "      <td>122.32</td>\n",
       "      <td>KO_Saline</td>\n",
       "    </tr>\n",
       "    <tr>\n",
       "      <th>2</th>\n",
       "      <td>3</td>\n",
       "      <td>KO</td>\n",
       "      <td>4.1</td>\n",
       "      <td>Female</td>\n",
       "      <td>Saline</td>\n",
       "      <td>0.5</td>\n",
       "      <td>348.27</td>\n",
       "      <td>KO_Saline</td>\n",
       "    </tr>\n",
       "    <tr>\n",
       "      <th>6</th>\n",
       "      <td>4</td>\n",
       "      <td>WT</td>\n",
       "      <td>1.1</td>\n",
       "      <td>Female</td>\n",
       "      <td>Saline</td>\n",
       "      <td>0.5</td>\n",
       "      <td>291.72</td>\n",
       "      <td>WT_Saline</td>\n",
       "    </tr>\n",
       "    <tr>\n",
       "      <th>7</th>\n",
       "      <td>5</td>\n",
       "      <td>WT</td>\n",
       "      <td>1.1</td>\n",
       "      <td>Female</td>\n",
       "      <td>Saline</td>\n",
       "      <td>0.5</td>\n",
       "      <td>305.96</td>\n",
       "      <td>WT_Saline</td>\n",
       "    </tr>\n",
       "    <tr>\n",
       "      <th>8</th>\n",
       "      <td>6</td>\n",
       "      <td>WT</td>\n",
       "      <td>1.1</td>\n",
       "      <td>Male</td>\n",
       "      <td>Saline</td>\n",
       "      <td>0.5</td>\n",
       "      <td>322.81</td>\n",
       "      <td>WT_Saline</td>\n",
       "    </tr>\n",
       "    <tr>\n",
       "      <th>...</th>\n",
       "      <td>...</td>\n",
       "      <td>...</td>\n",
       "      <td>...</td>\n",
       "      <td>...</td>\n",
       "      <td>...</td>\n",
       "      <td>...</td>\n",
       "      <td>...</td>\n",
       "      <td>...</td>\n",
       "    </tr>\n",
       "    <tr>\n",
       "      <th>113</th>\n",
       "      <td>3</td>\n",
       "      <td>WT</td>\n",
       "      <td>2.1</td>\n",
       "      <td>Male</td>\n",
       "      <td>MK-801</td>\n",
       "      <td>0.5</td>\n",
       "      <td>327.45</td>\n",
       "      <td>WT_MK-801</td>\n",
       "    </tr>\n",
       "    <tr>\n",
       "      <th>114</th>\n",
       "      <td>4</td>\n",
       "      <td>WT</td>\n",
       "      <td>2.1</td>\n",
       "      <td>Female</td>\n",
       "      <td>MK-801</td>\n",
       "      <td>0.5</td>\n",
       "      <td>72.73</td>\n",
       "      <td>WT_MK-801</td>\n",
       "    </tr>\n",
       "    <tr>\n",
       "      <th>115</th>\n",
       "      <td>5</td>\n",
       "      <td>WT</td>\n",
       "      <td>2.1</td>\n",
       "      <td>Male</td>\n",
       "      <td>Saline</td>\n",
       "      <td>0.5</td>\n",
       "      <td>267.10</td>\n",
       "      <td>WT_Saline</td>\n",
       "    </tr>\n",
       "    <tr>\n",
       "      <th>116</th>\n",
       "      <td>1</td>\n",
       "      <td>KO</td>\n",
       "      <td>1.6</td>\n",
       "      <td>Female</td>\n",
       "      <td>MK-801</td>\n",
       "      <td>0.5</td>\n",
       "      <td>53.22</td>\n",
       "      <td>KO_MK-801</td>\n",
       "    </tr>\n",
       "    <tr>\n",
       "      <th>117</th>\n",
       "      <td>2</td>\n",
       "      <td>KO</td>\n",
       "      <td>1.6</td>\n",
       "      <td>Female</td>\n",
       "      <td>MK-801</td>\n",
       "      <td>0.5</td>\n",
       "      <td>63.87</td>\n",
       "      <td>KO_MK-801</td>\n",
       "    </tr>\n",
       "  </tbody>\n",
       "</table>\n",
       "<p>92 rows × 8 columns</p>\n",
       "</div>"
      ],
      "text/plain": [
       "     Sub Genotype   UR     Sex      Tx  Dose (mg/Kg)  Amount_Burrowed(g)  \\\n",
       "1      2       KO  4.1  Female  Saline           0.5              122.32   \n",
       "2      3       KO  4.1  Female  Saline           0.5              348.27   \n",
       "6      4       WT  1.1  Female  Saline           0.5              291.72   \n",
       "7      5       WT  1.1  Female  Saline           0.5              305.96   \n",
       "8      6       WT  1.1    Male  Saline           0.5              322.81   \n",
       "..   ...      ...  ...     ...     ...           ...                 ...   \n",
       "113    3       WT  2.1    Male  MK-801           0.5              327.45   \n",
       "114    4       WT  2.1  Female  MK-801           0.5               72.73   \n",
       "115    5       WT  2.1    Male  Saline           0.5              267.10   \n",
       "116    1       KO  1.6  Female  MK-801           0.5               53.22   \n",
       "117    2       KO  1.6  Female  MK-801           0.5               63.87   \n",
       "\n",
       "         Group  \n",
       "1    KO_Saline  \n",
       "2    KO_Saline  \n",
       "6    WT_Saline  \n",
       "7    WT_Saline  \n",
       "8    WT_Saline  \n",
       "..         ...  \n",
       "113  WT_MK-801  \n",
       "114  WT_MK-801  \n",
       "115  WT_Saline  \n",
       "116  KO_MK-801  \n",
       "117  KO_MK-801  \n",
       "\n",
       "[92 rows x 8 columns]"
      ]
     },
     "execution_count": 113,
     "metadata": {},
     "output_type": "execute_result"
    }
   ],
   "source": [
    "burr_05"
   ]
  },
  {
   "cell_type": "code",
   "execution_count": 115,
   "metadata": {},
   "outputs": [
    {
     "data": {
      "text/plain": [
       "<matplotlib.legend.Legend at 0x12a9415e0>"
      ]
     },
     "execution_count": 115,
     "metadata": {},
     "output_type": "execute_result"
    },
    {
     "data": {
      "image/png": "[encoded data removed]",
      "text/plain": [
       "<Figure size 432x288 with 1 Axes>"
      ]
     },
     "metadata": {
      "needs_background": "light"
     },
     "output_type": "display_data"
    }
   ],
   "source": [
    "sns.boxplot(data=burr_05, x='Tx', y='Amount_Burrowed(g)', hue='Genotype', showmeans=True, meanprops={'marker':'+', 'markeredgecolor':'k'}, width=0.3, palette=['forestgreen', 'royalblue'])\n",
    "plt.title('Burrowing 0.5mg/kg')\n",
    "plt.ylabel('Burrowed (g)')\n",
    "plt.legend(loc=4)\n"
   ]
  },
  {
   "cell_type": "code",
   "execution_count": 117,
   "metadata": {},
   "outputs": [
    {
     "name": "stderr",
     "output_type": "stream",
     "text": [
      "/opt/miniconda3/envs/databs/lib/python3.8/site-packages/scipy/stats/stats.py:1534: UserWarning: kurtosistest only valid for n>=20 ... continuing anyway, n=19\n",
      "  warnings.warn(\"kurtosistest only valid for n>=20 ... continuing \"\n"
     ]
    },
    {
     "data": {
      "text/html": [
       "<div>\n",
       "<style scoped>\n",
       "    .dataframe tbody tr th:only-of-type {\n",
       "        vertical-align: middle;\n",
       "    }\n",
       "\n",
       "    .dataframe tbody tr th {\n",
       "        vertical-align: top;\n",
       "    }\n",
       "\n",
       "    .dataframe thead th {\n",
       "        text-align: right;\n",
       "    }\n",
       "</style>\n",
       "<table border=\"1\" class=\"dataframe\">\n",
       "  <thead>\n",
       "    <tr style=\"text-align: right;\">\n",
       "      <th></th>\n",
       "      <th>W</th>\n",
       "      <th>pval</th>\n",
       "      <th>normal</th>\n",
       "    </tr>\n",
       "  </thead>\n",
       "  <tbody>\n",
       "    <tr>\n",
       "      <th>KO_Saline</th>\n",
       "      <td>9.862063</td>\n",
       "      <td>0.007219</td>\n",
       "      <td>False</td>\n",
       "    </tr>\n",
       "    <tr>\n",
       "      <th>WT_Saline</th>\n",
       "      <td>2.106520</td>\n",
       "      <td>0.348799</td>\n",
       "      <td>True</td>\n",
       "    </tr>\n",
       "    <tr>\n",
       "      <th>KO_MK-801</th>\n",
       "      <td>4.352974</td>\n",
       "      <td>0.113439</td>\n",
       "      <td>True</td>\n",
       "    </tr>\n",
       "    <tr>\n",
       "      <th>WT_MK-801</th>\n",
       "      <td>3.474805</td>\n",
       "      <td>0.175977</td>\n",
       "      <td>True</td>\n",
       "    </tr>\n",
       "  </tbody>\n",
       "</table>\n",
       "</div>"
      ],
      "text/plain": [
       "                  W      pval  normal\n",
       "KO_Saline  9.862063  0.007219   False\n",
       "WT_Saline  2.106520  0.348799    True\n",
       "KO_MK-801  4.352974  0.113439    True\n",
       "WT_MK-801  3.474805  0.175977    True"
      ]
     },
     "execution_count": 117,
     "metadata": {},
     "output_type": "execute_result"
    }
   ],
   "source": [
    "pg.normality(burr_05, dv = 'Amount_Burrowed(g)', group = 'Group', method = 'normaltest')"
   ]
  },
  {
   "cell_type": "markdown",
   "metadata": {},
   "source": [
    "#### MK-801 0.5mg/kg on WT mice"
   ]
  },
  {
   "cell_type": "code",
   "execution_count": 118,
   "metadata": {},
   "outputs": [
    {
     "data": {
      "text/html": [
       "<div>\n",
       "<style scoped>\n",
       "    .dataframe tbody tr th:only-of-type {\n",
       "        vertical-align: middle;\n",
       "    }\n",
       "\n",
       "    .dataframe tbody tr th {\n",
       "        vertical-align: top;\n",
       "    }\n",
       "\n",
       "    .dataframe thead th {\n",
       "        text-align: right;\n",
       "    }\n",
       "</style>\n",
       "<table border=\"1\" class=\"dataframe\">\n",
       "  <thead>\n",
       "    <tr style=\"text-align: right;\">\n",
       "      <th></th>\n",
       "      <th>T</th>\n",
       "      <th>dof</th>\n",
       "      <th>tail</th>\n",
       "      <th>p-val</th>\n",
       "      <th>CI95%</th>\n",
       "      <th>cohen-d</th>\n",
       "      <th>BF10</th>\n",
       "      <th>power</th>\n",
       "    </tr>\n",
       "  </thead>\n",
       "  <tbody>\n",
       "    <tr>\n",
       "      <th>T-test</th>\n",
       "      <td>3.681072</td>\n",
       "      <td>28.238265</td>\n",
       "      <td>two-sided</td>\n",
       "      <td>0.000972</td>\n",
       "      <td>[47.54, 166.71]</td>\n",
       "      <td>1.098121</td>\n",
       "      <td>42.617</td>\n",
       "      <td>0.934192</td>\n",
       "    </tr>\n",
       "  </tbody>\n",
       "</table>\n",
       "</div>"
      ],
      "text/plain": [
       "               T        dof       tail     p-val            CI95%   cohen-d  \\\n",
       "T-test  3.681072  28.238265  two-sided  0.000972  [47.54, 166.71]  1.098121   \n",
       "\n",
       "          BF10     power  \n",
       "T-test  42.617  0.934192  "
      ]
     },
     "execution_count": 118,
     "metadata": {},
     "output_type": "execute_result"
    }
   ],
   "source": [
    "pg.ttest(WT_S, WT_MK)"
   ]
  },
  {
   "cell_type": "markdown",
   "metadata": {},
   "source": [
    "#### All groups"
   ]
  },
  {
   "cell_type": "code",
   "execution_count": 120,
   "metadata": {},
   "outputs": [
    {
     "data": {
      "text/html": [
       "<div>\n",
       "<style scoped>\n",
       "    .dataframe tbody tr th:only-of-type {\n",
       "        vertical-align: middle;\n",
       "    }\n",
       "\n",
       "    .dataframe tbody tr th {\n",
       "        vertical-align: top;\n",
       "    }\n",
       "\n",
       "    .dataframe thead th {\n",
       "        text-align: right;\n",
       "    }\n",
       "</style>\n",
       "<table border=\"1\" class=\"dataframe\">\n",
       "  <thead>\n",
       "    <tr style=\"text-align: right;\">\n",
       "      <th></th>\n",
       "      <th>Source</th>\n",
       "      <th>ddof1</th>\n",
       "      <th>ddof2</th>\n",
       "      <th>F</th>\n",
       "      <th>p-unc</th>\n",
       "      <th>np2</th>\n",
       "    </tr>\n",
       "  </thead>\n",
       "  <tbody>\n",
       "    <tr>\n",
       "      <th>0</th>\n",
       "      <td>Group</td>\n",
       "      <td>3</td>\n",
       "      <td>43.279252</td>\n",
       "      <td>12.430098</td>\n",
       "      <td>0.000005</td>\n",
       "      <td>0.18307</td>\n",
       "    </tr>\n",
       "  </tbody>\n",
       "</table>\n",
       "</div>"
      ],
      "text/plain": [
       "  Source  ddof1      ddof2          F     p-unc      np2\n",
       "0  Group      3  43.279252  12.430098  0.000005  0.18307"
      ]
     },
     "execution_count": 120,
     "metadata": {},
     "output_type": "execute_result"
    }
   ],
   "source": [
    "pg.welch_anova(burr_05, dv = 'Amount_Burrowed(g)', between = 'Group')"
   ]
  },
  {
   "cell_type": "code",
   "execution_count": 121,
   "metadata": {},
   "outputs": [
    {
     "data": {
      "text/html": [
       "<div>\n",
       "<style scoped>\n",
       "    .dataframe tbody tr th:only-of-type {\n",
       "        vertical-align: middle;\n",
       "    }\n",
       "\n",
       "    .dataframe tbody tr th {\n",
       "        vertical-align: top;\n",
       "    }\n",
       "\n",
       "    .dataframe thead th {\n",
       "        text-align: right;\n",
       "    }\n",
       "</style>\n",
       "<table border=\"1\" class=\"dataframe\">\n",
       "  <thead>\n",
       "    <tr style=\"text-align: right;\">\n",
       "      <th></th>\n",
       "      <th>A</th>\n",
       "      <th>B</th>\n",
       "      <th>mean(A)</th>\n",
       "      <th>mean(B)</th>\n",
       "      <th>diff</th>\n",
       "      <th>se</th>\n",
       "      <th>tail</th>\n",
       "      <th>T</th>\n",
       "      <th>df</th>\n",
       "      <th>pval</th>\n",
       "      <th>hedges</th>\n",
       "    </tr>\n",
       "  </thead>\n",
       "  <tbody>\n",
       "    <tr>\n",
       "      <th>0</th>\n",
       "      <td>KO_MK-801</td>\n",
       "      <td>KO_Saline</td>\n",
       "      <td>161.651905</td>\n",
       "      <td>224.790938</td>\n",
       "      <td>-63.139033</td>\n",
       "      <td>25.808269</td>\n",
       "      <td>two-sided</td>\n",
       "      <td>-1.729912</td>\n",
       "      <td>38.774808</td>\n",
       "      <td>0.311393</td>\n",
       "      <td>-0.478643</td>\n",
       "    </tr>\n",
       "    <tr>\n",
       "      <th>1</th>\n",
       "      <td>KO_MK-801</td>\n",
       "      <td>WT_MK-801</td>\n",
       "      <td>161.651905</td>\n",
       "      <td>176.716316</td>\n",
       "      <td>-15.064411</td>\n",
       "      <td>29.634695</td>\n",
       "      <td>two-sided</td>\n",
       "      <td>-0.359449</td>\n",
       "      <td>37.933081</td>\n",
       "      <td>0.900000</td>\n",
       "      <td>-0.111549</td>\n",
       "    </tr>\n",
       "    <tr>\n",
       "      <th>2</th>\n",
       "      <td>KO_MK-801</td>\n",
       "      <td>WT_Saline</td>\n",
       "      <td>161.651905</td>\n",
       "      <td>307.286000</td>\n",
       "      <td>-145.634095</td>\n",
       "      <td>22.549195</td>\n",
       "      <td>two-sided</td>\n",
       "      <td>-4.566853</td>\n",
       "      <td>25.679058</td>\n",
       "      <td>0.001000</td>\n",
       "      <td>-1.399253</td>\n",
       "    </tr>\n",
       "    <tr>\n",
       "      <th>3</th>\n",
       "      <td>KO_Saline</td>\n",
       "      <td>WT_MK-801</td>\n",
       "      <td>224.790938</td>\n",
       "      <td>176.716316</td>\n",
       "      <td>48.074622</td>\n",
       "      <td>25.625774</td>\n",
       "      <td>two-sided</td>\n",
       "      <td>1.326551</td>\n",
       "      <td>35.704178</td>\n",
       "      <td>0.540025</td>\n",
       "      <td>0.378289</td>\n",
       "    </tr>\n",
       "    <tr>\n",
       "      <th>4</th>\n",
       "      <td>KO_Saline</td>\n",
       "      <td>WT_Saline</td>\n",
       "      <td>224.790938</td>\n",
       "      <td>307.286000</td>\n",
       "      <td>-82.495063</td>\n",
       "      <td>16.939047</td>\n",
       "      <td>two-sided</td>\n",
       "      <td>-3.443690</td>\n",
       "      <td>45.393101</td>\n",
       "      <td>0.003873</td>\n",
       "      <td>-0.966805</td>\n",
       "    </tr>\n",
       "    <tr>\n",
       "      <th>5</th>\n",
       "      <td>WT_MK-801</td>\n",
       "      <td>WT_Saline</td>\n",
       "      <td>176.716316</td>\n",
       "      <td>307.286000</td>\n",
       "      <td>-130.569684</td>\n",
       "      <td>22.340092</td>\n",
       "      <td>two-sided</td>\n",
       "      <td>-4.132781</td>\n",
       "      <td>23.269212</td>\n",
       "      <td>0.001000</td>\n",
       "      <td>-1.296964</td>\n",
       "    </tr>\n",
       "  </tbody>\n",
       "</table>\n",
       "</div>"
      ],
      "text/plain": [
       "           A          B     mean(A)     mean(B)        diff         se  \\\n",
       "0  KO_MK-801  KO_Saline  161.651905  224.790938  -63.139033  25.808269   \n",
       "1  KO_MK-801  WT_MK-801  161.651905  176.716316  -15.064411  29.634695   \n",
       "2  KO_MK-801  WT_Saline  161.651905  307.286000 -145.634095  22.549195   \n",
       "3  KO_Saline  WT_MK-801  224.790938  176.716316   48.074622  25.625774   \n",
       "4  KO_Saline  WT_Saline  224.790938  307.286000  -82.495063  16.939047   \n",
       "5  WT_MK-801  WT_Saline  176.716316  307.286000 -130.569684  22.340092   \n",
       "\n",
       "        tail         T         df      pval    hedges  \n",
       "0  two-sided -1.729912  38.774808  0.311393 -0.478643  \n",
       "1  two-sided -0.359449  37.933081  0.900000 -0.111549  \n",
       "2  two-sided -4.566853  25.679058  0.001000 -1.399253  \n",
       "3  two-sided  1.326551  35.704178  0.540025  0.378289  \n",
       "4  two-sided -3.443690  45.393101  0.003873 -0.966805  \n",
       "5  two-sided -4.132781  23.269212  0.001000 -1.296964  "
      ]
     },
     "execution_count": 121,
     "metadata": {},
     "output_type": "execute_result"
    }
   ],
   "source": [
    "pg.pairwise_gameshowell(burr_05, dv = 'Amount_Burrowed(g)', between = 'Group')"
   ]
  }
 ],
 "metadata": {
  "kernelspec": {
   "display_name": "Python 3",
   "language": "python",
   "name": "python3"
  },
  "language_info": {
   "codemirror_mode": {
    "name": "ipython",
    "version": 3
   },
   "file_extension": ".py",
   "mimetype": "text/x-python",
   "name": "python",
   "nbconvert_exporter": "python",
   "pygments_lexer": "ipython3",
   "version": "3.8.2"
  }
 },
 "nbformat": 4,
 "nbformat_minor": 4
}
