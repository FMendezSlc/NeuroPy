{
 "cells": [
  {
   "cell_type": "code",
   "execution_count": 1,
   "metadata": {},
   "outputs": [
    {
     "name": "stderr",
     "output_type": "stream",
     "text": [
      "/opt/miniconda3/envs/databs/lib/python3.8/site-packages/outdated/utils.py:14: OutdatedPackageWarning: The package pingouin is out of date. Your version is 0.3.6, the latest is 0.5.1.\n",
      "Set the environment variable OUTDATED_IGNORE=1 to disable these warnings.\n",
      "  return warn(\n",
      "/opt/miniconda3/envs/databs/lib/python3.8/site-packages/outdated/utils.py:14: OutdatedPackageWarning: The package outdated is out of date. Your version is 0.2.0, the latest is 0.2.1.\n",
      "Set the environment variable OUTDATED_IGNORE=1 to disable these warnings.\n",
      "  return warn(\n"
     ]
    }
   ],
   "source": [
    "import matplotlib.pyplot as plt\n",
    "import pandas as pd\n",
    "import seaborn as sns\n",
    "import lifelines as lf\n",
    "import pingouin as pg"
   ]
  },
  {
   "cell_type": "markdown",
   "metadata": {},
   "source": [
    "## Survival"
   ]
  },
  {
   "cell_type": "code",
   "execution_count": 2,
   "metadata": {},
   "outputs": [],
   "source": [
    "MK_surv = pd.read_csv('/Users/labc02/Documents/PDCB_data/MK-project/MK_lifelines.csv')"
   ]
  },
  {
   "cell_type": "code",
   "execution_count": 3,
   "metadata": {},
   "outputs": [
    {
     "data": {
      "text/plain": [
       "Genotype  Treatment  Dosage (mg/kg)\n",
       "HE        MK-801     1.0                9\n",
       "          Saline     1.0                8\n",
       "KO        MK-801     0.5               80\n",
       "                     1.0               24\n",
       "          Saline     1.0               76\n",
       "WT        MK-801     0.5               42\n",
       "                     1.0               30\n",
       "          Saline     1.0               47\n",
       "Name: ID, dtype: int64"
      ]
     },
     "execution_count": 3,
     "metadata": {},
     "output_type": "execute_result"
    }
   ],
   "source": [
    "MK_surv.groupby(['Genotype', 'Treatment', 'Dosage (mg/kg)'])['ID'].count()"
   ]
  },
  {
   "cell_type": "code",
   "execution_count": 4,
   "metadata": {},
   "outputs": [],
   "source": [
    "km_fit = lf.KaplanMeierFitter()"
   ]
  },
  {
   "cell_type": "code",
   "execution_count": 44,
   "metadata": {},
   "outputs": [
    {
     "data": {
      "text/plain": [
       "Text(1.03, 0.569, '***')"
      ]
     },
     "execution_count": 44,
     "metadata": {},
     "output_type": "execute_result"
    },
    {
     "data": {
      "image/png": "[encoded data removed]",
      "text/plain": [
       "<Figure size 252x144 with 1 Axes>"
      ]
     },
     "metadata": {
      "needs_background": "light"
     },
     "output_type": "display_data"
    }
   ],
   "source": [
    "surv_all = plt.figure(figsize=(3.5,2))\n",
    "ax=plt.subplot()\n",
    "colors = {'KO': 'forestgreen', 'WT': 'royalblue'}\n",
    "st = {'Saline_1.0': 'solid', 'MK-801_1.0': 'dashed', 'MK-801_0.5': 'dotted'}\n",
    "for name, grouped_df in MK_surv.groupby(['Genotype', 'Treatment', 'Dosage (mg/kg)']):\n",
    "    if 'HE' not in name:\n",
    "        km_fit.fit(grouped_df[\"Duration\"], grouped_df[\"Event\"], label=name)\n",
    "        km_fit.plot(ax=ax, ci_show=False, color = colors[name[0]], linestyle= st[name[1]+'_'+str(name[2])])\n",
    "plt.ylabel('Survival (%)')\n",
    "plt.xlabel('Days')\n",
    "ax.legend(fancybox=False, ncol=2, loc = 7, bbox_to_anchor = (.9, .25))\n",
    "plt.axvline(5, ls=':', color = 'k', alpha = .5)\n",
    "plt.axvline(9, ls=':', color = 'k', alpha = .5)\n",
    "ax.spines['right'].set_visible(False)\n",
    "ax.spines['top'].set_visible(False)\n",
    "ax.annotate('***', xy=(0.99, .5), xytext=(1.03, 0.569), fontsize = 10, xycoords='axes fraction', ha='center',\n",
    "                va='top', rotation = 90, arrowprops=dict(arrowstyle='-[, widthB=4.9, lengthB=.2', lw=1, color='k'))"
   ]
  },
  {
   "cell_type": "code",
   "execution_count": 45,
   "metadata": {},
   "outputs": [],
   "source": [
    "surv_all.savefig('/Users/labc02/Documents/PDCB_data/MK-project/Figures/Survival_all_final.svg')"
   ]
  },
  {
   "cell_type": "code",
   "execution_count": 6,
   "metadata": {},
   "outputs": [],
   "source": [
    "MK_surv['Group'] = MK_surv['Genotype']+'_'+MK_surv['Treatment']+'_'+MK_surv['Dosage (mg/kg)'].astype(str)"
   ]
  },
  {
   "cell_type": "code",
   "execution_count": 46,
   "metadata": {},
   "outputs": [],
   "source": [
    "plr_test = lf.statistics.pairwise_logrank_test(event_durations = MK_surv[MK_surv['Genotype']!='HE']['Duration'], event_observed = MK_surv[MK_surv['Genotype']!='HE']['Event'], groups = MK_surv[MK_surv['Genotype']!='HE']['Group'])\n",
    "\n",
    "sig, p_adj = pg.multicomp(plr_test.summary['p'].values, method = 'bonf')\n",
    "\n",
    "logrank_df = plr_test.summary\n",
    "\n",
    "logrank_df['Bonferroni adj'] = p_adj.round(5)"
   ]
  },
  {
   "cell_type": "code",
   "execution_count": 48,
   "metadata": {},
   "outputs": [],
   "source": [
    "logrank_df.to_csv('/Users/labc02/Documents/PDCB_data/MK-project/Figures/Survival_all_logrank_final.csv')"
   ]
  },
  {
   "cell_type": "code",
   "execution_count": 47,
   "metadata": {},
   "outputs": [
    {
     "data": {
      "text/html": [
       "<div>\n",
       "<style scoped>\n",
       "    .dataframe tbody tr th:only-of-type {\n",
       "        vertical-align: middle;\n",
       "    }\n",
       "\n",
       "    .dataframe tbody tr th {\n",
       "        vertical-align: top;\n",
       "    }\n",
       "\n",
       "    .dataframe thead th {\n",
       "        text-align: right;\n",
       "    }\n",
       "</style>\n",
       "<table border=\"1\" class=\"dataframe\">\n",
       "  <thead>\n",
       "    <tr style=\"text-align: right;\">\n",
       "      <th></th>\n",
       "      <th></th>\n",
       "      <th>test_statistic</th>\n",
       "      <th>p</th>\n",
       "      <th>Bonferroni adj</th>\n",
       "    </tr>\n",
       "  </thead>\n",
       "  <tbody>\n",
       "    <tr>\n",
       "      <th rowspan=\"5\" valign=\"top\">KO_MK-801_0.5</th>\n",
       "      <th>KO_MK-801_1.0</th>\n",
       "      <td>61.651567</td>\n",
       "      <td>4.099407e-15</td>\n",
       "      <td>0.00000</td>\n",
       "    </tr>\n",
       "    <tr>\n",
       "      <th>KO_Saline_1.0</th>\n",
       "      <td>8.469045</td>\n",
       "      <td>3.612411e-03</td>\n",
       "      <td>0.05419</td>\n",
       "    </tr>\n",
       "    <tr>\n",
       "      <th>WT_MK-801_0.5</th>\n",
       "      <td>1.200975</td>\n",
       "      <td>2.731269e-01</td>\n",
       "      <td>1.00000</td>\n",
       "    </tr>\n",
       "    <tr>\n",
       "      <th>WT_MK-801_1.0</th>\n",
       "      <td>0.125862</td>\n",
       "      <td>7.227613e-01</td>\n",
       "      <td>1.00000</td>\n",
       "    </tr>\n",
       "    <tr>\n",
       "      <th>WT_Saline_1.0</th>\n",
       "      <td>2.950945</td>\n",
       "      <td>8.582735e-02</td>\n",
       "      <td>1.00000</td>\n",
       "    </tr>\n",
       "    <tr>\n",
       "      <th rowspan=\"4\" valign=\"top\">KO_MK-801_1.0</th>\n",
       "      <th>KO_Saline_1.0</th>\n",
       "      <td>109.882857</td>\n",
       "      <td>1.039560e-25</td>\n",
       "      <td>0.00000</td>\n",
       "    </tr>\n",
       "    <tr>\n",
       "      <th>WT_MK-801_0.5</th>\n",
       "      <td>52.436587</td>\n",
       "      <td>4.443676e-13</td>\n",
       "      <td>0.00000</td>\n",
       "    </tr>\n",
       "    <tr>\n",
       "      <th>WT_MK-801_1.0</th>\n",
       "      <td>30.731174</td>\n",
       "      <td>2.963652e-08</td>\n",
       "      <td>0.00000</td>\n",
       "    </tr>\n",
       "    <tr>\n",
       "      <th>WT_Saline_1.0</th>\n",
       "      <td>66.564519</td>\n",
       "      <td>3.386267e-16</td>\n",
       "      <td>0.00000</td>\n",
       "    </tr>\n",
       "    <tr>\n",
       "      <th rowspan=\"3\" valign=\"top\">KO_Saline_1.0</th>\n",
       "      <th>WT_MK-801_0.5</th>\n",
       "      <td>2.844136</td>\n",
       "      <td>9.170787e-02</td>\n",
       "      <td>1.00000</td>\n",
       "    </tr>\n",
       "    <tr>\n",
       "      <th>WT_MK-801_1.0</th>\n",
       "      <td>9.779738</td>\n",
       "      <td>1.764454e-03</td>\n",
       "      <td>0.02647</td>\n",
       "    </tr>\n",
       "    <tr>\n",
       "      <th>WT_Saline_1.0</th>\n",
       "      <td>1.048300</td>\n",
       "      <td>3.058989e-01</td>\n",
       "      <td>1.00000</td>\n",
       "    </tr>\n",
       "    <tr>\n",
       "      <th rowspan=\"2\" valign=\"top\">WT_MK-801_0.5</th>\n",
       "      <th>WT_MK-801_1.0</th>\n",
       "      <td>1.623359</td>\n",
       "      <td>2.026241e-01</td>\n",
       "      <td>1.00000</td>\n",
       "    </tr>\n",
       "    <tr>\n",
       "      <th>WT_Saline_1.0</th>\n",
       "      <td>0.367574</td>\n",
       "      <td>5.443296e-01</td>\n",
       "      <td>1.00000</td>\n",
       "    </tr>\n",
       "    <tr>\n",
       "      <th>WT_MK-801_1.0</th>\n",
       "      <th>WT_Saline_1.0</th>\n",
       "      <td>3.555435</td>\n",
       "      <td>5.935075e-02</td>\n",
       "      <td>0.89026</td>\n",
       "    </tr>\n",
       "  </tbody>\n",
       "</table>\n",
       "</div>"
      ],
      "text/plain": [
       "                             test_statistic             p  Bonferroni adj\n",
       "KO_MK-801_0.5 KO_MK-801_1.0       61.651567  4.099407e-15         0.00000\n",
       "              KO_Saline_1.0        8.469045  3.612411e-03         0.05419\n",
       "              WT_MK-801_0.5        1.200975  2.731269e-01         1.00000\n",
       "              WT_MK-801_1.0        0.125862  7.227613e-01         1.00000\n",
       "              WT_Saline_1.0        2.950945  8.582735e-02         1.00000\n",
       "KO_MK-801_1.0 KO_Saline_1.0      109.882857  1.039560e-25         0.00000\n",
       "              WT_MK-801_0.5       52.436587  4.443676e-13         0.00000\n",
       "              WT_MK-801_1.0       30.731174  2.963652e-08         0.00000\n",
       "              WT_Saline_1.0       66.564519  3.386267e-16         0.00000\n",
       "KO_Saline_1.0 WT_MK-801_0.5        2.844136  9.170787e-02         1.00000\n",
       "              WT_MK-801_1.0        9.779738  1.764454e-03         0.02647\n",
       "              WT_Saline_1.0        1.048300  3.058989e-01         1.00000\n",
       "WT_MK-801_0.5 WT_MK-801_1.0        1.623359  2.026241e-01         1.00000\n",
       "              WT_Saline_1.0        0.367574  5.443296e-01         1.00000\n",
       "WT_MK-801_1.0 WT_Saline_1.0        3.555435  5.935075e-02         0.89026"
      ]
     },
     "execution_count": 47,
     "metadata": {},
     "output_type": "execute_result"
    }
   ],
   "source": [
    "logrank_df"
   ]
  },
  {
   "cell_type": "code",
   "execution_count": 49,
   "metadata": {},
   "outputs": [],
   "source": [
    "MK_1mg = MK_surv[MK_surv['Dosage (mg/kg)'] == 1]"
   ]
  },
  {
   "cell_type": "code",
   "execution_count": 50,
   "metadata": {},
   "outputs": [
    {
     "data": {
      "text/plain": [
       "Text(0.5, 1.0, 'Dosage: 1mg/kg')"
      ]
     },
     "execution_count": 50,
     "metadata": {},
     "output_type": "execute_result"
    },
    {
     "data": {
      "image/png": "[encoded data removed]",
      "text/plain": [
       "<Figure size 504x360 with 1 Axes>"
      ]
     },
     "metadata": {
      "needs_background": "light"
     },
     "output_type": "display_data"
    }
   ],
   "source": [
    "surv_1mg = plt.figure(figsize = (7,5))\n",
    "ax=plt.subplot()\n",
    "colors = {'HE': 'goldenrod', 'KO': 'forestgreen', 'WT': 'royalblue'}\n",
    "st = {'Saline': 'solid', 'MK-801': 'dashed'}\n",
    "for name, grouped_df in MK_1mg.groupby(['Genotype', 'Treatment']):\n",
    "    km_fit.fit(grouped_df[\"Duration\"], grouped_df[\"Event\"], label=name)\n",
    "    km_fit.plot(ax=ax, ci_show=False, color = colors[name[0]], linestyle= st[name[1]])\n",
    "plt.ylabel('Survival (%)')\n",
    "plt.xlabel('Days')\n",
    "ax.legend(fancybox=True, ncol=1, loc = 7, bbox_to_anchor = (.98, .25))\n",
    "plt.axvline(5, ls='--', color = 'k', alpha=.5)\n",
    "plt.axvline(9, ls='--', color = 'k', alpha=.5)\n",
    "plt.title('Dosage: 1mg/kg')"
   ]
  },
  {
   "cell_type": "code",
   "execution_count": 51,
   "metadata": {},
   "outputs": [],
   "source": [
    "surv_1mg.savefig('/Users/labc02/Documents/PDCB_data/MK-project/Figures/Survival_1mg.svg')"
   ]
  },
  {
   "cell_type": "code",
   "execution_count": 52,
   "metadata": {},
   "outputs": [],
   "source": [
    "plr_test = lf.statistics.pairwise_logrank_test(event_durations = MK_1mg['Duration'], event_observed = MK_1mg['Event'], groups = MK_1mg['Group'])\n",
    "sig, p_adj = pg.multicomp(plr_test.summary['p'].values, method = 'bonf')\n",
    "\n",
    "logrank_df = plr_test.summary\n",
    "\n",
    "logrank_df['Bonferroni adj'] = p_adj.round(5)"
   ]
  },
  {
   "cell_type": "code",
   "execution_count": 53,
   "metadata": {},
   "outputs": [
    {
     "data": {
      "text/html": [
       "<div>\n",
       "<style scoped>\n",
       "    .dataframe tbody tr th:only-of-type {\n",
       "        vertical-align: middle;\n",
       "    }\n",
       "\n",
       "    .dataframe tbody tr th {\n",
       "        vertical-align: top;\n",
       "    }\n",
       "\n",
       "    .dataframe thead th {\n",
       "        text-align: right;\n",
       "    }\n",
       "</style>\n",
       "<table border=\"1\" class=\"dataframe\">\n",
       "  <thead>\n",
       "    <tr style=\"text-align: right;\">\n",
       "      <th></th>\n",
       "      <th></th>\n",
       "      <th>test_statistic</th>\n",
       "      <th>p</th>\n",
       "      <th>Bonferroni adj</th>\n",
       "    </tr>\n",
       "  </thead>\n",
       "  <tbody>\n",
       "    <tr>\n",
       "      <th rowspan=\"5\" valign=\"top\">HE_MK-801_1.0</th>\n",
       "      <th>HE_Saline_1.0</th>\n",
       "      <td>0.888889</td>\n",
       "      <td>3.457786e-01</td>\n",
       "      <td>1.00000</td>\n",
       "    </tr>\n",
       "    <tr>\n",
       "      <th>KO_MK-801_1.0</th>\n",
       "      <td>12.298642</td>\n",
       "      <td>4.532879e-04</td>\n",
       "      <td>0.00680</td>\n",
       "    </tr>\n",
       "    <tr>\n",
       "      <th>KO_Saline_1.0</th>\n",
       "      <td>3.529152</td>\n",
       "      <td>6.029863e-02</td>\n",
       "      <td>0.90448</td>\n",
       "    </tr>\n",
       "    <tr>\n",
       "      <th>WT_MK-801_1.0</th>\n",
       "      <td>0.121363</td>\n",
       "      <td>7.275605e-01</td>\n",
       "      <td>1.00000</td>\n",
       "    </tr>\n",
       "    <tr>\n",
       "      <th>WT_Saline_1.0</th>\n",
       "      <td>0.772660</td>\n",
       "      <td>3.793955e-01</td>\n",
       "      <td>1.00000</td>\n",
       "    </tr>\n",
       "    <tr>\n",
       "      <th rowspan=\"4\" valign=\"top\">HE_Saline_1.0</th>\n",
       "      <th>KO_MK-801_1.0</th>\n",
       "      <td>14.893160</td>\n",
       "      <td>1.137748e-04</td>\n",
       "      <td>0.00171</td>\n",
       "    </tr>\n",
       "    <tr>\n",
       "      <th>KO_Saline_1.0</th>\n",
       "      <td>0.105263</td>\n",
       "      <td>7.456028e-01</td>\n",
       "      <td>1.00000</td>\n",
       "    </tr>\n",
       "    <tr>\n",
       "      <th>WT_MK-801_1.0</th>\n",
       "      <td>1.449685</td>\n",
       "      <td>2.285785e-01</td>\n",
       "      <td>1.00000</td>\n",
       "    </tr>\n",
       "    <tr>\n",
       "      <th>WT_Saline_1.0</th>\n",
       "      <td>0.344125</td>\n",
       "      <td>5.574578e-01</td>\n",
       "      <td>1.00000</td>\n",
       "    </tr>\n",
       "    <tr>\n",
       "      <th rowspan=\"3\" valign=\"top\">KO_MK-801_1.0</th>\n",
       "      <th>KO_Saline_1.0</th>\n",
       "      <td>109.882857</td>\n",
       "      <td>1.039560e-25</td>\n",
       "      <td>0.00000</td>\n",
       "    </tr>\n",
       "    <tr>\n",
       "      <th>WT_MK-801_1.0</th>\n",
       "      <td>30.731174</td>\n",
       "      <td>2.963652e-08</td>\n",
       "      <td>0.00000</td>\n",
       "    </tr>\n",
       "    <tr>\n",
       "      <th>WT_Saline_1.0</th>\n",
       "      <td>66.564519</td>\n",
       "      <td>3.386267e-16</td>\n",
       "      <td>0.00000</td>\n",
       "    </tr>\n",
       "    <tr>\n",
       "      <th rowspan=\"2\" valign=\"top\">KO_Saline_1.0</th>\n",
       "      <th>WT_MK-801_1.0</th>\n",
       "      <td>9.779738</td>\n",
       "      <td>1.764454e-03</td>\n",
       "      <td>0.02647</td>\n",
       "    </tr>\n",
       "    <tr>\n",
       "      <th>WT_Saline_1.0</th>\n",
       "      <td>1.048300</td>\n",
       "      <td>3.058989e-01</td>\n",
       "      <td>1.00000</td>\n",
       "    </tr>\n",
       "    <tr>\n",
       "      <th>WT_MK-801_1.0</th>\n",
       "      <th>WT_Saline_1.0</th>\n",
       "      <td>3.555435</td>\n",
       "      <td>5.935075e-02</td>\n",
       "      <td>0.89026</td>\n",
       "    </tr>\n",
       "  </tbody>\n",
       "</table>\n",
       "</div>"
      ],
      "text/plain": [
       "                             test_statistic             p  Bonferroni adj\n",
       "HE_MK-801_1.0 HE_Saline_1.0        0.888889  3.457786e-01         1.00000\n",
       "              KO_MK-801_1.0       12.298642  4.532879e-04         0.00680\n",
       "              KO_Saline_1.0        3.529152  6.029863e-02         0.90448\n",
       "              WT_MK-801_1.0        0.121363  7.275605e-01         1.00000\n",
       "              WT_Saline_1.0        0.772660  3.793955e-01         1.00000\n",
       "HE_Saline_1.0 KO_MK-801_1.0       14.893160  1.137748e-04         0.00171\n",
       "              KO_Saline_1.0        0.105263  7.456028e-01         1.00000\n",
       "              WT_MK-801_1.0        1.449685  2.285785e-01         1.00000\n",
       "              WT_Saline_1.0        0.344125  5.574578e-01         1.00000\n",
       "KO_MK-801_1.0 KO_Saline_1.0      109.882857  1.039560e-25         0.00000\n",
       "              WT_MK-801_1.0       30.731174  2.963652e-08         0.00000\n",
       "              WT_Saline_1.0       66.564519  3.386267e-16         0.00000\n",
       "KO_Saline_1.0 WT_MK-801_1.0        9.779738  1.764454e-03         0.02647\n",
       "              WT_Saline_1.0        1.048300  3.058989e-01         1.00000\n",
       "WT_MK-801_1.0 WT_Saline_1.0        3.555435  5.935075e-02         0.89026"
      ]
     },
     "execution_count": 53,
     "metadata": {},
     "output_type": "execute_result"
    }
   ],
   "source": [
    "logrank_df"
   ]
  },
  {
   "cell_type": "code",
   "execution_count": 55,
   "metadata": {},
   "outputs": [],
   "source": [
    "logrank_df.to_csv('/Users/labc02/Documents/PDCB_data/MK-project/Figures/Survival_1mg_logrank.csv')"
   ]
  },
  {
   "cell_type": "code",
   "execution_count": 56,
   "metadata": {},
   "outputs": [],
   "source": [
    "MK_05mg = MK_surv.copy()"
   ]
  },
  {
   "cell_type": "code",
   "execution_count": 57,
   "metadata": {},
   "outputs": [],
   "source": [
    "MK_05mg.loc[MK_05mg['Treatment']=='Saline', 'Dosage (mg/kg)']  = 0.5"
   ]
  },
  {
   "cell_type": "code",
   "execution_count": 58,
   "metadata": {
    "collapsed": true,
    "jupyter": {
     "outputs_hidden": true
    }
   },
   "outputs": [
    {
     "data": {
      "text/html": [
       "<div>\n",
       "<style scoped>\n",
       "    .dataframe tbody tr th:only-of-type {\n",
       "        vertical-align: middle;\n",
       "    }\n",
       "\n",
       "    .dataframe tbody tr th {\n",
       "        vertical-align: top;\n",
       "    }\n",
       "\n",
       "    .dataframe thead th {\n",
       "        text-align: right;\n",
       "    }\n",
       "</style>\n",
       "<table border=\"1\" class=\"dataframe\">\n",
       "  <thead>\n",
       "    <tr style=\"text-align: right;\">\n",
       "      <th></th>\n",
       "      <th>ID</th>\n",
       "      <th>Litter</th>\n",
       "      <th>Genotype</th>\n",
       "      <th>Treatment</th>\n",
       "      <th>Dosage (mg/kg)</th>\n",
       "      <th>Sex</th>\n",
       "      <th>Duration</th>\n",
       "      <th>Event</th>\n",
       "      <th>Group</th>\n",
       "    </tr>\n",
       "  </thead>\n",
       "  <tbody>\n",
       "    <tr>\n",
       "      <th>0</th>\n",
       "      <td>KO_4.1_4</td>\n",
       "      <td>KO_4.1</td>\n",
       "      <td>KO</td>\n",
       "      <td>Saline</td>\n",
       "      <td>0.5</td>\n",
       "      <td>Fem</td>\n",
       "      <td>90</td>\n",
       "      <td>0</td>\n",
       "      <td>KO_Saline_1.0</td>\n",
       "    </tr>\n",
       "    <tr>\n",
       "      <th>1</th>\n",
       "      <td>KO_4.1_5</td>\n",
       "      <td>KO_4.1</td>\n",
       "      <td>KO</td>\n",
       "      <td>Saline</td>\n",
       "      <td>0.5</td>\n",
       "      <td>Fem</td>\n",
       "      <td>90</td>\n",
       "      <td>0</td>\n",
       "      <td>KO_Saline_1.0</td>\n",
       "    </tr>\n",
       "    <tr>\n",
       "      <th>2</th>\n",
       "      <td>KO_4.1_1</td>\n",
       "      <td>KO_4.1</td>\n",
       "      <td>KO</td>\n",
       "      <td>MK-801</td>\n",
       "      <td>1.0</td>\n",
       "      <td>Fem</td>\n",
       "      <td>90</td>\n",
       "      <td>0</td>\n",
       "      <td>KO_MK-801_1.0</td>\n",
       "    </tr>\n",
       "    <tr>\n",
       "      <th>3</th>\n",
       "      <td>KO_4.1_2</td>\n",
       "      <td>KO_4.1</td>\n",
       "      <td>KO</td>\n",
       "      <td>MK-801</td>\n",
       "      <td>1.0</td>\n",
       "      <td>NaN</td>\n",
       "      <td>6</td>\n",
       "      <td>1</td>\n",
       "      <td>KO_MK-801_1.0</td>\n",
       "    </tr>\n",
       "    <tr>\n",
       "      <th>4</th>\n",
       "      <td>KO_4.1_3</td>\n",
       "      <td>KO_4.1</td>\n",
       "      <td>KO</td>\n",
       "      <td>MK-801</td>\n",
       "      <td>1.0</td>\n",
       "      <td>NaN</td>\n",
       "      <td>6</td>\n",
       "      <td>1</td>\n",
       "      <td>KO_MK-801_1.0</td>\n",
       "    </tr>\n",
       "    <tr>\n",
       "      <th>...</th>\n",
       "      <td>...</td>\n",
       "      <td>...</td>\n",
       "      <td>...</td>\n",
       "      <td>...</td>\n",
       "      <td>...</td>\n",
       "      <td>...</td>\n",
       "      <td>...</td>\n",
       "      <td>...</td>\n",
       "      <td>...</td>\n",
       "    </tr>\n",
       "    <tr>\n",
       "      <th>311</th>\n",
       "      <td>HE_3.3_4</td>\n",
       "      <td>HE_3.3</td>\n",
       "      <td>HE</td>\n",
       "      <td>Saline</td>\n",
       "      <td>0.5</td>\n",
       "      <td>Fem</td>\n",
       "      <td>70</td>\n",
       "      <td>0</td>\n",
       "      <td>HE_Saline_1.0</td>\n",
       "    </tr>\n",
       "    <tr>\n",
       "      <th>312</th>\n",
       "      <td>HE_3.3_5</td>\n",
       "      <td>HE_3.3</td>\n",
       "      <td>HE</td>\n",
       "      <td>Saline</td>\n",
       "      <td>0.5</td>\n",
       "      <td>Fem</td>\n",
       "      <td>70</td>\n",
       "      <td>0</td>\n",
       "      <td>HE_Saline_1.0</td>\n",
       "    </tr>\n",
       "    <tr>\n",
       "      <th>313</th>\n",
       "      <td>WT_6.8_3</td>\n",
       "      <td>WT_6.8</td>\n",
       "      <td>WT</td>\n",
       "      <td>MK-801</td>\n",
       "      <td>1.0</td>\n",
       "      <td>NaN</td>\n",
       "      <td>30</td>\n",
       "      <td>0</td>\n",
       "      <td>WT_MK-801_1.0</td>\n",
       "    </tr>\n",
       "    <tr>\n",
       "      <th>314</th>\n",
       "      <td>WT_9.9_1</td>\n",
       "      <td>WT_9.9</td>\n",
       "      <td>WT</td>\n",
       "      <td>MK-801</td>\n",
       "      <td>1.0</td>\n",
       "      <td>NaN</td>\n",
       "      <td>31</td>\n",
       "      <td>0</td>\n",
       "      <td>WT_MK-801_1.0</td>\n",
       "    </tr>\n",
       "    <tr>\n",
       "      <th>315</th>\n",
       "      <td>WT_8.7_1</td>\n",
       "      <td>WT_8.7</td>\n",
       "      <td>WT</td>\n",
       "      <td>MK-801</td>\n",
       "      <td>1.0</td>\n",
       "      <td>NaN</td>\n",
       "      <td>26</td>\n",
       "      <td>0</td>\n",
       "      <td>WT_MK-801_1.0</td>\n",
       "    </tr>\n",
       "  </tbody>\n",
       "</table>\n",
       "<p>316 rows × 9 columns</p>\n",
       "</div>"
      ],
      "text/plain": [
       "           ID  Litter Genotype Treatment  Dosage (mg/kg)  Sex  Duration  \\\n",
       "0    KO_4.1_4  KO_4.1       KO    Saline             0.5  Fem        90   \n",
       "1    KO_4.1_5  KO_4.1       KO    Saline             0.5  Fem        90   \n",
       "2    KO_4.1_1  KO_4.1       KO    MK-801             1.0  Fem        90   \n",
       "3    KO_4.1_2  KO_4.1       KO    MK-801             1.0  NaN         6   \n",
       "4    KO_4.1_3  KO_4.1       KO    MK-801             1.0  NaN         6   \n",
       "..        ...     ...      ...       ...             ...  ...       ...   \n",
       "311  HE_3.3_4  HE_3.3       HE    Saline             0.5  Fem        70   \n",
       "312  HE_3.3_5  HE_3.3       HE    Saline             0.5  Fem        70   \n",
       "313  WT_6.8_3  WT_6.8       WT    MK-801             1.0  NaN        30   \n",
       "314  WT_9.9_1  WT_9.9       WT    MK-801             1.0  NaN        31   \n",
       "315  WT_8.7_1  WT_8.7       WT    MK-801             1.0  NaN        26   \n",
       "\n",
       "     Event          Group  \n",
       "0        0  KO_Saline_1.0  \n",
       "1        0  KO_Saline_1.0  \n",
       "2        0  KO_MK-801_1.0  \n",
       "3        1  KO_MK-801_1.0  \n",
       "4        1  KO_MK-801_1.0  \n",
       "..     ...            ...  \n",
       "311      0  HE_Saline_1.0  \n",
       "312      0  HE_Saline_1.0  \n",
       "313      0  WT_MK-801_1.0  \n",
       "314      0  WT_MK-801_1.0  \n",
       "315      0  WT_MK-801_1.0  \n",
       "\n",
       "[316 rows x 9 columns]"
      ]
     },
     "execution_count": 58,
     "metadata": {},
     "output_type": "execute_result"
    }
   ],
   "source": [
    "MK_05mg"
   ]
  },
  {
   "cell_type": "code",
   "execution_count": 59,
   "metadata": {},
   "outputs": [],
   "source": [
    "MK_05 = MK_05mg[(MK_05mg['Dosage (mg/kg)'] == 0.5) & (MK_05mg['Genotype'] != 'HE')]"
   ]
  },
  {
   "cell_type": "code",
   "execution_count": 61,
   "metadata": {},
   "outputs": [
    {
     "data": {
      "text/plain": [
       "Text(0.5, 1.0, 'Dosage: 0.5mg/kg')"
      ]
     },
     "execution_count": 61,
     "metadata": {},
     "output_type": "execute_result"
    },
    {
     "data": {
      "image/png": "[encoded data removed]",
      "text/plain": [
       "<Figure size 504x360 with 1 Axes>"
      ]
     },
     "metadata": {
      "needs_background": "light"
     },
     "output_type": "display_data"
    }
   ],
   "source": [
    "surv_05 = plt.figure(figsize = (7,5))\n",
    "ax=plt.subplot()\n",
    "colors = {'HE': 'goldenrod', 'KO': 'forestgreen', 'WT': 'royalblue'}\n",
    "st = {'Saline': 'solid', 'MK-801': 'dashed'}\n",
    "for name, grouped_df in MK_05.groupby(['Genotype', 'Treatment']):\n",
    "    km_fit.fit(grouped_df[\"Duration\"], grouped_df[\"Event\"], label=name)\n",
    "    km_fit.plot(ax=ax, ci_show=False, color = colors[name[0]], linestyle = st[name[1]])\n",
    "plt.ylabel('Survival (%)')\n",
    "plt.xlabel('Days')\n",
    "ax.legend(fancybox=True, ncol=2)\n",
    "plt.axvline(5, ls='--', color = 'k', alpha=.5)\n",
    "plt.axvline(9, ls='--', color = 'k', alpha=.5)\n",
    "plt.ylim(0, 1.02)\n",
    "plt.title('Dosage: 0.5mg/kg')"
   ]
  },
  {
   "cell_type": "code",
   "execution_count": 63,
   "metadata": {},
   "outputs": [],
   "source": [
    "surv_05.savefig('/Users/labc02/Documents/PDCB_data/MK-project/Figures/Survival_05mg.svg')"
   ]
  },
  {
   "cell_type": "code",
   "execution_count": 64,
   "metadata": {},
   "outputs": [],
   "source": [
    "plr_test = lf.statistics.pairwise_logrank_test(event_durations = MK_05['Duration'], event_observed = MK_05['Event'], groups = MK_05['Group'])\n",
    "sig, p_adj = pg.multicomp(plr_test.summary['p'].values, method = 'bonf')\n",
    "\n",
    "logrank_df = plr_test.summary\n",
    "\n",
    "logrank_df['Bonferroni adj'] = p_adj.round(5)"
   ]
  },
  {
   "cell_type": "code",
   "execution_count": 65,
   "metadata": {},
   "outputs": [
    {
     "data": {
      "text/html": [
       "<div>\n",
       "<style scoped>\n",
       "    .dataframe tbody tr th:only-of-type {\n",
       "        vertical-align: middle;\n",
       "    }\n",
       "\n",
       "    .dataframe tbody tr th {\n",
       "        vertical-align: top;\n",
       "    }\n",
       "\n",
       "    .dataframe thead th {\n",
       "        text-align: right;\n",
       "    }\n",
       "</style>\n",
       "<table border=\"1\" class=\"dataframe\">\n",
       "  <thead>\n",
       "    <tr style=\"text-align: right;\">\n",
       "      <th></th>\n",
       "      <th></th>\n",
       "      <th>test_statistic</th>\n",
       "      <th>p</th>\n",
       "      <th>Bonferroni adj</th>\n",
       "    </tr>\n",
       "  </thead>\n",
       "  <tbody>\n",
       "    <tr>\n",
       "      <th rowspan=\"3\" valign=\"top\">KO_MK-801_0.5</th>\n",
       "      <th>KO_Saline_1.0</th>\n",
       "      <td>8.469045</td>\n",
       "      <td>0.003612</td>\n",
       "      <td>0.02167</td>\n",
       "    </tr>\n",
       "    <tr>\n",
       "      <th>WT_MK-801_0.5</th>\n",
       "      <td>1.200975</td>\n",
       "      <td>0.273127</td>\n",
       "      <td>1.00000</td>\n",
       "    </tr>\n",
       "    <tr>\n",
       "      <th>WT_Saline_1.0</th>\n",
       "      <td>2.950945</td>\n",
       "      <td>0.085827</td>\n",
       "      <td>0.51496</td>\n",
       "    </tr>\n",
       "    <tr>\n",
       "      <th rowspan=\"2\" valign=\"top\">KO_Saline_1.0</th>\n",
       "      <th>WT_MK-801_0.5</th>\n",
       "      <td>2.844136</td>\n",
       "      <td>0.091708</td>\n",
       "      <td>0.55025</td>\n",
       "    </tr>\n",
       "    <tr>\n",
       "      <th>WT_Saline_1.0</th>\n",
       "      <td>1.048300</td>\n",
       "      <td>0.305899</td>\n",
       "      <td>1.00000</td>\n",
       "    </tr>\n",
       "    <tr>\n",
       "      <th>WT_MK-801_0.5</th>\n",
       "      <th>WT_Saline_1.0</th>\n",
       "      <td>0.367574</td>\n",
       "      <td>0.544330</td>\n",
       "      <td>1.00000</td>\n",
       "    </tr>\n",
       "  </tbody>\n",
       "</table>\n",
       "</div>"
      ],
      "text/plain": [
       "                             test_statistic         p  Bonferroni adj\n",
       "KO_MK-801_0.5 KO_Saline_1.0        8.469045  0.003612         0.02167\n",
       "              WT_MK-801_0.5        1.200975  0.273127         1.00000\n",
       "              WT_Saline_1.0        2.950945  0.085827         0.51496\n",
       "KO_Saline_1.0 WT_MK-801_0.5        2.844136  0.091708         0.55025\n",
       "              WT_Saline_1.0        1.048300  0.305899         1.00000\n",
       "WT_MK-801_0.5 WT_Saline_1.0        0.367574  0.544330         1.00000"
      ]
     },
     "execution_count": 65,
     "metadata": {},
     "output_type": "execute_result"
    }
   ],
   "source": [
    "logrank_df"
   ]
  },
  {
   "cell_type": "code",
   "execution_count": 66,
   "metadata": {},
   "outputs": [],
   "source": [
    "logrank_df.to_csv('/Users/labc02/Documents/PDCB_data/MK-project/Figures/Survival_05mg_logrank.csv')"
   ]
  },
  {
   "cell_type": "markdown",
   "metadata": {},
   "source": [
    "## Growth"
   ]
  },
  {
   "cell_type": "code",
   "execution_count": 49,
   "metadata": {},
   "outputs": [],
   "source": [
    "MK_grow = pd.read_csv('/Users/labc02/Documents/PDCB_data/MK-project/Pesos(3).csv')"
   ]
  },
  {
   "cell_type": "code",
   "execution_count": 50,
   "metadata": {},
   "outputs": [],
   "source": [
    "MK_grow.dropna(how='any', inplace = True)"
   ]
  },
  {
   "cell_type": "code",
   "execution_count": 51,
   "metadata": {},
   "outputs": [],
   "source": [
    "MK_grow.drop(MK_grow.tail(1).index, inplace = True)"
   ]
  },
  {
   "cell_type": "code",
   "execution_count": 52,
   "metadata": {},
   "outputs": [
    {
     "data": {
      "text/plain": [
       "Genotype  Treatment  Dosage (mg/kg)\n",
       "HE        MK-801     1.0                6\n",
       "          Saline     1.0                6\n",
       "KO        MK-801     0.5               64\n",
       "                     1.0                3\n",
       "          Saline     1.0               68\n",
       "WT        MK-801     0.5               26\n",
       "                     1.0               22\n",
       "          Saline     1.0               36\n",
       "Name: ID, dtype: int64"
      ]
     },
     "execution_count": 52,
     "metadata": {},
     "output_type": "execute_result"
    }
   ],
   "source": [
    "MK_grow.groupby(['Genotype', 'Treatment', 'Dosage (mg/kg)'])['ID'].count()"
   ]
  },
  {
   "cell_type": "code",
   "execution_count": 53,
   "metadata": {},
   "outputs": [
    {
     "data": {
      "text/plain": [
       "Index(['ID', 'Litter', 'Genotype', 'Treatment', 'Dosage (mg/kg)', 'Sex', '5',\n",
       "       '6', '7', '8', '9', '10', '11', '12', '13', '14', '15', '16', '17',\n",
       "       '18', '19', '20', '21', '22', '23', '24', '25', '26', '27', '28', '29',\n",
       "       '30', '31', '32', '33', '34', '35', '40', '45', '50', '55', '60', '65',\n",
       "       '70', '75', '80', '85', '90'],\n",
       "      dtype='object')"
      ]
     },
     "execution_count": 53,
     "metadata": {},
     "output_type": "execute_result"
    }
   ],
   "source": [
    "MK_grow.columns"
   ]
  },
  {
   "cell_type": "code",
   "execution_count": 54,
   "metadata": {},
   "outputs": [],
   "source": [
    "mk_g= MK_grow.melt(id_vars=['ID', 'Litter', 'Genotype', 'Treatment', 'Dosage (mg/kg)', 'Sex'], var_name='Day', value_name = 'Weight')"
   ]
  },
  {
   "cell_type": "code",
   "execution_count": 55,
   "metadata": {},
   "outputs": [],
   "source": [
    "mk_g['Day'] = mk_g['Day'].astype('float')"
   ]
  },
  {
   "cell_type": "code",
   "execution_count": 64,
   "metadata": {},
   "outputs": [],
   "source": [
    "mk_g['Group'] = mk_g['Genotype']+'_'+mk_g['Treatment']"
   ]
  },
  {
   "cell_type": "code",
   "execution_count": 66,
   "metadata": {},
   "outputs": [],
   "source": [
    "mk_g['Tx'] = mk_g['Treatment'] + '_' + mk_g['Dosage (mg/kg)'].astype(str)"
   ]
  },
  {
   "cell_type": "code",
   "execution_count": 68,
   "metadata": {},
   "outputs": [
    {
     "data": {
      "text/plain": [
       "Text(0, 0.5, 'Weight (g)')"
      ]
     },
     "execution_count": 68,
     "metadata": {},
     "output_type": "execute_result"
    },
    {
     "data": {
      "image/png": "[encoded data removed]",
      "text/plain": [
       "<Figure size 504x360 with 1 Axes>"
      ]
     },
     "metadata": {
      "needs_background": "light"
     },
     "output_type": "display_data"
    }
   ],
   "source": [
    "wt_all_curv = plt.figure(figsize=(7,5))\n",
    "sns.lineplot(data = mk_g[mk_g['Genotype']!= 'HE'], x ='Day', y='Weight', hue='Genotype', style='Tx', palette=['forestgreen', 'royalblue'], legend= 'brief', ci = 68)\n",
    "sns.despine()\n",
    "plt.ylabel('Weight (g)')\n"
   ]
  },
  {
   "cell_type": "code",
   "execution_count": 69,
   "metadata": {},
   "outputs": [],
   "source": [
    "wt_all_curv.savefig('/Users/labc02/Documents/PDCB_data/MK-project/Figures/Wt_all_curv.svg')"
   ]
  },
  {
   "cell_type": "code",
   "execution_count": 70,
   "metadata": {},
   "outputs": [
    {
     "data": {
      "text/plain": [
       "Text(0, 0.5, 'Weight (g)')"
      ]
     },
     "execution_count": 70,
     "metadata": {},
     "output_type": "execute_result"
    },
    {
     "data": {
      "image/png": "[encoded data removed]",
      "text/plain": [
       "<Figure size 252x144 with 1 Axes>"
      ]
     },
     "metadata": {
      "needs_background": "light"
     },
     "output_type": "display_data"
    }
   ],
   "source": [
    "wt_all_paper = plt.figure(figsize=(3.5,2))\n",
    "sns.lineplot(data = mk_g[mk_g['Genotype']!= 'HE'], x ='Day', y='Weight', hue='Genotype', style='Tx', palette=['forestgreen', 'royalblue'], legend= 'brief', ci = 68)\n",
    "sns.despine()\n",
    "plt.ylabel('Weight (g)')\n"
   ]
  },
  {
   "cell_type": "code",
   "execution_count": 71,
   "metadata": {},
   "outputs": [],
   "source": [
    "wt_all_paper.savefig('/Users/labc02/Documents/PDCB_data/MK-project/Figures/Wt_all_paper.svg')"
   ]
  },
  {
   "cell_type": "code",
   "execution_count": 197,
   "metadata": {},
   "outputs": [
    {
     "data": {
      "text/plain": [
       "Text(0, 3, '***')"
      ]
     },
     "execution_count": 197,
     "metadata": {},
     "output_type": "execute_result"
    },
    {
     "data": {
      "image/png": "[encoded data removed]",
      "text/plain": [
       "<Figure size 504x360 with 1 Axes>"
      ]
     },
     "metadata": {
      "needs_background": "light"
     },
     "output_type": "display_data"
    }
   ],
   "source": [
    "wt_grwt_fig = plt.figure(figsize=(7,5))\n",
    "sns.boxplot(data = mk_g[(mk_g['Genotype']== 'WT') & (mk_g['Day'].isin([5, 10, 50, 90]))], x ='Day', y='Weight', hue='Tx', hue_order = ['Saline_1.0', 'MK-801_0.5', 'MK-801_1.0'], palette=['royalblue', 'steelblue', 'cornflowerblue'], width = 0.5, showmeans = True, meanprops={\"marker\":\"+\", \"markeredgecolor\":\"k\"}, showfliers = False)\n",
    "sns.despine()\n",
    "#plt.title('Weight 1mg/kg')\n",
    "plt.ylabel('Weight (g)')\n",
    "\n",
    "plt.annotate(s='***', xy=(155, 50), xycoords='axes points', xytext=(0, 3), textcoords='offset points', ha = 'center', arrowprops=dict(arrowstyle='-[, widthB=0.8, lengthB=.2', lw=1.5, color='k'), fontsize = 10)\n",
    "plt.annotate(s='**', xy=(138, 65), xycoords='axes points', xytext=(0, 3), textcoords='offset points', ha = 'center', arrowprops=dict(arrowstyle='-[, widthB=0.8, lengthB=.2', lw=1.5, color='k'), fontsize = 10)\n",
    "plt.annotate(s='***', xy=(146, 80), xycoords='axes points', xytext=(0, 3), textcoords='offset points', ha = 'center', arrowprops=dict(arrowstyle='-[, widthB=1.7, lengthB=.2', lw=1.5, color='k'), fontsize = 10)\n",
    "\n",
    "plt.annotate(s='*', xy=(253, 210), xycoords='axes points', xytext=(0, 3), textcoords='offset points', ha = 'center', arrowprops=dict(arrowstyle='-[, widthB=0.8, lengthB=.2', lw=1.5, color='k'), fontsize = 10)\n",
    "plt.annotate(s='***', xy=(245, 230), xycoords='axes points', xytext=(0, 3), textcoords='offset points', ha = 'center', arrowprops=dict(arrowstyle='-[, widthB=1.7, lengthB=.2', lw=1.5, color='k'), fontsize = 10)\n"
   ]
  },
  {
   "cell_type": "code",
   "execution_count": 198,
   "metadata": {},
   "outputs": [],
   "source": [
    "wt_grwt_fig.savefig('/Users/labc02/Documents/PDCB_data/MK-project/Figures/wt_grwt_fig.svg')"
   ]
  },
  {
   "cell_type": "code",
   "execution_count": 184,
   "metadata": {},
   "outputs": [],
   "source": [
    "wt_grwt = mk_g[(mk_g['Genotype']=='WT') & (mk_g['Day'].isin([5, 10, 50, 90]))].copy()\n"
   ]
  },
  {
   "cell_type": "code",
   "execution_count": 148,
   "metadata": {},
   "outputs": [],
   "source": [
    "wght_1mg['Group_w'] = wght_1mg['Group']+'_'+ wght_1mg['Day'].astype(str)"
   ]
  },
  {
   "cell_type": "code",
   "execution_count": 149,
   "metadata": {
    "collapsed": true,
    "jupyter": {
     "outputs_hidden": true
    }
   },
   "outputs": [
    {
     "data": {
      "text/html": [
       "<div>\n",
       "<style scoped>\n",
       "    .dataframe tbody tr th:only-of-type {\n",
       "        vertical-align: middle;\n",
       "    }\n",
       "\n",
       "    .dataframe tbody tr th {\n",
       "        vertical-align: top;\n",
       "    }\n",
       "\n",
       "    .dataframe thead th {\n",
       "        text-align: right;\n",
       "    }\n",
       "</style>\n",
       "<table border=\"1\" class=\"dataframe\">\n",
       "  <thead>\n",
       "    <tr style=\"text-align: right;\">\n",
       "      <th></th>\n",
       "      <th>W</th>\n",
       "      <th>pval</th>\n",
       "      <th>normal</th>\n",
       "    </tr>\n",
       "  </thead>\n",
       "  <tbody>\n",
       "    <tr>\n",
       "      <th>KO_Saline_5.0</th>\n",
       "      <td>0.963031</td>\n",
       "      <td>0.041458</td>\n",
       "      <td>False</td>\n",
       "    </tr>\n",
       "    <tr>\n",
       "      <th>WT_Saline_5.0</th>\n",
       "      <td>0.980373</td>\n",
       "      <td>0.757857</td>\n",
       "      <td>True</td>\n",
       "    </tr>\n",
       "    <tr>\n",
       "      <th>WT_MK-801_5.0</th>\n",
       "      <td>0.886071</td>\n",
       "      <td>0.015807</td>\n",
       "      <td>False</td>\n",
       "    </tr>\n",
       "    <tr>\n",
       "      <th>KO_Saline_10.0</th>\n",
       "      <td>0.977272</td>\n",
       "      <td>0.248938</td>\n",
       "      <td>True</td>\n",
       "    </tr>\n",
       "    <tr>\n",
       "      <th>WT_Saline_10.0</th>\n",
       "      <td>0.930986</td>\n",
       "      <td>0.026815</td>\n",
       "      <td>False</td>\n",
       "    </tr>\n",
       "    <tr>\n",
       "      <th>WT_MK-801_10.0</th>\n",
       "      <td>0.975404</td>\n",
       "      <td>0.831263</td>\n",
       "      <td>True</td>\n",
       "    </tr>\n",
       "    <tr>\n",
       "      <th>KO_Saline_30.0</th>\n",
       "      <td>0.988964</td>\n",
       "      <td>0.813428</td>\n",
       "      <td>True</td>\n",
       "    </tr>\n",
       "    <tr>\n",
       "      <th>WT_Saline_30.0</th>\n",
       "      <td>0.954497</td>\n",
       "      <td>0.144832</td>\n",
       "      <td>True</td>\n",
       "    </tr>\n",
       "    <tr>\n",
       "      <th>WT_MK-801_30.0</th>\n",
       "      <td>0.927289</td>\n",
       "      <td>0.107735</td>\n",
       "      <td>True</td>\n",
       "    </tr>\n",
       "    <tr>\n",
       "      <th>KO_Saline_60.0</th>\n",
       "      <td>0.982948</td>\n",
       "      <td>0.478436</td>\n",
       "      <td>True</td>\n",
       "    </tr>\n",
       "    <tr>\n",
       "      <th>WT_Saline_60.0</th>\n",
       "      <td>0.973443</td>\n",
       "      <td>0.526765</td>\n",
       "      <td>True</td>\n",
       "    </tr>\n",
       "    <tr>\n",
       "      <th>WT_MK-801_60.0</th>\n",
       "      <td>0.919604</td>\n",
       "      <td>0.074598</td>\n",
       "      <td>True</td>\n",
       "    </tr>\n",
       "  </tbody>\n",
       "</table>\n",
       "</div>"
      ],
      "text/plain": [
       "                       W      pval  normal\n",
       "KO_Saline_5.0   0.963031  0.041458   False\n",
       "WT_Saline_5.0   0.980373  0.757857    True\n",
       "WT_MK-801_5.0   0.886071  0.015807   False\n",
       "KO_Saline_10.0  0.977272  0.248938    True\n",
       "WT_Saline_10.0  0.930986  0.026815   False\n",
       "WT_MK-801_10.0  0.975404  0.831263    True\n",
       "KO_Saline_30.0  0.988964  0.813428    True\n",
       "WT_Saline_30.0  0.954497  0.144832    True\n",
       "WT_MK-801_30.0  0.927289  0.107735    True\n",
       "KO_Saline_60.0  0.982948  0.478436    True\n",
       "WT_Saline_60.0  0.973443  0.526765    True\n",
       "WT_MK-801_60.0  0.919604  0.074598    True"
      ]
     },
     "execution_count": 149,
     "metadata": {},
     "output_type": "execute_result"
    }
   ],
   "source": [
    "pg.normality(data = wght_1mg, dv = 'Weight', group = 'Group_w')"
   ]
  },
  {
   "cell_type": "code",
   "execution_count": 150,
   "metadata": {},
   "outputs": [
    {
     "data": {
      "text/html": [
       "<div>\n",
       "<style scoped>\n",
       "    .dataframe tbody tr th:only-of-type {\n",
       "        vertical-align: middle;\n",
       "    }\n",
       "\n",
       "    .dataframe tbody tr th {\n",
       "        vertical-align: top;\n",
       "    }\n",
       "\n",
       "    .dataframe thead th {\n",
       "        text-align: right;\n",
       "    }\n",
       "</style>\n",
       "<table border=\"1\" class=\"dataframe\">\n",
       "  <thead>\n",
       "    <tr style=\"text-align: right;\">\n",
       "      <th></th>\n",
       "      <th>W</th>\n",
       "      <th>pval</th>\n",
       "      <th>equal_var</th>\n",
       "    </tr>\n",
       "  </thead>\n",
       "  <tbody>\n",
       "    <tr>\n",
       "      <th>levene</th>\n",
       "      <td>19.292381</td>\n",
       "      <td>2.655658e-32</td>\n",
       "      <td>False</td>\n",
       "    </tr>\n",
       "  </tbody>\n",
       "</table>\n",
       "</div>"
      ],
      "text/plain": [
       "                W          pval  equal_var\n",
       "levene  19.292381  2.655658e-32      False"
      ]
     },
     "execution_count": 150,
     "metadata": {},
     "output_type": "execute_result"
    }
   ],
   "source": [
    "pg.homoscedasticity(data = wght_1mg, dv = 'Weight', group = 'Group_w')"
   ]
  },
  {
   "cell_type": "code",
   "execution_count": 185,
   "metadata": {},
   "outputs": [
    {
     "data": {
      "text/html": [
       "<div>\n",
       "<style scoped>\n",
       "    .dataframe tbody tr th:only-of-type {\n",
       "        vertical-align: middle;\n",
       "    }\n",
       "\n",
       "    .dataframe tbody tr th {\n",
       "        vertical-align: top;\n",
       "    }\n",
       "\n",
       "    .dataframe thead th {\n",
       "        text-align: right;\n",
       "    }\n",
       "</style>\n",
       "<table border=\"1\" class=\"dataframe\">\n",
       "  <thead>\n",
       "    <tr style=\"text-align: right;\">\n",
       "      <th></th>\n",
       "      <th>Source</th>\n",
       "      <th>SS</th>\n",
       "      <th>DF1</th>\n",
       "      <th>DF2</th>\n",
       "      <th>MS</th>\n",
       "      <th>F</th>\n",
       "      <th>p-unc</th>\n",
       "      <th>p-GG-corr</th>\n",
       "      <th>np2</th>\n",
       "      <th>eps</th>\n",
       "      <th>sphericity</th>\n",
       "      <th>W-spher</th>\n",
       "      <th>p-spher</th>\n",
       "    </tr>\n",
       "  </thead>\n",
       "  <tbody>\n",
       "    <tr>\n",
       "      <th>0</th>\n",
       "      <td>Tx</td>\n",
       "      <td>165.743253</td>\n",
       "      <td>2</td>\n",
       "      <td>81</td>\n",
       "      <td>82.871626</td>\n",
       "      <td>9.346242</td>\n",
       "      <td>2.227488e-04</td>\n",
       "      <td>NaN</td>\n",
       "      <td>0.187501</td>\n",
       "      <td>NaN</td>\n",
       "      <td>NaN</td>\n",
       "      <td>NaN</td>\n",
       "      <td>NaN</td>\n",
       "    </tr>\n",
       "    <tr>\n",
       "      <th>1</th>\n",
       "      <td>Day</td>\n",
       "      <td>22855.860760</td>\n",
       "      <td>3</td>\n",
       "      <td>243</td>\n",
       "      <td>7618.620253</td>\n",
       "      <td>3249.711928</td>\n",
       "      <td>9.626170e-196</td>\n",
       "      <td>1.402195e-99</td>\n",
       "      <td>0.975681</td>\n",
       "      <td>0.502995</td>\n",
       "      <td>False</td>\n",
       "      <td>0.121001</td>\n",
       "      <td>2.165313e-35</td>\n",
       "    </tr>\n",
       "    <tr>\n",
       "      <th>2</th>\n",
       "      <td>Interaction</td>\n",
       "      <td>62.258393</td>\n",
       "      <td>6</td>\n",
       "      <td>243</td>\n",
       "      <td>10.376399</td>\n",
       "      <td>4.426039</td>\n",
       "      <td>2.868809e-04</td>\n",
       "      <td>NaN</td>\n",
       "      <td>0.098518</td>\n",
       "      <td>NaN</td>\n",
       "      <td>NaN</td>\n",
       "      <td>NaN</td>\n",
       "      <td>NaN</td>\n",
       "    </tr>\n",
       "  </tbody>\n",
       "</table>\n",
       "</div>"
      ],
      "text/plain": [
       "        Source            SS  DF1  DF2           MS            F  \\\n",
       "0           Tx    165.743253    2   81    82.871626     9.346242   \n",
       "1          Day  22855.860760    3  243  7618.620253  3249.711928   \n",
       "2  Interaction     62.258393    6  243    10.376399     4.426039   \n",
       "\n",
       "           p-unc     p-GG-corr       np2       eps sphericity   W-spher  \\\n",
       "0   2.227488e-04           NaN  0.187501       NaN        NaN       NaN   \n",
       "1  9.626170e-196  1.402195e-99  0.975681  0.502995      False  0.121001   \n",
       "2   2.868809e-04           NaN  0.098518       NaN        NaN       NaN   \n",
       "\n",
       "        p-spher  \n",
       "0           NaN  \n",
       "1  2.165313e-35  \n",
       "2           NaN  "
      ]
     },
     "execution_count": 185,
     "metadata": {},
     "output_type": "execute_result"
    }
   ],
   "source": [
    "pg.mixed_anova(data = wt_grwt, dv = 'Weight', within = 'Day', between = 'Tx', subject = 'ID', correction = True)\n"
   ]
  },
  {
   "cell_type": "code",
   "execution_count": 186,
   "metadata": {},
   "outputs": [
    {
     "data": {
      "text/html": [
       "<div>\n",
       "<style scoped>\n",
       "    .dataframe tbody tr th:only-of-type {\n",
       "        vertical-align: middle;\n",
       "    }\n",
       "\n",
       "    .dataframe tbody tr th {\n",
       "        vertical-align: top;\n",
       "    }\n",
       "\n",
       "    .dataframe thead th {\n",
       "        text-align: right;\n",
       "    }\n",
       "</style>\n",
       "<table border=\"1\" class=\"dataframe\">\n",
       "  <thead>\n",
       "    <tr style=\"text-align: right;\">\n",
       "      <th></th>\n",
       "      <th>Contrast</th>\n",
       "      <th>Day</th>\n",
       "      <th>A</th>\n",
       "      <th>B</th>\n",
       "      <th>Paired</th>\n",
       "      <th>Parametric</th>\n",
       "      <th>T</th>\n",
       "      <th>dof</th>\n",
       "      <th>Tail</th>\n",
       "      <th>p-unc</th>\n",
       "      <th>p-corr</th>\n",
       "      <th>p-adjust</th>\n",
       "      <th>BF10</th>\n",
       "      <th>hedges</th>\n",
       "    </tr>\n",
       "  </thead>\n",
       "  <tbody>\n",
       "    <tr>\n",
       "      <th>0</th>\n",
       "      <td>Day</td>\n",
       "      <td>-</td>\n",
       "      <td>5</td>\n",
       "      <td>10</td>\n",
       "      <td>True</td>\n",
       "      <td>True</td>\n",
       "      <td>-14.254445</td>\n",
       "      <td>83.000000</td>\n",
       "      <td>two-sided</td>\n",
       "      <td>5.058683e-24</td>\n",
       "      <td>5.058683e-24</td>\n",
       "      <td>holm</td>\n",
       "      <td>8.113e+20</td>\n",
       "      <td>-1.808443</td>\n",
       "    </tr>\n",
       "    <tr>\n",
       "      <th>1</th>\n",
       "      <td>Day</td>\n",
       "      <td>-</td>\n",
       "      <td>5</td>\n",
       "      <td>50</td>\n",
       "      <td>True</td>\n",
       "      <td>True</td>\n",
       "      <td>-51.099364</td>\n",
       "      <td>83.000000</td>\n",
       "      <td>two-sided</td>\n",
       "      <td>1.686539e-64</td>\n",
       "      <td>5.059616e-64</td>\n",
       "      <td>holm</td>\n",
       "      <td>5.911e+60</td>\n",
       "      <td>-7.409318</td>\n",
       "    </tr>\n",
       "    <tr>\n",
       "      <th>2</th>\n",
       "      <td>Day</td>\n",
       "      <td>-</td>\n",
       "      <td>5</td>\n",
       "      <td>90</td>\n",
       "      <td>True</td>\n",
       "      <td>True</td>\n",
       "      <td>-61.039529</td>\n",
       "      <td>83.000000</td>\n",
       "      <td>two-sided</td>\n",
       "      <td>9.653423e-71</td>\n",
       "      <td>5.792054e-70</td>\n",
       "      <td>holm</td>\n",
       "      <td>8.606e+66</td>\n",
       "      <td>-8.816747</td>\n",
       "    </tr>\n",
       "    <tr>\n",
       "      <th>3</th>\n",
       "      <td>Day</td>\n",
       "      <td>-</td>\n",
       "      <td>10</td>\n",
       "      <td>50</td>\n",
       "      <td>True</td>\n",
       "      <td>True</td>\n",
       "      <td>-56.160078</td>\n",
       "      <td>83.000000</td>\n",
       "      <td>two-sided</td>\n",
       "      <td>8.273170e-68</td>\n",
       "      <td>3.309268e-67</td>\n",
       "      <td>holm</td>\n",
       "      <td>1.094e+64</td>\n",
       "      <td>-6.299740</td>\n",
       "    </tr>\n",
       "    <tr>\n",
       "      <th>4</th>\n",
       "      <td>Day</td>\n",
       "      <td>-</td>\n",
       "      <td>10</td>\n",
       "      <td>90</td>\n",
       "      <td>True</td>\n",
       "      <td>True</td>\n",
       "      <td>-60.835726</td>\n",
       "      <td>83.000000</td>\n",
       "      <td>two-sided</td>\n",
       "      <td>1.266579e-70</td>\n",
       "      <td>6.332895e-70</td>\n",
       "      <td>holm</td>\n",
       "      <td>6.581e+66</td>\n",
       "      <td>-7.714557</td>\n",
       "    </tr>\n",
       "    <tr>\n",
       "      <th>5</th>\n",
       "      <td>Day</td>\n",
       "      <td>-</td>\n",
       "      <td>50</td>\n",
       "      <td>90</td>\n",
       "      <td>True</td>\n",
       "      <td>True</td>\n",
       "      <td>-23.044644</td>\n",
       "      <td>83.000000</td>\n",
       "      <td>two-sided</td>\n",
       "      <td>7.997468e-38</td>\n",
       "      <td>1.599494e-37</td>\n",
       "      <td>holm</td>\n",
       "      <td>2.917e+34</td>\n",
       "      <td>-1.345878</td>\n",
       "    </tr>\n",
       "    <tr>\n",
       "      <th>6</th>\n",
       "      <td>Tx</td>\n",
       "      <td>-</td>\n",
       "      <td>Saline_1.0</td>\n",
       "      <td>MK-801_1.0</td>\n",
       "      <td>False</td>\n",
       "      <td>True</td>\n",
       "      <td>4.282583</td>\n",
       "      <td>44.872302</td>\n",
       "      <td>two-sided</td>\n",
       "      <td>9.610954e-05</td>\n",
       "      <td>2.883286e-04</td>\n",
       "      <td>holm</td>\n",
       "      <td>288.123</td>\n",
       "      <td>1.140601</td>\n",
       "    </tr>\n",
       "    <tr>\n",
       "      <th>7</th>\n",
       "      <td>Tx</td>\n",
       "      <td>-</td>\n",
       "      <td>Saline_1.0</td>\n",
       "      <td>MK-801_0.5</td>\n",
       "      <td>False</td>\n",
       "      <td>True</td>\n",
       "      <td>1.145043</td>\n",
       "      <td>54.320205</td>\n",
       "      <td>two-sided</td>\n",
       "      <td>2.572116e-01</td>\n",
       "      <td>2.572116e-01</td>\n",
       "      <td>holm</td>\n",
       "      <td>0.453</td>\n",
       "      <td>0.290555</td>\n",
       "    </tr>\n",
       "    <tr>\n",
       "      <th>8</th>\n",
       "      <td>Tx</td>\n",
       "      <td>-</td>\n",
       "      <td>MK-801_1.0</td>\n",
       "      <td>MK-801_0.5</td>\n",
       "      <td>False</td>\n",
       "      <td>True</td>\n",
       "      <td>-2.993299</td>\n",
       "      <td>44.700085</td>\n",
       "      <td>two-sided</td>\n",
       "      <td>4.483396e-03</td>\n",
       "      <td>8.966792e-03</td>\n",
       "      <td>holm</td>\n",
       "      <td>9.252</td>\n",
       "      <td>-0.852863</td>\n",
       "    </tr>\n",
       "    <tr>\n",
       "      <th>9</th>\n",
       "      <td>Day * Tx</td>\n",
       "      <td>5</td>\n",
       "      <td>Saline_1.0</td>\n",
       "      <td>MK-801_1.0</td>\n",
       "      <td>False</td>\n",
       "      <td>True</td>\n",
       "      <td>1.459059</td>\n",
       "      <td>47.035792</td>\n",
       "      <td>two-sided</td>\n",
       "      <td>1.511952e-01</td>\n",
       "      <td>6.100255e-01</td>\n",
       "      <td>holm</td>\n",
       "      <td>0.656</td>\n",
       "      <td>0.382733</td>\n",
       "    </tr>\n",
       "    <tr>\n",
       "      <th>10</th>\n",
       "      <td>Day * Tx</td>\n",
       "      <td>5</td>\n",
       "      <td>Saline_1.0</td>\n",
       "      <td>MK-801_0.5</td>\n",
       "      <td>False</td>\n",
       "      <td>True</td>\n",
       "      <td>-1.363636</td>\n",
       "      <td>59.116699</td>\n",
       "      <td>two-sided</td>\n",
       "      <td>1.778524e-01</td>\n",
       "      <td>6.100255e-01</td>\n",
       "      <td>holm</td>\n",
       "      <td>0.57</td>\n",
       "      <td>-0.335050</td>\n",
       "    </tr>\n",
       "    <tr>\n",
       "      <th>11</th>\n",
       "      <td>Day * Tx</td>\n",
       "      <td>5</td>\n",
       "      <td>MK-801_1.0</td>\n",
       "      <td>MK-801_0.5</td>\n",
       "      <td>False</td>\n",
       "      <td>True</td>\n",
       "      <td>-2.721831</td>\n",
       "      <td>42.079912</td>\n",
       "      <td>two-sided</td>\n",
       "      <td>9.404235e-03</td>\n",
       "      <td>6.582964e-02</td>\n",
       "      <td>holm</td>\n",
       "      <td>5.218</td>\n",
       "      <td>-0.784593</td>\n",
       "    </tr>\n",
       "    <tr>\n",
       "      <th>12</th>\n",
       "      <td>Day * Tx</td>\n",
       "      <td>10</td>\n",
       "      <td>Saline_1.0</td>\n",
       "      <td>MK-801_1.0</td>\n",
       "      <td>False</td>\n",
       "      <td>True</td>\n",
       "      <td>10.005532</td>\n",
       "      <td>55.104480</td>\n",
       "      <td>two-sided</td>\n",
       "      <td>5.357550e-14</td>\n",
       "      <td>6.429060e-13</td>\n",
       "      <td>holm</td>\n",
       "      <td>9.945e+10</td>\n",
       "      <td>2.446660</td>\n",
       "    </tr>\n",
       "    <tr>\n",
       "      <th>13</th>\n",
       "      <td>Day * Tx</td>\n",
       "      <td>10</td>\n",
       "      <td>Saline_1.0</td>\n",
       "      <td>MK-801_0.5</td>\n",
       "      <td>False</td>\n",
       "      <td>True</td>\n",
       "      <td>3.746785</td>\n",
       "      <td>59.015092</td>\n",
       "      <td>two-sided</td>\n",
       "      <td>4.092686e-04</td>\n",
       "      <td>3.683418e-03</td>\n",
       "      <td>holm</td>\n",
       "      <td>66.405</td>\n",
       "      <td>0.921593</td>\n",
       "    </tr>\n",
       "    <tr>\n",
       "      <th>14</th>\n",
       "      <td>Day * Tx</td>\n",
       "      <td>10</td>\n",
       "      <td>MK-801_1.0</td>\n",
       "      <td>MK-801_0.5</td>\n",
       "      <td>False</td>\n",
       "      <td>True</td>\n",
       "      <td>-6.238882</td>\n",
       "      <td>45.999973</td>\n",
       "      <td>two-sided</td>\n",
       "      <td>1.268393e-07</td>\n",
       "      <td>1.395233e-06</td>\n",
       "      <td>holm</td>\n",
       "      <td>8.44e+04</td>\n",
       "      <td>-1.752157</td>\n",
       "    </tr>\n",
       "    <tr>\n",
       "      <th>15</th>\n",
       "      <td>Day * Tx</td>\n",
       "      <td>50</td>\n",
       "      <td>Saline_1.0</td>\n",
       "      <td>MK-801_1.0</td>\n",
       "      <td>False</td>\n",
       "      <td>True</td>\n",
       "      <td>4.418919</td>\n",
       "      <td>43.235454</td>\n",
       "      <td>two-sided</td>\n",
       "      <td>6.558645e-05</td>\n",
       "      <td>6.558645e-04</td>\n",
       "      <td>holm</td>\n",
       "      <td>431.91</td>\n",
       "      <td>1.190571</td>\n",
       "    </tr>\n",
       "    <tr>\n",
       "      <th>16</th>\n",
       "      <td>Day * Tx</td>\n",
       "      <td>50</td>\n",
       "      <td>Saline_1.0</td>\n",
       "      <td>MK-801_0.5</td>\n",
       "      <td>False</td>\n",
       "      <td>True</td>\n",
       "      <td>1.339019</td>\n",
       "      <td>55.305134</td>\n",
       "      <td>two-sided</td>\n",
       "      <td>1.860422e-01</td>\n",
       "      <td>6.100255e-01</td>\n",
       "      <td>holm</td>\n",
       "      <td>0.554</td>\n",
       "      <td>0.337991</td>\n",
       "    </tr>\n",
       "    <tr>\n",
       "      <th>17</th>\n",
       "      <td>Day * Tx</td>\n",
       "      <td>50</td>\n",
       "      <td>MK-801_1.0</td>\n",
       "      <td>MK-801_0.5</td>\n",
       "      <td>False</td>\n",
       "      <td>True</td>\n",
       "      <td>-3.055905</td>\n",
       "      <td>43.319788</td>\n",
       "      <td>two-sided</td>\n",
       "      <td>3.833109e-03</td>\n",
       "      <td>3.066487e-02</td>\n",
       "      <td>holm</td>\n",
       "      <td>10.622</td>\n",
       "      <td>-0.876575</td>\n",
       "    </tr>\n",
       "    <tr>\n",
       "      <th>18</th>\n",
       "      <td>Day * Tx</td>\n",
       "      <td>90</td>\n",
       "      <td>Saline_1.0</td>\n",
       "      <td>MK-801_1.0</td>\n",
       "      <td>False</td>\n",
       "      <td>True</td>\n",
       "      <td>2.131971</td>\n",
       "      <td>41.254351</td>\n",
       "      <td>two-sided</td>\n",
       "      <td>3.901039e-02</td>\n",
       "      <td>2.340623e-01</td>\n",
       "      <td>holm</td>\n",
       "      <td>1.737</td>\n",
       "      <td>0.582636</td>\n",
       "    </tr>\n",
       "    <tr>\n",
       "      <th>19</th>\n",
       "      <td>Day * Tx</td>\n",
       "      <td>90</td>\n",
       "      <td>Saline_1.0</td>\n",
       "      <td>MK-801_0.5</td>\n",
       "      <td>False</td>\n",
       "      <td>True</td>\n",
       "      <td>0.364730</td>\n",
       "      <td>49.452904</td>\n",
       "      <td>two-sided</td>\n",
       "      <td>7.168683e-01</td>\n",
       "      <td>7.168683e-01</td>\n",
       "      <td>holm</td>\n",
       "      <td>0.277</td>\n",
       "      <td>0.094747</td>\n",
       "    </tr>\n",
       "    <tr>\n",
       "      <th>20</th>\n",
       "      <td>Day * Tx</td>\n",
       "      <td>90</td>\n",
       "      <td>MK-801_1.0</td>\n",
       "      <td>MK-801_0.5</td>\n",
       "      <td>False</td>\n",
       "      <td>True</td>\n",
       "      <td>-1.575968</td>\n",
       "      <td>45.213963</td>\n",
       "      <td>two-sided</td>\n",
       "      <td>1.220051e-01</td>\n",
       "      <td>6.100255e-01</td>\n",
       "      <td>holm</td>\n",
       "      <td>0.784</td>\n",
       "      <td>-0.447555</td>\n",
       "    </tr>\n",
       "  </tbody>\n",
       "</table>\n",
       "</div>"
      ],
      "text/plain": [
       "    Contrast Day           A           B Paired  Parametric          T  \\\n",
       "0        Day   -           5          10   True        True -14.254445   \n",
       "1        Day   -           5          50   True        True -51.099364   \n",
       "2        Day   -           5          90   True        True -61.039529   \n",
       "3        Day   -          10          50   True        True -56.160078   \n",
       "4        Day   -          10          90   True        True -60.835726   \n",
       "5        Day   -          50          90   True        True -23.044644   \n",
       "6         Tx   -  Saline_1.0  MK-801_1.0  False        True   4.282583   \n",
       "7         Tx   -  Saline_1.0  MK-801_0.5  False        True   1.145043   \n",
       "8         Tx   -  MK-801_1.0  MK-801_0.5  False        True  -2.993299   \n",
       "9   Day * Tx   5  Saline_1.0  MK-801_1.0  False        True   1.459059   \n",
       "10  Day * Tx   5  Saline_1.0  MK-801_0.5  False        True  -1.363636   \n",
       "11  Day * Tx   5  MK-801_1.0  MK-801_0.5  False        True  -2.721831   \n",
       "12  Day * Tx  10  Saline_1.0  MK-801_1.0  False        True  10.005532   \n",
       "13  Day * Tx  10  Saline_1.0  MK-801_0.5  False        True   3.746785   \n",
       "14  Day * Tx  10  MK-801_1.0  MK-801_0.5  False        True  -6.238882   \n",
       "15  Day * Tx  50  Saline_1.0  MK-801_1.0  False        True   4.418919   \n",
       "16  Day * Tx  50  Saline_1.0  MK-801_0.5  False        True   1.339019   \n",
       "17  Day * Tx  50  MK-801_1.0  MK-801_0.5  False        True  -3.055905   \n",
       "18  Day * Tx  90  Saline_1.0  MK-801_1.0  False        True   2.131971   \n",
       "19  Day * Tx  90  Saline_1.0  MK-801_0.5  False        True   0.364730   \n",
       "20  Day * Tx  90  MK-801_1.0  MK-801_0.5  False        True  -1.575968   \n",
       "\n",
       "          dof       Tail         p-unc        p-corr p-adjust       BF10  \\\n",
       "0   83.000000  two-sided  5.058683e-24  5.058683e-24     holm  8.113e+20   \n",
       "1   83.000000  two-sided  1.686539e-64  5.059616e-64     holm  5.911e+60   \n",
       "2   83.000000  two-sided  9.653423e-71  5.792054e-70     holm  8.606e+66   \n",
       "3   83.000000  two-sided  8.273170e-68  3.309268e-67     holm  1.094e+64   \n",
       "4   83.000000  two-sided  1.266579e-70  6.332895e-70     holm  6.581e+66   \n",
       "5   83.000000  two-sided  7.997468e-38  1.599494e-37     holm  2.917e+34   \n",
       "6   44.872302  two-sided  9.610954e-05  2.883286e-04     holm    288.123   \n",
       "7   54.320205  two-sided  2.572116e-01  2.572116e-01     holm      0.453   \n",
       "8   44.700085  two-sided  4.483396e-03  8.966792e-03     holm      9.252   \n",
       "9   47.035792  two-sided  1.511952e-01  6.100255e-01     holm      0.656   \n",
       "10  59.116699  two-sided  1.778524e-01  6.100255e-01     holm       0.57   \n",
       "11  42.079912  two-sided  9.404235e-03  6.582964e-02     holm      5.218   \n",
       "12  55.104480  two-sided  5.357550e-14  6.429060e-13     holm  9.945e+10   \n",
       "13  59.015092  two-sided  4.092686e-04  3.683418e-03     holm     66.405   \n",
       "14  45.999973  two-sided  1.268393e-07  1.395233e-06     holm   8.44e+04   \n",
       "15  43.235454  two-sided  6.558645e-05  6.558645e-04     holm     431.91   \n",
       "16  55.305134  two-sided  1.860422e-01  6.100255e-01     holm      0.554   \n",
       "17  43.319788  two-sided  3.833109e-03  3.066487e-02     holm     10.622   \n",
       "18  41.254351  two-sided  3.901039e-02  2.340623e-01     holm      1.737   \n",
       "19  49.452904  two-sided  7.168683e-01  7.168683e-01     holm      0.277   \n",
       "20  45.213963  two-sided  1.220051e-01  6.100255e-01     holm      0.784   \n",
       "\n",
       "      hedges  \n",
       "0  -1.808443  \n",
       "1  -7.409318  \n",
       "2  -8.816747  \n",
       "3  -6.299740  \n",
       "4  -7.714557  \n",
       "5  -1.345878  \n",
       "6   1.140601  \n",
       "7   0.290555  \n",
       "8  -0.852863  \n",
       "9   0.382733  \n",
       "10 -0.335050  \n",
       "11 -0.784593  \n",
       "12  2.446660  \n",
       "13  0.921593  \n",
       "14 -1.752157  \n",
       "15  1.190571  \n",
       "16  0.337991  \n",
       "17 -0.876575  \n",
       "18  0.582636  \n",
       "19  0.094747  \n",
       "20 -0.447555  "
      ]
     },
     "execution_count": 186,
     "metadata": {},
     "output_type": "execute_result"
    }
   ],
   "source": [
    "pg.pairwise_ttests(data = wt_grwt, dv = 'Weight', within = 'Day', between = 'Tx', subject = 'ID', padjust = 'holm')\n"
   ]
  },
  {
   "cell_type": "code",
   "execution_count": 220,
   "metadata": {},
   "outputs": [
    {
     "data": {
      "text/plain": [
       "Text(0, 2, '***')"
      ]
     },
     "execution_count": 220,
     "metadata": {},
     "output_type": "execute_result"
    },
    {
     "data": {
      "image/png": "[encoded data removed]",
      "text/plain": [
       "<Figure size 252x144 with 1 Axes>"
      ]
     },
     "metadata": {
      "needs_background": "light"
     },
     "output_type": "display_data"
    }
   ],
   "source": [
    "wt_grwt_paper = plt.figure(figsize=(3.5,2))\n",
    "sns.boxplot(data = mk_g[(mk_g['Genotype']== 'WT') & (mk_g['Day'].isin([5, 10, 50, 90]))], x ='Day', y='Weight', hue='Tx', hue_order = ['Saline_1.0', 'MK-801_0.5', 'MK-801_1.0'], palette=['royalblue', 'steelblue', 'cornflowerblue'], width = 0.5, showmeans = True, meanprops={\"marker\":\"+\", \"markeredgecolor\":\"k\"}, showfliers = False)\n",
    "sns.despine()\n",
    "#plt.title('Weight 1mg/kg')\n",
    "plt.ylabel('Weight (g)')\n",
    "plt.minorticks_on()\n",
    "plt.annotate(s='***', xy=(.40, .19), xycoords='axes fraction', xytext=(0, 2), textcoords='offset points', ha = 'center', arrowprops=dict(arrowstyle='-[, widthB=0.4, lengthB=.2', lw=1.5, color='k'), fontsize = 10)\n",
    "plt.annotate(s='**', xy=(.35, .3), xycoords='axes fraction', xytext=(0, 2), textcoords='offset points', ha = 'center', arrowprops=dict(arrowstyle='-[, widthB=0.4, lengthB=.2', lw=1.5, color='k'), fontsize = 10)\n",
    "plt.annotate(s='***', xy=(.38, .4), xycoords='axes fraction', xytext=(0, 2), textcoords='offset points', ha = 'center', arrowprops=dict(arrowstyle='-[, widthB=0.9, lengthB=.2', lw=1.5, color='k'), fontsize = 10)\n",
    "\n",
    "plt.annotate(s='*', xy=(.65, .77), xycoords='axes fraction', xytext=(0, 2), textcoords='offset points', ha = 'center', arrowprops=dict(arrowstyle='-[, widthB=0.4, lengthB=.2', lw=1.5, color='k'), fontsize = 10)\n",
    "plt.annotate(s='***', xy=(.63, .87), xycoords='axes fraction', xytext=(0, 2), textcoords='offset points', ha = 'center', arrowprops=dict(arrowstyle='-[, widthB=0.9, lengthB=.2', lw=1.5, color='k'), fontsize = 10)\n"
   ]
  },
  {
   "cell_type": "code",
   "execution_count": 221,
   "metadata": {},
   "outputs": [],
   "source": [
    "wt_grwt_paper.savefig('/Users/labc02/Documents/PDCB_data/MK-project/Figures/wt_grwt_paper.svg')"
   ]
  },
  {
   "cell_type": "code",
   "execution_count": 209,
   "metadata": {},
   "outputs": [
    {
     "name": "stderr",
     "output_type": "stream",
     "text": [
      "<ipython-input-209-f16a1568e0d7>:2: SettingWithCopyWarning: \n",
      "A value is trying to be set on a copy of a slice from a DataFrame\n",
      "\n",
      "See the caveats in the documentation: https://pandas.pydata.org/pandas-docs/stable/user_guide/indexing.html#returning-a-view-versus-a-copy\n",
      "  mk_g05['Dosage (mg/kg)'][mk_g05['Treatment'] == 'Saline'] = 0.5\n"
     ]
    }
   ],
   "source": [
    "mk_g05 = mk_g.copy()\n",
    "mk_g05['Dosage (mg/kg)'][mk_g05['Treatment'] == 'Saline'] = 0.5"
   ]
  },
  {
   "cell_type": "code",
   "execution_count": 210,
   "metadata": {},
   "outputs": [
    {
     "data": {
      "text/plain": [
       "Text(0, 0.5, 'Weight (g)')"
      ]
     },
     "execution_count": 210,
     "metadata": {},
     "output_type": "execute_result"
    },
    {
     "data": {
      "image/png": "[encoded data removed]",
      "text/plain": [
       "<Figure size 504x360 with 1 Axes>"
      ]
     },
     "metadata": {
      "needs_background": "light"
     },
     "output_type": "display_data"
    }
   ],
   "source": [
    "wt_05mg_curv = plt.figure(figsize=(7,5))\n",
    "sns.lineplot(data = mk_g05[(mk_g05['Dosage (mg/kg)']==0.5) & (mk_g05['Genotype']!= 'HE')], x ='Day', y='Weight', hue='Genotype', style='Treatment', palette=['forestgreen', 'royalblue'])\n",
    "sns.despine()\n",
    "plt.ylabel('Weight (g)')"
   ]
  },
  {
   "cell_type": "code",
   "execution_count": 226,
   "metadata": {},
   "outputs": [],
   "source": [
    "wt_05mg_curv.savefig('/Users/labc02/Documents/PDCB_data/MK-project/Figures/Wt_05mg_curv.svg')"
   ]
  },
  {
   "cell_type": "code",
   "execution_count": 262,
   "metadata": {},
   "outputs": [
    {
     "data": {
      "text/plain": [
       "Text(0, 3, '*')"
      ]
     },
     "execution_count": 262,
     "metadata": {},
     "output_type": "execute_result"
    },
    {
     "data": {
      "image/png": "[encoded data removed]",
      "text/plain": [
       "<Figure size 504x360 with 1 Axes>"
      ]
     },
     "metadata": {
      "needs_background": "light"
     },
     "output_type": "display_data"
    }
   ],
   "source": [
    "wt_05mg_fig = plt.figure(figsize=(7,5))\n",
    "sns.boxplot(data = mk_g05[(mk_g05['Dosage (mg/kg)']==0.5) & (mk_g05['Genotype']!= 'HE') & (mk_g['Day'].isin([5, 10, 50, 90]))], x ='Day', y='Weight', hue='Group', hue_order =['WT_Saline', 'WT_MK-801', 'KO_Saline', 'KO_MK-801'] , palette=['royalblue', 'steelblue','forestgreen', 'darkseagreen'], width = 0.5, showmeans = True, meanprops={\"marker\":\"+\", \"markeredgecolor\":\"k\"}, showfliers = False)\n",
    "sns.despine()\n",
    "#plt.title('Weight 0.5 mg/kg')\n",
    "plt.ylabel('Weight (g)')\n",
    "\n",
    "plt.annotate(s='***', xy=(0.41, 0.3), xycoords='axes fraction', xytext=(0, 3), textcoords='offset points', ha = 'center', arrowprops=dict(arrowstyle='-[, widthB=.6, lengthB=.2', lw=1.5, color='k'), fontsize = 10)\n",
    "plt.annotate(s='***', xy=(0.38, 0.35), xycoords='axes fraction', xytext=(0, 3), textcoords='offset points', ha = 'center', arrowprops=dict(arrowstyle='-[, widthB=2, lengthB=.2', lw=1.5, color='k'), fontsize = 10)\n",
    "plt.annotate(s='**', xy=(0.343, 0.25), xycoords='axes fraction', xytext=(0, 3), textcoords='offset points', ha = 'center', arrowprops=dict(arrowstyle='-[, widthB=.5, lengthB=.2', lw=1.5, color='k'), fontsize = 10)\n",
    "plt.annotate(s='**', xy=(0.377, 0.25), xycoords='axes fraction', xytext=(0, 3), textcoords='offset points', ha = 'center', arrowprops=dict(arrowstyle='-[, widthB=.5, lengthB=.2', lw=1.5, color='k'), fontsize = 10)\n",
    "\n",
    "\n",
    "plt.annotate(s='*', xy=(0.66, 0.89), xycoords='axes fraction', xytext=(0, 3), textcoords='offset points', ha = 'center', arrowprops=dict(arrowstyle='-[, widthB=.7, lengthB=.2', lw=1.5, color='k'), fontsize = 10)\n"
   ]
  },
  {
   "cell_type": "code",
   "execution_count": 263,
   "metadata": {},
   "outputs": [],
   "source": [
    "wt_05mg_fig.savefig('/Users/labc02/Documents/PDCB_data/MK-project/Figures/Wt_05mg_box.svg')"
   ]
  },
  {
   "cell_type": "code",
   "execution_count": 222,
   "metadata": {},
   "outputs": [],
   "source": [
    "wght_05mg = mk_g05[(mk_g05['Dosage (mg/kg)']==0.5) & (mk_g05['Genotype']!= 'HE') & (mk_g['Day'].isin([5, 10, 50, 90]))]"
   ]
  },
  {
   "cell_type": "code",
   "execution_count": 223,
   "metadata": {},
   "outputs": [
    {
     "name": "stderr",
     "output_type": "stream",
     "text": [
      "<ipython-input-223-cd3f881b2738>:1: SettingWithCopyWarning: \n",
      "A value is trying to be set on a copy of a slice from a DataFrame.\n",
      "Try using .loc[row_indexer,col_indexer] = value instead\n",
      "\n",
      "See the caveats in the documentation: https://pandas.pydata.org/pandas-docs/stable/user_guide/indexing.html#returning-a-view-versus-a-copy\n",
      "  wght_05mg['Group_w'] = wght_05mg['Group']+'_'+ wght_05mg['Day'].astype(str)\n"
     ]
    }
   ],
   "source": [
    "wght_05mg['Group_w'] = wght_05mg['Group']+'_'+ wght_05mg['Day'].astype(str)"
   ]
  },
  {
   "cell_type": "code",
   "execution_count": 224,
   "metadata": {},
   "outputs": [
    {
     "data": {
      "text/html": [
       "<div>\n",
       "<style scoped>\n",
       "    .dataframe tbody tr th:only-of-type {\n",
       "        vertical-align: middle;\n",
       "    }\n",
       "\n",
       "    .dataframe tbody tr th {\n",
       "        vertical-align: top;\n",
       "    }\n",
       "\n",
       "    .dataframe thead th {\n",
       "        text-align: right;\n",
       "    }\n",
       "</style>\n",
       "<table border=\"1\" class=\"dataframe\">\n",
       "  <thead>\n",
       "    <tr style=\"text-align: right;\">\n",
       "      <th></th>\n",
       "      <th>Source</th>\n",
       "      <th>SS</th>\n",
       "      <th>DF1</th>\n",
       "      <th>DF2</th>\n",
       "      <th>MS</th>\n",
       "      <th>F</th>\n",
       "      <th>p-unc</th>\n",
       "      <th>p-GG-corr</th>\n",
       "      <th>np2</th>\n",
       "      <th>eps</th>\n",
       "      <th>sphericity</th>\n",
       "      <th>W-spher</th>\n",
       "      <th>p-spher</th>\n",
       "    </tr>\n",
       "  </thead>\n",
       "  <tbody>\n",
       "    <tr>\n",
       "      <th>0</th>\n",
       "      <td>Group</td>\n",
       "      <td>108.387825</td>\n",
       "      <td>3</td>\n",
       "      <td>190</td>\n",
       "      <td>36.129275</td>\n",
       "      <td>4.365820</td>\n",
       "      <td>0.005335</td>\n",
       "      <td>NaN</td>\n",
       "      <td>0.064489</td>\n",
       "      <td>NaN</td>\n",
       "      <td>NaN</td>\n",
       "      <td>NaN</td>\n",
       "      <td>NaN</td>\n",
       "    </tr>\n",
       "    <tr>\n",
       "      <th>1</th>\n",
       "      <td>Day</td>\n",
       "      <td>57654.954084</td>\n",
       "      <td>3</td>\n",
       "      <td>570</td>\n",
       "      <td>19218.318028</td>\n",
       "      <td>8775.140145</td>\n",
       "      <td>0.000000</td>\n",
       "      <td>6.529136e-230</td>\n",
       "      <td>0.978807</td>\n",
       "      <td>0.47879</td>\n",
       "      <td>False</td>\n",
       "      <td>0.120635</td>\n",
       "      <td>2.063638e-85</td>\n",
       "    </tr>\n",
       "    <tr>\n",
       "      <th>2</th>\n",
       "      <td>Interaction</td>\n",
       "      <td>77.021257</td>\n",
       "      <td>9</td>\n",
       "      <td>570</td>\n",
       "      <td>8.557917</td>\n",
       "      <td>3.907570</td>\n",
       "      <td>0.000078</td>\n",
       "      <td>NaN</td>\n",
       "      <td>0.058113</td>\n",
       "      <td>NaN</td>\n",
       "      <td>NaN</td>\n",
       "      <td>NaN</td>\n",
       "      <td>NaN</td>\n",
       "    </tr>\n",
       "  </tbody>\n",
       "</table>\n",
       "</div>"
      ],
      "text/plain": [
       "        Source            SS  DF1  DF2            MS            F     p-unc  \\\n",
       "0        Group    108.387825    3  190     36.129275     4.365820  0.005335   \n",
       "1          Day  57654.954084    3  570  19218.318028  8775.140145  0.000000   \n",
       "2  Interaction     77.021257    9  570      8.557917     3.907570  0.000078   \n",
       "\n",
       "       p-GG-corr       np2      eps sphericity   W-spher       p-spher  \n",
       "0            NaN  0.064489      NaN        NaN       NaN           NaN  \n",
       "1  6.529136e-230  0.978807  0.47879      False  0.120635  2.063638e-85  \n",
       "2            NaN  0.058113      NaN        NaN       NaN           NaN  "
      ]
     },
     "execution_count": 224,
     "metadata": {},
     "output_type": "execute_result"
    }
   ],
   "source": [
    "pg.mixed_anova(data = wght_05mg, dv = 'Weight', within = 'Day', between = 'Group', subject = 'ID', correction = True)"
   ]
  },
  {
   "cell_type": "code",
   "execution_count": 225,
   "metadata": {},
   "outputs": [
    {
     "data": {
      "text/html": [
       "<div>\n",
       "<style scoped>\n",
       "    .dataframe tbody tr th:only-of-type {\n",
       "        vertical-align: middle;\n",
       "    }\n",
       "\n",
       "    .dataframe tbody tr th {\n",
       "        vertical-align: top;\n",
       "    }\n",
       "\n",
       "    .dataframe thead th {\n",
       "        text-align: right;\n",
       "    }\n",
       "</style>\n",
       "<table border=\"1\" class=\"dataframe\">\n",
       "  <thead>\n",
       "    <tr style=\"text-align: right;\">\n",
       "      <th></th>\n",
       "      <th>Contrast</th>\n",
       "      <th>Day</th>\n",
       "      <th>A</th>\n",
       "      <th>B</th>\n",
       "      <th>Paired</th>\n",
       "      <th>Parametric</th>\n",
       "      <th>T</th>\n",
       "      <th>dof</th>\n",
       "      <th>Tail</th>\n",
       "      <th>p-unc</th>\n",
       "      <th>p-corr</th>\n",
       "      <th>p-adjust</th>\n",
       "      <th>BF10</th>\n",
       "      <th>hedges</th>\n",
       "    </tr>\n",
       "  </thead>\n",
       "  <tbody>\n",
       "    <tr>\n",
       "      <th>0</th>\n",
       "      <td>Day</td>\n",
       "      <td>-</td>\n",
       "      <td>5</td>\n",
       "      <td>10</td>\n",
       "      <td>True</td>\n",
       "      <td>True</td>\n",
       "      <td>-30.663763</td>\n",
       "      <td>193.000000</td>\n",
       "      <td>two-sided</td>\n",
       "      <td>4.091918e-76</td>\n",
       "      <td>4.091918e-76</td>\n",
       "      <td>holm</td>\n",
       "      <td>2.84e+72</td>\n",
       "      <td>-2.345199</td>\n",
       "    </tr>\n",
       "    <tr>\n",
       "      <th>1</th>\n",
       "      <td>Day</td>\n",
       "      <td>-</td>\n",
       "      <td>5</td>\n",
       "      <td>50</td>\n",
       "      <td>True</td>\n",
       "      <td>True</td>\n",
       "      <td>-89.004062</td>\n",
       "      <td>193.000000</td>\n",
       "      <td>two-sided</td>\n",
       "      <td>1.188884e-158</td>\n",
       "      <td>4.755537e-158</td>\n",
       "      <td>holm</td>\n",
       "      <td>3.119e+154</td>\n",
       "      <td>-8.566401</td>\n",
       "    </tr>\n",
       "    <tr>\n",
       "      <th>2</th>\n",
       "      <td>Day</td>\n",
       "      <td>-</td>\n",
       "      <td>5</td>\n",
       "      <td>90</td>\n",
       "      <td>True</td>\n",
       "      <td>True</td>\n",
       "      <td>-102.956251</td>\n",
       "      <td>193.000000</td>\n",
       "      <td>two-sided</td>\n",
       "      <td>1.320009e-170</td>\n",
       "      <td>7.920051e-170</td>\n",
       "      <td>holm</td>\n",
       "      <td>2.421e+166</td>\n",
       "      <td>-9.990389</td>\n",
       "    </tr>\n",
       "    <tr>\n",
       "      <th>3</th>\n",
       "      <td>Day</td>\n",
       "      <td>-</td>\n",
       "      <td>10</td>\n",
       "      <td>50</td>\n",
       "      <td>True</td>\n",
       "      <td>True</td>\n",
       "      <td>-88.523091</td>\n",
       "      <td>193.000000</td>\n",
       "      <td>two-sided</td>\n",
       "      <td>3.300005e-158</td>\n",
       "      <td>9.900016e-158</td>\n",
       "      <td>holm</td>\n",
       "      <td>1.13e+154</td>\n",
       "      <td>-7.208875</td>\n",
       "    </tr>\n",
       "    <tr>\n",
       "      <th>4</th>\n",
       "      <td>Day</td>\n",
       "      <td>-</td>\n",
       "      <td>10</td>\n",
       "      <td>90</td>\n",
       "      <td>True</td>\n",
       "      <td>True</td>\n",
       "      <td>-98.490307</td>\n",
       "      <td>193.000000</td>\n",
       "      <td>two-sided</td>\n",
       "      <td>5.868369e-167</td>\n",
       "      <td>2.934185e-166</td>\n",
       "      <td>holm</td>\n",
       "      <td>5.697e+162</td>\n",
       "      <td>-8.645304</td>\n",
       "    </tr>\n",
       "    <tr>\n",
       "      <th>5</th>\n",
       "      <td>Day</td>\n",
       "      <td>-</td>\n",
       "      <td>50</td>\n",
       "      <td>90</td>\n",
       "      <td>True</td>\n",
       "      <td>True</td>\n",
       "      <td>-36.959310</td>\n",
       "      <td>193.000000</td>\n",
       "      <td>two-sided</td>\n",
       "      <td>1.713427e-89</td>\n",
       "      <td>3.426855e-89</td>\n",
       "      <td>holm</td>\n",
       "      <td>5.488e+85</td>\n",
       "      <td>-1.352837</td>\n",
       "    </tr>\n",
       "    <tr>\n",
       "      <th>6</th>\n",
       "      <td>Group</td>\n",
       "      <td>-</td>\n",
       "      <td>KO_Saline</td>\n",
       "      <td>WT_Saline</td>\n",
       "      <td>False</td>\n",
       "      <td>True</td>\n",
       "      <td>1.390882</td>\n",
       "      <td>66.345991</td>\n",
       "      <td>two-sided</td>\n",
       "      <td>1.689085e-01</td>\n",
       "      <td>6.756341e-01</td>\n",
       "      <td>holm</td>\n",
       "      <td>0.507</td>\n",
       "      <td>0.292152</td>\n",
       "    </tr>\n",
       "    <tr>\n",
       "      <th>7</th>\n",
       "      <td>Group</td>\n",
       "      <td>-</td>\n",
       "      <td>KO_Saline</td>\n",
       "      <td>KO_MK-801</td>\n",
       "      <td>False</td>\n",
       "      <td>True</td>\n",
       "      <td>3.349582</td>\n",
       "      <td>128.279475</td>\n",
       "      <td>two-sided</td>\n",
       "      <td>1.063076e-03</td>\n",
       "      <td>6.378459e-03</td>\n",
       "      <td>holm</td>\n",
       "      <td>26.916</td>\n",
       "      <td>0.580955</td>\n",
       "    </tr>\n",
       "    <tr>\n",
       "      <th>8</th>\n",
       "      <td>Group</td>\n",
       "      <td>-</td>\n",
       "      <td>KO_Saline</td>\n",
       "      <td>WT_MK-801</td>\n",
       "      <td>False</td>\n",
       "      <td>True</td>\n",
       "      <td>2.553713</td>\n",
       "      <td>42.431020</td>\n",
       "      <td>two-sided</td>\n",
       "      <td>1.433703e-02</td>\n",
       "      <td>7.168515e-02</td>\n",
       "      <td>holm</td>\n",
       "      <td>3.804</td>\n",
       "      <td>0.604245</td>\n",
       "    </tr>\n",
       "    <tr>\n",
       "      <th>9</th>\n",
       "      <td>Group</td>\n",
       "      <td>-</td>\n",
       "      <td>WT_Saline</td>\n",
       "      <td>KO_MK-801</td>\n",
       "      <td>False</td>\n",
       "      <td>True</td>\n",
       "      <td>1.323706</td>\n",
       "      <td>70.861915</td>\n",
       "      <td>two-sided</td>\n",
       "      <td>1.898553e-01</td>\n",
       "      <td>6.756341e-01</td>\n",
       "      <td>holm</td>\n",
       "      <td>0.472</td>\n",
       "      <td>0.275981</td>\n",
       "    </tr>\n",
       "    <tr>\n",
       "      <th>10</th>\n",
       "      <td>Group</td>\n",
       "      <td>-</td>\n",
       "      <td>WT_Saline</td>\n",
       "      <td>WT_MK-801</td>\n",
       "      <td>False</td>\n",
       "      <td>True</td>\n",
       "      <td>1.145043</td>\n",
       "      <td>54.320205</td>\n",
       "      <td>two-sided</td>\n",
       "      <td>2.572116e-01</td>\n",
       "      <td>6.756341e-01</td>\n",
       "      <td>holm</td>\n",
       "      <td>0.453</td>\n",
       "      <td>0.290555</td>\n",
       "    </tr>\n",
       "    <tr>\n",
       "      <th>11</th>\n",
       "      <td>Group</td>\n",
       "      <td>-</td>\n",
       "      <td>KO_MK-801</td>\n",
       "      <td>WT_MK-801</td>\n",
       "      <td>False</td>\n",
       "      <td>True</td>\n",
       "      <td>0.088348</td>\n",
       "      <td>45.546626</td>\n",
       "      <td>two-sided</td>\n",
       "      <td>9.299876e-01</td>\n",
       "      <td>9.299876e-01</td>\n",
       "      <td>holm</td>\n",
       "      <td>0.241</td>\n",
       "      <td>0.020551</td>\n",
       "    </tr>\n",
       "    <tr>\n",
       "      <th>12</th>\n",
       "      <td>Day * Group</td>\n",
       "      <td>5</td>\n",
       "      <td>KO_Saline</td>\n",
       "      <td>WT_Saline</td>\n",
       "      <td>False</td>\n",
       "      <td>True</td>\n",
       "      <td>-1.352602</td>\n",
       "      <td>82.767373</td>\n",
       "      <td>two-sided</td>\n",
       "      <td>1.798667e-01</td>\n",
       "      <td>1.000000e+00</td>\n",
       "      <td>holm</td>\n",
       "      <td>0.484</td>\n",
       "      <td>-0.262388</td>\n",
       "    </tr>\n",
       "    <tr>\n",
       "      <th>13</th>\n",
       "      <td>Day * Group</td>\n",
       "      <td>5</td>\n",
       "      <td>KO_Saline</td>\n",
       "      <td>KO_MK-801</td>\n",
       "      <td>False</td>\n",
       "      <td>True</td>\n",
       "      <td>-2.245058</td>\n",
       "      <td>125.590580</td>\n",
       "      <td>two-sided</td>\n",
       "      <td>2.651370e-02</td>\n",
       "      <td>4.242192e-01</td>\n",
       "      <td>holm</td>\n",
       "      <td>1.803</td>\n",
       "      <td>-0.385816</td>\n",
       "    </tr>\n",
       "    <tr>\n",
       "      <th>14</th>\n",
       "      <td>Day * Group</td>\n",
       "      <td>5</td>\n",
       "      <td>KO_Saline</td>\n",
       "      <td>WT_MK-801</td>\n",
       "      <td>False</td>\n",
       "      <td>True</td>\n",
       "      <td>-2.851450</td>\n",
       "      <td>66.227440</td>\n",
       "      <td>two-sided</td>\n",
       "      <td>5.798243e-03</td>\n",
       "      <td>1.043684e-01</td>\n",
       "      <td>holm</td>\n",
       "      <td>7.418</td>\n",
       "      <td>-0.552497</td>\n",
       "    </tr>\n",
       "    <tr>\n",
       "      <th>15</th>\n",
       "      <td>Day * Group</td>\n",
       "      <td>5</td>\n",
       "      <td>WT_Saline</td>\n",
       "      <td>KO_MK-801</td>\n",
       "      <td>False</td>\n",
       "      <td>True</td>\n",
       "      <td>-0.575383</td>\n",
       "      <td>67.986211</td>\n",
       "      <td>two-sided</td>\n",
       "      <td>5.669320e-01</td>\n",
       "      <td>1.000000e+00</td>\n",
       "      <td>holm</td>\n",
       "      <td>0.253</td>\n",
       "      <td>-0.121632</td>\n",
       "    </tr>\n",
       "    <tr>\n",
       "      <th>16</th>\n",
       "      <td>Day * Group</td>\n",
       "      <td>5</td>\n",
       "      <td>WT_Saline</td>\n",
       "      <td>WT_MK-801</td>\n",
       "      <td>False</td>\n",
       "      <td>True</td>\n",
       "      <td>-1.363636</td>\n",
       "      <td>59.116699</td>\n",
       "      <td>two-sided</td>\n",
       "      <td>1.778524e-01</td>\n",
       "      <td>1.000000e+00</td>\n",
       "      <td>holm</td>\n",
       "      <td>0.57</td>\n",
       "      <td>-0.335050</td>\n",
       "    </tr>\n",
       "    <tr>\n",
       "      <th>17</th>\n",
       "      <td>Day * Group</td>\n",
       "      <td>5</td>\n",
       "      <td>KO_MK-801</td>\n",
       "      <td>WT_MK-801</td>\n",
       "      <td>False</td>\n",
       "      <td>True</td>\n",
       "      <td>-1.004662</td>\n",
       "      <td>52.498427</td>\n",
       "      <td>two-sided</td>\n",
       "      <td>3.196678e-01</td>\n",
       "      <td>1.000000e+00</td>\n",
       "      <td>holm</td>\n",
       "      <td>0.371</td>\n",
       "      <td>-0.219210</td>\n",
       "    </tr>\n",
       "    <tr>\n",
       "      <th>18</th>\n",
       "      <td>Day * Group</td>\n",
       "      <td>10</td>\n",
       "      <td>KO_Saline</td>\n",
       "      <td>WT_Saline</td>\n",
       "      <td>False</td>\n",
       "      <td>True</td>\n",
       "      <td>-0.292888</td>\n",
       "      <td>81.730644</td>\n",
       "      <td>two-sided</td>\n",
       "      <td>7.703500e-01</td>\n",
       "      <td>1.000000e+00</td>\n",
       "      <td>holm</td>\n",
       "      <td>0.225</td>\n",
       "      <td>-0.057084</td>\n",
       "    </tr>\n",
       "    <tr>\n",
       "      <th>19</th>\n",
       "      <td>Day * Group</td>\n",
       "      <td>10</td>\n",
       "      <td>KO_Saline</td>\n",
       "      <td>KO_MK-801</td>\n",
       "      <td>False</td>\n",
       "      <td>True</td>\n",
       "      <td>5.157674</td>\n",
       "      <td>129.272243</td>\n",
       "      <td>two-sided</td>\n",
       "      <td>9.153967e-07</td>\n",
       "      <td>2.196952e-05</td>\n",
       "      <td>holm</td>\n",
       "      <td>1.537e+04</td>\n",
       "      <td>0.889365</td>\n",
       "    </tr>\n",
       "    <tr>\n",
       "      <th>20</th>\n",
       "      <td>Day * Group</td>\n",
       "      <td>10</td>\n",
       "      <td>KO_Saline</td>\n",
       "      <td>WT_MK-801</td>\n",
       "      <td>False</td>\n",
       "      <td>True</td>\n",
       "      <td>3.747043</td>\n",
       "      <td>64.754219</td>\n",
       "      <td>two-sided</td>\n",
       "      <td>3.833698e-04</td>\n",
       "      <td>8.434136e-03</td>\n",
       "      <td>holm</td>\n",
       "      <td>81.36</td>\n",
       "      <td>0.732614</td>\n",
       "    </tr>\n",
       "    <tr>\n",
       "      <th>21</th>\n",
       "      <td>Day * Group</td>\n",
       "      <td>10</td>\n",
       "      <td>WT_Saline</td>\n",
       "      <td>KO_MK-801</td>\n",
       "      <td>False</td>\n",
       "      <td>True</td>\n",
       "      <td>4.995657</td>\n",
       "      <td>73.968818</td>\n",
       "      <td>two-sided</td>\n",
       "      <td>3.800259e-06</td>\n",
       "      <td>8.740596e-05</td>\n",
       "      <td>holm</td>\n",
       "      <td>5872.661</td>\n",
       "      <td>1.026654</td>\n",
       "    </tr>\n",
       "    <tr>\n",
       "      <th>22</th>\n",
       "      <td>Day * Group</td>\n",
       "      <td>10</td>\n",
       "      <td>WT_Saline</td>\n",
       "      <td>WT_MK-801</td>\n",
       "      <td>False</td>\n",
       "      <td>True</td>\n",
       "      <td>3.746785</td>\n",
       "      <td>59.015092</td>\n",
       "      <td>two-sided</td>\n",
       "      <td>4.092686e-04</td>\n",
       "      <td>8.594641e-03</td>\n",
       "      <td>holm</td>\n",
       "      <td>66.405</td>\n",
       "      <td>0.921593</td>\n",
       "    </tr>\n",
       "    <tr>\n",
       "      <th>23</th>\n",
       "      <td>Day * Group</td>\n",
       "      <td>10</td>\n",
       "      <td>KO_MK-801</td>\n",
       "      <td>WT_MK-801</td>\n",
       "      <td>False</td>\n",
       "      <td>True</td>\n",
       "      <td>-0.890807</td>\n",
       "      <td>57.595763</td>\n",
       "      <td>two-sided</td>\n",
       "      <td>3.767389e-01</td>\n",
       "      <td>1.000000e+00</td>\n",
       "      <td>holm</td>\n",
       "      <td>0.338</td>\n",
       "      <td>-0.186996</td>\n",
       "    </tr>\n",
       "    <tr>\n",
       "      <th>24</th>\n",
       "      <td>Day * Group</td>\n",
       "      <td>50</td>\n",
       "      <td>KO_Saline</td>\n",
       "      <td>WT_Saline</td>\n",
       "      <td>False</td>\n",
       "      <td>True</td>\n",
       "      <td>1.632635</td>\n",
       "      <td>66.092815</td>\n",
       "      <td>two-sided</td>\n",
       "      <td>1.073014e-01</td>\n",
       "      <td>1.000000e+00</td>\n",
       "      <td>holm</td>\n",
       "      <td>0.698</td>\n",
       "      <td>0.343405</td>\n",
       "    </tr>\n",
       "    <tr>\n",
       "      <th>25</th>\n",
       "      <td>Day * Group</td>\n",
       "      <td>50</td>\n",
       "      <td>KO_Saline</td>\n",
       "      <td>KO_MK-801</td>\n",
       "      <td>False</td>\n",
       "      <td>True</td>\n",
       "      <td>3.115966</td>\n",
       "      <td>123.260667</td>\n",
       "      <td>two-sided</td>\n",
       "      <td>2.281284e-03</td>\n",
       "      <td>4.562568e-02</td>\n",
       "      <td>holm</td>\n",
       "      <td>14.014</td>\n",
       "      <td>0.542402</td>\n",
       "    </tr>\n",
       "    <tr>\n",
       "      <th>26</th>\n",
       "      <td>Day * Group</td>\n",
       "      <td>50</td>\n",
       "      <td>KO_Saline</td>\n",
       "      <td>WT_MK-801</td>\n",
       "      <td>False</td>\n",
       "      <td>True</td>\n",
       "      <td>3.037564</td>\n",
       "      <td>43.437903</td>\n",
       "      <td>two-sided</td>\n",
       "      <td>4.024995e-03</td>\n",
       "      <td>7.647490e-02</td>\n",
       "      <td>holm</td>\n",
       "      <td>11.647</td>\n",
       "      <td>0.709820</td>\n",
       "    </tr>\n",
       "    <tr>\n",
       "      <th>27</th>\n",
       "      <td>Day * Group</td>\n",
       "      <td>50</td>\n",
       "      <td>WT_Saline</td>\n",
       "      <td>KO_MK-801</td>\n",
       "      <td>False</td>\n",
       "      <td>True</td>\n",
       "      <td>1.024725</td>\n",
       "      <td>78.051036</td>\n",
       "      <td>two-sided</td>\n",
       "      <td>3.086584e-01</td>\n",
       "      <td>1.000000e+00</td>\n",
       "      <td>holm</td>\n",
       "      <td>0.347</td>\n",
       "      <td>0.206754</td>\n",
       "    </tr>\n",
       "    <tr>\n",
       "      <th>28</th>\n",
       "      <td>Day * Group</td>\n",
       "      <td>50</td>\n",
       "      <td>WT_Saline</td>\n",
       "      <td>WT_MK-801</td>\n",
       "      <td>False</td>\n",
       "      <td>True</td>\n",
       "      <td>1.339019</td>\n",
       "      <td>55.305134</td>\n",
       "      <td>two-sided</td>\n",
       "      <td>1.860422e-01</td>\n",
       "      <td>1.000000e+00</td>\n",
       "      <td>holm</td>\n",
       "      <td>0.554</td>\n",
       "      <td>0.337991</td>\n",
       "    </tr>\n",
       "    <tr>\n",
       "      <th>29</th>\n",
       "      <td>Day * Group</td>\n",
       "      <td>50</td>\n",
       "      <td>KO_MK-801</td>\n",
       "      <td>WT_MK-801</td>\n",
       "      <td>False</td>\n",
       "      <td>True</td>\n",
       "      <td>0.499181</td>\n",
       "      <td>52.383741</td>\n",
       "      <td>two-sided</td>\n",
       "      <td>6.197418e-01</td>\n",
       "      <td>1.000000e+00</td>\n",
       "      <td>holm</td>\n",
       "      <td>0.268</td>\n",
       "      <td>0.109020</td>\n",
       "    </tr>\n",
       "    <tr>\n",
       "      <th>30</th>\n",
       "      <td>Day * Group</td>\n",
       "      <td>90</td>\n",
       "      <td>KO_Saline</td>\n",
       "      <td>WT_Saline</td>\n",
       "      <td>False</td>\n",
       "      <td>True</td>\n",
       "      <td>1.826987</td>\n",
       "      <td>68.500119</td>\n",
       "      <td>two-sided</td>\n",
       "      <td>7.205833e-02</td>\n",
       "      <td>1.000000e+00</td>\n",
       "      <td>holm</td>\n",
       "      <td>0.936</td>\n",
       "      <td>0.379382</td>\n",
       "    </tr>\n",
       "    <tr>\n",
       "      <th>31</th>\n",
       "      <td>Day * Group</td>\n",
       "      <td>90</td>\n",
       "      <td>KO_Saline</td>\n",
       "      <td>KO_MK-801</td>\n",
       "      <td>False</td>\n",
       "      <td>True</td>\n",
       "      <td>2.709813</td>\n",
       "      <td>129.652136</td>\n",
       "      <td>two-sided</td>\n",
       "      <td>7.642839e-03</td>\n",
       "      <td>1.299283e-01</td>\n",
       "      <td>holm</td>\n",
       "      <td>4.988</td>\n",
       "      <td>0.469073</td>\n",
       "    </tr>\n",
       "    <tr>\n",
       "      <th>32</th>\n",
       "      <td>Day * Group</td>\n",
       "      <td>90</td>\n",
       "      <td>KO_Saline</td>\n",
       "      <td>WT_MK-801</td>\n",
       "      <td>False</td>\n",
       "      <td>True</td>\n",
       "      <td>1.872298</td>\n",
       "      <td>39.015749</td>\n",
       "      <td>two-sided</td>\n",
       "      <td>6.867424e-02</td>\n",
       "      <td>1.000000e+00</td>\n",
       "      <td>holm</td>\n",
       "      <td>1.07</td>\n",
       "      <td>0.464615</td>\n",
       "    </tr>\n",
       "    <tr>\n",
       "      <th>33</th>\n",
       "      <td>Day * Group</td>\n",
       "      <td>90</td>\n",
       "      <td>WT_Saline</td>\n",
       "      <td>KO_MK-801</td>\n",
       "      <td>False</td>\n",
       "      <td>True</td>\n",
       "      <td>0.377931</td>\n",
       "      <td>69.252168</td>\n",
       "      <td>two-sided</td>\n",
       "      <td>7.066375e-01</td>\n",
       "      <td>1.000000e+00</td>\n",
       "      <td>holm</td>\n",
       "      <td>0.233</td>\n",
       "      <td>0.079402</td>\n",
       "    </tr>\n",
       "    <tr>\n",
       "      <th>34</th>\n",
       "      <td>Day * Group</td>\n",
       "      <td>90</td>\n",
       "      <td>WT_Saline</td>\n",
       "      <td>WT_MK-801</td>\n",
       "      <td>False</td>\n",
       "      <td>True</td>\n",
       "      <td>0.364730</td>\n",
       "      <td>49.452904</td>\n",
       "      <td>two-sided</td>\n",
       "      <td>7.168683e-01</td>\n",
       "      <td>1.000000e+00</td>\n",
       "      <td>holm</td>\n",
       "      <td>0.277</td>\n",
       "      <td>0.094747</td>\n",
       "    </tr>\n",
       "    <tr>\n",
       "      <th>35</th>\n",
       "      <td>Day * Group</td>\n",
       "      <td>90</td>\n",
       "      <td>KO_MK-801</td>\n",
       "      <td>WT_MK-801</td>\n",
       "      <td>False</td>\n",
       "      <td>True</td>\n",
       "      <td>0.097589</td>\n",
       "      <td>39.562568</td>\n",
       "      <td>two-sided</td>\n",
       "      <td>9.227511e-01</td>\n",
       "      <td>1.000000e+00</td>\n",
       "      <td>holm</td>\n",
       "      <td>0.241</td>\n",
       "      <td>0.024401</td>\n",
       "    </tr>\n",
       "  </tbody>\n",
       "</table>\n",
       "</div>"
      ],
      "text/plain": [
       "       Contrast Day          A          B Paired  Parametric           T  \\\n",
       "0           Day   -          5         10   True        True  -30.663763   \n",
       "1           Day   -          5         50   True        True  -89.004062   \n",
       "2           Day   -          5         90   True        True -102.956251   \n",
       "3           Day   -         10         50   True        True  -88.523091   \n",
       "4           Day   -         10         90   True        True  -98.490307   \n",
       "5           Day   -         50         90   True        True  -36.959310   \n",
       "6         Group   -  KO_Saline  WT_Saline  False        True    1.390882   \n",
       "7         Group   -  KO_Saline  KO_MK-801  False        True    3.349582   \n",
       "8         Group   -  KO_Saline  WT_MK-801  False        True    2.553713   \n",
       "9         Group   -  WT_Saline  KO_MK-801  False        True    1.323706   \n",
       "10        Group   -  WT_Saline  WT_MK-801  False        True    1.145043   \n",
       "11        Group   -  KO_MK-801  WT_MK-801  False        True    0.088348   \n",
       "12  Day * Group   5  KO_Saline  WT_Saline  False        True   -1.352602   \n",
       "13  Day * Group   5  KO_Saline  KO_MK-801  False        True   -2.245058   \n",
       "14  Day * Group   5  KO_Saline  WT_MK-801  False        True   -2.851450   \n",
       "15  Day * Group   5  WT_Saline  KO_MK-801  False        True   -0.575383   \n",
       "16  Day * Group   5  WT_Saline  WT_MK-801  False        True   -1.363636   \n",
       "17  Day * Group   5  KO_MK-801  WT_MK-801  False        True   -1.004662   \n",
       "18  Day * Group  10  KO_Saline  WT_Saline  False        True   -0.292888   \n",
       "19  Day * Group  10  KO_Saline  KO_MK-801  False        True    5.157674   \n",
       "20  Day * Group  10  KO_Saline  WT_MK-801  False        True    3.747043   \n",
       "21  Day * Group  10  WT_Saline  KO_MK-801  False        True    4.995657   \n",
       "22  Day * Group  10  WT_Saline  WT_MK-801  False        True    3.746785   \n",
       "23  Day * Group  10  KO_MK-801  WT_MK-801  False        True   -0.890807   \n",
       "24  Day * Group  50  KO_Saline  WT_Saline  False        True    1.632635   \n",
       "25  Day * Group  50  KO_Saline  KO_MK-801  False        True    3.115966   \n",
       "26  Day * Group  50  KO_Saline  WT_MK-801  False        True    3.037564   \n",
       "27  Day * Group  50  WT_Saline  KO_MK-801  False        True    1.024725   \n",
       "28  Day * Group  50  WT_Saline  WT_MK-801  False        True    1.339019   \n",
       "29  Day * Group  50  KO_MK-801  WT_MK-801  False        True    0.499181   \n",
       "30  Day * Group  90  KO_Saline  WT_Saline  False        True    1.826987   \n",
       "31  Day * Group  90  KO_Saline  KO_MK-801  False        True    2.709813   \n",
       "32  Day * Group  90  KO_Saline  WT_MK-801  False        True    1.872298   \n",
       "33  Day * Group  90  WT_Saline  KO_MK-801  False        True    0.377931   \n",
       "34  Day * Group  90  WT_Saline  WT_MK-801  False        True    0.364730   \n",
       "35  Day * Group  90  KO_MK-801  WT_MK-801  False        True    0.097589   \n",
       "\n",
       "           dof       Tail          p-unc         p-corr p-adjust        BF10  \\\n",
       "0   193.000000  two-sided   4.091918e-76   4.091918e-76     holm    2.84e+72   \n",
       "1   193.000000  two-sided  1.188884e-158  4.755537e-158     holm  3.119e+154   \n",
       "2   193.000000  two-sided  1.320009e-170  7.920051e-170     holm  2.421e+166   \n",
       "3   193.000000  two-sided  3.300005e-158  9.900016e-158     holm   1.13e+154   \n",
       "4   193.000000  two-sided  5.868369e-167  2.934185e-166     holm  5.697e+162   \n",
       "5   193.000000  two-sided   1.713427e-89   3.426855e-89     holm   5.488e+85   \n",
       "6    66.345991  two-sided   1.689085e-01   6.756341e-01     holm       0.507   \n",
       "7   128.279475  two-sided   1.063076e-03   6.378459e-03     holm      26.916   \n",
       "8    42.431020  two-sided   1.433703e-02   7.168515e-02     holm       3.804   \n",
       "9    70.861915  two-sided   1.898553e-01   6.756341e-01     holm       0.472   \n",
       "10   54.320205  two-sided   2.572116e-01   6.756341e-01     holm       0.453   \n",
       "11   45.546626  two-sided   9.299876e-01   9.299876e-01     holm       0.241   \n",
       "12   82.767373  two-sided   1.798667e-01   1.000000e+00     holm       0.484   \n",
       "13  125.590580  two-sided   2.651370e-02   4.242192e-01     holm       1.803   \n",
       "14   66.227440  two-sided   5.798243e-03   1.043684e-01     holm       7.418   \n",
       "15   67.986211  two-sided   5.669320e-01   1.000000e+00     holm       0.253   \n",
       "16   59.116699  two-sided   1.778524e-01   1.000000e+00     holm        0.57   \n",
       "17   52.498427  two-sided   3.196678e-01   1.000000e+00     holm       0.371   \n",
       "18   81.730644  two-sided   7.703500e-01   1.000000e+00     holm       0.225   \n",
       "19  129.272243  two-sided   9.153967e-07   2.196952e-05     holm   1.537e+04   \n",
       "20   64.754219  two-sided   3.833698e-04   8.434136e-03     holm       81.36   \n",
       "21   73.968818  two-sided   3.800259e-06   8.740596e-05     holm    5872.661   \n",
       "22   59.015092  two-sided   4.092686e-04   8.594641e-03     holm      66.405   \n",
       "23   57.595763  two-sided   3.767389e-01   1.000000e+00     holm       0.338   \n",
       "24   66.092815  two-sided   1.073014e-01   1.000000e+00     holm       0.698   \n",
       "25  123.260667  two-sided   2.281284e-03   4.562568e-02     holm      14.014   \n",
       "26   43.437903  two-sided   4.024995e-03   7.647490e-02     holm      11.647   \n",
       "27   78.051036  two-sided   3.086584e-01   1.000000e+00     holm       0.347   \n",
       "28   55.305134  two-sided   1.860422e-01   1.000000e+00     holm       0.554   \n",
       "29   52.383741  two-sided   6.197418e-01   1.000000e+00     holm       0.268   \n",
       "30   68.500119  two-sided   7.205833e-02   1.000000e+00     holm       0.936   \n",
       "31  129.652136  two-sided   7.642839e-03   1.299283e-01     holm       4.988   \n",
       "32   39.015749  two-sided   6.867424e-02   1.000000e+00     holm        1.07   \n",
       "33   69.252168  two-sided   7.066375e-01   1.000000e+00     holm       0.233   \n",
       "34   49.452904  two-sided   7.168683e-01   1.000000e+00     holm       0.277   \n",
       "35   39.562568  two-sided   9.227511e-01   1.000000e+00     holm       0.241   \n",
       "\n",
       "      hedges  \n",
       "0  -2.345199  \n",
       "1  -8.566401  \n",
       "2  -9.990389  \n",
       "3  -7.208875  \n",
       "4  -8.645304  \n",
       "5  -1.352837  \n",
       "6   0.292152  \n",
       "7   0.580955  \n",
       "8   0.604245  \n",
       "9   0.275981  \n",
       "10  0.290555  \n",
       "11  0.020551  \n",
       "12 -0.262388  \n",
       "13 -0.385816  \n",
       "14 -0.552497  \n",
       "15 -0.121632  \n",
       "16 -0.335050  \n",
       "17 -0.219210  \n",
       "18 -0.057084  \n",
       "19  0.889365  \n",
       "20  0.732614  \n",
       "21  1.026654  \n",
       "22  0.921593  \n",
       "23 -0.186996  \n",
       "24  0.343405  \n",
       "25  0.542402  \n",
       "26  0.709820  \n",
       "27  0.206754  \n",
       "28  0.337991  \n",
       "29  0.109020  \n",
       "30  0.379382  \n",
       "31  0.469073  \n",
       "32  0.464615  \n",
       "33  0.079402  \n",
       "34  0.094747  \n",
       "35  0.024401  "
      ]
     },
     "execution_count": 225,
     "metadata": {},
     "output_type": "execute_result"
    }
   ],
   "source": [
    "pg.pairwise_ttests(data = wght_05mg, dv = 'Weight', within = 'Day', between = 'Group', subject = 'ID', marginal = True, padjust = 'holm')"
   ]
  },
  {
   "cell_type": "code",
   "execution_count": 279,
   "metadata": {},
   "outputs": [
    {
     "data": {
      "text/plain": [
       "<matplotlib.legend.Legend at 0x1357dbd60>"
      ]
     },
     "execution_count": 279,
     "metadata": {},
     "output_type": "execute_result"
    },
    {
     "data": {
      "image/png": "[encoded data removed]",
      "text/plain": [
       "<Figure size 252x144 with 1 Axes>"
      ]
     },
     "metadata": {
      "needs_background": "light"
     },
     "output_type": "display_data"
    }
   ],
   "source": [
    "all_grwt_paper = plt.figure(figsize=(3.5,2))\n",
    "sns.boxplot(data = mk_g05[(mk_g05['Dosage (mg/kg)']==0.5) & (mk_g05['Genotype']!= 'HE') & (mk_g['Day'].isin([5, 10, 50, 90]))], x ='Day', y='Weight', hue='Group', hue_order =['WT_Saline', 'WT_MK-801', 'KO_Saline', 'KO_MK-801'] , palette=['royalblue', 'steelblue', 'forestgreen', 'darkseagreen'], width = 0.5, showmeans = True, meanprops={\"marker\":\"+\", \"markeredgecolor\":\"k\"}, showfliers = False)\n",
    "sns.despine()\n",
    "#plt.title('Weight 0.5 mg/kg')\n",
    "plt.ylabel('Weight (g)')\n",
    "plt.minorticks_on()\n",
    "plt.annotate(s='***', xy=(0.41, 0.35), xycoords='axes fraction', xytext=(0, 2), textcoords='offset points', ha = 'center', arrowprops=dict(arrowstyle='-[, widthB=.4, lengthB=.2', lw=1.5, color='k'), fontsize = 8)\n",
    "plt.annotate(s='***', xy=(0.38, 0.45), xycoords='axes fraction', xytext=(0, 2), textcoords='offset points', ha = 'center', arrowprops=dict(arrowstyle='-[, widthB=0.9, lengthB=.2', lw=1.5, color='k'), fontsize = 8)\n",
    "plt.annotate(s='**', xy=(0.34, 0.26), xycoords='axes fraction', xytext=(0, 2), textcoords='offset points', ha = 'center', arrowprops=dict(arrowstyle='-[, widthB=.3, lengthB=.2', lw=1.5, color='k'), fontsize = 8)\n",
    "plt.annotate(s='**', xy=(0.38, 0.26), xycoords='axes fraction', xytext=(0, 2), textcoords='offset points', ha = 'center', arrowprops=dict(arrowstyle='-[, widthB=.3, lengthB=.2', lw=1.5, color='k'), fontsize = 8)\n",
    "\n",
    "\n",
    "plt.annotate(s='*', xy=(0.66, 0.9), xycoords='axes fraction', xytext=(0, 2), textcoords='offset points', ha = 'center', arrowprops=dict(arrowstyle='-[, widthB=.4, lengthB=.2', lw=1.5, color='k'), fontsize = 8)\n",
    "plt.legend('')"
   ]
  },
  {
   "cell_type": "code",
   "execution_count": 281,
   "metadata": {},
   "outputs": [],
   "source": [
    "all_grwt_paper.savefig('/Users/labc02/Documents/PDCB_data/MK-project/Figures/all_grwt_paper.svg')"
   ]
  },
  {
   "cell_type": "markdown",
   "metadata": {},
   "source": [
    "## Nesting"
   ]
  },
  {
   "cell_type": "code",
   "execution_count": 232,
   "metadata": {},
   "outputs": [],
   "source": [
    "nest_r = pd.read_csv('/Users/labc02/Documents/PDCB_data/MK-project/Nesting_Data_Final.csv')"
   ]
  },
  {
   "cell_type": "code",
   "execution_count": 233,
   "metadata": {},
   "outputs": [
    {
     "data": {
      "text/plain": [
       "array(['MK-801', 'Saline'], dtype=object)"
      ]
     },
     "execution_count": 233,
     "metadata": {},
     "output_type": "execute_result"
    }
   ],
   "source": [
    "nest_r['Tx'].unique()"
   ]
  },
  {
   "cell_type": "code",
   "execution_count": 255,
   "metadata": {},
   "outputs": [
    {
     "data": {
      "text/plain": [
       "Genotype  Tx      Dose (mg/Kg)\n",
       "HE        MK-801  1.0              6\n",
       "          Saline  1.0              6\n",
       "KO        MK-801  0.5             22\n",
       "                  1.0              3\n",
       "          Saline  1.0             32\n",
       "WT        MK-801  0.5             19\n",
       "                  1.0             21\n",
       "          Saline  1.0             26\n",
       "Name: Sub, dtype: int64"
      ]
     },
     "execution_count": 255,
     "metadata": {},
     "output_type": "execute_result"
    }
   ],
   "source": [
    "nest_r.groupby(['Genotype', 'Tx', 'Dose (mg/Kg)'])['Sub'].count()"
   ]
  },
  {
   "cell_type": "code",
   "execution_count": 235,
   "metadata": {},
   "outputs": [],
   "source": [
    "nest_r['Group'] = nest_r['Genotype']+'_'+nest_r['Tx']+'_'+nest_r['Dose (mg/Kg)'].astype(str)"
   ]
  },
  {
   "cell_type": "code",
   "execution_count": 284,
   "metadata": {},
   "outputs": [
    {
     "data": {
      "text/plain": [
       "<matplotlib.legend.Legend at 0x122c2c5b0>"
      ]
     },
     "execution_count": 284,
     "metadata": {},
     "output_type": "execute_result"
    },
    {
     "data": {
      "image/png": "[encoded data removed]",
      "text/plain": [
       "<Figure size 432x288 with 1 Axes>"
      ]
     },
     "metadata": {
      "needs_background": "light"
     },
     "output_type": "display_data"
    }
   ],
   "source": [
    "sns.boxplot(data=nest_r[nest_r['Dose (mg/Kg)']==1], x='Tx', y='Nesting Score', hue='Genotype', hue_order = ['KO', 'WT', 'HE'], showmeans=True, meanprops={'marker':'+', 'markeredgecolor':'k'}, width=0.3, palette=['forestgreen', 'royalblue', 'gold'])\n",
    "plt.title('Nesting Score 1mg/kg')\n",
    "plt.legend(loc=4)\n"
   ]
  },
  {
   "cell_type": "markdown",
   "metadata": {},
   "source": [
    "### Nesting: Effects of MK-801 on WT mice"
   ]
  },
  {
   "cell_type": "code",
   "execution_count": 366,
   "metadata": {},
   "outputs": [
    {
     "data": {
      "text/plain": [
       "array(['WT_MK-801_1.0', 'WT_Saline_1.0', 'WT_MK-801_0.5'], dtype=object)"
      ]
     },
     "execution_count": 366,
     "metadata": {},
     "output_type": "execute_result"
    }
   ],
   "source": [
    "nest_r[nest_r['Genotype'] == 'WT']['Group'].unique()"
   ]
  },
  {
   "cell_type": "code",
   "execution_count": 708,
   "metadata": {},
   "outputs": [
    {
     "data": {
      "text/plain": [
       "Text(0, 4, '**')"
      ]
     },
     "execution_count": 708,
     "metadata": {},
     "output_type": "execute_result"
    },
    {
     "data": {
      "image/png": "[encoded data removed]",
      "text/plain": [
       "<Figure size 432x288 with 1 Axes>"
      ]
     },
     "metadata": {
      "needs_background": "light"
     },
     "output_type": "display_data"
    }
   ],
   "source": [
    "wt_nest_fig = plt.figure(figsize=(6,4))\n",
    "ax = plt.subplot()\n",
    "sns.boxplot(data=nest_r[nest_r['Genotype']=='WT'], x='Group', y='Nesting Score', hue='Group', order = ['WT_Saline_1.0', 'WT_MK-801_0.5', 'WT_MK-801_1.0'], showmeans=True, meanprops={'marker':'+', 'markeredgecolor':'k'}, width=0.2, palette=['cornflowerblue', 'royalblue', 'steelblue'], showfliers = False, ax = ax, dodge = False)\n",
    "sns.despine()\n",
    "labels = ['Control', 'MK-801 \\n(0.5 mg/kg)', 'MK-801 \\n(1 mg/kg)']\n",
    "ax.set_xticklabels(labels)\n",
    "plt.xlabel('')\n",
    "plt.legend([],[], frameon=False)\n",
    "plt.annotate(s='**', xy=(167, 220), xycoords='axes points', xytext=(0, 4), textcoords='offset points', ha = 'center', arrowprops=dict(arrowstyle='-[, widthB=11.2, lengthB=.4', lw=1.5, color='k'), fontsize = 10)\n"
   ]
  },
  {
   "cell_type": "code",
   "execution_count": 709,
   "metadata": {},
   "outputs": [],
   "source": [
    "wt_nest_fig.savefig('/Users/labc02/Documents/PDCB_data/MK-project/Figures/wt_nesting_box.svg')"
   ]
  },
  {
   "cell_type": "code",
   "execution_count": 258,
   "metadata": {},
   "outputs": [],
   "source": [
    "out = pg.madmedianrule(nest_r[(nest_r['Genotype']=='WT')&(nest_r['Group']=='WT_Saline_1.0')]['Nesting Score'])\n",
    "idx = nest_r[(nest_r['Genotype']=='WT')&(nest_r['Group']=='WT_Saline_1.0')]['Nesting Score'].index.values\n",
    "\n",
    "nest_r.drop(index = idx[out], inplace = True)"
   ]
  },
  {
   "cell_type": "code",
   "execution_count": 262,
   "metadata": {},
   "outputs": [
    {
     "data": {
      "text/html": [
       "<div>\n",
       "<style scoped>\n",
       "    .dataframe tbody tr th:only-of-type {\n",
       "        vertical-align: middle;\n",
       "    }\n",
       "\n",
       "    .dataframe tbody tr th {\n",
       "        vertical-align: top;\n",
       "    }\n",
       "\n",
       "    .dataframe thead th {\n",
       "        text-align: right;\n",
       "    }\n",
       "</style>\n",
       "<table border=\"1\" class=\"dataframe\">\n",
       "  <thead>\n",
       "    <tr style=\"text-align: right;\">\n",
       "      <th></th>\n",
       "      <th>W</th>\n",
       "      <th>pval</th>\n",
       "      <th>normal</th>\n",
       "    </tr>\n",
       "  </thead>\n",
       "  <tbody>\n",
       "    <tr>\n",
       "      <th>WT_MK-801_1.0</th>\n",
       "      <td>0.778838</td>\n",
       "      <td>0.000317</td>\n",
       "      <td>False</td>\n",
       "    </tr>\n",
       "    <tr>\n",
       "      <th>WT_Saline_1.0</th>\n",
       "      <td>0.896246</td>\n",
       "      <td>0.015213</td>\n",
       "      <td>False</td>\n",
       "    </tr>\n",
       "    <tr>\n",
       "      <th>WT_MK-801_0.5</th>\n",
       "      <td>0.810629</td>\n",
       "      <td>0.001638</td>\n",
       "      <td>False</td>\n",
       "    </tr>\n",
       "  </tbody>\n",
       "</table>\n",
       "</div>"
      ],
      "text/plain": [
       "                      W      pval  normal\n",
       "WT_MK-801_1.0  0.778838  0.000317   False\n",
       "WT_Saline_1.0  0.896246  0.015213   False\n",
       "WT_MK-801_0.5  0.810629  0.001638   False"
      ]
     },
     "execution_count": 262,
     "metadata": {},
     "output_type": "execute_result"
    }
   ],
   "source": [
    "pg.normality(data = nest_r[nest_r['Genotype'] == 'WT'], dv = 'Nesting Score', group = 'Group')"
   ]
  },
  {
   "cell_type": "markdown",
   "metadata": {},
   "source": [
    "### Stats"
   ]
  },
  {
   "cell_type": "code",
   "execution_count": 263,
   "metadata": {},
   "outputs": [
    {
     "data": {
      "text/html": [
       "<div>\n",
       "<style scoped>\n",
       "    .dataframe tbody tr th:only-of-type {\n",
       "        vertical-align: middle;\n",
       "    }\n",
       "\n",
       "    .dataframe tbody tr th {\n",
       "        vertical-align: top;\n",
       "    }\n",
       "\n",
       "    .dataframe thead th {\n",
       "        text-align: right;\n",
       "    }\n",
       "</style>\n",
       "<table border=\"1\" class=\"dataframe\">\n",
       "  <thead>\n",
       "    <tr style=\"text-align: right;\">\n",
       "      <th></th>\n",
       "      <th>Source</th>\n",
       "      <th>ddof1</th>\n",
       "      <th>H</th>\n",
       "      <th>p-unc</th>\n",
       "    </tr>\n",
       "  </thead>\n",
       "  <tbody>\n",
       "    <tr>\n",
       "      <th>Kruskal</th>\n",
       "      <td>Group</td>\n",
       "      <td>2</td>\n",
       "      <td>8.565959</td>\n",
       "      <td>0.013801</td>\n",
       "    </tr>\n",
       "  </tbody>\n",
       "</table>\n",
       "</div>"
      ],
      "text/plain": [
       "        Source  ddof1         H     p-unc\n",
       "Kruskal  Group      2  8.565959  0.013801"
      ]
     },
     "execution_count": 263,
     "metadata": {},
     "output_type": "execute_result"
    }
   ],
   "source": [
    "pg.kruskal(data = nest_r[nest_r['Genotype'] == 'WT'], dv = 'Nesting Score', between = 'Group')"
   ]
  },
  {
   "cell_type": "code",
   "execution_count": 298,
   "metadata": {},
   "outputs": [],
   "source": [
    "wt_nest_multicomp = {'Group A': ['WT_Saline_1.0', 'WT_Saline_1.0', 'WT_MK-801_1.0'], 'Group B': ['WT_MK-801_0.5', 'WT_MK-801_1.0', 'WT_MK-801_0.5'], 'MWU-U' : [], 'MWU-p' : []}"
   ]
  },
  {
   "cell_type": "code",
   "execution_count": 299,
   "metadata": {},
   "outputs": [],
   "source": [
    "for ii in range(0, 3):\n",
    "    group_A = nest_r[nest_r['Group'] == wt_nest_multicomp['Group A'][ii]]['Nesting Score']\n",
    "    group_B = nest_r[nest_r['Group'] == wt_nest_multicomp['Group B'][ii]]['Nesting Score']\n",
    "    mwu_p = pg.mwu(group_A, group_B, tail = 'one-sided')\n",
    "    wt_nest_multicomp['MWU-U'].append(mwu_p['U-val'].values.item())\n",
    "    wt_nest_multicomp['MWU-p'].append(mwu_p['p-val'].values.item())"
   ]
  },
  {
   "cell_type": "code",
   "execution_count": 300,
   "metadata": {},
   "outputs": [],
   "source": [
    "wt_nesting_df = pd.DataFrame(wt_nest_multicomp)"
   ]
  },
  {
   "cell_type": "code",
   "execution_count": 304,
   "metadata": {},
   "outputs": [],
   "source": [
    "rej, p_adj = pg.multicomp(wt_nesting_df['MWU-p'].values, method = 'holm')"
   ]
  },
  {
   "cell_type": "code",
   "execution_count": 305,
   "metadata": {},
   "outputs": [],
   "source": [
    "wt_nesting_df['p-adjust'] = p_adj"
   ]
  },
  {
   "cell_type": "markdown",
   "metadata": {},
   "source": [
    "### Nesting: Multicomparison: 1mg effect on WT mice"
   ]
  },
  {
   "cell_type": "code",
   "execution_count": 382,
   "metadata": {},
   "outputs": [
    {
     "data": {
      "text/html": [
       "<div>\n",
       "<style scoped>\n",
       "    .dataframe tbody tr th:only-of-type {\n",
       "        vertical-align: middle;\n",
       "    }\n",
       "\n",
       "    .dataframe tbody tr th {\n",
       "        vertical-align: top;\n",
       "    }\n",
       "\n",
       "    .dataframe thead th {\n",
       "        text-align: right;\n",
       "    }\n",
       "</style>\n",
       "<table border=\"1\" class=\"dataframe\">\n",
       "  <thead>\n",
       "    <tr style=\"text-align: right;\">\n",
       "      <th></th>\n",
       "      <th>Group A</th>\n",
       "      <th>Group B</th>\n",
       "      <th>MWU-U</th>\n",
       "      <th>MWU-p</th>\n",
       "      <th>p-adjust</th>\n",
       "    </tr>\n",
       "  </thead>\n",
       "  <tbody>\n",
       "    <tr>\n",
       "      <th>0</th>\n",
       "      <td>WT_Saline_1.0</td>\n",
       "      <td>WT_MK-801_0.5</td>\n",
       "      <td>312.0</td>\n",
       "      <td>0.035772</td>\n",
       "      <td>0.071543</td>\n",
       "    </tr>\n",
       "    <tr>\n",
       "      <th>1</th>\n",
       "      <td>WT_Saline_1.0</td>\n",
       "      <td>WT_MK-801_1.0</td>\n",
       "      <td>393.5</td>\n",
       "      <td>0.001544</td>\n",
       "      <td>0.004631</td>\n",
       "    </tr>\n",
       "    <tr>\n",
       "      <th>2</th>\n",
       "      <td>WT_MK-801_1.0</td>\n",
       "      <td>WT_MK-801_0.5</td>\n",
       "      <td>179.0</td>\n",
       "      <td>0.291197</td>\n",
       "      <td>0.291197</td>\n",
       "    </tr>\n",
       "  </tbody>\n",
       "</table>\n",
       "</div>"
      ],
      "text/plain": [
       "         Group A        Group B  MWU-U     MWU-p  p-adjust\n",
       "0  WT_Saline_1.0  WT_MK-801_0.5  312.0  0.035772  0.071543\n",
       "1  WT_Saline_1.0  WT_MK-801_1.0  393.5  0.001544  0.004631\n",
       "2  WT_MK-801_1.0  WT_MK-801_0.5  179.0  0.291197  0.291197"
      ]
     },
     "execution_count": 382,
     "metadata": {},
     "output_type": "execute_result"
    }
   ],
   "source": [
    "wt_nesting_df"
   ]
  },
  {
   "cell_type": "markdown",
   "metadata": {},
   "source": [
    "## Genotype Comparison"
   ]
  },
  {
   "cell_type": "code",
   "execution_count": 385,
   "metadata": {},
   "outputs": [],
   "source": [
    "nest_WK = nest_r[nest_r['Group'].isin(['WT_Saline_1.0', 'WT_MK-801_0.5', 'KO_Saline_1.0', 'KO_MK-801_0.5'])].copy()"
   ]
  },
  {
   "cell_type": "code",
   "execution_count": 392,
   "metadata": {},
   "outputs": [
    {
     "data": {
      "text/html": [
       "<div>\n",
       "<style scoped>\n",
       "    .dataframe tbody tr th:only-of-type {\n",
       "        vertical-align: middle;\n",
       "    }\n",
       "\n",
       "    .dataframe tbody tr th {\n",
       "        vertical-align: top;\n",
       "    }\n",
       "\n",
       "    .dataframe thead th {\n",
       "        text-align: right;\n",
       "    }\n",
       "</style>\n",
       "<table border=\"1\" class=\"dataframe\">\n",
       "  <thead>\n",
       "    <tr style=\"text-align: right;\">\n",
       "      <th></th>\n",
       "      <th>W</th>\n",
       "      <th>pval</th>\n",
       "      <th>normal</th>\n",
       "    </tr>\n",
       "  </thead>\n",
       "  <tbody>\n",
       "    <tr>\n",
       "      <th>KO_Saline_1.0</th>\n",
       "      <td>0.830775</td>\n",
       "      <td>0.000163</td>\n",
       "      <td>False</td>\n",
       "    </tr>\n",
       "    <tr>\n",
       "      <th>WT_Saline_1.0</th>\n",
       "      <td>0.896246</td>\n",
       "      <td>0.015213</td>\n",
       "      <td>False</td>\n",
       "    </tr>\n",
       "    <tr>\n",
       "      <th>KO_MK-801_0.5</th>\n",
       "      <td>0.881459</td>\n",
       "      <td>0.012883</td>\n",
       "      <td>False</td>\n",
       "    </tr>\n",
       "    <tr>\n",
       "      <th>WT_MK-801_0.5</th>\n",
       "      <td>0.810629</td>\n",
       "      <td>0.001638</td>\n",
       "      <td>False</td>\n",
       "    </tr>\n",
       "  </tbody>\n",
       "</table>\n",
       "</div>"
      ],
      "text/plain": [
       "                      W      pval  normal\n",
       "KO_Saline_1.0  0.830775  0.000163   False\n",
       "WT_Saline_1.0  0.896246  0.015213   False\n",
       "KO_MK-801_0.5  0.881459  0.012883   False\n",
       "WT_MK-801_0.5  0.810629  0.001638   False"
      ]
     },
     "execution_count": 392,
     "metadata": {},
     "output_type": "execute_result"
    }
   ],
   "source": [
    "pg.normality(data = nest_WK, dv = 'Nesting Score', group = 'Group')"
   ]
  },
  {
   "cell_type": "markdown",
   "metadata": {},
   "source": [
    "## Nesting: All groups Saline vs 0.5 MK-801"
   ]
  },
  {
   "cell_type": "code",
   "execution_count": 426,
   "metadata": {},
   "outputs": [
    {
     "data": {
      "text/plain": [
       "<matplotlib.legend.Legend at 0x1391e1a60>"
      ]
     },
     "execution_count": 426,
     "metadata": {},
     "output_type": "execute_result"
    },
    {
     "data": {
      "image/png": "[encoded data removed]",
      "text/plain": [
       "<Figure size 432x360 with 1 Axes>"
      ]
     },
     "metadata": {
      "needs_background": "light"
     },
     "output_type": "display_data"
    }
   ],
   "source": [
    "nest_05_fig = plt.figure(figsize= (6, 5))\n",
    "ax = plt.subplot()\n",
    "sns.boxplot(data= nest_WK, x='Tx', y='Nesting Score', hue='Group', hue_order = ['WT_Saline_1.0', 'WT_MK-801_0.5', 'KO_Saline_1.0', 'KO_MK-801_0.5'], showmeans=True, meanprops={'marker':'+', 'markeredgecolor':'k'}, width=0.4, palette=['royalblue', 'steelblue', 'forestgreen', 'darkseagreen'], showfliers = False, dodge = True)\n",
    "sns.despine()\n",
    "new_labels = ['WT_Saline', 'WT_MK-801', 'KO_Saline', 'KO_MK-801']\n",
    "[h, l] = ax.get_legend_handles_labels()\n",
    "plt.legend(ncol = 1, loc = 3, handles = h, labels = new_labels)"
   ]
  },
  {
   "cell_type": "code",
   "execution_count": 427,
   "metadata": {},
   "outputs": [],
   "source": [
    "nest_05_fig.savefig('/Users/labc02/Documents/PDCB_data/MK-project/Figures/nesting05_box.svg')"
   ]
  },
  {
   "cell_type": "markdown",
   "metadata": {},
   "source": [
    "#### No overall effect"
   ]
  },
  {
   "cell_type": "code",
   "execution_count": 406,
   "metadata": {},
   "outputs": [
    {
     "data": {
      "text/html": [
       "<div>\n",
       "<style scoped>\n",
       "    .dataframe tbody tr th:only-of-type {\n",
       "        vertical-align: middle;\n",
       "    }\n",
       "\n",
       "    .dataframe tbody tr th {\n",
       "        vertical-align: top;\n",
       "    }\n",
       "\n",
       "    .dataframe thead th {\n",
       "        text-align: right;\n",
       "    }\n",
       "</style>\n",
       "<table border=\"1\" class=\"dataframe\">\n",
       "  <thead>\n",
       "    <tr style=\"text-align: right;\">\n",
       "      <th></th>\n",
       "      <th>Source</th>\n",
       "      <th>ddof1</th>\n",
       "      <th>H</th>\n",
       "      <th>p-unc</th>\n",
       "    </tr>\n",
       "  </thead>\n",
       "  <tbody>\n",
       "    <tr>\n",
       "      <th>Kruskal</th>\n",
       "      <td>Group</td>\n",
       "      <td>3</td>\n",
       "      <td>4.040932</td>\n",
       "      <td>0.257078</td>\n",
       "    </tr>\n",
       "  </tbody>\n",
       "</table>\n",
       "</div>"
      ],
      "text/plain": [
       "        Source  ddof1         H     p-unc\n",
       "Kruskal  Group      3  4.040932  0.257078"
      ]
     },
     "execution_count": 406,
     "metadata": {},
     "output_type": "execute_result"
    }
   ],
   "source": [
    "pg.kruskal(data = nest_WK, dv = 'Nesting Score', between = '')"
   ]
  },
  {
   "cell_type": "code",
   "execution_count": 482,
   "metadata": {},
   "outputs": [],
   "source": [
    "nest_multi05 = {'Group A': ['WT_Saline_1.0', 'WT_Saline_1.0', 'WT_Saline_1.0', 'KO_Saline_1.0', 'KO_Saline_1.0', 'WT_MK-801_0.5'], 'Group B': ['KO_Saline_1.0', 'WT_MK-801_0.5', 'KO_MK-801_0.5', 'WT_MK-801_0.5', 'KO_MK-801_0.5', 'KO_MK-801_0.5'], 'MWU-U' : [], 'MWU-p' : []}"
   ]
  },
  {
   "cell_type": "code",
   "execution_count": 483,
   "metadata": {},
   "outputs": [],
   "source": [
    "for ii in range(0, 6):\n",
    "    group_A = nest_WK[nest_WK['Group'] == nest_multi05['Group A'][ii]]['Nesting Score']\n",
    "    group_B = nest_WK[nest_WK['Group'] == nest_multi05['Group B'][ii]]['Nesting Score']\n",
    "    mwu_p = pg.mwu(group_A, group_B, tail = 'one-sided')\n",
    "    nest_multi05['MWU-U'].append(mwu_p['U-val'].values.item())\n",
    "    nest_multi05['MWU-p'].append(mwu_p['p-val'].values.item())"
   ]
  },
  {
   "cell_type": "code",
   "execution_count": 484,
   "metadata": {},
   "outputs": [],
   "source": [
    "nesting05_df = pd.DataFrame(nest_multi05)"
   ]
  },
  {
   "cell_type": "code",
   "execution_count": 485,
   "metadata": {},
   "outputs": [
    {
     "data": {
      "text/html": [
       "<div>\n",
       "<style scoped>\n",
       "    .dataframe tbody tr th:only-of-type {\n",
       "        vertical-align: middle;\n",
       "    }\n",
       "\n",
       "    .dataframe tbody tr th {\n",
       "        vertical-align: top;\n",
       "    }\n",
       "\n",
       "    .dataframe thead th {\n",
       "        text-align: right;\n",
       "    }\n",
       "</style>\n",
       "<table border=\"1\" class=\"dataframe\">\n",
       "  <thead>\n",
       "    <tr style=\"text-align: right;\">\n",
       "      <th></th>\n",
       "      <th>Group A</th>\n",
       "      <th>Group B</th>\n",
       "      <th>MWU-U</th>\n",
       "      <th>MWU-p</th>\n",
       "    </tr>\n",
       "  </thead>\n",
       "  <tbody>\n",
       "    <tr>\n",
       "      <th>0</th>\n",
       "      <td>WT_Saline_1.0</td>\n",
       "      <td>KO_Saline_1.0</td>\n",
       "      <td>419.0</td>\n",
       "      <td>0.380447</td>\n",
       "    </tr>\n",
       "    <tr>\n",
       "      <th>1</th>\n",
       "      <td>WT_Saline_1.0</td>\n",
       "      <td>WT_MK-801_0.5</td>\n",
       "      <td>312.0</td>\n",
       "      <td>0.035772</td>\n",
       "    </tr>\n",
       "    <tr>\n",
       "      <th>2</th>\n",
       "      <td>WT_Saline_1.0</td>\n",
       "      <td>KO_MK-801_0.5</td>\n",
       "      <td>326.0</td>\n",
       "      <td>0.135999</td>\n",
       "    </tr>\n",
       "    <tr>\n",
       "      <th>3</th>\n",
       "      <td>KO_Saline_1.0</td>\n",
       "      <td>WT_MK-801_0.5</td>\n",
       "      <td>384.5</td>\n",
       "      <td>0.056714</td>\n",
       "    </tr>\n",
       "    <tr>\n",
       "      <th>4</th>\n",
       "      <td>KO_Saline_1.0</td>\n",
       "      <td>KO_MK-801_0.5</td>\n",
       "      <td>389.5</td>\n",
       "      <td>0.254074</td>\n",
       "    </tr>\n",
       "    <tr>\n",
       "      <th>5</th>\n",
       "      <td>WT_MK-801_0.5</td>\n",
       "      <td>KO_MK-801_0.5</td>\n",
       "      <td>174.5</td>\n",
       "      <td>0.823015</td>\n",
       "    </tr>\n",
       "  </tbody>\n",
       "</table>\n",
       "</div>"
      ],
      "text/plain": [
       "         Group A        Group B  MWU-U     MWU-p\n",
       "0  WT_Saline_1.0  KO_Saline_1.0  419.0  0.380447\n",
       "1  WT_Saline_1.0  WT_MK-801_0.5  312.0  0.035772\n",
       "2  WT_Saline_1.0  KO_MK-801_0.5  326.0  0.135999\n",
       "3  KO_Saline_1.0  WT_MK-801_0.5  384.5  0.056714\n",
       "4  KO_Saline_1.0  KO_MK-801_0.5  389.5  0.254074\n",
       "5  WT_MK-801_0.5  KO_MK-801_0.5  174.5  0.823015"
      ]
     },
     "execution_count": 485,
     "metadata": {},
     "output_type": "execute_result"
    }
   ],
   "source": [
    "nesting05_df"
   ]
  },
  {
   "cell_type": "markdown",
   "metadata": {},
   "source": [
    "#### Individual effect on WT mice (0.5mg/kg), not adjusted"
   ]
  },
  {
   "cell_type": "markdown",
   "metadata": {},
   "source": [
    "## Burrowing"
   ]
  },
  {
   "cell_type": "code",
   "execution_count": 428,
   "metadata": {},
   "outputs": [],
   "source": [
    "burr_r = pd.read_csv('/Users/labc02/Documents/PDCB_data/MK-project/Burrowing.csv')"
   ]
  },
  {
   "cell_type": "code",
   "execution_count": 429,
   "metadata": {},
   "outputs": [
    {
     "data": {
      "text/plain": [
       "Index(['Sub', 'Genotype', 'UR', 'Sex', 'Tx', 'Dose (mg/Kg)', 'Initial weight',\n",
       "       'Baseline(2h)', 'Baseline(12h)', 'Test(2h)', 'Test(12h)',\n",
       "       'Baseline(2h%)', 'Baseline(12h%)', 'Test(2h%)', 'Test(12h%)',\n",
       "       'Amount_Burrowed(g)'],\n",
       "      dtype='object')"
      ]
     },
     "execution_count": 429,
     "metadata": {},
     "output_type": "execute_result"
    }
   ],
   "source": [
    "burr_r.columns"
   ]
  },
  {
   "cell_type": "code",
   "execution_count": 434,
   "metadata": {},
   "outputs": [],
   "source": [
    "burr_r = burr_r[['Sub', 'Genotype', 'UR', 'Sex', 'Tx', 'Dose (mg/Kg)', 'Amount_Burrowed(g)']].copy()"
   ]
  },
  {
   "cell_type": "code",
   "execution_count": 435,
   "metadata": {},
   "outputs": [
    {
     "data": {
      "text/plain": [
       "array(['MK-801', 'Saline'], dtype=object)"
      ]
     },
     "execution_count": 435,
     "metadata": {},
     "output_type": "execute_result"
    }
   ],
   "source": [
    "burr_r['Tx'].unique()"
   ]
  },
  {
   "cell_type": "code",
   "execution_count": 436,
   "metadata": {},
   "outputs": [],
   "source": [
    "burr_r['Group'] = burr_r['Genotype']+'_'+burr_r['Tx']+'_'+burr_r['Dose (mg/Kg)'].astype(str)"
   ]
  },
  {
   "cell_type": "code",
   "execution_count": 437,
   "metadata": {},
   "outputs": [
    {
     "data": {
      "text/plain": [
       "Genotype  Tx      Dose (mg/Kg)\n",
       "HE        MK-801  1.0              6\n",
       "          Saline  1.0              6\n",
       "KO        MK-801  0.5             21\n",
       "                  1.0              3\n",
       "          Saline  1.0             32\n",
       "WT        MK-801  0.5             19\n",
       "                  1.0             22\n",
       "          Saline  1.0             23\n",
       "Name: Sub, dtype: int64"
      ]
     },
     "execution_count": 437,
     "metadata": {},
     "output_type": "execute_result"
    }
   ],
   "source": [
    "burr_r.groupby(['Genotype', 'Tx', 'Dose (mg/Kg)'])['Sub'].count()"
   ]
  },
  {
   "cell_type": "markdown",
   "metadata": {},
   "source": [
    "#### Effect on WT mice "
   ]
  },
  {
   "cell_type": "code",
   "execution_count": 659,
   "metadata": {},
   "outputs": [
    {
     "data": {
      "text/plain": [
       "Text(0, 3, '***')"
      ]
     },
     "execution_count": 659,
     "metadata": {},
     "output_type": "execute_result"
    },
    {
     "data": {
      "image/png": "[encoded data removed]",
      "text/plain": [
       "<Figure size 432x360 with 1 Axes>"
      ]
     },
     "metadata": {
      "needs_background": "light"
     },
     "output_type": "display_data"
    }
   ],
   "source": [
    "burr_wt = plt.figure(figsize = (6, 5))\n",
    "ax = plt.subplot()\n",
    "sns.boxplot(data=burr_r[burr_r['Genotype']=='WT'], x='Group', y='Amount_Burrowed(g)', hue='Group', order = ['WT_Saline_1.0', 'WT_MK-801_0.5', 'WT_MK-801_1.0'], showmeans=True, meanprops={'marker':'+', 'markeredgecolor':'k'}, width=0.2, palette=['cornflowerblue', 'royalblue', 'steelblue'], showfliers = True, ax = ax, dodge = False)\n",
    "sns.despine()\n",
    "labels = ['Control', 'MK-801 \\n(0.5 mg/kg)', 'MK-801 \\n(1 mg/kg)']\n",
    "ax.set_xticklabels(labels)\n",
    "plt.xlabel('')\n",
    "plt.ylabel('Amount Burrowed (g)')\n",
    "plt.legend([], [], frameon = False)\n",
    "plt.annotate(s='***', xy=(167, 285), xycoords='axes points', xytext=(0, 3), textcoords='offset points', ha = 'center', arrowprops=dict(arrowstyle='-[, widthB=11.2, lengthB=.4', lw=1.5, color='k'), fontsize = 10)\n",
    "plt.annotate(s='***', xy=(110, 270), xycoords='axes points', xytext=(0, 3), textcoords='offset points', ha = 'center', arrowprops=dict(arrowstyle='-[, widthB=5.5, lengthB=.4', lw=1.5, color='k'), fontsize = 10)\n",
    "\n"
   ]
  },
  {
   "cell_type": "code",
   "execution_count": 660,
   "metadata": {},
   "outputs": [],
   "source": [
    "burr_wt.savefig('/Users/labc02/Documents/PDCB_data/MK-project/Figures/burr_wt_box.svg')"
   ]
  },
  {
   "cell_type": "code",
   "execution_count": 444,
   "metadata": {},
   "outputs": [
    {
     "data": {
      "text/plain": [
       "array([45, 48, 57])"
      ]
     },
     "execution_count": 444,
     "metadata": {},
     "output_type": "execute_result"
    }
   ],
   "source": [
    "# outlier detection\n",
    "out = pg.madmedianrule(burr_r[burr_r['Group']=='WT_Saline_1.0']['Amount_Burrowed(g)'])\n",
    "idx = burr_r[burr_r['Group']=='WT_Saline_1.0']['Amount_Burrowed(g)'].index.values\n",
    "outs = idx[out]\n",
    "outs"
   ]
  },
  {
   "cell_type": "code",
   "execution_count": 445,
   "metadata": {},
   "outputs": [],
   "source": [
    "burr_r.drop(index = outs, inplace = True)"
   ]
  },
  {
   "cell_type": "markdown",
   "metadata": {},
   "source": [
    "#### Stats"
   ]
  },
  {
   "cell_type": "code",
   "execution_count": 449,
   "metadata": {},
   "outputs": [
    {
     "data": {
      "text/html": [
       "<div>\n",
       "<style scoped>\n",
       "    .dataframe tbody tr th:only-of-type {\n",
       "        vertical-align: middle;\n",
       "    }\n",
       "\n",
       "    .dataframe tbody tr th {\n",
       "        vertical-align: top;\n",
       "    }\n",
       "\n",
       "    .dataframe thead th {\n",
       "        text-align: right;\n",
       "    }\n",
       "</style>\n",
       "<table border=\"1\" class=\"dataframe\">\n",
       "  <thead>\n",
       "    <tr style=\"text-align: right;\">\n",
       "      <th></th>\n",
       "      <th>W</th>\n",
       "      <th>pval</th>\n",
       "      <th>normal</th>\n",
       "    </tr>\n",
       "  </thead>\n",
       "  <tbody>\n",
       "    <tr>\n",
       "      <th>WT_MK-801_1.0</th>\n",
       "      <td>0.918757</td>\n",
       "      <td>0.071647</td>\n",
       "      <td>True</td>\n",
       "    </tr>\n",
       "    <tr>\n",
       "      <th>WT_Saline_1.0</th>\n",
       "      <td>0.943267</td>\n",
       "      <td>0.276201</td>\n",
       "      <td>True</td>\n",
       "    </tr>\n",
       "    <tr>\n",
       "      <th>WT_MK-801_0.5</th>\n",
       "      <td>0.925837</td>\n",
       "      <td>0.145100</td>\n",
       "      <td>True</td>\n",
       "    </tr>\n",
       "  </tbody>\n",
       "</table>\n",
       "</div>"
      ],
      "text/plain": [
       "                      W      pval  normal\n",
       "WT_MK-801_1.0  0.918757  0.071647    True\n",
       "WT_Saline_1.0  0.943267  0.276201    True\n",
       "WT_MK-801_0.5  0.925837  0.145100    True"
      ]
     },
     "execution_count": 449,
     "metadata": {},
     "output_type": "execute_result"
    }
   ],
   "source": [
    "pg.normality(data = burr_r[burr_r['Genotype']== 'WT'], dv = 'Amount_Burrowed(g)', group = 'Group')"
   ]
  },
  {
   "cell_type": "code",
   "execution_count": 450,
   "metadata": {},
   "outputs": [
    {
     "data": {
      "text/html": [
       "<div>\n",
       "<style scoped>\n",
       "    .dataframe tbody tr th:only-of-type {\n",
       "        vertical-align: middle;\n",
       "    }\n",
       "\n",
       "    .dataframe tbody tr th {\n",
       "        vertical-align: top;\n",
       "    }\n",
       "\n",
       "    .dataframe thead th {\n",
       "        text-align: right;\n",
       "    }\n",
       "</style>\n",
       "<table border=\"1\" class=\"dataframe\">\n",
       "  <thead>\n",
       "    <tr style=\"text-align: right;\">\n",
       "      <th></th>\n",
       "      <th>W</th>\n",
       "      <th>pval</th>\n",
       "      <th>equal_var</th>\n",
       "    </tr>\n",
       "  </thead>\n",
       "  <tbody>\n",
       "    <tr>\n",
       "      <th>levene</th>\n",
       "      <td>9.366687</td>\n",
       "      <td>0.000298</td>\n",
       "      <td>False</td>\n",
       "    </tr>\n",
       "  </tbody>\n",
       "</table>\n",
       "</div>"
      ],
      "text/plain": [
       "               W      pval  equal_var\n",
       "levene  9.366687  0.000298      False"
      ]
     },
     "execution_count": 450,
     "metadata": {},
     "output_type": "execute_result"
    }
   ],
   "source": [
    "pg.homoscedasticity(data = burr_r[burr_r['Genotype']== 'WT'], dv = 'Amount_Burrowed(g)', group = 'Group')"
   ]
  },
  {
   "cell_type": "code",
   "execution_count": 451,
   "metadata": {},
   "outputs": [
    {
     "data": {
      "text/html": [
       "<div>\n",
       "<style scoped>\n",
       "    .dataframe tbody tr th:only-of-type {\n",
       "        vertical-align: middle;\n",
       "    }\n",
       "\n",
       "    .dataframe tbody tr th {\n",
       "        vertical-align: top;\n",
       "    }\n",
       "\n",
       "    .dataframe thead th {\n",
       "        text-align: right;\n",
       "    }\n",
       "</style>\n",
       "<table border=\"1\" class=\"dataframe\">\n",
       "  <thead>\n",
       "    <tr style=\"text-align: right;\">\n",
       "      <th></th>\n",
       "      <th>Source</th>\n",
       "      <th>ddof1</th>\n",
       "      <th>ddof2</th>\n",
       "      <th>F</th>\n",
       "      <th>p-unc</th>\n",
       "      <th>np2</th>\n",
       "    </tr>\n",
       "  </thead>\n",
       "  <tbody>\n",
       "    <tr>\n",
       "      <th>0</th>\n",
       "      <td>Group</td>\n",
       "      <td>2</td>\n",
       "      <td>32.278407</td>\n",
       "      <td>13.169093</td>\n",
       "      <td>0.000066</td>\n",
       "      <td>0.221408</td>\n",
       "    </tr>\n",
       "  </tbody>\n",
       "</table>\n",
       "</div>"
      ],
      "text/plain": [
       "  Source  ddof1      ddof2          F     p-unc       np2\n",
       "0  Group      2  32.278407  13.169093  0.000066  0.221408"
      ]
     },
     "execution_count": 451,
     "metadata": {},
     "output_type": "execute_result"
    }
   ],
   "source": [
    "pg.welch_anova(data = burr_r[burr_r['Genotype']== 'WT'], dv = 'Amount_Burrowed(g)', between = 'Group')"
   ]
  },
  {
   "cell_type": "code",
   "execution_count": 905,
   "metadata": {},
   "outputs": [
    {
     "data": {
      "text/html": [
       "<div>\n",
       "<style scoped>\n",
       "    .dataframe tbody tr th:only-of-type {\n",
       "        vertical-align: middle;\n",
       "    }\n",
       "\n",
       "    .dataframe tbody tr th {\n",
       "        vertical-align: top;\n",
       "    }\n",
       "\n",
       "    .dataframe thead th {\n",
       "        text-align: right;\n",
       "    }\n",
       "</style>\n",
       "<table border=\"1\" class=\"dataframe\">\n",
       "  <thead>\n",
       "    <tr style=\"text-align: right;\">\n",
       "      <th></th>\n",
       "      <th>A</th>\n",
       "      <th>B</th>\n",
       "      <th>mean(A)</th>\n",
       "      <th>mean(B)</th>\n",
       "      <th>diff</th>\n",
       "      <th>se</th>\n",
       "      <th>tail</th>\n",
       "      <th>T</th>\n",
       "      <th>df</th>\n",
       "      <th>pval</th>\n",
       "      <th>cohen</th>\n",
       "    </tr>\n",
       "  </thead>\n",
       "  <tbody>\n",
       "    <tr>\n",
       "      <th>0</th>\n",
       "      <td>WT_MK-801_0.5</td>\n",
       "      <td>WT_MK-801_1.0</td>\n",
       "      <td>176.716316</td>\n",
       "      <td>200.161818</td>\n",
       "      <td>-23.445502</td>\n",
       "      <td>28.163691</td>\n",
       "      <td>two-sided</td>\n",
       "      <td>-0.588647</td>\n",
       "      <td>37.869354</td>\n",
       "      <td>0.808679</td>\n",
       "      <td>-0.184357</td>\n",
       "    </tr>\n",
       "    <tr>\n",
       "      <th>1</th>\n",
       "      <td>WT_MK-801_0.5</td>\n",
       "      <td>WT_Saline_1.0</td>\n",
       "      <td>176.716316</td>\n",
       "      <td>307.286000</td>\n",
       "      <td>-130.569684</td>\n",
       "      <td>22.340092</td>\n",
       "      <td>two-sided</td>\n",
       "      <td>-4.132781</td>\n",
       "      <td>23.269212</td>\n",
       "      <td>0.001000</td>\n",
       "      <td>-1.323985</td>\n",
       "    </tr>\n",
       "    <tr>\n",
       "      <th>2</th>\n",
       "      <td>WT_MK-801_1.0</td>\n",
       "      <td>WT_Saline_1.0</td>\n",
       "      <td>200.161818</td>\n",
       "      <td>307.286000</td>\n",
       "      <td>-107.124182</td>\n",
       "      <td>20.577767</td>\n",
       "      <td>two-sided</td>\n",
       "      <td>-3.681072</td>\n",
       "      <td>28.238265</td>\n",
       "      <td>0.001000</td>\n",
       "      <td>-1.137294</td>\n",
       "    </tr>\n",
       "  </tbody>\n",
       "</table>\n",
       "</div>"
      ],
      "text/plain": [
       "               A              B     mean(A)     mean(B)        diff  \\\n",
       "0  WT_MK-801_0.5  WT_MK-801_1.0  176.716316  200.161818  -23.445502   \n",
       "1  WT_MK-801_0.5  WT_Saline_1.0  176.716316  307.286000 -130.569684   \n",
       "2  WT_MK-801_1.0  WT_Saline_1.0  200.161818  307.286000 -107.124182   \n",
       "\n",
       "          se       tail         T         df      pval     cohen  \n",
       "0  28.163691  two-sided -0.588647  37.869354  0.808679 -0.184357  \n",
       "1  22.340092  two-sided -4.132781  23.269212  0.001000 -1.323985  \n",
       "2  20.577767  two-sided -3.681072  28.238265  0.001000 -1.137294  "
      ]
     },
     "execution_count": 905,
     "metadata": {},
     "output_type": "execute_result"
    }
   ],
   "source": [
    "pg.pairwise_gameshowell(data = burr_r[burr_r['Genotype']== 'WT'], dv = 'Amount_Burrowed(g)', between = 'Group', effsize = 'cohen')"
   ]
  },
  {
   "cell_type": "markdown",
   "metadata": {},
   "source": [
    "### All groups 0.5 mg/kg"
   ]
  },
  {
   "cell_type": "code",
   "execution_count": 461,
   "metadata": {},
   "outputs": [],
   "source": [
    "burr_05 = burr_r[burr_r['Group'].isin(['WT_Saline_1.0', 'WT_MK-801_0.5', 'KO_Saline_1.0', 'KO_MK-801_0.5'])].copy()"
   ]
  },
  {
   "cell_type": "code",
   "execution_count": 933,
   "metadata": {},
   "outputs": [
    {
     "data": {
      "image/png": "[encoded data removed]",
      "text/plain": [
       "<Figure size 432x360 with 1 Axes>"
      ]
     },
     "metadata": {
      "needs_background": "light"
     },
     "output_type": "display_data"
    }
   ],
   "source": [
    "burr_05_fig = plt.figure(figsize= (6, 5))\n",
    "ax = plt.subplot()\n",
    "sns.boxplot(data= burr_05, x='Tx', y='Amount_Burrowed(g)', hue='Group', hue_order = ['WT_Saline_1.0', 'WT_MK-801_0.5', 'KO_Saline_1.0', 'KO_MK-801_0.5'], showmeans=True, meanprops={'marker':'+', 'markeredgecolor':'k'}, width=0.4, palette=['royalblue', 'steelblue', 'forestgreen', 'darkseagreen'], showfliers = True, dodge = True, ax = ax)\n",
    "sns.despine()\n",
    "new_labels = ['WT_Saline', 'WT_MK-801', 'KO_Saline', 'KO_MK-801']\n",
    "[h, l] = ax.get_legend_handles_labels()\n",
    "plt.annotate(s='**', xy=(138, 290), xycoords='axes points', xytext=(0, 3), textcoords='offset points', ha = 'center', arrowprops=dict(arrowstyle='-[, widthB=9, lengthB=.4', lw=1.5, color='k'), fontsize = 10)\n",
    "plt.annotate(s='**', xy=(123, 277), xycoords='axes points', xytext=(0, 3), textcoords='offset points', ha = 'center', arrowprops=dict(arrowstyle='-[, widthB=7.5, lengthB=.4', lw=1.5, color='k'), fontsize = 10)\n",
    "plt.legend(bbox_to_anchor=(1, .3), loc=2, borderaxespad=0., handles = h, labels = new_labels)\n",
    "plt.tight_layout()\n"
   ]
  },
  {
   "cell_type": "code",
   "execution_count": 934,
   "metadata": {},
   "outputs": [],
   "source": [
    "burr_05_fig.savefig('/Users/labc02/Documents/PDCB_data/MK-project/Figures/burr05_box.svg')"
   ]
  },
  {
   "cell_type": "markdown",
   "metadata": {},
   "source": [
    "### Stats 0.5"
   ]
  },
  {
   "cell_type": "code",
   "execution_count": 470,
   "metadata": {},
   "outputs": [
    {
     "data": {
      "text/html": [
       "<div>\n",
       "<style scoped>\n",
       "    .dataframe tbody tr th:only-of-type {\n",
       "        vertical-align: middle;\n",
       "    }\n",
       "\n",
       "    .dataframe tbody tr th {\n",
       "        vertical-align: top;\n",
       "    }\n",
       "\n",
       "    .dataframe thead th {\n",
       "        text-align: right;\n",
       "    }\n",
       "</style>\n",
       "<table border=\"1\" class=\"dataframe\">\n",
       "  <thead>\n",
       "    <tr style=\"text-align: right;\">\n",
       "      <th></th>\n",
       "      <th>W</th>\n",
       "      <th>pval</th>\n",
       "      <th>normal</th>\n",
       "    </tr>\n",
       "  </thead>\n",
       "  <tbody>\n",
       "    <tr>\n",
       "      <th>KO_Saline_1.0</th>\n",
       "      <td>0.898598</td>\n",
       "      <td>0.005706</td>\n",
       "      <td>False</td>\n",
       "    </tr>\n",
       "    <tr>\n",
       "      <th>WT_Saline_1.0</th>\n",
       "      <td>0.943267</td>\n",
       "      <td>0.276201</td>\n",
       "      <td>True</td>\n",
       "    </tr>\n",
       "    <tr>\n",
       "      <th>KO_MK-801_0.5</th>\n",
       "      <td>0.898930</td>\n",
       "      <td>0.033363</td>\n",
       "      <td>False</td>\n",
       "    </tr>\n",
       "    <tr>\n",
       "      <th>WT_MK-801_0.5</th>\n",
       "      <td>0.925837</td>\n",
       "      <td>0.145100</td>\n",
       "      <td>True</td>\n",
       "    </tr>\n",
       "  </tbody>\n",
       "</table>\n",
       "</div>"
      ],
      "text/plain": [
       "                      W      pval  normal\n",
       "KO_Saline_1.0  0.898598  0.005706   False\n",
       "WT_Saline_1.0  0.943267  0.276201    True\n",
       "KO_MK-801_0.5  0.898930  0.033363   False\n",
       "WT_MK-801_0.5  0.925837  0.145100    True"
      ]
     },
     "execution_count": 470,
     "metadata": {},
     "output_type": "execute_result"
    }
   ],
   "source": [
    "pg.normality(data = burr_05, dv = 'Amount_Burrowed(g)', group = 'Group')"
   ]
  },
  {
   "cell_type": "code",
   "execution_count": 471,
   "metadata": {},
   "outputs": [
    {
     "data": {
      "text/html": [
       "<div>\n",
       "<style scoped>\n",
       "    .dataframe tbody tr th:only-of-type {\n",
       "        vertical-align: middle;\n",
       "    }\n",
       "\n",
       "    .dataframe tbody tr th {\n",
       "        vertical-align: top;\n",
       "    }\n",
       "\n",
       "    .dataframe thead th {\n",
       "        text-align: right;\n",
       "    }\n",
       "</style>\n",
       "<table border=\"1\" class=\"dataframe\">\n",
       "  <thead>\n",
       "    <tr style=\"text-align: right;\">\n",
       "      <th></th>\n",
       "      <th>Source</th>\n",
       "      <th>ddof1</th>\n",
       "      <th>H</th>\n",
       "      <th>p-unc</th>\n",
       "    </tr>\n",
       "  </thead>\n",
       "  <tbody>\n",
       "    <tr>\n",
       "      <th>Kruskal</th>\n",
       "      <td>Group</td>\n",
       "      <td>3</td>\n",
       "      <td>16.568339</td>\n",
       "      <td>0.000867</td>\n",
       "    </tr>\n",
       "  </tbody>\n",
       "</table>\n",
       "</div>"
      ],
      "text/plain": [
       "        Source  ddof1          H     p-unc\n",
       "Kruskal  Group      3  16.568339  0.000867"
      ]
     },
     "execution_count": 471,
     "metadata": {},
     "output_type": "execute_result"
    }
   ],
   "source": [
    "pg.kruskal(data = burr_05, dv = 'Amount_Burrowed(g)', between = 'Group')"
   ]
  },
  {
   "cell_type": "code",
   "execution_count": 486,
   "metadata": {},
   "outputs": [],
   "source": [
    "bur_multi05 = {'Group A': ['WT_Saline_1.0', 'WT_Saline_1.0', 'WT_Saline_1.0', 'KO_Saline_1.0', 'KO_Saline_1.0', 'WT_MK-801_0.5'], 'Group B': ['KO_Saline_1.0', 'WT_MK-801_0.5', 'KO_MK-801_0.5', 'WT_MK-801_0.5', 'KO_MK-801_0.5', 'KO_MK-801_0.5'], 'MWU-U' : [], 'MWU-p' : []}"
   ]
  },
  {
   "cell_type": "code",
   "execution_count": 487,
   "metadata": {},
   "outputs": [],
   "source": [
    "for ii in range(0, 6):\n",
    "    group_A = burr_05[burr_05['Group'] == bur_multi05['Group A'][ii]]['Amount_Burrowed(g)']\n",
    "    group_B = burr_05[burr_05['Group'] == bur_multi05['Group B'][ii]]['Amount_Burrowed(g)']\n",
    "    mwu_p = pg.mwu(group_A, group_B, tail = 'one-sided')\n",
    "    bur_multi05['MWU-U'].append(mwu_p['U-val'].values.item())\n",
    "    bur_multi05['MWU-p'].append(mwu_p['p-val'].values.item())"
   ]
  },
  {
   "cell_type": "code",
   "execution_count": 488,
   "metadata": {},
   "outputs": [],
   "source": [
    "burr_05_df = pd.DataFrame(bur_multi05)"
   ]
  },
  {
   "cell_type": "code",
   "execution_count": 489,
   "metadata": {},
   "outputs": [
    {
     "data": {
      "text/html": [
       "<div>\n",
       "<style scoped>\n",
       "    .dataframe tbody tr th:only-of-type {\n",
       "        vertical-align: middle;\n",
       "    }\n",
       "\n",
       "    .dataframe tbody tr th {\n",
       "        vertical-align: top;\n",
       "    }\n",
       "\n",
       "    .dataframe thead th {\n",
       "        text-align: right;\n",
       "    }\n",
       "</style>\n",
       "<table border=\"1\" class=\"dataframe\">\n",
       "  <thead>\n",
       "    <tr style=\"text-align: right;\">\n",
       "      <th></th>\n",
       "      <th>Group A</th>\n",
       "      <th>Group B</th>\n",
       "      <th>MWU-U</th>\n",
       "      <th>MWU-p</th>\n",
       "    </tr>\n",
       "  </thead>\n",
       "  <tbody>\n",
       "    <tr>\n",
       "      <th>0</th>\n",
       "      <td>WT_Saline_1.0</td>\n",
       "      <td>KO_Saline_1.0</td>\n",
       "      <td>444.0</td>\n",
       "      <td>0.010092</td>\n",
       "    </tr>\n",
       "    <tr>\n",
       "      <th>1</th>\n",
       "      <td>WT_Saline_1.0</td>\n",
       "      <td>WT_MK-801_0.5</td>\n",
       "      <td>312.0</td>\n",
       "      <td>0.000320</td>\n",
       "    </tr>\n",
       "    <tr>\n",
       "      <th>2</th>\n",
       "      <td>WT_Saline_1.0</td>\n",
       "      <td>KO_MK-801_0.5</td>\n",
       "      <td>337.0</td>\n",
       "      <td>0.000484</td>\n",
       "    </tr>\n",
       "    <tr>\n",
       "      <th>3</th>\n",
       "      <td>KO_Saline_1.0</td>\n",
       "      <td>WT_MK-801_0.5</td>\n",
       "      <td>388.0</td>\n",
       "      <td>0.051894</td>\n",
       "    </tr>\n",
       "    <tr>\n",
       "      <th>4</th>\n",
       "      <td>KO_Saline_1.0</td>\n",
       "      <td>KO_MK-801_0.5</td>\n",
       "      <td>437.0</td>\n",
       "      <td>0.033804</td>\n",
       "    </tr>\n",
       "    <tr>\n",
       "      <th>5</th>\n",
       "      <td>WT_MK-801_0.5</td>\n",
       "      <td>KO_MK-801_0.5</td>\n",
       "      <td>217.0</td>\n",
       "      <td>0.322574</td>\n",
       "    </tr>\n",
       "  </tbody>\n",
       "</table>\n",
       "</div>"
      ],
      "text/plain": [
       "         Group A        Group B  MWU-U     MWU-p\n",
       "0  WT_Saline_1.0  KO_Saline_1.0  444.0  0.010092\n",
       "1  WT_Saline_1.0  WT_MK-801_0.5  312.0  0.000320\n",
       "2  WT_Saline_1.0  KO_MK-801_0.5  337.0  0.000484\n",
       "3  KO_Saline_1.0  WT_MK-801_0.5  388.0  0.051894\n",
       "4  KO_Saline_1.0  KO_MK-801_0.5  437.0  0.033804\n",
       "5  WT_MK-801_0.5  KO_MK-801_0.5  217.0  0.322574"
      ]
     },
     "execution_count": 489,
     "metadata": {},
     "output_type": "execute_result"
    }
   ],
   "source": [
    "burr_05_df"
   ]
  },
  {
   "cell_type": "markdown",
   "metadata": {},
   "source": [
    "## Open Field"
   ]
  },
  {
   "cell_type": "code",
   "execution_count": 523,
   "metadata": {},
   "outputs": [],
   "source": [
    "of_r = pd.read_csv('/Users/labc02/Documents/PDCB_data/MK-project/OF_Final.csv')"
   ]
  },
  {
   "cell_type": "code",
   "execution_count": 524,
   "metadata": {},
   "outputs": [],
   "source": [
    "of_r['ID'] = of_r['SUBJECT TYPE']+'_'+of_r['SUBJECT FACTOR2']+'_'+of_r['SUBJECT ID'].astype(str)"
   ]
  },
  {
   "cell_type": "code",
   "execution_count": 525,
   "metadata": {},
   "outputs": [],
   "source": [
    "of_r['Group'] = of_r['SUBJECT TYPE']+'_'+of_r['SUBJECT FACTOR1']"
   ]
  },
  {
   "cell_type": "code",
   "execution_count": 526,
   "metadata": {},
   "outputs": [
    {
     "data": {
      "text/plain": [
       "Index(['SUBJECT ID', 'SUBJECT TYPE', 'SUBJECT SEX', 'SUBJECT FACTOR1',\n",
       "       'SUBJECT FACTOR2', 'TOTAL DISTANCE (cm)', 'TOTAL DISTANCE X-AXIS (cm)',\n",
       "       'TOTAL DISTANCE Y-AXIS (cm)', 'HORIZONTAL ACTIVITY COUNT',\n",
       "       'AMBULATORY ACTIVITY COUNT', 'REST TIME (s)', 'REST EPISODE COUNT',\n",
       "       'MOVEMENT TIME (s)', 'MOVEMENT EPISODE COUNT', 'AMBULATORY TIME (s)',\n",
       "       'AMBULATORY EPISODE COUNT', 'STEREOTYPY TIME (s)',\n",
       "       'STEREOTYPIC EPISODE COUNT', 'STEREOTYPIC ACTIVITY COUNT',\n",
       "       'STEREOTYPIC EPISODE ACTIVITY COUNT', 'VERTICAL EPISODE COUNT',\n",
       "       'VERTICAL ACTIVITY COUNT', 'VERTICAL MOVEMENT TIME (s)',\n",
       "       'CLOCKWISE REVOLUTIONS', 'COUNTER-CLOCKWISE REVOLUTIONS',\n",
       "       'AMBULATORY EPISODE AVERAGE VELOCITY (cm/s)',\n",
       "       'AMBULATORY EPISODE PEAK AVERAGE VELOCITY (cm/s)',\n",
       "       'AMBULATORY EPISODE MEDIAN VELOCITY (cm/s)',\n",
       "       'LEFT-FRONT TIME LEGACY (s)', 'RIGHT-FRONT TIME LEGACY (s)',\n",
       "       'LEFT-REAR TIME LEGACY (s)', 'RIGHT-REAR TIME LEGACY (s)',\n",
       "       'MARGIN TIME LEGACY (s)', 'CENTER TIME LEGACY (s)',\n",
       "       'MARGIN DISTANCE LEGACY (cm)', 'CENTER DISTANCE LEGACY (cm)',\n",
       "       'MARGIN DISTANCE (%)', 'CENTER DISTANCE (%)', 'ID', 'Group'],\n",
       "      dtype='object')"
      ]
     },
     "execution_count": 526,
     "metadata": {},
     "output_type": "execute_result"
    }
   ],
   "source": [
    "of_r.columns"
   ]
  },
  {
   "cell_type": "code",
   "execution_count": 527,
   "metadata": {},
   "outputs": [
    {
     "data": {
      "text/html": [
       "<div>\n",
       "<style scoped>\n",
       "    .dataframe tbody tr th:only-of-type {\n",
       "        vertical-align: middle;\n",
       "    }\n",
       "\n",
       "    .dataframe tbody tr th {\n",
       "        vertical-align: top;\n",
       "    }\n",
       "\n",
       "    .dataframe thead th {\n",
       "        text-align: right;\n",
       "    }\n",
       "</style>\n",
       "<table border=\"1\" class=\"dataframe\">\n",
       "  <thead>\n",
       "    <tr style=\"text-align: right;\">\n",
       "      <th></th>\n",
       "      <th>SUBJECT ID</th>\n",
       "      <th>SUBJECT TYPE</th>\n",
       "      <th>SUBJECT SEX</th>\n",
       "      <th>SUBJECT FACTOR1</th>\n",
       "      <th>SUBJECT FACTOR2</th>\n",
       "      <th>TOTAL DISTANCE (cm)</th>\n",
       "      <th>TOTAL DISTANCE X-AXIS (cm)</th>\n",
       "      <th>TOTAL DISTANCE Y-AXIS (cm)</th>\n",
       "      <th>HORIZONTAL ACTIVITY COUNT</th>\n",
       "      <th>AMBULATORY ACTIVITY COUNT</th>\n",
       "      <th>...</th>\n",
       "      <th>LEFT-REAR TIME LEGACY (s)</th>\n",
       "      <th>RIGHT-REAR TIME LEGACY (s)</th>\n",
       "      <th>MARGIN TIME LEGACY (s)</th>\n",
       "      <th>CENTER TIME LEGACY (s)</th>\n",
       "      <th>MARGIN DISTANCE LEGACY (cm)</th>\n",
       "      <th>CENTER DISTANCE LEGACY (cm)</th>\n",
       "      <th>MARGIN DISTANCE (%)</th>\n",
       "      <th>CENTER DISTANCE (%)</th>\n",
       "      <th>ID</th>\n",
       "      <th>Group</th>\n",
       "    </tr>\n",
       "  </thead>\n",
       "  <tbody>\n",
       "    <tr>\n",
       "      <th>0</th>\n",
       "      <td>1</td>\n",
       "      <td>WT</td>\n",
       "      <td>Female</td>\n",
       "      <td>MK 1 mg/kg</td>\n",
       "      <td>UR 1.1</td>\n",
       "      <td>873.915</td>\n",
       "      <td>240.030</td>\n",
       "      <td>281.305</td>\n",
       "      <td>940</td>\n",
       "      <td>887</td>\n",
       "      <td>...</td>\n",
       "      <td>86.878</td>\n",
       "      <td>23.181</td>\n",
       "      <td>291.374</td>\n",
       "      <td>8.626</td>\n",
       "      <td>776.021</td>\n",
       "      <td>97.894</td>\n",
       "      <td>88.798224</td>\n",
       "      <td>11.201776</td>\n",
       "      <td>WT_UR 1.1_1</td>\n",
       "      <td>WT_MK 1 mg/kg</td>\n",
       "    </tr>\n",
       "    <tr>\n",
       "      <th>1</th>\n",
       "      <td>2</td>\n",
       "      <td>WT</td>\n",
       "      <td>Female</td>\n",
       "      <td>MK 1 mg/kg</td>\n",
       "      <td>UR 1.1</td>\n",
       "      <td>989.484</td>\n",
       "      <td>175.578</td>\n",
       "      <td>301.308</td>\n",
       "      <td>1345</td>\n",
       "      <td>1303</td>\n",
       "      <td>...</td>\n",
       "      <td>42.648</td>\n",
       "      <td>23.277</td>\n",
       "      <td>254.478</td>\n",
       "      <td>45.522</td>\n",
       "      <td>786.328</td>\n",
       "      <td>203.156</td>\n",
       "      <td>79.468491</td>\n",
       "      <td>20.531509</td>\n",
       "      <td>WT_UR 1.1_2</td>\n",
       "      <td>WT_MK 1 mg/kg</td>\n",
       "    </tr>\n",
       "    <tr>\n",
       "      <th>2</th>\n",
       "      <td>3</td>\n",
       "      <td>WT</td>\n",
       "      <td>Female</td>\n",
       "      <td>MK 1 mg/kg</td>\n",
       "      <td>UR 1.1</td>\n",
       "      <td>1029.658</td>\n",
       "      <td>231.775</td>\n",
       "      <td>254.318</td>\n",
       "      <td>1523</td>\n",
       "      <td>1452</td>\n",
       "      <td>...</td>\n",
       "      <td>35.676</td>\n",
       "      <td>11.576</td>\n",
       "      <td>268.988</td>\n",
       "      <td>31.012</td>\n",
       "      <td>834.239</td>\n",
       "      <td>195.419</td>\n",
       "      <td>81.020980</td>\n",
       "      <td>18.979020</td>\n",
       "      <td>WT_UR 1.1_3</td>\n",
       "      <td>WT_MK 1 mg/kg</td>\n",
       "    </tr>\n",
       "    <tr>\n",
       "      <th>3</th>\n",
       "      <td>4</td>\n",
       "      <td>WT</td>\n",
       "      <td>Female</td>\n",
       "      <td>Saline</td>\n",
       "      <td>UR 1.1</td>\n",
       "      <td>1769.765</td>\n",
       "      <td>473.710</td>\n",
       "      <td>461.010</td>\n",
       "      <td>2340</td>\n",
       "      <td>2300</td>\n",
       "      <td>...</td>\n",
       "      <td>32.809</td>\n",
       "      <td>41.947</td>\n",
       "      <td>266.666</td>\n",
       "      <td>33.334</td>\n",
       "      <td>1337.059</td>\n",
       "      <td>432.706</td>\n",
       "      <td>75.550087</td>\n",
       "      <td>24.449913</td>\n",
       "      <td>WT_UR 1.1_4</td>\n",
       "      <td>WT_Saline</td>\n",
       "    </tr>\n",
       "    <tr>\n",
       "      <th>4</th>\n",
       "      <td>5</td>\n",
       "      <td>WT</td>\n",
       "      <td>Female</td>\n",
       "      <td>Saline</td>\n",
       "      <td>UR 1.1</td>\n",
       "      <td>1019.153</td>\n",
       "      <td>191.770</td>\n",
       "      <td>282.258</td>\n",
       "      <td>1222</td>\n",
       "      <td>1170</td>\n",
       "      <td>...</td>\n",
       "      <td>50.528</td>\n",
       "      <td>26.395</td>\n",
       "      <td>287.864</td>\n",
       "      <td>12.136</td>\n",
       "      <td>798.949</td>\n",
       "      <td>220.204</td>\n",
       "      <td>78.393431</td>\n",
       "      <td>21.606569</td>\n",
       "      <td>WT_UR 1.1_5</td>\n",
       "      <td>WT_Saline</td>\n",
       "    </tr>\n",
       "  </tbody>\n",
       "</table>\n",
       "<p>5 rows × 40 columns</p>\n",
       "</div>"
      ],
      "text/plain": [
       "   SUBJECT ID SUBJECT TYPE SUBJECT SEX SUBJECT FACTOR1 SUBJECT FACTOR2  \\\n",
       "0           1           WT      Female      MK 1 mg/kg          UR 1.1   \n",
       "1           2           WT      Female      MK 1 mg/kg          UR 1.1   \n",
       "2           3           WT      Female      MK 1 mg/kg          UR 1.1   \n",
       "3           4           WT      Female          Saline          UR 1.1   \n",
       "4           5           WT      Female          Saline          UR 1.1   \n",
       "\n",
       "   TOTAL DISTANCE (cm)  TOTAL DISTANCE X-AXIS (cm)  \\\n",
       "0              873.915                     240.030   \n",
       "1              989.484                     175.578   \n",
       "2             1029.658                     231.775   \n",
       "3             1769.765                     473.710   \n",
       "4             1019.153                     191.770   \n",
       "\n",
       "   TOTAL DISTANCE Y-AXIS (cm)  HORIZONTAL ACTIVITY COUNT  \\\n",
       "0                     281.305                        940   \n",
       "1                     301.308                       1345   \n",
       "2                     254.318                       1523   \n",
       "3                     461.010                       2340   \n",
       "4                     282.258                       1222   \n",
       "\n",
       "   AMBULATORY ACTIVITY COUNT  ...  LEFT-REAR TIME LEGACY (s)  \\\n",
       "0                        887  ...                     86.878   \n",
       "1                       1303  ...                     42.648   \n",
       "2                       1452  ...                     35.676   \n",
       "3                       2300  ...                     32.809   \n",
       "4                       1170  ...                     50.528   \n",
       "\n",
       "   RIGHT-REAR TIME LEGACY (s)  MARGIN TIME LEGACY (s)  CENTER TIME LEGACY (s)  \\\n",
       "0                      23.181                 291.374                   8.626   \n",
       "1                      23.277                 254.478                  45.522   \n",
       "2                      11.576                 268.988                  31.012   \n",
       "3                      41.947                 266.666                  33.334   \n",
       "4                      26.395                 287.864                  12.136   \n",
       "\n",
       "   MARGIN DISTANCE LEGACY (cm)  CENTER DISTANCE LEGACY (cm)  \\\n",
       "0                      776.021                       97.894   \n",
       "1                      786.328                      203.156   \n",
       "2                      834.239                      195.419   \n",
       "3                     1337.059                      432.706   \n",
       "4                      798.949                      220.204   \n",
       "\n",
       "   MARGIN DISTANCE (%)  CENTER DISTANCE (%)           ID          Group  \n",
       "0            88.798224            11.201776  WT_UR 1.1_1  WT_MK 1 mg/kg  \n",
       "1            79.468491            20.531509  WT_UR 1.1_2  WT_MK 1 mg/kg  \n",
       "2            81.020980            18.979020  WT_UR 1.1_3  WT_MK 1 mg/kg  \n",
       "3            75.550087            24.449913  WT_UR 1.1_4      WT_Saline  \n",
       "4            78.393431            21.606569  WT_UR 1.1_5      WT_Saline  \n",
       "\n",
       "[5 rows x 40 columns]"
      ]
     },
     "execution_count": 527,
     "metadata": {},
     "output_type": "execute_result"
    }
   ],
   "source": [
    "of_r.head()"
   ]
  },
  {
   "cell_type": "code",
   "execution_count": 563,
   "metadata": {},
   "outputs": [
    {
     "data": {
      "text/plain": [
       "SUBJECT TYPE  SUBJECT FACTOR1\n",
       "HE            MK 1 mg/kg          5\n",
       "              Saline              4\n",
       "KO            MK 0.5 mg/kg       30\n",
       "              MK 1 mg/kg          3\n",
       "              Saline             46\n",
       "WT            MK 0.5 mg/kg       20\n",
       "              MK 1 mg/kg         20\n",
       "              Saline             36\n",
       "Name: ID, dtype: int64"
      ]
     },
     "execution_count": 563,
     "metadata": {},
     "output_type": "execute_result"
    }
   ],
   "source": [
    "of_r.groupby(['SUBJECT TYPE', 'SUBJECT FACTOR1'])['ID'].count()"
   ]
  },
  {
   "cell_type": "code",
   "execution_count": 528,
   "metadata": {},
   "outputs": [],
   "source": [
    "col_oi = ['TOTAL DISTANCE (cm)', 'REST TIME (s)', 'REST EPISODE COUNT', 'MOVEMENT EPISODE COUNT', 'AMBULATORY TIME (s)', 'STEREOTYPY TIME (s)', 'STEREOTYPIC EPISODE COUNT', 'VERTICAL EPISODE COUNT', 'VERTICAL MOVEMENT TIME (s)', 'CLOCKWISE REVOLUTIONS', 'COUNTER-CLOCKWISE REVOLUTIONS', 'AMBULATORY EPISODE AVERAGE VELOCITY (cm/s)', 'AMBULATORY EPISODE PEAK AVERAGE VELOCITY (cm/s)', 'MARGIN TIME LEGACY (s)', 'CENTER TIME LEGACY (s)']\n"
   ]
  },
  {
   "cell_type": "code",
   "execution_count": 529,
   "metadata": {},
   "outputs": [
    {
     "data": {
      "text/plain": [
       "15"
      ]
     },
     "execution_count": 529,
     "metadata": {},
     "output_type": "execute_result"
    }
   ],
   "source": [
    "len(col_oi)"
   ]
  },
  {
   "cell_type": "code",
   "execution_count": 535,
   "metadata": {},
   "outputs": [
    {
     "data": {
      "text/plain": [
       "(3, 5)"
      ]
     },
     "execution_count": 535,
     "metadata": {},
     "output_type": "execute_result"
    }
   ],
   "source": [
    "axs.shape"
   ]
  },
  {
   "cell_type": "code",
   "execution_count": 557,
   "metadata": {},
   "outputs": [
    {
     "data": {
      "image/png": "[encoded data removed]",
      "text/plain": [
       "<Figure size 1080x720 with 15 Axes>"
      ]
     },
     "metadata": {
      "needs_background": "light"
     },
     "output_type": "display_data"
    }
   ],
   "source": [
    "exp_fig, axs = plt.subplots(nrows = 3, ncols = 5, sharex = True, figsize = (15, 10))\n",
    "ii = 0\n",
    "for jj in range(3):\n",
    "    for kk in range(5):\n",
    "        sns.boxplot(data = of_r[of_r['SUBJECT TYPE']!= 'HE'], x = 'SUBJECT TYPE', y = col_oi[ii], hue = 'SUBJECT FACTOR1', width = 0.4, ax = axs[jj, kk], dodge = True)\n",
    "        axs[jj, kk].legend([])\n",
    "        axs[jj, kk].set_xlabel('')\n",
    "        ii +=1\n",
    "plt.tight_layout()\n"
   ]
  },
  {
   "cell_type": "code",
   "execution_count": 558,
   "metadata": {},
   "outputs": [],
   "source": [
    "cols_selection = ['TOTAL DISTANCE (cm)', 'REST TIME (s)', 'VERTICAL EPISODE COUNT', 'VERTICAL MOVEMENT TIME (s)', 'AMBULATORY EPISODE AVERAGE VELOCITY (cm/s)', 'AMBULATORY EPISODE PEAK AVERAGE VELOCITY (cm/s)', 'CENTER TIME LEGACY (s)']\n"
   ]
  },
  {
   "cell_type": "markdown",
   "metadata": {},
   "source": [
    "#### Laterality"
   ]
  },
  {
   "cell_type": "code",
   "execution_count": 614,
   "metadata": {},
   "outputs": [
    {
     "data": {
      "text/plain": [
       "(-0.55, 11.55, -0.55, 11.55)"
      ]
     },
     "execution_count": 614,
     "metadata": {},
     "output_type": "execute_result"
    },
    {
     "data": {
      "image/png": "[encoded data removed]",
      "text/plain": [
       "<Figure size 864x432 with 2 Axes>"
      ]
     },
     "metadata": {
      "needs_background": "light"
     },
     "output_type": "display_data"
    }
   ],
   "source": [
    "plt.figure(figsize = (12,6))\n",
    "ax1 = plt.subplot(121)\n",
    "sns.scatterplot(data = of_r[of_r['SUBJECT TYPE']== 'WT'], x = 'CLOCKWISE REVOLUTIONS', y = 'COUNTER-CLOCKWISE REVOLUTIONS', hue = 'SUBJECT FACTOR1', style = 'SUBJECT FACTOR1', alpha = 0.5, ax = ax1, s = 50)\n",
    "plt.axis('square')\n",
    "#new_labels = ['Saline', 'MK-1.0 mg', 'MK-0.5 mg']\n",
    "#[h, l] = ax1.get_legend_handles_labels()\n",
    "#ax1.legend(ncol = 3, loc = 2, handles = h, labels = new_labels)\n",
    "\n",
    "ax2 = plt.subplot(122)\n",
    "sns.scatterplot(data = of_r[of_r['SUBJECT TYPE']== 'KO'], x = 'CLOCKWISE REVOLUTIONS', y = 'COUNTER-CLOCKWISE REVOLUTIONS', hue = 'SUBJECT FACTOR1', style = 'SUBJECT FACTOR1', alpha = 0.5, ax = ax2, s = 50)\n",
    "plt.axis('square')\n",
    "#new_labels = ['Saline', 'MK-1.0 mg', 'MK-0.5 mg']\n",
    "#[h, l] = ax2.get_legend_handles_labels()\n",
    "#ax2.legend(ncol = 3, loc = 2, handles = h, labels = new_labels)\n"
   ]
  },
  {
   "cell_type": "code",
   "execution_count": 623,
   "metadata": {},
   "outputs": [],
   "source": [
    "of_r['Laterality'] = (of_r['CLOCKWISE REVOLUTIONS']-of_r['COUNTER-CLOCKWISE REVOLUTIONS']).abs() /(of_r['CLOCKWISE REVOLUTIONS']+of_r['COUNTER-CLOCKWISE REVOLUTIONS'])"
   ]
  },
  {
   "cell_type": "code",
   "execution_count": 624,
   "metadata": {},
   "outputs": [
    {
     "data": {
      "text/plain": [
       "<matplotlib.axes._subplots.AxesSubplot at 0x13c999070>"
      ]
     },
     "execution_count": 624,
     "metadata": {},
     "output_type": "execute_result"
    },
    {
     "data": {
      "image/png": "[encoded data removed]",
      "text/plain": [
       "<Figure size 432x288 with 1 Axes>"
      ]
     },
     "metadata": {
      "needs_background": "light"
     },
     "output_type": "display_data"
    }
   ],
   "source": [
    "sns.boxplot(data = of_r[of_r['SUBJECT TYPE']!= 'HE'], x = 'SUBJECT TYPE', y = 'Laterality', hue = 'SUBJECT FACTOR1', width = 0.4, dodge = True)"
   ]
  },
  {
   "cell_type": "markdown",
   "metadata": {},
   "source": [
    "### Total Distance"
   ]
  },
  {
   "cell_type": "code",
   "execution_count": 628,
   "metadata": {},
   "outputs": [
    {
     "data": {
      "text/html": [
       "<div>\n",
       "<style scoped>\n",
       "    .dataframe tbody tr th:only-of-type {\n",
       "        vertical-align: middle;\n",
       "    }\n",
       "\n",
       "    .dataframe tbody tr th {\n",
       "        vertical-align: top;\n",
       "    }\n",
       "\n",
       "    .dataframe thead th {\n",
       "        text-align: right;\n",
       "    }\n",
       "</style>\n",
       "<table border=\"1\" class=\"dataframe\">\n",
       "  <thead>\n",
       "    <tr style=\"text-align: right;\">\n",
       "      <th></th>\n",
       "      <th>W</th>\n",
       "      <th>pval</th>\n",
       "      <th>normal</th>\n",
       "    </tr>\n",
       "  </thead>\n",
       "  <tbody>\n",
       "    <tr>\n",
       "      <th>WT_MK 1 mg/kg</th>\n",
       "      <td>0.959615</td>\n",
       "      <td>0.536178</td>\n",
       "      <td>True</td>\n",
       "    </tr>\n",
       "    <tr>\n",
       "      <th>WT_Saline</th>\n",
       "      <td>0.977967</td>\n",
       "      <td>0.676399</td>\n",
       "      <td>True</td>\n",
       "    </tr>\n",
       "    <tr>\n",
       "      <th>KO_Saline</th>\n",
       "      <td>0.977157</td>\n",
       "      <td>0.494708</td>\n",
       "      <td>True</td>\n",
       "    </tr>\n",
       "    <tr>\n",
       "      <th>KO_MK 0.5 mg/kg</th>\n",
       "      <td>0.958903</td>\n",
       "      <td>0.290331</td>\n",
       "      <td>True</td>\n",
       "    </tr>\n",
       "    <tr>\n",
       "      <th>WT_MK 0.5 mg/kg</th>\n",
       "      <td>0.958370</td>\n",
       "      <td>0.511829</td>\n",
       "      <td>True</td>\n",
       "    </tr>\n",
       "    <tr>\n",
       "      <th>HE_MK 1 mg/kg</th>\n",
       "      <td>0.958214</td>\n",
       "      <td>0.795493</td>\n",
       "      <td>True</td>\n",
       "    </tr>\n",
       "    <tr>\n",
       "      <th>HE_Saline</th>\n",
       "      <td>0.844049</td>\n",
       "      <td>0.207469</td>\n",
       "      <td>True</td>\n",
       "    </tr>\n",
       "  </tbody>\n",
       "</table>\n",
       "</div>"
      ],
      "text/plain": [
       "                        W      pval  normal\n",
       "WT_MK 1 mg/kg    0.959615  0.536178    True\n",
       "WT_Saline        0.977967  0.676399    True\n",
       "KO_Saline        0.977157  0.494708    True\n",
       "KO_MK 0.5 mg/kg  0.958903  0.290331    True\n",
       "WT_MK 0.5 mg/kg  0.958370  0.511829    True\n",
       "HE_MK 1 mg/kg    0.958214  0.795493    True\n",
       "HE_Saline        0.844049  0.207469    True"
      ]
     },
     "execution_count": 628,
     "metadata": {},
     "output_type": "execute_result"
    }
   ],
   "source": [
    "pg.normality(data = of_r[of_r['Group']!= 'KO_MK 1 mg/kg'], dv = 'TOTAL DISTANCE (cm)', group = 'Group')"
   ]
  },
  {
   "cell_type": "code",
   "execution_count": 629,
   "metadata": {},
   "outputs": [],
   "source": [
    "of_wt = of_r[of_r['SUBJECT TYPE'] == 'WT'].copy()"
   ]
  },
  {
   "cell_type": "code",
   "execution_count": 631,
   "metadata": {},
   "outputs": [
    {
     "data": {
      "text/html": [
       "<div>\n",
       "<style scoped>\n",
       "    .dataframe tbody tr th:only-of-type {\n",
       "        vertical-align: middle;\n",
       "    }\n",
       "\n",
       "    .dataframe tbody tr th {\n",
       "        vertical-align: top;\n",
       "    }\n",
       "\n",
       "    .dataframe thead th {\n",
       "        text-align: right;\n",
       "    }\n",
       "</style>\n",
       "<table border=\"1\" class=\"dataframe\">\n",
       "  <thead>\n",
       "    <tr style=\"text-align: right;\">\n",
       "      <th></th>\n",
       "      <th>W</th>\n",
       "      <th>pval</th>\n",
       "      <th>equal_var</th>\n",
       "    </tr>\n",
       "  </thead>\n",
       "  <tbody>\n",
       "    <tr>\n",
       "      <th>levene</th>\n",
       "      <td>2.088385</td>\n",
       "      <td>0.131227</td>\n",
       "      <td>True</td>\n",
       "    </tr>\n",
       "  </tbody>\n",
       "</table>\n",
       "</div>"
      ],
      "text/plain": [
       "               W      pval  equal_var\n",
       "levene  2.088385  0.131227       True"
      ]
     },
     "execution_count": 631,
     "metadata": {},
     "output_type": "execute_result"
    }
   ],
   "source": [
    "pg.homoscedasticity(data = of_wt, dv = 'TOTAL DISTANCE (cm)', group = 'SUBJECT FACTOR1')"
   ]
  },
  {
   "cell_type": "code",
   "execution_count": 632,
   "metadata": {},
   "outputs": [
    {
     "data": {
      "text/html": [
       "<div>\n",
       "<style scoped>\n",
       "    .dataframe tbody tr th:only-of-type {\n",
       "        vertical-align: middle;\n",
       "    }\n",
       "\n",
       "    .dataframe tbody tr th {\n",
       "        vertical-align: top;\n",
       "    }\n",
       "\n",
       "    .dataframe thead th {\n",
       "        text-align: right;\n",
       "    }\n",
       "</style>\n",
       "<table border=\"1\" class=\"dataframe\">\n",
       "  <thead>\n",
       "    <tr style=\"text-align: right;\">\n",
       "      <th></th>\n",
       "      <th>Source</th>\n",
       "      <th>ddof1</th>\n",
       "      <th>ddof2</th>\n",
       "      <th>F</th>\n",
       "      <th>p-unc</th>\n",
       "      <th>np2</th>\n",
       "    </tr>\n",
       "  </thead>\n",
       "  <tbody>\n",
       "    <tr>\n",
       "      <th>0</th>\n",
       "      <td>SUBJECT FACTOR1</td>\n",
       "      <td>2</td>\n",
       "      <td>73</td>\n",
       "      <td>13.509705</td>\n",
       "      <td>0.00001</td>\n",
       "      <td>0.270142</td>\n",
       "    </tr>\n",
       "  </tbody>\n",
       "</table>\n",
       "</div>"
      ],
      "text/plain": [
       "            Source  ddof1  ddof2          F    p-unc       np2\n",
       "0  SUBJECT FACTOR1      2     73  13.509705  0.00001  0.270142"
      ]
     },
     "execution_count": 632,
     "metadata": {},
     "output_type": "execute_result"
    }
   ],
   "source": [
    "pg.anova(data = of_wt, dv = 'TOTAL DISTANCE (cm)', between = 'SUBJECT FACTOR1')"
   ]
  },
  {
   "cell_type": "code",
   "execution_count": 633,
   "metadata": {},
   "outputs": [
    {
     "data": {
      "text/html": [
       "<div>\n",
       "<style scoped>\n",
       "    .dataframe tbody tr th:only-of-type {\n",
       "        vertical-align: middle;\n",
       "    }\n",
       "\n",
       "    .dataframe tbody tr th {\n",
       "        vertical-align: top;\n",
       "    }\n",
       "\n",
       "    .dataframe thead th {\n",
       "        text-align: right;\n",
       "    }\n",
       "</style>\n",
       "<table border=\"1\" class=\"dataframe\">\n",
       "  <thead>\n",
       "    <tr style=\"text-align: right;\">\n",
       "      <th></th>\n",
       "      <th>A</th>\n",
       "      <th>B</th>\n",
       "      <th>mean(A)</th>\n",
       "      <th>mean(B)</th>\n",
       "      <th>diff</th>\n",
       "      <th>se</th>\n",
       "      <th>tail</th>\n",
       "      <th>T</th>\n",
       "      <th>p-tukey</th>\n",
       "      <th>hedges</th>\n",
       "    </tr>\n",
       "  </thead>\n",
       "  <tbody>\n",
       "    <tr>\n",
       "      <th>0</th>\n",
       "      <td>MK 0.5 mg/kg</td>\n",
       "      <td>MK 1 mg/kg</td>\n",
       "      <td>878.91130</td>\n",
       "      <td>855.568650</td>\n",
       "      <td>23.342650</td>\n",
       "      <td>115.325429</td>\n",
       "      <td>two-sided</td>\n",
       "      <td>0.202407</td>\n",
       "      <td>0.900</td>\n",
       "      <td>0.062735</td>\n",
       "    </tr>\n",
       "    <tr>\n",
       "      <th>1</th>\n",
       "      <td>MK 0.5 mg/kg</td>\n",
       "      <td>Saline</td>\n",
       "      <td>878.91130</td>\n",
       "      <td>1302.410083</td>\n",
       "      <td>-423.498783</td>\n",
       "      <td>101.707468</td>\n",
       "      <td>two-sided</td>\n",
       "      <td>-4.163891</td>\n",
       "      <td>0.001</td>\n",
       "      <td>-1.145050</td>\n",
       "    </tr>\n",
       "    <tr>\n",
       "      <th>2</th>\n",
       "      <td>MK 1 mg/kg</td>\n",
       "      <td>Saline</td>\n",
       "      <td>855.56865</td>\n",
       "      <td>1302.410083</td>\n",
       "      <td>-446.841433</td>\n",
       "      <td>101.707468</td>\n",
       "      <td>two-sided</td>\n",
       "      <td>-4.393398</td>\n",
       "      <td>0.001</td>\n",
       "      <td>-1.208164</td>\n",
       "    </tr>\n",
       "  </tbody>\n",
       "</table>\n",
       "</div>"
      ],
      "text/plain": [
       "              A           B    mean(A)      mean(B)        diff          se  \\\n",
       "0  MK 0.5 mg/kg  MK 1 mg/kg  878.91130   855.568650   23.342650  115.325429   \n",
       "1  MK 0.5 mg/kg      Saline  878.91130  1302.410083 -423.498783  101.707468   \n",
       "2    MK 1 mg/kg      Saline  855.56865  1302.410083 -446.841433  101.707468   \n",
       "\n",
       "        tail         T  p-tukey    hedges  \n",
       "0  two-sided  0.202407    0.900  0.062735  \n",
       "1  two-sided -4.163891    0.001 -1.145050  \n",
       "2  two-sided -4.393398    0.001 -1.208164  "
      ]
     },
     "execution_count": 633,
     "metadata": {},
     "output_type": "execute_result"
    }
   ],
   "source": [
    "pg.pairwise_tukey(data = of_wt, dv = 'SUBJECT FACTOR1', between = 'SUBJECT FACTOR1')"
   ]
  },
  {
   "cell_type": "code",
   "execution_count": 658,
   "metadata": {},
   "outputs": [
    {
     "data": {
      "text/plain": [
       "Text(0, 3, '***')"
      ]
     },
     "execution_count": 658,
     "metadata": {},
     "output_type": "execute_result"
    },
    {
     "data": {
      "image/png": "[encoded data removed]",
      "text/plain": [
       "<Figure size 360x288 with 1 Axes>"
      ]
     },
     "metadata": {
      "needs_background": "light"
     },
     "output_type": "display_data"
    }
   ],
   "source": [
    "dist_wt = plt.figure(figsize = (5, 4))\n",
    "ax = plt.subplot()\n",
    "sns.boxplot(data= of_wt, x='SUBJECT FACTOR1', y='TOTAL DISTANCE (cm)', hue='Group', order = ['Saline', 'MK 0.5 mg/kg', 'MK 1 mg/kg'], showmeans=True, meanprops={'marker':'+', 'markeredgecolor':'k'}, width=0.3, palette=['cornflowerblue', 'royalblue', 'steelblue'], showfliers = True, ax = ax, dodge = False)\n",
    "sns.despine()\n",
    "labels = ['Control', 'MK-801 \\n(0.5 mg/kg)', 'MK-801 \\n(1 mg/kg)']\n",
    "ax.set_xticklabels(labels)\n",
    "plt.xlabel('')\n",
    "plt.ylabel('Total distance (cm)')\n",
    "plt.legend([], [], frameon = False)\n",
    "plt.annotate(s='***', xy=(136, 240), xycoords='axes points', xytext=(0, 3), textcoords='offset points', ha = 'center', arrowprops=dict(arrowstyle='-[, widthB=9.3, lengthB=.4', lw=1.5, color='k'), fontsize = 10)\n",
    "plt.annotate(s='***', xy=(90, 225), xycoords='axes points', xytext=(0, 3), textcoords='offset points', ha = 'center', arrowprops=dict(arrowstyle='-[, widthB=4.6, lengthB=.4', lw=1.5, color='k'), fontsize = 10)\n",
    "\n"
   ]
  },
  {
   "cell_type": "code",
   "execution_count": 662,
   "metadata": {},
   "outputs": [],
   "source": [
    "dist_wt.savefig('/Users/labc02/Documents/PDCB_data/MK-project/Figures/of_wt_dist_box.svg')"
   ]
  },
  {
   "cell_type": "code",
   "execution_count": 663,
   "metadata": {},
   "outputs": [],
   "source": [
    "of_all = of_r[of_r['Group'].isin(['WT_Saline', 'KO_Saline', 'WT_MK 0.5 mg/kg', 'KO_MK 0.5 mg/kg'])].copy()"
   ]
  },
  {
   "cell_type": "code",
   "execution_count": 664,
   "metadata": {},
   "outputs": [
    {
     "data": {
      "text/plain": [
       "array(['WT_Saline', 'KO_Saline', 'KO_MK 0.5 mg/kg', 'WT_MK 0.5 mg/kg'],\n",
       "      dtype=object)"
      ]
     },
     "execution_count": 664,
     "metadata": {},
     "output_type": "execute_result"
    }
   ],
   "source": [
    "of_all['Group'].unique()"
   ]
  },
  {
   "cell_type": "code",
   "execution_count": 665,
   "metadata": {},
   "outputs": [
    {
     "data": {
      "text/html": [
       "<div>\n",
       "<style scoped>\n",
       "    .dataframe tbody tr th:only-of-type {\n",
       "        vertical-align: middle;\n",
       "    }\n",
       "\n",
       "    .dataframe tbody tr th {\n",
       "        vertical-align: top;\n",
       "    }\n",
       "\n",
       "    .dataframe thead th {\n",
       "        text-align: right;\n",
       "    }\n",
       "</style>\n",
       "<table border=\"1\" class=\"dataframe\">\n",
       "  <thead>\n",
       "    <tr style=\"text-align: right;\">\n",
       "      <th></th>\n",
       "      <th>W</th>\n",
       "      <th>pval</th>\n",
       "      <th>equal_var</th>\n",
       "    </tr>\n",
       "  </thead>\n",
       "  <tbody>\n",
       "    <tr>\n",
       "      <th>levene</th>\n",
       "      <td>1.188846</td>\n",
       "      <td>0.31671</td>\n",
       "      <td>True</td>\n",
       "    </tr>\n",
       "  </tbody>\n",
       "</table>\n",
       "</div>"
      ],
      "text/plain": [
       "               W     pval  equal_var\n",
       "levene  1.188846  0.31671       True"
      ]
     },
     "execution_count": 665,
     "metadata": {},
     "output_type": "execute_result"
    }
   ],
   "source": [
    "pg.homoscedasticity(data = of_all, dv = 'TOTAL DISTANCE (cm)', group = 'Group')"
   ]
  },
  {
   "cell_type": "code",
   "execution_count": 672,
   "metadata": {},
   "outputs": [],
   "source": [
    "col_names = {'TOTAL DISTANCE (cm)' : 'distance', 'SUBJECT TYPE': 'Genotype', 'SUBJECT FACTOR1': 'Tx'}\n",
    "of_all.rename(columns = col_names, inplace = True)"
   ]
  },
  {
   "cell_type": "code",
   "execution_count": 673,
   "metadata": {},
   "outputs": [
    {
     "data": {
      "text/html": [
       "<div>\n",
       "<style scoped>\n",
       "    .dataframe tbody tr th:only-of-type {\n",
       "        vertical-align: middle;\n",
       "    }\n",
       "\n",
       "    .dataframe tbody tr th {\n",
       "        vertical-align: top;\n",
       "    }\n",
       "\n",
       "    .dataframe thead th {\n",
       "        text-align: right;\n",
       "    }\n",
       "</style>\n",
       "<table border=\"1\" class=\"dataframe\">\n",
       "  <thead>\n",
       "    <tr style=\"text-align: right;\">\n",
       "      <th></th>\n",
       "      <th>Source</th>\n",
       "      <th>SS</th>\n",
       "      <th>DF</th>\n",
       "      <th>MS</th>\n",
       "      <th>F</th>\n",
       "      <th>p-unc</th>\n",
       "      <th>np2</th>\n",
       "    </tr>\n",
       "  </thead>\n",
       "  <tbody>\n",
       "    <tr>\n",
       "      <th>0</th>\n",
       "      <td>Genotype</td>\n",
       "      <td>3.018859e+05</td>\n",
       "      <td>1.0</td>\n",
       "      <td>3.018859e+05</td>\n",
       "      <td>2.626639</td>\n",
       "      <td>0.107545</td>\n",
       "      <td>0.020108</td>\n",
       "    </tr>\n",
       "    <tr>\n",
       "      <th>1</th>\n",
       "      <td>Tx</td>\n",
       "      <td>2.551342e+06</td>\n",
       "      <td>1.0</td>\n",
       "      <td>2.551342e+06</td>\n",
       "      <td>22.198628</td>\n",
       "      <td>0.000006</td>\n",
       "      <td>0.147795</td>\n",
       "    </tr>\n",
       "    <tr>\n",
       "      <th>2</th>\n",
       "      <td>Genotype * Tx</td>\n",
       "      <td>4.102994e+05</td>\n",
       "      <td>1.0</td>\n",
       "      <td>4.102994e+05</td>\n",
       "      <td>3.569919</td>\n",
       "      <td>0.061097</td>\n",
       "      <td>0.027133</td>\n",
       "    </tr>\n",
       "    <tr>\n",
       "      <th>3</th>\n",
       "      <td>Residual</td>\n",
       "      <td>1.471135e+07</td>\n",
       "      <td>128.0</td>\n",
       "      <td>1.149324e+05</td>\n",
       "      <td>NaN</td>\n",
       "      <td>NaN</td>\n",
       "      <td>NaN</td>\n",
       "    </tr>\n",
       "  </tbody>\n",
       "</table>\n",
       "</div>"
      ],
      "text/plain": [
       "          Source            SS     DF            MS          F     p-unc  \\\n",
       "0       Genotype  3.018859e+05    1.0  3.018859e+05   2.626639  0.107545   \n",
       "1             Tx  2.551342e+06    1.0  2.551342e+06  22.198628  0.000006   \n",
       "2  Genotype * Tx  4.102994e+05    1.0  4.102994e+05   3.569919  0.061097   \n",
       "3       Residual  1.471135e+07  128.0  1.149324e+05        NaN       NaN   \n",
       "\n",
       "        np2  \n",
       "0  0.020108  \n",
       "1  0.147795  \n",
       "2  0.027133  \n",
       "3       NaN  "
      ]
     },
     "execution_count": 673,
     "metadata": {},
     "output_type": "execute_result"
    }
   ],
   "source": [
    "pg.anova(data = of_all, dv = 'distance', between = ['Genotype', 'Tx'])"
   ]
  },
  {
   "cell_type": "code",
   "execution_count": 674,
   "metadata": {},
   "outputs": [
    {
     "data": {
      "text/html": [
       "<div>\n",
       "<style scoped>\n",
       "    .dataframe tbody tr th:only-of-type {\n",
       "        vertical-align: middle;\n",
       "    }\n",
       "\n",
       "    .dataframe tbody tr th {\n",
       "        vertical-align: top;\n",
       "    }\n",
       "\n",
       "    .dataframe thead th {\n",
       "        text-align: right;\n",
       "    }\n",
       "</style>\n",
       "<table border=\"1\" class=\"dataframe\">\n",
       "  <thead>\n",
       "    <tr style=\"text-align: right;\">\n",
       "      <th></th>\n",
       "      <th>A</th>\n",
       "      <th>B</th>\n",
       "      <th>mean(A)</th>\n",
       "      <th>mean(B)</th>\n",
       "      <th>diff</th>\n",
       "      <th>se</th>\n",
       "      <th>tail</th>\n",
       "      <th>T</th>\n",
       "      <th>p-tukey</th>\n",
       "      <th>hedges</th>\n",
       "    </tr>\n",
       "  </thead>\n",
       "  <tbody>\n",
       "    <tr>\n",
       "      <th>0</th>\n",
       "      <td>KO_MK 0.5 mg/kg</td>\n",
       "      <td>KO_Saline</td>\n",
       "      <td>928.527167</td>\n",
       "      <td>1118.555674</td>\n",
       "      <td>-190.028507</td>\n",
       "      <td>79.558849</td>\n",
       "      <td>two-sided</td>\n",
       "      <td>-2.388528</td>\n",
       "      <td>0.080903</td>\n",
       "      <td>-0.554828</td>\n",
       "    </tr>\n",
       "    <tr>\n",
       "      <th>1</th>\n",
       "      <td>KO_MK 0.5 mg/kg</td>\n",
       "      <td>WT_MK 0.5 mg/kg</td>\n",
       "      <td>928.527167</td>\n",
       "      <td>878.911300</td>\n",
       "      <td>49.615867</td>\n",
       "      <td>97.865725</td>\n",
       "      <td>two-sided</td>\n",
       "      <td>0.506979</td>\n",
       "      <td>0.900000</td>\n",
       "      <td>0.144054</td>\n",
       "    </tr>\n",
       "    <tr>\n",
       "      <th>2</th>\n",
       "      <td>KO_MK 0.5 mg/kg</td>\n",
       "      <td>WT_Saline</td>\n",
       "      <td>928.527167</td>\n",
       "      <td>1302.410083</td>\n",
       "      <td>-373.882917</td>\n",
       "      <td>83.807200</td>\n",
       "      <td>two-sided</td>\n",
       "      <td>-4.461227</td>\n",
       "      <td>0.001000</td>\n",
       "      <td>-1.089870</td>\n",
       "    </tr>\n",
       "    <tr>\n",
       "      <th>3</th>\n",
       "      <td>KO_Saline</td>\n",
       "      <td>WT_MK 0.5 mg/kg</td>\n",
       "      <td>1118.555674</td>\n",
       "      <td>878.911300</td>\n",
       "      <td>239.644374</td>\n",
       "      <td>90.802811</td>\n",
       "      <td>two-sided</td>\n",
       "      <td>2.639174</td>\n",
       "      <td>0.042572</td>\n",
       "      <td>0.698564</td>\n",
       "    </tr>\n",
       "    <tr>\n",
       "      <th>4</th>\n",
       "      <td>KO_Saline</td>\n",
       "      <td>WT_Saline</td>\n",
       "      <td>1118.555674</td>\n",
       "      <td>1302.410083</td>\n",
       "      <td>-183.854409</td>\n",
       "      <td>75.439361</td>\n",
       "      <td>two-sided</td>\n",
       "      <td>-2.437115</td>\n",
       "      <td>0.071846</td>\n",
       "      <td>-0.537216</td>\n",
       "    </tr>\n",
       "    <tr>\n",
       "      <th>5</th>\n",
       "      <td>WT_MK 0.5 mg/kg</td>\n",
       "      <td>WT_Saline</td>\n",
       "      <td>878.911300</td>\n",
       "      <td>1302.410083</td>\n",
       "      <td>-423.498783</td>\n",
       "      <td>94.547273</td>\n",
       "      <td>two-sided</td>\n",
       "      <td>-4.479228</td>\n",
       "      <td>0.001000</td>\n",
       "      <td>-1.231766</td>\n",
       "    </tr>\n",
       "  </tbody>\n",
       "</table>\n",
       "</div>"
      ],
      "text/plain": [
       "                 A                B      mean(A)      mean(B)        diff  \\\n",
       "0  KO_MK 0.5 mg/kg        KO_Saline   928.527167  1118.555674 -190.028507   \n",
       "1  KO_MK 0.5 mg/kg  WT_MK 0.5 mg/kg   928.527167   878.911300   49.615867   \n",
       "2  KO_MK 0.5 mg/kg        WT_Saline   928.527167  1302.410083 -373.882917   \n",
       "3        KO_Saline  WT_MK 0.5 mg/kg  1118.555674   878.911300  239.644374   \n",
       "4        KO_Saline        WT_Saline  1118.555674  1302.410083 -183.854409   \n",
       "5  WT_MK 0.5 mg/kg        WT_Saline   878.911300  1302.410083 -423.498783   \n",
       "\n",
       "          se       tail         T   p-tukey    hedges  \n",
       "0  79.558849  two-sided -2.388528  0.080903 -0.554828  \n",
       "1  97.865725  two-sided  0.506979  0.900000  0.144054  \n",
       "2  83.807200  two-sided -4.461227  0.001000 -1.089870  \n",
       "3  90.802811  two-sided  2.639174  0.042572  0.698564  \n",
       "4  75.439361  two-sided -2.437115  0.071846 -0.537216  \n",
       "5  94.547273  two-sided -4.479228  0.001000 -1.231766  "
      ]
     },
     "execution_count": 674,
     "metadata": {},
     "output_type": "execute_result"
    }
   ],
   "source": [
    "pg.pairwise_tukey(data = of_all, dv = 'distance', between = 'Group')"
   ]
  },
  {
   "cell_type": "code",
   "execution_count": 941,
   "metadata": {},
   "outputs": [
    {
     "data": {
      "image/png": "[encoded data removed]",
      "text/plain": [
       "<Figure size 360x360 with 1 Axes>"
      ]
     },
     "metadata": {
      "needs_background": "light"
     },
     "output_type": "display_data"
    }
   ],
   "source": [
    "of_all_dist_fig = plt.figure(figsize= (5, 5))\n",
    "ax = plt.subplot()\n",
    "sns.boxplot(data= of_all, x='Tx', y='distance', hue='Group', hue_order = ['WT_Saline', 'WT_MK 0.5 mg/kg', 'KO_Saline', 'KO_MK 0.5 mg/kg'], showmeans=True, meanprops={'marker':'+', 'markeredgecolor':'k'}, width=0.4, palette=['royalblue', 'steelblue', 'forestgreen', 'darkseagreen'], showfliers = True, dodge = True)\n",
    "sns.despine()\n",
    "new_labels = ['WT_Saline', 'WT_MK-801', 'KO_Saline', 'KO_MK-801']\n",
    "[h, l] = ax.get_legend_handles_labels()\n",
    "plt.ylabel('Total Distance (cm)')\n",
    "plt.annotate(s='***', xy=(100, 290), xycoords='axes points', xytext=(0, 3), textcoords='offset points', ha = 'center', arrowprops=dict(arrowstyle='-[, widthB=6.5, lengthB=.4', lw=1.5, color='k'), fontsize = 10)\n",
    "plt.annotate(s='***', xy=(90, 275), xycoords='axes points', xytext=(0, 3), textcoords='offset points', ha = 'center', arrowprops=dict(arrowstyle='-[, widthB=5.5, lengthB=.4', lw=1.5, color='k'), fontsize = 10)\n",
    "plt.annotate(s='*', xy=(100, 215), xycoords='axes points', xytext=(0, 3), textcoords='offset points', ha = 'center', arrowprops=dict(arrowstyle='-[, widthB=4.5, lengthB=.4', lw=1.5, color='k'), fontsize = 10)\n",
    "plt.legend(bbox_to_anchor=(1, 1), loc=2, borderaxespad=0., handles = h, labels = new_labels)\n",
    "plt.tight_layout()"
   ]
  },
  {
   "cell_type": "code",
   "execution_count": 942,
   "metadata": {},
   "outputs": [],
   "source": [
    "of_all_dist_fig.savefig('/Users/labc02/Documents/PDCB_data/MK-project/Figures/of_all_dist_box.svg')"
   ]
  },
  {
   "cell_type": "markdown",
   "metadata": {},
   "source": [
    "#### Rest"
   ]
  },
  {
   "cell_type": "code",
   "execution_count": 712,
   "metadata": {},
   "outputs": [
    {
     "data": {
      "text/html": [
       "<div>\n",
       "<style scoped>\n",
       "    .dataframe tbody tr th:only-of-type {\n",
       "        vertical-align: middle;\n",
       "    }\n",
       "\n",
       "    .dataframe tbody tr th {\n",
       "        vertical-align: top;\n",
       "    }\n",
       "\n",
       "    .dataframe thead th {\n",
       "        text-align: right;\n",
       "    }\n",
       "</style>\n",
       "<table border=\"1\" class=\"dataframe\">\n",
       "  <thead>\n",
       "    <tr style=\"text-align: right;\">\n",
       "      <th></th>\n",
       "      <th>W</th>\n",
       "      <th>pval</th>\n",
       "      <th>normal</th>\n",
       "    </tr>\n",
       "  </thead>\n",
       "  <tbody>\n",
       "    <tr>\n",
       "      <th>WT_MK 1 mg/kg</th>\n",
       "      <td>0.913977</td>\n",
       "      <td>0.075919</td>\n",
       "      <td>True</td>\n",
       "    </tr>\n",
       "    <tr>\n",
       "      <th>WT_Saline</th>\n",
       "      <td>0.936718</td>\n",
       "      <td>0.040189</td>\n",
       "      <td>False</td>\n",
       "    </tr>\n",
       "    <tr>\n",
       "      <th>KO_Saline</th>\n",
       "      <td>0.928949</td>\n",
       "      <td>0.007731</td>\n",
       "      <td>False</td>\n",
       "    </tr>\n",
       "    <tr>\n",
       "      <th>KO_MK 0.5 mg/kg</th>\n",
       "      <td>0.890515</td>\n",
       "      <td>0.004962</td>\n",
       "      <td>False</td>\n",
       "    </tr>\n",
       "    <tr>\n",
       "      <th>WT_MK 0.5 mg/kg</th>\n",
       "      <td>0.962744</td>\n",
       "      <td>0.599996</td>\n",
       "      <td>True</td>\n",
       "    </tr>\n",
       "    <tr>\n",
       "      <th>HE_MK 1 mg/kg</th>\n",
       "      <td>0.891519</td>\n",
       "      <td>0.364801</td>\n",
       "      <td>True</td>\n",
       "    </tr>\n",
       "    <tr>\n",
       "      <th>HE_Saline</th>\n",
       "      <td>0.915702</td>\n",
       "      <td>0.513126</td>\n",
       "      <td>True</td>\n",
       "    </tr>\n",
       "  </tbody>\n",
       "</table>\n",
       "</div>"
      ],
      "text/plain": [
       "                        W      pval  normal\n",
       "WT_MK 1 mg/kg    0.913977  0.075919    True\n",
       "WT_Saline        0.936718  0.040189   False\n",
       "KO_Saline        0.928949  0.007731   False\n",
       "KO_MK 0.5 mg/kg  0.890515  0.004962   False\n",
       "WT_MK 0.5 mg/kg  0.962744  0.599996    True\n",
       "HE_MK 1 mg/kg    0.891519  0.364801    True\n",
       "HE_Saline        0.915702  0.513126    True"
      ]
     },
     "execution_count": 712,
     "metadata": {},
     "output_type": "execute_result"
    }
   ],
   "source": [
    "pg.normality(data = of_r[of_r['Group']!= 'KO_MK 1 mg/kg'], dv = 'REST TIME (s)', group = 'Group')"
   ]
  },
  {
   "cell_type": "code",
   "execution_count": 713,
   "metadata": {},
   "outputs": [
    {
     "data": {
      "text/html": [
       "<div>\n",
       "<style scoped>\n",
       "    .dataframe tbody tr th:only-of-type {\n",
       "        vertical-align: middle;\n",
       "    }\n",
       "\n",
       "    .dataframe tbody tr th {\n",
       "        vertical-align: top;\n",
       "    }\n",
       "\n",
       "    .dataframe thead th {\n",
       "        text-align: right;\n",
       "    }\n",
       "</style>\n",
       "<table border=\"1\" class=\"dataframe\">\n",
       "  <thead>\n",
       "    <tr style=\"text-align: right;\">\n",
       "      <th></th>\n",
       "      <th>W</th>\n",
       "      <th>pval</th>\n",
       "      <th>equal_var</th>\n",
       "    </tr>\n",
       "  </thead>\n",
       "  <tbody>\n",
       "    <tr>\n",
       "      <th>levene</th>\n",
       "      <td>18.422012</td>\n",
       "      <td>3.333838e-07</td>\n",
       "      <td>False</td>\n",
       "    </tr>\n",
       "  </tbody>\n",
       "</table>\n",
       "</div>"
      ],
      "text/plain": [
       "                W          pval  equal_var\n",
       "levene  18.422012  3.333838e-07      False"
      ]
     },
     "execution_count": 713,
     "metadata": {},
     "output_type": "execute_result"
    }
   ],
   "source": [
    "pg.homoscedasticity(data = of_wt, dv = 'REST TIME (s)', group = 'SUBJECT FACTOR1')"
   ]
  },
  {
   "cell_type": "code",
   "execution_count": 714,
   "metadata": {},
   "outputs": [
    {
     "data": {
      "text/html": [
       "<div>\n",
       "<style scoped>\n",
       "    .dataframe tbody tr th:only-of-type {\n",
       "        vertical-align: middle;\n",
       "    }\n",
       "\n",
       "    .dataframe tbody tr th {\n",
       "        vertical-align: top;\n",
       "    }\n",
       "\n",
       "    .dataframe thead th {\n",
       "        text-align: right;\n",
       "    }\n",
       "</style>\n",
       "<table border=\"1\" class=\"dataframe\">\n",
       "  <thead>\n",
       "    <tr style=\"text-align: right;\">\n",
       "      <th></th>\n",
       "      <th>Source</th>\n",
       "      <th>ddof1</th>\n",
       "      <th>ddof2</th>\n",
       "      <th>F</th>\n",
       "      <th>p-unc</th>\n",
       "      <th>np2</th>\n",
       "    </tr>\n",
       "  </thead>\n",
       "  <tbody>\n",
       "    <tr>\n",
       "      <th>0</th>\n",
       "      <td>SUBJECT FACTOR1</td>\n",
       "      <td>2</td>\n",
       "      <td>33.904002</td>\n",
       "      <td>13.106025</td>\n",
       "      <td>0.000061</td>\n",
       "      <td>0.319968</td>\n",
       "    </tr>\n",
       "  </tbody>\n",
       "</table>\n",
       "</div>"
      ],
      "text/plain": [
       "            Source  ddof1      ddof2          F     p-unc       np2\n",
       "0  SUBJECT FACTOR1      2  33.904002  13.106025  0.000061  0.319968"
      ]
     },
     "execution_count": 714,
     "metadata": {},
     "output_type": "execute_result"
    }
   ],
   "source": [
    "pg.welch_anova(data = of_wt, dv = 'REST TIME (s)', between = 'SUBJECT FACTOR1')"
   ]
  },
  {
   "cell_type": "code",
   "execution_count": 716,
   "metadata": {},
   "outputs": [
    {
     "data": {
      "text/html": [
       "<div>\n",
       "<style scoped>\n",
       "    .dataframe tbody tr th:only-of-type {\n",
       "        vertical-align: middle;\n",
       "    }\n",
       "\n",
       "    .dataframe tbody tr th {\n",
       "        vertical-align: top;\n",
       "    }\n",
       "\n",
       "    .dataframe thead th {\n",
       "        text-align: right;\n",
       "    }\n",
       "</style>\n",
       "<table border=\"1\" class=\"dataframe\">\n",
       "  <thead>\n",
       "    <tr style=\"text-align: right;\">\n",
       "      <th></th>\n",
       "      <th>A</th>\n",
       "      <th>B</th>\n",
       "      <th>mean(A)</th>\n",
       "      <th>mean(B)</th>\n",
       "      <th>diff</th>\n",
       "      <th>se</th>\n",
       "      <th>tail</th>\n",
       "      <th>T</th>\n",
       "      <th>df</th>\n",
       "      <th>pval</th>\n",
       "      <th>cohen</th>\n",
       "    </tr>\n",
       "  </thead>\n",
       "  <tbody>\n",
       "    <tr>\n",
       "      <th>0</th>\n",
       "      <td>MK 0.5 mg/kg</td>\n",
       "      <td>MK 1 mg/kg</td>\n",
       "      <td>65.5034</td>\n",
       "      <td>101.065000</td>\n",
       "      <td>-35.561600</td>\n",
       "      <td>9.952540</td>\n",
       "      <td>two-sided</td>\n",
       "      <td>-2.526576</td>\n",
       "      <td>24.761481</td>\n",
       "      <td>0.033645</td>\n",
       "      <td>-0.798973</td>\n",
       "    </tr>\n",
       "    <tr>\n",
       "      <th>1</th>\n",
       "      <td>MK 0.5 mg/kg</td>\n",
       "      <td>Saline</td>\n",
       "      <td>65.5034</td>\n",
       "      <td>44.028417</td>\n",
       "      <td>21.474983</td>\n",
       "      <td>4.327893</td>\n",
       "      <td>two-sided</td>\n",
       "      <td>3.508660</td>\n",
       "      <td>34.507647</td>\n",
       "      <td>0.001544</td>\n",
       "      <td>0.978519</td>\n",
       "    </tr>\n",
       "    <tr>\n",
       "      <th>2</th>\n",
       "      <td>MK 1 mg/kg</td>\n",
       "      <td>Saline</td>\n",
       "      <td>101.0650</td>\n",
       "      <td>44.028417</td>\n",
       "      <td>57.036583</td>\n",
       "      <td>9.547641</td>\n",
       "      <td>two-sided</td>\n",
       "      <td>4.224180</td>\n",
       "      <td>21.430462</td>\n",
       "      <td>0.001000</td>\n",
       "      <td>1.178068</td>\n",
       "    </tr>\n",
       "  </tbody>\n",
       "</table>\n",
       "</div>"
      ],
      "text/plain": [
       "              A           B   mean(A)     mean(B)       diff        se  \\\n",
       "0  MK 0.5 mg/kg  MK 1 mg/kg   65.5034  101.065000 -35.561600  9.952540   \n",
       "1  MK 0.5 mg/kg      Saline   65.5034   44.028417  21.474983  4.327893   \n",
       "2    MK 1 mg/kg      Saline  101.0650   44.028417  57.036583  9.547641   \n",
       "\n",
       "        tail         T         df      pval     cohen  \n",
       "0  two-sided -2.526576  24.761481  0.033645 -0.798973  \n",
       "1  two-sided  3.508660  34.507647  0.001544  0.978519  \n",
       "2  two-sided  4.224180  21.430462  0.001000  1.178068  "
      ]
     },
     "execution_count": 716,
     "metadata": {},
     "output_type": "execute_result"
    }
   ],
   "source": [
    "pg.pairwise_gameshowell(data = of_wt, dv = 'REST TIME (s)', between = 'SUBJECT FACTOR1', effsize = 'cohen')"
   ]
  },
  {
   "cell_type": "code",
   "execution_count": 732,
   "metadata": {},
   "outputs": [
    {
     "data": {
      "text/plain": [
       "Text(0, 3, '**')"
      ]
     },
     "execution_count": 732,
     "metadata": {},
     "output_type": "execute_result"
    },
    {
     "data": {
      "image/png": "[encoded data removed]",
      "text/plain": [
       "<Figure size 360x288 with 1 Axes>"
      ]
     },
     "metadata": {
      "needs_background": "light"
     },
     "output_type": "display_data"
    }
   ],
   "source": [
    "rest_wt = plt.figure(figsize = (5, 4))\n",
    "ax = plt.subplot()\n",
    "sns.boxplot(data= of_wt, x='SUBJECT FACTOR1', y='REST TIME (s)', hue='Group', order = ['Saline', 'MK 0.5 mg/kg', 'MK 1 mg/kg'], showmeans=True, meanprops={'marker':'+', 'markeredgecolor':'k'}, width=0.3, palette=['cornflowerblue', 'royalblue', 'steelblue'], showfliers = True, ax = ax, dodge = False)\n",
    "sns.despine()\n",
    "labels = ['Control', 'MK-801 \\n(0.5 mg/kg)', 'MK-801 \\n(1 mg/kg)']\n",
    "ax.set_xticklabels(labels)\n",
    "plt.xlabel('')\n",
    "plt.ylabel('Rest time (s)')\n",
    "plt.legend([], [], frameon = False)\n",
    "plt.annotate(s='***', xy=(138, 235), xycoords='axes points', xytext=(0, 3), textcoords='offset points', ha = 'center', arrowprops=dict(arrowstyle='-[, widthB=9.3, lengthB=.4', lw=1.5, color='k'), fontsize = 10)\n",
    "plt.annotate(s='*', xy=(186, 220), xycoords='axes points', xytext=(0, 3), textcoords='offset points', ha = 'center', arrowprops=dict(arrowstyle='-[, widthB=4.6, lengthB=.4', lw=1.5, color='k'), fontsize = 10)\n",
    "plt.annotate(s='**', xy=(92, 130), xycoords='axes points', xytext=(0, 3), textcoords='offset points', ha = 'center', arrowprops=dict(arrowstyle='-[, widthB=4.7, lengthB=.4', lw=1.5, color='k'), fontsize = 10)\n",
    "\n"
   ]
  },
  {
   "cell_type": "code",
   "execution_count": 733,
   "metadata": {},
   "outputs": [],
   "source": [
    "rest_wt.savefig('/Users/labc02/Documents/PDCB_data/MK-project/Figures/of_wt_rest_box.svg')"
   ]
  },
  {
   "cell_type": "code",
   "execution_count": 734,
   "metadata": {},
   "outputs": [
    {
     "data": {
      "text/html": [
       "<div>\n",
       "<style scoped>\n",
       "    .dataframe tbody tr th:only-of-type {\n",
       "        vertical-align: middle;\n",
       "    }\n",
       "\n",
       "    .dataframe tbody tr th {\n",
       "        vertical-align: top;\n",
       "    }\n",
       "\n",
       "    .dataframe thead th {\n",
       "        text-align: right;\n",
       "    }\n",
       "</style>\n",
       "<table border=\"1\" class=\"dataframe\">\n",
       "  <thead>\n",
       "    <tr style=\"text-align: right;\">\n",
       "      <th></th>\n",
       "      <th>W</th>\n",
       "      <th>pval</th>\n",
       "      <th>equal_var</th>\n",
       "    </tr>\n",
       "  </thead>\n",
       "  <tbody>\n",
       "    <tr>\n",
       "      <th>levene</th>\n",
       "      <td>2.595555</td>\n",
       "      <td>0.055333</td>\n",
       "      <td>True</td>\n",
       "    </tr>\n",
       "  </tbody>\n",
       "</table>\n",
       "</div>"
      ],
      "text/plain": [
       "               W      pval  equal_var\n",
       "levene  2.595555  0.055333       True"
      ]
     },
     "execution_count": 734,
     "metadata": {},
     "output_type": "execute_result"
    }
   ],
   "source": [
    "pg.homoscedasticity(data = of_all, dv = 'REST TIME (s)', group = 'Group')"
   ]
  },
  {
   "cell_type": "markdown",
   "metadata": {},
   "source": [
    "### Detect outliers"
   ]
  },
  {
   "cell_type": "code",
   "execution_count": 765,
   "metadata": {},
   "outputs": [],
   "source": [
    "rest_outliers = []\n",
    "# Saline group\n",
    "out = pg.madmedianrule(of_all[of_all['Group']== 'KO_Saline']['REST TIME (s)'])\n",
    "idx = of_all[of_all['Group']== 'KO_Saline']['REST TIME (s)'].index.values\n",
    "for ii in idx[out]:\n",
    "    rest_outliers.append(ii)\n",
    "\n",
    "# 0.5 mg/kg group\n",
    "\n",
    "out = pg.madmedianrule(of_all[of_all['Group']== 'KO_MK 0.5 mg/kg']['REST TIME (s)'])\n",
    "idx = of_all[of_all['Group']== 'KO_MK 0.5 mg/kg']['REST TIME (s)'].index.values\n",
    "for ii in idx[out]:\n",
    "    rest_outliers.append(ii)"
   ]
  },
  {
   "cell_type": "code",
   "execution_count": 766,
   "metadata": {},
   "outputs": [
    {
     "data": {
      "text/plain": [
       "[19, 143, 157, 137, 145]"
      ]
     },
     "execution_count": 766,
     "metadata": {},
     "output_type": "execute_result"
    }
   ],
   "source": [
    "rest_outliers"
   ]
  },
  {
   "cell_type": "code",
   "execution_count": 767,
   "metadata": {},
   "outputs": [],
   "source": [
    "tidy_rest = of_all.copy()"
   ]
  },
  {
   "cell_type": "code",
   "execution_count": 768,
   "metadata": {},
   "outputs": [],
   "source": [
    "tidy_rest.drop(index = rest_outliers, inplace = True)"
   ]
  },
  {
   "cell_type": "code",
   "execution_count": 769,
   "metadata": {},
   "outputs": [
    {
     "data": {
      "text/html": [
       "<div>\n",
       "<style scoped>\n",
       "    .dataframe tbody tr th:only-of-type {\n",
       "        vertical-align: middle;\n",
       "    }\n",
       "\n",
       "    .dataframe tbody tr th {\n",
       "        vertical-align: top;\n",
       "    }\n",
       "\n",
       "    .dataframe thead th {\n",
       "        text-align: right;\n",
       "    }\n",
       "</style>\n",
       "<table border=\"1\" class=\"dataframe\">\n",
       "  <thead>\n",
       "    <tr style=\"text-align: right;\">\n",
       "      <th></th>\n",
       "      <th>W</th>\n",
       "      <th>pval</th>\n",
       "      <th>normal</th>\n",
       "    </tr>\n",
       "  </thead>\n",
       "  <tbody>\n",
       "    <tr>\n",
       "      <th>WT_Saline</th>\n",
       "      <td>0.936718</td>\n",
       "      <td>0.040189</td>\n",
       "      <td>False</td>\n",
       "    </tr>\n",
       "    <tr>\n",
       "      <th>KO_Saline</th>\n",
       "      <td>0.943286</td>\n",
       "      <td>0.034050</td>\n",
       "      <td>False</td>\n",
       "    </tr>\n",
       "    <tr>\n",
       "      <th>KO_MK 0.5 mg/kg</th>\n",
       "      <td>0.921303</td>\n",
       "      <td>0.037361</td>\n",
       "      <td>False</td>\n",
       "    </tr>\n",
       "    <tr>\n",
       "      <th>WT_MK 0.5 mg/kg</th>\n",
       "      <td>0.962744</td>\n",
       "      <td>0.599996</td>\n",
       "      <td>True</td>\n",
       "    </tr>\n",
       "  </tbody>\n",
       "</table>\n",
       "</div>"
      ],
      "text/plain": [
       "                        W      pval  normal\n",
       "WT_Saline        0.936718  0.040189   False\n",
       "KO_Saline        0.943286  0.034050   False\n",
       "KO_MK 0.5 mg/kg  0.921303  0.037361   False\n",
       "WT_MK 0.5 mg/kg  0.962744  0.599996    True"
      ]
     },
     "execution_count": 769,
     "metadata": {},
     "output_type": "execute_result"
    }
   ],
   "source": [
    "pg.normality(data = tidy_rest, dv = 'REST TIME (s)', group = 'Group')"
   ]
  },
  {
   "cell_type": "code",
   "execution_count": 770,
   "metadata": {},
   "outputs": [
    {
     "data": {
      "text/html": [
       "<div>\n",
       "<style scoped>\n",
       "    .dataframe tbody tr th:only-of-type {\n",
       "        vertical-align: middle;\n",
       "    }\n",
       "\n",
       "    .dataframe tbody tr th {\n",
       "        vertical-align: top;\n",
       "    }\n",
       "\n",
       "    .dataframe thead th {\n",
       "        text-align: right;\n",
       "    }\n",
       "</style>\n",
       "<table border=\"1\" class=\"dataframe\">\n",
       "  <thead>\n",
       "    <tr style=\"text-align: right;\">\n",
       "      <th></th>\n",
       "      <th>W</th>\n",
       "      <th>pval</th>\n",
       "      <th>equal_var</th>\n",
       "    </tr>\n",
       "  </thead>\n",
       "  <tbody>\n",
       "    <tr>\n",
       "      <th>levene</th>\n",
       "      <td>1.232118</td>\n",
       "      <td>0.30101</td>\n",
       "      <td>True</td>\n",
       "    </tr>\n",
       "  </tbody>\n",
       "</table>\n",
       "</div>"
      ],
      "text/plain": [
       "               W     pval  equal_var\n",
       "levene  1.232118  0.30101       True"
      ]
     },
     "execution_count": 770,
     "metadata": {},
     "output_type": "execute_result"
    }
   ],
   "source": [
    "pg.homoscedasticity(data = tidy_rest, dv = 'REST TIME (s)', group = 'Group')"
   ]
  },
  {
   "cell_type": "code",
   "execution_count": 772,
   "metadata": {
    "collapsed": true,
    "jupyter": {
     "outputs_hidden": true
    }
   },
   "outputs": [
    {
     "ename": "KeyError",
     "evalue": "'rest'",
     "output_type": "error",
     "traceback": [
      "\u001b[0;31m---------------------------------------------------------------------------\u001b[0m",
      "\u001b[0;31mKeyError\u001b[0m                                  Traceback (most recent call last)",
      "\u001b[0;32m/opt/miniconda3/envs/databs/lib/python3.8/site-packages/pandas/core/indexes/base.py\u001b[0m in \u001b[0;36mget_loc\u001b[0;34m(self, key, method, tolerance)\u001b[0m\n\u001b[1;32m   2645\u001b[0m             \u001b[0;32mtry\u001b[0m\u001b[0;34m:\u001b[0m\u001b[0;34m\u001b[0m\u001b[0;34m\u001b[0m\u001b[0m\n\u001b[0;32m-> 2646\u001b[0;31m                 \u001b[0;32mreturn\u001b[0m \u001b[0mself\u001b[0m\u001b[0;34m.\u001b[0m\u001b[0m_engine\u001b[0m\u001b[0;34m.\u001b[0m\u001b[0mget_loc\u001b[0m\u001b[0;34m(\u001b[0m\u001b[0mkey\u001b[0m\u001b[0;34m)\u001b[0m\u001b[0;34m\u001b[0m\u001b[0;34m\u001b[0m\u001b[0m\n\u001b[0m\u001b[1;32m   2647\u001b[0m             \u001b[0;32mexcept\u001b[0m \u001b[0mKeyError\u001b[0m\u001b[0;34m:\u001b[0m\u001b[0;34m\u001b[0m\u001b[0;34m\u001b[0m\u001b[0m\n",
      "\u001b[0;32mpandas/_libs/index.pyx\u001b[0m in \u001b[0;36mpandas._libs.index.IndexEngine.get_loc\u001b[0;34m()\u001b[0m\n",
      "\u001b[0;32mpandas/_libs/index.pyx\u001b[0m in \u001b[0;36mpandas._libs.index.IndexEngine.get_loc\u001b[0;34m()\u001b[0m\n",
      "\u001b[0;32mpandas/_libs/hashtable_class_helper.pxi\u001b[0m in \u001b[0;36mpandas._libs.hashtable.PyObjectHashTable.get_item\u001b[0;34m()\u001b[0m\n",
      "\u001b[0;32mpandas/_libs/hashtable_class_helper.pxi\u001b[0m in \u001b[0;36mpandas._libs.hashtable.PyObjectHashTable.get_item\u001b[0;34m()\u001b[0m\n",
      "\u001b[0;31mKeyError\u001b[0m: 'rest'",
      "\nDuring handling of the above exception, another exception occurred:\n",
      "\u001b[0;31mKeyError\u001b[0m                                  Traceback (most recent call last)",
      "\u001b[0;32m<ipython-input-772-be34558491c0>\u001b[0m in \u001b[0;36m<module>\u001b[0;34m\u001b[0m\n\u001b[1;32m      1\u001b[0m \u001b[0mcol_names\u001b[0m \u001b[0;34m=\u001b[0m \u001b[0;34m{\u001b[0m\u001b[0;34m'REST TIME (s)'\u001b[0m \u001b[0;34m:\u001b[0m \u001b[0;34m'rest'\u001b[0m\u001b[0;34m}\u001b[0m\u001b[0;34m\u001b[0m\u001b[0;34m\u001b[0m\u001b[0m\n\u001b[1;32m      2\u001b[0m \u001b[0mtidy_rest\u001b[0m\u001b[0;34m.\u001b[0m\u001b[0mrename\u001b[0m\u001b[0;34m(\u001b[0m\u001b[0mcolumns\u001b[0m \u001b[0;34m=\u001b[0m \u001b[0mcol_names\u001b[0m\u001b[0;34m,\u001b[0m \u001b[0minplace\u001b[0m \u001b[0;34m=\u001b[0m \u001b[0;32mTrue\u001b[0m\u001b[0;34m)\u001b[0m\u001b[0;34m\u001b[0m\u001b[0;34m\u001b[0m\u001b[0m\n\u001b[0;32m----> 3\u001b[0;31m \u001b[0mpg\u001b[0m\u001b[0;34m.\u001b[0m\u001b[0manova\u001b[0m\u001b[0;34m(\u001b[0m\u001b[0mdata\u001b[0m \u001b[0;34m=\u001b[0m \u001b[0mof_all\u001b[0m\u001b[0;34m,\u001b[0m \u001b[0mdv\u001b[0m \u001b[0;34m=\u001b[0m \u001b[0;34m'rest'\u001b[0m\u001b[0;34m,\u001b[0m \u001b[0mbetween\u001b[0m \u001b[0;34m=\u001b[0m \u001b[0;34m[\u001b[0m\u001b[0;34m'Genotype'\u001b[0m\u001b[0;34m,\u001b[0m \u001b[0;34m'Tx'\u001b[0m\u001b[0;34m]\u001b[0m\u001b[0;34m)\u001b[0m\u001b[0;34m\u001b[0m\u001b[0;34m\u001b[0m\u001b[0m\n\u001b[0m",
      "\u001b[0;32m/opt/miniconda3/envs/databs/lib/python3.8/site-packages/pingouin/parametric.py\u001b[0m in \u001b[0;36manova\u001b[0;34m(data, dv, between, ss_type, detailed, effsize)\u001b[0m\n\u001b[1;32m    930\u001b[0m             \u001b[0;31m# Two factors with balanced design = Pingouin implementation\u001b[0m\u001b[0;34m\u001b[0m\u001b[0;34m\u001b[0m\u001b[0;34m\u001b[0m\u001b[0m\n\u001b[1;32m    931\u001b[0m             \u001b[0;31m# Two factors with unbalanced design = statsmodels\u001b[0m\u001b[0;34m\u001b[0m\u001b[0;34m\u001b[0m\u001b[0;34m\u001b[0m\u001b[0m\n\u001b[0;32m--> 932\u001b[0;31m             return anova2(dv=dv, between=between, data=data, ss_type=ss_type,\n\u001b[0m\u001b[1;32m    933\u001b[0m                           effsize=effsize)\n\u001b[1;32m    934\u001b[0m         \u001b[0;32melse\u001b[0m\u001b[0;34m:\u001b[0m\u001b[0;34m\u001b[0m\u001b[0;34m\u001b[0m\u001b[0m\n",
      "\u001b[0;32m/opt/miniconda3/envs/databs/lib/python3.8/site-packages/pingouin/parametric.py\u001b[0m in \u001b[0;36manova2\u001b[0;34m(data, dv, between, ss_type, effsize)\u001b[0m\n\u001b[1;32m   1004\u001b[0m     \"\"\"\n\u001b[1;32m   1005\u001b[0m     \u001b[0;31m# Validate the dataframe\u001b[0m\u001b[0;34m\u001b[0m\u001b[0;34m\u001b[0m\u001b[0;34m\u001b[0m\u001b[0m\n\u001b[0;32m-> 1006\u001b[0;31m     \u001b[0m_check_dataframe\u001b[0m\u001b[0;34m(\u001b[0m\u001b[0mdv\u001b[0m\u001b[0;34m=\u001b[0m\u001b[0mdv\u001b[0m\u001b[0;34m,\u001b[0m \u001b[0mbetween\u001b[0m\u001b[0;34m=\u001b[0m\u001b[0mbetween\u001b[0m\u001b[0;34m,\u001b[0m \u001b[0mdata\u001b[0m\u001b[0;34m=\u001b[0m\u001b[0mdata\u001b[0m\u001b[0;34m,\u001b[0m \u001b[0meffects\u001b[0m\u001b[0;34m=\u001b[0m\u001b[0;34m'between'\u001b[0m\u001b[0;34m)\u001b[0m\u001b[0;34m\u001b[0m\u001b[0;34m\u001b[0m\u001b[0m\n\u001b[0m\u001b[1;32m   1007\u001b[0m \u001b[0;34m\u001b[0m\u001b[0m\n\u001b[1;32m   1008\u001b[0m     \u001b[0;32massert\u001b[0m \u001b[0mlen\u001b[0m\u001b[0;34m(\u001b[0m\u001b[0mbetween\u001b[0m\u001b[0;34m)\u001b[0m \u001b[0;34m==\u001b[0m \u001b[0;36m2\u001b[0m\u001b[0;34m,\u001b[0m \u001b[0;34m'Must have exactly two between-factors variables'\u001b[0m\u001b[0;34m\u001b[0m\u001b[0;34m\u001b[0m\u001b[0m\n",
      "\u001b[0;32m/opt/miniconda3/envs/databs/lib/python3.8/site-packages/pingouin/utils.py\u001b[0m in \u001b[0;36m_check_dataframe\u001b[0;34m(data, dv, between, within, subject, effects)\u001b[0m\n\u001b[1;32m    331\u001b[0m         \u001b[0;32mraise\u001b[0m \u001b[0mValueError\u001b[0m\u001b[0;34m(\u001b[0m\u001b[0;34m'DV and data must be specified'\u001b[0m\u001b[0;34m)\u001b[0m\u001b[0;34m\u001b[0m\u001b[0;34m\u001b[0m\u001b[0m\n\u001b[1;32m    332\u001b[0m     \u001b[0;31m# Check that dv is a numeric variable\u001b[0m\u001b[0;34m\u001b[0m\u001b[0;34m\u001b[0m\u001b[0;34m\u001b[0m\u001b[0m\n\u001b[0;32m--> 333\u001b[0;31m     \u001b[0;32mif\u001b[0m \u001b[0mdata\u001b[0m\u001b[0;34m[\u001b[0m\u001b[0mdv\u001b[0m\u001b[0;34m]\u001b[0m\u001b[0;34m.\u001b[0m\u001b[0mdtype\u001b[0m\u001b[0;34m.\u001b[0m\u001b[0mkind\u001b[0m \u001b[0;32mnot\u001b[0m \u001b[0;32min\u001b[0m \u001b[0;34m'fi'\u001b[0m\u001b[0;34m:\u001b[0m\u001b[0;34m\u001b[0m\u001b[0;34m\u001b[0m\u001b[0m\n\u001b[0m\u001b[1;32m    334\u001b[0m         \u001b[0;32mraise\u001b[0m \u001b[0mValueError\u001b[0m\u001b[0;34m(\u001b[0m\u001b[0;34m'DV must be numeric.'\u001b[0m\u001b[0;34m)\u001b[0m\u001b[0;34m\u001b[0m\u001b[0;34m\u001b[0m\u001b[0m\n\u001b[1;32m    335\u001b[0m     \u001b[0;31m# Check that effects is provided\u001b[0m\u001b[0;34m\u001b[0m\u001b[0;34m\u001b[0m\u001b[0;34m\u001b[0m\u001b[0m\n",
      "\u001b[0;32m/opt/miniconda3/envs/databs/lib/python3.8/site-packages/pandas/core/frame.py\u001b[0m in \u001b[0;36m__getitem__\u001b[0;34m(self, key)\u001b[0m\n\u001b[1;32m   2798\u001b[0m             \u001b[0;32mif\u001b[0m \u001b[0mself\u001b[0m\u001b[0;34m.\u001b[0m\u001b[0mcolumns\u001b[0m\u001b[0;34m.\u001b[0m\u001b[0mnlevels\u001b[0m \u001b[0;34m>\u001b[0m \u001b[0;36m1\u001b[0m\u001b[0;34m:\u001b[0m\u001b[0;34m\u001b[0m\u001b[0;34m\u001b[0m\u001b[0m\n\u001b[1;32m   2799\u001b[0m                 \u001b[0;32mreturn\u001b[0m \u001b[0mself\u001b[0m\u001b[0;34m.\u001b[0m\u001b[0m_getitem_multilevel\u001b[0m\u001b[0;34m(\u001b[0m\u001b[0mkey\u001b[0m\u001b[0;34m)\u001b[0m\u001b[0;34m\u001b[0m\u001b[0;34m\u001b[0m\u001b[0m\n\u001b[0;32m-> 2800\u001b[0;31m             \u001b[0mindexer\u001b[0m \u001b[0;34m=\u001b[0m \u001b[0mself\u001b[0m\u001b[0;34m.\u001b[0m\u001b[0mcolumns\u001b[0m\u001b[0;34m.\u001b[0m\u001b[0mget_loc\u001b[0m\u001b[0;34m(\u001b[0m\u001b[0mkey\u001b[0m\u001b[0;34m)\u001b[0m\u001b[0;34m\u001b[0m\u001b[0;34m\u001b[0m\u001b[0m\n\u001b[0m\u001b[1;32m   2801\u001b[0m             \u001b[0;32mif\u001b[0m \u001b[0mis_integer\u001b[0m\u001b[0;34m(\u001b[0m\u001b[0mindexer\u001b[0m\u001b[0;34m)\u001b[0m\u001b[0;34m:\u001b[0m\u001b[0;34m\u001b[0m\u001b[0;34m\u001b[0m\u001b[0m\n\u001b[1;32m   2802\u001b[0m                 \u001b[0mindexer\u001b[0m \u001b[0;34m=\u001b[0m \u001b[0;34m[\u001b[0m\u001b[0mindexer\u001b[0m\u001b[0;34m]\u001b[0m\u001b[0;34m\u001b[0m\u001b[0;34m\u001b[0m\u001b[0m\n",
      "\u001b[0;32m/opt/miniconda3/envs/databs/lib/python3.8/site-packages/pandas/core/indexes/base.py\u001b[0m in \u001b[0;36mget_loc\u001b[0;34m(self, key, method, tolerance)\u001b[0m\n\u001b[1;32m   2646\u001b[0m                 \u001b[0;32mreturn\u001b[0m \u001b[0mself\u001b[0m\u001b[0;34m.\u001b[0m\u001b[0m_engine\u001b[0m\u001b[0;34m.\u001b[0m\u001b[0mget_loc\u001b[0m\u001b[0;34m(\u001b[0m\u001b[0mkey\u001b[0m\u001b[0;34m)\u001b[0m\u001b[0;34m\u001b[0m\u001b[0;34m\u001b[0m\u001b[0m\n\u001b[1;32m   2647\u001b[0m             \u001b[0;32mexcept\u001b[0m \u001b[0mKeyError\u001b[0m\u001b[0;34m:\u001b[0m\u001b[0;34m\u001b[0m\u001b[0;34m\u001b[0m\u001b[0m\n\u001b[0;32m-> 2648\u001b[0;31m                 \u001b[0;32mreturn\u001b[0m \u001b[0mself\u001b[0m\u001b[0;34m.\u001b[0m\u001b[0m_engine\u001b[0m\u001b[0;34m.\u001b[0m\u001b[0mget_loc\u001b[0m\u001b[0;34m(\u001b[0m\u001b[0mself\u001b[0m\u001b[0;34m.\u001b[0m\u001b[0m_maybe_cast_indexer\u001b[0m\u001b[0;34m(\u001b[0m\u001b[0mkey\u001b[0m\u001b[0;34m)\u001b[0m\u001b[0;34m)\u001b[0m\u001b[0;34m\u001b[0m\u001b[0;34m\u001b[0m\u001b[0m\n\u001b[0m\u001b[1;32m   2649\u001b[0m         \u001b[0mindexer\u001b[0m \u001b[0;34m=\u001b[0m \u001b[0mself\u001b[0m\u001b[0;34m.\u001b[0m\u001b[0mget_indexer\u001b[0m\u001b[0;34m(\u001b[0m\u001b[0;34m[\u001b[0m\u001b[0mkey\u001b[0m\u001b[0;34m]\u001b[0m\u001b[0;34m,\u001b[0m \u001b[0mmethod\u001b[0m\u001b[0;34m=\u001b[0m\u001b[0mmethod\u001b[0m\u001b[0;34m,\u001b[0m \u001b[0mtolerance\u001b[0m\u001b[0;34m=\u001b[0m\u001b[0mtolerance\u001b[0m\u001b[0;34m)\u001b[0m\u001b[0;34m\u001b[0m\u001b[0;34m\u001b[0m\u001b[0m\n\u001b[1;32m   2650\u001b[0m         \u001b[0;32mif\u001b[0m \u001b[0mindexer\u001b[0m\u001b[0;34m.\u001b[0m\u001b[0mndim\u001b[0m \u001b[0;34m>\u001b[0m \u001b[0;36m1\u001b[0m \u001b[0;32mor\u001b[0m \u001b[0mindexer\u001b[0m\u001b[0;34m.\u001b[0m\u001b[0msize\u001b[0m \u001b[0;34m>\u001b[0m \u001b[0;36m1\u001b[0m\u001b[0;34m:\u001b[0m\u001b[0;34m\u001b[0m\u001b[0;34m\u001b[0m\u001b[0m\n",
      "\u001b[0;32mpandas/_libs/index.pyx\u001b[0m in \u001b[0;36mpandas._libs.index.IndexEngine.get_loc\u001b[0;34m()\u001b[0m\n",
      "\u001b[0;32mpandas/_libs/index.pyx\u001b[0m in \u001b[0;36mpandas._libs.index.IndexEngine.get_loc\u001b[0;34m()\u001b[0m\n",
      "\u001b[0;32mpandas/_libs/hashtable_class_helper.pxi\u001b[0m in \u001b[0;36mpandas._libs.hashtable.PyObjectHashTable.get_item\u001b[0;34m()\u001b[0m\n",
      "\u001b[0;32mpandas/_libs/hashtable_class_helper.pxi\u001b[0m in \u001b[0;36mpandas._libs.hashtable.PyObjectHashTable.get_item\u001b[0;34m()\u001b[0m\n",
      "\u001b[0;31mKeyError\u001b[0m: 'rest'"
     ]
    }
   ],
   "source": [
    "col_names = {'REST TIME (s)' : 'rest'}\n",
    "tidy_rest.rename(columns = col_names, inplace = True)"
   ]
  },
  {
   "cell_type": "code",
   "execution_count": 773,
   "metadata": {},
   "outputs": [
    {
     "data": {
      "text/html": [
       "<div>\n",
       "<style scoped>\n",
       "    .dataframe tbody tr th:only-of-type {\n",
       "        vertical-align: middle;\n",
       "    }\n",
       "\n",
       "    .dataframe tbody tr th {\n",
       "        vertical-align: top;\n",
       "    }\n",
       "\n",
       "    .dataframe thead th {\n",
       "        text-align: right;\n",
       "    }\n",
       "</style>\n",
       "<table border=\"1\" class=\"dataframe\">\n",
       "  <thead>\n",
       "    <tr style=\"text-align: right;\">\n",
       "      <th></th>\n",
       "      <th>Source</th>\n",
       "      <th>SS</th>\n",
       "      <th>DF</th>\n",
       "      <th>MS</th>\n",
       "      <th>F</th>\n",
       "      <th>p-unc</th>\n",
       "      <th>np2</th>\n",
       "    </tr>\n",
       "  </thead>\n",
       "  <tbody>\n",
       "    <tr>\n",
       "      <th>0</th>\n",
       "      <td>Genotype</td>\n",
       "      <td>2220.885656</td>\n",
       "      <td>1.0</td>\n",
       "      <td>2220.885656</td>\n",
       "      <td>3.967992</td>\n",
       "      <td>0.048588</td>\n",
       "      <td>0.031252</td>\n",
       "    </tr>\n",
       "    <tr>\n",
       "      <th>1</th>\n",
       "      <td>Tx</td>\n",
       "      <td>5874.967722</td>\n",
       "      <td>1.0</td>\n",
       "      <td>5874.967722</td>\n",
       "      <td>10.496634</td>\n",
       "      <td>0.001538</td>\n",
       "      <td>0.078628</td>\n",
       "    </tr>\n",
       "    <tr>\n",
       "      <th>2</th>\n",
       "      <td>Genotype * Tx</td>\n",
       "      <td>1250.475645</td>\n",
       "      <td>1.0</td>\n",
       "      <td>1250.475645</td>\n",
       "      <td>2.234189</td>\n",
       "      <td>0.137549</td>\n",
       "      <td>0.017840</td>\n",
       "    </tr>\n",
       "    <tr>\n",
       "      <th>3</th>\n",
       "      <td>Residual</td>\n",
       "      <td>68843.117788</td>\n",
       "      <td>123.0</td>\n",
       "      <td>559.700145</td>\n",
       "      <td>NaN</td>\n",
       "      <td>NaN</td>\n",
       "      <td>NaN</td>\n",
       "    </tr>\n",
       "  </tbody>\n",
       "</table>\n",
       "</div>"
      ],
      "text/plain": [
       "          Source            SS     DF           MS          F     p-unc  \\\n",
       "0       Genotype   2220.885656    1.0  2220.885656   3.967992  0.048588   \n",
       "1             Tx   5874.967722    1.0  5874.967722  10.496634  0.001538   \n",
       "2  Genotype * Tx   1250.475645    1.0  1250.475645   2.234189  0.137549   \n",
       "3       Residual  68843.117788  123.0   559.700145        NaN       NaN   \n",
       "\n",
       "        np2  \n",
       "0  0.031252  \n",
       "1  0.078628  \n",
       "2  0.017840  \n",
       "3       NaN  "
      ]
     },
     "execution_count": 773,
     "metadata": {},
     "output_type": "execute_result"
    }
   ],
   "source": [
    "pg.anova(data = tidy_rest, dv = 'rest', between = ['Genotype', 'Tx'])"
   ]
  },
  {
   "cell_type": "code",
   "execution_count": 775,
   "metadata": {},
   "outputs": [
    {
     "data": {
      "text/html": [
       "<div>\n",
       "<style scoped>\n",
       "    .dataframe tbody tr th:only-of-type {\n",
       "        vertical-align: middle;\n",
       "    }\n",
       "\n",
       "    .dataframe tbody tr th {\n",
       "        vertical-align: top;\n",
       "    }\n",
       "\n",
       "    .dataframe thead th {\n",
       "        text-align: right;\n",
       "    }\n",
       "</style>\n",
       "<table border=\"1\" class=\"dataframe\">\n",
       "  <thead>\n",
       "    <tr style=\"text-align: right;\">\n",
       "      <th></th>\n",
       "      <th>A</th>\n",
       "      <th>B</th>\n",
       "      <th>mean(A)</th>\n",
       "      <th>mean(B)</th>\n",
       "      <th>diff</th>\n",
       "      <th>se</th>\n",
       "      <th>tail</th>\n",
       "      <th>T</th>\n",
       "      <th>p-tukey</th>\n",
       "      <th>cohen</th>\n",
       "    </tr>\n",
       "  </thead>\n",
       "  <tbody>\n",
       "    <tr>\n",
       "      <th>0</th>\n",
       "      <td>KO_MK 0.5 mg/kg</td>\n",
       "      <td>KO_Saline</td>\n",
       "      <td>65.735500</td>\n",
       "      <td>57.337209</td>\n",
       "      <td>8.398291</td>\n",
       "      <td>5.745048</td>\n",
       "      <td>two-sided</td>\n",
       "      <td>1.461831</td>\n",
       "      <td>0.462017</td>\n",
       "      <td>0.354988</td>\n",
       "    </tr>\n",
       "    <tr>\n",
       "      <th>1</th>\n",
       "      <td>KO_MK 0.5 mg/kg</td>\n",
       "      <td>WT_MK 0.5 mg/kg</td>\n",
       "      <td>65.735500</td>\n",
       "      <td>65.503400</td>\n",
       "      <td>0.232100</td>\n",
       "      <td>6.926348</td>\n",
       "      <td>two-sided</td>\n",
       "      <td>0.033510</td>\n",
       "      <td>0.900000</td>\n",
       "      <td>0.009811</td>\n",
       "    </tr>\n",
       "    <tr>\n",
       "      <th>2</th>\n",
       "      <td>KO_MK 0.5 mg/kg</td>\n",
       "      <td>WT_Saline</td>\n",
       "      <td>65.735500</td>\n",
       "      <td>44.028417</td>\n",
       "      <td>21.707083</td>\n",
       "      <td>5.961251</td>\n",
       "      <td>two-sided</td>\n",
       "      <td>3.641364</td>\n",
       "      <td>0.001676</td>\n",
       "      <td>0.917537</td>\n",
       "    </tr>\n",
       "    <tr>\n",
       "      <th>3</th>\n",
       "      <td>KO_Saline</td>\n",
       "      <td>WT_MK 0.5 mg/kg</td>\n",
       "      <td>57.337209</td>\n",
       "      <td>65.503400</td>\n",
       "      <td>-8.166191</td>\n",
       "      <td>6.403225</td>\n",
       "      <td>two-sided</td>\n",
       "      <td>-1.275325</td>\n",
       "      <td>0.570863</td>\n",
       "      <td>-0.345177</td>\n",
       "    </tr>\n",
       "    <tr>\n",
       "      <th>4</th>\n",
       "      <td>KO_Saline</td>\n",
       "      <td>WT_Saline</td>\n",
       "      <td>57.337209</td>\n",
       "      <td>44.028417</td>\n",
       "      <td>13.308793</td>\n",
       "      <td>5.344484</td>\n",
       "      <td>two-sided</td>\n",
       "      <td>2.490192</td>\n",
       "      <td>0.062942</td>\n",
       "      <td>0.562550</td>\n",
       "    </tr>\n",
       "    <tr>\n",
       "      <th>5</th>\n",
       "      <td>WT_MK 0.5 mg/kg</td>\n",
       "      <td>WT_Saline</td>\n",
       "      <td>65.503400</td>\n",
       "      <td>44.028417</td>\n",
       "      <td>21.474983</td>\n",
       "      <td>6.597896</td>\n",
       "      <td>two-sided</td>\n",
       "      <td>3.254823</td>\n",
       "      <td>0.006614</td>\n",
       "      <td>0.907727</td>\n",
       "    </tr>\n",
       "  </tbody>\n",
       "</table>\n",
       "</div>"
      ],
      "text/plain": [
       "                 A                B    mean(A)    mean(B)       diff  \\\n",
       "0  KO_MK 0.5 mg/kg        KO_Saline  65.735500  57.337209   8.398291   \n",
       "1  KO_MK 0.5 mg/kg  WT_MK 0.5 mg/kg  65.735500  65.503400   0.232100   \n",
       "2  KO_MK 0.5 mg/kg        WT_Saline  65.735500  44.028417  21.707083   \n",
       "3        KO_Saline  WT_MK 0.5 mg/kg  57.337209  65.503400  -8.166191   \n",
       "4        KO_Saline        WT_Saline  57.337209  44.028417  13.308793   \n",
       "5  WT_MK 0.5 mg/kg        WT_Saline  65.503400  44.028417  21.474983   \n",
       "\n",
       "         se       tail         T   p-tukey     cohen  \n",
       "0  5.745048  two-sided  1.461831  0.462017  0.354988  \n",
       "1  6.926348  two-sided  0.033510  0.900000  0.009811  \n",
       "2  5.961251  two-sided  3.641364  0.001676  0.917537  \n",
       "3  6.403225  two-sided -1.275325  0.570863 -0.345177  \n",
       "4  5.344484  two-sided  2.490192  0.062942  0.562550  \n",
       "5  6.597896  two-sided  3.254823  0.006614  0.907727  "
      ]
     },
     "execution_count": 775,
     "metadata": {},
     "output_type": "execute_result"
    }
   ],
   "source": [
    "pg.pairwise_tukey(data = tidy_rest, dv = 'rest', between = 'Group', effsize = 'cohen')"
   ]
  },
  {
   "cell_type": "code",
   "execution_count": 955,
   "metadata": {},
   "outputs": [
    {
     "data": {
      "image/png": "[encoded data removed]",
      "text/plain": [
       "<Figure size 360x360 with 1 Axes>"
      ]
     },
     "metadata": {
      "needs_background": "light"
     },
     "output_type": "display_data"
    }
   ],
   "source": [
    "of_all_rest_fig = plt.figure(figsize= (5, 5))\n",
    "ax = plt.subplot()\n",
    "sns.boxplot(data= tidy_rest, x='Tx', y='rest', hue='Group', hue_order = ['WT_Saline', 'WT_MK 0.5 mg/kg', 'KO_Saline', 'KO_MK 0.5 mg/kg'], showmeans=True, meanprops={'marker':'+', 'markeredgecolor':'k'}, width=0.4, palette=['royalblue', 'steelblue', 'forestgreen', 'darkseagreen'], showfliers = True, dodge = True)\n",
    "sns.despine()\n",
    "new_labels = ['WT_Saline', 'WT_MK-801', 'KO_Saline', 'KO_MK-801']\n",
    "[h, l] = ax.get_legend_handles_labels()\n",
    "plt.ylabel('Rest time (s)')\n",
    "plt.annotate(s='**', xy=(102, 281), xycoords='axes points', xytext=(0, 3), textcoords='offset points', ha = 'center', arrowprops=dict(arrowstyle='-[, widthB=6.8, lengthB=.4', lw=1.5, color='k'), fontsize = 10)\n",
    "plt.annotate(s='**', xy=(92, 261), xycoords='axes points', xytext=(0, 3), textcoords='offset points', ha = 'center', arrowprops=dict(arrowstyle='-[, widthB=5.8, lengthB=.4', lw=1.5, color='k'), fontsize = 10)\n",
    "plt.legend(bbox_to_anchor=(1, .9), loc=2, borderaxespad=0, handles = h, labels = new_labels)\n",
    "plt.tight_layout()"
   ]
  },
  {
   "cell_type": "code",
   "execution_count": 956,
   "metadata": {},
   "outputs": [],
   "source": [
    "of_all_rest_fig.savefig('/Users/labc02/Documents/PDCB_data/MK-project/Figures/of_all_rest_box.svg')"
   ]
  },
  {
   "cell_type": "markdown",
   "metadata": {},
   "source": [
    "### Time in center"
   ]
  },
  {
   "cell_type": "code",
   "execution_count": 739,
   "metadata": {},
   "outputs": [
    {
     "data": {
      "text/html": [
       "<div>\n",
       "<style scoped>\n",
       "    .dataframe tbody tr th:only-of-type {\n",
       "        vertical-align: middle;\n",
       "    }\n",
       "\n",
       "    .dataframe tbody tr th {\n",
       "        vertical-align: top;\n",
       "    }\n",
       "\n",
       "    .dataframe thead th {\n",
       "        text-align: right;\n",
       "    }\n",
       "</style>\n",
       "<table border=\"1\" class=\"dataframe\">\n",
       "  <thead>\n",
       "    <tr style=\"text-align: right;\">\n",
       "      <th></th>\n",
       "      <th>W</th>\n",
       "      <th>pval</th>\n",
       "      <th>normal</th>\n",
       "    </tr>\n",
       "  </thead>\n",
       "  <tbody>\n",
       "    <tr>\n",
       "      <th>WT_MK 1 mg/kg</th>\n",
       "      <td>0.883444</td>\n",
       "      <td>0.020416</td>\n",
       "      <td>False</td>\n",
       "    </tr>\n",
       "    <tr>\n",
       "      <th>WT_Saline</th>\n",
       "      <td>0.989265</td>\n",
       "      <td>0.975068</td>\n",
       "      <td>True</td>\n",
       "    </tr>\n",
       "    <tr>\n",
       "      <th>KO_Saline</th>\n",
       "      <td>0.943064</td>\n",
       "      <td>0.025504</td>\n",
       "      <td>False</td>\n",
       "    </tr>\n",
       "    <tr>\n",
       "      <th>KO_MK 0.5 mg/kg</th>\n",
       "      <td>0.871189</td>\n",
       "      <td>0.001781</td>\n",
       "      <td>False</td>\n",
       "    </tr>\n",
       "    <tr>\n",
       "      <th>WT_MK 0.5 mg/kg</th>\n",
       "      <td>0.873160</td>\n",
       "      <td>0.013358</td>\n",
       "      <td>False</td>\n",
       "    </tr>\n",
       "    <tr>\n",
       "      <th>HE_MK 1 mg/kg</th>\n",
       "      <td>0.977258</td>\n",
       "      <td>0.919446</td>\n",
       "      <td>True</td>\n",
       "    </tr>\n",
       "    <tr>\n",
       "      <th>HE_Saline</th>\n",
       "      <td>0.898073</td>\n",
       "      <td>0.421553</td>\n",
       "      <td>True</td>\n",
       "    </tr>\n",
       "  </tbody>\n",
       "</table>\n",
       "</div>"
      ],
      "text/plain": [
       "                        W      pval  normal\n",
       "WT_MK 1 mg/kg    0.883444  0.020416   False\n",
       "WT_Saline        0.989265  0.975068    True\n",
       "KO_Saline        0.943064  0.025504   False\n",
       "KO_MK 0.5 mg/kg  0.871189  0.001781   False\n",
       "WT_MK 0.5 mg/kg  0.873160  0.013358   False\n",
       "HE_MK 1 mg/kg    0.977258  0.919446    True\n",
       "HE_Saline        0.898073  0.421553    True"
      ]
     },
     "execution_count": 739,
     "metadata": {},
     "output_type": "execute_result"
    }
   ],
   "source": [
    "pg.normality(data = of_r[of_r['Group']!= 'KO_MK 1 mg/kg'], dv = 'CENTER TIME LEGACY (s)', group = 'Group')"
   ]
  },
  {
   "cell_type": "code",
   "execution_count": 787,
   "metadata": {},
   "outputs": [
    {
     "data": {
      "text/plain": [
       "[141]"
      ]
     },
     "execution_count": 787,
     "metadata": {},
     "output_type": "execute_result"
    }
   ],
   "source": [
    "center_outliers = []\n",
    "# Saline group\n",
    "out = pg.madmedianrule(of_wt[of_wt['Group']== 'WT_MK 1 mg/kg']['CENTER TIME LEGACY (s)'])\n",
    "idx = of_wt[of_wt['Group']== 'WT_MK 1 mg/kg']['CENTER TIME LEGACY (s)'].index.values\n",
    "for ii in idx[out]:\n",
    "    center_outliers.append(ii)\n",
    "center_outliers"
   ]
  },
  {
   "cell_type": "code",
   "execution_count": 788,
   "metadata": {},
   "outputs": [],
   "source": [
    "of_wt.drop(index = center_outliers, inplace = True)"
   ]
  },
  {
   "cell_type": "code",
   "execution_count": 789,
   "metadata": {},
   "outputs": [
    {
     "data": {
      "text/html": [
       "<div>\n",
       "<style scoped>\n",
       "    .dataframe tbody tr th:only-of-type {\n",
       "        vertical-align: middle;\n",
       "    }\n",
       "\n",
       "    .dataframe tbody tr th {\n",
       "        vertical-align: top;\n",
       "    }\n",
       "\n",
       "    .dataframe thead th {\n",
       "        text-align: right;\n",
       "    }\n",
       "</style>\n",
       "<table border=\"1\" class=\"dataframe\">\n",
       "  <thead>\n",
       "    <tr style=\"text-align: right;\">\n",
       "      <th></th>\n",
       "      <th>W</th>\n",
       "      <th>pval</th>\n",
       "      <th>normal</th>\n",
       "    </tr>\n",
       "  </thead>\n",
       "  <tbody>\n",
       "    <tr>\n",
       "      <th>WT_MK 1 mg/kg</th>\n",
       "      <td>0.894577</td>\n",
       "      <td>0.038854</td>\n",
       "      <td>False</td>\n",
       "    </tr>\n",
       "    <tr>\n",
       "      <th>WT_Saline</th>\n",
       "      <td>0.989265</td>\n",
       "      <td>0.975068</td>\n",
       "      <td>True</td>\n",
       "    </tr>\n",
       "    <tr>\n",
       "      <th>WT_MK 0.5 mg/kg</th>\n",
       "      <td>0.939826</td>\n",
       "      <td>0.287805</td>\n",
       "      <td>True</td>\n",
       "    </tr>\n",
       "  </tbody>\n",
       "</table>\n",
       "</div>"
      ],
      "text/plain": [
       "                        W      pval  normal\n",
       "WT_MK 1 mg/kg    0.894577  0.038854   False\n",
       "WT_Saline        0.989265  0.975068    True\n",
       "WT_MK 0.5 mg/kg  0.939826  0.287805    True"
      ]
     },
     "execution_count": 789,
     "metadata": {},
     "output_type": "execute_result"
    }
   ],
   "source": [
    "pg.normality(data = of_wt, dv = 'CENTER TIME LEGACY (s)', group = 'Group')"
   ]
  },
  {
   "cell_type": "code",
   "execution_count": 793,
   "metadata": {},
   "outputs": [
    {
     "data": {
      "text/html": [
       "<div>\n",
       "<style scoped>\n",
       "    .dataframe tbody tr th:only-of-type {\n",
       "        vertical-align: middle;\n",
       "    }\n",
       "\n",
       "    .dataframe tbody tr th {\n",
       "        vertical-align: top;\n",
       "    }\n",
       "\n",
       "    .dataframe thead th {\n",
       "        text-align: right;\n",
       "    }\n",
       "</style>\n",
       "<table border=\"1\" class=\"dataframe\">\n",
       "  <thead>\n",
       "    <tr style=\"text-align: right;\">\n",
       "      <th></th>\n",
       "      <th>W</th>\n",
       "      <th>pval</th>\n",
       "      <th>equal_var</th>\n",
       "    </tr>\n",
       "  </thead>\n",
       "  <tbody>\n",
       "    <tr>\n",
       "      <th>levene</th>\n",
       "      <td>0.146001</td>\n",
       "      <td>0.864419</td>\n",
       "      <td>True</td>\n",
       "    </tr>\n",
       "  </tbody>\n",
       "</table>\n",
       "</div>"
      ],
      "text/plain": [
       "               W      pval  equal_var\n",
       "levene  0.146001  0.864419       True"
      ]
     },
     "execution_count": 793,
     "metadata": {},
     "output_type": "execute_result"
    }
   ],
   "source": [
    "pg.homoscedasticity(data = of_wt, dv = 'CENTER TIME LEGACY (s)', group = 'Group')"
   ]
  },
  {
   "cell_type": "code",
   "execution_count": 792,
   "metadata": {},
   "outputs": [
    {
     "data": {
      "text/html": [
       "<div>\n",
       "<style scoped>\n",
       "    .dataframe tbody tr th:only-of-type {\n",
       "        vertical-align: middle;\n",
       "    }\n",
       "\n",
       "    .dataframe tbody tr th {\n",
       "        vertical-align: top;\n",
       "    }\n",
       "\n",
       "    .dataframe thead th {\n",
       "        text-align: right;\n",
       "    }\n",
       "</style>\n",
       "<table border=\"1\" class=\"dataframe\">\n",
       "  <thead>\n",
       "    <tr style=\"text-align: right;\">\n",
       "      <th></th>\n",
       "      <th>Source</th>\n",
       "      <th>ddof1</th>\n",
       "      <th>ddof2</th>\n",
       "      <th>F</th>\n",
       "      <th>p-unc</th>\n",
       "      <th>np2</th>\n",
       "    </tr>\n",
       "  </thead>\n",
       "  <tbody>\n",
       "    <tr>\n",
       "      <th>0</th>\n",
       "      <td>SUBJECT FACTOR1</td>\n",
       "      <td>2</td>\n",
       "      <td>70</td>\n",
       "      <td>7.0512</td>\n",
       "      <td>0.001622</td>\n",
       "      <td>0.167681</td>\n",
       "    </tr>\n",
       "  </tbody>\n",
       "</table>\n",
       "</div>"
      ],
      "text/plain": [
       "            Source  ddof1  ddof2       F     p-unc       np2\n",
       "0  SUBJECT FACTOR1      2     70  7.0512  0.001622  0.167681"
      ]
     },
     "execution_count": 792,
     "metadata": {},
     "output_type": "execute_result"
    }
   ],
   "source": [
    "pg.anova(data = of_wt, dv = 'CENTER TIME LEGACY (s)', between = 'SUBJECT FACTOR1')"
   ]
  },
  {
   "cell_type": "code",
   "execution_count": 795,
   "metadata": {},
   "outputs": [
    {
     "data": {
      "text/html": [
       "<div>\n",
       "<style scoped>\n",
       "    .dataframe tbody tr th:only-of-type {\n",
       "        vertical-align: middle;\n",
       "    }\n",
       "\n",
       "    .dataframe tbody tr th {\n",
       "        vertical-align: top;\n",
       "    }\n",
       "\n",
       "    .dataframe thead th {\n",
       "        text-align: right;\n",
       "    }\n",
       "</style>\n",
       "<table border=\"1\" class=\"dataframe\">\n",
       "  <thead>\n",
       "    <tr style=\"text-align: right;\">\n",
       "      <th></th>\n",
       "      <th>A</th>\n",
       "      <th>B</th>\n",
       "      <th>mean(A)</th>\n",
       "      <th>mean(B)</th>\n",
       "      <th>diff</th>\n",
       "      <th>se</th>\n",
       "      <th>tail</th>\n",
       "      <th>T</th>\n",
       "      <th>p-tukey</th>\n",
       "      <th>cohen</th>\n",
       "    </tr>\n",
       "  </thead>\n",
       "  <tbody>\n",
       "    <tr>\n",
       "      <th>0</th>\n",
       "      <td>MK 0.5 mg/kg</td>\n",
       "      <td>MK 1 mg/kg</td>\n",
       "      <td>29.073056</td>\n",
       "      <td>25.296947</td>\n",
       "      <td>3.776108</td>\n",
       "      <td>5.848751</td>\n",
       "      <td>two-sided</td>\n",
       "      <td>0.645626</td>\n",
       "      <td>0.773675</td>\n",
       "      <td>0.212358</td>\n",
       "    </tr>\n",
       "    <tr>\n",
       "      <th>1</th>\n",
       "      <td>MK 0.5 mg/kg</td>\n",
       "      <td>Saline</td>\n",
       "      <td>29.073056</td>\n",
       "      <td>42.533806</td>\n",
       "      <td>-13.460750</td>\n",
       "      <td>5.133159</td>\n",
       "      <td>two-sided</td>\n",
       "      <td>-2.622313</td>\n",
       "      <td>0.024566</td>\n",
       "      <td>-0.756997</td>\n",
       "    </tr>\n",
       "    <tr>\n",
       "      <th>2</th>\n",
       "      <td>MK 1 mg/kg</td>\n",
       "      <td>Saline</td>\n",
       "      <td>25.296947</td>\n",
       "      <td>42.533806</td>\n",
       "      <td>-17.236858</td>\n",
       "      <td>5.042299</td>\n",
       "      <td>two-sided</td>\n",
       "      <td>-3.418452</td>\n",
       "      <td>0.001967</td>\n",
       "      <td>-0.969355</td>\n",
       "    </tr>\n",
       "  </tbody>\n",
       "</table>\n",
       "</div>"
      ],
      "text/plain": [
       "              A           B    mean(A)    mean(B)       diff        se  \\\n",
       "0  MK 0.5 mg/kg  MK 1 mg/kg  29.073056  25.296947   3.776108  5.848751   \n",
       "1  MK 0.5 mg/kg      Saline  29.073056  42.533806 -13.460750  5.133159   \n",
       "2    MK 1 mg/kg      Saline  25.296947  42.533806 -17.236858  5.042299   \n",
       "\n",
       "        tail         T   p-tukey     cohen  \n",
       "0  two-sided  0.645626  0.773675  0.212358  \n",
       "1  two-sided -2.622313  0.024566 -0.756997  \n",
       "2  two-sided -3.418452  0.001967 -0.969355  "
      ]
     },
     "execution_count": 795,
     "metadata": {},
     "output_type": "execute_result"
    }
   ],
   "source": [
    "pg.pairwise_tukey(data = of_wt, dv = 'CENTER TIME LEGACY (s)', between = 'SUBJECT FACTOR1', effsize = 'cohen')"
   ]
  },
  {
   "cell_type": "code",
   "execution_count": 957,
   "metadata": {},
   "outputs": [
    {
     "data": {
      "text/plain": [
       "Text(0, 3, '*')"
      ]
     },
     "execution_count": 957,
     "metadata": {},
     "output_type": "execute_result"
    },
    {
     "data": {
      "image/png": "[encoded data removed]",
      "text/plain": [
       "<Figure size 360x288 with 1 Axes>"
      ]
     },
     "metadata": {
      "needs_background": "light"
     },
     "output_type": "display_data"
    }
   ],
   "source": [
    "center_wt = plt.figure(figsize = (5, 4))\n",
    "ax = plt.subplot()\n",
    "sns.boxplot(data= of_wt, x='SUBJECT FACTOR1', y='CENTER TIME LEGACY (s)', hue='Group', order = ['Saline', 'MK 0.5 mg/kg', 'MK 1 mg/kg'], showmeans=True, meanprops={'marker':'+', 'markeredgecolor':'k'}, width=0.3, palette=['cornflowerblue', 'royalblue', 'steelblue'], showfliers = True, ax = ax, dodge = False)\n",
    "sns.despine()\n",
    "labels = ['Control', 'MK-801 \\n(0.5 mg/kg)', 'MK-801 \\n(1 mg/kg)']\n",
    "ax.set_xticklabels(labels)\n",
    "plt.xlabel('')\n",
    "plt.ylabel('Time in Center (s)')\n",
    "plt.legend([], [], frameon = False)\n",
    "plt.annotate(s='**', xy=(139, 235), xycoords='axes points', xytext=(0, 3), textcoords='offset points', ha = 'center', arrowprops=dict(arrowstyle='-[, widthB=9.4, lengthB=.4', lw=1.5, color='k'), fontsize = 10)\n",
    "plt.annotate(s='*', xy=(92, 215), xycoords='axes points', xytext=(0, 3), textcoords='offset points', ha = 'center', arrowprops=dict(arrowstyle='-[, widthB=4.7, lengthB=.4', lw=1.5, color='k'), fontsize = 10)\n",
    "\n"
   ]
  },
  {
   "cell_type": "code",
   "execution_count": 958,
   "metadata": {},
   "outputs": [],
   "source": [
    "center_wt.savefig('/Users/labc02/Documents/PDCB_data/MK-project/Figures/of_wt_center_box.svg')"
   ]
  },
  {
   "cell_type": "code",
   "execution_count": 808,
   "metadata": {},
   "outputs": [
    {
     "data": {
      "text/plain": [
       "[131, 132, 104, 129, 134, 144, 34, 155]"
      ]
     },
     "execution_count": 808,
     "metadata": {},
     "output_type": "execute_result"
    }
   ],
   "source": [
    "center_outliers = []\n",
    "# all groups in loop \n",
    "for group in of_all['Group'].unique():\n",
    "    \n",
    "    out = pg.madmedianrule(of_all[of_all['Group']== group]['CENTER TIME LEGACY (s)'])\n",
    "    idx = of_all[of_all['Group']== group]['CENTER TIME LEGACY (s)'].index.values\n",
    "    \n",
    "    for ii in idx[out]:\n",
    "        center_outliers.append(ii)\n",
    "center_outliers"
   ]
  },
  {
   "cell_type": "code",
   "execution_count": 809,
   "metadata": {},
   "outputs": [],
   "source": [
    "center_tidy = of_all.copy()"
   ]
  },
  {
   "cell_type": "code",
   "execution_count": 811,
   "metadata": {},
   "outputs": [],
   "source": [
    "center_tidy.drop(index = center_outliers, inplace = True)"
   ]
  },
  {
   "cell_type": "code",
   "execution_count": 812,
   "metadata": {},
   "outputs": [
    {
     "data": {
      "text/html": [
       "<div>\n",
       "<style scoped>\n",
       "    .dataframe tbody tr th:only-of-type {\n",
       "        vertical-align: middle;\n",
       "    }\n",
       "\n",
       "    .dataframe tbody tr th {\n",
       "        vertical-align: top;\n",
       "    }\n",
       "\n",
       "    .dataframe thead th {\n",
       "        text-align: right;\n",
       "    }\n",
       "</style>\n",
       "<table border=\"1\" class=\"dataframe\">\n",
       "  <thead>\n",
       "    <tr style=\"text-align: right;\">\n",
       "      <th></th>\n",
       "      <th>W</th>\n",
       "      <th>pval</th>\n",
       "      <th>normal</th>\n",
       "    </tr>\n",
       "  </thead>\n",
       "  <tbody>\n",
       "    <tr>\n",
       "      <th>WT_Saline</th>\n",
       "      <td>0.979123</td>\n",
       "      <td>0.730424</td>\n",
       "      <td>True</td>\n",
       "    </tr>\n",
       "    <tr>\n",
       "      <th>KO_Saline</th>\n",
       "      <td>0.970569</td>\n",
       "      <td>0.303626</td>\n",
       "      <td>True</td>\n",
       "    </tr>\n",
       "    <tr>\n",
       "      <th>KO_MK 0.5 mg/kg</th>\n",
       "      <td>0.942249</td>\n",
       "      <td>0.151984</td>\n",
       "      <td>True</td>\n",
       "    </tr>\n",
       "    <tr>\n",
       "      <th>WT_MK 0.5 mg/kg</th>\n",
       "      <td>0.939826</td>\n",
       "      <td>0.287805</td>\n",
       "      <td>True</td>\n",
       "    </tr>\n",
       "  </tbody>\n",
       "</table>\n",
       "</div>"
      ],
      "text/plain": [
       "                        W      pval  normal\n",
       "WT_Saline        0.979123  0.730424    True\n",
       "KO_Saline        0.970569  0.303626    True\n",
       "KO_MK 0.5 mg/kg  0.942249  0.151984    True\n",
       "WT_MK 0.5 mg/kg  0.939826  0.287805    True"
      ]
     },
     "execution_count": 812,
     "metadata": {},
     "output_type": "execute_result"
    }
   ],
   "source": [
    "pg.normality(data = center_tidy, dv = 'CENTER TIME LEGACY (s)', group = 'Group')"
   ]
  },
  {
   "cell_type": "code",
   "execution_count": 813,
   "metadata": {},
   "outputs": [
    {
     "data": {
      "text/html": [
       "<div>\n",
       "<style scoped>\n",
       "    .dataframe tbody tr th:only-of-type {\n",
       "        vertical-align: middle;\n",
       "    }\n",
       "\n",
       "    .dataframe tbody tr th {\n",
       "        vertical-align: top;\n",
       "    }\n",
       "\n",
       "    .dataframe thead th {\n",
       "        text-align: right;\n",
       "    }\n",
       "</style>\n",
       "<table border=\"1\" class=\"dataframe\">\n",
       "  <thead>\n",
       "    <tr style=\"text-align: right;\">\n",
       "      <th></th>\n",
       "      <th>W</th>\n",
       "      <th>pval</th>\n",
       "      <th>equal_var</th>\n",
       "    </tr>\n",
       "  </thead>\n",
       "  <tbody>\n",
       "    <tr>\n",
       "      <th>levene</th>\n",
       "      <td>1.33844</td>\n",
       "      <td>0.265163</td>\n",
       "      <td>True</td>\n",
       "    </tr>\n",
       "  </tbody>\n",
       "</table>\n",
       "</div>"
      ],
      "text/plain": [
       "              W      pval  equal_var\n",
       "levene  1.33844  0.265163       True"
      ]
     },
     "execution_count": 813,
     "metadata": {},
     "output_type": "execute_result"
    }
   ],
   "source": [
    "pg.homoscedasticity(data = center_tidy, dv = 'CENTER TIME LEGACY (s)', group = 'Group')"
   ]
  },
  {
   "cell_type": "code",
   "execution_count": 814,
   "metadata": {},
   "outputs": [],
   "source": [
    "col_names = {'CENTER TIME LEGACY (s)' : 'center'}\n",
    "center_tidy.rename(columns = col_names, inplace = True)"
   ]
  },
  {
   "cell_type": "code",
   "execution_count": 815,
   "metadata": {},
   "outputs": [
    {
     "data": {
      "text/html": [
       "<div>\n",
       "<style scoped>\n",
       "    .dataframe tbody tr th:only-of-type {\n",
       "        vertical-align: middle;\n",
       "    }\n",
       "\n",
       "    .dataframe tbody tr th {\n",
       "        vertical-align: top;\n",
       "    }\n",
       "\n",
       "    .dataframe thead th {\n",
       "        text-align: right;\n",
       "    }\n",
       "</style>\n",
       "<table border=\"1\" class=\"dataframe\">\n",
       "  <thead>\n",
       "    <tr style=\"text-align: right;\">\n",
       "      <th></th>\n",
       "      <th>Source</th>\n",
       "      <th>SS</th>\n",
       "      <th>DF</th>\n",
       "      <th>MS</th>\n",
       "      <th>F</th>\n",
       "      <th>p-unc</th>\n",
       "      <th>np2</th>\n",
       "    </tr>\n",
       "  </thead>\n",
       "  <tbody>\n",
       "    <tr>\n",
       "      <th>0</th>\n",
       "      <td>Genotype</td>\n",
       "      <td>1457.222355</td>\n",
       "      <td>1.0</td>\n",
       "      <td>1457.222355</td>\n",
       "      <td>6.417923</td>\n",
       "      <td>0.012587</td>\n",
       "      <td>0.050768</td>\n",
       "    </tr>\n",
       "    <tr>\n",
       "      <th>1</th>\n",
       "      <td>Tx</td>\n",
       "      <td>2302.159061</td>\n",
       "      <td>1.0</td>\n",
       "      <td>2302.159061</td>\n",
       "      <td>10.139207</td>\n",
       "      <td>0.001849</td>\n",
       "      <td>0.077910</td>\n",
       "    </tr>\n",
       "    <tr>\n",
       "      <th>2</th>\n",
       "      <td>Genotype * Tx</td>\n",
       "      <td>219.205971</td>\n",
       "      <td>1.0</td>\n",
       "      <td>219.205971</td>\n",
       "      <td>0.965431</td>\n",
       "      <td>0.327799</td>\n",
       "      <td>0.007981</td>\n",
       "    </tr>\n",
       "    <tr>\n",
       "      <th>3</th>\n",
       "      <td>Residual</td>\n",
       "      <td>27246.616628</td>\n",
       "      <td>120.0</td>\n",
       "      <td>227.055139</td>\n",
       "      <td>NaN</td>\n",
       "      <td>NaN</td>\n",
       "      <td>NaN</td>\n",
       "    </tr>\n",
       "  </tbody>\n",
       "</table>\n",
       "</div>"
      ],
      "text/plain": [
       "          Source            SS     DF           MS          F     p-unc  \\\n",
       "0       Genotype   1457.222355    1.0  1457.222355   6.417923  0.012587   \n",
       "1             Tx   2302.159061    1.0  2302.159061  10.139207  0.001849   \n",
       "2  Genotype * Tx    219.205971    1.0   219.205971   0.965431  0.327799   \n",
       "3       Residual  27246.616628  120.0   227.055139        NaN       NaN   \n",
       "\n",
       "        np2  \n",
       "0  0.050768  \n",
       "1  0.077910  \n",
       "2  0.007981  \n",
       "3       NaN  "
      ]
     },
     "execution_count": 815,
     "metadata": {},
     "output_type": "execute_result"
    }
   ],
   "source": [
    "pg.anova(data = center_tidy, dv = 'center', between = ['Genotype', 'Tx'])"
   ]
  },
  {
   "cell_type": "code",
   "execution_count": 832,
   "metadata": {},
   "outputs": [
    {
     "data": {
      "text/html": [
       "<div>\n",
       "<style scoped>\n",
       "    .dataframe tbody tr th:only-of-type {\n",
       "        vertical-align: middle;\n",
       "    }\n",
       "\n",
       "    .dataframe tbody tr th {\n",
       "        vertical-align: top;\n",
       "    }\n",
       "\n",
       "    .dataframe thead th {\n",
       "        text-align: right;\n",
       "    }\n",
       "</style>\n",
       "<table border=\"1\" class=\"dataframe\">\n",
       "  <thead>\n",
       "    <tr style=\"text-align: right;\">\n",
       "      <th></th>\n",
       "      <th>A</th>\n",
       "      <th>B</th>\n",
       "      <th>mean(A)</th>\n",
       "      <th>mean(B)</th>\n",
       "      <th>diff</th>\n",
       "      <th>se</th>\n",
       "      <th>tail</th>\n",
       "      <th>T</th>\n",
       "      <th>p-tukey</th>\n",
       "      <th>cohen</th>\n",
       "    </tr>\n",
       "  </thead>\n",
       "  <tbody>\n",
       "    <tr>\n",
       "      <th>0</th>\n",
       "      <td>KO_MK 0.5 mg/kg</td>\n",
       "      <td>KO_Saline</td>\n",
       "      <td>25.798769</td>\n",
       "      <td>32.446644</td>\n",
       "      <td>-6.647875</td>\n",
       "      <td>3.711948</td>\n",
       "      <td>two-sided</td>\n",
       "      <td>-1.790940</td>\n",
       "      <td>0.279039</td>\n",
       "      <td>-0.441181</td>\n",
       "    </tr>\n",
       "    <tr>\n",
       "      <th>1</th>\n",
       "      <td>KO_MK 0.5 mg/kg</td>\n",
       "      <td>WT_MK 0.5 mg/kg</td>\n",
       "      <td>25.798769</td>\n",
       "      <td>29.073056</td>\n",
       "      <td>-3.274286</td>\n",
       "      <td>4.620288</td>\n",
       "      <td>two-sided</td>\n",
       "      <td>-0.708676</td>\n",
       "      <td>0.886672</td>\n",
       "      <td>-0.217296</td>\n",
       "    </tr>\n",
       "    <tr>\n",
       "      <th>2</th>\n",
       "      <td>KO_MK 0.5 mg/kg</td>\n",
       "      <td>WT_Saline</td>\n",
       "      <td>25.798769</td>\n",
       "      <td>41.355057</td>\n",
       "      <td>-15.556288</td>\n",
       "      <td>3.901305</td>\n",
       "      <td>two-sided</td>\n",
       "      <td>-3.987458</td>\n",
       "      <td>0.001000</td>\n",
       "      <td>-1.032382</td>\n",
       "    </tr>\n",
       "    <tr>\n",
       "      <th>3</th>\n",
       "      <td>KO_Saline</td>\n",
       "      <td>WT_MK 0.5 mg/kg</td>\n",
       "      <td>32.446644</td>\n",
       "      <td>29.073056</td>\n",
       "      <td>3.373589</td>\n",
       "      <td>4.202362</td>\n",
       "      <td>two-sided</td>\n",
       "      <td>0.802784</td>\n",
       "      <td>0.833912</td>\n",
       "      <td>0.223886</td>\n",
       "    </tr>\n",
       "    <tr>\n",
       "      <th>4</th>\n",
       "      <td>KO_Saline</td>\n",
       "      <td>WT_Saline</td>\n",
       "      <td>32.446644</td>\n",
       "      <td>41.355057</td>\n",
       "      <td>-8.908413</td>\n",
       "      <td>3.396021</td>\n",
       "      <td>two-sided</td>\n",
       "      <td>-2.623191</td>\n",
       "      <td>0.044519</td>\n",
       "      <td>-0.591200</td>\n",
       "    </tr>\n",
       "    <tr>\n",
       "      <th>5</th>\n",
       "      <td>WT_MK 0.5 mg/kg</td>\n",
       "      <td>WT_Saline</td>\n",
       "      <td>29.073056</td>\n",
       "      <td>41.355057</td>\n",
       "      <td>-12.282002</td>\n",
       "      <td>4.370522</td>\n",
       "      <td>two-sided</td>\n",
       "      <td>-2.810191</td>\n",
       "      <td>0.026470</td>\n",
       "      <td>-0.815086</td>\n",
       "    </tr>\n",
       "  </tbody>\n",
       "</table>\n",
       "</div>"
      ],
      "text/plain": [
       "                 A                B    mean(A)    mean(B)       diff  \\\n",
       "0  KO_MK 0.5 mg/kg        KO_Saline  25.798769  32.446644  -6.647875   \n",
       "1  KO_MK 0.5 mg/kg  WT_MK 0.5 mg/kg  25.798769  29.073056  -3.274286   \n",
       "2  KO_MK 0.5 mg/kg        WT_Saline  25.798769  41.355057 -15.556288   \n",
       "3        KO_Saline  WT_MK 0.5 mg/kg  32.446644  29.073056   3.373589   \n",
       "4        KO_Saline        WT_Saline  32.446644  41.355057  -8.908413   \n",
       "5  WT_MK 0.5 mg/kg        WT_Saline  29.073056  41.355057 -12.282002   \n",
       "\n",
       "         se       tail         T   p-tukey     cohen  \n",
       "0  3.711948  two-sided -1.790940  0.279039 -0.441181  \n",
       "1  4.620288  two-sided -0.708676  0.886672 -0.217296  \n",
       "2  3.901305  two-sided -3.987458  0.001000 -1.032382  \n",
       "3  4.202362  two-sided  0.802784  0.833912  0.223886  \n",
       "4  3.396021  two-sided -2.623191  0.044519 -0.591200  \n",
       "5  4.370522  two-sided -2.810191  0.026470 -0.815086  "
      ]
     },
     "execution_count": 832,
     "metadata": {},
     "output_type": "execute_result"
    }
   ],
   "source": [
    "pg.pairwise_tukey(data = center_tidy, dv = 'center', between = 'Group', effsize = 'cohen')"
   ]
  },
  {
   "cell_type": "code",
   "execution_count": 992,
   "metadata": {},
   "outputs": [
    {
     "data": {
      "image/png": "[encoded data removed]",
      "text/plain": [
       "<Figure size 360x360 with 1 Axes>"
      ]
     },
     "metadata": {
      "needs_background": "light"
     },
     "output_type": "display_data"
    }
   ],
   "source": [
    "of_all_center_fig = plt.figure(figsize= (5, 5))\n",
    "ax = plt.subplot()\n",
    "sns.boxplot(data= center_tidy, x='Tx', y='center', hue='Group', hue_order = ['WT_Saline', 'WT_MK 0.5 mg/kg', 'KO_Saline', 'KO_MK 0.5 mg/kg'], showmeans=True, meanprops={'marker':'+', 'markeredgecolor':'k'}, width=0.4, palette=['royalblue', 'steelblue', 'forestgreen', 'darkseagreen'], showfliers = False, dodge = True)\n",
    "sns.despine()\n",
    "new_labels = ['WT_Saline', 'WT_MK-801', 'KO_Saline', 'KO_MK-801']\n",
    "[h, l] = ax.get_legend_handles_labels()\n",
    "plt.ylabel('Time in Center (s)')\n",
    "plt.annotate(s='***', xy=(120, 300), xycoords='axes points', xytext=(0, 3), textcoords='offset points', ha = 'center', arrowprops=dict(arrowstyle='-[, widthB=7.8, lengthB=.4', lw=1.5, color='k'), fontsize = 10)\n",
    "plt.annotate(s='*', xy=(107, 280), xycoords='axes points', xytext=(0, 3), textcoords='offset points', ha = 'center', arrowprops=dict(arrowstyle='-[, widthB=6.5, lengthB=.4', lw=1.5, color='k'), fontsize = 10)\n",
    "plt.annotate(s='*', xy=(54, 265), xycoords='axes points', xytext=(0, 3), textcoords='offset points', ha = 'center', arrowprops=dict(arrowstyle='-[, widthB=1.2, lengthB=.4', lw=1.5, color='k'), fontsize = 10)\n",
    "plt.legend(bbox_to_anchor=(.9, 1), loc=2, borderaxespad=0, handles = h, labels = new_labels)\n",
    "plt.tight_layout()"
   ]
  },
  {
   "cell_type": "code",
   "execution_count": 993,
   "metadata": {},
   "outputs": [],
   "source": [
    "of_all_center_fig.savefig('/Users/labc02/Documents/PDCB_data/MK-project/Figures/of_all_center_box.svg')"
   ]
  },
  {
   "cell_type": "markdown",
   "metadata": {},
   "source": [
    "### Rearing"
   ]
  },
  {
   "cell_type": "code",
   "execution_count": 858,
   "metadata": {},
   "outputs": [
    {
     "data": {
      "text/plain": [
       "[32, 102]"
      ]
     },
     "execution_count": 858,
     "metadata": {},
     "output_type": "execute_result"
    }
   ],
   "source": [
    "rearing_outliers = []\n",
    "# all groups in loop \n",
    "for group in of_wt['Group'].unique():\n",
    "    \n",
    "    out = pg.madmedianrule(of_wt[of_wt['Group']== group]['VERTICAL EPISODE COUNT'])\n",
    "    idx = of_wt[of_wt['Group']== group]['VERTICAL EPISODE COUNT'].index.values\n",
    "    \n",
    "    for ii in idx[out]:\n",
    "        rearing_outliers.append(ii)\n",
    "rearing_outliers"
   ]
  },
  {
   "cell_type": "code",
   "execution_count": 859,
   "metadata": {},
   "outputs": [],
   "source": [
    "rearing_wt = of_wt.copy()"
   ]
  },
  {
   "cell_type": "code",
   "execution_count": 860,
   "metadata": {},
   "outputs": [],
   "source": [
    "rearing_wt.drop(rearing_outliers, inplace = True)"
   ]
  },
  {
   "cell_type": "code",
   "execution_count": 861,
   "metadata": {},
   "outputs": [
    {
     "data": {
      "text/html": [
       "<div>\n",
       "<style scoped>\n",
       "    .dataframe tbody tr th:only-of-type {\n",
       "        vertical-align: middle;\n",
       "    }\n",
       "\n",
       "    .dataframe tbody tr th {\n",
       "        vertical-align: top;\n",
       "    }\n",
       "\n",
       "    .dataframe thead th {\n",
       "        text-align: right;\n",
       "    }\n",
       "</style>\n",
       "<table border=\"1\" class=\"dataframe\">\n",
       "  <thead>\n",
       "    <tr style=\"text-align: right;\">\n",
       "      <th></th>\n",
       "      <th>W</th>\n",
       "      <th>pval</th>\n",
       "      <th>normal</th>\n",
       "    </tr>\n",
       "  </thead>\n",
       "  <tbody>\n",
       "    <tr>\n",
       "      <th>WT_MK 1 mg/kg</th>\n",
       "      <td>0.943112</td>\n",
       "      <td>0.299787</td>\n",
       "      <td>True</td>\n",
       "    </tr>\n",
       "    <tr>\n",
       "      <th>WT_Saline</th>\n",
       "      <td>0.969431</td>\n",
       "      <td>0.410190</td>\n",
       "      <td>True</td>\n",
       "    </tr>\n",
       "    <tr>\n",
       "      <th>WT_MK 0.5 mg/kg</th>\n",
       "      <td>0.932315</td>\n",
       "      <td>0.265215</td>\n",
       "      <td>True</td>\n",
       "    </tr>\n",
       "  </tbody>\n",
       "</table>\n",
       "</div>"
      ],
      "text/plain": [
       "                        W      pval  normal\n",
       "WT_MK 1 mg/kg    0.943112  0.299787    True\n",
       "WT_Saline        0.969431  0.410190    True\n",
       "WT_MK 0.5 mg/kg  0.932315  0.265215    True"
      ]
     },
     "execution_count": 861,
     "metadata": {},
     "output_type": "execute_result"
    }
   ],
   "source": [
    "pg.normality(data = rearing_wt, dv = 'VERTICAL EPISODE COUNT', group = 'Group')"
   ]
  },
  {
   "cell_type": "code",
   "execution_count": 862,
   "metadata": {},
   "outputs": [
    {
     "data": {
      "text/html": [
       "<div>\n",
       "<style scoped>\n",
       "    .dataframe tbody tr th:only-of-type {\n",
       "        vertical-align: middle;\n",
       "    }\n",
       "\n",
       "    .dataframe tbody tr th {\n",
       "        vertical-align: top;\n",
       "    }\n",
       "\n",
       "    .dataframe thead th {\n",
       "        text-align: right;\n",
       "    }\n",
       "</style>\n",
       "<table border=\"1\" class=\"dataframe\">\n",
       "  <thead>\n",
       "    <tr style=\"text-align: right;\">\n",
       "      <th></th>\n",
       "      <th>W</th>\n",
       "      <th>pval</th>\n",
       "      <th>equal_var</th>\n",
       "    </tr>\n",
       "  </thead>\n",
       "  <tbody>\n",
       "    <tr>\n",
       "      <th>levene</th>\n",
       "      <td>2.838686</td>\n",
       "      <td>0.065455</td>\n",
       "      <td>True</td>\n",
       "    </tr>\n",
       "  </tbody>\n",
       "</table>\n",
       "</div>"
      ],
      "text/plain": [
       "               W      pval  equal_var\n",
       "levene  2.838686  0.065455       True"
      ]
     },
     "execution_count": 862,
     "metadata": {},
     "output_type": "execute_result"
    }
   ],
   "source": [
    "pg.homoscedasticity(data = rearing_wt, dv = 'VERTICAL EPISODE COUNT', group = 'Group')"
   ]
  },
  {
   "cell_type": "code",
   "execution_count": 863,
   "metadata": {},
   "outputs": [
    {
     "data": {
      "text/html": [
       "<div>\n",
       "<style scoped>\n",
       "    .dataframe tbody tr th:only-of-type {\n",
       "        vertical-align: middle;\n",
       "    }\n",
       "\n",
       "    .dataframe tbody tr th {\n",
       "        vertical-align: top;\n",
       "    }\n",
       "\n",
       "    .dataframe thead th {\n",
       "        text-align: right;\n",
       "    }\n",
       "</style>\n",
       "<table border=\"1\" class=\"dataframe\">\n",
       "  <thead>\n",
       "    <tr style=\"text-align: right;\">\n",
       "      <th></th>\n",
       "      <th>Source</th>\n",
       "      <th>ddof1</th>\n",
       "      <th>ddof2</th>\n",
       "      <th>F</th>\n",
       "      <th>p-unc</th>\n",
       "      <th>np2</th>\n",
       "    </tr>\n",
       "  </thead>\n",
       "  <tbody>\n",
       "    <tr>\n",
       "      <th>0</th>\n",
       "      <td>Group</td>\n",
       "      <td>2</td>\n",
       "      <td>68</td>\n",
       "      <td>17.216623</td>\n",
       "      <td>8.918896e-07</td>\n",
       "      <td>0.336153</td>\n",
       "    </tr>\n",
       "  </tbody>\n",
       "</table>\n",
       "</div>"
      ],
      "text/plain": [
       "  Source  ddof1  ddof2          F         p-unc       np2\n",
       "0  Group      2     68  17.216623  8.918896e-07  0.336153"
      ]
     },
     "execution_count": 863,
     "metadata": {},
     "output_type": "execute_result"
    }
   ],
   "source": [
    "pg.anova(data = rearing_wt, dv = 'VERTICAL EPISODE COUNT', between = 'Group')"
   ]
  },
  {
   "cell_type": "code",
   "execution_count": 864,
   "metadata": {},
   "outputs": [
    {
     "data": {
      "text/html": [
       "<div>\n",
       "<style scoped>\n",
       "    .dataframe tbody tr th:only-of-type {\n",
       "        vertical-align: middle;\n",
       "    }\n",
       "\n",
       "    .dataframe tbody tr th {\n",
       "        vertical-align: top;\n",
       "    }\n",
       "\n",
       "    .dataframe thead th {\n",
       "        text-align: right;\n",
       "    }\n",
       "</style>\n",
       "<table border=\"1\" class=\"dataframe\">\n",
       "  <thead>\n",
       "    <tr style=\"text-align: right;\">\n",
       "      <th></th>\n",
       "      <th>A</th>\n",
       "      <th>B</th>\n",
       "      <th>mean(A)</th>\n",
       "      <th>mean(B)</th>\n",
       "      <th>diff</th>\n",
       "      <th>se</th>\n",
       "      <th>tail</th>\n",
       "      <th>T</th>\n",
       "      <th>p-tukey</th>\n",
       "      <th>cohen</th>\n",
       "    </tr>\n",
       "  </thead>\n",
       "  <tbody>\n",
       "    <tr>\n",
       "      <th>0</th>\n",
       "      <td>WT_MK 0.5 mg/kg</td>\n",
       "      <td>WT_MK 1 mg/kg</td>\n",
       "      <td>32.125000</td>\n",
       "      <td>28.157895</td>\n",
       "      <td>3.967105</td>\n",
       "      <td>5.301024</td>\n",
       "      <td>two-sided</td>\n",
       "      <td>0.748366</td>\n",
       "      <td>0.714969</td>\n",
       "      <td>0.253928</td>\n",
       "    </tr>\n",
       "    <tr>\n",
       "      <th>1</th>\n",
       "      <td>WT_MK 0.5 mg/kg</td>\n",
       "      <td>WT_Saline</td>\n",
       "      <td>32.125000</td>\n",
       "      <td>51.555556</td>\n",
       "      <td>-19.430556</td>\n",
       "      <td>4.694106</td>\n",
       "      <td>two-sided</td>\n",
       "      <td>-4.139351</td>\n",
       "      <td>0.001000</td>\n",
       "      <td>-1.243720</td>\n",
       "    </tr>\n",
       "    <tr>\n",
       "      <th>2</th>\n",
       "      <td>WT_MK 1 mg/kg</td>\n",
       "      <td>WT_Saline</td>\n",
       "      <td>28.157895</td>\n",
       "      <td>51.555556</td>\n",
       "      <td>-23.397661</td>\n",
       "      <td>4.430123</td>\n",
       "      <td>two-sided</td>\n",
       "      <td>-5.281492</td>\n",
       "      <td>0.001000</td>\n",
       "      <td>-1.497649</td>\n",
       "    </tr>\n",
       "  </tbody>\n",
       "</table>\n",
       "</div>"
      ],
      "text/plain": [
       "                 A              B    mean(A)    mean(B)       diff        se  \\\n",
       "0  WT_MK 0.5 mg/kg  WT_MK 1 mg/kg  32.125000  28.157895   3.967105  5.301024   \n",
       "1  WT_MK 0.5 mg/kg      WT_Saline  32.125000  51.555556 -19.430556  4.694106   \n",
       "2    WT_MK 1 mg/kg      WT_Saline  28.157895  51.555556 -23.397661  4.430123   \n",
       "\n",
       "        tail         T   p-tukey     cohen  \n",
       "0  two-sided  0.748366  0.714969  0.253928  \n",
       "1  two-sided -4.139351  0.001000 -1.243720  \n",
       "2  two-sided -5.281492  0.001000 -1.497649  "
      ]
     },
     "execution_count": 864,
     "metadata": {},
     "output_type": "execute_result"
    }
   ],
   "source": [
    "pg.pairwise_tukey(data = rearing_wt, dv = 'VERTICAL EPISODE COUNT', between = 'Group', effsize = 'cohen')"
   ]
  },
  {
   "cell_type": "code",
   "execution_count": 994,
   "metadata": {},
   "outputs": [
    {
     "data": {
      "text/plain": [
       "Text(0, 3, '***')"
      ]
     },
     "execution_count": 994,
     "metadata": {},
     "output_type": "execute_result"
    },
    {
     "data": {
      "image/png": "[encoded data removed]",
      "text/plain": [
       "<Figure size 360x288 with 1 Axes>"
      ]
     },
     "metadata": {
      "needs_background": "light"
     },
     "output_type": "display_data"
    }
   ],
   "source": [
    "rear_wt_fig = plt.figure(figsize = (5, 4))\n",
    "ax = plt.subplot()\n",
    "sns.boxplot(data= rearing_wt, x='SUBJECT FACTOR1', y='VERTICAL EPISODE COUNT', hue='Group', order = ['Saline', 'MK 0.5 mg/kg', 'MK 1 mg/kg'], showmeans=True, meanprops={'marker':'+', 'markeredgecolor':'k'}, width=0.3, palette=['cornflowerblue', 'royalblue', 'steelblue'], showfliers = False, ax = ax, dodge = False)\n",
    "sns.despine()\n",
    "labels = ['Control', 'MK-801 \\n(0.5 mg/kg)', 'MK-801 \\n(1 mg/kg)']\n",
    "ax.set_xticklabels(labels)\n",
    "plt.xlabel('')\n",
    "plt.ylabel('Rearing Episode Count')\n",
    "plt.legend([], [], frameon = False)\n",
    "plt.annotate(s='***', xy=(139, 235), xycoords='axes points', xytext=(0, 3), textcoords='offset points', ha = 'center', arrowprops=dict(arrowstyle='-[, widthB=9.4, lengthB=.4', lw=1.5, color='k'), fontsize = 10)\n",
    "plt.annotate(s='***', xy=(92, 215), xycoords='axes points', xytext=(0, 3), textcoords='offset points', ha = 'center', arrowprops=dict(arrowstyle='-[, widthB=4.7, lengthB=.4', lw=1.5, color='k'), fontsize = 10)\n",
    "\n"
   ]
  },
  {
   "cell_type": "code",
   "execution_count": 995,
   "metadata": {},
   "outputs": [],
   "source": [
    "rear_wt_fig.savefig('/Users/labc02/Documents/PDCB_data/MK-project/Figures/of_wt_rear_box.svg')"
   ]
  },
  {
   "cell_type": "code",
   "execution_count": 869,
   "metadata": {},
   "outputs": [
    {
     "data": {
      "text/plain": [
       "[131, 132, 104, 129, 134, 144, 34, 155]"
      ]
     },
     "execution_count": 869,
     "metadata": {},
     "output_type": "execute_result"
    }
   ],
   "source": [
    "rearing_outliers = []\n",
    "# all groups in loop \n",
    "for group in of_all['Group'].unique():\n",
    "    \n",
    "    out = pg.madmedianrule(of_all[of_all['Group']== group]['CENTER TIME LEGACY (s)'])\n",
    "    idx = of_all[of_all['Group']== group]['CENTER TIME LEGACY (s)'].index.values\n",
    "    \n",
    "    for ii in idx[out]:\n",
    "        rearing_outliers.append(ii)\n",
    "rearing_outliers"
   ]
  },
  {
   "cell_type": "code",
   "execution_count": 870,
   "metadata": {},
   "outputs": [],
   "source": [
    "rearing_tidy = of_all.copy()"
   ]
  },
  {
   "cell_type": "code",
   "execution_count": 871,
   "metadata": {},
   "outputs": [],
   "source": [
    "rearing_tidy.drop(index = rearing_outliers, inplace = True)"
   ]
  },
  {
   "cell_type": "code",
   "execution_count": 872,
   "metadata": {},
   "outputs": [
    {
     "data": {
      "text/html": [
       "<div>\n",
       "<style scoped>\n",
       "    .dataframe tbody tr th:only-of-type {\n",
       "        vertical-align: middle;\n",
       "    }\n",
       "\n",
       "    .dataframe tbody tr th {\n",
       "        vertical-align: top;\n",
       "    }\n",
       "\n",
       "    .dataframe thead th {\n",
       "        text-align: right;\n",
       "    }\n",
       "</style>\n",
       "<table border=\"1\" class=\"dataframe\">\n",
       "  <thead>\n",
       "    <tr style=\"text-align: right;\">\n",
       "      <th></th>\n",
       "      <th>W</th>\n",
       "      <th>pval</th>\n",
       "      <th>normal</th>\n",
       "    </tr>\n",
       "  </thead>\n",
       "  <tbody>\n",
       "    <tr>\n",
       "      <th>WT_Saline</th>\n",
       "      <td>0.968927</td>\n",
       "      <td>0.414468</td>\n",
       "      <td>True</td>\n",
       "    </tr>\n",
       "    <tr>\n",
       "      <th>KO_Saline</th>\n",
       "      <td>0.973084</td>\n",
       "      <td>0.372698</td>\n",
       "      <td>True</td>\n",
       "    </tr>\n",
       "    <tr>\n",
       "      <th>KO_MK 0.5 mg/kg</th>\n",
       "      <td>0.956984</td>\n",
       "      <td>0.335668</td>\n",
       "      <td>True</td>\n",
       "    </tr>\n",
       "    <tr>\n",
       "      <th>WT_MK 0.5 mg/kg</th>\n",
       "      <td>0.964912</td>\n",
       "      <td>0.698402</td>\n",
       "      <td>True</td>\n",
       "    </tr>\n",
       "  </tbody>\n",
       "</table>\n",
       "</div>"
      ],
      "text/plain": [
       "                        W      pval  normal\n",
       "WT_Saline        0.968927  0.414468    True\n",
       "KO_Saline        0.973084  0.372698    True\n",
       "KO_MK 0.5 mg/kg  0.956984  0.335668    True\n",
       "WT_MK 0.5 mg/kg  0.964912  0.698402    True"
      ]
     },
     "execution_count": 872,
     "metadata": {},
     "output_type": "execute_result"
    }
   ],
   "source": [
    "pg.normality(data = rearing_tidy, dv = 'VERTICAL EPISODE COUNT', group = 'Group')"
   ]
  },
  {
   "cell_type": "code",
   "execution_count": 873,
   "metadata": {},
   "outputs": [
    {
     "data": {
      "text/html": [
       "<div>\n",
       "<style scoped>\n",
       "    .dataframe tbody tr th:only-of-type {\n",
       "        vertical-align: middle;\n",
       "    }\n",
       "\n",
       "    .dataframe tbody tr th {\n",
       "        vertical-align: top;\n",
       "    }\n",
       "\n",
       "    .dataframe thead th {\n",
       "        text-align: right;\n",
       "    }\n",
       "</style>\n",
       "<table border=\"1\" class=\"dataframe\">\n",
       "  <thead>\n",
       "    <tr style=\"text-align: right;\">\n",
       "      <th></th>\n",
       "      <th>W</th>\n",
       "      <th>pval</th>\n",
       "      <th>equal_var</th>\n",
       "    </tr>\n",
       "  </thead>\n",
       "  <tbody>\n",
       "    <tr>\n",
       "      <th>levene</th>\n",
       "      <td>0.372991</td>\n",
       "      <td>0.772632</td>\n",
       "      <td>True</td>\n",
       "    </tr>\n",
       "  </tbody>\n",
       "</table>\n",
       "</div>"
      ],
      "text/plain": [
       "               W      pval  equal_var\n",
       "levene  0.372991  0.772632       True"
      ]
     },
     "execution_count": 873,
     "metadata": {},
     "output_type": "execute_result"
    }
   ],
   "source": [
    "pg.homoscedasticity(data = rearing_tidy, dv = 'VERTICAL EPISODE COUNT', group = 'Group')"
   ]
  },
  {
   "cell_type": "code",
   "execution_count": 874,
   "metadata": {},
   "outputs": [],
   "source": [
    "col_names = {'VERTICAL EPISODE COUNT' : 'rearing'}\n",
    "rearing_tidy.rename(columns = col_names, inplace = True)"
   ]
  },
  {
   "cell_type": "code",
   "execution_count": 875,
   "metadata": {},
   "outputs": [
    {
     "data": {
      "text/html": [
       "<div>\n",
       "<style scoped>\n",
       "    .dataframe tbody tr th:only-of-type {\n",
       "        vertical-align: middle;\n",
       "    }\n",
       "\n",
       "    .dataframe tbody tr th {\n",
       "        vertical-align: top;\n",
       "    }\n",
       "\n",
       "    .dataframe thead th {\n",
       "        text-align: right;\n",
       "    }\n",
       "</style>\n",
       "<table border=\"1\" class=\"dataframe\">\n",
       "  <thead>\n",
       "    <tr style=\"text-align: right;\">\n",
       "      <th></th>\n",
       "      <th>Source</th>\n",
       "      <th>SS</th>\n",
       "      <th>DF</th>\n",
       "      <th>MS</th>\n",
       "      <th>F</th>\n",
       "      <th>p-unc</th>\n",
       "      <th>np2</th>\n",
       "    </tr>\n",
       "  </thead>\n",
       "  <tbody>\n",
       "    <tr>\n",
       "      <th>0</th>\n",
       "      <td>Genotype</td>\n",
       "      <td>1002.076413</td>\n",
       "      <td>1.0</td>\n",
       "      <td>1002.076413</td>\n",
       "      <td>5.008490</td>\n",
       "      <td>2.706817e-02</td>\n",
       "      <td>0.040065</td>\n",
       "    </tr>\n",
       "    <tr>\n",
       "      <th>1</th>\n",
       "      <td>Tx</td>\n",
       "      <td>7020.511901</td>\n",
       "      <td>1.0</td>\n",
       "      <td>7020.511901</td>\n",
       "      <td>35.089307</td>\n",
       "      <td>3.080917e-08</td>\n",
       "      <td>0.226252</td>\n",
       "    </tr>\n",
       "    <tr>\n",
       "      <th>2</th>\n",
       "      <td>Genotype * Tx</td>\n",
       "      <td>345.218087</td>\n",
       "      <td>1.0</td>\n",
       "      <td>345.218087</td>\n",
       "      <td>1.725439</td>\n",
       "      <td>1.915004e-01</td>\n",
       "      <td>0.014175</td>\n",
       "    </tr>\n",
       "    <tr>\n",
       "      <th>3</th>\n",
       "      <td>Residual</td>\n",
       "      <td>24009.064591</td>\n",
       "      <td>120.0</td>\n",
       "      <td>200.075538</td>\n",
       "      <td>NaN</td>\n",
       "      <td>NaN</td>\n",
       "      <td>NaN</td>\n",
       "    </tr>\n",
       "  </tbody>\n",
       "</table>\n",
       "</div>"
      ],
      "text/plain": [
       "          Source            SS     DF           MS          F         p-unc  \\\n",
       "0       Genotype   1002.076413    1.0  1002.076413   5.008490  2.706817e-02   \n",
       "1             Tx   7020.511901    1.0  7020.511901  35.089307  3.080917e-08   \n",
       "2  Genotype * Tx    345.218087    1.0   345.218087   1.725439  1.915004e-01   \n",
       "3       Residual  24009.064591  120.0   200.075538        NaN           NaN   \n",
       "\n",
       "        np2  \n",
       "0  0.040065  \n",
       "1  0.226252  \n",
       "2  0.014175  \n",
       "3       NaN  "
      ]
     },
     "execution_count": 875,
     "metadata": {},
     "output_type": "execute_result"
    }
   ],
   "source": [
    "pg.anova(data = rearing_tidy, dv = 'rearing', between = ['Genotype', 'Tx'])"
   ]
  },
  {
   "cell_type": "code",
   "execution_count": 877,
   "metadata": {},
   "outputs": [
    {
     "data": {
      "text/html": [
       "<div>\n",
       "<style scoped>\n",
       "    .dataframe tbody tr th:only-of-type {\n",
       "        vertical-align: middle;\n",
       "    }\n",
       "\n",
       "    .dataframe tbody tr th {\n",
       "        vertical-align: top;\n",
       "    }\n",
       "\n",
       "    .dataframe thead th {\n",
       "        text-align: right;\n",
       "    }\n",
       "</style>\n",
       "<table border=\"1\" class=\"dataframe\">\n",
       "  <thead>\n",
       "    <tr style=\"text-align: right;\">\n",
       "      <th></th>\n",
       "      <th>A</th>\n",
       "      <th>B</th>\n",
       "      <th>mean(A)</th>\n",
       "      <th>mean(B)</th>\n",
       "      <th>diff</th>\n",
       "      <th>se</th>\n",
       "      <th>tail</th>\n",
       "      <th>T</th>\n",
       "      <th>p-tukey</th>\n",
       "      <th>cohen</th>\n",
       "    </tr>\n",
       "  </thead>\n",
       "  <tbody>\n",
       "    <tr>\n",
       "      <th>0</th>\n",
       "      <td>KO_MK 0.5 mg/kg</td>\n",
       "      <td>KO_Saline</td>\n",
       "      <td>31.230769</td>\n",
       "      <td>44.000000</td>\n",
       "      <td>-12.769231</td>\n",
       "      <td>3.484442</td>\n",
       "      <td>two-sided</td>\n",
       "      <td>-3.664641</td>\n",
       "      <td>0.001540</td>\n",
       "      <td>-0.902751</td>\n",
       "    </tr>\n",
       "    <tr>\n",
       "      <th>1</th>\n",
       "      <td>KO_MK 0.5 mg/kg</td>\n",
       "      <td>WT_MK 0.5 mg/kg</td>\n",
       "      <td>31.230769</td>\n",
       "      <td>32.388889</td>\n",
       "      <td>-1.158120</td>\n",
       "      <td>4.337110</td>\n",
       "      <td>two-sided</td>\n",
       "      <td>-0.267026</td>\n",
       "      <td>0.900000</td>\n",
       "      <td>-0.081876</td>\n",
       "    </tr>\n",
       "    <tr>\n",
       "      <th>2</th>\n",
       "      <td>KO_MK 0.5 mg/kg</td>\n",
       "      <td>WT_Saline</td>\n",
       "      <td>31.230769</td>\n",
       "      <td>52.228571</td>\n",
       "      <td>-20.997802</td>\n",
       "      <td>3.662193</td>\n",
       "      <td>two-sided</td>\n",
       "      <td>-5.733669</td>\n",
       "      <td>0.001000</td>\n",
       "      <td>-1.484489</td>\n",
       "    </tr>\n",
       "    <tr>\n",
       "      <th>3</th>\n",
       "      <td>KO_Saline</td>\n",
       "      <td>WT_MK 0.5 mg/kg</td>\n",
       "      <td>44.000000</td>\n",
       "      <td>32.388889</td>\n",
       "      <td>11.611111</td>\n",
       "      <td>3.944798</td>\n",
       "      <td>two-sided</td>\n",
       "      <td>2.943398</td>\n",
       "      <td>0.017862</td>\n",
       "      <td>0.820875</td>\n",
       "    </tr>\n",
       "    <tr>\n",
       "      <th>4</th>\n",
       "      <td>KO_Saline</td>\n",
       "      <td>WT_Saline</td>\n",
       "      <td>44.000000</td>\n",
       "      <td>52.228571</td>\n",
       "      <td>-8.228571</td>\n",
       "      <td>3.187878</td>\n",
       "      <td>two-sided</td>\n",
       "      <td>-2.581206</td>\n",
       "      <td>0.049753</td>\n",
       "      <td>-0.581738</td>\n",
       "    </tr>\n",
       "    <tr>\n",
       "      <th>5</th>\n",
       "      <td>WT_MK 0.5 mg/kg</td>\n",
       "      <td>WT_Saline</td>\n",
       "      <td>32.388889</td>\n",
       "      <td>52.228571</td>\n",
       "      <td>-19.839683</td>\n",
       "      <td>4.102652</td>\n",
       "      <td>two-sided</td>\n",
       "      <td>-4.835819</td>\n",
       "      <td>0.001000</td>\n",
       "      <td>-1.402613</td>\n",
       "    </tr>\n",
       "  </tbody>\n",
       "</table>\n",
       "</div>"
      ],
      "text/plain": [
       "                 A                B    mean(A)    mean(B)       diff  \\\n",
       "0  KO_MK 0.5 mg/kg        KO_Saline  31.230769  44.000000 -12.769231   \n",
       "1  KO_MK 0.5 mg/kg  WT_MK 0.5 mg/kg  31.230769  32.388889  -1.158120   \n",
       "2  KO_MK 0.5 mg/kg        WT_Saline  31.230769  52.228571 -20.997802   \n",
       "3        KO_Saline  WT_MK 0.5 mg/kg  44.000000  32.388889  11.611111   \n",
       "4        KO_Saline        WT_Saline  44.000000  52.228571  -8.228571   \n",
       "5  WT_MK 0.5 mg/kg        WT_Saline  32.388889  52.228571 -19.839683   \n",
       "\n",
       "         se       tail         T   p-tukey     cohen  \n",
       "0  3.484442  two-sided -3.664641  0.001540 -0.902751  \n",
       "1  4.337110  two-sided -0.267026  0.900000 -0.081876  \n",
       "2  3.662193  two-sided -5.733669  0.001000 -1.484489  \n",
       "3  3.944798  two-sided  2.943398  0.017862  0.820875  \n",
       "4  3.187878  two-sided -2.581206  0.049753 -0.581738  \n",
       "5  4.102652  two-sided -4.835819  0.001000 -1.402613  "
      ]
     },
     "execution_count": 877,
     "metadata": {},
     "output_type": "execute_result"
    }
   ],
   "source": [
    "pg.pairwise_tukey(data = rearing_tidy, dv = 'rearing', between = 'Group', effsize = 'cohen')"
   ]
  },
  {
   "cell_type": "code",
   "execution_count": 1030,
   "metadata": {},
   "outputs": [
    {
     "data": {
      "image/png": "[encoded data removed]",
      "text/plain": [
       "<Figure size 360x360 with 1 Axes>"
      ]
     },
     "metadata": {
      "needs_background": "light"
     },
     "output_type": "display_data"
    }
   ],
   "source": [
    "of_all_rearing_fig = plt.figure(figsize= (5, 5))\n",
    "ax = plt.subplot()\n",
    "sns.boxplot(data= rearing_tidy, x='Tx', y='rearing', hue='Group', hue_order = ['WT_Saline', 'WT_MK 0.5 mg/kg', 'KO_Saline', 'KO_MK 0.5 mg/kg'], showmeans=True, meanprops={'marker':'+', 'markeredgecolor':'k'}, width=0.4, palette=['royalblue', 'steelblue', 'forestgreen', 'darkseagreen'], showfliers = False, dodge = True)\n",
    "sns.despine()\n",
    "new_labels = ['WT_Saline', 'WT_MK-801', 'KO_Saline', 'KO_MK-801']\n",
    "[h, l] = ax.get_legend_handles_labels()\n",
    "plt.ylabel('Rearing Count')\n",
    "plt.annotate(s='***', xy=(105, 300), xycoords='axes points', xytext=(0, 3), textcoords='offset points', ha = 'center', arrowprops=dict(arrowstyle='-[, widthB=6.8, lengthB=.4', lw=1.5, color='k'), fontsize = 10)\n",
    "plt.annotate(s='***', xy=(96, 280), xycoords='axes points', xytext=(0, 3), textcoords='offset points', ha = 'center', arrowprops=dict(arrowstyle='-[, widthB=5.8, lengthB=.4', lw=1.5, color='k'), fontsize = 10)\n",
    "plt.annotate(s='*', xy=(49, 265), xycoords='axes points', xytext=(0, 3), textcoords='offset points', ha = 'center', arrowprops=dict(arrowstyle='-[, widthB=1.2, lengthB=.4', lw=1.5, color='k'), fontsize = 10)\n",
    "plt.annotate(s='*', xy=(105, 220), xycoords='axes points', xytext=(0, 3), textcoords='offset points', ha = 'center', arrowprops=dict(arrowstyle='-[, widthB=4.7, lengthB=.4', lw=1.5, color='k'), fontsize = 10)\n",
    "plt.annotate(s='**', xy=(117, 235), xycoords='axes points', xytext=(0, 3), textcoords='offset points', ha = 'center', arrowprops=dict(arrowstyle='-[, widthB=5.8, lengthB=.4', lw=1.5, color='k'), fontsize = 10)\n",
    "\n",
    "plt.legend(bbox_to_anchor=(1, 1), loc=2, borderaxespad=0, handles = h, labels = new_labels)\n",
    "plt.tight_layout()"
   ]
  },
  {
   "cell_type": "code",
   "execution_count": 1031,
   "metadata": {},
   "outputs": [],
   "source": [
    "of_all_rearing_fig.savefig('/Users/labc02/Documents/PDCB_data/MK-project/Figures/of_all_rear_box.svg')"
   ]
  },
  {
   "cell_type": "code",
   "execution_count": null,
   "metadata": {},
   "outputs": [],
   "source": []
  }
 ],
 "metadata": {
  "kernelspec": {
   "display_name": "Python 3",
   "language": "python",
   "name": "python3"
  },
  "language_info": {
   "codemirror_mode": {
    "name": "ipython",
    "version": 3
   },
   "file_extension": ".py",
   "mimetype": "text/x-python",
   "name": "python",
   "nbconvert_exporter": "python",
   "pygments_lexer": "ipython3",
   "version": "3.8.2"
  }
 },
 "nbformat": 4,
 "nbformat_minor": 4
}
